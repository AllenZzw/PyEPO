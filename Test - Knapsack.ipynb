{
 "cells": [
  {
   "cell_type": "code",
   "execution_count": 1,
   "id": "4a8178d0",
   "metadata": {},
   "outputs": [
    {
     "data": {
      "text/plain": [
       "<torch._C.Generator at 0x1d6208cf870>"
      ]
     },
     "execution_count": 1,
     "metadata": {},
     "output_type": "execute_result"
    }
   ],
   "source": [
    "import time\n",
    "import spo\n",
    "import torch\n",
    "from matplotlib import pyplot as plt\n",
    "import numpy as np\n",
    "from tqdm import tqdm\n",
    "torch.manual_seed(135)"
   ]
  },
  {
   "cell_type": "markdown",
   "id": "610273f3",
   "metadata": {},
   "source": [
    "## Init Data"
   ]
  },
  {
   "cell_type": "code",
   "execution_count": 2,
   "id": "b294594d",
   "metadata": {},
   "outputs": [],
   "source": [
    "# generate data for grid network (features and costs)\n",
    "m = 48 # number of items\n",
    "n = 1000 # number of data\n",
    "p = 5 # size of feature\n",
    "deg = 4 # polynomial degree\n",
    "weights, x, c = spo.data.knapsack.genData(n+1000, p, m, deg=deg, cor=False)"
   ]
  },
  {
   "cell_type": "code",
   "execution_count": 3,
   "id": "1a1f8e4a",
   "metadata": {},
   "outputs": [
    {
     "data": {
      "text/plain": [
       "array([6, 6, 6, 7, 3, 5, 7, 4, 6, 7, 3, 6, 3, 3, 7, 6, 3, 7, 7, 6, 3, 4,\n",
       "       6, 3, 5, 6, 3, 3, 4, 3, 4, 3, 6, 7, 4, 4, 6, 4, 4, 5, 7, 6, 3, 3,\n",
       "       7, 5, 4, 4])"
      ]
     },
     "execution_count": 3,
     "metadata": {},
     "output_type": "execute_result"
    }
   ],
   "source": [
    "weights"
   ]
  },
  {
   "cell_type": "code",
   "execution_count": 4,
   "id": "36330b0b",
   "metadata": {},
   "outputs": [],
   "source": [
    "# convert max into min\n",
    "c = - c"
   ]
  },
  {
   "cell_type": "markdown",
   "id": "2bd2586e",
   "metadata": {},
   "source": [
    "## Optimization model "
   ]
  },
  {
   "cell_type": "code",
   "execution_count": 5,
   "id": "854f2b47",
   "metadata": {},
   "outputs": [],
   "source": [
    "# capacity\n",
    "cap = 30"
   ]
  },
  {
   "cell_type": "code",
   "execution_count": 6,
   "id": "95c1fde4",
   "metadata": {},
   "outputs": [
    {
     "name": "stdout",
     "output_type": "stream",
     "text": [
      "\n",
      "--------------------------------------------\n",
      "Warning: your license will expire in 8 days\n",
      "--------------------------------------------\n",
      "\n",
      "Academic license - for non-commercial use only - expires 2021-06-13\n",
      "Using license file C:\\Users\\Apocrypse\\gurobi.lic\n"
     ]
    }
   ],
   "source": [
    "ks_model = spo.model.knapsackModel(weights, cap)"
   ]
  },
  {
   "cell_type": "code",
   "execution_count": 7,
   "id": "24e5bd87",
   "metadata": {},
   "outputs": [
    {
     "name": "stdout",
     "output_type": "stream",
     "text": [
      "[0.0, 0.0, 0.0, 0.0, 0.0, 0.0, 0.0, 0.0, 0.0, 0.0, 0.0, 0.0, 0.0, 0.0, 0.0, 0.0, 0.0, 0.0, 0.0, 0.0, 0.0, 0.0, 0.0, 0.0, 0.0, 0.0, 1.0, 1.0, 0.0, 1.0, 0.0, 1.0, 0.0, 0.0, 0.0, 0.0, 0.0, 0.0, 1.0, 0.0, 0.0, 0.0, 1.0, 1.0, 0.0, 0.0, 1.0, 1.0]\n",
      "Obj: -329.0\n",
      "26\n",
      "27\n",
      "29\n",
      "31\n",
      "38\n",
      "42\n",
      "43\n",
      "46\n",
      "47\n"
     ]
    }
   ],
   "source": [
    "# solve\n",
    "ks_model.setObj([-i for i in range(m)])\n",
    "sol, obj = ks_model.solve()\n",
    "print(sol)\n",
    "print('Obj: {}'.format(obj))\n",
    "for i in ks_model.items:\n",
    "    if sol[i] > 1e-3:\n",
    "        print(i)"
   ]
  },
  {
   "cell_type": "code",
   "execution_count": 8,
   "id": "e7390958",
   "metadata": {},
   "outputs": [],
   "source": [
    "# relax\n",
    "ks_model_rel = ks_model.relax()"
   ]
  },
  {
   "cell_type": "code",
   "execution_count": 9,
   "id": "524ab140",
   "metadata": {},
   "outputs": [
    {
     "name": "stdout",
     "output_type": "stream",
     "text": [
      "[0.0, 0.0, 0.0, 0.0, 0.0, 0.0, 0.0, 0.0, 0.0, 0.0, 0.0, 0.0, 0.0, 0.0, 0.0, 0.0, 0.0, 0.0, 0.0, 0.0, 0.0, 0.0, 0.0, 0.0, 0.0, 0.0, 0.0, 0.0, 0.0, 1.0, 0.0, 1.0, 0.0, 0.0, 0.0, 0.0, 0.0, 1.0, 1.0, 0.0, 0.0, 0.0, 1.0, 1.0, 0.0, 0.4, 1.0, 1.0]\n",
      "Obj: -331.0\n",
      "29\n",
      "31\n",
      "37\n",
      "38\n",
      "42\n",
      "43\n",
      "45\n",
      "46\n",
      "47\n"
     ]
    }
   ],
   "source": [
    "# solve\n",
    "ks_model_rel.setObj([-i for i in range(m)])\n",
    "sol, obj = ks_model_rel.solve()\n",
    "print(sol)\n",
    "print('Obj: {}'.format(obj))\n",
    "for i in ks_model_rel.items:\n",
    "    if sol[i] > 1e-3:\n",
    "        print(i)"
   ]
  },
  {
   "cell_type": "markdown",
   "id": "4bec37e4",
   "metadata": {},
   "source": [
    "## Data Loader "
   ]
  },
  {
   "cell_type": "code",
   "execution_count": 10,
   "id": "261aed4e",
   "metadata": {},
   "outputs": [],
   "source": [
    "from sklearn.model_selection import train_test_split\n",
    "from torch.utils.data import DataLoader"
   ]
  },
  {
   "cell_type": "code",
   "execution_count": 11,
   "id": "4eda340b",
   "metadata": {},
   "outputs": [],
   "source": [
    "# data split\n",
    "x_train, x_test, c_train, c_test = train_test_split(x, c, test_size=1000, random_state=246)"
   ]
  },
  {
   "cell_type": "code",
   "execution_count": 12,
   "id": "a0e0ef0b",
   "metadata": {},
   "outputs": [
    {
     "name": "stdout",
     "output_type": "stream",
     "text": [
      "Optimizing for optDataset...\n"
     ]
    },
    {
     "name": "stderr",
     "output_type": "stream",
     "text": [
      "100%|█████████████████████████████████████████████████████████████████████| 1000/1000 [00:06<00:00, 158.28it/s]\n"
     ]
    }
   ],
   "source": [
    "# get training data set\n",
    "ks_dataset_train = spo.data.dataset.optDataset(ks_model, x_train, c_train)"
   ]
  },
  {
   "cell_type": "code",
   "execution_count": 13,
   "id": "453d073a",
   "metadata": {},
   "outputs": [
    {
     "name": "stdout",
     "output_type": "stream",
     "text": [
      "Optimizing for optDataset...\n"
     ]
    },
    {
     "name": "stderr",
     "output_type": "stream",
     "text": [
      "100%|█████████████████████████████████████████████████████████████████████| 1000/1000 [00:07<00:00, 140.42it/s]\n"
     ]
    }
   ],
   "source": [
    "# get training data set for relaxation\n",
    "ks_dataset_train_rel = spo.data.dataset.optDataset(ks_model_rel, x_train, c_train)"
   ]
  },
  {
   "cell_type": "code",
   "execution_count": 14,
   "id": "c8fc0755",
   "metadata": {},
   "outputs": [
    {
     "name": "stdout",
     "output_type": "stream",
     "text": [
      "Optimizing for optDataset...\n"
     ]
    },
    {
     "name": "stderr",
     "output_type": "stream",
     "text": [
      "100%|█████████████████████████████████████████████████████████████████████| 1000/1000 [00:05<00:00, 167.19it/s]\n"
     ]
    }
   ],
   "source": [
    "# get test data set\n",
    "ks_dataset_test = spo.data.dataset.optDataset(ks_model, x_test, c_test)"
   ]
  },
  {
   "cell_type": "code",
   "execution_count": 15,
   "id": "bf0bbb3e",
   "metadata": {},
   "outputs": [],
   "source": [
    "# get data loader\n",
    "batch_size = 32\n",
    "ks_loader_train = DataLoader(ks_dataset_train, batch_size=batch_size, shuffle=True)\n",
    "ks_loader_train_rel = DataLoader(ks_dataset_train_rel, batch_size=batch_size, shuffle=True)\n",
    "ks_loader_test = DataLoader(ks_dataset_test, batch_size=batch_size, shuffle=False)"
   ]
  },
  {
   "cell_type": "code",
   "execution_count": 16,
   "id": "a542a7df",
   "metadata": {},
   "outputs": [],
   "source": [
    "for i, data in enumerate(ks_loader_train):\n",
    "    x, c, w, z = data\n",
    "    break"
   ]
  },
  {
   "cell_type": "code",
   "execution_count": 17,
   "id": "75fc2763",
   "metadata": {},
   "outputs": [
    {
     "data": {
      "text/plain": [
       "torch.Size([32, 5])"
      ]
     },
     "execution_count": 17,
     "metadata": {},
     "output_type": "execute_result"
    }
   ],
   "source": [
    "x.shape"
   ]
  },
  {
   "cell_type": "code",
   "execution_count": 18,
   "id": "5e50a821",
   "metadata": {},
   "outputs": [
    {
     "data": {
      "text/plain": [
       "torch.Size([32, 48])"
      ]
     },
     "execution_count": 18,
     "metadata": {},
     "output_type": "execute_result"
    }
   ],
   "source": [
    "c.shape"
   ]
  },
  {
   "cell_type": "code",
   "execution_count": 19,
   "id": "074c9398",
   "metadata": {},
   "outputs": [
    {
     "data": {
      "text/plain": [
       "torch.Size([32, 48])"
      ]
     },
     "execution_count": 19,
     "metadata": {},
     "output_type": "execute_result"
    }
   ],
   "source": [
    "w.shape"
   ]
  },
  {
   "cell_type": "code",
   "execution_count": 20,
   "id": "20de02c7",
   "metadata": {},
   "outputs": [
    {
     "data": {
      "text/plain": [
       "torch.Size([32, 1])"
      ]
     },
     "execution_count": 20,
     "metadata": {},
     "output_type": "execute_result"
    }
   ],
   "source": [
    "z.shape"
   ]
  },
  {
   "cell_type": "markdown",
   "id": "ba836667",
   "metadata": {},
   "source": [
    "## Linear Regression from Scikit-Lear "
   ]
  },
  {
   "cell_type": "code",
   "execution_count": 21,
   "id": "bac0dc77",
   "metadata": {},
   "outputs": [],
   "source": [
    "from sklearn.linear_model import LinearRegression"
   ]
  },
  {
   "cell_type": "code",
   "execution_count": 22,
   "id": "2888cc9b",
   "metadata": {},
   "outputs": [],
   "source": [
    "# prediction model\n",
    "reg = LinearRegression()"
   ]
  },
  {
   "cell_type": "markdown",
   "id": "cc19e83e",
   "metadata": {},
   "source": [
    "## Two-Stage "
   ]
  },
  {
   "cell_type": "code",
   "execution_count": 23,
   "id": "6adcf558",
   "metadata": {},
   "outputs": [],
   "source": [
    "# build model\n",
    "twostage_model = spo.twostage.sklearnPred(reg, ks_model)"
   ]
  },
  {
   "cell_type": "code",
   "execution_count": 24,
   "id": "86fe3c54",
   "metadata": {},
   "outputs": [],
   "source": [
    "# training\n",
    "twostage_model.fit(ks_dataset_train.x, ks_dataset_train.c)"
   ]
  },
  {
   "cell_type": "code",
   "execution_count": 25,
   "id": "e2e103e7",
   "metadata": {},
   "outputs": [],
   "source": [
    "# prediction\n",
    "c_test_pred = twostage_model.predict(ks_dataset_test.x)"
   ]
  },
  {
   "cell_type": "code",
   "execution_count": 26,
   "id": "5aa3cd7f",
   "metadata": {},
   "outputs": [
    {
     "name": "stderr",
     "output_type": "stream",
     "text": [
      "100%|██████████████████████████████████████████████████████████████████████| 1000/1000 [00:35<00:00, 28.55it/s]\n"
     ]
    },
    {
     "name": "stdout",
     "output_type": "stream",
     "text": [
      "Normalized true SPO Loss: 2.09%\n",
      "Normalized unambiguous SPO Loss: 2.09%\n"
     ]
    }
   ],
   "source": [
    "# evaluate\n",
    "truespo = 0\n",
    "unambspo = 0\n",
    "for i in tqdm(range(1000)):\n",
    "    c_pred_i = c_test_pred[i]\n",
    "    c_true_i = ks_dataset_test.c[i]\n",
    "    z_true_i = ks_dataset_test.z[i,0]\n",
    "    truespo += spo.eval.calTrueSPO(ks_model, c_pred_i, c_true_i, z_true_i)\n",
    "    unambspo += spo.eval.calUnambSPO(ks_model, c_pred_i, c_true_i, z_true_i)\n",
    "time.sleep(1)\n",
    "print('Normalized true SPO Loss: {:.2f}%'.format(truespo / abs(ks_dataset_test.z.sum()) * 100))\n",
    "print('Normalized unambiguous SPO Loss: {:.2f}%'.format(unambspo / abs(ks_dataset_test.z.sum()) * 100))"
   ]
  },
  {
   "cell_type": "code",
   "execution_count": 27,
   "id": "feeeed33",
   "metadata": {
    "scrolled": false
   },
   "outputs": [
    {
     "name": "stdout",
     "output_type": "stream",
     "text": [
      "Sample 0:\n",
      "    True cost: 3.00, 6.00, 12.00, 3.00, 6.00, 9.00, 6.00, 10.00, 5.00, 6.00, 8.00, 3.00, 9.00, 13.00, 3.00, 9.00, 7.00, 6.00, 9.00, 7.00, 5.00, 12.00, 9.00, 4.00, 4.00, 6.00, 4.00, 3.00, 6.00, 16.00, 5.00, 7.00, 10.00, 13.00, 16.00, 16.00, 2.00, 4.00, 2.00, 16.00, 4.00, 6.00, 8.00, 2.00, 3.00, 4.00, 16.00, 8.00\n",
      "    Pred cost: 2.73, 7.06, 13.91, 2.73, 6.00, 10.63, 7.79, 10.89, 6.59, 7.06, 10.01, 3.78, 10.63, 13.83, 2.73, 13.16, 7.88, 7.27, 13.16, 7.88, 6.59, 13.91, 13.16, 3.96, 5.43, 7.06, 3.96, 2.73, 7.06, 17.33, 7.10, 9.77, 10.82, 11.26, 14.18, 14.32, 1.56, 5.43, 1.56, 17.33, 5.43, 6.00, 10.01, 0.43, 2.73, 5.43, 17.33, 8.19\n",
      "    True sol: 0, 0, 0, 0, 0, 0, 0, 0, 0, 0, 0, 0, 1, 1, 0, 0, 0, 0, 0, 0, 0, 1, 0, 0, 0, 0, 0, 0, 0, 1, 0, 0, 0, 0, 1, 1, 0, 0, 0, 1, 0, 0, 0, 0, 0, 0, 1, 0, True obj: 114.00\n",
      "    Pred sol: 0, 0, 0, 0, 0, 0, 0, 0, 0, 0, 0, 0, 1, 1, 0, 0, 0, 0, 0, 0, 0, 1, 0, 0, 0, 0, 0, 0, 0, 1, 0, 0, 0, 0, 1, 1, 0, 0, 0, 1, 0, 0, 0, 0, 0, 0, 1, 0, Pred obj: 114.00\n",
      "\n",
      "Sample 1:\n",
      "    True cost: 10.00, 3.00, 3.00, 10.00, 6.00, 20.00, 6.00, 3.00, 18.00, 3.00, 10.00, 5.00, 20.00, 11.00, 10.00, 11.00, 5.00, 10.00, 11.00, 5.00, 18.00, 3.00, 11.00, 18.00, 10.00, 3.00, 18.00, 10.00, 3.00, 11.00, 3.00, 11.00, 18.00, 7.00, 6.00, 21.00, 6.00, 10.00, 6.00, 11.00, 10.00, 6.00, 10.00, 3.00, 10.00, 10.00, 11.00, 18.00\n",
      "    Pred cost: 12.02, 2.40, 3.72, 12.02, 6.00, 17.96, 8.00, 3.30, 16.75, 2.40, 11.77, 6.86, 17.96, 12.60, 12.02, 14.92, 6.18, 10.80, 14.92, 6.18, 16.75, 3.72, 14.92, 15.62, 12.90, 2.40, 15.62, 12.02, 2.40, 13.77, 3.81, 13.93, 15.28, 7.02, 7.73, 16.10, 6.41, 12.90, 6.41, 13.77, 12.90, 6.00, 11.77, 2.58, 12.02, 12.90, 13.77, 13.95\n",
      "    True sol: 0, 0, 0, 0, 0, 1, 0, 0, 0, 0, 0, 0, 1, 1, 0, 0, 0, 0, 0, 0, 1, 0, 0, 1, 0, 0, 1, 0, 0, 1, 0, 1, 0, 0, 0, 1, 0, 0, 0, 0, 0, 0, 0, 0, 0, 0, 0, 0, True obj: 148.00\n",
      "    Pred sol: 0, 0, 0, 0, 0, 0, 0, 0, 0, 0, 1, 0, 1, 1, 0, 0, 0, 0, 0, 0, 1, 0, 0, 1, 0, 0, 1, 1, 0, 1, 0, 1, 0, 0, 0, 0, 0, 0, 0, 0, 0, 0, 1, 0, 0, 0, 0, 0, Pred obj: 137.00\n",
      "\n",
      "Sample 2:\n",
      "    True cost: 6.00, 4.00, 11.00, 6.00, 6.00, 17.00, 7.00, 10.00, 8.00, 4.00, 12.00, 3.00, 17.00, 24.00, 6.00, 14.00, 6.00, 11.00, 14.00, 6.00, 8.00, 11.00, 14.00, 8.00, 6.00, 4.00, 8.00, 6.00, 4.00, 25.00, 5.00, 13.00, 15.00, 13.00, 14.00, 29.00, 3.00, 6.00, 3.00, 25.00, 6.00, 6.00, 12.00, 2.00, 6.00, 6.00, 25.00, 14.00\n",
      "    Pred cost: 7.74, 5.86, 12.70, 7.74, 6.00, 15.95, 8.26, 10.84, 10.66, 5.86, 13.56, 2.97, 15.95, 18.50, 7.74, 17.49, 6.88, 11.63, 17.49, 6.88, 10.66, 12.70, 17.49, 8.84, 9.55, 5.86, 8.84, 7.74, 5.86, 21.15, 7.23, 15.06, 14.27, 11.43, 13.31, 18.91, 1.84, 9.55, 1.84, 21.15, 9.55, 6.00, 13.56, 0.56, 7.74, 9.55, 21.15, 12.34\n",
      "    True sol: 0, 0, 0, 0, 0, 1, 0, 0, 0, 0, 0, 0, 1, 1, 0, 0, 0, 0, 0, 0, 0, 0, 0, 0, 0, 0, 0, 0, 0, 1, 0, 1, 0, 0, 0, 1, 0, 0, 0, 1, 0, 0, 0, 0, 0, 0, 1, 0, True obj: 175.00\n",
      "    Pred sol: 0, 0, 0, 0, 0, 0, 0, 0, 0, 0, 1, 0, 1, 1, 0, 0, 0, 0, 0, 0, 0, 0, 0, 0, 0, 0, 0, 0, 0, 1, 0, 1, 0, 0, 1, 1, 0, 0, 0, 0, 0, 0, 1, 0, 0, 0, 1, 0, Pred obj: 171.00\n",
      "\n",
      "Sample 3:\n",
      "    True cost: 3.00, 8.00, 13.00, 3.00, 6.00, 5.00, 7.00, 10.00, 4.00, 8.00, 6.00, 5.00, 5.00, 8.00, 3.00, 7.00, 8.00, 4.00, 7.00, 8.00, 4.00, 13.00, 7.00, 3.00, 4.00, 8.00, 3.00, 3.00, 8.00, 11.00, 7.00, 5.00, 6.00, 10.00, 13.00, 8.00, 4.00, 4.00, 4.00, 11.00, 4.00, 6.00, 6.00, 4.00, 3.00, 4.00, 11.00, 4.00\n",
      "    Pred cost: 2.76, 8.94, 14.35, 2.76, 6.00, 7.27, 8.25, 11.00, 5.11, 8.94, 8.16, 6.11, 7.27, 10.18, 2.76, 11.60, 8.13, 5.31, 11.60, 8.13, 5.11, 14.35, 11.60, 2.41, 5.66, 8.94, 2.41, 2.76, 8.94, 13.69, 9.30, 8.06, 7.46, 9.87, 12.98, 9.27, 3.52, 5.66, 3.52, 13.69, 5.66, 6.00, 8.16, 4.05, 2.76, 5.66, 13.69, 4.83\n",
      "    True sol: 0, 0, 0, 0, 0, 0, 0, 1, 0, 0, 0, 0, 0, 1, 0, 0, 1, 0, 0, 0, 0, 1, 0, 0, 0, 0, 0, 0, 0, 1, 0, 0, 0, 0, 1, 0, 0, 0, 0, 1, 0, 0, 0, 0, 0, 0, 1, 0, True obj: 85.00\n",
      "    Pred sol: 0, 0, 0, 0, 0, 0, 0, 1, 0, 0, 0, 0, 0, 1, 0, 0, 0, 0, 0, 0, 0, 1, 0, 0, 0, 0, 0, 0, 0, 1, 0, 0, 0, 0, 1, 0, 0, 0, 0, 1, 0, 0, 1, 0, 0, 0, 1, 0, Pred obj: 83.00\n",
      "\n",
      "Sample 4:\n",
      "    True cost: 26.00, 11.00, 17.00, 26.00, 6.00, 24.00, 17.00, 16.00, 18.00, 11.00, 17.00, 12.00, 24.00, 23.00, 26.00, 41.00, 6.00, 15.00, 41.00, 6.00, 18.00, 17.00, 41.00, 16.00, 29.00, 11.00, 16.00, 26.00, 11.00, 25.00, 27.00, 37.00, 10.00, 9.00, 10.00, 14.00, 11.00, 29.00, 11.00, 25.00, 29.00, 6.00, 17.00, 18.00, 26.00, 29.00, 25.00, 9.00\n",
      "    Pred cost: 19.80, 11.82, 16.68, 19.80, 6.00, 19.30, 14.89, 14.14, 16.77, 11.82, 16.18, 12.23, 19.30, 18.32, 19.80, 27.93, 7.02, 13.96, 27.93, 7.02, 16.77, 16.68, 27.93, 14.74, 22.22, 11.82, 14.74, 19.80, 11.82, 21.25, 20.02, 24.76, 10.98, 9.31, 11.45, 13.11, 10.57, 22.22, 10.57, 21.25, 22.22, 6.00, 16.18, 15.18, 19.80, 22.22, 21.25, 9.12\n",
      "    True sol: 0, 0, 0, 0, 0, 0, 0, 0, 0, 0, 0, 0, 1, 1, 0, 1, 0, 0, 0, 0, 1, 0, 1, 0, 0, 0, 0, 1, 0, 1, 0, 1, 0, 0, 0, 0, 0, 0, 0, 0, 0, 0, 0, 0, 0, 0, 0, 0, True obj: 235.00\n",
      "    Pred sol: 0, 0, 0, 0, 0, 0, 0, 0, 0, 0, 0, 0, 1, 1, 0, 0, 0, 0, 0, 0, 1, 0, 0, 0, 0, 0, 0, 1, 0, 1, 1, 1, 0, 0, 0, 0, 0, 1, 0, 0, 0, 0, 0, 0, 0, 0, 1, 0, Pred obj: 234.00\n",
      "\n",
      "Sample 5:\n",
      "    True cost: 12.00, 2.00, 1.00, 12.00, 6.00, 14.00, 12.00, 3.00, 7.00, 2.00, 2.00, 6.00, 14.00, 4.00, 12.00, 4.00, 2.00, 5.00, 4.00, 2.00, 7.00, 1.00, 4.00, 16.00, 5.00, 2.00, 16.00, 12.00, 2.00, 2.00, 9.00, 10.00, 3.00, 5.00, 2.00, 6.00, 14.00, 5.00, 14.00, 2.00, 5.00, 6.00, 2.00, 10.00, 12.00, 5.00, 2.00, 7.00\n",
      "    Pred cost: 13.11, -0.92, -1.75, 13.11, 6.00, 14.59, 12.14, 3.77, 9.63, -0.92, 0.23, 7.63, 14.59, 5.34, 13.11, 6.89, 0.97, 5.68, 6.89, 0.97, 9.63, -1.75, 6.89, 14.57, 7.55, -0.92, 14.57, 13.11, -0.92, -0.58, 10.49, 12.80, 2.34, 5.36, 0.43, 7.02, 12.26, 7.55, 12.26, -0.58, 7.55, 6.00, 0.23, 10.87, 13.11, 7.55, -0.58, 7.14\n",
      "    True sol: 0, 0, 0, 0, 0, 1, 0, 0, 0, 0, 0, 0, 1, 0, 0, 0, 0, -0, 0, 0, 1, 0, 0, 1, 0, 0, 1, 1, 0, 0, 0, 1, 0, 0, 0, 0, 0, 0, 1, 0, 0, 0, 0, 1, 0, 0, 0, 0, True obj: 113.00\n",
      "    Pred sol: 0, 0, 0, 0, 0, 1, 0, 0, 0, 0, 0, 0, 1, 0, 0, 0, 0, 0, 0, 0, 1, 0, 0, 1, 0, 0, 1, 1, 0, 0, 0, 1, 0, 0, 0, 0, 0, 0, 1, 0, 0, 0, 0, 1, 0, 0, 0, 0, Pred obj: 113.00\n",
      "\n",
      "Sample 6:\n",
      "    True cost: 1.00, 7.00, 3.00, 1.00, 6.00, 1.00, 1.00, 2.00, 2.00, 7.00, 3.00, 4.00, 1.00, 1.00, 1.00, 1.00, 9.00, 2.00, 1.00, 9.00, 2.00, 3.00, 1.00, 1.00, 1.00, 7.00, 1.00, 1.00, 7.00, 2.00, 1.00, 1.00, 5.00, 3.00, 5.00, 1.00, 2.00, 1.00, 2.00, 2.00, 1.00, 6.00, 3.00, 2.00, 1.00, 1.00, 2.00, 3.00\n",
      "    Pred cost: -4.78, 7.70, 3.81, -4.78, 6.00, -6.92, -2.46, 0.36, 0.69, 7.70, 3.89, 5.07, -6.92, -3.64, -4.78, -6.02, 9.27, 0.35, -6.02, 9.27, 0.69, 3.81, -6.02, -2.70, -1.30, 7.70, -2.70, -4.78, 7.70, -0.29, -4.47, -9.25, 5.66, 2.22, 5.60, -1.53, 1.53, -1.30, 1.53, -0.29, -1.30, 6.00, 3.89, -0.22, -4.78, -1.30, -0.29, 2.07\n",
      "    True sol: 0, 0, 0, 0, 1, 0, 0, 0, 0, 0, 1, 0, 0, 0, 0, 0, 1, 0, 0, 1, 0, 0, 0, 0, 0, 1, 0, 0, 1, 0, 0, 0, 0, 0, 1, 0, 0, 0, 0, 0, 0, 0, 0, 0, 0, 0, 0, 0, True obj: 46.00\n",
      "    Pred sol: 0, 0, 0, 0, 1, 0, 0, 0, 0, 0, 1, 0, 0, 0, 0, 0, 1, 0, 0, 1, 0, 0, 0, 0, 0, 1, 0, 0, 1, 0, 0, 0, 0, 0, 1, 0, 0, 0, 0, 0, 0, 0, 0, 0, 0, 0, 0, 0, Pred obj: 46.00\n",
      "\n",
      "Sample 7:\n",
      "    True cost: 4.00, 4.00, 2.00, 4.00, 6.00, 4.00, 5.00, 2.00, 7.00, 4.00, 3.00, 8.00, 4.00, 2.00, 4.00, 2.00, 6.00, 3.00, 2.00, 6.00, 7.00, 2.00, 2.00, 7.00, 4.00, 4.00, 7.00, 4.00, 4.00, 2.00, 3.00, 2.00, 5.00, 3.00, 3.00, 2.00, 8.00, 4.00, 8.00, 2.00, 4.00, 6.00, 3.00, 5.00, 4.00, 4.00, 2.00, 4.00\n",
      "    Pred cost: 6.13, 4.25, 0.93, 6.13, 6.00, 5.15, 5.69, 0.73, 8.68, 4.25, 3.31, 9.34, 5.15, -0.20, 6.13, 2.79, 6.23, 3.00, 2.79, 6.23, 8.68, 0.93, 2.79, 8.17, 6.45, 4.25, 8.17, 6.13, 4.25, -0.17, 3.49, 2.72, 5.49, 2.89, 3.26, 2.12, 8.69, 6.45, 8.69, -0.17, 6.45, 6.00, 3.31, 6.81, 6.13, 6.45, -0.17, 4.88\n",
      "    True sol: 0, 0, 0, 0, 1, 0, 0, 0, 0, 0, 0, 1, 0, 0, 0, 0, 1, -0, 0, 0, 1, 0, 0, 1, 0, 0, 1, 0, 0, 0, 0, 0, 0, 0, 0, 0, 0, 0, 1, 0, 0, 0, 0, 1, 0, 0, 0, 0, True obj: 54.00\n",
      "    Pred sol: 0, 0, 0, 0, 1, 0, 0, 0, 0, 0, 0, 0, 0, 0, 0, 0, 1, 0, 0, 0, 1, 0, 0, 1, 0, 0, 1, 1, 0, 0, 0, 0, 0, 0, 0, 0, 0, 1, 1, 0, 0, 0, 0, 1, 0, 0, 0, 0, Pred obj: 54.00\n",
      "\n",
      "Sample 8:\n",
      "    True cost: 2.00, 1.00, 1.00, 2.00, 6.00, 7.00, 9.00, 3.00, 3.00, 1.00, 1.00, 5.00, 7.00, 2.00, 2.00, 1.00, 3.00, 2.00, 1.00, 3.00, 3.00, 1.00, 1.00, 6.00, 1.00, 1.00, 6.00, 2.00, 1.00, 1.00, 4.00, 3.00, 2.00, 6.00, 4.00, 5.00, 8.00, 1.00, 8.00, 1.00, 1.00, 6.00, 1.00, 3.00, 2.00, 1.00, 1.00, 4.00\n",
      "    Pred cost: 1.85, -2.29, -1.16, 1.85, 6.00, 9.08, 10.04, 2.23, 4.31, -2.29, -4.54, 5.81, 9.08, 0.44, 1.85, -0.48, 2.96, -0.94, -0.48, 2.96, 4.31, -1.16, -0.48, 7.34, -1.85, -2.29, 7.34, 1.85, -2.29, -3.40, 5.00, 3.37, 1.37, 6.95, 4.16, 5.78, 8.46, -1.85, 8.46, -3.40, -1.85, 6.00, -4.54, 3.55, 1.85, -1.85, -3.40, 4.31\n",
      "    True sol: 0, 0, 0, 0, 1, 1, 0, 0, 0, 0, 0, 0, 1, 0, 0, 0, 0, 0, -0, 0, 1, 0, 0, 1, 0, 0, 1, 0, 0, 0, 0, 0, 0, 0, 0, 0, 1, 0, 1, 0, 0, 0, 0, 0, 0, 0, 0, 0, True obj: 51.00\n",
      "    Pred sol: 0, 0, 0, 0, 1, 1, 0, 0, 0, 0, 0, 0, 1, 0, 0, 0, 0, 0, 0, 0, 1, 0, 0, 1, 0, 0, 1, 0, 0, 0, 0, 0, 0, 0, 0, 0, 1, 0, 1, 0, 0, 0, 0, 0, 0, 0, 0, 0, Pred obj: 51.00\n",
      "\n",
      "Sample 9:\n",
      "    True cost: 22.00, 12.00, 8.00, 22.00, 6.00, 10.00, 3.00, 6.00, 18.00, 12.00, 28.00, 7.00, 10.00, 17.00, 22.00, 19.00, 7.00, 23.00, 19.00, 7.00, 18.00, 8.00, 19.00, 15.00, 27.00, 12.00, 15.00, 22.00, 12.00, 20.00, 6.00, 16.00, 19.00, 4.00, 5.00, 11.00, 5.00, 27.00, 5.00, 20.00, 27.00, 6.00, 28.00, 9.00, 22.00, 27.00, 20.00, 15.00\n",
      "    Pred cost: 18.76, 12.12, 10.02, 18.76, 6.00, 11.87, 3.83, 7.48, 16.55, 12.12, 20.95, 8.12, 11.87, 15.84, 18.76, 19.77, 7.80, 17.76, 19.77, 7.80, 16.55, 10.02, 19.77, 13.78, 21.91, 12.12, 13.78, 18.76, 12.12, 19.15, 7.70, 16.58, 15.70, 3.70, 5.95, 11.14, 6.04, 21.91, 6.04, 19.15, 21.91, 6.00, 20.95, 10.14, 18.76, 21.91, 19.15, 12.70\n",
      "    True sol: 0, 0, 0, 0, 0, 0, 0, 0, 0, 0, 1, 0, 0, 1, 0, 0, 0, 0, 0, 0, 1, 0, 0, 0, 1, 0, 0, 1, 0, 1, 0, 1, 0, 0, 0, 0, 0, 1, 0, 0, 0, 0, 1, 0, 0, 0, 0, 0, True obj: 203.00\n",
      "    Pred sol: 0, 0, 0, 0, 0, 0, 0, 0, 0, 0, 1, 0, 0, 1, 0, 0, 0, 0, 0, 0, 1, 0, 0, 0, 1, 0, 0, 1, 0, 1, 0, 1, 0, 0, 0, 0, 0, 1, 0, 0, 0, 0, 1, 0, 0, 0, 0, 0, Pred obj: 203.00\n",
      "\n"
     ]
    }
   ],
   "source": [
    "# compare solutions\n",
    "for i, data in enumerate(ks_loader_test):\n",
    "    # load data\n",
    "    x, c, w, z = data\n",
    "    # cuda\n",
    "    if torch.cuda.is_available():\n",
    "        x, c, w, z = x.cuda(), c.cuda(), w.cuda(), z.cuda()\n",
    "    # convert to numpy\n",
    "    x = x.to('cpu').detach().numpy()\n",
    "    c = c.to('cpu').detach().numpy()\n",
    "    w = w.to('cpu').detach().numpy()\n",
    "    z = z.to('cpu').detach().numpy()\n",
    "    # predict\n",
    "    cp = twostage_model.predict(x)\n",
    "    for j in range(min(10, batch_size)):\n",
    "        print('Sample {}:'.format(j))\n",
    "        print('    True cost:', ', '.join(['{:.2f}'.format(-cost) for cost in c[j]]))\n",
    "        print('    Pred cost:', ', '.join(['{:.2f}'.format(-cost) for cost in cp[j]]))\n",
    "        # solve cost from prediction\n",
    "        ks_model.setObj(cp[j])\n",
    "        wpj, _ = ks_model.solve()\n",
    "        zpj = np.dot(c[j], wpj)\n",
    "        print('    True sol: ' + ', '.join(['{:.0f}'.format(x) for x in w[j]]) + ', True obj: {:.2f}'.format(-z[j,0]))\n",
    "        print('    Pred sol: '+  ', '.join(['{:.0f}'.format(x) for x in wpj]) + ', Pred obj: {:.2f}'.format(-zpj))\n",
    "        print()\n",
    "    break"
   ]
  },
  {
   "cell_type": "markdown",
   "id": "8596e709",
   "metadata": {},
   "source": [
    "## Linear Regression from PyTorch"
   ]
  },
  {
   "cell_type": "code",
   "execution_count": 28,
   "id": "e88c361d",
   "metadata": {},
   "outputs": [],
   "source": [
    "from torch import nn"
   ]
  },
  {
   "cell_type": "code",
   "execution_count": 29,
   "id": "5ed32466",
   "metadata": {},
   "outputs": [],
   "source": [
    "# build linear model\n",
    "class LinearRegression(nn.Module):\n",
    "    \n",
    "    def __init__(self):\n",
    "        super(LinearRegression, self).__init__()\n",
    "        self.linear = nn.Linear(p, m)\n",
    "    \n",
    "    def forward(self, x):\n",
    "        out = self.linear(x)\n",
    "        return out"
   ]
  },
  {
   "cell_type": "markdown",
   "id": "fa3f22f2",
   "metadata": {},
   "source": [
    "## SPO+ "
   ]
  },
  {
   "cell_type": "code",
   "execution_count": 30,
   "id": "07753d5a",
   "metadata": {},
   "outputs": [],
   "source": [
    "# init model\n",
    "reg = LinearRegression()\n",
    "# cuda\n",
    "if torch.cuda.is_available():\n",
    "    reg = reg.cuda()"
   ]
  },
  {
   "cell_type": "code",
   "execution_count": 31,
   "id": "d4d0d9b8",
   "metadata": {},
   "outputs": [],
   "source": [
    "# set optimizer\n",
    "optimizer = torch.optim.Adam(reg.parameters(), lr=1e-2)"
   ]
  },
  {
   "cell_type": "code",
   "execution_count": 32,
   "id": "fb3637bb",
   "metadata": {},
   "outputs": [],
   "source": [
    "# init SPO+ loss\n",
    "criterion = spo.func.SPOPlus()"
   ]
  },
  {
   "cell_type": "code",
   "execution_count": 33,
   "id": "5a05c841",
   "metadata": {
    "scrolled": false
   },
   "outputs": [
    {
     "name": "stdout",
     "output_type": "stream",
     "text": [
      "Epoch  10, Loss:  41.1494, True SPO Loss:  8.4499%, Unambiguous SPO Loss:  8.4499%\n",
      "Epoch  20, Loss:  23.2651, True SPO Loss:  2.2808%, Unambiguous SPO Loss:  2.2808%\n",
      "Epoch  30, Loss:  32.3797, True SPO Loss:  1.4049%, Unambiguous SPO Loss:  1.4049%\n",
      "Epoch  40, Loss:   4.1790, True SPO Loss:  0.8168%, Unambiguous SPO Loss:  0.8168%\n",
      "Epoch  50, Loss:   1.7077, True SPO Loss:  0.6366%, Unambiguous SPO Loss:  0.6366%\n",
      "Epoch  60, Loss:   5.0745, True SPO Loss:  0.5823%, Unambiguous SPO Loss:  0.5823%\n",
      "Epoch  70, Loss:   1.4560, True SPO Loss:  0.4699%, Unambiguous SPO Loss:  0.4699%\n",
      "Epoch  80, Loss:   1.8350, True SPO Loss:  0.4166%, Unambiguous SPO Loss:  0.4166%\n",
      "Epoch  90, Loss:   3.0775, True SPO Loss:  0.4060%, Unambiguous SPO Loss:  0.4060%\n",
      "Epoch 100, Loss:   3.8860, True SPO Loss:  0.3856%, Unambiguous SPO Loss:  0.3856%\n",
      "Epoch 110, Loss:   0.4503, True SPO Loss:  0.3769%, Unambiguous SPO Loss:  0.3769%\n",
      "Epoch 120, Loss:   9.7379, True SPO Loss:  0.3459%, Unambiguous SPO Loss:  0.3459%\n",
      "Epoch 130, Loss:   1.2269, True SPO Loss:  0.3236%, Unambiguous SPO Loss:  0.3236%\n",
      "Epoch 140, Loss:   4.1553, True SPO Loss:  0.3226%, Unambiguous SPO Loss:  0.3226%\n",
      "Epoch 150, Loss:   1.2787, True SPO Loss:  0.3130%, Unambiguous SPO Loss:  0.3130%\n",
      "Epoch 160, Loss:   1.6404, True SPO Loss:  0.2839%, Unambiguous SPO Loss:  0.2839%\n",
      "Epoch 170, Loss:   1.3052, True SPO Loss:  0.3149%, Unambiguous SPO Loss:  0.3149%\n",
      "Epoch 180, Loss:   1.9525, True SPO Loss:  0.2771%, Unambiguous SPO Loss:  0.2771%\n",
      "Epoch 190, Loss:   0.1596, True SPO Loss:  0.2761%, Unambiguous SPO Loss:  0.2761%\n",
      "Epoch 200, Loss:   1.1019, True SPO Loss:  0.2655%, Unambiguous SPO Loss:  0.2655%\n",
      "Epoch 210, Loss:   3.3310, True SPO Loss:  0.2345%, Unambiguous SPO Loss:  0.2345%\n",
      "Epoch 220, Loss:   0.7547, True SPO Loss:  0.2296%, Unambiguous SPO Loss:  0.2296%\n",
      "Epoch 230, Loss:   1.8459, True SPO Loss:  0.2112%, Unambiguous SPO Loss:  0.2112%\n",
      "Epoch 240, Loss:   1.3556, True SPO Loss:  0.1948%, Unambiguous SPO Loss:  0.1948%\n",
      "Epoch 250, Loss:   0.9461, True SPO Loss:  0.1889%, Unambiguous SPO Loss:  0.1889%\n",
      "Epoch 260, Loss:   3.1205, True SPO Loss:  0.1996%, Unambiguous SPO Loss:  0.1996%\n",
      "Epoch 270, Loss:   0.7590, True SPO Loss:  0.2035%, Unambiguous SPO Loss:  0.2035%\n",
      "Epoch 280, Loss:   0.8704, True SPO Loss:  0.1889%, Unambiguous SPO Loss:  0.1889%\n",
      "Epoch 290, Loss:   1.1284, True SPO Loss:  0.2287%, Unambiguous SPO Loss:  0.2287%\n",
      "Epoch 300, Loss:   0.5285, True SPO Loss:  0.1705%, Unambiguous SPO Loss:  0.1705%\n"
     ]
    }
   ],
   "source": [
    "# train model\n",
    "num_epochs = 300\n",
    "reg.train()\n",
    "loss_log = []\n",
    "loss_log_truespo = []\n",
    "loss_log_unambspo = []\n",
    "for epoch in range(num_epochs):\n",
    "    # load data\n",
    "    for i, data in enumerate(ks_loader_train):\n",
    "        x, c, w, z = data\n",
    "        # cuda\n",
    "        if torch.cuda.is_available():\n",
    "            x, c, w, z = x.cuda(), c.cuda(), w.cuda(), z.cuda()\n",
    "        # forward pass\n",
    "        cp = reg(x)\n",
    "        loss = criterion.apply(ks_model, cp, c, w, z).mean()\n",
    "        # backward pass\n",
    "        optimizer.zero_grad()\n",
    "        loss.backward()\n",
    "        optimizer.step()\n",
    "    loss_log.append(loss.item())\n",
    "    if (epoch + 1) % 10 == 0:\n",
    "        # true SPO\n",
    "        trueloss = spo.eval.trueSPO(reg, ks_model, ks_loader_test)\n",
    "        loss_log_truespo.append(trueloss)\n",
    "        # unambiguous SPO \n",
    "        unambloss = spo.eval.unambSPO(reg, ks_model, ks_loader_test)\n",
    "        loss_log_unambspo.append(unambloss)\n",
    "        print('Epoch {:3}, Loss: {:8.4f}, True SPO Loss: {:7.4f}%, Unambiguous SPO Loss: {:7.4f}%'. \\\n",
    "              format(epoch+1, loss.item(), trueloss*100, unambloss*100))"
   ]
  },
  {
   "cell_type": "code",
   "execution_count": 34,
   "id": "927bf5d7",
   "metadata": {},
   "outputs": [
    {
     "data": {
      "image/png": "[encoded data removed]",
      "text/plain": [
       "<Figure size 864x432 with 1 Axes>"
      ]
     },
     "metadata": {
      "needs_background": "light"
     },
     "output_type": "display_data"
    }
   ],
   "source": [
    "# draw plot\n",
    "plt.figure(figsize=(12, 6))\n",
    "plt.plot(loss_log, color='c')\n",
    "plt.xlabel('Epoch')\n",
    "plt.ylabel('SPO+ Loss')\n",
    "plt.title('Learning Curve')\n",
    "plt.show()"
   ]
  },
  {
   "cell_type": "code",
   "execution_count": 35,
   "id": "8ae91bbd",
   "metadata": {},
   "outputs": [
    {
     "data": {
      "image/png": "[encoded data removed]",
      "text/plain": [
       "<Figure size 864x432 with 1 Axes>"
      ]
     },
     "metadata": {
      "needs_background": "light"
     },
     "output_type": "display_data"
    }
   ],
   "source": [
    "# draw plot\n",
    "plt.figure(figsize=(12, 6))\n",
    "plt.plot(range(0, num_epochs, 10), loss_log_truespo, color='m', alpha=0.7, label='True SPO')\n",
    "plt.plot(range(0, num_epochs, 10), loss_log_unambspo, color='b', alpha=0.7, label='Unambiguous SPO')\n",
    "plt.xlabel('Epoch')\n",
    "plt.ylabel('Loss')\n",
    "plt.title('Learning Curve')\n",
    "plt.legend()\n",
    "plt.show()"
   ]
  },
  {
   "cell_type": "code",
   "execution_count": 36,
   "id": "c8515a5d",
   "metadata": {},
   "outputs": [
    {
     "name": "stdout",
     "output_type": "stream",
     "text": [
      "Normalized true SPO Loss: 0.17%\n",
      "Normalized unambiguous SPO Loss: 0.17%\n"
     ]
    }
   ],
   "source": [
    "# evaluate\n",
    "spoloss = spo.eval.trueSPO(reg, ks_model, ks_loader_test)\n",
    "print('Normalized true SPO Loss: {:.2f}%'.format(spoloss * 100))\n",
    "spoloss = spo.eval.unambSPO(reg, ks_model, ks_loader_test)\n",
    "print('Normalized unambiguous SPO Loss: {:.2f}%'.format(spoloss * 100))"
   ]
  },
  {
   "cell_type": "code",
   "execution_count": 37,
   "id": "738c1d73",
   "metadata": {
    "scrolled": false
   },
   "outputs": [
    {
     "name": "stdout",
     "output_type": "stream",
     "text": [
      "Sample 0:\n",
      "    True cost: 3.00, 6.00, 12.00, 3.00, 6.00, 9.00, 6.00, 10.00, 5.00, 6.00, 8.00, 3.00, 9.00, 13.00, 3.00, 9.00, 7.00, 6.00, 9.00, 7.00, 5.00, 12.00, 9.00, 4.00, 4.00, 6.00, 4.00, 3.00, 6.00, 16.00, 5.00, 7.00, 10.00, 13.00, 16.00, 16.00, 2.00, 4.00, 2.00, 16.00, 4.00, 6.00, 8.00, 2.00, 3.00, 4.00, 16.00, 8.00\n",
      "    Pred cost: -6.32, -0.13, 11.36, 2.29, 5.92, 9.19, 4.46, 11.13, 0.16, -1.43, 8.47, -1.93, 9.08, 14.27, -7.13, 7.96, 7.38, 3.54, -1.21, 6.13, 3.39, 13.32, 6.86, 1.41, -2.23, 1.27, 1.33, -2.45, 4.35, 18.67, 2.40, 7.34, 10.49, 11.99, 15.77, 15.89, -7.76, -1.24, -4.86, 17.38, -2.92, 2.14, 8.27, -4.89, -4.21, -3.13, 18.34, 7.84\n",
      "    True sol: 0, 0, 0, 0, 0, 0, 0, 0, 0, 0, 0, 0, 1, 1, 0, 0, 0, 0, 0, 0, 0, 1, 0, 0, 0, 0, 0, 0, 0, 1, 0, 0, 0, 0, 1, 1, 0, 0, 0, 1, 0, 0, 0, 0, 0, 0, 1, 0, True obj: 114.00\n",
      "    Pred sol: 0, 0, 0, 0, 0, 0, 0, 0, 0, 0, 0, 0, 1, 1, 0, 0, 0, 0, 0, 0, 0, 1, 0, 0, 0, 0, 0, 0, 0, 1, 0, 0, 0, 0, 1, 1, 0, 0, 0, 1, 0, 0, 0, 0, 0, 0, 1, 0, Pred obj: 114.00\n",
      "\n",
      "Sample 1:\n",
      "    True cost: 10.00, 3.00, 3.00, 10.00, 6.00, 20.00, 6.00, 3.00, 18.00, 3.00, 10.00, 5.00, 20.00, 11.00, 10.00, 11.00, 5.00, 10.00, 11.00, 5.00, 18.00, 3.00, 11.00, 18.00, 10.00, 3.00, 18.00, 10.00, 3.00, 11.00, 3.00, 11.00, 18.00, 7.00, 6.00, 21.00, 6.00, 10.00, 6.00, 11.00, 10.00, 6.00, 10.00, 3.00, 10.00, 10.00, 11.00, 18.00\n",
      "    Pred cost: 7.07, -8.90, -10.97, 12.22, 4.79, 19.84, 3.51, -3.43, 16.27, -12.02, 10.01, 0.82, 17.53, 10.88, -4.03, 9.64, 3.95, 7.72, -1.44, 1.25, 17.99, -5.30, 8.82, 15.90, 7.49, -8.42, 16.20, 9.21, -4.30, 11.39, -3.33, 11.51, 16.63, 3.94, 4.76, 17.65, -0.59, 9.30, 1.83, 10.04, 5.11, 1.94, 9.74, -2.83, -0.20, 6.10, 10.47, 16.61\n",
      "    True sol: 0, 0, 0, 0, 0, 1, 0, 0, 0, 0, 0, 0, 1, 1, 0, 0, 0, 0, 0, 0, 1, 0, 0, 1, 0, 0, 1, 0, 0, 1, 0, 1, 0, 0, 0, 1, 0, 0, 0, 0, 0, 0, 0, 0, 0, 0, 0, 0, True obj: 148.00\n",
      "    Pred sol: 0, 0, 0, 0, 0, 1, 0, 0, 0, 0, 0, 0, 1, 1, 0, 0, 0, 0, 0, 0, 1, 0, 0, 1, 0, 0, 1, 0, 0, 1, 0, 1, 0, 0, 0, 1, 0, 0, 0, 0, 0, 0, 0, 0, 0, 0, 0, 0, Pred obj: 148.00\n",
      "\n",
      "Sample 2:\n",
      "    True cost: 6.00, 4.00, 11.00, 6.00, 6.00, 17.00, 7.00, 10.00, 8.00, 4.00, 12.00, 3.00, 17.00, 24.00, 6.00, 14.00, 6.00, 11.00, 14.00, 6.00, 8.00, 11.00, 14.00, 8.00, 6.00, 4.00, 8.00, 6.00, 4.00, 25.00, 5.00, 13.00, 15.00, 13.00, 14.00, 29.00, 3.00, 6.00, 3.00, 25.00, 6.00, 6.00, 12.00, 2.00, 6.00, 6.00, 25.00, 14.00\n",
      "    Pred cost: -1.29, -6.62, 3.92, 5.82, 3.61, 15.41, 1.61, 8.23, 2.96, -9.20, 10.94, -7.64, 13.87, 18.59, -9.88, 10.99, 3.37, 8.14, -1.67, 0.29, 6.96, 7.87, 10.07, 5.72, 0.28, -5.40, 5.75, 2.05, -0.65, 21.57, 0.12, 12.58, 13.09, 8.52, 11.65, 20.29, -11.67, 2.07, -7.90, 20.74, -1.69, -1.67, 10.69, -7.24, -4.04, -0.93, 21.66, 12.20\n",
      "    True sol: 0, 0, 0, 0, 0, 1, 0, 0, 0, 0, 0, 0, 1, 1, 0, 0, 0, 0, 0, 0, 0, 0, 0, 0, 0, 0, 0, 0, 0, 1, 0, 1, 0, 0, 0, 1, 0, 0, 0, 1, 0, 0, 0, 0, 0, 0, 1, 0, True obj: 175.00\n",
      "    Pred sol: 0, 0, 0, 0, 0, 1, 0, 0, 0, 0, 0, 0, 1, 1, 0, 0, 0, 0, 0, 0, 0, 0, 0, 0, 0, 0, 0, 0, 0, 1, 0, 1, 0, 0, 0, 1, 0, 0, 0, 1, 0, 0, 0, 0, 0, 0, 1, 0, Pred obj: 175.00\n",
      "\n",
      "Sample 3:\n",
      "    True cost: 3.00, 8.00, 13.00, 3.00, 6.00, 5.00, 7.00, 10.00, 4.00, 8.00, 6.00, 5.00, 5.00, 8.00, 3.00, 7.00, 8.00, 4.00, 7.00, 8.00, 4.00, 13.00, 7.00, 3.00, 4.00, 8.00, 3.00, 3.00, 8.00, 11.00, 7.00, 5.00, 6.00, 10.00, 13.00, 8.00, 4.00, 4.00, 4.00, 11.00, 4.00, 6.00, 6.00, 4.00, 3.00, 4.00, 11.00, 4.00\n",
      "    Pred cost: -3.71, 6.90, 15.62, 1.65, 7.23, 4.42, 7.68, 12.66, 0.68, 6.71, 7.16, 5.01, 5.89, 10.26, -1.36, 8.23, 9.23, 1.89, -0.65, 9.43, 2.38, 16.12, 7.27, 0.52, 0.96, 8.09, 0.41, -0.72, 9.20, 14.40, 7.59, 6.09, 6.68, 12.37, 15.52, 9.82, -0.88, 1.08, 0.77, 12.92, 1.74, 4.98, 7.08, 2.02, 0.66, 0.45, 13.57, 3.62\n",
      "    True sol: 0, 0, 0, 0, 0, 0, 0, 1, 0, 0, 0, 0, 0, 1, 0, 0, 1, 0, 0, 0, 0, 1, 0, 0, 0, 0, 0, 0, 0, 1, 0, 0, 0, 0, 1, 0, 0, 0, 0, 1, 0, 0, 0, 0, 0, 0, 1, 0, True obj: 85.00\n",
      "    Pred sol: 0, 0, 0, 0, 0, 0, 0, 1, 0, 0, 0, 0, 0, 1, 0, 0, 1, 0, 0, 0, 0, 1, 0, 0, 0, 0, 0, 0, 0, 1, 0, 0, 0, 0, 1, 0, 0, 0, 0, 1, 0, 0, 0, 0, 0, 0, 1, 0, Pred obj: 85.00\n",
      "\n",
      "Sample 4:\n",
      "    True cost: 26.00, 11.00, 17.00, 26.00, 6.00, 24.00, 17.00, 16.00, 18.00, 11.00, 17.00, 12.00, 24.00, 23.00, 26.00, 41.00, 6.00, 15.00, 41.00, 6.00, 18.00, 17.00, 41.00, 16.00, 29.00, 11.00, 16.00, 26.00, 11.00, 25.00, 27.00, 37.00, 10.00, 9.00, 10.00, 14.00, 11.00, 29.00, 11.00, 25.00, 29.00, 6.00, 17.00, 18.00, 26.00, 29.00, 25.00, 9.00\n",
      "    Pred cost: 17.82, 3.64, 8.71, 8.64, 1.11, 15.24, 11.09, 9.72, 12.03, 2.87, 11.46, 6.32, 15.69, 15.17, 1.94, 25.84, 0.95, 8.55, -0.76, -0.70, 12.20, 11.02, 26.24, 10.74, 19.10, 4.66, 10.92, 16.90, 6.02, 17.00, 17.83, 23.23, 4.46, 3.57, 5.91, 9.18, 3.28, 19.26, 4.78, 16.73, 18.74, -2.86, 11.66, 11.95, 12.56, 18.34, 16.56, 3.56\n",
      "    True sol: 0, 0, 0, 0, 0, 0, 0, 0, 0, 0, 0, 0, 1, 1, 0, 1, 0, 0, 0, 0, 1, 0, 1, 0, 0, 0, 0, 1, 0, 1, 0, 1, 0, 0, 0, 0, 0, 0, 0, 0, 0, 0, 0, 0, 0, 0, 0, 0, True obj: 235.00\n",
      "    Pred sol: 0, 0, 0, 0, 0, 0, 0, 0, 0, 0, 0, 0, 1, 1, 0, 0, 0, 0, 0, 0, 1, 0, 0, 0, 0, 0, 0, 1, 0, 1, 1, 1, 0, 0, 0, 0, 0, 1, 0, 0, 0, 0, 0, 0, 0, 0, 1, 0, Pred obj: 234.00\n",
      "\n",
      "Sample 5:\n",
      "    True cost: 12.00, 2.00, 1.00, 12.00, 6.00, 14.00, 12.00, 3.00, 7.00, 2.00, 2.00, 6.00, 14.00, 4.00, 12.00, 4.00, 2.00, 5.00, 4.00, 2.00, 7.00, 1.00, 4.00, 16.00, 5.00, 2.00, 16.00, 12.00, 2.00, 2.00, 9.00, 10.00, 3.00, 5.00, 2.00, 6.00, 14.00, 5.00, 14.00, 2.00, 5.00, 6.00, 2.00, 10.00, 12.00, 5.00, 2.00, 7.00\n",
      "    Pred cost: 18.12, -4.38, -11.56, 13.17, 9.74, 20.24, 19.96, 3.38, 11.94, -4.53, -1.02, 9.47, 18.36, 5.43, 9.58, 4.52, 1.33, 7.65, -0.46, -0.38, 11.59, -6.91, 3.66, 19.17, 7.22, -5.53, 19.42, 17.05, -3.53, -5.18, 14.29, 15.66, 0.29, 10.44, -0.92, 9.74, 19.68, 7.31, 19.22, -7.59, 9.92, 10.96, -1.55, 14.72, 11.09, 6.43, -7.63, 10.89\n",
      "    True sol: 0, 0, 0, 0, 0, 1, 0, 0, 0, 0, 0, 0, 1, 0, 0, 0, 0, -0, 0, 0, 1, 0, 0, 1, 0, 0, 1, 1, 0, 0, 0, 1, 0, 0, 0, 0, 0, 0, 1, 0, 0, 0, 0, 1, 0, 0, 0, 0, True obj: 113.00\n",
      "    Pred sol: 0, 0, 0, 0, 0, 1, 0, 0, 0, 0, 0, 0, 1, 0, 0, 0, 0, 0, 0, 0, 1, 0, 0, 1, 0, 0, 1, 1, 0, 0, 0, 1, 0, 0, 0, 0, 0, 0, 1, 0, 0, 0, 0, 1, 0, 0, 0, 0, Pred obj: 113.00\n",
      "\n",
      "Sample 6:\n",
      "    True cost: 1.00, 7.00, 3.00, 1.00, 6.00, 1.00, 1.00, 2.00, 2.00, 7.00, 3.00, 4.00, 1.00, 1.00, 1.00, 1.00, 9.00, 2.00, 1.00, 9.00, 2.00, 3.00, 1.00, 1.00, 1.00, 7.00, 1.00, 1.00, 7.00, 2.00, 1.00, 1.00, 5.00, 3.00, 5.00, 1.00, 2.00, 1.00, 2.00, 2.00, 1.00, 6.00, 3.00, 2.00, 1.00, 1.00, 2.00, 3.00\n",
      "    Pred cost: -8.28, 17.88, 8.82, 4.55, 13.73, -11.56, -2.29, 2.62, 4.79, 16.96, 8.44, 14.48, -6.68, -2.97, 7.64, -8.65, 18.41, 1.33, 0.08, 21.33, 4.45, 8.68, -10.64, 0.40, -0.49, 17.81, 0.19, -4.13, 16.20, 1.84, -5.92, -12.58, 12.82, 9.07, 12.15, 0.73, 6.64, -0.64, 6.50, -0.62, 1.64, 15.53, 8.40, 3.31, 1.65, -0.29, -0.36, 6.71\n",
      "    True sol: 0, 0, 0, 0, 1, 0, 0, 0, 0, 0, 1, 0, 0, 0, 0, 0, 1, 0, 0, 1, 0, 0, 0, 0, 0, 1, 0, 0, 1, 0, 0, 0, 0, 0, 1, 0, 0, 0, 0, 0, 0, 0, 0, 0, 0, 0, 0, 0, True obj: 46.00\n",
      "    Pred sol: 0, 1, 0, 0, 1, 0, 0, 0, 0, 0, 0, 0, 0, 0, 0, 0, 1, 0, 0, 1, 0, 1, 0, 0, 0, 0, 0, 0, 1, 0, 0, 0, 0, 0, 1, 0, 0, 0, 0, 0, 0, 0, 0, 0, 0, 0, 0, 0, Pred obj: 46.00\n",
      "\n",
      "Sample 7:\n",
      "    True cost: 4.00, 4.00, 2.00, 4.00, 6.00, 4.00, 5.00, 2.00, 7.00, 4.00, 3.00, 8.00, 4.00, 2.00, 4.00, 2.00, 6.00, 3.00, 2.00, 6.00, 7.00, 2.00, 2.00, 7.00, 4.00, 4.00, 7.00, 4.00, 4.00, 2.00, 3.00, 2.00, 5.00, 3.00, 3.00, 2.00, 8.00, 4.00, 8.00, 2.00, 4.00, 6.00, 3.00, 5.00, 4.00, 4.00, 2.00, 4.00\n",
      "    Pred cost: 7.02, 7.80, -2.59, 9.83, 10.99, 5.08, 9.46, -0.43, 14.01, 7.26, 4.72, 16.46, 6.70, -1.25, 9.76, 1.17, 10.87, 2.78, -0.08, 12.02, 12.62, -0.41, 0.01, 11.96, 7.99, 7.42, 12.08, 8.26, 6.98, -2.43, 3.95, 1.70, 8.46, 7.60, 5.30, 3.56, 15.84, 7.83, 15.18, -4.84, 9.78, 12.90, 4.57, 10.48, 7.67, 7.63, -4.91, 8.45\n",
      "    True sol: 0, 0, 0, 0, 1, 0, 0, 0, 0, 0, 0, 1, 0, 0, 0, 0, 1, -0, 0, 0, 1, 0, 0, 1, 0, 0, 1, 0, 0, 0, 0, 0, 0, 0, 0, 0, 0, 0, 1, 0, 0, 0, 0, 1, 0, 0, 0, 0, True obj: 54.00\n",
      "    Pred sol: 0, 0, 0, 0, 1, 0, 0, 0, 0, 0, 0, 1, 0, 0, 0, 0, 1, 0, 0, 0, 1, 0, 0, 1, 0, 0, 1, 0, 0, 0, 0, 0, 0, 0, 0, 0, 1, 0, 0, 0, 0, 0, 0, 1, 0, 0, 0, 0, Pred obj: 54.00\n",
      "\n",
      "Sample 8:\n",
      "    True cost: 2.00, 1.00, 1.00, 2.00, 6.00, 7.00, 9.00, 3.00, 3.00, 1.00, 1.00, 5.00, 7.00, 2.00, 2.00, 1.00, 3.00, 2.00, 1.00, 3.00, 3.00, 1.00, 1.00, 6.00, 1.00, 1.00, 6.00, 2.00, 1.00, 1.00, 4.00, 3.00, 2.00, 6.00, 4.00, 5.00, 8.00, 1.00, 8.00, 1.00, 1.00, 6.00, 1.00, 3.00, 2.00, 1.00, 1.00, 4.00\n",
      "    Pred cost: 2.08, -3.31, -4.89, 7.11, 12.69, 15.73, 20.41, 4.78, 7.05, -2.74, -4.20, 10.91, 13.95, 1.64, 5.37, -3.20, 7.55, -0.36, -0.44, 7.42, 7.46, -1.79, -4.71, 12.45, -3.64, -3.70, 12.57, 3.92, -1.89, -5.04, 8.33, 5.29, 2.87, 16.94, 8.46, 10.94, 16.97, -3.66, 16.73, -8.27, -1.01, 14.84, -4.84, 6.93, 1.36, -4.49, -7.65, 9.74\n",
      "    True sol: 0, 0, 0, 0, 1, 1, 0, 0, 0, 0, 0, 0, 1, 0, 0, 0, 0, 0, -0, 0, 1, 0, 0, 1, 0, 0, 1, 0, 0, 0, 0, 0, 0, 0, 0, 0, 1, 0, 1, 0, 0, 0, 0, 0, 0, 0, 0, 0, True obj: 51.00\n",
      "    Pred sol: 0, 0, 0, 0, 1, 1, 0, 0, 0, 0, 0, 0, 1, 0, 0, 0, 1, 0, 0, 0, 0, 0, 0, 1, 0, 0, 1, 0, 0, 0, 0, 0, 0, 0, 0, 0, 1, 0, 1, 0, 0, 0, 0, 0, 0, 0, 0, 0, Pred obj: 51.00\n",
      "\n",
      "Sample 9:\n",
      "    True cost: 22.00, 12.00, 8.00, 22.00, 6.00, 10.00, 3.00, 6.00, 18.00, 12.00, 28.00, 7.00, 10.00, 17.00, 22.00, 19.00, 7.00, 23.00, 19.00, 7.00, 18.00, 8.00, 19.00, 15.00, 27.00, 12.00, 15.00, 22.00, 12.00, 20.00, 6.00, 16.00, 19.00, 4.00, 5.00, 11.00, 5.00, 27.00, 5.00, 20.00, 27.00, 6.00, 28.00, 9.00, 22.00, 27.00, 20.00, 15.00\n",
      "    Pred cost: 17.08, 7.43, -1.16, 14.16, 2.60, 4.46, -7.98, 0.37, 14.39, 3.73, 19.78, 2.00, 7.14, 13.27, 3.33, 15.62, 4.00, 16.65, -0.89, 2.05, 14.89, 2.66, 15.28, 11.42, 19.85, 7.39, 11.52, 17.20, 8.78, 16.46, 0.70, 12.72, 14.73, -5.03, -0.70, 7.70, -3.43, 21.08, -1.45, 16.51, 18.56, -1.46, 20.05, 6.66, 12.37, 19.46, 16.02, 11.31\n",
      "    True sol: 0, 0, 0, 0, 0, 0, 0, 0, 0, 0, 1, 0, 0, 1, 0, 0, 0, 0, 0, 0, 1, 0, 0, 0, 1, 0, 0, 1, 0, 1, 0, 1, 0, 0, 0, 0, 0, 1, 0, 0, 0, 0, 1, 0, 0, 0, 0, 0, True obj: 203.00\n",
      "    Pred sol: 0, 0, 0, 0, 0, 0, 0, 0, 0, 0, 1, 0, 0, 1, 0, 0, 0, 0, 0, 0, 1, 0, 0, 0, 1, 0, 0, 1, 0, 1, 0, 1, 0, 0, 0, 0, 0, 1, 0, 0, 0, 0, 1, 0, 0, 0, 0, 0, Pred obj: 203.00\n",
      "\n"
     ]
    }
   ],
   "source": [
    "reg.eval()\n",
    "# compare solutions\n",
    "for i, data in enumerate(ks_loader_test):\n",
    "    # load data\n",
    "    x, c, w, z = data\n",
    "    # cuda\n",
    "    if torch.cuda.is_available():\n",
    "        x, c, w, z = x.cuda(), c.cuda(), w.cuda(), z.cuda()\n",
    "    # predict\n",
    "    cp = reg(x)\n",
    "    # convert to numpy\n",
    "    x = x.to('cpu').detach().numpy()\n",
    "    c = c.to('cpu').detach().numpy()\n",
    "    w = w.to('cpu').detach().numpy()\n",
    "    z = z.to('cpu').detach().numpy()\n",
    "    for j in range(min(10, batch_size)):\n",
    "        print('Sample {}:'.format(j))\n",
    "        print('    True cost:', ', '.join(['{:.2f}'.format(-cost) for cost in c[j]]))\n",
    "        print('    Pred cost:', ', '.join(['{:.2f}'.format(-cost) for cost in cp[j]]))\n",
    "        # solve cost from prediction\n",
    "        ks_model.setObj(cp[j])\n",
    "        wpj, _ = ks_model.solve()\n",
    "        zpj = np.dot(c[j], wpj)\n",
    "        print('    True sol: ' + ', '.join(['{:.0f}'.format(x) for x in w[j]]) + ', True obj: {:.2f}'.format(-z[j,0]))\n",
    "        print('    Pred sol: '+  ', '.join(['{:.0f}'.format(x) for x in wpj]) + ', Pred obj: {:.2f}'.format(-zpj))\n",
    "        print()\n",
    "    break"
   ]
  },
  {
   "cell_type": "markdown",
   "id": "abde6351",
   "metadata": {},
   "source": [
    "## SPO+ with Regularization"
   ]
  },
  {
   "cell_type": "code",
   "execution_count": 38,
   "id": "2d2ec468",
   "metadata": {},
   "outputs": [],
   "source": [
    "# init model\n",
    "reg = LinearRegression()\n",
    "# cuda\n",
    "if torch.cuda.is_available():\n",
    "    reg = reg.cuda()"
   ]
  },
  {
   "cell_type": "code",
   "execution_count": 39,
   "id": "1cf5c912",
   "metadata": {},
   "outputs": [],
   "source": [
    "# set optimizer\n",
    "optimizer = torch.optim.Adam(reg.parameters(), lr=1e-2)"
   ]
  },
  {
   "cell_type": "code",
   "execution_count": 40,
   "id": "15f8a714",
   "metadata": {},
   "outputs": [],
   "source": [
    "# init SPO+ loss\n",
    "criterion = spo.func.SPOPlus()"
   ]
  },
  {
   "cell_type": "code",
   "execution_count": 41,
   "id": "aa00927e",
   "metadata": {},
   "outputs": [
    {
     "name": "stdout",
     "output_type": "stream",
     "text": [
      "Epoch  10, Loss:  77.2793, True SPO Loss:  7.7775%, Unambiguous SPO Loss:  7.7775%\n",
      "Epoch  20, Loss:   8.4025, True SPO Loss:  1.8487%, Unambiguous SPO Loss:  1.8487%\n",
      "Epoch  30, Loss:  20.4018, True SPO Loss:  1.1288%, Unambiguous SPO Loss:  1.1288%\n",
      "Epoch  40, Loss:  43.5987, True SPO Loss:  0.7451%, Unambiguous SPO Loss:  0.7451%\n",
      "Epoch  50, Loss:   9.2854, True SPO Loss:  0.5726%, Unambiguous SPO Loss:  0.5726%\n",
      "Epoch  60, Loss:   2.2919, True SPO Loss:  0.4883%, Unambiguous SPO Loss:  0.4883%\n",
      "Epoch  70, Loss:   3.2798, True SPO Loss:  0.4757%, Unambiguous SPO Loss:  0.4757%\n",
      "Epoch  80, Loss:   4.3269, True SPO Loss:  0.4312%, Unambiguous SPO Loss:  0.4312%\n",
      "Epoch  90, Loss:   2.2688, True SPO Loss:  0.3788%, Unambiguous SPO Loss:  0.3788%\n",
      "Epoch 100, Loss:   2.5278, True SPO Loss:  0.3401%, Unambiguous SPO Loss:  0.3401%\n",
      "Epoch 110, Loss:   1.2568, True SPO Loss:  0.3478%, Unambiguous SPO Loss:  0.3478%\n",
      "Epoch 120, Loss:  13.7318, True SPO Loss:  0.3314%, Unambiguous SPO Loss:  0.3314%\n",
      "Epoch 130, Loss:   1.7786, True SPO Loss:  0.2868%, Unambiguous SPO Loss:  0.2868%\n",
      "Epoch 140, Loss:   4.0952, True SPO Loss:  0.2820%, Unambiguous SPO Loss:  0.2820%\n",
      "Epoch 150, Loss:   2.2618, True SPO Loss:  0.2839%, Unambiguous SPO Loss:  0.2839%\n",
      "Epoch 160, Loss:   1.5205, True SPO Loss:  0.2829%, Unambiguous SPO Loss:  0.2829%\n",
      "Epoch 170, Loss:   1.6945, True SPO Loss:  0.2771%, Unambiguous SPO Loss:  0.2771%\n",
      "Epoch 180, Loss:   3.1522, True SPO Loss:  0.2820%, Unambiguous SPO Loss:  0.2820%\n",
      "Epoch 190, Loss:   1.9199, True SPO Loss:  0.2955%, Unambiguous SPO Loss:  0.2955%\n",
      "Epoch 200, Loss:   1.0009, True SPO Loss:  0.2568%, Unambiguous SPO Loss:  0.2568%\n",
      "Epoch 210, Loss:   1.2698, True SPO Loss:  0.2587%, Unambiguous SPO Loss:  0.2587%\n",
      "Epoch 220, Loss:   2.3713, True SPO Loss:  0.2655%, Unambiguous SPO Loss:  0.2655%\n",
      "Epoch 230, Loss:   0.3657, True SPO Loss:  0.2519%, Unambiguous SPO Loss:  0.2519%\n",
      "Epoch 240, Loss:   1.5303, True SPO Loss:  0.2422%, Unambiguous SPO Loss:  0.2422%\n",
      "Epoch 250, Loss:   1.7597, True SPO Loss:  0.2616%, Unambiguous SPO Loss:  0.2616%\n",
      "Epoch 260, Loss:   5.7927, True SPO Loss:  0.2345%, Unambiguous SPO Loss:  0.2345%\n",
      "Epoch 270, Loss:   1.4779, True SPO Loss:  0.2878%, Unambiguous SPO Loss:  0.2878%\n",
      "Epoch 280, Loss:   1.7482, True SPO Loss:  0.2364%, Unambiguous SPO Loss:  0.2364%\n",
      "Epoch 290, Loss:   1.9416, True SPO Loss:  0.2364%, Unambiguous SPO Loss:  0.2364%\n",
      "Epoch 300, Loss:   1.0970, True SPO Loss:  0.2684%, Unambiguous SPO Loss:  0.2684%\n"
     ]
    }
   ],
   "source": [
    "# train model\n",
    "num_epochs = 300\n",
    "reg.train()\n",
    "loss_log = []\n",
    "loss_log_truespo = []\n",
    "loss_log_unambspo = []\n",
    "for epoch in range(num_epochs):\n",
    "    # load data\n",
    "    for i, data in enumerate(ks_loader_train):\n",
    "        x, c, w, z = data\n",
    "        # cuda\n",
    "        if torch.cuda.is_available():\n",
    "            x, c, w, z = x.cuda(), c.cuda(), w.cuda(), z.cuda()\n",
    "        # forward pass\n",
    "        cp = reg(x)\n",
    "        loss = criterion.apply(ks_model, cp, c, w, z).mean()\n",
    "        # l1 reg\n",
    "        l1_lambda = 1e-3\n",
    "        l1_reg = torch.abs(cp - c).sum(dim=1).mean()\n",
    "        loss += l1_lambda * l1_reg\n",
    "        # backward pass\n",
    "        optimizer.zero_grad()\n",
    "        loss.backward()\n",
    "        optimizer.step()\n",
    "    loss_log.append(loss.item())\n",
    "    if (epoch + 1) % 10 == 0:\n",
    "        # true SPO\n",
    "        trueloss = spo.eval.trueSPO(reg, ks_model, ks_loader_test)\n",
    "        loss_log_truespo.append(trueloss)\n",
    "        # unambiguous SPO \n",
    "        unambloss = spo.eval.unambSPO(reg, ks_model, ks_loader_test)\n",
    "        loss_log_unambspo.append(unambloss)\n",
    "        print('Epoch {:3}, Loss: {:8.4f}, True SPO Loss: {:7.4f}%, Unambiguous SPO Loss: {:7.4f}%'. \\\n",
    "              format(epoch+1, loss.item(), trueloss*100, unambloss*100))"
   ]
  },
  {
   "cell_type": "code",
   "execution_count": 42,
   "id": "f10ca3d4",
   "metadata": {},
   "outputs": [
    {
     "data": {
      "image/png": "[encoded data removed]",
      "text/plain": [
       "<Figure size 864x432 with 1 Axes>"
      ]
     },
     "metadata": {
      "needs_background": "light"
     },
     "output_type": "display_data"
    }
   ],
   "source": [
    "# draw plot\n",
    "plt.figure(figsize=(12, 6))\n",
    "plt.plot(loss_log, color='c')\n",
    "plt.xlabel('Epoch')\n",
    "plt.ylabel('SPO+ Loss')\n",
    "plt.title('Learning Curve')\n",
    "plt.show()"
   ]
  },
  {
   "cell_type": "code",
   "execution_count": 43,
   "id": "c06fd291",
   "metadata": {},
   "outputs": [
    {
     "data": {
      "image/png": "[encoded data removed]",
      "text/plain": [
       "<Figure size 864x432 with 1 Axes>"
      ]
     },
     "metadata": {
      "needs_background": "light"
     },
     "output_type": "display_data"
    }
   ],
   "source": [
    "# draw plot\n",
    "plt.figure(figsize=(12, 6))\n",
    "plt.plot(range(0, num_epochs, 10), loss_log_truespo, color='m', alpha=0.7, label='True SPO')\n",
    "plt.plot(range(0, num_epochs, 10), loss_log_unambspo, color='b', alpha=0.7, label='Unambiguous SPO')\n",
    "plt.xlabel('Epoch')\n",
    "plt.ylabel('Loss')\n",
    "plt.title('Learning Curve')\n",
    "plt.legend()\n",
    "plt.show()"
   ]
  },
  {
   "cell_type": "code",
   "execution_count": 44,
   "id": "12d40ef0",
   "metadata": {},
   "outputs": [
    {
     "name": "stdout",
     "output_type": "stream",
     "text": [
      "Normalized true SPO Loss: 0.27%\n",
      "Normalized unambiguous SPO Loss: 0.27%\n"
     ]
    }
   ],
   "source": [
    "# evaluate\n",
    "spoloss = spo.eval.trueSPO(reg, ks_model, ks_loader_test)\n",
    "print('Normalized true SPO Loss: {:.2f}%'.format(spoloss * 100))\n",
    "spoloss = spo.eval.unambSPO(reg, ks_model, ks_loader_test)\n",
    "print('Normalized unambiguous SPO Loss: {:.2f}%'.format(spoloss * 100))"
   ]
  },
  {
   "cell_type": "code",
   "execution_count": 45,
   "id": "bcb60bb1",
   "metadata": {
    "scrolled": false
   },
   "outputs": [
    {
     "name": "stdout",
     "output_type": "stream",
     "text": [
      "Sample 0:\n",
      "    True cost: 3.00, 6.00, 12.00, 3.00, 6.00, 9.00, 6.00, 10.00, 5.00, 6.00, 8.00, 3.00, 9.00, 13.00, 3.00, 9.00, 7.00, 6.00, 9.00, 7.00, 5.00, 12.00, 9.00, 4.00, 4.00, 6.00, 4.00, 3.00, 6.00, 16.00, 5.00, 7.00, 10.00, 13.00, 16.00, 16.00, 2.00, 4.00, 2.00, 16.00, 4.00, 6.00, 8.00, 2.00, 3.00, 4.00, 16.00, 8.00\n",
      "    Pred cost: -1.08, 5.65, 13.63, 2.88, 6.17, 9.60, 6.79, 10.93, 3.17, 6.60, 7.88, -0.38, 9.57, 13.59, 2.26, 9.70, 7.60, 6.10, 10.17, 7.56, 4.31, 14.02, 9.38, 1.86, -1.11, 4.72, 2.32, -0.91, 4.86, 18.45, 2.92, 7.32, 9.91, 13.44, 15.50, 16.25, -4.51, -0.79, -1.70, 17.80, 3.71, 5.49, 8.16, -1.91, 1.49, -0.16, 17.25, 8.06\n",
      "    True sol: 0, 0, 0, 0, 0, 0, 0, 0, 0, 0, 0, 0, 1, 1, 0, 0, 0, 0, 0, 0, 0, 1, 0, 0, 0, 0, 0, 0, 0, 1, 0, 0, 0, 0, 1, 1, 0, 0, 0, 1, 0, 0, 0, 0, 0, 0, 1, 0, True obj: 114.00\n",
      "    Pred sol: 0, 0, 0, 0, 0, 0, 0, 0, 0, 0, 0, 0, 1, 1, 0, 0, 0, 0, 0, 0, 0, 1, 0, 0, 0, 0, 0, 0, 0, 1, 0, 0, 0, 0, 1, 1, 0, 0, 0, 1, 0, 0, 0, 0, 0, 0, 1, 0, Pred obj: 114.00\n",
      "\n",
      "Sample 1:\n",
      "    True cost: 10.00, 3.00, 3.00, 10.00, 6.00, 20.00, 6.00, 3.00, 18.00, 3.00, 10.00, 5.00, 20.00, 11.00, 10.00, 11.00, 5.00, 10.00, 11.00, 5.00, 18.00, 3.00, 11.00, 18.00, 10.00, 3.00, 18.00, 10.00, 3.00, 11.00, 3.00, 11.00, 18.00, 7.00, 6.00, 21.00, 6.00, 10.00, 6.00, 11.00, 10.00, 6.00, 10.00, 3.00, 10.00, 10.00, 11.00, 18.00\n",
      "    Pred cost: 9.87, -1.10, -2.62, 12.02, 5.95, 19.35, 5.81, -0.20, 16.90, -0.26, 9.51, 3.27, 17.62, 10.92, 10.16, 11.65, 4.96, 9.47, 11.57, 4.14, 16.04, -0.50, 11.77, 15.74, 8.82, -2.25, 16.00, 10.00, -2.54, 10.91, -2.43, 10.83, 16.33, 7.08, 5.45, 18.32, 2.25, 8.64, 3.67, 10.55, 11.94, 5.34, 9.39, -0.71, 8.35, 8.67, 11.01, 16.14\n",
      "    True sol: 0, 0, 0, 0, 0, 1, 0, 0, 0, 0, 0, 0, 1, 1, 0, 0, 0, 0, 0, 0, 1, 0, 0, 1, 0, 0, 1, 0, 0, 1, 0, 1, 0, 0, 0, 1, 0, 0, 0, 0, 0, 0, 0, 0, 0, 0, 0, 0, True obj: 148.00\n",
      "    Pred sol: 0, 0, 0, 0, 0, 1, 0, 0, 0, 0, 0, 0, 1, 1, 0, 0, 0, 0, 0, 0, 1, 0, 0, 1, 0, 0, 1, 0, 0, 1, 0, 1, 0, 0, 0, 1, 0, 0, 0, 0, 0, 0, 0, 0, 0, 0, 0, 0, Pred obj: 148.00\n",
      "\n",
      "Sample 2:\n",
      "    True cost: 6.00, 4.00, 11.00, 6.00, 6.00, 17.00, 7.00, 10.00, 8.00, 4.00, 12.00, 3.00, 17.00, 24.00, 6.00, 14.00, 6.00, 11.00, 14.00, 6.00, 8.00, 11.00, 14.00, 8.00, 6.00, 4.00, 8.00, 6.00, 4.00, 25.00, 5.00, 13.00, 15.00, 13.00, 14.00, 29.00, 3.00, 6.00, 3.00, 25.00, 6.00, 6.00, 12.00, 2.00, 6.00, 6.00, 25.00, 14.00\n",
      "    Pred cost: 4.45, 2.67, 9.94, 7.37, 5.50, 16.20, 5.85, 9.72, 7.47, 3.62, 10.91, -3.33, 15.15, 18.27, 6.15, 14.27, 5.35, 11.65, 13.57, 4.55, 7.88, 11.10, 14.07, 6.84, 3.10, 1.48, 7.42, 4.31, 1.59, 21.90, 1.61, 12.62, 13.81, 12.49, 12.89, 21.85, -6.08, 2.87, -3.04, 22.45, 7.17, 4.10, 11.15, -3.06, 5.06, 3.61, 21.70, 13.05\n",
      "    True sol: 0, 0, 0, 0, 0, 1, 0, 0, 0, 0, 0, 0, 1, 1, 0, 0, 0, 0, 0, 0, 0, 0, 0, 0, 0, 0, 0, 0, 0, 1, 0, 1, 0, 0, 0, 1, 0, 0, 0, 1, 0, 0, 0, 0, 0, 0, 1, 0, True obj: 175.00\n",
      "    Pred sol: 0, 0, 0, 0, 0, 1, 0, 0, 0, 0, 0, 0, 1, 1, 0, 0, 0, 0, 0, 0, 0, 0, 0, 0, 0, 0, 0, 0, 0, 1, 0, 1, 0, 0, 0, 1, 0, 0, 0, 1, 0, 0, 0, 0, 0, 0, 1, 0, Pred obj: 175.00\n",
      "\n",
      "Sample 3:\n",
      "    True cost: 3.00, 8.00, 13.00, 3.00, 6.00, 5.00, 7.00, 10.00, 4.00, 8.00, 6.00, 5.00, 5.00, 8.00, 3.00, 7.00, 8.00, 4.00, 7.00, 8.00, 4.00, 13.00, 7.00, 3.00, 4.00, 8.00, 3.00, 3.00, 8.00, 11.00, 7.00, 5.00, 6.00, 10.00, 13.00, 8.00, 4.00, 4.00, 4.00, 11.00, 4.00, 6.00, 6.00, 4.00, 3.00, 4.00, 11.00, 4.00\n",
      "    Pred cost: -0.44, 8.84, 14.96, 2.64, 6.48, 4.64, 8.03, 11.34, 1.91, 9.60, 6.24, 4.12, 5.51, 9.34, 2.71, 8.04, 8.37, 3.10, 8.98, 8.69, 2.97, 14.73, 7.81, 0.19, 0.32, 8.35, 0.43, -0.48, 8.21, 13.75, 7.00, 5.67, 5.35, 12.05, 14.23, 8.98, -0.08, 0.91, 1.84, 12.00, 4.64, 6.52, 6.38, 2.94, 2.29, 1.21, 11.89, 3.48\n",
      "    True sol: 0, 0, 0, 0, 0, 0, 0, 1, 0, 0, 0, 0, 0, 1, 0, 0, 1, 0, 0, 0, 0, 1, 0, 0, 0, 0, 0, 0, 0, 1, 0, 0, 0, 0, 1, 0, 0, 0, 0, 1, 0, 0, 0, 0, 0, 0, 1, 0, True obj: 85.00\n",
      "    Pred sol: 0, 0, 0, 0, 0, 0, 0, 1, 0, 0, 0, 0, 0, 1, 0, 0, 1, 0, 0, 0, 0, 1, 0, 0, 0, 0, 0, 0, 0, 1, 0, 0, 0, 0, 1, 0, 0, 0, 0, 1, 0, 0, 0, 0, 0, 0, 1, 0, Pred obj: 85.00\n",
      "\n",
      "Sample 4:\n",
      "    True cost: 26.00, 11.00, 17.00, 26.00, 6.00, 24.00, 17.00, 16.00, 18.00, 11.00, 17.00, 12.00, 24.00, 23.00, 26.00, 41.00, 6.00, 15.00, 41.00, 6.00, 18.00, 17.00, 41.00, 16.00, 29.00, 11.00, 16.00, 26.00, 11.00, 25.00, 27.00, 37.00, 10.00, 9.00, 10.00, 14.00, 11.00, 29.00, 11.00, 25.00, 29.00, 6.00, 17.00, 18.00, 26.00, 29.00, 25.00, 9.00\n",
      "    Pred cost: 19.26, 8.40, 12.41, 16.56, 4.13, 16.84, 13.00, 11.18, 14.21, 9.04, 11.87, 8.84, 16.15, 15.25, 16.52, 25.86, 3.74, 11.30, 21.78, 2.95, 12.57, 12.36, 26.17, 11.13, 20.04, 8.31, 11.16, 16.95, 7.39, 17.68, 18.11, 22.21, 6.30, 8.08, 7.29, 9.55, 6.66, 19.31, 6.89, 17.29, 20.34, 3.74, 11.51, 12.41, 16.35, 19.27, 17.29, 5.64\n",
      "    True sol: 0, 0, 0, 0, 0, 0, 0, 0, 0, 0, 0, 0, 1, 1, 0, 1, 0, 0, 0, 0, 1, 0, 1, 0, 0, 0, 0, 1, 0, 1, 0, 1, 0, 0, 0, 0, 0, 0, 0, 0, 0, 0, 0, 0, 0, 0, 0, 0, True obj: 235.00\n",
      "    Pred sol: 0, 0, 0, 0, 0, 0, 0, 0, 0, 0, 0, 0, 1, 1, 0, 0, 0, 0, 0, 0, 1, 0, 0, 0, 0, 0, 0, 1, 0, 1, 1, 1, 0, 0, 0, 0, 0, 1, 0, 0, 0, 0, 0, 0, 0, 0, 1, 0, Pred obj: 234.00\n",
      "\n",
      "Sample 5:\n",
      "    True cost: 12.00, 2.00, 1.00, 12.00, 6.00, 14.00, 12.00, 3.00, 7.00, 2.00, 2.00, 6.00, 14.00, 4.00, 12.00, 4.00, 2.00, 5.00, 4.00, 2.00, 7.00, 1.00, 4.00, 16.00, 5.00, 2.00, 16.00, 12.00, 2.00, 2.00, 9.00, 10.00, 3.00, 5.00, 2.00, 6.00, 14.00, 5.00, 14.00, 2.00, 5.00, 6.00, 2.00, 10.00, 12.00, 5.00, 2.00, 7.00\n",
      "    Pred cost: 15.05, -2.58, -7.58, 13.45, 7.61, 16.43, 15.07, 2.81, 9.87, -1.47, -2.37, 7.44, 15.96, 4.54, 12.84, 2.92, 0.72, 4.05, 5.66, -1.07, 9.60, -5.82, 3.28, 16.92, 5.10, -3.26, 16.51, 14.40, -4.57, -6.84, 11.29, 12.97, -1.68, 7.54, -2.14, 7.01, 15.54, 5.48, 15.43, -9.80, 8.89, 8.54, -3.06, 11.47, 11.39, 4.79, -7.95, 8.48\n",
      "    True sol: 0, 0, 0, 0, 0, 1, 0, 0, 0, 0, 0, 0, 1, 0, 0, 0, 0, -0, 0, 0, 1, 0, 0, 1, 0, 0, 1, 1, 0, 0, 0, 1, 0, 0, 0, 0, 0, 0, 1, 0, 0, 0, 0, 1, 0, 0, 0, 0, True obj: 113.00\n",
      "    Pred sol: 0, 0, 0, 0, 0, 1, 0, 0, 0, 0, 0, 0, 1, 0, 0, 0, 0, 0, 0, 0, 1, 0, 0, 1, 0, 0, 1, 1, 0, 0, 0, 1, 0, 0, 0, 0, 0, 0, 1, 0, 0, 0, 0, 1, 0, 0, 0, 0, Pred obj: 113.00\n",
      "\n",
      "Sample 6:\n",
      "    True cost: 1.00, 7.00, 3.00, 1.00, 6.00, 1.00, 1.00, 2.00, 2.00, 7.00, 3.00, 4.00, 1.00, 1.00, 1.00, 1.00, 9.00, 2.00, 1.00, 9.00, 2.00, 3.00, 1.00, 1.00, 1.00, 7.00, 1.00, 1.00, 7.00, 2.00, 1.00, 1.00, 5.00, 3.00, 5.00, 1.00, 2.00, 1.00, 2.00, 2.00, 1.00, 6.00, 3.00, 2.00, 1.00, 1.00, 2.00, 3.00\n",
      "    Pred cost: -8.75, 11.80, 4.81, -2.69, 9.10, -12.28, -4.29, 0.72, 0.50, 11.51, 5.84, 7.67, -9.19, -4.84, -2.35, -11.73, 13.03, -1.78, -4.84, 14.49, 1.89, 5.22, -11.78, -2.18, -5.14, 11.53, -2.12, -6.35, 11.57, -1.11, -8.10, -13.08, 7.64, 4.03, 7.83, -2.26, 1.85, -3.34, 3.04, -5.10, -0.12, 10.13, 6.11, 0.93, -3.44, -3.64, -3.89, 3.29\n",
      "    True sol: 0, 0, 0, 0, 1, 0, 0, 0, 0, 0, 1, 0, 0, 0, 0, 0, 1, 0, 0, 1, 0, 0, 0, 0, 0, 1, 0, 0, 1, 0, 0, 0, 0, 0, 1, 0, 0, 0, 0, 0, 0, 0, 0, 0, 0, 0, 0, 0, True obj: 46.00\n",
      "    Pred sol: 0, 1, 0, 0, 1, 0, 0, 0, 0, 0, 0, 0, 0, 0, 0, 0, 1, 0, 0, 1, 0, 0, 0, 0, 0, 0, 0, 0, 1, 0, 0, 0, 0, 0, 1, 0, 0, 0, 0, 0, 0, 0, 1, 0, 0, 0, 0, 0, Pred obj: 46.00\n",
      "\n",
      "Sample 7:\n",
      "    True cost: 4.00, 4.00, 2.00, 4.00, 6.00, 4.00, 5.00, 2.00, 7.00, 4.00, 3.00, 8.00, 4.00, 2.00, 4.00, 2.00, 6.00, 3.00, 2.00, 6.00, 7.00, 2.00, 2.00, 7.00, 4.00, 4.00, 7.00, 4.00, 4.00, 2.00, 3.00, 2.00, 5.00, 3.00, 3.00, 2.00, 8.00, 4.00, 8.00, 2.00, 4.00, 6.00, 3.00, 5.00, 4.00, 4.00, 2.00, 4.00\n",
      "    Pred cost: 4.96, 5.19, -2.23, 6.97, 7.97, 3.11, 6.00, -0.81, 9.61, 5.56, 2.78, 11.60, 4.13, -2.29, 6.71, -1.64, 7.77, -0.14, 2.18, 7.97, 9.53, -1.25, -1.41, 9.38, 4.28, 4.87, 9.13, 5.66, 4.14, -4.72, 1.58, 0.09, 4.91, 4.19, 2.48, 0.68, 11.18, 5.28, 11.03, -8.35, 7.86, 9.23, 2.47, 7.37, 5.41, 4.58, -6.61, 5.72\n",
      "    True sol: 0, 0, 0, 0, 1, 0, 0, 0, 0, 0, 0, 1, 0, 0, 0, 0, 1, -0, 0, 0, 1, 0, 0, 1, 0, 0, 1, 0, 0, 0, 0, 0, 0, 0, 0, 0, 0, 0, 1, 0, 0, 0, 0, 1, 0, 0, 0, 0, True obj: 54.00\n",
      "    Pred sol: 0, 0, 0, 0, 1, 0, 0, 0, 0, 0, 0, 1, 0, 0, 0, 0, 1, 0, 0, 0, 1, 0, 0, 1, 0, 0, 1, 0, 0, 0, 0, 0, 0, 0, 0, 0, 1, 0, 0, 0, 0, 0, 0, 1, 0, 0, 0, 0, Pred obj: 54.00\n",
      "\n",
      "Sample 8:\n",
      "    True cost: 2.00, 1.00, 1.00, 2.00, 6.00, 7.00, 9.00, 3.00, 3.00, 1.00, 1.00, 5.00, 7.00, 2.00, 2.00, 1.00, 3.00, 2.00, 1.00, 3.00, 3.00, 1.00, 1.00, 6.00, 1.00, 1.00, 6.00, 2.00, 1.00, 1.00, 4.00, 3.00, 2.00, 6.00, 4.00, 5.00, 8.00, 1.00, 8.00, 1.00, 1.00, 6.00, 1.00, 3.00, 2.00, 1.00, 1.00, 4.00\n"
     ]
    },
    {
     "name": "stdout",
     "output_type": "stream",
     "text": [
      "    Pred cost: 1.39, -2.40, -3.52, 4.01, 8.59, 11.23, 14.69, 2.84, 4.22, -0.93, -6.27, 6.89, 11.22, 0.51, 3.27, -4.75, 4.71, -3.67, -0.20, 4.05, 5.59, -2.20, -4.85, 9.97, -6.50, -3.34, 9.70, 1.94, -4.09, -7.27, 5.23, 3.16, -0.91, 11.57, 5.57, 7.66, 11.78, -5.34, 12.60, -11.04, -0.15, 9.97, -6.66, 4.68, 1.75, -5.79, -9.41, 6.39\n",
      "    True sol: 0, 0, 0, 0, 1, 1, 0, 0, 0, 0, 0, 0, 1, 0, 0, 0, 0, 0, -0, 0, 1, 0, 0, 1, 0, 0, 1, 0, 0, 0, 0, 0, 0, 0, 0, 0, 1, 0, 1, 0, 0, 0, 0, 0, 0, 0, 0, 0, True obj: 51.00\n",
      "    Pred sol: 0, 0, 0, 0, 1, 1, 0, 0, 0, 0, 0, 0, 1, 0, 0, 0, 0, 0, 0, 0, 1, 0, 0, 1, 0, 0, 1, 0, 0, 0, 0, 0, 0, 0, 0, 0, 1, 0, 1, 0, 0, 0, 0, 0, 0, 0, 0, 0, Pred obj: 51.00\n",
      "\n",
      "Sample 9:\n",
      "    True cost: 22.00, 12.00, 8.00, 22.00, 6.00, 10.00, 3.00, 6.00, 18.00, 12.00, 28.00, 7.00, 10.00, 17.00, 22.00, 19.00, 7.00, 23.00, 19.00, 7.00, 18.00, 8.00, 19.00, 15.00, 27.00, 12.00, 15.00, 22.00, 12.00, 20.00, 6.00, 16.00, 19.00, 4.00, 5.00, 11.00, 5.00, 27.00, 5.00, 20.00, 27.00, 6.00, 28.00, 9.00, 22.00, 27.00, 20.00, 15.00\n",
      "    Pred cost: 17.29, 10.33, 3.97, 16.39, 5.22, 7.18, -3.30, 3.50, 15.62, 9.73, 19.75, 4.24, 7.61, 12.81, 16.06, 15.93, 5.74, 17.94, 15.31, 5.07, 13.53, 5.23, 16.50, 11.48, 20.42, 10.12, 11.75, 16.87, 9.63, 16.24, 1.66, 12.36, 15.58, 0.05, 0.57, 8.68, 0.25, 19.90, 0.99, 16.28, 20.15, 4.05, 19.73, 7.06, 15.13, 19.85, 16.52, 12.13\n",
      "    True sol: 0, 0, 0, 0, 0, 0, 0, 0, 0, 0, 1, 0, 0, 1, 0, 0, 0, 0, 0, 0, 1, 0, 0, 0, 1, 0, 0, 1, 0, 1, 0, 1, 0, 0, 0, 0, 0, 1, 0, 0, 0, 0, 1, 0, 0, 0, 0, 0, True obj: 203.00\n",
      "    Pred sol: 0, 0, 0, 0, 0, 0, 0, 0, 0, 0, 1, 0, 0, 1, 0, 0, 0, 0, 0, 0, 1, 0, 0, 0, 1, 0, 0, 1, 0, 1, 0, 1, 0, 0, 0, 0, 0, 1, 0, 0, 0, 0, 1, 0, 0, 0, 0, 0, Pred obj: 203.00\n",
      "\n"
     ]
    }
   ],
   "source": [
    "reg.eval()\n",
    "# compare solutions\n",
    "for i, data in enumerate(ks_loader_test):\n",
    "    # load data\n",
    "    x, c, w, z = data\n",
    "    # cuda\n",
    "    if torch.cuda.is_available():\n",
    "        x, c, w, z = x.cuda(), c.cuda(), w.cuda(), z.cuda()\n",
    "    # predict\n",
    "    cp = reg(x)\n",
    "    # convert to numpy\n",
    "    x = x.to('cpu').detach().numpy()\n",
    "    c = c.to('cpu').detach().numpy()\n",
    "    w = w.to('cpu').detach().numpy()\n",
    "    z = z.to('cpu').detach().numpy()\n",
    "    for j in range(min(10, batch_size)):\n",
    "        print('Sample {}:'.format(j))\n",
    "        print('    True cost:', ', '.join(['{:.2f}'.format(-cost) for cost in c[j]]))\n",
    "        print('    Pred cost:', ', '.join(['{:.2f}'.format(-cost) for cost in cp[j]]))\n",
    "        # solve cost from prediction\n",
    "        ks_model.setObj(cp[j])\n",
    "        wpj, _ = ks_model.solve()\n",
    "        zpj = np.dot(c[j], wpj)\n",
    "        print('    True sol: ' + ', '.join(['{:.0f}'.format(x) for x in w[j]]) + ', True obj: {:.2f}'.format(-z[j,0]))\n",
    "        print('    Pred sol: '+  ', '.join(['{:.0f}'.format(x) for x in wpj]) + ', Pred obj: {:.2f}'.format(-zpj))\n",
    "        print()\n",
    "    break"
   ]
  },
  {
   "cell_type": "markdown",
   "id": "5f877615",
   "metadata": {},
   "source": [
    "## SPO+ Rel "
   ]
  },
  {
   "cell_type": "code",
   "execution_count": 46,
   "id": "d6f168f1",
   "metadata": {},
   "outputs": [],
   "source": [
    "# init model\n",
    "reg = LinearRegression()\n",
    "# cuda\n",
    "if torch.cuda.is_available():\n",
    "    reg = reg.cuda()"
   ]
  },
  {
   "cell_type": "code",
   "execution_count": 47,
   "id": "01dfe35d",
   "metadata": {},
   "outputs": [],
   "source": [
    "# set optimizer\n",
    "optimizer = torch.optim.Adam(reg.parameters(), lr=1e-2)"
   ]
  },
  {
   "cell_type": "code",
   "execution_count": 48,
   "id": "d9683aa9",
   "metadata": {},
   "outputs": [],
   "source": [
    "# init SPO+ loss\n",
    "criterion = spo.func.SPOPlus()"
   ]
  },
  {
   "cell_type": "code",
   "execution_count": 49,
   "id": "c2a99ac7",
   "metadata": {},
   "outputs": [
    {
     "name": "stdout",
     "output_type": "stream",
     "text": [
      "Epoch  10, Loss:  85.9549, True SPO Loss:  6.5102%, Unambiguous SPO Loss:  6.5102%\n",
      "Epoch  20, Loss:  12.8144, True SPO Loss:  2.1558%, Unambiguous SPO Loss:  2.1558%\n",
      "Epoch  30, Loss:  20.1874, True SPO Loss:  1.0745%, Unambiguous SPO Loss:  1.0745%\n",
      "Epoch  40, Loss:  18.9148, True SPO Loss:  0.6666%, Unambiguous SPO Loss:  0.6666%\n",
      "Epoch  50, Loss:   1.5867, True SPO Loss:  0.5242%, Unambiguous SPO Loss:  0.5242%\n",
      "Epoch  60, Loss:  19.1845, True SPO Loss:  0.4612%, Unambiguous SPO Loss:  0.4612%\n",
      "Epoch  70, Loss:   1.5143, True SPO Loss:  0.4777%, Unambiguous SPO Loss:  0.4777%\n",
      "Epoch  80, Loss:   0.8740, True SPO Loss:  0.4069%, Unambiguous SPO Loss:  0.4069%\n",
      "Epoch  90, Loss:   3.5694, True SPO Loss:  0.3633%, Unambiguous SPO Loss:  0.3633%\n",
      "Epoch 100, Loss:  12.5688, True SPO Loss:  0.3585%, Unambiguous SPO Loss:  0.3585%\n",
      "Epoch 110, Loss:   0.9426, True SPO Loss:  0.3449%, Unambiguous SPO Loss:  0.3449%\n",
      "Epoch 120, Loss:   3.8207, True SPO Loss:  0.3391%, Unambiguous SPO Loss:  0.3391%\n",
      "Epoch 130, Loss:   0.4187, True SPO Loss:  0.2858%, Unambiguous SPO Loss:  0.2858%\n",
      "Epoch 140, Loss:   1.3082, True SPO Loss:  0.2829%, Unambiguous SPO Loss:  0.2829%\n",
      "Epoch 150, Loss:   0.5878, True SPO Loss:  0.2548%, Unambiguous SPO Loss:  0.2548%\n",
      "Epoch 160, Loss:   1.6340, True SPO Loss:  0.2752%, Unambiguous SPO Loss:  0.2752%\n",
      "Epoch 170, Loss:   0.9176, True SPO Loss:  0.2645%, Unambiguous SPO Loss:  0.2645%\n",
      "Epoch 180, Loss:   2.3049, True SPO Loss:  0.2258%, Unambiguous SPO Loss:  0.2258%\n",
      "Epoch 190, Loss:   1.5171, True SPO Loss:  0.2044%, Unambiguous SPO Loss:  0.2044%\n",
      "Epoch 200, Loss:   1.2208, True SPO Loss:  0.2238%, Unambiguous SPO Loss:  0.2238%\n",
      "Epoch 210, Loss:   1.4255, True SPO Loss:  0.1870%, Unambiguous SPO Loss:  0.1870%\n",
      "Epoch 220, Loss:   0.6462, True SPO Loss:  0.1822%, Unambiguous SPO Loss:  0.1822%\n",
      "Epoch 230, Loss:   0.8913, True SPO Loss:  0.1831%, Unambiguous SPO Loss:  0.1831%\n",
      "Epoch 240, Loss:   0.9591, True SPO Loss:  0.1744%, Unambiguous SPO Loss:  0.1744%\n",
      "Epoch 250, Loss:   1.6105, True SPO Loss:  0.1880%, Unambiguous SPO Loss:  0.1880%\n",
      "Epoch 260, Loss:   0.7474, True SPO Loss:  0.1802%, Unambiguous SPO Loss:  0.1802%\n",
      "Epoch 270, Loss:   0.4213, True SPO Loss:  0.1715%, Unambiguous SPO Loss:  0.1715%\n",
      "Epoch 280, Loss:   1.1599, True SPO Loss:  0.1628%, Unambiguous SPO Loss:  0.1628%\n",
      "Epoch 290, Loss:   4.6658, True SPO Loss:  0.1783%, Unambiguous SPO Loss:  0.1783%\n",
      "Epoch 300, Loss:   0.8966, True SPO Loss:  0.1502%, Unambiguous SPO Loss:  0.1502%\n"
     ]
    }
   ],
   "source": [
    "# train model\n",
    "num_epochs = 300\n",
    "reg.train()\n",
    "loss_log = []\n",
    "loss_log_truespo = []\n",
    "loss_log_unambspo = []\n",
    "for epoch in range(num_epochs):\n",
    "    # load data\n",
    "    for i, data in enumerate(ks_loader_train_rel):\n",
    "        x, c, w, z = data\n",
    "        # cuda\n",
    "        if torch.cuda.is_available():\n",
    "            x, c, w, z = x.cuda(), c.cuda(), w.cuda(), z.cuda()\n",
    "        # forward pass\n",
    "        cp = reg(x)\n",
    "        loss = criterion.apply(ks_model_rel, cp, c, w, z).mean()\n",
    "        # backward pass\n",
    "        optimizer.zero_grad()\n",
    "        loss.backward()\n",
    "        optimizer.step()\n",
    "    loss_log.append(loss.item())\n",
    "    if (epoch + 1) % 10 == 0:\n",
    "        # true SPO\n",
    "        trueloss = spo.eval.trueSPO(reg, ks_model, ks_loader_test)\n",
    "        loss_log_truespo.append(trueloss)\n",
    "        # unambiguous SPO \n",
    "        unambloss = spo.eval.unambSPO(reg, ks_model, ks_loader_test)\n",
    "        loss_log_unambspo.append(unambloss)\n",
    "        print('Epoch {:3}, Loss: {:8.4f}, True SPO Loss: {:7.4f}%, Unambiguous SPO Loss: {:7.4f}%'. \\\n",
    "              format(epoch+1, loss.item(), trueloss*100, unambloss*100))"
   ]
  },
  {
   "cell_type": "code",
   "execution_count": 50,
   "id": "a64ef7de",
   "metadata": {},
   "outputs": [
    {
     "data": {
      "image/png": "[encoded data removed]",
      "text/plain": [
       "<Figure size 864x432 with 1 Axes>"
      ]
     },
     "metadata": {
      "needs_background": "light"
     },
     "output_type": "display_data"
    }
   ],
   "source": [
    "# draw plot\n",
    "plt.figure(figsize=(12, 6))\n",
    "plt.plot(loss_log, color='c')\n",
    "plt.xlabel('Epoch')\n",
    "plt.ylabel('SPO+ Loss')\n",
    "plt.title('Learning Curve')\n",
    "plt.show()"
   ]
  },
  {
   "cell_type": "code",
   "execution_count": 51,
   "id": "639c47aa",
   "metadata": {},
   "outputs": [
    {
     "data": {
      "image/png": "[encoded data removed]",
      "text/plain": [
       "<Figure size 864x432 with 1 Axes>"
      ]
     },
     "metadata": {
      "needs_background": "light"
     },
     "output_type": "display_data"
    }
   ],
   "source": [
    "# draw plot\n",
    "plt.figure(figsize=(12, 6))\n",
    "plt.plot(range(0, num_epochs, 10), loss_log_truespo, color='m', alpha=0.7, label='True SPO')\n",
    "plt.plot(range(0, num_epochs, 10), loss_log_unambspo, color='b', alpha=0.7, label='Unambiguous SPO')\n",
    "plt.xlabel('Epoch')\n",
    "plt.ylabel('Loss')\n",
    "plt.title('Learning Curve')\n",
    "plt.legend()\n",
    "plt.show()"
   ]
  },
  {
   "cell_type": "code",
   "execution_count": 52,
   "id": "97bedf4b",
   "metadata": {
    "scrolled": false
   },
   "outputs": [
    {
     "name": "stdout",
     "output_type": "stream",
     "text": [
      "Sample 0:\n",
      "    True cost: 3.00, 6.00, 12.00, 3.00, 6.00, 9.00, 6.00, 10.00, 5.00, 6.00, 8.00, 3.00, 9.00, 13.00, 3.00, 9.00, 7.00, 6.00, 9.00, 7.00, 5.00, 12.00, 9.00, 4.00, 4.00, 6.00, 4.00, 3.00, 6.00, 16.00, 5.00, 7.00, 10.00, 13.00, 16.00, 16.00, 2.00, 4.00, 2.00, 16.00, 4.00, 6.00, 8.00, 2.00, 3.00, 4.00, 16.00, 8.00\n",
      "    Pred cost: -5.36, 1.01, 13.76, -1.63, 6.69, 9.32, 4.40, 11.74, -1.48, 2.12, 9.29, -5.69, 9.84, 14.75, -2.71, 8.12, 8.25, 1.99, 5.55, 7.49, 3.70, 14.13, 8.33, 1.19, -2.13, 1.64, 1.27, -1.55, 3.88, 19.67, 2.07, 6.35, 9.83, 14.39, 17.23, 17.55, -6.63, -1.48, -3.46, 19.22, -0.34, 4.38, 9.32, -3.41, -0.59, -2.28, 19.09, 8.09\n",
      "    True sol: 0, 0, 0, 0, 0, 0, 0, 0, 0, 0, 0, 0, 1, 1, 0, 0, 0, 0, 0, 0, 0, 1, 0, 0, 0, 0, 0, 0, 0, 1, 0, 0, 0, 0, 1, 1, 0, 0, 0, 1, 0, 0, 0, 0, 0, 0, 1, 0, True obj: 114.00\n",
      "    Pred sol: 0, 0, 0, 0, 0, 0, 0, 0, 0, 0, 0, 0, 1, 1, 0, 0, 0, 0, 0, 0, 0, 1, 0, 0, 0, 0, 0, 0, 0, 1, 0, 0, 0, 0, 1, 1, 0, 0, 0, 1, 0, 0, 0, 0, 0, 0, 1, 0, Pred obj: 114.00\n",
      "\n",
      "Sample 1:\n",
      "    True cost: 10.00, 3.00, 3.00, 10.00, 6.00, 20.00, 6.00, 3.00, 18.00, 3.00, 10.00, 5.00, 20.00, 11.00, 10.00, 11.00, 5.00, 10.00, 11.00, 5.00, 18.00, 3.00, 11.00, 18.00, 10.00, 3.00, 18.00, 10.00, 3.00, 11.00, 3.00, 11.00, 18.00, 7.00, 6.00, 21.00, 6.00, 10.00, 6.00, 11.00, 10.00, 6.00, 10.00, 3.00, 10.00, 10.00, 11.00, 18.00\n",
      "    Pred cost: 8.85, -8.57, -8.53, 1.31, 5.74, 19.76, 2.40, -1.16, 17.20, -8.26, 9.81, -1.45, 18.22, 11.77, 8.23, 9.37, 4.84, 8.24, 7.61, 2.99, 17.33, -5.08, 9.54, 16.29, 8.96, -8.82, 16.12, 10.46, -7.02, 11.91, -4.62, 10.61, 17.72, 3.12, 5.11, 19.27, 1.82, 9.87, 3.17, 10.56, 8.51, 3.12, 9.74, -1.82, 8.56, 8.64, 11.28, 17.54\n",
      "    True sol: 0, 0, 0, 0, 0, 1, 0, 0, 0, 0, 0, 0, 1, 1, 0, 0, 0, 0, 0, 0, 1, 0, 0, 1, 0, 0, 1, 0, 0, 1, 0, 1, 0, 0, 0, 1, 0, 0, 0, 0, 0, 0, 0, 0, 0, 0, 0, 0, True obj: 148.00\n",
      "    Pred sol: 0, 0, 0, 0, 0, 1, 0, 0, 0, 0, 0, 0, 1, 1, 0, 0, 0, 0, 0, 0, 1, 0, 0, 1, 0, 0, 1, 0, 0, 1, 0, 1, 0, 0, 0, 1, 0, 0, 0, 0, 0, 0, 0, 0, 0, 0, 0, 0, Pred obj: 148.00\n",
      "\n",
      "Sample 2:\n",
      "    True cost: 6.00, 4.00, 11.00, 6.00, 6.00, 17.00, 7.00, 10.00, 8.00, 4.00, 12.00, 3.00, 17.00, 24.00, 6.00, 14.00, 6.00, 11.00, 14.00, 6.00, 8.00, 11.00, 14.00, 8.00, 6.00, 4.00, 8.00, 6.00, 4.00, 25.00, 5.00, 13.00, 15.00, 13.00, 14.00, 29.00, 3.00, 6.00, 3.00, 25.00, 6.00, 6.00, 12.00, 2.00, 6.00, 6.00, 25.00, 14.00\n",
      "    Pred cost: -0.82, -6.18, 6.13, -1.52, 4.39, 14.68, 0.06, 8.70, 1.04, -5.80, 11.26, -12.91, 14.25, 18.86, 0.45, 10.90, 4.33, 6.15, 5.90, 1.26, 6.49, 8.13, 11.04, 5.24, 0.21, -5.62, 5.20, 2.71, -2.63, 22.43, -1.54, 10.69, 12.27, 9.61, 12.28, 22.08, -10.52, 1.48, -6.46, 22.19, 1.09, 0.00, 11.23, -6.00, 1.08, 0.11, 22.33, 12.24\n",
      "    True sol: 0, 0, 0, 0, 0, 1, 0, 0, 0, 0, 0, 0, 1, 1, 0, 0, 0, 0, 0, 0, 0, 0, 0, 0, 0, 0, 0, 0, 0, 1, 0, 1, 0, 0, 0, 1, 0, 0, 0, 1, 0, 0, 0, 0, 0, 0, 1, 0, True obj: 175.00\n",
      "    Pred sol: 0, 0, 0, 0, 0, 1, 0, 0, 0, 0, 1, 0, 1, 1, 0, 0, 0, 0, 0, 0, 0, 0, 0, 0, 0, 0, 0, 0, 0, 1, 0, 0, 0, 0, 0, 1, 0, 0, 0, 1, 0, 0, 0, 0, 0, 0, 1, 0, Pred obj: 174.00\n",
      "\n",
      "Sample 3:\n",
      "    True cost: 3.00, 8.00, 13.00, 3.00, 6.00, 5.00, 7.00, 10.00, 4.00, 8.00, 6.00, 5.00, 5.00, 8.00, 3.00, 7.00, 8.00, 4.00, 7.00, 8.00, 4.00, 13.00, 7.00, 3.00, 4.00, 8.00, 3.00, 3.00, 8.00, 11.00, 7.00, 5.00, 6.00, 10.00, 13.00, 8.00, 4.00, 4.00, 4.00, 11.00, 4.00, 6.00, 6.00, 4.00, 3.00, 4.00, 11.00, 4.00\n",
      "    Pred cost: -2.07, 8.80, 18.21, 3.09, 8.28, 5.93, 9.17, 13.83, -0.51, 10.27, 8.38, 3.39, 7.00, 11.05, 0.56, 8.92, 10.31, 1.61, 8.37, 10.86, 3.51, 17.48, 9.18, 0.84, 1.61, 9.32, 0.97, 0.26, 10.11, 15.50, 8.68, 6.40, 5.89, 15.10, 17.07, 10.98, 0.69, 1.43, 2.23, 14.80, 3.87, 7.51, 8.41, 3.51, 2.63, 1.48, 14.57, 4.26\n",
      "    True sol: 0, 0, 0, 0, 0, 0, 0, 1, 0, 0, 0, 0, 0, 1, 0, 0, 1, 0, 0, 0, 0, 1, 0, 0, 0, 0, 0, 0, 0, 1, 0, 0, 0, 0, 1, 0, 0, 0, 0, 1, 0, 0, 0, 0, 0, 0, 1, 0, True obj: 85.00\n",
      "    Pred sol: 0, 0, 0, 0, 0, 0, 0, 1, 0, 0, 0, 0, 0, 1, 0, 0, 1, 0, 0, 0, 0, 1, 0, 0, 0, 0, 0, 0, 0, 1, 0, 0, 0, 0, 1, 0, 0, 0, 0, 1, 0, 0, 0, 0, 0, 0, 1, 0, Pred obj: 85.00\n",
      "\n",
      "Sample 4:\n",
      "    True cost: 26.00, 11.00, 17.00, 26.00, 6.00, 24.00, 17.00, 16.00, 18.00, 11.00, 17.00, 12.00, 24.00, 23.00, 26.00, 41.00, 6.00, 15.00, 41.00, 6.00, 18.00, 17.00, 41.00, 16.00, 29.00, 11.00, 16.00, 26.00, 11.00, 25.00, 27.00, 37.00, 10.00, 9.00, 10.00, 14.00, 11.00, 29.00, 11.00, 25.00, 29.00, 6.00, 17.00, 18.00, 26.00, 29.00, 25.00, 9.00\n",
      "    Pred cost: 19.16, 5.46, 10.86, 14.26, 3.20, 17.53, 11.93, 11.59, 10.84, 5.70, 11.98, 5.64, 16.21, 15.78, 16.76, 27.93, 3.28, 9.16, 23.69, -0.79, 12.98, 12.11, 27.94, 11.47, 20.21, 5.62, 11.32, 17.35, 5.37, 17.92, 18.49, 23.61, 1.97, 3.74, 5.16, 9.14, 6.08, 19.77, 6.58, 17.64, 18.77, -1.92, 11.72, 12.91, 13.58, 20.35, 18.10, 4.26\n",
      "    True sol: 0, 0, 0, 0, 0, 0, 0, 0, 0, 0, 0, 0, 1, 1, 0, 1, 0, 0, 0, 0, 1, 0, 1, 0, 0, 0, 0, 1, 0, 1, 0, 1, 0, 0, 0, 0, 0, 0, 0, 0, 0, 0, 0, 0, 0, 0, 0, 0, True obj: 235.00\n",
      "    Pred sol: 0, 0, 0, 0, 0, 0, 0, 0, 0, 0, 0, 0, 1, 1, 0, 0, 0, 0, 0, 0, 1, 0, 0, 0, 0, 0, 0, 1, 0, 1, 1, 1, 0, 0, 0, 0, 0, 1, 0, 0, 0, 0, 0, 0, 0, 0, 1, 0, Pred obj: 234.00\n",
      "\n",
      "Sample 5:\n",
      "    True cost: 12.00, 2.00, 1.00, 12.00, 6.00, 14.00, 12.00, 3.00, 7.00, 2.00, 2.00, 6.00, 14.00, 4.00, 12.00, 4.00, 2.00, 5.00, 4.00, 2.00, 7.00, 1.00, 4.00, 16.00, 5.00, 2.00, 16.00, 12.00, 2.00, 2.00, 9.00, 10.00, 3.00, 5.00, 2.00, 6.00, 14.00, 5.00, 14.00, 2.00, 5.00, 6.00, 2.00, 10.00, 12.00, 5.00, 2.00, 7.00\n",
      "    Pred cost: 21.53, -3.03, -7.81, 14.14, 10.97, 22.64, 22.42, 6.43, 13.85, -0.94, -0.93, 11.89, 19.35, 7.42, 20.94, 5.81, 2.84, 10.46, 8.83, 2.40, 12.61, -5.39, 6.11, 21.11, 9.51, -3.47, 20.96, 17.78, -4.48, -3.85, 15.94, 17.29, -0.30, 10.66, -0.75, 10.43, 24.02, 8.60, 20.90, -6.85, 14.64, 12.50, -1.18, 15.55, 20.48, 8.93, -5.87, 12.33\n",
      "    True sol: 0, 0, 0, 0, 0, 1, 0, 0, 0, 0, 0, 0, 1, 0, 0, 0, 0, -0, 0, 0, 1, 0, 0, 1, 0, 0, 1, 1, 0, 0, 0, 1, 0, 0, 0, 0, 0, 0, 1, 0, 0, 0, 0, 1, 0, 0, 0, 0, True obj: 113.00\n",
      "    Pred sol: 0, 0, 0, 0, 0, 1, 0, 0, 0, 0, 0, 0, 1, 0, 0, 0, 0, 0, 0, 0, 1, 0, 0, 1, 0, 0, 1, 1, 0, 0, 0, 1, 0, 0, 0, 0, 0, 0, 1, 0, 0, 0, 0, 1, 0, 0, 0, 0, Pred obj: 113.00\n",
      "\n",
      "Sample 6:\n",
      "    True cost: 1.00, 7.00, 3.00, 1.00, 6.00, 1.00, 1.00, 2.00, 2.00, 7.00, 3.00, 4.00, 1.00, 1.00, 1.00, 1.00, 9.00, 2.00, 1.00, 9.00, 2.00, 3.00, 1.00, 1.00, 1.00, 7.00, 1.00, 1.00, 7.00, 2.00, 1.00, 1.00, 5.00, 3.00, 5.00, 1.00, 2.00, 1.00, 2.00, 2.00, 1.00, 6.00, 3.00, 2.00, 1.00, 1.00, 2.00, 3.00\n",
      "    Pred cost: -4.67, 20.26, 11.87, 3.02, 14.29, -8.83, 0.48, 5.41, 5.90, 21.66, 10.38, 15.08, -4.26, -1.26, 0.03, -9.96, 18.37, 4.67, -4.12, 24.24, 6.13, 10.33, -9.34, 1.37, 1.97, 20.16, 1.66, -2.21, 19.19, 2.59, -3.63, -10.16, 15.95, 10.71, 14.72, 2.41, 8.17, 1.34, 7.51, 0.78, 6.09, 19.63, 10.76, 4.71, 5.32, 1.60, 0.17, 8.70\n",
      "    True sol: 0, 0, 0, 0, 1, 0, 0, 0, 0, 0, 1, 0, 0, 0, 0, 0, 1, 0, 0, 1, 0, 0, 0, 0, 0, 1, 0, 0, 1, 0, 0, 0, 0, 0, 1, 0, 0, 0, 0, 0, 0, 0, 0, 0, 0, 0, 0, 0, True obj: 46.00\n",
      "    Pred sol: 0, 0, 0, 0, 1, 0, 0, 0, 0, 1, 0, 0, 0, 0, 0, 0, 1, 0, 0, 1, 0, 0, 0, 0, 0, 0, 0, 0, 1, 0, 0, 0, 0, 0, 1, 0, 0, 0, 0, 0, 0, 0, 1, 0, 0, 0, 0, 0, Pred obj: 46.00\n",
      "\n",
      "Sample 7:\n",
      "    True cost: 4.00, 4.00, 2.00, 4.00, 6.00, 4.00, 5.00, 2.00, 7.00, 4.00, 3.00, 8.00, 4.00, 2.00, 4.00, 2.00, 6.00, 3.00, 2.00, 6.00, 7.00, 2.00, 2.00, 7.00, 4.00, 4.00, 7.00, 4.00, 4.00, 2.00, 3.00, 2.00, 5.00, 3.00, 3.00, 2.00, 8.00, 4.00, 8.00, 2.00, 4.00, 6.00, 3.00, 5.00, 4.00, 4.00, 2.00, 4.00\n",
      "    Pred cost: 10.79, 9.82, 0.63, 9.19, 12.13, 8.01, 12.26, 3.09, 16.34, 11.43, 5.64, 19.08, 8.49, 0.64, 11.92, 1.37, 11.72, 6.49, 6.36, 14.79, 13.96, 1.19, 1.78, 13.62, 10.82, 9.32, 13.65, 9.88, 7.91, -1.60, 6.14, 4.00, 10.23, 8.07, 6.60, 4.52, 19.07, 9.86, 16.49, -4.04, 13.62, 15.41, 5.68, 11.61, 14.07, 10.36, -3.71, 10.42\n",
      "    True sol: 0, 0, 0, 0, 1, 0, 0, 0, 0, 0, 0, 1, 0, 0, 0, 0, 1, -0, 0, 0, 1, 0, 0, 1, 0, 0, 1, 0, 0, 0, 0, 0, 0, 0, 0, 0, 0, 0, 1, 0, 0, 0, 0, 1, 0, 0, 0, 0, True obj: 54.00\n",
      "    Pred sol: 0, 0, 0, 0, 1, 0, 0, 0, 0, 0, 0, 1, 0, 0, 0, 0, 1, 0, 0, 0, 1, 0, 0, 1, 0, 0, 1, 0, 0, 0, 0, 0, 0, 0, 0, 0, 1, 0, 0, 0, 0, 0, 0, 1, 0, 0, 0, 0, Pred obj: 54.00\n",
      "\n",
      "Sample 8:\n",
      "    True cost: 2.00, 1.00, 1.00, 2.00, 6.00, 7.00, 9.00, 3.00, 3.00, 1.00, 1.00, 5.00, 7.00, 2.00, 2.00, 1.00, 3.00, 2.00, 1.00, 3.00, 3.00, 1.00, 1.00, 6.00, 1.00, 1.00, 6.00, 2.00, 1.00, 1.00, 4.00, 3.00, 2.00, 6.00, 4.00, 5.00, 8.00, 1.00, 8.00, 1.00, 1.00, 6.00, 1.00, 3.00, 2.00, 1.00, 1.00, 4.00\n",
      "    Pred cost: 5.53, -1.85, -1.06, 4.57, 13.39, 17.48, 23.33, 7.44, 9.31, 1.24, -3.78, 13.17, 15.21, 3.60, 7.89, -2.39, 8.36, 1.37, 2.93, 11.11, 8.63, -0.10, -2.03, 14.07, -1.74, -2.06, 14.09, 5.22, -2.12, -3.68, 10.30, 6.60, 3.35, 19.26, 10.38, 12.32, 20.55, -2.50, 18.18, -6.81, 4.12, 17.04, -3.90, 8.30, 11.06, -2.49, -6.20, 11.04\n",
      "    True sol: 0, 0, 0, 0, 1, 1, 0, 0, 0, 0, 0, 0, 1, 0, 0, 0, 0, 0, -0, 0, 1, 0, 0, 1, 0, 0, 1, 0, 0, 0, 0, 0, 0, 0, 0, 0, 1, 0, 1, 0, 0, 0, 0, 0, 0, 0, 0, 0, True obj: 51.00\n",
      "    Pred sol: 0, 0, 0, 0, 1, 1, 0, 0, 0, 0, 0, 0, 1, 0, 0, 0, 0, 0, 0, 0, 1, 0, 0, 1, 0, 0, 1, 0, 0, 0, 0, 0, 0, 0, 0, 0, 1, 0, 1, 0, 0, 0, 0, 0, 0, 0, 0, 0, Pred obj: 51.00\n",
      "\n",
      "Sample 9:\n",
      "    True cost: 22.00, 12.00, 8.00, 22.00, 6.00, 10.00, 3.00, 6.00, 18.00, 12.00, 28.00, 7.00, 10.00, 17.00, 22.00, 19.00, 7.00, 23.00, 19.00, 7.00, 18.00, 8.00, 19.00, 15.00, 27.00, 12.00, 15.00, 22.00, 12.00, 20.00, 6.00, 16.00, 19.00, 4.00, 5.00, 11.00, 5.00, 27.00, 5.00, 20.00, 27.00, 6.00, 28.00, 9.00, 22.00, 27.00, 20.00, 15.00\n",
      "    Pred cost: 18.82, 8.72, 0.82, 13.10, 4.17, 6.31, -8.77, 2.71, 13.31, 7.31, 20.57, -0.89, 8.26, 14.03, 17.13, 15.14, 5.37, 18.99, 11.11, 2.08, 15.01, 3.09, 15.40, 11.81, 21.72, 8.56, 11.68, 17.93, 8.34, 16.85, 0.06, 13.25, 15.13, -7.42, -1.74, 8.47, -1.55, 22.12, -0.02, 16.67, 20.62, 0.49, 20.65, 7.21, 14.74, 21.91, 16.79, 12.63\n",
      "    True sol: 0, 0, 0, 0, 0, 0, 0, 0, 0, 0, 1, 0, 0, 1, 0, 0, 0, 0, 0, 0, 1, 0, 0, 0, 1, 0, 0, 1, 0, 1, 0, 1, 0, 0, 0, 0, 0, 1, 0, 0, 0, 0, 1, 0, 0, 0, 0, 0, True obj: 203.00\n",
      "    Pred sol: 0, 0, 0, 0, 0, 0, 0, 0, 0, 0, 1, 0, 0, 1, 0, 0, 0, 0, 0, 0, 1, 0, 0, 0, 0, 0, 0, 1, 0, 1, 0, 1, 0, 0, 0, 0, 0, 1, 0, 0, 0, 0, 1, 0, 0, 1, 0, 0, Pred obj: 203.00\n",
      "\n"
     ]
    }
   ],
   "source": [
    "reg.eval()\n",
    "# compare solutions\n",
    "for i, data in enumerate(ks_loader_test):\n",
    "    # load data\n",
    "    x, c, w, z = data\n",
    "    # cuda\n",
    "    if torch.cuda.is_available():\n",
    "        x, c, w, z = x.cuda(), c.cuda(), w.cuda(), z.cuda()\n",
    "    # predict\n",
    "    cp = reg(x)\n",
    "    # convert to numpy\n",
    "    x = x.to('cpu').detach().numpy()\n",
    "    c = c.to('cpu').detach().numpy()\n",
    "    w = w.to('cpu').detach().numpy()\n",
    "    z = z.to('cpu').detach().numpy()\n",
    "    for j in range(min(10, batch_size)):\n",
    "        print('Sample {}:'.format(j))\n",
    "        print('    True cost:', ', '.join(['{:.2f}'.format(-cost) for cost in c[j]]))\n",
    "        print('    Pred cost:', ', '.join(['{:.2f}'.format(-cost) for cost in cp[j]]))\n",
    "        # solve cost from prediction\n",
    "        ks_model.setObj(cp[j])\n",
    "        wpj, _ = ks_model.solve()\n",
    "        zpj = np.dot(c[j], wpj)\n",
    "        print('    True sol: ' + ', '.join(['{:.0f}'.format(x) for x in w[j]]) + ', True obj: {:.2f}'.format(-z[j,0]))\n",
    "        print('    Pred sol: '+  ', '.join(['{:.0f}'.format(x) for x in wpj]) + ', Pred obj: {:.2f}'.format(-zpj))\n",
    "        print()\n",
    "    break"
   ]
  },
  {
   "cell_type": "markdown",
   "id": "9d422fcd",
   "metadata": {},
   "source": [
    "## SPO+ Rel with Regularization "
   ]
  },
  {
   "cell_type": "code",
   "execution_count": 53,
   "id": "44365394",
   "metadata": {},
   "outputs": [],
   "source": [
    "# init model\n",
    "reg = LinearRegression()\n",
    "# cuda\n",
    "if torch.cuda.is_available():\n",
    "    reg = reg.cuda()"
   ]
  },
  {
   "cell_type": "code",
   "execution_count": 54,
   "id": "14c8147a",
   "metadata": {},
   "outputs": [],
   "source": [
    "# set optimizer\n",
    "optimizer = torch.optim.Adam(reg.parameters(), lr=1e-2)"
   ]
  },
  {
   "cell_type": "code",
   "execution_count": 55,
   "id": "b51282dc",
   "metadata": {},
   "outputs": [],
   "source": [
    "# init SPO+ loss\n",
    "criterion = spo.func.SPOPlus()"
   ]
  },
  {
   "cell_type": "code",
   "execution_count": 56,
   "id": "a48524fe",
   "metadata": {},
   "outputs": [
    {
     "name": "stdout",
     "output_type": "stream",
     "text": [
      "Epoch  10, Loss:  34.9116, True SPO Loss:  7.8734%, Unambiguous SPO Loss:  7.8734%\n",
      "Epoch  20, Loss:  36.3198, True SPO Loss:  1.7130%, Unambiguous SPO Loss:  1.7130%\n",
      "Epoch  30, Loss:   6.6305, True SPO Loss:  0.8962%, Unambiguous SPO Loss:  0.8962%\n",
      "Epoch  40, Loss:  19.0730, True SPO Loss:  0.5784%, Unambiguous SPO Loss:  0.5784%\n",
      "Epoch  50, Loss:   1.7475, True SPO Loss:  0.5087%, Unambiguous SPO Loss:  0.5087%\n",
      "Epoch  60, Loss:  14.2815, True SPO Loss:  0.4447%, Unambiguous SPO Loss:  0.4447%\n",
      "Epoch  70, Loss:   6.2304, True SPO Loss:  0.3924%, Unambiguous SPO Loss:  0.3924%\n",
      "Epoch  80, Loss:   5.8459, True SPO Loss:  0.3711%, Unambiguous SPO Loss:  0.3711%\n",
      "Epoch  90, Loss:   5.3818, True SPO Loss:  0.3692%, Unambiguous SPO Loss:  0.3692%\n",
      "Epoch 100, Loss:   1.1801, True SPO Loss:  0.3110%, Unambiguous SPO Loss:  0.3110%\n",
      "Epoch 110, Loss:   1.2853, True SPO Loss:  0.3013%, Unambiguous SPO Loss:  0.3013%\n",
      "Epoch 120, Loss:   0.6977, True SPO Loss:  0.2732%, Unambiguous SPO Loss:  0.2732%\n",
      "Epoch 130, Loss:   1.3198, True SPO Loss:  0.2829%, Unambiguous SPO Loss:  0.2829%\n",
      "Epoch 140, Loss:   1.1292, True SPO Loss:  0.2752%, Unambiguous SPO Loss:  0.2752%\n",
      "Epoch 150, Loss:   2.4354, True SPO Loss:  0.2461%, Unambiguous SPO Loss:  0.2461%\n",
      "Epoch 160, Loss:   5.5021, True SPO Loss:  0.2432%, Unambiguous SPO Loss:  0.2432%\n",
      "Epoch 170, Loss:   1.1676, True SPO Loss:  0.2480%, Unambiguous SPO Loss:  0.2480%\n",
      "Epoch 180, Loss:   1.3637, True SPO Loss:  0.2374%, Unambiguous SPO Loss:  0.2374%\n",
      "Epoch 190, Loss:   1.0174, True SPO Loss:  0.2209%, Unambiguous SPO Loss:  0.2209%\n",
      "Epoch 200, Loss:   1.2588, True SPO Loss:  0.2229%, Unambiguous SPO Loss:  0.2229%\n",
      "Epoch 210, Loss:   1.4003, True SPO Loss:  0.2451%, Unambiguous SPO Loss:  0.2451%\n",
      "Epoch 220, Loss:   5.9236, True SPO Loss:  0.2015%, Unambiguous SPO Loss:  0.2015%\n",
      "Epoch 230, Loss:   1.0140, True SPO Loss:  0.1957%, Unambiguous SPO Loss:  0.1957%\n",
      "Epoch 240, Loss:   1.0308, True SPO Loss:  0.1977%, Unambiguous SPO Loss:  0.1977%\n",
      "Epoch 250, Loss:   3.6124, True SPO Loss:  0.1899%, Unambiguous SPO Loss:  0.1899%\n",
      "Epoch 260, Loss:   0.7564, True SPO Loss:  0.1880%, Unambiguous SPO Loss:  0.1880%\n",
      "Epoch 270, Loss:   1.1764, True SPO Loss:  0.1977%, Unambiguous SPO Loss:  0.1977%\n",
      "Epoch 280, Loss:   1.4024, True SPO Loss:  0.1851%, Unambiguous SPO Loss:  0.1851%\n",
      "Epoch 290, Loss:   2.4055, True SPO Loss:  0.2103%, Unambiguous SPO Loss:  0.2103%\n",
      "Epoch 300, Loss:   1.1612, True SPO Loss:  0.1948%, Unambiguous SPO Loss:  0.1948%\n"
     ]
    }
   ],
   "source": [
    "# train model\n",
    "num_epochs = 300\n",
    "reg.train()\n",
    "loss_log = []\n",
    "loss_log_truespo = []\n",
    "loss_log_unambspo = []\n",
    "for epoch in range(num_epochs):\n",
    "    # load data\n",
    "    for i, data in enumerate(ks_loader_train_rel):\n",
    "        x, c, w, z = data\n",
    "        # cuda\n",
    "        if torch.cuda.is_available():\n",
    "            x, c, w, z = x.cuda(), c.cuda(), w.cuda(), z.cuda()\n",
    "        # forward pass\n",
    "        cp = reg(x)\n",
    "        loss = criterion.apply(ks_model_rel, cp, c, w, z).mean()\n",
    "        # l1 reg\n",
    "        l1_lambda = 1e-3\n",
    "        l1_reg = torch.abs(cp - c).sum(dim=1).mean()\n",
    "        loss += l1_lambda * l1_reg\n",
    "        # backward pass\n",
    "        optimizer.zero_grad()\n",
    "        loss.backward()\n",
    "        optimizer.step()\n",
    "    loss_log.append(loss.item())\n",
    "    if (epoch + 1) % 10 == 0:\n",
    "        # true SPO\n",
    "        trueloss = spo.eval.trueSPO(reg, ks_model, ks_loader_test)\n",
    "        loss_log_truespo.append(trueloss)\n",
    "        # unambiguous SPO \n",
    "        unambloss = spo.eval.unambSPO(reg, ks_model, ks_loader_test)\n",
    "        loss_log_unambspo.append(unambloss)\n",
    "        print('Epoch {:3}, Loss: {:8.4f}, True SPO Loss: {:7.4f}%, Unambiguous SPO Loss: {:7.4f}%'. \\\n",
    "              format(epoch+1, loss.item(), trueloss*100, unambloss*100))"
   ]
  },
  {
   "cell_type": "code",
   "execution_count": 57,
   "id": "e6cac768",
   "metadata": {},
   "outputs": [
    {
     "data": {
      "image/png": "[encoded data removed]",
      "text/plain": [
       "<Figure size 864x432 with 1 Axes>"
      ]
     },
     "metadata": {
      "needs_background": "light"
     },
     "output_type": "display_data"
    }
   ],
   "source": [
    "# draw plot\n",
    "plt.figure(figsize=(12, 6))\n",
    "plt.plot(loss_log, color='c')\n",
    "plt.xlabel('Epoch')\n",
    "plt.ylabel('SPO+ Loss')\n",
    "plt.title('Learning Curve')\n",
    "plt.show()"
   ]
  },
  {
   "cell_type": "code",
   "execution_count": 58,
   "id": "85622465",
   "metadata": {},
   "outputs": [
    {
     "data": {
      "image/png": "[encoded data removed]",
      "text/plain": [
       "<Figure size 864x432 with 1 Axes>"
      ]
     },
     "metadata": {
      "needs_background": "light"
     },
     "output_type": "display_data"
    }
   ],
   "source": [
    "# draw plot\n",
    "plt.figure(figsize=(12, 6))\n",
    "plt.plot(range(0, num_epochs, 10), loss_log_truespo, color='m', alpha=0.7, label='True SPO')\n",
    "plt.plot(range(0, num_epochs, 10), loss_log_unambspo, color='b', alpha=0.7, label='Unambiguous SPO')\n",
    "plt.xlabel('Epoch')\n",
    "plt.ylabel('Loss')\n",
    "plt.title('Learning Curve')\n",
    "plt.legend()\n",
    "plt.show()"
   ]
  },
  {
   "cell_type": "code",
   "execution_count": 59,
   "id": "0a0d58f0",
   "metadata": {},
   "outputs": [
    {
     "name": "stdout",
     "output_type": "stream",
     "text": [
      "Sample 0:\n",
      "    True cost: 3.00, 6.00, 12.00, 3.00, 6.00, 9.00, 6.00, 10.00, 5.00, 6.00, 8.00, 3.00, 9.00, 13.00, 3.00, 9.00, 7.00, 6.00, 9.00, 7.00, 5.00, 12.00, 9.00, 4.00, 4.00, 6.00, 4.00, 3.00, 6.00, 16.00, 5.00, 7.00, 10.00, 13.00, 16.00, 16.00, 2.00, 4.00, 2.00, 16.00, 4.00, 6.00, 8.00, 2.00, 3.00, 4.00, 16.00, 8.00\n",
      "    Pred cost: -2.77, 4.82, 15.20, 2.23, 7.01, 9.77, 7.23, 11.34, 4.44, 6.89, 8.75, 0.32, 10.32, 13.39, 2.29, 10.02, 8.31, 7.41, 12.95, 8.93, 4.20, 13.86, 10.16, 2.48, 0.11, 4.67, 2.60, -0.20, 5.80, 17.76, 4.17, 7.67, 11.40, 14.21, 16.01, 16.65, -1.48, -0.18, -1.14, 18.00, 4.82, 7.32, 8.87, -1.30, 2.07, 0.74, 17.23, 8.83\n",
      "    True sol: 0, 0, 0, 0, 0, 0, 0, 0, 0, 0, 0, 0, 1, 1, 0, 0, 0, 0, 0, 0, 0, 1, 0, 0, 0, 0, 0, 0, 0, 1, 0, 0, 0, 0, 1, 1, 0, 0, 0, 1, 0, 0, 0, 0, 0, 0, 1, 0, True obj: 114.00\n",
      "    Pred sol: 0, 0, 0, 0, 0, 0, 0, 0, 0, 0, 0, 0, 1, 1, 0, 0, 0, 0, 0, 0, 0, 1, 0, 0, 0, 0, 0, 0, 0, 1, 0, 0, 0, 0, 1, 1, 0, 0, 0, 1, 0, 0, 0, 0, 0, 0, 1, 0, Pred obj: 114.00\n",
      "\n",
      "Sample 1:\n",
      "    True cost: 10.00, 3.00, 3.00, 10.00, 6.00, 20.00, 6.00, 3.00, 18.00, 3.00, 10.00, 5.00, 20.00, 11.00, 10.00, 11.00, 5.00, 10.00, 11.00, 5.00, 18.00, 3.00, 11.00, 18.00, 10.00, 3.00, 18.00, 10.00, 3.00, 11.00, 3.00, 11.00, 18.00, 7.00, 6.00, 21.00, 6.00, 10.00, 6.00, 11.00, 10.00, 6.00, 10.00, 3.00, 10.00, 10.00, 11.00, 18.00\n",
      "    Pred cost: 10.73, -3.12, -2.48, 10.45, 6.52, 19.64, 6.41, -0.33, 18.56, 0.37, 10.22, 4.85, 17.71, 11.38, 12.48, 11.89, 5.32, 12.64, 14.67, 5.17, 17.85, -2.91, 11.79, 15.57, 9.53, -3.10, 15.81, 10.71, -1.66, 11.52, -1.24, 11.61, 18.02, 6.45, 6.57, 17.63, 5.60, 9.99, 4.98, 11.55, 11.54, 6.47, 10.32, 0.18, 11.03, 10.09, 11.10, 16.65\n",
      "    True sol: 0, 0, 0, 0, 0, 1, 0, 0, 0, 0, 0, 0, 1, 1, 0, 0, 0, 0, 0, 0, 1, 0, 0, 1, 0, 0, 1, 0, 0, 1, 0, 1, 0, 0, 0, 1, 0, 0, 0, 0, 0, 0, 0, 0, 0, 0, 0, 0, True obj: 148.00\n",
      "    Pred sol: 0, 0, 0, 0, 0, 1, 0, 0, 0, 0, 0, 0, 1, 1, 0, 0, 0, 0, 0, 0, 1, 0, 0, 1, 0, 0, 1, 0, 0, 1, 0, 1, 0, 0, 0, 1, 0, 0, 0, 0, 0, 0, 0, 0, 0, 0, 0, 0, Pred obj: 148.00\n",
      "\n",
      "Sample 2:\n",
      "    True cost: 6.00, 4.00, 11.00, 6.00, 6.00, 17.00, 7.00, 10.00, 8.00, 4.00, 12.00, 3.00, 17.00, 24.00, 6.00, 14.00, 6.00, 11.00, 14.00, 6.00, 8.00, 11.00, 14.00, 8.00, 6.00, 4.00, 8.00, 6.00, 4.00, 25.00, 5.00, 13.00, 15.00, 13.00, 14.00, 29.00, 3.00, 6.00, 3.00, 25.00, 6.00, 6.00, 12.00, 2.00, 6.00, 6.00, 25.00, 14.00\n",
      "    Pred cost: 3.53, 1.18, 11.49, 6.72, 6.16, 16.17, 6.16, 9.80, 8.90, 3.69, 11.76, -2.47, 15.41, 17.98, 7.65, 14.31, 5.91, 13.00, 16.86, 5.94, 8.29, 9.96, 14.29, 7.14, 3.94, 0.87, 7.38, 4.81, 2.33, 21.17, 2.80, 13.03, 15.58, 12.78, 13.52, 21.65, -2.33, 3.96, -2.12, 22.28, 8.44, 6.02, 11.83, -2.33, 6.61, 4.72, 21.17, 13.68\n",
      "    True sol: 0, 0, 0, 0, 0, 1, 0, 0, 0, 0, 0, 0, 1, 1, 0, 0, 0, 0, 0, 0, 0, 0, 0, 0, 0, 0, 0, 0, 0, 1, 0, 1, 0, 0, 0, 1, 0, 0, 0, 1, 0, 0, 0, 0, 0, 0, 1, 0, True obj: 175.00\n",
      "    Pred sol: 0, 0, 0, 0, 0, 1, 0, 0, 0, 0, 0, 0, 1, 1, 0, 0, 0, 0, 0, 0, 0, 0, 0, 0, 0, 0, 0, 0, 0, 1, 0, 1, 0, 0, 0, 1, 0, 0, 0, 1, 0, 0, 0, 0, 0, 0, 1, 0, Pred obj: 175.00\n",
      "\n",
      "Sample 3:\n",
      "    True cost: 3.00, 8.00, 13.00, 3.00, 6.00, 5.00, 7.00, 10.00, 4.00, 8.00, 6.00, 5.00, 5.00, 8.00, 3.00, 7.00, 8.00, 4.00, 7.00, 8.00, 4.00, 13.00, 7.00, 3.00, 4.00, 8.00, 3.00, 3.00, 8.00, 11.00, 7.00, 5.00, 6.00, 10.00, 13.00, 8.00, 4.00, 4.00, 4.00, 11.00, 4.00, 6.00, 6.00, 4.00, 3.00, 4.00, 11.00, 4.00\n",
      "    Pred cost: -2.01, 8.92, 16.38, 2.20, 7.23, 5.28, 8.93, 12.08, 2.86, 10.48, 6.87, 4.91, 6.51, 9.41, 2.39, 8.83, 9.12, 4.60, 11.44, 10.13, 2.60, 15.48, 9.03, 1.05, 1.75, 8.97, 1.03, 0.26, 9.29, 13.41, 8.11, 6.04, 6.46, 12.87, 14.74, 10.10, 2.36, 1.14, 2.25, 12.95, 5.08, 7.69, 7.00, 3.47, 2.24, 2.11, 12.54, 4.42\n",
      "    True sol: 0, 0, 0, 0, 0, 0, 0, 1, 0, 0, 0, 0, 0, 1, 0, 0, 1, 0, 0, 0, 0, 1, 0, 0, 0, 0, 0, 0, 0, 1, 0, 0, 0, 0, 1, 0, 0, 0, 0, 1, 0, 0, 0, 0, 0, 0, 1, 0, True obj: 85.00\n",
      "    Pred sol: 0, 0, 0, 0, 0, 0, 0, 1, 0, 0, 0, 0, 0, 1, 0, 0, 1, 0, 0, 0, 0, 1, 0, 0, 0, 0, 0, 0, 0, 1, 0, 0, 0, 0, 1, 0, 0, 0, 0, 1, 0, 0, 0, 0, 0, 0, 1, 0, Pred obj: 85.00\n",
      "\n",
      "Sample 4:\n",
      "    True cost: 26.00, 11.00, 17.00, 26.00, 6.00, 24.00, 17.00, 16.00, 18.00, 11.00, 17.00, 12.00, 24.00, 23.00, 26.00, 41.00, 6.00, 15.00, 41.00, 6.00, 18.00, 17.00, 41.00, 16.00, 29.00, 11.00, 16.00, 26.00, 11.00, 25.00, 27.00, 37.00, 10.00, 9.00, 10.00, 14.00, 11.00, 29.00, 11.00, 25.00, 29.00, 6.00, 17.00, 18.00, 26.00, 29.00, 25.00, 9.00\n",
      "    Pred cost: 19.90, 8.98, 13.54, 17.11, 4.05, 18.01, 14.72, 11.73, 15.27, 10.62, 11.79, 10.35, 16.21, 15.38, 19.53, 27.06, 4.27, 13.33, 26.37, 4.43, 12.97, 12.87, 26.91, 11.76, 20.82, 9.17, 11.70, 17.24, 8.37, 17.50, 18.55, 22.76, 7.05, 7.34, 8.03, 10.93, 10.08, 19.98, 8.02, 18.81, 19.78, 3.07, 11.89, 12.94, 17.69, 20.86, 17.81, 6.72\n",
      "    True sol: 0, 0, 0, 0, 0, 0, 0, 0, 0, 0, 0, 0, 1, 1, 0, 1, 0, 0, 0, 0, 1, 0, 1, 0, 0, 0, 0, 1, 0, 1, 0, 1, 0, 0, 0, 0, 0, 0, 0, 0, 0, 0, 0, 0, 0, 0, 0, 0, True obj: 235.00\n",
      "    Pred sol: 0, 0, 0, 0, 0, 0, 0, 0, 0, 0, 0, 0, 1, 1, 0, 0, 0, 0, 0, 0, 1, 0, 0, 0, 0, 0, 0, 1, 0, 1, 1, 1, 0, 0, 0, 0, 0, 1, 0, 0, 0, 0, 0, 0, 0, 0, 1, 0, Pred obj: 234.00\n",
      "\n",
      "Sample 5:\n",
      "    True cost: 12.00, 2.00, 1.00, 12.00, 6.00, 14.00, 12.00, 3.00, 7.00, 2.00, 2.00, 6.00, 14.00, 4.00, 12.00, 4.00, 2.00, 5.00, 4.00, 2.00, 7.00, 1.00, 4.00, 16.00, 5.00, 2.00, 16.00, 12.00, 2.00, 2.00, 9.00, 10.00, 3.00, 5.00, 2.00, 6.00, 14.00, 5.00, 14.00, 2.00, 5.00, 6.00, 2.00, 10.00, 12.00, 5.00, 2.00, 7.00\n",
      "    Pred cost: 16.61, -4.38, -7.82, 11.85, 8.00, 17.82, 17.06, 3.69, 10.91, -0.29, -2.73, 9.59, 15.64, 5.67, 15.74, 4.38, 1.21, 7.59, 8.22, 0.19, 10.53, -6.90, 4.36, 17.01, 6.40, -3.84, 17.25, 14.51, -3.04, -4.54, 11.78, 13.92, -0.52, 7.20, -1.07, 7.56, 18.30, 5.49, 16.02, -6.74, 6.89, 8.57, -2.04, 12.17, 12.98, 6.42, -6.03, 9.16\n",
      "    True sol: 0, 0, 0, 0, 0, 1, 0, 0, 0, 0, 0, 0, 1, 0, 0, 0, 0, -0, 0, 0, 1, 0, 0, 1, 0, 0, 1, 1, 0, 0, 0, 1, 0, 0, 0, 0, 0, 0, 1, 0, 0, 0, 0, 1, 0, 0, 0, 0, True obj: 113.00\n",
      "    Pred sol: 0, 0, 0, 0, 0, 1, 0, 0, 0, 0, 0, 0, 1, 0, 0, 0, 0, 0, 0, 0, 1, 0, 0, 1, 0, 0, 1, 1, 0, 0, 0, 1, 0, 0, 0, 0, 0, 0, 1, 0, 0, 0, 0, 1, 0, 0, 0, 0, Pred obj: 113.00\n",
      "\n",
      "Sample 6:\n",
      "    True cost: 1.00, 7.00, 3.00, 1.00, 6.00, 1.00, 1.00, 2.00, 2.00, 7.00, 3.00, 4.00, 1.00, 1.00, 1.00, 1.00, 9.00, 2.00, 1.00, 9.00, 2.00, 3.00, 1.00, 1.00, 1.00, 7.00, 1.00, 1.00, 7.00, 2.00, 1.00, 1.00, 5.00, 3.00, 5.00, 1.00, 2.00, 1.00, 2.00, 2.00, 1.00, 6.00, 3.00, 2.00, 1.00, 1.00, 2.00, 3.00\n",
      "    Pred cost: -9.62, 12.37, 5.17, -4.50, 10.21, -11.33, -3.60, 1.34, 0.64, 13.29, 6.92, 8.40, -7.20, -3.59, -4.05, -10.95, 13.54, 0.78, -5.78, 15.88, 2.29, 5.29, -10.46, -1.53, -3.38, 12.48, -1.64, -5.21, 12.36, -0.08, -6.35, -12.51, 8.89, 5.20, 8.80, -1.40, 2.64, -2.90, 3.63, -3.26, -0.85, 11.88, 6.69, 1.64, -3.95, -3.15, -2.36, 4.18\n",
      "    True sol: 0, 0, 0, 0, 1, 0, 0, 0, 0, 0, 1, 0, 0, 0, 0, 0, 1, 0, 0, 1, 0, 0, 0, 0, 0, 1, 0, 0, 1, 0, 0, 0, 0, 0, 1, 0, 0, 0, 0, 0, 0, 0, 0, 0, 0, 0, 0, 0, True obj: 46.00\n",
      "    Pred sol: 0, 0, 0, 0, 1, 0, 0, 0, 0, 1, 1, 0, 0, 0, 0, 0, 1, 0, 0, 1, 0, 0, 0, 0, 0, 0, 0, 0, 1, 0, 0, 0, 0, 0, 1, 0, 0, 0, 0, 0, 0, 0, 0, 0, 0, 0, 0, 0, Pred obj: 46.00\n",
      "\n",
      "Sample 7:\n",
      "    True cost: 4.00, 4.00, 2.00, 4.00, 6.00, 4.00, 5.00, 2.00, 7.00, 4.00, 3.00, 8.00, 4.00, 2.00, 4.00, 2.00, 6.00, 3.00, 2.00, 6.00, 7.00, 2.00, 2.00, 7.00, 4.00, 4.00, 7.00, 4.00, 4.00, 2.00, 3.00, 2.00, 5.00, 3.00, 3.00, 2.00, 8.00, 4.00, 8.00, 2.00, 4.00, 6.00, 3.00, 5.00, 4.00, 4.00, 2.00, 4.00\n",
      "    Pred cost: 5.68, 4.84, -2.56, 5.25, 8.64, 4.38, 7.42, -0.14, 10.39, 7.34, 3.14, 13.22, 5.04, -0.98, 7.30, -0.43, 8.24, 3.48, 3.36, 9.12, 10.62, -1.83, -0.23, 9.71, 5.74, 5.29, 9.70, 6.50, 5.36, -2.97, 2.69, 0.92, 5.94, 4.21, 3.60, 1.43, 12.78, 5.62, 11.80, -5.60, 6.00, 9.60, 3.31, 8.09, 6.25, 5.75, -4.79, 6.55\n",
      "    True sol: 0, 0, 0, 0, 1, 0, 0, 0, 0, 0, 0, 1, 0, 0, 0, 0, 1, -0, 0, 0, 1, 0, 0, 1, 0, 0, 1, 0, 0, 0, 0, 0, 0, 0, 0, 0, 0, 0, 1, 0, 0, 0, 0, 1, 0, 0, 0, 0, True obj: 54.00\n",
      "    Pred sol: 0, 0, 0, 0, 1, 0, 0, 0, 0, 0, 0, 1, 0, 0, 0, 0, 1, 0, 0, 0, 1, 0, 0, 1, 0, 0, 1, 0, 0, 0, 0, 0, 0, 0, 0, 0, 1, 0, 0, 0, 0, 0, 0, 1, 0, 0, 0, 0, Pred obj: 54.00\n",
      "\n",
      "Sample 8:\n",
      "    True cost: 2.00, 1.00, 1.00, 2.00, 6.00, 7.00, 9.00, 3.00, 3.00, 1.00, 1.00, 5.00, 7.00, 2.00, 2.00, 1.00, 3.00, 2.00, 1.00, 3.00, 3.00, 1.00, 1.00, 6.00, 1.00, 1.00, 6.00, 2.00, 1.00, 1.00, 4.00, 3.00, 2.00, 6.00, 4.00, 5.00, 8.00, 1.00, 8.00, 1.00, 1.00, 6.00, 1.00, 3.00, 2.00, 1.00, 1.00, 4.00\n",
      "    Pred cost: 1.16, -4.51, -3.67, 1.86, 9.56, 12.17, 16.09, 3.81, 5.60, -0.29, -6.10, 8.61, 11.57, 1.40, 3.47, -3.56, 5.45, -0.23, 1.78, 5.08, 6.08, -2.98, -3.37, 10.28, -4.76, -3.96, 10.49, 2.60, -2.31, -5.39, 6.15, 3.98, 0.35, 12.09, 6.43, 8.09, 13.89, -5.65, 12.70, -8.40, -1.49, 10.93, -5.34, 5.34, 2.54, -4.55, -7.50, 7.01\n",
      "    True sol: 0, 0, 0, 0, 1, 1, 0, 0, 0, 0, 0, 0, 1, 0, 0, 0, 0, 0, -0, 0, 1, 0, 0, 1, 0, 0, 1, 0, 0, 0, 0, 0, 0, 0, 0, 0, 1, 0, 1, 0, 0, 0, 0, 0, 0, 0, 0, 0, True obj: 51.00\n",
      "    Pred sol: 0, 0, 0, 0, 1, 1, 0, 0, 0, 0, 0, 0, 1, 0, 0, 0, 0, 0, 0, 0, 1, 0, 0, 1, 0, 0, 1, 0, 0, 0, 0, 0, 0, 0, 0, 0, 1, 0, 1, 0, 0, 0, 0, 0, 0, 0, 0, 0, Pred obj: 51.00\n",
      "\n",
      "Sample 9:\n",
      "    True cost: 22.00, 12.00, 8.00, 22.00, 6.00, 10.00, 3.00, 6.00, 18.00, 12.00, 28.00, 7.00, 10.00, 17.00, 22.00, 19.00, 7.00, 23.00, 19.00, 7.00, 18.00, 8.00, 19.00, 15.00, 27.00, 12.00, 15.00, 22.00, 12.00, 20.00, 6.00, 16.00, 19.00, 4.00, 5.00, 11.00, 5.00, 27.00, 5.00, 20.00, 27.00, 6.00, 28.00, 9.00, 22.00, 27.00, 20.00, 15.00\n",
      "    Pred cost: 19.03, 10.95, 4.83, 16.17, 5.20, 8.16, -2.25, 3.41, 15.87, 11.72, 20.26, 5.49, 8.11, 13.60, 19.71, 16.49, 5.82, 20.03, 17.27, 6.76, 14.92, 4.15, 16.41, 11.62, 20.88, 10.73, 11.63, 17.13, 9.72, 16.50, 2.71, 12.98, 16.95, -0.70, 1.73, 9.08, 3.37, 21.62, 2.81, 17.30, 19.65, 4.52, 19.76, 7.89, 17.00, 21.15, 16.60, 13.03\n"
     ]
    },
    {
     "name": "stdout",
     "output_type": "stream",
     "text": [
      "    True sol: 0, 0, 0, 0, 0, 0, 0, 0, 0, 0, 1, 0, 0, 1, 0, 0, 0, 0, 0, 0, 1, 0, 0, 0, 1, 0, 0, 1, 0, 1, 0, 1, 0, 0, 0, 0, 0, 1, 0, 0, 0, 0, 1, 0, 0, 0, 0, 0, True obj: 203.00\n",
      "    Pred sol: 0, 0, 0, 0, 0, 0, 0, 0, 0, 0, 1, 0, 0, 1, 0, 0, 0, 0, 0, 0, 1, 0, 0, 0, 0, 0, 0, 1, 0, 1, 0, 1, 0, 0, 0, 0, 0, 1, 0, 0, 0, 0, 1, 0, 0, 1, 0, 0, Pred obj: 203.00\n",
      "\n"
     ]
    }
   ],
   "source": [
    "reg.eval()\n",
    "# compare solutions\n",
    "for i, data in enumerate(ks_loader_test):\n",
    "    # load data\n",
    "    x, c, w, z = data\n",
    "    # cuda\n",
    "    if torch.cuda.is_available():\n",
    "        x, c, w, z = x.cuda(), c.cuda(), w.cuda(), z.cuda()\n",
    "    # predict\n",
    "    cp = reg(x)\n",
    "    # convert to numpy\n",
    "    x = x.to('cpu').detach().numpy()\n",
    "    c = c.to('cpu').detach().numpy()\n",
    "    w = w.to('cpu').detach().numpy()\n",
    "    z = z.to('cpu').detach().numpy()\n",
    "    for j in range(min(10, batch_size)):\n",
    "        print('Sample {}:'.format(j))\n",
    "        print('    True cost:', ', '.join(['{:.2f}'.format(-cost) for cost in c[j]]))\n",
    "        print('    Pred cost:', ', '.join(['{:.2f}'.format(-cost) for cost in cp[j]]))\n",
    "        # solve cost from prediction\n",
    "        ks_model.setObj(cp[j])\n",
    "        wpj, _ = ks_model.solve()\n",
    "        zpj = np.dot(c[j], wpj)\n",
    "        print('    True sol: ' + ', '.join(['{:.0f}'.format(x) for x in w[j]]) + ', True obj: {:.2f}'.format(-z[j,0]))\n",
    "        print('    Pred sol: '+  ', '.join(['{:.0f}'.format(x) for x in wpj]) + ', Pred obj: {:.2f}'.format(-zpj))\n",
    "        print()\n",
    "    break"
   ]
  },
  {
   "cell_type": "markdown",
   "id": "cd96fcde",
   "metadata": {},
   "source": [
    "## Black-Box"
   ]
  },
  {
   "cell_type": "code",
   "execution_count": 60,
   "id": "383005aa",
   "metadata": {},
   "outputs": [],
   "source": [
    "# init model\n",
    "reg = LinearRegression()\n",
    "# cuda\n",
    "if torch.cuda.is_available():\n",
    "    reg = reg.cuda()"
   ]
  },
  {
   "cell_type": "code",
   "execution_count": 61,
   "id": "2b534a38",
   "metadata": {},
   "outputs": [],
   "source": [
    "# set optimizer\n",
    "optimizer = torch.optim.Adam(reg.parameters(), lr=1e-3)"
   ]
  },
  {
   "cell_type": "code",
   "execution_count": 62,
   "id": "b257e4f1",
   "metadata": {},
   "outputs": [],
   "source": [
    "# set loss\n",
    "criterion = nn.L1Loss()"
   ]
  },
  {
   "cell_type": "code",
   "execution_count": 63,
   "id": "85ce9990",
   "metadata": {},
   "outputs": [
    {
     "name": "stdout",
     "output_type": "stream",
     "text": [
      "Epoch  10, Loss:  10.2500, True SPO Loss: 14.0706%, Unambiguous SPO Loss: 14.0706%\n",
      "Epoch  20, Loss:   3.6250, True SPO Loss:  2.8031%, Unambiguous SPO Loss:  2.8031%\n",
      "Epoch  30, Loss:   0.8750, True SPO Loss:  1.0823%, Unambiguous SPO Loss:  1.0823%\n",
      "Epoch  40, Loss:   0.7500, True SPO Loss:  0.6569%, Unambiguous SPO Loss:  0.6569%\n",
      "Epoch  50, Loss:   0.0000, True SPO Loss:  0.4535%, Unambiguous SPO Loss:  0.4535%\n",
      "Epoch  60, Loss:   0.2500, True SPO Loss:  0.3818%, Unambiguous SPO Loss:  0.3818%\n",
      "Epoch  70, Loss:   0.2500, True SPO Loss:  0.3217%, Unambiguous SPO Loss:  0.3217%\n",
      "Epoch  80, Loss:   0.0000, True SPO Loss:  0.3023%, Unambiguous SPO Loss:  0.3023%\n",
      "Epoch  90, Loss:   0.0000, True SPO Loss:  0.2616%, Unambiguous SPO Loss:  0.2616%\n",
      "Epoch 100, Loss:   0.1250, True SPO Loss:  0.2384%, Unambiguous SPO Loss:  0.2384%\n",
      "Epoch 110, Loss:   0.1250, True SPO Loss:  0.2238%, Unambiguous SPO Loss:  0.2238%\n",
      "Epoch 120, Loss:   0.2500, True SPO Loss:  0.2199%, Unambiguous SPO Loss:  0.2209%\n",
      "Epoch 130, Loss:   0.1250, True SPO Loss:  0.2180%, Unambiguous SPO Loss:  0.2180%\n",
      "Epoch 140, Loss:   0.0000, True SPO Loss:  0.1996%, Unambiguous SPO Loss:  0.1996%\n",
      "Epoch 150, Loss:   0.0000, True SPO Loss:  0.1986%, Unambiguous SPO Loss:  0.1986%\n",
      "Epoch 160, Loss:   0.1250, True SPO Loss:  0.1977%, Unambiguous SPO Loss:  0.1977%\n",
      "Epoch 170, Loss:   0.1250, True SPO Loss:  0.1889%, Unambiguous SPO Loss:  0.1889%\n",
      "Epoch 180, Loss:   0.0000, True SPO Loss:  0.1773%, Unambiguous SPO Loss:  0.1773%\n",
      "Epoch 190, Loss:   0.2500, True SPO Loss:  0.1754%, Unambiguous SPO Loss:  0.1754%\n",
      "Epoch 200, Loss:   0.1250, True SPO Loss:  0.1637%, Unambiguous SPO Loss:  0.1637%\n",
      "Epoch 210, Loss:   0.0000, True SPO Loss:  0.1802%, Unambiguous SPO Loss:  0.1802%\n",
      "Epoch 220, Loss:   0.0000, True SPO Loss:  0.1802%, Unambiguous SPO Loss:  0.1802%\n",
      "Epoch 230, Loss:   0.3750, True SPO Loss:  0.1628%, Unambiguous SPO Loss:  0.1628%\n",
      "Epoch 240, Loss:   0.1250, True SPO Loss:  0.1628%, Unambiguous SPO Loss:  0.1628%\n",
      "Epoch 250, Loss:   0.1250, True SPO Loss:  0.1667%, Unambiguous SPO Loss:  0.1667%\n",
      "Epoch 260, Loss:   0.0000, True SPO Loss:  0.1502%, Unambiguous SPO Loss:  0.1502%\n",
      "Epoch 270, Loss:   0.2500, True SPO Loss:  0.1531%, Unambiguous SPO Loss:  0.1531%\n",
      "Epoch 280, Loss:   0.0000, True SPO Loss:  0.1531%, Unambiguous SPO Loss:  0.1531%\n",
      "Epoch 290, Loss:   0.0000, True SPO Loss:  0.1492%, Unambiguous SPO Loss:  0.1492%\n",
      "Epoch 300, Loss:   0.0000, True SPO Loss:  0.1337%, Unambiguous SPO Loss:  0.1337%\n"
     ]
    }
   ],
   "source": [
    "# train model\n",
    "num_epochs = 300\n",
    "lambd = 10\n",
    "reg.train()\n",
    "loss_log = []\n",
    "loss_log_truespo = []\n",
    "loss_log_unambspo = []\n",
    "for epoch in range(num_epochs):\n",
    "    # load data\n",
    "    for i, data in enumerate(ks_loader_train):\n",
    "        x, c, w, z = data\n",
    "        # cuda\n",
    "        if torch.cuda.is_available():\n",
    "            x, c, w, z = x.cuda(), c.cuda(), w.cuda(), z.cuda()\n",
    "        # linear regression\n",
    "        cp = reg(x)\n",
    "        # black-box optimizer\n",
    "        wp = spo.func.blackboxOpt.apply(ks_model, cp, lambd)\n",
    "        # objective value\n",
    "        zp = (wp * c).sum(1).view(-1, 1)\n",
    "        # loss\n",
    "        loss = criterion(zp, z)\n",
    "        # backward pass\n",
    "        optimizer.zero_grad()\n",
    "        loss.backward()\n",
    "        optimizer.step()\n",
    "    loss_log.append(loss.item())\n",
    "    if (epoch + 1) % 10 == 0:\n",
    "        # true SPO\n",
    "        trueloss = spo.eval.trueSPO(reg, ks_model, ks_loader_test)\n",
    "        loss_log_truespo.append(trueloss)\n",
    "        # unambiguous SPO \n",
    "        unambloss = spo.eval.unambSPO(reg, ks_model, ks_loader_test)\n",
    "        loss_log_unambspo.append(unambloss)\n",
    "        print('Epoch {:3}, Loss: {:8.4f}, True SPO Loss: {:7.4f}%, Unambiguous SPO Loss: {:7.4f}%'. \\\n",
    "              format(epoch+1, loss.item(), trueloss*100, unambloss*100))"
   ]
  },
  {
   "cell_type": "code",
   "execution_count": 64,
   "id": "9bb79450",
   "metadata": {},
   "outputs": [
    {
     "data": {
      "image/png": "[encoded data removed]",
      "text/plain": [
       "<Figure size 864x432 with 1 Axes>"
      ]
     },
     "metadata": {
      "needs_background": "light"
     },
     "output_type": "display_data"
    }
   ],
   "source": [
    "# draw plot\n",
    "plt.figure(figsize=(12, 6))\n",
    "plt.plot(loss_log, color='c')\n",
    "plt.xlabel('Epoch')\n",
    "plt.ylabel('SPO+ Loss')\n",
    "plt.title('Learning Curve')\n",
    "plt.show()"
   ]
  },
  {
   "cell_type": "code",
   "execution_count": 65,
   "id": "65e634d4",
   "metadata": {},
   "outputs": [
    {
     "data": {
      "image/png": "[encoded data removed]",
      "text/plain": [
       "<Figure size 864x432 with 1 Axes>"
      ]
     },
     "metadata": {
      "needs_background": "light"
     },
     "output_type": "display_data"
    }
   ],
   "source": [
    "# draw plot\n",
    "plt.figure(figsize=(12, 6))\n",
    "plt.plot(range(0, num_epochs, 10), loss_log_truespo, color='m', alpha=0.7, label='True SPO')\n",
    "plt.plot(range(0, num_epochs, 10), loss_log_unambspo, color='b', alpha=0.7, label='Unambiguous SPO')\n",
    "plt.xlabel('Epoch')\n",
    "plt.ylabel('Loss')\n",
    "plt.title('Learning Curve')\n",
    "plt.legend()\n",
    "plt.show()"
   ]
  },
  {
   "cell_type": "code",
   "execution_count": 66,
   "id": "9f49711c",
   "metadata": {},
   "outputs": [
    {
     "name": "stdout",
     "output_type": "stream",
     "text": [
      "Normalized true SPO Loss: 0.13%\n",
      "Normalized unambiguous SPO Loss: 0.13%\n"
     ]
    }
   ],
   "source": [
    "# evaluate\n",
    "spoloss = spo.eval.trueSPO(reg, ks_model, ks_loader_test)\n",
    "print('Normalized true SPO Loss: {:.2f}%'.format(spoloss * 100))\n",
    "spoloss = spo.eval.unambSPO(reg, ks_model, ks_loader_test)\n",
    "print('Normalized unambiguous SPO Loss: {:.2f}%'.format(spoloss * 100))"
   ]
  },
  {
   "cell_type": "code",
   "execution_count": 67,
   "id": "4f8b44a1",
   "metadata": {
    "scrolled": false
   },
   "outputs": [
    {
     "name": "stdout",
     "output_type": "stream",
     "text": [
      "Sample 0:\n",
      "    True cost: 3.00, 6.00, 12.00, 3.00, 6.00, 9.00, 6.00, 10.00, 5.00, 6.00, 8.00, 3.00, 9.00, 13.00, 3.00, 9.00, 7.00, 6.00, 9.00, 7.00, 5.00, 12.00, 9.00, 4.00, 4.00, 6.00, 4.00, 3.00, 6.00, 16.00, 5.00, 7.00, 10.00, 13.00, 16.00, 16.00, 2.00, 4.00, 2.00, 16.00, 4.00, 6.00, 8.00, 2.00, 3.00, 4.00, 16.00, 8.00\n",
      "    Pred cost: -0.59, -0.27, 0.60, -0.64, 0.26, 0.34, 0.03, 0.49, -0.13, -0.29, 0.37, -0.35, 0.43, 0.56, -0.02, -0.12, 0.35, -0.01, 0.35, 0.15, 0.16, 0.59, 0.37, 0.08, -0.15, -0.13, 0.10, -0.04, 0.12, 0.70, 0.10, 0.32, 0.39, 0.53, 0.72, 0.77, -0.53, -0.02, -0.38, 0.81, -0.56, -0.14, 0.37, -0.14, -0.61, -0.21, 0.77, 0.36\n",
      "    True sol: 0, 0, 0, 0, 0, 0, 0, 0, 0, 0, 0, 0, 1, 1, 0, 0, 0, 0, 0, 0, 0, 1, 0, 0, 0, 0, 0, 0, 0, 1, 0, 0, 0, 0, 1, 1, 0, 0, 0, 1, 0, 0, 0, 0, 0, 0, 1, 0, True obj: 114.00\n",
      "    Pred sol: 0, 0, 0, 0, 0, 0, 0, 0, 0, 0, 0, 0, 1, 1, 0, 0, 0, 0, 0, 0, 0, 1, 0, 0, 0, 0, 0, 0, 0, 1, 0, 0, 0, 0, 1, 1, 0, 0, 0, 1, 0, 0, 0, 0, 0, 0, 1, 0, Pred obj: 114.00\n",
      "\n",
      "Sample 1:\n",
      "    True cost: 10.00, 3.00, 3.00, 10.00, 6.00, 20.00, 6.00, 3.00, 18.00, 3.00, 10.00, 5.00, 20.00, 11.00, 10.00, 11.00, 5.00, 10.00, 11.00, 5.00, 18.00, 3.00, 11.00, 18.00, 10.00, 3.00, 18.00, 10.00, 3.00, 11.00, 3.00, 11.00, 18.00, 7.00, 6.00, 21.00, 6.00, 10.00, 6.00, 11.00, 10.00, 6.00, 10.00, 3.00, 10.00, 10.00, 11.00, 18.00\n",
      "    Pred cost: 0.14, -1.04, -0.59, -0.18, 0.20, 0.89, -0.03, -0.11, 0.72, -1.20, 0.40, -0.14, 0.73, 0.45, -0.09, 0.07, 0.18, 0.25, 0.53, -0.25, 0.69, -0.15, 0.39, 0.69, 0.36, -0.83, 0.66, 0.40, -0.35, 0.46, -0.17, 0.46, 0.77, -0.09, 0.22, 0.83, -0.17, 0.35, -0.04, 0.47, 0.26, -0.51, 0.41, -0.08, -0.14, 0.26, 0.48, 0.73\n",
      "    True sol: 0, 0, 0, 0, 0, 1, 0, 0, 0, 0, 0, 0, 1, 1, 0, 0, 0, 0, 0, 0, 1, 0, 0, 1, 0, 0, 1, 0, 0, 1, 0, 1, 0, 0, 0, 1, 0, 0, 0, 0, 0, 0, 0, 0, 0, 0, 0, 0, True obj: 148.00\n",
      "    Pred sol: 0, 0, 0, 0, 0, 1, 0, 0, 0, 0, 0, 0, 1, 1, 0, 0, 0, 0, 0, 0, 1, 0, 0, 1, 0, 0, 1, 0, 0, 1, 0, 1, 0, 0, 0, 1, 0, 0, 0, 0, 0, 0, 0, 0, 0, 0, 0, 0, Pred obj: 148.00\n",
      "\n",
      "Sample 2:\n",
      "    True cost: 6.00, 4.00, 11.00, 6.00, 6.00, 17.00, 7.00, 10.00, 8.00, 4.00, 12.00, 3.00, 17.00, 24.00, 6.00, 14.00, 6.00, 11.00, 14.00, 6.00, 8.00, 11.00, 14.00, 8.00, 6.00, 4.00, 8.00, 6.00, 4.00, 25.00, 5.00, 13.00, 15.00, 13.00, 14.00, 29.00, 3.00, 6.00, 3.00, 25.00, 6.00, 6.00, 12.00, 2.00, 6.00, 6.00, 25.00, 14.00\n",
      "    Pred cost: -0.34, -0.73, 0.27, -0.67, 0.15, 0.63, -0.13, 0.38, 0.04, -0.85, 0.46, -0.64, 0.62, 0.72, -0.20, -0.00, 0.19, 0.25, 0.51, -0.22, 0.28, 0.39, 0.53, 0.26, -0.02, -0.51, 0.27, 0.15, -0.15, 0.80, -0.01, 0.49, 0.56, 0.30, 0.54, 1.00, -0.74, 0.09, -0.54, 0.96, -0.29, -0.43, 0.46, -0.23, -0.24, -0.10, 0.89, 0.55\n",
      "    True sol: 0, 0, 0, 0, 0, 1, 0, 0, 0, 0, 0, 0, 1, 1, 0, 0, 0, 0, 0, 0, 0, 0, 0, 0, 0, 0, 0, 0, 0, 1, 0, 1, 0, 0, 0, 1, 0, 0, 0, 1, 0, 0, 0, 0, 0, 0, 1, 0, True obj: 175.00\n",
      "    Pred sol: 0, 0, 0, 0, 0, 1, 0, 0, 0, 0, 0, 0, 1, 1, 0, 0, 0, 0, 0, 0, 0, 0, 0, 0, 0, 0, 0, 0, 0, 1, 0, 1, 0, 0, 0, 1, 0, 0, 0, 1, 0, 0, 0, 0, 0, 0, 1, 0, Pred obj: 175.00\n",
      "\n",
      "Sample 3:\n",
      "    True cost: 3.00, 8.00, 13.00, 3.00, 6.00, 5.00, 7.00, 10.00, 4.00, 8.00, 6.00, 5.00, 5.00, 8.00, 3.00, 7.00, 8.00, 4.00, 7.00, 8.00, 4.00, 13.00, 7.00, 3.00, 4.00, 8.00, 3.00, 3.00, 8.00, 11.00, 7.00, 5.00, 6.00, 10.00, 13.00, 8.00, 4.00, 4.00, 4.00, 11.00, 4.00, 6.00, 6.00, 4.00, 3.00, 4.00, 11.00, 4.00\n",
      "    Pred cost: -0.51, 0.07, 0.66, -0.41, 0.28, 0.07, 0.11, 0.50, -0.22, 0.08, 0.28, -0.06, 0.25, 0.38, 0.13, -0.13, 0.39, -0.19, 0.08, 0.22, 0.11, 0.64, 0.25, -0.01, -0.11, 0.15, 0.02, -0.02, 0.32, 0.51, 0.29, 0.25, 0.03, 0.43, 0.63, 0.39, -0.26, 0.04, -0.15, 0.53, -0.51, -0.13, 0.28, 0.09, -0.80, -0.11, 0.54, 0.11\n",
      "    True sol: 0, 0, 0, 0, 0, 0, 0, 1, 0, 0, 0, 0, 0, 1, 0, 0, 1, 0, 0, 0, 0, 1, 0, 0, 0, 0, 0, 0, 0, 1, 0, 0, 0, 0, 1, 0, 0, 0, 0, 1, 0, 0, 0, 0, 0, 0, 1, 0, True obj: 85.00\n",
      "    Pred sol: 0, 0, 0, 0, 0, 0, 0, 1, 0, 0, 0, 0, 0, 1, 0, 0, 1, 0, 0, 0, 0, 1, 0, 0, 0, 0, 0, 0, 0, 1, 0, 0, 0, 0, 1, 0, 0, 0, 0, 1, 0, 0, 0, 0, 0, 0, 1, 0, Pred obj: 85.00\n",
      "\n",
      "Sample 4:\n",
      "    True cost: 26.00, 11.00, 17.00, 26.00, 6.00, 24.00, 17.00, 16.00, 18.00, 11.00, 17.00, 12.00, 24.00, 23.00, 26.00, 41.00, 6.00, 15.00, 41.00, 6.00, 18.00, 17.00, 41.00, 16.00, 29.00, 11.00, 16.00, 26.00, 11.00, 25.00, 27.00, 37.00, 10.00, 9.00, 10.00, 14.00, 11.00, 29.00, 11.00, 25.00, 29.00, 6.00, 17.00, 18.00, 26.00, 29.00, 25.00, 9.00\n",
      "    Pred cost: 0.32, -0.61, -0.03, -0.16, -0.14, 0.37, -0.13, 0.20, 0.05, -0.79, 0.30, -0.24, 0.48, 0.45, 0.02, 0.62, -0.10, -0.10, -0.17, -0.84, 0.35, 0.26, 0.76, 0.26, 0.46, -0.46, 0.26, 0.53, -0.06, 0.49, 0.52, 0.70, -0.49, -0.59, -0.04, 0.16, -0.33, 0.58, -0.18, 0.43, 0.52, -1.41, 0.30, 0.35, -0.24, 0.53, 0.48, -0.11\n",
      "    True sol: 0, 0, 0, 0, 0, 0, 0, 0, 0, 0, 0, 0, 1, 1, 0, 1, 0, 0, 0, 0, 1, 0, 1, 0, 0, 0, 0, 1, 0, 1, 0, 1, 0, 0, 0, 0, 0, 0, 0, 0, 0, 0, 0, 0, 0, 0, 0, 0, True obj: 235.00\n",
      "    Pred sol: 0, 0, 0, 0, 0, 0, 0, 0, 0, 0, 0, 0, 1, 1, 0, 0, 0, 0, 0, 0, 0, 0, 0, 0, 0, 0, 0, 1, 0, 1, 1, 1, 0, 0, 0, 0, 0, 1, 0, 0, 0, 0, 0, 1, 0, 0, 1, 0, Pred obj: 234.00\n",
      "\n",
      "Sample 5:\n",
      "    True cost: 12.00, 2.00, 1.00, 12.00, 6.00, 14.00, 12.00, 3.00, 7.00, 2.00, 2.00, 6.00, 14.00, 4.00, 12.00, 4.00, 2.00, 5.00, 4.00, 2.00, 7.00, 1.00, 4.00, 16.00, 5.00, 2.00, 16.00, 12.00, 2.00, 2.00, 9.00, 10.00, 3.00, 5.00, 2.00, 6.00, 14.00, 5.00, 14.00, 2.00, 5.00, 6.00, 2.00, 10.00, 12.00, 5.00, 2.00, 7.00\n",
      "    Pred cost: 0.67, -0.93, -0.89, 0.33, 0.36, 0.83, 0.71, 0.07, 0.32, -1.01, -0.07, 0.27, 0.67, 0.22, 0.27, -0.28, 0.00, 0.07, -0.28, -0.54, 0.41, -0.33, -0.00, 0.75, 0.14, -0.89, 0.71, 0.62, -0.36, -0.15, 0.53, 0.57, -0.41, -0.02, -0.17, 0.32, 0.79, 0.27, 0.85, -0.41, 0.28, -0.20, -0.11, 0.57, -0.02, 0.19, -0.24, 0.38\n",
      "    True sol: 0, 0, 0, 0, 0, 1, 0, 0, 0, 0, 0, 0, 1, 0, 0, 0, 0, -0, 0, 0, 1, 0, 0, 1, 0, 0, 1, 1, 0, 0, 0, 1, 0, 0, 0, 0, 0, 0, 1, 0, 0, 0, 0, 1, 0, 0, 0, 0, True obj: 113.00\n",
      "    Pred sol: 0, 0, 0, 0, 0, 1, 0, 0, 0, 0, 0, 0, 1, 0, 0, 0, 0, 0, 0, 0, 1, 0, 0, 1, 0, 0, 1, 1, 0, 0, 0, 1, 0, 0, 0, 0, 0, 0, 1, 0, 0, 0, 0, 1, 0, 0, 0, 0, Pred obj: 113.00\n",
      "\n",
      "Sample 6:\n",
      "    True cost: 1.00, 7.00, 3.00, 1.00, 6.00, 1.00, 1.00, 2.00, 2.00, 7.00, 3.00, 4.00, 1.00, 1.00, 1.00, 1.00, 9.00, 2.00, 1.00, 9.00, 2.00, 3.00, 1.00, 1.00, 1.00, 7.00, 1.00, 1.00, 7.00, 2.00, 1.00, 1.00, 5.00, 3.00, 5.00, 1.00, 2.00, 1.00, 2.00, 2.00, 1.00, 6.00, 3.00, 2.00, 1.00, 1.00, 2.00, 3.00\n",
      "    Pred cost: -0.51, 0.90, 0.42, 0.23, 0.67, -0.46, -0.12, 0.20, 0.17, 0.88, 0.41, 0.63, -0.19, -0.02, 0.22, -0.84, 0.82, 0.03, 0.32, 1.15, 0.26, 0.45, -0.50, 0.09, 0.04, 0.88, 0.12, -0.09, 0.83, 0.15, -0.18, -0.27, 0.61, 0.50, 0.62, 0.04, 0.30, 0.07, 0.30, 0.04, -0.63, 0.79, 0.44, 0.17, -1.20, -0.01, 0.14, 0.36\n",
      "    True sol: 0, 0, 0, 0, 1, 0, 0, 0, 0, 0, 1, 0, 0, 0, 0, 0, 1, 0, 0, 1, 0, 0, 0, 0, 0, 1, 0, 0, 1, 0, 0, 0, 0, 0, 1, 0, 0, 0, 0, 0, 0, 0, 0, 0, 0, 0, 0, 0, True obj: 46.00\n",
      "    Pred sol: 0, 1, 0, 0, 1, 0, 0, 0, 0, 0, 0, 0, 0, 0, 0, 0, 1, 0, 0, 1, 0, 1, 0, 0, 0, 0, 0, 0, 1, 0, 0, 0, 0, 0, 1, 0, 0, 0, 0, 0, 0, 0, 0, 0, 0, 0, 0, 0, Pred obj: 46.00\n",
      "\n",
      "Sample 7:\n",
      "    True cost: 4.00, 4.00, 2.00, 4.00, 6.00, 4.00, 5.00, 2.00, 7.00, 4.00, 3.00, 8.00, 4.00, 2.00, 4.00, 2.00, 6.00, 3.00, 2.00, 6.00, 7.00, 2.00, 2.00, 7.00, 4.00, 4.00, 7.00, 4.00, 4.00, 2.00, 3.00, 2.00, 5.00, 3.00, 3.00, 2.00, 8.00, 4.00, 8.00, 2.00, 4.00, 6.00, 3.00, 5.00, 4.00, 4.00, 2.00, 4.00\n",
      "    Pred cost: 0.15, -0.04, -0.38, 0.38, 0.46, 0.20, 0.26, -0.03, 0.47, -0.09, 0.18, 0.64, 0.24, -0.01, 0.29, -0.35, 0.42, -0.07, 0.01, 0.30, 0.50, -0.02, -0.18, 0.48, 0.28, -0.03, 0.47, 0.31, 0.23, -0.04, 0.14, 0.13, 0.15, 0.03, 0.17, 0.05, 0.63, 0.31, 0.64, -0.27, 0.06, 0.08, 0.18, 0.40, -0.69, 0.27, -0.11, 0.32\n",
      "    True sol: 0, 0, 0, 0, 1, 0, 0, 0, 0, 0, 0, 1, 0, 0, 0, 0, 1, -0, 0, 0, 1, 0, 0, 1, 0, 0, 1, 0, 0, 0, 0, 0, 0, 0, 0, 0, 0, 0, 1, 0, 0, 0, 0, 1, 0, 0, 0, 0, True obj: 54.00\n",
      "    Pred sol: 0, 0, 0, 0, 1, 0, 0, 0, 0, 0, 0, 1, 0, 0, 0, 0, 1, 0, 0, 0, 1, 0, 0, 1, 0, 0, 1, 0, 0, 0, 0, 0, 0, 0, 0, 0, 0, 0, 1, 0, 0, 0, 0, 1, 0, 0, 0, 0, Pred obj: 54.00\n",
      "\n",
      "Sample 8:\n",
      "    True cost: 2.00, 1.00, 1.00, 2.00, 6.00, 7.00, 9.00, 3.00, 3.00, 1.00, 1.00, 5.00, 7.00, 2.00, 2.00, 1.00, 3.00, 2.00, 1.00, 3.00, 3.00, 1.00, 1.00, 6.00, 1.00, 1.00, 6.00, 2.00, 1.00, 1.00, 4.00, 3.00, 2.00, 6.00, 4.00, 5.00, 8.00, 1.00, 8.00, 1.00, 1.00, 6.00, 1.00, 3.00, 2.00, 1.00, 1.00, 4.00\n"
     ]
    },
    {
     "name": "stdout",
     "output_type": "stream",
     "text": [
      "    Pred cost: -0.02, -0.57, -0.37, 0.04, 0.57, 0.72, 0.96, 0.22, 0.24, -0.46, -0.11, 0.47, 0.59, 0.15, 0.40, -0.51, 0.34, -0.21, -0.13, 0.18, 0.34, -0.02, -0.18, 0.56, -0.20, -0.57, 0.53, 0.19, -0.15, -0.08, 0.40, 0.28, -0.03, 0.65, 0.39, 0.49, 0.80, -0.06, 0.84, -0.28, -0.36, 0.46, -0.16, 0.33, -0.51, -0.21, -0.15, 0.45\n",
      "    True sol: 0, 0, 0, 0, 1, 1, 0, 0, 0, 0, 0, 0, 1, 0, 0, 0, 0, 0, -0, 0, 1, 0, 0, 1, 0, 0, 1, 0, 0, 0, 0, 0, 0, 0, 0, 0, 1, 0, 1, 0, 0, 0, 0, 0, 0, 0, 0, 0, True obj: 51.00\n",
      "    Pred sol: 0, 0, 0, 0, 1, 1, 0, 0, 0, 0, 0, 0, 1, 0, 0, 0, 1, 0, 0, 0, 0, 0, 0, 1, 0, 0, 1, 0, 0, 0, 0, 0, 0, 0, 0, 0, 1, 0, 1, 0, 0, 0, 0, 0, 0, 0, 0, 0, Pred obj: 51.00\n",
      "\n",
      "Sample 9:\n",
      "    True cost: 22.00, 12.00, 8.00, 22.00, 6.00, 10.00, 3.00, 6.00, 18.00, 12.00, 28.00, 7.00, 10.00, 17.00, 22.00, 19.00, 7.00, 23.00, 19.00, 7.00, 18.00, 8.00, 19.00, 15.00, 27.00, 12.00, 15.00, 22.00, 12.00, 20.00, 6.00, 16.00, 19.00, 4.00, 5.00, 11.00, 5.00, 27.00, 5.00, 20.00, 27.00, 6.00, 28.00, 9.00, 22.00, 27.00, 20.00, 15.00\n",
      "    Pred cost: 0.47, -0.25, -0.30, 0.18, 0.02, 0.06, -0.88, -0.05, 0.38, -0.64, 0.69, -0.31, 0.22, 0.44, -0.28, 0.09, 0.09, 0.58, 0.41, -0.45, 0.50, 0.05, 0.38, 0.39, 0.72, -0.05, 0.40, 0.62, 0.20, 0.55, -0.14, 0.43, 0.35, -0.78, -0.19, 0.22, -0.51, 0.70, -0.38, 0.53, 0.59, -0.99, 0.74, 0.19, -0.14, 0.71, 0.55, 0.35\n",
      "    True sol: 0, 0, 0, 0, 0, 0, 0, 0, 0, 0, 1, 0, 0, 1, 0, 0, 0, 0, 0, 0, 1, 0, 0, 0, 1, 0, 0, 1, 0, 1, 0, 1, 0, 0, 0, 0, 0, 1, 0, 0, 0, 0, 1, 0, 0, 0, 0, 0, True obj: 203.00\n",
      "    Pred sol: 0, 0, 0, 0, 0, 0, 0, 0, 0, 0, 1, 0, 0, 1, 0, 0, 0, 0, 0, 0, 1, 0, 0, 0, 1, 0, 0, 1, 0, 1, 0, 1, 0, 0, 0, 0, 0, 1, 0, 0, 0, 0, 1, 0, 0, 0, 0, 0, Pred obj: 203.00\n",
      "\n"
     ]
    }
   ],
   "source": [
    "reg.eval()\n",
    "# compare solutions\n",
    "for i, data in enumerate(ks_loader_test):\n",
    "    # load data\n",
    "    x, c, w, z = data\n",
    "    # cuda\n",
    "    if torch.cuda.is_available():\n",
    "        x, c, w, z = x.cuda(), c.cuda(), w.cuda(), z.cuda()\n",
    "    # predict\n",
    "    cp = reg(x)\n",
    "    # convert to numpy\n",
    "    x = x.to('cpu').detach().numpy()\n",
    "    c = c.to('cpu').detach().numpy()\n",
    "    w = w.to('cpu').detach().numpy()\n",
    "    z = z.to('cpu').detach().numpy()\n",
    "    for j in range(min(10, batch_size)):\n",
    "        print('Sample {}:'.format(j))\n",
    "        print('    True cost:', ', '.join(['{:.2f}'.format(-cost) for cost in c[j]]))\n",
    "        print('    Pred cost:', ', '.join(['{:.2f}'.format(-cost) for cost in cp[j]]))\n",
    "        # solve cost from prediction\n",
    "        ks_model.setObj(cp[j])\n",
    "        wpj, _ = ks_model.solve()\n",
    "        zpj = np.dot(c[j], wpj)\n",
    "        print('    True sol: ' + ', '.join(['{:.0f}'.format(x) for x in w[j]]) + ', True obj: {:.2f}'.format(-z[j,0]))\n",
    "        print('    Pred sol: '+  ', '.join(['{:.0f}'.format(x) for x in wpj]) + ', Pred obj: {:.2f}'.format(-zpj))\n",
    "        print()\n",
    "    break"
   ]
  },
  {
   "cell_type": "markdown",
   "id": "1d37db28",
   "metadata": {},
   "source": [
    "## Black-Box with Regularization "
   ]
  },
  {
   "cell_type": "code",
   "execution_count": 68,
   "id": "e2bbb567",
   "metadata": {},
   "outputs": [],
   "source": [
    "# init model\n",
    "reg = LinearRegression()\n",
    "# cuda\n",
    "if torch.cuda.is_available():\n",
    "    reg = reg.cuda()"
   ]
  },
  {
   "cell_type": "code",
   "execution_count": 69,
   "id": "a20aa125",
   "metadata": {},
   "outputs": [],
   "source": [
    "# set optimizer\n",
    "optimizer = torch.optim.Adam(reg.parameters(), lr=1e-3)"
   ]
  },
  {
   "cell_type": "code",
   "execution_count": 70,
   "id": "95d03350",
   "metadata": {},
   "outputs": [],
   "source": [
    "# set loss\n",
    "criterion = nn.L1Loss()"
   ]
  },
  {
   "cell_type": "code",
   "execution_count": 71,
   "id": "f66e8067",
   "metadata": {},
   "outputs": [
    {
     "name": "stdout",
     "output_type": "stream",
     "text": [
      "Epoch  10, Loss:  16.6923, True SPO Loss: 15.9639%, Unambiguous SPO Loss: 15.9639%\n",
      "Epoch  20, Loss:   4.0212, True SPO Loss:  2.9048%, Unambiguous SPO Loss:  2.9048%\n",
      "Epoch  30, Loss:   0.9916, True SPO Loss:  1.0212%, Unambiguous SPO Loss:  1.0212%\n",
      "Epoch  40, Loss:   0.8855, True SPO Loss:  0.6124%, Unambiguous SPO Loss:  0.6124%\n",
      "Epoch  50, Loss:   0.3100, True SPO Loss:  0.4602%, Unambiguous SPO Loss:  0.4602%\n",
      "Epoch  60, Loss:   0.3709, True SPO Loss:  0.4031%, Unambiguous SPO Loss:  0.4031%\n",
      "Epoch  70, Loss:   0.5510, True SPO Loss:  0.3682%, Unambiguous SPO Loss:  0.3682%\n",
      "Epoch  80, Loss:   0.4456, True SPO Loss:  0.2810%, Unambiguous SPO Loss:  0.2810%\n",
      "Epoch  90, Loss:   0.5505, True SPO Loss:  0.2742%, Unambiguous SPO Loss:  0.2742%\n",
      "Epoch 100, Loss:   0.5403, True SPO Loss:  0.2539%, Unambiguous SPO Loss:  0.2539%\n",
      "Epoch 110, Loss:   0.5977, True SPO Loss:  0.2461%, Unambiguous SPO Loss:  0.2461%\n",
      "Epoch 120, Loss:   0.4024, True SPO Loss:  0.2432%, Unambiguous SPO Loss:  0.2432%\n",
      "Epoch 130, Loss:   0.3600, True SPO Loss:  0.2335%, Unambiguous SPO Loss:  0.2335%\n",
      "Epoch 140, Loss:   0.2577, True SPO Loss:  0.2064%, Unambiguous SPO Loss:  0.2064%\n",
      "Epoch 150, Loss:   0.5086, True SPO Loss:  0.1986%, Unambiguous SPO Loss:  0.1986%\n",
      "Epoch 160, Loss:   0.4533, True SPO Loss:  0.1938%, Unambiguous SPO Loss:  0.1938%\n",
      "Epoch 170, Loss:   0.3126, True SPO Loss:  0.1831%, Unambiguous SPO Loss:  0.1831%\n",
      "Epoch 180, Loss:   0.3441, True SPO Loss:  0.1463%, Unambiguous SPO Loss:  0.1463%\n",
      "Epoch 190, Loss:   0.5003, True SPO Loss:  0.1754%, Unambiguous SPO Loss:  0.1754%\n",
      "Epoch 200, Loss:   0.2762, True SPO Loss:  0.1570%, Unambiguous SPO Loss:  0.1570%\n",
      "Epoch 210, Loss:   0.5862, True SPO Loss:  0.1289%, Unambiguous SPO Loss:  0.1289%\n",
      "Epoch 220, Loss:   0.4183, True SPO Loss:  0.1434%, Unambiguous SPO Loss:  0.1434%\n",
      "Epoch 230, Loss:   0.4122, True SPO Loss:  0.1376%, Unambiguous SPO Loss:  0.1376%\n",
      "Epoch 240, Loss:   0.3725, True SPO Loss:  0.1570%, Unambiguous SPO Loss:  0.1570%\n",
      "Epoch 250, Loss:   0.6049, True SPO Loss:  0.1705%, Unambiguous SPO Loss:  0.1705%\n",
      "Epoch 260, Loss:   0.3175, True SPO Loss:  0.1637%, Unambiguous SPO Loss:  0.1637%\n",
      "Epoch 270, Loss:   0.2928, True SPO Loss:  0.1502%, Unambiguous SPO Loss:  0.1502%\n",
      "Epoch 280, Loss:   0.3575, True SPO Loss:  0.1492%, Unambiguous SPO Loss:  0.1492%\n",
      "Epoch 290, Loss:   0.3769, True SPO Loss:  0.1725%, Unambiguous SPO Loss:  0.1725%\n",
      "Epoch 300, Loss:   0.4243, True SPO Loss:  0.1502%, Unambiguous SPO Loss:  0.1502%\n"
     ]
    }
   ],
   "source": [
    "# train model\n",
    "num_epochs = 300\n",
    "lambd = 10\n",
    "reg.train()\n",
    "loss_log = []\n",
    "loss_log_truespo = []\n",
    "loss_log_unambspo = []\n",
    "for epoch in range(num_epochs):\n",
    "    # load data\n",
    "    for i, data in enumerate(ks_loader_train):\n",
    "        x, c, w, z = data\n",
    "        # cuda\n",
    "        if torch.cuda.is_available():\n",
    "            x, c, w, z = x.cuda(), c.cuda(), w.cuda(), z.cuda()\n",
    "        # linear regression\n",
    "        cp = reg(x)\n",
    "        # black-box optimizer\n",
    "        wp = spo.func.blackboxOpt.apply(ks_model, cp, lambd)\n",
    "        # objective value\n",
    "        zp = (wp * c).sum(1).view(-1, 1)\n",
    "        # loss\n",
    "        loss = criterion(zp, z)\n",
    "        # l1 reg\n",
    "        l1_lambda = 1e-3\n",
    "        l1_reg = torch.abs(cp - c).sum(dim=1).mean()\n",
    "        loss += l1_lambda * l1_reg\n",
    "        # backward pass\n",
    "        optimizer.zero_grad()\n",
    "        loss.backward()\n",
    "        optimizer.step()\n",
    "    loss_log.append(loss.item())\n",
    "    if (epoch + 1) % 10 == 0:\n",
    "        # true SPO\n",
    "        trueloss = spo.eval.trueSPO(reg, ks_model, ks_loader_test)\n",
    "        loss_log_truespo.append(trueloss)\n",
    "        # unambiguous SPO \n",
    "        unambloss = spo.eval.unambSPO(reg, ks_model, ks_loader_test)\n",
    "        loss_log_unambspo.append(unambloss)\n",
    "        print('Epoch {:3}, Loss: {:8.4f}, True SPO Loss: {:7.4f}%, Unambiguous SPO Loss: {:7.4f}%'. \\\n",
    "              format(epoch+1, loss.item(), trueloss*100, unambloss*100))"
   ]
  },
  {
   "cell_type": "code",
   "execution_count": 72,
   "id": "1268e343",
   "metadata": {},
   "outputs": [
    {
     "data": {
      "image/png": "[encoded data removed]",
      "text/plain": [
       "<Figure size 864x432 with 1 Axes>"
      ]
     },
     "metadata": {
      "needs_background": "light"
     },
     "output_type": "display_data"
    }
   ],
   "source": [
    "# draw plot\n",
    "plt.figure(figsize=(12, 6))\n",
    "plt.plot(loss_log, color='c')\n",
    "plt.xlabel('Epoch')\n",
    "plt.ylabel('SPO+ Loss')\n",
    "plt.title('Learning Curve')\n",
    "plt.show()"
   ]
  },
  {
   "cell_type": "code",
   "execution_count": 73,
   "id": "4ac36de8",
   "metadata": {},
   "outputs": [
    {
     "data": {
      "image/png": "[encoded data removed]",
      "text/plain": [
       "<Figure size 864x432 with 1 Axes>"
      ]
     },
     "metadata": {
      "needs_background": "light"
     },
     "output_type": "display_data"
    }
   ],
   "source": [
    "# draw plot\n",
    "plt.figure(figsize=(12, 6))\n",
    "plt.plot(range(0, num_epochs, 10), loss_log_truespo, color='m', alpha=0.7, label='True SPO')\n",
    "plt.plot(range(0, num_epochs, 10), loss_log_unambspo, color='b', alpha=0.7, label='Unambiguous SPO')\n",
    "plt.xlabel('Epoch')\n",
    "plt.ylabel('Loss')\n",
    "plt.title('Learning Curve')\n",
    "plt.legend()\n",
    "plt.show()"
   ]
  },
  {
   "cell_type": "code",
   "execution_count": 74,
   "id": "ce7f39be",
   "metadata": {},
   "outputs": [
    {
     "name": "stdout",
     "output_type": "stream",
     "text": [
      "Normalized true SPO Loss: 0.15%\n",
      "Normalized unambiguous SPO Loss: 0.15%\n"
     ]
    }
   ],
   "source": [
    "# evaluate\n",
    "spoloss = spo.eval.trueSPO(reg, ks_model, ks_loader_test)\n",
    "print('Normalized true SPO Loss: {:.2f}%'.format(spoloss * 100))\n",
    "spoloss = spo.eval.unambSPO(reg, ks_model, ks_loader_test)\n",
    "print('Normalized unambiguous SPO Loss: {:.2f}%'.format(spoloss * 100))"
   ]
  },
  {
   "cell_type": "code",
   "execution_count": 75,
   "id": "90e3fc20",
   "metadata": {
    "scrolled": false
   },
   "outputs": [
    {
     "name": "stdout",
     "output_type": "stream",
     "text": [
      "Sample 0:\n",
      "    True cost: 3.00, 6.00, 12.00, 3.00, 6.00, 9.00, 6.00, 10.00, 5.00, 6.00, 8.00, 3.00, 9.00, 13.00, 3.00, 9.00, 7.00, 6.00, 9.00, 7.00, 5.00, 12.00, 9.00, 4.00, 4.00, 6.00, 4.00, 3.00, 6.00, 16.00, 5.00, 7.00, 10.00, 13.00, 16.00, 16.00, 2.00, 4.00, 2.00, 16.00, 4.00, 6.00, 8.00, 2.00, 3.00, 4.00, 16.00, 8.00\n",
      "    Pred cost: -0.32, 0.04, 0.77, 0.82, 0.35, 0.52, 0.39, 0.62, 0.06, 0.33, 0.46, -0.13, 0.52, 0.68, 0.93, 0.47, 0.44, -0.12, 0.86, 0.41, 0.25, 0.73, 0.53, 0.20, -0.09, 0.09, 0.19, 0.01, 0.25, 0.81, 0.19, 0.41, 0.62, 0.82, 0.88, 0.93, -0.38, 0.11, -0.34, 0.99, 0.41, 0.26, 0.47, -0.09, 0.84, -0.08, 0.90, 0.48\n",
      "    True sol: 0, 0, 0, 0, 0, 0, 0, 0, 0, 0, 0, 0, 1, 1, 0, 0, 0, 0, 0, 0, 0, 1, 0, 0, 0, 0, 0, 0, 0, 1, 0, 0, 0, 0, 1, 1, 0, 0, 0, 1, 0, 0, 0, 0, 0, 0, 1, 0, True obj: 114.00\n",
      "    Pred sol: 0, 0, 0, 0, 0, 0, 0, 0, 0, 0, 0, 0, 1, 1, 0, 0, 0, 0, 0, 0, 0, 1, 0, 0, 0, 0, 0, 0, 0, 1, 0, 0, 0, 0, 1, 1, 0, 0, 0, 1, 0, 0, 0, 0, 0, 0, 1, 0, Pred obj: 114.00\n",
      "\n",
      "Sample 1:\n",
      "    True cost: 10.00, 3.00, 3.00, 10.00, 6.00, 20.00, 6.00, 3.00, 18.00, 3.00, 10.00, 5.00, 20.00, 11.00, 10.00, 11.00, 5.00, 10.00, 11.00, 5.00, 18.00, 3.00, 11.00, 18.00, 10.00, 3.00, 18.00, 10.00, 3.00, 11.00, 3.00, 11.00, 18.00, 7.00, 6.00, 21.00, 6.00, 10.00, 6.00, 11.00, 10.00, 6.00, 10.00, 3.00, 10.00, 10.00, 11.00, 18.00\n",
      "    Pred cost: 0.41, -0.57, -0.52, 0.76, 0.28, 1.04, 0.28, -0.03, 0.95, -0.14, 0.50, 0.09, 0.85, 0.55, 0.92, 0.56, 0.27, 0.31, 0.80, 0.07, 0.79, -0.05, 0.53, 0.75, 0.42, -0.52, 0.82, 0.51, -0.24, 0.56, -0.11, 0.57, 0.97, 0.35, 0.28, 0.95, 0.06, 0.50, 0.05, 0.62, 0.95, 0.14, 0.49, -0.04, 0.60, 0.47, 0.61, 0.90\n",
      "    True sol: 0, 0, 0, 0, 0, 1, 0, 0, 0, 0, 0, 0, 1, 1, 0, 0, 0, 0, 0, 0, 1, 0, 0, 1, 0, 0, 1, 0, 0, 1, 0, 1, 0, 0, 0, 1, 0, 0, 0, 0, 0, 0, 0, 0, 0, 0, 0, 0, True obj: 148.00\n",
      "    Pred sol: 0, 0, 0, 0, 0, 1, 0, 0, 0, 0, 0, 0, 1, 1, 0, 0, 0, 0, 0, 0, 1, 0, 0, 1, 0, 0, 1, 0, 0, 1, 0, 1, 0, 0, 0, 1, 0, 0, 0, 0, 0, 0, 0, 0, 0, 0, 0, 0, Pred obj: 148.00\n",
      "\n",
      "Sample 2:\n",
      "    True cost: 6.00, 4.00, 11.00, 6.00, 6.00, 17.00, 7.00, 10.00, 8.00, 4.00, 12.00, 3.00, 17.00, 24.00, 6.00, 14.00, 6.00, 11.00, 14.00, 6.00, 8.00, 11.00, 14.00, 8.00, 6.00, 4.00, 8.00, 6.00, 4.00, 25.00, 5.00, 13.00, 15.00, 13.00, 14.00, 29.00, 3.00, 6.00, 3.00, 25.00, 6.00, 6.00, 12.00, 2.00, 6.00, 6.00, 25.00, 14.00\n",
      "    Pred cost: -0.09, -0.34, 0.38, 0.79, 0.22, 0.81, 0.22, 0.49, 0.22, -0.01, 0.54, -0.43, 0.72, 0.84, 0.97, 0.61, 0.27, 0.19, 0.84, 0.07, 0.36, 0.51, 0.68, 0.37, 0.04, -0.30, 0.38, 0.20, -0.04, 0.91, 0.03, 0.59, 0.77, 0.63, 0.65, 1.13, -0.58, 0.21, -0.54, 1.13, 0.59, 0.06, 0.55, -0.21, 0.88, 0.06, 1.02, 0.69\n",
      "    True sol: 0, 0, 0, 0, 0, 1, 0, 0, 0, 0, 0, 0, 1, 1, 0, 0, 0, 0, 0, 0, 0, 0, 0, 0, 0, 0, 0, 0, 0, 1, 0, 1, 0, 0, 0, 1, 0, 0, 0, 1, 0, 0, 0, 0, 0, 0, 1, 0, True obj: 175.00\n",
      "    Pred sol: 0, 0, 0, 0, 0, 1, 0, 0, 0, 0, 0, 0, 1, 1, 0, 0, 0, 0, 0, 0, 0, 0, 0, 0, 0, 0, 0, 0, 0, 1, 0, 1, 0, 0, 0, 1, 0, 0, 0, 1, 0, 0, 0, 0, 0, 0, 1, 0, Pred obj: 175.00\n",
      "\n",
      "Sample 3:\n",
      "    True cost: 3.00, 8.00, 13.00, 3.00, 6.00, 5.00, 7.00, 10.00, 4.00, 8.00, 6.00, 5.00, 5.00, 8.00, 3.00, 7.00, 8.00, 4.00, 7.00, 8.00, 4.00, 13.00, 7.00, 3.00, 4.00, 8.00, 3.00, 3.00, 8.00, 11.00, 7.00, 5.00, 6.00, 10.00, 13.00, 8.00, 4.00, 4.00, 4.00, 11.00, 4.00, 6.00, 6.00, 4.00, 3.00, 4.00, 11.00, 4.00\n",
      "    Pred cost: -0.22, 0.38, 0.89, 0.86, 0.40, 0.26, 0.49, 0.66, 0.01, 0.62, 0.40, 0.19, 0.36, 0.51, 0.89, 0.44, 0.50, -0.28, 0.88, 0.53, 0.21, 0.81, 0.46, 0.15, 0.05, 0.42, 0.10, 0.06, 0.48, 0.65, 0.43, 0.36, 0.36, 0.77, 0.83, 0.58, -0.08, 0.20, -0.05, 0.73, 0.42, 0.33, 0.41, 0.19, 0.78, 0.02, 0.70, 0.24\n",
      "    True sol: 0, 0, 0, 0, 0, 0, 0, 1, 0, 0, 0, 0, 0, 1, 0, 0, 1, 0, 0, 0, 0, 1, 0, 0, 0, 0, 0, 0, 0, 1, 0, 0, 0, 0, 1, 0, 0, 0, 0, 1, 0, 0, 0, 0, 0, 0, 1, 0, True obj: 85.00\n",
      "    Pred sol: 0, 0, 0, 0, 0, 0, 0, 1, 0, 0, 0, 0, 0, 1, 0, 0, 1, 0, 0, 0, 0, 1, 0, 0, 0, 0, 0, 0, 0, 1, 0, 0, 0, 0, 1, 0, 0, 0, 0, 1, 0, 0, 0, 0, 0, 0, 1, 0, Pred obj: 85.00\n",
      "\n",
      "Sample 4:\n",
      "    True cost: 26.00, 11.00, 17.00, 26.00, 6.00, 24.00, 17.00, 16.00, 18.00, 11.00, 17.00, 12.00, 24.00, 23.00, 26.00, 41.00, 6.00, 15.00, 41.00, 6.00, 18.00, 17.00, 41.00, 16.00, 29.00, 11.00, 16.00, 26.00, 11.00, 25.00, 27.00, 37.00, 10.00, 9.00, 10.00, 14.00, 11.00, 29.00, 11.00, 25.00, 29.00, 6.00, 17.00, 18.00, 26.00, 29.00, 25.00, 9.00\n",
      "    Pred cost: 0.69, -0.02, 0.23, 0.93, 0.02, 0.68, 0.38, 0.43, 0.43, 0.28, 0.47, 0.13, 0.68, 0.64, 0.98, 1.14, 0.06, -0.05, 0.93, -0.26, 0.52, 0.50, 1.11, 0.46, 0.83, -0.00, 0.46, 0.73, 0.17, 0.69, 0.76, 0.91, 0.10, 0.05, 0.13, 0.37, -0.06, 0.82, -0.04, 0.71, 1.07, -0.33, 0.47, 0.52, 0.80, 0.77, 0.73, 0.11\n",
      "    True sol: 0, 0, 0, 0, 0, 0, 0, 0, 0, 0, 0, 0, 1, 1, 0, 1, 0, 0, 0, 0, 1, 0, 1, 0, 0, 0, 0, 1, 0, 1, 0, 1, 0, 0, 0, 0, 0, 0, 0, 0, 0, 0, 0, 0, 0, 0, 0, 0, True obj: 235.00\n",
      "    Pred sol: 0, 0, 0, 0, 0, 0, 0, 0, 0, 0, 0, 0, 1, 1, 0, 0, 0, 0, 0, 0, 1, 0, 0, 0, 0, 0, 0, 1, 0, 1, 1, 1, 0, 0, 0, 0, 0, 1, 0, 0, 0, 0, 0, 0, 0, 0, 1, 0, Pred obj: 234.00\n",
      "\n",
      "Sample 5:\n",
      "    True cost: 12.00, 2.00, 1.00, 12.00, 6.00, 14.00, 12.00, 3.00, 7.00, 2.00, 2.00, 6.00, 14.00, 4.00, 12.00, 4.00, 2.00, 5.00, 4.00, 2.00, 7.00, 1.00, 4.00, 16.00, 5.00, 2.00, 16.00, 12.00, 2.00, 2.00, 9.00, 10.00, 3.00, 5.00, 2.00, 6.00, 14.00, 5.00, 14.00, 2.00, 5.00, 6.00, 2.00, 10.00, 12.00, 5.00, 2.00, 7.00\n",
      "    Pred cost: 1.08, -0.32, -0.64, 0.86, 0.54, 1.16, 1.12, 0.30, 0.75, 0.20, 0.10, 0.61, 0.89, 0.40, 0.90, 0.37, 0.18, 0.29, 0.86, 0.00, 0.61, -0.11, 0.27, 0.90, 0.47, -0.28, 0.96, 0.86, -0.16, 0.04, 0.80, 0.78, 0.15, 0.62, 0.01, 0.55, 1.18, 0.50, 1.15, -0.14, 0.97, 0.59, 0.09, 0.77, 0.54, 0.43, -0.02, 0.62\n",
      "    True sol: 0, 0, 0, 0, 0, 1, 0, 0, 0, 0, 0, 0, 1, 0, 0, 0, 0, -0, 0, 0, 1, 0, 0, 1, 0, 0, 1, 1, 0, 0, 0, 1, 0, 0, 0, 0, 0, 0, 1, 0, 0, 0, 0, 1, 0, 0, 0, 0, True obj: 113.00\n",
      "    Pred sol: 0, 0, 0, 0, 0, 1, 0, 0, 0, 0, 0, 0, 1, 0, 0, 0, 0, 0, 0, 0, 1, 0, 0, 1, 0, 0, 1, 1, 0, 0, 0, 1, 0, 0, 0, 0, 0, 0, 1, 0, 0, 0, 0, 1, 0, 0, 0, 0, Pred obj: 113.00\n",
      "\n",
      "Sample 6:\n",
      "    True cost: 1.00, 7.00, 3.00, 1.00, 6.00, 1.00, 1.00, 2.00, 2.00, 7.00, 3.00, 4.00, 1.00, 1.00, 1.00, 1.00, 9.00, 2.00, 1.00, 9.00, 2.00, 3.00, 1.00, 1.00, 1.00, 7.00, 1.00, 1.00, 7.00, 2.00, 1.00, 1.00, 5.00, 3.00, 5.00, 1.00, 2.00, 1.00, 2.00, 2.00, 1.00, 6.00, 3.00, 2.00, 1.00, 1.00, 2.00, 3.00\n",
      "    Pred cost: -0.35, 0.95, 0.55, 0.70, 0.73, -0.52, 0.03, 0.23, 0.27, 1.04, 0.50, 0.73, -0.18, 0.00, 0.62, -0.35, 0.88, -0.04, 0.72, 1.20, 0.32, 0.50, -0.47, 0.15, 0.03, 0.98, 0.09, -0.08, 0.88, 0.20, -0.12, -0.28, 0.70, 0.62, 0.73, 0.12, 0.41, 0.15, 0.39, 0.12, 0.29, 0.88, 0.49, 0.24, 0.46, 0.03, 0.18, 0.40\n",
      "    True sol: 0, 0, 0, 0, 1, 0, 0, 0, 0, 0, 1, 0, 0, 0, 0, 0, 1, 0, 0, 1, 0, 0, 0, 0, 0, 1, 0, 0, 1, 0, 0, 0, 0, 0, 1, 0, 0, 0, 0, 0, 0, 0, 0, 0, 0, 0, 0, 0, True obj: 46.00\n",
      "    Pred sol: 0, 0, 0, 0, 1, 0, 0, 0, 0, 1, 1, 0, 0, 0, 0, 0, 1, 0, 0, 1, 0, 0, 0, 0, 0, 0, 0, 0, 1, 0, 0, 0, 0, 0, 1, 0, 0, 0, 0, 0, 0, 0, 0, 0, 0, 0, 0, 0, Pred obj: 46.00\n",
      "\n",
      "Sample 7:\n",
      "    True cost: 4.00, 4.00, 2.00, 4.00, 6.00, 4.00, 5.00, 2.00, 7.00, 4.00, 3.00, 8.00, 4.00, 2.00, 4.00, 2.00, 6.00, 3.00, 2.00, 6.00, 7.00, 2.00, 2.00, 7.00, 4.00, 4.00, 7.00, 4.00, 4.00, 2.00, 3.00, 2.00, 5.00, 3.00, 3.00, 2.00, 8.00, 4.00, 8.00, 2.00, 4.00, 6.00, 3.00, 5.00, 4.00, 4.00, 2.00, 4.00\n",
      "    Pred cost: 0.45, 0.31, -0.20, 0.80, 0.59, 0.32, 0.55, 0.09, 0.76, 0.63, 0.32, 0.89, 0.37, 0.09, 0.76, 0.13, 0.55, 0.01, 0.80, 0.63, 0.63, 0.12, -0.00, 0.58, 0.45, 0.35, 0.59, 0.45, 0.37, 0.07, 0.31, 0.24, 0.49, 0.47, 0.31, 0.21, 0.89, 0.48, 0.85, -0.09, 0.77, 0.63, 0.30, 0.55, 0.42, 0.44, 0.02, 0.47\n",
      "    True sol: 0, 0, 0, 0, 1, 0, 0, 0, 0, 0, 0, 1, 0, 0, 0, 0, 1, -0, 0, 0, 1, 0, 0, 1, 0, 0, 1, 0, 0, 0, 0, 0, 0, 0, 0, 0, 0, 0, 1, 0, 0, 0, 0, 1, 0, 0, 0, 0, True obj: 54.00\n",
      "    Pred sol: 0, 0, 0, 0, 1, 0, 0, 0, 0, 0, 0, 0, 0, 0, 0, 0, 1, 0, 0, 0, 1, 0, 0, 1, 0, 0, 1, 0, 0, 0, 0, 0, 0, 0, 0, 0, 0, 1, 1, 0, 0, 0, 0, 1, 0, 0, 0, 1, Pred obj: 54.00\n",
      "\n",
      "Sample 8:\n",
      "    True cost: 2.00, 1.00, 1.00, 2.00, 6.00, 7.00, 9.00, 3.00, 3.00, 1.00, 1.00, 5.00, 7.00, 2.00, 2.00, 1.00, 3.00, 2.00, 1.00, 3.00, 3.00, 1.00, 1.00, 6.00, 1.00, 1.00, 6.00, 2.00, 1.00, 1.00, 4.00, 3.00, 2.00, 6.00, 4.00, 5.00, 8.00, 1.00, 8.00, 1.00, 1.00, 6.00, 1.00, 3.00, 2.00, 1.00, 1.00, 4.00\n"
     ]
    },
    {
     "name": "stdout",
     "output_type": "stream",
     "text": [
      "    Pred cost: 0.38, -0.12, -0.11, 0.85, 0.74, 1.01, 1.33, 0.42, 0.60, 0.40, 0.03, 0.78, 0.76, 0.28, 0.89, 0.10, 0.50, -0.13, 0.86, 0.58, 0.50, 0.16, 0.03, 0.68, -0.01, -0.04, 0.72, 0.36, 0.02, 0.07, 0.62, 0.44, 0.38, 1.14, 0.62, 0.71, 1.14, 0.13, 1.12, -0.05, 0.58, 0.93, 0.03, 0.51, 0.51, -0.02, 0.03, 0.64\n",
      "    True sol: 0, 0, 0, 0, 1, 1, 0, 0, 0, 0, 0, 0, 1, 0, 0, 0, 0, 0, -0, 0, 1, 0, 0, 1, 0, 0, 1, 0, 0, 0, 0, 0, 0, 0, 0, 0, 1, 0, 1, 0, 0, 0, 0, 0, 0, 0, 0, 0, True obj: 51.00\n",
      "    Pred sol: 0, 0, 0, 0, 1, 1, 0, 0, 0, 0, 0, 0, 1, 0, 0, 0, 0, 0, 0, 0, 0, 0, 0, 1, 0, 0, 1, 0, 0, 0, 0, 0, 0, 0, 0, 0, 1, 0, 1, 0, 0, 0, 0, 1, 0, 0, 0, 0, Pred obj: 51.00\n",
      "\n",
      "Sample 9:\n",
      "    True cost: 22.00, 12.00, 8.00, 22.00, 6.00, 10.00, 3.00, 6.00, 18.00, 12.00, 28.00, 7.00, 10.00, 17.00, 22.00, 19.00, 7.00, 23.00, 19.00, 7.00, 18.00, 8.00, 19.00, 15.00, 27.00, 12.00, 15.00, 22.00, 12.00, 20.00, 6.00, 16.00, 19.00, 4.00, 5.00, 11.00, 5.00, 27.00, 5.00, 20.00, 27.00, 6.00, 28.00, 9.00, 22.00, 27.00, 20.00, 15.00\n",
      "    Pred cost: 0.64, 0.13, -0.24, 0.73, 0.08, 0.08, -0.61, 0.00, 0.57, 0.25, 0.81, -0.15, 0.31, 0.54, 0.77, 0.61, 0.17, 0.67, 0.75, -0.15, 0.59, 0.14, 0.52, 0.48, 0.88, 0.12, 0.47, 0.72, 0.30, 0.64, -0.08, 0.52, 0.61, -0.41, -0.19, 0.28, -0.38, 0.84, -0.38, 0.66, 1.06, -0.23, 0.79, 0.24, 0.70, 0.87, 0.67, 0.49\n",
      "    True sol: 0, 0, 0, 0, 0, 0, 0, 0, 0, 0, 1, 0, 0, 1, 0, 0, 0, 0, 0, 0, 1, 0, 0, 0, 1, 0, 0, 1, 0, 1, 0, 1, 0, 0, 0, 0, 0, 1, 0, 0, 0, 0, 1, 0, 0, 0, 0, 0, True obj: 203.00\n",
      "    Pred sol: 0, 0, 0, 0, 0, 0, 0, 0, 0, 0, 1, 0, 0, 1, 0, 0, 0, 0, 0, 0, 1, 0, 0, 0, 1, 0, 0, 1, 0, 1, 0, 1, 0, 0, 0, 0, 0, 1, 0, 0, 0, 0, 1, 0, 0, 0, 0, 0, Pred obj: 203.00\n",
      "\n"
     ]
    }
   ],
   "source": [
    "reg.eval()\n",
    "# compare solutions\n",
    "for i, data in enumerate(ks_loader_test):\n",
    "    # load data\n",
    "    x, c, w, z = data\n",
    "    # cuda\n",
    "    if torch.cuda.is_available():\n",
    "        x, c, w, z = x.cuda(), c.cuda(), w.cuda(), z.cuda()\n",
    "    # predict\n",
    "    cp = reg(x)\n",
    "    # convert to numpy\n",
    "    x = x.to('cpu').detach().numpy()\n",
    "    c = c.to('cpu').detach().numpy()\n",
    "    w = w.to('cpu').detach().numpy()\n",
    "    z = z.to('cpu').detach().numpy()\n",
    "    for j in range(min(10, batch_size)):\n",
    "        print('Sample {}:'.format(j))\n",
    "        print('    True cost:', ', '.join(['{:.2f}'.format(-cost) for cost in c[j]]))\n",
    "        print('    Pred cost:', ', '.join(['{:.2f}'.format(-cost) for cost in cp[j]]))\n",
    "        # solve cost from prediction\n",
    "        ks_model.setObj(cp[j])\n",
    "        wpj, _ = ks_model.solve()\n",
    "        zpj = np.dot(c[j], wpj)\n",
    "        print('    True sol: ' + ', '.join(['{:.0f}'.format(x) for x in w[j]]) + ', True obj: {:.2f}'.format(-z[j,0]))\n",
    "        print('    Pred sol: '+  ', '.join(['{:.0f}'.format(x) for x in wpj]) + ', Pred obj: {:.2f}'.format(-zpj))\n",
    "        print()\n",
    "    break"
   ]
  },
  {
   "cell_type": "code",
   "execution_count": null,
   "id": "4a1a2b7c",
   "metadata": {},
   "outputs": [],
   "source": []
  }
 ],
 "metadata": {
  "kernelspec": {
   "display_name": "Python 3",
   "language": "python",
   "name": "python3"
  },
  "language_info": {
   "codemirror_mode": {
    "name": "ipython",
    "version": 3
   },
   "file_extension": ".py",
   "mimetype": "text/x-python",
   "name": "python",
   "nbconvert_exporter": "python",
   "pygments_lexer": "ipython3",
   "version": "3.7.10"
  }
 },
 "nbformat": 4,
 "nbformat_minor": 5
}
