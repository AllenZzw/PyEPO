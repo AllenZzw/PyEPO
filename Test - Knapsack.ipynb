{
 "cells": [
  {
   "cell_type": "code",
   "execution_count": 1,
   "id": "4a8178d0",
   "metadata": {},
   "outputs": [
    {
     "data": {
      "text/plain": [
       "<torch._C.Generator at 0x23e67c50870>"
      ]
     },
     "execution_count": 1,
     "metadata": {},
     "output_type": "execute_result"
    }
   ],
   "source": [
    "import time\n",
    "import spo\n",
    "import torch\n",
    "from matplotlib import pyplot as plt\n",
    "import numpy as np\n",
    "from tqdm import tqdm\n",
    "torch.manual_seed(135)"
   ]
  },
  {
   "cell_type": "markdown",
   "id": "610273f3",
   "metadata": {},
   "source": [
    "## Init Data"
   ]
  },
  {
   "cell_type": "code",
   "execution_count": 2,
   "id": "b294594d",
   "metadata": {},
   "outputs": [],
   "source": [
    "# generate data for grid network (features and costs)\n",
    "m = 48 # number of items\n",
    "n = 1000 # number of data\n",
    "p = 5 # size of feature\n",
    "deg = 4 # polynomial degree\n",
    "weights, x, c = spo.data.knapsack.genData(n+1000, p, m, deg=deg, cor=False)"
   ]
  },
  {
   "cell_type": "code",
   "execution_count": 3,
   "id": "1a1f8e4a",
   "metadata": {},
   "outputs": [
    {
     "data": {
      "text/plain": [
       "array([6, 6, 6, 7, 3, 5, 7, 4, 6, 7, 3, 6, 3, 3, 7, 6, 3, 7, 7, 6, 3, 4,\n",
       "       6, 3, 5, 6, 3, 3, 4, 3, 4, 3, 6, 7, 4, 4, 6, 4, 4, 5, 7, 6, 3, 3,\n",
       "       7, 5, 4, 4])"
      ]
     },
     "execution_count": 3,
     "metadata": {},
     "output_type": "execute_result"
    }
   ],
   "source": [
    "weights"
   ]
  },
  {
   "cell_type": "code",
   "execution_count": 4,
   "id": "36330b0b",
   "metadata": {},
   "outputs": [],
   "source": [
    "# convert max into min\n",
    "c = - c"
   ]
  },
  {
   "cell_type": "markdown",
   "id": "2bd2586e",
   "metadata": {},
   "source": [
    "## Optimization model "
   ]
  },
  {
   "cell_type": "code",
   "execution_count": 5,
   "id": "854f2b47",
   "metadata": {},
   "outputs": [],
   "source": [
    "# capacity\n",
    "cap = 30"
   ]
  },
  {
   "cell_type": "code",
   "execution_count": 6,
   "id": "95c1fde4",
   "metadata": {},
   "outputs": [
    {
     "name": "stdout",
     "output_type": "stream",
     "text": [
      "\n",
      "--------------------------------------------\n",
      "Warning: your license will expire in 12 days\n",
      "--------------------------------------------\n",
      "\n",
      "Academic license - for non-commercial use only - expires 2021-06-13\n",
      "Using license file C:\\Users\\Apocrypse\\gurobi.lic\n"
     ]
    }
   ],
   "source": [
    "ks_model = spo.model.knapsackModel(weights, cap)"
   ]
  },
  {
   "cell_type": "code",
   "execution_count": 7,
   "id": "24e5bd87",
   "metadata": {},
   "outputs": [
    {
     "name": "stdout",
     "output_type": "stream",
     "text": [
      "[0.0, 0.0, 0.0, 0.0, 1.0, 0.0, 0.0, 0.0, 0.0, 0.0, 1.0, 0.0, 0.0, 1.0, 0.0, 0.0, 1.0, 0.0, 0.0, 0.0, 0.0, 0.0, 0.0, 0.0, 0.0, 0.0, 1.0, 1.0, 0.0, 1.0, 0.0, 1.0, 0.0, 0.0, 0.0, 0.0, 0.0, 0.0, 0.0, 0.0, 0.0, 0.0, 1.0, 1.0, 0.0, 0.0, 0.0, 0.0]\n",
      "Obj: -10.0\n",
      "4\n",
      "10\n",
      "13\n",
      "16\n",
      "26\n",
      "27\n",
      "29\n",
      "31\n",
      "42\n",
      "43\n"
     ]
    }
   ],
   "source": [
    "# solve\n",
    "ks_model.setObj([-1 for i in range(m)])\n",
    "sol, obj = ks_model.solve()\n",
    "print(sol)\n",
    "print('Obj: {}'.format(obj))\n",
    "for i in ks_model.items:\n",
    "    if sol[i] > 1e-3:\n",
    "        print(i)"
   ]
  },
  {
   "cell_type": "markdown",
   "id": "4bec37e4",
   "metadata": {},
   "source": [
    "## Data Loader "
   ]
  },
  {
   "cell_type": "code",
   "execution_count": 8,
   "id": "261aed4e",
   "metadata": {},
   "outputs": [],
   "source": [
    "from sklearn.model_selection import train_test_split\n",
    "from torch.utils.data import DataLoader"
   ]
  },
  {
   "cell_type": "code",
   "execution_count": 9,
   "id": "4eda340b",
   "metadata": {},
   "outputs": [],
   "source": [
    "# data split\n",
    "x_train, x_test, c_train, c_test = train_test_split(x, c, test_size=1000, random_state=246)"
   ]
  },
  {
   "cell_type": "code",
   "execution_count": 10,
   "id": "a0e0ef0b",
   "metadata": {},
   "outputs": [
    {
     "name": "stdout",
     "output_type": "stream",
     "text": [
      "Optimizing for optDataset...\n"
     ]
    },
    {
     "name": "stderr",
     "output_type": "stream",
     "text": [
      "100%|█████████████████████████████████████████████████████████████████████| 1000/1000 [00:03<00:00, 322.29it/s]\n"
     ]
    }
   ],
   "source": [
    "# get training data set\n",
    "ks_dataset_train = spo.data.dataset.optDataset(ks_model, x_train, c_train)"
   ]
  },
  {
   "cell_type": "code",
   "execution_count": 11,
   "id": "c8fc0755",
   "metadata": {},
   "outputs": [
    {
     "name": "stdout",
     "output_type": "stream",
     "text": [
      "Optimizing for optDataset...\n"
     ]
    },
    {
     "name": "stderr",
     "output_type": "stream",
     "text": [
      "100%|█████████████████████████████████████████████████████████████████████| 1000/1000 [00:03<00:00, 326.91it/s]\n"
     ]
    }
   ],
   "source": [
    "# get test data set\n",
    "ks_dataset_test = spo.data.dataset.optDataset(ks_model, x_test, c_test)"
   ]
  },
  {
   "cell_type": "code",
   "execution_count": 12,
   "id": "bf0bbb3e",
   "metadata": {},
   "outputs": [],
   "source": [
    "# get data loader\n",
    "batch_size = 32\n",
    "ks_loader_train = DataLoader(ks_dataset_train, batch_size=batch_size, shuffle=True)\n",
    "ks_loader_test = DataLoader(ks_dataset_test, batch_size=batch_size, shuffle=False)"
   ]
  },
  {
   "cell_type": "code",
   "execution_count": 13,
   "id": "a542a7df",
   "metadata": {},
   "outputs": [],
   "source": [
    "for i, data in enumerate(ks_loader_train):\n",
    "    x, c, w, z = data\n",
    "    break"
   ]
  },
  {
   "cell_type": "code",
   "execution_count": 14,
   "id": "75fc2763",
   "metadata": {},
   "outputs": [
    {
     "data": {
      "text/plain": [
       "torch.Size([32, 5])"
      ]
     },
     "execution_count": 14,
     "metadata": {},
     "output_type": "execute_result"
    }
   ],
   "source": [
    "x.shape"
   ]
  },
  {
   "cell_type": "code",
   "execution_count": 15,
   "id": "5e50a821",
   "metadata": {},
   "outputs": [
    {
     "data": {
      "text/plain": [
       "torch.Size([32, 48])"
      ]
     },
     "execution_count": 15,
     "metadata": {},
     "output_type": "execute_result"
    }
   ],
   "source": [
    "c.shape"
   ]
  },
  {
   "cell_type": "code",
   "execution_count": 16,
   "id": "074c9398",
   "metadata": {},
   "outputs": [
    {
     "data": {
      "text/plain": [
       "torch.Size([32, 48])"
      ]
     },
     "execution_count": 16,
     "metadata": {},
     "output_type": "execute_result"
    }
   ],
   "source": [
    "w.shape"
   ]
  },
  {
   "cell_type": "code",
   "execution_count": 17,
   "id": "20de02c7",
   "metadata": {},
   "outputs": [
    {
     "data": {
      "text/plain": [
       "torch.Size([32, 1])"
      ]
     },
     "execution_count": 17,
     "metadata": {},
     "output_type": "execute_result"
    }
   ],
   "source": [
    "z.shape"
   ]
  },
  {
   "cell_type": "markdown",
   "id": "ba836667",
   "metadata": {},
   "source": [
    "## Linear Regression from Scikit-Lear "
   ]
  },
  {
   "cell_type": "code",
   "execution_count": 18,
   "id": "bac0dc77",
   "metadata": {},
   "outputs": [],
   "source": [
    "from sklearn.linear_model import LinearRegression"
   ]
  },
  {
   "cell_type": "code",
   "execution_count": 19,
   "id": "2888cc9b",
   "metadata": {},
   "outputs": [],
   "source": [
    "# prediction model\n",
    "reg = LinearRegression()"
   ]
  },
  {
   "cell_type": "markdown",
   "id": "cc19e83e",
   "metadata": {},
   "source": [
    "## Two-Stage "
   ]
  },
  {
   "cell_type": "code",
   "execution_count": 20,
   "id": "6adcf558",
   "metadata": {},
   "outputs": [],
   "source": [
    "# build model\n",
    "twostage_model = spo.twostage.sklearnPred(reg, ks_model)"
   ]
  },
  {
   "cell_type": "code",
   "execution_count": 21,
   "id": "86fe3c54",
   "metadata": {},
   "outputs": [],
   "source": [
    "# training\n",
    "twostage_model.fit(ks_dataset_train.x, ks_dataset_train.c)"
   ]
  },
  {
   "cell_type": "code",
   "execution_count": 22,
   "id": "e2e103e7",
   "metadata": {},
   "outputs": [],
   "source": [
    "# prediction\n",
    "c_test_pred = twostage_model.predict(ks_dataset_test.x)"
   ]
  },
  {
   "cell_type": "code",
   "execution_count": 23,
   "id": "5aa3cd7f",
   "metadata": {},
   "outputs": [
    {
     "name": "stderr",
     "output_type": "stream",
     "text": [
      "100%|██████████████████████████████████████████████████████████████████████| 1000/1000 [00:20<00:00, 49.58it/s]\n"
     ]
    },
    {
     "name": "stdout",
     "output_type": "stream",
     "text": [
      "Normalized true SPO Loss: 2.09%\n",
      "Normalized unambiguous SPO Loss: 2.09%\n"
     ]
    }
   ],
   "source": [
    "# evaluate\n",
    "truespo = 0\n",
    "unambspo = 0\n",
    "for i in tqdm(range(1000)):\n",
    "    c_pred_i = c_test_pred[i]\n",
    "    c_true_i = ks_dataset_test.c[i]\n",
    "    z_true_i = ks_dataset_test.z[i,0]\n",
    "    truespo += spo.eval.calTrueSPO(ks_model, c_pred_i, c_true_i, z_true_i)\n",
    "    unambspo += spo.eval.calUnambSPO(ks_model, c_pred_i, c_true_i, z_true_i)\n",
    "time.sleep(1)\n",
    "print('Normalized true SPO Loss: {:.2f}%'.format(truespo / abs(ks_dataset_test.z.sum()) * 100))\n",
    "print('Normalized unambiguous SPO Loss: {:.2f}%'.format(unambspo / abs(ks_dataset_test.z.sum()) * 100))"
   ]
  },
  {
   "cell_type": "code",
   "execution_count": 24,
   "id": "feeeed33",
   "metadata": {
    "scrolled": false
   },
   "outputs": [
    {
     "name": "stdout",
     "output_type": "stream",
     "text": [
      "Sample 0:\n",
      "    True cost: 3.00, 6.00, 12.00, 3.00, 6.00, 9.00, 6.00, 10.00, 5.00, 6.00, 8.00, 3.00, 9.00, 13.00, 3.00, 9.00, 7.00, 6.00, 9.00, 7.00, 5.00, 12.00, 9.00, 4.00, 4.00, 6.00, 4.00, 3.00, 6.00, 16.00, 5.00, 7.00, 10.00, 13.00, 16.00, 16.00, 2.00, 4.00, 2.00, 16.00, 4.00, 6.00, 8.00, 2.00, 3.00, 4.00, 16.00, 8.00\n",
      "    Pred cost: 2.73, 7.06, 13.91, 2.73, 6.00, 10.63, 7.79, 10.89, 6.59, 7.06, 10.01, 3.78, 10.63, 13.83, 2.73, 13.16, 7.88, 7.27, 13.16, 7.88, 6.59, 13.91, 13.16, 3.96, 5.43, 7.06, 3.96, 2.73, 7.06, 17.33, 7.10, 9.77, 10.82, 11.26, 14.18, 14.32, 1.56, 5.43, 1.56, 17.33, 5.43, 6.00, 10.01, 0.43, 2.73, 5.43, 17.33, 8.19\n",
      "    True sol: 0, 0, 0, 0, 0, 0, 0, 0, 0, 0, 0, 0, 1, 1, 0, 0, 0, 0, 0, 0, 0, 1, 0, 0, 0, 0, 0, 0, 0, 1, 0, 0, 0, 0, 1, 1, 0, 0, 0, 1, 0, 0, 0, 0, 0, 0, 1, 0, True obj: 114.00\n",
      "    Pred sol: 0, 0, 0, 0, 0, 0, 0, 0, 0, 0, 0, 0, 1, 1, 0, 0, 0, 0, 0, 0, 0, 1, 0, 0, 0, 0, 0, 0, 0, 1, 0, 0, 0, 0, 1, 1, 0, 0, 0, 1, 0, 0, 0, 0, 0, 0, 1, 0, Pred obj: 114.00\n",
      "\n",
      "Sample 1:\n",
      "    True cost: 10.00, 3.00, 3.00, 10.00, 6.00, 20.00, 6.00, 3.00, 18.00, 3.00, 10.00, 5.00, 20.00, 11.00, 10.00, 11.00, 5.00, 10.00, 11.00, 5.00, 18.00, 3.00, 11.00, 18.00, 10.00, 3.00, 18.00, 10.00, 3.00, 11.00, 3.00, 11.00, 18.00, 7.00, 6.00, 21.00, 6.00, 10.00, 6.00, 11.00, 10.00, 6.00, 10.00, 3.00, 10.00, 10.00, 11.00, 18.00\n",
      "    Pred cost: 12.02, 2.40, 3.72, 12.02, 6.00, 17.96, 8.00, 3.30, 16.75, 2.40, 11.77, 6.86, 17.96, 12.60, 12.02, 14.92, 6.18, 10.80, 14.92, 6.18, 16.75, 3.72, 14.92, 15.62, 12.90, 2.40, 15.62, 12.02, 2.40, 13.77, 3.81, 13.93, 15.28, 7.02, 7.73, 16.10, 6.41, 12.90, 6.41, 13.77, 12.90, 6.00, 11.77, 2.58, 12.02, 12.90, 13.77, 13.95\n",
      "    True sol: 0, 0, 0, 0, 0, 1, 0, 0, 0, 0, 0, 0, 1, 1, 0, 0, 0, 0, 0, 0, 1, 0, 0, 1, 0, 0, 1, 0, 0, 1, 0, 1, 0, 0, 0, 1, 0, 0, 0, 0, 0, 0, 0, 0, 0, 0, 0, 0, True obj: 148.00\n",
      "    Pred sol: 0, 0, 0, 0, 0, 0, 0, 0, 0, 0, 1, 0, 1, 1, 0, 0, 0, 0, 0, 0, 1, 0, 0, 1, 0, 0, 1, 1, 0, 1, 0, 1, 0, 0, 0, 0, 0, 0, 0, 0, 0, 0, 1, 0, 0, 0, 0, 0, Pred obj: 137.00\n",
      "\n",
      "Sample 2:\n",
      "    True cost: 6.00, 4.00, 11.00, 6.00, 6.00, 17.00, 7.00, 10.00, 8.00, 4.00, 12.00, 3.00, 17.00, 24.00, 6.00, 14.00, 6.00, 11.00, 14.00, 6.00, 8.00, 11.00, 14.00, 8.00, 6.00, 4.00, 8.00, 6.00, 4.00, 25.00, 5.00, 13.00, 15.00, 13.00, 14.00, 29.00, 3.00, 6.00, 3.00, 25.00, 6.00, 6.00, 12.00, 2.00, 6.00, 6.00, 25.00, 14.00\n",
      "    Pred cost: 7.74, 5.86, 12.70, 7.74, 6.00, 15.95, 8.26, 10.84, 10.66, 5.86, 13.56, 2.97, 15.95, 18.50, 7.74, 17.49, 6.88, 11.63, 17.49, 6.88, 10.66, 12.70, 17.49, 8.84, 9.55, 5.86, 8.84, 7.74, 5.86, 21.15, 7.23, 15.06, 14.27, 11.43, 13.31, 18.91, 1.84, 9.55, 1.84, 21.15, 9.55, 6.00, 13.56, 0.56, 7.74, 9.55, 21.15, 12.34\n",
      "    True sol: 0, 0, 0, 0, 0, 1, 0, 0, 0, 0, 0, 0, 1, 1, 0, 0, 0, 0, 0, 0, 0, 0, 0, 0, 0, 0, 0, 0, 0, 1, 0, 1, 0, 0, 0, 1, 0, 0, 0, 1, 0, 0, 0, 0, 0, 0, 1, 0, True obj: 175.00\n",
      "    Pred sol: 0, 0, 0, 0, 0, 0, 0, 0, 0, 0, 1, 0, 1, 1, 0, 0, 0, 0, 0, 0, 0, 0, 0, 0, 0, 0, 0, 0, 0, 1, 0, 1, 0, 0, 1, 1, 0, 0, 0, 0, 0, 0, 1, 0, 0, 0, 1, 0, Pred obj: 171.00\n",
      "\n",
      "Sample 3:\n",
      "    True cost: 3.00, 8.00, 13.00, 3.00, 6.00, 5.00, 7.00, 10.00, 4.00, 8.00, 6.00, 5.00, 5.00, 8.00, 3.00, 7.00, 8.00, 4.00, 7.00, 8.00, 4.00, 13.00, 7.00, 3.00, 4.00, 8.00, 3.00, 3.00, 8.00, 11.00, 7.00, 5.00, 6.00, 10.00, 13.00, 8.00, 4.00, 4.00, 4.00, 11.00, 4.00, 6.00, 6.00, 4.00, 3.00, 4.00, 11.00, 4.00\n",
      "    Pred cost: 2.76, 8.94, 14.35, 2.76, 6.00, 7.27, 8.25, 11.00, 5.11, 8.94, 8.16, 6.11, 7.27, 10.18, 2.76, 11.60, 8.13, 5.31, 11.60, 8.13, 5.11, 14.35, 11.60, 2.41, 5.66, 8.94, 2.41, 2.76, 8.94, 13.69, 9.30, 8.06, 7.46, 9.87, 12.98, 9.27, 3.52, 5.66, 3.52, 13.69, 5.66, 6.00, 8.16, 4.05, 2.76, 5.66, 13.69, 4.83\n",
      "    True sol: 0, 0, 0, 0, 0, 0, 0, 1, 0, 0, 0, 0, 0, 1, 0, 0, 1, 0, 0, 0, 0, 1, 0, 0, 0, 0, 0, 0, 0, 1, 0, 0, 0, 0, 1, 0, 0, 0, 0, 1, 0, 0, 0, 0, 0, 0, 1, 0, True obj: 85.00\n",
      "    Pred sol: 0, 0, 0, 0, 0, 0, 0, 1, 0, 0, 0, 0, 0, 1, 0, 0, 0, 0, 0, 0, 0, 1, 0, 0, 0, 0, 0, 0, 0, 1, 0, 0, 0, 0, 1, 0, 0, 0, 0, 1, 0, 0, 1, 0, 0, 0, 1, 0, Pred obj: 83.00\n",
      "\n",
      "Sample 4:\n",
      "    True cost: 26.00, 11.00, 17.00, 26.00, 6.00, 24.00, 17.00, 16.00, 18.00, 11.00, 17.00, 12.00, 24.00, 23.00, 26.00, 41.00, 6.00, 15.00, 41.00, 6.00, 18.00, 17.00, 41.00, 16.00, 29.00, 11.00, 16.00, 26.00, 11.00, 25.00, 27.00, 37.00, 10.00, 9.00, 10.00, 14.00, 11.00, 29.00, 11.00, 25.00, 29.00, 6.00, 17.00, 18.00, 26.00, 29.00, 25.00, 9.00\n",
      "    Pred cost: 19.80, 11.82, 16.68, 19.80, 6.00, 19.30, 14.89, 14.14, 16.77, 11.82, 16.18, 12.23, 19.30, 18.32, 19.80, 27.93, 7.02, 13.96, 27.93, 7.02, 16.77, 16.68, 27.93, 14.74, 22.22, 11.82, 14.74, 19.80, 11.82, 21.25, 20.02, 24.76, 10.98, 9.31, 11.45, 13.11, 10.57, 22.22, 10.57, 21.25, 22.22, 6.00, 16.18, 15.18, 19.80, 22.22, 21.25, 9.12\n",
      "    True sol: 0, 0, 0, 0, 0, 0, 0, 0, 0, 0, 0, 0, 1, 1, 0, 1, 0, 0, 0, 0, 1, 0, 1, 0, 0, 0, 0, 1, 0, 1, 0, 1, 0, 0, 0, 0, 0, 0, 0, 0, 0, 0, 0, 0, 0, 0, 0, 0, True obj: 235.00\n",
      "    Pred sol: 0, 0, 0, 0, 0, 0, 0, 0, 0, 0, 0, 0, 1, 1, 0, 0, 0, 0, 0, 0, 1, 0, 0, 0, 0, 0, 0, 1, 0, 1, 1, 1, 0, 0, 0, 0, 0, 1, 0, 0, 0, 0, 0, 0, 0, 0, 1, 0, Pred obj: 234.00\n",
      "\n",
      "Sample 5:\n",
      "    True cost: 12.00, 2.00, 1.00, 12.00, 6.00, 14.00, 12.00, 3.00, 7.00, 2.00, 2.00, 6.00, 14.00, 4.00, 12.00, 4.00, 2.00, 5.00, 4.00, 2.00, 7.00, 1.00, 4.00, 16.00, 5.00, 2.00, 16.00, 12.00, 2.00, 2.00, 9.00, 10.00, 3.00, 5.00, 2.00, 6.00, 14.00, 5.00, 14.00, 2.00, 5.00, 6.00, 2.00, 10.00, 12.00, 5.00, 2.00, 7.00\n",
      "    Pred cost: 13.11, -0.92, -1.75, 13.11, 6.00, 14.59, 12.14, 3.77, 9.63, -0.92, 0.23, 7.63, 14.59, 5.34, 13.11, 6.89, 0.97, 5.68, 6.89, 0.97, 9.63, -1.75, 6.89, 14.57, 7.55, -0.92, 14.57, 13.11, -0.92, -0.58, 10.49, 12.80, 2.34, 5.36, 0.43, 7.02, 12.26, 7.55, 12.26, -0.58, 7.55, 6.00, 0.23, 10.87, 13.11, 7.55, -0.58, 7.14\n",
      "    True sol: 0, 0, 0, 0, 0, 1, 0, 0, 0, 0, 0, 0, 1, 0, 0, 0, 0, -0, 0, 0, 1, 0, 0, 1, 0, 0, 1, 1, 0, 0, 0, 1, 0, 0, 0, 0, 0, 0, 1, 0, 0, 0, 0, 1, 0, 0, 0, 0, True obj: 113.00\n",
      "    Pred sol: 0, 0, 0, 0, 0, 1, 0, 0, 0, 0, 0, 0, 1, 0, 0, 0, 0, 0, 0, 0, 1, 0, 0, 1, 0, 0, 1, 1, 0, 0, 0, 1, 0, 0, 0, 0, 0, 0, 1, 0, 0, 0, 0, 1, 0, 0, 0, 0, Pred obj: 113.00\n",
      "\n",
      "Sample 6:\n",
      "    True cost: 1.00, 7.00, 3.00, 1.00, 6.00, 1.00, 1.00, 2.00, 2.00, 7.00, 3.00, 4.00, 1.00, 1.00, 1.00, 1.00, 9.00, 2.00, 1.00, 9.00, 2.00, 3.00, 1.00, 1.00, 1.00, 7.00, 1.00, 1.00, 7.00, 2.00, 1.00, 1.00, 5.00, 3.00, 5.00, 1.00, 2.00, 1.00, 2.00, 2.00, 1.00, 6.00, 3.00, 2.00, 1.00, 1.00, 2.00, 3.00\n",
      "    Pred cost: -4.78, 7.70, 3.81, -4.78, 6.00, -6.92, -2.46, 0.36, 0.69, 7.70, 3.89, 5.07, -6.92, -3.64, -4.78, -6.02, 9.27, 0.35, -6.02, 9.27, 0.69, 3.81, -6.02, -2.70, -1.30, 7.70, -2.70, -4.78, 7.70, -0.29, -4.47, -9.25, 5.66, 2.22, 5.60, -1.53, 1.53, -1.30, 1.53, -0.29, -1.30, 6.00, 3.89, -0.22, -4.78, -1.30, -0.29, 2.07\n",
      "    True sol: 0, 0, 0, 0, 1, 0, 0, 0, 0, 0, 1, 0, 0, 0, 0, 0, 1, 0, 0, 1, 0, 0, 0, 0, 0, 1, 0, 0, 1, 0, 0, 0, 0, 0, 1, 0, 0, 0, 0, 0, 0, 0, 0, 0, 0, 0, 0, 0, True obj: 46.00\n",
      "    Pred sol: 0, 0, 0, 0, 1, 0, 0, 0, 0, 0, 1, 0, 0, 0, 0, 0, 1, 0, 0, 1, 0, 0, 0, 0, 0, 1, 0, 0, 1, 0, 0, 0, 0, 0, 1, 0, 0, 0, 0, 0, 0, 0, 0, 0, 0, 0, 0, 0, Pred obj: 46.00\n",
      "\n",
      "Sample 7:\n",
      "    True cost: 4.00, 4.00, 2.00, 4.00, 6.00, 4.00, 5.00, 2.00, 7.00, 4.00, 3.00, 8.00, 4.00, 2.00, 4.00, 2.00, 6.00, 3.00, 2.00, 6.00, 7.00, 2.00, 2.00, 7.00, 4.00, 4.00, 7.00, 4.00, 4.00, 2.00, 3.00, 2.00, 5.00, 3.00, 3.00, 2.00, 8.00, 4.00, 8.00, 2.00, 4.00, 6.00, 3.00, 5.00, 4.00, 4.00, 2.00, 4.00\n",
      "    Pred cost: 6.13, 4.25, 0.93, 6.13, 6.00, 5.15, 5.69, 0.73, 8.68, 4.25, 3.31, 9.34, 5.15, -0.20, 6.13, 2.79, 6.23, 3.00, 2.79, 6.23, 8.68, 0.93, 2.79, 8.17, 6.45, 4.25, 8.17, 6.13, 4.25, -0.17, 3.49, 2.72, 5.49, 2.89, 3.26, 2.12, 8.69, 6.45, 8.69, -0.17, 6.45, 6.00, 3.31, 6.81, 6.13, 6.45, -0.17, 4.88\n",
      "    True sol: 0, 0, 0, 0, 1, 0, 0, 0, 0, 0, 0, 1, 0, 0, 0, 0, 1, -0, 0, 0, 1, 0, 0, 1, 0, 0, 1, 0, 0, 0, 0, 0, 0, 0, 0, 0, 0, 0, 1, 0, 0, 0, 0, 1, 0, 0, 0, 0, True obj: 54.00\n",
      "    Pred sol: 0, 0, 0, 0, 1, 0, 0, 0, 0, 0, 0, 0, 0, 0, 0, 0, 1, 0, 0, 0, 1, 0, 0, 1, 0, 0, 1, 1, 0, 0, 0, 0, 0, 0, 0, 0, 0, 1, 1, 0, 0, 0, 0, 1, 0, 0, 0, 0, Pred obj: 54.00\n",
      "\n",
      "Sample 8:\n",
      "    True cost: 2.00, 1.00, 1.00, 2.00, 6.00, 7.00, 9.00, 3.00, 3.00, 1.00, 1.00, 5.00, 7.00, 2.00, 2.00, 1.00, 3.00, 2.00, 1.00, 3.00, 3.00, 1.00, 1.00, 6.00, 1.00, 1.00, 6.00, 2.00, 1.00, 1.00, 4.00, 3.00, 2.00, 6.00, 4.00, 5.00, 8.00, 1.00, 8.00, 1.00, 1.00, 6.00, 1.00, 3.00, 2.00, 1.00, 1.00, 4.00\n",
      "    Pred cost: 1.85, -2.29, -1.16, 1.85, 6.00, 9.08, 10.04, 2.23, 4.31, -2.29, -4.54, 5.81, 9.08, 0.44, 1.85, -0.48, 2.96, -0.94, -0.48, 2.96, 4.31, -1.16, -0.48, 7.34, -1.85, -2.29, 7.34, 1.85, -2.29, -3.40, 5.00, 3.37, 1.37, 6.95, 4.16, 5.78, 8.46, -1.85, 8.46, -3.40, -1.85, 6.00, -4.54, 3.55, 1.85, -1.85, -3.40, 4.31\n",
      "    True sol: 0, 0, 0, 0, 1, 1, 0, 0, 0, 0, 0, 0, 1, 0, 0, 0, 0, 0, -0, 0, 1, 0, 0, 1, 0, 0, 1, 0, 0, 0, 0, 0, 0, 0, 0, 0, 1, 0, 1, 0, 0, 0, 0, 0, 0, 0, 0, 0, True obj: 51.00\n",
      "    Pred sol: 0, 0, 0, 0, 1, 1, 0, 0, 0, 0, 0, 0, 1, 0, 0, 0, 0, 0, 0, 0, 1, 0, 0, 1, 0, 0, 1, 0, 0, 0, 0, 0, 0, 0, 0, 0, 1, 0, 1, 0, 0, 0, 0, 0, 0, 0, 0, 0, Pred obj: 51.00\n",
      "\n",
      "Sample 9:\n",
      "    True cost: 22.00, 12.00, 8.00, 22.00, 6.00, 10.00, 3.00, 6.00, 18.00, 12.00, 28.00, 7.00, 10.00, 17.00, 22.00, 19.00, 7.00, 23.00, 19.00, 7.00, 18.00, 8.00, 19.00, 15.00, 27.00, 12.00, 15.00, 22.00, 12.00, 20.00, 6.00, 16.00, 19.00, 4.00, 5.00, 11.00, 5.00, 27.00, 5.00, 20.00, 27.00, 6.00, 28.00, 9.00, 22.00, 27.00, 20.00, 15.00\n",
      "    Pred cost: 18.76, 12.12, 10.02, 18.76, 6.00, 11.87, 3.83, 7.48, 16.55, 12.12, 20.95, 8.12, 11.87, 15.84, 18.76, 19.77, 7.80, 17.76, 19.77, 7.80, 16.55, 10.02, 19.77, 13.78, 21.91, 12.12, 13.78, 18.76, 12.12, 19.15, 7.70, 16.58, 15.70, 3.70, 5.95, 11.14, 6.04, 21.91, 6.04, 19.15, 21.91, 6.00, 20.95, 10.14, 18.76, 21.91, 19.15, 12.70\n",
      "    True sol: 0, 0, 0, 0, 0, 0, 0, 0, 0, 0, 1, 0, 0, 1, 0, 0, 0, 0, 0, 0, 1, 0, 0, 0, 1, 0, 0, 1, 0, 1, 0, 1, 0, 0, 0, 0, 0, 1, 0, 0, 0, 0, 1, 0, 0, 0, 0, 0, True obj: 203.00\n",
      "    Pred sol: 0, 0, 0, 0, 0, 0, 0, 0, 0, 0, 1, 0, 0, 1, 0, 0, 0, 0, 0, 0, 1, 0, 0, 0, 1, 0, 0, 1, 0, 1, 0, 1, 0, 0, 0, 0, 0, 1, 0, 0, 0, 0, 1, 0, 0, 0, 0, 0, Pred obj: 203.00\n",
      "\n"
     ]
    }
   ],
   "source": [
    "# compare solutions\n",
    "for i, data in enumerate(ks_loader_test):\n",
    "    # load data\n",
    "    x, c, w, z = data\n",
    "    # cuda\n",
    "    if torch.cuda.is_available():\n",
    "        x, c, w, z = x.cuda(), c.cuda(), w.cuda(), z.cuda()\n",
    "    # convert to numpy\n",
    "    x = x.to('cpu').detach().numpy()\n",
    "    c = c.to('cpu').detach().numpy()\n",
    "    w = w.to('cpu').detach().numpy()\n",
    "    z = z.to('cpu').detach().numpy()\n",
    "    # predict\n",
    "    cp = twostage_model.predict(x)\n",
    "    for j in range(min(10, batch_size)):\n",
    "        print('Sample {}:'.format(j))\n",
    "        print('    True cost:', ', '.join(['{:.2f}'.format(-cost) for cost in c[j]]))\n",
    "        print('    Pred cost:', ', '.join(['{:.2f}'.format(-cost) for cost in cp[j]]))\n",
    "        # solve cost from prediction\n",
    "        ks_model.setObj(cp[j])\n",
    "        wpj, _ = ks_model.solve()\n",
    "        zpj = np.dot(c[j], wpj)\n",
    "        print('    True sol: ' + ', '.join(['{:.0f}'.format(x) for x in w[j]]) + ', True obj: {:.2f}'.format(-z[j,0]))\n",
    "        print('    Pred sol: '+  ', '.join(['{:.0f}'.format(x) for x in wpj]) + ', Pred obj: {:.2f}'.format(-zpj))\n",
    "        print()\n",
    "    break"
   ]
  },
  {
   "cell_type": "markdown",
   "id": "8596e709",
   "metadata": {},
   "source": [
    "## Linear Regression from PyTorch"
   ]
  },
  {
   "cell_type": "code",
   "execution_count": 25,
   "id": "e88c361d",
   "metadata": {},
   "outputs": [],
   "source": [
    "from torch import nn"
   ]
  },
  {
   "cell_type": "code",
   "execution_count": 26,
   "id": "5ed32466",
   "metadata": {},
   "outputs": [],
   "source": [
    "# build linear model\n",
    "class LinearRegression(nn.Module):\n",
    "    \n",
    "    def __init__(self):\n",
    "        super(LinearRegression, self).__init__()\n",
    "        self.linear = nn.Linear(p, m)\n",
    "    \n",
    "    def forward(self, x):\n",
    "        out = self.linear(x)\n",
    "        return out"
   ]
  },
  {
   "cell_type": "markdown",
   "id": "fa3f22f2",
   "metadata": {},
   "source": [
    "## SPO+ "
   ]
  },
  {
   "cell_type": "code",
   "execution_count": 27,
   "id": "07753d5a",
   "metadata": {},
   "outputs": [],
   "source": [
    "# init model\n",
    "reg = LinearRegression()\n",
    "# cuda\n",
    "if torch.cuda.is_available():\n",
    "    reg = reg.cuda()"
   ]
  },
  {
   "cell_type": "code",
   "execution_count": 28,
   "id": "d4d0d9b8",
   "metadata": {},
   "outputs": [],
   "source": [
    "# set optimizer\n",
    "optimizer = torch.optim.Adam(reg.parameters(), lr=1e-2)"
   ]
  },
  {
   "cell_type": "code",
   "execution_count": 29,
   "id": "fb3637bb",
   "metadata": {},
   "outputs": [],
   "source": [
    "# init SPO+ loss\n",
    "criterion = spo.func.SPOPlus()"
   ]
  },
  {
   "cell_type": "code",
   "execution_count": 30,
   "id": "5a05c841",
   "metadata": {
    "scrolled": false
   },
   "outputs": [
    {
     "name": "stdout",
     "output_type": "stream",
     "text": [
      "Epoch  10, Loss:  41.1494, True SPO Loss:  8.4499%, Unambiguous SPO Loss:  8.4499%\n",
      "Epoch  20, Loss:  23.2651, True SPO Loss:  2.2808%, Unambiguous SPO Loss:  2.2808%\n",
      "Epoch  30, Loss:  32.3797, True SPO Loss:  1.4049%, Unambiguous SPO Loss:  1.4049%\n",
      "Epoch  40, Loss:   4.1790, True SPO Loss:  0.8168%, Unambiguous SPO Loss:  0.8168%\n",
      "Epoch  50, Loss:   1.7077, True SPO Loss:  0.6366%, Unambiguous SPO Loss:  0.6366%\n",
      "Epoch  60, Loss:   5.0745, True SPO Loss:  0.5823%, Unambiguous SPO Loss:  0.5823%\n",
      "Epoch  70, Loss:   1.4560, True SPO Loss:  0.4699%, Unambiguous SPO Loss:  0.4699%\n",
      "Epoch  80, Loss:   1.8350, True SPO Loss:  0.4166%, Unambiguous SPO Loss:  0.4166%\n",
      "Epoch  90, Loss:   3.0775, True SPO Loss:  0.4060%, Unambiguous SPO Loss:  0.4060%\n",
      "Epoch 100, Loss:   3.8860, True SPO Loss:  0.3856%, Unambiguous SPO Loss:  0.3856%\n",
      "Epoch 110, Loss:   0.4503, True SPO Loss:  0.3769%, Unambiguous SPO Loss:  0.3769%\n",
      "Epoch 120, Loss:   9.7379, True SPO Loss:  0.3459%, Unambiguous SPO Loss:  0.3459%\n",
      "Epoch 130, Loss:   1.2269, True SPO Loss:  0.3236%, Unambiguous SPO Loss:  0.3236%\n",
      "Epoch 140, Loss:   4.1553, True SPO Loss:  0.3226%, Unambiguous SPO Loss:  0.3226%\n",
      "Epoch 150, Loss:   1.2787, True SPO Loss:  0.3130%, Unambiguous SPO Loss:  0.3130%\n",
      "Epoch 160, Loss:   1.6404, True SPO Loss:  0.2839%, Unambiguous SPO Loss:  0.2839%\n",
      "Epoch 170, Loss:   1.3052, True SPO Loss:  0.3149%, Unambiguous SPO Loss:  0.3149%\n",
      "Epoch 180, Loss:   1.9525, True SPO Loss:  0.2771%, Unambiguous SPO Loss:  0.2771%\n",
      "Epoch 190, Loss:   0.1596, True SPO Loss:  0.2761%, Unambiguous SPO Loss:  0.2761%\n",
      "Epoch 200, Loss:   1.1019, True SPO Loss:  0.2655%, Unambiguous SPO Loss:  0.2655%\n",
      "Epoch 210, Loss:   3.3310, True SPO Loss:  0.2345%, Unambiguous SPO Loss:  0.2345%\n",
      "Epoch 220, Loss:   0.7547, True SPO Loss:  0.2296%, Unambiguous SPO Loss:  0.2296%\n",
      "Epoch 230, Loss:   1.8459, True SPO Loss:  0.2112%, Unambiguous SPO Loss:  0.2112%\n",
      "Epoch 240, Loss:   1.3556, True SPO Loss:  0.1948%, Unambiguous SPO Loss:  0.1948%\n",
      "Epoch 250, Loss:   0.9461, True SPO Loss:  0.1889%, Unambiguous SPO Loss:  0.1889%\n",
      "Epoch 260, Loss:   3.1205, True SPO Loss:  0.1996%, Unambiguous SPO Loss:  0.1996%\n",
      "Epoch 270, Loss:   0.7590, True SPO Loss:  0.2035%, Unambiguous SPO Loss:  0.2035%\n",
      "Epoch 280, Loss:   0.8704, True SPO Loss:  0.1889%, Unambiguous SPO Loss:  0.1889%\n",
      "Epoch 290, Loss:   1.1284, True SPO Loss:  0.2287%, Unambiguous SPO Loss:  0.2287%\n",
      "Epoch 300, Loss:   0.5285, True SPO Loss:  0.1705%, Unambiguous SPO Loss:  0.1705%\n"
     ]
    }
   ],
   "source": [
    "# train model\n",
    "num_epochs = 300\n",
    "reg.train()\n",
    "loss_log = []\n",
    "loss_log_truespo = []\n",
    "loss_log_unambspo = []\n",
    "for epoch in range(num_epochs):\n",
    "    # load data\n",
    "    for i, data in enumerate(ks_loader_train):\n",
    "        x, c, w, z = data\n",
    "        # cuda\n",
    "        if torch.cuda.is_available():\n",
    "            x, c, w, z = x.cuda(), c.cuda(), w.cuda(), z.cuda()\n",
    "        # forward pass\n",
    "        cp = reg(x)\n",
    "        loss = criterion.apply(ks_model, cp, c, w, z).mean()\n",
    "        # backward pass\n",
    "        optimizer.zero_grad()\n",
    "        loss.backward()\n",
    "        optimizer.step()\n",
    "    loss_log.append(loss.item())\n",
    "    if (epoch + 1) % 10 == 0:\n",
    "        # true SPO\n",
    "        trueloss = spo.eval.trueSPO(reg, ks_model, ks_loader_test)\n",
    "        loss_log_truespo.append(trueloss)\n",
    "        # unambiguous SPO \n",
    "        unambloss = spo.eval.unambSPO(reg, ks_model, ks_loader_test)\n",
    "        loss_log_unambspo.append(unambloss)\n",
    "        print('Epoch {:3}, Loss: {:8.4f}, True SPO Loss: {:7.4f}%, Unambiguous SPO Loss: {:7.4f}%'. \\\n",
    "              format(epoch+1, loss.item(), trueloss*100, unambloss*100))"
   ]
  },
  {
   "cell_type": "code",
   "execution_count": 31,
   "id": "927bf5d7",
   "metadata": {},
   "outputs": [
    {
     "data": {
      "image/png": "[encoded data removed]",
      "text/plain": [
       "<Figure size 864x432 with 1 Axes>"
      ]
     },
     "metadata": {
      "needs_background": "light"
     },
     "output_type": "display_data"
    }
   ],
   "source": [
    "# draw plot\n",
    "plt.figure(figsize=(12, 6))\n",
    "plt.plot(loss_log, color='c')\n",
    "plt.xlabel('Epoch')\n",
    "plt.ylabel('SPO+ Loss')\n",
    "plt.title('Learning Curve')\n",
    "plt.show()"
   ]
  },
  {
   "cell_type": "code",
   "execution_count": 32,
   "id": "8ae91bbd",
   "metadata": {},
   "outputs": [
    {
     "data": {
      "image/png": "[encoded data removed]",
      "text/plain": [
       "<Figure size 864x432 with 1 Axes>"
      ]
     },
     "metadata": {
      "needs_background": "light"
     },
     "output_type": "display_data"
    }
   ],
   "source": [
    "# draw plot\n",
    "plt.figure(figsize=(12, 6))\n",
    "plt.plot(range(0, num_epochs, 10), loss_log_truespo, color='m', alpha=0.7, label='True SPO')\n",
    "plt.plot(range(0, num_epochs, 10), loss_log_unambspo, color='b', alpha=0.7, label='Unambiguous SPO')\n",
    "plt.xlabel('Epoch')\n",
    "plt.ylabel('Loss')\n",
    "plt.title('Learning Curve')\n",
    "plt.legend()\n",
    "plt.show()"
   ]
  },
  {
   "cell_type": "code",
   "execution_count": 33,
   "id": "c8515a5d",
   "metadata": {},
   "outputs": [
    {
     "name": "stdout",
     "output_type": "stream",
     "text": [
      "Normalized true SPO Loss: 0.17%\n",
      "Normalized unambiguous SPO Loss: 0.17%\n"
     ]
    }
   ],
   "source": [
    "# evaluate\n",
    "spoloss = spo.eval.trueSPO(reg, ks_model, ks_loader_test)\n",
    "print('Normalized true SPO Loss: {:.2f}%'.format(spoloss * 100))\n",
    "spoloss = spo.eval.unambSPO(reg, ks_model, ks_loader_test)\n",
    "print('Normalized unambiguous SPO Loss: {:.2f}%'.format(spoloss * 100))"
   ]
  },
  {
   "cell_type": "code",
   "execution_count": 34,
   "id": "738c1d73",
   "metadata": {
    "scrolled": false
   },
   "outputs": [
    {
     "name": "stdout",
     "output_type": "stream",
     "text": [
      "Sample 0:\n",
      "    True cost: 3.00, 6.00, 12.00, 3.00, 6.00, 9.00, 6.00, 10.00, 5.00, 6.00, 8.00, 3.00, 9.00, 13.00, 3.00, 9.00, 7.00, 6.00, 9.00, 7.00, 5.00, 12.00, 9.00, 4.00, 4.00, 6.00, 4.00, 3.00, 6.00, 16.00, 5.00, 7.00, 10.00, 13.00, 16.00, 16.00, 2.00, 4.00, 2.00, 16.00, 4.00, 6.00, 8.00, 2.00, 3.00, 4.00, 16.00, 8.00\n",
      "    Pred cost: 2.73, 7.06, 13.91, 2.73, 6.00, 10.63, 7.79, 10.89, 6.59, 7.06, 10.01, 3.78, 10.63, 13.83, 2.73, 13.16, 7.88, 7.27, 13.16, 7.88, 6.59, 13.91, 13.16, 3.96, 5.43, 7.06, 3.96, 2.73, 7.06, 17.33, 7.10, 9.77, 10.82, 11.26, 14.18, 14.32, 1.56, 5.43, 1.56, 17.33, 5.43, 6.00, 10.01, 0.43, 2.73, 5.43, 17.33, 8.19\n",
      "    True sol: 0, 0, 0, 0, 0, 0, 0, 0, 0, 0, 0, 0, 1, 1, 0, 0, 0, 0, 0, 0, 0, 1, 0, 0, 0, 0, 0, 0, 0, 1, 0, 0, 0, 0, 1, 1, 0, 0, 0, 1, 0, 0, 0, 0, 0, 0, 1, 0, True obj: 114.00\n",
      "    Pred sol: 0, 0, 0, 0, 0, 0, 0, 0, 0, 0, 0, 0, 1, 1, 0, 0, 0, 0, 0, 0, 0, 1, 0, 0, 0, 0, 0, 0, 0, 1, 0, 0, 0, 0, 1, 1, 0, 0, 0, 1, 0, 0, 0, 0, 0, 0, 1, 0, Pred obj: 114.00\n",
      "\n",
      "Sample 1:\n",
      "    True cost: 10.00, 3.00, 3.00, 10.00, 6.00, 20.00, 6.00, 3.00, 18.00, 3.00, 10.00, 5.00, 20.00, 11.00, 10.00, 11.00, 5.00, 10.00, 11.00, 5.00, 18.00, 3.00, 11.00, 18.00, 10.00, 3.00, 18.00, 10.00, 3.00, 11.00, 3.00, 11.00, 18.00, 7.00, 6.00, 21.00, 6.00, 10.00, 6.00, 11.00, 10.00, 6.00, 10.00, 3.00, 10.00, 10.00, 11.00, 18.00\n",
      "    Pred cost: 12.02, 2.40, 3.72, 12.02, 6.00, 17.96, 8.00, 3.30, 16.75, 2.40, 11.77, 6.86, 17.96, 12.60, 12.02, 14.92, 6.18, 10.80, 14.92, 6.18, 16.75, 3.72, 14.92, 15.62, 12.90, 2.40, 15.62, 12.02, 2.40, 13.77, 3.81, 13.93, 15.28, 7.02, 7.73, 16.10, 6.41, 12.90, 6.41, 13.77, 12.90, 6.00, 11.77, 2.58, 12.02, 12.90, 13.77, 13.95\n",
      "    True sol: 0, 0, 0, 0, 0, 1, 0, 0, 0, 0, 0, 0, 1, 1, 0, 0, 0, 0, 0, 0, 1, 0, 0, 1, 0, 0, 1, 0, 0, 1, 0, 1, 0, 0, 0, 1, 0, 0, 0, 0, 0, 0, 0, 0, 0, 0, 0, 0, True obj: 148.00\n",
      "    Pred sol: 0, 0, 0, 0, 0, 0, 0, 0, 0, 0, 1, 0, 1, 1, 0, 0, 0, 0, 0, 0, 1, 0, 0, 1, 0, 0, 1, 1, 0, 1, 0, 1, 0, 0, 0, 0, 0, 0, 0, 0, 0, 0, 1, 0, 0, 0, 0, 0, Pred obj: 137.00\n",
      "\n",
      "Sample 2:\n",
      "    True cost: 6.00, 4.00, 11.00, 6.00, 6.00, 17.00, 7.00, 10.00, 8.00, 4.00, 12.00, 3.00, 17.00, 24.00, 6.00, 14.00, 6.00, 11.00, 14.00, 6.00, 8.00, 11.00, 14.00, 8.00, 6.00, 4.00, 8.00, 6.00, 4.00, 25.00, 5.00, 13.00, 15.00, 13.00, 14.00, 29.00, 3.00, 6.00, 3.00, 25.00, 6.00, 6.00, 12.00, 2.00, 6.00, 6.00, 25.00, 14.00\n",
      "    Pred cost: 7.74, 5.86, 12.70, 7.74, 6.00, 15.95, 8.26, 10.84, 10.66, 5.86, 13.56, 2.97, 15.95, 18.50, 7.74, 17.49, 6.88, 11.63, 17.49, 6.88, 10.66, 12.70, 17.49, 8.84, 9.55, 5.86, 8.84, 7.74, 5.86, 21.15, 7.23, 15.06, 14.27, 11.43, 13.31, 18.91, 1.84, 9.55, 1.84, 21.15, 9.55, 6.00, 13.56, 0.56, 7.74, 9.55, 21.15, 12.34\n",
      "    True sol: 0, 0, 0, 0, 0, 1, 0, 0, 0, 0, 0, 0, 1, 1, 0, 0, 0, 0, 0, 0, 0, 0, 0, 0, 0, 0, 0, 0, 0, 1, 0, 1, 0, 0, 0, 1, 0, 0, 0, 1, 0, 0, 0, 0, 0, 0, 1, 0, True obj: 175.00\n",
      "    Pred sol: 0, 0, 0, 0, 0, 0, 0, 0, 0, 0, 1, 0, 1, 1, 0, 0, 0, 0, 0, 0, 0, 0, 0, 0, 0, 0, 0, 0, 0, 1, 0, 1, 0, 0, 1, 1, 0, 0, 0, 0, 0, 0, 1, 0, 0, 0, 1, 0, Pred obj: 171.00\n",
      "\n",
      "Sample 3:\n",
      "    True cost: 3.00, 8.00, 13.00, 3.00, 6.00, 5.00, 7.00, 10.00, 4.00, 8.00, 6.00, 5.00, 5.00, 8.00, 3.00, 7.00, 8.00, 4.00, 7.00, 8.00, 4.00, 13.00, 7.00, 3.00, 4.00, 8.00, 3.00, 3.00, 8.00, 11.00, 7.00, 5.00, 6.00, 10.00, 13.00, 8.00, 4.00, 4.00, 4.00, 11.00, 4.00, 6.00, 6.00, 4.00, 3.00, 4.00, 11.00, 4.00\n",
      "    Pred cost: 2.76, 8.94, 14.35, 2.76, 6.00, 7.27, 8.25, 11.00, 5.11, 8.94, 8.16, 6.11, 7.27, 10.18, 2.76, 11.60, 8.13, 5.31, 11.60, 8.13, 5.11, 14.35, 11.60, 2.41, 5.66, 8.94, 2.41, 2.76, 8.94, 13.69, 9.30, 8.06, 7.46, 9.87, 12.98, 9.27, 3.52, 5.66, 3.52, 13.69, 5.66, 6.00, 8.16, 4.05, 2.76, 5.66, 13.69, 4.83\n",
      "    True sol: 0, 0, 0, 0, 0, 0, 0, 1, 0, 0, 0, 0, 0, 1, 0, 0, 1, 0, 0, 0, 0, 1, 0, 0, 0, 0, 0, 0, 0, 1, 0, 0, 0, 0, 1, 0, 0, 0, 0, 1, 0, 0, 0, 0, 0, 0, 1, 0, True obj: 85.00\n",
      "    Pred sol: 0, 0, 0, 0, 0, 0, 0, 1, 0, 0, 0, 0, 0, 1, 0, 0, 0, 0, 0, 0, 0, 1, 0, 0, 0, 0, 0, 0, 0, 1, 0, 0, 0, 0, 1, 0, 0, 0, 0, 1, 0, 0, 1, 0, 0, 0, 1, 0, Pred obj: 83.00\n",
      "\n",
      "Sample 4:\n",
      "    True cost: 26.00, 11.00, 17.00, 26.00, 6.00, 24.00, 17.00, 16.00, 18.00, 11.00, 17.00, 12.00, 24.00, 23.00, 26.00, 41.00, 6.00, 15.00, 41.00, 6.00, 18.00, 17.00, 41.00, 16.00, 29.00, 11.00, 16.00, 26.00, 11.00, 25.00, 27.00, 37.00, 10.00, 9.00, 10.00, 14.00, 11.00, 29.00, 11.00, 25.00, 29.00, 6.00, 17.00, 18.00, 26.00, 29.00, 25.00, 9.00\n",
      "    Pred cost: 19.80, 11.82, 16.68, 19.80, 6.00, 19.30, 14.89, 14.14, 16.77, 11.82, 16.18, 12.23, 19.30, 18.32, 19.80, 27.93, 7.02, 13.96, 27.93, 7.02, 16.77, 16.68, 27.93, 14.74, 22.22, 11.82, 14.74, 19.80, 11.82, 21.25, 20.02, 24.76, 10.98, 9.31, 11.45, 13.11, 10.57, 22.22, 10.57, 21.25, 22.22, 6.00, 16.18, 15.18, 19.80, 22.22, 21.25, 9.12\n",
      "    True sol: 0, 0, 0, 0, 0, 0, 0, 0, 0, 0, 0, 0, 1, 1, 0, 1, 0, 0, 0, 0, 1, 0, 1, 0, 0, 0, 0, 1, 0, 1, 0, 1, 0, 0, 0, 0, 0, 0, 0, 0, 0, 0, 0, 0, 0, 0, 0, 0, True obj: 235.00\n",
      "    Pred sol: 0, 0, 0, 0, 0, 0, 0, 0, 0, 0, 0, 0, 1, 1, 0, 0, 0, 0, 0, 0, 1, 0, 0, 0, 0, 0, 0, 1, 0, 1, 1, 1, 0, 0, 0, 0, 0, 1, 0, 0, 0, 0, 0, 0, 0, 0, 1, 0, Pred obj: 234.00\n",
      "\n",
      "Sample 5:\n",
      "    True cost: 12.00, 2.00, 1.00, 12.00, 6.00, 14.00, 12.00, 3.00, 7.00, 2.00, 2.00, 6.00, 14.00, 4.00, 12.00, 4.00, 2.00, 5.00, 4.00, 2.00, 7.00, 1.00, 4.00, 16.00, 5.00, 2.00, 16.00, 12.00, 2.00, 2.00, 9.00, 10.00, 3.00, 5.00, 2.00, 6.00, 14.00, 5.00, 14.00, 2.00, 5.00, 6.00, 2.00, 10.00, 12.00, 5.00, 2.00, 7.00\n",
      "    Pred cost: 13.11, -0.92, -1.75, 13.11, 6.00, 14.59, 12.14, 3.77, 9.63, -0.92, 0.23, 7.63, 14.59, 5.34, 13.11, 6.89, 0.97, 5.68, 6.89, 0.97, 9.63, -1.75, 6.89, 14.57, 7.55, -0.92, 14.57, 13.11, -0.92, -0.58, 10.49, 12.80, 2.34, 5.36, 0.43, 7.02, 12.26, 7.55, 12.26, -0.58, 7.55, 6.00, 0.23, 10.87, 13.11, 7.55, -0.58, 7.14\n",
      "    True sol: 0, 0, 0, 0, 0, 1, 0, 0, 0, 0, 0, 0, 1, 0, 0, 0, 0, -0, 0, 0, 1, 0, 0, 1, 0, 0, 1, 1, 0, 0, 0, 1, 0, 0, 0, 0, 0, 0, 1, 0, 0, 0, 0, 1, 0, 0, 0, 0, True obj: 113.00\n",
      "    Pred sol: 0, 0, 0, 0, 0, 1, 0, 0, 0, 0, 0, 0, 1, 0, 0, 0, 0, 0, 0, 0, 1, 0, 0, 1, 0, 0, 1, 1, 0, 0, 0, 1, 0, 0, 0, 0, 0, 0, 1, 0, 0, 0, 0, 1, 0, 0, 0, 0, Pred obj: 113.00\n",
      "\n",
      "Sample 6:\n",
      "    True cost: 1.00, 7.00, 3.00, 1.00, 6.00, 1.00, 1.00, 2.00, 2.00, 7.00, 3.00, 4.00, 1.00, 1.00, 1.00, 1.00, 9.00, 2.00, 1.00, 9.00, 2.00, 3.00, 1.00, 1.00, 1.00, 7.00, 1.00, 1.00, 7.00, 2.00, 1.00, 1.00, 5.00, 3.00, 5.00, 1.00, 2.00, 1.00, 2.00, 2.00, 1.00, 6.00, 3.00, 2.00, 1.00, 1.00, 2.00, 3.00\n",
      "    Pred cost: -4.78, 7.70, 3.81, -4.78, 6.00, -6.92, -2.46, 0.36, 0.69, 7.70, 3.89, 5.07, -6.92, -3.64, -4.78, -6.02, 9.27, 0.35, -6.02, 9.27, 0.69, 3.81, -6.02, -2.70, -1.30, 7.70, -2.70, -4.78, 7.70, -0.29, -4.47, -9.25, 5.66, 2.22, 5.60, -1.53, 1.53, -1.30, 1.53, -0.29, -1.30, 6.00, 3.89, -0.22, -4.78, -1.30, -0.29, 2.07\n",
      "    True sol: 0, 0, 0, 0, 1, 0, 0, 0, 0, 0, 1, 0, 0, 0, 0, 0, 1, 0, 0, 1, 0, 0, 0, 0, 0, 1, 0, 0, 1, 0, 0, 0, 0, 0, 1, 0, 0, 0, 0, 0, 0, 0, 0, 0, 0, 0, 0, 0, True obj: 46.00\n",
      "    Pred sol: 0, 0, 0, 0, 1, 0, 0, 0, 0, 0, 1, 0, 0, 0, 0, 0, 1, 0, 0, 1, 0, 0, 0, 0, 0, 1, 0, 0, 1, 0, 0, 0, 0, 0, 1, 0, 0, 0, 0, 0, 0, 0, 0, 0, 0, 0, 0, 0, Pred obj: 46.00\n",
      "\n",
      "Sample 7:\n",
      "    True cost: 4.00, 4.00, 2.00, 4.00, 6.00, 4.00, 5.00, 2.00, 7.00, 4.00, 3.00, 8.00, 4.00, 2.00, 4.00, 2.00, 6.00, 3.00, 2.00, 6.00, 7.00, 2.00, 2.00, 7.00, 4.00, 4.00, 7.00, 4.00, 4.00, 2.00, 3.00, 2.00, 5.00, 3.00, 3.00, 2.00, 8.00, 4.00, 8.00, 2.00, 4.00, 6.00, 3.00, 5.00, 4.00, 4.00, 2.00, 4.00\n",
      "    Pred cost: 6.13, 4.25, 0.93, 6.13, 6.00, 5.15, 5.69, 0.73, 8.68, 4.25, 3.31, 9.34, 5.15, -0.20, 6.13, 2.79, 6.23, 3.00, 2.79, 6.23, 8.68, 0.93, 2.79, 8.17, 6.45, 4.25, 8.17, 6.13, 4.25, -0.17, 3.49, 2.72, 5.49, 2.89, 3.26, 2.12, 8.69, 6.45, 8.69, -0.17, 6.45, 6.00, 3.31, 6.81, 6.13, 6.45, -0.17, 4.88\n",
      "    True sol: 0, 0, 0, 0, 1, 0, 0, 0, 0, 0, 0, 1, 0, 0, 0, 0, 1, -0, 0, 0, 1, 0, 0, 1, 0, 0, 1, 0, 0, 0, 0, 0, 0, 0, 0, 0, 0, 0, 1, 0, 0, 0, 0, 1, 0, 0, 0, 0, True obj: 54.00\n",
      "    Pred sol: 0, 0, 0, 0, 1, 0, 0, 0, 0, 0, 0, 0, 0, 0, 0, 0, 1, 0, 0, 0, 1, 0, 0, 1, 0, 0, 1, 1, 0, 0, 0, 0, 0, 0, 0, 0, 0, 1, 1, 0, 0, 0, 0, 1, 0, 0, 0, 0, Pred obj: 54.00\n",
      "\n",
      "Sample 8:\n",
      "    True cost: 2.00, 1.00, 1.00, 2.00, 6.00, 7.00, 9.00, 3.00, 3.00, 1.00, 1.00, 5.00, 7.00, 2.00, 2.00, 1.00, 3.00, 2.00, 1.00, 3.00, 3.00, 1.00, 1.00, 6.00, 1.00, 1.00, 6.00, 2.00, 1.00, 1.00, 4.00, 3.00, 2.00, 6.00, 4.00, 5.00, 8.00, 1.00, 8.00, 1.00, 1.00, 6.00, 1.00, 3.00, 2.00, 1.00, 1.00, 4.00\n",
      "    Pred cost: 1.85, -2.29, -1.16, 1.85, 6.00, 9.08, 10.04, 2.23, 4.31, -2.29, -4.54, 5.81, 9.08, 0.44, 1.85, -0.48, 2.96, -0.94, -0.48, 2.96, 4.31, -1.16, -0.48, 7.34, -1.85, -2.29, 7.34, 1.85, -2.29, -3.40, 5.00, 3.37, 1.37, 6.95, 4.16, 5.78, 8.46, -1.85, 8.46, -3.40, -1.85, 6.00, -4.54, 3.55, 1.85, -1.85, -3.40, 4.31\n",
      "    True sol: 0, 0, 0, 0, 1, 1, 0, 0, 0, 0, 0, 0, 1, 0, 0, 0, 0, 0, -0, 0, 1, 0, 0, 1, 0, 0, 1, 0, 0, 0, 0, 0, 0, 0, 0, 0, 1, 0, 1, 0, 0, 0, 0, 0, 0, 0, 0, 0, True obj: 51.00\n",
      "    Pred sol: 0, 0, 0, 0, 1, 1, 0, 0, 0, 0, 0, 0, 1, 0, 0, 0, 0, 0, 0, 0, 1, 0, 0, 1, 0, 0, 1, 0, 0, 0, 0, 0, 0, 0, 0, 0, 1, 0, 1, 0, 0, 0, 0, 0, 0, 0, 0, 0, Pred obj: 51.00\n",
      "\n",
      "Sample 9:\n",
      "    True cost: 22.00, 12.00, 8.00, 22.00, 6.00, 10.00, 3.00, 6.00, 18.00, 12.00, 28.00, 7.00, 10.00, 17.00, 22.00, 19.00, 7.00, 23.00, 19.00, 7.00, 18.00, 8.00, 19.00, 15.00, 27.00, 12.00, 15.00, 22.00, 12.00, 20.00, 6.00, 16.00, 19.00, 4.00, 5.00, 11.00, 5.00, 27.00, 5.00, 20.00, 27.00, 6.00, 28.00, 9.00, 22.00, 27.00, 20.00, 15.00\n",
      "    Pred cost: 18.76, 12.12, 10.02, 18.76, 6.00, 11.87, 3.83, 7.48, 16.55, 12.12, 20.95, 8.12, 11.87, 15.84, 18.76, 19.77, 7.80, 17.76, 19.77, 7.80, 16.55, 10.02, 19.77, 13.78, 21.91, 12.12, 13.78, 18.76, 12.12, 19.15, 7.70, 16.58, 15.70, 3.70, 5.95, 11.14, 6.04, 21.91, 6.04, 19.15, 21.91, 6.00, 20.95, 10.14, 18.76, 21.91, 19.15, 12.70\n",
      "    True sol: 0, 0, 0, 0, 0, 0, 0, 0, 0, 0, 1, 0, 0, 1, 0, 0, 0, 0, 0, 0, 1, 0, 0, 0, 1, 0, 0, 1, 0, 1, 0, 1, 0, 0, 0, 0, 0, 1, 0, 0, 0, 0, 1, 0, 0, 0, 0, 0, True obj: 203.00\n",
      "    Pred sol: 0, 0, 0, 0, 0, 0, 0, 0, 0, 0, 1, 0, 0, 1, 0, 0, 0, 0, 0, 0, 1, 0, 0, 0, 1, 0, 0, 1, 0, 1, 0, 1, 0, 0, 0, 0, 0, 1, 0, 0, 0, 0, 1, 0, 0, 0, 0, 0, Pred obj: 203.00\n",
      "\n"
     ]
    }
   ],
   "source": [
    "reg.eval()\n",
    "# compare solutions\n",
    "for i, data in enumerate(ks_loader_test):\n",
    "    # load data\n",
    "    x, c, w, z = data\n",
    "    # cuda\n",
    "    if torch.cuda.is_available():\n",
    "        x, c, w, z = x.cuda(), c.cuda(), w.cuda(), z.cuda()\n",
    "    # convert to numpy\n",
    "    x = x.to('cpu').detach().numpy()\n",
    "    c = c.to('cpu').detach().numpy()\n",
    "    w = w.to('cpu').detach().numpy()\n",
    "    z = z.to('cpu').detach().numpy()\n",
    "    # predict\n",
    "    cp = twostage_model.predict(x)\n",
    "    for j in range(min(10, batch_size)):\n",
    "        print('Sample {}:'.format(j))\n",
    "        print('    True cost:', ', '.join(['{:.2f}'.format(-cost) for cost in c[j]]))\n",
    "        print('    Pred cost:', ', '.join(['{:.2f}'.format(-cost) for cost in cp[j]]))\n",
    "        # solve cost from prediction\n",
    "        ks_model.setObj(cp[j])\n",
    "        wpj, _ = ks_model.solve()\n",
    "        zpj = np.dot(c[j], wpj)\n",
    "        print('    True sol: ' + ', '.join(['{:.0f}'.format(x) for x in w[j]]) + ', True obj: {:.2f}'.format(-z[j,0]))\n",
    "        print('    Pred sol: '+  ', '.join(['{:.0f}'.format(x) for x in wpj]) + ', Pred obj: {:.2f}'.format(-zpj))\n",
    "        print()\n",
    "    break"
   ]
  },
  {
   "cell_type": "markdown",
   "id": "abde6351",
   "metadata": {},
   "source": [
    "## SPO+ with Regularization"
   ]
  },
  {
   "cell_type": "code",
   "execution_count": 35,
   "id": "2d2ec468",
   "metadata": {},
   "outputs": [],
   "source": [
    "# init model\n",
    "reg = LinearRegression()\n",
    "# cuda\n",
    "if torch.cuda.is_available():\n",
    "    reg = reg.cuda()"
   ]
  },
  {
   "cell_type": "code",
   "execution_count": 36,
   "id": "1cf5c912",
   "metadata": {},
   "outputs": [],
   "source": [
    "# set optimizer\n",
    "optimizer = torch.optim.Adam(reg.parameters(), lr=1e-2)"
   ]
  },
  {
   "cell_type": "code",
   "execution_count": 37,
   "id": "15f8a714",
   "metadata": {},
   "outputs": [],
   "source": [
    "# init SPO+ loss\n",
    "criterion = spo.func.SPOPlus()"
   ]
  },
  {
   "cell_type": "code",
   "execution_count": 38,
   "id": "aa00927e",
   "metadata": {},
   "outputs": [
    {
     "name": "stdout",
     "output_type": "stream",
     "text": [
      "Epoch  10, Loss:  77.2793, True SPO Loss:  7.7775%, Unambiguous SPO Loss:  7.7775%\n",
      "Epoch  20, Loss:   8.4025, True SPO Loss:  1.8487%, Unambiguous SPO Loss:  1.8487%\n",
      "Epoch  30, Loss:  20.4018, True SPO Loss:  1.1288%, Unambiguous SPO Loss:  1.1288%\n",
      "Epoch  40, Loss:  43.5987, True SPO Loss:  0.7451%, Unambiguous SPO Loss:  0.7451%\n",
      "Epoch  50, Loss:   9.2854, True SPO Loss:  0.5726%, Unambiguous SPO Loss:  0.5726%\n",
      "Epoch  60, Loss:   2.2919, True SPO Loss:  0.4883%, Unambiguous SPO Loss:  0.4883%\n",
      "Epoch  70, Loss:   3.2798, True SPO Loss:  0.4757%, Unambiguous SPO Loss:  0.4757%\n",
      "Epoch  80, Loss:   4.3269, True SPO Loss:  0.4312%, Unambiguous SPO Loss:  0.4312%\n",
      "Epoch  90, Loss:   2.2688, True SPO Loss:  0.3788%, Unambiguous SPO Loss:  0.3788%\n",
      "Epoch 100, Loss:   2.5278, True SPO Loss:  0.3401%, Unambiguous SPO Loss:  0.3401%\n",
      "Epoch 110, Loss:   1.2568, True SPO Loss:  0.3478%, Unambiguous SPO Loss:  0.3478%\n",
      "Epoch 120, Loss:  13.7318, True SPO Loss:  0.3314%, Unambiguous SPO Loss:  0.3314%\n",
      "Epoch 130, Loss:   1.7786, True SPO Loss:  0.2868%, Unambiguous SPO Loss:  0.2868%\n",
      "Epoch 140, Loss:   4.0952, True SPO Loss:  0.2820%, Unambiguous SPO Loss:  0.2820%\n",
      "Epoch 150, Loss:   2.2618, True SPO Loss:  0.2839%, Unambiguous SPO Loss:  0.2839%\n",
      "Epoch 160, Loss:   1.5205, True SPO Loss:  0.2829%, Unambiguous SPO Loss:  0.2829%\n",
      "Epoch 170, Loss:   1.6945, True SPO Loss:  0.2771%, Unambiguous SPO Loss:  0.2771%\n",
      "Epoch 180, Loss:   3.1522, True SPO Loss:  0.2820%, Unambiguous SPO Loss:  0.2820%\n",
      "Epoch 190, Loss:   1.9199, True SPO Loss:  0.2955%, Unambiguous SPO Loss:  0.2955%\n",
      "Epoch 200, Loss:   1.0009, True SPO Loss:  0.2568%, Unambiguous SPO Loss:  0.2568%\n",
      "Epoch 210, Loss:   1.2698, True SPO Loss:  0.2587%, Unambiguous SPO Loss:  0.2587%\n",
      "Epoch 220, Loss:   2.3713, True SPO Loss:  0.2655%, Unambiguous SPO Loss:  0.2655%\n",
      "Epoch 230, Loss:   0.3657, True SPO Loss:  0.2519%, Unambiguous SPO Loss:  0.2519%\n",
      "Epoch 240, Loss:   1.5303, True SPO Loss:  0.2422%, Unambiguous SPO Loss:  0.2422%\n",
      "Epoch 250, Loss:   1.7597, True SPO Loss:  0.2616%, Unambiguous SPO Loss:  0.2616%\n",
      "Epoch 260, Loss:   5.7927, True SPO Loss:  0.2345%, Unambiguous SPO Loss:  0.2345%\n",
      "Epoch 270, Loss:   1.4779, True SPO Loss:  0.2878%, Unambiguous SPO Loss:  0.2878%\n",
      "Epoch 280, Loss:   1.7482, True SPO Loss:  0.2364%, Unambiguous SPO Loss:  0.2364%\n",
      "Epoch 290, Loss:   1.9416, True SPO Loss:  0.2364%, Unambiguous SPO Loss:  0.2364%\n",
      "Epoch 300, Loss:   1.0970, True SPO Loss:  0.2684%, Unambiguous SPO Loss:  0.2684%\n"
     ]
    }
   ],
   "source": [
    "# train model\n",
    "num_epochs = 300\n",
    "reg.train()\n",
    "loss_log = []\n",
    "loss_log_truespo = []\n",
    "loss_log_unambspo = []\n",
    "for epoch in range(num_epochs):\n",
    "    # load data\n",
    "    for i, data in enumerate(ks_loader_train):\n",
    "        x, c, w, z = data\n",
    "        # cuda\n",
    "        if torch.cuda.is_available():\n",
    "            x, c, w, z = x.cuda(), c.cuda(), w.cuda(), z.cuda()\n",
    "        # forward pass\n",
    "        cp = reg(x)\n",
    "        loss = criterion.apply(ks_model, cp, c, w, z).mean()\n",
    "        # l1 reg\n",
    "        l1_lambda = 1e-3\n",
    "        l1_reg = torch.abs(cp - c).sum(dim=1).mean()\n",
    "        loss += l1_lambda * l1_reg\n",
    "        # backward pass\n",
    "        optimizer.zero_grad()\n",
    "        loss.backward()\n",
    "        optimizer.step()\n",
    "    loss_log.append(loss.item())\n",
    "    if (epoch + 1) % 10 == 0:\n",
    "        # true SPO\n",
    "        trueloss = spo.eval.trueSPO(reg, ks_model, ks_loader_test)\n",
    "        loss_log_truespo.append(trueloss)\n",
    "        # unambiguous SPO \n",
    "        unambloss = spo.eval.unambSPO(reg, ks_model, ks_loader_test)\n",
    "        loss_log_unambspo.append(unambloss)\n",
    "        print('Epoch {:3}, Loss: {:8.4f}, True SPO Loss: {:7.4f}%, Unambiguous SPO Loss: {:7.4f}%'. \\\n",
    "              format(epoch+1, loss.item(), trueloss*100, unambloss*100))"
   ]
  },
  {
   "cell_type": "code",
   "execution_count": 39,
   "id": "f10ca3d4",
   "metadata": {},
   "outputs": [
    {
     "data": {
      "image/png": "[encoded data removed]",
      "text/plain": [
       "<Figure size 864x432 with 1 Axes>"
      ]
     },
     "metadata": {
      "needs_background": "light"
     },
     "output_type": "display_data"
    }
   ],
   "source": [
    "# draw plot\n",
    "plt.figure(figsize=(12, 6))\n",
    "plt.plot(loss_log, color='c')\n",
    "plt.xlabel('Epoch')\n",
    "plt.ylabel('SPO+ Loss')\n",
    "plt.title('Learning Curve')\n",
    "plt.show()"
   ]
  },
  {
   "cell_type": "code",
   "execution_count": 40,
   "id": "c06fd291",
   "metadata": {},
   "outputs": [
    {
     "data": {
      "image/png": "[encoded data removed]",
      "text/plain": [
       "<Figure size 864x432 with 1 Axes>"
      ]
     },
     "metadata": {
      "needs_background": "light"
     },
     "output_type": "display_data"
    }
   ],
   "source": [
    "# draw plot\n",
    "plt.figure(figsize=(12, 6))\n",
    "plt.plot(range(0, num_epochs, 10), loss_log_truespo, color='m', alpha=0.7, label='True SPO')\n",
    "plt.plot(range(0, num_epochs, 10), loss_log_unambspo, color='b', alpha=0.7, label='Unambiguous SPO')\n",
    "plt.xlabel('Epoch')\n",
    "plt.ylabel('Loss')\n",
    "plt.title('Learning Curve')\n",
    "plt.legend()\n",
    "plt.show()"
   ]
  },
  {
   "cell_type": "code",
   "execution_count": 41,
   "id": "12d40ef0",
   "metadata": {},
   "outputs": [
    {
     "name": "stdout",
     "output_type": "stream",
     "text": [
      "Normalized true SPO Loss: 0.27%\n",
      "Normalized unambiguous SPO Loss: 0.27%\n"
     ]
    }
   ],
   "source": [
    "# evaluate\n",
    "spoloss = spo.eval.trueSPO(reg, ks_model, ks_loader_test)\n",
    "print('Normalized true SPO Loss: {:.2f}%'.format(spoloss * 100))\n",
    "spoloss = spo.eval.unambSPO(reg, ks_model, ks_loader_test)\n",
    "print('Normalized unambiguous SPO Loss: {:.2f}%'.format(spoloss * 100))"
   ]
  },
  {
   "cell_type": "code",
   "execution_count": 42,
   "id": "bcb60bb1",
   "metadata": {
    "scrolled": false
   },
   "outputs": [
    {
     "name": "stdout",
     "output_type": "stream",
     "text": [
      "Sample 0:\n",
      "    True cost: 3.00, 6.00, 12.00, 3.00, 6.00, 9.00, 6.00, 10.00, 5.00, 6.00, 8.00, 3.00, 9.00, 13.00, 3.00, 9.00, 7.00, 6.00, 9.00, 7.00, 5.00, 12.00, 9.00, 4.00, 4.00, 6.00, 4.00, 3.00, 6.00, 16.00, 5.00, 7.00, 10.00, 13.00, 16.00, 16.00, 2.00, 4.00, 2.00, 16.00, 4.00, 6.00, 8.00, 2.00, 3.00, 4.00, 16.00, 8.00\n",
      "    Pred cost: 2.73, 7.06, 13.91, 2.73, 6.00, 10.63, 7.79, 10.89, 6.59, 7.06, 10.01, 3.78, 10.63, 13.83, 2.73, 13.16, 7.88, 7.27, 13.16, 7.88, 6.59, 13.91, 13.16, 3.96, 5.43, 7.06, 3.96, 2.73, 7.06, 17.33, 7.10, 9.77, 10.82, 11.26, 14.18, 14.32, 1.56, 5.43, 1.56, 17.33, 5.43, 6.00, 10.01, 0.43, 2.73, 5.43, 17.33, 8.19\n",
      "    True sol: 0, 0, 0, 0, 0, 0, 0, 0, 0, 0, 0, 0, 1, 1, 0, 0, 0, 0, 0, 0, 0, 1, 0, 0, 0, 0, 0, 0, 0, 1, 0, 0, 0, 0, 1, 1, 0, 0, 0, 1, 0, 0, 0, 0, 0, 0, 1, 0, True obj: 114.00\n",
      "    Pred sol: 0, 0, 0, 0, 0, 0, 0, 0, 0, 0, 0, 0, 1, 1, 0, 0, 0, 0, 0, 0, 0, 1, 0, 0, 0, 0, 0, 0, 0, 1, 0, 0, 0, 0, 1, 1, 0, 0, 0, 1, 0, 0, 0, 0, 0, 0, 1, 0, Pred obj: 114.00\n",
      "\n",
      "Sample 1:\n",
      "    True cost: 10.00, 3.00, 3.00, 10.00, 6.00, 20.00, 6.00, 3.00, 18.00, 3.00, 10.00, 5.00, 20.00, 11.00, 10.00, 11.00, 5.00, 10.00, 11.00, 5.00, 18.00, 3.00, 11.00, 18.00, 10.00, 3.00, 18.00, 10.00, 3.00, 11.00, 3.00, 11.00, 18.00, 7.00, 6.00, 21.00, 6.00, 10.00, 6.00, 11.00, 10.00, 6.00, 10.00, 3.00, 10.00, 10.00, 11.00, 18.00\n",
      "    Pred cost: 12.02, 2.40, 3.72, 12.02, 6.00, 17.96, 8.00, 3.30, 16.75, 2.40, 11.77, 6.86, 17.96, 12.60, 12.02, 14.92, 6.18, 10.80, 14.92, 6.18, 16.75, 3.72, 14.92, 15.62, 12.90, 2.40, 15.62, 12.02, 2.40, 13.77, 3.81, 13.93, 15.28, 7.02, 7.73, 16.10, 6.41, 12.90, 6.41, 13.77, 12.90, 6.00, 11.77, 2.58, 12.02, 12.90, 13.77, 13.95\n",
      "    True sol: 0, 0, 0, 0, 0, 1, 0, 0, 0, 0, 0, 0, 1, 1, 0, 0, 0, 0, 0, 0, 1, 0, 0, 1, 0, 0, 1, 0, 0, 1, 0, 1, 0, 0, 0, 1, 0, 0, 0, 0, 0, 0, 0, 0, 0, 0, 0, 0, True obj: 148.00\n",
      "    Pred sol: 0, 0, 0, 0, 0, 0, 0, 0, 0, 0, 1, 0, 1, 1, 0, 0, 0, 0, 0, 0, 1, 0, 0, 1, 0, 0, 1, 1, 0, 1, 0, 1, 0, 0, 0, 0, 0, 0, 0, 0, 0, 0, 1, 0, 0, 0, 0, 0, Pred obj: 137.00\n",
      "\n",
      "Sample 2:\n",
      "    True cost: 6.00, 4.00, 11.00, 6.00, 6.00, 17.00, 7.00, 10.00, 8.00, 4.00, 12.00, 3.00, 17.00, 24.00, 6.00, 14.00, 6.00, 11.00, 14.00, 6.00, 8.00, 11.00, 14.00, 8.00, 6.00, 4.00, 8.00, 6.00, 4.00, 25.00, 5.00, 13.00, 15.00, 13.00, 14.00, 29.00, 3.00, 6.00, 3.00, 25.00, 6.00, 6.00, 12.00, 2.00, 6.00, 6.00, 25.00, 14.00\n",
      "    Pred cost: 7.74, 5.86, 12.70, 7.74, 6.00, 15.95, 8.26, 10.84, 10.66, 5.86, 13.56, 2.97, 15.95, 18.50, 7.74, 17.49, 6.88, 11.63, 17.49, 6.88, 10.66, 12.70, 17.49, 8.84, 9.55, 5.86, 8.84, 7.74, 5.86, 21.15, 7.23, 15.06, 14.27, 11.43, 13.31, 18.91, 1.84, 9.55, 1.84, 21.15, 9.55, 6.00, 13.56, 0.56, 7.74, 9.55, 21.15, 12.34\n",
      "    True sol: 0, 0, 0, 0, 0, 1, 0, 0, 0, 0, 0, 0, 1, 1, 0, 0, 0, 0, 0, 0, 0, 0, 0, 0, 0, 0, 0, 0, 0, 1, 0, 1, 0, 0, 0, 1, 0, 0, 0, 1, 0, 0, 0, 0, 0, 0, 1, 0, True obj: 175.00\n",
      "    Pred sol: 0, 0, 0, 0, 0, 0, 0, 0, 0, 0, 1, 0, 1, 1, 0, 0, 0, 0, 0, 0, 0, 0, 0, 0, 0, 0, 0, 0, 0, 1, 0, 1, 0, 0, 1, 1, 0, 0, 0, 0, 0, 0, 1, 0, 0, 0, 1, 0, Pred obj: 171.00\n",
      "\n",
      "Sample 3:\n",
      "    True cost: 3.00, 8.00, 13.00, 3.00, 6.00, 5.00, 7.00, 10.00, 4.00, 8.00, 6.00, 5.00, 5.00, 8.00, 3.00, 7.00, 8.00, 4.00, 7.00, 8.00, 4.00, 13.00, 7.00, 3.00, 4.00, 8.00, 3.00, 3.00, 8.00, 11.00, 7.00, 5.00, 6.00, 10.00, 13.00, 8.00, 4.00, 4.00, 4.00, 11.00, 4.00, 6.00, 6.00, 4.00, 3.00, 4.00, 11.00, 4.00\n",
      "    Pred cost: 2.76, 8.94, 14.35, 2.76, 6.00, 7.27, 8.25, 11.00, 5.11, 8.94, 8.16, 6.11, 7.27, 10.18, 2.76, 11.60, 8.13, 5.31, 11.60, 8.13, 5.11, 14.35, 11.60, 2.41, 5.66, 8.94, 2.41, 2.76, 8.94, 13.69, 9.30, 8.06, 7.46, 9.87, 12.98, 9.27, 3.52, 5.66, 3.52, 13.69, 5.66, 6.00, 8.16, 4.05, 2.76, 5.66, 13.69, 4.83\n",
      "    True sol: 0, 0, 0, 0, 0, 0, 0, 1, 0, 0, 0, 0, 0, 1, 0, 0, 1, 0, 0, 0, 0, 1, 0, 0, 0, 0, 0, 0, 0, 1, 0, 0, 0, 0, 1, 0, 0, 0, 0, 1, 0, 0, 0, 0, 0, 0, 1, 0, True obj: 85.00\n",
      "    Pred sol: 0, 0, 0, 0, 0, 0, 0, 1, 0, 0, 0, 0, 0, 1, 0, 0, 0, 0, 0, 0, 0, 1, 0, 0, 0, 0, 0, 0, 0, 1, 0, 0, 0, 0, 1, 0, 0, 0, 0, 1, 0, 0, 1, 0, 0, 0, 1, 0, Pred obj: 83.00\n",
      "\n",
      "Sample 4:\n",
      "    True cost: 26.00, 11.00, 17.00, 26.00, 6.00, 24.00, 17.00, 16.00, 18.00, 11.00, 17.00, 12.00, 24.00, 23.00, 26.00, 41.00, 6.00, 15.00, 41.00, 6.00, 18.00, 17.00, 41.00, 16.00, 29.00, 11.00, 16.00, 26.00, 11.00, 25.00, 27.00, 37.00, 10.00, 9.00, 10.00, 14.00, 11.00, 29.00, 11.00, 25.00, 29.00, 6.00, 17.00, 18.00, 26.00, 29.00, 25.00, 9.00\n",
      "    Pred cost: 19.80, 11.82, 16.68, 19.80, 6.00, 19.30, 14.89, 14.14, 16.77, 11.82, 16.18, 12.23, 19.30, 18.32, 19.80, 27.93, 7.02, 13.96, 27.93, 7.02, 16.77, 16.68, 27.93, 14.74, 22.22, 11.82, 14.74, 19.80, 11.82, 21.25, 20.02, 24.76, 10.98, 9.31, 11.45, 13.11, 10.57, 22.22, 10.57, 21.25, 22.22, 6.00, 16.18, 15.18, 19.80, 22.22, 21.25, 9.12\n",
      "    True sol: 0, 0, 0, 0, 0, 0, 0, 0, 0, 0, 0, 0, 1, 1, 0, 1, 0, 0, 0, 0, 1, 0, 1, 0, 0, 0, 0, 1, 0, 1, 0, 1, 0, 0, 0, 0, 0, 0, 0, 0, 0, 0, 0, 0, 0, 0, 0, 0, True obj: 235.00\n",
      "    Pred sol: 0, 0, 0, 0, 0, 0, 0, 0, 0, 0, 0, 0, 1, 1, 0, 0, 0, 0, 0, 0, 1, 0, 0, 0, 0, 0, 0, 1, 0, 1, 1, 1, 0, 0, 0, 0, 0, 1, 0, 0, 0, 0, 0, 0, 0, 0, 1, 0, Pred obj: 234.00\n",
      "\n",
      "Sample 5:\n",
      "    True cost: 12.00, 2.00, 1.00, 12.00, 6.00, 14.00, 12.00, 3.00, 7.00, 2.00, 2.00, 6.00, 14.00, 4.00, 12.00, 4.00, 2.00, 5.00, 4.00, 2.00, 7.00, 1.00, 4.00, 16.00, 5.00, 2.00, 16.00, 12.00, 2.00, 2.00, 9.00, 10.00, 3.00, 5.00, 2.00, 6.00, 14.00, 5.00, 14.00, 2.00, 5.00, 6.00, 2.00, 10.00, 12.00, 5.00, 2.00, 7.00\n",
      "    Pred cost: 13.11, -0.92, -1.75, 13.11, 6.00, 14.59, 12.14, 3.77, 9.63, -0.92, 0.23, 7.63, 14.59, 5.34, 13.11, 6.89, 0.97, 5.68, 6.89, 0.97, 9.63, -1.75, 6.89, 14.57, 7.55, -0.92, 14.57, 13.11, -0.92, -0.58, 10.49, 12.80, 2.34, 5.36, 0.43, 7.02, 12.26, 7.55, 12.26, -0.58, 7.55, 6.00, 0.23, 10.87, 13.11, 7.55, -0.58, 7.14\n",
      "    True sol: 0, 0, 0, 0, 0, 1, 0, 0, 0, 0, 0, 0, 1, 0, 0, 0, 0, -0, 0, 0, 1, 0, 0, 1, 0, 0, 1, 1, 0, 0, 0, 1, 0, 0, 0, 0, 0, 0, 1, 0, 0, 0, 0, 1, 0, 0, 0, 0, True obj: 113.00\n",
      "    Pred sol: 0, 0, 0, 0, 0, 1, 0, 0, 0, 0, 0, 0, 1, 0, 0, 0, 0, 0, 0, 0, 1, 0, 0, 1, 0, 0, 1, 1, 0, 0, 0, 1, 0, 0, 0, 0, 0, 0, 1, 0, 0, 0, 0, 1, 0, 0, 0, 0, Pred obj: 113.00\n",
      "\n",
      "Sample 6:\n",
      "    True cost: 1.00, 7.00, 3.00, 1.00, 6.00, 1.00, 1.00, 2.00, 2.00, 7.00, 3.00, 4.00, 1.00, 1.00, 1.00, 1.00, 9.00, 2.00, 1.00, 9.00, 2.00, 3.00, 1.00, 1.00, 1.00, 7.00, 1.00, 1.00, 7.00, 2.00, 1.00, 1.00, 5.00, 3.00, 5.00, 1.00, 2.00, 1.00, 2.00, 2.00, 1.00, 6.00, 3.00, 2.00, 1.00, 1.00, 2.00, 3.00\n",
      "    Pred cost: -4.78, 7.70, 3.81, -4.78, 6.00, -6.92, -2.46, 0.36, 0.69, 7.70, 3.89, 5.07, -6.92, -3.64, -4.78, -6.02, 9.27, 0.35, -6.02, 9.27, 0.69, 3.81, -6.02, -2.70, -1.30, 7.70, -2.70, -4.78, 7.70, -0.29, -4.47, -9.25, 5.66, 2.22, 5.60, -1.53, 1.53, -1.30, 1.53, -0.29, -1.30, 6.00, 3.89, -0.22, -4.78, -1.30, -0.29, 2.07\n",
      "    True sol: 0, 0, 0, 0, 1, 0, 0, 0, 0, 0, 1, 0, 0, 0, 0, 0, 1, 0, 0, 1, 0, 0, 0, 0, 0, 1, 0, 0, 1, 0, 0, 0, 0, 0, 1, 0, 0, 0, 0, 0, 0, 0, 0, 0, 0, 0, 0, 0, True obj: 46.00\n",
      "    Pred sol: 0, 0, 0, 0, 1, 0, 0, 0, 0, 0, 1, 0, 0, 0, 0, 0, 1, 0, 0, 1, 0, 0, 0, 0, 0, 1, 0, 0, 1, 0, 0, 0, 0, 0, 1, 0, 0, 0, 0, 0, 0, 0, 0, 0, 0, 0, 0, 0, Pred obj: 46.00\n",
      "\n",
      "Sample 7:\n",
      "    True cost: 4.00, 4.00, 2.00, 4.00, 6.00, 4.00, 5.00, 2.00, 7.00, 4.00, 3.00, 8.00, 4.00, 2.00, 4.00, 2.00, 6.00, 3.00, 2.00, 6.00, 7.00, 2.00, 2.00, 7.00, 4.00, 4.00, 7.00, 4.00, 4.00, 2.00, 3.00, 2.00, 5.00, 3.00, 3.00, 2.00, 8.00, 4.00, 8.00, 2.00, 4.00, 6.00, 3.00, 5.00, 4.00, 4.00, 2.00, 4.00\n",
      "    Pred cost: 6.13, 4.25, 0.93, 6.13, 6.00, 5.15, 5.69, 0.73, 8.68, 4.25, 3.31, 9.34, 5.15, -0.20, 6.13, 2.79, 6.23, 3.00, 2.79, 6.23, 8.68, 0.93, 2.79, 8.17, 6.45, 4.25, 8.17, 6.13, 4.25, -0.17, 3.49, 2.72, 5.49, 2.89, 3.26, 2.12, 8.69, 6.45, 8.69, -0.17, 6.45, 6.00, 3.31, 6.81, 6.13, 6.45, -0.17, 4.88\n",
      "    True sol: 0, 0, 0, 0, 1, 0, 0, 0, 0, 0, 0, 1, 0, 0, 0, 0, 1, -0, 0, 0, 1, 0, 0, 1, 0, 0, 1, 0, 0, 0, 0, 0, 0, 0, 0, 0, 0, 0, 1, 0, 0, 0, 0, 1, 0, 0, 0, 0, True obj: 54.00\n",
      "    Pred sol: 0, 0, 0, 0, 1, 0, 0, 0, 0, 0, 0, 0, 0, 0, 0, 0, 1, 0, 0, 0, 1, 0, 0, 1, 0, 0, 1, 1, 0, 0, 0, 0, 0, 0, 0, 0, 0, 1, 1, 0, 0, 0, 0, 1, 0, 0, 0, 0, Pred obj: 54.00\n",
      "\n",
      "Sample 8:\n",
      "    True cost: 2.00, 1.00, 1.00, 2.00, 6.00, 7.00, 9.00, 3.00, 3.00, 1.00, 1.00, 5.00, 7.00, 2.00, 2.00, 1.00, 3.00, 2.00, 1.00, 3.00, 3.00, 1.00, 1.00, 6.00, 1.00, 1.00, 6.00, 2.00, 1.00, 1.00, 4.00, 3.00, 2.00, 6.00, 4.00, 5.00, 8.00, 1.00, 8.00, 1.00, 1.00, 6.00, 1.00, 3.00, 2.00, 1.00, 1.00, 4.00\n",
      "    Pred cost: 1.85, -2.29, -1.16, 1.85, 6.00, 9.08, 10.04, 2.23, 4.31, -2.29, -4.54, 5.81, 9.08, 0.44, 1.85, -0.48, 2.96, -0.94, -0.48, 2.96, 4.31, -1.16, -0.48, 7.34, -1.85, -2.29, 7.34, 1.85, -2.29, -3.40, 5.00, 3.37, 1.37, 6.95, 4.16, 5.78, 8.46, -1.85, 8.46, -3.40, -1.85, 6.00, -4.54, 3.55, 1.85, -1.85, -3.40, 4.31\n",
      "    True sol: 0, 0, 0, 0, 1, 1, 0, 0, 0, 0, 0, 0, 1, 0, 0, 0, 0, 0, -0, 0, 1, 0, 0, 1, 0, 0, 1, 0, 0, 0, 0, 0, 0, 0, 0, 0, 1, 0, 1, 0, 0, 0, 0, 0, 0, 0, 0, 0, True obj: 51.00\n",
      "    Pred sol: 0, 0, 0, 0, 1, 1, 0, 0, 0, 0, 0, 0, 1, 0, 0, 0, 0, 0, 0, 0, 1, 0, 0, 1, 0, 0, 1, 0, 0, 0, 0, 0, 0, 0, 0, 0, 1, 0, 1, 0, 0, 0, 0, 0, 0, 0, 0, 0, Pred obj: 51.00\n",
      "\n",
      "Sample 9:\n",
      "    True cost: 22.00, 12.00, 8.00, 22.00, 6.00, 10.00, 3.00, 6.00, 18.00, 12.00, 28.00, 7.00, 10.00, 17.00, 22.00, 19.00, 7.00, 23.00, 19.00, 7.00, 18.00, 8.00, 19.00, 15.00, 27.00, 12.00, 15.00, 22.00, 12.00, 20.00, 6.00, 16.00, 19.00, 4.00, 5.00, 11.00, 5.00, 27.00, 5.00, 20.00, 27.00, 6.00, 28.00, 9.00, 22.00, 27.00, 20.00, 15.00\n",
      "    Pred cost: 18.76, 12.12, 10.02, 18.76, 6.00, 11.87, 3.83, 7.48, 16.55, 12.12, 20.95, 8.12, 11.87, 15.84, 18.76, 19.77, 7.80, 17.76, 19.77, 7.80, 16.55, 10.02, 19.77, 13.78, 21.91, 12.12, 13.78, 18.76, 12.12, 19.15, 7.70, 16.58, 15.70, 3.70, 5.95, 11.14, 6.04, 21.91, 6.04, 19.15, 21.91, 6.00, 20.95, 10.14, 18.76, 21.91, 19.15, 12.70\n",
      "    True sol: 0, 0, 0, 0, 0, 0, 0, 0, 0, 0, 1, 0, 0, 1, 0, 0, 0, 0, 0, 0, 1, 0, 0, 0, 1, 0, 0, 1, 0, 1, 0, 1, 0, 0, 0, 0, 0, 1, 0, 0, 0, 0, 1, 0, 0, 0, 0, 0, True obj: 203.00\n",
      "    Pred sol: 0, 0, 0, 0, 0, 0, 0, 0, 0, 0, 1, 0, 0, 1, 0, 0, 0, 0, 0, 0, 1, 0, 0, 0, 1, 0, 0, 1, 0, 1, 0, 1, 0, 0, 0, 0, 0, 1, 0, 0, 0, 0, 1, 0, 0, 0, 0, 0, Pred obj: 203.00\n",
      "\n"
     ]
    }
   ],
   "source": [
    "reg.eval()\n",
    "# compare solutions\n",
    "for i, data in enumerate(ks_loader_test):\n",
    "    # load data\n",
    "    x, c, w, z = data\n",
    "    # cuda\n",
    "    if torch.cuda.is_available():\n",
    "        x, c, w, z = x.cuda(), c.cuda(), w.cuda(), z.cuda()\n",
    "    # convert to numpy\n",
    "    x = x.to('cpu').detach().numpy()\n",
    "    c = c.to('cpu').detach().numpy()\n",
    "    w = w.to('cpu').detach().numpy()\n",
    "    z = z.to('cpu').detach().numpy()\n",
    "    # predict\n",
    "    cp = twostage_model.predict(x)\n",
    "    for j in range(min(10, batch_size)):\n",
    "        print('Sample {}:'.format(j))\n",
    "        print('    True cost:', ', '.join(['{:.2f}'.format(-cost) for cost in c[j]]))\n",
    "        print('    Pred cost:', ', '.join(['{:.2f}'.format(-cost) for cost in cp[j]]))\n",
    "        # solve cost from prediction\n",
    "        ks_model.setObj(cp[j])\n",
    "        wpj, _ = ks_model.solve()\n",
    "        zpj = np.dot(c[j], wpj)\n",
    "        print('    True sol: ' + ', '.join(['{:.0f}'.format(x) for x in w[j]]) + ', True obj: {:.2f}'.format(-z[j,0]))\n",
    "        print('    Pred sol: '+  ', '.join(['{:.0f}'.format(x) for x in wpj]) + ', Pred obj: {:.2f}'.format(-zpj))\n",
    "        print()\n",
    "    break"
   ]
  },
  {
   "cell_type": "markdown",
   "id": "cd96fcde",
   "metadata": {},
   "source": [
    "## Black-Box"
   ]
  },
  {
   "cell_type": "code",
   "execution_count": 43,
   "id": "383005aa",
   "metadata": {},
   "outputs": [],
   "source": [
    "# init model\n",
    "reg = LinearRegression()\n",
    "# cuda\n",
    "if torch.cuda.is_available():\n",
    "    reg = reg.cuda()"
   ]
  },
  {
   "cell_type": "code",
   "execution_count": 44,
   "id": "2b534a38",
   "metadata": {},
   "outputs": [],
   "source": [
    "# set optimizer\n",
    "optimizer = torch.optim.Adam(reg.parameters(), lr=1e-3)"
   ]
  },
  {
   "cell_type": "code",
   "execution_count": 45,
   "id": "b257e4f1",
   "metadata": {},
   "outputs": [],
   "source": [
    "# set loss\n",
    "criterion = nn.L1Loss()"
   ]
  },
  {
   "cell_type": "code",
   "execution_count": 46,
   "id": "85ce9990",
   "metadata": {},
   "outputs": [
    {
     "name": "stdout",
     "output_type": "stream",
     "text": [
      "Epoch  10, Loss:  25.3750, True SPO Loss: 16.7400%, Unambiguous SPO Loss: 16.7400%\n",
      "Epoch  20, Loss:   2.3750, True SPO Loss:  3.4833%, Unambiguous SPO Loss:  3.4833%\n",
      "Epoch  30, Loss:   2.2500, True SPO Loss:  1.3303%, Unambiguous SPO Loss:  1.3303%\n",
      "Epoch  40, Loss:   1.8750, True SPO Loss:  0.7383%, Unambiguous SPO Loss:  0.7383%\n",
      "Epoch  50, Loss:   0.0000, True SPO Loss:  0.5310%, Unambiguous SPO Loss:  0.5310%\n",
      "Epoch  60, Loss:   0.1250, True SPO Loss:  0.4428%, Unambiguous SPO Loss:  0.4428%\n",
      "Epoch  70, Loss:   0.0000, True SPO Loss:  0.3527%, Unambiguous SPO Loss:  0.3527%\n",
      "Epoch  80, Loss:   0.0000, True SPO Loss:  0.3285%, Unambiguous SPO Loss:  0.3285%\n",
      "Epoch  90, Loss:   0.3750, True SPO Loss:  0.3081%, Unambiguous SPO Loss:  0.3081%\n",
      "Epoch 100, Loss:   0.5000, True SPO Loss:  0.2878%, Unambiguous SPO Loss:  0.2878%\n",
      "Epoch 110, Loss:   0.1250, True SPO Loss:  0.2558%, Unambiguous SPO Loss:  0.2558%\n",
      "Epoch 120, Loss:   0.0000, True SPO Loss:  0.2471%, Unambiguous SPO Loss:  0.2471%\n",
      "Epoch 130, Loss:   0.2500, True SPO Loss:  0.2519%, Unambiguous SPO Loss:  0.2519%\n",
      "Epoch 140, Loss:   0.0000, True SPO Loss:  0.2306%, Unambiguous SPO Loss:  0.2306%\n",
      "Epoch 150, Loss:   0.6250, True SPO Loss:  0.2287%, Unambiguous SPO Loss:  0.2287%\n",
      "Epoch 160, Loss:   0.0000, True SPO Loss:  0.2199%, Unambiguous SPO Loss:  0.2199%\n",
      "Epoch 170, Loss:   0.2500, True SPO Loss:  0.2374%, Unambiguous SPO Loss:  0.2374%\n",
      "Epoch 180, Loss:   0.6250, True SPO Loss:  0.1822%, Unambiguous SPO Loss:  0.1822%\n",
      "Epoch 190, Loss:   0.0000, True SPO Loss:  0.2073%, Unambiguous SPO Loss:  0.2073%\n",
      "Epoch 200, Loss:   0.0000, True SPO Loss:  0.2403%, Unambiguous SPO Loss:  0.2403%\n",
      "Epoch 210, Loss:   0.2500, True SPO Loss:  0.2161%, Unambiguous SPO Loss:  0.2161%\n",
      "Epoch 220, Loss:   0.0000, True SPO Loss:  0.1860%, Unambiguous SPO Loss:  0.1860%\n",
      "Epoch 230, Loss:   0.0000, True SPO Loss:  0.1744%, Unambiguous SPO Loss:  0.1744%\n",
      "Epoch 240, Loss:   0.2500, True SPO Loss:  0.1541%, Unambiguous SPO Loss:  0.1541%\n",
      "Epoch 250, Loss:   0.0000, True SPO Loss:  0.1696%, Unambiguous SPO Loss:  0.1696%\n",
      "Epoch 260, Loss:   0.0000, True SPO Loss:  0.1763%, Unambiguous SPO Loss:  0.1763%\n",
      "Epoch 270, Loss:   0.2500, True SPO Loss:  0.1725%, Unambiguous SPO Loss:  0.1725%\n",
      "Epoch 280, Loss:   0.1250, True SPO Loss:  0.1599%, Unambiguous SPO Loss:  0.1599%\n",
      "Epoch 290, Loss:   0.1250, True SPO Loss:  0.1599%, Unambiguous SPO Loss:  0.1599%\n",
      "Epoch 300, Loss:   0.1250, True SPO Loss:  0.1705%, Unambiguous SPO Loss:  0.1705%\n"
     ]
    }
   ],
   "source": [
    "# train model\n",
    "num_epochs = 300\n",
    "lambd = 10\n",
    "reg.train()\n",
    "loss_log = []\n",
    "loss_log_truespo = []\n",
    "loss_log_unambspo = []\n",
    "for epoch in range(num_epochs):\n",
    "    # load data\n",
    "    for i, data in enumerate(ks_loader_train):\n",
    "        x, c, w, z = data\n",
    "        # cuda\n",
    "        if torch.cuda.is_available():\n",
    "            x, c, w, z = x.cuda(), c.cuda(), w.cuda(), z.cuda()\n",
    "        # linear regression\n",
    "        cp = reg(x)\n",
    "        # black-box optimizer\n",
    "        wp = spo.func.blackboxOpt.apply(ks_model, cp, lambd)\n",
    "        # objective value\n",
    "        zp = (wp * c).sum(1).view(-1, 1)\n",
    "        # loss\n",
    "        loss = criterion(zp, z)\n",
    "        # backward pass\n",
    "        optimizer.zero_grad()\n",
    "        loss.backward()\n",
    "        optimizer.step()\n",
    "    loss_log.append(loss.item())\n",
    "    if (epoch + 1) % 10 == 0:\n",
    "        # true SPO\n",
    "        trueloss = spo.eval.trueSPO(reg, ks_model, ks_loader_test)\n",
    "        loss_log_truespo.append(trueloss)\n",
    "        # unambiguous SPO \n",
    "        unambloss = spo.eval.unambSPO(reg, ks_model, ks_loader_test)\n",
    "        loss_log_unambspo.append(unambloss)\n",
    "        print('Epoch {:3}, Loss: {:8.4f}, True SPO Loss: {:7.4f}%, Unambiguous SPO Loss: {:7.4f}%'. \\\n",
    "              format(epoch+1, loss.item(), trueloss*100, unambloss*100))"
   ]
  },
  {
   "cell_type": "code",
   "execution_count": 47,
   "id": "9bb79450",
   "metadata": {},
   "outputs": [
    {
     "data": {
      "image/png": "[encoded data removed]",
      "text/plain": [
       "<Figure size 864x432 with 1 Axes>"
      ]
     },
     "metadata": {
      "needs_background": "light"
     },
     "output_type": "display_data"
    }
   ],
   "source": [
    "# draw plot\n",
    "plt.figure(figsize=(12, 6))\n",
    "plt.plot(loss_log, color='c')\n",
    "plt.xlabel('Epoch')\n",
    "plt.ylabel('SPO+ Loss')\n",
    "plt.title('Learning Curve')\n",
    "plt.show()"
   ]
  },
  {
   "cell_type": "code",
   "execution_count": 48,
   "id": "65e634d4",
   "metadata": {},
   "outputs": [
    {
     "data": {
      "image/png": "[encoded data removed]",
      "text/plain": [
       "<Figure size 864x432 with 1 Axes>"
      ]
     },
     "metadata": {
      "needs_background": "light"
     },
     "output_type": "display_data"
    }
   ],
   "source": [
    "# draw plot\n",
    "plt.figure(figsize=(12, 6))\n",
    "plt.plot(range(0, num_epochs, 10), loss_log_truespo, color='m', alpha=0.7, label='True SPO')\n",
    "plt.plot(range(0, num_epochs, 10), loss_log_unambspo, color='b', alpha=0.7, label='Unambiguous SPO')\n",
    "plt.xlabel('Epoch')\n",
    "plt.ylabel('Loss')\n",
    "plt.title('Learning Curve')\n",
    "plt.legend()\n",
    "plt.show()"
   ]
  },
  {
   "cell_type": "code",
   "execution_count": 49,
   "id": "9f49711c",
   "metadata": {},
   "outputs": [
    {
     "name": "stdout",
     "output_type": "stream",
     "text": [
      "Normalized true SPO Loss: 0.17%\n",
      "Normalized unambiguous SPO Loss: 0.17%\n"
     ]
    }
   ],
   "source": [
    "# evaluate\n",
    "spoloss = spo.eval.trueSPO(reg, ks_model, ks_loader_test)\n",
    "print('Normalized true SPO Loss: {:.2f}%'.format(spoloss * 100))\n",
    "spoloss = spo.eval.unambSPO(reg, ks_model, ks_loader_test)\n",
    "print('Normalized unambiguous SPO Loss: {:.2f}%'.format(spoloss * 100))"
   ]
  },
  {
   "cell_type": "code",
   "execution_count": 50,
   "id": "4f8b44a1",
   "metadata": {
    "scrolled": false
   },
   "outputs": [
    {
     "name": "stdout",
     "output_type": "stream",
     "text": [
      "Sample 0:\n",
      "    True cost: 3.00, 6.00, 12.00, 3.00, 6.00, 9.00, 6.00, 10.00, 5.00, 6.00, 8.00, 3.00, 9.00, 13.00, 3.00, 9.00, 7.00, 6.00, 9.00, 7.00, 5.00, 12.00, 9.00, 4.00, 4.00, 6.00, 4.00, 3.00, 6.00, 16.00, 5.00, 7.00, 10.00, 13.00, 16.00, 16.00, 2.00, 4.00, 2.00, 16.00, 4.00, 6.00, 8.00, 2.00, 3.00, 4.00, 16.00, 8.00\n",
      "    Pred cost: 2.73, 7.06, 13.91, 2.73, 6.00, 10.63, 7.79, 10.89, 6.59, 7.06, 10.01, 3.78, 10.63, 13.83, 2.73, 13.16, 7.88, 7.27, 13.16, 7.88, 6.59, 13.91, 13.16, 3.96, 5.43, 7.06, 3.96, 2.73, 7.06, 17.33, 7.10, 9.77, 10.82, 11.26, 14.18, 14.32, 1.56, 5.43, 1.56, 17.33, 5.43, 6.00, 10.01, 0.43, 2.73, 5.43, 17.33, 8.19\n",
      "    True sol: 0, 0, 0, 0, 0, 0, 0, 0, 0, 0, 0, 0, 1, 1, 0, 0, 0, 0, 0, 0, 0, 1, 0, 0, 0, 0, 0, 0, 0, 1, 0, 0, 0, 0, 1, 1, 0, 0, 0, 1, 0, 0, 0, 0, 0, 0, 1, 0, True obj: 114.00\n",
      "    Pred sol: 0, 0, 0, 0, 0, 0, 0, 0, 0, 0, 0, 0, 1, 1, 0, 0, 0, 0, 0, 0, 0, 1, 0, 0, 0, 0, 0, 0, 0, 1, 0, 0, 0, 0, 1, 1, 0, 0, 0, 1, 0, 0, 0, 0, 0, 0, 1, 0, Pred obj: 114.00\n",
      "\n",
      "Sample 1:\n",
      "    True cost: 10.00, 3.00, 3.00, 10.00, 6.00, 20.00, 6.00, 3.00, 18.00, 3.00, 10.00, 5.00, 20.00, 11.00, 10.00, 11.00, 5.00, 10.00, 11.00, 5.00, 18.00, 3.00, 11.00, 18.00, 10.00, 3.00, 18.00, 10.00, 3.00, 11.00, 3.00, 11.00, 18.00, 7.00, 6.00, 21.00, 6.00, 10.00, 6.00, 11.00, 10.00, 6.00, 10.00, 3.00, 10.00, 10.00, 11.00, 18.00\n",
      "    Pred cost: 12.02, 2.40, 3.72, 12.02, 6.00, 17.96, 8.00, 3.30, 16.75, 2.40, 11.77, 6.86, 17.96, 12.60, 12.02, 14.92, 6.18, 10.80, 14.92, 6.18, 16.75, 3.72, 14.92, 15.62, 12.90, 2.40, 15.62, 12.02, 2.40, 13.77, 3.81, 13.93, 15.28, 7.02, 7.73, 16.10, 6.41, 12.90, 6.41, 13.77, 12.90, 6.00, 11.77, 2.58, 12.02, 12.90, 13.77, 13.95\n",
      "    True sol: 0, 0, 0, 0, 0, 1, 0, 0, 0, 0, 0, 0, 1, 1, 0, 0, 0, 0, 0, 0, 1, 0, 0, 1, 0, 0, 1, 0, 0, 1, 0, 1, 0, 0, 0, 1, 0, 0, 0, 0, 0, 0, 0, 0, 0, 0, 0, 0, True obj: 148.00\n",
      "    Pred sol: 0, 0, 0, 0, 0, 0, 0, 0, 0, 0, 1, 0, 1, 1, 0, 0, 0, 0, 0, 0, 1, 0, 0, 1, 0, 0, 1, 1, 0, 1, 0, 1, 0, 0, 0, 0, 0, 0, 0, 0, 0, 0, 1, 0, 0, 0, 0, 0, Pred obj: 137.00\n",
      "\n",
      "Sample 2:\n",
      "    True cost: 6.00, 4.00, 11.00, 6.00, 6.00, 17.00, 7.00, 10.00, 8.00, 4.00, 12.00, 3.00, 17.00, 24.00, 6.00, 14.00, 6.00, 11.00, 14.00, 6.00, 8.00, 11.00, 14.00, 8.00, 6.00, 4.00, 8.00, 6.00, 4.00, 25.00, 5.00, 13.00, 15.00, 13.00, 14.00, 29.00, 3.00, 6.00, 3.00, 25.00, 6.00, 6.00, 12.00, 2.00, 6.00, 6.00, 25.00, 14.00\n",
      "    Pred cost: 7.74, 5.86, 12.70, 7.74, 6.00, 15.95, 8.26, 10.84, 10.66, 5.86, 13.56, 2.97, 15.95, 18.50, 7.74, 17.49, 6.88, 11.63, 17.49, 6.88, 10.66, 12.70, 17.49, 8.84, 9.55, 5.86, 8.84, 7.74, 5.86, 21.15, 7.23, 15.06, 14.27, 11.43, 13.31, 18.91, 1.84, 9.55, 1.84, 21.15, 9.55, 6.00, 13.56, 0.56, 7.74, 9.55, 21.15, 12.34\n",
      "    True sol: 0, 0, 0, 0, 0, 1, 0, 0, 0, 0, 0, 0, 1, 1, 0, 0, 0, 0, 0, 0, 0, 0, 0, 0, 0, 0, 0, 0, 0, 1, 0, 1, 0, 0, 0, 1, 0, 0, 0, 1, 0, 0, 0, 0, 0, 0, 1, 0, True obj: 175.00\n",
      "    Pred sol: 0, 0, 0, 0, 0, 0, 0, 0, 0, 0, 1, 0, 1, 1, 0, 0, 0, 0, 0, 0, 0, 0, 0, 0, 0, 0, 0, 0, 0, 1, 0, 1, 0, 0, 1, 1, 0, 0, 0, 0, 0, 0, 1, 0, 0, 0, 1, 0, Pred obj: 171.00\n",
      "\n",
      "Sample 3:\n",
      "    True cost: 3.00, 8.00, 13.00, 3.00, 6.00, 5.00, 7.00, 10.00, 4.00, 8.00, 6.00, 5.00, 5.00, 8.00, 3.00, 7.00, 8.00, 4.00, 7.00, 8.00, 4.00, 13.00, 7.00, 3.00, 4.00, 8.00, 3.00, 3.00, 8.00, 11.00, 7.00, 5.00, 6.00, 10.00, 13.00, 8.00, 4.00, 4.00, 4.00, 11.00, 4.00, 6.00, 6.00, 4.00, 3.00, 4.00, 11.00, 4.00\n",
      "    Pred cost: 2.76, 8.94, 14.35, 2.76, 6.00, 7.27, 8.25, 11.00, 5.11, 8.94, 8.16, 6.11, 7.27, 10.18, 2.76, 11.60, 8.13, 5.31, 11.60, 8.13, 5.11, 14.35, 11.60, 2.41, 5.66, 8.94, 2.41, 2.76, 8.94, 13.69, 9.30, 8.06, 7.46, 9.87, 12.98, 9.27, 3.52, 5.66, 3.52, 13.69, 5.66, 6.00, 8.16, 4.05, 2.76, 5.66, 13.69, 4.83\n",
      "    True sol: 0, 0, 0, 0, 0, 0, 0, 1, 0, 0, 0, 0, 0, 1, 0, 0, 1, 0, 0, 0, 0, 1, 0, 0, 0, 0, 0, 0, 0, 1, 0, 0, 0, 0, 1, 0, 0, 0, 0, 1, 0, 0, 0, 0, 0, 0, 1, 0, True obj: 85.00\n",
      "    Pred sol: 0, 0, 0, 0, 0, 0, 0, 1, 0, 0, 0, 0, 0, 1, 0, 0, 0, 0, 0, 0, 0, 1, 0, 0, 0, 0, 0, 0, 0, 1, 0, 0, 0, 0, 1, 0, 0, 0, 0, 1, 0, 0, 1, 0, 0, 0, 1, 0, Pred obj: 83.00\n",
      "\n",
      "Sample 4:\n",
      "    True cost: 26.00, 11.00, 17.00, 26.00, 6.00, 24.00, 17.00, 16.00, 18.00, 11.00, 17.00, 12.00, 24.00, 23.00, 26.00, 41.00, 6.00, 15.00, 41.00, 6.00, 18.00, 17.00, 41.00, 16.00, 29.00, 11.00, 16.00, 26.00, 11.00, 25.00, 27.00, 37.00, 10.00, 9.00, 10.00, 14.00, 11.00, 29.00, 11.00, 25.00, 29.00, 6.00, 17.00, 18.00, 26.00, 29.00, 25.00, 9.00\n",
      "    Pred cost: 19.80, 11.82, 16.68, 19.80, 6.00, 19.30, 14.89, 14.14, 16.77, 11.82, 16.18, 12.23, 19.30, 18.32, 19.80, 27.93, 7.02, 13.96, 27.93, 7.02, 16.77, 16.68, 27.93, 14.74, 22.22, 11.82, 14.74, 19.80, 11.82, 21.25, 20.02, 24.76, 10.98, 9.31, 11.45, 13.11, 10.57, 22.22, 10.57, 21.25, 22.22, 6.00, 16.18, 15.18, 19.80, 22.22, 21.25, 9.12\n",
      "    True sol: 0, 0, 0, 0, 0, 0, 0, 0, 0, 0, 0, 0, 1, 1, 0, 1, 0, 0, 0, 0, 1, 0, 1, 0, 0, 0, 0, 1, 0, 1, 0, 1, 0, 0, 0, 0, 0, 0, 0, 0, 0, 0, 0, 0, 0, 0, 0, 0, True obj: 235.00\n",
      "    Pred sol: 0, 0, 0, 0, 0, 0, 0, 0, 0, 0, 0, 0, 1, 1, 0, 0, 0, 0, 0, 0, 1, 0, 0, 0, 0, 0, 0, 1, 0, 1, 1, 1, 0, 0, 0, 0, 0, 1, 0, 0, 0, 0, 0, 0, 0, 0, 1, 0, Pred obj: 234.00\n",
      "\n",
      "Sample 5:\n",
      "    True cost: 12.00, 2.00, 1.00, 12.00, 6.00, 14.00, 12.00, 3.00, 7.00, 2.00, 2.00, 6.00, 14.00, 4.00, 12.00, 4.00, 2.00, 5.00, 4.00, 2.00, 7.00, 1.00, 4.00, 16.00, 5.00, 2.00, 16.00, 12.00, 2.00, 2.00, 9.00, 10.00, 3.00, 5.00, 2.00, 6.00, 14.00, 5.00, 14.00, 2.00, 5.00, 6.00, 2.00, 10.00, 12.00, 5.00, 2.00, 7.00\n",
      "    Pred cost: 13.11, -0.92, -1.75, 13.11, 6.00, 14.59, 12.14, 3.77, 9.63, -0.92, 0.23, 7.63, 14.59, 5.34, 13.11, 6.89, 0.97, 5.68, 6.89, 0.97, 9.63, -1.75, 6.89, 14.57, 7.55, -0.92, 14.57, 13.11, -0.92, -0.58, 10.49, 12.80, 2.34, 5.36, 0.43, 7.02, 12.26, 7.55, 12.26, -0.58, 7.55, 6.00, 0.23, 10.87, 13.11, 7.55, -0.58, 7.14\n",
      "    True sol: 0, 0, 0, 0, 0, 1, 0, 0, 0, 0, 0, 0, 1, 0, 0, 0, 0, -0, 0, 0, 1, 0, 0, 1, 0, 0, 1, 1, 0, 0, 0, 1, 0, 0, 0, 0, 0, 0, 1, 0, 0, 0, 0, 1, 0, 0, 0, 0, True obj: 113.00\n",
      "    Pred sol: 0, 0, 0, 0, 0, 1, 0, 0, 0, 0, 0, 0, 1, 0, 0, 0, 0, 0, 0, 0, 1, 0, 0, 1, 0, 0, 1, 1, 0, 0, 0, 1, 0, 0, 0, 0, 0, 0, 1, 0, 0, 0, 0, 1, 0, 0, 0, 0, Pred obj: 113.00\n",
      "\n",
      "Sample 6:\n",
      "    True cost: 1.00, 7.00, 3.00, 1.00, 6.00, 1.00, 1.00, 2.00, 2.00, 7.00, 3.00, 4.00, 1.00, 1.00, 1.00, 1.00, 9.00, 2.00, 1.00, 9.00, 2.00, 3.00, 1.00, 1.00, 1.00, 7.00, 1.00, 1.00, 7.00, 2.00, 1.00, 1.00, 5.00, 3.00, 5.00, 1.00, 2.00, 1.00, 2.00, 2.00, 1.00, 6.00, 3.00, 2.00, 1.00, 1.00, 2.00, 3.00\n",
      "    Pred cost: -4.78, 7.70, 3.81, -4.78, 6.00, -6.92, -2.46, 0.36, 0.69, 7.70, 3.89, 5.07, -6.92, -3.64, -4.78, -6.02, 9.27, 0.35, -6.02, 9.27, 0.69, 3.81, -6.02, -2.70, -1.30, 7.70, -2.70, -4.78, 7.70, -0.29, -4.47, -9.25, 5.66, 2.22, 5.60, -1.53, 1.53, -1.30, 1.53, -0.29, -1.30, 6.00, 3.89, -0.22, -4.78, -1.30, -0.29, 2.07\n",
      "    True sol: 0, 0, 0, 0, 1, 0, 0, 0, 0, 0, 1, 0, 0, 0, 0, 0, 1, 0, 0, 1, 0, 0, 0, 0, 0, 1, 0, 0, 1, 0, 0, 0, 0, 0, 1, 0, 0, 0, 0, 0, 0, 0, 0, 0, 0, 0, 0, 0, True obj: 46.00\n",
      "    Pred sol: 0, 0, 0, 0, 1, 0, 0, 0, 0, 0, 1, 0, 0, 0, 0, 0, 1, 0, 0, 1, 0, 0, 0, 0, 0, 1, 0, 0, 1, 0, 0, 0, 0, 0, 1, 0, 0, 0, 0, 0, 0, 0, 0, 0, 0, 0, 0, 0, Pred obj: 46.00\n",
      "\n",
      "Sample 7:\n",
      "    True cost: 4.00, 4.00, 2.00, 4.00, 6.00, 4.00, 5.00, 2.00, 7.00, 4.00, 3.00, 8.00, 4.00, 2.00, 4.00, 2.00, 6.00, 3.00, 2.00, 6.00, 7.00, 2.00, 2.00, 7.00, 4.00, 4.00, 7.00, 4.00, 4.00, 2.00, 3.00, 2.00, 5.00, 3.00, 3.00, 2.00, 8.00, 4.00, 8.00, 2.00, 4.00, 6.00, 3.00, 5.00, 4.00, 4.00, 2.00, 4.00\n",
      "    Pred cost: 6.13, 4.25, 0.93, 6.13, 6.00, 5.15, 5.69, 0.73, 8.68, 4.25, 3.31, 9.34, 5.15, -0.20, 6.13, 2.79, 6.23, 3.00, 2.79, 6.23, 8.68, 0.93, 2.79, 8.17, 6.45, 4.25, 8.17, 6.13, 4.25, -0.17, 3.49, 2.72, 5.49, 2.89, 3.26, 2.12, 8.69, 6.45, 8.69, -0.17, 6.45, 6.00, 3.31, 6.81, 6.13, 6.45, -0.17, 4.88\n",
      "    True sol: 0, 0, 0, 0, 1, 0, 0, 0, 0, 0, 0, 1, 0, 0, 0, 0, 1, -0, 0, 0, 1, 0, 0, 1, 0, 0, 1, 0, 0, 0, 0, 0, 0, 0, 0, 0, 0, 0, 1, 0, 0, 0, 0, 1, 0, 0, 0, 0, True obj: 54.00\n",
      "    Pred sol: 0, 0, 0, 0, 1, 0, 0, 0, 0, 0, 0, 0, 0, 0, 0, 0, 1, 0, 0, 0, 1, 0, 0, 1, 0, 0, 1, 1, 0, 0, 0, 0, 0, 0, 0, 0, 0, 1, 1, 0, 0, 0, 0, 1, 0, 0, 0, 0, Pred obj: 54.00\n",
      "\n",
      "Sample 8:\n",
      "    True cost: 2.00, 1.00, 1.00, 2.00, 6.00, 7.00, 9.00, 3.00, 3.00, 1.00, 1.00, 5.00, 7.00, 2.00, 2.00, 1.00, 3.00, 2.00, 1.00, 3.00, 3.00, 1.00, 1.00, 6.00, 1.00, 1.00, 6.00, 2.00, 1.00, 1.00, 4.00, 3.00, 2.00, 6.00, 4.00, 5.00, 8.00, 1.00, 8.00, 1.00, 1.00, 6.00, 1.00, 3.00, 2.00, 1.00, 1.00, 4.00\n",
      "    Pred cost: 1.85, -2.29, -1.16, 1.85, 6.00, 9.08, 10.04, 2.23, 4.31, -2.29, -4.54, 5.81, 9.08, 0.44, 1.85, -0.48, 2.96, -0.94, -0.48, 2.96, 4.31, -1.16, -0.48, 7.34, -1.85, -2.29, 7.34, 1.85, -2.29, -3.40, 5.00, 3.37, 1.37, 6.95, 4.16, 5.78, 8.46, -1.85, 8.46, -3.40, -1.85, 6.00, -4.54, 3.55, 1.85, -1.85, -3.40, 4.31\n",
      "    True sol: 0, 0, 0, 0, 1, 1, 0, 0, 0, 0, 0, 0, 1, 0, 0, 0, 0, 0, -0, 0, 1, 0, 0, 1, 0, 0, 1, 0, 0, 0, 0, 0, 0, 0, 0, 0, 1, 0, 1, 0, 0, 0, 0, 0, 0, 0, 0, 0, True obj: 51.00\n",
      "    Pred sol: 0, 0, 0, 0, 1, 1, 0, 0, 0, 0, 0, 0, 1, 0, 0, 0, 0, 0, 0, 0, 1, 0, 0, 1, 0, 0, 1, 0, 0, 0, 0, 0, 0, 0, 0, 0, 1, 0, 1, 0, 0, 0, 0, 0, 0, 0, 0, 0, Pred obj: 51.00\n",
      "\n",
      "Sample 9:\n",
      "    True cost: 22.00, 12.00, 8.00, 22.00, 6.00, 10.00, 3.00, 6.00, 18.00, 12.00, 28.00, 7.00, 10.00, 17.00, 22.00, 19.00, 7.00, 23.00, 19.00, 7.00, 18.00, 8.00, 19.00, 15.00, 27.00, 12.00, 15.00, 22.00, 12.00, 20.00, 6.00, 16.00, 19.00, 4.00, 5.00, 11.00, 5.00, 27.00, 5.00, 20.00, 27.00, 6.00, 28.00, 9.00, 22.00, 27.00, 20.00, 15.00\n",
      "    Pred cost: 18.76, 12.12, 10.02, 18.76, 6.00, 11.87, 3.83, 7.48, 16.55, 12.12, 20.95, 8.12, 11.87, 15.84, 18.76, 19.77, 7.80, 17.76, 19.77, 7.80, 16.55, 10.02, 19.77, 13.78, 21.91, 12.12, 13.78, 18.76, 12.12, 19.15, 7.70, 16.58, 15.70, 3.70, 5.95, 11.14, 6.04, 21.91, 6.04, 19.15, 21.91, 6.00, 20.95, 10.14, 18.76, 21.91, 19.15, 12.70\n",
      "    True sol: 0, 0, 0, 0, 0, 0, 0, 0, 0, 0, 1, 0, 0, 1, 0, 0, 0, 0, 0, 0, 1, 0, 0, 0, 1, 0, 0, 1, 0, 1, 0, 1, 0, 0, 0, 0, 0, 1, 0, 0, 0, 0, 1, 0, 0, 0, 0, 0, True obj: 203.00\n",
      "    Pred sol: 0, 0, 0, 0, 0, 0, 0, 0, 0, 0, 1, 0, 0, 1, 0, 0, 0, 0, 0, 0, 1, 0, 0, 0, 1, 0, 0, 1, 0, 1, 0, 1, 0, 0, 0, 0, 0, 1, 0, 0, 0, 0, 1, 0, 0, 0, 0, 0, Pred obj: 203.00\n",
      "\n"
     ]
    }
   ],
   "source": [
    "reg.eval()\n",
    "# compare solutions\n",
    "for i, data in enumerate(ks_loader_test):\n",
    "    # load data\n",
    "    x, c, w, z = data\n",
    "    # cuda\n",
    "    if torch.cuda.is_available():\n",
    "        x, c, w, z = x.cuda(), c.cuda(), w.cuda(), z.cuda()\n",
    "    # convert to numpy\n",
    "    x = x.to('cpu').detach().numpy()\n",
    "    c = c.to('cpu').detach().numpy()\n",
    "    w = w.to('cpu').detach().numpy()\n",
    "    z = z.to('cpu').detach().numpy()\n",
    "    # predict\n",
    "    cp = twostage_model.predict(x)\n",
    "    for j in range(min(10, batch_size)):\n",
    "        print('Sample {}:'.format(j))\n",
    "        print('    True cost:', ', '.join(['{:.2f}'.format(-cost) for cost in c[j]]))\n",
    "        print('    Pred cost:', ', '.join(['{:.2f}'.format(-cost) for cost in cp[j]]))\n",
    "        # solve cost from prediction\n",
    "        ks_model.setObj(cp[j])\n",
    "        wpj, _ = ks_model.solve()\n",
    "        zpj = np.dot(c[j], wpj)\n",
    "        print('    True sol: ' + ', '.join(['{:.0f}'.format(x) for x in w[j]]) + ', True obj: {:.2f}'.format(-z[j,0]))\n",
    "        print('    Pred sol: '+  ', '.join(['{:.0f}'.format(x) for x in wpj]) + ', Pred obj: {:.2f}'.format(-zpj))\n",
    "        print()\n",
    "    break"
   ]
  },
  {
   "cell_type": "markdown",
   "id": "1d37db28",
   "metadata": {},
   "source": [
    "## Black-Box with Regularization "
   ]
  },
  {
   "cell_type": "code",
   "execution_count": 51,
   "id": "e2bbb567",
   "metadata": {},
   "outputs": [],
   "source": [
    "# init model\n",
    "reg = LinearRegression()\n",
    "# cuda\n",
    "if torch.cuda.is_available():\n",
    "    reg = reg.cuda()"
   ]
  },
  {
   "cell_type": "code",
   "execution_count": 52,
   "id": "a20aa125",
   "metadata": {},
   "outputs": [],
   "source": [
    "# set optimizer\n",
    "optimizer = torch.optim.Adam(reg.parameters(), lr=1e-3)"
   ]
  },
  {
   "cell_type": "code",
   "execution_count": 53,
   "id": "95d03350",
   "metadata": {},
   "outputs": [],
   "source": [
    "# set loss\n",
    "criterion = nn.L1Loss()"
   ]
  },
  {
   "cell_type": "code",
   "execution_count": 54,
   "id": "f66e8067",
   "metadata": {},
   "outputs": [
    {
     "name": "stdout",
     "output_type": "stream",
     "text": [
      "Epoch  10, Loss:  27.4979, True SPO Loss: 15.3690%, Unambiguous SPO Loss: 15.3690%\n",
      "Epoch  20, Loss:   1.4744, True SPO Loss:  2.7139%, Unambiguous SPO Loss:  2.7139%\n",
      "Epoch  30, Loss:   0.6870, True SPO Loss:  0.9486%, Unambiguous SPO Loss:  0.9486%\n",
      "Epoch  40, Loss:   0.3035, True SPO Loss:  0.5872%, Unambiguous SPO Loss:  0.5872%\n",
      "Epoch  50, Loss:   0.7046, True SPO Loss:  0.4709%, Unambiguous SPO Loss:  0.4709%\n",
      "Epoch  60, Loss:   0.5766, True SPO Loss:  0.3963%, Unambiguous SPO Loss:  0.3963%\n",
      "Epoch  70, Loss:   0.7303, True SPO Loss:  0.3546%, Unambiguous SPO Loss:  0.3546%\n",
      "Epoch  80, Loss:   0.3824, True SPO Loss:  0.3401%, Unambiguous SPO Loss:  0.3401%\n",
      "Epoch  90, Loss:   0.3659, True SPO Loss:  0.3343%, Unambiguous SPO Loss:  0.3343%\n",
      "Epoch 100, Loss:   0.3755, True SPO Loss:  0.3159%, Unambiguous SPO Loss:  0.3159%\n",
      "Epoch 110, Loss:   0.5517, True SPO Loss:  0.2839%, Unambiguous SPO Loss:  0.2839%\n",
      "Epoch 120, Loss:   0.3262, True SPO Loss:  0.2500%, Unambiguous SPO Loss:  0.2500%\n",
      "Epoch 130, Loss:   0.5668, True SPO Loss:  0.1967%, Unambiguous SPO Loss:  0.1967%\n",
      "Epoch 140, Loss:   0.8563, True SPO Loss:  0.1928%, Unambiguous SPO Loss:  0.1928%\n",
      "Epoch 150, Loss:   0.3833, True SPO Loss:  0.1899%, Unambiguous SPO Loss:  0.1899%\n",
      "Epoch 160, Loss:   0.4282, True SPO Loss:  0.1570%, Unambiguous SPO Loss:  0.1570%\n",
      "Epoch 170, Loss:   0.6023, True SPO Loss:  0.1618%, Unambiguous SPO Loss:  0.1618%\n",
      "Epoch 180, Loss:   0.3865, True SPO Loss:  0.1744%, Unambiguous SPO Loss:  0.1744%\n",
      "Epoch 190, Loss:   0.3215, True SPO Loss:  0.1637%, Unambiguous SPO Loss:  0.1637%\n",
      "Epoch 200, Loss:   0.5352, True SPO Loss:  0.1512%, Unambiguous SPO Loss:  0.1512%\n",
      "Epoch 210, Loss:   0.3710, True SPO Loss:  0.1802%, Unambiguous SPO Loss:  0.1802%\n",
      "Epoch 220, Loss:   0.4315, True SPO Loss:  0.1754%, Unambiguous SPO Loss:  0.1754%\n",
      "Epoch 230, Loss:   0.2342, True SPO Loss:  0.2015%, Unambiguous SPO Loss:  0.2015%\n",
      "Epoch 240, Loss:   0.5550, True SPO Loss:  0.1967%, Unambiguous SPO Loss:  0.1967%\n",
      "Epoch 250, Loss:   0.4857, True SPO Loss:  0.1676%, Unambiguous SPO Loss:  0.1676%\n",
      "Epoch 260, Loss:   0.3130, True SPO Loss:  0.1812%, Unambiguous SPO Loss:  0.1812%\n",
      "Epoch 270, Loss:   0.7206, True SPO Loss:  0.1686%, Unambiguous SPO Loss:  0.1686%\n",
      "Epoch 280, Loss:   0.7695, True SPO Loss:  0.1763%, Unambiguous SPO Loss:  0.1763%\n",
      "Epoch 290, Loss:   0.3089, True SPO Loss:  0.1676%, Unambiguous SPO Loss:  0.1676%\n",
      "Epoch 300, Loss:   0.4589, True SPO Loss:  0.1599%, Unambiguous SPO Loss:  0.1599%\n"
     ]
    }
   ],
   "source": [
    "# train model\n",
    "num_epochs = 300\n",
    "lambd = 10\n",
    "reg.train()\n",
    "loss_log = []\n",
    "loss_log_truespo = []\n",
    "loss_log_unambspo = []\n",
    "for epoch in range(num_epochs):\n",
    "    # load data\n",
    "    for i, data in enumerate(ks_loader_train):\n",
    "        x, c, w, z = data\n",
    "        # cuda\n",
    "        if torch.cuda.is_available():\n",
    "            x, c, w, z = x.cuda(), c.cuda(), w.cuda(), z.cuda()\n",
    "        # linear regression\n",
    "        cp = reg(x)\n",
    "        # black-box optimizer\n",
    "        wp = spo.func.blackboxOpt.apply(ks_model, cp, lambd)\n",
    "        # objective value\n",
    "        zp = (wp * c).sum(1).view(-1, 1)\n",
    "        # loss\n",
    "        loss = criterion(zp, z)\n",
    "        # l1 reg\n",
    "        l1_lambda = 1e-3\n",
    "        l1_reg = torch.abs(cp - c).sum(dim=1).mean()\n",
    "        loss += l1_lambda * l1_reg\n",
    "        # backward pass\n",
    "        optimizer.zero_grad()\n",
    "        loss.backward()\n",
    "        optimizer.step()\n",
    "    loss_log.append(loss.item())\n",
    "    if (epoch + 1) % 10 == 0:\n",
    "        # true SPO\n",
    "        trueloss = spo.eval.trueSPO(reg, ks_model, ks_loader_test)\n",
    "        loss_log_truespo.append(trueloss)\n",
    "        # unambiguous SPO \n",
    "        unambloss = spo.eval.unambSPO(reg, ks_model, ks_loader_test)\n",
    "        loss_log_unambspo.append(unambloss)\n",
    "        print('Epoch {:3}, Loss: {:8.4f}, True SPO Loss: {:7.4f}%, Unambiguous SPO Loss: {:7.4f}%'. \\\n",
    "              format(epoch+1, loss.item(), trueloss*100, unambloss*100))"
   ]
  },
  {
   "cell_type": "code",
   "execution_count": 55,
   "id": "1268e343",
   "metadata": {},
   "outputs": [
    {
     "data": {
      "image/png": "[encoded data removed]",
      "text/plain": [
       "<Figure size 864x432 with 1 Axes>"
      ]
     },
     "metadata": {
      "needs_background": "light"
     },
     "output_type": "display_data"
    }
   ],
   "source": [
    "# draw plot\n",
    "plt.figure(figsize=(12, 6))\n",
    "plt.plot(loss_log, color='c')\n",
    "plt.xlabel('Epoch')\n",
    "plt.ylabel('SPO+ Loss')\n",
    "plt.title('Learning Curve')\n",
    "plt.show()"
   ]
  },
  {
   "cell_type": "code",
   "execution_count": 56,
   "id": "4ac36de8",
   "metadata": {},
   "outputs": [
    {
     "data": {
      "image/png": "[encoded data removed]",
      "text/plain": [
       "<Figure size 864x432 with 1 Axes>"
      ]
     },
     "metadata": {
      "needs_background": "light"
     },
     "output_type": "display_data"
    }
   ],
   "source": [
    "# draw plot\n",
    "plt.figure(figsize=(12, 6))\n",
    "plt.plot(range(0, num_epochs, 10), loss_log_truespo, color='m', alpha=0.7, label='True SPO')\n",
    "plt.plot(range(0, num_epochs, 10), loss_log_unambspo, color='b', alpha=0.7, label='Unambiguous SPO')\n",
    "plt.xlabel('Epoch')\n",
    "plt.ylabel('Loss')\n",
    "plt.title('Learning Curve')\n",
    "plt.legend()\n",
    "plt.show()"
   ]
  },
  {
   "cell_type": "code",
   "execution_count": 57,
   "id": "ce7f39be",
   "metadata": {},
   "outputs": [
    {
     "name": "stdout",
     "output_type": "stream",
     "text": [
      "Normalized true SPO Loss: 0.16%\n",
      "Normalized unambiguous SPO Loss: 0.16%\n"
     ]
    }
   ],
   "source": [
    "# evaluate\n",
    "spoloss = spo.eval.trueSPO(reg, ks_model, ks_loader_test)\n",
    "print('Normalized true SPO Loss: {:.2f}%'.format(spoloss * 100))\n",
    "spoloss = spo.eval.unambSPO(reg, ks_model, ks_loader_test)\n",
    "print('Normalized unambiguous SPO Loss: {:.2f}%'.format(spoloss * 100))"
   ]
  },
  {
   "cell_type": "code",
   "execution_count": 58,
   "id": "90e3fc20",
   "metadata": {
    "scrolled": false
   },
   "outputs": [
    {
     "name": "stdout",
     "output_type": "stream",
     "text": [
      "Sample 0:\n",
      "    True cost: 3.00, 6.00, 12.00, 3.00, 6.00, 9.00, 6.00, 10.00, 5.00, 6.00, 8.00, 3.00, 9.00, 13.00, 3.00, 9.00, 7.00, 6.00, 9.00, 7.00, 5.00, 12.00, 9.00, 4.00, 4.00, 6.00, 4.00, 3.00, 6.00, 16.00, 5.00, 7.00, 10.00, 13.00, 16.00, 16.00, 2.00, 4.00, 2.00, 16.00, 4.00, 6.00, 8.00, 2.00, 3.00, 4.00, 16.00, 8.00\n",
      "    Pred cost: 2.73, 7.06, 13.91, 2.73, 6.00, 10.63, 7.79, 10.89, 6.59, 7.06, 10.01, 3.78, 10.63, 13.83, 2.73, 13.16, 7.88, 7.27, 13.16, 7.88, 6.59, 13.91, 13.16, 3.96, 5.43, 7.06, 3.96, 2.73, 7.06, 17.33, 7.10, 9.77, 10.82, 11.26, 14.18, 14.32, 1.56, 5.43, 1.56, 17.33, 5.43, 6.00, 10.01, 0.43, 2.73, 5.43, 17.33, 8.19\n",
      "    True sol: 0, 0, 0, 0, 0, 0, 0, 0, 0, 0, 0, 0, 1, 1, 0, 0, 0, 0, 0, 0, 0, 1, 0, 0, 0, 0, 0, 0, 0, 1, 0, 0, 0, 0, 1, 1, 0, 0, 0, 1, 0, 0, 0, 0, 0, 0, 1, 0, True obj: 114.00\n",
      "    Pred sol: 0, 0, 0, 0, 0, 0, 0, 0, 0, 0, 0, 0, 1, 1, 0, 0, 0, 0, 0, 0, 0, 1, 0, 0, 0, 0, 0, 0, 0, 1, 0, 0, 0, 0, 1, 1, 0, 0, 0, 1, 0, 0, 0, 0, 0, 0, 1, 0, Pred obj: 114.00\n",
      "\n",
      "Sample 1:\n",
      "    True cost: 10.00, 3.00, 3.00, 10.00, 6.00, 20.00, 6.00, 3.00, 18.00, 3.00, 10.00, 5.00, 20.00, 11.00, 10.00, 11.00, 5.00, 10.00, 11.00, 5.00, 18.00, 3.00, 11.00, 18.00, 10.00, 3.00, 18.00, 10.00, 3.00, 11.00, 3.00, 11.00, 18.00, 7.00, 6.00, 21.00, 6.00, 10.00, 6.00, 11.00, 10.00, 6.00, 10.00, 3.00, 10.00, 10.00, 11.00, 18.00\n",
      "    Pred cost: 12.02, 2.40, 3.72, 12.02, 6.00, 17.96, 8.00, 3.30, 16.75, 2.40, 11.77, 6.86, 17.96, 12.60, 12.02, 14.92, 6.18, 10.80, 14.92, 6.18, 16.75, 3.72, 14.92, 15.62, 12.90, 2.40, 15.62, 12.02, 2.40, 13.77, 3.81, 13.93, 15.28, 7.02, 7.73, 16.10, 6.41, 12.90, 6.41, 13.77, 12.90, 6.00, 11.77, 2.58, 12.02, 12.90, 13.77, 13.95\n",
      "    True sol: 0, 0, 0, 0, 0, 1, 0, 0, 0, 0, 0, 0, 1, 1, 0, 0, 0, 0, 0, 0, 1, 0, 0, 1, 0, 0, 1, 0, 0, 1, 0, 1, 0, 0, 0, 1, 0, 0, 0, 0, 0, 0, 0, 0, 0, 0, 0, 0, True obj: 148.00\n",
      "    Pred sol: 0, 0, 0, 0, 0, 0, 0, 0, 0, 0, 1, 0, 1, 1, 0, 0, 0, 0, 0, 0, 1, 0, 0, 1, 0, 0, 1, 1, 0, 1, 0, 1, 0, 0, 0, 0, 0, 0, 0, 0, 0, 0, 1, 0, 0, 0, 0, 0, Pred obj: 137.00\n",
      "\n",
      "Sample 2:\n",
      "    True cost: 6.00, 4.00, 11.00, 6.00, 6.00, 17.00, 7.00, 10.00, 8.00, 4.00, 12.00, 3.00, 17.00, 24.00, 6.00, 14.00, 6.00, 11.00, 14.00, 6.00, 8.00, 11.00, 14.00, 8.00, 6.00, 4.00, 8.00, 6.00, 4.00, 25.00, 5.00, 13.00, 15.00, 13.00, 14.00, 29.00, 3.00, 6.00, 3.00, 25.00, 6.00, 6.00, 12.00, 2.00, 6.00, 6.00, 25.00, 14.00\n",
      "    Pred cost: 7.74, 5.86, 12.70, 7.74, 6.00, 15.95, 8.26, 10.84, 10.66, 5.86, 13.56, 2.97, 15.95, 18.50, 7.74, 17.49, 6.88, 11.63, 17.49, 6.88, 10.66, 12.70, 17.49, 8.84, 9.55, 5.86, 8.84, 7.74, 5.86, 21.15, 7.23, 15.06, 14.27, 11.43, 13.31, 18.91, 1.84, 9.55, 1.84, 21.15, 9.55, 6.00, 13.56, 0.56, 7.74, 9.55, 21.15, 12.34\n",
      "    True sol: 0, 0, 0, 0, 0, 1, 0, 0, 0, 0, 0, 0, 1, 1, 0, 0, 0, 0, 0, 0, 0, 0, 0, 0, 0, 0, 0, 0, 0, 1, 0, 1, 0, 0, 0, 1, 0, 0, 0, 1, 0, 0, 0, 0, 0, 0, 1, 0, True obj: 175.00\n",
      "    Pred sol: 0, 0, 0, 0, 0, 0, 0, 0, 0, 0, 1, 0, 1, 1, 0, 0, 0, 0, 0, 0, 0, 0, 0, 0, 0, 0, 0, 0, 0, 1, 0, 1, 0, 0, 1, 1, 0, 0, 0, 0, 0, 0, 1, 0, 0, 0, 1, 0, Pred obj: 171.00\n",
      "\n",
      "Sample 3:\n",
      "    True cost: 3.00, 8.00, 13.00, 3.00, 6.00, 5.00, 7.00, 10.00, 4.00, 8.00, 6.00, 5.00, 5.00, 8.00, 3.00, 7.00, 8.00, 4.00, 7.00, 8.00, 4.00, 13.00, 7.00, 3.00, 4.00, 8.00, 3.00, 3.00, 8.00, 11.00, 7.00, 5.00, 6.00, 10.00, 13.00, 8.00, 4.00, 4.00, 4.00, 11.00, 4.00, 6.00, 6.00, 4.00, 3.00, 4.00, 11.00, 4.00\n",
      "    Pred cost: 2.76, 8.94, 14.35, 2.76, 6.00, 7.27, 8.25, 11.00, 5.11, 8.94, 8.16, 6.11, 7.27, 10.18, 2.76, 11.60, 8.13, 5.31, 11.60, 8.13, 5.11, 14.35, 11.60, 2.41, 5.66, 8.94, 2.41, 2.76, 8.94, 13.69, 9.30, 8.06, 7.46, 9.87, 12.98, 9.27, 3.52, 5.66, 3.52, 13.69, 5.66, 6.00, 8.16, 4.05, 2.76, 5.66, 13.69, 4.83\n",
      "    True sol: 0, 0, 0, 0, 0, 0, 0, 1, 0, 0, 0, 0, 0, 1, 0, 0, 1, 0, 0, 0, 0, 1, 0, 0, 0, 0, 0, 0, 0, 1, 0, 0, 0, 0, 1, 0, 0, 0, 0, 1, 0, 0, 0, 0, 0, 0, 1, 0, True obj: 85.00\n",
      "    Pred sol: 0, 0, 0, 0, 0, 0, 0, 1, 0, 0, 0, 0, 0, 1, 0, 0, 0, 0, 0, 0, 0, 1, 0, 0, 0, 0, 0, 0, 0, 1, 0, 0, 0, 0, 1, 0, 0, 0, 0, 1, 0, 0, 1, 0, 0, 0, 1, 0, Pred obj: 83.00\n",
      "\n",
      "Sample 4:\n",
      "    True cost: 26.00, 11.00, 17.00, 26.00, 6.00, 24.00, 17.00, 16.00, 18.00, 11.00, 17.00, 12.00, 24.00, 23.00, 26.00, 41.00, 6.00, 15.00, 41.00, 6.00, 18.00, 17.00, 41.00, 16.00, 29.00, 11.00, 16.00, 26.00, 11.00, 25.00, 27.00, 37.00, 10.00, 9.00, 10.00, 14.00, 11.00, 29.00, 11.00, 25.00, 29.00, 6.00, 17.00, 18.00, 26.00, 29.00, 25.00, 9.00\n",
      "    Pred cost: 19.80, 11.82, 16.68, 19.80, 6.00, 19.30, 14.89, 14.14, 16.77, 11.82, 16.18, 12.23, 19.30, 18.32, 19.80, 27.93, 7.02, 13.96, 27.93, 7.02, 16.77, 16.68, 27.93, 14.74, 22.22, 11.82, 14.74, 19.80, 11.82, 21.25, 20.02, 24.76, 10.98, 9.31, 11.45, 13.11, 10.57, 22.22, 10.57, 21.25, 22.22, 6.00, 16.18, 15.18, 19.80, 22.22, 21.25, 9.12\n",
      "    True sol: 0, 0, 0, 0, 0, 0, 0, 0, 0, 0, 0, 0, 1, 1, 0, 1, 0, 0, 0, 0, 1, 0, 1, 0, 0, 0, 0, 1, 0, 1, 0, 1, 0, 0, 0, 0, 0, 0, 0, 0, 0, 0, 0, 0, 0, 0, 0, 0, True obj: 235.00\n",
      "    Pred sol: 0, 0, 0, 0, 0, 0, 0, 0, 0, 0, 0, 0, 1, 1, 0, 0, 0, 0, 0, 0, 1, 0, 0, 0, 0, 0, 0, 1, 0, 1, 1, 1, 0, 0, 0, 0, 0, 1, 0, 0, 0, 0, 0, 0, 0, 0, 1, 0, Pred obj: 234.00\n",
      "\n",
      "Sample 5:\n",
      "    True cost: 12.00, 2.00, 1.00, 12.00, 6.00, 14.00, 12.00, 3.00, 7.00, 2.00, 2.00, 6.00, 14.00, 4.00, 12.00, 4.00, 2.00, 5.00, 4.00, 2.00, 7.00, 1.00, 4.00, 16.00, 5.00, 2.00, 16.00, 12.00, 2.00, 2.00, 9.00, 10.00, 3.00, 5.00, 2.00, 6.00, 14.00, 5.00, 14.00, 2.00, 5.00, 6.00, 2.00, 10.00, 12.00, 5.00, 2.00, 7.00\n",
      "    Pred cost: 13.11, -0.92, -1.75, 13.11, 6.00, 14.59, 12.14, 3.77, 9.63, -0.92, 0.23, 7.63, 14.59, 5.34, 13.11, 6.89, 0.97, 5.68, 6.89, 0.97, 9.63, -1.75, 6.89, 14.57, 7.55, -0.92, 14.57, 13.11, -0.92, -0.58, 10.49, 12.80, 2.34, 5.36, 0.43, 7.02, 12.26, 7.55, 12.26, -0.58, 7.55, 6.00, 0.23, 10.87, 13.11, 7.55, -0.58, 7.14\n",
      "    True sol: 0, 0, 0, 0, 0, 1, 0, 0, 0, 0, 0, 0, 1, 0, 0, 0, 0, -0, 0, 0, 1, 0, 0, 1, 0, 0, 1, 1, 0, 0, 0, 1, 0, 0, 0, 0, 0, 0, 1, 0, 0, 0, 0, 1, 0, 0, 0, 0, True obj: 113.00\n",
      "    Pred sol: 0, 0, 0, 0, 0, 1, 0, 0, 0, 0, 0, 0, 1, 0, 0, 0, 0, 0, 0, 0, 1, 0, 0, 1, 0, 0, 1, 1, 0, 0, 0, 1, 0, 0, 0, 0, 0, 0, 1, 0, 0, 0, 0, 1, 0, 0, 0, 0, Pred obj: 113.00\n",
      "\n",
      "Sample 6:\n",
      "    True cost: 1.00, 7.00, 3.00, 1.00, 6.00, 1.00, 1.00, 2.00, 2.00, 7.00, 3.00, 4.00, 1.00, 1.00, 1.00, 1.00, 9.00, 2.00, 1.00, 9.00, 2.00, 3.00, 1.00, 1.00, 1.00, 7.00, 1.00, 1.00, 7.00, 2.00, 1.00, 1.00, 5.00, 3.00, 5.00, 1.00, 2.00, 1.00, 2.00, 2.00, 1.00, 6.00, 3.00, 2.00, 1.00, 1.00, 2.00, 3.00\n",
      "    Pred cost: -4.78, 7.70, 3.81, -4.78, 6.00, -6.92, -2.46, 0.36, 0.69, 7.70, 3.89, 5.07, -6.92, -3.64, -4.78, -6.02, 9.27, 0.35, -6.02, 9.27, 0.69, 3.81, -6.02, -2.70, -1.30, 7.70, -2.70, -4.78, 7.70, -0.29, -4.47, -9.25, 5.66, 2.22, 5.60, -1.53, 1.53, -1.30, 1.53, -0.29, -1.30, 6.00, 3.89, -0.22, -4.78, -1.30, -0.29, 2.07\n",
      "    True sol: 0, 0, 0, 0, 1, 0, 0, 0, 0, 0, 1, 0, 0, 0, 0, 0, 1, 0, 0, 1, 0, 0, 0, 0, 0, 1, 0, 0, 1, 0, 0, 0, 0, 0, 1, 0, 0, 0, 0, 0, 0, 0, 0, 0, 0, 0, 0, 0, True obj: 46.00\n",
      "    Pred sol: 0, 0, 0, 0, 1, 0, 0, 0, 0, 0, 1, 0, 0, 0, 0, 0, 1, 0, 0, 1, 0, 0, 0, 0, 0, 1, 0, 0, 1, 0, 0, 0, 0, 0, 1, 0, 0, 0, 0, 0, 0, 0, 0, 0, 0, 0, 0, 0, Pred obj: 46.00\n",
      "\n",
      "Sample 7:\n",
      "    True cost: 4.00, 4.00, 2.00, 4.00, 6.00, 4.00, 5.00, 2.00, 7.00, 4.00, 3.00, 8.00, 4.00, 2.00, 4.00, 2.00, 6.00, 3.00, 2.00, 6.00, 7.00, 2.00, 2.00, 7.00, 4.00, 4.00, 7.00, 4.00, 4.00, 2.00, 3.00, 2.00, 5.00, 3.00, 3.00, 2.00, 8.00, 4.00, 8.00, 2.00, 4.00, 6.00, 3.00, 5.00, 4.00, 4.00, 2.00, 4.00\n",
      "    Pred cost: 6.13, 4.25, 0.93, 6.13, 6.00, 5.15, 5.69, 0.73, 8.68, 4.25, 3.31, 9.34, 5.15, -0.20, 6.13, 2.79, 6.23, 3.00, 2.79, 6.23, 8.68, 0.93, 2.79, 8.17, 6.45, 4.25, 8.17, 6.13, 4.25, -0.17, 3.49, 2.72, 5.49, 2.89, 3.26, 2.12, 8.69, 6.45, 8.69, -0.17, 6.45, 6.00, 3.31, 6.81, 6.13, 6.45, -0.17, 4.88\n",
      "    True sol: 0, 0, 0, 0, 1, 0, 0, 0, 0, 0, 0, 1, 0, 0, 0, 0, 1, -0, 0, 0, 1, 0, 0, 1, 0, 0, 1, 0, 0, 0, 0, 0, 0, 0, 0, 0, 0, 0, 1, 0, 0, 0, 0, 1, 0, 0, 0, 0, True obj: 54.00\n",
      "    Pred sol: 0, 0, 0, 0, 1, 0, 0, 0, 0, 0, 0, 0, 0, 0, 0, 0, 1, 0, 0, 0, 1, 0, 0, 1, 0, 0, 1, 1, 0, 0, 0, 0, 0, 0, 0, 0, 0, 1, 1, 0, 0, 0, 0, 1, 0, 0, 0, 0, Pred obj: 54.00\n",
      "\n",
      "Sample 8:\n",
      "    True cost: 2.00, 1.00, 1.00, 2.00, 6.00, 7.00, 9.00, 3.00, 3.00, 1.00, 1.00, 5.00, 7.00, 2.00, 2.00, 1.00, 3.00, 2.00, 1.00, 3.00, 3.00, 1.00, 1.00, 6.00, 1.00, 1.00, 6.00, 2.00, 1.00, 1.00, 4.00, 3.00, 2.00, 6.00, 4.00, 5.00, 8.00, 1.00, 8.00, 1.00, 1.00, 6.00, 1.00, 3.00, 2.00, 1.00, 1.00, 4.00\n",
      "    Pred cost: 1.85, -2.29, -1.16, 1.85, 6.00, 9.08, 10.04, 2.23, 4.31, -2.29, -4.54, 5.81, 9.08, 0.44, 1.85, -0.48, 2.96, -0.94, -0.48, 2.96, 4.31, -1.16, -0.48, 7.34, -1.85, -2.29, 7.34, 1.85, -2.29, -3.40, 5.00, 3.37, 1.37, 6.95, 4.16, 5.78, 8.46, -1.85, 8.46, -3.40, -1.85, 6.00, -4.54, 3.55, 1.85, -1.85, -3.40, 4.31\n",
      "    True sol: 0, 0, 0, 0, 1, 1, 0, 0, 0, 0, 0, 0, 1, 0, 0, 0, 0, 0, -0, 0, 1, 0, 0, 1, 0, 0, 1, 0, 0, 0, 0, 0, 0, 0, 0, 0, 1, 0, 1, 0, 0, 0, 0, 0, 0, 0, 0, 0, True obj: 51.00\n",
      "    Pred sol: 0, 0, 0, 0, 1, 1, 0, 0, 0, 0, 0, 0, 1, 0, 0, 0, 0, 0, 0, 0, 1, 0, 0, 1, 0, 0, 1, 0, 0, 0, 0, 0, 0, 0, 0, 0, 1, 0, 1, 0, 0, 0, 0, 0, 0, 0, 0, 0, Pred obj: 51.00\n",
      "\n",
      "Sample 9:\n",
      "    True cost: 22.00, 12.00, 8.00, 22.00, 6.00, 10.00, 3.00, 6.00, 18.00, 12.00, 28.00, 7.00, 10.00, 17.00, 22.00, 19.00, 7.00, 23.00, 19.00, 7.00, 18.00, 8.00, 19.00, 15.00, 27.00, 12.00, 15.00, 22.00, 12.00, 20.00, 6.00, 16.00, 19.00, 4.00, 5.00, 11.00, 5.00, 27.00, 5.00, 20.00, 27.00, 6.00, 28.00, 9.00, 22.00, 27.00, 20.00, 15.00\n",
      "    Pred cost: 18.76, 12.12, 10.02, 18.76, 6.00, 11.87, 3.83, 7.48, 16.55, 12.12, 20.95, 8.12, 11.87, 15.84, 18.76, 19.77, 7.80, 17.76, 19.77, 7.80, 16.55, 10.02, 19.77, 13.78, 21.91, 12.12, 13.78, 18.76, 12.12, 19.15, 7.70, 16.58, 15.70, 3.70, 5.95, 11.14, 6.04, 21.91, 6.04, 19.15, 21.91, 6.00, 20.95, 10.14, 18.76, 21.91, 19.15, 12.70\n",
      "    True sol: 0, 0, 0, 0, 0, 0, 0, 0, 0, 0, 1, 0, 0, 1, 0, 0, 0, 0, 0, 0, 1, 0, 0, 0, 1, 0, 0, 1, 0, 1, 0, 1, 0, 0, 0, 0, 0, 1, 0, 0, 0, 0, 1, 0, 0, 0, 0, 0, True obj: 203.00\n",
      "    Pred sol: 0, 0, 0, 0, 0, 0, 0, 0, 0, 0, 1, 0, 0, 1, 0, 0, 0, 0, 0, 0, 1, 0, 0, 0, 1, 0, 0, 1, 0, 1, 0, 1, 0, 0, 0, 0, 0, 1, 0, 0, 0, 0, 1, 0, 0, 0, 0, 0, Pred obj: 203.00\n",
      "\n"
     ]
    }
   ],
   "source": [
    "reg.eval()\n",
    "# compare solutions\n",
    "for i, data in enumerate(ks_loader_test):\n",
    "    # load data\n",
    "    x, c, w, z = data\n",
    "    # cuda\n",
    "    if torch.cuda.is_available():\n",
    "        x, c, w, z = x.cuda(), c.cuda(), w.cuda(), z.cuda()\n",
    "    # convert to numpy\n",
    "    x = x.to('cpu').detach().numpy()\n",
    "    c = c.to('cpu').detach().numpy()\n",
    "    w = w.to('cpu').detach().numpy()\n",
    "    z = z.to('cpu').detach().numpy()\n",
    "    # predict\n",
    "    cp = twostage_model.predict(x)\n",
    "    for j in range(min(10, batch_size)):\n",
    "        print('Sample {}:'.format(j))\n",
    "        print('    True cost:', ', '.join(['{:.2f}'.format(-cost) for cost in c[j]]))\n",
    "        print('    Pred cost:', ', '.join(['{:.2f}'.format(-cost) for cost in cp[j]]))\n",
    "        # solve cost from prediction\n",
    "        ks_model.setObj(cp[j])\n",
    "        wpj, _ = ks_model.solve()\n",
    "        zpj = np.dot(c[j], wpj)\n",
    "        print('    True sol: ' + ', '.join(['{:.0f}'.format(x) for x in w[j]]) + ', True obj: {:.2f}'.format(-z[j,0]))\n",
    "        print('    Pred sol: '+  ', '.join(['{:.0f}'.format(x) for x in wpj]) + ', Pred obj: {:.2f}'.format(-zpj))\n",
    "        print()\n",
    "    break"
   ]
  },
  {
   "cell_type": "code",
   "execution_count": null,
   "id": "4a1a2b7c",
   "metadata": {},
   "outputs": [],
   "source": []
  }
 ],
 "metadata": {
  "kernelspec": {
   "display_name": "Python 3",
   "language": "python",
   "name": "python3"
  },
  "language_info": {
   "codemirror_mode": {
    "name": "ipython",
    "version": 3
   },
   "file_extension": ".py",
   "mimetype": "text/x-python",
   "name": "python",
   "nbconvert_exporter": "python",
   "pygments_lexer": "ipython3",
   "version": "3.7.10"
  }
 },
 "nbformat": 4,
 "nbformat_minor": 5
}
