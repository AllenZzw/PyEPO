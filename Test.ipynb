{
 "cells": [
  {
   "cell_type": "markdown",
   "id": "naval-blade",
   "metadata": {},
   "source": [
    "## Optimization model "
   ]
  },
  {
   "cell_type": "code",
   "execution_count": 1,
   "id": "accredited-pearl",
   "metadata": {},
   "outputs": [],
   "source": [
    "from model import shortestPathModel"
   ]
  },
  {
   "cell_type": "code",
   "execution_count": 2,
   "id": "declared-brunswick",
   "metadata": {},
   "outputs": [
    {
     "name": "stdout",
     "output_type": "stream",
     "text": [
      "Academic license - for non-commercial use only - expires 2021-04-13\n",
      "Using license file C:\\Users\\Apocrypse\\gurobi.lic\n"
     ]
    }
   ],
   "source": [
    "# model for shortest path\n",
    "grid = (5,5)\n",
    "sp_model = shortestPathModel(grid)"
   ]
  },
  {
   "cell_type": "code",
   "execution_count": 3,
   "id": "precious-employee",
   "metadata": {},
   "outputs": [
    {
     "name": "stdout",
     "output_type": "stream",
     "text": [
      "Obj: 8.0\n",
      "(0, 1)\n",
      "(1, 2)\n",
      "(2, 3)\n",
      "(3, 4)\n",
      "(4, 9)\n",
      "(9, 14)\n",
      "(14, 19)\n",
      "(19, 24)\n"
     ]
    }
   ],
   "source": [
    "# solve\n",
    "sp_model.setObj([1 for i in range(40)])\n",
    "sol, obj = sp_model.solve()\n",
    "print('Obj: {}'.format(obj))\n",
    "for i, e in enumerate(sp_model.arcs):\n",
    "    if sol[i] > 1e-3:\n",
    "        print(e)"
   ]
  },
  {
   "cell_type": "markdown",
   "id": "directed-consultancy",
   "metadata": {},
   "source": [
    "## Data Loader"
   ]
  },
  {
   "cell_type": "code",
   "execution_count": 4,
   "id": "little-diversity",
   "metadata": {},
   "outputs": [],
   "source": [
    "from data import shortestpath, dataset\n",
    "from sklearn.model_selection import train_test_split\n",
    "from torch.utils.data import DataLoader"
   ]
  },
  {
   "cell_type": "code",
   "execution_count": 5,
   "id": "relative-cherry",
   "metadata": {},
   "outputs": [],
   "source": [
    "# generate data for grid network (features and costs)\n",
    "n = 1000 # number of data\n",
    "p = 5 # size of feature\n",
    "x, c = shortestpath.genData(n, p, grid)"
   ]
  },
  {
   "cell_type": "code",
   "execution_count": 6,
   "id": "regulated-freeware",
   "metadata": {},
   "outputs": [],
   "source": [
    "# data split\n",
    "x_train, x_test, c_train, c_test = train_test_split(x, c, test_size=0.2, random_state=246)"
   ]
  },
  {
   "cell_type": "code",
   "execution_count": 7,
   "id": "human-praise",
   "metadata": {},
   "outputs": [
    {
     "name": "stdout",
     "output_type": "stream",
     "text": [
      "Optimizing...\n"
     ]
    },
    {
     "name": "stderr",
     "output_type": "stream",
     "text": [
      "100%|███████████████████████████████████████████████████████████████████████| 800/800 [00:02<00:00, 325.78it/s]\n"
     ]
    }
   ],
   "source": [
    "# get training data set\n",
    "sp_dataset_train = dataset.optDataset(sp_model, x_train, c_train)"
   ]
  },
  {
   "cell_type": "code",
   "execution_count": 8,
   "id": "immune-interpretation",
   "metadata": {},
   "outputs": [
    {
     "name": "stdout",
     "output_type": "stream",
     "text": [
      "Optimizing...\n"
     ]
    },
    {
     "name": "stderr",
     "output_type": "stream",
     "text": [
      "100%|███████████████████████████████████████████████████████████████████████| 200/200 [00:00<00:00, 294.05it/s]\n"
     ]
    }
   ],
   "source": [
    "# get training data set\n",
    "sp_dataset_test = dataset.optDataset(sp_model, x_test, c_test)"
   ]
  },
  {
   "cell_type": "code",
   "execution_count": 9,
   "id": "incident-kinase",
   "metadata": {},
   "outputs": [],
   "source": [
    "# get data loader\n",
    "batch_size = 32\n",
    "sp_loader_train = DataLoader(sp_dataset_train, batch_size=batch_size, shuffle=True)\n",
    "sp_loader_test = DataLoader(sp_dataset_test, batch_size=batch_size, shuffle=False)"
   ]
  },
  {
   "cell_type": "code",
   "execution_count": 10,
   "id": "intellectual-softball",
   "metadata": {},
   "outputs": [],
   "source": [
    "for i, data in enumerate(sp_loader_train):\n",
    "    x, c, w, z = data\n",
    "    break"
   ]
  },
  {
   "cell_type": "code",
   "execution_count": 11,
   "id": "instant-polymer",
   "metadata": {},
   "outputs": [
    {
     "data": {
      "text/plain": [
       "torch.Size([32, 5])"
      ]
     },
     "execution_count": 11,
     "metadata": {},
     "output_type": "execute_result"
    }
   ],
   "source": [
    "x.shape"
   ]
  },
  {
   "cell_type": "code",
   "execution_count": 12,
   "id": "known-framing",
   "metadata": {},
   "outputs": [
    {
     "data": {
      "text/plain": [
       "torch.Size([32, 40])"
      ]
     },
     "execution_count": 12,
     "metadata": {},
     "output_type": "execute_result"
    }
   ],
   "source": [
    "c.shape"
   ]
  },
  {
   "cell_type": "code",
   "execution_count": 13,
   "id": "partial-algeria",
   "metadata": {},
   "outputs": [
    {
     "data": {
      "text/plain": [
       "torch.Size([32, 40])"
      ]
     },
     "execution_count": 13,
     "metadata": {},
     "output_type": "execute_result"
    }
   ],
   "source": [
    "w.shape"
   ]
  },
  {
   "cell_type": "code",
   "execution_count": 14,
   "id": "known-contemporary",
   "metadata": {},
   "outputs": [
    {
     "data": {
      "text/plain": [
       "torch.Size([32, 1])"
      ]
     },
     "execution_count": 14,
     "metadata": {},
     "output_type": "execute_result"
    }
   ],
   "source": [
    "z.shape"
   ]
  },
  {
   "cell_type": "markdown",
   "id": "sacred-consequence",
   "metadata": {},
   "source": [
    "## Loss Function"
   ]
  },
  {
   "cell_type": "code",
   "execution_count": 15,
   "id": "authentic-boring",
   "metadata": {},
   "outputs": [],
   "source": [
    "from loss import SPOPlusLoss"
   ]
  },
  {
   "cell_type": "code",
   "execution_count": 16,
   "id": "directed-composition",
   "metadata": {},
   "outputs": [],
   "source": [
    "# init SPO+ loss\n",
    "criterion = SPOPlusLoss()"
   ]
  },
  {
   "cell_type": "markdown",
   "id": "technological-queue",
   "metadata": {},
   "source": [
    "## Linear Regression "
   ]
  },
  {
   "cell_type": "code",
   "execution_count": 17,
   "id": "shaped-wonder",
   "metadata": {},
   "outputs": [],
   "source": [
    "import torch\n",
    "from torch import nn"
   ]
  },
  {
   "cell_type": "code",
   "execution_count": 18,
   "id": "fresh-adolescent",
   "metadata": {},
   "outputs": [],
   "source": [
    "# build linear model\n",
    "class LinearRegression(nn.Module):\n",
    "    \n",
    "    def __init__(self):\n",
    "        super(LinearRegression, self).__init__()\n",
    "        self.linear = nn.Linear(p, (grid[0] - 1) * grid[1] + (grid[1] - 1) * grid[0])\n",
    "    \n",
    "    def forward(self, x):\n",
    "        out = self.linear(x)\n",
    "        return out"
   ]
  },
  {
   "cell_type": "code",
   "execution_count": 19,
   "id": "interior-secondary",
   "metadata": {},
   "outputs": [],
   "source": [
    "# init model\n",
    "lr = LinearRegression()\n",
    "# cuda\n",
    "if torch.cuda.is_available():\n",
    "    lr = lr.cuda()"
   ]
  },
  {
   "cell_type": "markdown",
   "id": "accessible-clerk",
   "metadata": {},
   "source": [
    "## Training "
   ]
  },
  {
   "cell_type": "code",
   "execution_count": 20,
   "id": "challenging-reservation",
   "metadata": {},
   "outputs": [],
   "source": [
    "from matplotlib import pyplot as plt"
   ]
  },
  {
   "cell_type": "code",
   "execution_count": 21,
   "id": "asian-screening",
   "metadata": {},
   "outputs": [],
   "source": [
    "# set optimizer\n",
    "optimizer = torch.optim.SGD(lr.parameters(), lr=1e-2)"
   ]
  },
  {
   "cell_type": "code",
   "execution_count": 22,
   "id": "framed-classification",
   "metadata": {
    "scrolled": false
   },
   "outputs": [
    {
     "name": "stdout",
     "output_type": "stream",
     "text": [
      "epoch 0, loss:10.409254\n",
      "epoch 2, loss:9.007084\n",
      "epoch 4, loss:8.015805\n",
      "epoch 6, loss:10.647306\n",
      "epoch 8, loss:8.183097\n",
      "epoch 10, loss:8.578598\n",
      "epoch 12, loss:7.712304\n",
      "epoch 14, loss:8.287247\n",
      "epoch 16, loss:7.647843\n",
      "epoch 18, loss:7.118511\n",
      "epoch 20, loss:6.341593\n",
      "epoch 22, loss:6.925881\n",
      "epoch 24, loss:5.643617\n",
      "epoch 26, loss:6.464965\n",
      "epoch 28, loss:5.550282\n",
      "epoch 30, loss:4.697094\n",
      "epoch 32, loss:4.704986\n",
      "epoch 34, loss:4.324200\n",
      "epoch 36, loss:4.618162\n",
      "epoch 38, loss:3.230281\n",
      "epoch 40, loss:3.255289\n",
      "epoch 42, loss:2.882855\n",
      "epoch 44, loss:3.413785\n",
      "epoch 46, loss:2.470433\n",
      "epoch 48, loss:2.509937\n",
      "epoch 50, loss:2.586117\n",
      "epoch 52, loss:2.484711\n",
      "epoch 54, loss:2.845363\n",
      "epoch 56, loss:2.209256\n",
      "epoch 58, loss:1.770867\n",
      "epoch 60, loss:1.981332\n",
      "epoch 62, loss:2.188273\n",
      "epoch 64, loss:1.766390\n",
      "epoch 66, loss:1.460774\n",
      "epoch 68, loss:2.062618\n",
      "epoch 70, loss:1.329972\n",
      "epoch 72, loss:1.172588\n",
      "epoch 74, loss:1.244622\n",
      "epoch 76, loss:1.024568\n",
      "epoch 78, loss:1.175134\n",
      "epoch 80, loss:1.118259\n",
      "epoch 82, loss:0.889175\n",
      "epoch 84, loss:1.012235\n",
      "epoch 86, loss:1.352195\n",
      "epoch 88, loss:0.830787\n",
      "epoch 90, loss:0.583152\n",
      "epoch 92, loss:0.482371\n",
      "epoch 94, loss:0.678945\n",
      "epoch 96, loss:0.861232\n",
      "epoch 98, loss:0.621692\n",
      "epoch 100, loss:0.701871\n",
      "epoch 102, loss:0.488769\n",
      "epoch 104, loss:0.820179\n",
      "epoch 106, loss:0.414335\n",
      "epoch 108, loss:0.535315\n",
      "epoch 110, loss:0.634976\n",
      "epoch 112, loss:0.551583\n",
      "epoch 114, loss:0.331034\n",
      "epoch 116, loss:0.691278\n",
      "epoch 118, loss:0.614029\n",
      "epoch 120, loss:0.547625\n",
      "epoch 122, loss:0.255308\n",
      "epoch 124, loss:0.245178\n",
      "epoch 126, loss:0.160226\n",
      "epoch 128, loss:0.273088\n",
      "epoch 130, loss:0.488037\n",
      "epoch 132, loss:0.525584\n",
      "epoch 134, loss:0.374939\n",
      "epoch 136, loss:0.559334\n",
      "epoch 138, loss:0.398772\n",
      "epoch 140, loss:0.632514\n",
      "epoch 142, loss:0.313286\n",
      "epoch 144, loss:0.382789\n",
      "epoch 146, loss:0.197217\n",
      "epoch 148, loss:0.235002\n",
      "epoch 150, loss:0.184659\n",
      "epoch 152, loss:0.234514\n",
      "epoch 154, loss:0.194223\n",
      "epoch 156, loss:0.280235\n",
      "epoch 158, loss:0.057739\n",
      "epoch 160, loss:0.363571\n",
      "epoch 162, loss:0.530300\n",
      "epoch 164, loss:0.338502\n",
      "epoch 166, loss:0.327707\n",
      "epoch 168, loss:0.455865\n",
      "epoch 170, loss:0.137770\n",
      "epoch 172, loss:0.250847\n",
      "epoch 174, loss:0.133035\n",
      "epoch 176, loss:0.214636\n",
      "epoch 178, loss:0.137943\n",
      "epoch 180, loss:0.373453\n",
      "epoch 182, loss:0.307600\n",
      "epoch 184, loss:0.148514\n",
      "epoch 186, loss:0.189667\n",
      "epoch 188, loss:0.328195\n",
      "epoch 190, loss:0.169545\n",
      "epoch 192, loss:0.229646\n",
      "epoch 194, loss:0.420257\n",
      "epoch 196, loss:0.253306\n",
      "epoch 198, loss:0.251218\n",
      "epoch 200, loss:0.207781\n",
      "epoch 202, loss:0.130458\n",
      "epoch 204, loss:0.162400\n",
      "epoch 206, loss:0.134966\n",
      "epoch 208, loss:0.135691\n",
      "epoch 210, loss:0.115281\n",
      "epoch 212, loss:0.092729\n",
      "epoch 214, loss:0.245034\n",
      "epoch 216, loss:0.205743\n",
      "epoch 218, loss:0.017381\n",
      "epoch 220, loss:0.189724\n",
      "epoch 222, loss:0.127750\n",
      "epoch 224, loss:0.120354\n",
      "epoch 226, loss:0.212101\n",
      "epoch 228, loss:0.092922\n",
      "epoch 230, loss:0.174156\n",
      "epoch 232, loss:0.188278\n",
      "epoch 234, loss:0.103589\n",
      "epoch 236, loss:0.129416\n",
      "epoch 238, loss:0.044243\n",
      "epoch 240, loss:0.102896\n",
      "epoch 242, loss:0.052088\n",
      "epoch 244, loss:0.154799\n",
      "epoch 246, loss:0.178630\n",
      "epoch 248, loss:0.040520\n",
      "epoch 250, loss:0.090264\n",
      "epoch 252, loss:0.086419\n",
      "epoch 254, loss:0.091596\n",
      "epoch 256, loss:0.035788\n",
      "epoch 258, loss:0.139546\n",
      "epoch 260, loss:0.093727\n",
      "epoch 262, loss:0.193722\n",
      "epoch 264, loss:0.193322\n",
      "epoch 266, loss:0.088971\n",
      "epoch 268, loss:0.126482\n",
      "epoch 270, loss:0.058889\n",
      "epoch 272, loss:0.178352\n",
      "epoch 274, loss:0.109850\n",
      "epoch 276, loss:0.055059\n",
      "epoch 278, loss:0.111118\n",
      "epoch 280, loss:0.088052\n",
      "epoch 282, loss:0.151891\n",
      "epoch 284, loss:0.194164\n",
      "epoch 286, loss:0.140257\n",
      "epoch 288, loss:0.199097\n",
      "epoch 290, loss:0.124276\n",
      "epoch 292, loss:0.159304\n",
      "epoch 294, loss:0.012412\n",
      "epoch 296, loss:0.205607\n",
      "epoch 298, loss:0.141719\n"
     ]
    }
   ],
   "source": [
    "# train model\n",
    "num_epochs = 300\n",
    "lr.train()\n",
    "loss_log = []\n",
    "for epoch in range(num_epochs):\n",
    "    # load data\n",
    "    for i, data in enumerate(sp_loader_train):\n",
    "        x, c, w, z = data\n",
    "        # cuda\n",
    "        x, c, w, z = x.cuda(), c.cuda(), w.cuda(), z.cuda()\n",
    "        # forward pass\n",
    "        cp = lr(x)\n",
    "        loss = criterion.apply(sp_model, cp, c, w, z).mean()\n",
    "        # backward pass\n",
    "        optimizer.zero_grad()\n",
    "        loss.backward()\n",
    "        optimizer.step()\n",
    "    loss_log.append(loss.item())\n",
    "    if epoch % 2 == 0:\n",
    "        print('epoch {}, loss:{:.6f}'.format(epoch, loss.item()))"
   ]
  },
  {
   "cell_type": "code",
   "execution_count": 23,
   "id": "cheap-thought",
   "metadata": {},
   "outputs": [
    {
     "data": {
      "image/png": "[encoded data removed]",
      "text/plain": [
       "<Figure size 864x432 with 1 Axes>"
      ]
     },
     "metadata": {
      "needs_background": "light"
     },
     "output_type": "display_data"
    }
   ],
   "source": [
    "# draw plot\n",
    "plt.figure(figsize=(12, 6))\n",
    "plt.plot(loss_log, color='c')\n",
    "plt.xlabel('Epoch')\n",
    "plt.ylabel('SPO+ Loss')\n",
    "plt.title('Learning Curve')\n",
    "plt.show()"
   ]
  },
  {
   "cell_type": "markdown",
   "id": "industrial-opposition",
   "metadata": {},
   "source": [
    "## Evaluation "
   ]
  },
  {
   "cell_type": "code",
   "execution_count": 24,
   "id": "precise-brunswick",
   "metadata": {},
   "outputs": [],
   "source": [
    "import numpy as np"
   ]
  },
  {
   "cell_type": "code",
   "execution_count": 25,
   "id": "scheduled-championship",
   "metadata": {},
   "outputs": [
    {
     "name": "stdout",
     "output_type": "stream",
     "text": [
      "Test Loss: 0.118588\n"
     ]
    }
   ],
   "source": [
    "# evaluate\n",
    "lr.eval()\n",
    "loss = []\n",
    "# load data\n",
    "for i, data in enumerate(sp_loader_test):\n",
    "    x, c, w, z = data\n",
    "    # cuda\n",
    "    x, c, w, z = x.cuda(), c.cuda(), w.cuda(), z.cuda()\n",
    "    # predict\n",
    "    cp = lr(x)\n",
    "    loss.append(criterion.apply(sp_model, cp, c, w, z).mean().item())\n",
    "print('Test Loss: {:.6f}'.format(np.mean(loss)))"
   ]
  },
  {
   "cell_type": "code",
   "execution_count": 26,
   "id": "still-iraqi",
   "metadata": {
    "scrolled": false
   },
   "outputs": [
    {
     "name": "stdout",
     "output_type": "stream",
     "text": [
      "Sample 0:\n",
      "    True cost: 3.56, 2.73, 2.34, 3.59, 2.70, 3.34, 2.62, 2.36, 3.81, 2.84, 3.34, 2.84, 3.23, 2.36, 3.71, 2.36, 2.87, 2.12, 1.64, 3.34, 2.84, 2.12, 2.47, 3.21, 3.06, 2.62, 3.71, 3.71, 1.86, 2.95, 1.75, 3.23, 1.75, 2.73, 2.34, 2.95, 2.62, 2.95, 2.00, 2.12\n",
      "    Pred cost: -0.40, 1.32, -0.01, -0.33, -0.72, 1.22, -1.09, 2.20, -1.10, -0.18, 0.21, -0.41, 1.15, -0.69, 0.93, -0.73, -0.98, 0.33, -1.05, -0.13, -0.64, 0.38, 0.24, -0.88, -0.03, -0.15, 0.66, 0.16, -0.84, -0.03, -1.04, -0.49, -0.08, -0.31, -0.81, 0.25, 0.82, -0.02, -0.88, -0.20\n",
      "    True sol: 0, 0, 0, 0, 1, 0, 0, 0, 0, 0, 0, 0, 0, 1, 0, 0, 0, 0, 1, 0, 0, 0, 0, 1, 0, 0, 0, 0, 1, 0, 0, 0, 0, 1, 0, 0, 0, 0, 1, 1, True obj: 18.61\n",
      "    Pred sol: 0, 0, 0, 0, 1, 0, 0, 0, 0, 0, 0, 0, 0, 1, 0, 0, 0, 0, 1, 0, 0, 0, 0, 1, 0, 0, 0, 0, 1, 0, 0, 0, 0, 1, 0, 0, 0, 0, 1, 1, Pred obj: 18.61\n",
      "\n",
      "Sample 1:\n",
      "    True cost: 0.61, 1.95, 2.34, 1.30, 1.26, 0.45, 0.68, 1.08, 1.46, 1.97, 0.45, 0.83, 0.44, 1.08, 1.32, 1.08, 1.52, 2.19, 1.30, 0.45, 0.83, 2.19, 1.10, 1.70, 2.12, 0.68, 1.32, 1.32, 1.46, 2.10, 1.32, 0.44, 1.32, 1.95, 2.34, 2.10, 0.68, 2.10, 2.17, 2.19\n",
      "    Pred cost: 0.13, 0.86, 0.10, 0.78, 0.15, -1.28, 0.12, 1.27, -0.23, 1.06, -0.33, -0.11, -0.07, 0.52, 0.33, 0.38, 0.07, 0.06, -0.26, 0.10, -0.81, 0.21, 0.07, 0.34, 0.11, -0.54, 0.42, -0.30, 0.51, 0.59, -0.39, 0.92, 0.53, 1.01, 0.55, -0.02, -0.69, 1.02, -0.10, 0.02\n",
      "    True sol: 1, 0, 0, 0, 0, 1, 0, 0, 0, 0, 1, 0, 0, 0, 0, 1, 0, 0, 0, 0, 1, 0, 0, 0, 0, 1, 0, 0, 0, 0, 1, 0, 0, 0, 0, 1, 0, 0, 0, 0, True obj: 7.53\n",
      "    Pred sol: 1, 0, 0, 0, 0, 1, 0, 0, 0, 0, 1, 0, 0, 0, 0, 1, 0, 0, 0, 0, 1, 0, 0, 0, 0, 1, 0, 0, 0, 0, 1, 0, 0, 0, 0, 1, 0, 0, 0, 0, Pred obj: 7.53\n",
      "\n",
      "Sample 2:\n",
      "    True cost: 3.44, 3.48, 2.34, 3.47, 3.44, 4.07, 3.66, 4.16, 2.84, 3.39, 4.07, 3.03, 4.16, 4.16, 3.39, 4.16, 3.06, 2.98, 3.75, 4.07, 3.03, 2.98, 4.07, 2.34, 2.75, 3.66, 3.39, 3.39, 3.12, 2.84, 3.66, 4.16, 3.66, 3.48, 2.34, 2.84, 3.66, 2.84, 3.06, 2.98\n",
      "    Pred cost: 0.03, -0.12, -0.00, -0.94, 0.57, 0.48, -0.56, 1.21, -0.71, -0.82, 0.29, -0.07, 1.29, -1.01, -0.82, -0.36, -1.04, -0.64, 0.50, -0.06, 0.12, 0.30, 0.22, -1.13, 0.31, 0.42, -0.09, -0.58, 0.06, -0.56, 0.26, 0.54, 0.44, -0.81, -0.92, 0.22, 1.94, 0.58, 0.50, 0.39\n",
      "    True sol: 0, 0, 0, 0, 1, 0, 0, 0, 0, 1, 0, 0, 0, 0, 1, 0, 0, 0, 0, 0, 0, 0, 0, 1, 0, 0, 0, 0, 1, 1, 0, 0, 0, 0, 1, 0, 0, 0, 0, 1, True obj: 23.83\n",
      "    Pred sol: 0, 0, 0, 0, 1, 0, 0, 0, 0, 1, 0, 0, 0, 0, 1, 0, 0, 0, 0, 0, 0, 0, 0, 1, 0, 0, 0, 0, 1, 1, 0, 0, 0, 0, 1, 0, 0, 0, 0, 1, Pred obj: 23.83\n",
      "\n",
      "Sample 3:\n",
      "    True cost: 3.45, 3.51, 2.34, 4.42, 2.53, 3.74, 3.13, 3.08, 4.13, 3.25, 3.74, 2.83, 4.00, 3.08, 4.17, 3.08, 3.81, 2.64, 2.47, 3.74, 2.83, 2.64, 2.83, 3.26, 2.96, 3.13, 4.17, 4.17, 2.17, 3.21, 2.21, 4.00, 2.21, 3.51, 2.34, 3.21, 3.13, 3.21, 2.89, 2.64\n",
      "    Pred cost: -0.64, 1.20, -0.13, -0.51, -0.88, 0.75, -0.78, 2.29, -0.86, -0.69, 0.31, -0.11, 1.04, -1.01, 0.65, -0.85, -1.50, 0.01, -0.85, -0.18, -1.08, 0.44, 0.60, -1.01, -0.29, 0.05, 0.86, -0.25, -1.02, -0.23, -1.13, 0.01, 0.25, -0.22, -1.39, -0.01, 0.98, -0.26, -0.52, -0.15\n",
      "    True sol: 0, 0, 0, 0, 1, 0, 0, 0, 0, 0, 0, 0, 0, 1, 0, 0, 0, 0, 1, 0, 0, 0, 0, 1, 0, 0, 0, 0, 1, 1, 0, 0, 0, 0, 1, 0, 0, 0, 0, 1, True obj: 21.69\n",
      "    Pred sol: 0, 0, 0, 0, 1, 0, 0, 0, 0, 0, 0, 0, 0, 1, 0, 0, 0, 0, 1, 0, 0, 0, 0, 1, 0, 0, 0, 0, 1, 1, 0, 0, 0, 0, 1, 0, 0, 0, 0, 1, Pred obj: 21.69\n",
      "\n",
      "Sample 4:\n",
      "    True cost: 2.42, 2.66, 2.34, 3.09, 1.99, 2.65, 2.61, 2.27, 2.86, 2.61, 2.65, 2.38, 2.70, 2.27, 3.04, 2.27, 3.05, 2.57, 2.23, 2.65, 2.38, 2.57, 2.22, 2.77, 2.38, 2.61, 3.04, 3.04, 2.00, 2.43, 2.18, 2.70, 2.18, 2.66, 2.34, 2.43, 2.61, 2.43, 2.62, 2.57\n",
      "    Pred cost: -0.10, 0.90, 0.00, -0.31, -0.45, 0.13, -0.58, 1.83, -0.90, -0.10, -0.20, 0.09, 0.60, -0.60, 0.38, -0.28, -0.55, 0.01, -0.28, -0.08, -0.79, 0.34, 0.60, -0.24, -0.48, 0.16, 0.51, -0.26, -0.70, -0.13, -0.63, 0.21, 0.24, 0.23, -0.70, -0.26, 0.42, -0.01, -0.60, 0.08\n",
      "    True sol: 0, 0, 0, 0, 1, 0, 0, 0, 0, 0, 0, 0, 0, 1, 0, 0, 0, 0, 1, 0, 0, 0, 0, 1, 0, 0, 0, 0, 1, 1, 1, 0, 0, 0, 0, 1, 0, 0, 0, 0, True obj: 18.30\n",
      "    Pred sol: 0, 0, 0, 0, 1, 0, 0, 0, 0, 0, 0, 0, 0, 1, 0, 0, 0, 0, 1, 0, 0, 0, 0, 1, 0, 0, 0, 0, 1, 1, 1, 0, 0, 0, 0, 1, 0, 0, 0, 0, Pred obj: 18.30\n",
      "\n",
      "Sample 5:\n",
      "    True cost: 1.73, 2.08, 2.34, 1.64, 2.16, 1.75, 1.69, 1.84, 1.61, 2.42, 1.75, 1.67, 1.40, 1.84, 1.99, 1.84, 1.58, 2.37, 1.78, 1.75, 1.67, 2.37, 2.19, 1.91, 2.40, 1.69, 1.99, 1.99, 1.75, 2.05, 2.13, 1.40, 2.13, 2.08, 2.34, 2.05, 1.69, 2.05, 2.02, 2.37\n",
      "    Pred cost: 0.22, 0.49, 0.12, 0.32, 0.30, -0.28, -0.18, 1.12, -0.59, 0.81, -0.10, -0.15, 0.42, 0.03, 0.16, 0.18, 0.02, -0.03, -0.02, 0.21, -0.00, 0.24, 0.02, -0.33, 0.28, -0.31, 0.01, -0.11, 0.43, 0.22, -0.10, 0.48, 0.46, 0.26, 0.22, 0.20, 0.28, 1.04, -0.09, 0.36\n",
      "    True sol: 1, 0, 0, 0, 0, 1, 0, 0, 0, 0, 1, 1, 0, 0, 0, 0, 1, 0, 0, 0, 0, 0, 0, 0, 0, 1, 0, 0, 0, 0, 1, 0, 0, 0, 0, 1, 0, 0, 0, 0, True obj: 14.35\n",
      "    Pred sol: 1, 0, 0, 0, 0, 1, 0, 0, 0, 0, 1, 1, 0, 0, 0, 0, 1, 0, 0, 0, 0, 0, 0, 0, 0, 1, 0, 0, 0, 0, 1, 0, 0, 0, 0, 1, 0, 0, 0, 0, Pred obj: 14.35\n",
      "\n",
      "Sample 6:\n",
      "    True cost: 2.05, 2.05, 2.34, 2.03, 2.06, 1.79, 2.56, 2.54, 2.29, 1.32, 1.79, 2.82, 2.52, 2.54, 1.30, 2.54, 2.80, 2.09, 3.31, 1.79, 2.82, 2.09, 1.81, 2.33, 1.57, 2.56, 1.30, 1.30, 3.56, 2.31, 2.58, 2.52, 2.58, 2.05, 2.34, 2.31, 2.56, 2.31, 2.82, 2.09\n",
      "    Pred cost: 0.92, 0.13, 0.24, -1.56, 1.02, -0.59, -1.25, 1.38, -1.08, -1.14, -1.29, 0.07, 0.92, -0.28, -1.44, 0.37, 0.24, -0.44, 1.03, -0.78, -1.05, 0.09, 0.42, 1.62, -0.72, 1.27, 0.19, -0.92, -0.54, -0.45, 0.71, 0.56, -0.64, 0.20, 0.17, -0.74, 0.41, -0.28, -0.36, -0.57\n",
      "    True sol: 0, 0, 0, 0, 1, 0, 0, 0, 0, 1, 0, 0, 0, 0, 1, 0, 0, 0, 0, 1, 0, 0, 0, 0, 1, 0, 0, 0, 0, 1, 0, 0, 0, 0, 1, 0, 0, 0, 0, 1, True obj: 14.79\n",
      "    Pred sol: 0, 0, 0, 0, 1, 0, 0, 0, 0, 1, 0, 0, 0, 0, 1, 0, 0, 0, 0, 1, 0, 0, 0, 0, 1, 0, 0, 0, 0, 1, 0, 0, 0, 0, 1, 0, 0, 0, 0, 1, Pred obj: 14.79\n",
      "\n",
      "Sample 7:\n",
      "    True cost: 1.22, 2.24, 2.34, 1.84, 1.62, 1.45, 2.07, 2.13, 1.62, 1.95, 1.45, 1.84, 1.74, 2.13, 1.56, 2.13, 2.46, 2.57, 2.75, 1.45, 1.84, 2.57, 1.84, 1.95, 1.72, 2.07, 1.56, 1.56, 2.52, 2.01, 2.46, 1.74, 2.46, 2.24, 2.34, 2.01, 2.07, 2.01, 2.86, 2.57\n",
      "    Pred cost: 0.51, 0.25, 0.13, -0.40, 0.53, -1.08, -0.29, 1.17, -0.62, -0.04, -0.75, 0.26, 0.28, -0.11, -0.68, 0.40, 0.13, -0.37, 0.68, -0.19, -0.75, 0.18, 0.49, 0.75, -0.46, 0.47, 0.17, -0.72, -0.02, -0.10, 0.25, 0.95, 0.25, 0.61, 0.07, -0.52, 0.06, 0.38, -0.06, 0.08\n",
      "    True sol: 1, 0, 0, 0, 0, 1, 0, 0, 0, 0, 0, 0, 0, 0, 1, 0, 0, 0, 0, 1, 1, 1, 0, 0, 0, 0, 1, 0, 0, 0, 0, 0, 0, 0, 0, 1, 0, 0, 0, 0, True obj: 13.66\n",
      "    Pred sol: 1, 0, 0, 0, 0, 1, 0, 0, 0, 0, 0, 0, 0, 0, 1, 0, 0, 0, 0, 1, 1, 1, 0, 0, 0, 0, 1, 0, 0, 0, 0, 0, 0, 0, 0, 1, 0, 0, 0, 0, Pred obj: 13.66\n",
      "\n",
      "Sample 8:\n",
      "    True cost: 3.40, 2.89, 2.34, 2.93, 3.36, 3.36, 2.92, 3.47, 2.97, 2.75, 3.36, 2.96, 3.51, 3.47, 2.79, 3.47, 2.49, 2.30, 3.02, 3.36, 2.96, 2.30, 3.32, 2.38, 2.79, 2.92, 2.79, 2.79, 3.06, 2.93, 2.88, 3.51, 2.88, 2.89, 2.34, 2.93, 2.92, 2.93, 2.45, 2.30\n",
      "    Pred cost: 0.19, 0.20, 0.09, -0.92, 0.70, 0.61, -0.98, 1.37, -0.83, -0.72, 0.04, -0.42, 1.42, -0.59, -0.68, -0.28, -0.76, -0.36, 0.19, -0.27, -0.10, 0.23, -0.09, -0.57, 0.43, 0.34, 0.05, -0.41, 0.06, -0.31, 0.22, 0.22, -0.06, -0.71, -0.36, 0.33, 1.51, 0.54, 0.16, -0.10\n",
      "    True sol: 0, 0, 0, 0, 1, 0, 0, 0, 0, 1, 0, 0, 0, 0, 1, 0, 0, 0, 0, 0, 0, 0, 0, 1, 0, 0, 0, 0, 0, 0, 0, 0, 1, 0, 0, 0, 0, 1, 1, 1, True obj: 21.84\n",
      "    Pred sol: 0, 0, 0, 0, 1, 0, 0, 0, 0, 1, 0, 0, 0, 0, 1, 0, 0, 0, 0, 0, 0, 0, 0, 1, 0, 0, 0, 0, 1, 1, 0, 0, 0, 0, 1, 0, 0, 0, 0, 1, Pred obj: 21.92\n",
      "\n",
      "Sample 9:\n",
      "    True cost: 4.24, 2.50, 2.34, 2.56, 4.18, 3.78, 2.87, 3.43, 3.01, 2.80, 3.78, 3.32, 3.48, 3.43, 2.86, 3.43, 1.64, 1.89, 2.51, 3.78, 3.32, 1.89, 3.73, 2.40, 3.26, 2.87, 2.86, 2.86, 2.97, 2.96, 2.81, 3.48, 2.81, 2.50, 2.34, 2.96, 2.87, 2.96, 1.59, 1.89\n",
      "    Pred cost: 0.29, 0.16, 0.17, -0.90, 0.96, 1.58, -1.36, 1.25, -1.08, -0.44, 0.30, -0.87, 1.88, -0.51, -0.49, -0.39, -0.62, -0.14, -0.05, -0.17, 0.68, 0.21, -0.61, -1.07, 1.02, 0.10, -0.27, 0.05, 0.36, -0.25, 0.35, -0.38, -0.33, -1.30, -0.03, 0.88, 1.99, 0.92, 0.05, -0.06\n",
      "    True sol: 0, 0, 0, 0, 1, 0, 0, 0, 0, 1, 0, 0, 0, 0, 1, 0, 0, 0, 0, 0, 0, 0, 0, 1, 0, 0, 0, 0, 1, 0, 0, 0, 0, 1, 0, 0, 0, 0, 1, 1, True obj: 21.19\n",
      "    Pred sol: 1, 1, 0, 0, 0, 0, 1, 0, 0, 0, 0, 1, 0, 0, 0, 0, 1, 0, 0, 0, 0, 0, 0, 0, 0, 1, 0, 0, 0, 0, 0, 0, 0, 0, 1, 0, 0, 0, 0, 1, Pred obj: 21.66\n",
      "\n"
     ]
    }
   ],
   "source": [
    "# compare solutions\n",
    "lr.eval()\n",
    "loss = []\n",
    "# load data\n",
    "for i, data in enumerate(sp_loader_test):\n",
    "    x, c, w, z = data\n",
    "    # predicy\n",
    "    x, c, w, z = x.cuda(), c.cuda(), w.cuda(), z.cuda()\n",
    "    cp = lr(x)\n",
    "    # convert to numpy\n",
    "    c = c.to('cpu').detach().numpy().tolist()\n",
    "    w = w.to('cpu').detach().numpy().tolist()\n",
    "    z = z.to('cpu').detach().numpy().tolist()\n",
    "    cp = cp.to('cpu').detach().numpy().tolist()\n",
    "    for j in range(min(10, batch_size)):\n",
    "        print('Sample {}:'.format(j))\n",
    "        print('    True cost:', ', '.join(['{:.2f}'.format(cost) for cost in c[j]]))\n",
    "        print('    Pred cost:', ', '.join(['{:.2f}'.format(cost) for cost in cp[j]]))\n",
    "        # solve cost from prediction\n",
    "        sp_model.setObj(cp[j])\n",
    "        wpj, _ = sp_model.solve()\n",
    "        zpj = np.dot(c[j], wpj)\n",
    "        print('    True sol: ' + ', '.join(['{:.0f}'.format(x) for x in w[j]]) + ', True obj: {:.2f}'.format(z[j][0]))\n",
    "        print('    Pred sol: '+  ', '.join(['{:.0f}'.format(x) for x in wpj]) + ', Pred obj: {:.2f}'.format(zpj))\n",
    "        print()\n",
    "    break"
   ]
  },
  {
   "cell_type": "code",
   "execution_count": null,
   "id": "compliant-mills",
   "metadata": {},
   "outputs": [],
   "source": []
  }
 ],
 "metadata": {
  "kernelspec": {
   "display_name": "Python 3",
   "language": "python",
   "name": "python3"
  },
  "language_info": {
   "codemirror_mode": {
    "name": "ipython",
    "version": 3
   },
   "file_extension": ".py",
   "mimetype": "text/x-python",
   "name": "python",
   "nbconvert_exporter": "python",
   "pygments_lexer": "ipython3",
   "version": "3.7.9"
  }
 },
 "nbformat": 4,
 "nbformat_minor": 5
}
