{
 "cells": [
  {
   "cell_type": "markdown",
   "id": "naval-blade",
   "metadata": {},
   "source": [
    "## Optimization model "
   ]
  },
  {
   "cell_type": "code",
   "execution_count": 1,
   "id": "accredited-pearl",
   "metadata": {},
   "outputs": [],
   "source": [
    "from model import shortestPathModel"
   ]
  },
  {
   "cell_type": "code",
   "execution_count": 2,
   "id": "declared-brunswick",
   "metadata": {},
   "outputs": [
    {
     "name": "stdout",
     "output_type": "stream",
     "text": [
      "Academic license - for non-commercial use only - expires 2021-04-13\n",
      "Using license file C:\\Users\\Apocrypse\\gurobi.lic\n"
     ]
    }
   ],
   "source": [
    "# model for shortest path\n",
    "grid = (5,5)\n",
    "sp_model = shortestPathModel(grid)"
   ]
  },
  {
   "cell_type": "code",
   "execution_count": 3,
   "id": "precious-employee",
   "metadata": {},
   "outputs": [
    {
     "name": "stdout",
     "output_type": "stream",
     "text": [
      "Obj: 8.0\n",
      "(0, 1)\n",
      "(1, 2)\n",
      "(2, 3)\n",
      "(3, 4)\n",
      "(4, 9)\n",
      "(9, 14)\n",
      "(14, 19)\n",
      "(19, 24)\n"
     ]
    }
   ],
   "source": [
    "# solve\n",
    "sp_model.setObj([1 for i in range(40)])\n",
    "sol, obj = sp_model.solve()\n",
    "print('Obj: {}'.format(obj))\n",
    "for i, e in enumerate(sp_model.arcs):\n",
    "    if sol[i] > 1e-3:\n",
    "        print(e)"
   ]
  },
  {
   "cell_type": "markdown",
   "id": "directed-consultancy",
   "metadata": {},
   "source": [
    "## Data Loader"
   ]
  },
  {
   "cell_type": "code",
   "execution_count": 4,
   "id": "little-diversity",
   "metadata": {},
   "outputs": [],
   "source": [
    "from data import shortestpath, dataset\n",
    "from sklearn.model_selection import train_test_split\n",
    "from torch.utils.data import DataLoader"
   ]
  },
  {
   "cell_type": "code",
   "execution_count": 5,
   "id": "relative-cherry",
   "metadata": {},
   "outputs": [],
   "source": [
    "# generate data for grid network (features and costs)\n",
    "n = 1000 # number of data\n",
    "p = 5 # size of feature\n",
    "x, c = shortestpath.genData(n, p, grid)"
   ]
  },
  {
   "cell_type": "code",
   "execution_count": 6,
   "id": "regulated-freeware",
   "metadata": {},
   "outputs": [],
   "source": [
    "# data split\n",
    "x_train, x_test, c_train, c_test = train_test_split(x, c, test_size=0.2, random_state=246)"
   ]
  },
  {
   "cell_type": "code",
   "execution_count": 7,
   "id": "human-praise",
   "metadata": {},
   "outputs": [
    {
     "name": "stdout",
     "output_type": "stream",
     "text": [
      "Optimizing...\n"
     ]
    },
    {
     "name": "stderr",
     "output_type": "stream",
     "text": [
      "100%|███████████████████████████████████████████████████████████████████████| 800/800 [00:02<00:00, 278.84it/s]\n"
     ]
    }
   ],
   "source": [
    "# get training data set\n",
    "sp_dataset_train = dataset.optDataset(sp_model, x_train, c_train)"
   ]
  },
  {
   "cell_type": "code",
   "execution_count": 8,
   "id": "immune-interpretation",
   "metadata": {},
   "outputs": [
    {
     "name": "stdout",
     "output_type": "stream",
     "text": [
      "Optimizing...\n"
     ]
    },
    {
     "name": "stderr",
     "output_type": "stream",
     "text": [
      "100%|███████████████████████████████████████████████████████████████████████| 200/200 [00:00<00:00, 301.45it/s]\n"
     ]
    }
   ],
   "source": [
    "# get training data set\n",
    "sp_dataset_test = dataset.optDataset(sp_model, x_test, c_test)"
   ]
  },
  {
   "cell_type": "code",
   "execution_count": 9,
   "id": "incident-kinase",
   "metadata": {},
   "outputs": [],
   "source": [
    "# get data loader\n",
    "sp_loader_train = DataLoader(sp_dataset_train, batch_size=32, shuffle=True)\n",
    "sp_loader_test = DataLoader(sp_dataset_test, batch_size=32, shuffle=False)"
   ]
  },
  {
   "cell_type": "code",
   "execution_count": 10,
   "id": "intellectual-softball",
   "metadata": {},
   "outputs": [],
   "source": [
    "for i, data in enumerate(sp_loader_train):\n",
    "    x, c, w, z = data\n",
    "    break"
   ]
  },
  {
   "cell_type": "code",
   "execution_count": 11,
   "id": "instant-polymer",
   "metadata": {},
   "outputs": [
    {
     "data": {
      "text/plain": [
       "torch.Size([32, 5])"
      ]
     },
     "execution_count": 11,
     "metadata": {},
     "output_type": "execute_result"
    }
   ],
   "source": [
    "x.shape"
   ]
  },
  {
   "cell_type": "code",
   "execution_count": 12,
   "id": "known-framing",
   "metadata": {},
   "outputs": [
    {
     "data": {
      "text/plain": [
       "torch.Size([32, 40])"
      ]
     },
     "execution_count": 12,
     "metadata": {},
     "output_type": "execute_result"
    }
   ],
   "source": [
    "c.shape"
   ]
  },
  {
   "cell_type": "code",
   "execution_count": 13,
   "id": "partial-algeria",
   "metadata": {},
   "outputs": [
    {
     "data": {
      "text/plain": [
       "torch.Size([32, 40])"
      ]
     },
     "execution_count": 13,
     "metadata": {},
     "output_type": "execute_result"
    }
   ],
   "source": [
    "w.shape"
   ]
  },
  {
   "cell_type": "code",
   "execution_count": 14,
   "id": "known-contemporary",
   "metadata": {},
   "outputs": [
    {
     "data": {
      "text/plain": [
       "torch.Size([32, 1])"
      ]
     },
     "execution_count": 14,
     "metadata": {},
     "output_type": "execute_result"
    }
   ],
   "source": [
    "z.shape"
   ]
  },
  {
   "cell_type": "markdown",
   "id": "sacred-consequence",
   "metadata": {},
   "source": [
    "## Loss Function"
   ]
  },
  {
   "cell_type": "code",
   "execution_count": 15,
   "id": "authentic-boring",
   "metadata": {},
   "outputs": [],
   "source": [
    "from loss import SPOPlusLoss"
   ]
  },
  {
   "cell_type": "code",
   "execution_count": 16,
   "id": "directed-composition",
   "metadata": {},
   "outputs": [],
   "source": [
    "# init SPO+ loss\n",
    "criterion = SPOPlusLoss()"
   ]
  },
  {
   "cell_type": "markdown",
   "id": "technological-queue",
   "metadata": {},
   "source": [
    "## Linear Regression "
   ]
  },
  {
   "cell_type": "code",
   "execution_count": 17,
   "id": "shaped-wonder",
   "metadata": {},
   "outputs": [],
   "source": [
    "import torch\n",
    "from torch import nn"
   ]
  },
  {
   "cell_type": "code",
   "execution_count": 18,
   "id": "fresh-adolescent",
   "metadata": {},
   "outputs": [],
   "source": [
    "# build linear model\n",
    "class LinearRegression(nn.Module):\n",
    "    \n",
    "    def __init__(self):\n",
    "        super(LinearRegression, self).__init__()\n",
    "        self.linear = nn.Linear(p, (grid[0] - 1) * grid[1] + (grid[1] - 1) * grid[0])\n",
    "    \n",
    "    def forward(self, x):\n",
    "        out = self.linear(x)\n",
    "        return out"
   ]
  },
  {
   "cell_type": "code",
   "execution_count": 19,
   "id": "interior-secondary",
   "metadata": {},
   "outputs": [],
   "source": [
    "# init model\n",
    "lr = LinearRegression()\n",
    "# cuda\n",
    "if torch.cuda.is_available():\n",
    "    lr = lr.cuda()"
   ]
  },
  {
   "cell_type": "markdown",
   "id": "accessible-clerk",
   "metadata": {},
   "source": [
    "## Training "
   ]
  },
  {
   "cell_type": "code",
   "execution_count": 20,
   "id": "challenging-reservation",
   "metadata": {},
   "outputs": [],
   "source": [
    "from matplotlib import pyplot as plt"
   ]
  },
  {
   "cell_type": "code",
   "execution_count": 21,
   "id": "asian-screening",
   "metadata": {},
   "outputs": [],
   "source": [
    "# set optimizer\n",
    "optimizer = torch.optim.SGD(lr.parameters(), lr=1e-2)"
   ]
  },
  {
   "cell_type": "code",
   "execution_count": 22,
   "id": "framed-classification",
   "metadata": {
    "scrolled": false
   },
   "outputs": [
    {
     "name": "stdout",
     "output_type": "stream",
     "text": [
      "epoch 0, loss:9.226647\n",
      "epoch 2, loss:9.914251\n",
      "epoch 4, loss:8.382158\n",
      "epoch 6, loss:8.909343\n",
      "epoch 8, loss:6.565743\n",
      "epoch 10, loss:7.014901\n",
      "epoch 12, loss:6.832918\n",
      "epoch 14, loss:5.974393\n",
      "epoch 16, loss:5.586994\n",
      "epoch 18, loss:6.159401\n",
      "epoch 20, loss:5.295601\n",
      "epoch 22, loss:5.053286\n",
      "epoch 24, loss:5.835514\n",
      "epoch 26, loss:4.771306\n",
      "epoch 28, loss:4.379722\n",
      "epoch 30, loss:3.976246\n",
      "epoch 32, loss:4.231550\n",
      "epoch 34, loss:3.624093\n",
      "epoch 36, loss:4.521338\n",
      "epoch 38, loss:4.091406\n",
      "epoch 40, loss:3.186965\n",
      "epoch 42, loss:3.396594\n",
      "epoch 44, loss:3.142847\n",
      "epoch 46, loss:3.691666\n",
      "epoch 48, loss:2.615435\n",
      "epoch 50, loss:2.551030\n",
      "epoch 52, loss:2.701485\n",
      "epoch 54, loss:1.923312\n",
      "epoch 56, loss:1.881532\n",
      "epoch 58, loss:1.985745\n",
      "epoch 60, loss:1.521429\n",
      "epoch 62, loss:2.184659\n",
      "epoch 64, loss:1.802377\n",
      "epoch 66, loss:1.688437\n",
      "epoch 68, loss:1.779454\n",
      "epoch 70, loss:1.515260\n",
      "epoch 72, loss:1.532068\n",
      "epoch 74, loss:1.135106\n",
      "epoch 76, loss:1.067797\n",
      "epoch 78, loss:1.599936\n",
      "epoch 80, loss:0.794876\n",
      "epoch 82, loss:1.035887\n",
      "epoch 84, loss:0.789894\n",
      "epoch 86, loss:0.752720\n",
      "epoch 88, loss:0.734798\n",
      "epoch 90, loss:0.955814\n",
      "epoch 92, loss:0.744274\n",
      "epoch 94, loss:0.784680\n",
      "epoch 96, loss:0.959495\n",
      "epoch 98, loss:0.732476\n",
      "epoch 100, loss:0.671014\n",
      "epoch 102, loss:0.597914\n",
      "epoch 104, loss:0.615673\n",
      "epoch 106, loss:0.718996\n",
      "epoch 108, loss:0.429922\n",
      "epoch 110, loss:0.340667\n",
      "epoch 112, loss:0.287633\n",
      "epoch 114, loss:0.440395\n",
      "epoch 116, loss:0.873056\n",
      "epoch 118, loss:0.665414\n",
      "epoch 120, loss:0.341009\n",
      "epoch 122, loss:0.562671\n",
      "epoch 124, loss:0.242284\n",
      "epoch 126, loss:0.429658\n",
      "epoch 128, loss:0.658648\n",
      "epoch 130, loss:0.432649\n",
      "epoch 132, loss:0.681583\n",
      "epoch 134, loss:0.636631\n",
      "epoch 136, loss:0.357964\n",
      "epoch 138, loss:0.100344\n",
      "epoch 140, loss:0.134908\n",
      "epoch 142, loss:0.417647\n",
      "epoch 144, loss:0.147965\n",
      "epoch 146, loss:0.458782\n",
      "epoch 148, loss:0.272189\n",
      "epoch 150, loss:0.293921\n",
      "epoch 152, loss:0.206496\n",
      "epoch 154, loss:0.411064\n",
      "epoch 156, loss:0.112913\n",
      "epoch 158, loss:0.497460\n",
      "epoch 160, loss:0.381247\n",
      "epoch 162, loss:0.295434\n",
      "epoch 164, loss:0.231286\n",
      "epoch 166, loss:0.102978\n",
      "epoch 168, loss:0.146505\n",
      "epoch 170, loss:0.091401\n",
      "epoch 172, loss:0.252834\n",
      "epoch 174, loss:0.468667\n",
      "epoch 176, loss:0.214203\n",
      "epoch 178, loss:0.362344\n",
      "epoch 180, loss:0.142988\n",
      "epoch 182, loss:0.154207\n",
      "epoch 184, loss:0.191700\n",
      "epoch 186, loss:0.101002\n",
      "epoch 188, loss:0.123054\n",
      "epoch 190, loss:0.302849\n",
      "epoch 192, loss:0.181572\n",
      "epoch 194, loss:0.146873\n",
      "epoch 196, loss:0.131535\n",
      "epoch 198, loss:0.170455\n",
      "epoch 200, loss:0.198268\n",
      "epoch 202, loss:0.088936\n",
      "epoch 204, loss:0.120637\n",
      "epoch 206, loss:0.249432\n",
      "epoch 208, loss:0.432095\n",
      "epoch 210, loss:0.046872\n",
      "epoch 212, loss:0.185025\n",
      "epoch 214, loss:0.408529\n",
      "epoch 216, loss:0.072557\n",
      "epoch 218, loss:0.208446\n",
      "epoch 220, loss:0.063894\n",
      "epoch 222, loss:0.137329\n",
      "epoch 224, loss:0.072997\n",
      "epoch 226, loss:0.140508\n",
      "epoch 228, loss:0.121728\n",
      "epoch 230, loss:0.204408\n",
      "epoch 232, loss:0.090413\n",
      "epoch 234, loss:0.376794\n",
      "epoch 236, loss:0.194469\n",
      "epoch 238, loss:0.177597\n",
      "epoch 240, loss:0.241745\n",
      "epoch 242, loss:0.134319\n",
      "epoch 244, loss:0.117439\n",
      "epoch 246, loss:0.096678\n",
      "epoch 248, loss:0.215211\n",
      "epoch 250, loss:0.220406\n",
      "epoch 252, loss:0.146264\n",
      "epoch 254, loss:0.115079\n",
      "epoch 256, loss:0.070028\n",
      "epoch 258, loss:0.073801\n",
      "epoch 260, loss:0.211112\n",
      "epoch 262, loss:0.136363\n",
      "epoch 264, loss:0.198115\n",
      "epoch 266, loss:0.188208\n",
      "epoch 268, loss:0.088385\n",
      "epoch 270, loss:0.112407\n",
      "epoch 272, loss:0.121187\n",
      "epoch 274, loss:0.075672\n",
      "epoch 276, loss:0.115316\n",
      "epoch 278, loss:0.223509\n",
      "epoch 280, loss:0.198294\n",
      "epoch 282, loss:0.055280\n",
      "epoch 284, loss:0.229949\n",
      "epoch 286, loss:0.133583\n",
      "epoch 288, loss:0.136931\n",
      "epoch 290, loss:0.200288\n",
      "epoch 292, loss:0.122158\n",
      "epoch 294, loss:0.058693\n",
      "epoch 296, loss:0.192113\n",
      "epoch 298, loss:0.128195\n"
     ]
    }
   ],
   "source": [
    "# train model\n",
    "num_epochs = 300\n",
    "lr.train()\n",
    "loss_log = []\n",
    "for epoch in range(num_epochs):\n",
    "    # load data\n",
    "    for i, data in enumerate(sp_loader_train):\n",
    "        x, c, w, z = data\n",
    "        # cuda\n",
    "        x, c, w, z = x.cuda(), c.cuda(), w.cuda(), z.cuda()\n",
    "        # forward pass\n",
    "        cp = lr(x)\n",
    "        loss = criterion.apply(sp_model, cp, c, w, z).mean()\n",
    "        # backward pass\n",
    "        optimizer.zero_grad()\n",
    "        loss.backward()\n",
    "        optimizer.step()\n",
    "    loss_log.append(loss.item())\n",
    "    if epoch % 2 == 0:\n",
    "        print('epoch {}, loss:{:.6f}'.format(epoch, loss.item()))"
   ]
  },
  {
   "cell_type": "code",
   "execution_count": 23,
   "id": "cheap-thought",
   "metadata": {},
   "outputs": [
    {
     "data": {
      "image/png": "[encoded data removed]",
      "text/plain": [
       "<Figure size 864x432 with 1 Axes>"
      ]
     },
     "metadata": {
      "needs_background": "light"
     },
     "output_type": "display_data"
    }
   ],
   "source": [
    "# draw plot\n",
    "plt.figure(figsize=(12, 6))\n",
    "plt.plot(loss_log, color='c')\n",
    "plt.xlabel('Epoch')\n",
    "plt.ylabel('SPO+ Loss')\n",
    "plt.title('Learning Curve')\n",
    "plt.show()"
   ]
  },
  {
   "cell_type": "markdown",
   "id": "excess-skirt",
   "metadata": {},
   "source": [
    "## Evaluation "
   ]
  },
  {
   "cell_type": "code",
   "execution_count": 24,
   "id": "worth-museum",
   "metadata": {},
   "outputs": [],
   "source": [
    "import numpy as np"
   ]
  },
  {
   "cell_type": "code",
   "execution_count": 25,
   "id": "fatal-underground",
   "metadata": {},
   "outputs": [
    {
     "name": "stdout",
     "output_type": "stream",
     "text": [
      "Test Loss: 0.104126\n"
     ]
    }
   ],
   "source": [
    "# evaluate\n",
    "lr.eval()\n",
    "loss = []\n",
    "# load data\n",
    "for i, data in enumerate(sp_loader_test):\n",
    "    x, c, w, z = data\n",
    "    # cuda\n",
    "    x, c, w, z = x.cuda(), c.cuda(), w.cuda(), z.cuda()\n",
    "    cp = lr(x)\n",
    "    loss.append(criterion.apply(sp_model, cp, c, w, z).mean().item())\n",
    "print('Test Loss: {:.6f}'.format(np.mean(loss)))"
   ]
  },
  {
   "cell_type": "code",
   "execution_count": null,
   "id": "refined-willow",
   "metadata": {},
   "outputs": [],
   "source": []
  }
 ],
 "metadata": {
  "kernelspec": {
   "display_name": "Python 3",
   "language": "python",
   "name": "python3"
  },
  "language_info": {
   "codemirror_mode": {
    "name": "ipython",
    "version": 3
   },
   "file_extension": ".py",
   "mimetype": "text/x-python",
   "name": "python",
   "nbconvert_exporter": "python",
   "pygments_lexer": "ipython3",
   "version": "3.7.9"
  }
 },
 "nbformat": 4,
 "nbformat_minor": 5
}
