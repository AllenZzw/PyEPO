{
 "cells": [
  {
   "cell_type": "markdown",
   "id": "naval-blade",
   "metadata": {},
   "source": [
    "## Optimization model "
   ]
  },
  {
   "cell_type": "code",
   "execution_count": 1,
   "id": "accredited-pearl",
   "metadata": {},
   "outputs": [],
   "source": [
    "from model import shortestPathModel"
   ]
  },
  {
   "cell_type": "code",
   "execution_count": 2,
   "id": "declared-brunswick",
   "metadata": {},
   "outputs": [
    {
     "name": "stdout",
     "output_type": "stream",
     "text": [
      "Academic license - for non-commercial use only - expires 2021-04-13\n",
      "Using license file C:\\Users\\Apocrypse\\gurobi.lic\n"
     ]
    }
   ],
   "source": [
    "# model for shortest path\n",
    "grid = (5,5)\n",
    "sp_model = shortestPathModel(grid)"
   ]
  },
  {
   "cell_type": "code",
   "execution_count": 3,
   "id": "precious-employee",
   "metadata": {},
   "outputs": [
    {
     "name": "stdout",
     "output_type": "stream",
     "text": [
      "Obj: 8.0\n",
      "(0, 1)\n",
      "(1, 2)\n",
      "(2, 3)\n",
      "(3, 4)\n",
      "(4, 9)\n",
      "(9, 14)\n",
      "(14, 19)\n",
      "(19, 24)\n"
     ]
    }
   ],
   "source": [
    "# solve\n",
    "sp_model.setObj([1 for i in range(40)])\n",
    "sol, obj = sp_model.solve()\n",
    "print('Obj: {}'.format(obj))\n",
    "for i, e in enumerate(sp_model.arcs):\n",
    "    if sol[i] > 1e-3:\n",
    "        print(e)"
   ]
  },
  {
   "cell_type": "markdown",
   "id": "directed-consultancy",
   "metadata": {},
   "source": [
    "## Data Loader"
   ]
  },
  {
   "cell_type": "code",
   "execution_count": 4,
   "id": "little-diversity",
   "metadata": {},
   "outputs": [],
   "source": [
    "from data import shortestpath, dataset\n",
    "from sklearn.model_selection import train_test_split\n",
    "from torch.utils.data import DataLoader"
   ]
  },
  {
   "cell_type": "code",
   "execution_count": 5,
   "id": "relative-cherry",
   "metadata": {},
   "outputs": [],
   "source": [
    "# generate data for grid network (features and costs)\n",
    "n = 1000 # number of data\n",
    "p = 5 # size of feature\n",
    "deg = 4 # polynomial kernel\n",
    "x, c = shortestpath.genData(n+1000, p, grid, deg=deg)"
   ]
  },
  {
   "cell_type": "code",
   "execution_count": 6,
   "id": "regulated-freeware",
   "metadata": {},
   "outputs": [],
   "source": [
    "# data split\n",
    "x_train, x_test, c_train, c_test = train_test_split(x, c, test_size=1000, random_state=246)"
   ]
  },
  {
   "cell_type": "code",
   "execution_count": 7,
   "id": "human-praise",
   "metadata": {},
   "outputs": [
    {
     "name": "stdout",
     "output_type": "stream",
     "text": [
      "Optimizing for optDataset...\n"
     ]
    },
    {
     "name": "stderr",
     "output_type": "stream",
     "text": [
      "100%|█████████████████████████████████████████████████████████████████████| 1000/1000 [00:02<00:00, 377.97it/s]\n"
     ]
    }
   ],
   "source": [
    "# get training data set\n",
    "sp_dataset_train = dataset.optDataset(sp_model, x_train, c_train)"
   ]
  },
  {
   "cell_type": "code",
   "execution_count": 8,
   "id": "immune-interpretation",
   "metadata": {},
   "outputs": [
    {
     "name": "stdout",
     "output_type": "stream",
     "text": [
      "Optimizing for optDataset...\n"
     ]
    },
    {
     "name": "stderr",
     "output_type": "stream",
     "text": [
      "100%|█████████████████████████████████████████████████████████████████████| 1000/1000 [00:02<00:00, 412.43it/s]\n"
     ]
    }
   ],
   "source": [
    "# get training data set\n",
    "sp_dataset_test = dataset.optDataset(sp_model, x_test, c_test)"
   ]
  },
  {
   "cell_type": "code",
   "execution_count": 9,
   "id": "incident-kinase",
   "metadata": {},
   "outputs": [],
   "source": [
    "# get data loader\n",
    "batch_size = 32\n",
    "sp_loader_train = DataLoader(sp_dataset_train, batch_size=batch_size, shuffle=True)\n",
    "sp_loader_test = DataLoader(sp_dataset_test, batch_size=batch_size, shuffle=False)"
   ]
  },
  {
   "cell_type": "code",
   "execution_count": 10,
   "id": "intellectual-softball",
   "metadata": {},
   "outputs": [],
   "source": [
    "for i, data in enumerate(sp_loader_train):\n",
    "    x, c, w, z = data\n",
    "    break"
   ]
  },
  {
   "cell_type": "code",
   "execution_count": 11,
   "id": "instant-polymer",
   "metadata": {},
   "outputs": [
    {
     "data": {
      "text/plain": [
       "torch.Size([32, 5])"
      ]
     },
     "execution_count": 11,
     "metadata": {},
     "output_type": "execute_result"
    }
   ],
   "source": [
    "x.shape"
   ]
  },
  {
   "cell_type": "code",
   "execution_count": 12,
   "id": "known-framing",
   "metadata": {},
   "outputs": [
    {
     "data": {
      "text/plain": [
       "torch.Size([32, 40])"
      ]
     },
     "execution_count": 12,
     "metadata": {},
     "output_type": "execute_result"
    }
   ],
   "source": [
    "c.shape"
   ]
  },
  {
   "cell_type": "code",
   "execution_count": 13,
   "id": "partial-algeria",
   "metadata": {},
   "outputs": [
    {
     "data": {
      "text/plain": [
       "torch.Size([32, 40])"
      ]
     },
     "execution_count": 13,
     "metadata": {},
     "output_type": "execute_result"
    }
   ],
   "source": [
    "w.shape"
   ]
  },
  {
   "cell_type": "code",
   "execution_count": 14,
   "id": "known-contemporary",
   "metadata": {},
   "outputs": [
    {
     "data": {
      "text/plain": [
       "torch.Size([32, 1])"
      ]
     },
     "execution_count": 14,
     "metadata": {},
     "output_type": "execute_result"
    }
   ],
   "source": [
    "z.shape"
   ]
  },
  {
   "cell_type": "markdown",
   "id": "sacred-consequence",
   "metadata": {},
   "source": [
    "## Loss Function"
   ]
  },
  {
   "cell_type": "code",
   "execution_count": 15,
   "id": "authentic-boring",
   "metadata": {},
   "outputs": [],
   "source": [
    "from func import SPOPlus"
   ]
  },
  {
   "cell_type": "code",
   "execution_count": 16,
   "id": "directed-composition",
   "metadata": {},
   "outputs": [],
   "source": [
    "# init SPO+ loss\n",
    "criterion = SPOPlus()"
   ]
  },
  {
   "cell_type": "markdown",
   "id": "technological-queue",
   "metadata": {},
   "source": [
    "## Linear Regression "
   ]
  },
  {
   "cell_type": "code",
   "execution_count": 17,
   "id": "shaped-wonder",
   "metadata": {},
   "outputs": [],
   "source": [
    "import torch\n",
    "from torch import nn"
   ]
  },
  {
   "cell_type": "code",
   "execution_count": 18,
   "id": "fresh-adolescent",
   "metadata": {},
   "outputs": [],
   "source": [
    "# build linear model\n",
    "class LinearRegression(nn.Module):\n",
    "    \n",
    "    def __init__(self):\n",
    "        super(LinearRegression, self).__init__()\n",
    "        self.linear = nn.Linear(p, (grid[0] - 1) * grid[1] + (grid[1] - 1) * grid[0])\n",
    "    \n",
    "    def forward(self, x):\n",
    "        out = self.linear(x)\n",
    "        return out"
   ]
  },
  {
   "cell_type": "markdown",
   "id": "accessible-clerk",
   "metadata": {},
   "source": [
    "## Training "
   ]
  },
  {
   "cell_type": "code",
   "execution_count": 19,
   "id": "challenging-reservation",
   "metadata": {},
   "outputs": [],
   "source": [
    "from matplotlib import pyplot as plt"
   ]
  },
  {
   "cell_type": "code",
   "execution_count": 20,
   "id": "interior-secondary",
   "metadata": {},
   "outputs": [],
   "source": [
    "# init model\n",
    "lr = LinearRegression()\n",
    "# cuda\n",
    "if torch.cuda.is_available():\n",
    "    lr = lr.cuda()"
   ]
  },
  {
   "cell_type": "code",
   "execution_count": 21,
   "id": "asian-screening",
   "metadata": {},
   "outputs": [],
   "source": [
    "# set optimizer\n",
    "optimizer = torch.optim.Adam(lr.parameters(), lr=5e-2)"
   ]
  },
  {
   "cell_type": "code",
   "execution_count": 22,
   "id": "framed-classification",
   "metadata": {
    "scrolled": false
   },
   "outputs": [
    {
     "name": "stdout",
     "output_type": "stream",
     "text": [
      "epoch 10, loss:192.272568\n",
      "epoch 20, loss:209.176941\n",
      "epoch 30, loss:266.984344\n",
      "epoch 40, loss:29.586548\n",
      "epoch 50, loss:145.489792\n",
      "epoch 60, loss:29.033344\n",
      "epoch 70, loss:3.541790\n",
      "epoch 80, loss:17.058430\n",
      "epoch 90, loss:37.308788\n",
      "epoch 100, loss:8.608282\n",
      "epoch 110, loss:38.811169\n",
      "epoch 120, loss:5.664768\n",
      "epoch 130, loss:17.374430\n",
      "epoch 140, loss:11.749817\n",
      "epoch 150, loss:17.711752\n",
      "epoch 160, loss:7.716951\n",
      "epoch 170, loss:39.656551\n",
      "epoch 180, loss:16.951817\n",
      "epoch 190, loss:16.604370\n",
      "epoch 200, loss:12.655762\n",
      "epoch 210, loss:63.046459\n",
      "epoch 220, loss:4.155064\n",
      "epoch 230, loss:107.356453\n",
      "epoch 240, loss:8.903078\n",
      "epoch 250, loss:47.037708\n",
      "epoch 260, loss:2.454226\n",
      "epoch 270, loss:0.000003\n",
      "epoch 280, loss:4.296783\n",
      "epoch 290, loss:10.333696\n",
      "epoch 300, loss:35.982113\n",
      "epoch 310, loss:13.188059\n",
      "epoch 320, loss:6.557940\n",
      "epoch 330, loss:0.143017\n",
      "epoch 340, loss:7.608271\n",
      "epoch 350, loss:-0.000010\n",
      "epoch 360, loss:2.292063\n",
      "epoch 370, loss:5.347080\n",
      "epoch 380, loss:4.998237\n",
      "epoch 390, loss:36.448448\n",
      "epoch 400, loss:4.023964\n"
     ]
    }
   ],
   "source": [
    "# train model\n",
    "num_epochs = 400\n",
    "lr.train()\n",
    "loss_log = []\n",
    "for epoch in range(num_epochs):\n",
    "    # load data\n",
    "    for i, data in enumerate(sp_loader_train):\n",
    "        x, c, w, z = data\n",
    "        # cuda\n",
    "        if torch.cuda.is_available():\n",
    "            x, c, w, z = x.cuda(), c.cuda(), w.cuda(), z.cuda()\n",
    "        # forward pass\n",
    "        cp = lr(x)\n",
    "        loss = criterion.apply(sp_model, cp, c, w, z).mean()\n",
    "        # backward pass\n",
    "        optimizer.zero_grad()\n",
    "        loss.backward()\n",
    "        optimizer.step()\n",
    "    loss_log.append(loss.item())\n",
    "    if (epoch + 1) % 10 == 0:\n",
    "        print('epoch {}, loss:{:.6f}'.format(epoch+1, loss.item()))"
   ]
  },
  {
   "cell_type": "code",
   "execution_count": 23,
   "id": "cheap-thought",
   "metadata": {},
   "outputs": [
    {
     "data": {
      "image/png": "[encoded data removed]",
      "text/plain": [
       "<Figure size 864x432 with 1 Axes>"
      ]
     },
     "metadata": {
      "needs_background": "light"
     },
     "output_type": "display_data"
    }
   ],
   "source": [
    "# draw plot\n",
    "plt.figure(figsize=(12, 6))\n",
    "plt.plot(loss_log, color='c')\n",
    "plt.xlabel('Epoch')\n",
    "plt.ylabel('SPO+ Loss')\n",
    "plt.title('Learning Curve')\n",
    "plt.show()"
   ]
  },
  {
   "cell_type": "markdown",
   "id": "industrial-opposition",
   "metadata": {},
   "source": [
    "## Evaluation "
   ]
  },
  {
   "cell_type": "code",
   "execution_count": 24,
   "id": "precise-brunswick",
   "metadata": {},
   "outputs": [],
   "source": [
    "import numpy as np\n",
    "from evalm import SPOEval"
   ]
  },
  {
   "cell_type": "code",
   "execution_count": 25,
   "id": "scheduled-championship",
   "metadata": {},
   "outputs": [
    {
     "name": "stdout",
     "output_type": "stream",
     "text": [
      "Normalized SPO Loss: 0.42%\n"
     ]
    }
   ],
   "source": [
    "# evaluate\n",
    "spoloss = SPOEval(lr, sp_model, sp_loader_test)\n",
    "print('Normalized SPO Loss: {:.2f}%'.format(spoloss * 100))"
   ]
  },
  {
   "cell_type": "code",
   "execution_count": 26,
   "id": "communist-destiny",
   "metadata": {
    "scrolled": false
   },
   "outputs": [
    {
     "name": "stdout",
     "output_type": "stream",
     "text": [
      "Sample 0:\n",
      "    True cost: 35.78, 26.44, 82.00, 4.47, 120.99, 13.57, 9.10, 32.00, 14.31, 50.36, 13.57, 25.84, 5.78, 32.00, 10.80, 32.00, 2.86, 37.30, 22.91, 13.57, 25.84, 37.30, 59.39, 21.15, 105.33, 9.10, 10.80, 10.80, 54.85, 61.69, 44.51, 5.78, 44.51, 26.44, 82.00, 61.69, 9.10, 61.69, 18.65, 37.30\n",
      "    Pred cost: -86.09, -7.60, 7.75, -0.36, 86.14, -84.83, -21.55, 6.78, -1.28, 75.02, -13.34, -98.99, -23.34, 34.14, -19.19, 63.71, -86.11, -13.95, 38.53, -24.69, -34.31, -21.72, -3.03, 45.61, 49.39, -74.89, -22.44, 6.49, 31.23, 114.10, 15.54, -16.19, 25.93, -36.32, 22.27, -4.87, -16.81, 5.84, -26.52, 5.08\n",
      "    True sol: 1, 0, 0, 0, 0, 1, 0, 0, 0, 0, 1, 1, 0, 0, 0, 0, 1, 0, 0, 0, 0, 1, 0, 0, 0, 0, 1, 0, 0, 0, 0, 0, 0, 0, 0, 1, 0, 0, 0, 0, True obj: 201.43\n",
      "    Pred sol: 1, 0, 0, 0, 0, 1, 0, 0, 0, 0, 1, 1, 0, 0, 0, 0, 1, 0, 0, 0, 0, 0, 0, 0, 0, 1, 0, 0, 0, 0, 1, 0, 0, 0, 0, 1, 0, 0, 0, 0, Pred obj: 206.94\n",
      "\n",
      "Sample 1:\n",
      "    True cost: 1.41, 99.22, 82.00, 19.81, 13.06, 2.75, 12.75, 55.24, 9.98, 50.27, 2.75, 6.06, 8.38, 55.24, 7.29, 55.24, 61.13, 127.15, 137.13, 2.75, 6.06, 127.15, 25.07, 15.00, 28.89, 12.75, 7.29, 7.29, 89.19, 62.18, 73.40, 8.38, 73.40, 99.22, 82.00, 62.18, 12.75, 62.18, 220.73, 127.15\n",
      "    Pred cost: -131.08, 94.81, 74.74, 7.28, 132.68, -226.39, 55.36, 180.28, 5.15, 30.08, -75.78, -72.99, -77.08, 114.69, -114.57, 31.07, 27.19, -28.64, 118.62, -118.09, -109.61, -13.92, 16.76, 117.67, 3.54, -87.78, -30.37, -0.10, 103.30, 33.85, -27.05, 24.56, 22.34, 91.09, -25.78, -53.64, 23.46, 32.43, 109.14, 53.74\n",
      "    True sol: 1, 0, 0, 0, 0, 1, 0, 0, 0, 0, 0, 0, 0, 0, 1, 0, 0, 0, 0, 1, 1, 0, 0, 0, 0, 1, 0, 0, 0, 0, 1, 0, 0, 0, 0, 1, 0, 0, 0, 0, True obj: 168.59\n",
      "    Pred sol: 1, 0, 0, 0, 0, 1, 0, 0, 0, 0, 0, 0, 0, 0, 1, 0, 0, 0, 0, 1, 1, 0, 0, 0, 0, 1, 0, 0, 0, 0, 1, 0, 0, 0, 0, 1, 0, 0, 0, 0, Pred obj: 168.59\n",
      "\n",
      "Sample 2:\n",
      "    True cost: 50.78, 241.73, 82.00, 137.10, 103.22, 103.82, 55.84, 179.58, 70.51, 254.74, 103.82, 24.14, 97.25, 179.58, 145.60, 179.58, 76.99, 155.94, 104.88, 103.82, 24.14, 155.94, 189.99, 38.62, 144.83, 55.84, 145.60, 145.60, 51.40, 136.35, 111.84, 97.25, 111.84, 241.73, 82.00, 136.35, 55.84, 136.35, 146.98, 155.94\n",
      "    Pred cost: -51.11, 21.80, 42.49, -0.28, 49.70, -74.92, -18.05, 106.60, -0.37, 65.87, -10.65, -77.31, 32.24, -1.17, -6.57, 47.65, -57.17, 17.30, -32.61, 17.14, -53.24, 14.07, 62.87, -53.99, 102.81, -95.61, 25.27, 59.38, -28.23, 26.37, -20.67, 15.39, -0.44, 69.92, -50.95, -2.31, 14.78, 10.40, 72.91, 3.98\n",
      "    True sol: 1, 0, 0, 0, 0, 1, 0, 0, 0, 0, 1, 1, 0, 0, 0, 0, 1, 0, 0, 0, 0, 0, 0, 0, 0, 1, 0, 0, 0, 0, 0, 0, 0, 0, 1, 0, 0, 0, 0, 1, True obj: 653.33\n",
      "    Pred sol: 1, 0, 0, 0, 0, 1, 0, 0, 0, 0, 1, 1, 0, 0, 0, 0, 1, 0, 0, 0, 0, 0, 0, 0, 0, 1, 0, 0, 0, 0, 0, 0, 0, 0, 1, 0, 0, 0, 0, 1, Pred obj: 653.33\n",
      "\n",
      "Sample 3:\n",
      "    True cost: 52.69, 177.66, 82.00, 171.06, 55.40, 127.06, 255.85, 258.60, 75.89, 84.70, 127.06, 123.38, 249.84, 258.60, 80.95, 258.60, 329.09, 182.31, 468.93, 127.06, 123.38, 182.31, 132.33, 78.34, 31.77, 255.85, 80.95, 80.95, 252.30, 79.46, 264.77, 249.84, 264.77, 177.66, 82.00, 79.46, 255.85, 79.46, 339.86, 182.31\n",
      "    Pred cost: -21.80, 25.54, -6.12, -83.46, 21.74, -42.32, 49.88, 192.67, -85.29, -113.28, -2.38, 23.46, 57.38, 118.05, -120.11, 13.36, 71.50, -50.44, 100.34, -45.49, 26.11, -20.92, 43.82, 19.95, -64.44, 75.24, -58.22, -1.34, 37.08, -84.16, 38.39, 81.91, -46.64, 66.67, -44.09, -7.26, 81.41, 17.67, 71.29, 6.52\n",
      "    True sol: 0, 0, 0, 0, 1, 0, 0, 0, 0, 1, 0, 0, 0, 0, 1, 0, 0, 0, 0, 1, 0, 0, 0, 0, 1, 0, 0, 0, 0, 1, 0, 0, 0, 0, 1, 0, 0, 0, 0, 1, True obj: 723.65\n",
      "    Pred sol: 0, 0, 0, 0, 1, 0, 0, 0, 0, 1, 0, 0, 0, 0, 1, 0, 0, 0, 0, 1, 0, 0, 0, 0, 1, 0, 0, 0, 0, 1, 0, 0, 0, 0, 1, 0, 0, 0, 0, 1, Pred obj: 723.65\n",
      "\n",
      "Sample 4:\n",
      "    True cost: 336.30, 169.28, 82.00, 260.17, 224.97, 400.59, 261.36, 261.17, 214.04, 177.69, 400.59, 215.08, 385.02, 261.17, 271.78, 261.17, 161.30, 104.79, 162.01, 400.59, 215.08, 104.79, 272.81, 136.31, 143.34, 261.36, 271.78, 271.78, 130.02, 136.19, 170.15, 385.02, 170.15, 169.28, 82.00, 136.19, 261.36, 136.19, 99.16, 104.79\n",
      "    Pred cost: 49.34, -42.73, -29.22, -54.64, -51.28, 94.96, -28.01, 44.26, -54.68, -48.41, 45.62, 10.28, 127.47, -11.54, 8.76, 16.82, -28.47, 8.81, -38.03, 58.20, 56.07, -4.45, 40.89, -86.28, 16.02, 39.93, 3.20, 23.07, -56.66, -33.02, 41.16, 40.83, -48.99, -5.40, -31.89, 43.05, 40.93, -10.88, -14.19, -42.92\n",
      "    True sol: 0, 0, 0, 0, 1, 0, 0, 0, 0, 0, 0, 0, 0, 1, 0, 0, 0, 0, 1, 0, 0, 0, 0, 1, 0, 0, 0, 0, 1, 1, 0, 0, 0, 0, 1, 0, 0, 0, 0, 1, True obj: 1237.46\n",
      "    Pred sol: 0, 0, 0, 0, 1, 0, 0, 0, 0, 0, 0, 0, 0, 1, 0, 0, 0, 0, 1, 0, 0, 0, 0, 1, 0, 0, 0, 0, 1, 1, 0, 0, 0, 0, 1, 0, 0, 0, 0, 1, Pred obj: 1237.46\n",
      "\n",
      "Sample 5:\n",
      "    True cost: 24.08, 87.85, 82.00, 91.70, 22.71, 82.66, 199.20, 77.49, 27.64, 89.62, 82.66, 75.50, 80.99, 77.49, 93.53, 77.49, 216.63, 212.65, 189.10, 82.66, 75.50, 212.65, 79.10, 85.65, 26.81, 199.20, 93.53, 93.53, 70.68, 26.11, 192.26, 80.99, 192.26, 87.85, 82.00, 26.11, 199.20, 26.11, 209.24, 212.65\n",
      "    Pred cost: -1.30, 32.13, 7.32, -58.48, 0.70, -31.86, 41.18, 166.10, -59.21, -19.91, -22.68, 50.32, 36.03, 14.61, -23.28, -40.90, 98.98, -35.38, 15.78, -14.48, 27.85, 12.06, 2.14, 8.69, -67.56, 85.13, -27.61, -8.76, 6.74, -106.28, -31.19, 17.26, 4.37, 54.96, 2.40, -50.05, 16.80, 16.87, 59.17, 50.77\n",
      "    True sol: 1, 0, 0, 0, 0, 1, 0, 0, 0, 0, 1, 0, 0, 0, 0, 1, 0, 0, 0, 0, 0, 0, 0, 0, 1, 0, 0, 0, 0, 1, 1, 0, 0, 0, 0, 1, 0, 0, 0, 0, True obj: 538.19\n",
      "    Pred sol: 1, 0, 0, 0, 0, 1, 0, 0, 0, 0, 1, 0, 0, 0, 0, 1, 0, 0, 0, 0, 0, 0, 0, 0, 1, 0, 0, 0, 0, 1, 1, 0, 0, 0, 0, 1, 0, 0, 0, 0, Pred obj: 538.19\n",
      "\n",
      "Sample 6:\n",
      "    True cost: 179.52, 100.50, 82.00, 171.02, 106.20, 328.90, 371.83, 150.00, 83.19, 145.50, 328.90, 206.94, 243.58, 150.00, 237.08, 150.00, 197.48, 168.97, 174.01, 328.90, 206.94, 168.97, 210.09, 143.11, 68.57, 371.83, 237.08, 237.08, 84.92, 43.83, 240.90, 243.58, 240.90, 100.50, 82.00, 43.83, 371.83, 43.83, 118.34, 168.97\n",
      "    Pred cost: 54.82, -33.26, -39.46, -82.83, -56.89, 89.33, -1.91, 95.85, -82.76, -40.44, 31.29, 58.15, 112.15, -26.22, 20.56, -23.90, 46.84, -23.37, -40.37, 58.93, 91.93, 10.28, 17.79, -74.82, -42.09, 117.76, -19.17, 7.86, -57.80, -103.01, 7.37, 22.95, -22.62, 5.03, 0.52, -4.53, 22.91, -0.78, -0.24, 5.26\n",
      "    True sol: 0, 0, 0, 0, 1, 0, 0, 0, 0, 0, 0, 0, 0, 1, 0, 0, 0, 0, 1, 0, 0, 0, 0, 1, 0, 0, 0, 0, 1, 1, 0, 0, 0, 0, 1, 0, 0, 0, 0, 1, True obj: 953.05\n",
      "    Pred sol: 0, 0, 0, 0, 1, 0, 0, 0, 0, 0, 0, 0, 0, 1, 0, 0, 0, 0, 1, 0, 0, 0, 0, 1, 0, 0, 0, 0, 1, 1, 1, 0, 0, 0, 0, 1, 0, 0, 0, 0, Pred obj: 986.81\n",
      "\n",
      "Sample 7:\n",
      "    True cost: 26.58, 19.99, 82.00, 59.43, 7.10, 7.95, 11.25, 1.46, 133.04, 24.84, 7.95, 34.98, 6.09, 1.46, 70.46, 1.46, 74.72, 32.81, 1.96, 7.95, 34.98, 32.81, 1.80, 183.86, 65.56, 11.25, 70.46, 70.46, 7.80, 55.14, 2.53, 6.09, 2.53, 19.99, 82.00, 55.14, 11.25, 55.14, 26.76, 32.81\n",
      "    Pred cost: 77.50, 79.46, 102.96, 130.54, -75.97, 5.81, -4.49, -86.23, 130.95, 109.97, -77.31, 69.00, -5.92, -183.40, 165.38, -153.29, 52.30, 119.57, -118.23, -45.77, -112.88, 28.72, -126.46, 99.41, -49.90, -79.88, 120.09, -84.14, 40.56, 19.31, -112.28, -94.60, 45.09, -34.59, 56.31, -22.61, -94.02, -23.37, -43.71, 22.62\n",
      "    True sol: 0, 0, 0, 0, 1, 0, 0, 0, 0, 0, 0, 0, 0, 1, 0, 0, 0, 0, 1, 1, 1, 0, 0, 0, 0, 1, 0, 0, 0, 0, 1, 0, 0, 0, 0, 1, 0, 0, 0, 0, True obj: 122.37\n",
      "    Pred sol: 0, 0, 0, 0, 1, 0, 0, 0, 0, 0, 0, 0, 0, 1, 0, 0, 0, 0, 1, 1, 1, 0, 0, 0, 0, 1, 0, 0, 0, 0, 1, 0, 0, 0, 0, 1, 0, 0, 0, 0, Pred obj: 122.37\n",
      "\n",
      "Sample 8:\n",
      "    True cost: 47.45, 204.97, 82.00, 144.75, 74.42, 83.16, 48.50, 122.62, 88.97, 206.34, 83.16, 25.52, 82.47, 122.62, 145.80, 122.62, 90.66, 134.63, 75.25, 83.16, 25.52, 134.63, 123.55, 52.85, 132.36, 48.50, 145.80, 145.80, 42.32, 131.38, 75.89, 82.47, 75.89, 204.97, 82.00, 131.38, 48.50, 131.38, 133.64, 134.63\n",
      "    Pred cost: -29.86, 33.81, 55.21, 21.21, 28.88, -63.64, -15.17, 82.79, 21.21, 69.35, -21.21, -54.45, 29.40, -28.30, 17.66, 16.61, -39.40, 35.97, -47.10, 7.22, -66.28, 17.30, 38.22, -33.98, 82.63, -97.29, 43.09, 39.90, -18.69, 21.94, -35.33, 2.21, 3.28, 60.98, -40.73, -3.60, 1.79, 5.33, 61.66, 5.03\n",
      "    True sol: 1, 0, 0, 0, 0, 1, 0, 0, 0, 0, 1, 1, 0, 0, 0, 0, 1, 0, 0, 0, 0, 0, 0, 0, 0, 1, 0, 0, 0, 0, 1, 0, 0, 0, 0, 1, 0, 0, 0, 0, True obj: 585.71\n",
      "    Pred sol: 1, 0, 0, 0, 0, 1, 0, 0, 0, 0, 1, 1, 0, 0, 0, 0, 1, 0, 0, 0, 0, 0, 0, 0, 0, 1, 0, 0, 0, 0, 1, 0, 0, 0, 0, 1, 0, 0, 0, 0, Pred obj: 585.71\n",
      "\n",
      "Sample 9:\n",
      "    True cost: 47.95, 141.92, 82.00, 163.43, 39.63, 72.39, 65.63, 68.57, 116.86, 128.53, 72.39, 43.03, 81.10, 68.57, 148.52, 68.57, 150.82, 118.04, 62.09, 72.39, 43.03, 118.04, 60.91, 96.31, 89.99, 65.63, 148.52, 148.52, 40.47, 100.24, 55.00, 81.10, 55.00, 141.92, 82.00, 100.24, 65.63, 100.24, 130.59, 118.04\n",
      "    Pred cost: 13.98, 45.87, 58.96, 31.72, -14.34, -28.08, -0.98, 62.66, 31.68, 45.39, -31.31, 4.45, 36.19, -57.40, 43.07, -39.54, 13.97, 48.74, -55.47, -7.60, -58.87, 19.27, -2.60, -2.10, 20.12, -55.36, 53.59, 1.60, -3.11, -14.54, -49.20, -9.00, 2.75, 43.91, -19.66, -9.17, -9.11, -1.31, 40.88, 9.99\n",
      "    True sol: 0, 0, 0, 0, 1, 0, 0, 0, 0, 0, 0, 0, 0, 1, 0, 0, 0, 0, 1, 1, 1, 0, 0, 0, 0, 1, 0, 0, 0, 0, 1, 0, 0, 0, 0, 1, 0, 0, 0, 0, True obj: 506.57\n",
      "    Pred sol: 0, 0, 0, 0, 1, 0, 0, 0, 0, 0, 0, 0, 0, 1, 0, 0, 0, 0, 1, 1, 1, 0, 0, 0, 0, 1, 0, 0, 0, 0, 1, 0, 0, 0, 0, 1, 0, 0, 0, 0, Pred obj: 506.57\n",
      "\n"
     ]
    }
   ],
   "source": [
    "# compare solutions\n",
    "lr.eval()\n",
    "loss = []\n",
    "# load data\n",
    "for i, data in enumerate(sp_loader_test):\n",
    "    x, c, w, z = data\n",
    "    # cuda\n",
    "    if torch.cuda.is_available():\n",
    "        x, c, w, z = x.cuda(), c.cuda(), w.cuda(), z.cuda()\n",
    "    # predict\n",
    "    cp = lr(x)\n",
    "    # convert to numpy\n",
    "    c = c.to('cpu').detach().numpy().tolist()\n",
    "    w = w.to('cpu').detach().numpy().tolist()\n",
    "    z = z.to('cpu').detach().numpy().tolist()\n",
    "    cp = cp.to('cpu').detach().numpy().tolist()\n",
    "    for j in range(min(10, batch_size)):\n",
    "        print('Sample {}:'.format(j))\n",
    "        print('    True cost:', ', '.join(['{:.2f}'.format(cost) for cost in c[j]]))\n",
    "        print('    Pred cost:', ', '.join(['{:.2f}'.format(cost) for cost in cp[j]]))\n",
    "        # solve cost from prediction\n",
    "        sp_model.setObj(cp[j])\n",
    "        wpj, _ = sp_model.solve()\n",
    "        zpj = np.dot(c[j], wpj)\n",
    "        print('    True sol: ' + ', '.join(['{:.0f}'.format(x) for x in w[j]]) + ', True obj: {:.2f}'.format(z[j][0]))\n",
    "        print('    Pred sol: '+  ', '.join(['{:.0f}'.format(x) for x in wpj]) + ', Pred obj: {:.2f}'.format(zpj))\n",
    "        print()\n",
    "    break"
   ]
  },
  {
   "cell_type": "markdown",
   "id": "alternative-brother",
   "metadata": {},
   "source": [
    "##  Training with Regularization"
   ]
  },
  {
   "cell_type": "code",
   "execution_count": 27,
   "id": "driven-surveillance",
   "metadata": {},
   "outputs": [],
   "source": [
    "# init model\n",
    "lr = LinearRegression()\n",
    "# cuda\n",
    "if torch.cuda.is_available():\n",
    "    lr = lr.cuda()"
   ]
  },
  {
   "cell_type": "code",
   "execution_count": 28,
   "id": "annual-fortune",
   "metadata": {},
   "outputs": [],
   "source": [
    "# set optimizer\n",
    "optimizer = torch.optim.Adam(lr.parameters(), lr=5e-2)"
   ]
  },
  {
   "cell_type": "code",
   "execution_count": 29,
   "id": "characteristic-gender",
   "metadata": {
    "scrolled": false
   },
   "outputs": [
    {
     "name": "stdout",
     "output_type": "stream",
     "text": [
      "epoch 10, loss:435.812866\n",
      "epoch 20, loss:188.950256\n",
      "epoch 30, loss:54.736389\n",
      "epoch 40, loss:27.189278\n",
      "epoch 50, loss:218.383179\n",
      "epoch 60, loss:211.306473\n",
      "epoch 70, loss:96.737091\n",
      "epoch 80, loss:44.430080\n",
      "epoch 90, loss:19.324621\n",
      "epoch 100, loss:29.646666\n",
      "epoch 110, loss:56.940445\n",
      "epoch 120, loss:15.925373\n",
      "epoch 130, loss:9.182632\n",
      "epoch 140, loss:5.236084\n",
      "epoch 150, loss:12.503305\n",
      "epoch 160, loss:18.873005\n",
      "epoch 170, loss:10.091366\n",
      "epoch 180, loss:4.810089\n",
      "epoch 190, loss:22.246778\n",
      "epoch 200, loss:17.075768\n",
      "epoch 210, loss:64.376740\n",
      "epoch 220, loss:41.907444\n",
      "epoch 230, loss:12.115189\n",
      "epoch 240, loss:6.067026\n",
      "epoch 250, loss:9.341072\n",
      "epoch 260, loss:23.970221\n",
      "epoch 270, loss:9.893564\n",
      "epoch 280, loss:22.652517\n",
      "epoch 290, loss:3.605138\n",
      "epoch 300, loss:8.642661\n",
      "epoch 310, loss:11.656921\n",
      "epoch 320, loss:42.989876\n",
      "epoch 330, loss:45.268669\n",
      "epoch 340, loss:75.793785\n",
      "epoch 350, loss:29.151173\n",
      "epoch 360, loss:26.443237\n",
      "epoch 370, loss:7.588282\n",
      "epoch 380, loss:12.363247\n",
      "epoch 390, loss:21.268200\n",
      "epoch 400, loss:29.475693\n"
     ]
    }
   ],
   "source": [
    "# train model\n",
    "num_epochs = 400\n",
    "lr.train()\n",
    "loss_log = []\n",
    "for epoch in range(num_epochs):\n",
    "    # load data\n",
    "    for i, data in enumerate(sp_loader_train):\n",
    "        x, c, w, z = data\n",
    "        # cuda\n",
    "        if torch.cuda.is_available():\n",
    "            x, c, w, z = x.cuda(), c.cuda(), w.cuda(), z.cuda()\n",
    "        # forward pass\n",
    "        cp = lr(x)\n",
    "        loss = criterion.apply(sp_model, cp, c, w, z).mean()\n",
    "        # l1 reg\n",
    "        l1_lambda = 1e-3\n",
    "        l1_reg = torch.abs(cp - c).sum(dim=1).mean()\n",
    "        loss += l1_lambda * l1_reg\n",
    "        # backward pass\n",
    "        optimizer.zero_grad()\n",
    "        loss.backward()\n",
    "        optimizer.step()\n",
    "    loss_log.append(loss.item())\n",
    "    if (epoch + 1) % 10 == 0:\n",
    "        print('epoch {}, loss:{:.6f}'.format(epoch+1, loss.item()))"
   ]
  },
  {
   "cell_type": "code",
   "execution_count": 30,
   "id": "closed-companion",
   "metadata": {},
   "outputs": [
    {
     "data": {
      "image/png": "[encoded data removed]",
      "text/plain": [
       "<Figure size 864x432 with 1 Axes>"
      ]
     },
     "metadata": {
      "needs_background": "light"
     },
     "output_type": "display_data"
    }
   ],
   "source": [
    "# draw plot\n",
    "plt.figure(figsize=(12, 6))\n",
    "plt.plot(loss_log, color='c')\n",
    "plt.xlabel('Epoch')\n",
    "plt.ylabel('SPO+ Loss with Regularization')\n",
    "plt.title('Learning Curve')\n",
    "plt.show()"
   ]
  },
  {
   "cell_type": "markdown",
   "id": "progressive-benefit",
   "metadata": {},
   "source": [
    "## Evaluation "
   ]
  },
  {
   "cell_type": "code",
   "execution_count": 31,
   "id": "julian-stone",
   "metadata": {},
   "outputs": [
    {
     "name": "stdout",
     "output_type": "stream",
     "text": [
      "Normalized SPO Loss: 0.47%\n"
     ]
    }
   ],
   "source": [
    "# evaluate\n",
    "spoloss = SPOEval(lr, sp_model, sp_loader_test)\n",
    "print('Normalized SPO Loss: {:.2f}%'.format(spoloss * 100))"
   ]
  },
  {
   "cell_type": "code",
   "execution_count": 32,
   "id": "presidential-vehicle",
   "metadata": {
    "scrolled": false
   },
   "outputs": [
    {
     "name": "stdout",
     "output_type": "stream",
     "text": [
      "Sample 0:\n",
      "    True cost: 35.78, 26.44, 82.00, 4.47, 120.99, 13.57, 9.10, 32.00, 14.31, 50.36, 13.57, 25.84, 5.78, 32.00, 10.80, 32.00, 2.86, 37.30, 22.91, 13.57, 25.84, 37.30, 59.39, 21.15, 105.33, 9.10, 10.80, 10.80, 54.85, 61.69, 44.51, 5.78, 44.51, 26.44, 82.00, 61.69, 9.10, 61.69, 18.65, 37.30\n",
      "    Pred cost: -92.12, -10.04, 8.83, 4.04, 92.38, -91.70, -23.11, -21.29, 6.38, 72.74, -10.28, -88.03, -40.03, 27.52, -24.41, 64.92, -90.76, -12.42, 39.79, -24.00, -32.21, -21.70, -8.95, 38.51, 60.61, -76.40, -24.75, -0.11, 36.64, 110.71, 20.20, -17.82, 15.60, -36.29, 34.77, 4.09, -22.19, 1.68, -37.36, 2.20\n",
      "    True sol: 1, 0, 0, 0, 0, 1, 0, 0, 0, 0, 1, 1, 0, 0, 0, 0, 1, 0, 0, 0, 0, 1, 0, 0, 0, 0, 1, 0, 0, 0, 0, 0, 0, 0, 0, 1, 0, 0, 0, 0, True obj: 201.43\n",
      "    Pred sol: 1, 0, 0, 0, 0, 1, 0, 0, 0, 0, 1, 1, 0, 0, 0, 0, 1, 0, 0, 0, 0, 0, 0, 0, 0, 1, 0, 0, 0, 0, 1, 0, 0, 0, 0, 1, 0, 0, 0, 0, Pred obj: 206.94\n",
      "\n",
      "Sample 1:\n",
      "    True cost: 1.41, 99.22, 82.00, 19.81, 13.06, 2.75, 12.75, 55.24, 9.98, 50.27, 2.75, 6.06, 8.38, 55.24, 7.29, 55.24, 61.13, 127.15, 137.13, 2.75, 6.06, 127.15, 25.07, 15.00, 28.89, 12.75, 7.29, 7.29, 89.19, 62.18, 73.40, 8.38, 73.40, 99.22, 82.00, 62.18, 12.75, 62.18, 220.73, 127.15\n",
      "    Pred cost: -145.33, 87.31, 61.08, -1.48, 123.27, -226.74, 49.35, 79.80, -2.71, 20.66, -81.78, -70.48, -51.71, 110.43, -117.52, 33.93, 27.51, -28.65, 115.54, -127.97, -118.51, -3.88, 22.73, 102.99, 7.35, -96.26, -48.12, 2.07, 104.37, 36.35, -20.61, 23.98, 12.39, 99.99, -24.21, -56.32, 22.53, 29.01, 117.94, 62.34\n",
      "    True sol: 1, 0, 0, 0, 0, 1, 0, 0, 0, 0, 0, 0, 0, 0, 1, 0, 0, 0, 0, 1, 1, 0, 0, 0, 0, 1, 0, 0, 0, 0, 1, 0, 0, 0, 0, 1, 0, 0, 0, 0, True obj: 168.59\n",
      "    Pred sol: 1, 0, 0, 0, 0, 1, 0, 0, 0, 0, 0, 0, 0, 0, 1, 0, 0, 0, 0, 1, 1, 0, 0, 0, 0, 1, 0, 0, 0, 0, 1, 0, 0, 0, 0, 1, 0, 0, 0, 0, Pred obj: 168.59\n",
      "\n",
      "Sample 2:\n",
      "    True cost: 50.78, 241.73, 82.00, 137.10, 103.22, 103.82, 55.84, 179.58, 70.51, 254.74, 103.82, 24.14, 97.25, 179.58, 145.60, 179.58, 76.99, 155.94, 104.88, 103.82, 24.14, 155.94, 189.99, 38.62, 144.83, 55.84, 145.60, 145.60, 51.40, 136.35, 111.84, 97.25, 111.84, 241.73, 82.00, 136.35, 55.84, 136.35, 146.98, 155.94\n",
      "    Pred cost: -53.72, 28.33, 45.78, 11.62, 55.11, -69.81, -19.54, 97.71, 9.73, 71.49, -8.06, -80.08, 42.01, 4.45, -1.82, 52.99, -52.11, 27.26, -29.78, 11.80, -58.26, 5.21, 68.54, -48.21, 108.37, -87.41, 21.08, 64.65, -21.66, 24.15, -12.31, 21.28, 7.93, 68.96, -52.72, -3.94, 16.78, 17.59, 77.99, 10.37\n",
      "    True sol: 1, 0, 0, 0, 0, 1, 0, 0, 0, 0, 1, 1, 0, 0, 0, 0, 1, 0, 0, 0, 0, 0, 0, 0, 0, 1, 0, 0, 0, 0, 0, 0, 0, 0, 1, 0, 0, 0, 0, 1, True obj: 653.33\n",
      "    Pred sol: 1, 0, 0, 0, 0, 1, 0, 0, 0, 0, 1, 1, 0, 0, 0, 0, 1, 0, 0, 0, 0, 0, 0, 0, 0, 1, 0, 0, 0, 0, 0, 0, 0, 0, 1, 0, 0, 0, 0, 1, Pred obj: 653.33\n",
      "\n",
      "Sample 3:\n",
      "    True cost: 52.69, 177.66, 82.00, 171.06, 55.40, 127.06, 255.85, 258.60, 75.89, 84.70, 127.06, 123.38, 249.84, 258.60, 80.95, 258.60, 329.09, 182.31, 468.93, 127.06, 123.38, 182.31, 132.33, 78.34, 31.77, 255.85, 80.95, 80.95, 252.30, 79.46, 264.77, 249.84, 264.77, 177.66, 82.00, 79.46, 255.85, 79.46, 339.86, 182.31\n",
      "    Pred cost: -15.65, 30.88, -16.79, -72.81, 23.58, -27.90, 73.25, 136.45, -77.31, -102.01, 1.51, 41.03, 99.25, 130.04, -106.60, 28.98, 75.08, -34.66, 110.91, -41.58, 33.28, -5.08, 63.80, 18.75, -61.18, 76.76, -53.58, 19.60, 45.96, -69.14, 42.04, 90.16, -29.71, 83.99, -42.95, -9.25, 94.12, 20.24, 90.64, 22.38\n",
      "    True sol: 0, 0, 0, 0, 1, 0, 0, 0, 0, 1, 0, 0, 0, 0, 1, 0, 0, 0, 0, 1, 0, 0, 0, 0, 1, 0, 0, 0, 0, 1, 0, 0, 0, 0, 1, 0, 0, 0, 0, 1, True obj: 723.65\n",
      "    Pred sol: 0, 0, 0, 0, 1, 0, 0, 0, 0, 1, 0, 0, 0, 0, 1, 0, 0, 0, 0, 1, 0, 0, 0, 0, 1, 0, 0, 0, 0, 1, 0, 0, 0, 0, 1, 0, 0, 0, 0, 1, Pred obj: 723.65\n",
      "\n",
      "Sample 4:\n",
      "    True cost: 336.30, 169.28, 82.00, 260.17, 224.97, 400.59, 261.36, 261.17, 214.04, 177.69, 400.59, 215.08, 385.02, 261.17, 271.78, 261.17, 161.30, 104.79, 162.01, 400.59, 215.08, 104.79, 272.81, 136.31, 143.34, 261.36, 271.78, 271.78, 130.02, 136.19, 170.15, 385.02, 170.15, 169.28, 82.00, 136.19, 261.36, 136.19, 99.16, 104.79\n",
      "    Pred cost: 63.44, -29.69, -25.02, -31.65, -35.67, 107.08, -3.61, 75.54, -33.35, -29.69, 56.62, 24.61, 139.86, 3.01, 23.00, 31.41, -25.25, 25.69, -25.56, 69.23, 70.17, -4.63, 54.38, -73.19, 22.92, 54.58, 18.99, 41.44, -44.57, -24.81, 45.79, 52.66, -26.19, 2.16, -28.40, 48.02, 51.71, -1.23, -6.08, -35.86\n",
      "    True sol: 0, 0, 0, 0, 1, 0, 0, 0, 0, 0, 0, 0, 0, 1, 0, 0, 0, 0, 1, 0, 0, 0, 0, 1, 0, 0, 0, 0, 1, 1, 0, 0, 0, 0, 1, 0, 0, 0, 0, 1, True obj: 1237.46\n",
      "    Pred sol: 0, 0, 0, 0, 1, 0, 0, 0, 0, 0, 0, 0, 0, 1, 0, 0, 0, 0, 1, 0, 0, 0, 0, 1, 0, 0, 0, 0, 1, 1, 0, 0, 0, 0, 1, 0, 0, 0, 0, 1, Pred obj: 1237.46\n",
      "\n",
      "Sample 5:\n",
      "    True cost: 24.08, 87.85, 82.00, 91.70, 22.71, 82.66, 199.20, 77.49, 27.64, 89.62, 82.66, 75.50, 80.99, 77.49, 93.53, 77.49, 216.63, 212.65, 189.10, 82.66, 75.50, 212.65, 79.10, 85.65, 26.81, 199.20, 93.53, 93.53, 70.68, 26.11, 192.26, 80.99, 192.26, 87.85, 82.00, 26.11, 199.20, 26.11, 209.24, 212.65\n",
      "    Pred cost: -2.26, 29.11, 3.49, -57.79, 2.61, -20.19, 50.59, 94.32, -61.29, -8.36, -17.40, 56.88, 56.09, 23.42, -9.69, -31.40, 98.72, -21.96, 25.28, -9.19, 36.94, 29.28, 16.47, 14.64, -63.20, 90.20, -25.04, 9.57, 13.52, -98.06, -25.03, 27.40, 13.00, 68.03, 5.08, -54.85, 37.80, 17.36, 76.45, 67.02\n",
      "    True sol: 1, 0, 0, 0, 0, 1, 0, 0, 0, 0, 1, 0, 0, 0, 0, 1, 0, 0, 0, 0, 0, 0, 0, 0, 1, 0, 0, 0, 0, 1, 1, 0, 0, 0, 0, 1, 0, 0, 0, 0, True obj: 538.19\n",
      "    Pred sol: 1, 0, 0, 0, 0, 1, 0, 0, 0, 0, 1, 0, 0, 0, 0, 1, 0, 0, 0, 0, 0, 0, 0, 0, 1, 0, 0, 0, 0, 1, 1, 0, 0, 0, 0, 1, 0, 0, 0, 0, Pred obj: 538.19\n",
      "\n",
      "Sample 6:\n",
      "    True cost: 179.52, 100.50, 82.00, 171.02, 106.20, 328.90, 371.83, 150.00, 83.19, 145.50, 328.90, 206.94, 243.58, 150.00, 237.08, 150.00, 197.48, 168.97, 174.01, 328.90, 206.94, 168.97, 210.09, 143.11, 68.57, 371.83, 237.08, 237.08, 84.92, 43.83, 240.90, 243.58, 240.90, 100.50, 82.00, 43.83, 371.83, 43.83, 118.34, 168.97\n",
      "    Pred cost: 64.81, -27.24, -34.89, -67.44, -43.95, 103.72, 18.40, 82.90, -70.68, -18.75, 43.39, 70.71, 121.77, -11.79, 38.70, -10.69, 47.43, -3.66, -25.18, 71.56, 108.74, 20.51, 32.15, -59.53, -35.29, 130.98, -3.34, 28.70, -46.39, -94.17, 12.50, 36.08, -2.71, 15.31, 5.43, -4.62, 44.75, 3.95, 12.47, 18.55\n",
      "    True sol: 0, 0, 0, 0, 1, 0, 0, 0, 0, 0, 0, 0, 0, 1, 0, 0, 0, 0, 1, 0, 0, 0, 0, 1, 0, 0, 0, 0, 1, 1, 0, 0, 0, 0, 1, 0, 0, 0, 0, 1, True obj: 953.05\n",
      "    Pred sol: 0, 0, 0, 0, 1, 0, 0, 0, 0, 0, 0, 0, 0, 1, 0, 0, 0, 0, 1, 0, 0, 0, 0, 1, 0, 0, 0, 0, 1, 1, 1, 0, 0, 0, 0, 1, 0, 0, 0, 0, Pred obj: 986.81\n",
      "\n",
      "Sample 7:\n",
      "    True cost: 26.58, 19.99, 82.00, 59.43, 7.10, 7.95, 11.25, 1.46, 133.04, 24.84, 7.95, 34.98, 6.09, 1.46, 70.46, 1.46, 74.72, 32.81, 1.96, 7.95, 34.98, 32.81, 1.80, 183.86, 65.56, 11.25, 70.46, 70.46, 7.80, 55.14, 2.53, 6.09, 2.53, 19.99, 82.00, 55.14, 11.25, 55.14, 26.76, 32.81\n",
      "    Pred cost: 70.98, 65.90, 98.36, 109.79, -73.91, 2.81, -6.79, -99.37, 116.76, 104.02, -76.11, 60.35, -13.50, -184.36, 165.80, -151.91, 44.81, 105.98, -123.45, -32.77, -95.12, 39.30, -120.77, 107.00, -45.92, -66.79, 114.86, -68.23, 40.15, 19.10, -103.77, -80.92, 32.88, -24.30, 61.17, -14.47, -81.14, -14.57, -35.66, 20.82\n",
      "    True sol: 0, 0, 0, 0, 1, 0, 0, 0, 0, 0, 0, 0, 0, 1, 0, 0, 0, 0, 1, 1, 1, 0, 0, 0, 0, 1, 0, 0, 0, 0, 1, 0, 0, 0, 0, 1, 0, 0, 0, 0, True obj: 122.37\n",
      "    Pred sol: 0, 0, 0, 0, 1, 0, 0, 0, 0, 0, 0, 0, 0, 1, 0, 0, 0, 0, 1, 1, 1, 0, 0, 0, 0, 1, 0, 0, 0, 0, 1, 0, 0, 0, 0, 1, 0, 0, 0, 0, Pred obj: 122.37\n",
      "\n",
      "Sample 8:\n",
      "    True cost: 47.45, 204.97, 82.00, 144.75, 74.42, 83.16, 48.50, 122.62, 88.97, 206.34, 83.16, 25.52, 82.47, 122.62, 145.80, 122.62, 90.66, 134.63, 75.25, 83.16, 25.52, 134.63, 123.55, 52.85, 132.36, 48.50, 145.80, 145.80, 42.32, 131.38, 75.89, 82.47, 75.89, 204.97, 82.00, 131.38, 48.50, 131.38, 133.64, 134.63\n",
      "    Pred cost: -32.73, 37.96, 56.97, 28.58, 33.55, -59.08, -16.40, 75.03, 27.84, 73.35, -19.08, -58.75, 39.11, -22.94, 22.18, 21.76, -35.56, 42.56, -45.61, 4.24, -68.35, 10.84, 44.83, -27.54, 87.48, -87.91, 38.44, 47.65, -13.16, 20.34, -26.79, 9.70, 9.69, 61.91, -42.49, -4.20, 5.46, 13.64, 68.31, 10.58\n",
      "    True sol: 1, 0, 0, 0, 0, 1, 0, 0, 0, 0, 1, 1, 0, 0, 0, 0, 1, 0, 0, 0, 0, 0, 0, 0, 0, 1, 0, 0, 0, 0, 1, 0, 0, 0, 0, 1, 0, 0, 0, 0, True obj: 585.71\n",
      "    Pred sol: 1, 0, 0, 0, 0, 1, 0, 0, 0, 0, 1, 1, 0, 0, 0, 0, 1, 0, 0, 0, 0, 0, 0, 0, 0, 1, 0, 0, 0, 0, 0, 0, 0, 0, 1, 0, 0, 0, 0, 1, Pred obj: 595.08\n",
      "\n",
      "Sample 9:\n",
      "    True cost: 47.95, 141.92, 82.00, 163.43, 39.63, 72.39, 65.63, 68.57, 116.86, 128.53, 72.39, 43.03, 81.10, 68.57, 148.52, 68.57, 150.82, 118.04, 62.09, 72.39, 43.03, 118.04, 60.91, 96.31, 89.99, 65.63, 148.52, 148.52, 40.47, 100.24, 55.00, 81.10, 55.00, 141.92, 82.00, 100.24, 65.63, 100.24, 130.59, 118.04\n",
      "    Pred cost: 12.73, 46.28, 57.40, 32.74, -10.44, -22.03, 2.65, 48.62, 33.02, 49.71, -28.62, 1.39, 49.22, -50.66, 49.95, -32.82, 15.50, 52.64, -53.54, -4.55, -53.34, 21.10, 7.85, 5.86, 23.82, -44.46, 51.26, 16.28, 1.69, -12.36, -41.14, 1.86, 8.63, 50.59, -20.53, -8.72, 0.81, 7.65, 52.41, 16.61\n",
      "    True sol: 0, 0, 0, 0, 1, 0, 0, 0, 0, 0, 0, 0, 0, 1, 0, 0, 0, 0, 1, 1, 1, 0, 0, 0, 0, 1, 0, 0, 0, 0, 1, 0, 0, 0, 0, 1, 0, 0, 0, 0, True obj: 506.57\n",
      "    Pred sol: 0, 0, 0, 0, 1, 0, 0, 0, 0, 0, 0, 0, 0, 1, 0, 0, 0, 0, 1, 1, 1, 0, 0, 0, 0, 1, 0, 0, 0, 0, 1, 0, 0, 0, 0, 1, 0, 0, 0, 0, Pred obj: 506.57\n",
      "\n"
     ]
    }
   ],
   "source": [
    "# compare solutions\n",
    "lr.eval()\n",
    "loss = []\n",
    "# load data\n",
    "for i, data in enumerate(sp_loader_test):\n",
    "    x, c, w, z = data\n",
    "    # cuda\n",
    "    if torch.cuda.is_available():\n",
    "        x, c, w, z = x.cuda(), c.cuda(), w.cuda(), z.cuda()\n",
    "    # predict\n",
    "    cp = lr(x)\n",
    "    # convert to numpy\n",
    "    c = c.to('cpu').detach().numpy().tolist()\n",
    "    w = w.to('cpu').detach().numpy().tolist()\n",
    "    z = z.to('cpu').detach().numpy().tolist()\n",
    "    cp = cp.to('cpu').detach().numpy().tolist()\n",
    "    for j in range(min(10, batch_size)):\n",
    "        print('Sample {}:'.format(j))\n",
    "        print('    True cost:', ', '.join(['{:.2f}'.format(cost) for cost in c[j]]))\n",
    "        print('    Pred cost:', ', '.join(['{:.2f}'.format(cost) for cost in cp[j]]))\n",
    "        # solve cost from prediction\n",
    "        sp_model.setObj(cp[j])\n",
    "        wpj, _ = sp_model.solve()\n",
    "        zpj = np.dot(c[j], wpj)\n",
    "        print('    True sol: ' + ', '.join(['{:.0f}'.format(x) for x in w[j]]) + ', True obj: {:.2f}'.format(z[j][0]))\n",
    "        print('    Pred sol: '+  ', '.join(['{:.0f}'.format(x) for x in wpj]) + ', Pred obj: {:.2f}'.format(zpj))\n",
    "        print()\n",
    "    break"
   ]
  },
  {
   "cell_type": "code",
   "execution_count": null,
   "id": "premium-namibia",
   "metadata": {},
   "outputs": [],
   "source": []
  }
 ],
 "metadata": {
  "kernelspec": {
   "display_name": "Python 3",
   "language": "python",
   "name": "python3"
  },
  "language_info": {
   "codemirror_mode": {
    "name": "ipython",
    "version": 3
   },
   "file_extension": ".py",
   "mimetype": "text/x-python",
   "name": "python",
   "nbconvert_exporter": "python",
   "pygments_lexer": "ipython3",
   "version": "3.7.10"
  }
 },
 "nbformat": 4,
 "nbformat_minor": 5
}
