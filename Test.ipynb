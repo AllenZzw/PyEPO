{
 "cells": [
  {
   "cell_type": "markdown",
   "id": "naval-blade",
   "metadata": {},
   "source": [
    "## Optimization model "
   ]
  },
  {
   "cell_type": "code",
   "execution_count": 1,
   "id": "accredited-pearl",
   "metadata": {},
   "outputs": [],
   "source": [
    "from model import shortestPathModel"
   ]
  },
  {
   "cell_type": "code",
   "execution_count": 2,
   "id": "declared-brunswick",
   "metadata": {},
   "outputs": [
    {
     "name": "stdout",
     "output_type": "stream",
     "text": [
      "Academic license - for non-commercial use only - expires 2021-04-13\n",
      "Using license file C:\\Users\\Apocrypse\\gurobi.lic\n"
     ]
    }
   ],
   "source": [
    "# model for shortest path\n",
    "grid = (5,5)\n",
    "sp_model = shortestPathModel(grid)"
   ]
  },
  {
   "cell_type": "code",
   "execution_count": 3,
   "id": "precious-employee",
   "metadata": {},
   "outputs": [
    {
     "name": "stdout",
     "output_type": "stream",
     "text": [
      "Obj: 8.0\n",
      "(0, 1)\n",
      "(1, 2)\n",
      "(2, 3)\n",
      "(3, 4)\n",
      "(4, 9)\n",
      "(9, 14)\n",
      "(14, 19)\n",
      "(19, 24)\n"
     ]
    }
   ],
   "source": [
    "# solve\n",
    "sp_model.setObj([1 for i in range(40)])\n",
    "sol, obj = sp_model.solve()\n",
    "print('Obj: {}'.format(obj))\n",
    "for i, e in enumerate(sp_model.arcs):\n",
    "    if sol[i] > 1e-3:\n",
    "        print(e)"
   ]
  },
  {
   "cell_type": "markdown",
   "id": "directed-consultancy",
   "metadata": {},
   "source": [
    "## Data Loader"
   ]
  },
  {
   "cell_type": "code",
   "execution_count": 4,
   "id": "little-diversity",
   "metadata": {},
   "outputs": [],
   "source": [
    "from data import shortestpath, dataset\n",
    "from sklearn.model_selection import train_test_split\n",
    "from torch.utils.data import DataLoader"
   ]
  },
  {
   "cell_type": "code",
   "execution_count": 5,
   "id": "relative-cherry",
   "metadata": {},
   "outputs": [],
   "source": [
    "# generate data for grid network (features and costs)\n",
    "n = 1000\n",
    "p = 5\n",
    "x, c = shortestpath.genData(n, p, grid)"
   ]
  },
  {
   "cell_type": "code",
   "execution_count": 6,
   "id": "regulated-freeware",
   "metadata": {},
   "outputs": [],
   "source": [
    "# data split\n",
    "x_train, x_test, c_train, c_test = train_test_split(x, c, test_size=0.2, random_state=246)"
   ]
  },
  {
   "cell_type": "code",
   "execution_count": 7,
   "id": "human-praise",
   "metadata": {},
   "outputs": [
    {
     "name": "stdout",
     "output_type": "stream",
     "text": [
      "Optimizing...\n"
     ]
    },
    {
     "name": "stderr",
     "output_type": "stream",
     "text": [
      "100%|███████████████████████████████████████████████████████████████████████| 800/800 [00:02<00:00, 354.25it/s]\n"
     ]
    }
   ],
   "source": [
    "# get training data set\n",
    "sp_dataset_train = dataset.optDataset(sp_model, x_train, c_train)"
   ]
  },
  {
   "cell_type": "code",
   "execution_count": 8,
   "id": "immune-interpretation",
   "metadata": {},
   "outputs": [
    {
     "name": "stdout",
     "output_type": "stream",
     "text": [
      "Optimizing...\n"
     ]
    },
    {
     "name": "stderr",
     "output_type": "stream",
     "text": [
      "100%|███████████████████████████████████████████████████████████████████████| 200/200 [00:00<00:00, 347.23it/s]\n"
     ]
    }
   ],
   "source": [
    "# get training data set\n",
    "sp_dataset_test = dataset.optDataset(sp_model, x_test, c_test)"
   ]
  },
  {
   "cell_type": "code",
   "execution_count": 9,
   "id": "incident-kinase",
   "metadata": {},
   "outputs": [],
   "source": [
    "# get data loader\n",
    "sp_loader_train = DataLoader(sp_dataset_train, batch_size=32, shuffle=True)\n",
    "sp_loader_test = DataLoader(sp_dataset_test, batch_size=32, shuffle=False)"
   ]
  },
  {
   "cell_type": "code",
   "execution_count": 10,
   "id": "intellectual-softball",
   "metadata": {},
   "outputs": [],
   "source": [
    "for i, data in enumerate(sp_loader_train):\n",
    "    x, c, w, z = data\n",
    "    break"
   ]
  },
  {
   "cell_type": "code",
   "execution_count": 11,
   "id": "instant-polymer",
   "metadata": {},
   "outputs": [
    {
     "data": {
      "text/plain": [
       "torch.Size([32, 5])"
      ]
     },
     "execution_count": 11,
     "metadata": {},
     "output_type": "execute_result"
    }
   ],
   "source": [
    "x.shape"
   ]
  },
  {
   "cell_type": "code",
   "execution_count": 12,
   "id": "known-framing",
   "metadata": {},
   "outputs": [
    {
     "data": {
      "text/plain": [
       "torch.Size([32, 40])"
      ]
     },
     "execution_count": 12,
     "metadata": {},
     "output_type": "execute_result"
    }
   ],
   "source": [
    "c.shape"
   ]
  },
  {
   "cell_type": "code",
   "execution_count": 13,
   "id": "partial-algeria",
   "metadata": {},
   "outputs": [
    {
     "data": {
      "text/plain": [
       "torch.Size([32, 40])"
      ]
     },
     "execution_count": 13,
     "metadata": {},
     "output_type": "execute_result"
    }
   ],
   "source": [
    "w.shape"
   ]
  },
  {
   "cell_type": "code",
   "execution_count": 14,
   "id": "known-contemporary",
   "metadata": {},
   "outputs": [
    {
     "data": {
      "text/plain": [
       "torch.Size([32, 1])"
      ]
     },
     "execution_count": 14,
     "metadata": {},
     "output_type": "execute_result"
    }
   ],
   "source": [
    "z.shape"
   ]
  },
  {
   "cell_type": "markdown",
   "id": "sacred-consequence",
   "metadata": {},
   "source": [
    "## Loss Function"
   ]
  },
  {
   "cell_type": "code",
   "execution_count": 15,
   "id": "authentic-boring",
   "metadata": {},
   "outputs": [],
   "source": [
    "from loss import SPOPlusLoss"
   ]
  },
  {
   "cell_type": "code",
   "execution_count": 16,
   "id": "directed-composition",
   "metadata": {},
   "outputs": [],
   "source": [
    "# init SPO+ loss\n",
    "criterion = SPOPlusLoss()"
   ]
  },
  {
   "cell_type": "markdown",
   "id": "technological-queue",
   "metadata": {},
   "source": [
    "## Linear Regression "
   ]
  },
  {
   "cell_type": "code",
   "execution_count": 17,
   "id": "shaped-wonder",
   "metadata": {},
   "outputs": [],
   "source": [
    "import torch\n",
    "from torch import nn"
   ]
  },
  {
   "cell_type": "code",
   "execution_count": 18,
   "id": "fresh-adolescent",
   "metadata": {},
   "outputs": [],
   "source": [
    "# build linear model\n",
    "class LinearRegression(nn.Module):\n",
    "    \n",
    "    def __init__(self):\n",
    "        super(LinearRegression, self).__init__()\n",
    "        self.linear = nn.Linear(p, (grid[0] - 1) * grid[1] + (grid[1] - 1) * grid[0])\n",
    "    \n",
    "    def forward(self, x):\n",
    "        out = self.linear(x)\n",
    "        return out"
   ]
  },
  {
   "cell_type": "code",
   "execution_count": 19,
   "id": "interior-secondary",
   "metadata": {},
   "outputs": [],
   "source": [
    "# init model\n",
    "lr = LinearRegression()\n",
    "# cuda\n",
    "if torch.cuda.is_available():\n",
    "    lr = lr.cuda()"
   ]
  },
  {
   "cell_type": "markdown",
   "id": "accessible-clerk",
   "metadata": {},
   "source": [
    "## Training "
   ]
  },
  {
   "cell_type": "code",
   "execution_count": 20,
   "id": "challenging-reservation",
   "metadata": {},
   "outputs": [],
   "source": [
    "from matplotlib import pyplot as plt"
   ]
  },
  {
   "cell_type": "code",
   "execution_count": 21,
   "id": "asian-screening",
   "metadata": {},
   "outputs": [],
   "source": [
    "# set optimizer\n",
    "optimizer = torch.optim.SGD(lr.parameters(), lr=1e-2)"
   ]
  },
  {
   "cell_type": "code",
   "execution_count": 22,
   "id": "framed-classification",
   "metadata": {
    "scrolled": false
   },
   "outputs": [
    {
     "name": "stdout",
     "output_type": "stream",
     "text": [
      "epoch 0, loss:7.788824\n",
      "epoch 1, loss:9.252686\n",
      "epoch 2, loss:8.455514\n",
      "epoch 3, loss:7.327313\n",
      "epoch 4, loss:6.946222\n",
      "epoch 5, loss:6.527593\n",
      "epoch 6, loss:7.623812\n",
      "epoch 7, loss:6.176763\n",
      "epoch 8, loss:6.631300\n",
      "epoch 9, loss:6.094060\n",
      "epoch 10, loss:6.466005\n",
      "epoch 11, loss:5.701963\n",
      "epoch 12, loss:5.838727\n",
      "epoch 13, loss:7.094440\n",
      "epoch 14, loss:6.417104\n",
      "epoch 15, loss:5.122665\n",
      "epoch 16, loss:5.361857\n",
      "epoch 17, loss:6.055743\n",
      "epoch 18, loss:4.610134\n",
      "epoch 19, loss:6.512327\n",
      "epoch 20, loss:4.740639\n",
      "epoch 21, loss:4.647330\n",
      "epoch 22, loss:5.951818\n",
      "epoch 23, loss:4.279677\n",
      "epoch 24, loss:3.571465\n",
      "epoch 25, loss:4.640172\n",
      "epoch 26, loss:3.934464\n",
      "epoch 27, loss:4.463154\n",
      "epoch 28, loss:3.473514\n",
      "epoch 29, loss:3.943493\n",
      "epoch 30, loss:4.441861\n",
      "epoch 31, loss:3.330313\n",
      "epoch 32, loss:4.277127\n",
      "epoch 33, loss:3.876950\n",
      "epoch 34, loss:3.593291\n",
      "epoch 35, loss:3.476929\n",
      "epoch 36, loss:3.259997\n",
      "epoch 37, loss:2.819826\n",
      "epoch 38, loss:3.747567\n",
      "epoch 39, loss:2.932236\n",
      "epoch 40, loss:3.061008\n",
      "epoch 41, loss:2.398223\n",
      "epoch 42, loss:2.149466\n",
      "epoch 43, loss:2.388714\n",
      "epoch 44, loss:2.675781\n",
      "epoch 45, loss:2.394903\n",
      "epoch 46, loss:2.265949\n",
      "epoch 47, loss:1.997867\n",
      "epoch 48, loss:2.623849\n",
      "epoch 49, loss:2.262734\n",
      "epoch 50, loss:2.157812\n",
      "epoch 51, loss:1.737713\n",
      "epoch 52, loss:2.374226\n",
      "epoch 53, loss:2.189316\n",
      "epoch 54, loss:2.177230\n",
      "epoch 55, loss:1.487977\n",
      "epoch 56, loss:1.538217\n",
      "epoch 57, loss:1.967641\n",
      "epoch 58, loss:1.671452\n",
      "epoch 59, loss:2.289623\n",
      "epoch 60, loss:1.948956\n",
      "epoch 61, loss:1.323349\n",
      "epoch 62, loss:1.228165\n",
      "epoch 63, loss:1.139793\n",
      "epoch 64, loss:1.093928\n",
      "epoch 65, loss:1.684433\n",
      "epoch 66, loss:1.345894\n",
      "epoch 67, loss:1.412812\n",
      "epoch 68, loss:1.016377\n",
      "epoch 69, loss:1.412816\n",
      "epoch 70, loss:1.121553\n",
      "epoch 71, loss:1.116726\n",
      "epoch 72, loss:1.288436\n",
      "epoch 73, loss:0.849428\n",
      "epoch 74, loss:0.880140\n",
      "epoch 75, loss:1.284070\n",
      "epoch 76, loss:1.195426\n",
      "epoch 77, loss:1.335745\n",
      "epoch 78, loss:1.234938\n",
      "epoch 79, loss:0.729346\n",
      "epoch 80, loss:0.878160\n",
      "epoch 81, loss:0.902097\n",
      "epoch 82, loss:0.705197\n",
      "epoch 83, loss:0.816405\n",
      "epoch 84, loss:0.593871\n",
      "epoch 85, loss:0.783869\n",
      "epoch 86, loss:0.573122\n",
      "epoch 87, loss:0.923782\n",
      "epoch 88, loss:0.866802\n",
      "epoch 89, loss:0.498295\n",
      "epoch 90, loss:1.142855\n",
      "epoch 91, loss:0.997749\n",
      "epoch 92, loss:0.666687\n",
      "epoch 93, loss:0.609682\n",
      "epoch 94, loss:0.662259\n",
      "epoch 95, loss:0.732871\n",
      "epoch 96, loss:0.836663\n",
      "epoch 97, loss:0.642892\n",
      "epoch 98, loss:0.727273\n",
      "epoch 99, loss:0.416001\n",
      "epoch 100, loss:0.702756\n",
      "epoch 101, loss:0.325787\n",
      "epoch 102, loss:0.491925\n",
      "epoch 103, loss:0.477253\n",
      "epoch 104, loss:0.911012\n",
      "epoch 105, loss:0.366614\n",
      "epoch 106, loss:0.309622\n",
      "epoch 107, loss:0.652403\n",
      "epoch 108, loss:0.808498\n",
      "epoch 109, loss:0.804968\n",
      "epoch 110, loss:0.573257\n",
      "epoch 111, loss:0.790518\n",
      "epoch 112, loss:0.394670\n",
      "epoch 113, loss:0.257693\n",
      "epoch 114, loss:0.774213\n",
      "epoch 115, loss:0.590871\n",
      "epoch 116, loss:0.694068\n",
      "epoch 117, loss:0.419690\n",
      "epoch 118, loss:0.379617\n",
      "epoch 119, loss:0.355095\n",
      "epoch 120, loss:0.128756\n",
      "epoch 121, loss:0.667524\n",
      "epoch 122, loss:0.278101\n",
      "epoch 123, loss:0.214709\n",
      "epoch 124, loss:0.402478\n",
      "epoch 125, loss:0.361075\n",
      "epoch 126, loss:0.232897\n",
      "epoch 127, loss:0.669370\n",
      "epoch 128, loss:0.622670\n",
      "epoch 129, loss:0.383872\n",
      "epoch 130, loss:0.487334\n",
      "epoch 131, loss:0.606105\n",
      "epoch 132, loss:0.357317\n",
      "epoch 133, loss:0.398456\n",
      "epoch 134, loss:0.278724\n",
      "epoch 135, loss:0.222572\n",
      "epoch 136, loss:0.427604\n",
      "epoch 137, loss:0.382996\n",
      "epoch 138, loss:0.588775\n",
      "epoch 139, loss:0.349256\n",
      "epoch 140, loss:0.311022\n",
      "epoch 141, loss:0.240781\n",
      "epoch 142, loss:0.192299\n",
      "epoch 143, loss:0.318567\n",
      "epoch 144, loss:0.561321\n",
      "epoch 145, loss:0.536983\n",
      "epoch 146, loss:0.270344\n",
      "epoch 147, loss:0.548694\n",
      "epoch 148, loss:0.196568\n",
      "epoch 149, loss:0.319026\n",
      "epoch 150, loss:0.294458\n",
      "epoch 151, loss:0.316274\n",
      "epoch 152, loss:0.131407\n",
      "epoch 153, loss:0.445736\n",
      "epoch 154, loss:0.417406\n",
      "epoch 155, loss:0.137311\n",
      "epoch 156, loss:0.369153\n",
      "epoch 157, loss:0.253840\n",
      "epoch 158, loss:0.219356\n",
      "epoch 159, loss:0.392053\n",
      "epoch 160, loss:0.085031\n",
      "epoch 161, loss:0.315685\n",
      "epoch 162, loss:0.200129\n",
      "epoch 163, loss:0.139479\n",
      "epoch 164, loss:0.334524\n",
      "epoch 165, loss:0.281144\n",
      "epoch 166, loss:0.204523\n",
      "epoch 167, loss:0.164989\n",
      "epoch 168, loss:0.186725\n",
      "epoch 169, loss:0.117316\n",
      "epoch 170, loss:0.194853\n",
      "epoch 171, loss:0.286890\n",
      "epoch 172, loss:0.064911\n",
      "epoch 173, loss:0.094463\n",
      "epoch 174, loss:0.360373\n",
      "epoch 175, loss:0.172873\n",
      "epoch 176, loss:0.168151\n",
      "epoch 177, loss:0.228559\n",
      "epoch 178, loss:0.083200\n",
      "epoch 179, loss:0.149861\n",
      "epoch 180, loss:0.221609\n",
      "epoch 181, loss:0.167305\n",
      "epoch 182, loss:0.147935\n",
      "epoch 183, loss:0.186277\n",
      "epoch 184, loss:0.174644\n",
      "epoch 185, loss:0.128943\n",
      "epoch 186, loss:0.078279\n",
      "epoch 187, loss:0.074729\n",
      "epoch 188, loss:0.092659\n",
      "epoch 189, loss:0.214742\n",
      "epoch 190, loss:0.019340\n",
      "epoch 191, loss:0.168844\n",
      "epoch 192, loss:0.316994\n",
      "epoch 193, loss:0.268263\n",
      "epoch 194, loss:0.115350\n",
      "epoch 195, loss:0.132437\n",
      "epoch 196, loss:0.275585\n",
      "epoch 197, loss:0.195398\n",
      "epoch 198, loss:0.183019\n",
      "epoch 199, loss:0.104161\n"
     ]
    }
   ],
   "source": [
    "# train model\n",
    "num_epochs = 200\n",
    "loss_log = []\n",
    "for epoch in range(num_epochs):\n",
    "    # load data\n",
    "    for i, data in enumerate(sp_loader_train):\n",
    "        x, c, w, z = data\n",
    "        # cuda\n",
    "        x, c, w, z = x.cuda(), c.cuda(), w.cuda(), z.cuda()\n",
    "        # forward pass\n",
    "        cp = lr(x)\n",
    "        loss = criterion.apply(sp_model, cp, c, w, z).mean()\n",
    "        # backward pass\n",
    "        optimizer.zero_grad()\n",
    "        loss.backward()\n",
    "        optimizer.step()\n",
    "    loss_log.append(loss.item())\n",
    "    if epoch % 1 == 0:\n",
    "        print('epoch {}, loss:{:.6f}'.format(epoch, loss.item()))"
   ]
  },
  {
   "cell_type": "code",
   "execution_count": 23,
   "id": "cheap-thought",
   "metadata": {},
   "outputs": [
    {
     "data": {
      "image/png": "[encoded data removed]",
      "text/plain": [
       "<Figure size 864x432 with 1 Axes>"
      ]
     },
     "metadata": {
      "needs_background": "light"
     },
     "output_type": "display_data"
    }
   ],
   "source": [
    "# draw plot\n",
    "plt.figure(figsize=(12, 6))\n",
    "plt.plot(loss_log, color='c')\n",
    "plt.xlabel('Epoch')\n",
    "plt.ylabel('SPO+ Loss')\n",
    "plt.title('Learning Curve')\n",
    "plt.show()"
   ]
  },
  {
   "cell_type": "code",
   "execution_count": null,
   "id": "fundamental-compiler",
   "metadata": {},
   "outputs": [],
   "source": []
  }
 ],
 "metadata": {
  "kernelspec": {
   "display_name": "Python 3",
   "language": "python",
   "name": "python3"
  },
  "language_info": {
   "codemirror_mode": {
    "name": "ipython",
    "version": 3
   },
   "file_extension": ".py",
   "mimetype": "text/x-python",
   "name": "python",
   "nbconvert_exporter": "python",
   "pygments_lexer": "ipython3",
   "version": "3.7.9"
  }
 },
 "nbformat": 4,
 "nbformat_minor": 5
}
