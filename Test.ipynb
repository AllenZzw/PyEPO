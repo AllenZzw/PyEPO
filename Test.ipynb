{
 "cells": [
  {
   "cell_type": "markdown",
   "id": "naval-blade",
   "metadata": {},
   "source": [
    "## Optimization model "
   ]
  },
  {
   "cell_type": "code",
   "execution_count": 1,
   "id": "accredited-pearl",
   "metadata": {},
   "outputs": [],
   "source": [
    "from model import shortestPathModel"
   ]
  },
  {
   "cell_type": "code",
   "execution_count": 2,
   "id": "declared-brunswick",
   "metadata": {},
   "outputs": [
    {
     "name": "stdout",
     "output_type": "stream",
     "text": [
      "Academic license - for non-commercial use only - expires 2021-04-13\n",
      "Using license file C:\\Users\\Apocrypse\\gurobi.lic\n"
     ]
    }
   ],
   "source": [
    "# model for shortest path\n",
    "grid = (5,5)\n",
    "sp_model = shortestPathModel(grid)"
   ]
  },
  {
   "cell_type": "code",
   "execution_count": 3,
   "id": "precious-employee",
   "metadata": {},
   "outputs": [
    {
     "name": "stdout",
     "output_type": "stream",
     "text": [
      "Obj: 8.0\n",
      "(0, 1)\n",
      "(1, 2)\n",
      "(2, 3)\n",
      "(3, 4)\n",
      "(4, 9)\n",
      "(9, 14)\n",
      "(14, 19)\n",
      "(19, 24)\n"
     ]
    }
   ],
   "source": [
    "# solve\n",
    "sp_model.setObj([1 for i in range(40)])\n",
    "sol, obj = sp_model.solve()\n",
    "print('Obj: {}'.format(obj))\n",
    "for i, e in enumerate(sp_model.arcs):\n",
    "    if sol[i] > 1e-3:\n",
    "        print(e)"
   ]
  },
  {
   "cell_type": "markdown",
   "id": "directed-consultancy",
   "metadata": {},
   "source": [
    "## Data Loader"
   ]
  },
  {
   "cell_type": "code",
   "execution_count": 4,
   "id": "little-diversity",
   "metadata": {},
   "outputs": [],
   "source": [
    "from data import shortestpath, dataset\n",
    "from sklearn.model_selection import train_test_split\n",
    "from torch.utils.data import DataLoader"
   ]
  },
  {
   "cell_type": "code",
   "execution_count": 5,
   "id": "relative-cherry",
   "metadata": {},
   "outputs": [],
   "source": [
    "# generate data for grid network (features and costs)\n",
    "n = 1000 # number of data\n",
    "p = 5 # size of feature\n",
    "x, c = shortestpath.genData(n, p, grid)"
   ]
  },
  {
   "cell_type": "code",
   "execution_count": 6,
   "id": "regulated-freeware",
   "metadata": {},
   "outputs": [],
   "source": [
    "# data split\n",
    "x_train, x_test, c_train, c_test = train_test_split(x, c, test_size=0.2, random_state=246)"
   ]
  },
  {
   "cell_type": "code",
   "execution_count": 7,
   "id": "human-praise",
   "metadata": {},
   "outputs": [
    {
     "name": "stdout",
     "output_type": "stream",
     "text": [
      "Optimizing...\n"
     ]
    },
    {
     "name": "stderr",
     "output_type": "stream",
     "text": [
      "100%|███████████████████████████████████████████████████████████████████████| 800/800 [00:02<00:00, 351.23it/s]\n"
     ]
    }
   ],
   "source": [
    "# get training data set\n",
    "sp_dataset_train = dataset.optDataset(sp_model, x_train, c_train)"
   ]
  },
  {
   "cell_type": "code",
   "execution_count": 8,
   "id": "immune-interpretation",
   "metadata": {},
   "outputs": [
    {
     "name": "stdout",
     "output_type": "stream",
     "text": [
      "Optimizing...\n"
     ]
    },
    {
     "name": "stderr",
     "output_type": "stream",
     "text": [
      "100%|███████████████████████████████████████████████████████████████████████| 200/200 [00:00<00:00, 369.29it/s]\n"
     ]
    }
   ],
   "source": [
    "# get training data set\n",
    "sp_dataset_test = dataset.optDataset(sp_model, x_test, c_test)"
   ]
  },
  {
   "cell_type": "code",
   "execution_count": 9,
   "id": "incident-kinase",
   "metadata": {},
   "outputs": [],
   "source": [
    "# get data loader\n",
    "batch_size = 32\n",
    "sp_loader_train = DataLoader(sp_dataset_train, batch_size=batch_size, shuffle=True)\n",
    "sp_loader_test = DataLoader(sp_dataset_test, batch_size=batch_size, shuffle=False)"
   ]
  },
  {
   "cell_type": "code",
   "execution_count": 10,
   "id": "intellectual-softball",
   "metadata": {},
   "outputs": [],
   "source": [
    "for i, data in enumerate(sp_loader_train):\n",
    "    x, c, w, z = data\n",
    "    break"
   ]
  },
  {
   "cell_type": "code",
   "execution_count": 11,
   "id": "instant-polymer",
   "metadata": {},
   "outputs": [
    {
     "data": {
      "text/plain": [
       "torch.Size([32, 5])"
      ]
     },
     "execution_count": 11,
     "metadata": {},
     "output_type": "execute_result"
    }
   ],
   "source": [
    "x.shape"
   ]
  },
  {
   "cell_type": "code",
   "execution_count": 12,
   "id": "known-framing",
   "metadata": {},
   "outputs": [
    {
     "data": {
      "text/plain": [
       "torch.Size([32, 40])"
      ]
     },
     "execution_count": 12,
     "metadata": {},
     "output_type": "execute_result"
    }
   ],
   "source": [
    "c.shape"
   ]
  },
  {
   "cell_type": "code",
   "execution_count": 13,
   "id": "partial-algeria",
   "metadata": {},
   "outputs": [
    {
     "data": {
      "text/plain": [
       "torch.Size([32, 40])"
      ]
     },
     "execution_count": 13,
     "metadata": {},
     "output_type": "execute_result"
    }
   ],
   "source": [
    "w.shape"
   ]
  },
  {
   "cell_type": "code",
   "execution_count": 14,
   "id": "known-contemporary",
   "metadata": {},
   "outputs": [
    {
     "data": {
      "text/plain": [
       "torch.Size([32, 1])"
      ]
     },
     "execution_count": 14,
     "metadata": {},
     "output_type": "execute_result"
    }
   ],
   "source": [
    "z.shape"
   ]
  },
  {
   "cell_type": "markdown",
   "id": "sacred-consequence",
   "metadata": {},
   "source": [
    "## Loss Function"
   ]
  },
  {
   "cell_type": "code",
   "execution_count": 15,
   "id": "authentic-boring",
   "metadata": {},
   "outputs": [],
   "source": [
    "from loss import SPOPlusLoss"
   ]
  },
  {
   "cell_type": "code",
   "execution_count": 16,
   "id": "directed-composition",
   "metadata": {},
   "outputs": [],
   "source": [
    "# init SPO+ loss\n",
    "criterion = SPOPlusLoss()"
   ]
  },
  {
   "cell_type": "markdown",
   "id": "technological-queue",
   "metadata": {},
   "source": [
    "## Linear Regression "
   ]
  },
  {
   "cell_type": "code",
   "execution_count": 17,
   "id": "shaped-wonder",
   "metadata": {},
   "outputs": [],
   "source": [
    "import torch\n",
    "from torch import nn"
   ]
  },
  {
   "cell_type": "code",
   "execution_count": 18,
   "id": "fresh-adolescent",
   "metadata": {},
   "outputs": [],
   "source": [
    "# build linear model\n",
    "class LinearRegression(nn.Module):\n",
    "    \n",
    "    def __init__(self):\n",
    "        super(LinearRegression, self).__init__()\n",
    "        self.linear = nn.Linear(p, (grid[0] - 1) * grid[1] + (grid[1] - 1) * grid[0])\n",
    "    \n",
    "    def forward(self, x):\n",
    "        out = self.linear(x)\n",
    "        return out"
   ]
  },
  {
   "cell_type": "code",
   "execution_count": 19,
   "id": "interior-secondary",
   "metadata": {},
   "outputs": [],
   "source": [
    "# init model\n",
    "lr = LinearRegression()\n",
    "# cuda\n",
    "if torch.cuda.is_available():\n",
    "    lr = lr.cuda()"
   ]
  },
  {
   "cell_type": "markdown",
   "id": "accessible-clerk",
   "metadata": {},
   "source": [
    "## Training "
   ]
  },
  {
   "cell_type": "code",
   "execution_count": 20,
   "id": "challenging-reservation",
   "metadata": {},
   "outputs": [],
   "source": [
    "from matplotlib import pyplot as plt"
   ]
  },
  {
   "cell_type": "code",
   "execution_count": 21,
   "id": "asian-screening",
   "metadata": {},
   "outputs": [],
   "source": [
    "# set optimizer\n",
    "optimizer = torch.optim.SGD(lr.parameters(), lr=1e-2)"
   ]
  },
  {
   "cell_type": "code",
   "execution_count": 22,
   "id": "framed-classification",
   "metadata": {
    "scrolled": false
   },
   "outputs": [
    {
     "name": "stdout",
     "output_type": "stream",
     "text": [
      "epoch 0, loss:9.122639\n",
      "epoch 2, loss:9.915730\n",
      "epoch 4, loss:7.805178\n",
      "epoch 6, loss:8.746704\n",
      "epoch 8, loss:7.362854\n",
      "epoch 10, loss:7.397059\n",
      "epoch 12, loss:7.261196\n",
      "epoch 14, loss:6.143129\n",
      "epoch 16, loss:5.618830\n",
      "epoch 18, loss:5.715209\n",
      "epoch 20, loss:4.828235\n",
      "epoch 22, loss:5.529036\n",
      "epoch 24, loss:4.472896\n",
      "epoch 26, loss:4.201227\n",
      "epoch 28, loss:3.943220\n",
      "epoch 30, loss:3.149398\n",
      "epoch 32, loss:3.877936\n",
      "epoch 34, loss:2.847075\n",
      "epoch 36, loss:3.656714\n",
      "epoch 38, loss:3.585153\n",
      "epoch 40, loss:3.423786\n",
      "epoch 42, loss:3.481481\n",
      "epoch 44, loss:2.542984\n",
      "epoch 46, loss:2.567221\n",
      "epoch 48, loss:2.361063\n",
      "epoch 50, loss:1.862204\n",
      "epoch 52, loss:2.446923\n",
      "epoch 54, loss:2.537230\n",
      "epoch 56, loss:2.256893\n",
      "epoch 58, loss:1.194269\n",
      "epoch 60, loss:1.777741\n",
      "epoch 62, loss:1.394487\n",
      "epoch 64, loss:1.485897\n",
      "epoch 66, loss:1.345859\n",
      "epoch 68, loss:1.226678\n",
      "epoch 70, loss:1.540578\n",
      "epoch 72, loss:1.435176\n",
      "epoch 74, loss:0.880800\n",
      "epoch 76, loss:1.016111\n",
      "epoch 78, loss:0.782447\n",
      "epoch 80, loss:0.689602\n",
      "epoch 82, loss:0.722931\n",
      "epoch 84, loss:0.770117\n",
      "epoch 86, loss:0.929431\n",
      "epoch 88, loss:0.692877\n",
      "epoch 90, loss:0.751388\n",
      "epoch 92, loss:0.799614\n",
      "epoch 94, loss:0.579422\n",
      "epoch 96, loss:0.554442\n",
      "epoch 98, loss:0.370054\n",
      "epoch 100, loss:0.725249\n",
      "epoch 102, loss:0.523314\n",
      "epoch 104, loss:0.515456\n",
      "epoch 106, loss:0.285606\n",
      "epoch 108, loss:0.208811\n",
      "epoch 110, loss:0.612550\n",
      "epoch 112, loss:0.375432\n",
      "epoch 114, loss:0.538859\n",
      "epoch 116, loss:0.390884\n",
      "epoch 118, loss:0.129504\n",
      "epoch 120, loss:0.311372\n",
      "epoch 122, loss:0.468456\n",
      "epoch 124, loss:0.636016\n",
      "epoch 126, loss:0.229300\n",
      "epoch 128, loss:0.327623\n",
      "epoch 130, loss:0.352718\n",
      "epoch 132, loss:0.313803\n",
      "epoch 134, loss:0.467563\n",
      "epoch 136, loss:0.499595\n",
      "epoch 138, loss:0.178686\n",
      "epoch 140, loss:0.620825\n",
      "epoch 142, loss:0.391609\n",
      "epoch 144, loss:0.424112\n",
      "epoch 146, loss:0.364880\n",
      "epoch 148, loss:0.179271\n",
      "epoch 150, loss:0.321859\n",
      "epoch 152, loss:0.184643\n",
      "epoch 154, loss:0.278891\n",
      "epoch 156, loss:0.249453\n",
      "epoch 158, loss:0.195815\n",
      "epoch 160, loss:0.171269\n",
      "epoch 162, loss:0.129552\n",
      "epoch 164, loss:0.174889\n",
      "epoch 166, loss:0.058885\n",
      "epoch 168, loss:0.260078\n",
      "epoch 170, loss:0.185105\n",
      "epoch 172, loss:0.084725\n",
      "epoch 174, loss:0.403079\n",
      "epoch 176, loss:0.192582\n",
      "epoch 178, loss:0.322267\n",
      "epoch 180, loss:0.146889\n",
      "epoch 182, loss:0.247925\n",
      "epoch 184, loss:0.055346\n",
      "epoch 186, loss:0.224152\n",
      "epoch 188, loss:0.160399\n",
      "epoch 190, loss:0.145142\n",
      "epoch 192, loss:0.278716\n",
      "epoch 194, loss:0.182302\n",
      "epoch 196, loss:0.275438\n",
      "epoch 198, loss:0.042515\n",
      "epoch 200, loss:0.144963\n",
      "epoch 202, loss:0.106487\n",
      "epoch 204, loss:0.048496\n",
      "epoch 206, loss:0.189297\n",
      "epoch 208, loss:0.257572\n",
      "epoch 210, loss:0.138008\n",
      "epoch 212, loss:0.256860\n",
      "epoch 214, loss:0.066470\n",
      "epoch 216, loss:0.028530\n",
      "epoch 218, loss:0.275054\n",
      "epoch 220, loss:0.221103\n",
      "epoch 222, loss:0.192348\n",
      "epoch 224, loss:0.332989\n",
      "epoch 226, loss:0.048813\n",
      "epoch 228, loss:0.127031\n",
      "epoch 230, loss:0.153578\n",
      "epoch 232, loss:0.159747\n",
      "epoch 234, loss:0.087459\n",
      "epoch 236, loss:0.129520\n",
      "epoch 238, loss:0.278186\n",
      "epoch 240, loss:0.221648\n",
      "epoch 242, loss:0.069743\n",
      "epoch 244, loss:0.251007\n",
      "epoch 246, loss:0.045391\n",
      "epoch 248, loss:0.108077\n",
      "epoch 250, loss:0.020008\n",
      "epoch 252, loss:0.148275\n",
      "epoch 254, loss:0.069169\n",
      "epoch 256, loss:0.248121\n",
      "epoch 258, loss:0.077213\n",
      "epoch 260, loss:0.108438\n",
      "epoch 262, loss:0.276405\n",
      "epoch 264, loss:0.092177\n",
      "epoch 266, loss:0.372352\n",
      "epoch 268, loss:0.073076\n",
      "epoch 270, loss:0.117855\n",
      "epoch 272, loss:0.077903\n",
      "epoch 274, loss:0.027662\n",
      "epoch 276, loss:0.205276\n",
      "epoch 278, loss:0.032497\n",
      "epoch 280, loss:0.055261\n",
      "epoch 282, loss:0.049727\n",
      "epoch 284, loss:0.059063\n",
      "epoch 286, loss:0.106288\n",
      "epoch 288, loss:0.031699\n",
      "epoch 290, loss:0.234311\n",
      "epoch 292, loss:0.085463\n",
      "epoch 294, loss:0.276559\n",
      "epoch 296, loss:0.150184\n",
      "epoch 298, loss:0.014833\n"
     ]
    }
   ],
   "source": [
    "# train model\n",
    "num_epochs = 300\n",
    "lr.train()\n",
    "loss_log = []\n",
    "for epoch in range(num_epochs):\n",
    "    # load data\n",
    "    for i, data in enumerate(sp_loader_train):\n",
    "        x, c, w, z = data\n",
    "        # cuda\n",
    "        if torch.cuda.is_available():\n",
    "            x, c, w, z = x.cuda(), c.cuda(), w.cuda(), z.cuda()\n",
    "        # forward pass\n",
    "        cp = lr(x)\n",
    "        loss = criterion.apply(sp_model, cp, c, w, z).mean()\n",
    "        # backward pass\n",
    "        optimizer.zero_grad()\n",
    "        loss.backward()\n",
    "        optimizer.step()\n",
    "    loss_log.append(loss.item())\n",
    "    if epoch % 2 == 0:\n",
    "        print('epoch {}, loss:{:.6f}'.format(epoch, loss.item()))"
   ]
  },
  {
   "cell_type": "code",
   "execution_count": 23,
   "id": "cheap-thought",
   "metadata": {},
   "outputs": [
    {
     "data": {
      "image/png": "[encoded data removed]",
      "text/plain": [
       "<Figure size 864x432 with 1 Axes>"
      ]
     },
     "metadata": {
      "needs_background": "light"
     },
     "output_type": "display_data"
    }
   ],
   "source": [
    "# draw plot\n",
    "plt.figure(figsize=(12, 6))\n",
    "plt.plot(loss_log, color='c')\n",
    "plt.xlabel('Epoch')\n",
    "plt.ylabel('SPO+ Loss')\n",
    "plt.title('Learning Curve')\n",
    "plt.show()"
   ]
  },
  {
   "cell_type": "markdown",
   "id": "industrial-opposition",
   "metadata": {},
   "source": [
    "## Evaluation "
   ]
  },
  {
   "cell_type": "code",
   "execution_count": 24,
   "id": "precise-brunswick",
   "metadata": {},
   "outputs": [],
   "source": [
    "import numpy as np"
   ]
  },
  {
   "cell_type": "code",
   "execution_count": 25,
   "id": "scheduled-championship",
   "metadata": {},
   "outputs": [
    {
     "name": "stdout",
     "output_type": "stream",
     "text": [
      "Normalized loss on test: 0.95%\n"
     ]
    }
   ],
   "source": [
    "# evaluate\n",
    "lr.eval()\n",
    "loss = 0\n",
    "optsum = 0\n",
    "# load data\n",
    "for i, data in enumerate(sp_loader_test):\n",
    "    x, c, w, z = data\n",
    "    # cuda\n",
    "    if torch.cuda.is_available():\n",
    "        x, c, w, z = x.cuda(), c.cuda(), w.cuda(), z.cuda()\n",
    "    # predict\n",
    "    cp = lr(x)\n",
    "    # accumulate loss\n",
    "    loss += criterion.apply(sp_model, cp, c, w, z).sum().item()\n",
    "    optsum += z.sum().item()\n",
    "print('Normalized loss on test: {:.2f}%'.format(loss / optsum * 100))"
   ]
  },
  {
   "cell_type": "code",
   "execution_count": 26,
   "id": "still-iraqi",
   "metadata": {
    "scrolled": false
   },
   "outputs": [
    {
     "name": "stdout",
     "output_type": "stream",
     "text": [
      "Sample 0:\n",
      "    True cost: 3.56, 2.73, 2.34, 3.59, 2.70, 3.34, 2.62, 2.36, 3.81, 2.84, 3.34, 2.84, 3.23, 2.36, 3.71, 2.36, 2.87, 2.12, 1.64, 3.34, 2.84, 2.12, 2.47, 3.21, 3.06, 2.62, 3.71, 3.71, 1.86, 2.95, 1.75, 3.23, 1.75, 2.73, 2.34, 2.95, 2.62, 2.95, 2.00, 2.12\n",
      "    Pred cost: 1.69, -0.18, -0.33, 0.78, -0.55, -0.64, -1.03, 0.96, -0.45, 0.58, 0.26, -0.39, 1.23, -0.58, 0.93, -0.41, 0.62, -1.17, 0.04, -0.12, 0.61, 0.01, -0.48, -0.69, 1.08, -0.37, 1.86, 0.92, 0.11, -0.06, -0.89, 0.43, 0.03, -0.66, 0.33, 0.92, -0.62, -0.16, 0.68, -0.56\n",
      "    True sol: 0, 0, 0, 0, 1, 0, 0, 0, 0, 0, 0, 0, 0, 1, 0, 0, 0, 0, 1, 0, 0, 0, 0, 1, 0, 0, 0, 0, 1, 0, 0, 0, 0, 1, 0, 0, 0, 0, 1, 1, True obj: 18.61\n",
      "    Pred sol: 0, 0, 0, 0, 1, 0, 0, 0, 0, 0, 0, 0, 0, 1, 0, 0, 0, 0, 1, 0, 0, 0, 0, 1, 0, 0, 0, 0, 1, 0, 0, 0, 0, 1, 0, 0, 0, 0, 1, 1, Pred obj: 18.61\n",
      "\n",
      "Sample 1:\n",
      "    True cost: 0.61, 1.95, 2.34, 1.30, 1.26, 0.45, 0.68, 1.08, 1.46, 1.97, 0.45, 0.83, 0.44, 1.08, 1.32, 1.08, 1.52, 2.19, 1.30, 0.45, 0.83, 2.19, 1.10, 1.70, 2.12, 0.68, 1.32, 1.32, 1.46, 2.10, 1.32, 0.44, 1.32, 1.95, 2.34, 2.10, 0.68, 2.10, 2.17, 2.19\n",
      "    Pred cost: -0.03, 1.31, 0.19, -0.30, -0.05, -0.67, -0.61, 1.28, -0.25, 1.00, 0.15, -2.23, -0.25, 1.17, 0.33, -0.59, 1.08, 0.00, -0.48, -0.58, -1.07, 0.81, 0.35, 0.25, 0.36, -0.25, 0.31, -1.28, 0.10, 0.71, -1.19, -0.58, -0.72, 0.42, 0.23, 0.34, -0.33, 0.30, 0.04, 0.31\n",
      "    True sol: 1, 0, 0, 0, 0, 1, 0, 0, 0, 0, 1, 0, 0, 0, 0, 1, 0, 0, 0, 0, 1, 0, 0, 0, 0, 1, 0, 0, 0, 0, 1, 0, 0, 0, 0, 1, 0, 0, 0, 0, True obj: 7.53\n",
      "    Pred sol: 1, 0, 0, 0, 0, 1, 0, 0, 0, 0, 1, 0, 0, 0, 0, 1, 0, 0, 0, 0, 1, 0, 0, 0, 0, 1, 0, 0, 0, 0, 1, 0, 0, 0, 0, 1, 0, 0, 0, 0, Pred obj: 7.53\n",
      "\n",
      "Sample 2:\n",
      "    True cost: 3.44, 3.48, 2.34, 3.47, 3.44, 4.07, 3.66, 4.16, 2.84, 3.39, 4.07, 3.03, 4.16, 4.16, 3.39, 4.16, 3.06, 2.98, 3.75, 4.07, 3.03, 2.98, 4.07, 2.34, 2.75, 3.66, 3.39, 3.39, 3.12, 2.84, 3.66, 4.16, 3.66, 3.48, 2.34, 2.84, 3.66, 2.84, 3.06, 2.98\n",
      "    Pred cost: 0.37, -0.30, 0.49, -1.15, 0.45, 0.47, -0.07, 0.16, -0.17, -0.13, -0.08, 0.36, 0.74, -0.08, -0.91, 0.41, -0.79, -0.86, -0.09, 0.68, 0.12, 0.72, -0.23, -0.31, -0.43, -0.53, -0.33, 0.95, -0.73, -0.94, 0.89, 0.77, 0.56, 0.02, 0.43, 0.33, 0.59, -0.73, 1.03, -0.67\n",
      "    True sol: 0, 0, 0, 0, 1, 0, 0, 0, 0, 1, 0, 0, 0, 0, 1, 0, 0, 0, 0, 0, 0, 0, 0, 1, 0, 0, 0, 0, 1, 1, 0, 0, 0, 0, 1, 0, 0, 0, 0, 1, True obj: 23.83\n",
      "    Pred sol: 0, 0, 0, 0, 1, 0, 0, 0, 0, 1, 0, 0, 0, 0, 1, 0, 0, 0, 0, 0, 0, 0, 0, 1, 0, 0, 0, 0, 1, 1, 0, 0, 0, 0, 1, 0, 0, 0, 0, 1, Pred obj: 23.83\n",
      "\n",
      "Sample 3:\n",
      "    True cost: 3.45, 3.51, 2.34, 4.42, 2.53, 3.74, 3.13, 3.08, 4.13, 3.25, 3.74, 2.83, 4.00, 3.08, 4.17, 3.08, 3.81, 2.64, 2.47, 3.74, 2.83, 2.64, 2.83, 3.26, 2.96, 3.13, 4.17, 4.17, 2.17, 3.21, 2.21, 4.00, 2.21, 3.51, 2.34, 3.21, 3.13, 3.21, 2.89, 2.64\n",
      "    Pred cost: 1.05, 0.01, -0.11, 0.79, -0.69, -0.16, -0.79, 0.18, 0.24, 0.54, -0.11, 0.02, 1.34, -0.58, 0.42, -0.28, 0.39, -1.53, 0.05, -0.04, 0.22, 0.59, -0.82, -1.02, 0.47, -0.65, 1.13, 0.76, -0.00, -0.40, -1.01, 0.33, 0.06, 0.01, -0.01, 1.26, -0.52, -0.04, 0.89, -0.29\n",
      "    True sol: 0, 0, 0, 0, 1, 0, 0, 0, 0, 0, 0, 0, 0, 1, 0, 0, 0, 0, 1, 0, 0, 0, 0, 1, 0, 0, 0, 0, 1, 1, 0, 0, 0, 0, 1, 0, 0, 0, 0, 1, True obj: 21.69\n",
      "    Pred sol: 0, 0, 0, 0, 1, 0, 0, 0, 0, 0, 0, 0, 0, 1, 0, 0, 0, 0, 1, 0, 0, 0, 0, 1, 0, 0, 0, 0, 1, 1, 0, 0, 0, 0, 1, 0, 0, 0, 0, 1, Pred obj: 21.69\n",
      "\n",
      "Sample 4:\n",
      "    True cost: 2.42, 2.66, 2.34, 3.09, 1.99, 2.65, 2.61, 2.27, 2.86, 2.61, 2.65, 2.38, 2.70, 2.27, 3.04, 2.27, 3.05, 2.57, 2.23, 2.65, 2.38, 2.57, 2.22, 2.77, 2.38, 2.61, 3.04, 3.04, 2.00, 2.43, 2.18, 2.70, 2.18, 2.66, 2.34, 2.43, 2.61, 2.43, 2.62, 2.57\n",
      "    Pred cost: 0.52, 0.12, 0.37, 0.06, -0.26, -0.03, -0.19, 0.24, 0.10, 0.41, -0.06, -0.48, 0.92, -0.03, 0.29, -0.40, 0.57, -1.00, -0.13, -0.20, -0.11, 0.47, -0.37, -0.29, 0.15, -0.00, 0.66, 0.10, -0.10, -0.27, -0.87, 0.46, -0.07, 0.13, 0.21, 0.69, -0.36, -0.04, 0.35, 0.03\n",
      "    True sol: 0, 0, 0, 0, 1, 0, 0, 0, 0, 0, 0, 0, 0, 1, 0, 0, 0, 0, 1, 0, 0, 0, 0, 1, 0, 0, 0, 0, 1, 1, 1, 0, 0, 0, 0, 1, 0, 0, 0, 0, True obj: 18.30\n",
      "    Pred sol: 0, 0, 0, 0, 1, 0, 0, 0, 0, 0, 0, 0, 0, 1, 0, 0, 0, 0, 1, 0, 0, 0, 0, 1, 0, 0, 0, 0, 1, 1, 1, 0, 0, 0, 0, 1, 0, 0, 0, 0, Pred obj: 18.30\n",
      "\n",
      "Sample 5:\n",
      "    True cost: 1.73, 2.08, 2.34, 1.64, 2.16, 1.75, 1.69, 1.84, 1.61, 2.42, 1.75, 1.67, 1.40, 1.84, 1.99, 1.84, 1.58, 2.37, 1.78, 1.75, 1.67, 2.37, 2.19, 1.91, 2.40, 1.69, 1.99, 1.99, 1.75, 2.05, 2.13, 1.40, 2.13, 2.08, 2.34, 2.05, 1.69, 2.05, 2.02, 2.37\n",
      "    Pred cost: 0.50, 0.40, 0.49, -0.84, 0.32, -0.28, -0.22, 1.28, -0.67, 0.75, 0.27, -1.39, -0.15, 0.67, 0.07, -0.29, 0.32, -0.19, -0.46, 0.04, -0.41, 0.48, 0.33, 0.26, 0.34, -0.15, 0.53, -0.21, -0.35, 0.08, -0.29, 0.12, 0.01, -0.15, 0.54, -0.12, 0.05, -0.41, 0.27, -0.27\n",
      "    True sol: 1, 0, 0, 0, 0, 1, 0, 0, 0, 0, 1, 1, 0, 0, 0, 0, 1, 0, 0, 0, 0, 0, 0, 0, 0, 1, 0, 0, 0, 0, 1, 0, 0, 0, 0, 1, 0, 0, 0, 0, True obj: 14.35\n",
      "    Pred sol: 1, 0, 0, 0, 0, 1, 0, 0, 0, 0, 1, 1, 0, 0, 0, 0, 1, 0, 0, 0, 0, 0, 0, 0, 0, 1, 0, 0, 0, 0, 1, 0, 0, 0, 0, 1, 0, 0, 0, 0, Pred obj: 14.35\n",
      "\n",
      "Sample 6:\n",
      "    True cost: 2.05, 2.05, 2.34, 2.03, 2.06, 1.79, 2.56, 2.54, 2.29, 1.32, 1.79, 2.82, 2.52, 2.54, 1.30, 2.54, 2.80, 2.09, 3.31, 1.79, 2.82, 2.09, 1.81, 2.33, 1.57, 2.56, 1.30, 1.30, 3.56, 2.31, 2.58, 2.52, 2.58, 2.05, 2.34, 2.31, 2.56, 2.31, 2.82, 2.09\n",
      "    Pred cost: -0.67, 0.39, -0.07, -0.64, 0.27, -0.19, -0.23, -0.58, 0.49, -1.44, -0.28, -0.31, 1.98, 0.48, -0.33, -0.07, 0.84, -0.25, 0.47, -0.89, -0.15, 0.10, -0.04, 0.59, -0.80, 0.95, -1.15, -0.75, 0.35, 0.02, 0.29, 0.84, -1.12, 0.64, 0.42, 1.18, -0.02, 0.91, -0.04, 0.60\n",
      "    True sol: 0, 0, 0, 0, 1, 0, 0, 0, 0, 1, 0, 0, 0, 0, 1, 0, 0, 0, 0, 1, 0, 0, 0, 0, 1, 0, 0, 0, 0, 1, 0, 0, 0, 0, 1, 0, 0, 0, 0, 1, True obj: 14.79\n",
      "    Pred sol: 0, 0, 0, 0, 1, 0, 0, 0, 0, 1, 0, 0, 0, 0, 1, 0, 0, 0, 0, 1, 1, 1, 0, 0, 0, 0, 1, 0, 0, 0, 0, 0, 0, 0, 0, 1, 0, 0, 0, 0, Pred obj: 14.99\n",
      "\n",
      "Sample 7:\n",
      "    True cost: 1.22, 2.24, 2.34, 1.84, 1.62, 1.45, 2.07, 2.13, 1.62, 1.95, 1.45, 1.84, 1.74, 2.13, 1.56, 2.13, 2.46, 2.57, 2.75, 1.45, 1.84, 2.57, 1.84, 1.95, 1.72, 2.07, 1.56, 1.56, 2.52, 2.01, 2.46, 1.74, 2.46, 2.24, 2.34, 2.01, 2.07, 2.01, 2.86, 2.57\n",
      "    Pred cost: -0.65, 0.66, 0.59, -0.90, 0.28, 0.10, 0.16, -0.01, 0.29, -0.14, -0.20, -0.97, 0.63, 0.83, -0.40, -0.24, 0.59, -0.28, -0.16, -0.44, -0.77, 0.71, 0.09, 0.43, -0.64, 0.37, -0.78, -0.93, -0.12, -0.05, -0.30, 0.33, -0.55, 0.74, 0.30, 0.48, 0.05, 0.30, 0.02, 0.49\n",
      "    True sol: 1, 0, 0, 0, 0, 1, 0, 0, 0, 0, 0, 0, 0, 0, 1, 0, 0, 0, 0, 1, 1, 1, 0, 0, 0, 0, 1, 0, 0, 0, 0, 0, 0, 0, 0, 1, 0, 0, 0, 0, True obj: 13.66\n",
      "    Pred sol: 1, 0, 0, 0, 0, 1, 0, 0, 0, 0, 0, 0, 0, 0, 1, 0, 0, 0, 0, 1, 0, 0, 0, 0, 1, 0, 0, 0, 0, 1, 1, 0, 0, 0, 0, 1, 0, 0, 0, 0, Pred obj: 13.88\n",
      "\n",
      "Sample 8:\n",
      "    True cost: 3.40, 2.89, 2.34, 2.93, 3.36, 3.36, 2.92, 3.47, 2.97, 2.75, 3.36, 2.96, 3.51, 3.47, 2.79, 3.47, 2.49, 2.30, 3.02, 3.36, 2.96, 2.30, 3.32, 2.38, 2.79, 2.92, 2.79, 2.79, 3.06, 2.93, 2.88, 3.51, 2.88, 2.89, 2.34, 2.93, 2.92, 2.93, 2.45, 2.30\n",
      "    Pred cost: 0.72, -0.06, -0.19, -0.63, 0.28, -0.29, -0.77, 0.65, -0.44, -0.33, 0.13, -0.16, 1.07, -0.01, -0.30, 0.23, -0.16, -0.54, 0.13, 0.18, 0.33, 0.26, -0.07, -0.16, 0.13, -0.35, 0.13, 0.70, -0.22, -0.30, 0.68, 0.57, -0.02, -0.28, 0.53, 0.64, 0.26, -0.25, 0.85, -0.62\n",
      "    True sol: 0, 0, 0, 0, 1, 0, 0, 0, 0, 1, 0, 0, 0, 0, 1, 0, 0, 0, 0, 0, 0, 0, 0, 1, 0, 0, 0, 0, 0, 0, 0, 0, 1, 0, 0, 0, 0, 1, 1, 1, True obj: 21.84\n",
      "    Pred sol: 0, 0, 0, 0, 1, 0, 0, 0, 0, 1, 0, 0, 0, 0, 1, 0, 0, 0, 0, 0, 0, 0, 0, 1, 0, 0, 0, 0, 1, 1, 0, 0, 0, 0, 1, 0, 0, 0, 0, 1, Pred obj: 21.92\n",
      "\n",
      "Sample 9:\n",
      "    True cost: 4.24, 2.50, 2.34, 2.56, 4.18, 3.78, 2.87, 3.43, 3.01, 2.80, 3.78, 3.32, 3.48, 3.43, 2.86, 3.43, 1.64, 1.89, 2.51, 3.78, 3.32, 1.89, 3.73, 2.40, 3.26, 2.87, 2.86, 2.86, 2.97, 2.96, 2.81, 3.48, 2.81, 2.50, 2.34, 2.96, 2.87, 2.96, 1.59, 1.89\n",
      "    Pred cost: 1.70, -0.54, -0.48, -0.78, 0.52, -0.69, -1.13, 1.57, -1.33, -0.28, 0.56, -0.19, 0.94, -0.25, 0.02, 0.33, -0.42, -0.31, 0.13, 0.49, 1.00, -0.32, 0.20, -0.05, 0.84, -0.40, 0.98, 1.47, -0.31, -0.22, 1.27, 0.78, 0.30, -1.20, 0.94, 0.22, 0.37, -0.72, 0.99, -1.30\n",
      "    True sol: 0, 0, 0, 0, 1, 0, 0, 0, 0, 1, 0, 0, 0, 0, 1, 0, 0, 0, 0, 0, 0, 0, 0, 1, 0, 0, 0, 0, 1, 0, 0, 0, 0, 1, 0, 0, 0, 0, 1, 1, True obj: 21.19\n",
      "    Pred sol: 0, 0, 0, 0, 1, 0, 0, 0, 0, 1, 0, 0, 0, 0, 1, 0, 0, 0, 0, 0, 0, 0, 0, 1, 0, 0, 0, 0, 1, 0, 0, 0, 0, 1, 0, 0, 0, 0, 1, 1, Pred obj: 21.19\n",
      "\n"
     ]
    }
   ],
   "source": [
    "# compare solutions\n",
    "lr.eval()\n",
    "loss = []\n",
    "# load data\n",
    "for i, data in enumerate(sp_loader_test):\n",
    "    x, c, w, z = data\n",
    "    # cuda\n",
    "    if torch.cuda.is_available():\n",
    "        x, c, w, z = x.cuda(), c.cuda(), w.cuda(), z.cuda()\n",
    "    # predict\n",
    "    cp = lr(x)\n",
    "    # convert to numpy\n",
    "    c = c.to('cpu').detach().numpy().tolist()\n",
    "    w = w.to('cpu').detach().numpy().tolist()\n",
    "    z = z.to('cpu').detach().numpy().tolist()\n",
    "    cp = cp.to('cpu').detach().numpy().tolist()\n",
    "    for j in range(min(10, batch_size)):\n",
    "        print('Sample {}:'.format(j))\n",
    "        print('    True cost:', ', '.join(['{:.2f}'.format(cost) for cost in c[j]]))\n",
    "        print('    Pred cost:', ', '.join(['{:.2f}'.format(cost) for cost in cp[j]]))\n",
    "        # solve cost from prediction\n",
    "        sp_model.setObj(cp[j])\n",
    "        wpj, _ = sp_model.solve()\n",
    "        zpj = np.dot(c[j], wpj)\n",
    "        print('    True sol: ' + ', '.join(['{:.0f}'.format(x) for x in w[j]]) + ', True obj: {:.2f}'.format(z[j][0]))\n",
    "        print('    Pred sol: '+  ', '.join(['{:.0f}'.format(x) for x in wpj]) + ', Pred obj: {:.2f}'.format(zpj))\n",
    "        print()\n",
    "    break"
   ]
  },
  {
   "cell_type": "markdown",
   "id": "alternative-brother",
   "metadata": {},
   "source": [
    "##  Training with Regularization"
   ]
  },
  {
   "cell_type": "code",
   "execution_count": 27,
   "id": "driven-surveillance",
   "metadata": {},
   "outputs": [],
   "source": [
    "# init model\n",
    "lr = LinearRegression()\n",
    "# cuda\n",
    "if torch.cuda.is_available():\n",
    "    lr = lr.cuda()"
   ]
  },
  {
   "cell_type": "code",
   "execution_count": 28,
   "id": "annual-fortune",
   "metadata": {},
   "outputs": [],
   "source": [
    "# set optimizer\n",
    "optimizer = torch.optim.SGD(lr.parameters(), lr=1e-2)"
   ]
  },
  {
   "cell_type": "code",
   "execution_count": 29,
   "id": "characteristic-gender",
   "metadata": {
    "scrolled": false
   },
   "outputs": [
    {
     "name": "stdout",
     "output_type": "stream",
     "text": [
      "epoch 0, loss:10.588897\n",
      "epoch 2, loss:9.239591\n",
      "epoch 4, loss:9.165802\n",
      "epoch 6, loss:8.079910\n",
      "epoch 8, loss:7.756896\n",
      "epoch 10, loss:7.928269\n",
      "epoch 12, loss:6.077976\n",
      "epoch 14, loss:6.545160\n",
      "epoch 16, loss:6.673040\n",
      "epoch 18, loss:6.577153\n",
      "epoch 20, loss:6.222290\n",
      "epoch 22, loss:6.077251\n",
      "epoch 24, loss:5.091023\n",
      "epoch 26, loss:5.304601\n",
      "epoch 28, loss:4.719061\n",
      "epoch 30, loss:4.129232\n",
      "epoch 32, loss:4.217126\n",
      "epoch 34, loss:4.223381\n",
      "epoch 36, loss:3.716171\n",
      "epoch 38, loss:3.046483\n",
      "epoch 40, loss:3.589781\n",
      "epoch 42, loss:3.931378\n",
      "epoch 44, loss:3.504646\n",
      "epoch 46, loss:2.574470\n",
      "epoch 48, loss:2.294912\n",
      "epoch 50, loss:1.855989\n",
      "epoch 52, loss:2.236210\n",
      "epoch 54, loss:2.437223\n",
      "epoch 56, loss:1.743491\n",
      "epoch 58, loss:1.781662\n",
      "epoch 60, loss:1.657546\n",
      "epoch 62, loss:1.721750\n",
      "epoch 64, loss:1.462793\n",
      "epoch 66, loss:0.955165\n",
      "epoch 68, loss:1.316265\n",
      "epoch 70, loss:1.335389\n",
      "epoch 72, loss:0.796515\n",
      "epoch 74, loss:0.938341\n",
      "epoch 76, loss:1.000616\n",
      "epoch 78, loss:0.785519\n",
      "epoch 80, loss:0.725664\n",
      "epoch 82, loss:0.695114\n",
      "epoch 84, loss:0.661084\n",
      "epoch 86, loss:0.449347\n",
      "epoch 88, loss:0.581426\n",
      "epoch 90, loss:0.640829\n",
      "epoch 92, loss:0.898808\n",
      "epoch 94, loss:0.475893\n",
      "epoch 96, loss:0.528223\n",
      "epoch 98, loss:0.675179\n",
      "epoch 100, loss:0.431868\n",
      "epoch 102, loss:0.670578\n",
      "epoch 104, loss:0.524687\n",
      "epoch 106, loss:0.466161\n",
      "epoch 108, loss:0.402415\n",
      "epoch 110, loss:0.689072\n",
      "epoch 112, loss:0.553578\n",
      "epoch 114, loss:0.431837\n",
      "epoch 116, loss:0.385364\n",
      "epoch 118, loss:0.394821\n",
      "epoch 120, loss:0.320468\n",
      "epoch 122, loss:0.298116\n",
      "epoch 124, loss:0.280893\n",
      "epoch 126, loss:0.373924\n",
      "epoch 128, loss:0.280092\n",
      "epoch 130, loss:0.469137\n",
      "epoch 132, loss:0.200978\n",
      "epoch 134, loss:0.452761\n",
      "epoch 136, loss:0.315765\n",
      "epoch 138, loss:0.160735\n",
      "epoch 140, loss:0.433346\n",
      "epoch 142, loss:0.330343\n",
      "epoch 144, loss:0.462455\n",
      "epoch 146, loss:0.205000\n",
      "epoch 148, loss:0.227785\n",
      "epoch 150, loss:0.292460\n",
      "epoch 152, loss:0.327964\n",
      "epoch 154, loss:0.248860\n",
      "epoch 156, loss:0.269140\n",
      "epoch 158, loss:0.189210\n",
      "epoch 160, loss:0.353641\n",
      "epoch 162, loss:0.283731\n",
      "epoch 164, loss:0.419530\n",
      "epoch 166, loss:0.393530\n",
      "epoch 168, loss:0.175782\n",
      "epoch 170, loss:0.215494\n",
      "epoch 172, loss:0.250562\n",
      "epoch 174, loss:0.498286\n",
      "epoch 176, loss:0.417401\n",
      "epoch 178, loss:0.360547\n",
      "epoch 180, loss:0.116264\n",
      "epoch 182, loss:0.197539\n",
      "epoch 184, loss:0.311343\n",
      "epoch 186, loss:0.303954\n",
      "epoch 188, loss:0.149984\n",
      "epoch 190, loss:0.169573\n",
      "epoch 192, loss:0.244949\n",
      "epoch 194, loss:0.106176\n",
      "epoch 196, loss:0.128723\n",
      "epoch 198, loss:0.074960\n",
      "epoch 200, loss:0.236871\n",
      "epoch 202, loss:0.177830\n",
      "epoch 204, loss:0.083018\n",
      "epoch 206, loss:0.140386\n",
      "epoch 208, loss:0.269392\n",
      "epoch 210, loss:0.094629\n",
      "epoch 212, loss:0.253487\n",
      "epoch 214, loss:0.304873\n",
      "epoch 216, loss:0.176702\n",
      "epoch 218, loss:0.165756\n",
      "epoch 220, loss:0.247784\n",
      "epoch 222, loss:0.147241\n",
      "epoch 224, loss:0.226959\n",
      "epoch 226, loss:0.178251\n",
      "epoch 228, loss:0.136016\n",
      "epoch 230, loss:0.204612\n",
      "epoch 232, loss:0.135178\n",
      "epoch 234, loss:0.166114\n",
      "epoch 236, loss:0.261485\n",
      "epoch 238, loss:0.178392\n",
      "epoch 240, loss:0.144349\n",
      "epoch 242, loss:0.105067\n",
      "epoch 244, loss:0.180303\n",
      "epoch 246, loss:0.160736\n",
      "epoch 248, loss:0.271940\n",
      "epoch 250, loss:0.115585\n",
      "epoch 252, loss:0.175429\n",
      "epoch 254, loss:0.153377\n",
      "epoch 256, loss:0.045940\n",
      "epoch 258, loss:0.053108\n",
      "epoch 260, loss:0.123092\n",
      "epoch 262, loss:0.107120\n",
      "epoch 264, loss:0.100279\n",
      "epoch 266, loss:0.182441\n",
      "epoch 268, loss:0.074761\n",
      "epoch 270, loss:0.083922\n",
      "epoch 272, loss:0.096317\n",
      "epoch 274, loss:0.121218\n",
      "epoch 276, loss:0.050588\n",
      "epoch 278, loss:0.092433\n",
      "epoch 280, loss:0.154077\n",
      "epoch 282, loss:0.080223\n",
      "epoch 284, loss:0.162835\n",
      "epoch 286, loss:0.082647\n",
      "epoch 288, loss:0.108578\n",
      "epoch 290, loss:0.169721\n",
      "epoch 292, loss:0.116117\n",
      "epoch 294, loss:0.081109\n",
      "epoch 296, loss:0.197580\n",
      "epoch 298, loss:0.129843\n"
     ]
    }
   ],
   "source": [
    "# train model\n",
    "num_epochs = 300\n",
    "lr.train()\n",
    "loss_log = []\n",
    "for epoch in range(num_epochs):\n",
    "    # load data\n",
    "    for i, data in enumerate(sp_loader_train):\n",
    "        x, c, w, z = data\n",
    "        # cuda\n",
    "        if torch.cuda.is_available():\n",
    "            x, c, w, z = x.cuda(), c.cuda(), w.cuda(), z.cuda()\n",
    "        # forward pass\n",
    "        cp = lr(x)\n",
    "        loss = criterion.apply(sp_model, cp, c, w, z).mean()\n",
    "        # l1 reg\n",
    "        l1_lambda = 1e-3\n",
    "        l1_reg = torch.tensor(0.).cuda()\n",
    "        for param in lr.parameters():\n",
    "            l1_reg += torch.norm(param, 1)\n",
    "        loss += l1_lambda * l1_reg\n",
    "        # backward pass\n",
    "        optimizer.zero_grad()\n",
    "        loss.backward()\n",
    "        optimizer.step()\n",
    "    loss_log.append(loss.item())\n",
    "    if epoch % 2 == 0:\n",
    "        print('epoch {}, loss:{:.6f}'.format(epoch, loss.item()))"
   ]
  },
  {
   "cell_type": "code",
   "execution_count": 30,
   "id": "closed-companion",
   "metadata": {},
   "outputs": [
    {
     "data": {
      "image/png": "[encoded data removed]",
      "text/plain": [
       "<Figure size 864x432 with 1 Axes>"
      ]
     },
     "metadata": {
      "needs_background": "light"
     },
     "output_type": "display_data"
    }
   ],
   "source": [
    "# draw plot\n",
    "plt.figure(figsize=(12, 6))\n",
    "plt.plot(loss_log, color='c')\n",
    "plt.xlabel('Epoch')\n",
    "plt.ylabel('SPO+ Loss with Regularization')\n",
    "plt.title('Learning Curve')\n",
    "plt.show()"
   ]
  },
  {
   "cell_type": "markdown",
   "id": "progressive-benefit",
   "metadata": {},
   "source": [
    "## Evaluation "
   ]
  },
  {
   "cell_type": "code",
   "execution_count": 31,
   "id": "julian-stone",
   "metadata": {},
   "outputs": [
    {
     "name": "stdout",
     "output_type": "stream",
     "text": [
      "Normalized loss on test: 0.43%\n"
     ]
    }
   ],
   "source": [
    "# evaluate\n",
    "lr.eval()\n",
    "loss = 0\n",
    "optsum = 0\n",
    "# load data\n",
    "for i, data in enumerate(sp_loader_test):\n",
    "    x, c, w, z = data\n",
    "    # cuda\n",
    "    if torch.cuda.is_available():\n",
    "        x, c, w, z = x.cuda(), c.cuda(), w.cuda(), z.cuda()\n",
    "    # predict\n",
    "    cp = lr(x)\n",
    "    # accumulate loss\n",
    "    loss += criterion.apply(sp_model, cp, c, w, z).sum().item()\n",
    "    optsum += z.sum().item()\n",
    "print('Normalized loss on test: {:.2f}%'.format(loss / optsum * 100))"
   ]
  },
  {
   "cell_type": "code",
   "execution_count": 32,
   "id": "presidential-vehicle",
   "metadata": {
    "scrolled": false
   },
   "outputs": [
    {
     "name": "stdout",
     "output_type": "stream",
     "text": [
      "Sample 0:\n",
      "    True cost: 3.56, 2.73, 2.34, 3.59, 2.70, 3.34, 2.62, 2.36, 3.81, 2.84, 3.34, 2.84, 3.23, 2.36, 3.71, 2.36, 2.87, 2.12, 1.64, 3.34, 2.84, 2.12, 2.47, 3.21, 3.06, 2.62, 3.71, 3.71, 1.86, 2.95, 1.75, 3.23, 1.75, 2.73, 2.34, 2.95, 2.62, 2.95, 2.00, 2.12\n",
      "    Pred cost: -0.13, 0.13, 0.34, 1.07, -0.43, 0.79, -0.03, 0.37, 0.03, 0.28, 0.20, 0.30, 0.19, -0.48, 1.14, -0.01, 0.55, -0.86, 0.14, 0.01, 0.04, 1.15, 0.30, -0.44, 0.39, -0.67, 0.34, 0.01, -0.31, -0.44, -0.86, 0.05, 0.46, -0.80, 0.07, 0.13, 0.46, -1.08, 0.06, -0.93\n",
      "    True sol: 0, 0, 0, 0, 1, 0, 0, 0, 0, 0, 0, 0, 0, 1, 0, 0, 0, 0, 1, 0, 0, 0, 0, 1, 0, 0, 0, 0, 1, 0, 0, 0, 0, 1, 0, 0, 0, 0, 1, 1, True obj: 18.61\n",
      "    Pred sol: 0, 0, 0, 0, 1, 0, 0, 0, 0, 0, 0, 0, 0, 1, 0, 0, 0, 0, 1, 0, 0, 0, 0, 1, 0, 0, 0, 0, 1, 0, 0, 0, 0, 1, 0, 0, 0, 0, 1, 1, Pred obj: 18.61\n",
      "\n",
      "Sample 1:\n",
      "    True cost: 0.61, 1.95, 2.34, 1.30, 1.26, 0.45, 0.68, 1.08, 1.46, 1.97, 0.45, 0.83, 0.44, 1.08, 1.32, 1.08, 1.52, 2.19, 1.30, 0.45, 0.83, 2.19, 1.10, 1.70, 2.12, 0.68, 1.32, 1.32, 1.46, 2.10, 1.32, 0.44, 1.32, 1.95, 2.34, 2.10, 0.68, 2.10, 2.17, 2.19\n",
      "    Pred cost: -0.33, 0.10, 0.03, -0.27, 0.37, -0.54, -0.02, 0.79, 0.08, 0.06, -0.68, -0.74, -0.97, -0.94, -0.02, 0.15, -0.05, 0.09, 0.41, -0.30, -1.29, 0.10, 0.18, -0.27, 0.08, -1.06, -0.08, -0.12, 0.41, -0.66, -0.34, 0.58, -0.24, -0.70, -0.45, -0.47, -0.89, -0.50, -0.47, 0.47\n",
      "    True sol: 1, 0, 0, 0, 0, 1, 0, 0, 0, 0, 1, 0, 0, 0, 0, 1, 0, 0, 0, 0, 1, 0, 0, 0, 0, 1, 0, 0, 0, 0, 1, 0, 0, 0, 0, 1, 0, 0, 0, 0, True obj: 7.53\n",
      "    Pred sol: 1, 0, 0, 0, 0, 1, 0, 0, 0, 0, 1, 0, 0, 0, 0, 1, 0, 0, 0, 0, 1, 0, 0, 0, 0, 1, 0, 0, 0, 0, 1, 0, 0, 0, 0, 1, 0, 0, 0, 0, Pred obj: 7.53\n",
      "\n",
      "Sample 2:\n",
      "    True cost: 3.44, 3.48, 2.34, 3.47, 3.44, 4.07, 3.66, 4.16, 2.84, 3.39, 4.07, 3.03, 4.16, 4.16, 3.39, 4.16, 3.06, 2.98, 3.75, 4.07, 3.03, 2.98, 4.07, 2.34, 2.75, 3.66, 3.39, 3.39, 3.12, 2.84, 3.66, 4.16, 3.66, 3.48, 2.34, 2.84, 3.66, 2.84, 3.06, 2.98\n",
      "    Pred cost: 0.30, -0.07, -0.31, -0.10, -0.01, 0.31, -0.37, 0.63, -0.47, 0.21, 0.03, -0.39, 1.14, 0.53, -0.72, -0.38, 0.35, -0.94, -0.24, -0.16, 0.87, 0.03, 0.81, -0.60, 0.65, 0.53, 0.56, -0.62, 0.12, 0.13, 0.06, -0.06, -0.17, 0.12, -0.42, 0.23, 1.28, 0.26, 0.73, -0.21\n",
      "    True sol: 0, 0, 0, 0, 1, 0, 0, 0, 0, 1, 0, 0, 0, 0, 1, 0, 0, 0, 0, 0, 0, 0, 0, 1, 0, 0, 0, 0, 1, 1, 0, 0, 0, 0, 1, 0, 0, 0, 0, 1, True obj: 23.83\n",
      "    Pred sol: 0, 0, 0, 0, 1, 0, 0, 0, 0, 1, 0, 0, 0, 0, 1, 0, 0, 0, 0, 0, 0, 0, 0, 1, 0, 0, 0, 0, 1, 1, 0, 0, 0, 0, 1, 0, 0, 0, 0, 1, Pred obj: 23.83\n",
      "\n",
      "Sample 3:\n",
      "    True cost: 3.45, 3.51, 2.34, 4.42, 2.53, 3.74, 3.13, 3.08, 4.13, 3.25, 3.74, 2.83, 4.00, 3.08, 4.17, 3.08, 3.81, 2.64, 2.47, 3.74, 2.83, 2.64, 2.83, 3.26, 2.96, 3.13, 4.17, 4.17, 2.17, 3.21, 2.21, 4.00, 2.21, 3.51, 2.34, 3.21, 3.13, 3.21, 2.89, 2.64\n",
      "    Pred cost: 0.13, 0.37, 0.47, 0.98, 0.03, 0.92, 0.28, 0.52, 0.31, 0.17, 0.32, 0.58, 0.03, -0.85, 0.80, -0.09, 0.58, -0.34, 0.51, 0.21, 0.14, 1.24, 0.65, -0.44, 0.34, -0.59, 0.36, 0.05, -0.10, -0.45, -0.49, -0.03, 0.00, -0.82, -0.26, -0.46, 0.65, -0.80, 0.93, -1.01\n",
      "    True sol: 0, 0, 0, 0, 1, 0, 0, 0, 0, 0, 0, 0, 0, 1, 0, 0, 0, 0, 1, 0, 0, 0, 0, 1, 0, 0, 0, 0, 1, 1, 0, 0, 0, 0, 1, 0, 0, 0, 0, 1, True obj: 21.69\n",
      "    Pred sol: 0, 0, 0, 0, 1, 0, 0, 0, 0, 0, 0, 0, 0, 1, 0, 0, 0, 0, 1, 0, 0, 0, 0, 1, 0, 0, 0, 0, 1, 1, 0, 0, 0, 0, 1, 0, 0, 0, 0, 1, Pred obj: 21.69\n",
      "\n",
      "Sample 4:\n",
      "    True cost: 2.42, 2.66, 2.34, 3.09, 1.99, 2.65, 2.61, 2.27, 2.86, 2.61, 2.65, 2.38, 2.70, 2.27, 3.04, 2.27, 3.05, 2.57, 2.23, 2.65, 2.38, 2.57, 2.22, 2.77, 2.38, 2.61, 3.04, 3.04, 2.00, 2.43, 2.18, 2.70, 2.18, 2.66, 2.34, 2.43, 2.61, 2.43, 2.62, 2.57\n",
      "    Pred cost: -0.01, 0.23, 0.29, 0.17, 0.23, 0.52, 0.32, 0.54, 0.27, 0.00, 0.00, 0.28, -0.36, -0.79, 0.49, -0.11, 0.54, -0.36, 0.47, -0.03, -0.10, 0.64, 0.50, -0.44, -0.15, -0.44, 0.18, -0.25, -0.00, -0.42, -0.47, 0.28, -0.15, -0.53, -0.15, -0.40, 0.16, -0.46, 0.47, -0.47\n",
      "    True sol: 0, 0, 0, 0, 1, 0, 0, 0, 0, 0, 0, 0, 0, 1, 0, 0, 0, 0, 1, 0, 0, 0, 0, 1, 0, 0, 0, 0, 1, 1, 1, 0, 0, 0, 0, 1, 0, 0, 0, 0, True obj: 18.30\n",
      "    Pred sol: 0, 0, 0, 0, 1, 0, 0, 0, 0, 0, 0, 0, 0, 1, 0, 0, 0, 0, 1, 0, 0, 0, 0, 1, 0, 0, 0, 0, 1, 1, 1, 0, 0, 0, 0, 1, 0, 0, 0, 0, Pred obj: 18.30\n",
      "\n",
      "Sample 5:\n",
      "    True cost: 1.73, 2.08, 2.34, 1.64, 2.16, 1.75, 1.69, 1.84, 1.61, 2.42, 1.75, 1.67, 1.40, 1.84, 1.99, 1.84, 1.58, 2.37, 1.78, 1.75, 1.67, 2.37, 2.19, 1.91, 2.40, 1.69, 1.99, 1.99, 1.75, 2.05, 2.13, 1.40, 2.13, 2.08, 2.34, 2.05, 1.69, 2.05, 2.02, 2.37\n",
      "    Pred cost: -0.30, -0.03, -0.20, -0.24, 0.04, -0.18, -0.30, 0.55, -0.26, 0.15, -0.39, -0.71, -0.09, -0.26, -0.07, 0.00, 0.08, -0.68, -0.17, -0.17, -0.48, 0.00, 0.34, -0.40, 0.30, -0.33, 0.28, -0.41, 0.15, -0.36, -0.48, 0.51, 0.10, -0.32, -0.26, 0.03, -0.09, -0.33, -0.47, 0.22\n",
      "    True sol: 1, 0, 0, 0, 0, 1, 0, 0, 0, 0, 1, 1, 0, 0, 0, 0, 1, 0, 0, 0, 0, 0, 0, 0, 0, 1, 0, 0, 0, 0, 1, 0, 0, 0, 0, 1, 0, 0, 0, 0, True obj: 14.35\n",
      "    Pred sol: 1, 0, 0, 0, 0, 1, 0, 0, 0, 0, 1, 1, 0, 0, 0, 0, 1, 0, 0, 0, 0, 0, 0, 0, 0, 1, 0, 0, 0, 0, 1, 0, 0, 0, 0, 1, 0, 0, 0, 0, Pred obj: 14.35\n",
      "\n",
      "Sample 6:\n",
      "    True cost: 2.05, 2.05, 2.34, 2.03, 2.06, 1.79, 2.56, 2.54, 2.29, 1.32, 1.79, 2.82, 2.52, 2.54, 1.30, 2.54, 2.80, 2.09, 3.31, 1.79, 2.82, 2.09, 1.81, 2.33, 1.57, 2.56, 1.30, 1.30, 3.56, 2.31, 2.58, 2.52, 2.58, 2.05, 2.34, 2.31, 2.56, 2.31, 2.82, 2.09\n",
      "    Pred cost: 0.53, -0.45, 0.04, -0.93, 0.17, -0.27, 0.29, 1.04, -0.07, -0.20, -0.67, -0.21, -0.06, 0.44, -0.68, -0.52, 0.79, -0.30, 0.88, -1.40, 0.44, -0.45, -0.00, -0.60, -0.89, -0.15, -0.55, -0.73, 0.21, 0.11, 0.34, -0.15, -0.92, 0.17, 0.13, 0.44, -0.02, 0.57, 0.34, 0.28\n",
      "    True sol: 0, 0, 0, 0, 1, 0, 0, 0, 0, 1, 0, 0, 0, 0, 1, 0, 0, 0, 0, 1, 0, 0, 0, 0, 1, 0, 0, 0, 0, 1, 0, 0, 0, 0, 1, 0, 0, 0, 0, 1, True obj: 14.79\n",
      "    Pred sol: 0, 0, 0, 0, 1, 0, 0, 0, 0, 1, 0, 0, 0, 0, 1, 0, 0, 0, 0, 1, 0, 0, 0, 0, 1, 0, 0, 0, 0, 1, 0, 0, 0, 0, 1, 0, 0, 0, 0, 1, Pred obj: 14.79\n",
      "\n",
      "Sample 7:\n",
      "    True cost: 1.22, 2.24, 2.34, 1.84, 1.62, 1.45, 2.07, 2.13, 1.62, 1.95, 1.45, 1.84, 1.74, 2.13, 1.56, 2.13, 2.46, 2.57, 2.75, 1.45, 1.84, 2.57, 1.84, 1.95, 1.72, 2.07, 1.56, 1.56, 2.52, 2.01, 2.46, 1.74, 2.46, 2.24, 2.34, 2.01, 2.07, 2.01, 2.86, 2.57\n",
      "    Pred cost: 0.14, -0.03, -0.02, -0.87, 0.55, -0.27, 0.25, 0.87, 0.09, -0.15, -0.55, -0.36, -0.53, -0.38, -0.57, -0.24, 0.38, -0.07, 0.60, -0.60, -0.26, -0.28, 0.37, -0.46, -0.48, -0.26, -0.16, -0.57, 0.37, -0.23, 0.09, 0.34, -0.72, -0.10, -0.29, -0.31, -0.26, 0.30, 0.30, 0.38\n",
      "    True sol: 1, 0, 0, 0, 0, 1, 0, 0, 0, 0, 0, 0, 0, 0, 1, 0, 0, 0, 0, 1, 1, 1, 0, 0, 0, 0, 1, 0, 0, 0, 0, 0, 0, 0, 0, 1, 0, 0, 0, 0, True obj: 13.66\n",
      "    Pred sol: 1, 0, 0, 0, 0, 1, 0, 0, 0, 0, 0, 0, 0, 0, 1, 0, 0, 0, 0, 1, 1, 1, 0, 0, 0, 0, 1, 0, 0, 0, 0, 0, 0, 0, 0, 1, 0, 0, 0, 0, Pred obj: 13.66\n",
      "\n",
      "Sample 8:\n",
      "    True cost: 3.40, 2.89, 2.34, 2.93, 3.36, 3.36, 2.92, 3.47, 2.97, 2.75, 3.36, 2.96, 3.51, 3.47, 2.79, 3.47, 2.49, 2.30, 3.02, 3.36, 2.96, 2.30, 3.32, 2.38, 2.79, 2.92, 2.79, 2.79, 3.06, 2.93, 2.88, 3.51, 2.88, 2.89, 2.34, 2.93, 2.92, 2.93, 2.45, 2.30\n",
      "    Pred cost: 0.22, -0.31, -0.24, 0.13, -0.39, 0.07, -0.50, 0.69, -0.58, 0.28, -0.21, -0.57, 1.05, 0.73, -0.40, -0.31, 0.37, -1.02, -0.16, -0.60, 0.61, 0.08, 0.34, -0.56, 0.58, 0.06, 0.27, -0.48, 0.03, 0.07, -0.09, -0.18, -0.00, -0.06, -0.14, 0.68, 0.87, -0.06, 0.10, -0.15\n",
      "    True sol: 0, 0, 0, 0, 1, 0, 0, 0, 0, 1, 0, 0, 0, 0, 1, 0, 0, 0, 0, 0, 0, 0, 0, 1, 0, 0, 0, 0, 0, 0, 0, 0, 1, 0, 0, 0, 0, 1, 1, 1, True obj: 21.84\n",
      "    Pred sol: 0, 0, 0, 0, 1, 0, 0, 0, 0, 1, 0, 0, 0, 0, 1, 0, 0, 0, 0, 0, 0, 0, 0, 1, 0, 0, 0, 0, 1, 1, 0, 0, 0, 0, 1, 0, 0, 0, 0, 1, Pred obj: 21.92\n",
      "\n",
      "Sample 9:\n",
      "    True cost: 4.24, 2.50, 2.34, 2.56, 4.18, 3.78, 2.87, 3.43, 3.01, 2.80, 3.78, 3.32, 3.48, 3.43, 2.86, 3.43, 1.64, 1.89, 2.51, 3.78, 3.32, 1.89, 3.73, 2.40, 3.26, 2.87, 2.86, 2.86, 2.97, 2.96, 2.81, 3.48, 2.81, 2.50, 2.34, 2.96, 2.87, 2.96, 1.59, 1.89\n",
      "    Pred cost: 0.01, -0.60, -0.51, 0.47, -1.07, 0.06, -1.08, 0.48, -1.10, 0.53, -0.18, -0.96, 1.82, 1.48, -0.17, -0.27, 0.29, -1.85, -0.87, -0.68, 0.86, 0.05, 0.11, -0.61, 1.05, 0.24, 0.49, -0.54, -0.25, 0.22, -0.45, -0.24, 0.65, 0.05, 0.14, 1.51, 1.19, -0.34, -0.70, -0.22\n",
      "    True sol: 0, 0, 0, 0, 1, 0, 0, 0, 0, 1, 0, 0, 0, 0, 1, 0, 0, 0, 0, 0, 0, 0, 0, 1, 0, 0, 0, 0, 1, 0, 0, 0, 0, 1, 0, 0, 0, 0, 1, 1, True obj: 21.19\n",
      "    Pred sol: 0, 0, 0, 0, 1, 0, 0, 0, 0, 1, 0, 0, 0, 0, 1, 0, 0, 0, 0, 0, 0, 0, 0, 1, 0, 0, 0, 0, 1, 0, 0, 0, 0, 1, 0, 0, 0, 0, 1, 1, Pred obj: 21.19\n",
      "\n"
     ]
    }
   ],
   "source": [
    "# compare solutions\n",
    "lr.eval()\n",
    "loss = []\n",
    "# load data\n",
    "for i, data in enumerate(sp_loader_test):\n",
    "    x, c, w, z = data\n",
    "    # cuda\n",
    "    if torch.cuda.is_available():\n",
    "        x, c, w, z = x.cuda(), c.cuda(), w.cuda(), z.cuda()\n",
    "    # predict\n",
    "    cp = lr(x)\n",
    "    # convert to numpy\n",
    "    c = c.to('cpu').detach().numpy().tolist()\n",
    "    w = w.to('cpu').detach().numpy().tolist()\n",
    "    z = z.to('cpu').detach().numpy().tolist()\n",
    "    cp = cp.to('cpu').detach().numpy().tolist()\n",
    "    for j in range(min(10, batch_size)):\n",
    "        print('Sample {}:'.format(j))\n",
    "        print('    True cost:', ', '.join(['{:.2f}'.format(cost) for cost in c[j]]))\n",
    "        print('    Pred cost:', ', '.join(['{:.2f}'.format(cost) for cost in cp[j]]))\n",
    "        # solve cost from prediction\n",
    "        sp_model.setObj(cp[j])\n",
    "        wpj, _ = sp_model.solve()\n",
    "        zpj = np.dot(c[j], wpj)\n",
    "        print('    True sol: ' + ', '.join(['{:.0f}'.format(x) for x in w[j]]) + ', True obj: {:.2f}'.format(z[j][0]))\n",
    "        print('    Pred sol: '+  ', '.join(['{:.0f}'.format(x) for x in wpj]) + ', Pred obj: {:.2f}'.format(zpj))\n",
    "        print()\n",
    "    break"
   ]
  },
  {
   "cell_type": "code",
   "execution_count": null,
   "id": "featured-academy",
   "metadata": {},
   "outputs": [],
   "source": []
  }
 ],
 "metadata": {
  "kernelspec": {
   "display_name": "Python 3",
   "language": "python",
   "name": "python3"
  },
  "language_info": {
   "codemirror_mode": {
    "name": "ipython",
    "version": 3
   },
   "file_extension": ".py",
   "mimetype": "text/x-python",
   "name": "python",
   "nbconvert_exporter": "python",
   "pygments_lexer": "ipython3",
   "version": "3.7.9"
  }
 },
 "nbformat": 4,
 "nbformat_minor": 5
}
