{
 "cells": [
  {
   "cell_type": "markdown",
   "id": "naval-blade",
   "metadata": {},
   "source": [
    "## Optimization model "
   ]
  },
  {
   "cell_type": "code",
   "execution_count": 1,
   "id": "accredited-pearl",
   "metadata": {},
   "outputs": [],
   "source": [
    "from model import shortestPathModel"
   ]
  },
  {
   "cell_type": "code",
   "execution_count": 2,
   "id": "declared-brunswick",
   "metadata": {},
   "outputs": [
    {
     "name": "stdout",
     "output_type": "stream",
     "text": [
      "Academic license - for non-commercial use only - expires 2021-04-13\n",
      "Using license file C:\\Users\\Apocrypse\\gurobi.lic\n"
     ]
    }
   ],
   "source": [
    "# model for shortest path\n",
    "grid = (5,5)\n",
    "sp_model = shortestPathModel(grid)"
   ]
  },
  {
   "cell_type": "code",
   "execution_count": 3,
   "id": "precious-employee",
   "metadata": {},
   "outputs": [
    {
     "name": "stdout",
     "output_type": "stream",
     "text": [
      "Obj: 8.0\n",
      "(0, 1)\n",
      "(1, 2)\n",
      "(2, 3)\n",
      "(3, 4)\n",
      "(4, 9)\n",
      "(9, 14)\n",
      "(14, 19)\n",
      "(19, 24)\n"
     ]
    }
   ],
   "source": [
    "# solve\n",
    "sp_model.setObj([1 for i in range(40)])\n",
    "sol, obj = sp_model.solve()\n",
    "print('Obj: {}'.format(obj))\n",
    "for i, e in enumerate(sp_model.arcs):\n",
    "    if sol[i] > 1e-3:\n",
    "        print(e)"
   ]
  },
  {
   "cell_type": "markdown",
   "id": "directed-consultancy",
   "metadata": {},
   "source": [
    "## Data Loader"
   ]
  },
  {
   "cell_type": "code",
   "execution_count": 4,
   "id": "little-diversity",
   "metadata": {},
   "outputs": [],
   "source": [
    "from data import shortestpath, dataset\n",
    "from sklearn.model_selection import train_test_split\n",
    "from torch.utils.data import DataLoader"
   ]
  },
  {
   "cell_type": "code",
   "execution_count": 5,
   "id": "relative-cherry",
   "metadata": {},
   "outputs": [],
   "source": [
    "# generate data for grid network (features and costs)\n",
    "n = 1000 # number of data\n",
    "p = 5 # size of feature\n",
    "deg = 2 # polynomial kernel\n",
    "x, c = shortestpath.genData(n, p, grid, deg=2)"
   ]
  },
  {
   "cell_type": "code",
   "execution_count": 6,
   "id": "regulated-freeware",
   "metadata": {},
   "outputs": [],
   "source": [
    "# data split\n",
    "x_train, x_test, c_train, c_test = train_test_split(x, c, test_size=0.2, random_state=246)"
   ]
  },
  {
   "cell_type": "code",
   "execution_count": 7,
   "id": "human-praise",
   "metadata": {},
   "outputs": [
    {
     "name": "stdout",
     "output_type": "stream",
     "text": [
      "Optimizing for optDataset...\n"
     ]
    },
    {
     "name": "stderr",
     "output_type": "stream",
     "text": [
      "100%|███████████████████████████████████████████████████████████████████████| 800/800 [00:04<00:00, 187.50it/s]\n"
     ]
    }
   ],
   "source": [
    "# get training data set\n",
    "sp_dataset_train = dataset.optDataset(sp_model, x_train, c_train)"
   ]
  },
  {
   "cell_type": "code",
   "execution_count": 8,
   "id": "immune-interpretation",
   "metadata": {},
   "outputs": [
    {
     "name": "stdout",
     "output_type": "stream",
     "text": [
      "Optimizing for optDataset...\n"
     ]
    },
    {
     "name": "stderr",
     "output_type": "stream",
     "text": [
      "100%|███████████████████████████████████████████████████████████████████████| 200/200 [00:01<00:00, 172.46it/s]\n"
     ]
    }
   ],
   "source": [
    "# get training data set\n",
    "sp_dataset_test = dataset.optDataset(sp_model, x_test, c_test)"
   ]
  },
  {
   "cell_type": "code",
   "execution_count": 9,
   "id": "incident-kinase",
   "metadata": {},
   "outputs": [],
   "source": [
    "# get data loader\n",
    "batch_size = 32\n",
    "sp_loader_train = DataLoader(sp_dataset_train, batch_size=batch_size, shuffle=True)\n",
    "sp_loader_test = DataLoader(sp_dataset_test, batch_size=batch_size, shuffle=False)"
   ]
  },
  {
   "cell_type": "code",
   "execution_count": 10,
   "id": "intellectual-softball",
   "metadata": {},
   "outputs": [],
   "source": [
    "for i, data in enumerate(sp_loader_train):\n",
    "    x, c, w, z = data\n",
    "    break"
   ]
  },
  {
   "cell_type": "code",
   "execution_count": 11,
   "id": "instant-polymer",
   "metadata": {},
   "outputs": [
    {
     "data": {
      "text/plain": [
       "torch.Size([32, 5])"
      ]
     },
     "execution_count": 11,
     "metadata": {},
     "output_type": "execute_result"
    }
   ],
   "source": [
    "x.shape"
   ]
  },
  {
   "cell_type": "code",
   "execution_count": 12,
   "id": "known-framing",
   "metadata": {},
   "outputs": [
    {
     "data": {
      "text/plain": [
       "torch.Size([32, 40])"
      ]
     },
     "execution_count": 12,
     "metadata": {},
     "output_type": "execute_result"
    }
   ],
   "source": [
    "c.shape"
   ]
  },
  {
   "cell_type": "code",
   "execution_count": 13,
   "id": "partial-algeria",
   "metadata": {},
   "outputs": [
    {
     "data": {
      "text/plain": [
       "torch.Size([32, 40])"
      ]
     },
     "execution_count": 13,
     "metadata": {},
     "output_type": "execute_result"
    }
   ],
   "source": [
    "w.shape"
   ]
  },
  {
   "cell_type": "code",
   "execution_count": 14,
   "id": "known-contemporary",
   "metadata": {},
   "outputs": [
    {
     "data": {
      "text/plain": [
       "torch.Size([32, 1])"
      ]
     },
     "execution_count": 14,
     "metadata": {},
     "output_type": "execute_result"
    }
   ],
   "source": [
    "z.shape"
   ]
  },
  {
   "cell_type": "markdown",
   "id": "sacred-consequence",
   "metadata": {},
   "source": [
    "## Loss Function"
   ]
  },
  {
   "cell_type": "code",
   "execution_count": 15,
   "id": "authentic-boring",
   "metadata": {},
   "outputs": [],
   "source": [
    "from loss import SPOPlusLoss"
   ]
  },
  {
   "cell_type": "code",
   "execution_count": 16,
   "id": "directed-composition",
   "metadata": {},
   "outputs": [],
   "source": [
    "# init SPO+ loss\n",
    "criterion = SPOPlusLoss()"
   ]
  },
  {
   "cell_type": "markdown",
   "id": "technological-queue",
   "metadata": {},
   "source": [
    "## Linear Regression "
   ]
  },
  {
   "cell_type": "code",
   "execution_count": 17,
   "id": "shaped-wonder",
   "metadata": {},
   "outputs": [],
   "source": [
    "import torch\n",
    "from torch import nn"
   ]
  },
  {
   "cell_type": "code",
   "execution_count": 18,
   "id": "fresh-adolescent",
   "metadata": {},
   "outputs": [],
   "source": [
    "# build linear model\n",
    "class LinearRegression(nn.Module):\n",
    "    \n",
    "    def __init__(self):\n",
    "        super(LinearRegression, self).__init__()\n",
    "        self.linear = nn.Linear(p, (grid[0] - 1) * grid[1] + (grid[1] - 1) * grid[0])\n",
    "    \n",
    "    def forward(self, x):\n",
    "        out = self.linear(x)\n",
    "        return out"
   ]
  },
  {
   "cell_type": "markdown",
   "id": "accessible-clerk",
   "metadata": {},
   "source": [
    "## Training "
   ]
  },
  {
   "cell_type": "code",
   "execution_count": 19,
   "id": "challenging-reservation",
   "metadata": {},
   "outputs": [],
   "source": [
    "from matplotlib import pyplot as plt"
   ]
  },
  {
   "cell_type": "code",
   "execution_count": 20,
   "id": "interior-secondary",
   "metadata": {},
   "outputs": [],
   "source": [
    "# init model\n",
    "lr = LinearRegression()\n",
    "# cuda\n",
    "if torch.cuda.is_available():\n",
    "    lr = lr.cuda()"
   ]
  },
  {
   "cell_type": "code",
   "execution_count": 21,
   "id": "asian-screening",
   "metadata": {},
   "outputs": [],
   "source": [
    "# set optimizer\n",
    "optimizer = torch.optim.Adam(lr.parameters(), lr=5e-3)"
   ]
  },
  {
   "cell_type": "code",
   "execution_count": 22,
   "id": "framed-classification",
   "metadata": {
    "scrolled": false
   },
   "outputs": [
    {
     "name": "stdout",
     "output_type": "stream",
     "text": [
      "epoch 5, loss:8.099779\n",
      "epoch 10, loss:3.599141\n",
      "epoch 15, loss:1.812626\n",
      "epoch 20, loss:1.224762\n",
      "epoch 25, loss:0.700830\n",
      "epoch 30, loss:1.182923\n",
      "epoch 35, loss:0.613806\n",
      "epoch 40, loss:1.177821\n",
      "epoch 45, loss:1.568670\n",
      "epoch 50, loss:1.215035\n",
      "epoch 55, loss:0.612569\n",
      "epoch 60, loss:0.723868\n",
      "epoch 65, loss:1.743960\n",
      "epoch 70, loss:0.237053\n",
      "epoch 75, loss:0.568758\n",
      "epoch 80, loss:1.003181\n",
      "epoch 85, loss:0.783003\n",
      "epoch 90, loss:0.299828\n",
      "epoch 95, loss:0.669302\n",
      "epoch 100, loss:0.722064\n",
      "epoch 105, loss:1.103333\n",
      "epoch 110, loss:1.444470\n",
      "epoch 115, loss:0.932818\n",
      "epoch 120, loss:0.898789\n",
      "epoch 125, loss:1.092160\n",
      "epoch 130, loss:0.636796\n",
      "epoch 135, loss:1.082613\n",
      "epoch 140, loss:1.402875\n",
      "epoch 145, loss:0.843796\n",
      "epoch 150, loss:1.920856\n",
      "epoch 155, loss:0.484023\n",
      "epoch 160, loss:0.904838\n",
      "epoch 165, loss:0.348377\n",
      "epoch 170, loss:0.991445\n",
      "epoch 175, loss:0.452012\n",
      "epoch 180, loss:0.654733\n",
      "epoch 185, loss:0.324849\n",
      "epoch 190, loss:0.397911\n",
      "epoch 195, loss:0.708110\n",
      "epoch 200, loss:0.857160\n"
     ]
    }
   ],
   "source": [
    "# train model\n",
    "num_epochs = 200\n",
    "lr.train()\n",
    "loss_log = []\n",
    "for epoch in range(num_epochs):\n",
    "    # load data\n",
    "    for i, data in enumerate(sp_loader_train):\n",
    "        x, c, w, z = data\n",
    "        # cuda\n",
    "        if torch.cuda.is_available():\n",
    "            x, c, w, z = x.cuda(), c.cuda(), w.cuda(), z.cuda()\n",
    "        # forward pass\n",
    "        cp = lr(x)\n",
    "        loss = criterion.apply(sp_model, cp, c, w, z).mean()\n",
    "        # backward pass\n",
    "        optimizer.zero_grad()\n",
    "        loss.backward()\n",
    "        optimizer.step()\n",
    "    loss_log.append(loss.item())\n",
    "    if (epoch + 1) % 5 == 0:\n",
    "        print('epoch {}, loss:{:.6f}'.format(epoch+1, loss.item()))"
   ]
  },
  {
   "cell_type": "code",
   "execution_count": 23,
   "id": "cheap-thought",
   "metadata": {},
   "outputs": [
    {
     "data": {
      "image/png": "[encoded data removed]",
      "text/plain": [
       "<Figure size 864x432 with 1 Axes>"
      ]
     },
     "metadata": {
      "needs_background": "light"
     },
     "output_type": "display_data"
    }
   ],
   "source": [
    "# draw plot\n",
    "plt.figure(figsize=(12, 6))\n",
    "plt.plot(loss_log, color='c')\n",
    "plt.xlabel('Epoch')\n",
    "plt.ylabel('SPO+ Loss')\n",
    "plt.title('Learning Curve')\n",
    "plt.show()"
   ]
  },
  {
   "cell_type": "markdown",
   "id": "industrial-opposition",
   "metadata": {},
   "source": [
    "## Evaluation "
   ]
  },
  {
   "cell_type": "code",
   "execution_count": 24,
   "id": "precise-brunswick",
   "metadata": {},
   "outputs": [],
   "source": [
    "import numpy as np"
   ]
  },
  {
   "cell_type": "code",
   "execution_count": 25,
   "id": "scheduled-championship",
   "metadata": {},
   "outputs": [
    {
     "name": "stdout",
     "output_type": "stream",
     "text": [
      "Normalized loss on test: 6.16%\n"
     ]
    }
   ],
   "source": [
    "# evaluate\n",
    "lr.eval()\n",
    "loss = 0\n",
    "optsum = 0\n",
    "# load data\n",
    "for i, data in enumerate(sp_loader_test):\n",
    "    x, c, w, z = data\n",
    "    # cuda\n",
    "    if torch.cuda.is_available():\n",
    "        x, c, w, z = x.cuda(), c.cuda(), w.cuda(), z.cuda()\n",
    "    # predict\n",
    "    cp = lr(x)\n",
    "    # accumulate loss\n",
    "    loss += criterion.apply(sp_model, cp, c, w, z).sum().item()\n",
    "    optsum += z.sum().item()\n",
    "print('Normalized loss on test: {:.2f}%'.format(loss / optsum * 100))"
   ]
  },
  {
   "cell_type": "code",
   "execution_count": 26,
   "id": "still-iraqi",
   "metadata": {
    "scrolled": false
   },
   "outputs": [
    {
     "name": "stdout",
     "output_type": "stream",
     "text": [
      "Sample 0:\n",
      "    True cost: 7.57, 3.98, 2.80, 7.73, 3.88, 6.49, 3.63, 2.84, 8.92, 4.40, 6.49, 4.39, 5.95, 2.84, 8.35, 2.84, 4.50, 2.26, 1.40, 6.49, 4.39, 2.26, 3.17, 5.88, 5.26, 3.63, 8.35, 8.35, 1.73, 4.79, 1.57, 5.95, 1.57, 3.98, 2.80, 4.79, 3.63, 4.79, 2.01, 2.26\n",
      "    Pred cost: 0.34, 1.05, 2.55, 0.62, -1.35, 2.50, 0.07, 1.36, -0.91, -0.47, 0.71, 1.43, 0.10, -2.60, 1.64, -0.85, -1.38, 1.90, -2.45, 1.22, -0.32, 0.31, 0.48, -0.90, 0.94, -1.19, 2.00, -0.21, -0.49, -0.64, -0.38, -0.44, -0.58, -1.08, -0.58, 0.83, -1.33, -0.09, -1.57, -0.32\n",
      "    True sol: 0, 0, 0, 0, 1, 0, 0, 0, 0, 0, 0, 0, 0, 1, 0, 0, 0, 0, 1, 0, 0, 0, 0, 1, 0, 0, 0, 0, 1, 0, 0, 0, 0, 1, 0, 0, 0, 0, 1, 1, True obj: 23.98\n",
      "    Pred sol: 0, 0, 0, 0, 1, 0, 0, 0, 0, 0, 0, 0, 0, 1, 0, 0, 0, 0, 1, 0, 0, 0, 0, 1, 0, 0, 0, 0, 1, 0, 0, 0, 0, 1, 0, 0, 0, 0, 1, 1, Pred obj: 23.98\n",
      "\n",
      "Sample 1:\n",
      "    True cost: 1.15, 1.89, 2.80, 1.09, 1.07, 1.30, 1.11, 1.01, 1.21, 1.93, 1.30, 1.03, 1.32, 1.01, 1.10, 1.01, 1.27, 2.41, 1.09, 1.30, 1.03, 2.41, 1.01, 1.48, 2.26, 1.11, 1.10, 1.10, 1.21, 2.21, 1.10, 1.32, 1.10, 1.89, 2.80, 2.21, 1.11, 2.21, 2.36, 2.41\n",
      "    Pred cost: -0.62, 1.15, 3.22, 1.53, 1.34, -2.89, -1.69, 0.19, 2.07, 2.11, -0.97, -0.96, -1.91, -1.15, 0.09, -0.83, -0.07, 1.77, 0.96, -1.25, -2.66, 0.23, -0.82, 2.46, 1.37, -1.87, 0.06, -0.58, 1.41, 1.41, -2.13, -0.77, 2.00, 0.69, 0.58, -0.94, -2.46, 1.07, 0.03, 0.20\n",
      "    True sol: 0, 0, 0, 0, 1, 0, 0, 0, 0, 0, 0, 0, 0, 1, 0, 0, 0, 0, 1, 1, 1, 0, 0, 0, 0, 1, 0, 0, 0, 0, 1, 0, 0, 0, 0, 1, 0, 0, 0, 0, True obj: 9.91\n",
      "    Pred sol: 1, 0, 0, 0, 0, 1, 0, 0, 0, 0, 1, 0, 0, 0, 0, 1, 0, 0, 0, 0, 1, 0, 0, 0, 0, 1, 0, 0, 0, 0, 1, 0, 0, 0, 0, 1, 0, 0, 0, 0, Pred obj: 10.20\n",
      "\n",
      "Sample 2:\n",
      "    True cost: 6.94, 7.13, 2.80, 7.12, 6.94, 10.43, 8.07, 10.99, 4.38, 6.70, 10.43, 5.10, 10.98, 10.99, 6.69, 10.99, 5.25, 4.90, 8.56, 10.43, 5.10, 4.90, 10.44, 2.80, 4.07, 8.07, 6.69, 6.69, 5.47, 4.39, 8.08, 10.98, 8.08, 7.13, 2.80, 4.39, 8.07, 4.39, 5.26, 4.90\n",
      "    Pred cost: 0.48, 0.36, -0.44, -1.94, 0.30, 0.91, -0.31, 3.03, -2.71, -0.98, 1.20, -0.75, 2.50, 1.33, -0.92, 0.96, -0.81, -2.14, -0.48, 1.12, 1.75, -0.01, 1.91, -2.59, 0.00, 0.47, -0.69, 1.38, -1.59, -0.19, 1.42, 1.09, -0.51, 0.58, -1.83, 1.03, 1.54, -1.27, 1.43, -0.43\n",
      "    True sol: 0, 0, 0, 0, 1, 0, 0, 0, 0, 1, 0, 0, 0, 0, 1, 0, 0, 0, 0, 0, 0, 0, 0, 1, 0, 0, 0, 0, 1, 1, 0, 0, 0, 0, 1, 0, 0, 0, 0, 1, True obj: 40.70\n",
      "    Pred sol: 0, 0, 0, 0, 1, 0, 0, 0, 0, 1, 0, 0, 0, 0, 1, 0, 0, 0, 0, 0, 0, 0, 0, 1, 0, 0, 0, 0, 1, 1, 0, 0, 0, 0, 1, 0, 0, 0, 0, 1, Pred obj: 40.70\n",
      "\n",
      "Sample 3:\n",
      "    True cost: 6.98, 7.28, 2.80, 12.71, 3.34, 8.52, 5.52, 5.32, 10.78, 6.07, 8.52, 4.35, 9.98, 5.32, 11.04, 5.32, 8.89, 3.68, 3.15, 8.52, 4.35, 3.68, 4.33, 6.10, 4.83, 5.52, 11.04, 11.04, 2.37, 5.89, 2.47, 9.98, 2.47, 7.28, 2.80, 5.89, 5.52, 5.89, 4.58, 3.68\n",
      "    Pred cost: 0.57, 1.70, 2.80, 0.52, -1.97, 1.97, -0.24, 1.78, -0.88, -0.45, 0.51, 1.45, 0.67, -1.89, 1.17, -0.76, -0.78, 1.47, -1.65, 0.84, -0.06, 0.74, 1.35, -1.57, 0.60, -1.20, 1.84, 0.06, -0.76, -1.34, -0.22, -0.30, -0.93, 0.42, -1.31, 0.75, -0.42, 0.08, -0.47, -0.35\n",
      "    True sol: 0, 0, 0, 0, 1, 0, 0, 0, 0, 0, 0, 0, 0, 1, 0, 0, 0, 0, 1, 0, 0, 0, 0, 1, 0, 0, 0, 0, 1, 1, 0, 0, 0, 0, 1, 0, 0, 0, 0, 1, True obj: 32.64\n",
      "    Pred sol: 0, 0, 0, 0, 1, 0, 0, 0, 0, 0, 0, 0, 0, 1, 0, 0, 0, 0, 1, 0, 0, 0, 0, 1, 0, 0, 0, 0, 1, 1, 0, 0, 0, 0, 1, 0, 0, 0, 0, 1, Pred obj: 32.64\n",
      "\n",
      "Sample 4:\n",
      "    True cost: 3.01, 3.75, 2.80, 5.36, 1.98, 3.71, 3.59, 2.61, 4.46, 3.58, 3.71, 2.91, 3.88, 2.61, 5.15, 2.61, 5.21, 3.46, 2.51, 3.71, 2.91, 3.46, 2.48, 4.14, 2.90, 3.59, 5.15, 5.15, 2.00, 3.05, 2.39, 3.88, 2.39, 3.75, 2.80, 3.05, 3.59, 3.05, 3.63, 3.46\n",
      "    Pred cost: 0.56, 1.29, 2.27, -0.01, -1.02, 0.48, -0.71, 1.75, -0.41, 0.23, 0.05, 0.78, 0.42, -1.12, 0.82, -0.97, -0.16, 0.80, -0.56, 0.01, -0.58, 0.56, 0.35, -0.20, -0.30, -0.30, 0.98, -0.27, -0.38, -0.94, -0.59, -0.57, -0.32, 0.39, -0.21, 0.08, -0.59, 0.20, -0.22, 0.45\n",
      "    True sol: 0, 0, 0, 0, 1, 0, 0, 0, 0, 0, 0, 0, 0, 1, 0, 0, 0, 0, 1, 0, 0, 0, 0, 1, 0, 0, 0, 0, 1, 1, 1, 0, 0, 0, 0, 1, 0, 0, 0, 0, True obj: 21.72\n",
      "    Pred sol: 0, 0, 0, 0, 1, 0, 0, 0, 0, 0, 0, 0, 0, 1, 0, 0, 0, 0, 1, 0, 0, 0, 0, 1, 0, 0, 0, 0, 1, 1, 1, 0, 0, 0, 0, 1, 0, 0, 0, 0, Pred obj: 21.72\n",
      "\n",
      "Sample 5:\n",
      "    True cost: 1.53, 2.16, 2.80, 1.41, 2.35, 1.56, 1.48, 1.70, 1.38, 3.03, 1.56, 1.45, 1.16, 1.70, 1.98, 1.70, 1.34, 2.87, 1.61, 1.56, 1.45, 2.87, 2.41, 1.82, 2.96, 1.48, 1.98, 1.98, 1.57, 2.10, 2.27, 1.16, 2.27, 2.16, 2.80, 2.10, 1.48, 2.10, 2.04, 2.87\n",
      "    Pred cost: -0.02, 0.53, 1.65, -0.00, 1.45, -1.10, -1.05, 1.07, -0.19, 1.17, 0.15, -0.72, -0.29, -0.60, 0.28, -0.25, -0.80, 0.33, -0.36, 0.16, -0.91, -0.02, -0.04, 0.60, 1.01, -0.66, -0.17, 0.46, -0.08, 0.90, -0.97, -0.18, 1.19, -0.16, 0.35, -0.23, -1.57, -0.05, 0.33, 0.29\n",
      "    True sol: 1, 0, 0, 0, 0, 1, 0, 0, 0, 0, 1, 1, 0, 0, 0, 0, 1, 0, 0, 0, 0, 0, 0, 0, 0, 1, 0, 0, 0, 0, 1, 0, 0, 0, 0, 1, 0, 0, 0, 0, True obj: 13.29\n",
      "    Pred sol: 1, 0, 0, 0, 0, 1, 0, 0, 0, 0, 1, 1, 0, 0, 0, 0, 1, 0, 0, 0, 0, 0, 0, 0, 0, 1, 0, 0, 0, 0, 1, 0, 0, 0, 0, 1, 0, 0, 0, 0, Pred obj: 13.29\n",
      "\n",
      "Sample 6:\n",
      "    True cost: 2.10, 2.10, 2.80, 2.07, 2.13, 1.63, 3.43, 3.37, 2.66, 1.10, 1.63, 4.29, 3.32, 3.37, 1.09, 3.37, 4.24, 2.18, 6.32, 1.63, 4.29, 2.18, 1.65, 2.76, 1.33, 3.43, 1.09, 1.09, 7.57, 2.70, 3.48, 3.32, 3.48, 2.10, 2.80, 2.70, 3.43, 2.70, 4.30, 2.18\n",
      "    Pred cost: -0.35, -0.00, -0.60, -1.66, -1.08, -0.67, -0.61, 3.29, 0.16, -1.60, -0.79, -1.22, 1.20, 1.97, -2.24, -0.27, 1.65, -1.79, 2.93, -2.20, -0.30, -0.24, -1.33, 1.28, -3.26, 1.28, -0.94, -2.45, 1.36, 0.06, 1.27, 0.08, -0.54, 0.48, -0.97, 0.21, 2.37, -0.03, -0.94, 0.20\n",
      "    True sol: 0, 0, 0, 0, 1, 0, 0, 0, 0, 1, 0, 0, 0, 0, 1, 0, 0, 0, 0, 1, 0, 0, 0, 0, 1, 0, 0, 0, 0, 1, 0, 0, 0, 0, 1, 0, 0, 0, 0, 1, True obj: 14.97\n",
      "    Pred sol: 0, 0, 0, 0, 1, 0, 0, 0, 0, 1, 0, 0, 0, 0, 1, 0, 0, 0, 0, 1, 0, 0, 0, 0, 1, 0, 0, 0, 0, 1, 0, 0, 0, 0, 1, 0, 0, 0, 0, 1, Pred obj: 14.97\n",
      "\n",
      "Sample 7:\n",
      "    True cost: 1.05, 2.53, 2.80, 1.71, 1.38, 1.20, 2.15, 2.28, 1.38, 1.90, 1.20, 1.71, 1.54, 2.28, 1.31, 2.28, 3.14, 3.46, 4.06, 1.20, 1.71, 3.46, 1.71, 1.90, 1.52, 2.15, 1.31, 1.31, 3.32, 2.02, 3.14, 1.54, 3.14, 2.53, 2.80, 2.02, 2.15, 2.02, 4.45, 3.46\n",
      "    Pred cost: -0.00, 0.75, 1.06, -0.69, 0.23, -2.03, -1.35, 2.09, 0.47, 0.50, -0.70, -1.03, 0.36, 0.99, -1.05, -0.47, 0.95, -0.76, 2.01, -1.54, -0.97, 0.21, -0.46, 1.21, -1.29, 0.33, -0.76, -0.82, 0.61, 0.16, -0.34, -0.25, 0.53, 1.22, -0.13, -0.49, 0.37, 0.31, 0.58, 0.62\n",
      "    True sol: 1, 0, 0, 0, 0, 1, 0, 0, 0, 0, 0, 0, 0, 0, 1, 0, 0, 0, 0, 1, 1, 1, 0, 0, 0, 0, 1, 0, 0, 0, 0, 0, 0, 0, 0, 1, 0, 0, 0, 0, True obj: 13.27\n",
      "    Pred sol: 1, 0, 0, 0, 0, 1, 0, 0, 0, 0, 0, 0, 0, 0, 1, 0, 0, 0, 0, 1, 1, 1, 0, 0, 0, 0, 1, 0, 0, 0, 0, 0, 0, 0, 0, 1, 0, 0, 0, 0, Pred obj: 13.27\n",
      "\n",
      "Sample 8:\n",
      "    True cost: 6.77, 4.59, 2.80, 4.74, 6.58, 6.58, 4.67, 7.09, 4.90, 4.06, 6.58, 4.82, 7.29, 7.09, 4.20, 7.09, 3.21, 2.70, 5.08, 6.58, 4.82, 2.70, 6.39, 2.91, 4.20, 4.67, 4.20, 4.20, 5.24, 4.74, 4.52, 7.29, 4.52, 4.59, 2.80, 4.74, 4.67, 4.74, 3.09, 2.70\n",
      "    Pred cost: -0.18, 0.00, -0.20, -1.18, 0.21, 1.07, -0.07, 2.54, -1.69, -1.27, 0.83, -0.88, 1.43, 0.59, -0.97, 0.73, -0.86, -1.17, -0.36, 0.65, 0.89, -0.36, 0.72, -1.30, 0.15, -0.16, -0.33, 0.17, -0.38, 0.63, 1.23, 0.85, -0.19, -0.44, -1.63, 1.08, 0.93, -0.93, -0.17, -0.81\n",
      "    True sol: 0, 0, 0, 0, 1, 0, 0, 0, 0, 1, 0, 0, 0, 0, 1, 0, 0, 0, 0, 0, 0, 0, 0, 1, 0, 0, 0, 0, 0, 0, 0, 0, 1, 0, 0, 0, 0, 1, 1, 1, True obj: 32.79\n",
      "    Pred sol: 0, 0, 0, 0, 1, 0, 0, 0, 0, 1, 0, 0, 0, 0, 1, 0, 0, 0, 0, 0, 0, 0, 0, 1, 0, 0, 0, 0, 1, 1, 0, 0, 0, 0, 1, 0, 0, 0, 0, 1, Pred obj: 33.23\n",
      "\n",
      "Sample 9:\n",
      "    True cost: 11.47, 3.26, 2.80, 3.43, 11.12, 8.74, 4.48, 6.90, 5.05, 4.26, 8.74, 6.38, 7.16, 6.90, 4.45, 6.90, 1.41, 1.79, 3.29, 8.74, 6.38, 1.79, 8.45, 2.95, 6.10, 4.48, 4.45, 4.45, 4.86, 4.83, 4.29, 7.16, 4.29, 3.26, 2.80, 4.83, 4.48, 4.83, 1.35, 1.79\n",
      "    Pred cost: -0.34, -0.85, -1.02, -1.48, 1.03, 2.48, 0.58, 2.39, -2.75, -1.77, 1.66, -0.97, 1.52, 0.07, -0.56, 1.21, -2.10, -1.24, -1.94, 1.92, 1.52, -0.94, 0.61, -1.85, 1.05, -0.17, -0.26, 0.67, -0.78, 1.40, 1.68, 1.22, -0.07, -2.20, -1.50, 1.67, 0.39, -1.65, -0.97, -1.20\n",
      "    True sol: 0, 0, 0, 0, 1, 0, 0, 0, 0, 1, 0, 0, 0, 0, 1, 0, 0, 0, 0, 0, 0, 0, 0, 1, 0, 0, 0, 0, 1, 0, 0, 0, 0, 1, 0, 0, 0, 0, 1, 1, True obj: 34.04\n",
      "    Pred sol: 0, 0, 0, 0, 1, 0, 0, 0, 0, 1, 0, 0, 0, 0, 1, 0, 0, 0, 0, 0, 0, 0, 0, 1, 0, 0, 0, 0, 1, 0, 0, 0, 0, 1, 0, 0, 0, 0, 1, 1, Pred obj: 34.04\n",
      "\n"
     ]
    }
   ],
   "source": [
    "# compare solutions\n",
    "lr.eval()\n",
    "loss = []\n",
    "# load data\n",
    "for i, data in enumerate(sp_loader_test):\n",
    "    x, c, w, z = data\n",
    "    # cuda\n",
    "    if torch.cuda.is_available():\n",
    "        x, c, w, z = x.cuda(), c.cuda(), w.cuda(), z.cuda()\n",
    "    # predict\n",
    "    cp = lr(x)\n",
    "    # convert to numpy\n",
    "    c = c.to('cpu').detach().numpy().tolist()\n",
    "    w = w.to('cpu').detach().numpy().tolist()\n",
    "    z = z.to('cpu').detach().numpy().tolist()\n",
    "    cp = cp.to('cpu').detach().numpy().tolist()\n",
    "    for j in range(min(10, batch_size)):\n",
    "        print('Sample {}:'.format(j))\n",
    "        print('    True cost:', ', '.join(['{:.2f}'.format(cost) for cost in c[j]]))\n",
    "        print('    Pred cost:', ', '.join(['{:.2f}'.format(cost) for cost in cp[j]]))\n",
    "        # solve cost from prediction\n",
    "        sp_model.setObj(cp[j])\n",
    "        wpj, _ = sp_model.solve()\n",
    "        zpj = np.dot(c[j], wpj)\n",
    "        print('    True sol: ' + ', '.join(['{:.0f}'.format(x) for x in w[j]]) + ', True obj: {:.2f}'.format(z[j][0]))\n",
    "        print('    Pred sol: '+  ', '.join(['{:.0f}'.format(x) for x in wpj]) + ', Pred obj: {:.2f}'.format(zpj))\n",
    "        print()\n",
    "    break"
   ]
  },
  {
   "cell_type": "markdown",
   "id": "alternative-brother",
   "metadata": {},
   "source": [
    "##  Training with Regularization"
   ]
  },
  {
   "cell_type": "code",
   "execution_count": 27,
   "id": "driven-surveillance",
   "metadata": {},
   "outputs": [],
   "source": [
    "# init model\n",
    "lr = LinearRegression()\n",
    "# cuda\n",
    "if torch.cuda.is_available():\n",
    "    lr = lr.cuda()"
   ]
  },
  {
   "cell_type": "code",
   "execution_count": 28,
   "id": "annual-fortune",
   "metadata": {},
   "outputs": [],
   "source": [
    "# set optimizer\n",
    "optimizer = torch.optim.Adam(lr.parameters(), lr=5e-3)"
   ]
  },
  {
   "cell_type": "code",
   "execution_count": 29,
   "id": "characteristic-gender",
   "metadata": {
    "scrolled": false
   },
   "outputs": [
    {
     "name": "stdout",
     "output_type": "stream",
     "text": [
      "epoch 5, loss:9.699282\n",
      "epoch 10, loss:4.509700\n",
      "epoch 15, loss:2.501147\n",
      "epoch 20, loss:2.080661\n",
      "epoch 25, loss:1.109214\n",
      "epoch 30, loss:0.934796\n",
      "epoch 35, loss:0.976006\n",
      "epoch 40, loss:1.931531\n",
      "epoch 45, loss:1.538661\n",
      "epoch 50, loss:1.356359\n",
      "epoch 55, loss:0.969749\n",
      "epoch 60, loss:0.755533\n",
      "epoch 65, loss:1.107924\n",
      "epoch 70, loss:1.375113\n",
      "epoch 75, loss:0.627239\n",
      "epoch 80, loss:0.452022\n",
      "epoch 85, loss:0.830580\n",
      "epoch 90, loss:0.962121\n",
      "epoch 95, loss:0.846564\n",
      "epoch 100, loss:0.690283\n",
      "epoch 105, loss:1.053470\n",
      "epoch 110, loss:2.214549\n",
      "epoch 115, loss:1.115948\n",
      "epoch 120, loss:0.439979\n",
      "epoch 125, loss:1.147120\n",
      "epoch 130, loss:1.355719\n",
      "epoch 135, loss:1.347689\n",
      "epoch 140, loss:0.301157\n",
      "epoch 145, loss:0.714539\n",
      "epoch 150, loss:0.721945\n",
      "epoch 155, loss:1.004863\n",
      "epoch 160, loss:0.941234\n",
      "epoch 165, loss:0.517677\n",
      "epoch 170, loss:0.711236\n",
      "epoch 175, loss:0.633433\n",
      "epoch 180, loss:0.466218\n",
      "epoch 185, loss:0.945547\n",
      "epoch 190, loss:1.462567\n",
      "epoch 195, loss:1.636354\n",
      "epoch 200, loss:1.411901\n"
     ]
    }
   ],
   "source": [
    "# train model\n",
    "num_epochs = 200\n",
    "lr.train()\n",
    "loss_log = []\n",
    "for epoch in range(num_epochs):\n",
    "    # load data\n",
    "    for i, data in enumerate(sp_loader_train):\n",
    "        x, c, w, z = data\n",
    "        # cuda\n",
    "        if torch.cuda.is_available():\n",
    "            x, c, w, z = x.cuda(), c.cuda(), w.cuda(), z.cuda()\n",
    "        # forward pass\n",
    "        cp = lr(x)\n",
    "        loss = criterion.apply(sp_model, cp, c, w, z).mean()\n",
    "        # l1 reg\n",
    "        l1_lambda = 1e-3\n",
    "        l1_reg = torch.abs(cp - c).sum(dim=1).mean()\n",
    "        loss += l1_lambda * l1_reg\n",
    "        # backward pass\n",
    "        optimizer.zero_grad()\n",
    "        loss.backward()\n",
    "        optimizer.step()\n",
    "    loss_log.append(loss.item())\n",
    "    if (epoch + 1) % 5 == 0:\n",
    "        print('epoch {}, loss:{:.6f}'.format(epoch+1, loss.item()))"
   ]
  },
  {
   "cell_type": "code",
   "execution_count": 30,
   "id": "closed-companion",
   "metadata": {},
   "outputs": [
    {
     "data": {
      "image/png": "[encoded data removed]",
      "text/plain": [
       "<Figure size 864x432 with 1 Axes>"
      ]
     },
     "metadata": {
      "needs_background": "light"
     },
     "output_type": "display_data"
    }
   ],
   "source": [
    "# draw plot\n",
    "plt.figure(figsize=(12, 6))\n",
    "plt.plot(loss_log, color='c')\n",
    "plt.xlabel('Epoch')\n",
    "plt.ylabel('SPO+ Loss with Regularization')\n",
    "plt.title('Learning Curve')\n",
    "plt.show()"
   ]
  },
  {
   "cell_type": "markdown",
   "id": "progressive-benefit",
   "metadata": {},
   "source": [
    "## Evaluation "
   ]
  },
  {
   "cell_type": "code",
   "execution_count": 31,
   "id": "julian-stone",
   "metadata": {},
   "outputs": [
    {
     "name": "stdout",
     "output_type": "stream",
     "text": [
      "Normalized loss on test: 5.76%\n"
     ]
    }
   ],
   "source": [
    "# evaluate\n",
    "lr.eval()\n",
    "loss = 0\n",
    "optsum = 0\n",
    "# load data\n",
    "for i, data in enumerate(sp_loader_test):\n",
    "    x, c, w, z = data\n",
    "    # cuda\n",
    "    if torch.cuda.is_available():\n",
    "        x, c, w, z = x.cuda(), c.cuda(), w.cuda(), z.cuda()\n",
    "    # predict\n",
    "    cp = lr(x)\n",
    "    # accumulate loss\n",
    "    loss += criterion.apply(sp_model, cp, c, w, z).sum().item()\n",
    "    optsum += z.sum().item()\n",
    "print('Normalized loss on test: {:.2f}%'.format(loss / optsum * 100))"
   ]
  },
  {
   "cell_type": "code",
   "execution_count": 32,
   "id": "presidential-vehicle",
   "metadata": {
    "scrolled": false
   },
   "outputs": [
    {
     "name": "stdout",
     "output_type": "stream",
     "text": [
      "Sample 0:\n",
      "    True cost: 7.57, 3.98, 2.80, 7.73, 3.88, 6.49, 3.63, 2.84, 8.92, 4.40, 6.49, 4.39, 5.95, 2.84, 8.35, 2.84, 4.50, 2.26, 1.40, 6.49, 4.39, 2.26, 3.17, 5.88, 5.26, 3.63, 8.35, 8.35, 1.73, 4.79, 1.57, 5.95, 1.57, 3.98, 2.80, 4.79, 3.63, 4.79, 2.01, 2.26\n",
      "    Pred cost: 2.28, 0.48, 0.34, -1.08, -1.28, 1.54, -1.13, 2.84, 0.96, 1.35, -0.14, 0.41, 2.28, -2.38, 1.41, -0.44, -0.30, 1.31, -2.02, 1.38, 0.40, 1.16, -0.13, -0.79, 1.60, 0.08, 1.46, 0.77, 0.05, 0.03, -1.71, -0.52, 0.22, -0.40, -0.20, 1.26, 0.96, 0.31, -0.68, -1.57\n",
      "    True sol: 0, 0, 0, 0, 1, 0, 0, 0, 0, 0, 0, 0, 0, 1, 0, 0, 0, 0, 1, 0, 0, 0, 0, 1, 0, 0, 0, 0, 1, 0, 0, 0, 0, 1, 0, 0, 0, 0, 1, 1, True obj: 23.98\n",
      "    Pred sol: 0, 0, 0, 0, 1, 0, 0, 0, 0, 0, 0, 0, 0, 1, 0, 0, 0, 0, 1, 0, 0, 0, 0, 1, 0, 0, 0, 0, 1, 0, 0, 0, 0, 1, 0, 0, 0, 0, 1, 1, Pred obj: 23.98\n",
      "\n",
      "Sample 1:\n",
      "    True cost: 1.15, 1.89, 2.80, 1.09, 1.07, 1.30, 1.11, 1.01, 1.21, 1.93, 1.30, 1.03, 1.32, 1.01, 1.10, 1.01, 1.27, 2.41, 1.09, 1.30, 1.03, 2.41, 1.01, 1.48, 2.26, 1.11, 1.10, 1.10, 1.21, 2.21, 1.10, 1.32, 1.10, 1.89, 2.80, 2.21, 1.11, 2.21, 2.36, 2.41\n",
      "    Pred cost: -1.41, 2.57, 2.09, 1.38, 0.99, -1.06, -0.82, 0.16, 0.70, 2.53, -0.53, -1.69, -2.81, -0.22, 0.64, -0.88, -0.51, 0.41, 0.67, -1.26, -2.39, -0.24, -0.56, 2.05, 0.62, -2.85, 1.07, -0.53, 0.57, 1.16, -1.88, -1.24, 0.85, 0.40, 1.01, -0.66, -0.61, 0.57, 0.43, 0.40\n",
      "    True sol: 0, 0, 0, 0, 1, 0, 0, 0, 0, 0, 0, 0, 0, 1, 0, 0, 0, 0, 1, 1, 1, 0, 0, 0, 0, 1, 0, 0, 0, 0, 1, 0, 0, 0, 0, 1, 0, 0, 0, 0, True obj: 9.91\n",
      "    Pred sol: 1, 0, 0, 0, 0, 1, 0, 0, 0, 0, 1, 0, 0, 0, 0, 1, 0, 0, 0, 0, 1, 0, 0, 0, 0, 1, 0, 0, 0, 0, 1, 0, 0, 0, 0, 1, 0, 0, 0, 0, Pred obj: 10.20\n",
      "\n",
      "Sample 2:\n",
      "    True cost: 6.94, 7.13, 2.80, 7.12, 6.94, 10.43, 8.07, 10.99, 4.38, 6.70, 10.43, 5.10, 10.98, 10.99, 6.69, 10.99, 5.25, 4.90, 8.56, 10.43, 5.10, 4.90, 10.44, 2.80, 4.07, 8.07, 6.69, 6.69, 5.47, 4.39, 8.08, 10.98, 8.08, 7.13, 2.80, 4.39, 8.07, 4.39, 5.26, 4.90\n",
      "    Pred cost: 0.07, -0.61, -0.84, -2.14, -0.26, 0.50, 0.17, 6.59, -0.80, -0.97, 0.73, -0.28, 3.09, 0.69, -1.39, 1.34, -0.16, -0.38, 0.16, 1.26, 1.13, 0.15, 2.39, -1.81, 0.88, 0.86, 0.06, 2.11, -1.02, -0.87, 2.72, 0.71, -0.27, 1.64, -1.02, 0.69, 1.41, 0.60, 0.01, -0.17\n",
      "    True sol: 0, 0, 0, 0, 1, 0, 0, 0, 0, 1, 0, 0, 0, 0, 1, 0, 0, 0, 0, 0, 0, 0, 0, 1, 0, 0, 0, 0, 1, 1, 0, 0, 0, 0, 1, 0, 0, 0, 0, 1, True obj: 40.70\n",
      "    Pred sol: 0, 0, 0, 0, 1, 0, 0, 0, 0, 1, 0, 0, 0, 0, 1, 0, 0, 0, 0, 0, 0, 0, 0, 1, 0, 0, 0, 0, 1, 1, 0, 0, 0, 0, 1, 0, 0, 0, 0, 1, Pred obj: 40.70\n",
      "\n",
      "Sample 3:\n",
      "    True cost: 6.98, 7.28, 2.80, 12.71, 3.34, 8.52, 5.52, 5.32, 10.78, 6.07, 8.52, 4.35, 9.98, 5.32, 11.04, 5.32, 8.89, 3.68, 3.15, 8.52, 4.35, 3.68, 4.33, 6.10, 4.83, 5.52, 11.04, 11.04, 2.37, 5.89, 2.47, 9.98, 2.47, 7.28, 2.80, 5.89, 5.52, 5.89, 4.58, 3.68\n",
      "    Pred cost: 2.31, 1.18, 0.19, -0.99, -1.27, 1.33, -0.94, 4.35, 1.28, 0.74, -0.26, 0.96, 2.72, -1.80, 0.77, -0.24, 0.49, 1.51, -1.94, 1.32, 0.49, 1.25, 0.37, -1.03, 1.37, 0.14, 1.61, 1.39, 0.01, -0.32, -1.35, 0.04, 0.21, 1.53, -1.01, 0.80, 1.39, 1.04, 0.29, -1.62\n",
      "    True sol: 0, 0, 0, 0, 1, 0, 0, 0, 0, 0, 0, 0, 0, 1, 0, 0, 0, 0, 1, 0, 0, 0, 0, 1, 0, 0, 0, 0, 1, 1, 0, 0, 0, 0, 1, 0, 0, 0, 0, 1, True obj: 32.64\n",
      "    Pred sol: 0, 0, 0, 0, 1, 0, 0, 0, 0, 0, 0, 0, 0, 1, 0, 0, 0, 0, 1, 0, 0, 0, 0, 1, 0, 0, 0, 0, 1, 1, 0, 0, 0, 0, 1, 0, 0, 0, 0, 1, Pred obj: 32.64\n",
      "\n",
      "Sample 4:\n",
      "    True cost: 3.01, 3.75, 2.80, 5.36, 1.98, 3.71, 3.59, 2.61, 4.46, 3.58, 3.71, 2.91, 3.88, 2.61, 5.15, 2.61, 5.21, 3.46, 2.51, 3.71, 2.91, 3.46, 2.48, 4.14, 2.90, 3.59, 5.15, 5.15, 2.00, 3.05, 2.39, 3.88, 2.39, 3.75, 2.80, 3.05, 3.59, 3.05, 3.63, 3.46\n",
      "    Pred cost: 1.14, 1.25, 0.46, -0.54, -0.38, 0.68, -0.41, 2.66, 0.43, 0.81, -0.20, 0.33, 1.33, -1.11, 0.61, -0.62, 0.86, 0.71, -0.72, 0.53, 0.11, 0.43, 0.13, 0.28, 0.27, 0.18, 0.93, 0.53, 0.23, -0.49, -1.33, -0.31, 0.45, 1.27, 0.07, -0.04, 0.51, 0.93, -0.02, -0.60\n",
      "    True sol: 0, 0, 0, 0, 1, 0, 0, 0, 0, 0, 0, 0, 0, 1, 0, 0, 0, 0, 1, 0, 0, 0, 0, 1, 0, 0, 0, 0, 1, 1, 1, 0, 0, 0, 0, 1, 0, 0, 0, 0, True obj: 21.72\n",
      "    Pred sol: 0, 0, 0, 0, 1, 0, 0, 0, 0, 0, 0, 0, 0, 1, 0, 0, 0, 0, 1, 0, 0, 0, 0, 1, 0, 0, 0, 0, 1, 1, 1, 0, 0, 0, 0, 1, 0, 0, 0, 0, Pred obj: 21.72\n",
      "\n",
      "Sample 5:\n",
      "    True cost: 1.53, 2.16, 2.80, 1.41, 2.35, 1.56, 1.48, 1.70, 1.38, 3.03, 1.56, 1.45, 1.16, 1.70, 1.98, 1.70, 1.34, 2.87, 1.61, 1.56, 1.45, 2.87, 2.41, 1.82, 2.96, 1.48, 1.98, 1.98, 1.57, 2.10, 2.27, 1.16, 2.27, 2.16, 2.80, 2.10, 1.48, 2.10, 2.04, 2.87\n",
      "    Pred cost: -0.92, 0.78, 0.77, -0.20, 0.48, -0.20, -0.46, 1.73, -0.27, 1.74, 0.06, -1.61, -0.82, -0.46, 0.35, -0.24, -0.58, 0.02, 0.25, -0.05, -0.84, -0.15, 0.59, 0.48, 0.87, -1.11, 0.49, 0.39, -0.44, 0.25, -0.50, -1.05, 0.53, 0.05, 0.85, -0.25, -0.11, 0.24, -0.17, 0.33\n",
      "    True sol: 1, 0, 0, 0, 0, 1, 0, 0, 0, 0, 1, 1, 0, 0, 0, 0, 1, 0, 0, 0, 0, 0, 0, 0, 0, 1, 0, 0, 0, 0, 1, 0, 0, 0, 0, 1, 0, 0, 0, 0, True obj: 13.29\n",
      "    Pred sol: 1, 0, 0, 0, 0, 1, 0, 0, 0, 0, 1, 1, 0, 0, 0, 0, 1, 0, 0, 0, 0, 0, 0, 0, 0, 1, 0, 0, 0, 0, 1, 0, 0, 0, 0, 1, 0, 0, 0, 0, Pred obj: 13.29\n",
      "\n",
      "Sample 6:\n",
      "    True cost: 2.10, 2.10, 2.80, 2.07, 2.13, 1.63, 3.43, 3.37, 2.66, 1.10, 1.63, 4.29, 3.32, 3.37, 1.09, 3.37, 4.24, 2.18, 6.32, 1.63, 4.29, 2.18, 1.65, 2.76, 1.33, 3.43, 1.09, 1.09, 7.57, 2.70, 3.48, 3.32, 3.48, 2.10, 2.80, 2.70, 3.43, 2.70, 4.30, 2.18\n",
      "    Pred cost: 0.16, 0.93, 0.86, -0.61, 0.84, -0.55, 0.81, 3.29, -0.82, -2.44, 0.31, 1.10, 2.21, 2.32, -1.64, 0.28, 1.01, -1.41, 2.47, -0.82, 0.05, -0.94, -0.41, 2.17, -2.29, 0.66, -0.39, -1.12, 2.27, -0.40, 2.11, 1.64, -0.22, 0.68, 0.06, 0.82, 0.08, 0.66, -1.26, 0.47\n",
      "    True sol: 0, 0, 0, 0, 1, 0, 0, 0, 0, 1, 0, 0, 0, 0, 1, 0, 0, 0, 0, 1, 0, 0, 0, 0, 1, 0, 0, 0, 0, 1, 0, 0, 0, 0, 1, 0, 0, 0, 0, 1, True obj: 14.97\n",
      "    Pred sol: 0, 0, 0, 0, 1, 0, 0, 0, 0, 1, 0, 0, 0, 0, 1, 0, 0, 0, 0, 1, 0, 0, 0, 0, 1, 0, 0, 0, 0, 0, 0, 0, 0, 1, 0, 0, 0, 0, 1, 1, Pred obj: 15.87\n",
      "\n",
      "Sample 7:\n",
      "    True cost: 1.05, 2.53, 2.80, 1.71, 1.38, 1.20, 2.15, 2.28, 1.38, 1.90, 1.20, 1.71, 1.54, 2.28, 1.31, 2.28, 3.14, 3.46, 4.06, 1.20, 1.71, 3.46, 1.71, 1.90, 1.52, 2.15, 1.31, 1.31, 3.32, 2.02, 3.14, 1.54, 3.14, 2.53, 2.80, 2.02, 2.15, 2.02, 4.45, 3.46\n",
      "    Pred cost: -0.85, 1.64, 0.98, 0.10, 0.98, -0.77, 0.33, 2.38, -0.42, -0.15, -0.01, -0.31, -0.08, 1.19, -0.78, -0.24, 0.88, -0.58, 1.60, -0.83, -0.73, -0.69, 0.21, 1.74, -1.04, -0.48, 0.09, -0.27, 0.85, -0.26, 0.38, 0.19, 0.40, 1.61, 0.46, -0.58, -0.16, 0.95, 0.02, 0.71\n",
      "    True sol: 1, 0, 0, 0, 0, 1, 0, 0, 0, 0, 0, 0, 0, 0, 1, 0, 0, 0, 0, 1, 1, 1, 0, 0, 0, 0, 1, 0, 0, 0, 0, 0, 0, 0, 0, 1, 0, 0, 0, 0, True obj: 13.27\n",
      "    Pred sol: 1, 0, 0, 0, 0, 1, 0, 0, 0, 0, 0, 0, 0, 0, 1, 0, 0, 0, 0, 1, 1, 1, 0, 0, 0, 0, 1, 0, 0, 0, 0, 0, 0, 0, 0, 1, 0, 0, 0, 0, Pred obj: 13.27\n",
      "\n",
      "Sample 8:\n",
      "    True cost: 6.77, 4.59, 2.80, 4.74, 6.58, 6.58, 4.67, 7.09, 4.90, 4.06, 6.58, 4.82, 7.29, 7.09, 4.20, 7.09, 3.21, 2.70, 5.08, 6.58, 4.82, 2.70, 6.39, 2.91, 4.20, 4.67, 4.20, 4.20, 5.24, 4.74, 4.52, 7.29, 4.52, 4.59, 2.80, 4.74, 4.67, 4.74, 3.09, 2.70\n",
      "    Pred cost: 0.28, -0.45, -0.07, -1.66, -0.21, 0.38, -0.17, 5.16, -0.47, -0.73, 0.60, -0.27, 2.60, 0.57, -0.95, 1.11, -0.90, -0.42, 0.35, 0.81, 0.48, 0.12, 1.23, -0.92, 0.85, 0.11, 0.26, 1.03, -0.06, -0.03, 2.26, 0.66, -0.34, -0.04, -0.64, 1.49, 1.05, 0.08, -0.79, -0.37\n",
      "    True sol: 0, 0, 0, 0, 1, 0, 0, 0, 0, 1, 0, 0, 0, 0, 1, 0, 0, 0, 0, 0, 0, 0, 0, 1, 0, 0, 0, 0, 0, 0, 0, 0, 1, 0, 0, 0, 0, 1, 1, 1, True obj: 32.79\n",
      "    Pred sol: 0, 0, 0, 0, 1, 0, 0, 0, 0, 1, 0, 0, 0, 0, 1, 0, 0, 0, 0, 0, 0, 0, 0, 1, 0, 0, 0, 0, 0, 0, 0, 0, 1, 0, 0, 0, 0, 1, 1, 1, Pred obj: 32.79\n",
      "\n",
      "Sample 9:\n",
      "    True cost: 11.47, 3.26, 2.80, 3.43, 11.12, 8.74, 4.48, 6.90, 5.05, 4.26, 8.74, 6.38, 7.16, 6.90, 4.45, 6.90, 1.41, 1.79, 3.29, 8.74, 6.38, 1.79, 8.45, 2.95, 6.10, 4.48, 4.45, 4.45, 4.86, 4.83, 4.29, 7.16, 4.29, 3.26, 2.80, 4.83, 4.48, 4.83, 1.35, 1.79\n",
      "    Pred cost: 0.40, -1.94, -0.50, -2.48, -0.56, 0.93, -0.43, 5.07, -0.95, -0.37, 0.99, -0.95, 3.09, -0.06, -0.58, 1.53, -2.20, -0.62, -0.12, 1.51, 0.92, 0.27, 1.49, -1.86, 1.78, 0.36, 0.07, 1.19, -0.67, 0.21, 2.84, 0.27, -0.58, -2.08, -0.32, 2.42, 1.12, -0.85, -1.78, -0.55\n",
      "    True sol: 0, 0, 0, 0, 1, 0, 0, 0, 0, 1, 0, 0, 0, 0, 1, 0, 0, 0, 0, 0, 0, 0, 0, 1, 0, 0, 0, 0, 1, 0, 0, 0, 0, 1, 0, 0, 0, 0, 1, 1, True obj: 34.04\n",
      "    Pred sol: 0, 0, 0, 0, 1, 0, 0, 0, 0, 1, 0, 0, 0, 0, 1, 0, 0, 0, 0, 0, 0, 0, 0, 1, 0, 0, 0, 0, 1, 0, 0, 0, 0, 1, 0, 0, 0, 0, 1, 1, Pred obj: 34.04\n",
      "\n"
     ]
    }
   ],
   "source": [
    "# compare solutions\n",
    "lr.eval()\n",
    "loss = []\n",
    "# load data\n",
    "for i, data in enumerate(sp_loader_test):\n",
    "    x, c, w, z = data\n",
    "    # cuda\n",
    "    if torch.cuda.is_available():\n",
    "        x, c, w, z = x.cuda(), c.cuda(), w.cuda(), z.cuda()\n",
    "    # predict\n",
    "    cp = lr(x)\n",
    "    # convert to numpy\n",
    "    c = c.to('cpu').detach().numpy().tolist()\n",
    "    w = w.to('cpu').detach().numpy().tolist()\n",
    "    z = z.to('cpu').detach().numpy().tolist()\n",
    "    cp = cp.to('cpu').detach().numpy().tolist()\n",
    "    for j in range(min(10, batch_size)):\n",
    "        print('Sample {}:'.format(j))\n",
    "        print('    True cost:', ', '.join(['{:.2f}'.format(cost) for cost in c[j]]))\n",
    "        print('    Pred cost:', ', '.join(['{:.2f}'.format(cost) for cost in cp[j]]))\n",
    "        # solve cost from prediction\n",
    "        sp_model.setObj(cp[j])\n",
    "        wpj, _ = sp_model.solve()\n",
    "        zpj = np.dot(c[j], wpj)\n",
    "        print('    True sol: ' + ', '.join(['{:.0f}'.format(x) for x in w[j]]) + ', True obj: {:.2f}'.format(z[j][0]))\n",
    "        print('    Pred sol: '+  ', '.join(['{:.0f}'.format(x) for x in wpj]) + ', Pred obj: {:.2f}'.format(zpj))\n",
    "        print()\n",
    "    break"
   ]
  },
  {
   "cell_type": "code",
   "execution_count": null,
   "id": "featured-academy",
   "metadata": {},
   "outputs": [],
   "source": []
  }
 ],
 "metadata": {
  "kernelspec": {
   "display_name": "Python 3",
   "language": "python",
   "name": "python3"
  },
  "language_info": {
   "codemirror_mode": {
    "name": "ipython",
    "version": 3
   },
   "file_extension": ".py",
   "mimetype": "text/x-python",
   "name": "python",
   "nbconvert_exporter": "python",
   "pygments_lexer": "ipython3",
   "version": "3.7.9"
  }
 },
 "nbformat": 4,
 "nbformat_minor": 5
}
