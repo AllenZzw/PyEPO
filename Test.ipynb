{
 "cells": [
  {
   "cell_type": "markdown",
   "id": "naval-blade",
   "metadata": {},
   "source": [
    "## Optimization model "
   ]
  },
  {
   "cell_type": "code",
   "execution_count": 1,
   "id": "accredited-pearl",
   "metadata": {},
   "outputs": [],
   "source": [
    "from model import shortestPathModel"
   ]
  },
  {
   "cell_type": "code",
   "execution_count": 2,
   "id": "declared-brunswick",
   "metadata": {},
   "outputs": [
    {
     "name": "stdout",
     "output_type": "stream",
     "text": [
      "Academic license - for non-commercial use only - expires 2021-04-13\n",
      "Using license file C:\\Users\\Apocrypse\\gurobi.lic\n"
     ]
    }
   ],
   "source": [
    "# model for shortest path\n",
    "grid = (5,5)\n",
    "sp_model = shortestPathModel(grid)"
   ]
  },
  {
   "cell_type": "code",
   "execution_count": 3,
   "id": "precious-employee",
   "metadata": {},
   "outputs": [
    {
     "name": "stdout",
     "output_type": "stream",
     "text": [
      "Obj: 8.0\n",
      "(0, 1)\n",
      "(1, 2)\n",
      "(2, 3)\n",
      "(3, 4)\n",
      "(4, 9)\n",
      "(9, 14)\n",
      "(14, 19)\n",
      "(19, 24)\n"
     ]
    }
   ],
   "source": [
    "# solve\n",
    "sp_model.setObj([1 for i in range(40)])\n",
    "sol, obj = sp_model.solve()\n",
    "print('Obj: {}'.format(obj))\n",
    "for i, e in enumerate(sp_model.arcs):\n",
    "    if sol[i] > 1e-3:\n",
    "        print(e)"
   ]
  },
  {
   "cell_type": "markdown",
   "id": "directed-consultancy",
   "metadata": {},
   "source": [
    "## Data Loader"
   ]
  },
  {
   "cell_type": "code",
   "execution_count": 4,
   "id": "little-diversity",
   "metadata": {},
   "outputs": [],
   "source": [
    "from data import shortestpath, dataset\n",
    "from sklearn.model_selection import train_test_split\n",
    "from torch.utils.data import DataLoader"
   ]
  },
  {
   "cell_type": "code",
   "execution_count": 5,
   "id": "relative-cherry",
   "metadata": {},
   "outputs": [],
   "source": [
    "# generate data for grid network (features and costs)\n",
    "n = 1000 # number of data\n",
    "p = 5 # size of feature\n",
    "deg = 4 # polynomial kernel\n",
    "x, c = shortestpath.genData(n, p, grid, deg=deg)"
   ]
  },
  {
   "cell_type": "code",
   "execution_count": 6,
   "id": "regulated-freeware",
   "metadata": {},
   "outputs": [],
   "source": [
    "# data split\n",
    "x_train, x_test, c_train, c_test = train_test_split(x, c, test_size=0.2, random_state=246)"
   ]
  },
  {
   "cell_type": "code",
   "execution_count": 7,
   "id": "human-praise",
   "metadata": {},
   "outputs": [
    {
     "name": "stdout",
     "output_type": "stream",
     "text": [
      "Optimizing for optDataset...\n"
     ]
    },
    {
     "name": "stderr",
     "output_type": "stream",
     "text": [
      "100%|███████████████████████████████████████████████████████████████████████| 800/800 [00:03<00:00, 225.18it/s]\n"
     ]
    }
   ],
   "source": [
    "# get training data set\n",
    "sp_dataset_train = dataset.optDataset(sp_model, x_train, c_train)"
   ]
  },
  {
   "cell_type": "code",
   "execution_count": 8,
   "id": "immune-interpretation",
   "metadata": {},
   "outputs": [
    {
     "name": "stdout",
     "output_type": "stream",
     "text": [
      "Optimizing for optDataset...\n"
     ]
    },
    {
     "name": "stderr",
     "output_type": "stream",
     "text": [
      "100%|███████████████████████████████████████████████████████████████████████| 200/200 [00:00<00:00, 267.93it/s]\n"
     ]
    }
   ],
   "source": [
    "# get training data set\n",
    "sp_dataset_test = dataset.optDataset(sp_model, x_test, c_test)"
   ]
  },
  {
   "cell_type": "code",
   "execution_count": 9,
   "id": "incident-kinase",
   "metadata": {},
   "outputs": [],
   "source": [
    "# get data loader\n",
    "batch_size = 32\n",
    "sp_loader_train = DataLoader(sp_dataset_train, batch_size=batch_size, shuffle=True)\n",
    "sp_loader_test = DataLoader(sp_dataset_test, batch_size=batch_size, shuffle=False)"
   ]
  },
  {
   "cell_type": "code",
   "execution_count": 10,
   "id": "intellectual-softball",
   "metadata": {},
   "outputs": [],
   "source": [
    "for i, data in enumerate(sp_loader_train):\n",
    "    x, c, w, z = data\n",
    "    break"
   ]
  },
  {
   "cell_type": "code",
   "execution_count": 11,
   "id": "instant-polymer",
   "metadata": {},
   "outputs": [
    {
     "data": {
      "text/plain": [
       "torch.Size([32, 5])"
      ]
     },
     "execution_count": 11,
     "metadata": {},
     "output_type": "execute_result"
    }
   ],
   "source": [
    "x.shape"
   ]
  },
  {
   "cell_type": "code",
   "execution_count": 12,
   "id": "known-framing",
   "metadata": {},
   "outputs": [
    {
     "data": {
      "text/plain": [
       "torch.Size([32, 40])"
      ]
     },
     "execution_count": 12,
     "metadata": {},
     "output_type": "execute_result"
    }
   ],
   "source": [
    "c.shape"
   ]
  },
  {
   "cell_type": "code",
   "execution_count": 13,
   "id": "partial-algeria",
   "metadata": {},
   "outputs": [
    {
     "data": {
      "text/plain": [
       "torch.Size([32, 40])"
      ]
     },
     "execution_count": 13,
     "metadata": {},
     "output_type": "execute_result"
    }
   ],
   "source": [
    "w.shape"
   ]
  },
  {
   "cell_type": "code",
   "execution_count": 14,
   "id": "known-contemporary",
   "metadata": {},
   "outputs": [
    {
     "data": {
      "text/plain": [
       "torch.Size([32, 1])"
      ]
     },
     "execution_count": 14,
     "metadata": {},
     "output_type": "execute_result"
    }
   ],
   "source": [
    "z.shape"
   ]
  },
  {
   "cell_type": "markdown",
   "id": "sacred-consequence",
   "metadata": {},
   "source": [
    "## Loss Function"
   ]
  },
  {
   "cell_type": "code",
   "execution_count": 15,
   "id": "authentic-boring",
   "metadata": {},
   "outputs": [],
   "source": [
    "from loss import SPOPlusLoss"
   ]
  },
  {
   "cell_type": "code",
   "execution_count": 16,
   "id": "directed-composition",
   "metadata": {},
   "outputs": [],
   "source": [
    "# init SPO+ loss\n",
    "criterion = SPOPlusLoss()"
   ]
  },
  {
   "cell_type": "markdown",
   "id": "technological-queue",
   "metadata": {},
   "source": [
    "## Linear Regression "
   ]
  },
  {
   "cell_type": "code",
   "execution_count": 17,
   "id": "shaped-wonder",
   "metadata": {},
   "outputs": [],
   "source": [
    "import torch\n",
    "from torch import nn"
   ]
  },
  {
   "cell_type": "code",
   "execution_count": 18,
   "id": "fresh-adolescent",
   "metadata": {},
   "outputs": [],
   "source": [
    "# build linear model\n",
    "class LinearRegression(nn.Module):\n",
    "    \n",
    "    def __init__(self):\n",
    "        super(LinearRegression, self).__init__()\n",
    "        self.linear = nn.Linear(p, (grid[0] - 1) * grid[1] + (grid[1] - 1) * grid[0])\n",
    "    \n",
    "    def forward(self, x):\n",
    "        out = self.linear(x)\n",
    "        return out"
   ]
  },
  {
   "cell_type": "markdown",
   "id": "accessible-clerk",
   "metadata": {},
   "source": [
    "## Training "
   ]
  },
  {
   "cell_type": "code",
   "execution_count": 19,
   "id": "challenging-reservation",
   "metadata": {},
   "outputs": [],
   "source": [
    "from matplotlib import pyplot as plt"
   ]
  },
  {
   "cell_type": "code",
   "execution_count": 20,
   "id": "interior-secondary",
   "metadata": {},
   "outputs": [],
   "source": [
    "# init model\n",
    "lr = LinearRegression()\n",
    "# cuda\n",
    "if torch.cuda.is_available():\n",
    "    lr = lr.cuda()"
   ]
  },
  {
   "cell_type": "code",
   "execution_count": 21,
   "id": "asian-screening",
   "metadata": {},
   "outputs": [],
   "source": [
    "# set optimizer\n",
    "optimizer = torch.optim.Adam(lr.parameters(), lr=5e-2)"
   ]
  },
  {
   "cell_type": "code",
   "execution_count": 22,
   "id": "framed-classification",
   "metadata": {
    "scrolled": false
   },
   "outputs": [
    {
     "name": "stdout",
     "output_type": "stream",
     "text": [
      "epoch 10, loss:349.347687\n",
      "epoch 20, loss:316.843048\n",
      "epoch 30, loss:224.087433\n",
      "epoch 40, loss:141.554626\n",
      "epoch 50, loss:107.187096\n",
      "epoch 60, loss:71.685638\n",
      "epoch 70, loss:129.824249\n",
      "epoch 80, loss:40.634491\n",
      "epoch 90, loss:36.353432\n",
      "epoch 100, loss:35.775242\n",
      "epoch 110, loss:69.896294\n",
      "epoch 120, loss:24.196383\n",
      "epoch 130, loss:137.577652\n",
      "epoch 140, loss:10.596634\n",
      "epoch 150, loss:10.398376\n",
      "epoch 160, loss:7.421415\n",
      "epoch 170, loss:51.546989\n",
      "epoch 180, loss:73.714371\n",
      "epoch 190, loss:25.045685\n",
      "epoch 200, loss:97.604492\n",
      "epoch 210, loss:7.396153\n",
      "epoch 220, loss:38.595310\n",
      "epoch 230, loss:14.563106\n",
      "epoch 240, loss:11.306444\n",
      "epoch 250, loss:19.676949\n",
      "epoch 260, loss:19.334209\n",
      "epoch 270, loss:10.276724\n",
      "epoch 280, loss:15.248877\n",
      "epoch 290, loss:9.524104\n",
      "epoch 300, loss:25.180450\n",
      "epoch 310, loss:9.916795\n",
      "epoch 320, loss:7.352296\n",
      "epoch 330, loss:21.649612\n",
      "epoch 340, loss:9.126776\n",
      "epoch 350, loss:3.992898\n",
      "epoch 360, loss:26.955017\n",
      "epoch 370, loss:24.856709\n",
      "epoch 380, loss:21.961575\n",
      "epoch 390, loss:17.186354\n",
      "epoch 400, loss:1.335073\n"
     ]
    }
   ],
   "source": [
    "# train model\n",
    "num_epochs = 400\n",
    "lr.train()\n",
    "loss_log = []\n",
    "for epoch in range(num_epochs):\n",
    "    # load data\n",
    "    for i, data in enumerate(sp_loader_train):\n",
    "        x, c, w, z = data\n",
    "        # cuda\n",
    "        if torch.cuda.is_available():\n",
    "            x, c, w, z = x.cuda(), c.cuda(), w.cuda(), z.cuda()\n",
    "        # forward pass\n",
    "        cp = lr(x)\n",
    "        loss = criterion.apply(sp_model, cp, c, w, z).mean()\n",
    "        # backward pass\n",
    "        optimizer.zero_grad()\n",
    "        loss.backward()\n",
    "        optimizer.step()\n",
    "    loss_log.append(loss.item())\n",
    "    if (epoch + 1) % 10 == 0:\n",
    "        print('epoch {}, loss:{:.6f}'.format(epoch+1, loss.item()))"
   ]
  },
  {
   "cell_type": "code",
   "execution_count": 23,
   "id": "cheap-thought",
   "metadata": {},
   "outputs": [
    {
     "data": {
      "image/png": "[encoded data removed]",
      "text/plain": [
       "<Figure size 864x432 with 1 Axes>"
      ]
     },
     "metadata": {
      "needs_background": "light"
     },
     "output_type": "display_data"
    }
   ],
   "source": [
    "# draw plot\n",
    "plt.figure(figsize=(12, 6))\n",
    "plt.plot(loss_log, color='c')\n",
    "plt.xlabel('Epoch')\n",
    "plt.ylabel('SPO+ Loss')\n",
    "plt.title('Learning Curve')\n",
    "plt.show()"
   ]
  },
  {
   "cell_type": "markdown",
   "id": "industrial-opposition",
   "metadata": {},
   "source": [
    "## Evaluation "
   ]
  },
  {
   "cell_type": "code",
   "execution_count": 24,
   "id": "precise-brunswick",
   "metadata": {},
   "outputs": [],
   "source": [
    "import numpy as np\n",
    "from evalm import SPOEval"
   ]
  },
  {
   "cell_type": "code",
   "execution_count": 25,
   "id": "scheduled-championship",
   "metadata": {},
   "outputs": [
    {
     "name": "stdout",
     "output_type": "stream",
     "text": [
      "Normalized SPO Loss: 0.43%\n"
     ]
    }
   ],
   "source": [
    "# evaluate\n",
    "spoloss = SPOEval(lr, sp_model, sp_loader_test)\n",
    "print('Normalized SPO Loss: {:.2f}%'.format(spoloss * 100))"
   ]
  },
  {
   "cell_type": "code",
   "execution_count": 26,
   "id": "communist-destiny",
   "metadata": {
    "scrolled": false
   },
   "outputs": [
    {
     "name": "stdout",
     "output_type": "stream",
     "text": [
      "Sample 0:\n",
      "    True cost: 318.63, 132.21, 82.00, 327.91, 127.54, 257.18, 116.55, 83.78, 401.33, 151.26, 257.18, 150.98, 228.57, 83.78, 365.31, 83.78, 156.28, 60.65, 28.70, 257.18, 150.98, 60.65, 97.35, 224.77, 192.93, 116.55, 365.31, 365.31, 41.02, 169.97, 34.79, 228.57, 34.79, 132.21, 82.00, 169.97, 116.55, 169.97, 51.24, 60.65\n",
      "    Pred cost: 105.73, -1.34, 50.22, 31.74, -104.11, 114.54, -51.79, 44.73, 30.69, 28.30, 22.68, 22.16, 98.61, -146.00, 122.79, -50.04, -7.31, 87.69, -141.97, 44.77, -0.84, 61.48, -21.92, -55.52, 8.38, -32.43, 106.27, -16.27, -53.89, -12.63, -30.23, -15.68, -15.68, -28.78, -19.48, 52.30, -15.37, -21.69, -40.37, -52.23\n",
      "    True sol: 0, 0, 0, 0, 1, 0, 0, 0, 0, 0, 0, 0, 0, 1, 0, 0, 0, 0, 1, 0, 0, 0, 0, 1, 0, 0, 0, 0, 1, 0, 0, 0, 0, 1, 0, 0, 0, 0, 1, 1, True obj: 749.90\n",
      "    Pred sol: 0, 0, 0, 0, 1, 0, 0, 0, 0, 0, 0, 0, 0, 1, 0, 0, 0, 0, 1, 0, 0, 0, 0, 1, 0, 0, 0, 0, 1, 0, 0, 0, 0, 1, 0, 0, 0, 0, 1, 1, Pred obj: 749.90\n",
      "\n",
      "Sample 1:\n",
      "    True cost: 3.59, 47.00, 82.00, 15.73, 14.42, 2.53, 4.16, 10.14, 21.01, 48.37, 2.53, 5.92, 2.43, 10.14, 16.31, 10.14, 23.57, 66.42, 15.74, 2.53, 5.92, 66.42, 10.55, 31.75, 60.68, 4.16, 16.31, 16.31, 21.02, 59.05, 16.33, 2.43, 16.33, 47.00, 82.00, 59.05, 4.16, 59.05, 64.68, 66.42\n",
      "    Pred cost: -70.85, 88.45, 101.68, 70.68, 70.78, -153.07, 10.90, 78.90, 70.03, 113.93, -91.05, -67.56, -72.83, -22.08, 16.26, -18.64, -2.34, 25.41, 6.72, -76.11, -122.50, 23.53, -46.09, 103.10, 33.37, -120.97, 38.21, -5.87, 76.05, 72.30, -70.71, -66.05, 50.21, 35.57, 20.67, -47.17, -63.92, -2.59, 29.22, 45.97\n",
      "    True sol: 1, 0, 0, 0, 0, 1, 0, 0, 0, 0, 1, 0, 0, 0, 0, 1, 0, 0, 0, 0, 1, 0, 0, 0, 0, 1, 0, 0, 0, 0, 1, 0, 0, 0, 0, 1, 0, 0, 0, 0, True obj: 104.25\n",
      "    Pred sol: 1, 0, 0, 0, 0, 1, 0, 0, 0, 0, 1, 0, 0, 0, 0, 1, 0, 0, 0, 0, 1, 0, 0, 0, 0, 1, 0, 0, 0, 0, 1, 0, 0, 0, 0, 1, 0, 0, 0, 0, Pred obj: 104.25\n",
      "\n",
      "Sample 2:\n",
      "    True cost: 282.17, 293.06, 82.00, 292.60, 282.62, 501.22, 348.60, 540.37, 150.72, 268.89, 501.22, 185.11, 539.64, 540.37, 268.46, 540.37, 192.71, 175.46, 378.48, 501.22, 185.11, 175.46, 501.91, 81.82, 136.43, 348.60, 268.46, 268.46, 203.76, 151.00, 349.13, 539.64, 349.13, 293.06, 82.00, 151.00, 348.60, 151.00, 193.04, 175.46\n",
      "    Pred cost: 2.85, -50.07, -38.38, -97.64, -2.52, 47.89, -28.24, 158.53, -97.46, -70.18, 60.51, -22.39, 120.92, 60.73, -63.34, 63.47, -40.88, -20.47, 11.42, 54.04, 64.96, -11.58, 94.70, -108.76, 33.37, 39.20, -26.93, 55.05, -64.61, -50.68, 60.44, 79.05, -50.92, 35.71, -72.41, 42.67, 79.20, 12.70, 37.38, -41.31\n",
      "    True sol: 0, 0, 0, 0, 1, 0, 0, 0, 0, 1, 0, 0, 0, 0, 1, 0, 0, 0, 0, 0, 0, 0, 0, 1, 0, 0, 0, 0, 1, 1, 0, 0, 0, 0, 1, 0, 0, 0, 0, 1, True obj: 1514.02\n",
      "    Pred sol: 0, 0, 0, 0, 1, 0, 0, 0, 0, 1, 0, 0, 0, 0, 1, 0, 0, 0, 0, 0, 0, 0, 0, 1, 0, 0, 0, 0, 1, 1, 0, 0, 0, 0, 1, 0, 0, 0, 0, 1, Pred obj: 1514.02\n",
      "\n",
      "Sample 3:\n",
      "    True cost: 284.63, 301.85, 82.00, 667.51, 104.23, 375.74, 206.35, 196.22, 525.27, 234.79, 375.74, 149.27, 470.24, 196.22, 543.70, 196.22, 399.07, 119.01, 96.20, 375.74, 149.27, 119.01, 148.25, 236.24, 171.65, 206.35, 543.70, 543.70, 64.93, 225.02, 68.77, 470.24, 68.77, 301.85, 82.00, 225.02, 206.35, 225.02, 159.90, 119.01\n",
      "    Pred cost: 103.65, 20.01, 53.58, 23.34, -101.59, 95.45, -24.10, 75.20, 22.87, -7.84, 17.90, 40.34, 117.08, -114.22, 80.42, -52.59, 10.75, 91.77, -125.89, 38.08, -12.29, 60.48, 7.44, -73.11, 9.58, -31.96, 109.67, 1.77, -57.24, -63.35, -33.83, 8.32, -31.24, 38.05, -66.95, 50.49, 9.24, -16.95, 22.45, -50.80\n",
      "    True sol: 0, 0, 0, 0, 1, 0, 0, 0, 0, 0, 0, 0, 0, 1, 0, 0, 0, 0, 1, 0, 0, 0, 0, 1, 0, 0, 0, 0, 1, 1, 0, 0, 0, 0, 1, 0, 0, 0, 0, 1, True obj: 1123.86\n",
      "    Pred sol: 0, 0, 0, 0, 1, 0, 0, 0, 0, 0, 0, 0, 0, 1, 0, 0, 0, 0, 1, 0, 0, 0, 0, 1, 0, 0, 0, 0, 1, 1, 0, 0, 0, 0, 1, 0, 0, 0, 0, 1, Pred obj: 1123.86\n",
      "\n",
      "Sample 4:\n",
      "    True cost: 90.60, 122.05, 82.00, 198.24, 50.02, 120.31, 115.00, 74.26, 154.40, 114.74, 120.31, 86.32, 127.88, 74.26, 187.67, 74.26, 190.48, 109.61, 70.58, 120.31, 86.32, 109.61, 69.26, 139.51, 86.12, 115.00, 187.67, 187.67, 51.06, 92.01, 65.77, 127.88, 65.77, 122.05, 82.00, 92.01, 115.00, 92.01, 116.68, 109.61\n",
      "    Pred cost: 48.21, 32.04, 44.46, 4.06, -46.88, 25.54, -0.68, 100.20, 3.86, 12.88, -12.26, 32.94, 64.73, -68.98, 49.11, -51.58, 36.35, 44.01, -61.76, 3.38, -16.63, 41.94, -18.79, -9.43, -18.34, -9.43, 59.82, -11.84, -10.76, -45.83, -43.45, -12.62, -8.99, 29.73, -16.18, 2.45, -11.87, -13.63, 15.85, -2.58\n",
      "    True sol: 0, 0, 0, 0, 1, 0, 0, 0, 0, 0, 0, 0, 0, 1, 0, 0, 0, 0, 1, 0, 0, 0, 0, 1, 0, 0, 0, 0, 1, 1, 1, 0, 0, 0, 0, 1, 0, 0, 0, 0, True obj: 635.23\n",
      "    Pred sol: 0, 0, 0, 0, 1, 0, 0, 0, 0, 0, 0, 0, 0, 1, 0, 0, 0, 0, 1, 0, 0, 0, 0, 1, 0, 0, 0, 0, 1, 1, 1, 0, 0, 0, 0, 1, 0, 0, 0, 0, Pred obj: 635.23\n",
      "\n",
      "Sample 5:\n",
      "    True cost: 33.28, 56.83, 82.00, 28.87, 64.20, 34.67, 31.57, 39.78, 27.66, 91.32, 34.67, 30.28, 18.99, 39.78, 50.09, 39.78, 26.18, 84.76, 36.32, 34.67, 30.28, 84.76, 66.49, 44.23, 88.39, 31.57, 50.09, 50.09, 34.88, 54.79, 61.35, 18.99, 61.35, 56.83, 82.00, 54.79, 31.57, 54.79, 52.27, 84.76\n",
      "    Pred cost: -39.94, 15.82, 37.09, 0.96, 39.74, -57.24, -20.82, 91.83, 0.24, 77.08, -25.17, -52.69, -4.03, -20.99, 22.56, 11.66, -21.68, -0.37, -15.73, -6.41, -29.31, 13.96, -6.09, 14.88, 33.65, -43.65, 8.09, 14.63, 7.61, 36.19, -27.71, -28.45, 27.83, 2.38, 16.38, -22.49, -27.73, 2.92, 1.86, 22.78\n",
      "    True sol: 1, 0, 0, 0, 0, 1, 0, 0, 0, 0, 1, 1, 0, 0, 0, 0, 1, 0, 0, 0, 0, 0, 0, 0, 0, 1, 0, 0, 0, 0, 1, 0, 0, 0, 0, 1, 0, 0, 0, 0, True obj: 306.81\n",
      "    Pred sol: 1, 0, 0, 0, 0, 1, 0, 0, 0, 0, 1, 1, 0, 0, 0, 0, 1, 0, 0, 0, 0, 0, 0, 0, 0, 1, 0, 0, 0, 0, 1, 0, 0, 0, 0, 1, 0, 0, 0, 0, Pred obj: 306.81\n",
      "\n",
      "Sample 6:\n",
      "    True cost: 54.66, 54.78, 82.00, 53.49, 55.97, 37.08, 108.21, 105.60, 76.47, 16.29, 37.08, 146.57, 103.47, 105.60, 15.78, 105.60, 144.10, 57.72, 248.16, 37.08, 146.57, 57.72, 38.05, 80.24, 25.86, 108.21, 15.78, 15.78, 318.35, 78.16, 110.41, 103.47, 110.41, 54.78, 82.00, 78.16, 108.21, 78.16, 146.83, 57.72\n",
      "    Pred cost: -21.21, 31.88, -0.47, -77.09, 21.77, -46.60, 45.81, 209.56, -75.63, -138.84, -20.99, 22.05, 49.28, 141.57, -137.53, -4.68, 57.34, -42.20, 157.49, -88.32, -4.63, -30.02, -9.16, 96.82, -95.96, 46.59, -54.61, -50.18, 98.75, -8.42, 54.30, 54.90, -69.54, 8.46, 0.08, 11.29, 56.14, -13.40, -3.86, -11.47\n",
      "    True sol: 0, 0, 0, 0, 1, 0, 0, 0, 0, 1, 0, 0, 0, 0, 1, 0, 0, 0, 0, 1, 0, 0, 0, 0, 1, 0, 0, 0, 0, 1, 0, 0, 0, 0, 1, 0, 0, 0, 0, 1, True obj: 368.87\n",
      "    Pred sol: 0, 0, 0, 0, 1, 0, 0, 0, 0, 1, 0, 0, 0, 0, 1, 0, 0, 0, 0, 1, 0, 0, 0, 0, 1, 0, 0, 0, 0, 1, 0, 0, 0, 0, 1, 0, 0, 0, 0, 1, Pred obj: 368.87\n",
      "\n",
      "Sample 7:\n",
      "    True cost: 13.52, 71.18, 82.00, 40.19, 27.72, 20.79, 56.51, 61.44, 27.74, 47.25, 20.79, 40.16, 33.95, 61.44, 25.09, 61.44, 96.04, 109.59, 135.98, 20.79, 40.16, 109.59, 40.16, 47.24, 33.07, 56.51, 25.09, 25.09, 103.32, 51.54, 95.99, 33.95, 95.99, 71.18, 82.00, 51.54, 56.51, 51.54, 153.60, 109.59\n",
      "    Pred cost: -52.87, 53.49, 31.61, -31.32, 53.12, -100.74, 39.23, 164.95, -30.67, -17.99, -48.38, -8.02, 2.28, 72.69, -74.52, -8.20, 40.96, -25.44, 84.04, -65.01, -41.33, -6.08, -7.79, 71.96, -32.36, -6.66, -24.32, -9.89, 67.20, -10.44, -13.11, 4.21, -8.80, 52.29, -0.34, -33.96, 5.64, -1.36, 43.10, 33.65\n",
      "    True sol: 1, 0, 0, 0, 0, 1, 0, 0, 0, 0, 0, 0, 0, 0, 1, 0, 0, 0, 0, 1, 1, 1, 0, 0, 0, 0, 1, 0, 0, 0, 0, 0, 0, 0, 0, 1, 0, 0, 0, 0, True obj: 306.58\n",
      "    Pred sol: 1, 0, 0, 0, 0, 1, 0, 0, 0, 0, 0, 0, 0, 0, 1, 0, 0, 0, 0, 1, 1, 1, 0, 0, 0, 0, 1, 0, 0, 0, 0, 0, 0, 0, 0, 1, 0, 0, 0, 0, Pred obj: 306.58\n",
      "\n",
      "Sample 8:\n",
      "    True cost: 272.92, 160.23, 82.00, 167.55, 262.32, 262.45, 164.18, 290.79, 175.03, 135.79, 262.45, 171.55, 302.23, 290.79, 142.26, 290.79, 98.89, 77.80, 184.18, 262.45, 171.55, 77.80, 252.16, 86.42, 142.18, 164.18, 142.26, 142.26, 192.21, 167.46, 156.97, 302.23, 156.97, 160.23, 82.00, 167.46, 164.18, 167.46, 93.98, 77.80\n",
      "    Pred cost: 6.88, -37.78, -13.32, -61.66, -6.64, 40.71, -38.13, 133.90, -61.74, -60.93, 43.44, -38.77, 92.20, 47.48, -46.11, 53.03, -49.41, -4.86, 20.63, 21.31, 34.30, -9.92, 55.42, -52.05, 21.85, 4.88, -12.58, 20.82, -24.29, 11.72, 64.49, 59.35, -49.05, -13.76, -42.52, 56.05, 59.79, 1.92, -12.80, -55.20\n",
      "    True sol: 0, 0, 0, 0, 1, 0, 0, 0, 0, 1, 0, 0, 0, 0, 1, 0, 0, 0, 0, 0, 0, 0, 0, 1, 0, 0, 0, 0, 0, 0, 0, 0, 1, 0, 0, 0, 0, 1, 1, 1, True obj: 1123.02\n",
      "    Pred sol: 0, 0, 0, 0, 1, 0, 0, 0, 0, 1, 0, 0, 0, 0, 1, 0, 0, 0, 0, 0, 0, 0, 0, 1, 0, 0, 0, 0, 0, 0, 0, 0, 1, 0, 0, 0, 0, 1, 1, 1, Pred obj: 1123.01\n",
      "\n",
      "Sample 9:\n",
      "    True cost: 574.39, 101.13, 82.00, 108.08, 549.70, 389.84, 155.33, 280.05, 182.34, 144.85, 389.84, 251.27, 294.96, 280.05, 153.95, 280.05, 29.02, 43.10, 102.13, 389.84, 251.27, 43.10, 371.42, 87.94, 236.16, 155.33, 153.95, 153.95, 173.48, 171.98, 146.16, 294.96, 146.16, 101.13, 82.00, 171.98, 155.33, 171.98, 26.50, 43.10\n",
      "    Pred cost: 20.32, -95.33, -40.54, -75.58, -20.61, 102.87, -90.45, 101.25, -76.44, -40.31, 84.26, -70.30, 108.62, 18.60, -5.12, 86.54, -101.56, -10.43, -13.68, 65.97, 79.49, -13.99, 62.89, -92.77, 47.67, 15.30, -21.24, 26.73, -62.60, 57.59, 96.74, 61.24, -46.49, -88.70, -18.53, 84.00, 60.68, 3.22, -78.89, -82.22\n",
      "    True sol: 0, 0, 0, 0, 1, 0, 0, 0, 0, 1, 0, 0, 0, 0, 1, 0, 0, 0, 0, 0, 0, 0, 0, 1, 0, 0, 0, 0, 1, 0, 0, 0, 0, 1, 0, 0, 0, 0, 1, 1, True obj: 1280.65\n",
      "    Pred sol: 0, 0, 0, 0, 1, 0, 0, 0, 0, 1, 0, 0, 0, 0, 1, 0, 0, 0, 0, 0, 0, 0, 0, 1, 0, 0, 0, 0, 1, 0, 0, 0, 0, 1, 0, 0, 0, 0, 1, 1, Pred obj: 1280.65\n",
      "\n"
     ]
    }
   ],
   "source": [
    "# compare solutions\n",
    "lr.eval()\n",
    "loss = []\n",
    "# load data\n",
    "for i, data in enumerate(sp_loader_test):\n",
    "    x, c, w, z = data\n",
    "    # cuda\n",
    "    if torch.cuda.is_available():\n",
    "        x, c, w, z = x.cuda(), c.cuda(), w.cuda(), z.cuda()\n",
    "    # predict\n",
    "    cp = lr(x)\n",
    "    # convert to numpy\n",
    "    c = c.to('cpu').detach().numpy().tolist()\n",
    "    w = w.to('cpu').detach().numpy().tolist()\n",
    "    z = z.to('cpu').detach().numpy().tolist()\n",
    "    cp = cp.to('cpu').detach().numpy().tolist()\n",
    "    for j in range(min(10, batch_size)):\n",
    "        print('Sample {}:'.format(j))\n",
    "        print('    True cost:', ', '.join(['{:.2f}'.format(cost) for cost in c[j]]))\n",
    "        print('    Pred cost:', ', '.join(['{:.2f}'.format(cost) for cost in cp[j]]))\n",
    "        # solve cost from prediction\n",
    "        sp_model.setObj(cp[j])\n",
    "        wpj, _ = sp_model.solve()\n",
    "        zpj = np.dot(c[j], wpj)\n",
    "        print('    True sol: ' + ', '.join(['{:.0f}'.format(x) for x in w[j]]) + ', True obj: {:.2f}'.format(z[j][0]))\n",
    "        print('    Pred sol: '+  ', '.join(['{:.0f}'.format(x) for x in wpj]) + ', Pred obj: {:.2f}'.format(zpj))\n",
    "        print()\n",
    "    break"
   ]
  },
  {
   "cell_type": "markdown",
   "id": "alternative-brother",
   "metadata": {},
   "source": [
    "##  Training with Regularization"
   ]
  },
  {
   "cell_type": "code",
   "execution_count": 27,
   "id": "driven-surveillance",
   "metadata": {},
   "outputs": [],
   "source": [
    "# init model\n",
    "lr = LinearRegression()\n",
    "# cuda\n",
    "if torch.cuda.is_available():\n",
    "    lr = lr.cuda()"
   ]
  },
  {
   "cell_type": "code",
   "execution_count": 28,
   "id": "annual-fortune",
   "metadata": {},
   "outputs": [],
   "source": [
    "# set optimizer\n",
    "optimizer = torch.optim.Adam(lr.parameters(), lr=5e-2)"
   ]
  },
  {
   "cell_type": "code",
   "execution_count": 29,
   "id": "characteristic-gender",
   "metadata": {
    "scrolled": false
   },
   "outputs": [
    {
     "name": "stdout",
     "output_type": "stream",
     "text": [
      "epoch 10, loss:516.980042\n",
      "epoch 20, loss:191.357590\n",
      "epoch 30, loss:162.569855\n",
      "epoch 40, loss:98.365944\n",
      "epoch 50, loss:104.788200\n",
      "epoch 60, loss:54.734283\n",
      "epoch 70, loss:150.373825\n",
      "epoch 80, loss:54.878471\n",
      "epoch 90, loss:39.655060\n",
      "epoch 100, loss:42.032284\n",
      "epoch 110, loss:65.423470\n",
      "epoch 120, loss:30.712301\n",
      "epoch 130, loss:30.578964\n",
      "epoch 140, loss:68.301712\n",
      "epoch 150, loss:45.626488\n",
      "epoch 160, loss:21.594521\n",
      "epoch 170, loss:28.645906\n",
      "epoch 180, loss:17.963242\n",
      "epoch 190, loss:57.131176\n",
      "epoch 200, loss:35.939404\n",
      "epoch 210, loss:23.192759\n",
      "epoch 220, loss:36.715794\n",
      "epoch 230, loss:45.498371\n",
      "epoch 240, loss:25.689430\n",
      "epoch 250, loss:26.010920\n",
      "epoch 260, loss:11.456385\n",
      "epoch 270, loss:18.821064\n",
      "epoch 280, loss:20.342735\n",
      "epoch 290, loss:11.755850\n",
      "epoch 300, loss:18.657734\n",
      "epoch 310, loss:24.711864\n",
      "epoch 320, loss:10.161060\n",
      "epoch 330, loss:18.549446\n",
      "epoch 340, loss:10.060714\n",
      "epoch 350, loss:28.696041\n",
      "epoch 360, loss:11.483892\n",
      "epoch 370, loss:25.503872\n",
      "epoch 380, loss:15.154787\n",
      "epoch 390, loss:26.281731\n",
      "epoch 400, loss:8.298620\n"
     ]
    }
   ],
   "source": [
    "# train model\n",
    "num_epochs = 400\n",
    "lr.train()\n",
    "loss_log = []\n",
    "for epoch in range(num_epochs):\n",
    "    # load data\n",
    "    for i, data in enumerate(sp_loader_train):\n",
    "        x, c, w, z = data\n",
    "        # cuda\n",
    "        if torch.cuda.is_available():\n",
    "            x, c, w, z = x.cuda(), c.cuda(), w.cuda(), z.cuda()\n",
    "        # forward pass\n",
    "        cp = lr(x)\n",
    "        loss = criterion.apply(sp_model, cp, c, w, z).mean()\n",
    "        # l1 reg\n",
    "        l1_lambda = 1e-3\n",
    "        l1_reg = torch.abs(cp - c).sum(dim=1).mean()\n",
    "        loss += l1_lambda * l1_reg\n",
    "        # backward pass\n",
    "        optimizer.zero_grad()\n",
    "        loss.backward()\n",
    "        optimizer.step()\n",
    "    loss_log.append(loss.item())\n",
    "    if (epoch + 1) % 10 == 0:\n",
    "        print('epoch {}, loss:{:.6f}'.format(epoch+1, loss.item()))"
   ]
  },
  {
   "cell_type": "code",
   "execution_count": 30,
   "id": "closed-companion",
   "metadata": {},
   "outputs": [
    {
     "data": {
      "image/png": "[encoded data removed]",
      "text/plain": [
       "<Figure size 864x432 with 1 Axes>"
      ]
     },
     "metadata": {
      "needs_background": "light"
     },
     "output_type": "display_data"
    }
   ],
   "source": [
    "# draw plot\n",
    "plt.figure(figsize=(12, 6))\n",
    "plt.plot(loss_log, color='c')\n",
    "plt.xlabel('Epoch')\n",
    "plt.ylabel('SPO+ Loss with Regularization')\n",
    "plt.title('Learning Curve')\n",
    "plt.show()"
   ]
  },
  {
   "cell_type": "markdown",
   "id": "progressive-benefit",
   "metadata": {},
   "source": [
    "## Evaluation "
   ]
  },
  {
   "cell_type": "code",
   "execution_count": 31,
   "id": "julian-stone",
   "metadata": {},
   "outputs": [
    {
     "name": "stdout",
     "output_type": "stream",
     "text": [
      "Normalized SPO Loss: 0.26%\n"
     ]
    }
   ],
   "source": [
    "# evaluate\n",
    "spoloss = SPOEval(lr, sp_model, sp_loader_test)\n",
    "print('Normalized SPO Loss: {:.2f}%'.format(spoloss * 100))"
   ]
  },
  {
   "cell_type": "code",
   "execution_count": 32,
   "id": "presidential-vehicle",
   "metadata": {
    "scrolled": false
   },
   "outputs": [
    {
     "name": "stdout",
     "output_type": "stream",
     "text": [
      "Sample 0:\n",
      "    True cost: 318.63, 132.21, 82.00, 327.91, 127.54, 257.18, 116.55, 83.78, 401.33, 151.26, 257.18, 150.98, 228.57, 83.78, 365.31, 83.78, 156.28, 60.65, 28.70, 257.18, 150.98, 60.65, 97.35, 224.77, 192.93, 116.55, 365.31, 365.31, 41.02, 169.97, 34.79, 228.57, 34.79, 132.21, 82.00, 169.97, 116.55, 169.97, 51.24, 60.65\n",
      "    Pred cost: 111.53, 1.90, 54.57, 49.67, -93.71, 127.42, -49.37, 97.07, 51.67, 29.72, 21.14, 20.49, 100.65, -132.23, 132.89, -49.91, -10.22, 88.01, -132.97, 58.52, 6.55, 44.56, -15.11, -39.05, 14.54, -26.38, 107.49, 0.92, -51.45, -2.84, -24.74, -7.95, -11.69, -26.83, -8.20, 49.72, -10.14, -19.43, -42.83, -42.78\n",
      "    True sol: 0, 0, 0, 0, 1, 0, 0, 0, 0, 0, 0, 0, 0, 1, 0, 0, 0, 0, 1, 0, 0, 0, 0, 1, 0, 0, 0, 0, 1, 0, 0, 0, 0, 1, 0, 0, 0, 0, 1, 1, True obj: 749.90\n",
      "    Pred sol: 0, 0, 0, 0, 1, 0, 0, 0, 0, 0, 0, 0, 0, 1, 0, 0, 0, 0, 1, 0, 0, 0, 0, 1, 0, 0, 0, 0, 1, 0, 0, 0, 0, 1, 0, 0, 0, 0, 1, 1, Pred obj: 749.90\n",
      "\n",
      "Sample 1:\n",
      "    True cost: 3.59, 47.00, 82.00, 15.73, 14.42, 2.53, 4.16, 10.14, 21.01, 48.37, 2.53, 5.92, 2.43, 10.14, 16.31, 10.14, 23.57, 66.42, 15.74, 2.53, 5.92, 66.42, 10.55, 31.75, 60.68, 4.16, 16.31, 16.31, 21.02, 59.05, 16.33, 2.43, 16.33, 47.00, 82.00, 59.05, 4.16, 59.05, 64.68, 66.42\n",
      "    Pred cost: -77.26, 84.72, 103.63, 75.82, 61.95, -168.11, 5.61, -38.70, 78.83, 108.96, -89.35, -70.80, -74.79, -31.21, 9.03, -17.30, -5.65, 31.86, -0.09, -82.68, -132.97, 24.20, -48.85, 92.70, 30.47, -127.86, 32.97, -13.86, 64.85, 63.74, -64.00, -59.16, 44.14, 35.27, 14.27, -33.39, -60.73, 5.86, 35.52, 35.71\n",
      "    True sol: 1, 0, 0, 0, 0, 1, 0, 0, 0, 0, 1, 0, 0, 0, 0, 1, 0, 0, 0, 0, 1, 0, 0, 0, 0, 1, 0, 0, 0, 0, 1, 0, 0, 0, 0, 1, 0, 0, 0, 0, True obj: 104.25\n",
      "    Pred sol: 1, 0, 0, 0, 0, 1, 0, 0, 0, 0, 1, 0, 0, 0, 0, 1, 0, 0, 0, 0, 1, 0, 0, 0, 0, 1, 0, 0, 0, 0, 1, 0, 0, 0, 0, 1, 0, 0, 0, 0, Pred obj: 104.25\n",
      "\n",
      "Sample 2:\n",
      "    True cost: 282.17, 293.06, 82.00, 292.60, 282.62, 501.22, 348.60, 540.37, 150.72, 268.89, 501.22, 185.11, 539.64, 540.37, 268.46, 540.37, 192.71, 175.46, 378.48, 501.22, 185.11, 175.46, 501.91, 81.82, 136.43, 348.60, 268.46, 268.46, 203.76, 151.00, 349.13, 539.64, 349.13, 293.06, 82.00, 151.00, 348.60, 151.00, 193.04, 175.46\n",
      "    Pred cost: 11.06, -38.32, -43.53, -80.33, 8.95, 67.73, -6.92, 285.62, -85.44, -55.62, 67.05, -7.51, 136.40, 74.03, -46.83, 74.13, -27.96, -13.62, 23.72, 64.07, 82.95, 1.32, 102.17, -96.05, 38.43, 52.48, -16.76, 65.38, -50.42, -39.31, 64.86, 82.34, -29.85, 40.95, -60.88, 36.08, 82.74, 17.23, 45.07, -25.51\n",
      "    True sol: 0, 0, 0, 0, 1, 0, 0, 0, 0, 1, 0, 0, 0, 0, 1, 0, 0, 0, 0, 0, 0, 0, 0, 1, 0, 0, 0, 0, 1, 1, 0, 0, 0, 0, 1, 0, 0, 0, 0, 1, True obj: 1514.02\n",
      "    Pred sol: 0, 0, 0, 0, 1, 0, 0, 0, 0, 1, 0, 0, 0, 0, 1, 0, 0, 0, 0, 0, 0, 0, 0, 1, 0, 0, 0, 0, 1, 1, 0, 0, 0, 0, 1, 0, 0, 0, 0, 1, Pred obj: 1514.02\n",
      "\n",
      "Sample 3:\n",
      "    True cost: 284.63, 301.85, 82.00, 667.51, 104.23, 375.74, 206.35, 196.22, 525.27, 234.79, 375.74, 149.27, 470.24, 196.22, 543.70, 196.22, 399.07, 119.01, 96.20, 375.74, 149.27, 119.01, 148.25, 236.24, 171.65, 206.35, 543.70, 543.70, 64.93, 225.02, 68.77, 470.24, 68.77, 301.85, 82.00, 225.02, 206.35, 225.02, 159.90, 119.01\n",
      "    Pred cost: 109.46, 25.77, 56.01, 49.67, -92.41, 111.60, -22.30, 172.60, 48.64, -0.70, 19.04, 42.84, 129.46, -96.03, 97.22, -49.83, 16.47, 96.35, -113.10, 49.49, -6.26, 49.31, 17.92, -56.30, 15.77, -22.23, 112.41, 19.53, -54.83, -49.21, -25.35, 21.52, -20.14, 35.15, -52.02, 47.86, 19.54, -8.29, 22.95, -39.46\n",
      "    True sol: 0, 0, 0, 0, 1, 0, 0, 0, 0, 0, 0, 0, 0, 1, 0, 0, 0, 0, 1, 0, 0, 0, 0, 1, 0, 0, 0, 0, 1, 1, 0, 0, 0, 0, 1, 0, 0, 0, 0, 1, True obj: 1123.86\n",
      "    Pred sol: 0, 0, 0, 0, 1, 0, 0, 0, 0, 0, 0, 0, 0, 1, 0, 0, 0, 0, 1, 0, 0, 0, 0, 1, 0, 0, 0, 0, 1, 1, 0, 0, 0, 0, 1, 0, 0, 0, 0, 1, Pred obj: 1123.86\n",
      "\n",
      "Sample 4:\n",
      "    True cost: 90.60, 122.05, 82.00, 198.24, 50.02, 120.31, 115.00, 74.26, 154.40, 114.74, 120.31, 86.32, 127.88, 74.26, 187.67, 74.26, 190.48, 109.61, 70.58, 120.31, 86.32, 109.61, 69.26, 139.51, 86.12, 115.00, 187.67, 187.67, 51.06, 92.01, 65.77, 127.88, 65.77, 122.05, 82.00, 92.01, 115.00, 92.01, 116.68, 109.61\n",
      "    Pred cost: 50.48, 34.50, 46.71, 24.36, -42.84, 31.77, 3.69, 87.91, 23.39, 18.29, -11.11, 37.20, 69.71, -60.36, 58.56, -48.15, 36.69, 53.08, -55.36, 9.32, -14.84, 38.95, -9.97, -0.95, -12.17, -5.52, 62.83, -1.54, -10.48, -39.11, -35.21, 0.42, 0.04, 30.72, -10.79, 5.85, 0.55, -3.73, 22.86, 2.40\n",
      "    True sol: 0, 0, 0, 0, 1, 0, 0, 0, 0, 0, 0, 0, 0, 1, 0, 0, 0, 0, 1, 0, 0, 0, 0, 1, 0, 0, 0, 0, 1, 1, 1, 0, 0, 0, 0, 1, 0, 0, 0, 0, True obj: 635.23\n",
      "    Pred sol: 0, 0, 0, 0, 1, 0, 0, 0, 0, 0, 0, 0, 0, 1, 0, 0, 0, 0, 1, 0, 0, 0, 0, 1, 0, 0, 0, 0, 1, 1, 1, 0, 0, 0, 0, 1, 0, 0, 0, 0, Pred obj: 635.23\n",
      "\n",
      "Sample 5:\n",
      "    True cost: 33.28, 56.83, 82.00, 28.87, 64.20, 34.67, 31.57, 39.78, 27.66, 91.32, 34.67, 30.28, 18.99, 39.78, 50.09, 39.78, 26.18, 84.76, 36.32, 34.67, 30.28, 84.76, 66.49, 44.23, 88.39, 31.57, 50.09, 50.09, 34.88, 54.79, 61.35, 18.99, 61.35, 56.83, 82.00, 54.79, 31.57, 54.79, 52.27, 84.76\n",
      "    Pred cost: -41.88, 17.43, 36.40, 5.80, 40.44, -61.18, -12.47, 40.81, 6.02, 76.05, -24.99, -51.30, -7.80, -22.07, 21.08, 14.87, -23.44, 4.28, -16.63, -5.20, -27.70, 18.27, -4.27, 14.56, 34.00, -44.85, 7.76, 13.99, 7.14, 32.33, -22.32, -23.74, 27.77, 7.85, 14.06, -17.09, -23.54, 7.24, 9.97, 21.99\n",
      "    True sol: 1, 0, 0, 0, 0, 1, 0, 0, 0, 0, 1, 1, 0, 0, 0, 0, 1, 0, 0, 0, 0, 0, 0, 0, 0, 1, 0, 0, 0, 0, 1, 0, 0, 0, 0, 1, 0, 0, 0, 0, True obj: 306.81\n",
      "    Pred sol: 1, 0, 0, 0, 0, 1, 0, 0, 0, 0, 1, 1, 0, 0, 0, 0, 1, 0, 0, 0, 0, 0, 0, 0, 0, 1, 0, 0, 0, 0, 1, 0, 0, 0, 0, 1, 0, 0, 0, 0, Pred obj: 306.81\n",
      "\n",
      "Sample 6:\n",
      "    True cost: 54.66, 54.78, 82.00, 53.49, 55.97, 37.08, 108.21, 105.60, 76.47, 16.29, 37.08, 146.57, 103.47, 105.60, 15.78, 105.60, 144.10, 57.72, 248.16, 37.08, 146.57, 57.72, 38.05, 80.24, 25.86, 108.21, 15.78, 15.78, 318.35, 78.16, 110.41, 103.47, 110.41, 54.78, 82.00, 78.16, 108.21, 78.16, 146.83, 57.72\n",
      "    Pred cost: -11.52, 31.84, 3.22, -56.63, 20.36, -37.51, 52.41, 120.96, -55.25, -122.01, -6.10, 41.44, 66.63, 134.12, -129.46, 7.10, 56.22, -23.60, 158.97, -85.19, 1.08, -20.83, -10.95, 94.07, -85.33, 50.61, -40.71, -47.12, 103.14, -0.98, 55.25, 56.21, -44.33, 13.95, 1.09, 19.48, 55.87, -5.65, 2.39, -7.36\n",
      "    True sol: 0, 0, 0, 0, 1, 0, 0, 0, 0, 1, 0, 0, 0, 0, 1, 0, 0, 0, 0, 1, 0, 0, 0, 0, 1, 0, 0, 0, 0, 1, 0, 0, 0, 0, 1, 0, 0, 0, 0, 1, True obj: 368.87\n",
      "    Pred sol: 0, 0, 0, 0, 1, 0, 0, 0, 0, 1, 0, 0, 0, 0, 1, 0, 0, 0, 0, 1, 0, 0, 0, 0, 1, 0, 0, 0, 0, 1, 0, 0, 0, 0, 1, 0, 0, 0, 0, 1, Pred obj: 368.87\n",
      "\n",
      "Sample 7:\n",
      "    True cost: 13.52, 71.18, 82.00, 40.19, 27.72, 20.79, 56.51, 61.44, 27.74, 47.25, 20.79, 40.16, 33.95, 61.44, 25.09, 61.44, 96.04, 109.59, 135.98, 20.79, 40.16, 109.59, 40.16, 47.24, 33.07, 56.51, 25.09, 25.09, 103.32, 51.54, 95.99, 33.95, 95.99, 71.18, 82.00, 51.54, 56.51, 51.54, 153.60, 109.59\n",
      "    Pred cost: -52.31, 53.95, 31.94, -16.09, 48.97, -102.69, 45.27, 74.23, -17.16, -9.37, -40.82, 3.12, 10.80, 67.88, -70.99, -0.12, 42.57, -10.06, 83.62, -67.64, -42.78, 6.02, -5.38, 66.85, -27.98, -6.43, -18.66, -11.88, 66.06, -10.11, -6.94, 12.58, 4.27, 55.02, -3.08, -23.86, 13.45, 10.24, 55.08, 32.33\n",
      "    True sol: 1, 0, 0, 0, 0, 1, 0, 0, 0, 0, 0, 0, 0, 0, 1, 0, 0, 0, 0, 1, 1, 1, 0, 0, 0, 0, 1, 0, 0, 0, 0, 0, 0, 0, 0, 1, 0, 0, 0, 0, True obj: 306.58\n",
      "    Pred sol: 1, 0, 0, 0, 0, 1, 0, 0, 0, 0, 0, 0, 0, 0, 1, 0, 0, 0, 0, 1, 1, 0, 0, 0, 0, 1, 0, 0, 0, 0, 1, 0, 0, 0, 0, 1, 0, 0, 0, 0, Pred obj: 324.40\n",
      "\n",
      "Sample 8:\n",
      "    True cost: 272.92, 160.23, 82.00, 167.55, 262.32, 262.45, 164.18, 290.79, 175.03, 135.79, 262.45, 171.55, 302.23, 290.79, 142.26, 290.79, 98.89, 77.80, 184.18, 262.45, 171.55, 77.80, 252.16, 86.42, 142.18, 164.18, 142.26, 142.26, 192.21, 167.46, 156.97, 302.23, 156.97, 160.23, 82.00, 167.46, 164.18, 167.46, 93.98, 77.80\n",
      "    Pred cost: 16.20, -30.44, -14.45, -48.65, 2.52, 57.24, -24.21, 213.92, -48.87, -50.51, 50.96, -27.83, 104.55, 53.74, -35.52, 61.50, -44.00, -0.84, 28.39, 31.91, 50.04, -6.41, 56.01, -42.84, 26.77, 14.41, -4.00, 29.52, -13.80, 20.53, 65.43, 56.68, -33.19, -7.66, -32.99, 52.13, 54.98, 1.66, -12.02, -43.17\n",
      "    True sol: 0, 0, 0, 0, 1, 0, 0, 0, 0, 1, 0, 0, 0, 0, 1, 0, 0, 0, 0, 0, 0, 0, 0, 1, 0, 0, 0, 0, 0, 0, 0, 0, 1, 0, 0, 0, 0, 1, 1, 1, True obj: 1123.02\n",
      "    Pred sol: 0, 0, 0, 0, 1, 0, 0, 0, 0, 1, 0, 0, 0, 0, 1, 0, 0, 0, 0, 0, 0, 0, 0, 1, 0, 0, 0, 0, 0, 0, 0, 0, 1, 0, 0, 0, 0, 1, 1, 1, Pred obj: 1123.01\n",
      "\n",
      "Sample 9:\n",
      "    True cost: 574.39, 101.13, 82.00, 108.08, 549.70, 389.84, 155.33, 280.05, 182.34, 144.85, 389.84, 251.27, 294.96, 280.05, 153.95, 280.05, 29.02, 43.10, 102.13, 389.84, 251.27, 43.10, 371.42, 87.94, 236.16, 155.33, 153.95, 153.95, 173.48, 171.98, 146.16, 294.96, 146.16, 101.13, 82.00, 171.98, 155.33, 171.98, 26.50, 43.10\n",
      "    Pred cost: 32.12, -86.74, -41.78, -71.47, -5.26, 122.97, -70.69, 209.36, -69.78, -33.95, 89.02, -62.39, 112.86, 25.63, 2.36, 93.35, -100.95, -14.01, -5.98, 82.87, 103.30, -15.53, 60.59, -78.69, 52.28, 25.31, -12.82, 38.08, -46.93, 65.11, 93.67, 50.31, -35.55, -76.65, -8.21, 74.60, 48.07, -6.46, -82.87, -66.66\n",
      "    True sol: 0, 0, 0, 0, 1, 0, 0, 0, 0, 1, 0, 0, 0, 0, 1, 0, 0, 0, 0, 0, 0, 0, 0, 1, 0, 0, 0, 0, 1, 0, 0, 0, 0, 1, 0, 0, 0, 0, 1, 1, True obj: 1280.65\n",
      "    Pred sol: 0, 0, 0, 0, 1, 0, 0, 0, 0, 1, 0, 0, 0, 0, 1, 0, 0, 0, 0, 0, 0, 0, 0, 1, 0, 0, 0, 0, 1, 0, 0, 0, 0, 1, 0, 0, 0, 0, 1, 1, Pred obj: 1280.65\n",
      "\n"
     ]
    }
   ],
   "source": [
    "# compare solutions\n",
    "lr.eval()\n",
    "loss = []\n",
    "# load data\n",
    "for i, data in enumerate(sp_loader_test):\n",
    "    x, c, w, z = data\n",
    "    # cuda\n",
    "    if torch.cuda.is_available():\n",
    "        x, c, w, z = x.cuda(), c.cuda(), w.cuda(), z.cuda()\n",
    "    # predict\n",
    "    cp = lr(x)\n",
    "    # convert to numpy\n",
    "    c = c.to('cpu').detach().numpy().tolist()\n",
    "    w = w.to('cpu').detach().numpy().tolist()\n",
    "    z = z.to('cpu').detach().numpy().tolist()\n",
    "    cp = cp.to('cpu').detach().numpy().tolist()\n",
    "    for j in range(min(10, batch_size)):\n",
    "        print('Sample {}:'.format(j))\n",
    "        print('    True cost:', ', '.join(['{:.2f}'.format(cost) for cost in c[j]]))\n",
    "        print('    Pred cost:', ', '.join(['{:.2f}'.format(cost) for cost in cp[j]]))\n",
    "        # solve cost from prediction\n",
    "        sp_model.setObj(cp[j])\n",
    "        wpj, _ = sp_model.solve()\n",
    "        zpj = np.dot(c[j], wpj)\n",
    "        print('    True sol: ' + ', '.join(['{:.0f}'.format(x) for x in w[j]]) + ', True obj: {:.2f}'.format(z[j][0]))\n",
    "        print('    Pred sol: '+  ', '.join(['{:.0f}'.format(x) for x in wpj]) + ', Pred obj: {:.2f}'.format(zpj))\n",
    "        print()\n",
    "    break"
   ]
  },
  {
   "cell_type": "code",
   "execution_count": null,
   "id": "premium-namibia",
   "metadata": {},
   "outputs": [],
   "source": []
  }
 ],
 "metadata": {
  "kernelspec": {
   "display_name": "Python 3",
   "language": "python",
   "name": "python3"
  },
  "language_info": {
   "codemirror_mode": {
    "name": "ipython",
    "version": 3
   },
   "file_extension": ".py",
   "mimetype": "text/x-python",
   "name": "python",
   "nbconvert_exporter": "python",
   "pygments_lexer": "ipython3",
   "version": "3.7.9"
  }
 },
 "nbformat": 4,
 "nbformat_minor": 5
}
