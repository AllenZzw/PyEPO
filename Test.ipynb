{
 "cells": [
  {
   "cell_type": "markdown",
   "id": "naval-blade",
   "metadata": {},
   "source": [
    "## Optimization model "
   ]
  },
  {
   "cell_type": "code",
   "execution_count": 1,
   "id": "accredited-pearl",
   "metadata": {},
   "outputs": [],
   "source": [
    "from model import shortestPathModel"
   ]
  },
  {
   "cell_type": "code",
   "execution_count": 2,
   "id": "declared-brunswick",
   "metadata": {},
   "outputs": [
    {
     "name": "stdout",
     "output_type": "stream",
     "text": [
      "Academic license - for non-commercial use only - expires 2021-04-13\n",
      "Using license file C:\\Users\\Apocrypse\\gurobi.lic\n"
     ]
    }
   ],
   "source": [
    "# model for shortest path\n",
    "grid = (5,5)\n",
    "sp_model = shortestPathModel(grid)"
   ]
  },
  {
   "cell_type": "code",
   "execution_count": 3,
   "id": "precious-employee",
   "metadata": {},
   "outputs": [
    {
     "name": "stdout",
     "output_type": "stream",
     "text": [
      "Obj: 8.0\n",
      "(0, 1)\n",
      "(1, 2)\n",
      "(2, 3)\n",
      "(3, 4)\n",
      "(4, 9)\n",
      "(9, 14)\n",
      "(14, 19)\n",
      "(19, 24)\n"
     ]
    }
   ],
   "source": [
    "# solve\n",
    "sp_model.setObj([1 for i in range(40)])\n",
    "sol, obj = sp_model.solve()\n",
    "print('Obj: {}'.format(obj))\n",
    "for i, e in enumerate(sp_model.arcs):\n",
    "    if sol[i] > 1e-3:\n",
    "        print(e)"
   ]
  },
  {
   "cell_type": "markdown",
   "id": "directed-consultancy",
   "metadata": {},
   "source": [
    "## Data Loader"
   ]
  },
  {
   "cell_type": "code",
   "execution_count": 4,
   "id": "little-diversity",
   "metadata": {},
   "outputs": [],
   "source": [
    "from data import shortestpath, dataset\n",
    "from sklearn.model_selection import train_test_split\n",
    "from torch.utils.data import DataLoader"
   ]
  },
  {
   "cell_type": "code",
   "execution_count": 5,
   "id": "relative-cherry",
   "metadata": {},
   "outputs": [],
   "source": [
    "# generate data for grid network (features and costs)\n",
    "n = 1000 # number of data\n",
    "p = 5 # size of feature\n",
    "x, c = shortestpath.genData(n, p, grid)"
   ]
  },
  {
   "cell_type": "code",
   "execution_count": 6,
   "id": "regulated-freeware",
   "metadata": {},
   "outputs": [],
   "source": [
    "# data split\n",
    "x_train, x_test, c_train, c_test = train_test_split(x, c, test_size=0.2, random_state=246)"
   ]
  },
  {
   "cell_type": "code",
   "execution_count": 7,
   "id": "human-praise",
   "metadata": {},
   "outputs": [
    {
     "name": "stdout",
     "output_type": "stream",
     "text": [
      "Optimizing...\n"
     ]
    },
    {
     "name": "stderr",
     "output_type": "stream",
     "text": [
      "100%|███████████████████████████████████████████████████████████████████████| 800/800 [00:02<00:00, 309.10it/s]\n"
     ]
    }
   ],
   "source": [
    "# get training data set\n",
    "sp_dataset_train = dataset.optDataset(sp_model, x_train, c_train)"
   ]
  },
  {
   "cell_type": "code",
   "execution_count": 8,
   "id": "immune-interpretation",
   "metadata": {},
   "outputs": [
    {
     "name": "stdout",
     "output_type": "stream",
     "text": [
      "Optimizing...\n"
     ]
    },
    {
     "name": "stderr",
     "output_type": "stream",
     "text": [
      "100%|███████████████████████████████████████████████████████████████████████| 200/200 [00:00<00:00, 327.93it/s]\n"
     ]
    }
   ],
   "source": [
    "# get training data set\n",
    "sp_dataset_test = dataset.optDataset(sp_model, x_test, c_test)"
   ]
  },
  {
   "cell_type": "code",
   "execution_count": 9,
   "id": "incident-kinase",
   "metadata": {},
   "outputs": [],
   "source": [
    "# get data loader\n",
    "batch_size = 32\n",
    "sp_loader_train = DataLoader(sp_dataset_train, batch_size=batch_size, shuffle=True)\n",
    "sp_loader_test = DataLoader(sp_dataset_test, batch_size=batch_size, shuffle=False)"
   ]
  },
  {
   "cell_type": "code",
   "execution_count": 10,
   "id": "intellectual-softball",
   "metadata": {},
   "outputs": [],
   "source": [
    "for i, data in enumerate(sp_loader_train):\n",
    "    x, c, w, z = data\n",
    "    break"
   ]
  },
  {
   "cell_type": "code",
   "execution_count": 11,
   "id": "instant-polymer",
   "metadata": {},
   "outputs": [
    {
     "data": {
      "text/plain": [
       "torch.Size([32, 5])"
      ]
     },
     "execution_count": 11,
     "metadata": {},
     "output_type": "execute_result"
    }
   ],
   "source": [
    "x.shape"
   ]
  },
  {
   "cell_type": "code",
   "execution_count": 12,
   "id": "known-framing",
   "metadata": {},
   "outputs": [
    {
     "data": {
      "text/plain": [
       "torch.Size([32, 40])"
      ]
     },
     "execution_count": 12,
     "metadata": {},
     "output_type": "execute_result"
    }
   ],
   "source": [
    "c.shape"
   ]
  },
  {
   "cell_type": "code",
   "execution_count": 13,
   "id": "partial-algeria",
   "metadata": {},
   "outputs": [
    {
     "data": {
      "text/plain": [
       "torch.Size([32, 40])"
      ]
     },
     "execution_count": 13,
     "metadata": {},
     "output_type": "execute_result"
    }
   ],
   "source": [
    "w.shape"
   ]
  },
  {
   "cell_type": "code",
   "execution_count": 14,
   "id": "known-contemporary",
   "metadata": {},
   "outputs": [
    {
     "data": {
      "text/plain": [
       "torch.Size([32, 1])"
      ]
     },
     "execution_count": 14,
     "metadata": {},
     "output_type": "execute_result"
    }
   ],
   "source": [
    "z.shape"
   ]
  },
  {
   "cell_type": "markdown",
   "id": "sacred-consequence",
   "metadata": {},
   "source": [
    "## Loss Function"
   ]
  },
  {
   "cell_type": "code",
   "execution_count": 15,
   "id": "authentic-boring",
   "metadata": {},
   "outputs": [],
   "source": [
    "from loss import SPOPlusLoss"
   ]
  },
  {
   "cell_type": "code",
   "execution_count": 16,
   "id": "directed-composition",
   "metadata": {},
   "outputs": [],
   "source": [
    "# init SPO+ loss\n",
    "criterion = SPOPlusLoss()"
   ]
  },
  {
   "cell_type": "markdown",
   "id": "technological-queue",
   "metadata": {},
   "source": [
    "## Linear Regression "
   ]
  },
  {
   "cell_type": "code",
   "execution_count": 17,
   "id": "shaped-wonder",
   "metadata": {},
   "outputs": [],
   "source": [
    "import torch\n",
    "from torch import nn"
   ]
  },
  {
   "cell_type": "code",
   "execution_count": 18,
   "id": "fresh-adolescent",
   "metadata": {},
   "outputs": [],
   "source": [
    "# build linear model\n",
    "class LinearRegression(nn.Module):\n",
    "    \n",
    "    def __init__(self):\n",
    "        super(LinearRegression, self).__init__()\n",
    "        self.linear = nn.Linear(p, (grid[0] - 1) * grid[1] + (grid[1] - 1) * grid[0])\n",
    "    \n",
    "    def forward(self, x):\n",
    "        out = self.linear(x)\n",
    "        return out"
   ]
  },
  {
   "cell_type": "code",
   "execution_count": 19,
   "id": "interior-secondary",
   "metadata": {},
   "outputs": [],
   "source": [
    "# init model\n",
    "lr = LinearRegression()\n",
    "# cuda\n",
    "if torch.cuda.is_available():\n",
    "    lr = lr.cuda()"
   ]
  },
  {
   "cell_type": "markdown",
   "id": "accessible-clerk",
   "metadata": {},
   "source": [
    "## Training "
   ]
  },
  {
   "cell_type": "code",
   "execution_count": 20,
   "id": "challenging-reservation",
   "metadata": {},
   "outputs": [],
   "source": [
    "from matplotlib import pyplot as plt"
   ]
  },
  {
   "cell_type": "code",
   "execution_count": 21,
   "id": "asian-screening",
   "metadata": {},
   "outputs": [],
   "source": [
    "# set optimizer\n",
    "optimizer = torch.optim.SGD(lr.parameters(), lr=1e-2)"
   ]
  },
  {
   "cell_type": "code",
   "execution_count": 22,
   "id": "framed-classification",
   "metadata": {
    "scrolled": false
   },
   "outputs": [
    {
     "name": "stdout",
     "output_type": "stream",
     "text": [
      "epoch 0, loss:4.968954\n",
      "epoch 2, loss:5.066632\n",
      "epoch 4, loss:4.735860\n",
      "epoch 6, loss:3.798617\n",
      "epoch 8, loss:3.063192\n",
      "epoch 10, loss:4.091363\n",
      "epoch 12, loss:3.745046\n",
      "epoch 14, loss:4.011820\n",
      "epoch 16, loss:3.188916\n",
      "epoch 18, loss:2.484494\n",
      "epoch 20, loss:2.283013\n",
      "epoch 22, loss:3.507820\n",
      "epoch 24, loss:2.629464\n",
      "epoch 26, loss:2.781667\n",
      "epoch 28, loss:2.513170\n",
      "epoch 30, loss:2.509434\n",
      "epoch 32, loss:2.324235\n",
      "epoch 34, loss:2.235128\n",
      "epoch 36, loss:2.031625\n",
      "epoch 38, loss:1.840861\n",
      "epoch 40, loss:1.560399\n",
      "epoch 42, loss:2.197098\n",
      "epoch 44, loss:2.294854\n",
      "epoch 46, loss:2.134630\n",
      "epoch 48, loss:1.674926\n",
      "epoch 50, loss:2.250634\n",
      "epoch 52, loss:1.671576\n",
      "epoch 54, loss:1.593022\n",
      "epoch 56, loss:1.400938\n",
      "epoch 58, loss:1.777177\n",
      "epoch 60, loss:0.893590\n",
      "epoch 62, loss:1.025010\n",
      "epoch 64, loss:1.541057\n",
      "epoch 66, loss:0.907567\n",
      "epoch 68, loss:1.138508\n",
      "epoch 70, loss:1.163516\n",
      "epoch 72, loss:0.944490\n",
      "epoch 74, loss:0.791288\n",
      "epoch 76, loss:1.096502\n",
      "epoch 78, loss:1.073910\n",
      "epoch 80, loss:1.147915\n",
      "epoch 82, loss:1.136792\n",
      "epoch 84, loss:1.053370\n",
      "epoch 86, loss:0.885506\n",
      "epoch 88, loss:0.685716\n",
      "epoch 90, loss:0.808089\n",
      "epoch 92, loss:0.992564\n",
      "epoch 94, loss:0.586564\n",
      "epoch 96, loss:0.717478\n",
      "epoch 98, loss:0.931615\n",
      "epoch 100, loss:0.792386\n",
      "epoch 102, loss:0.751100\n",
      "epoch 104, loss:0.598281\n",
      "epoch 106, loss:0.627270\n",
      "epoch 108, loss:0.774594\n",
      "epoch 110, loss:0.795921\n",
      "epoch 112, loss:0.718240\n",
      "epoch 114, loss:0.603417\n",
      "epoch 116, loss:0.910424\n",
      "epoch 118, loss:0.639031\n",
      "epoch 120, loss:0.550479\n",
      "epoch 122, loss:0.488498\n",
      "epoch 124, loss:0.626394\n",
      "epoch 126, loss:0.452664\n",
      "epoch 128, loss:0.414638\n",
      "epoch 130, loss:0.568929\n",
      "epoch 132, loss:0.338073\n",
      "epoch 134, loss:0.627601\n",
      "epoch 136, loss:0.308806\n",
      "epoch 138, loss:0.270162\n",
      "epoch 140, loss:0.271541\n",
      "epoch 142, loss:0.366171\n",
      "epoch 144, loss:0.373024\n",
      "epoch 146, loss:0.233239\n",
      "epoch 148, loss:0.225399\n",
      "epoch 150, loss:0.266811\n",
      "epoch 152, loss:0.592122\n",
      "epoch 154, loss:0.498178\n",
      "epoch 156, loss:0.382116\n",
      "epoch 158, loss:0.577412\n",
      "epoch 160, loss:0.405492\n",
      "epoch 162, loss:0.446768\n",
      "epoch 164, loss:0.405385\n",
      "epoch 166, loss:0.324226\n",
      "epoch 168, loss:0.330272\n",
      "epoch 170, loss:0.268609\n",
      "epoch 172, loss:0.312601\n",
      "epoch 174, loss:0.344052\n",
      "epoch 176, loss:0.231077\n",
      "epoch 178, loss:0.255668\n",
      "epoch 180, loss:0.190313\n",
      "epoch 182, loss:0.407310\n",
      "epoch 184, loss:0.268621\n",
      "epoch 186, loss:0.111091\n",
      "epoch 188, loss:0.151239\n",
      "epoch 190, loss:0.199457\n",
      "epoch 192, loss:0.166379\n",
      "epoch 194, loss:0.278071\n",
      "epoch 196, loss:0.377432\n",
      "epoch 198, loss:0.247667\n",
      "epoch 200, loss:0.234811\n",
      "epoch 202, loss:0.203189\n",
      "epoch 204, loss:0.177946\n",
      "epoch 206, loss:0.132390\n",
      "epoch 208, loss:0.354993\n",
      "epoch 210, loss:0.244773\n",
      "epoch 212, loss:0.161840\n",
      "epoch 214, loss:0.136595\n",
      "epoch 216, loss:0.079882\n",
      "epoch 218, loss:0.171827\n",
      "epoch 220, loss:0.181074\n",
      "epoch 222, loss:0.218183\n",
      "epoch 224, loss:0.090674\n",
      "epoch 226, loss:0.146366\n",
      "epoch 228, loss:0.114712\n",
      "epoch 230, loss:0.165113\n",
      "epoch 232, loss:0.104169\n",
      "epoch 234, loss:0.144543\n",
      "epoch 236, loss:0.148211\n",
      "epoch 238, loss:0.126476\n",
      "epoch 240, loss:0.141129\n",
      "epoch 242, loss:0.191986\n",
      "epoch 244, loss:0.076650\n",
      "epoch 246, loss:0.137999\n",
      "epoch 248, loss:0.114578\n",
      "epoch 250, loss:0.098910\n",
      "epoch 252, loss:0.141837\n",
      "epoch 254, loss:0.190924\n",
      "epoch 256, loss:0.076549\n",
      "epoch 258, loss:0.181107\n",
      "epoch 260, loss:0.156971\n",
      "epoch 262, loss:0.110727\n",
      "epoch 264, loss:0.156126\n",
      "epoch 266, loss:0.122907\n",
      "epoch 268, loss:0.115349\n",
      "epoch 270, loss:0.147463\n",
      "epoch 272, loss:0.043730\n",
      "epoch 274, loss:0.043129\n",
      "epoch 276, loss:0.157147\n",
      "epoch 278, loss:0.132530\n",
      "epoch 280, loss:0.061805\n",
      "epoch 282, loss:0.079077\n",
      "epoch 284, loss:0.070210\n",
      "epoch 286, loss:0.071669\n",
      "epoch 288, loss:0.023593\n",
      "epoch 290, loss:0.071308\n",
      "epoch 292, loss:0.008610\n",
      "epoch 294, loss:0.044574\n",
      "epoch 296, loss:0.054880\n",
      "epoch 298, loss:0.071529\n"
     ]
    }
   ],
   "source": [
    "# train model\n",
    "num_epochs = 300\n",
    "lr.train()\n",
    "loss_log = []\n",
    "for epoch in range(num_epochs):\n",
    "    # load data\n",
    "    for i, data in enumerate(sp_loader_train):\n",
    "        x, c, w, z = data\n",
    "        # cuda\n",
    "        if torch.cuda.is_available():\n",
    "            x, c, w, z = x.cuda(), c.cuda(), w.cuda(), z.cuda()\n",
    "        # forward pass\n",
    "        cp = lr(x)\n",
    "        loss = criterion.apply(sp_model, cp, c, w, z).mean()\n",
    "        # backward pass\n",
    "        optimizer.zero_grad()\n",
    "        loss.backward()\n",
    "        optimizer.step()\n",
    "    loss_log.append(loss.item())\n",
    "    if epoch % 2 == 0:\n",
    "        print('epoch {}, loss:{:.6f}'.format(epoch, loss.item()))"
   ]
  },
  {
   "cell_type": "code",
   "execution_count": 23,
   "id": "cheap-thought",
   "metadata": {},
   "outputs": [
    {
     "data": {
      "image/png": "[encoded data removed]",
      "text/plain": [
       "<Figure size 864x432 with 1 Axes>"
      ]
     },
     "metadata": {
      "needs_background": "light"
     },
     "output_type": "display_data"
    }
   ],
   "source": [
    "# draw plot\n",
    "plt.figure(figsize=(12, 6))\n",
    "plt.plot(loss_log, color='c')\n",
    "plt.xlabel('Epoch')\n",
    "plt.ylabel('SPO+ Loss')\n",
    "plt.title('Learning Curve')\n",
    "plt.show()"
   ]
  },
  {
   "cell_type": "markdown",
   "id": "industrial-opposition",
   "metadata": {},
   "source": [
    "## Evaluation "
   ]
  },
  {
   "cell_type": "code",
   "execution_count": 24,
   "id": "precise-brunswick",
   "metadata": {},
   "outputs": [],
   "source": [
    "import numpy as np"
   ]
  },
  {
   "cell_type": "code",
   "execution_count": 25,
   "id": "scheduled-championship",
   "metadata": {},
   "outputs": [
    {
     "name": "stdout",
     "output_type": "stream",
     "text": [
      "Test Loss: 0.078918\n"
     ]
    }
   ],
   "source": [
    "# evaluate\n",
    "lr.eval()\n",
    "loss = []\n",
    "# load data\n",
    "for i, data in enumerate(sp_loader_test):\n",
    "    x, c, w, z = data\n",
    "    # cuda\n",
    "    if torch.cuda.is_available():\n",
    "        x, c, w, z = x.cuda(), c.cuda(), w.cuda(), z.cuda()\n",
    "    # predict\n",
    "    cp = lr(x)\n",
    "    loss.append(criterion.apply(sp_model, cp, c, w, z).mean().item())\n",
    "print('Test Loss: {:.6f}'.format(np.mean(loss)))"
   ]
  },
  {
   "cell_type": "code",
   "execution_count": 26,
   "id": "still-iraqi",
   "metadata": {
    "scrolled": false
   },
   "outputs": [
    {
     "name": "stdout",
     "output_type": "stream",
     "text": [
      "Sample 0:\n",
      "    True cost: 3.56, 2.73, 2.34, 3.59, 2.70, 3.34, 2.62, 2.36, 3.81, 2.84, 3.34, 2.84, 3.23, 2.36, 3.71, 2.36, 2.87, 2.12, 1.64, 3.34, 2.84, 2.12, 2.47, 3.21, 3.06, 2.62, 3.71, 3.71, 1.86, 2.95, 1.75, 3.23, 1.75, 2.73, 2.34, 2.95, 2.62, 2.95, 2.00, 2.12\n",
      "    Pred cost: 0.48, 0.78, -0.78, -0.29, -0.65, 1.15, 0.16, 1.17, 0.74, 0.63, 0.77, -1.33, 1.27, 0.12, 0.76, -0.53, -0.56, 0.08, -1.48, 0.62, -1.14, 0.42, 0.64, -0.49, -0.15, -0.02, 1.53, -0.71, -0.40, -0.45, 0.52, -0.85, -0.45, 0.09, 0.85, 0.43, -0.08, 0.62, -0.18, -0.21\n",
      "    True sol: 0, 0, 0, 0, 1, 0, 0, 0, 0, 0, 0, 0, 0, 1, 0, 0, 0, 0, 1, 0, 0, 0, 0, 1, 0, 0, 0, 0, 1, 0, 0, 0, 0, 1, 0, 0, 0, 0, 1, 1, True obj: 18.61\n",
      "    Pred sol: 0, 0, 0, 0, 1, 0, 0, 0, 0, 0, 0, 0, 0, 1, 0, 0, 0, 0, 1, 0, 0, 0, 0, 1, 0, 0, 0, 0, 1, 0, 0, 0, 0, 1, 0, 0, 0, 0, 1, 1, Pred obj: 18.61\n",
      "\n",
      "Sample 1:\n",
      "    True cost: 0.61, 1.95, 2.34, 1.30, 1.26, 0.45, 0.68, 1.08, 1.46, 1.97, 0.45, 0.83, 0.44, 1.08, 1.32, 1.08, 1.52, 2.19, 1.30, 0.45, 0.83, 2.19, 1.10, 1.70, 2.12, 0.68, 1.32, 1.32, 1.46, 2.10, 1.32, 0.44, 1.32, 1.95, 2.34, 2.10, 0.68, 2.10, 2.17, 2.19\n",
      "    Pred cost: -0.11, 0.76, 1.10, -0.72, -0.02, -0.90, 0.49, 0.10, -0.07, 1.52, 0.22, -1.05, -0.16, -1.21, -0.75, -0.56, -0.00, -0.10, 0.83, 0.77, -0.83, -0.39, 0.62, 0.02, -0.31, -1.68, 0.06, -0.52, 1.22, 0.24, -0.06, 0.03, 1.40, 0.01, -0.60, -0.39, -0.01, -0.50, -1.00, 1.41\n",
      "    True sol: 1, 0, 0, 0, 0, 1, 0, 0, 0, 0, 1, 0, 0, 0, 0, 1, 0, 0, 0, 0, 1, 0, 0, 0, 0, 1, 0, 0, 0, 0, 1, 0, 0, 0, 0, 1, 0, 0, 0, 0, True obj: 7.53\n",
      "    Pred sol: 1, 0, 0, 0, 0, 1, 0, 0, 0, 0, 1, 0, 0, 0, 0, 1, 0, 0, 0, 0, 1, 0, 0, 0, 0, 1, 0, 0, 0, 0, 1, 0, 0, 0, 0, 1, 0, 0, 0, 0, Pred obj: 7.53\n",
      "\n",
      "Sample 2:\n",
      "    True cost: 3.44, 3.48, 2.34, 3.47, 3.44, 4.07, 3.66, 4.16, 2.84, 3.39, 4.07, 3.03, 4.16, 4.16, 3.39, 4.16, 3.06, 2.98, 3.75, 4.07, 3.03, 2.98, 4.07, 2.34, 2.75, 3.66, 3.39, 3.39, 3.12, 2.84, 3.66, 4.16, 3.66, 3.48, 2.34, 2.84, 3.66, 2.84, 3.06, 2.98\n",
      "    Pred cost: -0.04, -0.92, -0.13, -0.32, -0.12, -0.09, -0.45, 1.40, -0.57, -0.65, -0.31, -0.08, 0.92, 0.58, -0.51, -0.24, -0.81, -0.78, -0.65, -0.72, 0.14, 0.59, -0.16, -0.49, 0.85, 0.73, -0.43, 0.03, -0.61, -1.00, 0.63, -0.54, -0.02, 0.03, 0.42, 0.13, 0.75, -0.25, 0.67, -1.22\n",
      "    True sol: 0, 0, 0, 0, 1, 0, 0, 0, 0, 1, 0, 0, 0, 0, 1, 0, 0, 0, 0, 0, 0, 0, 0, 1, 0, 0, 0, 0, 1, 1, 0, 0, 0, 0, 1, 0, 0, 0, 0, 1, True obj: 23.83\n",
      "    Pred sol: 0, 0, 0, 0, 1, 0, 0, 0, 0, 1, 0, 0, 0, 0, 1, 0, 0, 0, 0, 0, 0, 0, 0, 1, 0, 0, 0, 0, 1, 1, 0, 0, 0, 0, 1, 0, 0, 0, 0, 1, Pred obj: 23.83\n",
      "\n",
      "Sample 3:\n",
      "    True cost: 3.45, 3.51, 2.34, 4.42, 2.53, 3.74, 3.13, 3.08, 4.13, 3.25, 3.74, 2.83, 4.00, 3.08, 4.17, 3.08, 3.81, 2.64, 2.47, 3.74, 2.83, 2.64, 2.83, 3.26, 2.96, 3.13, 4.17, 4.17, 2.17, 3.21, 2.21, 4.00, 2.21, 3.51, 2.34, 3.21, 3.13, 3.21, 2.89, 2.64\n",
      "    Pred cost: 0.51, 0.84, -0.43, -0.32, -0.76, 0.98, 0.31, 1.47, 0.95, 0.52, 0.55, -1.13, 1.81, 0.59, 0.34, -0.61, -0.47, -0.21, -1.67, 0.44, -1.04, 0.63, 0.23, -0.81, -0.08, -0.16, 1.06, -0.94, -0.11, -1.02, 0.28, -0.73, -0.04, 0.65, 0.79, 0.23, -0.30, 0.89, 0.11, -0.67\n",
      "    True sol: 0, 0, 0, 0, 1, 0, 0, 0, 0, 0, 0, 0, 0, 1, 0, 0, 0, 0, 1, 0, 0, 0, 0, 1, 0, 0, 0, 0, 1, 1, 0, 0, 0, 0, 1, 0, 0, 0, 0, 1, True obj: 21.69\n",
      "    Pred sol: 0, 0, 0, 0, 1, 0, 0, 0, 0, 0, 0, 0, 0, 1, 0, 0, 0, 0, 1, 0, 0, 0, 0, 1, 0, 0, 0, 0, 1, 1, 0, 0, 0, 0, 1, 0, 0, 0, 0, 1, Pred obj: 21.69\n",
      "\n",
      "Sample 4:\n",
      "    True cost: 2.42, 2.66, 2.34, 3.09, 1.99, 2.65, 2.61, 2.27, 2.86, 2.61, 2.65, 2.38, 2.70, 2.27, 3.04, 2.27, 3.05, 2.57, 2.23, 2.65, 2.38, 2.57, 2.22, 2.77, 2.38, 2.61, 3.04, 3.04, 2.00, 2.43, 2.18, 2.70, 2.18, 2.66, 2.34, 2.43, 2.61, 2.43, 2.62, 2.57\n",
      "    Pred cost: 0.51, 0.53, -0.01, -0.86, -0.41, 0.08, 0.15, 1.16, 0.46, 0.42, 0.21, -0.59, 0.86, -0.05, 0.06, -0.53, -0.05, -0.24, -0.63, 0.31, -0.61, 0.23, 0.06, -0.41, -0.42, -0.22, 0.56, -0.67, 0.06, -0.62, 0.07, -0.56, 0.10, 0.16, 0.26, -0.15, -0.10, 0.25, -0.01, 0.09\n",
      "    True sol: 0, 0, 0, 0, 1, 0, 0, 0, 0, 0, 0, 0, 0, 1, 0, 0, 0, 0, 1, 0, 0, 0, 0, 1, 0, 0, 0, 0, 1, 1, 1, 0, 0, 0, 0, 1, 0, 0, 0, 0, True obj: 18.30\n",
      "    Pred sol: 0, 0, 0, 0, 1, 0, 0, 0, 0, 0, 0, 0, 0, 1, 0, 0, 0, 0, 1, 0, 0, 0, 0, 1, 0, 0, 0, 0, 1, 1, 1, 0, 0, 0, 0, 1, 0, 0, 0, 0, Pred obj: 18.30\n",
      "\n",
      "Sample 5:\n",
      "    True cost: 1.73, 2.08, 2.34, 1.64, 2.16, 1.75, 1.69, 1.84, 1.61, 2.42, 1.75, 1.67, 1.40, 1.84, 1.99, 1.84, 1.58, 2.37, 1.78, 1.75, 1.67, 2.37, 2.19, 1.91, 2.40, 1.69, 1.99, 1.99, 1.75, 2.05, 2.13, 1.40, 2.13, 2.08, 2.34, 2.05, 1.69, 2.05, 2.02, 2.37\n",
      "    Pred cost: -0.04, -0.10, 0.48, -0.82, -0.05, -0.58, -0.00, 0.61, -0.25, 0.82, 0.14, -0.71, -0.05, -0.88, -0.29, -0.38, -0.46, -0.31, 0.30, 0.36, -0.53, -0.10, 0.52, -0.25, 0.02, -0.49, 0.24, -0.25, 0.30, -0.04, 0.31, -0.44, 0.58, -0.38, -0.19, -0.39, 0.57, -0.43, -0.39, 0.56\n",
      "    True sol: 1, 0, 0, 0, 0, 1, 0, 0, 0, 0, 1, 1, 0, 0, 0, 0, 1, 0, 0, 0, 0, 0, 0, 0, 0, 1, 0, 0, 0, 0, 1, 0, 0, 0, 0, 1, 0, 0, 0, 0, True obj: 14.35\n",
      "    Pred sol: 1, 0, 0, 0, 0, 1, 0, 0, 0, 0, 1, 1, 0, 0, 0, 0, 1, 0, 0, 0, 0, 0, 0, 0, 0, 1, 0, 0, 0, 0, 1, 0, 0, 0, 0, 1, 0, 0, 0, 0, Pred obj: 14.35\n",
      "\n",
      "Sample 6:\n",
      "    True cost: 2.05, 2.05, 2.34, 2.03, 2.06, 1.79, 2.56, 2.54, 2.29, 1.32, 1.79, 2.82, 2.52, 2.54, 1.30, 2.54, 2.80, 2.09, 3.31, 1.79, 2.82, 2.09, 1.81, 2.33, 1.57, 2.56, 1.30, 1.30, 3.56, 2.31, 2.58, 2.52, 2.58, 2.05, 2.34, 2.31, 2.56, 2.31, 2.82, 2.09\n",
      "    Pred cost: 0.35, 0.13, -0.05, -0.32, 0.46, -0.87, -0.42, 0.42, -1.38, -1.49, -0.88, 0.74, -0.26, 0.26, -1.15, -0.26, 1.06, -0.07, 0.97, -1.21, 0.91, -0.11, -0.78, 1.43, -0.20, -0.01, -1.42, 0.47, -0.30, -0.00, 0.05, 0.49, -0.17, -0.17, -0.15, 1.04, -0.34, -1.46, 0.13, 0.66\n",
      "    True sol: 0, 0, 0, 0, 1, 0, 0, 0, 0, 1, 0, 0, 0, 0, 1, 0, 0, 0, 0, 1, 0, 0, 0, 0, 1, 0, 0, 0, 0, 1, 0, 0, 0, 0, 1, 0, 0, 0, 0, 1, True obj: 14.79\n",
      "    Pred sol: 0, 0, 0, 0, 1, 0, 0, 0, 0, 1, 0, 0, 0, 0, 1, 0, 0, 0, 0, 1, 0, 0, 0, 0, 1, 0, 0, 0, 0, 1, 0, 0, 0, 0, 1, 0, 0, 0, 0, 1, Pred obj: 14.79\n",
      "\n",
      "Sample 7:\n",
      "    True cost: 1.22, 2.24, 2.34, 1.84, 1.62, 1.45, 2.07, 2.13, 1.62, 1.95, 1.45, 1.84, 1.74, 2.13, 1.56, 2.13, 2.46, 2.57, 2.75, 1.45, 1.84, 2.57, 1.84, 1.95, 1.72, 2.07, 1.56, 1.56, 2.52, 2.01, 2.46, 1.74, 2.46, 2.24, 2.34, 2.01, 2.07, 2.01, 2.86, 2.57\n",
      "    Pred cost: 0.18, 0.08, 0.73, -0.90, 0.18, -1.17, -0.04, 0.59, -0.63, -0.08, -0.50, 0.16, -0.11, -0.40, -1.02, -0.40, 0.46, -0.39, 0.86, -0.33, 0.20, -0.15, -0.34, 0.35, -0.28, -0.57, -0.87, -0.11, 0.45, -0.25, -0.12, 0.10, 0.70, -0.05, -0.46, -0.15, 0.01, -0.84, -0.11, 0.71\n",
      "    True sol: 1, 0, 0, 0, 0, 1, 0, 0, 0, 0, 0, 0, 0, 0, 1, 0, 0, 0, 0, 1, 1, 1, 0, 0, 0, 0, 1, 0, 0, 0, 0, 0, 0, 0, 0, 1, 0, 0, 0, 0, True obj: 13.66\n",
      "    Pred sol: 1, 0, 0, 0, 0, 1, 0, 0, 0, 0, 0, 0, 0, 0, 1, 0, 0, 0, 0, 1, 1, 1, 0, 0, 0, 0, 1, 0, 0, 0, 0, 0, 0, 0, 0, 1, 0, 0, 0, 0, Pred obj: 13.66\n",
      "\n",
      "Sample 8:\n",
      "    True cost: 3.40, 2.89, 2.34, 2.93, 3.36, 3.36, 2.92, 3.47, 2.97, 2.75, 3.36, 2.96, 3.51, 3.47, 2.79, 3.47, 2.49, 2.30, 3.02, 3.36, 2.96, 2.30, 3.32, 2.38, 2.79, 2.92, 2.79, 2.79, 3.06, 2.93, 2.88, 3.51, 2.88, 2.89, 2.34, 2.93, 2.92, 2.93, 2.45, 2.30\n",
      "    Pred cost: -0.08, -0.42, -0.41, 0.09, 0.00, 0.17, -0.39, 0.87, -0.79, -0.58, -0.13, -0.39, 0.57, 0.33, -0.42, -0.24, -0.57, -0.31, -0.38, -0.60, 0.01, 0.36, 0.16, 0.17, 0.75, 0.36, -0.22, 0.21, -0.61, -0.37, 0.74, -0.28, -0.19, -0.15, 0.46, 0.76, 0.48, -0.57, 0.19, -0.56\n",
      "    True sol: 0, 0, 0, 0, 1, 0, 0, 0, 0, 1, 0, 0, 0, 0, 1, 0, 0, 0, 0, 0, 0, 0, 0, 1, 0, 0, 0, 0, 0, 0, 0, 0, 1, 0, 0, 0, 0, 1, 1, 1, True obj: 21.84\n",
      "    Pred sol: 0, 0, 0, 0, 1, 0, 0, 0, 0, 1, 0, 0, 0, 0, 1, 0, 0, 0, 0, 0, 0, 0, 0, 1, 0, 0, 0, 0, 0, 0, 0, 0, 1, 0, 0, 0, 0, 1, 1, 1, Pred obj: 21.84\n",
      "\n",
      "Sample 9:\n",
      "    True cost: 4.24, 2.50, 2.34, 2.56, 4.18, 3.78, 2.87, 3.43, 3.01, 2.80, 3.78, 3.32, 3.48, 3.43, 2.86, 3.43, 1.64, 1.89, 2.51, 3.78, 3.32, 1.89, 3.73, 2.40, 3.26, 2.87, 2.86, 2.86, 2.97, 2.96, 2.81, 3.48, 2.81, 2.50, 2.34, 2.96, 2.87, 2.96, 1.59, 1.89\n",
      "    Pred cost: -0.25, -0.86, -1.02, 0.38, 0.04, 0.66, -0.70, 0.78, -1.06, -0.65, 0.13, -0.69, 0.33, 0.15, 0.13, -0.09, -1.13, -0.14, -0.62, -0.57, -0.11, 0.39, 0.66, 0.24, 1.13, 0.91, 0.35, 0.54, -1.24, 0.00, 1.25, -0.58, -0.80, -0.71, 0.80, 1.09, 0.99, -0.71, 0.14, -0.72\n",
      "    True sol: 0, 0, 0, 0, 1, 0, 0, 0, 0, 1, 0, 0, 0, 0, 1, 0, 0, 0, 0, 0, 0, 0, 0, 1, 0, 0, 0, 0, 1, 0, 0, 0, 0, 1, 0, 0, 0, 0, 1, 1, True obj: 21.19\n",
      "    Pred sol: 0, 0, 0, 0, 1, 0, 0, 0, 0, 1, 0, 0, 0, 0, 1, 0, 0, 0, 0, 0, 0, 0, 0, 1, 0, 0, 0, 0, 1, 0, 0, 0, 0, 1, 0, 0, 0, 0, 1, 1, Pred obj: 21.19\n",
      "\n"
     ]
    }
   ],
   "source": [
    "# compare solutions\n",
    "lr.eval()\n",
    "loss = []\n",
    "# load data\n",
    "for i, data in enumerate(sp_loader_test):\n",
    "    x, c, w, z = data\n",
    "    # cuda\n",
    "    if torch.cuda.is_available():\n",
    "        x, c, w, z = x.cuda(), c.cuda(), w.cuda(), z.cuda()\n",
    "    # predict\n",
    "    cp = lr(x)\n",
    "    # convert to numpy\n",
    "    c = c.to('cpu').detach().numpy().tolist()\n",
    "    w = w.to('cpu').detach().numpy().tolist()\n",
    "    z = z.to('cpu').detach().numpy().tolist()\n",
    "    cp = cp.to('cpu').detach().numpy().tolist()\n",
    "    for j in range(min(10, batch_size)):\n",
    "        print('Sample {}:'.format(j))\n",
    "        print('    True cost:', ', '.join(['{:.2f}'.format(cost) for cost in c[j]]))\n",
    "        print('    Pred cost:', ', '.join(['{:.2f}'.format(cost) for cost in cp[j]]))\n",
    "        # solve cost from prediction\n",
    "        sp_model.setObj(cp[j])\n",
    "        wpj, _ = sp_model.solve()\n",
    "        zpj = np.dot(c[j], wpj)\n",
    "        print('    True sol: ' + ', '.join(['{:.0f}'.format(x) for x in w[j]]) + ', True obj: {:.2f}'.format(z[j][0]))\n",
    "        print('    Pred sol: '+  ', '.join(['{:.0f}'.format(x) for x in wpj]) + ', Pred obj: {:.2f}'.format(zpj))\n",
    "        print()\n",
    "    break"
   ]
  },
  {
   "cell_type": "markdown",
   "id": "alternative-brother",
   "metadata": {},
   "source": [
    "##  Training with Regularization"
   ]
  },
  {
   "cell_type": "code",
   "execution_count": 27,
   "id": "driven-surveillance",
   "metadata": {},
   "outputs": [],
   "source": [
    "# init model\n",
    "lr = LinearRegression()\n",
    "# cuda\n",
    "if torch.cuda.is_available():\n",
    "    lr = lr.cuda()"
   ]
  },
  {
   "cell_type": "code",
   "execution_count": 28,
   "id": "annual-fortune",
   "metadata": {},
   "outputs": [],
   "source": [
    "# set optimizer\n",
    "optimizer = torch.optim.SGD(lr.parameters(), lr=1e-2)"
   ]
  },
  {
   "cell_type": "code",
   "execution_count": null,
   "id": "characteristic-gender",
   "metadata": {
    "scrolled": false
   },
   "outputs": [
    {
     "name": "stdout",
     "output_type": "stream",
     "text": [
      "epoch 0, loss:7.350955\n",
      "epoch 2, loss:6.241418\n",
      "epoch 4, loss:5.236830\n",
      "epoch 6, loss:4.941387\n",
      "epoch 8, loss:5.610991\n",
      "epoch 10, loss:5.812463\n",
      "epoch 12, loss:5.142009\n",
      "epoch 14, loss:4.983010\n",
      "epoch 16, loss:4.605390\n",
      "epoch 18, loss:3.561493\n",
      "epoch 20, loss:4.107893\n",
      "epoch 22, loss:3.713592\n",
      "epoch 24, loss:3.842472\n",
      "epoch 26, loss:2.735312\n",
      "epoch 28, loss:2.853134\n",
      "epoch 30, loss:2.855982\n",
      "epoch 32, loss:3.171876\n",
      "epoch 34, loss:2.551890\n",
      "epoch 36, loss:2.625046\n",
      "epoch 38, loss:2.635846\n",
      "epoch 40, loss:2.611126\n",
      "epoch 42, loss:1.987548\n",
      "epoch 44, loss:2.136506\n",
      "epoch 46, loss:1.494443\n",
      "epoch 48, loss:1.392295\n",
      "epoch 50, loss:1.649987\n",
      "epoch 52, loss:1.372666\n",
      "epoch 54, loss:1.423691\n",
      "epoch 56, loss:1.381362\n",
      "epoch 58, loss:1.256042\n",
      "epoch 60, loss:1.076947\n",
      "epoch 62, loss:0.692557\n",
      "epoch 64, loss:0.863875\n",
      "epoch 66, loss:0.735409\n",
      "epoch 68, loss:0.997701\n",
      "epoch 70, loss:0.729741\n",
      "epoch 72, loss:0.348737\n",
      "epoch 74, loss:0.885583\n",
      "epoch 76, loss:0.785973\n",
      "epoch 78, loss:0.539768\n",
      "epoch 80, loss:0.835919\n",
      "epoch 82, loss:0.676743\n",
      "epoch 84, loss:0.512522\n",
      "epoch 86, loss:0.437186\n",
      "epoch 88, loss:0.498028\n",
      "epoch 90, loss:0.347578\n",
      "epoch 92, loss:0.382006\n",
      "epoch 94, loss:0.429902\n",
      "epoch 96, loss:0.319394\n",
      "epoch 98, loss:0.259780\n",
      "epoch 100, loss:0.587726\n",
      "epoch 102, loss:0.251220\n",
      "epoch 104, loss:0.468209\n",
      "epoch 106, loss:0.241496\n",
      "epoch 108, loss:0.547007\n",
      "epoch 110, loss:0.347835\n",
      "epoch 112, loss:0.294052\n",
      "epoch 114, loss:0.582895\n",
      "epoch 116, loss:0.417894\n",
      "epoch 118, loss:0.290133\n",
      "epoch 120, loss:0.177788\n",
      "epoch 122, loss:0.261302\n",
      "epoch 124, loss:0.577149\n",
      "epoch 126, loss:0.646049\n",
      "epoch 128, loss:0.337436\n",
      "epoch 130, loss:0.460036\n",
      "epoch 132, loss:0.338037\n",
      "epoch 134, loss:0.281820\n",
      "epoch 136, loss:0.273023\n",
      "epoch 138, loss:0.401279\n",
      "epoch 140, loss:0.255568\n",
      "epoch 142, loss:0.234625\n",
      "epoch 144, loss:0.399295\n",
      "epoch 146, loss:0.224314\n",
      "epoch 148, loss:0.154493\n",
      "epoch 150, loss:0.115323\n",
      "epoch 152, loss:0.234226\n",
      "epoch 154, loss:0.086710\n",
      "epoch 156, loss:0.159238\n",
      "epoch 158, loss:0.217291\n",
      "epoch 160, loss:0.181289\n",
      "epoch 162, loss:0.306943\n",
      "epoch 164, loss:0.135660\n",
      "epoch 166, loss:0.268509\n",
      "epoch 168, loss:0.131524\n",
      "epoch 170, loss:0.310976\n",
      "epoch 172, loss:0.252925\n",
      "epoch 174, loss:0.225503\n",
      "epoch 176, loss:0.305958\n",
      "epoch 178, loss:0.152995\n",
      "epoch 180, loss:0.245997\n",
      "epoch 182, loss:0.156303\n",
      "epoch 184, loss:0.096134\n",
      "epoch 186, loss:0.179662\n",
      "epoch 188, loss:0.302899\n",
      "epoch 190, loss:0.173034\n",
      "epoch 192, loss:0.213421\n",
      "epoch 194, loss:0.422918\n",
      "epoch 196, loss:0.243927\n",
      "epoch 198, loss:0.200605\n",
      "epoch 200, loss:0.161439\n",
      "epoch 202, loss:0.124394\n",
      "epoch 204, loss:0.192190\n",
      "epoch 206, loss:0.202459\n",
      "epoch 208, loss:0.132569\n",
      "epoch 210, loss:0.136575\n",
      "epoch 212, loss:0.107443\n",
      "epoch 214, loss:0.123875\n",
      "epoch 216, loss:0.212705\n",
      "epoch 218, loss:0.227977\n",
      "epoch 220, loss:0.152582\n",
      "epoch 222, loss:0.226199\n",
      "epoch 224, loss:0.104961\n",
      "epoch 226, loss:0.205803\n",
      "epoch 228, loss:0.231968\n",
      "epoch 230, loss:0.094263\n",
      "epoch 232, loss:0.286704\n",
      "epoch 234, loss:0.085044\n",
      "epoch 236, loss:0.161323\n",
      "epoch 238, loss:0.069449\n",
      "epoch 240, loss:0.107810\n",
      "epoch 242, loss:0.085490\n",
      "epoch 244, loss:0.084711\n",
      "epoch 246, loss:0.198178\n",
      "epoch 248, loss:0.136083\n",
      "epoch 250, loss:0.121460\n",
      "epoch 252, loss:0.152041\n",
      "epoch 254, loss:0.165404\n",
      "epoch 256, loss:0.073985\n",
      "epoch 258, loss:0.099121\n",
      "epoch 260, loss:0.072167\n",
      "epoch 262, loss:0.131219\n",
      "epoch 264, loss:0.087545\n",
      "epoch 266, loss:0.067443\n",
      "epoch 268, loss:0.223413\n",
      "epoch 270, loss:0.089711\n",
      "epoch 272, loss:0.035828\n",
      "epoch 274, loss:0.114539\n"
     ]
    }
   ],
   "source": [
    "# train model\n",
    "num_epochs = 300\n",
    "lr.train()\n",
    "loss_log = []\n",
    "for epoch in range(num_epochs):\n",
    "    # load data\n",
    "    for i, data in enumerate(sp_loader_train):\n",
    "        x, c, w, z = data\n",
    "        # cuda\n",
    "        if torch.cuda.is_available():\n",
    "            x, c, w, z = x.cuda(), c.cuda(), w.cuda(), z.cuda()\n",
    "        # forward pass\n",
    "        cp = lr(x)\n",
    "        loss = criterion.apply(sp_model, cp, c, w, z).mean()\n",
    "        # l2 loss\n",
    "        l2_lambda = 1e-2\n",
    "        l2_reg = torch.tensor(0.).cuda()\n",
    "        for param in lr.parameters():\n",
    "            l2_reg += torch.norm(param) / 2\n",
    "        loss += l2_lambda * l2_reg\n",
    "        # backward pass\n",
    "        optimizer.zero_grad()\n",
    "        loss.backward()\n",
    "        optimizer.step()\n",
    "    loss_log.append(loss.item())\n",
    "    if epoch % 2 == 0:\n",
    "        print('epoch {}, loss:{:.6f}'.format(epoch, loss.item()))"
   ]
  },
  {
   "cell_type": "code",
   "execution_count": null,
   "id": "closed-companion",
   "metadata": {},
   "outputs": [],
   "source": [
    "# draw plot\n",
    "plt.figure(figsize=(12, 6))\n",
    "plt.plot(loss_log, color='c')\n",
    "plt.xlabel('Epoch')\n",
    "plt.ylabel('SPO+ Loss with Regularization')\n",
    "plt.title('Learning Curve')\n",
    "plt.show()"
   ]
  },
  {
   "cell_type": "markdown",
   "id": "progressive-benefit",
   "metadata": {},
   "source": [
    "## Evaluation "
   ]
  },
  {
   "cell_type": "code",
   "execution_count": null,
   "id": "julian-stone",
   "metadata": {},
   "outputs": [],
   "source": [
    "# evaluate\n",
    "lr.eval()\n",
    "loss = []\n",
    "# load data\n",
    "for i, data in enumerate(sp_loader_test):\n",
    "    x, c, w, z = data\n",
    "    # cuda\n",
    "    if torch.cuda.is_available():\n",
    "        x, c, w, z = x.cuda(), c.cuda(), w.cuda(), z.cuda()\n",
    "    # predict\n",
    "    cp = lr(x)\n",
    "    loss.append(criterion.apply(sp_model, cp, c, w, z).mean().item())\n",
    "print('Test Loss: {:.6f}'.format(np.mean(loss)))"
   ]
  },
  {
   "cell_type": "code",
   "execution_count": null,
   "id": "presidential-vehicle",
   "metadata": {
    "scrolled": false
   },
   "outputs": [],
   "source": [
    "# compare solutions\n",
    "lr.eval()\n",
    "loss = []\n",
    "# load data\n",
    "for i, data in enumerate(sp_loader_test):\n",
    "    x, c, w, z = data\n",
    "    # cuda\n",
    "    if torch.cuda.is_available():\n",
    "        x, c, w, z = x.cuda(), c.cuda(), w.cuda(), z.cuda()\n",
    "    # predict\n",
    "    cp = lr(x)\n",
    "    # convert to numpy\n",
    "    c = c.to('cpu').detach().numpy().tolist()\n",
    "    w = w.to('cpu').detach().numpy().tolist()\n",
    "    z = z.to('cpu').detach().numpy().tolist()\n",
    "    cp = cp.to('cpu').detach().numpy().tolist()\n",
    "    for j in range(min(10, batch_size)):\n",
    "        print('Sample {}:'.format(j))\n",
    "        print('    True cost:', ', '.join(['{:.2f}'.format(cost) for cost in c[j]]))\n",
    "        print('    Pred cost:', ', '.join(['{:.2f}'.format(cost) for cost in cp[j]]))\n",
    "        # solve cost from prediction\n",
    "        sp_model.setObj(cp[j])\n",
    "        wpj, _ = sp_model.solve()\n",
    "        zpj = np.dot(c[j], wpj)\n",
    "        print('    True sol: ' + ', '.join(['{:.0f}'.format(x) for x in w[j]]) + ', True obj: {:.2f}'.format(z[j][0]))\n",
    "        print('    Pred sol: '+  ', '.join(['{:.0f}'.format(x) for x in wpj]) + ', Pred obj: {:.2f}'.format(zpj))\n",
    "        print()\n",
    "    break"
   ]
  },
  {
   "cell_type": "code",
   "execution_count": null,
   "id": "featured-academy",
   "metadata": {},
   "outputs": [],
   "source": []
  }
 ],
 "metadata": {
  "kernelspec": {
   "display_name": "Python 3",
   "language": "python",
   "name": "python3"
  },
  "language_info": {
   "codemirror_mode": {
    "name": "ipython",
    "version": 3
   },
   "file_extension": ".py",
   "mimetype": "text/x-python",
   "name": "python",
   "nbconvert_exporter": "python",
   "pygments_lexer": "ipython3",
   "version": "3.7.9"
  }
 },
 "nbformat": 4,
 "nbformat_minor": 5
}
