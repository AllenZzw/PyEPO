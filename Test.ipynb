{
 "cells": [
  {
   "cell_type": "markdown",
   "id": "naval-blade",
   "metadata": {},
   "source": [
    "## Optimization model "
   ]
  },
  {
   "cell_type": "code",
   "execution_count": 1,
   "id": "accredited-pearl",
   "metadata": {},
   "outputs": [],
   "source": [
    "from model import shortestPathModel"
   ]
  },
  {
   "cell_type": "code",
   "execution_count": 2,
   "id": "declared-brunswick",
   "metadata": {},
   "outputs": [
    {
     "name": "stdout",
     "output_type": "stream",
     "text": [
      "Academic license - for non-commercial use only - expires 2021-04-13\n",
      "Using license file C:\\Users\\Apocrypse\\gurobi.lic\n"
     ]
    }
   ],
   "source": [
    "# model for shortest path\n",
    "grid = (5,5)\n",
    "sp_model = shortestPathModel(grid)"
   ]
  },
  {
   "cell_type": "code",
   "execution_count": 3,
   "id": "precious-employee",
   "metadata": {},
   "outputs": [
    {
     "name": "stdout",
     "output_type": "stream",
     "text": [
      "Obj: 8.0\n",
      "(0, 1)\n",
      "(1, 2)\n",
      "(2, 3)\n",
      "(3, 4)\n",
      "(4, 9)\n",
      "(9, 14)\n",
      "(14, 19)\n",
      "(19, 24)\n"
     ]
    }
   ],
   "source": [
    "# solve\n",
    "sp_model.setObj([1 for i in range(40)])\n",
    "sol, obj = sp_model.solve()\n",
    "print('Obj: {}'.format(obj))\n",
    "for i, e in enumerate(sp_model.arcs):\n",
    "    if sol[i] > 1e-3:\n",
    "        print(e)"
   ]
  },
  {
   "cell_type": "markdown",
   "id": "directed-consultancy",
   "metadata": {},
   "source": [
    "## Data Loader"
   ]
  },
  {
   "cell_type": "code",
   "execution_count": 4,
   "id": "little-diversity",
   "metadata": {},
   "outputs": [],
   "source": [
    "from data import shortestpath, dataset\n",
    "from sklearn.model_selection import train_test_split\n",
    "from torch.utils.data import DataLoader"
   ]
  },
  {
   "cell_type": "code",
   "execution_count": 5,
   "id": "relative-cherry",
   "metadata": {},
   "outputs": [],
   "source": [
    "# generate data for grid network (features and costs)\n",
    "n = 1000 # number of data\n",
    "p = 5 # size of feature\n",
    "x, c = shortestpath.genData(n, p, grid)"
   ]
  },
  {
   "cell_type": "code",
   "execution_count": 6,
   "id": "regulated-freeware",
   "metadata": {},
   "outputs": [],
   "source": [
    "# data split\n",
    "x_train, x_test, c_train, c_test = train_test_split(x, c, test_size=0.2, random_state=246)"
   ]
  },
  {
   "cell_type": "code",
   "execution_count": 7,
   "id": "human-praise",
   "metadata": {},
   "outputs": [
    {
     "name": "stdout",
     "output_type": "stream",
     "text": [
      "Optimizing...\n"
     ]
    },
    {
     "name": "stderr",
     "output_type": "stream",
     "text": [
      "100%|███████████████████████████████████████████████████████████████████████| 800/800 [00:03<00:00, 250.45it/s]\n"
     ]
    }
   ],
   "source": [
    "# get training data set\n",
    "sp_dataset_train = dataset.optDataset(sp_model, x_train, c_train)"
   ]
  },
  {
   "cell_type": "code",
   "execution_count": 8,
   "id": "immune-interpretation",
   "metadata": {},
   "outputs": [
    {
     "name": "stdout",
     "output_type": "stream",
     "text": [
      "Optimizing...\n"
     ]
    },
    {
     "name": "stderr",
     "output_type": "stream",
     "text": [
      "100%|███████████████████████████████████████████████████████████████████████| 200/200 [00:00<00:00, 303.15it/s]\n"
     ]
    }
   ],
   "source": [
    "# get training data set\n",
    "sp_dataset_test = dataset.optDataset(sp_model, x_test, c_test)"
   ]
  },
  {
   "cell_type": "code",
   "execution_count": 9,
   "id": "incident-kinase",
   "metadata": {},
   "outputs": [],
   "source": [
    "# get data loader\n",
    "batch_size = 32\n",
    "sp_loader_train = DataLoader(sp_dataset_train, batch_size=batch_size, shuffle=True)\n",
    "sp_loader_test = DataLoader(sp_dataset_test, batch_size=batch_size, shuffle=False)"
   ]
  },
  {
   "cell_type": "code",
   "execution_count": 10,
   "id": "intellectual-softball",
   "metadata": {},
   "outputs": [],
   "source": [
    "for i, data in enumerate(sp_loader_train):\n",
    "    x, c, w, z = data\n",
    "    break"
   ]
  },
  {
   "cell_type": "code",
   "execution_count": 11,
   "id": "instant-polymer",
   "metadata": {},
   "outputs": [
    {
     "data": {
      "text/plain": [
       "torch.Size([32, 5])"
      ]
     },
     "execution_count": 11,
     "metadata": {},
     "output_type": "execute_result"
    }
   ],
   "source": [
    "x.shape"
   ]
  },
  {
   "cell_type": "code",
   "execution_count": 12,
   "id": "known-framing",
   "metadata": {},
   "outputs": [
    {
     "data": {
      "text/plain": [
       "torch.Size([32, 40])"
      ]
     },
     "execution_count": 12,
     "metadata": {},
     "output_type": "execute_result"
    }
   ],
   "source": [
    "c.shape"
   ]
  },
  {
   "cell_type": "code",
   "execution_count": 13,
   "id": "partial-algeria",
   "metadata": {},
   "outputs": [
    {
     "data": {
      "text/plain": [
       "torch.Size([32, 40])"
      ]
     },
     "execution_count": 13,
     "metadata": {},
     "output_type": "execute_result"
    }
   ],
   "source": [
    "w.shape"
   ]
  },
  {
   "cell_type": "code",
   "execution_count": 14,
   "id": "known-contemporary",
   "metadata": {},
   "outputs": [
    {
     "data": {
      "text/plain": [
       "torch.Size([32, 1])"
      ]
     },
     "execution_count": 14,
     "metadata": {},
     "output_type": "execute_result"
    }
   ],
   "source": [
    "z.shape"
   ]
  },
  {
   "cell_type": "markdown",
   "id": "sacred-consequence",
   "metadata": {},
   "source": [
    "## Loss Function"
   ]
  },
  {
   "cell_type": "code",
   "execution_count": 15,
   "id": "authentic-boring",
   "metadata": {},
   "outputs": [],
   "source": [
    "from loss import SPOPlusLoss"
   ]
  },
  {
   "cell_type": "code",
   "execution_count": 16,
   "id": "directed-composition",
   "metadata": {},
   "outputs": [],
   "source": [
    "# init SPO+ loss\n",
    "criterion = SPOPlusLoss()"
   ]
  },
  {
   "cell_type": "markdown",
   "id": "technological-queue",
   "metadata": {},
   "source": [
    "## Linear Regression "
   ]
  },
  {
   "cell_type": "code",
   "execution_count": 17,
   "id": "shaped-wonder",
   "metadata": {},
   "outputs": [],
   "source": [
    "import torch\n",
    "from torch import nn"
   ]
  },
  {
   "cell_type": "code",
   "execution_count": 18,
   "id": "fresh-adolescent",
   "metadata": {},
   "outputs": [],
   "source": [
    "# build linear model\n",
    "class LinearRegression(nn.Module):\n",
    "    \n",
    "    def __init__(self):\n",
    "        super(LinearRegression, self).__init__()\n",
    "        self.linear = nn.Linear(p, (grid[0] - 1) * grid[1] + (grid[1] - 1) * grid[0])\n",
    "    \n",
    "    def forward(self, x):\n",
    "        out = self.linear(x)\n",
    "        return out"
   ]
  },
  {
   "cell_type": "code",
   "execution_count": 19,
   "id": "interior-secondary",
   "metadata": {},
   "outputs": [],
   "source": [
    "# init model\n",
    "lr = LinearRegression()\n",
    "# cuda\n",
    "if torch.cuda.is_available():\n",
    "    lr = lr.cuda()"
   ]
  },
  {
   "cell_type": "markdown",
   "id": "accessible-clerk",
   "metadata": {},
   "source": [
    "## Training "
   ]
  },
  {
   "cell_type": "code",
   "execution_count": 20,
   "id": "challenging-reservation",
   "metadata": {},
   "outputs": [],
   "source": [
    "from matplotlib import pyplot as plt"
   ]
  },
  {
   "cell_type": "code",
   "execution_count": 21,
   "id": "asian-screening",
   "metadata": {},
   "outputs": [],
   "source": [
    "# set optimizer\n",
    "optimizer = torch.optim.SGD(lr.parameters(), lr=1e-2)"
   ]
  },
  {
   "cell_type": "code",
   "execution_count": 22,
   "id": "framed-classification",
   "metadata": {
    "scrolled": false
   },
   "outputs": [
    {
     "name": "stdout",
     "output_type": "stream",
     "text": [
      "epoch 0, loss:9.519174\n",
      "epoch 2, loss:8.755713\n",
      "epoch 4, loss:8.283317\n",
      "epoch 6, loss:8.432678\n",
      "epoch 8, loss:6.553766\n",
      "epoch 10, loss:8.451365\n",
      "epoch 12, loss:6.710849\n",
      "epoch 14, loss:6.630477\n",
      "epoch 16, loss:5.760193\n",
      "epoch 18, loss:5.620378\n",
      "epoch 20, loss:5.719088\n",
      "epoch 22, loss:4.756516\n",
      "epoch 24, loss:4.690244\n",
      "epoch 26, loss:4.637458\n",
      "epoch 28, loss:4.257630\n",
      "epoch 30, loss:4.504069\n",
      "epoch 32, loss:3.910903\n",
      "epoch 34, loss:3.660481\n",
      "epoch 36, loss:3.315021\n",
      "epoch 38, loss:2.609695\n",
      "epoch 40, loss:2.890459\n",
      "epoch 42, loss:2.768803\n",
      "epoch 44, loss:2.337512\n",
      "epoch 46, loss:1.821594\n",
      "epoch 48, loss:2.136076\n",
      "epoch 50, loss:2.278857\n",
      "epoch 52, loss:1.948094\n",
      "epoch 54, loss:1.697937\n",
      "epoch 56, loss:2.166249\n",
      "epoch 58, loss:1.456878\n",
      "epoch 60, loss:0.919127\n",
      "epoch 62, loss:1.617758\n",
      "epoch 64, loss:1.327324\n",
      "epoch 66, loss:0.983202\n",
      "epoch 68, loss:1.131678\n",
      "epoch 70, loss:0.845422\n",
      "epoch 72, loss:1.390513\n",
      "epoch 74, loss:1.091316\n",
      "epoch 76, loss:0.760505\n",
      "epoch 78, loss:1.080470\n",
      "epoch 80, loss:0.611531\n",
      "epoch 82, loss:0.829013\n",
      "epoch 84, loss:0.315444\n",
      "epoch 86, loss:0.739026\n",
      "epoch 88, loss:0.776429\n",
      "epoch 90, loss:0.970069\n",
      "epoch 92, loss:0.744098\n",
      "epoch 94, loss:0.675543\n",
      "epoch 96, loss:0.629308\n",
      "epoch 98, loss:0.717055\n",
      "epoch 100, loss:0.609810\n",
      "epoch 102, loss:0.762072\n",
      "epoch 104, loss:0.633754\n",
      "epoch 106, loss:0.476404\n",
      "epoch 108, loss:0.513176\n",
      "epoch 110, loss:0.428753\n",
      "epoch 112, loss:0.496174\n",
      "epoch 114, loss:0.297359\n",
      "epoch 116, loss:0.321754\n",
      "epoch 118, loss:0.459825\n",
      "epoch 120, loss:0.349495\n",
      "epoch 122, loss:0.326955\n",
      "epoch 124, loss:0.374972\n",
      "epoch 126, loss:0.356305\n",
      "epoch 128, loss:0.282481\n",
      "epoch 130, loss:0.247649\n",
      "epoch 132, loss:0.409422\n",
      "epoch 134, loss:0.175792\n",
      "epoch 136, loss:0.425708\n",
      "epoch 138, loss:0.235107\n",
      "epoch 140, loss:0.346452\n",
      "epoch 142, loss:0.285036\n",
      "epoch 144, loss:0.361923\n",
      "epoch 146, loss:0.268155\n",
      "epoch 148, loss:0.269135\n",
      "epoch 150, loss:0.101974\n",
      "epoch 152, loss:0.210938\n",
      "epoch 154, loss:0.366937\n",
      "epoch 156, loss:0.138697\n",
      "epoch 158, loss:0.193032\n",
      "epoch 160, loss:0.182378\n",
      "epoch 162, loss:0.251801\n",
      "epoch 164, loss:0.247520\n",
      "epoch 166, loss:0.330977\n",
      "epoch 168, loss:0.161148\n",
      "epoch 170, loss:0.582150\n",
      "epoch 172, loss:0.265591\n",
      "epoch 174, loss:0.141116\n",
      "epoch 176, loss:0.321774\n",
      "epoch 178, loss:0.380393\n",
      "epoch 180, loss:0.385330\n",
      "epoch 182, loss:0.241669\n",
      "epoch 184, loss:0.163340\n",
      "epoch 186, loss:0.402163\n",
      "epoch 188, loss:0.186836\n",
      "epoch 190, loss:0.295355\n",
      "epoch 192, loss:0.215107\n",
      "epoch 194, loss:0.128389\n",
      "epoch 196, loss:0.108790\n",
      "epoch 198, loss:0.228226\n",
      "epoch 200, loss:0.286356\n",
      "epoch 202, loss:0.113559\n",
      "epoch 204, loss:0.125324\n",
      "epoch 206, loss:0.072688\n",
      "epoch 208, loss:0.199390\n",
      "epoch 210, loss:0.050253\n",
      "epoch 212, loss:0.094733\n",
      "epoch 214, loss:0.142919\n",
      "epoch 216, loss:0.051770\n",
      "epoch 218, loss:0.092170\n",
      "epoch 220, loss:0.185387\n",
      "epoch 222, loss:0.225289\n",
      "epoch 224, loss:0.037636\n",
      "epoch 226, loss:0.190793\n",
      "epoch 228, loss:0.294508\n",
      "epoch 230, loss:0.139588\n",
      "epoch 232, loss:0.150145\n",
      "epoch 234, loss:0.127929\n",
      "epoch 236, loss:0.130955\n",
      "epoch 238, loss:0.229935\n",
      "epoch 240, loss:0.248848\n",
      "epoch 242, loss:0.093527\n",
      "epoch 244, loss:0.169559\n",
      "epoch 246, loss:0.114718\n",
      "epoch 248, loss:0.183712\n",
      "epoch 250, loss:0.128496\n",
      "epoch 252, loss:0.045714\n",
      "epoch 254, loss:0.003902\n",
      "epoch 256, loss:0.044109\n",
      "epoch 258, loss:0.387224\n",
      "epoch 260, loss:0.184772\n",
      "epoch 262, loss:0.146565\n",
      "epoch 264, loss:0.088699\n",
      "epoch 266, loss:0.281258\n",
      "epoch 268, loss:0.127197\n",
      "epoch 270, loss:0.148750\n",
      "epoch 272, loss:0.130189\n",
      "epoch 274, loss:0.121548\n",
      "epoch 276, loss:0.195171\n",
      "epoch 278, loss:0.242778\n",
      "epoch 280, loss:0.048344\n",
      "epoch 282, loss:0.081144\n",
      "epoch 284, loss:0.065034\n",
      "epoch 286, loss:0.196220\n",
      "epoch 288, loss:0.099920\n",
      "epoch 290, loss:0.026065\n",
      "epoch 292, loss:0.124271\n",
      "epoch 294, loss:0.118356\n",
      "epoch 296, loss:0.137372\n",
      "epoch 298, loss:0.129075\n"
     ]
    }
   ],
   "source": [
    "# train model\n",
    "num_epochs = 300\n",
    "lr.train()\n",
    "loss_log = []\n",
    "for epoch in range(num_epochs):\n",
    "    # load data\n",
    "    for i, data in enumerate(sp_loader_train):\n",
    "        x, c, w, z = data\n",
    "        # cuda\n",
    "        x, c, w, z = x.cuda(), c.cuda(), w.cuda(), z.cuda()\n",
    "        # forward pass\n",
    "        cp = lr(x)\n",
    "        loss = criterion.apply(sp_model, cp, c, w, z).mean()\n",
    "        # backward pass\n",
    "        optimizer.zero_grad()\n",
    "        loss.backward()\n",
    "        optimizer.step()\n",
    "    loss_log.append(loss.item())\n",
    "    if epoch % 2 == 0:\n",
    "        print('epoch {}, loss:{:.6f}'.format(epoch, loss.item()))"
   ]
  },
  {
   "cell_type": "code",
   "execution_count": 23,
   "id": "cheap-thought",
   "metadata": {},
   "outputs": [
    {
     "data": {
      "image/png": "[encoded data removed]",
      "text/plain": [
       "<Figure size 864x432 with 1 Axes>"
      ]
     },
     "metadata": {
      "needs_background": "light"
     },
     "output_type": "display_data"
    }
   ],
   "source": [
    "# draw plot\n",
    "plt.figure(figsize=(12, 6))\n",
    "plt.plot(loss_log, color='c')\n",
    "plt.xlabel('Epoch')\n",
    "plt.ylabel('SPO+ Loss')\n",
    "plt.title('Learning Curve')\n",
    "plt.show()"
   ]
  },
  {
   "cell_type": "markdown",
   "id": "industrial-opposition",
   "metadata": {},
   "source": [
    "## Evaluation "
   ]
  },
  {
   "cell_type": "code",
   "execution_count": 24,
   "id": "precise-brunswick",
   "metadata": {},
   "outputs": [],
   "source": [
    "import numpy as np"
   ]
  },
  {
   "cell_type": "code",
   "execution_count": 25,
   "id": "scheduled-championship",
   "metadata": {},
   "outputs": [
    {
     "name": "stdout",
     "output_type": "stream",
     "text": [
      "Test Loss: 0.117703\n"
     ]
    }
   ],
   "source": [
    "# evaluate\n",
    "lr.eval()\n",
    "loss = []\n",
    "# load data\n",
    "for i, data in enumerate(sp_loader_test):\n",
    "    x, c, w, z = data\n",
    "    # cuda\n",
    "    x, c, w, z = x.cuda(), c.cuda(), w.cuda(), z.cuda()\n",
    "    # predict\n",
    "    cp = lr(x)\n",
    "    loss.append(criterion.apply(sp_model, cp, c, w, z).mean().item())\n",
    "print('Test Loss: {:.6f}'.format(np.mean(loss)))"
   ]
  },
  {
   "cell_type": "code",
   "execution_count": 26,
   "id": "still-iraqi",
   "metadata": {
    "scrolled": false
   },
   "outputs": [
    {
     "name": "stdout",
     "output_type": "stream",
     "text": [
      "Sample 0:\n",
      "    True cost: 3.56, 2.73, 2.34, 3.59, 2.70, 3.34, 2.62, 2.36, 3.81, 2.84, 3.34, 2.84, 3.23, 2.36, 3.71, 2.36, 2.87, 2.12, 1.64, 3.34, 2.84, 2.12, 2.47, 3.21, 3.06, 2.62, 3.71, 3.71, 1.86, 2.95, 1.75, 3.23, 1.75, 2.73, 2.34, 2.95, 2.62, 2.95, 2.00, 2.12\n",
      "    Pred cost: 1.26, -0.02, 1.61, -0.66, 0.00, 1.02, -0.35, -0.03, 0.07, 1.02, -0.09, -0.52, 0.99, -0.55, -0.49, -1.00, -0.31, 0.03, -1.06, 0.65, -0.25, 0.78, -0.51, -1.13, -0.65, -0.75, 0.82, -0.25, -0.21, 0.16, 1.15, 0.18, 1.45, 0.55, 0.29, 0.13, 0.10, -0.38, -0.50, 0.85\n",
      "    True sol: 0, 0, 0, 0, 1, 0, 0, 0, 0, 0, 0, 0, 0, 1, 0, 0, 0, 0, 1, 0, 0, 0, 0, 1, 0, 0, 0, 0, 1, 0, 0, 0, 0, 1, 0, 0, 0, 0, 1, 1, True obj: 18.61\n",
      "    Pred sol: 0, 0, 0, 0, 1, 0, 0, 0, 0, 0, 0, 0, 0, 1, 0, 0, 0, 0, 1, 0, 0, 0, 0, 1, 0, 0, 0, 0, 1, 0, 0, 0, 0, 1, 0, 0, 0, 0, 1, 1, Pred obj: 18.61\n",
      "\n",
      "Sample 1:\n",
      "    True cost: 0.61, 1.95, 2.34, 1.30, 1.26, 0.45, 0.68, 1.08, 1.46, 1.97, 0.45, 0.83, 0.44, 1.08, 1.32, 1.08, 1.52, 2.19, 1.30, 0.45, 0.83, 2.19, 1.10, 1.70, 2.12, 0.68, 1.32, 1.32, 1.46, 2.10, 1.32, 0.44, 1.32, 1.95, 2.34, 2.10, 0.68, 2.10, 2.17, 2.19\n",
      "    Pred cost: -0.41, 0.25, 1.30, -0.42, -0.15, -1.19, -0.19, 1.39, -1.08, 0.49, -0.86, -0.41, -0.72, 0.43, 0.38, 0.34, 0.43, 0.79, -0.54, -0.58, -0.66, -0.43, -0.31, 0.29, 0.77, -0.41, -0.01, 0.55, 0.89, 0.38, -1.26, -1.16, -0.13, -0.55, -0.36, 0.61, 0.93, -0.42, 0.39, 0.75\n",
      "    True sol: 1, 0, 0, 0, 0, 1, 0, 0, 0, 0, 1, 0, 0, 0, 0, 1, 0, 0, 0, 0, 1, 0, 0, 0, 0, 1, 0, 0, 0, 0, 1, 0, 0, 0, 0, 1, 0, 0, 0, 0, True obj: 7.53\n",
      "    Pred sol: 1, 0, 0, 0, 0, 1, 0, 0, 0, 0, 1, 0, 0, 0, 0, 1, 0, 0, 0, 0, 1, 0, 0, 0, 0, 1, 0, 0, 0, 0, 1, 0, 0, 0, 0, 1, 0, 0, 0, 0, Pred obj: 7.53\n",
      "\n",
      "Sample 2:\n",
      "    True cost: 3.44, 3.48, 2.34, 3.47, 3.44, 4.07, 3.66, 4.16, 2.84, 3.39, 4.07, 3.03, 4.16, 4.16, 3.39, 4.16, 3.06, 2.98, 3.75, 4.07, 3.03, 2.98, 4.07, 2.34, 2.75, 3.66, 3.39, 3.39, 3.12, 2.84, 3.66, 4.16, 3.66, 3.48, 2.34, 2.84, 3.66, 2.84, 3.06, 2.98\n",
      "    Pred cost: -0.29, -0.61, -0.27, -0.13, 0.17, 0.12, -0.17, 1.60, -0.56, -0.93, 0.15, -0.76, 2.08, 0.42, 0.48, 0.76, 0.59, -0.44, 0.11, -0.18, -0.10, -0.24, 0.69, -1.00, -0.26, -0.01, 0.51, 0.57, -1.03, -0.69, 1.22, 0.10, 1.43, 0.66, 0.10, -0.20, -0.65, -0.02, 0.15, -0.27\n",
      "    True sol: 0, 0, 0, 0, 1, 0, 0, 0, 0, 1, 0, 0, 0, 0, 1, 0, 0, 0, 0, 0, 0, 0, 0, 1, 0, 0, 0, 0, 1, 1, 0, 0, 0, 0, 1, 0, 0, 0, 0, 1, True obj: 23.83\n",
      "    Pred sol: 0, 0, 0, 0, 1, 0, 0, 0, 0, 1, 0, 0, 0, 0, 1, 0, 0, 0, 0, 0, 0, 0, 0, 1, 0, 0, 0, 0, 1, 1, 0, 0, 0, 0, 1, 0, 0, 0, 0, 1, Pred obj: 23.83\n",
      "\n",
      "Sample 3:\n",
      "    True cost: 3.45, 3.51, 2.34, 4.42, 2.53, 3.74, 3.13, 3.08, 4.13, 3.25, 3.74, 2.83, 4.00, 3.08, 4.17, 3.08, 3.81, 2.64, 2.47, 3.74, 2.83, 2.64, 2.83, 3.26, 2.96, 3.13, 4.17, 4.17, 2.17, 3.21, 2.21, 4.00, 2.21, 3.51, 2.34, 3.21, 3.13, 3.21, 2.89, 2.64\n",
      "    Pred cost: 0.86, 0.01, 1.96, -0.38, -0.56, 0.77, 0.14, 0.18, -0.25, 0.89, 0.07, -0.26, 1.22, -0.19, -0.34, -0.86, -0.38, 0.28, -0.73, 0.52, -0.35, 0.80, -0.14, -1.30, -0.54, -0.16, 1.04, 0.21, -0.01, 0.27, 0.96, 0.32, 1.86, 1.26, -0.29, 0.05, 0.11, -0.13, -0.26, 0.88\n",
      "    True sol: 0, 0, 0, 0, 1, 0, 0, 0, 0, 0, 0, 0, 0, 1, 0, 0, 0, 0, 1, 0, 0, 0, 0, 1, 0, 0, 0, 0, 1, 1, 0, 0, 0, 0, 1, 0, 0, 0, 0, 1, True obj: 21.69\n",
      "    Pred sol: 0, 0, 0, 0, 1, 0, 0, 0, 0, 0, 0, 0, 0, 1, 0, 0, 0, 0, 1, 0, 0, 0, 0, 1, 0, 0, 0, 0, 1, 1, 0, 0, 0, 0, 1, 0, 0, 0, 0, 1, Pred obj: 21.69\n",
      "\n",
      "Sample 4:\n",
      "    True cost: 2.42, 2.66, 2.34, 3.09, 1.99, 2.65, 2.61, 2.27, 2.86, 2.61, 2.65, 2.38, 2.70, 2.27, 3.04, 2.27, 3.05, 2.57, 2.23, 2.65, 2.38, 2.57, 2.22, 2.77, 2.38, 2.61, 3.04, 3.04, 2.00, 2.43, 2.18, 2.70, 2.18, 2.66, 2.34, 2.43, 2.61, 2.43, 2.62, 2.57\n",
      "    Pred cost: 0.41, 0.13, 1.44, -0.71, -0.56, -0.09, -0.17, 0.85, -0.77, 0.43, -0.19, -0.25, 0.46, -0.27, -0.02, -0.51, -0.01, 0.21, -0.28, 0.03, -0.44, 0.60, 0.04, -0.71, -0.40, 0.12, 0.23, 0.22, 0.16, -0.02, -0.01, -0.18, 1.09, 0.41, -0.22, 0.08, 0.24, -0.15, -0.14, 0.61\n",
      "    True sol: 0, 0, 0, 0, 1, 0, 0, 0, 0, 0, 0, 0, 0, 1, 0, 0, 0, 0, 1, 0, 0, 0, 0, 1, 0, 0, 0, 0, 1, 1, 1, 0, 0, 0, 0, 1, 0, 0, 0, 0, True obj: 18.30\n",
      "    Pred sol: 0, 0, 0, 0, 1, 0, 0, 0, 0, 0, 0, 0, 0, 1, 0, 0, 0, 0, 1, 0, 0, 0, 0, 1, 0, 0, 0, 0, 1, 1, 1, 0, 0, 0, 0, 1, 0, 0, 0, 0, Pred obj: 18.30\n",
      "\n",
      "Sample 5:\n",
      "    True cost: 1.73, 2.08, 2.34, 1.64, 2.16, 1.75, 1.69, 1.84, 1.61, 2.42, 1.75, 1.67, 1.40, 1.84, 1.99, 1.84, 1.58, 2.37, 1.78, 1.75, 1.67, 2.37, 2.19, 1.91, 2.40, 1.69, 1.99, 1.99, 1.75, 2.05, 2.13, 1.40, 2.13, 2.08, 2.34, 2.05, 1.69, 2.05, 2.02, 2.37\n",
      "    Pred cost: -0.32, -0.05, 0.44, -0.63, 0.25, -0.52, -0.49, 1.66, -0.80, -0.09, -0.46, -0.78, 0.27, 0.12, 0.50, 0.43, 0.63, 0.23, -0.58, -0.23, -0.38, -0.20, -0.12, -0.13, 0.38, -0.46, -0.04, 0.35, -0.17, -0.31, -0.31, -0.63, 0.38, -0.68, 0.22, 0.18, 0.13, -0.35, 0.31, 0.18\n",
      "    True sol: 1, 0, 0, 0, 0, 1, 0, 0, 0, 0, 1, 1, 0, 0, 0, 0, 1, 0, 0, 0, 0, 0, 0, 0, 0, 1, 0, 0, 0, 0, 1, 0, 0, 0, 0, 1, 0, 0, 0, 0, True obj: 14.35\n",
      "    Pred sol: 1, 0, 0, 0, 0, 1, 0, 0, 0, 0, 1, 1, 0, 0, 0, 0, 1, 0, 0, 0, 0, 0, 0, 0, 0, 1, 0, 0, 0, 0, 1, 0, 0, 0, 0, 1, 0, 0, 0, 0, Pred obj: 14.35\n",
      "\n",
      "Sample 6:\n",
      "    True cost: 2.05, 2.05, 2.34, 2.03, 2.06, 1.79, 2.56, 2.54, 2.29, 1.32, 1.79, 2.82, 2.52, 2.54, 1.30, 2.54, 2.80, 2.09, 3.31, 1.79, 2.82, 2.09, 1.81, 2.33, 1.57, 2.56, 1.30, 1.30, 3.56, 2.31, 2.58, 2.52, 2.58, 2.05, 2.34, 2.31, 2.56, 2.31, 2.82, 2.09\n",
      "    Pred cost: 0.57, -0.33, 0.03, -0.27, -0.51, -1.36, -0.49, 0.58, -1.16, -0.68, -0.71, 0.30, 0.19, 0.13, -0.23, 0.25, 0.19, -0.85, 1.72, -1.43, -0.44, -0.46, 0.99, -0.19, -1.16, 0.51, -0.55, 0.09, 0.71, 0.05, -0.18, -1.19, -0.25, 0.68, -0.50, 0.56, 0.70, -0.20, -0.87, 0.45\n",
      "    True sol: 0, 0, 0, 0, 1, 0, 0, 0, 0, 1, 0, 0, 0, 0, 1, 0, 0, 0, 0, 1, 0, 0, 0, 0, 1, 0, 0, 0, 0, 1, 0, 0, 0, 0, 1, 0, 0, 0, 0, 1, True obj: 14.79\n",
      "    Pred sol: 0, 0, 0, 0, 1, 0, 0, 0, 0, 1, 0, 0, 0, 0, 1, 0, 0, 0, 0, 1, 0, 0, 0, 0, 1, 0, 0, 0, 0, 1, 0, 0, 0, 0, 1, 0, 0, 0, 0, 1, Pred obj: 14.79\n",
      "\n",
      "Sample 7:\n",
      "    True cost: 1.22, 2.24, 2.34, 1.84, 1.62, 1.45, 2.07, 2.13, 1.62, 1.95, 1.45, 1.84, 1.74, 2.13, 1.56, 2.13, 2.46, 2.57, 2.75, 1.45, 1.84, 2.57, 1.84, 1.95, 1.72, 2.07, 1.56, 1.56, 2.52, 2.01, 2.46, 1.74, 2.46, 2.24, 2.34, 2.01, 2.07, 2.01, 2.86, 2.57\n",
      "    Pred cost: -0.38, -0.01, 0.54, -0.46, -0.55, -1.42, -0.23, 1.57, -1.41, -0.44, -0.58, -0.09, -0.08, 0.31, 0.39, 0.48, 0.48, 0.05, 0.72, -0.99, -0.55, -0.30, 0.61, -0.01, -0.09, 0.49, -0.42, 0.57, 0.55, -0.11, -0.93, -0.99, 0.08, 0.04, -0.52, 0.33, 0.53, -0.13, 0.05, 0.31\n",
      "    True sol: 1, 0, 0, 0, 0, 1, 0, 0, 0, 0, 0, 0, 0, 0, 1, 0, 0, 0, 0, 1, 1, 1, 0, 0, 0, 0, 1, 0, 0, 0, 0, 0, 0, 0, 0, 1, 0, 0, 0, 0, True obj: 13.66\n",
      "    Pred sol: 1, 0, 0, 0, 0, 1, 0, 0, 0, 0, 0, 0, 0, 0, 1, 0, 0, 0, 0, 1, 1, 1, 0, 0, 0, 0, 1, 0, 0, 0, 0, 0, 0, 0, 0, 1, 0, 0, 0, 0, Pred obj: 13.66\n",
      "\n",
      "Sample 8:\n",
      "    True cost: 3.40, 2.89, 2.34, 2.93, 3.36, 3.36, 2.92, 3.47, 2.97, 2.75, 3.36, 2.96, 3.51, 3.47, 2.79, 3.47, 2.49, 2.30, 3.02, 3.36, 2.96, 2.30, 3.32, 2.38, 2.79, 2.92, 2.79, 2.79, 3.06, 2.93, 2.88, 3.51, 2.88, 2.89, 2.34, 2.93, 2.92, 2.93, 2.45, 2.30\n",
      "    Pred cost: 0.37, -0.62, -0.16, -0.08, 0.46, 0.17, -0.42, 0.82, -0.24, -0.49, -0.20, -0.67, 1.61, 0.29, 0.04, 0.47, 0.38, -0.61, 0.05, -0.29, -0.12, -0.43, 0.35, -0.80, -0.47, -0.56, 0.51, 0.16, -0.61, -0.28, 1.32, -0.28, 0.87, 0.53, 0.26, 0.18, -0.20, -0.30, -0.31, 0.11\n",
      "    True sol: 0, 0, 0, 0, 1, 0, 0, 0, 0, 1, 0, 0, 0, 0, 1, 0, 0, 0, 0, 0, 0, 0, 0, 1, 0, 0, 0, 0, 0, 0, 0, 0, 1, 0, 0, 0, 0, 1, 1, 1, True obj: 21.84\n",
      "    Pred sol: 0, 0, 0, 0, 1, 0, 0, 0, 0, 1, 0, 0, 0, 0, 1, 0, 0, 0, 0, 0, 0, 0, 0, 1, 0, 0, 0, 0, 1, 1, 0, 0, 0, 0, 1, 0, 0, 0, 0, 1, Pred obj: 21.92\n",
      "\n",
      "Sample 9:\n",
      "    True cost: 4.24, 2.50, 2.34, 2.56, 4.18, 3.78, 2.87, 3.43, 3.01, 2.80, 3.78, 3.32, 3.48, 3.43, 2.86, 3.43, 1.64, 1.89, 2.51, 3.78, 3.32, 1.89, 3.73, 2.40, 3.26, 2.87, 2.86, 2.86, 2.97, 2.96, 2.81, 3.48, 2.81, 2.50, 2.34, 2.96, 2.87, 2.96, 1.59, 1.89\n",
      "    Pred cost: 0.76, -0.88, -0.88, -0.21, 1.35, 0.91, -0.91, 0.64, 0.38, -0.57, -0.16, -1.19, 2.11, 0.02, -0.05, 0.51, 0.53, -1.04, -0.50, 0.08, 0.13, -0.52, -0.00, -0.92, -0.58, -1.38, 0.61, -0.29, -1.36, -0.59, 2.24, -0.10, 0.85, -0.02, 1.07, 0.10, -0.60, -0.53, -0.50, -0.14\n",
      "    True sol: 0, 0, 0, 0, 1, 0, 0, 0, 0, 1, 0, 0, 0, 0, 1, 0, 0, 0, 0, 0, 0, 0, 0, 1, 0, 0, 0, 0, 1, 0, 0, 0, 0, 1, 0, 0, 0, 0, 1, 1, True obj: 21.19\n",
      "    Pred sol: 0, 0, 0, 0, 1, 0, 0, 0, 0, 1, 0, 0, 0, 0, 1, 0, 0, 0, 0, 0, 0, 0, 0, 1, 0, 0, 0, 0, 1, 0, 0, 0, 0, 1, 0, 0, 0, 0, 1, 1, Pred obj: 21.19\n",
      "\n"
     ]
    }
   ],
   "source": [
    "# compare solutions\n",
    "lr.eval()\n",
    "loss = []\n",
    "# load data\n",
    "for i, data in enumerate(sp_loader_test):\n",
    "    x, c, w, z = data\n",
    "    # predicy\n",
    "    x, c, w, z = x.cuda(), c.cuda(), w.cuda(), z.cuda()\n",
    "    cp = lr(x)\n",
    "    # convert to numpy\n",
    "    c = c.to('cpu').detach().numpy().tolist()\n",
    "    w = w.to('cpu').detach().numpy().tolist()\n",
    "    z = z.to('cpu').detach().numpy().tolist()\n",
    "    cp = cp.to('cpu').detach().numpy().tolist()\n",
    "    for j in range(min(10, batch_size)):\n",
    "        print('Sample {}:'.format(j))\n",
    "        print('    True cost:', ', '.join(['{:.2f}'.format(cost) for cost in c[j]]))\n",
    "        print('    Pred cost:', ', '.join(['{:.2f}'.format(cost) for cost in cp[j]]))\n",
    "        # solve cost from prediction\n",
    "        sp_model.setObj(cp[j])\n",
    "        wpj, _ = sp_model.solve()\n",
    "        zpj = np.dot(c[j], wpj)\n",
    "        print('    True sol: ' + ', '.join(['{:.0f}'.format(x) for x in w[j]]) + ', True obj: {:.2f}'.format(z[j][0]))\n",
    "        print('    Pred sol: '+  ', '.join(['{:.0f}'.format(x) for x in wpj]) + ', Pred obj: {:.2f}'.format(zpj))\n",
    "        print()\n",
    "    break"
   ]
  },
  {
   "cell_type": "markdown",
   "id": "honest-signature",
   "metadata": {},
   "source": [
    "##  Training with Regularization"
   ]
  },
  {
   "cell_type": "code",
   "execution_count": 27,
   "id": "stylish-practice",
   "metadata": {},
   "outputs": [],
   "source": [
    "# init model\n",
    "lr = LinearRegression()\n",
    "# cuda\n",
    "if torch.cuda.is_available():\n",
    "    lr = lr.cuda()"
   ]
  },
  {
   "cell_type": "code",
   "execution_count": 28,
   "id": "earned-potential",
   "metadata": {},
   "outputs": [],
   "source": [
    "# set optimizer\n",
    "optimizer = torch.optim.SGD(lr.parameters(), lr=1e-2)"
   ]
  },
  {
   "cell_type": "code",
   "execution_count": 29,
   "id": "imported-photography",
   "metadata": {
    "scrolled": false
   },
   "outputs": [
    {
     "name": "stdout",
     "output_type": "stream",
     "text": [
      "epoch 0, loss:10.375377\n",
      "epoch 2, loss:8.615051\n",
      "epoch 4, loss:8.586600\n",
      "epoch 6, loss:7.724221\n",
      "epoch 8, loss:7.120532\n",
      "epoch 10, loss:6.216093\n",
      "epoch 12, loss:7.784039\n",
      "epoch 14, loss:8.047546\n",
      "epoch 16, loss:6.528389\n",
      "epoch 18, loss:4.842957\n",
      "epoch 20, loss:5.417548\n",
      "epoch 22, loss:5.340332\n",
      "epoch 24, loss:5.055727\n",
      "epoch 26, loss:5.179209\n",
      "epoch 28, loss:5.500977\n",
      "epoch 30, loss:3.633572\n",
      "epoch 32, loss:3.082191\n",
      "epoch 34, loss:3.938148\n",
      "epoch 36, loss:3.365001\n",
      "epoch 38, loss:2.850669\n",
      "epoch 40, loss:2.867265\n",
      "epoch 42, loss:2.857548\n",
      "epoch 44, loss:2.490216\n",
      "epoch 46, loss:2.632084\n",
      "epoch 48, loss:2.482745\n",
      "epoch 50, loss:2.147439\n",
      "epoch 52, loss:1.994130\n",
      "epoch 54, loss:1.631781\n",
      "epoch 56, loss:1.679010\n",
      "epoch 58, loss:1.103887\n",
      "epoch 60, loss:0.990304\n",
      "epoch 62, loss:1.545611\n",
      "epoch 64, loss:1.574345\n",
      "epoch 66, loss:0.716707\n",
      "epoch 68, loss:0.852086\n",
      "epoch 70, loss:0.756399\n",
      "epoch 72, loss:0.833220\n",
      "epoch 74, loss:0.952605\n",
      "epoch 76, loss:0.752374\n",
      "epoch 78, loss:0.637089\n",
      "epoch 80, loss:0.729932\n",
      "epoch 82, loss:0.462025\n",
      "epoch 84, loss:0.307184\n",
      "epoch 86, loss:0.313912\n",
      "epoch 88, loss:0.865578\n",
      "epoch 90, loss:0.524574\n",
      "epoch 92, loss:0.510733\n",
      "epoch 94, loss:0.557078\n",
      "epoch 96, loss:0.419163\n",
      "epoch 98, loss:0.437391\n",
      "epoch 100, loss:0.176869\n",
      "epoch 102, loss:0.149515\n",
      "epoch 104, loss:0.404964\n",
      "epoch 106, loss:0.323761\n",
      "epoch 108, loss:0.548374\n",
      "epoch 110, loss:0.267749\n",
      "epoch 112, loss:0.455221\n",
      "epoch 114, loss:0.156394\n",
      "epoch 116, loss:0.378647\n",
      "epoch 118, loss:0.211869\n",
      "epoch 120, loss:0.193412\n",
      "epoch 122, loss:0.267964\n",
      "epoch 124, loss:0.456732\n",
      "epoch 126, loss:0.558794\n",
      "epoch 128, loss:0.133952\n",
      "epoch 130, loss:0.374940\n",
      "epoch 132, loss:0.137787\n",
      "epoch 134, loss:0.290421\n",
      "epoch 136, loss:0.239629\n",
      "epoch 138, loss:0.354131\n",
      "epoch 140, loss:0.350680\n",
      "epoch 142, loss:0.161769\n",
      "epoch 144, loss:0.404280\n",
      "epoch 146, loss:0.151178\n",
      "epoch 148, loss:0.377481\n",
      "epoch 150, loss:0.251366\n",
      "epoch 152, loss:0.389879\n",
      "epoch 154, loss:0.336103\n",
      "epoch 156, loss:0.196020\n",
      "epoch 158, loss:0.339676\n",
      "epoch 160, loss:0.234125\n",
      "epoch 162, loss:0.434298\n",
      "epoch 164, loss:0.239124\n",
      "epoch 166, loss:0.134330\n",
      "epoch 168, loss:0.119139\n",
      "epoch 170, loss:0.236220\n",
      "epoch 172, loss:0.185675\n",
      "epoch 174, loss:0.194050\n",
      "epoch 176, loss:0.320957\n",
      "epoch 178, loss:0.174099\n",
      "epoch 180, loss:0.203331\n",
      "epoch 182, loss:0.072303\n",
      "epoch 184, loss:0.220358\n",
      "epoch 186, loss:0.189533\n",
      "epoch 188, loss:0.256691\n",
      "epoch 190, loss:0.198928\n",
      "epoch 192, loss:0.191844\n",
      "epoch 194, loss:0.148497\n",
      "epoch 196, loss:0.566982\n",
      "epoch 198, loss:0.159338\n",
      "epoch 200, loss:0.184541\n",
      "epoch 202, loss:0.223396\n",
      "epoch 204, loss:0.220007\n",
      "epoch 206, loss:0.468222\n",
      "epoch 208, loss:0.068533\n",
      "epoch 210, loss:0.358763\n",
      "epoch 212, loss:0.140915\n",
      "epoch 214, loss:0.172963\n",
      "epoch 216, loss:0.112359\n",
      "epoch 218, loss:0.052769\n",
      "epoch 220, loss:0.170128\n",
      "epoch 222, loss:0.139001\n",
      "epoch 224, loss:0.032511\n",
      "epoch 226, loss:0.133640\n",
      "epoch 228, loss:0.098810\n",
      "epoch 230, loss:0.076928\n",
      "epoch 232, loss:0.127119\n",
      "epoch 234, loss:0.116264\n",
      "epoch 236, loss:0.093794\n",
      "epoch 238, loss:0.116925\n",
      "epoch 240, loss:0.124603\n",
      "epoch 242, loss:0.122038\n",
      "epoch 244, loss:0.240786\n",
      "epoch 246, loss:0.167528\n",
      "epoch 248, loss:0.092192\n",
      "epoch 250, loss:0.100467\n",
      "epoch 252, loss:0.270505\n",
      "epoch 254, loss:0.234999\n",
      "epoch 256, loss:0.069291\n",
      "epoch 258, loss:0.210420\n",
      "epoch 260, loss:0.274337\n",
      "epoch 262, loss:0.107562\n",
      "epoch 264, loss:0.144907\n",
      "epoch 266, loss:0.368213\n",
      "epoch 268, loss:0.135594\n",
      "epoch 270, loss:0.130582\n",
      "epoch 272, loss:0.074380\n",
      "epoch 274, loss:0.120108\n",
      "epoch 276, loss:0.156501\n",
      "epoch 278, loss:0.097603\n",
      "epoch 280, loss:0.031558\n",
      "epoch 282, loss:0.017030\n",
      "epoch 284, loss:0.053075\n",
      "epoch 286, loss:0.076858\n",
      "epoch 288, loss:0.086376\n",
      "epoch 290, loss:0.324483\n",
      "epoch 292, loss:0.112533\n",
      "epoch 294, loss:0.152513\n",
      "epoch 296, loss:0.048745\n",
      "epoch 298, loss:0.261380\n"
     ]
    }
   ],
   "source": [
    "# train model\n",
    "num_epochs = 300\n",
    "lr.train()\n",
    "loss_log = []\n",
    "for epoch in range(num_epochs):\n",
    "    # load data\n",
    "    for i, data in enumerate(sp_loader_train):\n",
    "        x, c, w, z = data\n",
    "        # cuda\n",
    "        x, c, w, z = x.cuda(), c.cuda(), w.cuda(), z.cuda()\n",
    "        # forward pass\n",
    "        cp = lr(x)\n",
    "        loss = criterion.apply(sp_model, cp, c, w, z).mean()\n",
    "        # l2 loss\n",
    "        l2_lambda = 1e-3\n",
    "        l2_reg = torch.tensor(0.).cuda()\n",
    "        for param in lr.parameters():\n",
    "            l2_reg += torch.norm(param) / 2\n",
    "            loss += l2_lambda * l2_reg\n",
    "        # backward pass\n",
    "        optimizer.zero_grad()\n",
    "        loss.backward()\n",
    "        optimizer.step()\n",
    "    loss_log.append(loss.item())\n",
    "    if epoch % 2 == 0:\n",
    "        print('epoch {}, loss:{:.6f}'.format(epoch, loss.item()))"
   ]
  },
  {
   "cell_type": "code",
   "execution_count": 30,
   "id": "imposed-coalition",
   "metadata": {},
   "outputs": [
    {
     "data": {
      "image/png": "[encoded data removed]",
      "text/plain": [
       "<Figure size 864x432 with 1 Axes>"
      ]
     },
     "metadata": {
      "needs_background": "light"
     },
     "output_type": "display_data"
    }
   ],
   "source": [
    "# draw plot\n",
    "plt.figure(figsize=(12, 6))\n",
    "plt.plot(loss_log, color='c')\n",
    "plt.xlabel('Epoch')\n",
    "plt.ylabel('SPO+ Loss with Regularization')\n",
    "plt.title('Learning Curve')\n",
    "plt.show()"
   ]
  },
  {
   "cell_type": "markdown",
   "id": "embedded-pendant",
   "metadata": {},
   "source": [
    "## Evaluation "
   ]
  },
  {
   "cell_type": "code",
   "execution_count": 31,
   "id": "pretty-fountain",
   "metadata": {},
   "outputs": [
    {
     "name": "stdout",
     "output_type": "stream",
     "text": [
      "Test Loss: 0.160389\n"
     ]
    }
   ],
   "source": [
    "# evaluate\n",
    "lr.eval()\n",
    "loss = []\n",
    "# load data\n",
    "for i, data in enumerate(sp_loader_test):\n",
    "    x, c, w, z = data\n",
    "    # cuda\n",
    "    x, c, w, z = x.cuda(), c.cuda(), w.cuda(), z.cuda()\n",
    "    # predict\n",
    "    cp = lr(x)\n",
    "    loss.append(criterion.apply(sp_model, cp, c, w, z).mean().item())\n",
    "print('Test Loss: {:.6f}'.format(np.mean(loss)))"
   ]
  },
  {
   "cell_type": "code",
   "execution_count": 32,
   "id": "caroline-transmission",
   "metadata": {
    "scrolled": false
   },
   "outputs": [
    {
     "name": "stdout",
     "output_type": "stream",
     "text": [
      "Sample 0:\n",
      "    True cost: 3.56, 2.73, 2.34, 3.59, 2.70, 3.34, 2.62, 2.36, 3.81, 2.84, 3.34, 2.84, 3.23, 2.36, 3.71, 2.36, 2.87, 2.12, 1.64, 3.34, 2.84, 2.12, 2.47, 3.21, 3.06, 2.62, 3.71, 3.71, 1.86, 2.95, 1.75, 3.23, 1.75, 2.73, 2.34, 2.95, 2.62, 2.95, 2.00, 2.12\n",
      "    Pred cost: -0.12, 0.01, 0.79, -1.33, -1.71, 0.74, -0.39, 0.47, -1.16, 1.25, -0.38, -0.98, 2.11, 1.06, 0.40, -0.52, -0.03, 0.72, -1.80, -0.03, -0.02, -0.19, -0.40, -0.38, 0.16, -0.66, 0.90, -0.98, -0.95, -0.80, -0.16, -1.16, 0.51, -0.90, -0.03, 0.53, -0.87, -1.12, -0.38, 0.22\n",
      "    True sol: 0, 0, 0, 0, 1, 0, 0, 0, 0, 0, 0, 0, 0, 1, 0, 0, 0, 0, 1, 0, 0, 0, 0, 1, 0, 0, 0, 0, 1, 0, 0, 0, 0, 1, 0, 0, 0, 0, 1, 1, True obj: 18.61\n",
      "    Pred sol: 0, 0, 0, 0, 1, 0, 0, 0, 0, 0, 0, 0, 0, 1, 0, 0, 0, 0, 1, 0, 0, 0, 0, 1, 0, 0, 0, 0, 1, 0, 0, 0, 0, 1, 0, 0, 0, 0, 1, 1, Pred obj: 18.61\n",
      "\n",
      "Sample 1:\n",
      "    True cost: 0.61, 1.95, 2.34, 1.30, 1.26, 0.45, 0.68, 1.08, 1.46, 1.97, 0.45, 0.83, 0.44, 1.08, 1.32, 1.08, 1.52, 2.19, 1.30, 0.45, 0.83, 2.19, 1.10, 1.70, 2.12, 0.68, 1.32, 1.32, 1.46, 2.10, 1.32, 0.44, 1.32, 1.95, 2.34, 2.10, 0.68, 2.10, 2.17, 2.19\n",
      "    Pred cost: -0.25, 0.46, 0.93, -0.28, -0.04, -0.65, -0.13, -0.11, 0.18, 0.84, -0.96, -0.80, 0.18, 0.80, 0.68, 0.55, 0.14, 0.05, -0.09, -0.83, -1.86, 0.60, 0.27, 0.81, 0.16, 0.41, 0.02, 0.60, -0.56, 0.86, -0.88, 0.39, -1.23, -0.12, -0.63, -0.08, 0.21, -0.43, 0.18, 0.55\n",
      "    True sol: 1, 0, 0, 0, 0, 1, 0, 0, 0, 0, 1, 0, 0, 0, 0, 1, 0, 0, 0, 0, 1, 0, 0, 0, 0, 1, 0, 0, 0, 0, 1, 0, 0, 0, 0, 1, 0, 0, 0, 0, True obj: 7.53\n",
      "    Pred sol: 1, 0, 0, 0, 0, 1, 0, 0, 0, 0, 1, 0, 0, 0, 0, 1, 0, 0, 0, 0, 1, 0, 0, 0, 0, 1, 0, 0, 0, 0, 1, 0, 0, 0, 0, 1, 0, 0, 0, 0, Pred obj: 7.53\n",
      "\n",
      "Sample 2:\n",
      "    True cost: 3.44, 3.48, 2.34, 3.47, 3.44, 4.07, 3.66, 4.16, 2.84, 3.39, 4.07, 3.03, 4.16, 4.16, 3.39, 4.16, 3.06, 2.98, 3.75, 4.07, 3.03, 2.98, 4.07, 2.34, 2.75, 3.66, 3.39, 3.39, 3.12, 2.84, 3.66, 4.16, 3.66, 3.48, 2.34, 2.84, 3.66, 2.84, 3.06, 2.98\n",
      "    Pred cost: 0.37, 0.25, 0.65, -1.24, 0.79, -0.07, -1.05, 1.27, -2.13, -1.05, 0.32, -0.32, 1.18, -0.17, -0.42, -0.04, -0.09, -0.16, -0.29, 0.05, 0.76, -0.47, 0.03, -1.11, -0.30, -0.39, -0.06, 0.21, -0.43, -0.56, 0.45, -0.38, 0.01, -0.48, -0.26, 0.20, -0.23, 0.70, 0.80, -0.08\n",
      "    True sol: 0, 0, 0, 0, 1, 0, 0, 0, 0, 1, 0, 0, 0, 0, 1, 0, 0, 0, 0, 0, 0, 0, 0, 1, 0, 0, 0, 0, 1, 1, 0, 0, 0, 0, 1, 0, 0, 0, 0, 1, True obj: 23.83\n",
      "    Pred sol: 0, 0, 0, 0, 1, 0, 0, 0, 0, 1, 0, 0, 0, 0, 1, 0, 0, 0, 0, 0, 0, 0, 0, 1, 0, 0, 0, 0, 1, 1, 0, 0, 0, 0, 1, 0, 0, 0, 0, 1, Pred obj: 23.83\n",
      "\n",
      "Sample 3:\n",
      "    True cost: 3.45, 3.51, 2.34, 4.42, 2.53, 3.74, 3.13, 3.08, 4.13, 3.25, 3.74, 2.83, 4.00, 3.08, 4.17, 3.08, 3.81, 2.64, 2.47, 3.74, 2.83, 2.64, 2.83, 3.26, 2.96, 3.13, 4.17, 4.17, 2.17, 3.21, 2.21, 4.00, 2.21, 3.51, 2.34, 3.21, 3.13, 3.21, 2.89, 2.64\n",
      "    Pred cost: -0.07, 0.69, 1.10, -1.67, -1.30, 0.63, -0.65, 0.60, -1.57, 0.75, -0.31, -0.89, 1.87, 0.90, 0.05, -0.56, 0.33, 1.07, -1.83, 0.06, 0.01, -0.09, -0.91, -0.48, -0.05, -0.97, 0.58, -0.43, -0.87, -1.05, -0.03, -1.33, 0.21, -0.93, 0.05, 0.45, -0.45, -0.79, 0.75, 0.02\n",
      "    True sol: 0, 0, 0, 0, 1, 0, 0, 0, 0, 0, 0, 0, 0, 1, 0, 0, 0, 0, 1, 0, 0, 0, 0, 1, 0, 0, 0, 0, 1, 1, 0, 0, 0, 0, 1, 0, 0, 0, 0, 1, True obj: 21.69\n",
      "    Pred sol: 0, 0, 0, 0, 1, 0, 0, 0, 0, 0, 0, 0, 0, 1, 0, 0, 0, 0, 1, 0, 0, 0, 0, 1, 0, 0, 0, 0, 1, 1, 0, 0, 0, 0, 1, 0, 0, 0, 0, 1, Pred obj: 21.69\n",
      "\n",
      "Sample 4:\n",
      "    True cost: 2.42, 2.66, 2.34, 3.09, 1.99, 2.65, 2.61, 2.27, 2.86, 2.61, 2.65, 2.38, 2.70, 2.27, 3.04, 2.27, 3.05, 2.57, 2.23, 2.65, 2.38, 2.57, 2.22, 2.77, 2.38, 2.61, 3.04, 3.04, 2.00, 2.43, 2.18, 2.70, 2.18, 2.66, 2.34, 2.43, 2.61, 2.43, 2.62, 2.57\n",
      "    Pred cost: 0.09, 0.88, 0.94, -1.48, -0.59, -0.07, -0.61, 0.78, -1.28, 0.24, -0.17, -0.58, 1.23, 0.52, 0.22, -0.39, 0.22, 0.30, -1.08, -0.09, -0.31, 0.10, -0.28, 0.09, -0.21, -0.17, 0.55, -0.22, -0.62, -0.57, -0.11, -0.66, -0.38, -0.66, 0.07, 0.10, -0.11, -0.49, 0.68, 0.18\n",
      "    True sol: 0, 0, 0, 0, 1, 0, 0, 0, 0, 0, 0, 0, 0, 1, 0, 0, 0, 0, 1, 0, 0, 0, 0, 1, 0, 0, 0, 0, 1, 1, 1, 0, 0, 0, 0, 1, 0, 0, 0, 0, True obj: 18.30\n",
      "    Pred sol: 0, 0, 0, 0, 1, 0, 0, 0, 0, 0, 0, 0, 0, 1, 0, 0, 0, 0, 1, 0, 0, 0, 0, 1, 0, 0, 0, 0, 1, 1, 1, 0, 0, 0, 0, 1, 0, 0, 0, 0, Pred obj: 18.30\n",
      "\n",
      "Sample 5:\n",
      "    True cost: 1.73, 2.08, 2.34, 1.64, 2.16, 1.75, 1.69, 1.84, 1.61, 2.42, 1.75, 1.67, 1.40, 1.84, 1.99, 1.84, 1.58, 2.37, 1.78, 1.75, 1.67, 2.37, 2.19, 1.91, 2.40, 1.69, 1.99, 1.99, 1.75, 2.05, 2.13, 1.40, 2.13, 2.08, 2.34, 2.05, 1.69, 2.05, 2.02, 2.37\n",
      "    Pred cost: 0.04, 0.08, 0.70, -0.55, 0.08, -0.48, -0.44, 0.47, -0.68, 0.34, -0.34, -0.44, 0.72, 0.36, 0.60, 0.35, -0.26, -0.25, -0.16, -0.38, -0.66, 0.18, 0.44, 0.04, 0.03, 0.17, 0.12, 0.22, -0.66, 0.28, -0.38, 0.10, -0.72, -0.32, -0.49, 0.16, -0.32, -0.08, -0.11, 0.68\n",
      "    True sol: 1, 0, 0, 0, 0, 1, 0, 0, 0, 0, 1, 1, 0, 0, 0, 0, 1, 0, 0, 0, 0, 0, 0, 0, 0, 1, 0, 0, 0, 0, 1, 0, 0, 0, 0, 1, 0, 0, 0, 0, True obj: 14.35\n",
      "    Pred sol: 1, 0, 0, 0, 0, 1, 0, 0, 0, 0, 1, 1, 0, 0, 0, 0, 1, 0, 0, 0, 0, 0, 0, 0, 0, 1, 0, 0, 0, 0, 1, 0, 0, 0, 0, 1, 0, 0, 0, 0, Pred obj: 14.35\n",
      "\n",
      "Sample 6:\n",
      "    True cost: 2.05, 2.05, 2.34, 2.03, 2.06, 1.79, 2.56, 2.54, 2.29, 1.32, 1.79, 2.82, 2.52, 2.54, 1.30, 2.54, 2.80, 2.09, 3.31, 1.79, 2.82, 2.09, 1.81, 2.33, 1.57, 2.56, 1.30, 1.30, 3.56, 2.31, 2.58, 2.52, 2.58, 2.05, 2.34, 2.31, 2.56, 2.31, 2.82, 2.09\n",
      "    Pred cost: 0.38, 1.10, 0.28, -1.44, 1.18, -0.59, -0.55, 1.40, -1.00, -1.73, -0.01, -0.84, 0.32, -0.01, -0.98, -0.54, 0.62, -1.13, 0.28, -0.72, -0.66, -0.27, 0.81, 0.74, -0.51, 1.57, 0.75, -0.35, 0.57, 0.43, 0.19, 0.62, -0.28, 0.09, 0.20, -0.99, 1.22, 0.25, 0.74, -1.40\n",
      "    True sol: 0, 0, 0, 0, 1, 0, 0, 0, 0, 1, 0, 0, 0, 0, 1, 0, 0, 0, 0, 1, 0, 0, 0, 0, 1, 0, 0, 0, 0, 1, 0, 0, 0, 0, 1, 0, 0, 0, 0, 1, True obj: 14.79\n",
      "    Pred sol: 0, 0, 0, 0, 1, 0, 0, 0, 0, 1, 0, 0, 0, 0, 1, 0, 0, 0, 0, 1, 0, 0, 0, 0, 1, 0, 0, 0, 0, 1, 0, 0, 0, 0, 1, 0, 0, 0, 0, 1, Pred obj: 14.79\n",
      "\n",
      "Sample 7:\n",
      "    True cost: 1.22, 2.24, 2.34, 1.84, 1.62, 1.45, 2.07, 2.13, 1.62, 1.95, 1.45, 1.84, 1.74, 2.13, 1.56, 2.13, 2.46, 2.57, 2.75, 1.45, 1.84, 2.57, 1.84, 1.95, 1.72, 2.07, 1.56, 1.56, 2.52, 2.01, 2.46, 1.74, 2.46, 2.24, 2.34, 2.01, 2.07, 2.01, 2.86, 2.57\n",
      "    Pred cost: 0.23, 1.14, 0.74, -1.09, 0.97, -0.88, -0.61, 0.93, -0.88, -0.91, -0.18, -0.45, 0.11, 0.03, -0.16, 0.01, 0.37, -0.58, 0.21, -0.54, -0.91, 0.22, 0.42, 0.61, -0.39, 0.84, 0.17, 0.46, -0.03, 0.36, -0.16, 0.44, -1.05, -0.09, -0.12, -0.52, 0.77, 0.29, 1.04, -0.21\n",
      "    True sol: 1, 0, 0, 0, 0, 1, 0, 0, 0, 0, 0, 0, 0, 0, 1, 0, 0, 0, 0, 1, 1, 1, 0, 0, 0, 0, 1, 0, 0, 0, 0, 0, 0, 0, 0, 1, 0, 0, 0, 0, True obj: 13.66\n",
      "    Pred sol: 1, 0, 0, 0, 0, 1, 0, 0, 0, 0, 0, 0, 0, 0, 1, 0, 0, 0, 0, 1, 1, 1, 0, 0, 0, 0, 1, 0, 0, 0, 0, 0, 0, 0, 0, 1, 0, 0, 0, 0, Pred obj: 13.66\n",
      "\n",
      "Sample 8:\n",
      "    True cost: 3.40, 2.89, 2.34, 2.93, 3.36, 3.36, 2.92, 3.47, 2.97, 2.75, 3.36, 2.96, 3.51, 3.47, 2.79, 3.47, 2.49, 2.30, 3.02, 3.36, 2.96, 2.30, 3.32, 2.38, 2.79, 2.92, 2.79, 2.79, 3.06, 2.93, 2.88, 3.51, 2.88, 2.89, 2.34, 2.93, 2.92, 2.93, 2.45, 2.30\n",
      "    Pred cost: 0.18, -0.19, 0.40, -0.93, 0.31, 0.18, -0.64, 0.93, -1.39, -0.49, -0.07, -0.78, 1.28, 0.28, -0.38, -0.07, -0.08, -0.28, -0.34, -0.31, 0.21, -0.52, 0.35, -0.72, -0.05, 0.04, 0.31, -0.31, -0.31, -0.08, 0.18, -0.16, 0.34, -0.33, -0.34, 0.08, -0.23, 0.17, -0.08, -0.39\n",
      "    True sol: 0, 0, 0, 0, 1, 0, 0, 0, 0, 1, 0, 0, 0, 0, 1, 0, 0, 0, 0, 0, 0, 0, 0, 1, 0, 0, 0, 0, 0, 0, 0, 0, 1, 0, 0, 0, 0, 1, 1, 1, True obj: 21.84\n",
      "    Pred sol: 0, 0, 0, 0, 1, 0, 0, 0, 0, 1, 0, 0, 0, 0, 1, 0, 0, 0, 0, 0, 0, 0, 0, 1, 0, 0, 0, 0, 1, 1, 0, 0, 0, 0, 1, 0, 0, 0, 0, 1, Pred obj: 21.92\n",
      "\n",
      "Sample 9:\n",
      "    True cost: 4.24, 2.50, 2.34, 2.56, 4.18, 3.78, 2.87, 3.43, 3.01, 2.80, 3.78, 3.32, 3.48, 3.43, 2.86, 3.43, 1.64, 1.89, 2.51, 3.78, 3.32, 1.89, 3.73, 2.40, 3.26, 2.87, 2.86, 2.86, 2.97, 2.96, 2.81, 3.48, 2.81, 2.50, 2.34, 2.96, 2.87, 2.96, 1.59, 1.89\n",
      "    Pred cost: 0.17, -1.24, 0.04, -0.56, -0.10, 0.55, -0.50, 0.89, -1.33, -0.03, 0.00, -0.84, 1.84, 0.37, -0.12, 0.01, -0.62, -0.52, -0.40, -0.24, 0.70, -0.86, 0.79, -1.21, 0.23, -0.04, 0.52, -0.90, -0.52, -0.05, 0.23, -0.20, 1.00, -0.40, -0.53, 0.40, -0.99, 0.02, -1.36, -0.14\n",
      "    True sol: 0, 0, 0, 0, 1, 0, 0, 0, 0, 1, 0, 0, 0, 0, 1, 0, 0, 0, 0, 0, 0, 0, 0, 1, 0, 0, 0, 0, 1, 0, 0, 0, 0, 1, 0, 0, 0, 0, 1, 1, True obj: 21.19\n",
      "    Pred sol: 0, 0, 0, 0, 1, 0, 0, 0, 0, 1, 0, 0, 0, 0, 1, 0, 0, 0, 0, 0, 0, 0, 0, 1, 0, 0, 0, 0, 1, 0, 0, 0, 0, 1, 0, 0, 0, 0, 1, 1, Pred obj: 21.19\n",
      "\n"
     ]
    }
   ],
   "source": [
    "# compare solutions\n",
    "lr.eval()\n",
    "loss = []\n",
    "# load data\n",
    "for i, data in enumerate(sp_loader_test):\n",
    "    x, c, w, z = data\n",
    "    # predicy\n",
    "    x, c, w, z = x.cuda(), c.cuda(), w.cuda(), z.cuda()\n",
    "    cp = lr(x)\n",
    "    # convert to numpy\n",
    "    c = c.to('cpu').detach().numpy().tolist()\n",
    "    w = w.to('cpu').detach().numpy().tolist()\n",
    "    z = z.to('cpu').detach().numpy().tolist()\n",
    "    cp = cp.to('cpu').detach().numpy().tolist()\n",
    "    for j in range(min(10, batch_size)):\n",
    "        print('Sample {}:'.format(j))\n",
    "        print('    True cost:', ', '.join(['{:.2f}'.format(cost) for cost in c[j]]))\n",
    "        print('    Pred cost:', ', '.join(['{:.2f}'.format(cost) for cost in cp[j]]))\n",
    "        # solve cost from prediction\n",
    "        sp_model.setObj(cp[j])\n",
    "        wpj, _ = sp_model.solve()\n",
    "        zpj = np.dot(c[j], wpj)\n",
    "        print('    True sol: ' + ', '.join(['{:.0f}'.format(x) for x in w[j]]) + ', True obj: {:.2f}'.format(z[j][0]))\n",
    "        print('    Pred sol: '+  ', '.join(['{:.0f}'.format(x) for x in wpj]) + ', Pred obj: {:.2f}'.format(zpj))\n",
    "        print()\n",
    "    break"
   ]
  },
  {
   "cell_type": "code",
   "execution_count": null,
   "id": "copyrighted-population",
   "metadata": {},
   "outputs": [],
   "source": []
  }
 ],
 "metadata": {
  "kernelspec": {
   "display_name": "Python 3",
   "language": "python",
   "name": "python3"
  },
  "language_info": {
   "codemirror_mode": {
    "name": "ipython",
    "version": 3
   },
   "file_extension": ".py",
   "mimetype": "text/x-python",
   "name": "python",
   "nbconvert_exporter": "python",
   "pygments_lexer": "ipython3",
   "version": "3.7.9"
  }
 },
 "nbformat": 4,
 "nbformat_minor": 5
}
