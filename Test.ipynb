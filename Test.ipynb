{
 "cells": [
  {
   "cell_type": "markdown",
   "id": "naval-blade",
   "metadata": {},
   "source": [
    "## Optimization model "
   ]
  },
  {
   "cell_type": "code",
   "execution_count": 1,
   "id": "accredited-pearl",
   "metadata": {},
   "outputs": [],
   "source": [
    "from model import shortestPathModel"
   ]
  },
  {
   "cell_type": "code",
   "execution_count": 2,
   "id": "declared-brunswick",
   "metadata": {},
   "outputs": [
    {
     "name": "stdout",
     "output_type": "stream",
     "text": [
      "Academic license - for non-commercial use only - expires 2021-04-13\n",
      "Using license file C:\\Users\\Apocrypse\\gurobi.lic\n"
     ]
    }
   ],
   "source": [
    "# model for shortest path\n",
    "grid = (5,5)\n",
    "sp_model = shortestPathModel(grid)"
   ]
  },
  {
   "cell_type": "code",
   "execution_count": 3,
   "id": "precious-employee",
   "metadata": {},
   "outputs": [
    {
     "name": "stdout",
     "output_type": "stream",
     "text": [
      "Obj: 8.0\n",
      "(0, 1)\n",
      "(1, 2)\n",
      "(2, 3)\n",
      "(3, 4)\n",
      "(4, 9)\n",
      "(9, 14)\n",
      "(14, 19)\n",
      "(19, 24)\n"
     ]
    }
   ],
   "source": [
    "# solve\n",
    "sp_model.setObj([1 for i in range(40)])\n",
    "sol, obj = sp_model.solve()\n",
    "print('Obj: {}'.format(obj))\n",
    "for i, e in enumerate(sp_model.arcs):\n",
    "    if sol[i] > 1e-3:\n",
    "        print(e)"
   ]
  },
  {
   "cell_type": "markdown",
   "id": "directed-consultancy",
   "metadata": {},
   "source": [
    "## Data Loader"
   ]
  },
  {
   "cell_type": "code",
   "execution_count": 4,
   "id": "little-diversity",
   "metadata": {},
   "outputs": [],
   "source": [
    "from data import shortestpath, dataset\n",
    "from sklearn.model_selection import train_test_split\n",
    "from torch.utils.data import DataLoader"
   ]
  },
  {
   "cell_type": "code",
   "execution_count": 5,
   "id": "relative-cherry",
   "metadata": {},
   "outputs": [],
   "source": [
    "# generate data for grid network (features and costs)\n",
    "n = 1000 # number of data\n",
    "p = 5 # size of feature\n",
    "deg = 4 # polynomial kernel\n",
    "x, c = shortestpath.genData(n+1000, p, grid, deg=deg)"
   ]
  },
  {
   "cell_type": "code",
   "execution_count": 6,
   "id": "regulated-freeware",
   "metadata": {},
   "outputs": [],
   "source": [
    "# data split\n",
    "x_train, x_test, c_train, c_test = train_test_split(x, c, test_size=1000, random_state=246)"
   ]
  },
  {
   "cell_type": "code",
   "execution_count": 7,
   "id": "human-praise",
   "metadata": {},
   "outputs": [
    {
     "name": "stdout",
     "output_type": "stream",
     "text": [
      "Optimizing for optDataset...\n"
     ]
    },
    {
     "name": "stderr",
     "output_type": "stream",
     "text": [
      "100%|█████████████████████████████████████████████████████████████████████| 1000/1000 [00:03<00:00, 321.44it/s]\n"
     ]
    }
   ],
   "source": [
    "# get training data set\n",
    "sp_dataset_train = dataset.optDataset(sp_model, x_train, c_train)"
   ]
  },
  {
   "cell_type": "code",
   "execution_count": 8,
   "id": "immune-interpretation",
   "metadata": {},
   "outputs": [
    {
     "name": "stdout",
     "output_type": "stream",
     "text": [
      "Optimizing for optDataset...\n"
     ]
    },
    {
     "name": "stderr",
     "output_type": "stream",
     "text": [
      "100%|█████████████████████████████████████████████████████████████████████| 1000/1000 [00:02<00:00, 374.04it/s]\n"
     ]
    }
   ],
   "source": [
    "# get training data set\n",
    "sp_dataset_test = dataset.optDataset(sp_model, x_test, c_test)"
   ]
  },
  {
   "cell_type": "code",
   "execution_count": 9,
   "id": "incident-kinase",
   "metadata": {},
   "outputs": [],
   "source": [
    "# get data loader\n",
    "batch_size = 32\n",
    "sp_loader_train = DataLoader(sp_dataset_train, batch_size=batch_size, shuffle=True)\n",
    "sp_loader_test = DataLoader(sp_dataset_test, batch_size=batch_size, shuffle=False)"
   ]
  },
  {
   "cell_type": "code",
   "execution_count": 10,
   "id": "intellectual-softball",
   "metadata": {},
   "outputs": [],
   "source": [
    "for i, data in enumerate(sp_loader_train):\n",
    "    x, c, w, z = data\n",
    "    break"
   ]
  },
  {
   "cell_type": "code",
   "execution_count": 11,
   "id": "instant-polymer",
   "metadata": {},
   "outputs": [
    {
     "data": {
      "text/plain": [
       "torch.Size([32, 5])"
      ]
     },
     "execution_count": 11,
     "metadata": {},
     "output_type": "execute_result"
    }
   ],
   "source": [
    "x.shape"
   ]
  },
  {
   "cell_type": "code",
   "execution_count": 12,
   "id": "known-framing",
   "metadata": {},
   "outputs": [
    {
     "data": {
      "text/plain": [
       "torch.Size([32, 40])"
      ]
     },
     "execution_count": 12,
     "metadata": {},
     "output_type": "execute_result"
    }
   ],
   "source": [
    "c.shape"
   ]
  },
  {
   "cell_type": "code",
   "execution_count": 13,
   "id": "partial-algeria",
   "metadata": {},
   "outputs": [
    {
     "data": {
      "text/plain": [
       "torch.Size([32, 40])"
      ]
     },
     "execution_count": 13,
     "metadata": {},
     "output_type": "execute_result"
    }
   ],
   "source": [
    "w.shape"
   ]
  },
  {
   "cell_type": "code",
   "execution_count": 14,
   "id": "known-contemporary",
   "metadata": {},
   "outputs": [
    {
     "data": {
      "text/plain": [
       "torch.Size([32, 1])"
      ]
     },
     "execution_count": 14,
     "metadata": {},
     "output_type": "execute_result"
    }
   ],
   "source": [
    "z.shape"
   ]
  },
  {
   "cell_type": "markdown",
   "id": "technological-queue",
   "metadata": {},
   "source": [
    "## Linear Regression "
   ]
  },
  {
   "cell_type": "code",
   "execution_count": 15,
   "id": "shaped-wonder",
   "metadata": {},
   "outputs": [],
   "source": [
    "import torch\n",
    "from torch import nn"
   ]
  },
  {
   "cell_type": "code",
   "execution_count": 16,
   "id": "fresh-adolescent",
   "metadata": {},
   "outputs": [],
   "source": [
    "# build linear model\n",
    "class LinearRegression(nn.Module):\n",
    "    \n",
    "    def __init__(self):\n",
    "        super(LinearRegression, self).__init__()\n",
    "        self.linear = nn.Linear(p, (grid[0] - 1) * grid[1] + (grid[1] - 1) * grid[0])\n",
    "    \n",
    "    def forward(self, x):\n",
    "        out = self.linear(x)\n",
    "        return out"
   ]
  },
  {
   "cell_type": "markdown",
   "id": "accessible-clerk",
   "metadata": {},
   "source": [
    "## Training SPO+"
   ]
  },
  {
   "cell_type": "code",
   "execution_count": 17,
   "id": "challenging-reservation",
   "metadata": {},
   "outputs": [],
   "source": [
    "from matplotlib import pyplot as plt"
   ]
  },
  {
   "cell_type": "code",
   "execution_count": 18,
   "id": "unknown-humanitarian",
   "metadata": {},
   "outputs": [],
   "source": [
    "from func import SPOPlus"
   ]
  },
  {
   "cell_type": "code",
   "execution_count": 19,
   "id": "interior-secondary",
   "metadata": {},
   "outputs": [],
   "source": [
    "# init model\n",
    "lr = LinearRegression()\n",
    "# cuda\n",
    "if torch.cuda.is_available():\n",
    "    lr = lr.cuda()"
   ]
  },
  {
   "cell_type": "code",
   "execution_count": 20,
   "id": "asian-screening",
   "metadata": {},
   "outputs": [],
   "source": [
    "# set optimizer\n",
    "optimizer = torch.optim.Adam(lr.parameters(), lr=5e-2)"
   ]
  },
  {
   "cell_type": "code",
   "execution_count": 21,
   "id": "directed-composition",
   "metadata": {},
   "outputs": [],
   "source": [
    "# init SPO+ loss\n",
    "criterion = SPOPlus()"
   ]
  },
  {
   "cell_type": "code",
   "execution_count": 22,
   "id": "framed-classification",
   "metadata": {
    "scrolled": false
   },
   "outputs": [
    {
     "name": "stdout",
     "output_type": "stream",
     "text": [
      "epoch 10, loss:534.430420\n",
      "epoch 20, loss:70.406067\n",
      "epoch 30, loss:46.198250\n",
      "epoch 40, loss:152.569794\n",
      "epoch 50, loss:32.356163\n",
      "epoch 60, loss:27.532219\n",
      "epoch 70, loss:154.474396\n",
      "epoch 80, loss:28.524748\n",
      "epoch 90, loss:27.650135\n",
      "epoch 100, loss:11.086195\n",
      "epoch 110, loss:3.499424\n",
      "epoch 120, loss:9.965139\n",
      "epoch 130, loss:110.332039\n",
      "epoch 140, loss:7.537773\n",
      "epoch 150, loss:9.000134\n",
      "epoch 160, loss:0.701704\n",
      "epoch 170, loss:2.768791\n",
      "epoch 180, loss:16.373608\n",
      "epoch 190, loss:8.511169\n",
      "epoch 200, loss:9.372612\n",
      "epoch 210, loss:27.721537\n",
      "epoch 220, loss:2.128599\n",
      "epoch 230, loss:36.586983\n",
      "epoch 240, loss:9.656429\n",
      "epoch 250, loss:2.176632\n",
      "epoch 260, loss:15.577792\n",
      "epoch 270, loss:0.000023\n",
      "epoch 280, loss:40.967201\n",
      "epoch 290, loss:36.964108\n",
      "epoch 300, loss:1.915237\n",
      "epoch 310, loss:101.321167\n",
      "epoch 320, loss:8.840769\n",
      "epoch 330, loss:3.699295\n",
      "epoch 340, loss:5.309799\n",
      "epoch 350, loss:0.000010\n",
      "epoch 360, loss:12.580271\n",
      "epoch 370, loss:7.165771\n",
      "epoch 380, loss:49.167603\n",
      "epoch 390, loss:32.447983\n",
      "epoch 400, loss:15.701832\n"
     ]
    }
   ],
   "source": [
    "# train model\n",
    "num_epochs = 400\n",
    "lr.train()\n",
    "loss_log = []\n",
    "for epoch in range(num_epochs):\n",
    "    # load data\n",
    "    for i, data in enumerate(sp_loader_train):\n",
    "        x, c, w, z = data\n",
    "        # cuda\n",
    "        if torch.cuda.is_available():\n",
    "            x, c, w, z = x.cuda(), c.cuda(), w.cuda(), z.cuda()\n",
    "        # forward pass\n",
    "        cp = lr(x)\n",
    "        loss = criterion.apply(sp_model, cp, c, w, z).mean()\n",
    "        # backward pass\n",
    "        optimizer.zero_grad()\n",
    "        loss.backward()\n",
    "        optimizer.step()\n",
    "    loss_log.append(loss.item())\n",
    "    if (epoch + 1) % 10 == 0:\n",
    "        print('epoch {}, loss:{:.6f}'.format(epoch+1, loss.item()))"
   ]
  },
  {
   "cell_type": "code",
   "execution_count": 23,
   "id": "cheap-thought",
   "metadata": {},
   "outputs": [
    {
     "data": {
      "image/png": "[encoded data removed]",
      "text/plain": [
       "<Figure size 864x432 with 1 Axes>"
      ]
     },
     "metadata": {
      "needs_background": "light"
     },
     "output_type": "display_data"
    }
   ],
   "source": [
    "# draw plot\n",
    "plt.figure(figsize=(12, 6))\n",
    "plt.plot(loss_log, color='c')\n",
    "plt.xlabel('Epoch')\n",
    "plt.ylabel('SPO+ Loss')\n",
    "plt.title('Learning Curve')\n",
    "plt.show()"
   ]
  },
  {
   "cell_type": "markdown",
   "id": "industrial-opposition",
   "metadata": {},
   "source": [
    "## Evaluation "
   ]
  },
  {
   "cell_type": "code",
   "execution_count": 24,
   "id": "precise-brunswick",
   "metadata": {},
   "outputs": [],
   "source": [
    "import numpy as np\n",
    "from evalm import SPOEval"
   ]
  },
  {
   "cell_type": "code",
   "execution_count": 25,
   "id": "scheduled-championship",
   "metadata": {},
   "outputs": [
    {
     "name": "stdout",
     "output_type": "stream",
     "text": [
      "Normalized SPO Loss: 0.40%\n"
     ]
    }
   ],
   "source": [
    "# evaluate\n",
    "spoloss = SPOEval(lr, sp_model, sp_loader_test)\n",
    "print('Normalized SPO Loss: {:.2f}%'.format(spoloss * 100))"
   ]
  },
  {
   "cell_type": "code",
   "execution_count": 26,
   "id": "communist-destiny",
   "metadata": {
    "scrolled": false
   },
   "outputs": [
    {
     "name": "stdout",
     "output_type": "stream",
     "text": [
      "Sample 0:\n",
      "    True cost: 35.78, 26.44, 82.00, 4.47, 120.99, 13.57, 9.10, 32.00, 14.31, 50.36, 13.57, 25.84, 5.78, 32.00, 10.80, 32.00, 2.86, 37.30, 22.91, 13.57, 25.84, 37.30, 59.39, 21.15, 105.33, 9.10, 10.80, 10.80, 54.85, 61.69, 44.51, 5.78, 44.51, 26.44, 82.00, 61.69, 9.10, 61.69, 18.65, 37.30\n",
      "    Pred cost: -91.91, -5.70, 13.09, 4.66, 92.55, -99.08, -26.04, -1.02, 6.73, 81.49, -10.43, -100.93, -33.53, 33.18, -27.17, 72.24, -86.37, -12.41, 42.14, -22.17, -39.44, -30.33, -0.72, 34.86, 57.47, -73.05, -24.60, 6.68, 33.08, 113.82, 15.38, -16.37, 16.83, -40.38, 29.98, -1.55, -16.38, 2.71, -34.97, 0.19\n",
      "    True sol: 1, 0, 0, 0, 0, 1, 0, 0, 0, 0, 1, 1, 0, 0, 0, 0, 1, 0, 0, 0, 0, 1, 0, 0, 0, 0, 1, 0, 0, 0, 0, 0, 0, 0, 0, 1, 0, 0, 0, 0, True obj: 201.43\n",
      "    Pred sol: 1, 0, 0, 0, 0, 1, 0, 0, 0, 0, 1, 1, 0, 0, 0, 0, 1, 0, 0, 0, 0, 0, 0, 0, 0, 1, 0, 0, 0, 0, 1, 0, 0, 0, 0, 1, 0, 0, 0, 0, Pred obj: 206.94\n",
      "\n",
      "Sample 1:\n",
      "    True cost: 1.41, 99.22, 82.00, 19.81, 13.06, 2.75, 12.75, 55.24, 9.98, 50.27, 2.75, 6.06, 8.38, 55.24, 7.29, 55.24, 61.13, 127.15, 137.13, 2.75, 6.06, 127.15, 25.07, 15.00, 28.89, 12.75, 7.29, 7.29, 89.19, 62.18, 73.40, 8.38, 73.40, 99.22, 82.00, 62.18, 12.75, 62.18, 220.73, 127.15\n",
      "    Pred cost: -128.51, 98.38, 80.97, 11.99, 129.63, -227.69, 52.93, 157.87, 12.50, 34.29, -80.95, -84.53, -89.22, 114.78, -118.87, 26.63, 29.71, -35.54, 114.20, -121.92, -117.50, -19.75, 16.27, 112.02, 11.14, -88.38, -38.64, 14.58, 93.44, 17.18, -27.05, 12.08, 49.21, 87.80, -30.46, -56.18, 12.91, 50.99, 111.56, 56.73\n",
      "    True sol: 1, 0, 0, 0, 0, 1, 0, 0, 0, 0, 0, 0, 0, 0, 1, 0, 0, 0, 0, 1, 1, 0, 0, 0, 0, 1, 0, 0, 0, 0, 1, 0, 0, 0, 0, 1, 0, 0, 0, 0, True obj: 168.59\n",
      "    Pred sol: 1, 0, 0, 0, 0, 1, 0, 0, 0, 0, 0, 0, 0, 0, 1, 0, 0, 0, 0, 1, 1, 0, 0, 0, 0, 1, 0, 0, 0, 0, 1, 0, 0, 0, 0, 1, 0, 0, 0, 0, Pred obj: 168.59\n",
      "\n",
      "Sample 2:\n",
      "    True cost: 50.78, 241.73, 82.00, 137.10, 103.22, 103.82, 55.84, 179.58, 70.51, 254.74, 103.82, 24.14, 97.25, 179.58, 145.60, 179.58, 76.99, 155.94, 104.88, 103.82, 24.14, 155.94, 189.99, 38.62, 144.83, 55.84, 145.60, 145.60, 51.40, 136.35, 111.84, 97.25, 111.84, 241.73, 82.00, 136.35, 55.84, 136.35, 146.98, 155.94\n",
      "    Pred cost: -53.70, 25.61, 52.58, 3.60, 53.92, -82.72, -23.18, 113.17, 4.33, 68.75, -10.43, -84.46, 30.94, -0.96, -12.21, 51.16, -53.77, 21.77, -31.27, 9.56, -66.07, -6.10, 60.86, -57.02, 105.41, -90.91, 17.12, 61.99, -33.17, 18.43, -13.32, 14.18, 19.60, 62.99, -56.62, -5.45, 13.98, 26.21, 73.35, 4.46\n",
      "    True sol: 1, 0, 0, 0, 0, 1, 0, 0, 0, 0, 1, 1, 0, 0, 0, 0, 1, 0, 0, 0, 0, 0, 0, 0, 0, 1, 0, 0, 0, 0, 0, 0, 0, 0, 1, 0, 0, 0, 0, 1, True obj: 653.33\n",
      "    Pred sol: 1, 0, 0, 0, 0, 1, 0, 0, 0, 0, 1, 1, 0, 0, 0, 0, 1, 0, 0, 0, 0, 0, 0, 0, 0, 1, 0, 0, 0, 0, 0, 0, 0, 0, 1, 0, 0, 0, 0, 1, Pred obj: 653.33\n",
      "\n",
      "Sample 3:\n",
      "    True cost: 52.69, 177.66, 82.00, 171.06, 55.40, 127.06, 255.85, 258.60, 75.89, 84.70, 127.06, 123.38, 249.84, 258.60, 80.95, 258.60, 329.09, 182.31, 468.93, 127.06, 123.38, 182.31, 132.33, 78.34, 31.77, 255.85, 80.95, 80.95, 252.30, 79.46, 264.77, 249.84, 264.77, 177.66, 82.00, 79.46, 255.85, 79.46, 339.86, 182.31\n",
      "    Pred cost: -12.05, 23.34, -13.39, -86.61, 13.35, -31.10, 52.46, 157.92, -88.34, -111.90, -5.61, 25.48, 43.35, 115.40, -112.21, 8.53, 72.74, -58.75, 93.45, -53.67, 21.60, -10.45, 45.09, 20.55, -62.82, 63.50, -57.43, 5.29, 29.53, -87.86, 32.05, 81.53, -30.80, 64.32, -53.86, -7.19, 81.18, 31.05, 76.48, 9.76\n",
      "    True sol: 0, 0, 0, 0, 1, 0, 0, 0, 0, 1, 0, 0, 0, 0, 1, 0, 0, 0, 0, 1, 0, 0, 0, 0, 1, 0, 0, 0, 0, 1, 0, 0, 0, 0, 1, 0, 0, 0, 0, 1, True obj: 723.65\n",
      "    Pred sol: 0, 0, 0, 0, 1, 0, 0, 0, 0, 1, 0, 0, 0, 0, 1, 0, 0, 0, 0, 1, 0, 0, 0, 0, 1, 0, 0, 0, 0, 1, 0, 0, 0, 0, 1, 0, 0, 0, 0, 1, Pred obj: 723.65\n",
      "\n",
      "Sample 4:\n",
      "    True cost: 336.30, 169.28, 82.00, 260.17, 224.97, 400.59, 261.36, 261.17, 214.04, 177.69, 400.59, 215.08, 385.02, 261.17, 271.78, 261.17, 161.30, 104.79, 162.01, 400.59, 215.08, 104.79, 272.81, 136.31, 143.34, 261.36, 271.78, 271.78, 130.02, 136.19, 170.15, 385.02, 170.15, 169.28, 82.00, 136.19, 261.36, 136.19, 99.16, 104.79\n",
      "    Pred cost: 50.88, -43.57, -31.49, -57.96, -50.66, 95.49, -27.84, 43.98, -58.60, -48.50, 47.97, 14.53, 121.21, -13.38, 11.37, 22.49, -27.19, 10.24, -37.76, 52.60, 52.50, -6.21, 42.24, -85.63, 15.59, 37.07, 4.02, 16.86, -56.34, -25.43, 41.87, 49.81, -49.65, -10.00, -34.83, 43.71, 48.77, -7.75, -13.65, -43.31\n",
      "    True sol: 0, 0, 0, 0, 1, 0, 0, 0, 0, 0, 0, 0, 0, 1, 0, 0, 0, 0, 1, 0, 0, 0, 0, 1, 0, 0, 0, 0, 1, 1, 0, 0, 0, 0, 1, 0, 0, 0, 0, 1, True obj: 1237.46\n",
      "    Pred sol: 0, 0, 0, 0, 1, 0, 0, 0, 0, 0, 0, 0, 0, 1, 0, 0, 0, 0, 1, 0, 0, 0, 0, 1, 0, 0, 0, 0, 1, 1, 0, 0, 0, 0, 1, 0, 0, 0, 0, 1, Pred obj: 1237.46\n",
      "\n",
      "Sample 5:\n",
      "    True cost: 24.08, 87.85, 82.00, 91.70, 22.71, 82.66, 199.20, 77.49, 27.64, 89.62, 82.66, 75.50, 80.99, 77.49, 93.53, 77.49, 216.63, 212.65, 189.10, 82.66, 75.50, 212.65, 79.10, 85.65, 26.81, 199.20, 93.53, 93.53, 70.68, 26.11, 192.26, 80.99, 192.26, 87.85, 82.00, 26.11, 199.20, 26.11, 209.24, 212.65\n",
      "    Pred cost: 4.43, 29.30, 2.96, -59.99, -3.91, -20.99, 42.32, 135.39, -61.64, -20.30, -22.91, 52.30, 30.88, 13.94, -18.64, -47.17, 101.47, -40.87, 8.56, -20.18, 23.06, 19.29, 6.89, 7.78, -64.55, 73.91, -26.10, 1.40, 0.00, -110.01, -38.89, 18.28, 17.44, 54.83, -1.28, -53.47, 19.03, 24.12, 62.56, 54.57\n",
      "    True sol: 1, 0, 0, 0, 0, 1, 0, 0, 0, 0, 1, 0, 0, 0, 0, 1, 0, 0, 0, 0, 0, 0, 0, 0, 1, 0, 0, 0, 0, 1, 1, 0, 0, 0, 0, 1, 0, 0, 0, 0, True obj: 538.19\n",
      "    Pred sol: 0, 0, 0, 0, 1, 0, 0, 0, 0, 1, 1, 0, 0, 0, 0, 1, 0, 0, 0, 0, 0, 0, 0, 0, 1, 0, 0, 0, 0, 1, 1, 0, 0, 0, 0, 1, 0, 0, 0, 0, Pred obj: 543.77\n",
      "\n",
      "Sample 6:\n",
      "    True cost: 179.52, 100.50, 82.00, 171.02, 106.20, 328.90, 371.83, 150.00, 83.19, 145.50, 328.90, 206.94, 243.58, 150.00, 237.08, 150.00, 197.48, 168.97, 174.01, 328.90, 206.94, 168.97, 210.09, 143.11, 68.57, 371.83, 237.08, 237.08, 84.92, 43.83, 240.90, 243.58, 240.90, 100.50, 82.00, 43.83, 371.83, 43.83, 118.34, 168.97\n",
      "    Pred cost: 58.63, -37.53, -46.23, -86.44, -58.37, 97.12, -0.77, 75.02, -88.01, -40.98, 34.83, 66.81, 108.61, -27.99, 26.59, -23.85, 48.27, -24.11, -44.04, 53.16, 87.86, 16.82, 22.86, -74.99, -41.67, 106.64, -14.09, 8.05, -59.20, -96.53, 0.61, 32.92, -24.39, 3.61, -1.35, -5.28, 32.74, -1.21, 0.23, 6.02\n",
      "    True sol: 0, 0, 0, 0, 1, 0, 0, 0, 0, 0, 0, 0, 0, 1, 0, 0, 0, 0, 1, 0, 0, 0, 0, 1, 0, 0, 0, 0, 1, 1, 0, 0, 0, 0, 1, 0, 0, 0, 0, 1, True obj: 953.05\n",
      "    Pred sol: 0, 0, 0, 0, 1, 0, 0, 0, 0, 0, 0, 0, 0, 1, 0, 0, 0, 0, 1, 0, 0, 0, 0, 1, 0, 0, 0, 0, 1, 1, 1, 0, 0, 0, 0, 1, 0, 0, 0, 0, Pred obj: 986.81\n",
      "\n",
      "Sample 7:\n",
      "    True cost: 26.58, 19.99, 82.00, 59.43, 7.10, 7.95, 11.25, 1.46, 133.04, 24.84, 7.95, 34.98, 6.09, 1.46, 70.46, 1.46, 74.72, 32.81, 1.96, 7.95, 34.98, 32.81, 1.80, 183.86, 65.56, 11.25, 70.46, 70.46, 7.80, 55.14, 2.53, 6.09, 2.53, 19.99, 82.00, 55.14, 11.25, 55.14, 26.76, 32.81\n",
      "    Pred cost: 72.02, 85.75, 113.18, 128.28, -73.69, 6.76, -2.61, -47.49, 128.35, 99.93, -79.63, 52.27, -6.87, -178.12, 154.30, -152.75, 57.54, 114.30, -120.63, -37.79, -100.03, 23.30, -121.36, 102.12, -44.35, -65.09, 110.80, -79.52, 39.22, 20.86, -105.04, -99.82, 57.37, -33.53, 69.03, -32.38, -98.15, -22.81, -37.26, 30.44\n",
      "    True sol: 0, 0, 0, 0, 1, 0, 0, 0, 0, 0, 0, 0, 0, 1, 0, 0, 0, 0, 1, 1, 1, 0, 0, 0, 0, 1, 0, 0, 0, 0, 1, 0, 0, 0, 0, 1, 0, 0, 0, 0, True obj: 122.37\n",
      "    Pred sol: 0, 0, 0, 0, 1, 0, 0, 0, 0, 0, 0, 0, 0, 1, 0, 0, 0, 0, 1, 1, 1, 0, 0, 0, 0, 1, 0, 0, 0, 0, 1, 0, 0, 0, 0, 1, 0, 0, 0, 0, Pred obj: 122.37\n",
      "\n",
      "Sample 8:\n",
      "    True cost: 47.45, 204.97, 82.00, 144.75, 74.42, 83.16, 48.50, 122.62, 88.97, 206.34, 83.16, 25.52, 82.47, 122.62, 145.80, 122.62, 90.66, 134.63, 75.25, 83.16, 25.52, 134.63, 123.55, 52.85, 132.36, 48.50, 145.80, 145.80, 42.32, 131.38, 75.89, 82.47, 75.89, 204.97, 82.00, 131.38, 48.50, 131.38, 133.64, 134.63\n",
      "    Pred cost: -32.59, 38.28, 65.69, 24.02, 32.51, -69.72, -19.18, 95.71, 24.57, 69.98, -21.78, -63.72, 28.34, -27.25, 11.29, 19.39, -35.49, 38.92, -46.47, 1.42, -75.44, -1.31, 36.85, -35.51, 85.32, -90.58, 34.17, 42.90, -23.57, 14.89, -27.30, 0.04, 24.37, 55.03, -44.57, -8.13, 0.10, 20.34, 63.78, 7.05\n",
      "    True sol: 1, 0, 0, 0, 0, 1, 0, 0, 0, 0, 1, 1, 0, 0, 0, 0, 1, 0, 0, 0, 0, 0, 0, 0, 0, 1, 0, 0, 0, 0, 1, 0, 0, 0, 0, 1, 0, 0, 0, 0, True obj: 585.71\n",
      "    Pred sol: 1, 0, 0, 0, 0, 1, 0, 0, 0, 0, 1, 1, 0, 0, 0, 0, 1, 0, 0, 0, 0, 0, 0, 0, 0, 1, 0, 0, 0, 0, 0, 0, 0, 0, 1, 0, 0, 0, 0, 1, Pred obj: 595.08\n",
      "\n",
      "Sample 9:\n",
      "    True cost: 47.95, 141.92, 82.00, 163.43, 39.63, 72.39, 65.63, 68.57, 116.86, 128.53, 72.39, 43.03, 81.10, 68.57, 148.52, 68.57, 150.82, 118.04, 62.09, 72.39, 43.03, 118.04, 60.91, 96.31, 89.99, 65.63, 148.52, 148.52, 40.47, 100.24, 55.00, 81.10, 55.00, 141.92, 82.00, 100.24, 65.63, 100.24, 130.59, 118.04\n",
      "    Pred cost: 13.17, 49.59, 66.23, 31.52, -13.56, -27.68, -1.98, 76.08, 31.27, 42.35, -32.93, -4.94, 34.23, -55.66, 38.55, -39.40, 18.22, 47.69, -57.46, -11.00, -61.42, 9.02, -1.82, -0.87, 22.60, -49.71, 46.09, 5.73, -8.02, -18.65, -43.46, -11.18, 22.91, 40.48, -21.14, -15.20, -10.75, 10.73, 45.88, 14.59\n",
      "    True sol: 0, 0, 0, 0, 1, 0, 0, 0, 0, 0, 0, 0, 0, 1, 0, 0, 0, 0, 1, 1, 1, 0, 0, 0, 0, 1, 0, 0, 0, 0, 1, 0, 0, 0, 0, 1, 0, 0, 0, 0, True obj: 506.57\n",
      "    Pred sol: 0, 0, 0, 0, 1, 0, 0, 0, 0, 0, 0, 0, 0, 1, 0, 0, 0, 0, 1, 1, 1, 0, 0, 0, 0, 1, 0, 0, 0, 0, 1, 0, 0, 0, 0, 1, 0, 0, 0, 0, Pred obj: 506.57\n",
      "\n"
     ]
    }
   ],
   "source": [
    "# compare solutions\n",
    "lr.eval()\n",
    "loss = []\n",
    "# load data\n",
    "for i, data in enumerate(sp_loader_test):\n",
    "    x, c, w, z = data\n",
    "    # cuda\n",
    "    if torch.cuda.is_available():\n",
    "        x, c, w, z = x.cuda(), c.cuda(), w.cuda(), z.cuda()\n",
    "    # predict\n",
    "    cp = lr(x)\n",
    "    # convert to numpy\n",
    "    c = c.to('cpu').detach().numpy().tolist()\n",
    "    w = w.to('cpu').detach().numpy().tolist()\n",
    "    z = z.to('cpu').detach().numpy().tolist()\n",
    "    cp = cp.to('cpu').detach().numpy().tolist()\n",
    "    for j in range(min(10, batch_size)):\n",
    "        print('Sample {}:'.format(j))\n",
    "        print('    True cost:', ', '.join(['{:.2f}'.format(cost) for cost in c[j]]))\n",
    "        print('    Pred cost:', ', '.join(['{:.2f}'.format(cost) for cost in cp[j]]))\n",
    "        # solve cost from prediction\n",
    "        sp_model.setObj(cp[j])\n",
    "        wpj, _ = sp_model.solve()\n",
    "        zpj = np.dot(c[j], wpj)\n",
    "        print('    True sol: ' + ', '.join(['{:.0f}'.format(x) for x in w[j]]) + ', True obj: {:.2f}'.format(z[j][0]))\n",
    "        print('    Pred sol: '+  ', '.join(['{:.0f}'.format(x) for x in wpj]) + ', Pred obj: {:.2f}'.format(zpj))\n",
    "        print()\n",
    "    break"
   ]
  },
  {
   "cell_type": "markdown",
   "id": "alternative-brother",
   "metadata": {},
   "source": [
    "##  Training SPO+ with Regularization"
   ]
  },
  {
   "cell_type": "code",
   "execution_count": 27,
   "id": "driven-surveillance",
   "metadata": {},
   "outputs": [],
   "source": [
    "# init model\n",
    "lr = LinearRegression()\n",
    "# cuda\n",
    "if torch.cuda.is_available():\n",
    "    lr = lr.cuda()"
   ]
  },
  {
   "cell_type": "code",
   "execution_count": 28,
   "id": "annual-fortune",
   "metadata": {},
   "outputs": [],
   "source": [
    "# set optimizer\n",
    "optimizer = torch.optim.Adam(lr.parameters(), lr=5e-2)"
   ]
  },
  {
   "cell_type": "code",
   "execution_count": 29,
   "id": "maritime-crown",
   "metadata": {},
   "outputs": [],
   "source": [
    "# init SPO+ loss\n",
    "criterion = SPOPlus()"
   ]
  },
  {
   "cell_type": "code",
   "execution_count": 30,
   "id": "characteristic-gender",
   "metadata": {
    "scrolled": false
   },
   "outputs": [
    {
     "name": "stdout",
     "output_type": "stream",
     "text": [
      "epoch 10, loss:279.437103\n",
      "epoch 20, loss:190.248032\n",
      "epoch 30, loss:59.442696\n",
      "epoch 40, loss:154.577484\n",
      "epoch 50, loss:65.148697\n",
      "epoch 60, loss:3.442985\n",
      "epoch 70, loss:38.146526\n",
      "epoch 80, loss:74.654160\n",
      "epoch 90, loss:28.487610\n",
      "epoch 100, loss:14.986137\n",
      "epoch 110, loss:8.127003\n",
      "epoch 120, loss:39.859741\n",
      "epoch 130, loss:15.946823\n",
      "epoch 140, loss:62.924927\n",
      "epoch 150, loss:32.504391\n",
      "epoch 160, loss:25.155865\n",
      "epoch 170, loss:12.107728\n",
      "epoch 180, loss:14.292212\n",
      "epoch 190, loss:9.203152\n",
      "epoch 200, loss:18.338886\n",
      "epoch 210, loss:7.897903\n",
      "epoch 220, loss:7.588206\n",
      "epoch 230, loss:61.618851\n",
      "epoch 240, loss:8.709499\n",
      "epoch 250, loss:22.255260\n",
      "epoch 260, loss:32.939617\n",
      "epoch 270, loss:13.495226\n",
      "epoch 280, loss:7.224562\n",
      "epoch 290, loss:91.318085\n",
      "epoch 300, loss:18.860439\n",
      "epoch 310, loss:6.462228\n",
      "epoch 320, loss:13.625124\n",
      "epoch 330, loss:27.963985\n",
      "epoch 340, loss:14.911601\n",
      "epoch 350, loss:15.180235\n",
      "epoch 360, loss:9.231266\n",
      "epoch 370, loss:13.999145\n",
      "epoch 380, loss:4.180523\n",
      "epoch 390, loss:5.556330\n",
      "epoch 400, loss:40.317608\n"
     ]
    }
   ],
   "source": [
    "# train model\n",
    "num_epochs = 400\n",
    "lr.train()\n",
    "loss_log = []\n",
    "for epoch in range(num_epochs):\n",
    "    # load data\n",
    "    for i, data in enumerate(sp_loader_train):\n",
    "        x, c, w, z = data\n",
    "        # cuda\n",
    "        if torch.cuda.is_available():\n",
    "            x, c, w, z = x.cuda(), c.cuda(), w.cuda(), z.cuda()\n",
    "        # forward pass\n",
    "        cp = lr(x)\n",
    "        loss = criterion.apply(sp_model, cp, c, w, z).mean()\n",
    "        # l1 reg\n",
    "        l1_lambda = 1e-3\n",
    "        l1_reg = torch.abs(cp - c).sum(dim=1).mean()\n",
    "        loss += l1_lambda * l1_reg\n",
    "        # backward pass\n",
    "        optimizer.zero_grad()\n",
    "        loss.backward()\n",
    "        optimizer.step()\n",
    "    loss_log.append(loss.item())\n",
    "    if (epoch + 1) % 10 == 0:\n",
    "        print('epoch {}, loss:{:.6f}'.format(epoch+1, loss.item()))"
   ]
  },
  {
   "cell_type": "code",
   "execution_count": 31,
   "id": "closed-companion",
   "metadata": {},
   "outputs": [
    {
     "data": {
      "image/png": "[encoded data removed]",
      "text/plain": [
       "<Figure size 864x432 with 1 Axes>"
      ]
     },
     "metadata": {
      "needs_background": "light"
     },
     "output_type": "display_data"
    }
   ],
   "source": [
    "# draw plot\n",
    "plt.figure(figsize=(12, 6))\n",
    "plt.plot(loss_log, color='c')\n",
    "plt.xlabel('Epoch')\n",
    "plt.ylabel('SPO+ Loss with Regularization')\n",
    "plt.title('Learning Curve')\n",
    "plt.show()"
   ]
  },
  {
   "cell_type": "markdown",
   "id": "progressive-benefit",
   "metadata": {},
   "source": [
    "## Evaluation "
   ]
  },
  {
   "cell_type": "code",
   "execution_count": 32,
   "id": "julian-stone",
   "metadata": {},
   "outputs": [
    {
     "name": "stdout",
     "output_type": "stream",
     "text": [
      "Normalized SPO Loss: 0.41%\n"
     ]
    }
   ],
   "source": [
    "# evaluate\n",
    "spoloss = SPOEval(lr, sp_model, sp_loader_test)\n",
    "print('Normalized SPO Loss: {:.2f}%'.format(spoloss * 100))"
   ]
  },
  {
   "cell_type": "code",
   "execution_count": 33,
   "id": "presidential-vehicle",
   "metadata": {
    "scrolled": false
   },
   "outputs": [
    {
     "name": "stdout",
     "output_type": "stream",
     "text": [
      "Sample 0:\n",
      "    True cost: 35.78, 26.44, 82.00, 4.47, 120.99, 13.57, 9.10, 32.00, 14.31, 50.36, 13.57, 25.84, 5.78, 32.00, 10.80, 32.00, 2.86, 37.30, 22.91, 13.57, 25.84, 37.30, 59.39, 21.15, 105.33, 9.10, 10.80, 10.80, 54.85, 61.69, 44.51, 5.78, 44.51, 26.44, 82.00, 61.69, 9.10, 61.69, 18.65, 37.30\n",
      "    Pred cost: -93.50, -6.29, 6.84, -2.81, 93.15, -100.02, -15.75, -14.15, 1.43, 74.83, -16.39, -91.58, -41.13, 30.96, -21.49, 62.50, -89.45, -16.83, 34.25, -23.99, -30.02, -19.22, 1.02, 38.33, 54.22, -73.25, -27.62, 9.27, 42.82, 115.78, 20.87, -19.77, 13.81, -33.18, 33.54, -0.01, -23.79, 2.28, -33.65, 2.33\n",
      "    True sol: 1, 0, 0, 0, 0, 1, 0, 0, 0, 0, 1, 1, 0, 0, 0, 0, 1, 0, 0, 0, 0, 1, 0, 0, 0, 0, 1, 0, 0, 0, 0, 0, 0, 0, 0, 1, 0, 0, 0, 0, True obj: 201.43\n",
      "    Pred sol: 1, 0, 0, 0, 0, 1, 0, 0, 0, 0, 1, 1, 0, 0, 0, 0, 1, 0, 0, 0, 0, 0, 0, 0, 0, 1, 0, 0, 0, 0, 1, 0, 0, 0, 0, 1, 0, 0, 0, 0, Pred obj: 206.94\n",
      "\n",
      "Sample 1:\n",
      "    True cost: 1.41, 99.22, 82.00, 19.81, 13.06, 2.75, 12.75, 55.24, 9.98, 50.27, 2.75, 6.06, 8.38, 55.24, 7.29, 55.24, 61.13, 127.15, 137.13, 2.75, 6.06, 127.15, 25.07, 15.00, 28.89, 12.75, 7.29, 7.29, 89.19, 62.18, 73.40, 8.38, 73.40, 99.22, 82.00, 62.18, 12.75, 62.18, 220.73, 127.15\n",
      "    Pred cost: -138.66, 102.80, 61.14, 3.47, 119.18, -245.81, 69.32, 75.01, 3.43, 23.95, -102.89, -68.87, -54.56, 111.37, -112.86, 26.67, 24.17, -18.37, 108.71, -132.71, -127.82, -15.95, 17.36, 107.09, 3.87, -95.65, -43.93, 5.48, 105.55, 38.53, -18.93, 15.51, 36.82, 81.65, -23.05, -51.79, 13.94, 44.67, 108.08, 54.63\n",
      "    True sol: 1, 0, 0, 0, 0, 1, 0, 0, 0, 0, 0, 0, 0, 0, 1, 0, 0, 0, 0, 1, 1, 0, 0, 0, 0, 1, 0, 0, 0, 0, 1, 0, 0, 0, 0, 1, 0, 0, 0, 0, True obj: 168.59\n",
      "    Pred sol: 1, 0, 0, 0, 0, 1, 0, 0, 0, 0, 0, 0, 0, 0, 1, 0, 0, 0, 0, 1, 1, 0, 0, 0, 0, 1, 0, 0, 0, 0, 1, 0, 0, 0, 0, 1, 0, 0, 0, 0, Pred obj: 168.59\n",
      "\n",
      "Sample 2:\n",
      "    True cost: 50.78, 241.73, 82.00, 137.10, 103.22, 103.82, 55.84, 179.58, 70.51, 254.74, 103.82, 24.14, 97.25, 179.58, 145.60, 179.58, 76.99, 155.94, 104.88, 103.82, 24.14, 155.94, 189.99, 38.62, 144.83, 55.84, 145.60, 145.60, 51.40, 136.35, 111.84, 97.25, 111.84, 241.73, 82.00, 136.35, 55.84, 136.35, 146.98, 155.94\n",
      "    Pred cost: -53.91, 32.10, 46.05, 13.01, 56.30, -73.35, -14.45, 110.83, 11.04, 72.17, -10.33, -85.07, 34.98, 5.95, -3.48, 53.50, -50.30, 24.72, -32.34, 9.42, -61.26, 8.41, 69.72, -53.68, 109.17, -93.57, 19.21, 66.61, -23.51, 29.81, -10.43, 22.09, 9.43, 62.15, -48.23, -2.19, 17.77, 20.29, 70.18, 5.40\n",
      "    True sol: 1, 0, 0, 0, 0, 1, 0, 0, 0, 0, 1, 1, 0, 0, 0, 0, 1, 0, 0, 0, 0, 0, 0, 0, 0, 1, 0, 0, 0, 0, 0, 0, 0, 0, 1, 0, 0, 0, 0, 1, True obj: 653.33\n",
      "    Pred sol: 1, 0, 0, 0, 0, 1, 0, 0, 0, 0, 1, 1, 0, 0, 0, 0, 1, 0, 0, 0, 0, 0, 0, 0, 0, 1, 0, 0, 0, 0, 0, 0, 0, 0, 1, 0, 0, 0, 0, 1, Pred obj: 653.33\n",
      "\n",
      "Sample 3:\n",
      "    True cost: 52.69, 177.66, 82.00, 171.06, 55.40, 127.06, 255.85, 258.60, 75.89, 84.70, 127.06, 123.38, 249.84, 258.60, 80.95, 258.60, 329.09, 182.31, 468.93, 127.06, 123.38, 182.31, 132.33, 78.34, 31.77, 255.85, 80.95, 80.95, 252.30, 79.46, 264.77, 249.84, 264.77, 177.66, 82.00, 79.46, 255.85, 79.46, 339.86, 182.31\n",
      "    Pred cost: -12.96, 35.54, -16.95, -65.49, 22.46, -33.97, 79.88, 130.47, -70.67, -98.95, -7.94, 43.88, 86.59, 130.26, -102.23, 24.66, 76.81, -34.46, 112.22, -41.40, 31.87, 2.37, 50.79, 25.61, -61.34, 78.68, -47.58, 9.27, 44.43, -68.97, 45.39, 90.90, -12.81, 67.06, -40.63, -1.67, 93.91, 29.90, 77.52, 15.87\n",
      "    True sol: 0, 0, 0, 0, 1, 0, 0, 0, 0, 1, 0, 0, 0, 0, 1, 0, 0, 0, 0, 1, 0, 0, 0, 0, 1, 0, 0, 0, 0, 1, 0, 0, 0, 0, 1, 0, 0, 0, 0, 1, True obj: 723.65\n",
      "    Pred sol: 0, 0, 0, 0, 1, 0, 0, 0, 0, 1, 0, 0, 0, 0, 1, 0, 0, 0, 0, 1, 0, 0, 0, 0, 1, 0, 0, 0, 0, 1, 0, 0, 0, 0, 1, 0, 0, 0, 0, 1, Pred obj: 723.65\n",
      "\n",
      "Sample 4:\n",
      "    True cost: 336.30, 169.28, 82.00, 260.17, 224.97, 400.59, 261.36, 261.17, 214.04, 177.69, 400.59, 215.08, 385.02, 261.17, 271.78, 261.17, 161.30, 104.79, 162.01, 400.59, 215.08, 104.79, 272.81, 136.31, 143.34, 261.36, 271.78, 271.78, 130.02, 136.19, 170.15, 385.02, 170.15, 169.28, 82.00, 136.19, 261.36, 136.19, 99.16, 104.79\n",
      "    Pred cost: 60.32, -34.87, -24.49, -31.97, -33.10, 114.37, -10.07, 87.01, -34.27, -30.38, 63.81, 21.18, 125.61, 4.45, 21.02, 34.88, -16.01, 12.18, -21.29, 71.04, 76.70, 17.92, 52.90, -74.34, 24.15, 52.75, 18.13, 34.78, -46.89, -22.25, 46.89, 59.91, -32.43, 1.33, -24.99, 48.58, 58.58, -4.75, -10.22, -35.72\n",
      "    True sol: 0, 0, 0, 0, 1, 0, 0, 0, 0, 0, 0, 0, 0, 1, 0, 0, 0, 0, 1, 0, 0, 0, 0, 1, 0, 0, 0, 0, 1, 1, 0, 0, 0, 0, 1, 0, 0, 0, 0, 1, True obj: 1237.46\n",
      "    Pred sol: 0, 0, 0, 0, 1, 0, 0, 0, 0, 0, 0, 0, 0, 1, 0, 0, 0, 0, 1, 0, 0, 0, 0, 1, 0, 0, 0, 0, 1, 1, 0, 0, 0, 0, 1, 0, 0, 0, 0, 1, Pred obj: 1237.46\n",
      "\n",
      "Sample 5:\n",
      "    True cost: 24.08, 87.85, 82.00, 91.70, 22.71, 82.66, 199.20, 77.49, 27.64, 89.62, 82.66, 75.50, 80.99, 77.49, 93.53, 77.49, 216.63, 212.65, 189.10, 82.66, 75.50, 212.65, 79.10, 85.65, 26.81, 199.20, 93.53, 93.53, 70.68, 26.11, 192.26, 80.99, 192.26, 87.85, 82.00, 26.11, 199.20, 26.11, 209.24, 212.65\n",
      "    Pred cost: -0.89, 31.68, 1.51, -53.50, 3.44, -22.61, 59.52, 83.86, -57.93, -10.16, -20.72, 62.82, 54.29, 19.55, -8.32, -31.28, 98.13, -15.25, 24.42, -12.22, 30.88, 31.61, 6.78, 19.05, -64.16, 84.71, -16.29, 0.75, 9.91, -95.73, -25.90, 31.95, 23.73, 54.04, 7.66, -47.28, 41.13, 25.72, 63.38, 59.18\n",
      "    True sol: 1, 0, 0, 0, 0, 1, 0, 0, 0, 0, 1, 0, 0, 0, 0, 1, 0, 0, 0, 0, 0, 0, 0, 0, 1, 0, 0, 0, 0, 1, 1, 0, 0, 0, 0, 1, 0, 0, 0, 0, True obj: 538.19\n",
      "    Pred sol: 1, 0, 0, 0, 0, 1, 0, 0, 0, 0, 1, 0, 0, 0, 0, 1, 0, 0, 0, 0, 0, 0, 0, 0, 1, 0, 0, 0, 0, 1, 1, 0, 0, 0, 0, 1, 0, 0, 0, 0, Pred obj: 538.19\n",
      "\n",
      "Sample 6:\n",
      "    True cost: 179.52, 100.50, 82.00, 171.02, 106.20, 328.90, 371.83, 150.00, 83.19, 145.50, 328.90, 206.94, 243.58, 150.00, 237.08, 150.00, 197.48, 168.97, 174.01, 328.90, 206.94, 168.97, 210.09, 143.11, 68.57, 371.83, 237.08, 237.08, 84.92, 43.83, 240.90, 243.58, 240.90, 100.50, 82.00, 43.83, 371.83, 43.83, 118.34, 168.97\n",
      "    Pred cost: 61.40, -33.20, -37.06, -66.85, -40.06, 110.92, 16.33, 81.44, -71.43, -21.07, 51.13, 73.10, 115.58, -14.26, 38.11, -6.98, 51.41, -8.12, -22.41, 72.03, 110.36, 36.47, 26.89, -57.97, -35.21, 125.94, 1.56, 18.34, -49.59, -90.92, 12.18, 46.31, -6.64, 10.91, 8.34, -0.00, 53.86, 3.22, 3.71, 14.57\n",
      "    True sol: 0, 0, 0, 0, 1, 0, 0, 0, 0, 0, 0, 0, 0, 1, 0, 0, 0, 0, 1, 0, 0, 0, 0, 1, 0, 0, 0, 0, 1, 1, 0, 0, 0, 0, 1, 0, 0, 0, 0, 1, True obj: 953.05\n",
      "    Pred sol: 0, 0, 0, 0, 1, 0, 0, 0, 0, 0, 0, 0, 0, 1, 0, 0, 0, 0, 1, 0, 0, 0, 0, 1, 0, 0, 0, 0, 1, 1, 1, 0, 0, 0, 0, 1, 0, 0, 0, 0, Pred obj: 986.81\n",
      "\n",
      "Sample 7:\n",
      "    True cost: 26.58, 19.99, 82.00, 59.43, 7.10, 7.95, 11.25, 1.46, 133.04, 24.84, 7.95, 34.98, 6.09, 1.46, 70.46, 1.46, 74.72, 32.81, 1.96, 7.95, 34.98, 32.81, 1.80, 183.86, 65.56, 11.25, 70.46, 70.46, 7.80, 55.14, 2.53, 6.09, 2.53, 19.99, 82.00, 55.14, 11.25, 55.14, 26.76, 32.81\n",
      "    Pred cost: 77.68, 72.62, 103.94, 106.85, -78.98, 6.56, -0.57, -94.36, 115.64, 91.47, -74.60, 63.31, -16.25, -188.56, 155.06, -141.83, 62.17, 104.68, -122.16, -43.10, -98.54, 52.31, -119.33, 106.74, -46.41, -76.39, 119.54, -66.64, 30.98, 16.93, -116.15, -81.12, 39.32, -27.97, 64.13, -19.73, -81.49, -9.05, -32.40, 26.47\n",
      "    True sol: 0, 0, 0, 0, 1, 0, 0, 0, 0, 0, 0, 0, 0, 1, 0, 0, 0, 0, 1, 1, 1, 0, 0, 0, 0, 1, 0, 0, 0, 0, 1, 0, 0, 0, 0, 1, 0, 0, 0, 0, True obj: 122.37\n",
      "    Pred sol: 0, 0, 0, 0, 1, 0, 0, 0, 0, 0, 0, 0, 0, 1, 0, 0, 0, 0, 1, 1, 1, 0, 0, 0, 0, 1, 0, 0, 0, 0, 1, 0, 0, 0, 0, 1, 0, 0, 0, 0, Pred obj: 122.37\n",
      "\n",
      "Sample 8:\n",
      "    True cost: 47.45, 204.97, 82.00, 144.75, 74.42, 83.16, 48.50, 122.62, 88.97, 206.34, 83.16, 25.52, 82.47, 122.62, 145.80, 122.62, 90.66, 134.63, 75.25, 83.16, 25.52, 134.63, 123.55, 52.85, 132.36, 48.50, 145.80, 145.80, 42.32, 131.38, 75.89, 82.47, 75.89, 204.97, 82.00, 131.38, 48.50, 131.38, 133.64, 134.63\n",
      "    Pred cost: -31.59, 42.47, 58.37, 29.96, 33.60, -61.43, -11.27, 87.53, 29.35, 72.00, -20.92, -62.73, 31.89, -22.28, 18.85, 23.78, -31.06, 40.10, -47.31, 0.49, -71.61, 15.76, 45.36, -32.44, 88.57, -94.91, 37.53, 49.13, -16.65, 24.66, -26.97, 10.22, 12.64, 54.78, -37.88, -3.25, 6.11, 17.08, 61.57, 7.08\n",
      "    True sol: 1, 0, 0, 0, 0, 1, 0, 0, 0, 0, 1, 1, 0, 0, 0, 0, 1, 0, 0, 0, 0, 0, 0, 0, 0, 1, 0, 0, 0, 0, 1, 0, 0, 0, 0, 1, 0, 0, 0, 0, True obj: 585.71\n",
      "    Pred sol: 1, 0, 0, 0, 0, 1, 0, 0, 0, 0, 1, 1, 0, 0, 0, 0, 1, 0, 0, 0, 0, 0, 0, 0, 0, 1, 0, 0, 0, 0, 0, 0, 0, 0, 1, 0, 0, 0, 0, 1, Pred obj: 595.08\n",
      "\n",
      "Sample 9:\n",
      "    True cost: 47.95, 141.92, 82.00, 163.43, 39.63, 72.39, 65.63, 68.57, 116.86, 128.53, 72.39, 43.03, 81.10, 68.57, 148.52, 68.57, 150.82, 118.04, 62.09, 72.39, 43.03, 118.04, 60.91, 96.31, 89.99, 65.63, 148.52, 148.52, 40.47, 100.24, 55.00, 81.10, 55.00, 141.92, 82.00, 100.24, 65.63, 100.24, 130.59, 118.04\n",
      "    Pred cost: 15.65, 50.81, 59.93, 34.79, -11.80, -21.82, 7.52, 56.09, 35.23, 45.41, -29.45, 0.70, 41.70, -51.97, 45.09, -28.83, 23.54, 50.97, -53.17, -9.72, -56.71, 29.72, 5.05, 3.82, 25.18, -52.01, 53.55, 14.24, -4.29, -10.62, -44.28, 3.18, 14.72, 41.86, -16.08, -7.63, 1.92, 12.65, 46.05, 14.71\n",
      "    True sol: 0, 0, 0, 0, 1, 0, 0, 0, 0, 0, 0, 0, 0, 1, 0, 0, 0, 0, 1, 1, 1, 0, 0, 0, 0, 1, 0, 0, 0, 0, 1, 0, 0, 0, 0, 1, 0, 0, 0, 0, True obj: 506.57\n",
      "    Pred sol: 0, 0, 0, 0, 1, 0, 0, 0, 0, 0, 0, 0, 0, 1, 0, 0, 0, 0, 1, 1, 1, 0, 0, 0, 0, 1, 0, 0, 0, 0, 1, 0, 0, 0, 0, 1, 0, 0, 0, 0, Pred obj: 506.57\n",
      "\n"
     ]
    }
   ],
   "source": [
    "# compare solutions\n",
    "lr.eval()\n",
    "loss = []\n",
    "# load data\n",
    "for i, data in enumerate(sp_loader_test):\n",
    "    x, c, w, z = data\n",
    "    # cuda\n",
    "    if torch.cuda.is_available():\n",
    "        x, c, w, z = x.cuda(), c.cuda(), w.cuda(), z.cuda()\n",
    "    # predict\n",
    "    cp = lr(x)\n",
    "    # convert to numpy\n",
    "    c = c.to('cpu').detach().numpy().tolist()\n",
    "    w = w.to('cpu').detach().numpy().tolist()\n",
    "    z = z.to('cpu').detach().numpy().tolist()\n",
    "    cp = cp.to('cpu').detach().numpy().tolist()\n",
    "    for j in range(min(10, batch_size)):\n",
    "        print('Sample {}:'.format(j))\n",
    "        print('    True cost:', ', '.join(['{:.2f}'.format(cost) for cost in c[j]]))\n",
    "        print('    Pred cost:', ', '.join(['{:.2f}'.format(cost) for cost in cp[j]]))\n",
    "        # solve cost from prediction\n",
    "        sp_model.setObj(cp[j])\n",
    "        wpj, _ = sp_model.solve()\n",
    "        zpj = np.dot(c[j], wpj)\n",
    "        print('    True sol: ' + ', '.join(['{:.0f}'.format(x) for x in w[j]]) + ', True obj: {:.2f}'.format(z[j][0]))\n",
    "        print('    Pred sol: '+  ', '.join(['{:.0f}'.format(x) for x in wpj]) + ', Pred obj: {:.2f}'.format(zpj))\n",
    "        print()\n",
    "    break"
   ]
  },
  {
   "cell_type": "markdown",
   "id": "according-bumper",
   "metadata": {},
   "source": [
    "# Training Black-Box"
   ]
  },
  {
   "cell_type": "code",
   "execution_count": 34,
   "id": "collected-institute",
   "metadata": {},
   "outputs": [],
   "source": [
    "from func import blackboxOpt"
   ]
  },
  {
   "cell_type": "code",
   "execution_count": 35,
   "id": "subtle-portfolio",
   "metadata": {},
   "outputs": [],
   "source": [
    "# init model\n",
    "lr = LinearRegression()\n",
    "# cuda\n",
    "if torch.cuda.is_available():\n",
    "    lr = lr.cuda()"
   ]
  },
  {
   "cell_type": "code",
   "execution_count": 36,
   "id": "scientific-translation",
   "metadata": {},
   "outputs": [],
   "source": [
    "# set optimizer\n",
    "optimizer = torch.optim.Adam(lr.parameters(), lr=1e-4)"
   ]
  },
  {
   "cell_type": "code",
   "execution_count": 37,
   "id": "obvious-track",
   "metadata": {},
   "outputs": [],
   "source": [
    "# set loss\n",
    "criterion = nn.L1Loss()"
   ]
  },
  {
   "cell_type": "code",
   "execution_count": 38,
   "id": "tight-preference",
   "metadata": {},
   "outputs": [
    {
     "name": "stdout",
     "output_type": "stream",
     "text": [
      "epoch 10, loss:245.381348\n",
      "epoch 20, loss:172.526184\n",
      "epoch 30, loss:273.199493\n",
      "epoch 40, loss:150.983856\n",
      "epoch 50, loss:162.467468\n",
      "epoch 60, loss:197.031265\n",
      "epoch 70, loss:80.345337\n",
      "epoch 80, loss:93.984299\n",
      "epoch 90, loss:51.814880\n",
      "epoch 100, loss:60.728546\n",
      "epoch 110, loss:15.760502\n",
      "epoch 120, loss:42.720463\n",
      "epoch 130, loss:43.755836\n",
      "epoch 140, loss:23.250042\n",
      "epoch 150, loss:42.186279\n",
      "epoch 160, loss:59.337891\n",
      "epoch 170, loss:4.022812\n",
      "epoch 180, loss:4.364738\n",
      "epoch 190, loss:10.295364\n",
      "epoch 200, loss:18.317738\n",
      "epoch 210, loss:45.426830\n",
      "epoch 220, loss:19.344147\n",
      "epoch 230, loss:26.181728\n",
      "epoch 240, loss:77.267685\n",
      "epoch 250, loss:33.125641\n",
      "epoch 260, loss:17.924625\n",
      "epoch 270, loss:4.733377\n",
      "epoch 280, loss:95.868217\n",
      "epoch 290, loss:23.102875\n",
      "epoch 300, loss:39.502457\n",
      "epoch 310, loss:22.896980\n",
      "epoch 320, loss:61.612011\n",
      "epoch 330, loss:15.639635\n",
      "epoch 340, loss:25.538113\n",
      "epoch 350, loss:48.823002\n",
      "epoch 360, loss:17.233967\n",
      "epoch 370, loss:56.601681\n",
      "epoch 380, loss:34.183105\n",
      "epoch 390, loss:4.842100\n",
      "epoch 400, loss:32.957172\n"
     ]
    }
   ],
   "source": [
    "# train model\n",
    "num_epochs = 400\n",
    "lambd = 10\n",
    "lr.train()\n",
    "loss_log = []\n",
    "for epoch in range(num_epochs):\n",
    "    # load data\n",
    "    for i, data in enumerate(sp_loader_train):\n",
    "        x, c, w, z = data\n",
    "        # cuda\n",
    "        if torch.cuda.is_available():\n",
    "            x, c, w, z = x.cuda(), c.cuda(), w.cuda(), z.cuda()\n",
    "        # linear regression\n",
    "        cp = lr(x)\n",
    "        # black-box optimizer\n",
    "        wp = blackboxOpt.apply(sp_model, cp, lambd)\n",
    "        # objective value\n",
    "        zp = (wp * c).sum(1).view(-1, 1)\n",
    "        # loss\n",
    "        loss = criterion(zp, z)\n",
    "        # backward pass\n",
    "        optimizer.zero_grad()\n",
    "        loss.backward()\n",
    "        optimizer.step()\n",
    "    loss_log.append(loss.item())\n",
    "    if (epoch + 1) % 10 == 0:\n",
    "        print('epoch {}, loss:{:.6f}'.format(epoch+1, loss.item()))"
   ]
  },
  {
   "cell_type": "code",
   "execution_count": 39,
   "id": "criminal-custody",
   "metadata": {},
   "outputs": [
    {
     "data": {
      "image/png": "[encoded data removed]",
      "text/plain": [
       "<Figure size 864x432 with 1 Axes>"
      ]
     },
     "metadata": {
      "needs_background": "light"
     },
     "output_type": "display_data"
    }
   ],
   "source": [
    "# draw plot\n",
    "plt.figure(figsize=(12, 6))\n",
    "plt.plot(loss_log, color='c')\n",
    "plt.xlabel('Epoch')\n",
    "plt.ylabel('SPO Loss')\n",
    "plt.title('Learning Curve')\n",
    "plt.show()"
   ]
  },
  {
   "cell_type": "markdown",
   "id": "hidden-effectiveness",
   "metadata": {},
   "source": [
    "## Evaluation "
   ]
  },
  {
   "cell_type": "code",
   "execution_count": 40,
   "id": "built-railway",
   "metadata": {},
   "outputs": [
    {
     "name": "stdout",
     "output_type": "stream",
     "text": [
      "Normalized SPO Loss: 11.02%\n"
     ]
    }
   ],
   "source": [
    "# evaluate\n",
    "spoloss = SPOEval(lr, sp_model, sp_loader_test)\n",
    "print('Normalized SPO Loss: {:.2f}%'.format(spoloss * 100))"
   ]
  },
  {
   "cell_type": "code",
   "execution_count": 41,
   "id": "incident-economy",
   "metadata": {
    "scrolled": false
   },
   "outputs": [
    {
     "name": "stdout",
     "output_type": "stream",
     "text": [
      "Sample 0:\n",
      "    True cost: 35.78, 26.44, 82.00, 4.47, 120.99, 13.57, 9.10, 32.00, 14.31, 50.36, 13.57, 25.84, 5.78, 32.00, 10.80, 32.00, 2.86, 37.30, 22.91, 13.57, 25.84, 37.30, 59.39, 21.15, 105.33, 9.10, 10.80, 10.80, 54.85, 61.69, 44.51, 5.78, 44.51, 26.44, 82.00, 61.69, 9.10, 61.69, 18.65, 37.30\n",
      "    Pred cost: -1.01, -1.01, -0.13, 0.60, -0.48, 0.23, 0.43, -0.03, -1.23, -0.30, -0.81, -0.59, -0.27, -0.70, -0.90, -0.70, -0.49, -0.09, -0.50, -0.62, -0.37, -0.19, -1.68, -1.37, 0.19, 0.11, 0.67, -0.19, 0.93, -0.45, 0.37, -0.52, -0.39, -0.96, -0.47, 0.21, -0.06, 0.55, 0.03, 1.05\n",
      "    True sol: 1, 0, 0, 0, 0, 1, 0, 0, 0, 0, 1, 1, 0, 0, 0, 0, 1, 0, 0, 0, 0, 1, 0, 0, 0, 0, 1, 0, 0, 0, 0, 0, 0, 0, 0, 1, 0, 0, 0, 0, True obj: 201.43\n",
      "    Pred sol: 1, 0, 0, 0, 0, 1, 0, 0, 0, 0, 1, 1, 0, 0, 0, 0, 1, 0, 0, 0, 0, 0, 0, 0, 0, 1, 0, 0, 0, 0, 0, 0, 0, 0, 1, 0, 0, 0, 0, 1, Pred obj: 220.04\n",
      "\n",
      "Sample 1:\n",
      "    True cost: 1.41, 99.22, 82.00, 19.81, 13.06, 2.75, 12.75, 55.24, 9.98, 50.27, 2.75, 6.06, 8.38, 55.24, 7.29, 55.24, 61.13, 127.15, 137.13, 2.75, 6.06, 127.15, 25.07, 15.00, 28.89, 12.75, 7.29, 7.29, 89.19, 62.18, 73.40, 8.38, 73.40, 99.22, 82.00, 62.18, 12.75, 62.18, 220.73, 127.15\n",
      "    Pred cost: 0.53, -1.04, 1.05, -0.61, 0.13, 0.51, 0.86, -0.53, 0.10, 0.91, -0.80, -0.24, 0.11, 0.88, -1.43, -0.25, -1.00, -1.23, -1.40, 0.38, -0.99, -0.21, -1.14, -0.50, 0.38, 0.75, 0.76, -0.76, 1.26, -0.61, -0.20, 0.35, 0.39, -0.68, -0.03, 1.10, -0.53, 0.50, 0.04, 0.93\n",
      "    True sol: 1, 0, 0, 0, 0, 1, 0, 0, 0, 0, 0, 0, 0, 0, 1, 0, 0, 0, 0, 1, 1, 0, 0, 0, 0, 1, 0, 0, 0, 0, 1, 0, 0, 0, 0, 1, 0, 0, 0, 0, True obj: 168.59\n",
      "    Pred sol: 1, 0, 0, 0, 0, 1, 0, 0, 0, 0, 1, 0, 0, 0, 0, 1, 0, 0, 0, 0, 1, 1, 0, 0, 0, 0, 1, 0, 0, 0, 0, 0, 0, 0, 0, 1, 0, 0, 0, 0, Pred obj: 264.82\n",
      "\n",
      "Sample 2:\n",
      "    True cost: 50.78, 241.73, 82.00, 137.10, 103.22, 103.82, 55.84, 179.58, 70.51, 254.74, 103.82, 24.14, 97.25, 179.58, 145.60, 179.58, 76.99, 155.94, 104.88, 103.82, 24.14, 155.94, 189.99, 38.62, 144.83, 55.84, 145.60, 145.60, 51.40, 136.35, 111.84, 97.25, 111.84, 241.73, 82.00, 136.35, 55.84, 136.35, 146.98, 155.94\n",
      "    Pred cost: 0.38, -0.27, -0.46, 0.16, 0.29, 0.36, 0.45, -0.10, -0.27, 0.45, -0.21, -0.99, 0.15, 0.43, -0.26, -0.79, -0.26, -0.33, -0.24, -0.74, -0.46, -0.08, -0.65, -0.81, 0.13, 0.85, 0.91, -0.39, 0.19, 0.27, -0.02, 0.16, 0.05, -0.20, 0.32, 0.48, -0.24, 0.13, 0.79, 0.15\n",
      "    True sol: 1, 0, 0, 0, 0, 1, 0, 0, 0, 0, 1, 1, 0, 0, 0, 0, 1, 0, 0, 0, 0, 0, 0, 0, 0, 1, 0, 0, 0, 0, 0, 0, 0, 0, 1, 0, 0, 0, 0, 1, True obj: 653.33\n",
      "    Pred sol: 0, 0, 0, 0, 1, 0, 0, 0, 0, 0, 0, 0, 0, 1, 0, 0, 0, 0, 1, 0, 0, 0, 0, 1, 0, 0, 0, 0, 1, 1, 0, 0, 0, 0, 1, 0, 0, 0, 0, 1, Pred obj: 851.99\n",
      "\n",
      "Sample 3:\n",
      "    True cost: 52.69, 177.66, 82.00, 171.06, 55.40, 127.06, 255.85, 258.60, 75.89, 84.70, 127.06, 123.38, 249.84, 258.60, 80.95, 258.60, 329.09, 182.31, 468.93, 127.06, 123.38, 182.31, 132.33, 78.34, 31.77, 255.85, 80.95, 80.95, 252.30, 79.46, 264.77, 249.84, 264.77, 177.66, 82.00, 79.46, 255.85, 79.46, 339.86, 182.31\n",
      "    Pred cost: 0.99, -0.20, 0.44, -1.03, -0.16, -0.09, 0.27, -0.08, 1.04, 1.06, 0.05, 0.21, 0.18, 1.24, 0.08, 0.08, -0.04, -0.14, -0.10, 0.05, 0.09, -0.01, 0.82, 0.96, 0.25, 0.23, 0.11, 0.04, -0.66, 0.07, -0.13, -0.15, -0.52, 0.16, -0.36, 0.57, 0.19, 0.19, -0.46, 0.80\n",
      "    True sol: 0, 0, 0, 0, 1, 0, 0, 0, 0, 1, 0, 0, 0, 0, 1, 0, 0, 0, 0, 1, 0, 0, 0, 0, 1, 0, 0, 0, 0, 1, 0, 0, 0, 0, 1, 0, 0, 0, 0, 1, True obj: 723.65\n",
      "    Pred sol: 0, 0, 0, 0, 1, 0, 0, 0, 0, 1, 0, 0, 0, 0, 1, 0, 0, 0, 0, 1, 0, 0, 0, 0, 1, 0, 0, 0, 0, 1, 0, 0, 0, 0, 1, 0, 0, 0, 0, 1, Pred obj: 723.65\n",
      "\n",
      "Sample 4:\n",
      "    True cost: 336.30, 169.28, 82.00, 260.17, 224.97, 400.59, 261.36, 261.17, 214.04, 177.69, 400.59, 215.08, 385.02, 261.17, 271.78, 261.17, 161.30, 104.79, 162.01, 400.59, 215.08, 104.79, 272.81, 136.31, 143.34, 261.36, 271.78, 271.78, 130.02, 136.19, 170.15, 385.02, 170.15, 169.28, 82.00, 136.19, 261.36, 136.19, 99.16, 104.79\n",
      "    Pred cost: 0.05, 0.29, -0.84, 0.14, -0.30, -0.20, -0.15, 0.27, -0.03, 0.16, 0.31, -0.40, 0.07, 0.24, 0.75, -0.45, 0.45, 0.72, 0.67, -0.89, 0.50, 0.11, 0.52, 0.10, -0.09, -0.06, -0.21, 0.25, -1.08, 0.53, -0.04, -0.46, -0.75, 0.36, -0.22, -0.03, 0.34, 0.09, -0.05, 0.16\n",
      "    True sol: 0, 0, 0, 0, 1, 0, 0, 0, 0, 0, 0, 0, 0, 1, 0, 0, 0, 0, 1, 0, 0, 0, 0, 1, 0, 0, 0, 0, 1, 1, 0, 0, 0, 0, 1, 0, 0, 0, 0, 1, True obj: 1237.46\n",
      "    Pred sol: 0, 0, 0, 0, 1, 0, 0, 0, 0, 1, 0, 0, 0, 0, 1, 0, 0, 0, 0, 0, 0, 0, 0, 1, 0, 0, 0, 0, 1, 0, 0, 0, 0, 1, 0, 0, 0, 0, 1, 1, Pred obj: 1314.01\n",
      "\n",
      "Sample 5:\n",
      "    True cost: 24.08, 87.85, 82.00, 91.70, 22.71, 82.66, 199.20, 77.49, 27.64, 89.62, 82.66, 75.50, 80.99, 77.49, 93.53, 77.49, 216.63, 212.65, 189.10, 82.66, 75.50, 212.65, 79.10, 85.65, 26.81, 199.20, 93.53, 93.53, 70.68, 26.11, 192.26, 80.99, 192.26, 87.85, 82.00, 26.11, 199.20, 26.11, 209.24, 212.65\n",
      "    Pred cost: 0.92, -0.15, 0.77, -0.70, 0.41, -0.13, 0.26, -0.22, 0.35, 0.38, 0.11, 0.41, 0.06, 1.39, 0.26, 0.02, -0.18, -0.17, -0.74, -0.14, 0.22, -0.11, 0.38, 0.73, -0.07, 0.00, 0.55, -0.39, -0.94, 0.29, 0.43, -0.02, -0.46, 0.31, 0.27, 0.57, -0.52, 0.06, 0.25, 0.74\n",
      "    True sol: 1, 0, 0, 0, 0, 1, 0, 0, 0, 0, 1, 0, 0, 0, 0, 1, 0, 0, 0, 0, 0, 0, 0, 0, 1, 0, 0, 0, 0, 1, 1, 0, 0, 0, 0, 1, 0, 0, 0, 0, True obj: 538.19\n",
      "    Pred sol: 1, 0, 0, 0, 0, 1, 0, 0, 0, 0, 1, 0, 0, 0, 0, 1, 0, 0, 0, 0, 0, 0, 0, 0, 1, 0, 0, 0, 0, 1, 1, 0, 0, 0, 0, 1, 0, 0, 0, 0, Pred obj: 538.19\n",
      "\n",
      "Sample 6:\n",
      "    True cost: 179.52, 100.50, 82.00, 171.02, 106.20, 328.90, 371.83, 150.00, 83.19, 145.50, 328.90, 206.94, 243.58, 150.00, 237.08, 150.00, 197.48, 168.97, 174.01, 328.90, 206.94, 168.97, 210.09, 143.11, 68.57, 371.83, 237.08, 237.08, 84.92, 43.83, 240.90, 243.58, 240.90, 100.50, 82.00, 43.83, 371.83, 43.83, 118.34, 168.97\n",
      "    Pred cost: 0.48, 0.24, -0.16, -0.24, 0.10, -0.37, -0.11, 0.15, 0.12, 0.01, 0.42, 0.18, -0.01, 0.83, 1.01, -0.18, 0.39, 0.65, 0.19, -0.77, 0.75, -0.01, 0.80, 0.71, -0.18, -0.26, 0.31, 0.10, -1.66, 0.67, 0.56, -0.45, -0.97, 0.52, 0.06, 0.03, -0.05, -0.06, 0.21, 0.53\n",
      "    True sol: 0, 0, 0, 0, 1, 0, 0, 0, 0, 0, 0, 0, 0, 1, 0, 0, 0, 0, 1, 0, 0, 0, 0, 1, 0, 0, 0, 0, 1, 1, 0, 0, 0, 0, 1, 0, 0, 0, 0, 1, True obj: 953.05\n",
      "    Pred sol: 0, 0, 0, 0, 1, 0, 0, 0, 0, 0, 0, 0, 0, 1, 0, 0, 0, 0, 1, 0, 0, 0, 0, 1, 0, 0, 0, 0, 1, 1, 0, 0, 0, 0, 1, 0, 0, 0, 0, 1, Pred obj: 953.05\n",
      "\n",
      "Sample 7:\n",
      "    True cost: 26.58, 19.99, 82.00, 59.43, 7.10, 7.95, 11.25, 1.46, 133.04, 24.84, 7.95, 34.98, 6.09, 1.46, 70.46, 1.46, 74.72, 32.81, 1.96, 7.95, 34.98, 32.81, 1.80, 183.86, 65.56, 11.25, 70.46, 70.46, 7.80, 55.14, 2.53, 6.09, 2.53, 19.99, 82.00, 55.14, 11.25, 55.14, 26.76, 32.81\n",
      "    Pred cost: -0.70, 0.21, 0.71, 0.85, 0.27, 0.16, -0.09, -0.59, -1.69, -0.80, -0.14, 0.30, 0.07, 0.43, -0.54, -0.22, -0.69, -0.27, -1.78, 0.18, -0.17, 0.17, -1.44, -1.14, -0.84, -0.80, -1.81, -1.48, 0.49, -0.13, -0.85, 0.49, 0.71, 0.62, 0.73, 0.93, -1.45, 0.54, -0.02, -0.64\n",
      "    True sol: 0, 0, 0, 0, 1, 0, 0, 0, 0, 0, 0, 0, 0, 1, 0, 0, 0, 0, 1, 1, 1, 0, 0, 0, 0, 1, 0, 0, 0, 0, 1, 0, 0, 0, 0, 1, 0, 0, 0, 0, True obj: 122.37\n",
      "    Pred sol: 0, 0, 0, 0, 1, 0, 0, 0, 0, 0, 0, 0, 0, 1, 0, 0, 0, 0, 0, 0, 0, 0, 1, 0, 0, 0, 0, 0, 0, 0, 0, 1, 0, 0, 0, 0, 1, 1, 1, 1, Pred obj: 142.41\n",
      "\n",
      "Sample 8:\n",
      "    True cost: 47.45, 204.97, 82.00, 144.75, 74.42, 83.16, 48.50, 122.62, 88.97, 206.34, 83.16, 25.52, 82.47, 122.62, 145.80, 122.62, 90.66, 134.63, 75.25, 83.16, 25.52, 134.63, 123.55, 52.85, 132.36, 48.50, 145.80, 145.80, 42.32, 131.38, 75.89, 82.47, 75.89, 204.97, 82.00, 131.38, 48.50, 131.38, 133.64, 134.63\n",
      "    Pred cost: 0.29, -0.15, -0.30, 0.24, 0.31, 0.35, 0.37, -0.19, -0.41, 0.33, -0.17, -0.82, 0.17, 0.50, -0.29, -0.70, -0.32, -0.35, -0.45, -0.58, -0.44, -0.02, -0.71, -0.83, -0.02, 0.65, 0.46, -0.57, 0.23, 0.23, -0.21, 0.26, 0.20, -0.03, 0.41, 0.58, -0.42, 0.18, 0.68, -0.04\n",
      "    True sol: 1, 0, 0, 0, 0, 1, 0, 0, 0, 0, 1, 1, 0, 0, 0, 0, 1, 0, 0, 0, 0, 0, 0, 0, 0, 1, 0, 0, 0, 0, 1, 0, 0, 0, 0, 1, 0, 0, 0, 0, True obj: 585.71\n",
      "    Pred sol: 0, 0, 0, 0, 1, 0, 0, 0, 0, 0, 0, 0, 0, 1, 0, 0, 0, 0, 1, 0, 0, 0, 0, 1, 0, 0, 0, 0, 1, 1, 1, 0, 0, 0, 0, 1, 0, 0, 0, 0, Pred obj: 706.11\n",
      "\n",
      "Sample 9:\n",
      "    True cost: 47.95, 141.92, 82.00, 163.43, 39.63, 72.39, 65.63, 68.57, 116.86, 128.53, 72.39, 43.03, 81.10, 68.57, 148.52, 68.57, 150.82, 118.04, 62.09, 72.39, 43.03, 118.04, 60.91, 96.31, 89.99, 65.63, 148.52, 148.52, 40.47, 100.24, 55.00, 81.10, 55.00, 141.92, 82.00, 100.24, 65.63, 100.24, 130.59, 118.04\n",
      "    Pred cost: 0.30, 0.07, 0.07, 0.14, 0.32, 0.20, 0.19, -0.28, -0.41, 0.18, -0.01, -0.32, 0.19, 0.76, -0.14, -0.42, -0.31, -0.26, -0.72, -0.28, -0.21, 0.05, -0.46, -0.48, -0.24, 0.19, -0.26, -0.73, -0.05, 0.22, -0.40, 0.32, 0.23, 0.33, 0.47, 0.69, -0.63, 0.22, 0.37, -0.18\n",
      "    True sol: 0, 0, 0, 0, 1, 0, 0, 0, 0, 0, 0, 0, 0, 1, 0, 0, 0, 0, 1, 1, 1, 0, 0, 0, 0, 1, 0, 0, 0, 0, 1, 0, 0, 0, 0, 1, 0, 0, 0, 0, True obj: 506.57\n",
      "    Pred sol: 1, 0, 0, 0, 0, 1, 0, 0, 0, 0, 1, 0, 0, 0, 0, 1, 0, 0, 0, 0, 0, 0, 0, 0, 1, 0, 0, 0, 0, 1, 1, 0, 0, 0, 0, 1, 0, 0, 0, 0, Pred obj: 606.77\n",
      "\n"
     ]
    }
   ],
   "source": [
    "# compare solutions\n",
    "lr.eval()\n",
    "loss = []\n",
    "# load data\n",
    "for i, data in enumerate(sp_loader_test):\n",
    "    x, c, w, z = data\n",
    "    # cuda\n",
    "    if torch.cuda.is_available():\n",
    "        x, c, w, z = x.cuda(), c.cuda(), w.cuda(), z.cuda()\n",
    "    # predict\n",
    "    cp = lr(x)\n",
    "    # convert to numpy\n",
    "    c = c.to('cpu').detach().numpy().tolist()\n",
    "    w = w.to('cpu').detach().numpy().tolist()\n",
    "    z = z.to('cpu').detach().numpy().tolist()\n",
    "    cp = cp.to('cpu').detach().numpy().tolist()\n",
    "    for j in range(min(10, batch_size)):\n",
    "        print('Sample {}:'.format(j))\n",
    "        print('    True cost:', ', '.join(['{:.2f}'.format(cost) for cost in c[j]]))\n",
    "        print('    Pred cost:', ', '.join(['{:.2f}'.format(cost) for cost in cp[j]]))\n",
    "        # solve cost from prediction\n",
    "        sp_model.setObj(cp[j])\n",
    "        wpj, _ = sp_model.solve()\n",
    "        zpj = np.dot(c[j], wpj)\n",
    "        print('    True sol: ' + ', '.join(['{:.0f}'.format(x) for x in w[j]]) + ', True obj: {:.2f}'.format(z[j][0]))\n",
    "        print('    Pred sol: '+  ', '.join(['{:.0f}'.format(x) for x in wpj]) + ', Pred obj: {:.2f}'.format(zpj))\n",
    "        print()\n",
    "    break"
   ]
  },
  {
   "cell_type": "code",
   "execution_count": null,
   "id": "pleased-roberts",
   "metadata": {},
   "outputs": [],
   "source": []
  }
 ],
 "metadata": {
  "kernelspec": {
   "display_name": "Python 3",
   "language": "python",
   "name": "python3"
  },
  "language_info": {
   "codemirror_mode": {
    "name": "ipython",
    "version": 3
   },
   "file_extension": ".py",
   "mimetype": "text/x-python",
   "name": "python",
   "nbconvert_exporter": "python",
   "pygments_lexer": "ipython3",
   "version": "3.7.10"
  }
 },
 "nbformat": 4,
 "nbformat_minor": 5
}
