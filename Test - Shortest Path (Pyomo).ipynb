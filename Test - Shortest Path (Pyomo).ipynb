{
 "cells": [
  {
   "cell_type": "code",
   "execution_count": 1,
   "id": "accredited-pearl",
   "metadata": {},
   "outputs": [
    {
     "data": {
      "text/plain": [
       "<torch._C.Generator at 0x1e803e5f350>"
      ]
     },
     "execution_count": 1,
     "metadata": {},
     "output_type": "execute_result"
    }
   ],
   "source": [
    "import time\n",
    "import spo\n",
    "import torch\n",
    "from matplotlib import pyplot as plt\n",
    "import numpy as np\n",
    "from tqdm import tqdm\n",
    "torch.manual_seed(135)"
   ]
  },
  {
   "cell_type": "markdown",
   "id": "88a6984c",
   "metadata": {},
   "source": [
    "## Init Data "
   ]
  },
  {
   "cell_type": "code",
   "execution_count": 2,
   "id": "2e78a07d",
   "metadata": {},
   "outputs": [],
   "source": [
    "# generate data for grid network (features and costs)\n",
    "grid = (5,5) # grid graph\n",
    "n = 1000 # number of data\n",
    "p = 5 # size of feature\n",
    "deg = 4 # polynomial degree\n",
    "x, c = spo.data.shortestpath.genData(n+1000, p, grid, deg=deg)"
   ]
  },
  {
   "cell_type": "markdown",
   "id": "naval-blade",
   "metadata": {},
   "source": [
    "## Optimization Model "
   ]
  },
  {
   "cell_type": "code",
   "execution_count": 3,
   "id": "declared-brunswick",
   "metadata": {},
   "outputs": [],
   "source": [
    "# model for shortest path\n",
    "sp_model = spo.model.omo.shortestPathModel(grid, solver='gurobi')\n",
    "#sp_model = spo.model.omo.shortestPathModel(grid, solver='glpk')"
   ]
  },
  {
   "cell_type": "code",
   "execution_count": 4,
   "id": "precious-employee",
   "metadata": {},
   "outputs": [
    {
     "name": "stdout",
     "output_type": "stream",
     "text": [
      "Academic license - for non-commercial use only - expires 2021-10-08\n",
      "Using license file C:\\Users\\Apocrypse\\gurobi.lic\n",
      "Obj: 8.0\n",
      "(0, 1)\n",
      "(1, 2)\n",
      "(2, 7)\n",
      "(7, 12)\n",
      "(12, 17)\n",
      "(17, 18)\n",
      "(18, 19)\n",
      "(19, 24)\n"
     ]
    }
   ],
   "source": [
    "# solve\n",
    "sp_model.setObj([1 for i in range(40)])\n",
    "sol, obj = sp_model.solve()\n",
    "print('Obj: {}'.format(obj))\n",
    "for i, e in enumerate(sp_model.arcs):\n",
    "    if sol[i] > 1e-3:\n",
    "        print(e)"
   ]
  },
  {
   "cell_type": "markdown",
   "id": "directed-consultancy",
   "metadata": {},
   "source": [
    "## Data Loader"
   ]
  },
  {
   "cell_type": "code",
   "execution_count": 5,
   "id": "little-diversity",
   "metadata": {},
   "outputs": [],
   "source": [
    "from sklearn.model_selection import train_test_split\n",
    "from torch.utils.data import DataLoader"
   ]
  },
  {
   "cell_type": "code",
   "execution_count": 6,
   "id": "regulated-freeware",
   "metadata": {},
   "outputs": [],
   "source": [
    "# data split\n",
    "x_train, x_test, c_train, c_test = train_test_split(x, c, test_size=1000, random_state=246)"
   ]
  },
  {
   "cell_type": "code",
   "execution_count": 7,
   "id": "human-praise",
   "metadata": {},
   "outputs": [
    {
     "name": "stdout",
     "output_type": "stream",
     "text": [
      "Optimizing for optDataset...\n"
     ]
    },
    {
     "name": "stderr",
     "output_type": "stream",
     "text": [
      "100%|██████████████████████████████████████████████████████████████████████| 1000/1000 [00:10<00:00, 98.90it/s]\n"
     ]
    }
   ],
   "source": [
    "# get training data set\n",
    "sp_dataset_train = spo.data.dataset.optDataset(sp_model, x_train, c_train)"
   ]
  },
  {
   "cell_type": "code",
   "execution_count": 8,
   "id": "immune-interpretation",
   "metadata": {},
   "outputs": [
    {
     "name": "stdout",
     "output_type": "stream",
     "text": [
      "Optimizing for optDataset...\n"
     ]
    },
    {
     "name": "stderr",
     "output_type": "stream",
     "text": [
      "100%|█████████████████████████████████████████████████████████████████████| 1000/1000 [00:09<00:00, 107.13it/s]\n"
     ]
    }
   ],
   "source": [
    "# get test data set\n",
    "sp_dataset_test = spo.data.dataset.optDataset(sp_model, x_test, c_test)"
   ]
  },
  {
   "cell_type": "code",
   "execution_count": 9,
   "id": "incident-kinase",
   "metadata": {},
   "outputs": [],
   "source": [
    "# get data loader\n",
    "batch_size = 32\n",
    "sp_loader_train = DataLoader(sp_dataset_train, batch_size=batch_size, shuffle=True)\n",
    "sp_loader_test = DataLoader(sp_dataset_test, batch_size=batch_size, shuffle=False)"
   ]
  },
  {
   "cell_type": "code",
   "execution_count": 10,
   "id": "intellectual-softball",
   "metadata": {},
   "outputs": [],
   "source": [
    "for i, data in enumerate(sp_loader_train):\n",
    "    x, c, w, z = data\n",
    "    break"
   ]
  },
  {
   "cell_type": "code",
   "execution_count": 11,
   "id": "instant-polymer",
   "metadata": {},
   "outputs": [
    {
     "data": {
      "text/plain": [
       "torch.Size([32, 5])"
      ]
     },
     "execution_count": 11,
     "metadata": {},
     "output_type": "execute_result"
    }
   ],
   "source": [
    "x.shape"
   ]
  },
  {
   "cell_type": "code",
   "execution_count": 12,
   "id": "known-framing",
   "metadata": {},
   "outputs": [
    {
     "data": {
      "text/plain": [
       "torch.Size([32, 40])"
      ]
     },
     "execution_count": 12,
     "metadata": {},
     "output_type": "execute_result"
    }
   ],
   "source": [
    "c.shape"
   ]
  },
  {
   "cell_type": "code",
   "execution_count": 13,
   "id": "partial-algeria",
   "metadata": {},
   "outputs": [
    {
     "data": {
      "text/plain": [
       "torch.Size([32, 40])"
      ]
     },
     "execution_count": 13,
     "metadata": {},
     "output_type": "execute_result"
    }
   ],
   "source": [
    "w.shape"
   ]
  },
  {
   "cell_type": "code",
   "execution_count": 14,
   "id": "known-contemporary",
   "metadata": {},
   "outputs": [
    {
     "data": {
      "text/plain": [
       "torch.Size([32, 1])"
      ]
     },
     "execution_count": 14,
     "metadata": {},
     "output_type": "execute_result"
    }
   ],
   "source": [
    "z.shape"
   ]
  },
  {
   "cell_type": "markdown",
   "id": "b44869b8",
   "metadata": {},
   "source": [
    "## Linear Regression from Scikit-Learn "
   ]
  },
  {
   "cell_type": "code",
   "execution_count": 15,
   "id": "68f528a7",
   "metadata": {},
   "outputs": [],
   "source": [
    "from sklearn.linear_model import LinearRegression"
   ]
  },
  {
   "cell_type": "code",
   "execution_count": 16,
   "id": "82f8168a",
   "metadata": {},
   "outputs": [],
   "source": [
    "# prediction model\n",
    "reg = LinearRegression()"
   ]
  },
  {
   "cell_type": "markdown",
   "id": "9069a388",
   "metadata": {},
   "source": [
    "## Two-Stage"
   ]
  },
  {
   "cell_type": "code",
   "execution_count": 17,
   "id": "7c951ea3",
   "metadata": {},
   "outputs": [],
   "source": [
    "# build model\n",
    "twostage_model = spo.twostage.sklearnPred(reg, sp_model)"
   ]
  },
  {
   "cell_type": "code",
   "execution_count": 18,
   "id": "e19951f9",
   "metadata": {},
   "outputs": [],
   "source": [
    "# training\n",
    "twostage_model.fit(sp_dataset_train.x, sp_dataset_train.c)"
   ]
  },
  {
   "cell_type": "code",
   "execution_count": 19,
   "id": "84313521",
   "metadata": {},
   "outputs": [],
   "source": [
    "# prediction\n",
    "c_test_pred = twostage_model.predict(sp_dataset_test.x)"
   ]
  },
  {
   "cell_type": "code",
   "execution_count": 20,
   "id": "85fa335c",
   "metadata": {},
   "outputs": [
    {
     "name": "stderr",
     "output_type": "stream",
     "text": [
      "100%|██████████████████████████████████████████████████████████████████████| 1000/1000 [00:45<00:00, 21.91it/s]\n"
     ]
    },
    {
     "name": "stdout",
     "output_type": "stream",
     "text": [
      "Normalized true SPO Loss: 1.61%\n",
      "Normalized unambiguous SPO Loss: 1.61%\n"
     ]
    }
   ],
   "source": [
    "# evaluate\n",
    "truespo = 0\n",
    "unambspo = 0\n",
    "for i in tqdm(range(1000)):\n",
    "    c_pred_i = c_test_pred[i]\n",
    "    c_true_i = sp_dataset_test.c[i]\n",
    "    z_true_i = sp_dataset_test.z[i,0]\n",
    "    truespo += spo.eval.calTrueSPO(sp_model, c_pred_i, c_true_i, z_true_i)\n",
    "    unambspo += spo.eval.calUnambSPO(sp_model, c_pred_i, c_true_i, z_true_i)\n",
    "time.sleep(1)\n",
    "print('Normalized true SPO Loss: {:.2f}%'.format(truespo / abs(sp_dataset_test.z.sum()) * 100))\n",
    "print('Normalized unambiguous SPO Loss: {:.2f}%'.format(unambspo / abs(sp_dataset_test.z.sum()) * 100))"
   ]
  },
  {
   "cell_type": "code",
   "execution_count": 21,
   "id": "3b3b5cda",
   "metadata": {
    "scrolled": false
   },
   "outputs": [
    {
     "name": "stdout",
     "output_type": "stream",
     "text": [
      "Sample 0:\n",
      "    True cost: 35.78, 26.44, 82.00, 4.47, 120.99, 13.57, 9.10, 32.00, 14.31, 50.36, 13.57, 25.84, 5.78, 32.00, 10.80, 32.00, 2.86, 37.30, 22.91, 13.57, 25.84, 37.30, 59.39, 21.15, 105.33, 9.10, 10.80, 10.80, 54.85, 61.69, 44.51, 5.78, 44.51, 26.44, 82.00, 61.69, 9.10, 61.69, 18.65, 37.30\n",
      "    Pred cost: 41.72, 23.47, 82.00, -99.87, 148.14, -31.22, -61.21, 44.60, -28.40, 62.24, -31.22, 6.24, -85.57, 44.60, -49.48, 44.60, -126.51, 30.47, 7.96, -31.22, 6.24, 30.47, 85.69, -13.09, 118.08, -61.21, -49.48, -49.48, 68.32, 82.62, 49.32, -85.57, 49.32, 23.47, 82.00, 82.62, -61.21, 82.62, -7.76, 30.47\n",
      "    True sol: 1, 0, 0, 0, 0, 1, 0, 0, 0, 0, 1, 1, 0, 0, 0, 0, 1, 0, 0, 0, 0, 1, 0, 0, 0, 0, 1, 0, 0, 0, 0, 0, 0, 0, 0, 1, 0, 0, 0, 0, True obj: 201.43\n",
      "    Pred sol: 1, 0, 0, 0, 0, 1, 0, 0, 0, 0, 1, 1, 0, 0, 0, 0, 1, 0, 0, 0, 0, 0, 0, 0, 0, 1, 0, 0, 0, 0, 0, 0, 0, 0, 1, 0, 0, 0, 0, 1, Pred obj: 220.04\n",
      "\n",
      "Sample 1:\n",
      "    True cost: 1.41, 99.22, 82.00, 19.81, 13.06, 2.75, 12.75, 55.24, 9.98, 50.27, 2.75, 6.06, 8.38, 55.24, 7.29, 55.24, 61.13, 127.15, 137.13, 2.75, 6.06, 127.15, 25.07, 15.00, 28.89, 12.75, 7.29, 7.29, 89.19, 62.18, 73.40, 8.38, 73.40, 99.22, 82.00, 62.18, 12.75, 62.18, 220.73, 127.15\n",
      "    Pred cost: -159.48, 129.51, 82.00, -0.80, -26.36, -110.81, -32.23, 92.88, -45.58, 63.36, -110.81, -81.99, -47.63, 92.88, -63.25, 92.88, 76.26, 129.19, 168.38, -110.81, -81.99, 129.19, 25.20, -34.94, 16.51, -32.23, -63.25, -63.25, 113.18, 80.28, 96.09, -47.63, 96.09, 129.51, 82.00, 80.28, -32.23, 80.28, 199.58, 129.19\n",
      "    True sol: 1, 0, 0, 0, 0, 1, 0, 0, 0, 0, 0, 0, 0, 0, 1, 0, 0, 0, 0, 1, 1, 0, 0, 0, 0, 1, 0, 0, 0, 0, 1, 0, 0, 0, 0, 1, 0, 0, 0, 0, True obj: 168.59\n",
      "    Pred sol: 1, 0, 0, 0, 0, 1, 0, 0, 0, 0, 0, 0, 0, 0, 1, 0, 0, 0, 0, 1, 1, 0, 0, 0, 0, 1, 0, 0, 0, 0, 1, 0, 0, 0, 0, 1, 0, 0, 0, 0, Pred obj: 168.59\n",
      "\n",
      "Sample 2:\n",
      "    True cost: 50.78, 241.73, 82.00, 137.10, 103.22, 103.82, 55.84, 179.58, 70.51, 254.74, 103.82, 24.14, 97.25, 179.58, 145.60, 179.58, 76.99, 155.94, 104.88, 103.82, 24.14, 155.94, 189.99, 38.62, 144.83, 55.84, 145.60, 145.60, 51.40, 136.35, 111.84, 97.25, 111.84, 241.73, 82.00, 136.35, 55.84, 136.35, 146.98, 155.94\n",
      "    Pred cost: 69.11, 236.38, 82.00, 183.56, 128.95, 156.26, 81.04, 222.24, 98.11, 225.56, 156.26, 1.36, 161.97, 222.24, 177.37, 222.24, 105.90, 152.88, 141.52, 156.26, 1.36, 152.88, 211.38, 29.80, 146.75, 81.04, 177.37, 177.37, 64.45, 154.87, 135.51, 161.97, 135.51, 236.38, 82.00, 154.87, 81.04, 154.87, 159.28, 152.88\n",
      "    True sol: 1, 0, 0, 0, 0, 1, 0, 0, 0, 0, 1, 1, 0, 0, 0, 0, 1, 0, 0, 0, 0, 0, 0, 0, 0, 1, 0, 0, 0, 0, 0, 0, 0, 0, 1, 0, 0, 0, 0, 1, True obj: 653.33\n",
      "    Pred sol: 1, 0, 0, 0, 0, 1, 0, 0, 0, 0, 1, 1, 0, 0, 0, 0, 1, 0, 0, 0, 0, 0, 0, 0, 0, 1, 0, 0, 0, 0, 0, 0, 0, 0, 1, 0, 0, 0, 0, 1, Pred obj: 653.33\n",
      "\n",
      "Sample 3:\n",
      "    True cost: 52.69, 177.66, 82.00, 171.06, 55.40, 127.06, 255.85, 258.60, 75.89, 84.70, 127.06, 123.38, 249.84, 258.60, 80.95, 258.60, 329.09, 182.31, 468.93, 127.06, 123.38, 182.31, 132.33, 78.34, 31.77, 255.85, 80.95, 80.95, 252.30, 79.46, 264.77, 249.84, 264.77, 177.66, 82.00, 79.46, 255.85, 79.46, 339.86, 182.31\n",
      "    Pred cost: 75.28, 197.20, 82.00, 214.76, 68.66, 183.88, 250.76, 269.32, 115.31, 109.17, 183.88, 144.46, 288.90, 269.32, 119.84, 269.32, 276.68, 168.61, 332.97, 183.88, 144.46, 168.61, 171.58, 87.99, 20.43, 250.76, 119.84, 119.84, 228.47, 104.15, 235.62, 288.90, 235.62, 197.20, 82.00, 104.15, 250.76, 104.15, 256.58, 168.61\n",
      "    True sol: 0, 0, 0, 0, 1, 0, 0, 0, 0, 1, 0, 0, 0, 0, 1, 0, 0, 0, 0, 1, 0, 0, 0, 0, 1, 0, 0, 0, 0, 1, 0, 0, 0, 0, 1, 0, 0, 0, 0, 1, True obj: 723.65\n",
      "    Pred sol: 0, 0, 0, 0, 1, 0, 0, 0, 0, 1, 0, 0, 0, 0, 1, 0, 0, 0, 0, 1, 0, 0, 0, 0, 1, 0, 0, 0, 0, 1, 0, 0, 0, 0, 1, 0, 0, 0, 0, 1, Pred obj: 723.65\n",
      "\n",
      "Sample 4:\n",
      "    True cost: 336.30, 169.28, 82.00, 260.17, 224.97, 400.59, 261.36, 261.17, 214.04, 177.69, 400.59, 215.08, 385.02, 261.17, 271.78, 261.17, 161.30, 104.79, 162.01, 400.59, 215.08, 104.79, 272.81, 136.31, 143.34, 261.36, 271.78, 271.78, 130.02, 136.19, 170.15, 385.02, 170.15, 169.28, 82.00, 136.19, 261.36, 136.19, 99.16, 104.79\n",
      "    Pred cost: 273.09, 198.10, 82.00, 269.60, 206.71, 322.05, 248.47, 270.43, 221.28, 183.63, 322.05, 204.63, 346.36, 270.43, 251.45, 270.43, 193.91, 117.04, 192.53, 322.05, 204.63, 117.04, 250.20, 141.44, 143.64, 248.47, 251.45, 251.45, 152.88, 156.36, 179.26, 346.36, 179.26, 198.10, 82.00, 156.36, 248.47, 156.36, 125.59, 117.04\n",
      "    True sol: 0, 0, 0, 0, 1, 0, 0, 0, 0, 0, 0, 0, 0, 1, 0, 0, 0, 0, 1, 0, 0, 0, 0, 1, 0, 0, 0, 0, 1, 1, 0, 0, 0, 0, 1, 0, 0, 0, 0, 1, True obj: 1237.46\n",
      "    Pred sol: 0, 0, 0, 0, 1, 0, 0, 0, 0, 1, 0, 0, 0, 0, 1, 0, 0, 0, 0, 0, 0, 0, 0, 1, 0, 0, 0, 0, 1, 1, 0, 0, 0, 0, 1, 0, 0, 0, 0, 1, Pred obj: 1263.76\n",
      "\n",
      "Sample 5:\n",
      "    True cost: 24.08, 87.85, 82.00, 91.70, 22.71, 82.66, 199.20, 77.49, 27.64, 89.62, 82.66, 75.50, 80.99, 77.49, 93.53, 77.49, 216.63, 212.65, 189.10, 82.66, 75.50, 212.65, 79.10, 85.65, 26.81, 199.20, 93.53, 93.53, 70.68, 26.11, 192.26, 80.99, 192.26, 87.85, 82.00, 26.11, 199.20, 26.11, 209.24, 212.65\n",
      "    Pred cost: 12.11, 121.68, 82.00, 143.70, -1.06, 139.80, 222.45, 123.26, 27.85, 114.48, 139.80, 97.28, 144.76, 123.26, 136.81, 123.26, 220.14, 185.76, 207.75, 139.80, 97.28, 185.76, 118.22, 96.16, 8.32, 222.45, 136.81, 136.81, 90.55, 13.89, 198.93, 144.76, 198.93, 121.68, 82.00, 13.89, 222.45, 13.89, 196.42, 185.76\n",
      "    True sol: 1, 0, 0, 0, 0, 1, 0, 0, 0, 0, 1, 0, 0, 0, 0, 1, 0, 0, 0, 0, 0, 0, 0, 0, 1, 0, 0, 0, 0, 1, 1, 0, 0, 0, 0, 1, 0, 0, 0, 0, True obj: 538.19\n",
      "    Pred sol: 0, 0, 0, 0, 1, 0, 0, 0, 0, 1, 1, 0, 0, 0, 0, 1, 0, 0, 0, 0, 0, 0, 0, 0, 1, 0, 0, 0, 0, 1, 1, 0, 0, 0, 0, 1, 0, 0, 0, 0, Pred obj: 543.77\n",
      "\n",
      "Sample 6:\n",
      "    True cost: 179.52, 100.50, 82.00, 171.02, 106.20, 328.90, 371.83, 150.00, 83.19, 145.50, 328.90, 206.94, 243.58, 150.00, 237.08, 150.00, 197.48, 168.97, 174.01, 328.90, 206.94, 168.97, 210.09, 143.11, 68.57, 371.83, 237.08, 237.08, 84.92, 43.83, 240.90, 243.58, 240.90, 100.50, 82.00, 43.83, 371.83, 43.83, 118.34, 168.97\n",
      "    Pred cost: 193.61, 140.36, 82.00, 216.97, 122.81, 299.37, 302.98, 197.10, 120.98, 162.37, 299.37, 201.21, 278.00, 197.10, 238.48, 197.10, 215.27, 163.88, 200.17, 299.37, 201.21, 163.88, 219.34, 146.19, 76.79, 302.98, 238.48, 238.48, 108.32, 54.05, 224.24, 278.00, 224.24, 140.36, 82.00, 54.05, 302.98, 54.05, 140.52, 163.88\n",
      "    True sol: 0, 0, 0, 0, 1, 0, 0, 0, 0, 0, 0, 0, 0, 1, 0, 0, 0, 0, 1, 0, 0, 0, 0, 1, 0, 0, 0, 0, 1, 1, 0, 0, 0, 0, 1, 0, 0, 0, 0, 1, True obj: 953.05\n",
      "    Pred sol: 0, 0, 0, 0, 1, 0, 0, 0, 0, 0, 0, 0, 0, 1, 0, 0, 0, 0, 1, 0, 0, 0, 0, 1, 0, 0, 0, 0, 1, 1, 0, 0, 0, 0, 1, 0, 0, 0, 0, 1, Pred obj: 953.05\n",
      "\n",
      "Sample 7:\n",
      "    True cost: 26.58, 19.99, 82.00, 59.43, 7.10, 7.95, 11.25, 1.46, 133.04, 24.84, 7.95, 34.98, 6.09, 1.46, 70.46, 1.46, 74.72, 32.81, 1.96, 7.95, 34.98, 32.81, 1.80, 183.86, 65.56, 11.25, 70.46, 70.46, 7.80, 55.14, 2.53, 6.09, 2.53, 19.99, 82.00, 55.14, 11.25, 55.14, 26.76, 32.81\n",
      "    Pred cost: 25.74, -1.71, 82.00, 96.16, -68.29, -57.00, -45.99, -172.38, 160.89, 9.79, -57.00, 36.65, -74.30, -172.38, 104.38, -172.38, 109.72, 19.95, -149.98, -57.00, 36.65, 19.95, -150.41, 175.08, 72.18, -45.99, 104.38, 104.38, -67.29, 62.90, -134.70, -74.30, -134.70, -1.71, 82.00, 62.90, -45.99, 62.90, 13.99, 19.95\n",
      "    True sol: 0, 0, 0, 0, 1, 0, 0, 0, 0, 0, 0, 0, 0, 1, 0, 0, 0, 0, 1, 1, 1, 0, 0, 0, 0, 1, 0, 0, 0, 0, 1, 0, 0, 0, 0, 1, 0, 0, 0, 0, True obj: 122.37\n",
      "    Pred sol: 0, 0, 0, 0, 1, 0, 0, 0, 0, 0, 0, 0, 0, 1, 0, 0, 0, 0, 1, 1, 1, 0, 0, 0, 0, 1, 0, 0, 0, 0, 1, 0, 0, 0, 0, 1, 0, 0, 0, 0, Pred obj: 122.37\n",
      "\n",
      "Sample 8:\n",
      "    True cost: 47.45, 204.97, 82.00, 144.75, 74.42, 83.16, 48.50, 122.62, 88.97, 206.34, 83.16, 25.52, 82.47, 122.62, 145.80, 122.62, 90.66, 134.63, 75.25, 83.16, 25.52, 134.63, 123.55, 52.85, 132.36, 48.50, 145.80, 145.80, 42.32, 131.38, 75.89, 82.47, 75.89, 204.97, 82.00, 131.38, 48.50, 131.38, 133.64, 134.63\n",
      "    Pred cost: 64.70, 215.41, 82.00, 190.33, 97.95, 133.09, 67.88, 175.41, 120.37, 200.71, 133.09, 6.57, 144.09, 175.41, 178.21, 175.41, 123.22, 137.96, 107.29, 133.09, 6.57, 137.96, 161.70, 54.83, 137.35, 67.88, 178.21, 178.21, 48.42, 149.62, 97.02, 144.09, 97.02, 215.41, 82.00, 149.62, 67.88, 149.62, 149.39, 137.96\n",
      "    True sol: 1, 0, 0, 0, 0, 1, 0, 0, 0, 0, 1, 1, 0, 0, 0, 0, 1, 0, 0, 0, 0, 0, 0, 0, 0, 1, 0, 0, 0, 0, 1, 0, 0, 0, 0, 1, 0, 0, 0, 0, True obj: 585.71\n",
      "    Pred sol: 1, 0, 0, 0, 0, 1, 0, 0, 0, 0, 1, 1, 0, 0, 0, 0, 1, 0, 0, 0, 0, 0, 0, 0, 0, 1, 0, 0, 0, 0, 0, 0, 0, 0, 1, 0, 0, 0, 0, 1, Pred obj: 595.08\n",
      "\n",
      "Sample 9:\n",
      "    True cost: 47.95, 141.92, 82.00, 163.43, 39.63, 72.39, 65.63, 68.57, 116.86, 128.53, 72.39, 43.03, 81.10, 68.57, 148.52, 68.57, 150.82, 118.04, 62.09, 72.39, 43.03, 118.04, 60.91, 96.31, 89.99, 65.63, 148.52, 148.52, 40.47, 100.24, 55.00, 81.10, 55.00, 141.92, 82.00, 100.24, 65.63, 100.24, 130.59, 118.04\n",
      "    Pred cost: 67.47, 172.12, 82.00, 206.81, 43.19, 120.38, 95.75, 111.39, 150.11, 149.46, 120.38, 48.63, 143.65, 111.39, 182.35, 111.39, 180.17, 125.16, 88.39, 120.38, 48.63, 125.16, 90.53, 107.89, 100.57, 95.75, 182.35, 182.35, 44.66, 121.19, 68.02, 143.65, 68.02, 172.12, 82.00, 121.19, 95.75, 121.19, 147.10, 125.16\n",
      "    True sol: 0, 0, 0, 0, 1, 0, 0, 0, 0, 0, 0, 0, 0, 1, 0, 0, 0, 0, 1, 1, 1, 0, 0, 0, 0, 1, 0, 0, 0, 0, 1, 0, 0, 0, 0, 1, 0, 0, 0, 0, True obj: 506.57\n",
      "    Pred sol: 0, 0, 0, 0, 1, 0, 0, 0, 0, 0, 0, 0, 0, 1, 0, 0, 0, 0, 1, 1, 1, 0, 0, 0, 0, 1, 0, 0, 0, 0, 1, 0, 0, 0, 0, 1, 0, 0, 0, 0, Pred obj: 506.57\n",
      "\n"
     ]
    }
   ],
   "source": [
    "# compare solutions\n",
    "for i, data in enumerate(sp_loader_test):\n",
    "    # load data\n",
    "    x, c, w, z = data\n",
    "    # cuda\n",
    "    if torch.cuda.is_available():\n",
    "        x, c, w, z = x.cuda(), c.cuda(), w.cuda(), z.cuda()\n",
    "    # convert to numpy\n",
    "    x = x.to('cpu').detach().numpy()\n",
    "    c = c.to('cpu').detach().numpy()\n",
    "    w = w.to('cpu').detach().numpy()\n",
    "    z = z.to('cpu').detach().numpy()\n",
    "    # predict\n",
    "    cp = twostage_model.predict(x)\n",
    "    for j in range(min(10, batch_size)):\n",
    "        print('Sample {}:'.format(j))\n",
    "        print('    True cost:', ', '.join(['{:.2f}'.format(cost) for cost in c[j]]))\n",
    "        print('    Pred cost:', ', '.join(['{:.2f}'.format(cost) for cost in cp[j]]))\n",
    "        # solve cost from prediction\n",
    "        sp_model.setObj(cp[j])\n",
    "        wpj, _ = sp_model.solve()\n",
    "        zpj = np.dot(c[j], wpj)\n",
    "        print('    True sol: ' + ', '.join(['{:.0f}'.format(x) for x in w[j]]) + ', True obj: {:.2f}'.format(z[j,0]))\n",
    "        print('    Pred sol: '+  ', '.join(['{:.0f}'.format(x) for x in wpj]) + ', Pred obj: {:.2f}'.format(zpj))\n",
    "        print()\n",
    "    break"
   ]
  },
  {
   "cell_type": "markdown",
   "id": "technological-queue",
   "metadata": {},
   "source": [
    "## Linear Regression from PyTorch"
   ]
  },
  {
   "cell_type": "code",
   "execution_count": 22,
   "id": "shaped-wonder",
   "metadata": {},
   "outputs": [],
   "source": [
    "from torch import nn"
   ]
  },
  {
   "cell_type": "code",
   "execution_count": 23,
   "id": "fresh-adolescent",
   "metadata": {},
   "outputs": [],
   "source": [
    "# build linear model\n",
    "class LinearRegression(nn.Module):\n",
    "    \n",
    "    def __init__(self):\n",
    "        super(LinearRegression, self).__init__()\n",
    "        self.linear = nn.Linear(p, (grid[0] - 1) * grid[1] + (grid[1] - 1) * grid[0])\n",
    "    \n",
    "    def forward(self, x):\n",
    "        out = self.linear(x)\n",
    "        return out"
   ]
  },
  {
   "cell_type": "markdown",
   "id": "accessible-clerk",
   "metadata": {},
   "source": [
    "## SPO+"
   ]
  },
  {
   "cell_type": "code",
   "execution_count": 24,
   "id": "interior-secondary",
   "metadata": {},
   "outputs": [],
   "source": [
    "# init model\n",
    "reg = LinearRegression()\n",
    "# cuda\n",
    "if torch.cuda.is_available():\n",
    "    reg = reg.cuda()"
   ]
  },
  {
   "cell_type": "code",
   "execution_count": 25,
   "id": "asian-screening",
   "metadata": {},
   "outputs": [],
   "source": [
    "# set optimizer\n",
    "optimizer = torch.optim.Adam(reg.parameters(), lr=5e-2)"
   ]
  },
  {
   "cell_type": "code",
   "execution_count": 26,
   "id": "directed-composition",
   "metadata": {},
   "outputs": [
    {
     "name": "stdout",
     "output_type": "stream",
     "text": [
      "Num of cores: 4\n"
     ]
    }
   ],
   "source": [
    "# init SPO+ loss\n",
    "criterion = spo.func.SPOPlus(sp_model, processes=4)"
   ]
  },
  {
   "cell_type": "code",
   "execution_count": 27,
   "id": "framed-classification",
   "metadata": {
    "scrolled": false
   },
   "outputs": [
    {
     "name": "stdout",
     "output_type": "stream",
     "text": [
      "Epoch  10, Loss: 399.4269, True SPO Loss:  2.5966%, Unambiguous SPO Loss:  2.5966%\n",
      "Epoch  20, Loss: 239.7885, True SPO Loss:  1.3939%, Unambiguous SPO Loss:  1.3939%\n",
      "Epoch  30, Loss: 118.0380, True SPO Loss:  1.1568%, Unambiguous SPO Loss:  1.1568%\n",
      "Epoch  40, Loss:  62.4741, True SPO Loss:  1.0121%, Unambiguous SPO Loss:  1.0121%\n",
      "Epoch  50, Loss: 261.4393, True SPO Loss:  0.8631%, Unambiguous SPO Loss:  0.8631%\n",
      "Epoch  60, Loss: 139.2957, True SPO Loss:  0.7327%, Unambiguous SPO Loss:  0.7327%\n",
      "Epoch  70, Loss:  47.1679, True SPO Loss:  0.6664%, Unambiguous SPO Loss:  0.6664%\n",
      "Epoch  80, Loss:  15.3169, True SPO Loss:  0.5956%, Unambiguous SPO Loss:  0.5956%\n",
      "Epoch  90, Loss:  81.4306, True SPO Loss:  0.5169%, Unambiguous SPO Loss:  0.5169%\n",
      "Epoch 100, Loss:   1.6431, True SPO Loss:  0.5549%, Unambiguous SPO Loss:  0.5549%\n",
      "Epoch 110, Loss:   7.7799, True SPO Loss:  0.5355%, Unambiguous SPO Loss:  0.5355%\n",
      "Epoch 120, Loss:   3.2690, True SPO Loss:  0.5312%, Unambiguous SPO Loss:  0.5312%\n",
      "Epoch 130, Loss:  16.6914, True SPO Loss:  0.5050%, Unambiguous SPO Loss:  0.5050%\n",
      "Epoch 140, Loss:  24.7985, True SPO Loss:  0.4952%, Unambiguous SPO Loss:  0.4952%\n",
      "Epoch 150, Loss:  66.1487, True SPO Loss:  0.4499%, Unambiguous SPO Loss:  0.4499%\n",
      "Epoch 160, Loss:  16.4775, True SPO Loss:  0.4799%, Unambiguous SPO Loss:  0.4799%\n",
      "Epoch 170, Loss:   1.1223, True SPO Loss:  0.5139%, Unambiguous SPO Loss:  0.5139%\n",
      "Epoch 180, Loss:   6.0823, True SPO Loss:  0.4394%, Unambiguous SPO Loss:  0.4394%\n",
      "Epoch 190, Loss:   4.7691, True SPO Loss:  0.4142%, Unambiguous SPO Loss:  0.4142%\n",
      "Epoch 200, Loss:   4.1495, True SPO Loss:  0.4602%, Unambiguous SPO Loss:  0.4602%\n",
      "Epoch 210, Loss:  13.1596, True SPO Loss:  0.4036%, Unambiguous SPO Loss:  0.4036%\n",
      "Epoch 220, Loss:   9.6028, True SPO Loss:  0.4450%, Unambiguous SPO Loss:  0.4450%\n",
      "Epoch 230, Loss:   5.6990, True SPO Loss:  0.4402%, Unambiguous SPO Loss:  0.4402%\n",
      "Epoch 240, Loss: 104.5190, True SPO Loss:  0.4574%, Unambiguous SPO Loss:  0.4574%\n",
      "Epoch 250, Loss:  12.1734, True SPO Loss:  0.4680%, Unambiguous SPO Loss:  0.4680%\n",
      "Epoch 260, Loss:   1.4718, True SPO Loss:  0.4755%, Unambiguous SPO Loss:  0.4755%\n",
      "Epoch 270, Loss:   0.3262, True SPO Loss:  0.4466%, Unambiguous SPO Loss:  0.4466%\n",
      "Epoch 280, Loss:  83.6225, True SPO Loss:  0.5085%, Unambiguous SPO Loss:  0.5085%\n",
      "Epoch 290, Loss:   7.6239, True SPO Loss:  0.4624%, Unambiguous SPO Loss:  0.4624%\n",
      "Epoch 300, Loss:   5.3211, True SPO Loss:  0.4852%, Unambiguous SPO Loss:  0.4852%\n"
     ]
    }
   ],
   "source": [
    "# train model\n",
    "num_epochs = 300\n",
    "reg.train()\n",
    "loss_log = []\n",
    "loss_log_truespo = []\n",
    "loss_log_unambspo = []\n",
    "for epoch in range(num_epochs):\n",
    "    # load data\n",
    "    for i, data in enumerate(sp_loader_train):\n",
    "        x, c, w, z = data\n",
    "        # cuda\n",
    "        if torch.cuda.is_available():\n",
    "            x, c, w, z = x.cuda(), c.cuda(), w.cuda(), z.cuda()\n",
    "        # forward pass\n",
    "        cp = reg(x)\n",
    "        loss = criterion.apply(cp, c, w, z).mean()\n",
    "        # backward pass\n",
    "        optimizer.zero_grad()\n",
    "        loss.backward()\n",
    "        optimizer.step()\n",
    "    loss_log.append(loss.item())\n",
    "    if (epoch + 1) % 10 == 0:\n",
    "        # true SPO\n",
    "        trueloss = spo.eval.trueSPO(reg, sp_model, sp_loader_test)\n",
    "        loss_log_truespo.append(trueloss)\n",
    "        # unambiguous SPO \n",
    "        unambloss = spo.eval.unambSPO(reg, sp_model, sp_loader_test)\n",
    "        loss_log_unambspo.append(unambloss)\n",
    "        print('Epoch {:3}, Loss: {:8.4f}, True SPO Loss: {:7.4f}%, Unambiguous SPO Loss: {:7.4f}%'. \\\n",
    "              format(epoch+1, loss.item(), trueloss*100, unambloss*100))"
   ]
  },
  {
   "cell_type": "code",
   "execution_count": 28,
   "id": "cheap-thought",
   "metadata": {},
   "outputs": [
    {
     "data": {
      "image/png": "[encoded data removed]",
      "text/plain": [
       "<Figure size 1200x600 with 1 Axes>"
      ]
     },
     "metadata": {},
     "output_type": "display_data"
    }
   ],
   "source": [
    "# draw plot\n",
    "plt.figure(figsize=(12, 6))\n",
    "plt.plot(loss_log, color='c')\n",
    "plt.xlabel('Epoch')\n",
    "plt.ylabel('SPO+ Loss')\n",
    "plt.title('Learning Curve')\n",
    "plt.show()"
   ]
  },
  {
   "cell_type": "code",
   "execution_count": 29,
   "id": "2e2f12c4",
   "metadata": {},
   "outputs": [
    {
     "data": {
      "image/png": "[encoded data removed]",
      "text/plain": [
       "<Figure size 1200x600 with 1 Axes>"
      ]
     },
     "metadata": {},
     "output_type": "display_data"
    }
   ],
   "source": [
    "# draw plot\n",
    "plt.figure(figsize=(12, 6))\n",
    "plt.plot(range(0, num_epochs, 10), loss_log_truespo, color='m', alpha=0.7, label='True SPO')\n",
    "plt.plot(range(0, num_epochs, 10), loss_log_unambspo, color='b', alpha=0.7, label='Unambiguous SPO')\n",
    "plt.xlabel('Epoch')\n",
    "plt.ylabel('Loss')\n",
    "plt.title('Learning Curve')\n",
    "plt.legend()\n",
    "plt.show()"
   ]
  },
  {
   "cell_type": "code",
   "execution_count": 30,
   "id": "scheduled-championship",
   "metadata": {},
   "outputs": [
    {
     "name": "stdout",
     "output_type": "stream",
     "text": [
      "Normalized true SPO Loss: 0.49%\n",
      "Normalized unambiguous SPO Loss: 0.49%\n"
     ]
    }
   ],
   "source": [
    "# evaluate\n",
    "spoloss = spo.eval.trueSPO(reg, sp_model, sp_loader_test)\n",
    "print('Normalized true SPO Loss: {:.2f}%'.format(spoloss * 100))\n",
    "spoloss = spo.eval.unambSPO(reg, sp_model, sp_loader_test)\n",
    "print('Normalized unambiguous SPO Loss: {:.2f}%'.format(spoloss * 100))"
   ]
  },
  {
   "cell_type": "code",
   "execution_count": 31,
   "id": "communist-destiny",
   "metadata": {
    "scrolled": false
   },
   "outputs": [
    {
     "name": "stdout",
     "output_type": "stream",
     "text": [
      "Sample 0:\n",
      "    True cost: 35.78, 26.44, 82.00, 4.47, 120.99, 13.57, 9.10, 32.00, 14.31, 50.36, 13.57, 25.84, 5.78, 32.00, 10.80, 32.00, 2.86, 37.30, 22.91, 13.57, 25.84, 37.30, 59.39, 21.15, 105.33, 9.10, 10.80, 10.80, 54.85, 61.69, 44.51, 5.78, 44.51, 26.44, 82.00, 61.69, 9.10, 61.69, 18.65, 37.30\n",
      "    Pred cost: -84.36, -1.17, 10.77, 1.13, 85.85, -83.58, -15.97, 23.17, 3.15, 67.61, -15.86, -94.06, -29.92, 39.24, -23.89, 73.17, -83.96, -19.59, 44.27, -28.24, -29.78, -17.08, -0.68, 43.50, 50.35, -66.64, -26.69, 7.00, 37.73, 119.59, 16.90, -15.98, 15.37, -36.19, 30.37, -2.24, -18.12, 0.62, -36.07, 3.50\n",
      "    True sol: 1, 0, 0, 0, 0, 1, 0, 0, 0, 0, 1, 1, 0, 0, 0, 0, 1, 0, 0, 0, 0, 1, 0, 0, 0, 0, 1, 0, 0, 0, 0, 0, 0, 0, 0, 1, 0, 0, 0, 0, True obj: 201.43\n",
      "    Pred sol: 1, 0, 0, 0, 0, 1, 0, 0, 0, 0, 1, 1, 0, 0, 0, 0, 1, 0, 0, 0, 0, 0, 0, 0, 0, 1, 0, 0, 0, 0, 1, 0, 0, 0, 0, 1, 0, 0, 0, 0, Pred obj: 206.94\n",
      "\n",
      "Sample 1:\n",
      "    True cost: 1.41, 99.22, 82.00, 19.81, 13.06, 2.75, 12.75, 55.24, 9.98, 50.27, 2.75, 6.06, 8.38, 55.24, 7.29, 55.24, 61.13, 127.15, 137.13, 2.75, 6.06, 127.15, 25.07, 15.00, 28.89, 12.75, 7.29, 7.29, 89.19, 62.18, 73.40, 8.38, 73.40, 99.22, 82.00, 62.18, 12.75, 62.18, 220.73, 127.15\n",
      "    Pred cost: -132.11, 104.73, 72.63, -0.47, 130.17, -223.99, 69.07, 179.26, 0.87, 26.93, -95.25, -69.88, -60.66, 119.56, -120.23, 23.39, 21.37, -33.83, 113.53, -121.36, -107.35, -12.01, 20.81, 113.21, -1.25, -91.23, -33.99, 9.19, 102.67, 24.43, -31.90, 25.99, 17.62, 86.88, -30.21, -55.37, 26.07, 33.06, 101.58, 55.52\n",
      "    True sol: 1, 0, 0, 0, 0, 1, 0, 0, 0, 0, 0, 0, 0, 0, 1, 0, 0, 0, 0, 1, 1, 0, 0, 0, 0, 1, 0, 0, 0, 0, 1, 0, 0, 0, 0, 1, 0, 0, 0, 0, True obj: 168.59\n",
      "    Pred sol: 1, 0, 0, 0, 0, 1, 0, 0, 0, 0, 0, 0, 0, 0, 1, 0, 0, 0, 0, 1, 1, 0, 0, 0, 0, 1, 0, 0, 0, 0, 1, 0, 0, 0, 0, 1, 0, 0, 0, 0, Pred obj: 168.59\n",
      "\n",
      "Sample 2:\n",
      "    True cost: 50.78, 241.73, 82.00, 137.10, 103.22, 103.82, 55.84, 179.58, 70.51, 254.74, 103.82, 24.14, 97.25, 179.58, 145.60, 179.58, 76.99, 155.94, 104.88, 103.82, 24.14, 155.94, 189.99, 38.62, 144.83, 55.84, 145.60, 145.60, 51.40, 136.35, 111.84, 97.25, 111.84, 241.73, 82.00, 136.35, 55.84, 136.35, 146.98, 155.94\n",
      "    Pred cost: -51.19, 24.33, 44.27, -0.67, 51.16, -74.49, -13.51, 98.16, -0.45, 61.36, -12.16, -77.58, 36.12, 5.05, -13.17, 53.00, -58.79, 19.06, -28.36, 8.86, -49.66, 14.63, 60.43, -50.93, 97.61, -87.55, 24.04, 57.79, -25.35, 16.06, -18.01, 19.78, 1.98, 62.55, -54.66, -0.49, 19.45, 14.43, 67.24, 1.54\n",
      "    True sol: 1, 0, 0, 0, 0, 1, 0, 0, 0, 0, 1, 1, 0, 0, 0, 0, 1, 0, 0, 0, 0, 0, 0, 0, 0, 1, 0, 0, 0, 0, 0, 0, 0, 0, 1, 0, 0, 0, 0, 1, True obj: 653.33\n",
      "    Pred sol: 1, 0, 0, 0, 0, 1, 0, 0, 0, 0, 1, 1, 0, 0, 0, 0, 1, 0, 0, 0, 0, 0, 0, 0, 0, 1, 0, 0, 0, 0, 0, 0, 0, 0, 1, 0, 0, 0, 0, 1, Pred obj: 653.33\n",
      "\n",
      "Sample 3:\n",
      "    True cost: 52.69, 177.66, 82.00, 171.06, 55.40, 127.06, 255.85, 258.60, 75.89, 84.70, 127.06, 123.38, 249.84, 258.60, 80.95, 258.60, 329.09, 182.31, 468.93, 127.06, 123.38, 182.31, 132.33, 78.34, 31.77, 255.85, 80.95, 80.95, 252.30, 79.46, 264.77, 249.84, 264.77, 177.66, 82.00, 79.46, 255.85, 79.46, 339.86, 182.31\n",
      "    Pred cost: -20.44, 30.23, -8.45, -95.83, 18.19, -44.51, 53.46, 196.62, -96.92, -107.50, -12.76, 27.88, 75.11, 115.00, -117.32, 2.56, 71.32, -50.26, 90.94, -48.32, 14.16, -20.06, 46.13, 15.76, -68.38, 57.35, -54.96, 0.42, 31.66, -88.53, 31.43, 86.11, -50.36, 63.68, -52.36, -9.11, 88.97, 21.76, 73.86, 8.14\n",
      "    True sol: 0, 0, 0, 0, 1, 0, 0, 0, 0, 1, 0, 0, 0, 0, 1, 0, 0, 0, 0, 1, 0, 0, 0, 0, 1, 0, 0, 0, 0, 1, 0, 0, 0, 0, 1, 0, 0, 0, 0, 1, True obj: 723.65\n",
      "    Pred sol: 0, 0, 0, 0, 1, 0, 0, 0, 0, 1, 0, 0, 0, 0, 1, 0, 0, 0, 0, 1, 0, 0, 0, 0, 1, 0, 0, 0, 0, 1, 0, 0, 0, 0, 1, 0, 0, 0, 0, 1, Pred obj: 723.65\n",
      "\n",
      "Sample 4:\n",
      "    True cost: 336.30, 169.28, 82.00, 260.17, 224.97, 400.59, 261.36, 261.17, 214.04, 177.69, 400.59, 215.08, 385.02, 261.17, 271.78, 261.17, 161.30, 104.79, 162.01, 400.59, 215.08, 104.79, 272.81, 136.31, 143.34, 261.36, 271.78, 271.78, 130.02, 136.19, 170.15, 385.02, 170.15, 169.28, 82.00, 136.19, 261.36, 136.19, 99.16, 104.79\n",
      "    Pred cost: 51.13, -45.18, -27.90, -60.63, -50.60, 91.98, -32.11, 61.06, -61.77, -47.67, 53.16, 12.41, 130.76, -12.85, 9.05, 20.88, -22.97, 12.55, -37.29, 53.11, 50.35, -2.14, 39.88, -85.19, 14.36, 37.85, 6.98, 17.13, -56.08, -31.05, 41.93, 44.97, -48.98, -8.09, -33.00, 45.33, 46.24, -7.38, -12.28, -44.75\n",
      "    True sol: 0, 0, 0, 0, 1, 0, 0, 0, 0, 0, 0, 0, 0, 1, 0, 0, 0, 0, 1, 0, 0, 0, 0, 1, 0, 0, 0, 0, 1, 1, 0, 0, 0, 0, 1, 0, 0, 0, 0, 1, True obj: 1237.46\n",
      "    Pred sol: 0, 0, 0, 0, 1, 0, 0, 0, 0, 0, 0, 0, 0, 1, 0, 0, 0, 0, 1, 0, 0, 0, 0, 1, 0, 0, 0, 0, 1, 1, 0, 0, 0, 0, 1, 0, 0, 0, 0, 1, Pred obj: 1237.46\n",
      "\n",
      "Sample 5:\n",
      "    True cost: 24.08, 87.85, 82.00, 91.70, 22.71, 82.66, 199.20, 77.49, 27.64, 89.62, 82.66, 75.50, 80.99, 77.49, 93.53, 77.49, 216.63, 212.65, 189.10, 82.66, 75.50, 212.65, 79.10, 85.65, 26.81, 199.20, 93.53, 93.53, 70.68, 26.11, 192.26, 80.99, 192.26, 87.85, 82.00, 26.11, 199.20, 26.11, 209.24, 212.65\n",
      "    Pred cost: -3.10, 35.98, 9.65, -71.04, 1.00, -32.57, 43.35, 174.53, -71.62, -14.68, -23.91, 54.17, 61.07, 16.07, -26.75, -47.42, 99.82, -31.92, 11.94, -20.41, 16.00, 7.42, 5.11, 7.27, -69.14, 68.35, -23.58, -9.59, 3.36, -113.04, -39.01, 29.46, -3.39, 52.72, -1.66, -53.71, 31.43, 15.57, 59.85, 52.29\n",
      "    True sol: 1, 0, 0, 0, 0, 1, 0, 0, 0, 0, 1, 0, 0, 0, 0, 1, 0, 0, 0, 0, 0, 0, 0, 0, 1, 0, 0, 0, 0, 1, 1, 0, 0, 0, 0, 1, 0, 0, 0, 0, True obj: 538.19\n",
      "    Pred sol: 1, 0, 0, 0, 0, 1, 0, 0, 0, 0, 1, 0, 0, 0, 0, 1, 0, 0, 0, 0, 0, 0, 0, 0, 1, 0, 0, 0, 0, 1, 1, 0, 0, 0, 0, 1, 0, 0, 0, 0, Pred obj: 538.19\n",
      "\n",
      "Sample 6:\n",
      "    True cost: 179.52, 100.50, 82.00, 171.02, 106.20, 328.90, 371.83, 150.00, 83.19, 145.50, 328.90, 206.94, 243.58, 150.00, 237.08, 150.00, 197.48, 168.97, 174.01, 328.90, 206.94, 168.97, 210.09, 143.11, 68.57, 371.83, 237.08, 237.08, 84.92, 43.83, 240.90, 243.58, 240.90, 100.50, 82.00, 43.83, 371.83, 43.83, 118.34, 168.97\n",
      "    Pred cost: 55.02, -33.57, -35.40, -91.81, -55.62, 86.59, -6.55, 109.41, -93.04, -35.11, 40.57, 61.98, 126.15, -26.73, 19.76, -23.05, 52.35, -17.65, -40.25, 52.32, 78.48, 6.92, 18.22, -73.98, -42.13, 104.69, -13.39, 0.49, -59.31, -103.71, 3.17, 34.71, -29.33, 3.55, -0.75, -5.62, 36.60, -1.46, 2.75, 4.67\n",
      "    True sol: 0, 0, 0, 0, 1, 0, 0, 0, 0, 0, 0, 0, 0, 1, 0, 0, 0, 0, 1, 0, 0, 0, 0, 1, 0, 0, 0, 0, 1, 1, 0, 0, 0, 0, 1, 0, 0, 0, 0, 1, True obj: 953.05\n",
      "    Pred sol: 0, 0, 0, 0, 1, 0, 0, 0, 0, 0, 0, 0, 0, 1, 0, 0, 0, 0, 1, 0, 0, 0, 0, 1, 0, 0, 0, 0, 1, 1, 1, 0, 0, 0, 0, 1, 0, 0, 0, 0, Pred obj: 986.81\n",
      "\n",
      "Sample 7:\n",
      "    True cost: 26.58, 19.99, 82.00, 59.43, 7.10, 7.95, 11.25, 1.46, 133.04, 24.84, 7.95, 34.98, 6.09, 1.46, 70.46, 1.46, 74.72, 32.81, 1.96, 7.95, 34.98, 32.81, 1.80, 183.86, 65.56, 11.25, 70.46, 70.46, 7.80, 55.14, 2.53, 6.09, 2.53, 19.99, 82.00, 55.14, 11.25, 55.14, 26.76, 32.81\n",
      "    Pred cost: 69.57, 72.63, 102.66, 109.56, -69.19, 8.58, -1.57, -11.78, 110.47, 101.53, -67.70, 67.45, 26.38, -178.68, 150.30, -154.11, 56.83, 122.61, -118.23, -47.17, -101.06, 31.07, -117.58, 98.45, -48.54, -71.55, 122.06, -76.47, 44.26, 22.70, -114.01, -89.25, 47.12, -33.01, 64.63, -23.52, -89.89, -26.75, -46.72, 25.39\n",
      "    True sol: 0, 0, 0, 0, 1, 0, 0, 0, 0, 0, 0, 0, 0, 1, 0, 0, 0, 0, 1, 1, 1, 0, 0, 0, 0, 1, 0, 0, 0, 0, 1, 0, 0, 0, 0, 1, 0, 0, 0, 0, True obj: 122.37\n",
      "    Pred sol: 0, 0, 0, 0, 1, 0, 0, 0, 0, 0, 0, 0, 0, 1, 0, 0, 0, 0, 1, 1, 1, 0, 0, 0, 0, 1, 0, 0, 0, 0, 1, 0, 0, 0, 0, 1, 0, 0, 0, 0, Pred obj: 122.37\n",
      "\n",
      "Sample 8:\n",
      "    True cost: 47.45, 204.97, 82.00, 144.75, 74.42, 83.16, 48.50, 122.62, 88.97, 206.34, 83.16, 25.52, 82.47, 122.62, 145.80, 122.62, 90.66, 134.63, 75.25, 83.16, 25.52, 134.63, 123.55, 52.85, 132.36, 48.50, 145.80, 145.80, 42.32, 131.38, 75.89, 82.47, 75.89, 204.97, 82.00, 131.38, 48.50, 131.38, 133.64, 134.63\n",
      "    Pred cost: -31.22, 34.62, 56.31, 17.38, 31.15, -62.90, -10.78, 86.00, 17.59, 64.30, -21.41, -55.28, 38.26, -22.39, 9.76, 20.49, -40.39, 38.23, -43.89, -0.10, -61.21, 18.19, 37.29, -31.37, 77.94, -89.04, 42.47, 39.92, -15.97, 12.86, -33.22, 6.57, 6.78, 54.50, -43.45, -2.17, 6.32, 9.04, 56.68, 3.39\n",
      "    True sol: 1, 0, 0, 0, 0, 1, 0, 0, 0, 0, 1, 1, 0, 0, 0, 0, 1, 0, 0, 0, 0, 0, 0, 0, 0, 1, 0, 0, 0, 0, 1, 0, 0, 0, 0, 1, 0, 0, 0, 0, True obj: 585.71\n",
      "    Pred sol: 1, 0, 0, 0, 0, 1, 0, 0, 0, 0, 1, 1, 0, 0, 0, 0, 1, 0, 0, 0, 0, 0, 0, 0, 0, 1, 0, 0, 0, 0, 0, 0, 0, 0, 1, 0, 0, 0, 0, 1, Pred obj: 595.08\n",
      "\n",
      "Sample 9:\n",
      "    True cost: 47.95, 141.92, 82.00, 163.43, 39.63, 72.39, 65.63, 68.57, 116.86, 128.53, 72.39, 43.03, 81.10, 68.57, 148.52, 68.57, 150.82, 118.04, 62.09, 72.39, 43.03, 118.04, 60.91, 96.31, 89.99, 65.63, 148.52, 148.52, 40.47, 100.24, 55.00, 81.10, 55.00, 141.92, 82.00, 100.24, 65.63, 100.24, 130.59, 118.04\n",
      "    Pred cost: 10.93, 44.34, 59.12, 20.86, -11.42, -27.51, 2.12, 84.73, 20.74, 41.99, -29.36, 3.78, 55.13, -53.48, 34.84, -40.03, 14.67, 52.14, -55.55, -13.05, -55.62, 19.81, -0.66, -0.99, 16.81, -52.37, 55.16, 3.43, -2.08, -20.75, -49.82, -3.38, 5.89, 39.67, -21.43, -9.19, -2.89, 1.35, 38.68, 10.11\n",
      "    True sol: 0, 0, 0, 0, 1, 0, 0, 0, 0, 0, 0, 0, 0, 1, 0, 0, 0, 0, 1, 1, 1, 0, 0, 0, 0, 1, 0, 0, 0, 0, 1, 0, 0, 0, 0, 1, 0, 0, 0, 0, True obj: 506.57\n",
      "    Pred sol: 0, 0, 0, 0, 1, 0, 0, 0, 0, 0, 0, 0, 0, 1, 0, 0, 0, 0, 1, 1, 1, 0, 0, 0, 0, 1, 0, 0, 0, 0, 1, 0, 0, 0, 0, 1, 0, 0, 0, 0, Pred obj: 506.57\n",
      "\n"
     ]
    }
   ],
   "source": [
    "# compare solutions\n",
    "reg.eval()\n",
    "# load data\n",
    "for i, data in enumerate(sp_loader_test):\n",
    "    x, c, w, z = data\n",
    "    # cuda\n",
    "    if torch.cuda.is_available():\n",
    "        x, c, w, z = x.cuda(), c.cuda(), w.cuda(), z.cuda()\n",
    "    # predict\n",
    "    cp = reg(x)\n",
    "    # convert to numpy\n",
    "    c = c.to('cpu').detach().numpy()\n",
    "    w = w.to('cpu').detach().numpy()\n",
    "    z = z.to('cpu').detach().numpy()\n",
    "    cp = cp.to('cpu').detach().numpy()\n",
    "    for j in range(min(10, batch_size)):\n",
    "        print('Sample {}:'.format(j))\n",
    "        print('    True cost:', ', '.join(['{:.2f}'.format(cost) for cost in c[j]]))\n",
    "        print('    Pred cost:', ', '.join(['{:.2f}'.format(cost) for cost in cp[j]]))\n",
    "        # solve cost from prediction\n",
    "        sp_model.setObj(cp[j])\n",
    "        wpj, _ = sp_model.solve()\n",
    "        zpj = np.dot(c[j], wpj)\n",
    "        print('    True sol: ' + ', '.join(['{:.0f}'.format(x) for x in w[j]]) + ', True obj: {:.2f}'.format(z[j,0]))\n",
    "        print('    Pred sol: '+  ', '.join(['{:.0f}'.format(x) for x in wpj]) + ', Pred obj: {:.2f}'.format(zpj))\n",
    "        print()\n",
    "    break"
   ]
  },
  {
   "cell_type": "markdown",
   "id": "alternative-brother",
   "metadata": {},
   "source": [
    "##  SPO+ with Regularization"
   ]
  },
  {
   "cell_type": "code",
   "execution_count": 32,
   "id": "driven-surveillance",
   "metadata": {},
   "outputs": [],
   "source": [
    "# init model\n",
    "reg = LinearRegression()\n",
    "# cuda\n",
    "if torch.cuda.is_available():\n",
    "    reg = reg.cuda()"
   ]
  },
  {
   "cell_type": "code",
   "execution_count": 33,
   "id": "annual-fortune",
   "metadata": {},
   "outputs": [],
   "source": [
    "# set optimizer\n",
    "optimizer = torch.optim.Adam(reg.parameters(), lr=5e-2)"
   ]
  },
  {
   "cell_type": "code",
   "execution_count": 34,
   "id": "fluid-shipping",
   "metadata": {},
   "outputs": [
    {
     "name": "stdout",
     "output_type": "stream",
     "text": [
      "Num of cores: 4\n"
     ]
    }
   ],
   "source": [
    "# init SPO+ loss\n",
    "criterion = spo.func.SPOPlus(sp_model, processes=4)"
   ]
  },
  {
   "cell_type": "code",
   "execution_count": 35,
   "id": "characteristic-gender",
   "metadata": {
    "scrolled": false
   },
   "outputs": [
    {
     "name": "stdout",
     "output_type": "stream",
     "text": [
      "Epoch  10, Loss: 429.1037, True SPO Loss:  3.6794%, Unambiguous SPO Loss:  3.6794%\n",
      "Epoch  20, Loss: 120.3953, True SPO Loss:  1.3664%, Unambiguous SPO Loss:  1.3664%\n",
      "Epoch  30, Loss: 201.5956, True SPO Loss:  1.0926%, Unambiguous SPO Loss:  1.0926%\n",
      "Epoch  40, Loss:  21.6961, True SPO Loss:  0.9196%, Unambiguous SPO Loss:  0.9196%\n",
      "Epoch  50, Loss:  11.1293, True SPO Loss:  0.8355%, Unambiguous SPO Loss:  0.8355%\n",
      "Epoch  60, Loss:  50.7304, True SPO Loss:  0.7110%, Unambiguous SPO Loss:  0.7110%\n",
      "Epoch  70, Loss: 120.8037, True SPO Loss:  0.6501%, Unambiguous SPO Loss:  0.6501%\n",
      "Epoch  80, Loss:  18.5684, True SPO Loss:  0.6274%, Unambiguous SPO Loss:  0.6274%\n",
      "Epoch  90, Loss:   9.8583, True SPO Loss:  0.5843%, Unambiguous SPO Loss:  0.5843%\n",
      "Epoch 100, Loss:  33.1067, True SPO Loss:  0.5444%, Unambiguous SPO Loss:  0.5444%\n",
      "Epoch 110, Loss:   8.4227, True SPO Loss:  0.5327%, Unambiguous SPO Loss:  0.5327%\n",
      "Epoch 120, Loss:  13.9358, True SPO Loss:  0.5007%, Unambiguous SPO Loss:  0.5007%\n",
      "Epoch 130, Loss:  42.6936, True SPO Loss:  0.4856%, Unambiguous SPO Loss:  0.4856%\n",
      "Epoch 140, Loss:  37.3860, True SPO Loss:  0.4922%, Unambiguous SPO Loss:  0.4922%\n",
      "Epoch 150, Loss:  12.9151, True SPO Loss:  0.4419%, Unambiguous SPO Loss:  0.4419%\n",
      "Epoch 160, Loss:  22.2457, True SPO Loss:  0.4565%, Unambiguous SPO Loss:  0.4565%\n",
      "Epoch 170, Loss:   3.9987, True SPO Loss:  0.4365%, Unambiguous SPO Loss:  0.4365%\n",
      "Epoch 180, Loss:  69.8948, True SPO Loss:  0.4231%, Unambiguous SPO Loss:  0.4231%\n",
      "Epoch 190, Loss:  23.6476, True SPO Loss:  0.4788%, Unambiguous SPO Loss:  0.4788%\n",
      "Epoch 200, Loss:  13.8972, True SPO Loss:  0.4438%, Unambiguous SPO Loss:  0.4438%\n",
      "Epoch 210, Loss:  23.7178, True SPO Loss:  0.4542%, Unambiguous SPO Loss:  0.4542%\n",
      "Epoch 220, Loss:  14.5091, True SPO Loss:  0.4408%, Unambiguous SPO Loss:  0.4408%\n",
      "Epoch 230, Loss: 117.2997, True SPO Loss:  0.4474%, Unambiguous SPO Loss:  0.4474%\n",
      "Epoch 240, Loss:  15.5985, True SPO Loss:  0.4812%, Unambiguous SPO Loss:  0.4812%\n",
      "Epoch 250, Loss:   5.5826, True SPO Loss:  0.4621%, Unambiguous SPO Loss:  0.4621%\n",
      "Epoch 260, Loss:   5.4844, True SPO Loss:  0.4639%, Unambiguous SPO Loss:  0.4639%\n",
      "Epoch 270, Loss:  11.2798, True SPO Loss:  0.4673%, Unambiguous SPO Loss:  0.4673%\n",
      "Epoch 280, Loss:  33.3488, True SPO Loss:  0.4771%, Unambiguous SPO Loss:  0.4771%\n",
      "Epoch 290, Loss:  20.7572, True SPO Loss:  0.4311%, Unambiguous SPO Loss:  0.4311%\n",
      "Epoch 300, Loss:   5.7786, True SPO Loss:  0.4527%, Unambiguous SPO Loss:  0.4527%\n"
     ]
    }
   ],
   "source": [
    "# train model\n",
    "num_epochs = 300\n",
    "reg.train()\n",
    "loss_log = []\n",
    "loss_log_truespo = []\n",
    "loss_log_unambspo = []\n",
    "for epoch in range(num_epochs):\n",
    "    # load data\n",
    "    for i, data in enumerate(sp_loader_train):\n",
    "        x, c, w, z = data\n",
    "        # cuda\n",
    "        if torch.cuda.is_available():\n",
    "            x, c, w, z = x.cuda(), c.cuda(), w.cuda(), z.cuda()\n",
    "        # forward pass\n",
    "        cp = reg(x)\n",
    "        loss = criterion.apply(cp, c, w, z).mean()\n",
    "        # l1 reg\n",
    "        l1_lambda = 1e-3\n",
    "        l1_reg = torch.abs(cp - c).sum(dim=1).mean()\n",
    "        loss += l1_lambda * l1_reg\n",
    "        # backward pass\n",
    "        optimizer.zero_grad()\n",
    "        loss.backward()\n",
    "        optimizer.step()\n",
    "    loss_log.append(loss.item())\n",
    "    if (epoch + 1) % 10 == 0:\n",
    "        # true SPO\n",
    "        trueloss = spo.eval.trueSPO(reg, sp_model, sp_loader_test)\n",
    "        loss_log_truespo.append(trueloss)\n",
    "        # unambiguous SPO \n",
    "        unambloss = spo.eval.unambSPO(reg, sp_model, sp_loader_test)\n",
    "        loss_log_unambspo.append(unambloss)\n",
    "        print('Epoch {:3}, Loss: {:8.4f}, True SPO Loss: {:7.4f}%, Unambiguous SPO Loss: {:7.4f}%'. \\\n",
    "              format(epoch+1, loss.item(), trueloss*100, unambloss*100))"
   ]
  },
  {
   "cell_type": "code",
   "execution_count": 36,
   "id": "closed-companion",
   "metadata": {},
   "outputs": [
    {
     "data": {
      "image/png": "[encoded data removed]",
      "text/plain": [
       "<Figure size 1200x600 with 1 Axes>"
      ]
     },
     "metadata": {},
     "output_type": "display_data"
    }
   ],
   "source": [
    "# draw plot\n",
    "plt.figure(figsize=(12, 6))\n",
    "plt.plot(loss_log, color='c')\n",
    "plt.xlabel('Epoch')\n",
    "plt.ylabel('SPO+ Loss with Regularization')\n",
    "plt.title('Learning Curve')\n",
    "plt.show()"
   ]
  },
  {
   "cell_type": "code",
   "execution_count": 37,
   "id": "5624b586",
   "metadata": {},
   "outputs": [
    {
     "data": {
      "image/png": "[encoded data removed]",
      "text/plain": [
       "<Figure size 1200x600 with 1 Axes>"
      ]
     },
     "metadata": {},
     "output_type": "display_data"
    }
   ],
   "source": [
    "# draw plot\n",
    "plt.figure(figsize=(12, 6))\n",
    "plt.plot(range(0, num_epochs, 10), loss_log_truespo, color='m', alpha=0.7, label='True SPO')\n",
    "plt.plot(range(0, num_epochs, 10), loss_log_unambspo, color='b', alpha=0.7, label='Unambiguous SPO')\n",
    "plt.xlabel('Epoch')\n",
    "plt.ylabel('Loss')\n",
    "plt.title('Learning Curve')\n",
    "plt.legend()\n",
    "plt.show()"
   ]
  },
  {
   "cell_type": "code",
   "execution_count": 38,
   "id": "julian-stone",
   "metadata": {},
   "outputs": [
    {
     "name": "stdout",
     "output_type": "stream",
     "text": [
      "Normalized true SPO Loss: 0.45%\n",
      "Normalized unambiguous SPO Loss: 0.45%\n"
     ]
    }
   ],
   "source": [
    "# evaluate\n",
    "spoloss = spo.eval.trueSPO(reg, sp_model, sp_loader_test)\n",
    "print('Normalized true SPO Loss: {:.2f}%'.format(spoloss * 100))\n",
    "spoloss = spo.eval.unambSPO(reg, sp_model, sp_loader_test)\n",
    "print('Normalized unambiguous SPO Loss: {:.2f}%'.format(spoloss * 100))"
   ]
  },
  {
   "cell_type": "code",
   "execution_count": 39,
   "id": "presidential-vehicle",
   "metadata": {
    "scrolled": false
   },
   "outputs": [
    {
     "name": "stdout",
     "output_type": "stream",
     "text": [
      "Sample 0:\n",
      "    True cost: 35.78, 26.44, 82.00, 4.47, 120.99, 13.57, 9.10, 32.00, 14.31, 50.36, 13.57, 25.84, 5.78, 32.00, 10.80, 32.00, 2.86, 37.30, 22.91, 13.57, 25.84, 37.30, 59.39, 21.15, 105.33, 9.10, 10.80, 10.80, 54.85, 61.69, 44.51, 5.78, 44.51, 26.44, 82.00, 61.69, 9.10, 61.69, 18.65, 37.30\n",
      "    Pred cost: -81.05, -7.73, 12.62, 1.21, 81.59, -83.48, -18.75, -8.66, 3.60, 74.94, -13.78, -86.70, -32.93, 26.50, -18.35, 65.12, -81.81, -12.10, 29.05, -26.90, -31.86, -16.70, 4.83, 39.66, 45.74, -71.50, -21.99, 8.92, 39.80, 109.16, 19.72, -14.41, 18.28, -38.45, 30.60, 1.40, -14.81, 9.78, -36.10, 4.16\n",
      "    True sol: 1, 0, 0, 0, 0, 1, 0, 0, 0, 0, 1, 1, 0, 0, 0, 0, 1, 0, 0, 0, 0, 1, 0, 0, 0, 0, 1, 0, 0, 0, 0, 0, 0, 0, 0, 1, 0, 0, 0, 0, True obj: 201.43\n",
      "    Pred sol: 1, 0, 0, 0, 0, 1, 0, 0, 0, 0, 1, 1, 0, 0, 0, 0, 1, 0, 0, 0, 0, 0, 0, 0, 0, 1, 0, 0, 0, 0, 1, 0, 0, 0, 0, 1, 0, 0, 0, 0, Pred obj: 206.94\n",
      "\n",
      "Sample 1:\n",
      "    True cost: 1.41, 99.22, 82.00, 19.81, 13.06, 2.75, 12.75, 55.24, 9.98, 50.27, 2.75, 6.06, 8.38, 55.24, 7.29, 55.24, 61.13, 127.15, 137.13, 2.75, 6.06, 127.15, 25.07, 15.00, 28.89, 12.75, 7.29, 7.29, 89.19, 62.18, 73.40, 8.38, 73.40, 99.22, 82.00, 62.18, 12.75, 62.18, 220.73, 127.15\n",
      "    Pred cost: -130.07, 79.38, 59.72, 0.64, 118.97, -214.31, 39.81, 78.71, 1.50, 34.91, -78.37, -64.87, -41.94, 111.32, -113.05, 23.03, 20.86, -22.11, 107.46, -114.62, -117.36, -14.89, 19.94, 91.64, 7.71, -82.43, -35.35, 2.38, 92.19, 28.94, -16.13, 22.88, 18.29, 80.59, -27.29, -50.10, 26.10, 36.17, 98.18, 54.55\n",
      "    True sol: 1, 0, 0, 0, 0, 1, 0, 0, 0, 0, 0, 0, 0, 0, 1, 0, 0, 0, 0, 1, 1, 0, 0, 0, 0, 1, 0, 0, 0, 0, 1, 0, 0, 0, 0, 1, 0, 0, 0, 0, True obj: 168.59\n",
      "    Pred sol: 1, 0, 0, 0, 0, 1, 0, 0, 0, 0, 0, 0, 0, 0, 1, 0, 0, 0, 0, 1, 1, 0, 0, 0, 0, 1, 0, 0, 0, 0, 1, 0, 0, 0, 0, 1, 0, 0, 0, 0, Pred obj: 168.59\n",
      "\n",
      "Sample 2:\n",
      "    True cost: 50.78, 241.73, 82.00, 137.10, 103.22, 103.82, 55.84, 179.58, 70.51, 254.74, 103.82, 24.14, 97.25, 179.58, 145.60, 179.58, 76.99, 155.94, 104.88, 103.82, 24.14, 155.94, 189.99, 38.62, 144.83, 55.84, 145.60, 145.60, 51.40, 136.35, 111.84, 97.25, 111.84, 241.73, 82.00, 136.35, 55.84, 136.35, 146.98, 155.94\n",
      "    Pred cost: -47.80, 21.71, 42.68, 8.92, 49.83, -66.09, -18.11, 92.95, 9.28, 69.02, -8.28, -71.75, 54.71, 7.97, -5.74, 49.21, -53.14, 27.85, -29.17, 14.18, -58.43, 11.08, 68.00, -52.46, 98.94, -90.39, 27.30, 63.01, -27.20, 25.45, -10.22, 19.61, 10.18, 58.50, -54.20, 2.99, 17.81, 18.33, 65.13, 2.15\n",
      "    True sol: 1, 0, 0, 0, 0, 1, 0, 0, 0, 0, 1, 1, 0, 0, 0, 0, 1, 0, 0, 0, 0, 0, 0, 0, 0, 1, 0, 0, 0, 0, 0, 0, 0, 0, 1, 0, 0, 0, 0, 1, True obj: 653.33\n",
      "    Pred sol: 1, 0, 0, 0, 0, 1, 0, 0, 0, 0, 1, 1, 0, 0, 0, 0, 1, 0, 0, 0, 0, 0, 0, 0, 0, 1, 0, 0, 0, 0, 0, 0, 0, 0, 1, 0, 0, 0, 0, 1, Pred obj: 653.33\n",
      "\n",
      "Sample 3:\n",
      "    True cost: 52.69, 177.66, 82.00, 171.06, 55.40, 127.06, 255.85, 258.60, 75.89, 84.70, 127.06, 123.38, 249.84, 258.60, 80.95, 258.60, 329.09, 182.31, 468.93, 127.06, 123.38, 182.31, 132.33, 78.34, 31.77, 255.85, 80.95, 80.95, 252.30, 79.46, 264.77, 249.84, 264.77, 177.66, 82.00, 79.46, 255.85, 79.46, 339.86, 182.31\n",
      "    Pred cost: -15.43, 23.05, -18.70, -72.77, 23.01, -28.52, 54.04, 129.95, -75.95, -94.84, 6.97, 40.74, 92.35, 116.44, -106.72, 14.06, 70.93, -36.60, 98.75, -40.56, 29.06, -7.11, 49.19, 16.89, -57.77, 74.53, -45.89, 1.36, 35.97, -78.67, 37.50, 94.56, -35.08, 69.51, -40.95, -6.41, 97.08, 20.99, 75.64, 16.19\n",
      "    True sol: 0, 0, 0, 0, 1, 0, 0, 0, 0, 1, 0, 0, 0, 0, 1, 0, 0, 0, 0, 1, 0, 0, 0, 0, 1, 0, 0, 0, 0, 1, 0, 0, 0, 0, 1, 0, 0, 0, 0, 1, True obj: 723.65\n",
      "    Pred sol: 0, 0, 0, 0, 1, 0, 0, 0, 0, 1, 0, 0, 0, 0, 1, 0, 0, 0, 0, 1, 0, 0, 0, 0, 1, 0, 0, 0, 0, 1, 0, 0, 0, 0, 1, 0, 0, 0, 0, 1, Pred obj: 723.65\n",
      "\n",
      "Sample 4:\n",
      "    True cost: 336.30, 169.28, 82.00, 260.17, 224.97, 400.59, 261.36, 261.17, 214.04, 177.69, 400.59, 215.08, 385.02, 261.17, 271.78, 261.17, 161.30, 104.79, 162.01, 400.59, 215.08, 104.79, 272.81, 136.31, 143.34, 261.36, 271.78, 271.78, 130.02, 136.19, 170.15, 385.02, 170.15, 169.28, 82.00, 136.19, 261.36, 136.19, 99.16, 104.79\n",
      "    Pred cost: 56.15, -32.85, -26.65, -39.94, -38.58, 101.26, -8.12, 78.55, -41.70, -37.13, 56.69, 23.53, 136.08, -5.68, 18.92, 28.72, -19.89, 17.17, -29.93, 59.18, 66.35, 8.31, 49.06, -67.97, 16.31, 41.13, 16.54, 28.56, -44.81, -25.36, 38.36, 55.81, -31.70, 0.47, -25.58, 45.71, 52.99, -3.83, -6.67, -36.26\n",
      "    True sol: 0, 0, 0, 0, 1, 0, 0, 0, 0, 0, 0, 0, 0, 1, 0, 0, 0, 0, 1, 0, 0, 0, 0, 1, 0, 0, 0, 0, 1, 1, 0, 0, 0, 0, 1, 0, 0, 0, 0, 1, True obj: 1237.46\n",
      "    Pred sol: 0, 0, 0, 0, 1, 0, 0, 0, 0, 0, 0, 0, 0, 1, 0, 0, 0, 0, 1, 0, 0, 0, 0, 1, 0, 0, 0, 0, 1, 1, 0, 0, 0, 0, 1, 0, 0, 0, 0, 1, Pred obj: 1237.46\n",
      "\n",
      "Sample 5:\n",
      "    True cost: 24.08, 87.85, 82.00, 91.70, 22.71, 82.66, 199.20, 77.49, 27.64, 89.62, 82.66, 75.50, 80.99, 77.49, 93.53, 77.49, 216.63, 212.65, 189.10, 82.66, 75.50, 212.65, 79.10, 85.65, 26.81, 199.20, 93.53, 93.53, 70.68, 26.11, 192.26, 80.99, 192.26, 87.85, 82.00, 26.11, 199.20, 26.11, 209.24, 212.65\n",
      "    Pred cost: -4.96, 25.22, -2.39, -57.55, 7.93, -22.01, 39.32, 87.22, -58.58, -9.65, -9.89, 59.40, 58.85, 22.42, -19.70, -38.80, 89.89, -19.32, 23.12, -8.70, 31.65, 23.21, 8.84, 7.88, -57.14, 83.39, -17.39, -2.30, 5.88, -98.08, -23.67, 33.05, 4.88, 55.26, 0.90, -46.15, 40.70, 14.79, 59.93, 55.33\n",
      "    True sol: 1, 0, 0, 0, 0, 1, 0, 0, 0, 0, 1, 0, 0, 0, 0, 1, 0, 0, 0, 0, 0, 0, 0, 0, 1, 0, 0, 0, 0, 1, 1, 0, 0, 0, 0, 1, 0, 0, 0, 0, True obj: 538.19\n",
      "    Pred sol: 1, 0, 0, 0, 0, 1, 0, 0, 0, 0, 1, 0, 0, 0, 0, 1, 0, 0, 0, 0, 0, 0, 0, 0, 1, 0, 0, 0, 0, 1, 1, 0, 0, 0, 0, 1, 0, 0, 0, 0, Pred obj: 538.19\n",
      "\n",
      "Sample 6:\n",
      "    True cost: 179.52, 100.50, 82.00, 171.02, 106.20, 328.90, 371.83, 150.00, 83.19, 145.50, 328.90, 206.94, 243.58, 150.00, 237.08, 150.00, 197.48, 168.97, 174.01, 328.90, 206.94, 168.97, 210.09, 143.11, 68.57, 371.83, 237.08, 237.08, 84.92, 43.83, 240.90, 243.58, 240.90, 100.50, 82.00, 43.83, 371.83, 43.83, 118.34, 168.97\n",
      "    Pred cost: 55.51, -28.20, -39.16, -70.87, -40.94, 95.84, 11.18, 78.77, -72.66, -28.30, 47.88, 70.75, 119.48, -17.48, 27.65, -14.47, 46.22, -7.16, -28.05, 61.71, 102.02, 26.24, 26.71, -57.91, -36.05, 114.50, -1.88, 14.28, -47.45, -91.94, 8.82, 43.73, -14.46, 11.12, 3.47, -0.45, 47.89, -0.84, 5.82, 11.29\n",
      "    True sol: 0, 0, 0, 0, 1, 0, 0, 0, 0, 0, 0, 0, 0, 1, 0, 0, 0, 0, 1, 0, 0, 0, 0, 1, 0, 0, 0, 0, 1, 1, 0, 0, 0, 0, 1, 0, 0, 0, 0, 1, True obj: 953.05\n",
      "    Pred sol: 0, 0, 0, 0, 1, 0, 0, 0, 0, 0, 0, 0, 0, 1, 0, 0, 0, 0, 1, 0, 0, 0, 0, 1, 0, 0, 0, 0, 1, 1, 1, 0, 0, 0, 0, 1, 0, 0, 0, 0, Pred obj: 986.81\n",
      "\n",
      "Sample 7:\n",
      "    True cost: 26.58, 19.99, 82.00, 59.43, 7.10, 7.95, 11.25, 1.46, 133.04, 24.84, 7.95, 34.98, 6.09, 1.46, 70.46, 1.46, 74.72, 32.81, 1.96, 7.95, 34.98, 32.81, 1.80, 183.86, 65.56, 11.25, 70.46, 70.46, 7.80, 55.14, 2.53, 6.09, 2.53, 19.99, 82.00, 55.14, 11.25, 55.14, 26.76, 32.81\n",
      "    Pred cost: 60.99, 63.58, 88.89, 87.49, -64.14, 5.67, -0.83, -68.19, 92.35, 97.49, -72.67, 56.45, -0.89, -164.75, 156.42, -135.89, 40.24, 101.38, -104.66, -28.66, -93.30, 31.75, -119.26, 93.39, -32.14, -67.42, 105.09, -64.85, 35.41, 29.43, -102.96, -88.68, 40.17, -27.60, 59.76, -20.39, -87.62, -18.59, -34.28, 24.36\n",
      "    True sol: 0, 0, 0, 0, 1, 0, 0, 0, 0, 0, 0, 0, 0, 1, 0, 0, 0, 0, 1, 1, 1, 0, 0, 0, 0, 1, 0, 0, 0, 0, 1, 0, 0, 0, 0, 1, 0, 0, 0, 0, True obj: 122.37\n",
      "    Pred sol: 0, 0, 0, 0, 1, 0, 0, 0, 0, 0, 0, 0, 0, 1, 0, 0, 0, 0, 1, 1, 1, 0, 0, 0, 0, 1, 0, 0, 0, 0, 1, 0, 0, 0, 0, 1, 0, 0, 0, 0, Pred obj: 122.37\n",
      "\n",
      "Sample 8:\n",
      "    True cost: 47.45, 204.97, 82.00, 144.75, 74.42, 83.16, 48.50, 122.62, 88.97, 206.34, 83.16, 25.52, 82.47, 122.62, 145.80, 122.62, 90.66, 134.63, 75.25, 83.16, 25.52, 134.63, 123.55, 52.85, 132.36, 48.50, 145.80, 145.80, 42.32, 131.38, 75.89, 82.47, 75.89, 204.97, 82.00, 131.38, 48.50, 131.38, 133.64, 134.63\n",
      "    Pred cost: -29.46, 31.22, 52.56, 22.65, 30.76, -55.58, -14.71, 75.10, 23.54, 70.41, -18.62, -52.03, 51.88, -16.94, 17.25, 20.63, -37.63, 42.16, -41.68, 7.45, -68.09, 14.69, 43.40, -33.55, 82.06, -90.61, 42.31, 45.99, -19.33, 22.85, -24.94, 6.52, 13.05, 51.92, -43.49, 0.99, 4.81, 13.33, 56.86, 3.89\n",
      "    True sol: 1, 0, 0, 0, 0, 1, 0, 0, 0, 0, 1, 1, 0, 0, 0, 0, 1, 0, 0, 0, 0, 0, 0, 0, 0, 1, 0, 0, 0, 0, 1, 0, 0, 0, 0, 1, 0, 0, 0, 0, True obj: 585.71\n",
      "    Pred sol: 1, 0, 0, 0, 0, 1, 0, 0, 0, 0, 1, 1, 0, 0, 0, 0, 1, 0, 0, 0, 0, 0, 0, 0, 0, 1, 0, 0, 0, 0, 0, 0, 0, 0, 1, 0, 0, 0, 0, 1, Pred obj: 595.08\n",
      "\n",
      "Sample 9:\n",
      "    True cost: 47.95, 141.92, 82.00, 163.43, 39.63, 72.39, 65.63, 68.57, 116.86, 128.53, 72.39, 43.03, 81.10, 68.57, 148.52, 68.57, 150.82, 118.04, 62.09, 72.39, 43.03, 118.04, 60.91, 96.31, 89.99, 65.63, 148.52, 148.52, 40.47, 100.24, 55.00, 81.10, 55.00, 141.92, 82.00, 100.24, 65.63, 100.24, 130.59, 118.04\n",
      "    Pred cost: 10.04, 39.84, 50.93, 22.92, -8.02, -20.69, 1.50, 54.46, 23.94, 46.16, -25.83, 4.37, 58.74, -43.70, 42.70, -31.60, 11.11, 50.53, -46.48, -1.53, -53.79, 20.94, 3.08, -2.02, 26.52, -48.42, 51.89, 11.33, -5.49, -8.98, -40.61, -1.58, 10.85, 41.19, -20.85, -6.04, -1.69, 5.10, 42.72, 11.70\n"
     ]
    },
    {
     "name": "stdout",
     "output_type": "stream",
     "text": [
      "    True sol: 0, 0, 0, 0, 1, 0, 0, 0, 0, 0, 0, 0, 0, 1, 0, 0, 0, 0, 1, 1, 1, 0, 0, 0, 0, 1, 0, 0, 0, 0, 1, 0, 0, 0, 0, 1, 0, 0, 0, 0, True obj: 506.57\n",
      "    Pred sol: 0, 0, 0, 0, 1, 0, 0, 0, 0, 0, 0, 0, 0, 1, 0, 0, 0, 0, 1, 1, 1, 0, 0, 0, 0, 1, 0, 0, 0, 0, 1, 0, 0, 0, 0, 1, 0, 0, 0, 0, Pred obj: 506.57\n",
      "\n"
     ]
    }
   ],
   "source": [
    "# compare solutions\n",
    "reg.eval()\n",
    "# load data\n",
    "for i, data in enumerate(sp_loader_test):\n",
    "    x, c, w, z = data\n",
    "    # cuda\n",
    "    if torch.cuda.is_available():\n",
    "        x, c, w, z = x.cuda(), c.cuda(), w.cuda(), z.cuda()\n",
    "    # predict\n",
    "    cp = reg(x)\n",
    "    # convert to numpy\n",
    "    c = c.to('cpu').detach().numpy()\n",
    "    w = w.to('cpu').detach().numpy()\n",
    "    z = z.to('cpu').detach().numpy()\n",
    "    cp = cp.to('cpu').detach().numpy()\n",
    "    for j in range(min(10, batch_size)):\n",
    "        print('Sample {}:'.format(j))\n",
    "        print('    True cost:', ', '.join(['{:.2f}'.format(cost) for cost in c[j]]))\n",
    "        print('    Pred cost:', ', '.join(['{:.2f}'.format(cost) for cost in cp[j]]))\n",
    "        # solve cost from prediction\n",
    "        sp_model.setObj(cp[j])\n",
    "        wpj, _ = sp_model.solve()\n",
    "        zpj = np.dot(c[j], wpj)\n",
    "        print('    True sol: ' + ', '.join(['{:.0f}'.format(x) for x in w[j]]) + ', True obj: {:.2f}'.format(z[j,0]))\n",
    "        print('    Pred sol: '+  ', '.join(['{:.0f}'.format(x) for x in wpj]) + ', Pred obj: {:.2f}'.format(zpj))\n",
    "        print()\n",
    "    break"
   ]
  },
  {
   "cell_type": "markdown",
   "id": "coated-arrest",
   "metadata": {},
   "source": [
    "## Black-Box"
   ]
  },
  {
   "cell_type": "code",
   "execution_count": 40,
   "id": "given-treat",
   "metadata": {},
   "outputs": [],
   "source": [
    "# init model\n",
    "reg = LinearRegression()\n",
    "# cuda\n",
    "if torch.cuda.is_available():\n",
    "    reg = reg.cuda()"
   ]
  },
  {
   "cell_type": "code",
   "execution_count": 41,
   "id": "iraqi-syndrome",
   "metadata": {},
   "outputs": [],
   "source": [
    "# set optimizer\n",
    "optimizer = torch.optim.Adam(reg.parameters(), lr=1e-4)"
   ]
  },
  {
   "cell_type": "code",
   "execution_count": 42,
   "id": "proprietary-hygiene",
   "metadata": {},
   "outputs": [
    {
     "name": "stdout",
     "output_type": "stream",
     "text": [
      "Num of cores: 4\n"
     ]
    }
   ],
   "source": [
    "# set loss\n",
    "criterion = nn.L1Loss()\n",
    "bb = spo.func.blackboxOpt(sp_model, lambd=10, processes=4)"
   ]
  },
  {
   "cell_type": "code",
   "execution_count": null,
   "id": "atlantic-leather",
   "metadata": {},
   "outputs": [
    {
     "name": "stdout",
     "output_type": "stream",
     "text": [
      "Epoch  10, Loss: 403.9380, True SPO Loss: 61.9874%, Unambiguous SPO Loss: 61.9874%\n",
      "Epoch  20, Loss: 219.8508, True SPO Loss: 57.4095%, Unambiguous SPO Loss: 57.4095%\n",
      "Epoch  30, Loss: 258.0971, True SPO Loss: 51.4813%, Unambiguous SPO Loss: 51.4813%\n",
      "Epoch  40, Loss: 314.5955, True SPO Loss: 44.5109%, Unambiguous SPO Loss: 44.5109%\n",
      "Epoch  50, Loss: 191.3732, True SPO Loss: 36.9171%, Unambiguous SPO Loss: 36.9171%\n",
      "Epoch  60, Loss: 457.2165, True SPO Loss: 29.2923%, Unambiguous SPO Loss: 29.2923%\n",
      "Epoch  70, Loss: 105.6105, True SPO Loss: 22.3197%, Unambiguous SPO Loss: 22.3197%\n",
      "Epoch  80, Loss: 223.7784, True SPO Loss: 17.7648%, Unambiguous SPO Loss: 17.7648%\n",
      "Epoch  90, Loss: 128.1826, True SPO Loss: 14.2258%, Unambiguous SPO Loss: 14.2258%\n",
      "Epoch 100, Loss: 103.3355, True SPO Loss: 11.1293%, Unambiguous SPO Loss: 11.1293%\n",
      "Epoch 110, Loss:  90.6049, True SPO Loss:  8.6451%, Unambiguous SPO Loss:  8.6451%\n",
      "Epoch 120, Loss:  19.3376, True SPO Loss:  6.3690%, Unambiguous SPO Loss:  6.3690%\n",
      "Epoch 130, Loss:  14.4643, True SPO Loss:  5.5043%, Unambiguous SPO Loss:  5.5043%\n",
      "Epoch 140, Loss:  40.2357, True SPO Loss:  6.6229%, Unambiguous SPO Loss:  6.6229%\n",
      "Epoch 150, Loss: 117.4792, True SPO Loss:  6.0390%, Unambiguous SPO Loss:  6.0390%\n",
      "Epoch 160, Loss: 170.4260, True SPO Loss:  6.8539%, Unambiguous SPO Loss:  6.8539%\n",
      "Epoch 170, Loss:  48.1401, True SPO Loss:  5.8649%, Unambiguous SPO Loss:  5.8649%\n",
      "Epoch 180, Loss:  14.3748, True SPO Loss:  8.7163%, Unambiguous SPO Loss:  8.7163%\n",
      "Epoch 190, Loss:  23.6599, True SPO Loss:  5.5961%, Unambiguous SPO Loss:  5.5961%\n",
      "Epoch 200, Loss:  32.2295, True SPO Loss:  6.8212%, Unambiguous SPO Loss:  6.8212%\n",
      "Epoch 210, Loss:  37.7880, True SPO Loss:  9.7041%, Unambiguous SPO Loss:  9.7041%\n",
      "Epoch 220, Loss:  55.8561, True SPO Loss:  7.6601%, Unambiguous SPO Loss:  7.6613%\n",
      "Epoch 230, Loss:   3.7452, True SPO Loss:  6.4503%, Unambiguous SPO Loss:  6.4503%\n",
      "Epoch 240, Loss:  65.5970, True SPO Loss: 10.2732%, Unambiguous SPO Loss: 10.2732%\n"
     ]
    }
   ],
   "source": [
    "# train model\n",
    "num_epochs = 300\n",
    "lambd = 10\n",
    "reg.train()\n",
    "loss_log = []\n",
    "loss_log_truespo = []\n",
    "loss_log_unambspo = []\n",
    "for epoch in range(num_epochs):\n",
    "    # load data\n",
    "    for i, data in enumerate(sp_loader_train):\n",
    "        x, c, w, z = data\n",
    "        # cuda\n",
    "        if torch.cuda.is_available():\n",
    "            x, c, w, z = x.cuda(), c.cuda(), w.cuda(), z.cuda()\n",
    "        # linear regression\n",
    "        cp = reg(x)\n",
    "        # black-box optimizer\n",
    "        wp = bb.apply(cp)\n",
    "        # objective value\n",
    "        zp = (wp * c).sum(1).view(-1, 1)\n",
    "        # loss\n",
    "        loss = criterion(zp, z)\n",
    "        # backward pass\n",
    "        optimizer.zero_grad()\n",
    "        loss.backward()\n",
    "        optimizer.step()\n",
    "    loss_log.append(loss.item())\n",
    "    if (epoch + 1) % 10 == 0:\n",
    "        # true SPO\n",
    "        trueloss = spo.eval.trueSPO(reg, sp_model, sp_loader_test)\n",
    "        loss_log_truespo.append(trueloss)\n",
    "        # unambiguous SPO \n",
    "        unambloss = spo.eval.unambSPO(reg, sp_model, sp_loader_test)\n",
    "        loss_log_unambspo.append(unambloss)\n",
    "        print('Epoch {:3}, Loss: {:8.4f}, True SPO Loss: {:7.4f}%, Unambiguous SPO Loss: {:7.4f}%'. \\\n",
    "              format(epoch+1, loss.item(), trueloss*100, unambloss*100))"
   ]
  },
  {
   "cell_type": "code",
   "execution_count": null,
   "id": "functional-webcam",
   "metadata": {},
   "outputs": [],
   "source": [
    "# draw plot\n",
    "plt.figure(figsize=(12, 6))\n",
    "plt.plot(loss_log, color='c')\n",
    "plt.xlabel('Epoch')\n",
    "plt.ylabel('SPO Loss')\n",
    "plt.title('Learning Curve')\n",
    "plt.show()"
   ]
  },
  {
   "cell_type": "code",
   "execution_count": null,
   "id": "c9cd6e23",
   "metadata": {},
   "outputs": [],
   "source": [
    "# draw plot\n",
    "plt.figure(figsize=(12, 6))\n",
    "plt.plot(range(0, num_epochs, 10), loss_log_truespo, color='m', alpha=0.7, label='True SPO')\n",
    "plt.plot(range(0, num_epochs, 10), loss_log_unambspo, color='b', alpha=0.7, label='Unambiguous SPO')\n",
    "plt.xlabel('Epoch')\n",
    "plt.ylabel('Loss')\n",
    "plt.title('Learning Curve')\n",
    "plt.legend()\n",
    "plt.show()"
   ]
  },
  {
   "cell_type": "code",
   "execution_count": null,
   "id": "framed-valentine",
   "metadata": {},
   "outputs": [],
   "source": [
    "# evaluate\n",
    "spoloss = spo.eval.trueSPO(reg, sp_model, sp_loader_test)\n",
    "print('Normalized true SPO Loss: {:.2f}%'.format(spoloss * 100))\n",
    "spoloss = spo.eval.unambSPO(reg, sp_model, sp_loader_test)\n",
    "print('Normalized unambiguous SPO Loss: {:.2f}%'.format(spoloss * 100))"
   ]
  },
  {
   "cell_type": "code",
   "execution_count": null,
   "id": "arbitrary-lexington",
   "metadata": {
    "scrolled": false
   },
   "outputs": [],
   "source": [
    "# compare solutions\n",
    "reg.eval()\n",
    "# load data\n",
    "for i, data in enumerate(sp_loader_test):\n",
    "    x, c, w, z = data\n",
    "    # cuda\n",
    "    if torch.cuda.is_available():\n",
    "        x, c, w, z = x.cuda(), c.cuda(), w.cuda(), z.cuda()\n",
    "    # predict\n",
    "    cp = reg(x)\n",
    "    # convert to numpy\n",
    "    c = c.to('cpu').detach().numpy()\n",
    "    w = w.to('cpu').detach().numpy()\n",
    "    z = z.to('cpu').detach().numpy()\n",
    "    cp = cp.to('cpu').detach().numpy()\n",
    "    for j in range(min(10, batch_size)):\n",
    "        print('Sample {}:'.format(j))\n",
    "        print('    True cost:', ', '.join(['{:.2f}'.format(cost) for cost in c[j]]))\n",
    "        print('    Pred cost:', ', '.join(['{:.2f}'.format(cost) for cost in cp[j]]))\n",
    "        # solve cost from prediction\n",
    "        sp_model.setObj(cp[j])\n",
    "        wpj, _ = sp_model.solve()\n",
    "        zpj = np.dot(c[j], wpj)\n",
    "        print('    True sol: ' + ', '.join(['{:.0f}'.format(x) for x in w[j]]) + ', True obj: {:.2f}'.format(z[j,0]))\n",
    "        print('    Pred sol: '+  ', '.join(['{:.0f}'.format(x) for x in wpj]) + ', Pred obj: {:.2f}'.format(zpj))\n",
    "        print()\n",
    "    break"
   ]
  },
  {
   "cell_type": "markdown",
   "id": "fifteen-continent",
   "metadata": {},
   "source": [
    "## Black-Box with Regularization"
   ]
  },
  {
   "cell_type": "code",
   "execution_count": null,
   "id": "electrical-preservation",
   "metadata": {},
   "outputs": [],
   "source": [
    "# init model\n",
    "reg = LinearRegression()\n",
    "# cuda\n",
    "if torch.cuda.is_available():\n",
    "    reg = reg.cuda()"
   ]
  },
  {
   "cell_type": "code",
   "execution_count": null,
   "id": "framed-mercy",
   "metadata": {},
   "outputs": [],
   "source": [
    "# set optimizer\n",
    "optimizer = torch.optim.Adam(reg.parameters(), lr=1e-4)"
   ]
  },
  {
   "cell_type": "code",
   "execution_count": null,
   "id": "encouraging-bumper",
   "metadata": {},
   "outputs": [],
   "source": [
    "# set loss\n",
    "bb = spo.func.blackboxOpt(sp_model, lambd=10, processes=4)\n",
    "criterion = nn.L1Loss()"
   ]
  },
  {
   "cell_type": "code",
   "execution_count": null,
   "id": "buried-nickname",
   "metadata": {},
   "outputs": [],
   "source": [
    "# train model\n",
    "num_epochs = 300\n",
    "lambd = 10\n",
    "reg.train()\n",
    "loss_log = []\n",
    "loss_log_truespo = []\n",
    "loss_log_unambspo = []\n",
    "for epoch in range(num_epochs):\n",
    "    # load data\n",
    "    for i, data in enumerate(sp_loader_train):\n",
    "        x, c, w, z = data\n",
    "        # cuda\n",
    "        if torch.cuda.is_available():\n",
    "            x, c, w, z = x.cuda(), c.cuda(), w.cuda(), z.cuda()\n",
    "        # linear regression\n",
    "        cp = reg(x)\n",
    "        # black-box optimizer\n",
    "        wp = bb.apply(cp)\n",
    "        # objective value\n",
    "        zp = (wp * c).sum(1).view(-1, 1)\n",
    "        # loss\n",
    "        loss = criterion(zp, z)\n",
    "        # l1 reg\n",
    "        l1_lambda = 1e-3\n",
    "        l1_reg = torch.abs(cp - c).sum(dim=1).mean()\n",
    "        loss += l1_lambda * l1_reg\n",
    "        # backward pass\n",
    "        optimizer.zero_grad()\n",
    "        loss.backward()\n",
    "        optimizer.step()\n",
    "    loss_log.append(loss.item())\n",
    "    if (epoch + 1) % 10 == 0:\n",
    "        # true SPO\n",
    "        trueloss = spo.eval.trueSPO(reg, sp_model, sp_loader_test)\n",
    "        loss_log_truespo.append(trueloss)\n",
    "        # unambiguous SPO \n",
    "        unambloss = spo.eval.unambSPO(reg, sp_model, sp_loader_test)\n",
    "        loss_log_unambspo.append(unambloss)\n",
    "        print('Epoch {:3}, Loss: {:8.4f}, True SPO Loss: {:7.4f}%, Unambiguous SPO Loss: {:7.4f}%'. \\\n",
    "              format(epoch+1, loss.item(), trueloss*100, unambloss*100))"
   ]
  },
  {
   "cell_type": "code",
   "execution_count": null,
   "id": "given-symposium",
   "metadata": {},
   "outputs": [],
   "source": [
    "# draw plot\n",
    "plt.figure(figsize=(12, 6))\n",
    "plt.plot(loss_log, color='c')\n",
    "plt.xlabel('Epoch')\n",
    "plt.ylabel('SPO Loss')\n",
    "plt.title('Learning Curve')\n",
    "plt.show()"
   ]
  },
  {
   "cell_type": "code",
   "execution_count": null,
   "id": "acf6c3c8",
   "metadata": {},
   "outputs": [],
   "source": [
    "# draw plot\n",
    "plt.figure(figsize=(12, 6))\n",
    "plt.plot(range(0, num_epochs, 10), loss_log_truespo, color='m', alpha=0.7, label='True SPO')\n",
    "plt.plot(range(0, num_epochs, 10), loss_log_unambspo, color='b', alpha=0.7, label='Unambiguous SPO')\n",
    "plt.xlabel('Epoch')\n",
    "plt.ylabel('Loss')\n",
    "plt.title('Learning Curve')\n",
    "plt.legend()\n",
    "plt.show()"
   ]
  },
  {
   "cell_type": "code",
   "execution_count": null,
   "id": "protective-proxy",
   "metadata": {},
   "outputs": [],
   "source": [
    "# evaluate\n",
    "spoloss = spo.eval.trueSPO(reg, sp_model, sp_loader_test)\n",
    "print('Normalized true SPO Loss: {:.2f}%'.format(spoloss * 100))\n",
    "spoloss = spo.eval.unambSPO(reg, sp_model, sp_loader_test)\n",
    "print('Normalized unambiguous SPO Loss: {:.2f}%'.format(spoloss * 100))"
   ]
  },
  {
   "cell_type": "code",
   "execution_count": null,
   "id": "attempted-egypt",
   "metadata": {
    "scrolled": false
   },
   "outputs": [],
   "source": [
    "# compare solutions\n",
    "reg.eval()\n",
    "# load data\n",
    "for i, data in enumerate(sp_loader_test):\n",
    "    x, c, w, z = data\n",
    "    # cuda\n",
    "    if torch.cuda.is_available():\n",
    "        x, c, w, z = x.cuda(), c.cuda(), w.cuda(), z.cuda()\n",
    "    # predict\n",
    "    cp = reg(x)\n",
    "    # convert to numpy\n",
    "    c = c.to('cpu').detach().numpy()\n",
    "    w = w.to('cpu').detach().numpy()\n",
    "    z = z.to('cpu').detach().numpy()\n",
    "    cp = cp.to('cpu').detach().numpy()\n",
    "    for j in range(min(10, batch_size)):\n",
    "        print('Sample {}:'.format(j))\n",
    "        print('    True cost:', ', '.join(['{:.2f}'.format(cost) for cost in c[j]]))\n",
    "        print('    Pred cost:', ', '.join(['{:.2f}'.format(cost) for cost in cp[j]]))\n",
    "        # solve cost from prediction\n",
    "        sp_model.setObj(cp[j])\n",
    "        wpj, _ = sp_model.solve()\n",
    "        zpj = np.dot(c[j], wpj)\n",
    "        print('    True sol: ' + ', '.join(['{:.0f}'.format(x) for x in w[j]]) + ', True obj: {:.2f}'.format(z[j,0]))\n",
    "        print('    Pred sol: '+  ', '.join(['{:.0f}'.format(x) for x in wpj]) + ', Pred obj: {:.2f}'.format(zpj))\n",
    "        print()\n",
    "    break"
   ]
  },
  {
   "cell_type": "code",
   "execution_count": null,
   "id": "capital-ferry",
   "metadata": {},
   "outputs": [],
   "source": []
  }
 ],
 "metadata": {
  "kernelspec": {
   "display_name": "Python 3",
   "language": "python",
   "name": "python3"
  },
  "language_info": {
   "codemirror_mode": {
    "name": "ipython",
    "version": 3
   },
   "file_extension": ".py",
   "mimetype": "text/x-python",
   "name": "python",
   "nbconvert_exporter": "python",
   "pygments_lexer": "ipython3",
   "version": "3.7.11"
  }
 },
 "nbformat": 4,
 "nbformat_minor": 5
}
