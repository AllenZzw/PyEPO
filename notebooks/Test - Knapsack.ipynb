{
 "cells": [
  {
   "cell_type": "code",
   "execution_count": 1,
   "id": "ec1bcb42",
   "metadata": {},
   "outputs": [],
   "source": [
    "# set work dir\n",
    "import os\n",
    "os.chdir(\"../\")"
   ]
  },
  {
   "cell_type": "code",
   "execution_count": 2,
   "id": "4a8178d0",
   "metadata": {},
   "outputs": [
    {
     "name": "stdout",
     "output_type": "stream",
     "text": [
      "Auto-Sklearn cannot be imported.\n"
     ]
    },
    {
     "data": {
      "text/plain": [
       "<torch._C.Generator at 0x2305c50f9b0>"
      ]
     },
     "execution_count": 2,
     "metadata": {},
     "output_type": "execute_result"
    }
   ],
   "source": [
    "import time\n",
    "import spo\n",
    "import torch\n",
    "from matplotlib import pyplot as plt\n",
    "import numpy as np\n",
    "from tqdm import tqdm\n",
    "torch.manual_seed(135)"
   ]
  },
  {
   "cell_type": "markdown",
   "id": "610273f3",
   "metadata": {},
   "source": [
    "## Init Data"
   ]
  },
  {
   "cell_type": "code",
   "execution_count": 3,
   "id": "b294594d",
   "metadata": {},
   "outputs": [],
   "source": [
    "# generate data for grid network (features and costs)\n",
    "m = 32 # number of items\n",
    "n = 100 # number of data\n",
    "p = 5 # size of feature\n",
    "deg = 4 # polynomial degree\n",
    "dim = 3 # dimension of knapsack\n",
    "weights, x, c = spo.data.knapsack.genData(n+1000, p, m, deg=deg, dim=dim)"
   ]
  },
  {
   "cell_type": "code",
   "execution_count": 4,
   "id": "1a1f8e4a",
   "metadata": {},
   "outputs": [
    {
     "data": {
      "text/plain": [
       "array([[4.59, 4.87, 5.19, 7.59, 6.8 , 4.97, 4.84, 3.22, 7.9 , 3.62, 3.12,\n",
       "        6.81, 7.09, 3.23, 4.47, 5.23, 6.11, 5.23, 4.27, 6.66, 5.21, 3.72,\n",
       "        7.83, 5.64, 7.56, 3.28, 4.31, 3.85, 6.43, 4.26, 7.56, 6.4 ],\n",
       "       [6.09, 6.4 , 4.5 , 6.31, 6.35, 3.07, 6.03, 7.39, 3.48, 5.57, 6.27,\n",
       "        4.55, 5.64, 5.66, 3.27, 6.68, 4.2 , 5.61, 6.13, 7.88, 4.61, 4.92,\n",
       "        6.09, 7.95, 7.11, 4.02, 3.07, 7.84, 6.29, 5.78, 5.57, 5.65],\n",
       "       [7.41, 5.21, 3.42, 6.48, 5.77, 7.67, 7.32, 3.31, 4.36, 4.75, 3.38,\n",
       "        3.44, 6.3 , 4.85, 7.09, 5.7 , 4.05, 6.04, 6.51, 3.41, 7.94, 6.05,\n",
       "        7.18, 3.64, 4.35, 4.45, 4.27, 4.87, 5.74, 3.16, 5.41, 3.81]])"
      ]
     },
     "execution_count": 4,
     "metadata": {},
     "output_type": "execute_result"
    }
   ],
   "source": [
    "weights"
   ]
  },
  {
   "cell_type": "code",
   "execution_count": 5,
   "id": "36330b0b",
   "metadata": {},
   "outputs": [],
   "source": [
    "# convert max into min\n",
    "c = - c"
   ]
  },
  {
   "cell_type": "markdown",
   "id": "2bd2586e",
   "metadata": {},
   "source": [
    "## Optimization Model "
   ]
  },
  {
   "cell_type": "code",
   "execution_count": 6,
   "id": "854f2b47",
   "metadata": {},
   "outputs": [],
   "source": [
    "# capacity\n",
    "caps = [20, 20, 20]"
   ]
  },
  {
   "cell_type": "code",
   "execution_count": 7,
   "id": "95c1fde4",
   "metadata": {},
   "outputs": [
    {
     "name": "stdout",
     "output_type": "stream",
     "text": [
      "Set parameter Username\n",
      "Academic license - for non-commercial use only - expires 2022-03-06\n"
     ]
    }
   ],
   "source": [
    "ks_model = spo.model.grb.knapsackModel(weights, caps)"
   ]
  },
  {
   "cell_type": "code",
   "execution_count": 8,
   "id": "24e5bd87",
   "metadata": {},
   "outputs": [
    {
     "name": "stdout",
     "output_type": "stream",
     "text": [
      "[0.0, 0.0, 0.0, 0.0, 0.0, 0.0, 0.0, 0.0, 0.0, 0.0, 0.0, 0.0, 0.0, 0.0, 0.0, 0.0, 0.0, 0.0, 0.0, 0.0, 0.0, 0.0, 0.0, 0.0, 0.0, 1.0, 1.0, 0.0, 0.0, 1.0, 0.0, 1.0]\n",
      "Obj: -111.0\n",
      "25\n",
      "26\n",
      "29\n",
      "31\n"
     ]
    }
   ],
   "source": [
    "# solve\n",
    "ks_model.setObj([-i for i in range(m)])\n",
    "sol, obj = ks_model.solve()\n",
    "print(sol)\n",
    "print('Obj: {}'.format(obj))\n",
    "for i in ks_model.items:\n",
    "    if sol[i] > 1e-3:\n",
    "        print(i)"
   ]
  },
  {
   "cell_type": "code",
   "execution_count": 9,
   "id": "9a11572a",
   "metadata": {},
   "outputs": [],
   "source": [
    "# relax\n",
    "ks_model_rel = ks_model.relax()"
   ]
  },
  {
   "cell_type": "code",
   "execution_count": 10,
   "id": "5c09dd38",
   "metadata": {},
   "outputs": [
    {
     "name": "stdout",
     "output_type": "stream",
     "text": [
      "[0.0, 0.0, 0.0, 0.0, 0.0, 0.0, 0.0, 0.0, 0.0, 0.0, 0.0, 0.0, 0.0, 0.0, 0.0, 0.0, 0.0, 0.0, 0.0, 0.0, 0.0, 0.08748512880277728, 0.0, 0.0, 0.0, 1.0, 1.0, 0.0, 0.0, 1.0, 0.18843324349916252, 1.0]\n",
      "Obj: -118.4901850098332\n",
      "21\n",
      "25\n",
      "26\n",
      "29\n",
      "30\n",
      "31\n"
     ]
    }
   ],
   "source": [
    "# solve\n",
    "ks_model_rel.setObj([-i for i in range(m)])\n",
    "sol, obj = ks_model_rel.solve()\n",
    "print(sol)\n",
    "print('Obj: {}'.format(obj))\n",
    "for i in ks_model_rel.items:\n",
    "    if sol[i] > 1e-3:\n",
    "        print(i)"
   ]
  },
  {
   "cell_type": "markdown",
   "id": "4bec37e4",
   "metadata": {},
   "source": [
    "## Data Loader "
   ]
  },
  {
   "cell_type": "code",
   "execution_count": 11,
   "id": "261aed4e",
   "metadata": {},
   "outputs": [],
   "source": [
    "from sklearn.model_selection import train_test_split\n",
    "from torch.utils.data import DataLoader"
   ]
  },
  {
   "cell_type": "code",
   "execution_count": 12,
   "id": "4eda340b",
   "metadata": {},
   "outputs": [],
   "source": [
    "# data split\n",
    "x_train, x_test, c_train, c_test = train_test_split(x, c, test_size=1000, random_state=246)"
   ]
  },
  {
   "cell_type": "code",
   "execution_count": 13,
   "id": "a0e0ef0b",
   "metadata": {},
   "outputs": [
    {
     "name": "stdout",
     "output_type": "stream",
     "text": [
      "Optimizing for optDataset...\n"
     ]
    },
    {
     "name": "stderr",
     "output_type": "stream",
     "text": [
      "100%|████████████████████████████████████████████████████████████████████████████████████████████████| 100/100 [00:00<00:00, 284.02it/s]\n"
     ]
    }
   ],
   "source": [
    "# get training data set\n",
    "ks_dataset_train = spo.data.dataset.optDataset(ks_model, x_train, c_train)"
   ]
  },
  {
   "cell_type": "code",
   "execution_count": 14,
   "id": "fad71155",
   "metadata": {},
   "outputs": [
    {
     "name": "stdout",
     "output_type": "stream",
     "text": [
      "Optimizing for optDataset...\n"
     ]
    },
    {
     "name": "stderr",
     "output_type": "stream",
     "text": [
      "100%|███████████████████████████████████████████████████████████████████████████████████████████████| 100/100 [00:00<00:00, 1315.46it/s]\n"
     ]
    }
   ],
   "source": [
    "# get training data set for relaxation\n",
    "ks_dataset_train_rel = spo.data.dataset.optDataset(ks_model_rel, x_train, c_train)"
   ]
  },
  {
   "cell_type": "code",
   "execution_count": 15,
   "id": "c8fc0755",
   "metadata": {},
   "outputs": [
    {
     "name": "stdout",
     "output_type": "stream",
     "text": [
      "Optimizing for optDataset...\n"
     ]
    },
    {
     "name": "stderr",
     "output_type": "stream",
     "text": [
      "100%|██████████████████████████████████████████████████████████████████████████████████████████████| 1000/1000 [00:03<00:00, 311.85it/s]\n"
     ]
    }
   ],
   "source": [
    "# get test data set\n",
    "ks_dataset_test = spo.data.dataset.optDataset(ks_model, x_test, c_test)"
   ]
  },
  {
   "cell_type": "code",
   "execution_count": 16,
   "id": "bf0bbb3e",
   "metadata": {},
   "outputs": [],
   "source": [
    "# get data loader\n",
    "batch_size = 32\n",
    "ks_loader_train = DataLoader(ks_dataset_train, batch_size=batch_size, shuffle=True)\n",
    "ks_loader_train_rel = DataLoader(ks_dataset_train_rel, batch_size=batch_size, shuffle=True)\n",
    "ks_loader_test = DataLoader(ks_dataset_test, batch_size=batch_size, shuffle=False)"
   ]
  },
  {
   "cell_type": "code",
   "execution_count": 17,
   "id": "a542a7df",
   "metadata": {},
   "outputs": [],
   "source": [
    "for i, data in enumerate(ks_loader_train):\n",
    "    x, c, w, z = data\n",
    "    break"
   ]
  },
  {
   "cell_type": "code",
   "execution_count": 18,
   "id": "75fc2763",
   "metadata": {},
   "outputs": [
    {
     "data": {
      "text/plain": [
       "torch.Size([32, 5])"
      ]
     },
     "execution_count": 18,
     "metadata": {},
     "output_type": "execute_result"
    }
   ],
   "source": [
    "x.shape"
   ]
  },
  {
   "cell_type": "code",
   "execution_count": 19,
   "id": "5e50a821",
   "metadata": {},
   "outputs": [
    {
     "data": {
      "text/plain": [
       "torch.Size([32, 32])"
      ]
     },
     "execution_count": 19,
     "metadata": {},
     "output_type": "execute_result"
    }
   ],
   "source": [
    "c.shape"
   ]
  },
  {
   "cell_type": "code",
   "execution_count": 20,
   "id": "074c9398",
   "metadata": {},
   "outputs": [
    {
     "data": {
      "text/plain": [
       "torch.Size([32, 32])"
      ]
     },
     "execution_count": 20,
     "metadata": {},
     "output_type": "execute_result"
    }
   ],
   "source": [
    "w.shape"
   ]
  },
  {
   "cell_type": "code",
   "execution_count": 21,
   "id": "20de02c7",
   "metadata": {},
   "outputs": [
    {
     "data": {
      "text/plain": [
       "torch.Size([32, 1])"
      ]
     },
     "execution_count": 21,
     "metadata": {},
     "output_type": "execute_result"
    }
   ],
   "source": [
    "z.shape"
   ]
  },
  {
   "cell_type": "markdown",
   "id": "ba836667",
   "metadata": {},
   "source": [
    "## Linear Regression from Scikit-Lear "
   ]
  },
  {
   "cell_type": "code",
   "execution_count": 22,
   "id": "bac0dc77",
   "metadata": {},
   "outputs": [],
   "source": [
    "from sklearn.linear_model import LinearRegression"
   ]
  },
  {
   "cell_type": "code",
   "execution_count": 23,
   "id": "2888cc9b",
   "metadata": {},
   "outputs": [],
   "source": [
    "# prediction model\n",
    "reg = LinearRegression()"
   ]
  },
  {
   "cell_type": "markdown",
   "id": "cc19e83e",
   "metadata": {},
   "source": [
    "## Two-Stage "
   ]
  },
  {
   "cell_type": "code",
   "execution_count": 24,
   "id": "6adcf558",
   "metadata": {},
   "outputs": [],
   "source": [
    "# build model\n",
    "twostage_model = spo.twostage.sklearnPred(reg)"
   ]
  },
  {
   "cell_type": "code",
   "execution_count": 25,
   "id": "86fe3c54",
   "metadata": {},
   "outputs": [
    {
     "data": {
      "text/plain": [
       "MultiOutputRegressor(estimator=LinearRegression())"
      ]
     },
     "execution_count": 25,
     "metadata": {},
     "output_type": "execute_result"
    }
   ],
   "source": [
    "# training\n",
    "twostage_model.fit(ks_dataset_train.feats, ks_dataset_train.costs)"
   ]
  },
  {
   "cell_type": "code",
   "execution_count": 26,
   "id": "e2e103e7",
   "metadata": {},
   "outputs": [],
   "source": [
    "# prediction\n",
    "c_test_pred = twostage_model.predict(ks_dataset_test.feats)"
   ]
  },
  {
   "cell_type": "code",
   "execution_count": 27,
   "id": "5aa3cd7f",
   "metadata": {},
   "outputs": [
    {
     "name": "stderr",
     "output_type": "stream",
     "text": [
      "100%|███████████████████████████████████████████████████████████████████████████████████████████████| 1000/1000 [00:14<00:00, 69.75it/s]\n"
     ]
    },
    {
     "name": "stdout",
     "output_type": "stream",
     "text": [
      "Normalized true SPO Loss: 3.91%\n",
      "Normalized unambiguous SPO Loss: 3.91%\n"
     ]
    }
   ],
   "source": [
    "# evaluate\n",
    "truespo = 0\n",
    "unambspo = 0\n",
    "for i in tqdm(range(1000)):\n",
    "    c_pred_i = c_test_pred[i]\n",
    "    c_true_i = ks_dataset_test.costs[i]\n",
    "    z_true_i = ks_dataset_test.objs[i,0]\n",
    "    truespo += spo.eval.calTrueSPO(ks_model, c_pred_i, c_true_i, z_true_i)\n",
    "    unambspo += spo.eval.calUnambSPO(ks_model, c_pred_i, c_true_i, z_true_i)\n",
    "time.sleep(1)\n",
    "print('Normalized true SPO Loss: {:.2f}%'.format(truespo / abs(ks_dataset_test.objs.sum()) * 100))\n",
    "print('Normalized unambiguous SPO Loss: {:.2f}%'.format(unambspo / abs(ks_dataset_test.objs.sum()) * 100))"
   ]
  },
  {
   "cell_type": "code",
   "execution_count": 28,
   "id": "feeeed33",
   "metadata": {
    "scrolled": false
   },
   "outputs": [
    {
     "name": "stdout",
     "output_type": "stream",
     "text": [
      "Sample 0:\n",
      "    True cost: 2.00, 2.00, 1.00, 1.00, 3.00, 1.00, 2.00, 3.00, 1.00, 2.00, 2.00, 3.00, 2.00, 4.00, 3.00, 2.00, 3.00, 3.00, 1.00, 2.00, 2.00, 1.00, 2.00, 2.00, 3.00, 2.00, 2.00, 2.00, 2.00, 3.00, 1.00, 2.00\n",
      "    Pred cost: 2.77, 2.42, 0.60, 0.43, 4.70, 0.43, 2.25, 3.40, 0.28, 2.77, 2.42, 3.40, 2.32, 3.95, 3.42, 2.36, 4.70, 4.70, 0.62, 2.12, 1.83, 0.60, 1.83, 2.05, 3.00, 2.12, 2.36, 2.12, 1.77, 3.40, 0.34, 2.77\n",
      "    True sol: 0, 0, 0, 0, 0, 0, 0, 0, 0, 0, 0, 0, 0, 1, 1, 0, 1, 0, 0, 0, 0, 0, 0, 0, 0, 0, 0, 0, 0, 1, 0, 0, True obj: 13.00\n",
      "    Pred sol: -0, -0, -0, -0, -0, -0, -0, -0, -0, -0, -0, -0, -0, 1, -0, -0, 1, 1, -0, -0, -0, -0, -0, -0, -0, -0, 1, -0, -0, -0, -0, -0, Pred obj: 12.00\n",
      "\n",
      "Sample 1:\n",
      "    True cost: 4.00, 3.00, 3.00, 5.00, 3.00, 5.00, 2.00, 3.00, 3.00, 4.00, 3.00, 3.00, 7.00, 2.00, 5.00, 3.00, 3.00, 3.00, 3.00, 4.00, 5.00, 3.00, 5.00, 4.00, 3.00, 4.00, 3.00, 4.00, 3.00, 3.00, 2.00, 4.00\n",
      "    Pred cost: 6.10, 3.16, 5.14, 6.68, 4.65, 6.68, 1.31, 3.82, 4.57, 6.10, 3.16, 3.82, 7.47, 1.87, 4.90, 3.60, 4.65, 4.65, 4.04, 4.47, 5.37, 5.14, 5.37, 5.01, 3.00, 4.47, 3.60, 4.47, 3.10, 3.82, 2.43, 6.10\n",
      "    True sol: 0, 0, 0, 0, 0, 0, 0, 0, 0, 1, 0, 0, 1, 0, 0, 0, 0, 0, 0, 0, 0, 0, 0, 0, 0, 1, 1, 0, 0, 0, 0, 0, True obj: 18.00\n",
      "    Pred sol: -0, -0, 1, -0, -0, 0, -0, -0, -0, 1, -0, -0, 1, -0, 0, -0, 0, -0, -0, -0, -0, 0, -0, -0, -0, 1, -0, -0, -0, -0, -0, 0, Pred obj: 18.00\n",
      "\n",
      "Sample 2:\n",
      "    True cost: 7.00, 2.00, 14.00, 12.00, 12.00, 12.00, 10.00, 4.00, 5.00, 7.00, 2.00, 4.00, 6.00, 4.00, 8.00, 3.00, 12.00, 12.00, 4.00, 16.00, 2.00, 14.00, 2.00, 18.00, 3.00, 16.00, 3.00, 16.00, 8.00, 4.00, 6.00, 7.00\n",
      "    Pred cost: 7.78, 2.61, 11.59, 9.67, 9.59, 9.67, 8.42, 4.15, 5.00, 7.78, 2.61, 4.15, 6.24, 4.06, 7.28, 2.88, 9.59, 9.59, 4.46, 10.35, 1.82, 11.59, 1.82, 11.59, 3.00, 10.35, 2.88, 10.35, 7.31, 4.15, 6.36, 7.78\n",
      "    True sol: 0, 0, 1, 0, 0, 1, 0, 0, 0, 0, 0, 0, 0, 0, 0, 0, 0, 0, 0, 0, 0, 0, 0, 1, 0, 1, 0, 0, 0, 0, 0, 0, True obj: 60.00\n",
      "    Pred sol: -0, -0, 1, -0, -0, 1, -0, -0, -0, -0, -0, -0, -0, -0, -0, -0, -0, -0, -0, 0, -0, -0, -0, 1, -0, 1, -0, 0, -0, -0, -0, -0, Pred obj: 60.00\n",
      "\n",
      "Sample 3:\n",
      "    True cost: 4.00, 3.00, 4.00, 3.00, 6.00, 3.00, 4.00, 2.00, 2.00, 4.00, 3.00, 2.00, 3.00, 5.00, 6.00, 2.00, 6.00, 6.00, 2.00, 6.00, 1.00, 4.00, 1.00, 4.00, 3.00, 6.00, 2.00, 6.00, 2.00, 2.00, 2.00, 4.00\n",
      "    Pred cost: 5.47, 3.78, 6.31, 4.01, 6.92, 4.01, 4.60, 2.26, 1.06, 5.47, 3.78, 2.26, 3.37, 4.99, 5.68, 2.27, 6.92, 6.92, 2.56, 6.31, 0.33, 6.31, 0.33, 5.52, 3.00, 6.31, 2.27, 6.31, 2.84, 2.26, 2.98, 5.47\n",
      "    True sol: -0, -0, -0, -0, -0, -0, -0, -0, -0, -0, -0, -0, -0, 1, -0, -0, 1, 1, -0, -0, -0, -0, -0, -0, -0, 1, -0, -0, -0, -0, -0, -0, True obj: 23.00\n",
      "    Pred sol: 0, 0, 1, 0, 0, 0, 0, 0, 0, 0, 0, 0, 0, 0, 0, 0, 1, 1, 0, 0, 0, 0, 0, 0, 0, 1, 0, 0, 0, 0, 0, 0, Pred obj: 22.00\n",
      "\n",
      "Sample 4:\n",
      "    True cost: 1.00, 3.00, 1.00, 1.00, 2.00, 1.00, 3.00, 2.00, 1.00, 1.00, 3.00, 2.00, 1.00, 5.00, 2.00, 2.00, 2.00, 2.00, 2.00, 2.00, 1.00, 1.00, 1.00, 1.00, 3.00, 2.00, 2.00, 2.00, 2.00, 2.00, 2.00, 1.00\n",
      "    Pred cost: 0.32, 3.04, 0.54, -0.65, 2.60, -0.65, 4.03, 2.21, 0.38, 0.32, 3.04, 2.21, -0.56, 4.89, 2.44, 1.62, 2.60, 2.60, 1.67, 2.47, 0.23, 0.54, 0.23, 1.35, 3.00, 2.47, 1.62, 2.47, 2.28, 2.21, 2.02, 0.32\n",
      "    True sol: -0, 0, -0, -0, -0, -0, -0, -0, -0, -0, 1, -0, -0, 1, 1, -0, -0, -0, -0, -0, -0, -0, -0, -0, -0, -0, 1, -0, -0, -0, -0, -0, True obj: 12.00\n",
      "    Pred sol: -0, 0, -0, 0, 0, 0, 0, -0, -0, -0, 1, 0, 0, 1, 1, -0, 1, 0, -0, -0, -0, -0, -0, -0, 0, 0, 0, -0, -0, 0, -0, -0, Pred obj: 12.00\n",
      "\n",
      "Sample 5:\n",
      "    True cost: 1.00, 1.00, 3.00, 6.00, 2.00, 6.00, 4.00, 3.00, 4.00, 1.00, 1.00, 3.00, 3.00, 2.00, 5.00, 1.00, 2.00, 2.00, 4.00, 10.00, 2.00, 3.00, 2.00, 10.00, 3.00, 10.00, 1.00, 10.00, 8.00, 3.00, 2.00, 1.00\n",
      "    Pred cost: -1.73, -1.48, 2.88, 6.29, 1.61, 6.29, 4.53, 3.26, 4.45, -1.73, -1.48, 3.26, 2.19, 1.02, 4.90, -3.08, 1.61, 1.61, 4.42, 8.53, 0.93, 2.88, 0.93, 8.90, 3.00, 8.53, -3.08, 8.53, 7.28, 3.26, 1.01, -1.73\n",
      "    True sol: 0, 0, 0, 0, 0, 0, 0, 0, 0, 0, 0, 0, 0, 0, 0, 0, 0, 0, 0, 1, 0, 0, 0, 1, 0, 1, 0, 0, 0, 0, 0, 0, True obj: 30.00\n",
      "    Pred sol: 0, 0, 1, 0, 0, 1, 0, 0, 0, 0, 0, 0, 0, 0, 0, 0, 0, 0, 0, 0, 0, 0, 0, 1, 0, 1, 0, 0, 0, 0, 0, 0, Pred obj: 29.00\n",
      "\n",
      "Sample 6:\n",
      "    True cost: 7.00, 6.00, 7.00, 4.00, 6.00, 4.00, 8.00, 5.00, 5.00, 7.00, 6.00, 5.00, 4.00, 5.00, 2.00, 9.00, 6.00, 6.00, 3.00, 2.00, 5.00, 7.00, 5.00, 4.00, 3.00, 2.00, 9.00, 2.00, 5.00, 5.00, 9.00, 7.00\n",
      "    Pred cost: 9.34, 6.98, 9.84, 5.83, 7.69, 5.83, 9.31, 5.43, 6.94, 9.34, 6.98, 5.43, 5.73, 5.74, 2.49, 10.44, 7.69, 7.69, 4.60, 2.80, 6.45, 9.84, 6.45, 4.60, 3.00, 2.80, 10.44, 2.80, 5.55, 5.43, 11.43, 9.34\n",
      "    True sol: 0, 0, 1, -0, 0, 0, 0, 0, 0, 1, 0, 0, 0, 0, 0, 1, 0, 0, 0, -0, 0, 0, 0, 0, -0, 0, 1, -0, 0, 0, 0, 0, True obj: 32.00\n",
      "    Pred sol: 0, 0, 1, -0, 0, -0, 0, 0, 0, 0, 0, 0, -0, 0, -0, 1, 0, 0, -0, -0, -0, 1, -0, -0, -0, -0, 1, -0, -0, 0, 0, 0, Pred obj: 32.00\n",
      "\n",
      "Sample 7:\n",
      "    True cost: 2.00, 2.00, 3.00, 5.00, 3.00, 5.00, 6.00, 6.00, 7.00, 2.00, 2.00, 6.00, 3.00, 2.00, 2.00, 4.00, 3.00, 3.00, 4.00, 3.00, 5.00, 3.00, 5.00, 6.00, 3.00, 3.00, 4.00, 3.00, 9.00, 6.00, 5.00, 2.00\n",
      "    Pred cost: 2.51, 2.09, 4.75, 5.73, 3.18, 5.73, 7.60, 5.85, 7.67, 2.51, 2.09, 5.85, 3.91, 2.53, 1.89, 4.92, 3.18, 3.18, 4.70, 3.75, 5.90, 4.75, 5.90, 6.06, 3.00, 3.75, 4.92, 3.75, 7.77, 5.85, 7.34, 2.51\n",
      "    True sol: 0, 0, 0, 0, 0, 0, 0, 1, 1, 0, 0, 0, 0, 0, 0, 0, 0, 0, 0, 0, 0, 0, 0, 0, 0, 0, 1, 0, 0, 1, 0, 0, True obj: 23.00\n",
      "    Pred sol: 0, 0, 0, 0, 0, 0, 0, 1, 1, 0, 0, 0, 0, 0, 0, 0, 0, 0, 0, 0, 0, 0, 0, 0, 0, 0, 1, 0, 0, 1, 0, 0, Pred obj: 23.00\n",
      "\n",
      "Sample 8:\n",
      "    True cost: 3.00, 7.00, 4.00, 2.00, 3.00, 2.00, 4.00, 2.00, 2.00, 3.00, 7.00, 2.00, 2.00, 6.00, 3.00, 4.00, 3.00, 3.00, 5.00, 4.00, 2.00, 4.00, 2.00, 2.00, 3.00, 4.00, 4.00, 4.00, 2.00, 2.00, 4.00, 3.00\n",
      "    Pred cost: 4.96, 7.19, 7.59, 3.94, 3.21, 3.94, 5.94, 1.16, 3.84, 4.96, 7.19, 1.16, 2.31, 5.85, 3.18, 5.26, 3.21, 3.21, 5.68, 4.38, 2.11, 7.59, 2.11, 2.49, 3.00, 4.38, 5.26, 4.38, 2.64, 1.16, 7.91, 4.96\n",
      "    True sol: -0, 1, -0, -0, -0, -0, -0, -0, -0, -0, 1, -0, -0, -0, -0, -0, -0, -0, -0, -0, -0, -0, -0, -0, -0, 1, 1, -0, -0, -0, -0, -0, True obj: 22.00\n",
      "    Pred sol: 0, 0, 0, 0, 0, 0, 0, -0, 0, 0, 1, -0, -0, 0, 0, 0, 0, 0, 0, -0, 0, 1, -0, -0, -0, 0, 1, 0, -0, -0, 1, 0, Pred obj: 19.00\n",
      "\n",
      "Sample 9:\n",
      "    True cost: 14.00, 8.00, 24.00, 25.00, 7.00, 25.00, 7.00, 3.00, 15.00, 14.00, 8.00, 3.00, 14.00, 3.00, 6.00, 8.00, 7.00, 7.00, 14.00, 12.00, 8.00, 24.00, 8.00, 12.00, 3.00, 12.00, 8.00, 12.00, 7.00, 3.00, 15.00, 14.00\n",
      "    Pred cost: 13.05, 8.23, 17.51, 14.70, 7.47, 14.70, 8.10, 3.71, 11.05, 13.05, 8.23, 3.71, 11.22, 3.73, 6.12, 9.36, 7.47, 7.47, 9.94, 8.97, 7.87, 17.51, 7.87, 9.76, 3.00, 8.97, 9.36, 8.97, 6.73, 3.71, 13.47, 13.05\n",
      "    True sol: -0, -0, 1, 0, -0, -0, -0, -0, 0, 0, -0, -0, -0, -0, -0, -0, -0, -0, -0, 0, -0, 1, -0, 0, -0, 1, -0, 0, -0, -0, 1, -0, True obj: 75.00\n",
      "    Pred sol: 0, 0, 1, 0, 0, 0, 0, 0, 0, 0, 0, 0, 0, 0, 0, 0, 0, 0, 0, 0, 0, 1, 0, 0, 0, 1, 0, 0, 0, 0, 1, 0, Pred obj: 75.00\n",
      "\n"
     ]
    }
   ],
   "source": [
    "# compare solutions\n",
    "for i, data in enumerate(ks_loader_test):\n",
    "    # load data\n",
    "    x, c, w, z = data\n",
    "    # cuda\n",
    "    if torch.cuda.is_available():\n",
    "        x, c, w, z = x.cuda(), c.cuda(), w.cuda(), z.cuda()\n",
    "    # convert to numpy\n",
    "    x = x.to('cpu').detach().numpy()\n",
    "    c = c.to('cpu').detach().numpy()\n",
    "    w = w.to('cpu').detach().numpy()\n",
    "    z = z.to('cpu').detach().numpy()\n",
    "    # predict\n",
    "    cp = twostage_model.predict(x)\n",
    "    for j in range(min(10, batch_size)):\n",
    "        print('Sample {}:'.format(j))\n",
    "        print('    True cost:', ', '.join(['{:.2f}'.format(-cost) for cost in c[j]]))\n",
    "        print('    Pred cost:', ', '.join(['{:.2f}'.format(-cost) for cost in cp[j]]))\n",
    "        # solve cost from prediction\n",
    "        ks_model.setObj(cp[j])\n",
    "        wpj, _ = ks_model.solve()\n",
    "        zpj = np.dot(c[j], wpj)\n",
    "        print('    True sol: ' + ', '.join(['{:.0f}'.format(x) for x in w[j]]) + ', True obj: {:.2f}'.format(-z[j,0]))\n",
    "        print('    Pred sol: '+  ', '.join(['{:.0f}'.format(x) for x in wpj]) + ', Pred obj: {:.2f}'.format(-zpj))\n",
    "        print()\n",
    "    break"
   ]
  },
  {
   "cell_type": "markdown",
   "id": "b7f48395",
   "metadata": {},
   "source": [
    "## Two-Stage with Grid Search "
   ]
  },
  {
   "cell_type": "code",
   "execution_count": 29,
   "id": "3f8f42ae",
   "metadata": {},
   "outputs": [],
   "source": [
    "from sklearn.model_selection import GridSearchCV\n",
    "from sklearn.linear_model import Ridge"
   ]
  },
  {
   "cell_type": "code",
   "execution_count": 30,
   "id": "33fb6a53",
   "metadata": {},
   "outputs": [],
   "source": [
    "# build model\n",
    "twostage_model = spo.twostage.sklearnPred(Ridge())"
   ]
  },
  {
   "cell_type": "code",
   "execution_count": 31,
   "id": "00539d16",
   "metadata": {},
   "outputs": [],
   "source": [
    "# creat scorer\n",
    "spo_scorer = spo.eval.metrics.makeSkScorer(ks_model)"
   ]
  },
  {
   "cell_type": "code",
   "execution_count": 32,
   "id": "3be14571",
   "metadata": {},
   "outputs": [],
   "source": [
    "# build grid search\n",
    "grid = GridSearchCV(twostage_model, param_grid={'estimator__alpha': [0, 0.1, 0.5]}, scoring=spo_scorer)"
   ]
  },
  {
   "cell_type": "code",
   "execution_count": 33,
   "id": "fa578337",
   "metadata": {
    "scrolled": false
   },
   "outputs": [
    {
     "data": {
      "text/plain": [
       "GridSearchCV(estimator=MultiOutputRegressor(estimator=Ridge()),\n",
       "             param_grid={'estimator__alpha': [0, 0.1, 0.5]},\n",
       "             scoring=make_scorer(SPOError, greater_is_better=False, model_type=<class 'spo.model.grb.knapsack.knapsackModel'>, args={'weights': array([[4.59, 4.87, 5.19, 7.59, 6.8 , 4.97, 4.84, 3.22, 7.9 , 3.62, 3.12,\n",
       "        6.81, 7.09, 3.23, 4.47, 5.23, 6.11, 5.23, 4.27, 6.66, 5.21, 3.72,\n",
       "        7...\n",
       "       [6.09, 6.4 , 4.5 , 6.31, 6.35, 3.07, 6.03, 7.39, 3.48, 5.57, 6.27,\n",
       "        4.55, 5.64, 5.66, 3.27, 6.68, 4.2 , 5.61, 6.13, 7.88, 4.61, 4.92,\n",
       "        6.09, 7.95, 7.11, 4.02, 3.07, 7.84, 6.29, 5.78, 5.57, 5.65],\n",
       "       [7.41, 5.21, 3.42, 6.48, 5.77, 7.67, 7.32, 3.31, 4.36, 4.75, 3.38,\n",
       "        3.44, 6.3 , 4.85, 7.09, 5.7 , 4.05, 6.04, 6.51, 3.41, 7.94, 6.05,\n",
       "        7.18, 3.64, 4.35, 4.45, 4.27, 4.87, 5.74, 3.16, 5.41, 3.81]]), 'capacity': array([20, 20, 20])}))"
      ]
     },
     "execution_count": 33,
     "metadata": {},
     "output_type": "execute_result"
    }
   ],
   "source": [
    "# training\n",
    "grid.fit(ks_dataset_train.feats, ks_dataset_train.costs)"
   ]
  },
  {
   "cell_type": "code",
   "execution_count": 34,
   "id": "f3f735d4",
   "metadata": {},
   "outputs": [],
   "source": [
    "# prediction\n",
    "c_test_pred = grid.predict(ks_dataset_test.feats)"
   ]
  },
  {
   "cell_type": "code",
   "execution_count": 35,
   "id": "2661e06d",
   "metadata": {},
   "outputs": [
    {
     "name": "stderr",
     "output_type": "stream",
     "text": [
      "100%|███████████████████████████████████████████████████████████████████████████████████████████████| 1000/1000 [00:15<00:00, 66.52it/s]\n"
     ]
    },
    {
     "name": "stdout",
     "output_type": "stream",
     "text": [
      "Normalized true SPO Loss: 3.91%\n",
      "Normalized unambiguous SPO Loss: 3.91%\n"
     ]
    }
   ],
   "source": [
    "# evaluate\n",
    "truespo = 0\n",
    "unambspo = 0\n",
    "for i in tqdm(range(1000)):\n",
    "    c_pred_i = c_test_pred[i]\n",
    "    c_true_i = ks_dataset_test.costs[i]\n",
    "    z_true_i = ks_dataset_test.objs[i,0]\n",
    "    truespo += spo.eval.calTrueSPO(ks_model, c_pred_i, c_true_i, z_true_i)\n",
    "    unambspo += spo.eval.calUnambSPO(ks_model, c_pred_i, c_true_i, z_true_i)\n",
    "time.sleep(1)\n",
    "print('Normalized true SPO Loss: {:.2f}%'.format(truespo / abs(ks_dataset_test.objs.sum()) * 100))\n",
    "print('Normalized unambiguous SPO Loss: {:.2f}%'.format(unambspo / abs(ks_dataset_test.objs.sum()) * 100))"
   ]
  },
  {
   "cell_type": "code",
   "execution_count": 36,
   "id": "b1aa9d5b",
   "metadata": {
    "scrolled": false
   },
   "outputs": [
    {
     "name": "stdout",
     "output_type": "stream",
     "text": [
      "Sample 0:\n",
      "    True cost: 2.00, 2.00, 1.00, 1.00, 3.00, 1.00, 2.00, 3.00, 1.00, 2.00, 2.00, 3.00, 2.00, 4.00, 3.00, 2.00, 3.00, 3.00, 1.00, 2.00, 2.00, 1.00, 2.00, 2.00, 3.00, 2.00, 2.00, 2.00, 2.00, 3.00, 1.00, 2.00\n",
      "    Pred cost: 2.77, 2.42, 0.60, 0.43, 4.70, 0.43, 2.25, 3.40, 0.28, 2.77, 2.42, 3.40, 2.32, 3.95, 3.42, 2.36, 4.70, 4.70, 0.62, 2.12, 1.83, 0.60, 1.83, 2.05, 3.00, 2.12, 2.36, 2.12, 1.77, 3.40, 0.34, 2.77\n",
      "    True sol: 0, 0, 0, 0, 0, 0, 0, 0, 0, 0, 0, 0, 0, 1, 1, 0, 1, 0, 0, 0, 0, 0, 0, 0, 0, 0, 0, 0, 0, 1, 0, 0, True obj: 13.00\n",
      "    Pred sol: -0, -0, -0, -0, -0, -0, -0, -0, -0, -0, -0, -0, -0, 1, -0, -0, 1, 1, -0, -0, -0, -0, -0, -0, -0, -0, 1, -0, -0, -0, -0, -0, Pred obj: 12.00\n",
      "\n",
      "Sample 1:\n",
      "    True cost: 4.00, 3.00, 3.00, 5.00, 3.00, 5.00, 2.00, 3.00, 3.00, 4.00, 3.00, 3.00, 7.00, 2.00, 5.00, 3.00, 3.00, 3.00, 3.00, 4.00, 5.00, 3.00, 5.00, 4.00, 3.00, 4.00, 3.00, 4.00, 3.00, 3.00, 2.00, 4.00\n",
      "    Pred cost: 6.10, 3.16, 5.14, 6.68, 4.65, 6.68, 1.31, 3.82, 4.57, 6.10, 3.16, 3.82, 7.47, 1.87, 4.90, 3.60, 4.65, 4.65, 4.04, 4.47, 5.37, 5.14, 5.37, 5.01, 3.00, 4.47, 3.60, 4.47, 3.10, 3.82, 2.43, 6.10\n",
      "    True sol: 0, 0, 0, 0, 0, 0, 0, 0, 0, 1, 0, 0, 1, 0, 0, 0, 0, 0, 0, 0, 0, 0, 0, 0, 0, 1, 1, 0, 0, 0, 0, 0, True obj: 18.00\n",
      "    Pred sol: -0, -0, 1, -0, -0, 0, -0, -0, -0, 1, -0, -0, 1, -0, 0, -0, 0, -0, -0, -0, -0, 0, -0, -0, -0, 1, -0, -0, -0, -0, -0, 0, Pred obj: 18.00\n",
      "\n",
      "Sample 2:\n",
      "    True cost: 7.00, 2.00, 14.00, 12.00, 12.00, 12.00, 10.00, 4.00, 5.00, 7.00, 2.00, 4.00, 6.00, 4.00, 8.00, 3.00, 12.00, 12.00, 4.00, 16.00, 2.00, 14.00, 2.00, 18.00, 3.00, 16.00, 3.00, 16.00, 8.00, 4.00, 6.00, 7.00\n",
      "    Pred cost: 7.78, 2.61, 11.59, 9.67, 9.59, 9.67, 8.42, 4.15, 5.00, 7.78, 2.61, 4.15, 6.24, 4.06, 7.28, 2.88, 9.59, 9.59, 4.46, 10.35, 1.82, 11.59, 1.82, 11.59, 3.00, 10.35, 2.88, 10.35, 7.31, 4.15, 6.36, 7.78\n",
      "    True sol: 0, 0, 1, 0, 0, 1, 0, 0, 0, 0, 0, 0, 0, 0, 0, 0, 0, 0, 0, 0, 0, 0, 0, 1, 0, 1, 0, 0, 0, 0, 0, 0, True obj: 60.00\n",
      "    Pred sol: -0, -0, 1, -0, -0, 1, -0, -0, -0, -0, -0, -0, -0, -0, -0, -0, -0, -0, -0, 0, -0, -0, -0, 1, -0, 1, -0, 0, -0, -0, -0, -0, Pred obj: 60.00\n",
      "\n",
      "Sample 3:\n",
      "    True cost: 4.00, 3.00, 4.00, 3.00, 6.00, 3.00, 4.00, 2.00, 2.00, 4.00, 3.00, 2.00, 3.00, 5.00, 6.00, 2.00, 6.00, 6.00, 2.00, 6.00, 1.00, 4.00, 1.00, 4.00, 3.00, 6.00, 2.00, 6.00, 2.00, 2.00, 2.00, 4.00\n",
      "    Pred cost: 5.47, 3.78, 6.31, 4.01, 6.92, 4.01, 4.60, 2.26, 1.06, 5.47, 3.78, 2.26, 3.37, 4.99, 5.68, 2.27, 6.92, 6.92, 2.56, 6.31, 0.33, 6.31, 0.33, 5.52, 3.00, 6.31, 2.27, 6.31, 2.84, 2.26, 2.98, 5.47\n",
      "    True sol: -0, -0, -0, -0, -0, -0, -0, -0, -0, -0, -0, -0, -0, 1, -0, -0, 1, 1, -0, -0, -0, -0, -0, -0, -0, 1, -0, -0, -0, -0, -0, -0, True obj: 23.00\n",
      "    Pred sol: 0, 0, 1, 0, 0, 0, 0, 0, 0, 0, 0, 0, 0, 0, 0, 0, 1, 1, 0, 0, 0, 0, 0, 0, 0, 1, 0, 0, 0, 0, 0, 0, Pred obj: 22.00\n",
      "\n",
      "Sample 4:\n",
      "    True cost: 1.00, 3.00, 1.00, 1.00, 2.00, 1.00, 3.00, 2.00, 1.00, 1.00, 3.00, 2.00, 1.00, 5.00, 2.00, 2.00, 2.00, 2.00, 2.00, 2.00, 1.00, 1.00, 1.00, 1.00, 3.00, 2.00, 2.00, 2.00, 2.00, 2.00, 2.00, 1.00\n",
      "    Pred cost: 0.32, 3.04, 0.54, -0.65, 2.60, -0.65, 4.03, 2.21, 0.38, 0.32, 3.04, 2.21, -0.56, 4.89, 2.44, 1.62, 2.60, 2.60, 1.67, 2.47, 0.23, 0.54, 0.23, 1.35, 3.00, 2.47, 1.62, 2.47, 2.28, 2.21, 2.02, 0.32\n",
      "    True sol: -0, 0, -0, -0, -0, -0, -0, -0, -0, -0, 1, -0, -0, 1, 1, -0, -0, -0, -0, -0, -0, -0, -0, -0, -0, -0, 1, -0, -0, -0, -0, -0, True obj: 12.00\n",
      "    Pred sol: -0, 0, -0, 0, 0, 0, 0, -0, -0, -0, 1, 0, 0, 1, 1, -0, 1, 0, -0, -0, -0, -0, -0, -0, 0, 0, 0, -0, -0, 0, -0, -0, Pred obj: 12.00\n",
      "\n",
      "Sample 5:\n",
      "    True cost: 1.00, 1.00, 3.00, 6.00, 2.00, 6.00, 4.00, 3.00, 4.00, 1.00, 1.00, 3.00, 3.00, 2.00, 5.00, 1.00, 2.00, 2.00, 4.00, 10.00, 2.00, 3.00, 2.00, 10.00, 3.00, 10.00, 1.00, 10.00, 8.00, 3.00, 2.00, 1.00\n",
      "    Pred cost: -1.73, -1.48, 2.88, 6.29, 1.61, 6.29, 4.53, 3.26, 4.45, -1.73, -1.48, 3.26, 2.19, 1.02, 4.90, -3.08, 1.61, 1.61, 4.42, 8.53, 0.93, 2.88, 0.93, 8.90, 3.00, 8.53, -3.08, 8.53, 7.28, 3.26, 1.01, -1.73\n",
      "    True sol: 0, 0, 0, 0, 0, 0, 0, 0, 0, 0, 0, 0, 0, 0, 0, 0, 0, 0, 0, 1, 0, 0, 0, 1, 0, 1, 0, 0, 0, 0, 0, 0, True obj: 30.00\n",
      "    Pred sol: 0, 0, 1, 0, 0, 1, 0, 0, 0, 0, 0, 0, 0, 0, 0, 0, 0, 0, 0, 0, 0, 0, 0, 1, 0, 1, 0, 0, 0, 0, 0, 0, Pred obj: 29.00\n",
      "\n",
      "Sample 6:\n",
      "    True cost: 7.00, 6.00, 7.00, 4.00, 6.00, 4.00, 8.00, 5.00, 5.00, 7.00, 6.00, 5.00, 4.00, 5.00, 2.00, 9.00, 6.00, 6.00, 3.00, 2.00, 5.00, 7.00, 5.00, 4.00, 3.00, 2.00, 9.00, 2.00, 5.00, 5.00, 9.00, 7.00\n",
      "    Pred cost: 9.34, 6.98, 9.84, 5.83, 7.69, 5.83, 9.31, 5.43, 6.94, 9.34, 6.98, 5.43, 5.73, 5.74, 2.49, 10.44, 7.69, 7.69, 4.60, 2.80, 6.45, 9.84, 6.45, 4.60, 3.00, 2.80, 10.44, 2.80, 5.55, 5.43, 11.43, 9.34\n",
      "    True sol: 0, 0, 1, -0, 0, 0, 0, 0, 0, 1, 0, 0, 0, 0, 0, 1, 0, 0, 0, -0, 0, 0, 0, 0, -0, 0, 1, -0, 0, 0, 0, 0, True obj: 32.00\n",
      "    Pred sol: 0, 0, 1, -0, 0, -0, 0, 0, 0, 0, 0, 0, -0, 0, -0, 1, 0, 0, -0, -0, -0, 1, -0, -0, -0, -0, 1, -0, -0, 0, 0, 0, Pred obj: 32.00\n",
      "\n",
      "Sample 7:\n",
      "    True cost: 2.00, 2.00, 3.00, 5.00, 3.00, 5.00, 6.00, 6.00, 7.00, 2.00, 2.00, 6.00, 3.00, 2.00, 2.00, 4.00, 3.00, 3.00, 4.00, 3.00, 5.00, 3.00, 5.00, 6.00, 3.00, 3.00, 4.00, 3.00, 9.00, 6.00, 5.00, 2.00\n",
      "    Pred cost: 2.51, 2.09, 4.75, 5.73, 3.18, 5.73, 7.60, 5.85, 7.67, 2.51, 2.09, 5.85, 3.91, 2.53, 1.89, 4.92, 3.18, 3.18, 4.70, 3.75, 5.90, 4.75, 5.90, 6.06, 3.00, 3.75, 4.92, 3.75, 7.77, 5.85, 7.34, 2.51\n",
      "    True sol: 0, 0, 0, 0, 0, 0, 0, 1, 1, 0, 0, 0, 0, 0, 0, 0, 0, 0, 0, 0, 0, 0, 0, 0, 0, 0, 1, 0, 0, 1, 0, 0, True obj: 23.00\n",
      "    Pred sol: 0, 0, 0, 0, 0, 0, 0, 1, 1, 0, 0, 0, 0, 0, 0, 0, 0, 0, 0, 0, 0, 0, 0, 0, 0, 0, 1, 0, 0, 1, 0, 0, Pred obj: 23.00\n",
      "\n",
      "Sample 8:\n",
      "    True cost: 3.00, 7.00, 4.00, 2.00, 3.00, 2.00, 4.00, 2.00, 2.00, 3.00, 7.00, 2.00, 2.00, 6.00, 3.00, 4.00, 3.00, 3.00, 5.00, 4.00, 2.00, 4.00, 2.00, 2.00, 3.00, 4.00, 4.00, 4.00, 2.00, 2.00, 4.00, 3.00\n",
      "    Pred cost: 4.96, 7.19, 7.59, 3.94, 3.21, 3.94, 5.94, 1.16, 3.84, 4.96, 7.19, 1.16, 2.31, 5.85, 3.18, 5.26, 3.21, 3.21, 5.68, 4.38, 2.11, 7.59, 2.11, 2.49, 3.00, 4.38, 5.26, 4.38, 2.64, 1.16, 7.91, 4.96\n",
      "    True sol: -0, 1, -0, -0, -0, -0, -0, -0, -0, -0, 1, -0, -0, -0, -0, -0, -0, -0, -0, -0, -0, -0, -0, -0, -0, 1, 1, -0, -0, -0, -0, -0, True obj: 22.00\n",
      "    Pred sol: 0, 0, 0, 0, 0, 0, 0, -0, 0, 0, 1, -0, -0, 0, 0, 0, 0, 0, 0, -0, 0, 1, -0, -0, -0, 0, 1, 0, -0, -0, 1, 0, Pred obj: 19.00\n",
      "\n",
      "Sample 9:\n",
      "    True cost: 14.00, 8.00, 24.00, 25.00, 7.00, 25.00, 7.00, 3.00, 15.00, 14.00, 8.00, 3.00, 14.00, 3.00, 6.00, 8.00, 7.00, 7.00, 14.00, 12.00, 8.00, 24.00, 8.00, 12.00, 3.00, 12.00, 8.00, 12.00, 7.00, 3.00, 15.00, 14.00\n",
      "    Pred cost: 13.05, 8.23, 17.51, 14.70, 7.47, 14.70, 8.10, 3.71, 11.05, 13.05, 8.23, 3.71, 11.22, 3.73, 6.12, 9.36, 7.47, 7.47, 9.94, 8.97, 7.87, 17.51, 7.87, 9.76, 3.00, 8.97, 9.36, 8.97, 6.73, 3.71, 13.47, 13.05\n",
      "    True sol: -0, -0, 1, 0, -0, -0, -0, -0, 0, 0, -0, -0, -0, -0, -0, -0, -0, -0, -0, 0, -0, 1, -0, 0, -0, 1, -0, 0, -0, -0, 1, -0, True obj: 75.00\n",
      "    Pred sol: 0, 0, 1, 0, 0, 0, 0, 0, 0, 0, 0, 0, 0, 0, 0, 0, 0, 0, 0, 0, 0, 1, 0, 0, 0, 1, 0, 0, 0, 0, 1, 0, Pred obj: 75.00\n",
      "\n"
     ]
    }
   ],
   "source": [
    "# compare solutions\n",
    "for i, data in enumerate(ks_loader_test):\n",
    "    # load data\n",
    "    x, c, w, z = data\n",
    "    # cuda\n",
    "    if torch.cuda.is_available():\n",
    "        x, c, w, z = x.cuda(), c.cuda(), w.cuda(), z.cuda()\n",
    "    # convert to numpy\n",
    "    x = x.to('cpu').detach().numpy()\n",
    "    c = c.to('cpu').detach().numpy()\n",
    "    w = w.to('cpu').detach().numpy()\n",
    "    z = z.to('cpu').detach().numpy()\n",
    "    # predict\n",
    "    cp = grid.predict(x)\n",
    "    for j in range(min(10, batch_size)):\n",
    "        print('Sample {}:'.format(j))\n",
    "        print('    True cost:', ', '.join(['{:.2f}'.format(-cost) for cost in c[j]]))\n",
    "        print('    Pred cost:', ', '.join(['{:.2f}'.format(-cost) for cost in cp[j]]))\n",
    "        # solve cost from prediction\n",
    "        ks_model.setObj(cp[j])\n",
    "        wpj, _ = ks_model.solve()\n",
    "        zpj = np.dot(c[j], wpj)\n",
    "        print('    True sol: ' + ', '.join(['{:.0f}'.format(x) for x in w[j]]) + ', True obj: {:.2f}'.format(-z[j,0]))\n",
    "        print('    Pred sol: '+  ', '.join(['{:.0f}'.format(x) for x in wpj]) + ', Pred obj: {:.2f}'.format(-zpj))\n",
    "        print()\n",
    "    break"
   ]
  },
  {
   "cell_type": "markdown",
   "id": "8596e709",
   "metadata": {},
   "source": [
    "## Linear Regression from PyTorch"
   ]
  },
  {
   "cell_type": "code",
   "execution_count": 37,
   "id": "e88c361d",
   "metadata": {},
   "outputs": [],
   "source": [
    "from torch import nn"
   ]
  },
  {
   "cell_type": "code",
   "execution_count": 38,
   "id": "5ed32466",
   "metadata": {},
   "outputs": [],
   "source": [
    "# build linear model\n",
    "class LinearRegression(nn.Module):\n",
    "    \n",
    "    def __init__(self):\n",
    "        super(LinearRegression, self).__init__()\n",
    "        self.linear = nn.Linear(p, m)\n",
    "    \n",
    "    def forward(self, x):\n",
    "        out = self.linear(x)\n",
    "        return out"
   ]
  },
  {
   "cell_type": "markdown",
   "id": "fa3f22f2",
   "metadata": {},
   "source": [
    "## SPO+ "
   ]
  },
  {
   "cell_type": "code",
   "execution_count": 39,
   "id": "07753d5a",
   "metadata": {},
   "outputs": [],
   "source": [
    "# init model\n",
    "reg = LinearRegression()\n",
    "# cuda\n",
    "if torch.cuda.is_available():\n",
    "    reg = reg.cuda()"
   ]
  },
  {
   "cell_type": "code",
   "execution_count": 40,
   "id": "d4d0d9b8",
   "metadata": {},
   "outputs": [],
   "source": [
    "# set optimizer\n",
    "optimizer = torch.optim.Adam(reg.parameters(), lr=5e-3)"
   ]
  },
  {
   "cell_type": "code",
   "execution_count": 41,
   "id": "fb3637bb",
   "metadata": {},
   "outputs": [
    {
     "name": "stdout",
     "output_type": "stream",
     "text": [
      "Num of cores: 4\n"
     ]
    }
   ],
   "source": [
    "# init SPO+ loss\n",
    "criterion = spo.func.SPOPlus(ks_model, processes=4)"
   ]
  },
  {
   "cell_type": "code",
   "execution_count": 42,
   "id": "5a05c841",
   "metadata": {
    "scrolled": false
   },
   "outputs": [
    {
     "name": "stdout",
     "output_type": "stream",
     "text": [
      "Epoch  10, Loss:  54.7194, True SPO Loss: 42.6645%, Unambiguous SPO Loss: 42.6645%\n",
      "Epoch  20, Loss:  20.4871, True SPO Loss: 38.7866%, Unambiguous SPO Loss: 38.7866%\n",
      "Epoch  30, Loss:  19.6836, True SPO Loss: 34.5605%, Unambiguous SPO Loss: 34.5605%\n",
      "Epoch  40, Loss:  22.8537, True SPO Loss: 30.4937%, Unambiguous SPO Loss: 30.4937%\n",
      "Epoch  50, Loss:  17.4164, True SPO Loss: 26.8047%, Unambiguous SPO Loss: 26.8047%\n",
      "Epoch  60, Loss:  19.2472, True SPO Loss: 23.6490%, Unambiguous SPO Loss: 23.6490%\n",
      "Epoch  70, Loss:  24.8728, True SPO Loss: 21.1600%, Unambiguous SPO Loss: 21.1600%\n",
      "Epoch  80, Loss:  33.4799, True SPO Loss: 19.4452%, Unambiguous SPO Loss: 19.4452%\n",
      "Epoch  90, Loss:  13.8506, True SPO Loss: 18.4896%, Unambiguous SPO Loss: 18.4896%\n",
      "Epoch 100, Loss:   9.0934, True SPO Loss: 15.7080%, Unambiguous SPO Loss: 15.7080%\n",
      "Epoch 110, Loss:  15.5559, True SPO Loss: 13.9931%, Unambiguous SPO Loss: 13.9931%\n",
      "Epoch 120, Loss:  10.4833, True SPO Loss: 12.3708%, Unambiguous SPO Loss: 12.3708%\n",
      "Epoch 130, Loss:  13.1126, True SPO Loss: 11.2152%, Unambiguous SPO Loss: 11.2152%\n",
      "Epoch 140, Loss:  19.2372, True SPO Loss: 10.0893%, Unambiguous SPO Loss: 10.0893%\n",
      "Epoch 150, Loss:   9.3276, True SPO Loss:  8.9226%, Unambiguous SPO Loss:  8.9226%\n",
      "Epoch 160, Loss:   8.9419, True SPO Loss:  8.0410%, Unambiguous SPO Loss:  8.0410%\n",
      "Epoch 170, Loss:  11.6182, True SPO Loss:  6.9447%, Unambiguous SPO Loss:  6.9447%\n",
      "Epoch 180, Loss:  16.2864, True SPO Loss:  6.0002%, Unambiguous SPO Loss:  6.0002%\n",
      "Epoch 190, Loss:  20.4513, True SPO Loss:  5.3669%, Unambiguous SPO Loss:  5.3669%\n",
      "Epoch 200, Loss:   8.1208, True SPO Loss:  4.7076%, Unambiguous SPO Loss:  4.7076%\n",
      "Epoch 210, Loss:  10.5652, True SPO Loss:  4.3668%, Unambiguous SPO Loss:  4.3668%\n",
      "Epoch 220, Loss:   8.5504, True SPO Loss:  4.2261%, Unambiguous SPO Loss:  4.2261%\n",
      "Epoch 230, Loss:   6.3669, True SPO Loss:  3.9742%, Unambiguous SPO Loss:  3.9742%\n",
      "Epoch 240, Loss:  17.5967, True SPO Loss:  3.7150%, Unambiguous SPO Loss:  3.7150%\n",
      "Epoch 250, Loss:   6.0811, True SPO Loss:  3.5631%, Unambiguous SPO Loss:  3.5631%\n",
      "Epoch 260, Loss:   3.1835, True SPO Loss:  3.3853%, Unambiguous SPO Loss:  3.3853%\n",
      "Epoch 270, Loss:  11.0826, True SPO Loss:  3.2705%, Unambiguous SPO Loss:  3.2705%\n",
      "Epoch 280, Loss:   4.1214, True SPO Loss:  3.0705%, Unambiguous SPO Loss:  3.0705%\n",
      "Epoch 290, Loss:   2.9854, True SPO Loss:  2.8816%, Unambiguous SPO Loss:  2.8816%\n",
      "Epoch 300, Loss:   1.5810, True SPO Loss:  2.6742%, Unambiguous SPO Loss:  2.6742%\n",
      "Epoch 310, Loss:   3.3229, True SPO Loss:  2.4890%, Unambiguous SPO Loss:  2.4890%\n",
      "Epoch 320, Loss:   2.7556, True SPO Loss:  2.3890%, Unambiguous SPO Loss:  2.3890%\n",
      "Epoch 330, Loss:   4.0232, True SPO Loss:  2.4149%, Unambiguous SPO Loss:  2.4149%\n",
      "Epoch 340, Loss:   2.8049, True SPO Loss:  2.3593%, Unambiguous SPO Loss:  2.3593%\n",
      "Epoch 350, Loss:   2.4696, True SPO Loss:  2.3149%, Unambiguous SPO Loss:  2.3149%\n",
      "Epoch 360, Loss:   2.8149, True SPO Loss:  2.2482%, Unambiguous SPO Loss:  2.2482%\n",
      "Epoch 370, Loss:  16.8138, True SPO Loss:  2.2371%, Unambiguous SPO Loss:  2.2371%\n",
      "Epoch 380, Loss:   5.8643, True SPO Loss:  2.2260%, Unambiguous SPO Loss:  2.2260%\n",
      "Epoch 390, Loss:   3.5966, True SPO Loss:  2.0445%, Unambiguous SPO Loss:  2.0445%\n",
      "Epoch 400, Loss:   5.3337, True SPO Loss:  2.0075%, Unambiguous SPO Loss:  2.0075%\n",
      "Epoch 410, Loss:  14.0391, True SPO Loss:  1.9445%, Unambiguous SPO Loss:  1.9445%\n",
      "Epoch 420, Loss:   2.0778, True SPO Loss:  1.9741%, Unambiguous SPO Loss:  1.9741%\n",
      "Epoch 430, Loss:   2.0786, True SPO Loss:  1.8964%, Unambiguous SPO Loss:  1.8964%\n",
      "Epoch 440, Loss:   8.1588, True SPO Loss:  1.7890%, Unambiguous SPO Loss:  1.7890%\n",
      "Epoch 450, Loss:   2.3003, True SPO Loss:  1.8260%, Unambiguous SPO Loss:  1.8260%\n",
      "Epoch 460, Loss:   2.8058, True SPO Loss:  1.7408%, Unambiguous SPO Loss:  1.7408%\n",
      "Epoch 470, Loss:  12.8218, True SPO Loss:  1.6890%, Unambiguous SPO Loss:  1.6890%\n",
      "Epoch 480, Loss:   0.9278, True SPO Loss:  1.6223%, Unambiguous SPO Loss:  1.6223%\n",
      "Epoch 490, Loss:   3.7886, True SPO Loss:  1.6297%, Unambiguous SPO Loss:  1.6297%\n",
      "Epoch 500, Loss:   1.0973, True SPO Loss:  1.6260%, Unambiguous SPO Loss:  1.6260%\n"
     ]
    }
   ],
   "source": [
    "# train model\n",
    "num_epochs = 500\n",
    "reg.train()\n",
    "loss_log = []\n",
    "loss_log_truespo = []\n",
    "loss_log_unambspo = []\n",
    "for epoch in range(num_epochs):\n",
    "    # load data\n",
    "    for i, data in enumerate(ks_loader_train):\n",
    "        x, c, w, z = data\n",
    "        # cuda\n",
    "        if torch.cuda.is_available():\n",
    "            x, c, w, z = x.cuda(), c.cuda(), w.cuda(), z.cuda()\n",
    "        # forward pass\n",
    "        cp = reg(x)\n",
    "        loss = criterion.apply(cp, c, w, z).mean()\n",
    "        # backward pass\n",
    "        optimizer.zero_grad()\n",
    "        loss.backward()\n",
    "        optimizer.step()\n",
    "    loss_log.append(loss.item())\n",
    "    if (epoch + 1) % 10 == 0:\n",
    "        # true SPO\n",
    "        trueloss = spo.eval.trueSPO(reg, ks_model, ks_loader_test)\n",
    "        loss_log_truespo.append(trueloss)\n",
    "        # unambiguous SPO \n",
    "        unambloss = spo.eval.unambSPO(reg, ks_model, ks_loader_test)\n",
    "        loss_log_unambspo.append(unambloss)\n",
    "        print('Epoch {:3}, Loss: {:8.4f}, True SPO Loss: {:7.4f}%, Unambiguous SPO Loss: {:7.4f}%'. \\\n",
    "              format(epoch+1, loss.item(), trueloss*100, unambloss*100))"
   ]
  },
  {
   "cell_type": "code",
   "execution_count": 43,
   "id": "927bf5d7",
   "metadata": {},
   "outputs": [
    {
     "data": {
      "image/png": "[encoded data removed]",
      "text/plain": [
       "<Figure size 864x432 with 1 Axes>"
      ]
     },
     "metadata": {
      "needs_background": "light"
     },
     "output_type": "display_data"
    }
   ],
   "source": [
    "# draw plot\n",
    "plt.figure(figsize=(12, 6))\n",
    "plt.plot(loss_log, color='c')\n",
    "plt.xlabel('Epoch')\n",
    "plt.ylabel('SPO+ Loss')\n",
    "plt.title('Learning Curve')\n",
    "plt.show()"
   ]
  },
  {
   "cell_type": "code",
   "execution_count": 44,
   "id": "8ae91bbd",
   "metadata": {},
   "outputs": [
    {
     "data": {
      "image/png": "[encoded data removed]",
      "text/plain": [
       "<Figure size 864x432 with 1 Axes>"
      ]
     },
     "metadata": {
      "needs_background": "light"
     },
     "output_type": "display_data"
    }
   ],
   "source": [
    "# draw plot\n",
    "plt.figure(figsize=(12, 6))\n",
    "plt.plot(range(0, num_epochs, 10), loss_log_truespo, color='m', alpha=0.7, label='True SPO')\n",
    "plt.plot(range(0, num_epochs, 10), loss_log_unambspo, color='b', alpha=0.7, label='Unambiguous SPO')\n",
    "plt.xlabel('Epoch')\n",
    "plt.ylabel('Loss')\n",
    "plt.title('Learning Curve')\n",
    "plt.legend()\n",
    "plt.show()"
   ]
  },
  {
   "cell_type": "code",
   "execution_count": 45,
   "id": "c8515a5d",
   "metadata": {},
   "outputs": [
    {
     "name": "stdout",
     "output_type": "stream",
     "text": [
      "Normalized true SPO Loss: 1.63%\n",
      "Normalized unambiguous SPO Loss: 1.63%\n"
     ]
    }
   ],
   "source": [
    "# evaluate\n",
    "spoloss = spo.eval.trueSPO(reg, ks_model, ks_loader_test)\n",
    "print('Normalized true SPO Loss: {:.2f}%'.format(spoloss * 100))\n",
    "spoloss = spo.eval.unambSPO(reg, ks_model, ks_loader_test)\n",
    "print('Normalized unambiguous SPO Loss: {:.2f}%'.format(spoloss * 100))"
   ]
  },
  {
   "cell_type": "code",
   "execution_count": 46,
   "id": "738c1d73",
   "metadata": {
    "scrolled": false
   },
   "outputs": [
    {
     "name": "stdout",
     "output_type": "stream",
     "text": [
      "Sample 0:\n",
      "    True cost: 2.00, 2.00, 1.00, 1.00, 3.00, 1.00, 2.00, 3.00, 1.00, 2.00, 2.00, 3.00, 2.00, 4.00, 3.00, 2.00, 3.00, 3.00, 1.00, 2.00, 2.00, 1.00, 2.00, 2.00, 3.00, 2.00, 2.00, 2.00, 2.00, 3.00, 1.00, 2.00\n",
      "    Pred cost: 2.91, 3.18, 0.59, -0.24, -1.81, 0.57, 3.27, 2.93, 1.11, 2.67, 2.82, 3.22, 2.53, 4.31, 3.69, 3.26, 4.25, 4.48, 0.78, 3.71, 2.13, 0.62, -0.61, 2.37, 3.92, 2.47, 2.50, 2.55, 1.60, 3.41, 0.72, 2.71\n",
      "    True sol: 0, 0, 0, 0, 0, 0, 0, 0, 0, 0, 0, 0, 0, 1, 1, 0, 1, 0, 0, 0, 0, 0, 0, 0, 0, 0, 0, 0, 0, 1, 0, 0, True obj: 13.00\n",
      "    Pred sol: 0, 0, 0, 0, 0, 0, 0, 0, 0, 0, 0, 0, 0, 1, 1, 0, 1, 0, 0, 0, 0, 0, 0, 0, 0, 0, 0, 0, 0, 1, 0, 0, Pred obj: 13.00\n",
      "\n",
      "Sample 1:\n",
      "    True cost: 4.00, 3.00, 3.00, 5.00, 3.00, 5.00, 2.00, 3.00, 3.00, 4.00, 3.00, 3.00, 7.00, 2.00, 5.00, 3.00, 3.00, 3.00, 3.00, 4.00, 5.00, 3.00, 5.00, 4.00, 3.00, 4.00, 3.00, 4.00, 3.00, 3.00, 2.00, 4.00\n",
      "    Pred cost: 2.28, 2.05, 2.24, -0.01, -1.00, 3.65, 0.11, 2.37, 2.59, 3.13, 1.83, 2.04, 2.75, 0.79, 3.03, 1.85, 2.29, 1.82, 2.29, 1.92, 3.23, 1.98, -0.76, 3.13, 1.79, 2.78, 1.64, 2.35, 0.77, 1.39, 0.76, 2.85\n",
      "    True sol: 0, 0, 0, 0, 0, 0, 0, 0, 0, 1, 0, 0, 1, 0, 0, 0, 0, 0, 0, 0, 0, 0, 0, 0, 0, 1, 1, 0, 0, 0, 0, 0, True obj: 18.00\n",
      "    Pred sol: -0, 0, 0, 0, 0, 1, -0, 0, 0, 0, 0, 0, 0, -0, 0, -0, 1, 0, 0, 0, 0, 0, 0, 1, 0, 1, 0, 0, -0, 0, -0, 0, Pred obj: 16.00\n",
      "\n",
      "Sample 2:\n",
      "    True cost: 7.00, 2.00, 14.00, 12.00, 12.00, 12.00, 10.00, 4.00, 5.00, 7.00, 2.00, 4.00, 6.00, 4.00, 8.00, 3.00, 12.00, 12.00, 4.00, 16.00, 2.00, 14.00, 2.00, 18.00, 3.00, 16.00, 3.00, 16.00, 8.00, 4.00, 6.00, 7.00\n",
      "    Pred cost: 4.35, 1.43, 7.70, 1.14, -1.74, 6.38, 5.35, 1.73, 1.70, 4.34, 0.45, 2.27, 3.36, 2.52, 4.79, 1.32, 5.70, 4.70, 0.37, 6.06, -1.16, 7.23, -0.26, 7.80, 1.49, 7.18, 0.89, 7.43, 4.72, 2.51, 3.96, 3.45\n",
      "    True sol: 0, 0, 1, 0, 0, 1, 0, 0, 0, 0, 0, 0, 0, 0, 0, 0, 0, 0, 0, 0, 0, 0, 0, 1, 0, 1, 0, 0, 0, 0, 0, 0, True obj: 60.00\n",
      "    Pred sol: 0, 0, 1, 0, 0, 1, 0, 0, 0, 0, 0, 0, 0, 0, 0, 0, 0, 0, 0, 0, 0, 0, 0, 1, 0, 1, 0, 0, 0, 0, 0, 0, Pred obj: 60.00\n",
      "\n",
      "Sample 3:\n",
      "    True cost: 4.00, 3.00, 4.00, 3.00, 6.00, 3.00, 4.00, 2.00, 2.00, 4.00, 3.00, 2.00, 3.00, 5.00, 6.00, 2.00, 6.00, 6.00, 2.00, 6.00, 1.00, 4.00, 1.00, 4.00, 3.00, 6.00, 2.00, 6.00, 2.00, 2.00, 2.00, 4.00\n",
      "    Pred cost: 3.37, 3.10, 4.05, 0.49, -1.59, 2.37, 3.73, 1.17, 0.58, 3.52, 2.74, 1.22, 2.66, 4.03, 4.68, 2.13, 4.77, 4.13, 0.31, 4.97, -0.72, 3.79, -0.33, 3.82, 2.65, 4.78, 1.49, 5.10, 1.86, 1.52, 2.11, 3.09\n",
      "    True sol: -0, -0, -0, -0, -0, -0, -0, -0, -0, -0, -0, -0, -0, 1, -0, -0, 1, 1, -0, -0, -0, -0, -0, -0, -0, 1, -0, -0, -0, -0, -0, -0, True obj: 23.00\n",
      "    Pred sol: 0, 0, 1, 0, 0, 0, 0, 0, 0, 0, 0, 0, 0, 0, 1, 0, 0, 0, 0, 0, 0, 0, 0, 0, 0, 1, 0, 1, 0, 0, 0, 0, Pred obj: 22.00\n",
      "\n",
      "Sample 4:\n",
      "    True cost: 1.00, 3.00, 1.00, 1.00, 2.00, 1.00, 3.00, 2.00, 1.00, 1.00, 3.00, 2.00, 1.00, 5.00, 2.00, 2.00, 2.00, 2.00, 2.00, 2.00, 1.00, 1.00, 1.00, 1.00, 3.00, 2.00, 2.00, 2.00, 2.00, 2.00, 2.00, 1.00\n",
      "    Pred cost: 1.25, 3.09, 0.21, -0.29, -1.50, -0.66, 3.82, 1.64, 0.77, 0.54, 2.95, 1.77, 0.22, 4.60, 2.74, 2.39, 2.44, 2.45, 0.81, 3.43, 0.37, 0.27, -0.11, 1.15, 3.30, 2.37, 1.72, 2.50, 1.90, 2.12, 1.35, 0.84\n",
      "    True sol: -0, 0, -0, -0, -0, -0, -0, -0, -0, -0, 1, -0, -0, 1, 1, -0, -0, -0, -0, -0, -0, -0, -0, -0, -0, -0, 1, -0, -0, -0, -0, -0, True obj: 12.00\n",
      "    Pred sol: 0, 0, 0, 0, 0, 0, 0, 0, 0, 0, 1, 0, 0, 1, 1, 0, 1, 0, 0, 0, 0, 0, 0, 0, 0, 0, 0, 0, 0, 0, 0, 0, Pred obj: 12.00\n",
      "\n",
      "Sample 5:\n",
      "    True cost: 1.00, 1.00, 3.00, 6.00, 2.00, 6.00, 4.00, 3.00, 4.00, 1.00, 1.00, 3.00, 3.00, 2.00, 5.00, 1.00, 2.00, 2.00, 4.00, 10.00, 2.00, 3.00, 2.00, 10.00, 3.00, 10.00, 1.00, 10.00, 8.00, 3.00, 2.00, 1.00\n",
      "    Pred cost: -1.17, -1.52, 1.69, 0.48, -0.40, 3.80, 2.21, 1.15, 1.49, -2.16, -2.53, 1.42, -1.09, -0.13, 2.62, -2.64, -0.25, -0.94, 0.99, 3.60, -1.46, 1.40, 0.17, 5.22, 0.58, 5.52, -3.28, 5.40, 4.15, 1.16, 0.10, -2.45\n",
      "    True sol: 0, 0, 0, 0, 0, 0, 0, 0, 0, 0, 0, 0, 0, 0, 0, 0, 0, 0, 0, 1, 0, 0, 0, 1, 0, 1, 0, 0, 0, 0, 0, 0, True obj: 30.00\n",
      "    Pred sol: 0, 0, 1, 0, 0, 1, 0, 0, 0, 0, 0, 0, 0, 0, 0, 0, 0, 0, 0, 0, 0, 0, 0, 1, 0, 1, 0, 0, 0, 0, 0, 0, Pred obj: 29.00\n",
      "\n",
      "Sample 6:\n",
      "    True cost: 7.00, 6.00, 7.00, 4.00, 6.00, 4.00, 8.00, 5.00, 5.00, 7.00, 6.00, 5.00, 4.00, 5.00, 2.00, 9.00, 6.00, 6.00, 3.00, 2.00, 5.00, 7.00, 5.00, 4.00, 3.00, 2.00, 9.00, 2.00, 5.00, 5.00, 9.00, 7.00\n",
      "    Pred cost: 5.27, 4.80, 5.42, -0.15, -2.50, 3.46, 5.88, 3.51, 3.81, 5.45, 4.78, 3.88, 3.07, 4.48, 1.70, 6.51, 5.28, 5.17, 2.54, 2.82, 4.22, 5.43, -0.55, 3.49, 2.93, 2.08, 6.78, 1.75, 3.72, 4.04, 6.27, 5.55\n",
      "    True sol: 0, 0, 1, -0, 0, 0, 0, 0, 0, 1, 0, 0, 0, 0, 0, 1, 0, 0, 0, -0, 0, 0, 0, 0, -0, 0, 1, -0, 0, 0, 0, 0, True obj: 32.00\n",
      "    Pred sol: 0, 0, 1, 0, 0, 0, 0, 0, 0, 1, 0, 0, 0, 0, 0, 1, 0, 0, 0, 0, 0, 0, 0, 0, 0, 0, 1, 0, 0, 0, 0, 0, Pred obj: 32.00\n",
      "\n",
      "Sample 7:\n",
      "    True cost: 2.00, 2.00, 3.00, 5.00, 3.00, 5.00, 6.00, 6.00, 7.00, 2.00, 2.00, 6.00, 3.00, 2.00, 2.00, 4.00, 3.00, 3.00, 4.00, 3.00, 5.00, 3.00, 5.00, 6.00, 3.00, 3.00, 4.00, 3.00, 9.00, 6.00, 5.00, 2.00\n",
      "    Pred cost: 1.61, 1.23, 2.37, -0.25, -1.59, 3.61, 4.40, 3.61, 3.88, 0.81, 0.66, 4.20, 0.36, 1.70, 0.64, 2.65, 1.64, 1.68, 2.61, 2.04, 3.50, 2.41, -0.24, 4.14, 1.91, 2.49, 2.66, 1.94, 4.94, 3.99, 3.55, 1.04\n",
      "    True sol: 0, 0, 0, 0, 0, 0, 0, 1, 1, 0, 0, 0, 0, 0, 0, 0, 0, 0, 0, 0, 0, 0, 0, 0, 0, 0, 1, 0, 0, 1, 0, 0, True obj: 23.00\n",
      "    Pred sol: -0, -0, -0, 0, 0, 1, -0, -0, -0, -0, -0, -0, -0, -0, -0, -0, -0, -0, -0, -0, -0, -0, 0, 1, -0, -0, 1, -0, 0, 1, -0, -0, Pred obj: 21.00\n",
      "\n",
      "Sample 8:\n",
      "    True cost: 3.00, 7.00, 4.00, 2.00, 3.00, 2.00, 4.00, 2.00, 2.00, 3.00, 7.00, 2.00, 2.00, 6.00, 3.00, 4.00, 3.00, 3.00, 5.00, 4.00, 2.00, 4.00, 2.00, 2.00, 3.00, 4.00, 4.00, 4.00, 2.00, 2.00, 4.00, 3.00\n",
      "    Pred cost: 1.25, 4.12, 3.13, -0.06, -1.02, 0.80, 2.41, -0.19, 1.70, 1.64, 4.63, -0.89, -0.22, 3.40, 1.87, 2.56, 1.10, 0.19, 2.14, 2.05, 0.04, 2.95, 0.05, 0.26, 1.40, 2.34, 2.62, 2.19, 0.70, -0.93, 3.60, 1.82\n",
      "    True sol: -0, 1, -0, -0, -0, -0, -0, -0, -0, -0, 1, -0, -0, -0, -0, -0, -0, -0, -0, -0, -0, -0, -0, -0, -0, 1, 1, -0, -0, -0, -0, -0, True obj: 22.00\n",
      "    Pred sol: -0, -0, -0, 0, 0, -0, -0, 0, -0, -0, 1, 0, 0, -0, -0, -0, -0, -0, -0, -0, -0, 1, -0, -0, -0, 0, 1, -0, -0, 0, 1, -0, Pred obj: 19.00\n",
      "\n",
      "Sample 9:\n",
      "    True cost: 14.00, 8.00, 24.00, 25.00, 7.00, 25.00, 7.00, 3.00, 15.00, 14.00, 8.00, 3.00, 14.00, 3.00, 6.00, 8.00, 7.00, 7.00, 14.00, 12.00, 8.00, 24.00, 8.00, 12.00, 3.00, 12.00, 8.00, 12.00, 7.00, 3.00, 15.00, 14.00\n",
      "    Pred cost: 3.34, 2.92, 8.57, 0.66, -0.87, 7.34, 1.13, 0.49, 4.31, 5.07, 3.16, -0.34, 2.34, -0.31, 1.83, 2.44, 1.89, 0.18, 3.70, 1.43, 2.11, 7.98, -0.36, 4.42, -0.85, 4.22, 3.27, 3.52, 1.87, -1.17, 5.86, 4.48\n",
      "    True sol: -0, -0, 1, 0, -0, -0, -0, -0, 0, 0, -0, -0, -0, -0, -0, -0, -0, -0, -0, 0, -0, 1, -0, 0, -0, 1, -0, 0, -0, -0, 1, -0, True obj: 75.00\n",
      "    Pred sol: 0, 0, 1, 0, 0, 0, 0, 0, 0, 0, 0, 0, 0, 0, 0, 0, 0, 0, 0, 0, 0, 1, 0, 0, 0, 1, 0, 0, 0, 0, 1, 0, Pred obj: 75.00\n",
      "\n"
     ]
    }
   ],
   "source": [
    "reg.eval()\n",
    "# compare solutions\n",
    "for i, data in enumerate(ks_loader_test):\n",
    "    # load data\n",
    "    x, c, w, z = data\n",
    "    # cuda\n",
    "    if torch.cuda.is_available():\n",
    "        x, c, w, z = x.cuda(), c.cuda(), w.cuda(), z.cuda()\n",
    "    # predict\n",
    "    cp = reg(x)\n",
    "    # convert to numpy\n",
    "    x = x.to('cpu').detach().numpy()\n",
    "    c = c.to('cpu').detach().numpy()\n",
    "    w = w.to('cpu').detach().numpy()\n",
    "    z = z.to('cpu').detach().numpy()\n",
    "    cp = cp.to('cpu').detach().numpy()\n",
    "    for j in range(min(10, batch_size)):\n",
    "        print('Sample {}:'.format(j))\n",
    "        print('    True cost:', ', '.join(['{:.2f}'.format(-cost) for cost in c[j]]))\n",
    "        print('    Pred cost:', ', '.join(['{:.2f}'.format(-cost) for cost in cp[j]]))\n",
    "        # solve cost from prediction\n",
    "        ks_model.setObj(cp[j])\n",
    "        wpj, _ = ks_model.solve()\n",
    "        zpj = np.dot(c[j], wpj)\n",
    "        print('    True sol: ' + ', '.join(['{:.0f}'.format(x) for x in w[j]]) + ', True obj: {:.2f}'.format(-z[j,0]))\n",
    "        print('    Pred sol: '+  ', '.join(['{:.0f}'.format(x) for x in wpj]) + ', Pred obj: {:.2f}'.format(-zpj))\n",
    "        print()\n",
    "    break"
   ]
  },
  {
   "cell_type": "markdown",
   "id": "4df20405",
   "metadata": {},
   "source": [
    "## SPO+ Rel "
   ]
  },
  {
   "cell_type": "code",
   "execution_count": 47,
   "id": "71994d62",
   "metadata": {},
   "outputs": [],
   "source": [
    "# init model\n",
    "reg = LinearRegression()\n",
    "# cuda\n",
    "if torch.cuda.is_available():\n",
    "    reg = reg.cuda()"
   ]
  },
  {
   "cell_type": "code",
   "execution_count": 48,
   "id": "2e0f7a29",
   "metadata": {},
   "outputs": [],
   "source": [
    "# set optimizer\n",
    "optimizer = torch.optim.Adam(reg.parameters(), lr=5e-3)"
   ]
  },
  {
   "cell_type": "code",
   "execution_count": 49,
   "id": "e1840354",
   "metadata": {},
   "outputs": [
    {
     "name": "stdout",
     "output_type": "stream",
     "text": [
      "Num of cores: 4\n"
     ]
    }
   ],
   "source": [
    "# init SPO+ loss\n",
    "criterion = spo.func.SPOPlus(ks_model_rel, processes=4)"
   ]
  },
  {
   "cell_type": "code",
   "execution_count": 50,
   "id": "f948e7ed",
   "metadata": {},
   "outputs": [
    {
     "name": "stdout",
     "output_type": "stream",
     "text": [
      "Epoch  10, Loss:  59.7200, True SPO Loss: 44.0794%, Unambiguous SPO Loss: 44.0794%\n",
      "Epoch  20, Loss:  21.9252, True SPO Loss: 40.0126%, Unambiguous SPO Loss: 40.0126%\n",
      "Epoch  30, Loss:  32.9157, True SPO Loss: 35.9124%, Unambiguous SPO Loss: 35.9050%\n",
      "Epoch  40, Loss:  26.6362, True SPO Loss: 32.8642%, Unambiguous SPO Loss: 32.8531%\n",
      "Epoch  50, Loss:  36.3670, True SPO Loss: 27.1566%, Unambiguous SPO Loss: 27.1566%\n",
      "Epoch  60, Loss:  37.1799, True SPO Loss: 24.4342%, Unambiguous SPO Loss: 24.4342%\n",
      "Epoch  70, Loss:  30.0111, True SPO Loss: 22.2305%, Unambiguous SPO Loss: 22.2305%\n",
      "Epoch  80, Loss:  15.3041, True SPO Loss: 20.1230%, Unambiguous SPO Loss: 20.1230%\n",
      "Epoch  90, Loss:  15.0908, True SPO Loss: 17.8710%, Unambiguous SPO Loss: 17.8710%\n",
      "Epoch 100, Loss:  14.8893, True SPO Loss: 16.1302%, Unambiguous SPO Loss: 16.1302%\n",
      "Epoch 110, Loss:  28.4134, True SPO Loss: 13.8894%, Unambiguous SPO Loss: 13.8894%\n",
      "Epoch 120, Loss:  13.6414, True SPO Loss: 12.0967%, Unambiguous SPO Loss: 12.0967%\n",
      "Epoch 130, Loss:  58.7814, True SPO Loss: 10.8448%, Unambiguous SPO Loss: 10.8448%\n",
      "Epoch 140, Loss:   9.9402, True SPO Loss:  9.6263%, Unambiguous SPO Loss:  9.6263%\n",
      "Epoch 150, Loss:  19.7408, True SPO Loss:  8.5892%, Unambiguous SPO Loss:  8.5892%\n",
      "Epoch 160, Loss:  21.6539, True SPO Loss:  7.3225%, Unambiguous SPO Loss:  7.3225%\n",
      "Epoch 170, Loss:  17.2153, True SPO Loss:  6.6447%, Unambiguous SPO Loss:  6.6447%\n",
      "Epoch 180, Loss:  20.5476, True SPO Loss:  5.6928%, Unambiguous SPO Loss:  5.6928%\n",
      "Epoch 190, Loss:  28.1950, True SPO Loss:  4.8965%, Unambiguous SPO Loss:  4.8965%\n",
      "Epoch 200, Loss:  12.4796, True SPO Loss:  4.0446%, Unambiguous SPO Loss:  4.0446%\n",
      "Epoch 210, Loss:   3.6773, True SPO Loss:  3.6779%, Unambiguous SPO Loss:  3.6779%\n",
      "Epoch 220, Loss:   6.0706, True SPO Loss:  3.2335%, Unambiguous SPO Loss:  3.2335%\n",
      "Epoch 230, Loss:   5.3344, True SPO Loss:  2.9112%, Unambiguous SPO Loss:  2.9112%\n",
      "Epoch 240, Loss:   2.9087, True SPO Loss:  2.6927%, Unambiguous SPO Loss:  2.6927%\n",
      "Epoch 250, Loss:  26.0911, True SPO Loss:  2.4445%, Unambiguous SPO Loss:  2.4445%\n",
      "Epoch 260, Loss:  17.8127, True SPO Loss:  2.2816%, Unambiguous SPO Loss:  2.2816%\n",
      "Epoch 270, Loss:   4.3533, True SPO Loss:  2.2408%, Unambiguous SPO Loss:  2.2408%\n",
      "Epoch 280, Loss:  20.2503, True SPO Loss:  2.0223%, Unambiguous SPO Loss:  2.0223%\n",
      "Epoch 290, Loss:  16.8969, True SPO Loss:  1.9223%, Unambiguous SPO Loss:  1.9223%\n",
      "Epoch 300, Loss:   9.2985, True SPO Loss:  1.8186%, Unambiguous SPO Loss:  1.8186%\n",
      "Epoch 310, Loss:   4.2221, True SPO Loss:  1.6593%, Unambiguous SPO Loss:  1.6593%\n",
      "Epoch 320, Loss:   1.1107, True SPO Loss:  1.5815%, Unambiguous SPO Loss:  1.5815%\n",
      "Epoch 330, Loss:   6.9253, True SPO Loss:  1.4889%, Unambiguous SPO Loss:  1.4889%\n",
      "Epoch 340, Loss:   4.8535, True SPO Loss:  1.5112%, Unambiguous SPO Loss:  1.5001%\n",
      "Epoch 350, Loss:   6.8876, True SPO Loss:  1.3075%, Unambiguous SPO Loss:  1.3075%\n",
      "Epoch 360, Loss:  14.5848, True SPO Loss:  1.3223%, Unambiguous SPO Loss:  1.3223%\n",
      "Epoch 370, Loss:   2.4586, True SPO Loss:  1.3926%, Unambiguous SPO Loss:  1.3926%\n",
      "Epoch 380, Loss:   1.9822, True SPO Loss:  1.3186%, Unambiguous SPO Loss:  1.3186%\n",
      "Epoch 390, Loss:  20.9589, True SPO Loss:  1.2704%, Unambiguous SPO Loss:  1.2704%\n",
      "Epoch 400, Loss:   2.7852, True SPO Loss:  1.2260%, Unambiguous SPO Loss:  1.2260%\n",
      "Epoch 410, Loss:   6.3635, True SPO Loss:  1.2186%, Unambiguous SPO Loss:  1.2186%\n",
      "Epoch 420, Loss:   1.8795, True SPO Loss:  1.1371%, Unambiguous SPO Loss:  1.1371%\n",
      "Epoch 430, Loss:   0.5323, True SPO Loss:  1.2334%, Unambiguous SPO Loss:  1.2334%\n",
      "Epoch 440, Loss:   1.0412, True SPO Loss:  1.2112%, Unambiguous SPO Loss:  1.2112%\n",
      "Epoch 450, Loss:   7.8291, True SPO Loss:  1.1889%, Unambiguous SPO Loss:  1.1889%\n",
      "Epoch 460, Loss:   6.9530, True SPO Loss:  1.1926%, Unambiguous SPO Loss:  1.1926%\n",
      "Epoch 470, Loss:  16.2134, True SPO Loss:  1.1667%, Unambiguous SPO Loss:  1.1667%\n",
      "Epoch 480, Loss:   6.6494, True SPO Loss:  1.1186%, Unambiguous SPO Loss:  1.1186%\n",
      "Epoch 490, Loss:   4.3362, True SPO Loss:  1.1260%, Unambiguous SPO Loss:  1.1260%\n",
      "Epoch 500, Loss:   2.0763, True SPO Loss:  1.0778%, Unambiguous SPO Loss:  1.0778%\n"
     ]
    }
   ],
   "source": [
    "# train model\n",
    "num_epochs = 500\n",
    "reg.train()\n",
    "loss_log = []\n",
    "loss_log_truespo = []\n",
    "loss_log_unambspo = []\n",
    "for epoch in range(num_epochs):\n",
    "    # load data\n",
    "    for i, data in enumerate(ks_loader_train_rel):\n",
    "        x, c, w, z = data\n",
    "        # cuda\n",
    "        if torch.cuda.is_available():\n",
    "            x, c, w, z = x.cuda(), c.cuda(), w.cuda(), z.cuda()\n",
    "        # forward pass\n",
    "        cp = reg(x)\n",
    "        loss = criterion.apply(cp, c, w, z).mean()\n",
    "        # backward pass\n",
    "        optimizer.zero_grad()\n",
    "        loss.backward()\n",
    "        optimizer.step()\n",
    "    loss_log.append(loss.item())\n",
    "    if (epoch + 1) % 10 == 0:\n",
    "        # true SPO\n",
    "        trueloss = spo.eval.trueSPO(reg, ks_model, ks_loader_test)\n",
    "        loss_log_truespo.append(trueloss)\n",
    "        # unambiguous SPO \n",
    "        unambloss = spo.eval.unambSPO(reg, ks_model, ks_loader_test)\n",
    "        loss_log_unambspo.append(unambloss)\n",
    "        print('Epoch {:3}, Loss: {:8.4f}, True SPO Loss: {:7.4f}%, Unambiguous SPO Loss: {:7.4f}%'. \\\n",
    "              format(epoch+1, loss.item(), trueloss*100, unambloss*100))"
   ]
  },
  {
   "cell_type": "code",
   "execution_count": 51,
   "id": "ac94f9c5",
   "metadata": {},
   "outputs": [
    {
     "data": {
      "image/png": "[encoded data removed]",
      "text/plain": [
       "<Figure size 864x432 with 1 Axes>"
      ]
     },
     "metadata": {
      "needs_background": "light"
     },
     "output_type": "display_data"
    }
   ],
   "source": [
    "# draw plot\n",
    "plt.figure(figsize=(12, 6))\n",
    "plt.plot(loss_log, color='c')\n",
    "plt.xlabel('Epoch')\n",
    "plt.ylabel('SPO+ Loss')\n",
    "plt.title('Learning Curve')\n",
    "plt.show()"
   ]
  },
  {
   "cell_type": "code",
   "execution_count": 52,
   "id": "4c32ae91",
   "metadata": {},
   "outputs": [
    {
     "data": {
      "image/png": "[encoded data removed]",
      "text/plain": [
       "<Figure size 864x432 with 1 Axes>"
      ]
     },
     "metadata": {
      "needs_background": "light"
     },
     "output_type": "display_data"
    }
   ],
   "source": [
    "# draw plot\n",
    "plt.figure(figsize=(12, 6))\n",
    "plt.plot(range(0, num_epochs, 10), loss_log_truespo, color='m', alpha=0.7, label='True SPO')\n",
    "plt.plot(range(0, num_epochs, 10), loss_log_unambspo, color='b', alpha=0.7, label='Unambiguous SPO')\n",
    "plt.xlabel('Epoch')\n",
    "plt.ylabel('Loss')\n",
    "plt.title('Learning Curve')\n",
    "plt.legend()\n",
    "plt.show()"
   ]
  },
  {
   "cell_type": "code",
   "execution_count": 53,
   "id": "8625b1cb",
   "metadata": {},
   "outputs": [
    {
     "name": "stdout",
     "output_type": "stream",
     "text": [
      "Normalized true SPO Loss: 1.08%\n",
      "Normalized unambiguous SPO Loss: 1.08%\n"
     ]
    }
   ],
   "source": [
    "# evaluate\n",
    "spoloss = spo.eval.trueSPO(reg, ks_model, ks_loader_test)\n",
    "print('Normalized true SPO Loss: {:.2f}%'.format(spoloss * 100))\n",
    "spoloss = spo.eval.unambSPO(reg, ks_model, ks_loader_test)\n",
    "print('Normalized unambiguous SPO Loss: {:.2f}%'.format(spoloss * 100))"
   ]
  },
  {
   "cell_type": "code",
   "execution_count": 54,
   "id": "4dd188e3",
   "metadata": {
    "scrolled": false
   },
   "outputs": [
    {
     "name": "stdout",
     "output_type": "stream",
     "text": [
      "Sample 0:\n",
      "    True cost: 2.00, 2.00, 1.00, 1.00, 3.00, 1.00, 2.00, 3.00, 1.00, 2.00, 2.00, 3.00, 2.00, 4.00, 3.00, 2.00, 3.00, 3.00, 1.00, 2.00, 2.00, 1.00, 2.00, 2.00, 3.00, 2.00, 2.00, 2.00, 2.00, 3.00, 1.00, 2.00\n",
      "    Pred cost: 2.48, 2.72, 0.47, 2.00, 4.12, 0.75, 2.57, 3.09, 1.26, 1.96, 2.45, 3.21, 1.82, 3.78, 3.53, 2.70, 4.12, 3.95, 1.01, 1.89, 1.55, -0.08, -0.20, 1.82, 3.39, 1.94, 2.30, 2.43, 1.25, 3.07, 0.46, 2.32\n",
      "    True sol: 0, 0, 0, 0, 0, 0, 0, 0, 0, 0, 0, 0, 0, 1, 1, 0, 1, 0, 0, 0, 0, 0, 0, 0, 0, 0, 0, 0, 0, 1, 0, 0, True obj: 13.00\n",
      "    Pred sol: 0, 0, 0, 0, 0, 0, 0, 0, 0, 0, 0, 0, 0, 1, 1, 0, 1, 0, 0, 0, 0, 0, 0, 0, 0, 0, 0, 0, 0, 1, 0, 0, Pred obj: 13.00\n",
      "\n",
      "Sample 1:\n",
      "    True cost: 4.00, 3.00, 3.00, 5.00, 3.00, 5.00, 2.00, 3.00, 3.00, 4.00, 3.00, 3.00, 7.00, 2.00, 5.00, 3.00, 3.00, 3.00, 3.00, 4.00, 5.00, 3.00, 5.00, 4.00, 3.00, 4.00, 3.00, 4.00, 3.00, 3.00, 2.00, 4.00\n",
      "    Pred cost: 3.28, 1.90, 2.14, 2.15, 2.01, 3.70, -0.23, 2.25, 2.71, 3.04, 1.80, 2.16, 4.41, 0.66, 3.27, 1.71, 1.79, 1.94, 2.36, 2.70, 3.10, 1.85, 1.29, 2.83, 1.76, 2.48, 1.65, 2.44, 0.30, 2.16, -0.06, 3.09\n",
      "    True sol: 0, 0, 0, 0, 0, 0, 0, 0, 0, 1, 0, 0, 1, 0, 0, 0, 0, 0, 0, 0, 0, 0, 0, 0, 0, 1, 1, 0, 0, 0, 0, 0, True obj: 18.00\n",
      "    Pred sol: -0, -0, 1, -0, -0, -0, 0, -0, -0, 1, -0, -0, 1, -0, -0, -0, -0, -0, -0, -0, -0, -0, -0, -0, -0, 1, 0, -0, -0, -0, 0, -0, Pred obj: 18.00\n",
      "\n",
      "Sample 2:\n",
      "    True cost: 7.00, 2.00, 14.00, 12.00, 12.00, 12.00, 10.00, 4.00, 5.00, 7.00, 2.00, 4.00, 6.00, 4.00, 8.00, 3.00, 12.00, 12.00, 4.00, 16.00, 2.00, 14.00, 2.00, 18.00, 3.00, 16.00, 3.00, 16.00, 8.00, 4.00, 6.00, 7.00\n",
      "    Pred cost: 3.42, 0.77, 6.99, 5.21, 5.71, 6.27, 5.78, 2.01, 3.07, 4.01, 0.43, 2.17, 3.11, 2.14, 4.68, 1.00, 6.22, 5.77, 2.20, 7.20, -0.96, 7.25, -1.28, 7.50, 1.05, 7.05, 1.23, 6.51, 4.87, 1.76, 3.72, 4.07\n",
      "    True sol: 0, 0, 1, 0, 0, 1, 0, 0, 0, 0, 0, 0, 0, 0, 0, 0, 0, 0, 0, 0, 0, 0, 0, 1, 0, 1, 0, 0, 0, 0, 0, 0, True obj: 60.00\n",
      "    Pred sol: 0, 0, 1, 0, 0, 1, -0, 0, 0, -0, 0, 0, 0, 0, -0, 0, 0, -0, 0, -0, 0, -0, 0, 1, 0, 1, 0, -0, 0, 0, 0, 0, Pred obj: 60.00\n",
      "\n",
      "Sample 3:\n",
      "    True cost: 4.00, 3.00, 4.00, 3.00, 6.00, 3.00, 4.00, 2.00, 2.00, 4.00, 3.00, 2.00, 3.00, 5.00, 6.00, 2.00, 6.00, 6.00, 2.00, 6.00, 1.00, 4.00, 1.00, 4.00, 3.00, 6.00, 2.00, 6.00, 2.00, 2.00, 2.00, 4.00\n",
      "    Pred cost: 2.78, 2.72, 3.82, 2.97, 4.62, 2.56, 3.57, 1.13, 1.15, 2.90, 2.48, 1.40, 1.96, 3.77, 4.39, 1.59, 5.18, 4.70, 1.58, 4.48, -0.94, 3.63, -0.84, 3.43, 2.26, 4.55, 1.71, 4.60, 1.62, 1.01, 1.93, 3.15\n",
      "    True sol: -0, -0, -0, -0, -0, -0, -0, -0, -0, -0, -0, -0, -0, 1, -0, -0, 1, 1, -0, -0, -0, -0, -0, -0, -0, 1, -0, -0, -0, -0, -0, -0, True obj: 23.00\n",
      "    Pred sol: 0, 0, 1, 0, 0, 0, 0, 0, 0, 0, 0, 0, 0, 0, 0, 0, 1, 1, 0, 0, 0, 0, 0, 0, 0, 1, 0, 0, 0, 0, 0, 0, Pred obj: 22.00\n",
      "\n",
      "Sample 4:\n",
      "    True cost: 1.00, 3.00, 1.00, 1.00, 2.00, 1.00, 3.00, 2.00, 1.00, 1.00, 3.00, 2.00, 1.00, 5.00, 2.00, 2.00, 2.00, 2.00, 2.00, 2.00, 1.00, 1.00, 1.00, 1.00, 3.00, 2.00, 2.00, 2.00, 2.00, 2.00, 2.00, 1.00\n",
      "    Pred cost: 0.31, 2.85, 0.22, 1.32, 2.46, -0.41, 3.51, 1.83, 0.99, 0.07, 2.66, 1.95, -0.24, 4.34, 2.58, 1.98, 2.68, 2.35, 1.47, 1.77, -0.09, -0.34, -0.85, 0.90, 3.15, 2.09, 1.61, 2.37, 1.73, 1.81, 1.24, 0.35\n",
      "    True sol: -0, 0, -0, -0, -0, -0, -0, -0, -0, -0, 1, -0, -0, 1, 1, -0, -0, -0, -0, -0, -0, -0, -0, -0, -0, -0, 1, -0, -0, -0, -0, -0, True obj: 12.00\n",
      "    Pred sol: 0, 0, 0, 0, 0, 0, 0, 0, 0, 0, 1, 0, 0, 1, 1, 0, 1, 0, 0, 0, 0, 0, 0, 0, 0, 0, 0, 0, 0, 0, 0, 0, Pred obj: 12.00\n",
      "\n",
      "Sample 5:\n",
      "    True cost: 1.00, 1.00, 3.00, 6.00, 2.00, 6.00, 4.00, 3.00, 4.00, 1.00, 1.00, 3.00, 3.00, 2.00, 5.00, 1.00, 2.00, 2.00, 4.00, 10.00, 2.00, 3.00, 2.00, 10.00, 3.00, 10.00, 1.00, 10.00, 8.00, 3.00, 2.00, 1.00\n",
      "    Pred cost: -1.70, -1.82, 1.48, 2.94, 0.17, 3.77, 2.67, 1.72, 2.47, -1.64, -2.00, 1.48, 0.82, -0.16, 3.03, -2.38, 0.20, 0.13, 2.27, 5.58, -1.29, 1.25, -0.81, 5.38, 1.05, 5.57, -2.91, 4.72, 4.54, 1.42, -0.63, -1.82\n",
      "    True sol: 0, 0, 0, 0, 0, 0, 0, 0, 0, 0, 0, 0, 0, 0, 0, 0, 0, 0, 0, 1, 0, 0, 0, 1, 0, 1, 0, 0, 0, 0, 0, 0, True obj: 30.00\n",
      "    Pred sol: 0, 0, 0, 0, 0, 0, 0, 0, 0, 0, 0, 0, 0, 0, 0, 0, 0, 0, 0, 1, 0, 0, 0, 1, 0, 1, 0, 0, 0, 0, 0, 0, Pred obj: 30.00\n",
      "\n",
      "Sample 6:\n",
      "    True cost: 7.00, 6.00, 7.00, 4.00, 6.00, 4.00, 8.00, 5.00, 5.00, 7.00, 6.00, 5.00, 4.00, 5.00, 2.00, 9.00, 6.00, 6.00, 3.00, 2.00, 5.00, 7.00, 5.00, 4.00, 3.00, 2.00, 9.00, 2.00, 5.00, 5.00, 9.00, 7.00\n",
      "    Pred cost: 4.53, 4.38, 4.88, 3.19, 4.95, 3.32, 5.92, 3.65, 4.40, 4.87, 4.15, 3.73, 2.82, 4.02, 1.61, 6.09, 4.85, 4.71, 2.87, 1.60, 4.06, 4.88, -0.08, 3.10, 2.36, 1.68, 6.25, 1.92, 3.45, 3.72, 6.29, 5.10\n",
      "    True sol: 0, 0, 1, -0, 0, 0, 0, 0, 0, 1, 0, 0, 0, 0, 0, 1, 0, 0, 0, -0, 0, 0, 0, 0, -0, 0, 1, -0, 0, 0, 0, 0, True obj: 32.00\n",
      "    Pred sol: 0, 0, 1, 0, 0, 0, 0, 0, 0, 0, 0, 0, 0, 0, 0, 1, 0, 0, 0, 0, 0, 1, 0, 0, 0, 0, 1, 0, 0, 0, 0, 0, Pred obj: 32.00\n",
      "\n",
      "Sample 7:\n",
      "    True cost: 2.00, 2.00, 3.00, 5.00, 3.00, 5.00, 6.00, 6.00, 7.00, 2.00, 2.00, 6.00, 3.00, 2.00, 2.00, 4.00, 3.00, 3.00, 4.00, 3.00, 5.00, 3.00, 5.00, 6.00, 3.00, 3.00, 4.00, 3.00, 9.00, 6.00, 5.00, 2.00\n",
      "    Pred cost: 0.93, 0.83, 1.95, 2.86, 1.76, 3.38, 4.64, 4.23, 4.63, 0.96, 0.62, 3.96, 1.72, 1.32, 1.01, 2.74, 1.25, 1.42, 2.84, 2.20, 3.48, 1.76, -0.10, 4.08, 1.91, 2.21, 2.25, 1.93, 5.10, 4.16, 3.14, 0.94\n",
      "    True sol: 0, 0, 0, 0, 0, 0, 0, 1, 1, 0, 0, 0, 0, 0, 0, 0, 0, 0, 0, 0, 0, 0, 0, 0, 0, 0, 1, 0, 0, 1, 0, 0, True obj: 23.00\n",
      "    Pred sol: 0, 0, 0, 0, 0, 0, 0, 1, 1, 0, 0, 0, 0, 0, 0, 0, 0, 0, 0, 0, 0, 0, 0, 0, 0, 0, 1, 0, 0, 1, 0, 0, Pred obj: 23.00\n",
      "\n",
      "Sample 8:\n",
      "    True cost: 3.00, 7.00, 4.00, 2.00, 3.00, 2.00, 4.00, 2.00, 2.00, 3.00, 7.00, 2.00, 2.00, 6.00, 3.00, 4.00, 3.00, 3.00, 5.00, 4.00, 2.00, 4.00, 2.00, 2.00, 3.00, 4.00, 4.00, 4.00, 2.00, 2.00, 4.00, 3.00\n",
      "    Pred cost: 1.04, 4.35, 3.22, 0.99, 0.85, 1.05, 2.69, -0.50, 1.87, 1.52, 4.38, -0.37, 0.72, 3.72, 1.80, 2.35, 1.35, 0.97, 3.14, 2.06, 0.00, 3.00, -0.15, 0.34, 1.72, 2.45, 2.71, 2.32, 0.35, -0.51, 3.39, 1.59\n",
      "    True sol: -0, 1, -0, -0, -0, -0, -0, -0, -0, -0, 1, -0, -0, -0, -0, -0, -0, -0, -0, -0, -0, -0, -0, -0, -0, 1, 1, -0, -0, -0, -0, -0, True obj: 22.00\n",
      "    Pred sol: 0, 0, 1, 0, 0, 0, 0, 0, 0, 0, 1, 0, 0, 1, 0, 0, 0, 0, 0, 0, 0, 0, 0, 0, 0, 0, 1, 0, 0, 0, 0, 0, Pred obj: 21.00\n",
      "\n",
      "Sample 9:\n",
      "    True cost: 14.00, 8.00, 24.00, 25.00, 7.00, 25.00, 7.00, 3.00, 15.00, 14.00, 8.00, 3.00, 14.00, 3.00, 6.00, 8.00, 7.00, 7.00, 14.00, 12.00, 8.00, 24.00, 8.00, 12.00, 3.00, 12.00, 8.00, 12.00, 7.00, 3.00, 15.00, 14.00\n",
      "    Pred cost: 4.37, 3.10, 8.20, 3.29, 1.43, 7.20, 1.98, 0.06, 5.01, 5.44, 3.16, -0.01, 5.27, 0.11, 2.15, 2.59, 1.64, 1.60, 4.76, 4.57, 2.72, 8.63, 1.21, 4.55, -0.46, 4.44, 3.51, 3.62, 1.51, -0.06, 5.16, 5.18\n",
      "    True sol: -0, -0, 1, 0, -0, -0, -0, -0, 0, 0, -0, -0, -0, -0, -0, -0, -0, -0, -0, 0, -0, 1, -0, 0, -0, 1, -0, 0, -0, -0, 1, -0, True obj: 75.00\n",
      "    Pred sol: -0, -0, 1, -0, -0, -0, -0, -0, -0, 1, -0, 0, -0, -0, -0, -0, -0, -0, -0, -0, -0, 1, -0, -0, 0, 1, 0, -0, -0, 0, -0, -0, Pred obj: 74.00\n",
      "\n"
     ]
    }
   ],
   "source": [
    "reg.eval()\n",
    "# compare solutions\n",
    "for i, data in enumerate(ks_loader_test):\n",
    "    # load data\n",
    "    x, c, w, z = data\n",
    "    # cuda\n",
    "    if torch.cuda.is_available():\n",
    "        x, c, w, z = x.cuda(), c.cuda(), w.cuda(), z.cuda()\n",
    "    # predict\n",
    "    cp = reg(x)\n",
    "    # convert to numpy\n",
    "    x = x.to('cpu').detach().numpy()\n",
    "    c = c.to('cpu').detach().numpy()\n",
    "    w = w.to('cpu').detach().numpy()\n",
    "    z = z.to('cpu').detach().numpy()\n",
    "    cp = cp.to('cpu').detach().numpy()\n",
    "    for j in range(min(10, batch_size)):\n",
    "        print('Sample {}:'.format(j))\n",
    "        print('    True cost:', ', '.join(['{:.2f}'.format(-cost) for cost in c[j]]))\n",
    "        print('    Pred cost:', ', '.join(['{:.2f}'.format(-cost) for cost in cp[j]]))\n",
    "        # solve cost from prediction\n",
    "        ks_model.setObj(cp[j])\n",
    "        wpj, _ = ks_model.solve()\n",
    "        zpj = np.dot(c[j], wpj)\n",
    "        print('    True sol: ' + ', '.join(['{:.0f}'.format(x) for x in w[j]]) + ', True obj: {:.2f}'.format(-z[j,0]))\n",
    "        print('    Pred sol: '+  ', '.join(['{:.0f}'.format(x) for x in wpj]) + ', Pred obj: {:.2f}'.format(-zpj))\n",
    "        print()\n",
    "    break"
   ]
  },
  {
   "cell_type": "markdown",
   "id": "cd96fcde",
   "metadata": {},
   "source": [
    "## Black-Box"
   ]
  },
  {
   "cell_type": "code",
   "execution_count": 55,
   "id": "383005aa",
   "metadata": {},
   "outputs": [],
   "source": [
    "# init model\n",
    "reg = LinearRegression()\n",
    "# cuda\n",
    "if torch.cuda.is_available():\n",
    "    reg = reg.cuda()"
   ]
  },
  {
   "cell_type": "code",
   "execution_count": 56,
   "id": "2b534a38",
   "metadata": {},
   "outputs": [],
   "source": [
    "# set optimizer\n",
    "optimizer = torch.optim.Adam(reg.parameters(), lr=1e-3)"
   ]
  },
  {
   "cell_type": "code",
   "execution_count": 57,
   "id": "b257e4f1",
   "metadata": {},
   "outputs": [
    {
     "name": "stdout",
     "output_type": "stream",
     "text": [
      "Num of cores: 4\n"
     ]
    }
   ],
   "source": [
    "# set loss\n",
    "bb = spo.func.blackboxOpt(ks_model, lambd=10, processes=4)\n",
    "criterion = nn.L1Loss()"
   ]
  },
  {
   "cell_type": "code",
   "execution_count": 58,
   "id": "85ce9990",
   "metadata": {},
   "outputs": [
    {
     "name": "stdout",
     "output_type": "stream",
     "text": [
      "Epoch  10, Loss:   9.7500, True SPO Loss: 42.6942%, Unambiguous SPO Loss: 42.6942%\n",
      "Epoch  20, Loss:  10.5000, True SPO Loss: 38.7459%, Unambiguous SPO Loss: 38.7459%\n",
      "Epoch  30, Loss:   6.7500, True SPO Loss: 35.1828%, Unambiguous SPO Loss: 35.1828%\n",
      "Epoch  40, Loss:   6.2500, True SPO Loss: 32.3234%, Unambiguous SPO Loss: 32.3234%\n",
      "Epoch  50, Loss:   9.7500, True SPO Loss: 29.7381%, Unambiguous SPO Loss: 29.7381%\n",
      "Epoch  60, Loss:   5.5000, True SPO Loss: 26.9677%, Unambiguous SPO Loss: 26.9677%\n",
      "Epoch  70, Loss:  10.5000, True SPO Loss: 24.8268%, Unambiguous SPO Loss: 24.8268%\n",
      "Epoch  80, Loss:   4.2500, True SPO Loss: 22.2453%, Unambiguous SPO Loss: 22.2453%\n",
      "Epoch  90, Loss:   2.0000, True SPO Loss: 19.8044%, Unambiguous SPO Loss: 19.8193%\n",
      "Epoch 100, Loss:   1.5000, True SPO Loss: 17.8007%, Unambiguous SPO Loss: 17.8007%\n",
      "Epoch 110, Loss:   1.7500, True SPO Loss: 15.7302%, Unambiguous SPO Loss: 15.7302%\n",
      "Epoch 120, Loss:   9.5000, True SPO Loss: 14.6931%, Unambiguous SPO Loss: 14.6931%\n",
      "Epoch 130, Loss:   3.5000, True SPO Loss: 13.8487%, Unambiguous SPO Loss: 13.8487%\n",
      "Epoch 140, Loss:   5.5000, True SPO Loss: 12.8412%, Unambiguous SPO Loss: 12.8412%\n",
      "Epoch 150, Loss:   1.7500, True SPO Loss: 12.0041%, Unambiguous SPO Loss: 12.0041%\n",
      "Epoch 160, Loss:   1.2500, True SPO Loss: 11.5782%, Unambiguous SPO Loss: 11.5782%\n",
      "Epoch 170, Loss:   0.7500, True SPO Loss: 11.0856%, Unambiguous SPO Loss: 11.0856%\n",
      "Epoch 180, Loss:   1.5000, True SPO Loss: 10.6819%, Unambiguous SPO Loss: 10.6819%\n",
      "Epoch 190, Loss:   2.2500, True SPO Loss: 10.3633%, Unambiguous SPO Loss: 10.3633%\n",
      "Epoch 200, Loss:   0.0000, True SPO Loss: 10.0856%, Unambiguous SPO Loss: 10.0856%\n",
      "Epoch 210, Loss:   0.2500, True SPO Loss:  9.9707%, Unambiguous SPO Loss:  9.9707%\n",
      "Epoch 220, Loss:   0.2500, True SPO Loss:  9.4226%, Unambiguous SPO Loss:  9.4226%\n",
      "Epoch 230, Loss:   0.7500, True SPO Loss:  9.4078%, Unambiguous SPO Loss:  9.4078%\n",
      "Epoch 240, Loss:   0.5000, True SPO Loss:  9.2003%, Unambiguous SPO Loss:  9.2003%\n",
      "Epoch 250, Loss:   2.0000, True SPO Loss:  9.1337%, Unambiguous SPO Loss:  9.1337%\n",
      "Epoch 260, Loss:   1.0000, True SPO Loss:  8.8707%, Unambiguous SPO Loss:  8.8707%\n",
      "Epoch 270, Loss:   0.0000, True SPO Loss:  8.4707%, Unambiguous SPO Loss:  8.4707%\n",
      "Epoch 280, Loss:   0.2500, True SPO Loss:  8.2855%, Unambiguous SPO Loss:  8.2855%\n",
      "Epoch 290, Loss:   0.0000, True SPO Loss:  8.1077%, Unambiguous SPO Loss:  8.1077%\n",
      "Epoch 300, Loss:   0.2500, True SPO Loss:  8.0559%, Unambiguous SPO Loss:  8.0559%\n",
      "Epoch 310, Loss:   0.0000, True SPO Loss:  7.8744%, Unambiguous SPO Loss:  7.8744%\n",
      "Epoch 320, Loss:   0.0000, True SPO Loss:  7.7633%, Unambiguous SPO Loss:  7.7633%\n",
      "Epoch 330, Loss:   0.2500, True SPO Loss:  7.6114%, Unambiguous SPO Loss:  7.6114%\n",
      "Epoch 340, Loss:   0.0000, True SPO Loss:  7.5225%, Unambiguous SPO Loss:  7.5225%\n",
      "Epoch 350, Loss:   0.2500, True SPO Loss:  7.5299%, Unambiguous SPO Loss:  7.5299%\n",
      "Epoch 360, Loss:   0.0000, True SPO Loss:  7.4225%, Unambiguous SPO Loss:  7.4336%\n",
      "Epoch 370, Loss:   0.0000, True SPO Loss:  7.5151%, Unambiguous SPO Loss:  7.5151%\n",
      "Epoch 380, Loss:   0.2500, True SPO Loss:  7.3781%, Unambiguous SPO Loss:  7.3781%\n",
      "Epoch 390, Loss:   0.0000, True SPO Loss:  7.3892%, Unambiguous SPO Loss:  7.3892%\n",
      "Epoch 400, Loss:   0.0000, True SPO Loss:  7.3892%, Unambiguous SPO Loss:  7.3892%\n",
      "Epoch 410, Loss:   0.0000, True SPO Loss:  7.3818%, Unambiguous SPO Loss:  7.3818%\n",
      "Epoch 420, Loss:   0.0000, True SPO Loss:  7.3781%, Unambiguous SPO Loss:  7.3781%\n",
      "Epoch 430, Loss:   0.0000, True SPO Loss:  7.2892%, Unambiguous SPO Loss:  7.2892%\n",
      "Epoch 440, Loss:   0.0000, True SPO Loss:  7.2558%, Unambiguous SPO Loss:  7.2558%\n",
      "Epoch 450, Loss:   0.2500, True SPO Loss:  7.1780%, Unambiguous SPO Loss:  7.1780%\n",
      "Epoch 460, Loss:   0.0000, True SPO Loss:  7.1669%, Unambiguous SPO Loss:  7.1669%\n",
      "Epoch 470, Loss:   0.0000, True SPO Loss:  7.0558%, Unambiguous SPO Loss:  7.0558%\n",
      "Epoch 480, Loss:   0.0000, True SPO Loss:  7.0410%, Unambiguous SPO Loss:  7.0410%\n",
      "Epoch 490, Loss:   0.0000, True SPO Loss:  7.0743%, Unambiguous SPO Loss:  7.0743%\n",
      "Epoch 500, Loss:   0.2500, True SPO Loss:  7.2151%, Unambiguous SPO Loss:  7.2151%\n"
     ]
    }
   ],
   "source": [
    "# train model\n",
    "num_epochs = 500\n",
    "reg.train()\n",
    "loss_log = []\n",
    "loss_log_truespo = []\n",
    "loss_log_unambspo = []\n",
    "for epoch in range(num_epochs):\n",
    "    # load data\n",
    "    for i, data in enumerate(ks_loader_train):\n",
    "        x, c, w, z = data\n",
    "        # cuda\n",
    "        if torch.cuda.is_available():\n",
    "            x, c, w, z = x.cuda(), c.cuda(), w.cuda(), z.cuda()\n",
    "        # linear regression\n",
    "        cp = reg(x)\n",
    "        # black-box optimizer\n",
    "        wp = bb.apply(cp)\n",
    "        # objective value\n",
    "        zp = (wp * c).sum(1).view(-1, 1)\n",
    "        # loss\n",
    "        loss = criterion(zp, z)\n",
    "        # backward pass\n",
    "        optimizer.zero_grad()\n",
    "        loss.backward()\n",
    "        optimizer.step()\n",
    "    loss_log.append(loss.item())\n",
    "    if (epoch + 1) % 10 == 0:\n",
    "        # true SPO\n",
    "        trueloss = spo.eval.trueSPO(reg, ks_model, ks_loader_test)\n",
    "        loss_log_truespo.append(trueloss)\n",
    "        # unambiguous SPO \n",
    "        unambloss = spo.eval.unambSPO(reg, ks_model, ks_loader_test)\n",
    "        loss_log_unambspo.append(unambloss)\n",
    "        print('Epoch {:3}, Loss: {:8.4f}, True SPO Loss: {:7.4f}%, Unambiguous SPO Loss: {:7.4f}%'. \\\n",
    "              format(epoch+1, loss.item(), trueloss*100, unambloss*100))"
   ]
  },
  {
   "cell_type": "code",
   "execution_count": 59,
   "id": "9bb79450",
   "metadata": {},
   "outputs": [
    {
     "data": {
      "image/png": "[encoded data removed]",
      "text/plain": [
       "<Figure size 864x432 with 1 Axes>"
      ]
     },
     "metadata": {
      "needs_background": "light"
     },
     "output_type": "display_data"
    }
   ],
   "source": [
    "# draw plot\n",
    "plt.figure(figsize=(12, 6))\n",
    "plt.plot(loss_log, color='c')\n",
    "plt.xlabel('Epoch')\n",
    "plt.ylabel('SPO+ Loss')\n",
    "plt.title('Learning Curve')\n",
    "plt.show()"
   ]
  },
  {
   "cell_type": "code",
   "execution_count": 60,
   "id": "65e634d4",
   "metadata": {},
   "outputs": [
    {
     "data": {
      "image/png": "[encoded data removed]",
      "text/plain": [
       "<Figure size 864x432 with 1 Axes>"
      ]
     },
     "metadata": {
      "needs_background": "light"
     },
     "output_type": "display_data"
    }
   ],
   "source": [
    "# draw plot\n",
    "plt.figure(figsize=(12, 6))\n",
    "plt.plot(range(0, num_epochs, 10), loss_log_truespo, color='m', alpha=0.7, label='True SPO')\n",
    "plt.plot(range(0, num_epochs, 10), loss_log_unambspo, color='b', alpha=0.7, label='Unambiguous SPO')\n",
    "plt.xlabel('Epoch')\n",
    "plt.ylabel('Loss')\n",
    "plt.title('Learning Curve')\n",
    "plt.legend()\n",
    "plt.show()"
   ]
  },
  {
   "cell_type": "code",
   "execution_count": 61,
   "id": "9f49711c",
   "metadata": {},
   "outputs": [
    {
     "name": "stdout",
     "output_type": "stream",
     "text": [
      "Normalized true SPO Loss: 7.22%\n",
      "Normalized unambiguous SPO Loss: 7.22%\n"
     ]
    }
   ],
   "source": [
    "# evaluate\n",
    "spoloss = spo.eval.trueSPO(reg, ks_model, ks_loader_test)\n",
    "print('Normalized true SPO Loss: {:.2f}%'.format(spoloss * 100))\n",
    "spoloss = spo.eval.unambSPO(reg, ks_model, ks_loader_test)\n",
    "print('Normalized unambiguous SPO Loss: {:.2f}%'.format(spoloss * 100))"
   ]
  },
  {
   "cell_type": "code",
   "execution_count": 62,
   "id": "4f8b44a1",
   "metadata": {
    "scrolled": false
   },
   "outputs": [
    {
     "name": "stdout",
     "output_type": "stream",
     "text": [
      "Sample 0:\n",
      "    True cost: 2.00, 2.00, 1.00, 1.00, 3.00, 1.00, 2.00, 3.00, 1.00, 2.00, 2.00, 3.00, 2.00, 4.00, 3.00, 2.00, 3.00, 3.00, 1.00, 2.00, 2.00, 1.00, 2.00, 2.00, 3.00, 2.00, 2.00, 2.00, 2.00, 3.00, 1.00, 2.00\n",
      "    Pred cost: 0.28, -0.03, 0.01, -0.21, 0.14, -0.66, 0.18, -0.05, -0.86, -0.19, 0.18, 0.25, 0.01, 0.44, 0.50, -0.45, 0.40, 0.45, -0.69, -0.62, 0.37, -0.06, 0.16, -0.18, 0.58, 0.15, 0.13, -0.13, -0.23, 0.36, -0.52, 0.29\n",
      "    True sol: 0, 0, 0, 0, 0, 0, 0, 0, 0, 0, 0, 0, 0, 1, 1, 0, 1, 0, 0, 0, 0, 0, 0, 0, 0, 0, 0, 0, 0, 1, 0, 0, True obj: 13.00\n",
      "    Pred sol: 0, 0, 0, 0, 0, 0, 0, 0, 0, 0, 0, 0, 0, 1, 1, 0, 1, 0, 0, 0, 0, 0, 0, 0, 0, 0, 0, 0, 0, 1, 0, 0, Pred obj: 13.00\n",
      "\n",
      "Sample 1:\n",
      "    True cost: 4.00, 3.00, 3.00, 5.00, 3.00, 5.00, 2.00, 3.00, 3.00, 4.00, 3.00, 3.00, 7.00, 2.00, 5.00, 3.00, 3.00, 3.00, 3.00, 4.00, 5.00, 3.00, 5.00, 4.00, 3.00, 4.00, 3.00, 4.00, 3.00, 3.00, 2.00, 4.00\n",
      "    Pred cost: 0.28, -0.10, 0.41, 0.19, -0.09, -0.01, -0.53, 0.39, -0.22, 0.21, 0.02, 0.16, 0.46, -0.23, 0.15, -0.37, -0.19, 0.13, -0.10, 0.12, 0.46, 0.06, 0.21, 0.45, 0.38, 0.41, 0.04, 0.38, -0.06, 0.25, -0.18, -0.11\n",
      "    True sol: 0, 0, 0, 0, 0, 0, 0, 0, 0, 1, 0, 0, 1, 0, 0, 0, 0, 0, 0, 0, 0, 0, 0, 0, 0, 1, 1, 0, 0, 0, 0, 0, True obj: 18.00\n",
      "    Pred sol: 0, 0, 1, 0, 0, 0, 0, 0, 0, 0, 0, 0, 1, 0, 0, 0, 0, 0, 0, 0, 0, 0, 0, 0, 0, 1, 0, 0, 0, 1, 0, 0, Pred obj: 17.00\n",
      "\n",
      "Sample 2:\n",
      "    True cost: 7.00, 2.00, 14.00, 12.00, 12.00, 12.00, 10.00, 4.00, 5.00, 7.00, 2.00, 4.00, 6.00, 4.00, 8.00, 3.00, 12.00, 12.00, 4.00, 16.00, 2.00, 14.00, 2.00, 18.00, 3.00, 16.00, 3.00, 16.00, 8.00, 4.00, 6.00, 7.00\n",
      "    Pred cost: 0.31, -0.61, 0.71, 0.17, 0.15, 0.91, 0.76, -0.37, -0.40, 0.82, -0.73, -0.08, 0.30, 0.18, -0.32, -1.54, 1.02, 0.18, -0.51, 0.47, -0.15, 1.03, 0.67, 1.17, 0.54, 0.89, -0.44, 1.05, 0.45, -0.13, 0.47, 0.48\n",
      "    True sol: 0, 0, 1, 0, 0, 1, 0, 0, 0, 0, 0, 0, 0, 0, 0, 0, 0, 0, 0, 0, 0, 0, 0, 1, 0, 1, 0, 0, 0, 0, 0, 0, True obj: 60.00\n",
      "    Pred sol: 0, 0, 0, 0, 0, 1, 0, 0, 0, 0, 0, 0, 0, 0, 0, 0, 1, 0, 0, 0, 0, 0, 0, 1, 0, 1, 0, 0, 0, 0, 0, 0, Pred obj: 58.00\n",
      "\n",
      "Sample 3:\n",
      "    True cost: 4.00, 3.00, 4.00, 3.00, 6.00, 3.00, 4.00, 2.00, 2.00, 4.00, 3.00, 2.00, 3.00, 5.00, 6.00, 2.00, 6.00, 6.00, 2.00, 6.00, 1.00, 4.00, 1.00, 4.00, 3.00, 6.00, 2.00, 6.00, 2.00, 2.00, 2.00, 4.00\n",
      "    Pred cost: 0.46, 0.12, 0.43, 0.03, 0.18, -0.16, 0.55, -0.26, -0.59, 0.35, 0.32, -0.16, 0.25, 0.67, 0.34, -0.96, 0.79, 0.29, -0.44, 0.00, 0.14, 0.53, 0.39, 0.30, 0.83, 0.57, -0.12, 0.56, 0.06, 0.03, 0.30, 0.67\n",
      "    True sol: -0, -0, -0, -0, -0, -0, -0, -0, -0, -0, -0, -0, -0, 1, -0, -0, 1, 1, -0, -0, -0, -0, -0, -0, -0, 1, -0, -0, -0, -0, -0, -0, True obj: 23.00\n",
      "    Pred sol: 0, 0, 0, 0, 0, 0, 0, 0, 0, 0, 0, 0, 0, 1, 0, 0, 1, 0, 0, 0, 0, 0, 0, 0, 0, 1, 0, 0, 0, 0, 0, 1, Pred obj: 21.00\n",
      "\n",
      "Sample 4:\n",
      "    True cost: 1.00, 3.00, 1.00, 1.00, 2.00, 1.00, 3.00, 2.00, 1.00, 1.00, 3.00, 2.00, 1.00, 5.00, 2.00, 2.00, 2.00, 2.00, 2.00, 2.00, 1.00, 1.00, 1.00, 1.00, 3.00, 2.00, 2.00, 2.00, 2.00, 2.00, 2.00, 1.00\n",
      "    Pred cost: 0.06, 0.26, -0.05, -0.20, -0.10, -0.78, 0.53, -0.46, -0.61, -0.64, 0.34, 0.13, -0.09, 0.71, 0.56, -0.41, 0.23, 0.17, -0.51, -0.48, 0.27, 0.04, -0.12, -0.52, 0.48, 0.24, 0.16, -0.08, 0.05, 0.18, -0.19, 0.12\n",
      "    True sol: -0, 0, -0, -0, -0, -0, -0, -0, -0, -0, 1, -0, -0, 1, 1, -0, -0, -0, -0, -0, -0, -0, -0, -0, -0, -0, 1, -0, -0, -0, -0, -0, True obj: 12.00\n",
      "    Pred sol: 0, 0, 0, 0, 0, 0, 0, 0, 0, 0, 1, 0, 0, 1, 1, 0, 0, 0, 0, 0, 0, 0, 0, 0, 0, 1, 0, 0, 0, 0, 0, 0, Pred obj: 12.00\n",
      "\n",
      "Sample 5:\n",
      "    True cost: 1.00, 1.00, 3.00, 6.00, 2.00, 6.00, 4.00, 3.00, 4.00, 1.00, 1.00, 3.00, 3.00, 2.00, 5.00, 1.00, 2.00, 2.00, 4.00, 10.00, 2.00, 3.00, 2.00, 10.00, 3.00, 10.00, 1.00, 10.00, 8.00, 3.00, 2.00, 1.00\n",
      "    Pred cost: -0.52, -0.99, 0.27, 0.53, -0.66, 0.56, 0.26, -0.52, -0.33, -0.55, -1.30, 0.28, 0.24, -0.29, 0.23, -1.57, -0.10, -0.41, 0.27, 0.71, -0.03, 0.43, -0.07, 0.55, 0.07, 1.08, -0.67, 1.10, 0.74, -0.24, -0.27, -0.74\n",
      "    True sol: 0, 0, 0, 0, 0, 0, 0, 0, 0, 0, 0, 0, 0, 0, 0, 0, 0, 0, 0, 1, 0, 0, 0, 1, 0, 1, 0, 0, 0, 0, 0, 0, True obj: 30.00\n",
      "    Pred sol: 0, 0, 0, 0, 0, 0, 0, 0, 0, 0, 0, 0, 0, 0, 0, 0, 0, 0, 0, 0, 0, 0, 0, 0, 0, 1, 0, 1, 1, 0, 0, 0, Pred obj: 28.00\n",
      "\n",
      "Sample 6:\n",
      "    True cost: 7.00, 6.00, 7.00, 4.00, 6.00, 4.00, 8.00, 5.00, 5.00, 7.00, 6.00, 5.00, 4.00, 5.00, 2.00, 9.00, 6.00, 6.00, 3.00, 2.00, 5.00, 7.00, 5.00, 4.00, 3.00, 2.00, 9.00, 2.00, 5.00, 5.00, 9.00, 7.00\n",
      "    Pred cost: 0.39, 0.35, 0.28, -0.62, 0.30, -0.04, 0.48, -0.13, -0.03, 0.25, 0.20, 0.18, -0.12, 0.30, -0.60, 0.34, 0.31, 0.44, -1.22, -0.65, 0.28, 0.35, 0.26, 0.13, 0.08, -0.16, 0.67, -0.52, -0.01, 0.43, 0.26, 0.24\n",
      "    True sol: 0, 0, 1, -0, 0, 0, 0, 0, 0, 1, 0, 0, 0, 0, 0, 1, 0, 0, 0, -0, 0, 0, 0, 0, -0, 0, 1, -0, 0, 0, 0, 0, True obj: 32.00\n",
      "    Pred sol: 0, 0, 0, 0, 0, 0, 1, 0, 0, 0, 0, 0, 0, 0, 0, 0, 1, 0, 0, 0, 0, 0, 0, 0, 0, 0, 1, 0, 0, 1, 0, 0, Pred obj: 28.00\n",
      "\n",
      "Sample 7:\n",
      "    True cost: 2.00, 2.00, 3.00, 5.00, 3.00, 5.00, 6.00, 6.00, 7.00, 2.00, 2.00, 6.00, 3.00, 2.00, 2.00, 4.00, 3.00, 3.00, 4.00, 3.00, 5.00, 3.00, 5.00, 6.00, 3.00, 3.00, 4.00, 3.00, 9.00, 6.00, 5.00, 2.00\n",
      "    Pred cost: -0.34, -0.54, 0.05, -0.22, -0.31, 0.27, 0.21, -0.29, -0.09, -0.54, -0.97, 0.55, -0.14, -0.34, -0.42, -0.23, -0.29, -0.02, -0.66, -0.25, 0.19, 0.13, -0.10, 0.18, -0.36, 0.22, 0.19, -0.14, 0.40, 0.26, -0.41, -0.76\n",
      "    True sol: 0, 0, 0, 0, 0, 0, 0, 1, 1, 0, 0, 0, 0, 0, 0, 0, 0, 0, 0, 0, 0, 0, 0, 0, 0, 0, 1, 0, 0, 1, 0, 0, True obj: 23.00\n",
      "    Pred sol: 0, 0, 0, 0, 0, 1, 0, 0, 0, 0, 0, 1, 0, 0, 0, 0, 0, 0, 0, 0, 0, 0, 0, 0, 0, 1, 0, 0, 0, 1, 0, 0, Pred obj: 20.00\n",
      "\n",
      "Sample 8:\n",
      "    True cost: 3.00, 7.00, 4.00, 2.00, 3.00, 2.00, 4.00, 2.00, 2.00, 3.00, 7.00, 2.00, 2.00, 6.00, 3.00, 4.00, 3.00, 3.00, 5.00, 4.00, 2.00, 4.00, 2.00, 2.00, 3.00, 4.00, 4.00, 4.00, 2.00, 2.00, 4.00, 3.00\n",
      "    Pred cost: 0.30, 1.01, 0.39, -0.08, -0.18, -0.51, 0.40, -0.38, 0.23, -0.24, 1.06, -0.28, 0.22, 0.75, 0.20, 0.03, -0.10, -0.11, -0.15, 0.09, 0.30, 0.38, -0.15, -0.31, 0.46, 0.35, 0.39, 0.21, 0.23, -0.02, 0.85, 0.21\n",
      "    True sol: -0, 1, -0, -0, -0, -0, -0, -0, -0, -0, 1, -0, -0, -0, -0, -0, -0, -0, -0, -0, -0, -0, -0, -0, -0, 1, 1, -0, -0, -0, -0, -0, True obj: 22.00\n",
      "    Pred sol: -0, 1, -0, 0, 0, 0, -0, 0, -0, 0, 1, 0, -0, 0, -0, -0, 0, 0, 0, -0, -0, -0, 0, 0, -0, -0, -0, -0, -0, 0, 1, -0, Pred obj: 18.00\n",
      "\n",
      "Sample 9:\n",
      "    True cost: 14.00, 8.00, 24.00, 25.00, 7.00, 25.00, 7.00, 3.00, 15.00, 14.00, 8.00, 3.00, 14.00, 3.00, 6.00, 8.00, 7.00, 7.00, 14.00, 12.00, 8.00, 24.00, 8.00, 12.00, 3.00, 12.00, 8.00, 12.00, 7.00, 3.00, 15.00, 14.00\n",
      "    Pred cost: 0.47, 0.50, 1.05, 0.23, -0.13, 0.90, -0.16, 0.18, 0.91, 0.90, 0.33, -0.32, 0.69, -0.22, -0.77, -0.12, -0.25, -0.22, 0.03, 0.91, 0.24, 0.86, 0.34, 1.07, 0.16, 0.64, 0.24, 0.84, 0.44, -0.09, 1.31, 0.01\n",
      "    True sol: -0, -0, 1, 0, -0, -0, -0, -0, 0, 0, -0, -0, -0, -0, -0, -0, -0, -0, -0, 0, -0, 1, -0, 0, -0, 1, -0, 0, -0, -0, 1, -0, True obj: 75.00\n",
      "    Pred sol: 0, 0, 1, 0, 0, 0, 0, 0, 0, 1, 0, 0, 0, 0, 0, 0, 0, 0, 0, 0, 0, 0, 0, 0, 0, 1, 0, 0, 0, 0, 1, 0, Pred obj: 65.00\n",
      "\n"
     ]
    }
   ],
   "source": [
    "reg.eval()\n",
    "# compare solutions\n",
    "for i, data in enumerate(ks_loader_test):\n",
    "    # load data\n",
    "    x, c, w, z = data\n",
    "    # cuda\n",
    "    if torch.cuda.is_available():\n",
    "        x, c, w, z = x.cuda(), c.cuda(), w.cuda(), z.cuda()\n",
    "    # predict\n",
    "    cp = reg(x)\n",
    "    # convert to numpy\n",
    "    x = x.to('cpu').detach().numpy()\n",
    "    c = c.to('cpu').detach().numpy()\n",
    "    w = w.to('cpu').detach().numpy()\n",
    "    z = z.to('cpu').detach().numpy()\n",
    "    cp = cp.to('cpu').detach().numpy()\n",
    "    for j in range(min(10, batch_size)):\n",
    "        print('Sample {}:'.format(j))\n",
    "        print('    True cost:', ', '.join(['{:.2f}'.format(-cost) for cost in c[j]]))\n",
    "        print('    Pred cost:', ', '.join(['{:.2f}'.format(-cost) for cost in cp[j]]))\n",
    "        # solve cost from prediction\n",
    "        ks_model.setObj(cp[j])\n",
    "        wpj, _ = ks_model.solve()\n",
    "        zpj = np.dot(c[j], wpj)\n",
    "        print('    True sol: ' + ', '.join(['{:.0f}'.format(x) for x in w[j]]) + ', True obj: {:.2f}'.format(-z[j,0]))\n",
    "        print('    Pred sol: '+  ', '.join(['{:.0f}'.format(x) for x in wpj]) + ', Pred obj: {:.2f}'.format(-zpj))\n",
    "        print()\n",
    "    break"
   ]
  },
  {
   "cell_type": "code",
   "execution_count": null,
   "id": "4a1a2b7c",
   "metadata": {},
   "outputs": [],
   "source": []
  }
 ],
 "metadata": {
  "kernelspec": {
   "display_name": "Python 3",
   "language": "python",
   "name": "python3"
  },
  "language_info": {
   "codemirror_mode": {
    "name": "ipython",
    "version": 3
   },
   "file_extension": ".py",
   "mimetype": "text/x-python",
   "name": "python",
   "nbconvert_exporter": "python",
   "pygments_lexer": "ipython3",
   "version": "3.8.8"
  }
 },
 "nbformat": 4,
 "nbformat_minor": 5
}
