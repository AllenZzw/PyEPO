{
 "cells": [
  {
   "cell_type": "code",
   "execution_count": 1,
   "id": "ec1bcb42",
   "metadata": {},
   "outputs": [],
   "source": [
    "# set work dir\n",
    "import os\n",
    "os.chdir(\"../\")"
   ]
  },
  {
   "cell_type": "code",
   "execution_count": 2,
   "id": "4a8178d0",
   "metadata": {},
   "outputs": [
    {
     "name": "stdout",
     "output_type": "stream",
     "text": [
      "Auto-Sklearn cannot be imported.\n"
     ]
    },
    {
     "data": {
      "text/plain": [
       "<torch._C.Generator at 0x295b278d9b0>"
      ]
     },
     "execution_count": 2,
     "metadata": {},
     "output_type": "execute_result"
    }
   ],
   "source": [
    "import time\n",
    "import pyepo\n",
    "import torch\n",
    "from matplotlib import pyplot as plt\n",
    "import numpy as np\n",
    "from tqdm import tqdm\n",
    "torch.manual_seed(135)"
   ]
  },
  {
   "cell_type": "markdown",
   "id": "610273f3",
   "metadata": {},
   "source": [
    "## Init Data"
   ]
  },
  {
   "cell_type": "code",
   "execution_count": 3,
   "id": "b294594d",
   "metadata": {},
   "outputs": [],
   "source": [
    "# generate data for grid network (features and costs)\n",
    "m = 32 # number of items\n",
    "n = 100 # number of data\n",
    "p = 5 # size of feature\n",
    "deg = 4 # polynomial degree\n",
    "dim = 2 # dimension of knapsack\n",
    "weights, x, c = pyepo.data.knapsack.genData(n+1000, p, m, deg=deg, dim=dim)"
   ]
  },
  {
   "cell_type": "code",
   "execution_count": 4,
   "id": "1a1f8e4a",
   "metadata": {},
   "outputs": [
    {
     "data": {
      "text/plain": [
       "array([[4.59, 4.87, 5.19, 7.59, 6.8 , 4.97, 4.84, 3.22, 7.9 , 3.62, 3.12,\n",
       "        6.81, 7.09, 3.23, 4.47, 5.23, 6.11, 5.23, 4.27, 6.66, 5.21, 3.72,\n",
       "        7.83, 5.64, 7.56, 3.28, 4.31, 3.85, 6.43, 4.26, 7.56, 6.4 ],\n",
       "       [6.09, 6.4 , 4.5 , 6.31, 6.35, 3.07, 6.03, 7.39, 3.48, 5.57, 6.27,\n",
       "        4.55, 5.64, 5.66, 3.27, 6.68, 4.2 , 5.61, 6.13, 7.88, 4.61, 4.92,\n",
       "        6.09, 7.95, 7.11, 4.02, 3.07, 7.84, 6.29, 5.78, 5.57, 5.65]])"
      ]
     },
     "execution_count": 4,
     "metadata": {},
     "output_type": "execute_result"
    }
   ],
   "source": [
    "weights"
   ]
  },
  {
   "cell_type": "code",
   "execution_count": 5,
   "id": "36330b0b",
   "metadata": {},
   "outputs": [],
   "source": [
    "# convert max into min\n",
    "c = - c"
   ]
  },
  {
   "cell_type": "markdown",
   "id": "2bd2586e",
   "metadata": {},
   "source": [
    "## Optimization Model "
   ]
  },
  {
   "cell_type": "code",
   "execution_count": 6,
   "id": "854f2b47",
   "metadata": {},
   "outputs": [],
   "source": [
    "# capacity\n",
    "caps = [20] * dim"
   ]
  },
  {
   "cell_type": "code",
   "execution_count": 7,
   "id": "95c1fde4",
   "metadata": {},
   "outputs": [
    {
     "name": "stdout",
     "output_type": "stream",
     "text": [
      "Set parameter Username\n",
      "Academic license - for non-commercial use only - expires 2022-03-06\n"
     ]
    }
   ],
   "source": [
    "ks_model = pyepo.model.grb.knapsackModel(weights, caps)"
   ]
  },
  {
   "cell_type": "code",
   "execution_count": 8,
   "id": "24e5bd87",
   "metadata": {},
   "outputs": [
    {
     "name": "stdout",
     "output_type": "stream",
     "text": [
      "[0.0, 0.0, 0.0, 0.0, 0.0, 0.0, 0.0, 0.0, 0.0, 0.0, 0.0, 0.0, 0.0, 0.0, 0.0, 0.0, 0.0, 0.0, 0.0, 0.0, 0.0, 0.0, 0.0, 0.0, 0.0, 1.0, 1.0, 0.0, 0.0, 1.0, 0.0, 1.0]\n",
      "Obj: -111.0\n",
      "25\n",
      "26\n",
      "29\n",
      "31\n"
     ]
    }
   ],
   "source": [
    "# solve\n",
    "ks_model.setObj([-i for i in range(m)])\n",
    "sol, obj = ks_model.solve()\n",
    "print(sol)\n",
    "print('Obj: {}'.format(obj))\n",
    "for i in ks_model.items:\n",
    "    if sol[i] > 1e-3:\n",
    "        print(i)"
   ]
  },
  {
   "cell_type": "code",
   "execution_count": 9,
   "id": "9a11572a",
   "metadata": {},
   "outputs": [],
   "source": [
    "# relax\n",
    "ks_model_rel = ks_model.relax()"
   ]
  },
  {
   "cell_type": "code",
   "execution_count": 10,
   "id": "5c09dd38",
   "metadata": {},
   "outputs": [
    {
     "name": "stdout",
     "output_type": "stream",
     "text": [
      "[0.0, 0.0, 0.0, 0.0, 0.0, 0.0, 0.0, 0.0, 0.0, 0.0, 0.0, 0.0, 0.0, 0.0, 0.0, 0.0, 0.0, 0.0, 0.0, 0.0, 0.0, 0.08748512880277728, 0.0, 0.0, 0.0, 1.0, 1.0, 0.0, 0.0, 1.0, 0.18843324349916252, 1.0]\n",
      "Obj: -118.4901850098332\n",
      "21\n",
      "25\n",
      "26\n",
      "29\n",
      "30\n",
      "31\n"
     ]
    }
   ],
   "source": [
    "# solve\n",
    "ks_model_rel.setObj([-i for i in range(m)])\n",
    "sol, obj = ks_model_rel.solve()\n",
    "print(sol)\n",
    "print('Obj: {}'.format(obj))\n",
    "for i in ks_model_rel.items:\n",
    "    if sol[i] > 1e-3:\n",
    "        print(i)"
   ]
  },
  {
   "cell_type": "markdown",
   "id": "4bec37e4",
   "metadata": {},
   "source": [
    "## Data Loader "
   ]
  },
  {
   "cell_type": "code",
   "execution_count": 11,
   "id": "261aed4e",
   "metadata": {},
   "outputs": [],
   "source": [
    "from sklearn.model_selection import train_test_split\n",
    "from torch.utils.data import DataLoader"
   ]
  },
  {
   "cell_type": "code",
   "execution_count": 12,
   "id": "4eda340b",
   "metadata": {},
   "outputs": [],
   "source": [
    "# data split\n",
    "x_train, x_test, c_train, c_test = train_test_split(x, c, test_size=1000, random_state=246)"
   ]
  },
  {
   "cell_type": "code",
   "execution_count": 13,
   "id": "a0e0ef0b",
   "metadata": {},
   "outputs": [
    {
     "name": "stdout",
     "output_type": "stream",
     "text": [
      "Optimizing for optDataset...\n"
     ]
    },
    {
     "name": "stderr",
     "output_type": "stream",
     "text": [
      "100%|████████████████████████████████████████████████████████████████████████████████████████████████| 100/100 [00:00<00:00, 348.35it/s]\n"
     ]
    }
   ],
   "source": [
    "# get training data set\n",
    "ks_dataset_train = pyepo.data.dataset.optDataset(ks_model, x_train, c_train)"
   ]
  },
  {
   "cell_type": "code",
   "execution_count": 14,
   "id": "fad71155",
   "metadata": {},
   "outputs": [
    {
     "name": "stdout",
     "output_type": "stream",
     "text": [
      "Optimizing for optDataset...\n"
     ]
    },
    {
     "name": "stderr",
     "output_type": "stream",
     "text": [
      "100%|███████████████████████████████████████████████████████████████████████████████████████████████| 100/100 [00:00<00:00, 1408.13it/s]\n"
     ]
    }
   ],
   "source": [
    "# get training data set for relaxation\n",
    "ks_dataset_train_rel = pyepo.data.dataset.optDataset(ks_model_rel, x_train, c_train)"
   ]
  },
  {
   "cell_type": "code",
   "execution_count": 15,
   "id": "c8fc0755",
   "metadata": {},
   "outputs": [
    {
     "name": "stdout",
     "output_type": "stream",
     "text": [
      "Optimizing for optDataset...\n"
     ]
    },
    {
     "name": "stderr",
     "output_type": "stream",
     "text": [
      "100%|██████████████████████████████████████████████████████████████████████████████████████████████| 1000/1000 [00:02<00:00, 336.74it/s]\n"
     ]
    }
   ],
   "source": [
    "# get test data set\n",
    "ks_dataset_test = pyepo.data.dataset.optDataset(ks_model, x_test, c_test)"
   ]
  },
  {
   "cell_type": "code",
   "execution_count": 16,
   "id": "bf0bbb3e",
   "metadata": {},
   "outputs": [],
   "source": [
    "# get data loader\n",
    "batch_size = 32\n",
    "ks_loader_train = DataLoader(ks_dataset_train, batch_size=batch_size, shuffle=True)\n",
    "ks_loader_train_rel = DataLoader(ks_dataset_train_rel, batch_size=batch_size, shuffle=True)\n",
    "ks_loader_test = DataLoader(ks_dataset_test, batch_size=batch_size, shuffle=False)"
   ]
  },
  {
   "cell_type": "code",
   "execution_count": 17,
   "id": "a542a7df",
   "metadata": {},
   "outputs": [],
   "source": [
    "for i, data in enumerate(ks_loader_train):\n",
    "    x, c, w, z = data\n",
    "    break"
   ]
  },
  {
   "cell_type": "code",
   "execution_count": 18,
   "id": "75fc2763",
   "metadata": {},
   "outputs": [
    {
     "data": {
      "text/plain": [
       "torch.Size([32, 5])"
      ]
     },
     "execution_count": 18,
     "metadata": {},
     "output_type": "execute_result"
    }
   ],
   "source": [
    "x.shape"
   ]
  },
  {
   "cell_type": "code",
   "execution_count": 19,
   "id": "5e50a821",
   "metadata": {},
   "outputs": [
    {
     "data": {
      "text/plain": [
       "torch.Size([32, 32])"
      ]
     },
     "execution_count": 19,
     "metadata": {},
     "output_type": "execute_result"
    }
   ],
   "source": [
    "c.shape"
   ]
  },
  {
   "cell_type": "code",
   "execution_count": 20,
   "id": "074c9398",
   "metadata": {},
   "outputs": [
    {
     "data": {
      "text/plain": [
       "torch.Size([32, 32])"
      ]
     },
     "execution_count": 20,
     "metadata": {},
     "output_type": "execute_result"
    }
   ],
   "source": [
    "w.shape"
   ]
  },
  {
   "cell_type": "code",
   "execution_count": 21,
   "id": "20de02c7",
   "metadata": {},
   "outputs": [
    {
     "data": {
      "text/plain": [
       "torch.Size([32, 1])"
      ]
     },
     "execution_count": 21,
     "metadata": {},
     "output_type": "execute_result"
    }
   ],
   "source": [
    "z.shape"
   ]
  },
  {
   "cell_type": "markdown",
   "id": "ba836667",
   "metadata": {},
   "source": [
    "## Linear Regression from Scikit-Lear "
   ]
  },
  {
   "cell_type": "code",
   "execution_count": 22,
   "id": "bac0dc77",
   "metadata": {},
   "outputs": [],
   "source": [
    "from sklearn.linear_model import LinearRegression"
   ]
  },
  {
   "cell_type": "code",
   "execution_count": 23,
   "id": "2888cc9b",
   "metadata": {},
   "outputs": [],
   "source": [
    "# prediction model\n",
    "reg = LinearRegression()"
   ]
  },
  {
   "cell_type": "markdown",
   "id": "cc19e83e",
   "metadata": {},
   "source": [
    "## Two-Stage "
   ]
  },
  {
   "cell_type": "code",
   "execution_count": 24,
   "id": "6adcf558",
   "metadata": {},
   "outputs": [],
   "source": [
    "# build model\n",
    "twostage_model = pyepo.twostage.sklearnPred(reg)"
   ]
  },
  {
   "cell_type": "code",
   "execution_count": 25,
   "id": "86fe3c54",
   "metadata": {},
   "outputs": [
    {
     "data": {
      "text/plain": [
       "MultiOutputRegressor(estimator=LinearRegression())"
      ]
     },
     "execution_count": 25,
     "metadata": {},
     "output_type": "execute_result"
    }
   ],
   "source": [
    "# training\n",
    "twostage_model.fit(ks_dataset_train.feats, ks_dataset_train.costs)"
   ]
  },
  {
   "cell_type": "code",
   "execution_count": 26,
   "id": "e2e103e7",
   "metadata": {},
   "outputs": [],
   "source": [
    "# prediction\n",
    "c_test_pred = twostage_model.predict(ks_dataset_test.feats)"
   ]
  },
  {
   "cell_type": "code",
   "execution_count": 27,
   "id": "5aa3cd7f",
   "metadata": {},
   "outputs": [
    {
     "name": "stderr",
     "output_type": "stream",
     "text": [
      "100%|███████████████████████████████████████████████████████████████████████████████████████████████| 1000/1000 [00:16<00:00, 59.75it/s]\n"
     ]
    },
    {
     "name": "stdout",
     "output_type": "stream",
     "text": [
      "Normalized true SPO Loss: 2.39%\n",
      "Normalized unambiguous SPO Loss: 2.39%\n"
     ]
    }
   ],
   "source": [
    "# evaluate\n",
    "truespo = 0\n",
    "unambspo = 0\n",
    "for i in tqdm(range(1000)):\n",
    "    c_pred_i = c_test_pred[i]\n",
    "    c_true_i = ks_dataset_test.costs[i]\n",
    "    z_true_i = ks_dataset_test.objs[i,0]\n",
    "    truespo += pyepo.eval.calTrueSPO(ks_model, c_pred_i, c_true_i, z_true_i)\n",
    "    unambspo += pyepo.eval.calUnambSPO(ks_model, c_pred_i, c_true_i, z_true_i)\n",
    "time.sleep(1)\n",
    "print('Normalized true SPO Loss: {:.2f}%'.format(truespo / abs(ks_dataset_test.objs.sum()) * 100))\n",
    "print('Normalized unambiguous SPO Loss: {:.2f}%'.format(unambspo / abs(ks_dataset_test.objs.sum()) * 100))"
   ]
  },
  {
   "cell_type": "code",
   "execution_count": 28,
   "id": "feeeed33",
   "metadata": {
    "scrolled": false
   },
   "outputs": [
    {
     "name": "stdout",
     "output_type": "stream",
     "text": [
      "Sample 0:\n",
      "    True cost: 1.00, 4.00, 4.00, 1.00, 1.00, 1.00, 1.00, 3.00, 1.00, 4.00, 3.00, 1.00, 1.00, 1.00, 3.00, 1.00, 3.00, 3.00, 1.00, 3.00, 3.00, 1.00, 4.00, 1.00, 1.00, 1.00, 4.00, 3.00, 4.00, 1.00, 4.00, 4.00\n",
      "    Pred cost: 0.15, 4.89, 3.49, -1.84, -1.56, -0.78, 0.32, 3.85, 0.32, 5.22, 3.60, 0.15, -1.75, -1.56, 3.60, -1.27, 3.97, 3.00, -1.84, 3.62, 3.85, 0.29, 4.28, -1.28, -0.78, -1.28, 4.82, 3.78, 4.28, -1.84, 4.28, 5.03\n",
      "    True sol: 0, 1, 1, 0, 0, 0, 0, 0, 0, 1, 0, 0, 0, 0, 0, 0, 0, 0, 0, 0, 0, 0, 0, 0, 0, 0, 1, 0, 0, 0, 0, 0, True obj: 16.00\n",
      "    Pred sol: -0, -0, 0, 0, 0, 0, -0, -0, -0, 1, -0, -0, 0, 0, 0, 0, -0, -0, 0, -0, 1, -0, -0, 0, 0, 0, 1, -0, -0, 0, -0, 1, Pred obj: 15.00\n",
      "\n",
      "Sample 1:\n",
      "    True cost: 4.00, 2.00, 8.00, 2.00, 1.00, 2.00, 5.00, 3.00, 5.00, 3.00, 6.00, 4.00, 2.00, 1.00, 6.00, 4.00, 2.00, 3.00, 2.00, 2.00, 3.00, 3.00, 3.00, 6.00, 2.00, 6.00, 6.00, 4.00, 3.00, 2.00, 3.00, 7.00\n",
      "    Pred cost: 5.01, 1.68, 7.28, 3.29, 0.45, 1.74, 7.01, 3.95, 7.01, 4.27, 5.85, 5.01, 1.93, 0.45, 5.85, 5.06, 1.42, 3.00, 3.29, 2.75, 3.95, 3.86, 3.36, 6.99, 1.74, 6.99, 5.89, 4.57, 3.36, 3.29, 3.36, 7.39\n",
      "    True sol: 0, 0, 1, 0, 0, 0, 0, 0, 0, 0, 1, 0, 0, 0, 0, 0, 0, 0, 0, 0, 0, 0, 0, 0, 0, 0, 1, 0, 0, 0, 0, 1, True obj: 27.00\n",
      "    Pred sol: 0, 0, 1, 0, 0, 0, 0, 0, 0, 0, 0, 0, 0, 0, 0, 0, 0, 0, 0, 0, 0, 0, 0, 0, 0, 1, 1, 0, 0, 0, 0, 1, Pred obj: 27.00\n",
      "\n",
      "Sample 2:\n",
      "    True cost: 4.00, 4.00, 2.00, 6.00, 11.00, 5.00, 4.00, 3.00, 4.00, 2.00, 2.00, 4.00, 6.00, 11.00, 2.00, 4.00, 5.00, 3.00, 6.00, 2.00, 3.00, 7.00, 3.00, 5.00, 5.00, 5.00, 1.00, 3.00, 3.00, 6.00, 3.00, 2.00\n",
      "    Pred cost: 5.23, 6.42, 2.14, 8.51, 10.34, 8.07, 6.08, 4.09, 6.08, 4.45, 1.37, 5.23, 7.33, 10.34, 1.37, 5.22, 5.89, 3.00, 8.51, 3.11, 4.09, 7.75, 3.29, 5.78, 8.07, 5.78, 1.48, 3.83, 3.29, 8.51, 3.29, 2.33\n",
      "    True sol: -0, -0, -0, -0, 1, 1, -0, -0, -0, -0, -0, -0, -0, 1, -0, -0, -0, -0, -0, -0, -0, 1, -0, -0, -0, -0, -0, -0, -0, -0, -0, -0, True obj: 34.00\n",
      "    Pred sol: 0, 0, 0, 0, 1, 1, 0, 0, 0, 0, 0, 0, 0, 1, 0, 0, 0, 0, 0, 0, 0, 1, 0, 0, 0, 0, 0, 0, 0, 0, 0, 0, Pred obj: 34.00\n",
      "\n",
      "Sample 3:\n",
      "    True cost: 3.00, 4.00, 5.00, 4.00, 3.00, 4.00, 3.00, 6.00, 3.00, 5.00, 5.00, 3.00, 4.00, 3.00, 5.00, 3.00, 4.00, 3.00, 4.00, 5.00, 6.00, 2.00, 3.00, 3.00, 4.00, 3.00, 4.00, 3.00, 3.00, 4.00, 3.00, 4.00\n",
      "    Pred cost: 3.82, 5.12, 4.95, 5.14, 3.57, 4.77, 4.51, 6.24, 4.51, 6.78, 4.73, 3.82, 4.50, 3.57, 4.73, 3.66, 4.91, 3.00, 5.14, 5.73, 6.24, 2.98, 3.38, 4.07, 4.77, 4.07, 4.88, 3.58, 3.38, 5.14, 3.38, 5.37\n",
      "    True sol: -0, -0, 1, -0, -0, 0, -0, 1, -0, -0, -0, -0, -0, -0, 1, -0, -0, -0, -0, -0, 1, -0, -0, -0, -0, 0, 0, -0, -0, -0, -0, -0, True obj: 22.00\n",
      "    Pred sol: 0, 0, 0, 0, 0, 0, 0, 0, 0, 1, 0, 0, 0, 0, 0, 0, 0, 0, 0, 0, 1, 0, 0, 0, 0, 0, 1, 0, 0, 0, 0, 1, Pred obj: 19.00\n",
      "\n",
      "Sample 4:\n",
      "    True cost: 1.00, 1.00, 2.00, 2.00, 2.00, 1.00, 1.00, 3.00, 1.00, 1.00, 3.00, 1.00, 3.00, 2.00, 3.00, 2.00, 3.00, 3.00, 2.00, 4.00, 3.00, 1.00, 1.00, 1.00, 1.00, 1.00, 1.00, 2.00, 1.00, 2.00, 1.00, 1.00\n",
      "    Pred cost: -0.47, -0.18, 1.31, 2.03, 2.76, 0.33, -2.69, 3.00, -2.69, -0.88, 3.03, -0.47, 3.96, 2.76, 3.03, 2.79, 3.77, 3.00, 2.03, 4.81, 3.00, -1.84, 0.46, 0.66, 0.33, 0.66, 0.14, 1.93, 0.46, 2.03, 0.46, -1.76\n",
      "    True sol: 0, 0, 0, 0, 0, 0, 0, 1, 0, 0, 0, 0, 0, 0, 1, 0, 1, 0, 0, 0, 1, 0, 0, 0, 0, 0, 0, 0, 0, 0, 0, 0, True obj: 12.00\n",
      "    Pred sol: 0, 0, 0, 0, 0, 0, 0, 0, 0, 0, 1, 0, 1, 0, 1, 0, 0, 0, 0, 0, 1, 0, 0, 0, 0, 0, 0, 0, 0, 0, 0, 0, Pred obj: 12.00\n",
      "\n",
      "Sample 5:\n",
      "    True cost: 2.00, 1.00, 1.00, 1.00, 1.00, 1.00, 1.00, 1.00, 1.00, 1.00, 2.00, 2.00, 1.00, 1.00, 2.00, 2.00, 1.00, 3.00, 1.00, 1.00, 1.00, 2.00, 3.00, 1.00, 1.00, 1.00, 2.00, 2.00, 3.00, 1.00, 3.00, 1.00\n",
      "    Pred cost: 2.31, 0.38, 1.11, -1.25, 0.23, 0.39, 0.87, -0.83, 0.87, -1.16, 2.26, 2.31, 0.58, 0.23, 2.26, 2.37, 0.39, 3.00, -1.25, 0.65, -0.83, 2.05, 3.37, 0.91, 0.39, 0.91, 2.43, 2.34, 3.37, -1.25, 3.37, 1.21\n",
      "    True sol: 0, 0, 0, 0, 0, 0, 0, 0, 0, 0, 0, 0, 0, 0, 0, 0, 0, 1, 0, 0, 0, 1, 0, 0, 0, 0, 1, 0, 1, 0, 0, 0, True obj: 10.00\n",
      "    Pred sol: 0, 0, 0, 0, 0, 0, 0, 0, 0, 0, 0, 0, 0, 0, 0, 0, 0, 1, 0, 0, 0, 1, 0, 0, 0, 0, 1, 0, 1, 0, 0, 0, Pred obj: 10.00\n",
      "\n",
      "Sample 6:\n",
      "    True cost: 4.00, 1.00, 3.00, 1.00, 1.00, 2.00, 3.00, 1.00, 3.00, 1.00, 4.00, 4.00, 1.00, 1.00, 4.00, 4.00, 1.00, 3.00, 1.00, 1.00, 1.00, 3.00, 3.00, 3.00, 2.00, 3.00, 4.00, 3.00, 3.00, 1.00, 3.00, 3.00\n",
      "    Pred cost: 5.04, 0.37, 3.95, 0.63, -0.26, 1.85, 4.99, 0.31, 4.99, 0.94, 4.14, 5.04, 1.39, -0.26, 4.14, 4.58, -0.57, 3.00, 0.63, 0.94, 0.31, 3.82, 3.93, 4.45, 1.85, 4.45, 4.81, 3.00, 3.93, 0.63, 3.93, 4.61\n",
      "    True sol: 1, 0, 0, 0, 0, 0, 0, 0, 0, 0, 1, 0, 0, 0, 1, 0, 0, 0, 0, 0, 0, 0, 0, 0, 0, 0, 1, 0, 0, 0, 0, 0, True obj: 16.00\n",
      "    Pred sol: 1, 0, 0, 0, 0, 0, 0, 0, 0, 0, 0, 1, 0, 0, 0, 0, 0, 0, 0, 0, 0, 0, 0, 0, 0, 1, 1, 0, 0, 0, 0, 0, Pred obj: 15.00\n",
      "\n",
      "Sample 7:\n",
      "    True cost: 4.00, 4.00, 2.00, 2.00, 1.00, 8.00, 1.00, 4.00, 1.00, 6.00, 5.00, 4.00, 6.00, 1.00, 5.00, 3.00, 3.00, 3.00, 2.00, 11.00, 4.00, 1.00, 4.00, 1.00, 8.00, 1.00, 7.00, 1.00, 4.00, 2.00, 4.00, 3.00\n",
      "    Pred cost: 4.32, 5.19, 1.16, 2.38, 0.71, 7.71, 0.88, 5.06, 0.88, 7.06, 4.89, 4.32, 5.90, 0.71, 4.89, 2.83, 3.55, 3.00, 2.38, 8.41, 5.06, -0.10, 4.72, -1.20, 7.71, -1.20, 6.46, -0.12, 4.72, 2.38, 4.72, 3.23\n",
      "    True sol: 0, 0, 0, 0, 0, 1, 0, 0, 0, 1, 0, 0, 0, 0, 0, 0, 0, 0, 0, 1, 0, 0, 0, 0, 0, 0, 1, 0, 0, 0, 0, 0, True obj: 32.00\n",
      "    Pred sol: 0, 0, 0, 0, 0, 1, 0, 0, 0, 1, 0, 0, 0, 0, 0, 0, 0, 0, 0, 1, 0, 0, 0, 0, 0, 0, 1, 0, 0, 0, 0, 0, Pred obj: 32.00\n",
      "\n",
      "Sample 8:\n",
      "    True cost: 8.00, 2.00, 1.00, 2.00, 3.00, 6.00, 5.00, 1.00, 5.00, 2.00, 2.00, 8.00, 4.00, 3.00, 2.00, 5.00, 1.00, 3.00, 2.00, 2.00, 1.00, 7.00, 6.00, 3.00, 6.00, 3.00, 4.00, 2.00, 6.00, 2.00, 6.00, 2.00\n",
      "    Pred cost: 8.12, 5.11, 0.66, 3.89, 5.05, 9.13, 7.04, 0.14, 7.04, 3.65, 1.93, 8.12, 5.39, 5.05, 1.93, 5.33, 1.10, 3.00, 3.89, 1.51, 0.14, 8.16, 6.02, 3.74, 9.13, 3.74, 4.85, 1.74, 6.02, 3.89, 6.02, 3.83\n",
      "    True sol: 1, -0, -0, -0, -0, -0, -0, -0, -0, -0, -0, 1, -0, -0, -0, -0, -0, -0, -0, -0, -0, 1, -0, -0, -0, 0, 1, -0, -0, -0, -0, -0, True obj: 27.00\n",
      "    Pred sol: 1, 0, 0, 0, 0, 1, 0, 0, 0, 0, 0, 0, 0, 1, 0, 0, 0, 0, 0, 0, 0, 1, 0, 0, 0, 0, 0, 0, 0, 0, 0, 0, Pred obj: 24.00\n",
      "\n",
      "Sample 9:\n",
      "    True cost: 3.00, 2.00, 6.00, 5.00, 3.00, 3.00, 4.00, 4.00, 4.00, 3.00, 5.00, 3.00, 4.00, 3.00, 5.00, 5.00, 3.00, 3.00, 5.00, 4.00, 4.00, 3.00, 2.00, 6.00, 3.00, 6.00, 3.00, 4.00, 2.00, 5.00, 2.00, 4.00\n",
      "    Pred cost: 4.43, 2.91, 5.98, 6.38, 4.51, 3.95, 5.88, 5.44, 5.88, 4.55, 4.89, 4.43, 5.04, 4.51, 4.89, 5.58, 3.91, 3.00, 6.38, 4.37, 5.44, 3.91, 2.33, 6.94, 3.95, 6.94, 3.88, 4.22, 2.33, 6.38, 2.33, 5.00\n",
      "    True sol: -0, -0, 1, -0, -0, -0, -0, -0, -0, -0, -0, -0, -0, -0, 1, -0, -0, -0, -0, -0, -0, -0, -0, 1, -0, 1, -0, -0, -0, -0, -0, -0, True obj: 23.00\n",
      "    Pred sol: 0, 0, 0, 0, 0, 0, 0, 0, 1, 0, 0, 0, 0, 0, 0, 0, 0, 0, 1, 0, 0, 0, -0, 0, 0, 1, 0, 0, -0, 1, -0, 0, Pred obj: 20.00\n",
      "\n"
     ]
    }
   ],
   "source": [
    "# compare solutions\n",
    "for i, data in enumerate(ks_loader_test):\n",
    "    # load data\n",
    "    x, c, w, z = data\n",
    "    # cuda\n",
    "    if torch.cuda.is_available():\n",
    "        x, c, w, z = x.cuda(), c.cuda(), w.cuda(), z.cuda()\n",
    "    # convert to numpy\n",
    "    x = x.to('cpu').detach().numpy()\n",
    "    c = c.to('cpu').detach().numpy()\n",
    "    w = w.to('cpu').detach().numpy()\n",
    "    z = z.to('cpu').detach().numpy()\n",
    "    # predict\n",
    "    cp = twostage_model.predict(x)\n",
    "    for j in range(min(10, batch_size)):\n",
    "        print('Sample {}:'.format(j))\n",
    "        print('    True cost:', ', '.join(['{:.2f}'.format(-cost) for cost in c[j]]))\n",
    "        print('    Pred cost:', ', '.join(['{:.2f}'.format(-cost) for cost in cp[j]]))\n",
    "        # solve cost from prediction\n",
    "        ks_model.setObj(cp[j])\n",
    "        wpj, _ = ks_model.solve()\n",
    "        zpj = np.dot(c[j], wpj)\n",
    "        print('    True sol: ' + ', '.join(['{:.0f}'.format(x) for x in w[j]]) + ', True obj: {:.2f}'.format(-z[j,0]))\n",
    "        print('    Pred sol: '+  ', '.join(['{:.0f}'.format(x) for x in wpj]) + ', Pred obj: {:.2f}'.format(-zpj))\n",
    "        print()\n",
    "    break"
   ]
  },
  {
   "cell_type": "markdown",
   "id": "b7f48395",
   "metadata": {},
   "source": [
    "## Two-Stage with Grid Search "
   ]
  },
  {
   "cell_type": "code",
   "execution_count": 29,
   "id": "3f8f42ae",
   "metadata": {},
   "outputs": [],
   "source": [
    "from sklearn.model_selection import GridSearchCV\n",
    "from sklearn.linear_model import Ridge"
   ]
  },
  {
   "cell_type": "code",
   "execution_count": 30,
   "id": "33fb6a53",
   "metadata": {},
   "outputs": [],
   "source": [
    "# build model\n",
    "twostage_model = pyepo.twostage.sklearnPred(Ridge())"
   ]
  },
  {
   "cell_type": "code",
   "execution_count": 31,
   "id": "00539d16",
   "metadata": {},
   "outputs": [],
   "source": [
    "# creat scorer\n",
    "spo_scorer = pyepo.eval.metrics.makeSkScorer(ks_model)"
   ]
  },
  {
   "cell_type": "code",
   "execution_count": 32,
   "id": "3be14571",
   "metadata": {},
   "outputs": [],
   "source": [
    "# build grid search\n",
    "grid = GridSearchCV(twostage_model, param_grid={'estimator__alpha': [0, 0.1, 0.5]}, scoring=spo_scorer)"
   ]
  },
  {
   "cell_type": "code",
   "execution_count": 33,
   "id": "fa578337",
   "metadata": {
    "scrolled": false
   },
   "outputs": [
    {
     "data": {
      "text/plain": [
       "GridSearchCV(estimator=MultiOutputRegressor(estimator=Ridge()),\n",
       "             param_grid={'estimator__alpha': [0, 0.1, 0.5]},\n",
       "             scoring=make_scorer(SPOError, greater_is_better=False, model_type=<class 'pyepo.model.grb.knapsack.knapsackModel'>, args={'weights': array([[4.59, 4.87, 5.19, 7.59, 6.8 , 4.97, 4.84, 3.22, 7.9 , 3.62, 3.12,\n",
       "        6.81, 7.09, 3.23, 4.47, 5.23, 6.11, 5.23, 4.27, 6.66, 5.21, 3.72,\n",
       "        7.83, 5.64, 7.56, 3.28, 4.31, 3.85, 6.43, 4.26, 7.56, 6.4 ],\n",
       "       [6.09, 6.4 , 4.5 , 6.31, 6.35, 3.07, 6.03, 7.39, 3.48, 5.57, 6.27,\n",
       "        4.55, 5.64, 5.66, 3.27, 6.68, 4.2 , 5.61, 6.13, 7.88, 4.61, 4.92,\n",
       "        6.09, 7.95, 7.11, 4.02, 3.07, 7.84, 6.29, 5.78, 5.57, 5.65]]), 'capacity': array([20, 20])}))"
      ]
     },
     "execution_count": 33,
     "metadata": {},
     "output_type": "execute_result"
    }
   ],
   "source": [
    "# training\n",
    "grid.fit(ks_dataset_train.feats, ks_dataset_train.costs)"
   ]
  },
  {
   "cell_type": "code",
   "execution_count": 34,
   "id": "f3f735d4",
   "metadata": {},
   "outputs": [],
   "source": [
    "# prediction\n",
    "c_test_pred = grid.predict(ks_dataset_test.feats)"
   ]
  },
  {
   "cell_type": "code",
   "execution_count": 35,
   "id": "2661e06d",
   "metadata": {},
   "outputs": [
    {
     "name": "stderr",
     "output_type": "stream",
     "text": [
      "100%|███████████████████████████████████████████████████████████████████████████████████████████████| 1000/1000 [00:16<00:00, 60.21it/s]\n"
     ]
    },
    {
     "name": "stdout",
     "output_type": "stream",
     "text": [
      "Normalized true SPO Loss: 2.39%\n",
      "Normalized unambiguous SPO Loss: 2.39%\n"
     ]
    }
   ],
   "source": [
    "# evaluate\n",
    "truespo = 0\n",
    "unambspo = 0\n",
    "for i in tqdm(range(1000)):\n",
    "    c_pred_i = c_test_pred[i]\n",
    "    c_true_i = ks_dataset_test.costs[i]\n",
    "    z_true_i = ks_dataset_test.objs[i,0]\n",
    "    truespo += pyepo.eval.calTrueSPO(ks_model, c_pred_i, c_true_i, z_true_i)\n",
    "    unambspo += pyepo.eval.calUnambSPO(ks_model, c_pred_i, c_true_i, z_true_i)\n",
    "time.sleep(1)\n",
    "print('Normalized true SPO Loss: {:.2f}%'.format(truespo / abs(ks_dataset_test.objs.sum()) * 100))\n",
    "print('Normalized unambiguous SPO Loss: {:.2f}%'.format(unambspo / abs(ks_dataset_test.objs.sum()) * 100))"
   ]
  },
  {
   "cell_type": "code",
   "execution_count": 36,
   "id": "b1aa9d5b",
   "metadata": {
    "scrolled": false
   },
   "outputs": [
    {
     "name": "stdout",
     "output_type": "stream",
     "text": [
      "Sample 0:\n",
      "    True cost: 1.00, 4.00, 4.00, 1.00, 1.00, 1.00, 1.00, 3.00, 1.00, 4.00, 3.00, 1.00, 1.00, 1.00, 3.00, 1.00, 3.00, 3.00, 1.00, 3.00, 3.00, 1.00, 4.00, 1.00, 1.00, 1.00, 4.00, 3.00, 4.00, 1.00, 4.00, 4.00\n",
      "    Pred cost: 0.15, 4.89, 3.49, -1.84, -1.56, -0.78, 0.32, 3.85, 0.32, 5.22, 3.60, 0.15, -1.75, -1.56, 3.60, -1.27, 3.97, 3.00, -1.84, 3.62, 3.85, 0.29, 4.28, -1.28, -0.78, -1.28, 4.82, 3.78, 4.28, -1.84, 4.28, 5.03\n",
      "    True sol: 0, 1, 1, 0, 0, 0, 0, 0, 0, 1, 0, 0, 0, 0, 0, 0, 0, 0, 0, 0, 0, 0, 0, 0, 0, 0, 1, 0, 0, 0, 0, 0, True obj: 16.00\n",
      "    Pred sol: -0, -0, 0, 0, 0, 0, -0, -0, -0, 1, -0, -0, 0, 0, 0, 0, -0, -0, 0, -0, 1, -0, -0, 0, 0, 0, 1, -0, -0, 0, -0, 1, Pred obj: 15.00\n",
      "\n",
      "Sample 1:\n",
      "    True cost: 4.00, 2.00, 8.00, 2.00, 1.00, 2.00, 5.00, 3.00, 5.00, 3.00, 6.00, 4.00, 2.00, 1.00, 6.00, 4.00, 2.00, 3.00, 2.00, 2.00, 3.00, 3.00, 3.00, 6.00, 2.00, 6.00, 6.00, 4.00, 3.00, 2.00, 3.00, 7.00\n",
      "    Pred cost: 5.01, 1.68, 7.28, 3.29, 0.45, 1.74, 7.01, 3.95, 7.01, 4.27, 5.85, 5.01, 1.93, 0.45, 5.85, 5.06, 1.42, 3.00, 3.29, 2.75, 3.95, 3.86, 3.36, 6.99, 1.74, 6.99, 5.89, 4.57, 3.36, 3.29, 3.36, 7.39\n",
      "    True sol: 0, 0, 1, 0, 0, 0, 0, 0, 0, 0, 1, 0, 0, 0, 0, 0, 0, 0, 0, 0, 0, 0, 0, 0, 0, 0, 1, 0, 0, 0, 0, 1, True obj: 27.00\n",
      "    Pred sol: 0, 0, 1, 0, 0, 0, 0, 0, 0, 0, 0, 0, 0, 0, 0, 0, 0, 0, 0, 0, 0, 0, 0, 0, 0, 1, 1, 0, 0, 0, 0, 1, Pred obj: 27.00\n",
      "\n",
      "Sample 2:\n",
      "    True cost: 4.00, 4.00, 2.00, 6.00, 11.00, 5.00, 4.00, 3.00, 4.00, 2.00, 2.00, 4.00, 6.00, 11.00, 2.00, 4.00, 5.00, 3.00, 6.00, 2.00, 3.00, 7.00, 3.00, 5.00, 5.00, 5.00, 1.00, 3.00, 3.00, 6.00, 3.00, 2.00\n",
      "    Pred cost: 5.23, 6.42, 2.14, 8.51, 10.34, 8.07, 6.08, 4.09, 6.08, 4.45, 1.37, 5.23, 7.33, 10.34, 1.37, 5.22, 5.89, 3.00, 8.51, 3.11, 4.09, 7.75, 3.29, 5.78, 8.07, 5.78, 1.48, 3.83, 3.29, 8.51, 3.29, 2.33\n",
      "    True sol: -0, -0, -0, -0, 1, 1, -0, -0, -0, -0, -0, -0, -0, 1, -0, -0, -0, -0, -0, -0, -0, 1, -0, -0, -0, -0, -0, -0, -0, -0, -0, -0, True obj: 34.00\n",
      "    Pred sol: 0, 0, 0, 0, 1, 1, 0, 0, 0, 0, 0, 0, 0, 1, 0, 0, 0, 0, 0, 0, 0, 1, 0, 0, 0, 0, 0, 0, 0, 0, 0, 0, Pred obj: 34.00\n",
      "\n",
      "Sample 3:\n",
      "    True cost: 3.00, 4.00, 5.00, 4.00, 3.00, 4.00, 3.00, 6.00, 3.00, 5.00, 5.00, 3.00, 4.00, 3.00, 5.00, 3.00, 4.00, 3.00, 4.00, 5.00, 6.00, 2.00, 3.00, 3.00, 4.00, 3.00, 4.00, 3.00, 3.00, 4.00, 3.00, 4.00\n",
      "    Pred cost: 3.82, 5.12, 4.95, 5.14, 3.57, 4.77, 4.51, 6.24, 4.51, 6.78, 4.73, 3.82, 4.50, 3.57, 4.73, 3.66, 4.91, 3.00, 5.14, 5.73, 6.24, 2.98, 3.38, 4.07, 4.77, 4.07, 4.88, 3.58, 3.38, 5.14, 3.38, 5.37\n",
      "    True sol: -0, -0, 1, -0, -0, 0, -0, 1, -0, -0, -0, -0, -0, -0, 1, -0, -0, -0, -0, -0, 1, -0, -0, -0, -0, 0, 0, -0, -0, -0, -0, -0, True obj: 22.00\n",
      "    Pred sol: 0, 0, 0, 0, 0, 0, 0, 0, 0, 1, 0, 0, 0, 0, 0, 0, 0, 0, 0, 0, 1, 0, 0, 0, 0, 0, 1, 0, 0, 0, 0, 1, Pred obj: 19.00\n",
      "\n",
      "Sample 4:\n",
      "    True cost: 1.00, 1.00, 2.00, 2.00, 2.00, 1.00, 1.00, 3.00, 1.00, 1.00, 3.00, 1.00, 3.00, 2.00, 3.00, 2.00, 3.00, 3.00, 2.00, 4.00, 3.00, 1.00, 1.00, 1.00, 1.00, 1.00, 1.00, 2.00, 1.00, 2.00, 1.00, 1.00\n",
      "    Pred cost: -0.47, -0.18, 1.31, 2.03, 2.76, 0.33, -2.69, 3.00, -2.69, -0.88, 3.03, -0.47, 3.96, 2.76, 3.03, 2.79, 3.77, 3.00, 2.03, 4.81, 3.00, -1.84, 0.46, 0.66, 0.33, 0.66, 0.14, 1.93, 0.46, 2.03, 0.46, -1.76\n",
      "    True sol: 0, 0, 0, 0, 0, 0, 0, 1, 0, 0, 0, 0, 0, 0, 1, 0, 1, 0, 0, 0, 1, 0, 0, 0, 0, 0, 0, 0, 0, 0, 0, 0, True obj: 12.00\n",
      "    Pred sol: 0, 0, 0, 0, 0, 0, 0, 0, 0, 0, 1, 0, 1, 0, 1, 0, 0, 0, 0, 0, 1, 0, 0, 0, 0, 0, 0, 0, 0, 0, 0, 0, Pred obj: 12.00\n",
      "\n",
      "Sample 5:\n",
      "    True cost: 2.00, 1.00, 1.00, 1.00, 1.00, 1.00, 1.00, 1.00, 1.00, 1.00, 2.00, 2.00, 1.00, 1.00, 2.00, 2.00, 1.00, 3.00, 1.00, 1.00, 1.00, 2.00, 3.00, 1.00, 1.00, 1.00, 2.00, 2.00, 3.00, 1.00, 3.00, 1.00\n",
      "    Pred cost: 2.31, 0.38, 1.11, -1.25, 0.23, 0.39, 0.87, -0.83, 0.87, -1.16, 2.26, 2.31, 0.58, 0.23, 2.26, 2.37, 0.39, 3.00, -1.25, 0.65, -0.83, 2.05, 3.37, 0.91, 0.39, 0.91, 2.43, 2.34, 3.37, -1.25, 3.37, 1.21\n",
      "    True sol: 0, 0, 0, 0, 0, 0, 0, 0, 0, 0, 0, 0, 0, 0, 0, 0, 0, 1, 0, 0, 0, 1, 0, 0, 0, 0, 1, 0, 1, 0, 0, 0, True obj: 10.00\n",
      "    Pred sol: 0, 0, 0, 0, 0, 0, 0, 0, 0, 0, 0, 0, 0, 0, 0, 0, 0, 1, 0, 0, 0, 1, 0, 0, 0, 0, 1, 0, 1, 0, 0, 0, Pred obj: 10.00\n",
      "\n",
      "Sample 6:\n",
      "    True cost: 4.00, 1.00, 3.00, 1.00, 1.00, 2.00, 3.00, 1.00, 3.00, 1.00, 4.00, 4.00, 1.00, 1.00, 4.00, 4.00, 1.00, 3.00, 1.00, 1.00, 1.00, 3.00, 3.00, 3.00, 2.00, 3.00, 4.00, 3.00, 3.00, 1.00, 3.00, 3.00\n",
      "    Pred cost: 5.04, 0.37, 3.95, 0.63, -0.26, 1.85, 4.99, 0.31, 4.99, 0.94, 4.14, 5.04, 1.39, -0.26, 4.14, 4.58, -0.57, 3.00, 0.63, 0.94, 0.31, 3.82, 3.93, 4.45, 1.85, 4.45, 4.81, 3.00, 3.93, 0.63, 3.93, 4.61\n",
      "    True sol: 1, 0, 0, 0, 0, 0, 0, 0, 0, 0, 1, 0, 0, 0, 1, 0, 0, 0, 0, 0, 0, 0, 0, 0, 0, 0, 1, 0, 0, 0, 0, 0, True obj: 16.00\n",
      "    Pred sol: 1, 0, 0, 0, 0, 0, 0, 0, 0, 0, 0, 1, 0, 0, 0, 0, 0, 0, 0, 0, 0, 0, 0, 0, 0, 1, 1, 0, 0, 0, 0, 0, Pred obj: 15.00\n",
      "\n",
      "Sample 7:\n",
      "    True cost: 4.00, 4.00, 2.00, 2.00, 1.00, 8.00, 1.00, 4.00, 1.00, 6.00, 5.00, 4.00, 6.00, 1.00, 5.00, 3.00, 3.00, 3.00, 2.00, 11.00, 4.00, 1.00, 4.00, 1.00, 8.00, 1.00, 7.00, 1.00, 4.00, 2.00, 4.00, 3.00\n",
      "    Pred cost: 4.32, 5.19, 1.16, 2.38, 0.71, 7.71, 0.88, 5.06, 0.88, 7.06, 4.89, 4.32, 5.90, 0.71, 4.89, 2.83, 3.55, 3.00, 2.38, 8.41, 5.06, -0.10, 4.72, -1.20, 7.71, -1.20, 6.46, -0.12, 4.72, 2.38, 4.72, 3.23\n",
      "    True sol: 0, 0, 0, 0, 0, 1, 0, 0, 0, 1, 0, 0, 0, 0, 0, 0, 0, 0, 0, 1, 0, 0, 0, 0, 0, 0, 1, 0, 0, 0, 0, 0, True obj: 32.00\n",
      "    Pred sol: 0, 0, 0, 0, 0, 1, 0, 0, 0, 1, 0, 0, 0, 0, 0, 0, 0, 0, 0, 1, 0, 0, 0, 0, 0, 0, 1, 0, 0, 0, 0, 0, Pred obj: 32.00\n",
      "\n",
      "Sample 8:\n",
      "    True cost: 8.00, 2.00, 1.00, 2.00, 3.00, 6.00, 5.00, 1.00, 5.00, 2.00, 2.00, 8.00, 4.00, 3.00, 2.00, 5.00, 1.00, 3.00, 2.00, 2.00, 1.00, 7.00, 6.00, 3.00, 6.00, 3.00, 4.00, 2.00, 6.00, 2.00, 6.00, 2.00\n",
      "    Pred cost: 8.12, 5.11, 0.66, 3.89, 5.05, 9.13, 7.04, 0.14, 7.04, 3.65, 1.93, 8.12, 5.39, 5.05, 1.93, 5.33, 1.10, 3.00, 3.89, 1.51, 0.14, 8.16, 6.02, 3.74, 9.13, 3.74, 4.85, 1.74, 6.02, 3.89, 6.02, 3.83\n",
      "    True sol: 1, -0, -0, -0, -0, -0, -0, -0, -0, -0, -0, 1, -0, -0, -0, -0, -0, -0, -0, -0, -0, 1, -0, -0, -0, 0, 1, -0, -0, -0, -0, -0, True obj: 27.00\n",
      "    Pred sol: 1, 0, 0, 0, 0, 1, 0, 0, 0, 0, 0, 0, 0, 1, 0, 0, 0, 0, 0, 0, 0, 1, 0, 0, 0, 0, 0, 0, 0, 0, 0, 0, Pred obj: 24.00\n",
      "\n",
      "Sample 9:\n",
      "    True cost: 3.00, 2.00, 6.00, 5.00, 3.00, 3.00, 4.00, 4.00, 4.00, 3.00, 5.00, 3.00, 4.00, 3.00, 5.00, 5.00, 3.00, 3.00, 5.00, 4.00, 4.00, 3.00, 2.00, 6.00, 3.00, 6.00, 3.00, 4.00, 2.00, 5.00, 2.00, 4.00\n",
      "    Pred cost: 4.43, 2.91, 5.98, 6.38, 4.51, 3.95, 5.88, 5.44, 5.88, 4.55, 4.89, 4.43, 5.04, 4.51, 4.89, 5.58, 3.91, 3.00, 6.38, 4.37, 5.44, 3.91, 2.33, 6.94, 3.95, 6.94, 3.88, 4.22, 2.33, 6.38, 2.33, 5.00\n",
      "    True sol: -0, -0, 1, -0, -0, -0, -0, -0, -0, -0, -0, -0, -0, -0, 1, -0, -0, -0, -0, -0, -0, -0, -0, 1, -0, 1, -0, -0, -0, -0, -0, -0, True obj: 23.00\n",
      "    Pred sol: 0, 0, 0, 0, 0, 0, 0, 0, 1, 0, 0, 0, 0, 0, 0, 0, 0, 0, 1, 0, 0, 0, -0, 0, 0, 1, 0, 0, -0, 1, -0, 0, Pred obj: 20.00\n",
      "\n"
     ]
    }
   ],
   "source": [
    "# compare solutions\n",
    "for i, data in enumerate(ks_loader_test):\n",
    "    # load data\n",
    "    x, c, w, z = data\n",
    "    # cuda\n",
    "    if torch.cuda.is_available():\n",
    "        x, c, w, z = x.cuda(), c.cuda(), w.cuda(), z.cuda()\n",
    "    # convert to numpy\n",
    "    x = x.to('cpu').detach().numpy()\n",
    "    c = c.to('cpu').detach().numpy()\n",
    "    w = w.to('cpu').detach().numpy()\n",
    "    z = z.to('cpu').detach().numpy()\n",
    "    # predict\n",
    "    cp = grid.predict(x)\n",
    "    for j in range(min(10, batch_size)):\n",
    "        print('Sample {}:'.format(j))\n",
    "        print('    True cost:', ', '.join(['{:.2f}'.format(-cost) for cost in c[j]]))\n",
    "        print('    Pred cost:', ', '.join(['{:.2f}'.format(-cost) for cost in cp[j]]))\n",
    "        # solve cost from prediction\n",
    "        ks_model.setObj(cp[j])\n",
    "        wpj, _ = ks_model.solve()\n",
    "        zpj = np.dot(c[j], wpj)\n",
    "        print('    True sol: ' + ', '.join(['{:.0f}'.format(x) for x in w[j]]) + ', True obj: {:.2f}'.format(-z[j,0]))\n",
    "        print('    Pred sol: '+  ', '.join(['{:.0f}'.format(x) for x in wpj]) + ', Pred obj: {:.2f}'.format(-zpj))\n",
    "        print()\n",
    "    break"
   ]
  },
  {
   "cell_type": "markdown",
   "id": "8596e709",
   "metadata": {},
   "source": [
    "## Linear Regression from PyTorch"
   ]
  },
  {
   "cell_type": "code",
   "execution_count": 37,
   "id": "e88c361d",
   "metadata": {},
   "outputs": [],
   "source": [
    "from torch import nn"
   ]
  },
  {
   "cell_type": "code",
   "execution_count": 38,
   "id": "5ed32466",
   "metadata": {},
   "outputs": [],
   "source": [
    "# build linear model\n",
    "class LinearRegression(nn.Module):\n",
    "    \n",
    "    def __init__(self):\n",
    "        super(LinearRegression, self).__init__()\n",
    "        self.linear = nn.Linear(p, m)\n",
    "    \n",
    "    def forward(self, x):\n",
    "        out = self.linear(x)\n",
    "        return out"
   ]
  },
  {
   "cell_type": "markdown",
   "id": "fa3f22f2",
   "metadata": {},
   "source": [
    "## SPO+ "
   ]
  },
  {
   "cell_type": "code",
   "execution_count": 39,
   "id": "07753d5a",
   "metadata": {},
   "outputs": [],
   "source": [
    "# init model\n",
    "reg = LinearRegression()\n",
    "# cuda\n",
    "if torch.cuda.is_available():\n",
    "    reg = reg.cuda()"
   ]
  },
  {
   "cell_type": "code",
   "execution_count": 40,
   "id": "d4d0d9b8",
   "metadata": {},
   "outputs": [],
   "source": [
    "# set optimizer\n",
    "optimizer = torch.optim.Adam(reg.parameters(), lr=1e-2)"
   ]
  },
  {
   "cell_type": "code",
   "execution_count": 41,
   "id": "fb3637bb",
   "metadata": {},
   "outputs": [
    {
     "name": "stdout",
     "output_type": "stream",
     "text": [
      "Num of cores: 4\n"
     ]
    }
   ],
   "source": [
    "# init SPO+ loss\n",
    "criterion = pyepo.func.SPOPlus(ks_model, processes=4)"
   ]
  },
  {
   "cell_type": "code",
   "execution_count": 42,
   "id": "5a05c841",
   "metadata": {
    "scrolled": false
   },
   "outputs": [
    {
     "name": "stdout",
     "output_type": "stream",
     "text": [
      "Epoch  10, Loss:  12.7498, True SPO Loss: 37.4793%, Unambiguous SPO Loss: 37.4793%\n",
      "Epoch  20, Loss:  20.8584, True SPO Loss: 32.5182%, Unambiguous SPO Loss: 32.5182%\n",
      "Epoch  30, Loss:  22.0055, True SPO Loss: 28.2865%, Unambiguous SPO Loss: 28.2901%\n",
      "Epoch  40, Loss:  29.5691, True SPO Loss: 22.8780%, Unambiguous SPO Loss: 22.8780%\n",
      "Epoch  50, Loss:  25.2960, True SPO Loss: 18.9669%, Unambiguous SPO Loss: 18.9669%\n",
      "Epoch  60, Loss:   6.3717, True SPO Loss: 16.0565%, Unambiguous SPO Loss: 16.0565%\n",
      "Epoch  70, Loss:  16.0113, True SPO Loss: 12.4908%, Unambiguous SPO Loss: 12.4908%\n",
      "Epoch  80, Loss:   5.8407, True SPO Loss: 10.3027%, Unambiguous SPO Loss: 10.3027%\n",
      "Epoch  90, Loss:   4.7035, True SPO Loss:  8.2802%, Unambiguous SPO Loss:  8.2802%\n",
      "Epoch 100, Loss:  12.8421, True SPO Loss:  6.6206%, Unambiguous SPO Loss:  6.6206%\n",
      "Epoch 110, Loss:   1.2445, True SPO Loss:  5.7644%, Unambiguous SPO Loss:  5.7644%\n",
      "Epoch 120, Loss:   7.1293, True SPO Loss:  4.5876%, Unambiguous SPO Loss:  4.5876%\n",
      "Epoch 130, Loss:   1.9066, True SPO Loss:  4.1084%, Unambiguous SPO Loss:  4.1084%\n",
      "Epoch 140, Loss:  28.3028, True SPO Loss:  3.4354%, Unambiguous SPO Loss:  3.4354%\n",
      "Epoch 150, Loss:  10.0873, True SPO Loss:  3.1852%, Unambiguous SPO Loss:  3.1852%\n",
      "Epoch 160, Loss:  19.4424, True SPO Loss:  2.7695%, Unambiguous SPO Loss:  2.7695%\n",
      "Epoch 170, Loss:   3.2326, True SPO Loss:  2.7060%, Unambiguous SPO Loss:  2.7060%\n",
      "Epoch 180, Loss:  21.7132, True SPO Loss:  2.3325%, Unambiguous SPO Loss:  2.3325%\n",
      "Epoch 190, Loss:   2.7422, True SPO Loss:  2.4065%, Unambiguous SPO Loss:  2.4065%\n",
      "Epoch 200, Loss:   4.2041, True SPO Loss:  2.1810%, Unambiguous SPO Loss:  2.1810%\n",
      "Epoch 210, Loss:   1.2980, True SPO Loss:  1.9696%, Unambiguous SPO Loss:  1.9696%\n",
      "Epoch 220, Loss:   3.5234, True SPO Loss:  1.8851%, Unambiguous SPO Loss:  1.8851%\n",
      "Epoch 230, Loss:   3.0150, True SPO Loss:  1.8534%, Unambiguous SPO Loss:  1.8534%\n",
      "Epoch 240, Loss:   1.0995, True SPO Loss:  1.8604%, Unambiguous SPO Loss:  1.8604%\n",
      "Epoch 250, Loss:   0.4146, True SPO Loss:  1.9062%, Unambiguous SPO Loss:  1.9062%\n",
      "Epoch 260, Loss:   0.9935, True SPO Loss:  1.6032%, Unambiguous SPO Loss:  1.6032%\n",
      "Epoch 270, Loss:   1.6621, True SPO Loss:  1.7018%, Unambiguous SPO Loss:  1.7018%\n",
      "Epoch 280, Loss:   2.4736, True SPO Loss:  1.7512%, Unambiguous SPO Loss:  1.7512%\n",
      "Epoch 290, Loss:   5.3437, True SPO Loss:  1.7970%, Unambiguous SPO Loss:  1.7970%\n",
      "Epoch 300, Loss:   0.5915, True SPO Loss:  1.7617%, Unambiguous SPO Loss:  1.7617%\n"
     ]
    }
   ],
   "source": [
    "# train model\n",
    "num_epochs = 300\n",
    "reg.train()\n",
    "loss_log = []\n",
    "loss_log_truespo = []\n",
    "loss_log_unambspo = []\n",
    "for epoch in range(num_epochs):\n",
    "    # load data\n",
    "    for i, data in enumerate(ks_loader_train):\n",
    "        x, c, w, z = data\n",
    "        # cuda\n",
    "        if torch.cuda.is_available():\n",
    "            x, c, w, z = x.cuda(), c.cuda(), w.cuda(), z.cuda()\n",
    "        # forward pass\n",
    "        cp = reg(x)\n",
    "        loss = criterion.apply(cp, c, w, z).mean()\n",
    "        # backward pass\n",
    "        optimizer.zero_grad()\n",
    "        loss.backward()\n",
    "        optimizer.step()\n",
    "    loss_log.append(loss.item())\n",
    "    if (epoch + 1) % 10 == 0:\n",
    "        # true SPO\n",
    "        trueloss = pyepo.eval.trueSPO(reg, ks_model, ks_loader_test)\n",
    "        loss_log_truespo.append(trueloss)\n",
    "        # unambiguous SPO \n",
    "        unambloss = pyepo.eval.unambSPO(reg, ks_model, ks_loader_test)\n",
    "        loss_log_unambspo.append(unambloss)\n",
    "        print('Epoch {:3}, Loss: {:8.4f}, True SPO Loss: {:7.4f}%, Unambiguous SPO Loss: {:7.4f}%'. \\\n",
    "              format(epoch+1, loss.item(), trueloss*100, unambloss*100))"
   ]
  },
  {
   "cell_type": "code",
   "execution_count": 43,
   "id": "927bf5d7",
   "metadata": {},
   "outputs": [
    {
     "data": {
      "image/png": "[encoded data removed]",
      "text/plain": [
       "<Figure size 864x432 with 1 Axes>"
      ]
     },
     "metadata": {
      "needs_background": "light"
     },
     "output_type": "display_data"
    }
   ],
   "source": [
    "# draw plot\n",
    "plt.figure(figsize=(12, 6))\n",
    "plt.plot(loss_log, color='c')\n",
    "plt.xlabel('Epoch')\n",
    "plt.ylabel('SPO+ Loss')\n",
    "plt.title('Learning Curve')\n",
    "plt.show()"
   ]
  },
  {
   "cell_type": "code",
   "execution_count": 44,
   "id": "8ae91bbd",
   "metadata": {},
   "outputs": [
    {
     "data": {
      "image/png": "[encoded data removed]",
      "text/plain": [
       "<Figure size 864x432 with 1 Axes>"
      ]
     },
     "metadata": {
      "needs_background": "light"
     },
     "output_type": "display_data"
    }
   ],
   "source": [
    "# draw plot\n",
    "plt.figure(figsize=(12, 6))\n",
    "plt.plot(range(0, num_epochs, 10), loss_log_truespo, color='b', alpha=0.5, lw=2, label='Regret')\n",
    "plt.plot(range(0, num_epochs, 10), loss_log_unambspo, color='y', alpha=0.5, lw=2, label='Unambiguous Regret')\n",
    "plt.xlabel('Epoch')\n",
    "plt.ylabel('Loss')\n",
    "plt.title('Learning Curve')\n",
    "plt.legend()\n",
    "plt.show()"
   ]
  },
  {
   "cell_type": "code",
   "execution_count": 45,
   "id": "c8515a5d",
   "metadata": {},
   "outputs": [
    {
     "name": "stdout",
     "output_type": "stream",
     "text": [
      "Normalized true SPO Loss: 1.76%\n",
      "Normalized unambiguous SPO Loss: 1.76%\n"
     ]
    }
   ],
   "source": [
    "# evaluate\n",
    "spoloss = pyepo.eval.trueSPO(reg, ks_model, ks_loader_test)\n",
    "print('Normalized true SPO Loss: {:.2f}%'.format(spoloss * 100))\n",
    "spoloss = pyepo.eval.unambSPO(reg, ks_model, ks_loader_test)\n",
    "print('Normalized unambiguous SPO Loss: {:.2f}%'.format(spoloss * 100))"
   ]
  },
  {
   "cell_type": "code",
   "execution_count": 46,
   "id": "738c1d73",
   "metadata": {
    "scrolled": false
   },
   "outputs": [
    {
     "name": "stdout",
     "output_type": "stream",
     "text": [
      "Sample 0:\n",
      "    True cost: 1.00, 4.00, 4.00, 1.00, 1.00, 1.00, 1.00, 3.00, 1.00, 4.00, 3.00, 1.00, 1.00, 1.00, 3.00, 1.00, 3.00, 3.00, 1.00, 3.00, 3.00, 1.00, 4.00, 1.00, 1.00, 1.00, 4.00, 3.00, 4.00, 1.00, 4.00, 4.00\n",
      "    Pred cost: 1.04, 4.26, 3.47, -1.12, -1.54, -0.99, 0.33, 3.46, -1.34, 5.06, 3.42, 1.34, -1.00, -2.05, 3.46, -0.03, 3.40, 2.95, -0.54, 5.29, 3.77, -0.63, 2.07, -0.68, -0.91, -0.84, 4.83, 3.53, 4.65, -1.15, 4.56, 5.29\n",
      "    True sol: 0, 1, 1, 0, 0, 0, 0, 0, 0, 1, 0, 0, 0, 0, 0, 0, 0, 0, 0, 0, 0, 0, 0, 0, 0, 0, 1, 0, 0, 0, 0, 0, True obj: 16.00\n",
      "    Pred sol: 0, 0, 0, 0, 0, 0, 0, 0, 0, 1, 0, 0, 0, 0, 0, 0, 0, 0, 0, 0, 1, 0, 0, 0, 0, 0, 1, 0, 0, 0, 0, 1, Pred obj: 15.00\n",
      "\n",
      "Sample 1:\n",
      "    True cost: 4.00, 2.00, 8.00, 2.00, 1.00, 2.00, 5.00, 3.00, 5.00, 3.00, 6.00, 4.00, 2.00, 1.00, 6.00, 4.00, 2.00, 3.00, 2.00, 2.00, 3.00, 3.00, 3.00, 6.00, 2.00, 6.00, 6.00, 4.00, 3.00, 2.00, 3.00, 7.00\n",
      "    Pred cost: 3.15, -0.58, 5.23, -0.69, -2.03, -1.13, 4.39, 2.34, 4.02, 1.87, 4.10, 3.31, 0.50, -1.78, 4.17, 2.48, -0.57, 2.03, 1.02, 1.91, 2.20, 0.96, 0.36, 3.35, -0.96, 4.08, 4.08, 2.60, 1.41, 0.84, 2.05, 4.93\n",
      "    True sol: 0, 0, 1, 0, 0, 0, 0, 0, 0, 0, 1, 0, 0, 0, 0, 0, 0, 0, 0, 0, 0, 0, 0, 0, 0, 0, 1, 0, 0, 0, 0, 1, True obj: 27.00\n",
      "    Pred sol: 0, 0, 1, 0, 0, 0, 0, 0, 0, 0, 1, 0, 0, 0, 1, 0, 0, 0, 0, 0, 0, 0, 0, 0, 0, 0, 0, 0, 0, 0, 0, 1, Pred obj: 27.00\n",
      "\n",
      "Sample 2:\n",
      "    True cost: 4.00, 4.00, 2.00, 6.00, 11.00, 5.00, 4.00, 3.00, 4.00, 2.00, 2.00, 4.00, 6.00, 11.00, 2.00, 4.00, 5.00, 3.00, 6.00, 2.00, 3.00, 7.00, 3.00, 5.00, 5.00, 5.00, 1.00, 3.00, 3.00, 6.00, 3.00, 2.00\n",
      "    Pred cost: 2.96, 3.35, 0.25, 0.84, 7.99, 5.55, 3.63, 2.09, 3.63, 1.38, 0.41, 1.93, 3.82, 7.77, 0.61, 3.29, 4.14, 2.03, 5.12, 0.81, 2.35, 5.93, 3.40, 3.83, 4.62, 3.69, -0.28, 3.11, 1.30, 5.32, 1.84, 0.11\n",
      "    True sol: -0, -0, -0, -0, 1, 1, -0, -0, -0, -0, -0, -0, -0, 1, -0, -0, -0, -0, -0, -0, -0, 1, -0, -0, -0, -0, -0, -0, -0, -0, -0, -0, True obj: 34.00\n",
      "    Pred sol: -0, -0, -0, -0, 1, 1, -0, -0, -0, -0, -0, -0, -0, 1, -0, -0, -0, -0, -0, -0, -0, 1, -0, -0, -0, -0, 0, -0, -0, -0, -0, -0, Pred obj: 34.00\n",
      "\n",
      "Sample 3:\n",
      "    True cost: 3.00, 4.00, 5.00, 4.00, 3.00, 4.00, 3.00, 6.00, 3.00, 5.00, 5.00, 3.00, 4.00, 3.00, 5.00, 3.00, 4.00, 3.00, 4.00, 5.00, 6.00, 2.00, 3.00, 3.00, 4.00, 3.00, 4.00, 3.00, 3.00, 4.00, 3.00, 4.00\n",
      "    Pred cost: 2.88, 2.79, 3.73, -0.36, 1.80, 2.83, 2.58, 4.50, 2.06, 4.54, 3.60, 2.44, 3.14, 1.65, 3.90, 2.36, 3.44, 2.58, 3.33, 4.87, 4.49, 0.93, 1.90, 2.56, 2.38, 2.61, 3.80, 2.71, 2.74, 3.29, 2.72, 4.11\n",
      "    True sol: -0, -0, 1, -0, -0, 0, -0, 1, -0, -0, -0, -0, -0, -0, 1, -0, -0, -0, -0, -0, 1, -0, -0, -0, -0, 0, 0, -0, -0, -0, -0, -0, True obj: 22.00\n",
      "    Pred sol: 0, 0, 0, 0, 0, 0, 0, 0, 0, 1, 0, 0, 0, 0, 1, 0, 0, 0, 0, 1, 0, 0, 0, 0, 0, 0, 1, 0, 0, 0, 0, 0, Pred obj: 19.00\n",
      "\n",
      "Sample 4:\n",
      "    True cost: 1.00, 1.00, 2.00, 2.00, 2.00, 1.00, 1.00, 3.00, 1.00, 1.00, 3.00, 1.00, 3.00, 2.00, 3.00, 2.00, 3.00, 3.00, 2.00, 4.00, 3.00, 1.00, 1.00, 1.00, 1.00, 1.00, 1.00, 2.00, 1.00, 2.00, 1.00, 1.00\n",
      "    Pred cost: 1.20, -0.63, 2.21, -0.29, 3.90, 2.05, -0.73, 3.49, -0.85, 0.34, 3.99, 0.40, 4.20, 3.20, 4.82, 4.31, 4.13, 4.65, 3.29, 6.07, 3.56, -1.37, 3.25, 3.03, 1.69, 1.30, 1.07, 3.64, 1.81, 2.89, 3.01, 0.46\n",
      "    True sol: 0, 0, 0, 0, 0, 0, 0, 1, 0, 0, 0, 0, 0, 0, 1, 0, 1, 0, 0, 0, 1, 0, 0, 0, 0, 0, 0, 0, 0, 0, 0, 0, True obj: 12.00\n",
      "    Pred sol: -0, 0, -0, 0, -0, -0, 0, -0, 0, -0, 1, -0, -0, -0, 1, -0, 1, 1, -0, 0, -0, 0, -0, -0, -0, -0, -0, -0, -0, -0, -0, -0, Pred obj: 12.00\n",
      "\n",
      "Sample 5:\n",
      "    True cost: 2.00, 1.00, 1.00, 1.00, 1.00, 1.00, 1.00, 1.00, 1.00, 1.00, 2.00, 2.00, 1.00, 1.00, 2.00, 2.00, 1.00, 3.00, 1.00, 1.00, 1.00, 2.00, 3.00, 1.00, 1.00, 1.00, 2.00, 2.00, 3.00, 1.00, 3.00, 1.00\n",
      "    Pred cost: 1.78, -0.79, 0.15, -0.38, -0.14, -0.42, 0.75, -0.94, -0.09, -1.44, 2.05, 1.64, -0.23, -0.44, 2.01, 2.29, -0.33, 2.63, -1.06, 0.76, -0.77, 1.17, 1.82, 0.52, -0.82, 0.13, 1.56, 2.40, 2.24, -1.63, 2.74, 0.62\n",
      "    True sol: 0, 0, 0, 0, 0, 0, 0, 0, 0, 0, 0, 0, 0, 0, 0, 0, 0, 1, 0, 0, 0, 1, 0, 0, 0, 0, 1, 0, 1, 0, 0, 0, True obj: 10.00\n",
      "    Pred sol: 0, 0, -0, 0, 0, 0, -0, 0, 0, 0, 0, 0, 0, 0, 1, 0, 0, 1, 0, -0, 0, 0, -0, -0, 0, -0, 1, 1, 0, 0, 0, -0, Pred obj: 9.00\n",
      "\n",
      "Sample 6:\n",
      "    True cost: 4.00, 1.00, 3.00, 1.00, 1.00, 2.00, 3.00, 1.00, 3.00, 1.00, 4.00, 4.00, 1.00, 1.00, 4.00, 4.00, 1.00, 3.00, 1.00, 1.00, 1.00, 3.00, 3.00, 3.00, 2.00, 3.00, 4.00, 3.00, 3.00, 1.00, 3.00, 3.00\n",
      "    Pred cost: 2.99, -1.77, 1.76, -0.48, -2.23, -0.87, 2.91, -0.80, 2.32, -0.96, 2.74, 3.04, -0.26, -2.10, 2.55, 2.44, -2.27, 1.78, -1.01, -0.19, -0.86, 1.47, 0.50, 1.50, -1.18, 1.97, 2.81, 1.67, 1.62, -1.38, 1.91, 2.21\n",
      "    True sol: 1, 0, 0, 0, 0, 0, 0, 0, 0, 0, 1, 0, 0, 0, 1, 0, 0, 0, 0, 0, 0, 0, 0, 0, 0, 0, 1, 0, 0, 0, 0, 0, True obj: 16.00\n",
      "    Pred sol: 1, 0, -0, 0, 0, 0, -0, 0, -0, 0, 1, 1, 0, 0, -0, -0, 0, -0, 0, 0, 0, -0, -0, -0, 0, 0, 1, -0, -0, 0, -0, -0, Pred obj: 16.00\n",
      "\n",
      "Sample 7:\n",
      "    True cost: 4.00, 4.00, 2.00, 2.00, 1.00, 8.00, 1.00, 4.00, 1.00, 6.00, 5.00, 4.00, 6.00, 1.00, 5.00, 3.00, 3.00, 3.00, 2.00, 11.00, 4.00, 1.00, 4.00, 1.00, 8.00, 1.00, 7.00, 1.00, 4.00, 2.00, 4.00, 3.00\n",
      "    Pred cost: 3.57, 2.50, -0.06, -0.52, -0.50, 5.70, -0.78, 3.31, -1.86, 4.94, 3.80, 2.77, 4.90, -0.83, 3.93, 2.09, 2.47, 2.43, 1.44, 6.68, 3.09, -1.79, 1.48, -1.22, 4.08, -1.53, 5.26, 0.02, 4.78, 1.27, 2.83, 2.45\n",
      "    True sol: 0, 0, 0, 0, 0, 1, 0, 0, 0, 1, 0, 0, 0, 0, 0, 0, 0, 0, 0, 1, 0, 0, 0, 0, 0, 0, 1, 0, 0, 0, 0, 0, True obj: 32.00\n",
      "    Pred sol: 0, 0, 0, 0, 0, 1, 0, 0, 0, 1, 0, 0, 0, 0, 0, 0, 0, 0, 0, 1, 0, 0, 0, 0, 0, 0, 1, 0, 0, 0, 0, 0, Pred obj: 32.00\n",
      "\n",
      "Sample 8:\n",
      "    True cost: 8.00, 2.00, 1.00, 2.00, 3.00, 6.00, 5.00, 1.00, 5.00, 2.00, 2.00, 8.00, 4.00, 3.00, 2.00, 5.00, 1.00, 3.00, 2.00, 2.00, 1.00, 7.00, 6.00, 3.00, 6.00, 3.00, 4.00, 2.00, 6.00, 2.00, 6.00, 2.00\n",
      "    Pred cost: 4.13, 1.27, -2.84, 0.47, 1.72, 4.41, 3.02, -2.29, 2.28, -0.48, -0.14, 3.50, 1.45, 1.85, -0.69, 2.02, -1.33, 0.41, 0.11, -2.26, -2.23, 5.22, 1.33, -0.00, 2.86, 0.79, 1.50, 0.17, 2.41, 0.07, 1.34, -0.42\n",
      "    True sol: 1, -0, -0, -0, -0, -0, -0, -0, -0, -0, -0, 1, -0, -0, -0, -0, -0, -0, -0, -0, -0, 1, -0, -0, -0, 0, 1, -0, -0, -0, -0, -0, True obj: 27.00\n",
      "    Pred sol: 1, 0, 0, 0, 0, 1, 0, 0, 0, 0, 0, 0, 0, 1, 0, 0, 0, 0, 0, 0, 0, 1, 0, 0, 0, 0, 0, 0, 0, 0, 0, 0, Pred obj: 24.00\n",
      "\n",
      "Sample 9:\n",
      "    True cost: 3.00, 2.00, 6.00, 5.00, 3.00, 3.00, 4.00, 4.00, 4.00, 3.00, 5.00, 3.00, 4.00, 3.00, 5.00, 5.00, 3.00, 3.00, 5.00, 4.00, 4.00, 3.00, 2.00, 6.00, 3.00, 6.00, 3.00, 4.00, 2.00, 5.00, 2.00, 4.00\n",
      "    Pred cost: 3.04, 0.52, 4.50, -0.16, 2.43, 1.89, 3.85, 3.81, 3.91, 2.30, 3.69, 2.58, 3.20, 2.44, 4.09, 3.54, 2.27, 2.66, 3.91, 3.31, 3.73, 1.68, 1.70, 4.54, 1.71, 4.60, 2.59, 3.10, 1.10, 3.94, 1.95, 3.42\n",
      "    True sol: -0, -0, 1, -0, -0, -0, -0, -0, -0, -0, -0, -0, -0, -0, 1, -0, -0, -0, -0, -0, -0, -0, -0, 1, -0, 1, -0, -0, -0, -0, -0, -0, True obj: 23.00\n",
      "    Pred sol: 0, 0, 1, 0, 0, 0, 0, 0, 0, 0, 0, 0, 0, 0, 1, 0, 0, 0, 0, 0, 0, 0, 0, 1, 0, 1, 0, 0, 0, 0, 0, 0, Pred obj: 23.00\n",
      "\n"
     ]
    }
   ],
   "source": [
    "reg.eval()\n",
    "# compare solutions\n",
    "for i, data in enumerate(ks_loader_test):\n",
    "    # load data\n",
    "    x, c, w, z = data\n",
    "    # cuda\n",
    "    if torch.cuda.is_available():\n",
    "        x, c, w, z = x.cuda(), c.cuda(), w.cuda(), z.cuda()\n",
    "    # predict\n",
    "    cp = reg(x)\n",
    "    # convert to numpy\n",
    "    x = x.to('cpu').detach().numpy()\n",
    "    c = c.to('cpu').detach().numpy()\n",
    "    w = w.to('cpu').detach().numpy()\n",
    "    z = z.to('cpu').detach().numpy()\n",
    "    cp = cp.to('cpu').detach().numpy()\n",
    "    for j in range(min(10, batch_size)):\n",
    "        print('Sample {}:'.format(j))\n",
    "        print('    True cost:', ', '.join(['{:.2f}'.format(-cost) for cost in c[j]]))\n",
    "        print('    Pred cost:', ', '.join(['{:.2f}'.format(-cost) for cost in cp[j]]))\n",
    "        # solve cost from prediction\n",
    "        ks_model.setObj(cp[j])\n",
    "        wpj, _ = ks_model.solve()\n",
    "        zpj = np.dot(c[j], wpj)\n",
    "        print('    True sol: ' + ', '.join(['{:.0f}'.format(x) for x in w[j]]) + ', True obj: {:.2f}'.format(-z[j,0]))\n",
    "        print('    Pred sol: '+  ', '.join(['{:.0f}'.format(x) for x in wpj]) + ', Pred obj: {:.2f}'.format(-zpj))\n",
    "        print()\n",
    "    break"
   ]
  },
  {
   "cell_type": "markdown",
   "id": "4df20405",
   "metadata": {},
   "source": [
    "## SPO+ Rel "
   ]
  },
  {
   "cell_type": "code",
   "execution_count": 47,
   "id": "71994d62",
   "metadata": {},
   "outputs": [],
   "source": [
    "# init model\n",
    "reg = LinearRegression()\n",
    "# cuda\n",
    "if torch.cuda.is_available():\n",
    "    reg = reg.cuda()"
   ]
  },
  {
   "cell_type": "code",
   "execution_count": 48,
   "id": "2e0f7a29",
   "metadata": {},
   "outputs": [],
   "source": [
    "# set optimizer\n",
    "optimizer = torch.optim.Adam(reg.parameters(), lr=5e-3)"
   ]
  },
  {
   "cell_type": "code",
   "execution_count": 49,
   "id": "e1840354",
   "metadata": {},
   "outputs": [
    {
     "name": "stdout",
     "output_type": "stream",
     "text": [
      "Num of cores: 4\n"
     ]
    }
   ],
   "source": [
    "# init SPO+ loss\n",
    "criterion = pyepo.func.SPOPlus(ks_model_rel, processes=4)"
   ]
  },
  {
   "cell_type": "code",
   "execution_count": 50,
   "id": "f948e7ed",
   "metadata": {},
   "outputs": [
    {
     "name": "stdout",
     "output_type": "stream",
     "text": [
      "Epoch  10, Loss:  33.5422, True SPO Loss: 39.3573%, Unambiguous SPO Loss: 39.3573%\n",
      "Epoch  20, Loss:  14.1541, True SPO Loss: 34.1919%, Unambiguous SPO Loss: 34.1919%\n",
      "Epoch  30, Loss:  20.9577, True SPO Loss: 30.2174%, Unambiguous SPO Loss: 30.2174%\n",
      "Epoch  40, Loss:  21.6979, True SPO Loss: 27.0286%, Unambiguous SPO Loss: 27.0286%\n",
      "Epoch  50, Loss:  37.8631, True SPO Loss: 24.1147%, Unambiguous SPO Loss: 24.1147%\n",
      "Epoch  60, Loss:  18.9935, True SPO Loss: 20.2988%, Unambiguous SPO Loss: 20.2988%\n",
      "Epoch  70, Loss:  15.8525, True SPO Loss: 18.2340%, Unambiguous SPO Loss: 18.2340%\n",
      "Epoch  80, Loss:  17.6723, True SPO Loss: 16.8810%, Unambiguous SPO Loss: 16.8810%\n",
      "Epoch  90, Loss:  40.9979, True SPO Loss: 15.5527%, Unambiguous SPO Loss: 15.5527%\n",
      "Epoch 100, Loss:  41.6426, True SPO Loss: 13.4033%, Unambiguous SPO Loss: 13.4033%\n",
      "Epoch 110, Loss:  16.3674, True SPO Loss: 11.5112%, Unambiguous SPO Loss: 11.5112%\n",
      "Epoch 120, Loss:  15.8310, True SPO Loss: 10.4824%, Unambiguous SPO Loss: 10.4824%\n",
      "Epoch 130, Loss:  15.9799, True SPO Loss:  8.9673%, Unambiguous SPO Loss:  8.9673%\n",
      "Epoch 140, Loss:  10.9513, True SPO Loss:  7.8644%, Unambiguous SPO Loss:  7.8644%\n",
      "Epoch 150, Loss:  10.6578, True SPO Loss:  7.3606%, Unambiguous SPO Loss:  7.3606%\n",
      "Epoch 160, Loss:  14.7370, True SPO Loss:  6.9589%, Unambiguous SPO Loss:  6.9589%\n",
      "Epoch 170, Loss:   6.0510, True SPO Loss:  6.3528%, Unambiguous SPO Loss:  6.3528%\n",
      "Epoch 180, Loss:  11.7007, True SPO Loss:  6.0851%, Unambiguous SPO Loss:  6.0851%\n",
      "Epoch 190, Loss:   8.5024, True SPO Loss:  5.7820%, Unambiguous SPO Loss:  5.7820%\n",
      "Epoch 200, Loss:  10.6289, True SPO Loss:  5.3874%, Unambiguous SPO Loss:  5.3874%\n",
      "Epoch 210, Loss:   4.9460, True SPO Loss:  4.9611%, Unambiguous SPO Loss:  4.9611%\n",
      "Epoch 220, Loss:  12.8664, True SPO Loss:  4.8342%, Unambiguous SPO Loss:  4.8342%\n",
      "Epoch 230, Loss:   3.6730, True SPO Loss:  4.5312%, Unambiguous SPO Loss:  4.5312%\n",
      "Epoch 240, Loss:  12.9387, True SPO Loss:  4.4220%, Unambiguous SPO Loss:  4.4220%\n",
      "Epoch 250, Loss:   8.6401, True SPO Loss:  4.2282%, Unambiguous SPO Loss:  4.2282%\n",
      "Epoch 260, Loss:   2.0184, True SPO Loss:  4.1295%, Unambiguous SPO Loss:  4.1295%\n",
      "Epoch 270, Loss:   1.1274, True SPO Loss:  3.7419%, Unambiguous SPO Loss:  3.7419%\n",
      "Epoch 280, Loss:   6.8515, True SPO Loss:  3.5305%, Unambiguous SPO Loss:  3.5305%\n",
      "Epoch 290, Loss:   1.6690, True SPO Loss:  3.3790%, Unambiguous SPO Loss:  3.3790%\n",
      "Epoch 300, Loss:   8.3270, True SPO Loss:  3.0126%, Unambiguous SPO Loss:  3.0126%\n"
     ]
    }
   ],
   "source": [
    "# train model\n",
    "num_epochs = 300\n",
    "reg.train()\n",
    "loss_log = []\n",
    "loss_log_truespo = []\n",
    "loss_log_unambspo = []\n",
    "for epoch in range(num_epochs):\n",
    "    # load data\n",
    "    for i, data in enumerate(ks_loader_train_rel):\n",
    "        x, c, w, z = data\n",
    "        # cuda\n",
    "        if torch.cuda.is_available():\n",
    "            x, c, w, z = x.cuda(), c.cuda(), w.cuda(), z.cuda()\n",
    "        # forward pass\n",
    "        cp = reg(x)\n",
    "        loss = criterion.apply(cp, c, w, z).mean()\n",
    "        # backward pass\n",
    "        optimizer.zero_grad()\n",
    "        loss.backward()\n",
    "        optimizer.step()\n",
    "    loss_log.append(loss.item())\n",
    "    if (epoch + 1) % 10 == 0:\n",
    "        # true SPO\n",
    "        trueloss = pyepo.eval.trueSPO(reg, ks_model, ks_loader_test)\n",
    "        loss_log_truespo.append(trueloss)\n",
    "        # unambiguous SPO \n",
    "        unambloss = pyepo.eval.unambSPO(reg, ks_model, ks_loader_test)\n",
    "        loss_log_unambspo.append(unambloss)\n",
    "        print('Epoch {:3}, Loss: {:8.4f}, True SPO Loss: {:7.4f}%, Unambiguous SPO Loss: {:7.4f}%'. \\\n",
    "              format(epoch+1, loss.item(), trueloss*100, unambloss*100))"
   ]
  },
  {
   "cell_type": "code",
   "execution_count": 51,
   "id": "ac94f9c5",
   "metadata": {},
   "outputs": [
    {
     "data": {
      "image/png": "[encoded data removed]",
      "text/plain": [
       "<Figure size 864x432 with 1 Axes>"
      ]
     },
     "metadata": {
      "needs_background": "light"
     },
     "output_type": "display_data"
    }
   ],
   "source": [
    "# draw plot\n",
    "plt.figure(figsize=(12, 6))\n",
    "plt.plot(loss_log, color='c')\n",
    "plt.xlabel('Epoch')\n",
    "plt.ylabel('SPO+ Loss')\n",
    "plt.title('Learning Curve')\n",
    "plt.show()"
   ]
  },
  {
   "cell_type": "code",
   "execution_count": 52,
   "id": "4c32ae91",
   "metadata": {},
   "outputs": [
    {
     "data": {
      "image/png": "[encoded data removed]",
      "text/plain": [
       "<Figure size 864x432 with 1 Axes>"
      ]
     },
     "metadata": {
      "needs_background": "light"
     },
     "output_type": "display_data"
    }
   ],
   "source": [
    "# draw plot\n",
    "plt.figure(figsize=(12, 6))\n",
    "plt.plot(range(0, num_epochs, 10), loss_log_truespo, color='b', alpha=0.5, lw=2, label='Regret')\n",
    "plt.plot(range(0, num_epochs, 10), loss_log_unambspo, color='y', alpha=0.5, lw=2, label='Unambiguous Regret')\n",
    "plt.xlabel('Epoch')\n",
    "plt.ylabel('Loss')\n",
    "plt.title('Learning Curve')\n",
    "plt.legend()\n",
    "plt.show()"
   ]
  },
  {
   "cell_type": "code",
   "execution_count": 53,
   "id": "8625b1cb",
   "metadata": {},
   "outputs": [
    {
     "name": "stdout",
     "output_type": "stream",
     "text": [
      "Normalized true SPO Loss: 3.01%\n",
      "Normalized unambiguous SPO Loss: 3.01%\n"
     ]
    }
   ],
   "source": [
    "# evaluate\n",
    "spoloss = pyepo.eval.trueSPO(reg, ks_model, ks_loader_test)\n",
    "print('Normalized true SPO Loss: {:.2f}%'.format(spoloss * 100))\n",
    "spoloss = pyepo.eval.unambSPO(reg, ks_model, ks_loader_test)\n",
    "print('Normalized unambiguous SPO Loss: {:.2f}%'.format(spoloss * 100))"
   ]
  },
  {
   "cell_type": "code",
   "execution_count": 54,
   "id": "4dd188e3",
   "metadata": {
    "scrolled": false
   },
   "outputs": [
    {
     "name": "stdout",
     "output_type": "stream",
     "text": [
      "Sample 0:\n",
      "    True cost: 1.00, 4.00, 4.00, 1.00, 1.00, 1.00, 1.00, 3.00, 1.00, 4.00, 3.00, 1.00, 1.00, 1.00, 3.00, 1.00, 3.00, 3.00, 1.00, 3.00, 3.00, 1.00, 4.00, 1.00, 1.00, 1.00, 4.00, 3.00, 4.00, 1.00, 4.00, 4.00\n",
      "    Pred cost: 1.50, 3.70, 2.85, -0.72, -0.50, -0.27, 0.54, 2.34, 0.11, 3.79, 2.82, 0.48, -0.01, -0.92, 2.63, -0.57, 2.73, 2.37, -0.37, 2.54, 3.14, -0.20, 2.69, -1.10, 0.25, -0.68, 3.73, 1.88, 2.98, -0.47, 2.91, 3.14\n",
      "    True sol: 0, 1, 1, 0, 0, 0, 0, 0, 0, 1, 0, 0, 0, 0, 0, 0, 0, 0, 0, 0, 0, 0, 0, 0, 0, 0, 1, 0, 0, 0, 0, 0, True obj: 16.00\n",
      "    Pred sol: 0, 1, 0, 0, 0, 0, 0, 0, 0, 1, 0, 0, 0, 0, 0, 0, 0, 0, 0, 0, 1, 0, 0, 0, 0, 0, 1, 0, 0, 0, 0, 0, Pred obj: 15.00\n",
      "\n",
      "Sample 1:\n",
      "    True cost: 4.00, 2.00, 8.00, 2.00, 1.00, 2.00, 5.00, 3.00, 5.00, 3.00, 6.00, 4.00, 2.00, 1.00, 6.00, 4.00, 2.00, 3.00, 2.00, 2.00, 3.00, 3.00, 3.00, 6.00, 2.00, 6.00, 6.00, 4.00, 3.00, 2.00, 3.00, 7.00\n",
      "    Pred cost: 2.30, 0.20, 3.85, -0.45, -1.31, 0.20, 3.15, 0.64, 2.99, 1.56, 3.10, 0.89, 0.73, -1.00, 3.20, 1.09, 0.05, 1.20, 1.35, 1.15, 1.53, 1.29, 0.58, 3.18, 0.88, 3.43, 3.18, 1.19, 0.47, 0.99, 1.09, 2.71\n",
      "    True sol: 0, 0, 1, 0, 0, 0, 0, 0, 0, 0, 1, 0, 0, 0, 0, 0, 0, 0, 0, 0, 0, 0, 0, 0, 0, 0, 1, 0, 0, 0, 0, 1, True obj: 27.00\n",
      "    Pred sol: 0, 0, 1, 0, 0, 0, 0, 0, 0, 0, 0, 0, 0, 0, 1, 0, 0, 0, 0, 0, 0, 0, 0, 1, 0, 1, 0, 0, 0, 0, 0, 0, Pred obj: 26.00\n",
      "\n",
      "Sample 2:\n",
      "    True cost: 4.00, 4.00, 2.00, 6.00, 11.00, 5.00, 4.00, 3.00, 4.00, 2.00, 2.00, 4.00, 6.00, 11.00, 2.00, 4.00, 5.00, 3.00, 6.00, 2.00, 3.00, 7.00, 3.00, 5.00, 5.00, 5.00, 1.00, 3.00, 3.00, 6.00, 3.00, 2.00\n",
      "    Pred cost: 1.45, 2.95, 0.91, 0.17, 6.07, 3.91, 3.03, 1.70, 3.51, 1.11, 0.41, 2.09, 3.68, 6.01, 0.71, 2.87, 3.74, 2.02, 3.40, 1.30, 1.84, 4.53, -0.37, 3.31, 2.12, 3.02, 0.19, 3.05, 1.58, 4.21, 1.57, 1.37\n",
      "    True sol: -0, -0, -0, -0, 1, 1, -0, -0, -0, -0, -0, -0, -0, 1, -0, -0, -0, -0, -0, -0, -0, 1, -0, -0, -0, -0, -0, -0, -0, -0, -0, -0, True obj: 34.00\n",
      "    Pred sol: 0, 0, 0, 0, 1, 1, 0, 0, 0, 0, 0, 0, 0, 1, 0, 0, 0, 0, 0, 0, 0, 1, 0, 0, 0, 0, 0, 0, 0, 0, 0, 0, Pred obj: 34.00\n",
      "\n",
      "Sample 3:\n",
      "    True cost: 3.00, 4.00, 5.00, 4.00, 3.00, 4.00, 3.00, 6.00, 3.00, 5.00, 5.00, 3.00, 4.00, 3.00, 5.00, 3.00, 4.00, 3.00, 4.00, 5.00, 6.00, 2.00, 3.00, 3.00, 4.00, 3.00, 4.00, 3.00, 3.00, 4.00, 3.00, 4.00\n",
      "    Pred cost: 2.37, 2.88, 3.10, -0.20, 1.63, 2.42, 2.23, 2.85, 2.02, 3.78, 3.22, 1.74, 2.12, 1.72, 3.08, 1.94, 2.90, 2.17, 2.63, 3.30, 3.70, 1.20, 1.15, 1.99, 1.54, 2.03, 3.03, 1.69, 2.11, 2.79, 2.27, 2.90\n",
      "    True sol: -0, -0, 1, -0, -0, 0, -0, 1, -0, -0, -0, -0, -0, -0, 1, -0, -0, -0, -0, -0, 1, -0, -0, -0, -0, 0, 0, -0, -0, -0, -0, -0, True obj: 22.00\n",
      "    Pred sol: 0, 0, 0, 0, 0, 0, 0, 0, 0, 1, 1, 0, 0, 0, 1, 0, 0, 0, 0, 0, 1, 0, 0, 0, 0, 0, 0, 0, 0, 0, 0, 0, Pred obj: 21.00\n",
      "\n",
      "Sample 4:\n",
      "    True cost: 1.00, 1.00, 2.00, 2.00, 2.00, 1.00, 1.00, 3.00, 1.00, 1.00, 3.00, 1.00, 3.00, 2.00, 3.00, 2.00, 3.00, 3.00, 2.00, 4.00, 3.00, 1.00, 1.00, 1.00, 1.00, 1.00, 1.00, 2.00, 1.00, 2.00, 1.00, 1.00\n",
      "    Pred cost: 1.29, 1.43, 2.00, 0.04, 3.03, 1.43, -0.17, 3.82, -0.54, 0.48, 3.15, 1.70, 3.19, 2.85, 3.20, 3.90, 3.42, 3.62, 2.34, 3.54, 3.22, -0.16, 0.95, 1.26, 1.48, 1.02, 0.88, 2.79, 2.05, 2.49, 2.77, 1.01\n",
      "    True sol: 0, 0, 0, 0, 0, 0, 0, 1, 0, 0, 0, 0, 0, 0, 1, 0, 1, 0, 0, 0, 1, 0, 0, 0, 0, 0, 0, 0, 0, 0, 0, 0, True obj: 12.00\n",
      "    Pred sol: 0, 0, 0, 0, 0, 0, 0, 1, 0, 0, 0, 0, 0, 0, 1, 0, 1, 0, 0, 0, 1, 0, 0, 0, 0, 0, 0, 0, 0, 0, 0, 0, Pred obj: 12.00\n",
      "\n",
      "Sample 5:\n",
      "    True cost: 2.00, 1.00, 1.00, 1.00, 1.00, 1.00, 1.00, 1.00, 1.00, 1.00, 2.00, 2.00, 1.00, 1.00, 2.00, 2.00, 1.00, 3.00, 1.00, 1.00, 1.00, 2.00, 3.00, 1.00, 1.00, 1.00, 2.00, 2.00, 3.00, 1.00, 3.00, 1.00\n",
      "    Pred cost: 0.98, 0.16, 0.46, -0.18, 0.22, 0.10, 0.58, -0.12, 0.44, -1.42, 1.14, 0.88, 1.02, -0.32, 1.37, 1.26, 0.07, 1.76, -0.85, 0.27, -0.58, 0.94, 0.38, 0.38, 0.38, 0.27, 1.26, 1.40, 1.13, -0.99, 1.46, 0.59\n",
      "    True sol: 0, 0, 0, 0, 0, 0, 0, 0, 0, 0, 0, 0, 0, 0, 0, 0, 0, 1, 0, 0, 0, 1, 0, 0, 0, 0, 1, 0, 1, 0, 0, 0, True obj: 10.00\n",
      "    Pred sol: 0, 0, 0, 0, 0, 0, 0, 0, 0, 0, 0, 0, 0, 0, 1, 0, 0, 1, 0, 0, 0, 0, 0, 0, 0, 0, 1, 1, 0, 0, 0, 0, Pred obj: 9.00\n",
      "\n",
      "Sample 6:\n",
      "    True cost: 4.00, 1.00, 3.00, 1.00, 1.00, 2.00, 3.00, 1.00, 3.00, 1.00, 4.00, 4.00, 1.00, 1.00, 4.00, 4.00, 1.00, 3.00, 1.00, 1.00, 1.00, 3.00, 3.00, 3.00, 2.00, 3.00, 4.00, 3.00, 3.00, 1.00, 3.00, 3.00\n",
      "    Pred cost: 1.72, -0.80, 1.46, -0.22, -1.42, 0.20, 2.01, -0.92, 1.89, -0.93, 1.72, 0.95, 0.62, -1.60, 1.94, 1.06, -1.34, 0.91, -0.43, -0.03, -0.84, 1.22, -0.07, 1.81, 0.47, 1.78, 2.19, 0.53, 0.31, -0.81, 0.76, 1.21\n",
      "    True sol: 1, 0, 0, 0, 0, 0, 0, 0, 0, 0, 1, 0, 0, 0, 1, 0, 0, 0, 0, 0, 0, 0, 0, 0, 0, 0, 1, 0, 0, 0, 0, 0, True obj: 16.00\n",
      "    Pred sol: 0, 0, 0, 0, 0, 0, 1, 0, 0, 0, 0, 0, 0, 0, 1, 0, 0, 0, 0, 0, 0, 0, 0, 0, 0, 1, 1, 0, 0, 0, 0, 0, Pred obj: 14.00\n",
      "\n",
      "Sample 7:\n",
      "    True cost: 4.00, 4.00, 2.00, 2.00, 1.00, 8.00, 1.00, 4.00, 1.00, 6.00, 5.00, 4.00, 6.00, 1.00, 5.00, 3.00, 3.00, 3.00, 2.00, 11.00, 4.00, 1.00, 4.00, 1.00, 8.00, 1.00, 7.00, 1.00, 4.00, 2.00, 4.00, 3.00\n",
      "    Pred cost: 2.92, 2.83, 0.55, 0.28, 0.08, 4.17, -0.04, 2.76, -0.74, 4.07, 3.69, 2.78, 2.28, -0.48, 3.12, 2.47, 1.58, 2.08, 1.07, 4.98, 3.07, -1.26, 1.10, -1.09, 1.37, -1.51, 3.92, -0.86, 3.12, 1.07, 2.81, 2.00\n",
      "    True sol: 0, 0, 0, 0, 0, 1, 0, 0, 0, 1, 0, 0, 0, 0, 0, 0, 0, 0, 0, 1, 0, 0, 0, 0, 0, 0, 1, 0, 0, 0, 0, 0, True obj: 32.00\n",
      "    Pred sol: 0, 0, 0, 0, 0, 1, 0, 0, 0, 1, 0, 0, 0, 0, 0, 0, 0, 0, 0, 1, 0, 0, 0, 0, 0, 0, 1, 0, 0, 0, 0, 0, Pred obj: 32.00\n",
      "\n",
      "Sample 8:\n",
      "    True cost: 8.00, 2.00, 1.00, 2.00, 3.00, 6.00, 5.00, 1.00, 5.00, 2.00, 2.00, 8.00, 4.00, 3.00, 2.00, 5.00, 1.00, 3.00, 2.00, 2.00, 1.00, 7.00, 6.00, 3.00, 6.00, 3.00, 4.00, 2.00, 6.00, 2.00, 6.00, 2.00\n",
      "    Pred cost: 1.78, 0.78, -1.40, 0.29, 1.58, 3.46, 2.33, -1.73, 2.57, -0.69, -0.28, 2.04, 1.85, 0.98, -0.11, 1.37, -0.74, 0.33, -0.15, -0.27, -1.82, 3.27, -1.04, 1.20, 1.07, 0.73, 1.34, -0.09, 0.95, 0.08, 0.60, 0.45\n",
      "    True sol: 1, -0, -0, -0, -0, -0, -0, -0, -0, -0, -0, 1, -0, -0, -0, -0, -0, -0, -0, -0, -0, 1, -0, -0, -0, 0, 1, -0, -0, -0, -0, -0, True obj: 27.00\n",
      "    Pred sol: 0, 0, 0, 0, 0, 1, 1, 0, 0, 0, 0, 0, 0, 0, 0, 0, 0, 0, 0, 0, 0, 1, 0, 0, 0, 0, 1, 0, 0, 0, 0, 0, Pred obj: 22.00\n",
      "\n",
      "Sample 9:\n",
      "    True cost: 3.00, 2.00, 6.00, 5.00, 3.00, 3.00, 4.00, 4.00, 4.00, 3.00, 5.00, 3.00, 4.00, 3.00, 5.00, 5.00, 3.00, 3.00, 5.00, 4.00, 4.00, 3.00, 2.00, 6.00, 3.00, 6.00, 3.00, 4.00, 2.00, 5.00, 2.00, 4.00\n",
      "    Pred cost: 2.22, 1.37, 3.53, -0.17, 1.90, 1.90, 3.00, 2.28, 2.96, 2.07, 3.01, 1.60, 2.45, 2.26, 3.12, 2.64, 2.24, 2.04, 3.20, 2.33, 2.92, 1.97, 0.38, 3.73, 1.69, 3.75, 2.15, 2.18, 1.04, 3.30, 1.62, 2.45\n",
      "    True sol: -0, -0, 1, -0, -0, -0, -0, -0, -0, -0, -0, -0, -0, -0, 1, -0, -0, -0, -0, -0, -0, -0, -0, 1, -0, 1, -0, -0, -0, -0, -0, -0, True obj: 23.00\n",
      "    Pred sol: 0, 0, 1, 0, 0, 0, 0, 0, 0, 0, 0, 0, 0, 0, 1, 0, 0, 0, 0, 0, 0, 0, 0, 1, 0, 1, 0, 0, 0, 0, 0, 0, Pred obj: 23.00\n",
      "\n"
     ]
    }
   ],
   "source": [
    "reg.eval()\n",
    "# compare solutions\n",
    "for i, data in enumerate(ks_loader_test):\n",
    "    # load data\n",
    "    x, c, w, z = data\n",
    "    # cuda\n",
    "    if torch.cuda.is_available():\n",
    "        x, c, w, z = x.cuda(), c.cuda(), w.cuda(), z.cuda()\n",
    "    # predict\n",
    "    cp = reg(x)\n",
    "    # convert to numpy\n",
    "    x = x.to('cpu').detach().numpy()\n",
    "    c = c.to('cpu').detach().numpy()\n",
    "    w = w.to('cpu').detach().numpy()\n",
    "    z = z.to('cpu').detach().numpy()\n",
    "    cp = cp.to('cpu').detach().numpy()\n",
    "    for j in range(min(10, batch_size)):\n",
    "        print('Sample {}:'.format(j))\n",
    "        print('    True cost:', ', '.join(['{:.2f}'.format(-cost) for cost in c[j]]))\n",
    "        print('    Pred cost:', ', '.join(['{:.2f}'.format(-cost) for cost in cp[j]]))\n",
    "        # solve cost from prediction\n",
    "        ks_model.setObj(cp[j])\n",
    "        wpj, _ = ks_model.solve()\n",
    "        zpj = np.dot(c[j], wpj)\n",
    "        print('    True sol: ' + ', '.join(['{:.0f}'.format(x) for x in w[j]]) + ', True obj: {:.2f}'.format(-z[j,0]))\n",
    "        print('    Pred sol: '+  ', '.join(['{:.0f}'.format(x) for x in wpj]) + ', Pred obj: {:.2f}'.format(-zpj))\n",
    "        print()\n",
    "    break"
   ]
  },
  {
   "cell_type": "markdown",
   "id": "cd96fcde",
   "metadata": {},
   "source": [
    "## Black-Box"
   ]
  },
  {
   "cell_type": "code",
   "execution_count": 55,
   "id": "383005aa",
   "metadata": {},
   "outputs": [],
   "source": [
    "# init model\n",
    "reg = LinearRegression()\n",
    "# cuda\n",
    "if torch.cuda.is_available():\n",
    "    reg = reg.cuda()"
   ]
  },
  {
   "cell_type": "code",
   "execution_count": 56,
   "id": "2b534a38",
   "metadata": {},
   "outputs": [],
   "source": [
    "# set optimizer\n",
    "optimizer = torch.optim.Adam(reg.parameters(), lr=1e-2)"
   ]
  },
  {
   "cell_type": "code",
   "execution_count": 57,
   "id": "b257e4f1",
   "metadata": {},
   "outputs": [
    {
     "name": "stdout",
     "output_type": "stream",
     "text": [
      "Num of cores: 4\n"
     ]
    }
   ],
   "source": [
    "# set loss\n",
    "bb = pyepo.func.blackboxOpt(ks_model, lambd=20, processes=4)\n",
    "criterion = nn.L1Loss()"
   ]
  },
  {
   "cell_type": "code",
   "execution_count": 58,
   "id": "85ce9990",
   "metadata": {},
   "outputs": [
    {
     "name": "stdout",
     "output_type": "stream",
     "text": [
      "Epoch  10, Loss:   5.5000, True SPO Loss: 15.7500%, Unambiguous SPO Loss: 15.7500%\n",
      "Epoch  20, Loss:   0.0000, True SPO Loss:  5.6376%, Unambiguous SPO Loss:  5.6376%\n",
      "Epoch  30, Loss:   0.0000, True SPO Loss:  4.4537%, Unambiguous SPO Loss:  4.4537%\n",
      "Epoch  40, Loss:   0.0000, True SPO Loss:  4.2564%, Unambiguous SPO Loss:  4.2564%\n",
      "Epoch  50, Loss:   0.0000, True SPO Loss:  4.2176%, Unambiguous SPO Loss:  4.2176%\n",
      "Epoch  60, Loss:   0.0000, True SPO Loss:  3.8124%, Unambiguous SPO Loss:  3.8124%\n",
      "Epoch  70, Loss:   0.0000, True SPO Loss:  3.8970%, Unambiguous SPO Loss:  3.8970%\n",
      "Epoch  80, Loss:   0.0000, True SPO Loss:  3.9075%, Unambiguous SPO Loss:  3.9075%\n",
      "Epoch  90, Loss:   0.0000, True SPO Loss:  3.8336%, Unambiguous SPO Loss:  3.8336%\n",
      "Epoch 100, Loss:   0.0000, True SPO Loss:  3.9393%, Unambiguous SPO Loss:  3.9393%\n",
      "Epoch 110, Loss:   0.0000, True SPO Loss:  3.8371%, Unambiguous SPO Loss:  3.8371%\n",
      "Epoch 120, Loss:   0.0000, True SPO Loss:  3.8371%, Unambiguous SPO Loss:  3.8371%\n",
      "Epoch 130, Loss:   0.0000, True SPO Loss:  3.8371%, Unambiguous SPO Loss:  3.8371%\n",
      "Epoch 140, Loss:   0.0000, True SPO Loss:  3.8371%, Unambiguous SPO Loss:  3.8371%\n",
      "Epoch 150, Loss:   0.0000, True SPO Loss:  3.8371%, Unambiguous SPO Loss:  3.8371%\n",
      "Epoch 160, Loss:   0.0000, True SPO Loss:  3.8371%, Unambiguous SPO Loss:  3.8371%\n",
      "Epoch 170, Loss:   0.0000, True SPO Loss:  3.8371%, Unambiguous SPO Loss:  3.8371%\n",
      "Epoch 180, Loss:   0.0000, True SPO Loss:  3.8371%, Unambiguous SPO Loss:  3.8371%\n",
      "Epoch 190, Loss:   0.0000, True SPO Loss:  3.8371%, Unambiguous SPO Loss:  3.8371%\n",
      "Epoch 200, Loss:   0.0000, True SPO Loss:  3.8371%, Unambiguous SPO Loss:  3.8371%\n",
      "Epoch 210, Loss:   0.0000, True SPO Loss:  3.8371%, Unambiguous SPO Loss:  3.8371%\n",
      "Epoch 220, Loss:   0.0000, True SPO Loss:  3.8371%, Unambiguous SPO Loss:  3.8371%\n",
      "Epoch 230, Loss:   0.0000, True SPO Loss:  3.8371%, Unambiguous SPO Loss:  3.8371%\n",
      "Epoch 240, Loss:   0.0000, True SPO Loss:  3.8371%, Unambiguous SPO Loss:  3.8371%\n",
      "Epoch 250, Loss:   0.0000, True SPO Loss:  3.8371%, Unambiguous SPO Loss:  3.8371%\n",
      "Epoch 260, Loss:   0.0000, True SPO Loss:  3.8371%, Unambiguous SPO Loss:  3.8371%\n",
      "Epoch 270, Loss:   0.0000, True SPO Loss:  3.8371%, Unambiguous SPO Loss:  3.8371%\n",
      "Epoch 280, Loss:   0.0000, True SPO Loss:  3.8371%, Unambiguous SPO Loss:  3.8371%\n",
      "Epoch 290, Loss:   0.0000, True SPO Loss:  3.8371%, Unambiguous SPO Loss:  3.8371%\n",
      "Epoch 300, Loss:   0.0000, True SPO Loss:  3.8371%, Unambiguous SPO Loss:  3.8371%\n"
     ]
    }
   ],
   "source": [
    "# train model\n",
    "num_epochs = 300\n",
    "reg.train()\n",
    "loss_log = []\n",
    "loss_log_truespo = []\n",
    "loss_log_unambspo = []\n",
    "for epoch in range(num_epochs):\n",
    "    # load data\n",
    "    for i, data in enumerate(ks_loader_train):\n",
    "        x, c, w, z = data\n",
    "        # cuda\n",
    "        if torch.cuda.is_available():\n",
    "            x, c, w, z = x.cuda(), c.cuda(), w.cuda(), z.cuda()\n",
    "        # linear regression\n",
    "        cp = reg(x)\n",
    "        # black-box optimizer\n",
    "        wp = bb.apply(cp)\n",
    "        # objective value\n",
    "        zp = (wp * c).sum(1).view(-1, 1)\n",
    "        # loss\n",
    "        loss = criterion(zp, z)\n",
    "        # backward pass\n",
    "        optimizer.zero_grad()\n",
    "        loss.backward()\n",
    "        optimizer.step()\n",
    "    loss_log.append(loss.item())\n",
    "    if (epoch + 1) % 10 == 0:\n",
    "        # true SPO\n",
    "        trueloss = pyepo.eval.trueSPO(reg, ks_model, ks_loader_test)\n",
    "        loss_log_truespo.append(trueloss)\n",
    "        # unambiguous SPO \n",
    "        unambloss = pyepo.eval.unambSPO(reg, ks_model, ks_loader_test)\n",
    "        loss_log_unambspo.append(unambloss)\n",
    "        print('Epoch {:3}, Loss: {:8.4f}, True SPO Loss: {:7.4f}%, Unambiguous SPO Loss: {:7.4f}%'. \\\n",
    "              format(epoch+1, loss.item(), trueloss*100, unambloss*100))"
   ]
  },
  {
   "cell_type": "code",
   "execution_count": 59,
   "id": "9bb79450",
   "metadata": {},
   "outputs": [
    {
     "data": {
      "image/png": "[encoded data removed]",
      "text/plain": [
       "<Figure size 864x432 with 1 Axes>"
      ]
     },
     "metadata": {
      "needs_background": "light"
     },
     "output_type": "display_data"
    }
   ],
   "source": [
    "# draw plot\n",
    "plt.figure(figsize=(12, 6))\n",
    "plt.plot(loss_log, color='c')\n",
    "plt.xlabel('Epoch')\n",
    "plt.ylabel('SPO+ Loss')\n",
    "plt.title('Learning Curve')\n",
    "plt.show()"
   ]
  },
  {
   "cell_type": "code",
   "execution_count": 60,
   "id": "65e634d4",
   "metadata": {},
   "outputs": [
    {
     "data": {
      "image/png": "[encoded data removed]",
      "text/plain": [
       "<Figure size 864x432 with 1 Axes>"
      ]
     },
     "metadata": {
      "needs_background": "light"
     },
     "output_type": "display_data"
    }
   ],
   "source": [
    "# draw plot\n",
    "plt.figure(figsize=(12, 6))\n",
    "plt.plot(range(0, num_epochs, 10), loss_log_truespo, color='b', alpha=0.5, lw=2, label='Regret')\n",
    "plt.plot(range(0, num_epochs, 10), loss_log_unambspo, color='y', alpha=0.5, lw=2, label='Unambiguous Regret')\n",
    "plt.xlabel('Epoch')\n",
    "plt.ylabel('Loss')\n",
    "plt.title('Learning Curve')\n",
    "plt.legend()\n",
    "plt.show()"
   ]
  },
  {
   "cell_type": "code",
   "execution_count": 61,
   "id": "9f49711c",
   "metadata": {},
   "outputs": [
    {
     "name": "stdout",
     "output_type": "stream",
     "text": [
      "Normalized true SPO Loss: 3.84%\n",
      "Normalized unambiguous SPO Loss: 3.84%\n"
     ]
    }
   ],
   "source": [
    "# evaluate\n",
    "spoloss = pyepo.eval.trueSPO(reg, ks_model, ks_loader_test)\n",
    "print('Normalized true SPO Loss: {:.2f}%'.format(spoloss * 100))\n",
    "spoloss = pyepo.eval.unambSPO(reg, ks_model, ks_loader_test)\n",
    "print('Normalized unambiguous SPO Loss: {:.2f}%'.format(spoloss * 100))"
   ]
  },
  {
   "cell_type": "code",
   "execution_count": 62,
   "id": "4f8b44a1",
   "metadata": {
    "scrolled": false
   },
   "outputs": [
    {
     "name": "stdout",
     "output_type": "stream",
     "text": [
      "Sample 0:\n",
      "    True cost: 1.00, 4.00, 4.00, 1.00, 1.00, 1.00, 1.00, 3.00, 1.00, 4.00, 3.00, 1.00, 1.00, 1.00, 3.00, 1.00, 3.00, 3.00, 1.00, 3.00, 3.00, 1.00, 4.00, 1.00, 1.00, 1.00, 4.00, 3.00, 4.00, 1.00, 4.00, 4.00\n",
      "    Pred cost: -0.30, 0.37, 0.21, -0.20, -1.15, -1.06, 0.01, 0.37, -0.48, 1.28, 0.21, -0.25, -0.92, -0.60, 0.18, -0.41, 0.28, 0.32, -0.82, 0.61, 0.81, -0.22, 0.56, -0.01, -0.74, -0.92, 0.72, 0.06, 0.60, -1.28, 0.94, 0.35\n",
      "    True sol: 0, 1, 1, 0, 0, 0, 0, 0, 0, 1, 0, 0, 0, 0, 0, 0, 0, 0, 0, 0, 0, 0, 0, 0, 0, 0, 1, 0, 0, 0, 0, 0, True obj: 16.00\n",
      "    Pred sol: 0, 0, 0, 0, 0, 0, 0, 0, 0, 1, 0, 0, 0, 0, 0, 0, 0, 0, 0, 0, 1, 0, 0, 0, 0, 0, 1, 0, 1, 0, 0, 0, Pred obj: 15.00\n",
      "\n",
      "Sample 1:\n",
      "    True cost: 4.00, 2.00, 8.00, 2.00, 1.00, 2.00, 5.00, 3.00, 5.00, 3.00, 6.00, 4.00, 2.00, 1.00, 6.00, 4.00, 2.00, 3.00, 2.00, 2.00, 3.00, 3.00, 3.00, 6.00, 2.00, 6.00, 6.00, 4.00, 3.00, 2.00, 3.00, 7.00\n",
      "    Pred cost: 0.64, -0.08, 1.11, 0.08, -0.76, -1.39, 0.83, -0.36, 0.65, 0.13, 0.82, 0.26, -0.63, -0.71, 0.56, -0.06, -0.01, 0.20, -0.01, 0.33, 0.26, -0.02, -0.21, 0.35, -0.48, 0.53, 0.69, 0.47, -0.17, 0.04, 0.25, 0.88\n",
      "    True sol: 0, 0, 1, 0, 0, 0, 0, 0, 0, 0, 1, 0, 0, 0, 0, 0, 0, 0, 0, 0, 0, 0, 0, 0, 0, 0, 1, 0, 0, 0, 0, 1, True obj: 27.00\n",
      "    Pred sol: 0, 0, 1, 0, 0, 0, 0, 0, 0, 0, 1, 0, 0, 0, 0, 0, 0, 0, 0, 0, 0, 0, 0, 0, 0, 0, 1, 0, 0, 0, 0, 1, Pred obj: 27.00\n",
      "\n",
      "Sample 2:\n",
      "    True cost: 4.00, 4.00, 2.00, 6.00, 11.00, 5.00, 4.00, 3.00, 4.00, 2.00, 2.00, 4.00, 6.00, 11.00, 2.00, 4.00, 5.00, 3.00, 6.00, 2.00, 3.00, 7.00, 3.00, 5.00, 5.00, 5.00, 1.00, 3.00, 3.00, 6.00, 3.00, 2.00\n",
      "    Pred cost: -0.21, 0.10, -0.45, 0.40, 1.22, 0.99, -0.12, -0.02, 0.50, -1.06, -0.93, 0.02, 0.07, 0.81, -0.21, 0.15, 0.29, -0.02, 0.42, -0.89, -0.77, 0.57, -1.02, 0.13, 0.53, 0.34, -0.51, -0.45, -0.11, 0.33, -0.33, -0.27\n",
      "    True sol: -0, -0, -0, -0, 1, 1, -0, -0, -0, -0, -0, -0, -0, 1, -0, -0, -0, -0, -0, -0, -0, 1, -0, -0, -0, -0, -0, -0, -0, -0, -0, -0, True obj: 34.00\n",
      "    Pred sol: 0, 0, 0, 0, 1, 1, 0, 0, 0, 0, 0, 0, 0, 1, 0, 0, 0, 0, 0, 0, 0, 1, 0, 0, 0, 0, 0, 0, 0, 0, 0, 0, Pred obj: 34.00\n",
      "\n",
      "Sample 3:\n",
      "    True cost: 3.00, 4.00, 5.00, 4.00, 3.00, 4.00, 3.00, 6.00, 3.00, 5.00, 5.00, 3.00, 4.00, 3.00, 5.00, 3.00, 4.00, 3.00, 4.00, 5.00, 6.00, 2.00, 3.00, 3.00, 4.00, 3.00, 4.00, 3.00, 3.00, 4.00, 3.00, 4.00\n",
      "    Pred cost: 0.04, 0.10, 0.18, -0.08, -0.63, -0.05, 0.02, 0.20, 0.02, 0.48, 0.24, 0.10, -0.07, -0.16, 0.23, -0.22, 0.28, 0.04, 0.07, 0.59, 0.50, -0.26, -0.43, 0.35, -0.19, -0.07, 0.34, -0.44, -0.21, -0.21, 0.22, 0.26\n",
      "    True sol: -0, -0, 1, -0, -0, 0, -0, 1, -0, -0, -0, -0, -0, -0, 1, -0, -0, -0, -0, -0, 1, -0, -0, -0, -0, 0, 0, -0, -0, -0, -0, -0, True obj: 22.00\n",
      "    Pred sol: 0, 0, 0, 0, 0, 0, 0, 0, 0, 1, 0, 0, 0, 0, 1, 0, 0, 0, 0, 1, 0, 0, 0, 0, 0, 0, 1, 0, 0, 0, 0, 0, Pred obj: 19.00\n",
      "\n",
      "Sample 4:\n",
      "    True cost: 1.00, 1.00, 2.00, 2.00, 2.00, 1.00, 1.00, 3.00, 1.00, 1.00, 3.00, 1.00, 3.00, 2.00, 3.00, 2.00, 3.00, 3.00, 2.00, 4.00, 3.00, 1.00, 1.00, 1.00, 1.00, 1.00, 1.00, 2.00, 1.00, 2.00, 1.00, 1.00\n",
      "    Pred cost: -0.49, -0.47, 0.07, -0.13, -0.29, 0.12, -0.86, 0.32, -0.37, -0.60, 0.24, 0.13, 0.33, 0.41, 0.58, 0.36, 0.44, 0.51, 0.16, 0.35, 0.17, -0.57, -0.89, 0.41, -0.31, -0.06, -0.01, -0.26, -0.03, -0.33, 0.23, -0.43\n",
      "    True sol: 0, 0, 0, 0, 0, 0, 0, 1, 0, 0, 0, 0, 0, 0, 1, 0, 1, 0, 0, 0, 1, 0, 0, 0, 0, 0, 0, 0, 0, 0, 0, 0, True obj: 12.00\n",
      "    Pred sol: 0, 0, 0, 0, 0, 0, 0, 0, 0, 0, 0, 0, 0, 1, 1, 0, 1, 1, 0, 0, 0, 0, 0, 0, 0, 0, 0, 0, 0, 0, 0, 0, Pred obj: 11.00\n",
      "\n",
      "Sample 5:\n",
      "    True cost: 2.00, 1.00, 1.00, 1.00, 1.00, 1.00, 1.00, 1.00, 1.00, 1.00, 2.00, 2.00, 1.00, 1.00, 2.00, 2.00, 1.00, 3.00, 1.00, 1.00, 1.00, 2.00, 3.00, 1.00, 1.00, 1.00, 2.00, 2.00, 3.00, 1.00, 3.00, 1.00\n",
      "    Pred cost: 0.14, -0.13, 0.08, 0.36, -0.05, -0.59, 0.05, -0.22, 0.26, -0.61, 0.13, 0.25, -0.43, -0.15, 0.43, 0.46, -0.01, 0.56, -0.49, -0.45, -0.58, 0.26, 0.16, -0.18, -0.04, -0.16, 0.39, 0.29, 0.65, -0.69, 0.42, 0.17\n",
      "    True sol: 0, 0, 0, 0, 0, 0, 0, 0, 0, 0, 0, 0, 0, 0, 0, 0, 0, 1, 0, 0, 0, 1, 0, 0, 0, 0, 1, 0, 1, 0, 0, 0, True obj: 10.00\n",
      "    Pred sol: 0, 0, 0, 0, 0, 0, 0, 0, 0, 0, 0, 0, 0, 0, 0, 0, 0, 1, 0, 0, 0, 1, 0, 0, 0, 0, 1, 0, 1, 0, 0, 0, Pred obj: 10.00\n",
      "\n",
      "Sample 6:\n",
      "    True cost: 4.00, 1.00, 3.00, 1.00, 1.00, 2.00, 3.00, 1.00, 3.00, 1.00, 4.00, 4.00, 1.00, 1.00, 4.00, 4.00, 1.00, 3.00, 1.00, 1.00, 1.00, 3.00, 3.00, 3.00, 2.00, 3.00, 4.00, 3.00, 3.00, 1.00, 3.00, 3.00\n",
      "    Pred cost: 0.69, -0.13, 0.55, 0.39, -0.35, -0.97, 0.64, -0.49, 0.70, -0.44, 0.57, 0.45, -0.48, -0.55, 0.56, 0.37, -0.18, 0.41, -0.31, -0.23, -0.48, 0.28, 0.16, -0.04, -0.04, 0.27, 0.65, 0.41, 0.34, -0.31, 0.28, 0.66\n",
      "    True sol: 1, 0, 0, 0, 0, 0, 0, 0, 0, 0, 1, 0, 0, 0, 1, 0, 0, 0, 0, 0, 0, 0, 0, 0, 0, 0, 1, 0, 0, 0, 0, 0, True obj: 16.00\n",
      "    Pred sol: 1, 0, 0, 0, 0, 0, 0, 0, 1, 0, 1, 0, 0, 0, 0, 0, 0, 0, 0, 0, 0, 0, 0, 0, 0, 0, 1, 0, 0, 0, 0, 0, Pred obj: 15.00\n",
      "\n",
      "Sample 7:\n",
      "    True cost: 4.00, 4.00, 2.00, 2.00, 1.00, 8.00, 1.00, 4.00, 1.00, 6.00, 5.00, 4.00, 6.00, 1.00, 5.00, 3.00, 3.00, 3.00, 2.00, 11.00, 4.00, 1.00, 4.00, 1.00, 8.00, 1.00, 7.00, 1.00, 4.00, 2.00, 4.00, 3.00\n",
      "    Pred cost: 0.20, 0.13, -0.95, -0.02, -1.38, 1.18, -0.61, 0.49, -0.52, 1.00, 0.48, 0.59, 0.86, -0.28, 0.35, 0.06, 0.14, 0.16, -0.35, 1.21, 0.44, -0.64, 0.30, 0.01, 0.45, -1.00, 0.72, -1.53, 0.18, -1.01, 0.45, 0.00\n",
      "    True sol: 0, 0, 0, 0, 0, 1, 0, 0, 0, 1, 0, 0, 0, 0, 0, 0, 0, 0, 0, 1, 0, 0, 0, 0, 0, 0, 1, 0, 0, 0, 0, 0, True obj: 32.00\n",
      "    Pred sol: 0, 0, 0, 0, 0, 1, 0, 0, 0, 1, 0, 0, 0, 0, 0, 0, 0, 0, 0, 1, 0, 0, 0, 0, 0, 0, 1, 0, 0, 0, 0, 0, Pred obj: 32.00\n",
      "\n",
      "Sample 8:\n",
      "    True cost: 8.00, 2.00, 1.00, 2.00, 3.00, 6.00, 5.00, 1.00, 5.00, 2.00, 2.00, 8.00, 4.00, 3.00, 2.00, 5.00, 1.00, 3.00, 2.00, 2.00, 1.00, 7.00, 6.00, 3.00, 6.00, 3.00, 4.00, 2.00, 6.00, 2.00, 6.00, 2.00\n",
      "    Pred cost: 0.65, 0.23, -0.80, 0.80, 0.65, 0.85, 0.38, -0.41, 0.80, -0.78, -0.44, 0.58, 0.08, 0.07, -0.01, 0.49, -0.24, 0.15, -0.28, -0.93, -1.33, 0.84, 0.24, -0.44, 1.03, -0.09, 0.22, -0.53, 0.55, -0.32, -0.05, 0.24\n",
      "    True sol: 1, -0, -0, -0, -0, -0, -0, -0, -0, -0, -0, 1, -0, -0, -0, -0, -0, -0, -0, -0, -0, 1, -0, -0, -0, 0, 1, -0, -0, -0, -0, -0, True obj: 27.00\n",
      "    Pred sol: 0, 0, 0, 0, 0, 1, 0, 0, 0, 0, 0, 0, 0, 0, 0, 0, 0, 0, 0, 0, 0, 1, 0, 0, 1, 0, 0, 0, 0, 0, 0, 0, Pred obj: 19.00\n",
      "\n",
      "Sample 9:\n",
      "    True cost: 3.00, 2.00, 6.00, 5.00, 3.00, 3.00, 4.00, 4.00, 4.00, 3.00, 5.00, 3.00, 4.00, 3.00, 5.00, 5.00, 3.00, 3.00, 5.00, 4.00, 4.00, 3.00, 2.00, 6.00, 3.00, 6.00, 3.00, 4.00, 2.00, 5.00, 2.00, 4.00\n",
      "    Pred cost: 0.21, -0.16, 0.65, 0.02, -0.23, -0.40, 0.26, -0.10, 0.44, -0.26, 0.35, 0.18, -0.12, -0.05, 0.38, -0.02, 0.22, 0.10, 0.39, 0.24, 0.19, -0.13, -0.86, 0.51, -0.24, 0.57, 0.18, -0.01, -0.43, 0.32, -0.03, 0.34\n",
      "    True sol: -0, -0, 1, -0, -0, -0, -0, -0, -0, -0, -0, -0, -0, -0, 1, -0, -0, -0, -0, -0, -0, -0, -0, 1, -0, 1, -0, -0, -0, -0, -0, -0, True obj: 23.00\n",
      "    Pred sol: 0, 0, 1, 0, 0, 0, 0, 0, 0, 0, 0, 0, 0, 0, 1, 0, 0, 0, 0, 0, 0, 0, 0, 1, 0, 1, 0, 0, 0, 0, 0, 0, Pred obj: 23.00\n",
      "\n"
     ]
    }
   ],
   "source": [
    "reg.eval()\n",
    "# compare solutions\n",
    "for i, data in enumerate(ks_loader_test):\n",
    "    # load data\n",
    "    x, c, w, z = data\n",
    "    # cuda\n",
    "    if torch.cuda.is_available():\n",
    "        x, c, w, z = x.cuda(), c.cuda(), w.cuda(), z.cuda()\n",
    "    # predict\n",
    "    cp = reg(x)\n",
    "    # convert to numpy\n",
    "    x = x.to('cpu').detach().numpy()\n",
    "    c = c.to('cpu').detach().numpy()\n",
    "    w = w.to('cpu').detach().numpy()\n",
    "    z = z.to('cpu').detach().numpy()\n",
    "    cp = cp.to('cpu').detach().numpy()\n",
    "    for j in range(min(10, batch_size)):\n",
    "        print('Sample {}:'.format(j))\n",
    "        print('    True cost:', ', '.join(['{:.2f}'.format(-cost) for cost in c[j]]))\n",
    "        print('    Pred cost:', ', '.join(['{:.2f}'.format(-cost) for cost in cp[j]]))\n",
    "        # solve cost from prediction\n",
    "        ks_model.setObj(cp[j])\n",
    "        wpj, _ = ks_model.solve()\n",
    "        zpj = np.dot(c[j], wpj)\n",
    "        print('    True sol: ' + ', '.join(['{:.0f}'.format(x) for x in w[j]]) + ', True obj: {:.2f}'.format(-z[j,0]))\n",
    "        print('    Pred sol: '+  ', '.join(['{:.0f}'.format(x) for x in wpj]) + ', Pred obj: {:.2f}'.format(-zpj))\n",
    "        print()\n",
    "    break"
   ]
  },
  {
   "cell_type": "code",
   "execution_count": null,
   "id": "4a1a2b7c",
   "metadata": {},
   "outputs": [],
   "source": []
  }
 ],
 "metadata": {
  "kernelspec": {
   "display_name": "Python 3",
   "language": "python",
   "name": "python3"
  },
  "language_info": {
   "codemirror_mode": {
    "name": "ipython",
    "version": 3
   },
   "file_extension": ".py",
   "mimetype": "text/x-python",
   "name": "python",
   "nbconvert_exporter": "python",
   "pygments_lexer": "ipython3",
   "version": "3.8.8"
  }
 },
 "nbformat": 4,
 "nbformat_minor": 5
}
