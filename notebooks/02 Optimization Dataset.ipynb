{
 "cells": [
  {
   "cell_type": "markdown",
   "id": "ab6644b5",
   "metadata": {},
   "source": [
    "# Optimization Dataset"
   ]
  },
  {
   "cell_type": "code",
   "execution_count": 1,
   "id": "2d749094",
   "metadata": {},
   "outputs": [],
   "source": [
    "# set work dir if PyEPO is not installed\n",
    "import os\n",
    "os.chdir(\"../pkg\")"
   ]
  },
  {
   "cell_type": "markdown",
   "id": "5a5b458f",
   "metadata": {},
   "source": [
    "PyEPO ontains synthetic data generator and a dataset class ``optDataset`` to wrap data samples."
   ]
  },
  {
   "cell_type": "markdown",
   "id": "984e785f",
   "metadata": {},
   "source": [
    "## 1 Data Generator "
   ]
  },
  {
   "cell_type": "markdown",
   "id": "2854fb98",
   "metadata": {},
   "source": [
    "``pyepo.data`` includes synthetic datasets for three of the most classic optimization problems: the shortest path problem, the multi-dimensional knapsack problem, and the traveling salesman problem.\n",
    "\n",
    "The synthetic datasets include features $\\mathbf{x}$ and cost coefficients $\\mathbf{c}$. The feature vector $\\mathbf{x}_i \\in \\mathbb{R}^p$ follows a standard multivariate Gaussian distribution $\\mathcal{N}(0, \\mathbf{I})$, and the corresponding cost $\\mathbf{c}_i \\in \\mathbb{R}^d$ comes from a polynomial function $f(\\mathbf{x}_i)$ multiplicated with a random noise $\\mathbf{\\epsilon}_i \\sim  U(1-\\bar{\\epsilon}, 1+\\bar{\\epsilon})$. The details of $f(\\mathbf{x}_i)$ can be seen [here](https://khalil-research.github.io/PyEPO/build/html/content/examples/data.html).\n",
    "\n",
    "In general, there are several parameters that users can control:\n",
    "- num_data ($n$): data size\n",
    "- num_features ($p$): feature dimension of costs $\\mathbf{c}$\n",
    "- deg ($deg$): polynomial degree of function $f(\\mathbf{x}_i)$ \n",
    "- noise_width ($\\bar{\\epsilon}$):  noise half-width of $\\mathbf{\\epsilon}$\n",
    "- seed: random state seed to generate data"
   ]
  },
  {
   "cell_type": "markdown",
   "id": "024b106f",
   "metadata": {},
   "source": [
    "### 1.1 Shortest Path "
   ]
  },
  {
   "cell_type": "markdown",
   "id": "b092b34f",
   "metadata": {},
   "source": [
    "$c_i^j = [\\frac{1}{{3.5}^{deg}} (\\frac{1}{\\sqrt{p}}(\\mathcal{B} x_i)_j + 3)^{deg} + 1] \\cdot \\epsilon_i^j$, where $\\mathcal{B}$ is a random matrix."
   ]
  },
  {
   "cell_type": "markdown",
   "id": "8cca4af8",
   "metadata": {},
   "source": [
    "The following code is to generate data for the shortest path on the **5x5** grid network:"
   ]
  },
  {
   "cell_type": "code",
   "execution_count": 2,
   "id": "290abaa0",
   "metadata": {},
   "outputs": [
    {
     "name": "stdout",
     "output_type": "stream",
     "text": [
      "Auto-Sklearn cannot be imported.\n"
     ]
    }
   ],
   "source": [
    "import pyepo\n",
    "grid = (5,5) # grid size\n",
    "n = 1000 # number of data\n",
    "p = 5 # feature dimention\n",
    "deg = 4 # polynomial degree\n",
    "e = 0.5 # noise half-width"
   ]
  },
  {
   "cell_type": "code",
   "execution_count": 3,
   "id": "66e6ce0e",
   "metadata": {},
   "outputs": [],
   "source": [
    "# generate data for grid network (features and costs)\n",
    "feats, costs = pyepo.data.shortestpath.genData(num_data=n+1000, num_features=p, grid=grid,\n",
    "                                               deg=deg, noise_width=e, seed=42)"
   ]
  },
  {
   "cell_type": "code",
   "execution_count": 4,
   "id": "7d97bc44",
   "metadata": {},
   "outputs": [
    {
     "name": "stdout",
     "output_type": "stream",
     "text": [
      "Features:\n",
      "[-0.68002472  0.2322537   0.29307247 -0.71435142  1.86577451]\n",
      "Costs:\n",
      "[0.35391761 1.07858994 1.01396442 0.66493631 0.29919599 0.19120229\n",
      " 0.92962621 0.24648609 0.33950669 0.19379419 0.78927149 0.52358102\n",
      " 0.66013164 1.0846318  0.73023344 0.53221019 0.34958448 0.33129203\n",
      " 1.4367641  0.72844442 1.39402493 0.89432676 1.03169003 0.46667478\n",
      " 0.60684515 1.7148205  1.62555298 2.13901473 0.375338   0.51937908\n",
      " 1.30751427 2.39109315 0.51398154 1.02980917 0.73931099 0.23779171\n",
      " 0.35521389 0.25666491 0.70956306 1.69988172]\n"
     ]
    }
   ],
   "source": [
    "# features\n",
    "print(\"Features:\")\n",
    "print(feats[0])\n",
    "# costs\n",
    "print(\"Costs:\")\n",
    "print(costs[0])"
   ]
  },
  {
   "cell_type": "markdown",
   "id": "e0f6ef18",
   "metadata": {},
   "source": [
    "### 1.2 Knapsack "
   ]
  },
  {
   "cell_type": "markdown",
   "id": "36e24332",
   "metadata": {},
   "source": [
    "Because we assume that the uncertain coefficients exist only on the objective function, the weights of items are fixed throughout the data. We define the number of items as $m$ and the dimension of resources is $k$."
   ]
  },
  {
   "cell_type": "markdown",
   "id": "a9f1ff38",
   "metadata": {},
   "source": [
    "$c_i^j = \\lceil [\\frac{5}{{3.5}^{deg}} (\\frac{1}{\\sqrt{p}}(\\mathcal{B} x_i)_j + 3)^{deg} + 1] \\cdot \\epsilon_i^j \\rceil$, where $\\mathcal{B}$ is a random matrix."
   ]
  },
  {
   "cell_type": "code",
   "execution_count": 5,
   "id": "842cb2ca",
   "metadata": {},
   "outputs": [],
   "source": [
    "import pyepo\n",
    "m = 32 # number of items\n",
    "k = 2 # resource dimension\n",
    "n = 1000 # number of data\n",
    "p = 5 # feature dimention\n",
    "deg = 4 # polynomial degree\n",
    "e = 0.5 # noise half-width"
   ]
  },
  {
   "cell_type": "code",
   "execution_count": 6,
   "id": "14ec65d8",
   "metadata": {},
   "outputs": [],
   "source": [
    "# generate data for 2D kansack (weights, features and costs)\n",
    "weights, feats, costs = pyepo.data.knapsack.genData(num_data=n+1000, num_features=p, num_items=m, \n",
    "                                                    dim=k, deg=deg, noise_width=e, seed=42)"
   ]
  },
  {
   "cell_type": "code",
   "execution_count": 7,
   "id": "f313e070",
   "metadata": {},
   "outputs": [
    {
     "name": "stdout",
     "output_type": "stream",
     "text": [
      "Weights:\n",
      "[[4.02 7.35 6.48 5.7  4.06 3.71 4.88 3.2  4.02 4.21 7.66 5.14 6.3  7.58\n",
      "  3.87 6.72 3.99 6.59 4.51 4.3  4.49 6.08 5.57 6.43 7.91 7.13 5.93 6.85\n",
      "  4.91 7.43 5.76 4.6 ]\n",
      " [7.59 6.13 3.21 5.52 5.35 6.44 3.48 7.74 3.58 4.69 7.75 4.87 7.63 5.7\n",
      "  4.89 7.45 4.74 7.45 3.5  6.63 3.54 5.43 6.19 4.3  7.84 6.06 4.34 3.2\n",
      "  6.28 4.66 5.73 6.87]]\n",
      "Features:\n",
      "[-0.60139725 -0.84661436  0.81615272  0.47170729 -0.2854893 ]\n",
      "Costs:\n",
      "[2. 5. 6. 4. 1. 2. 1. 4. 2. 2. 5. 5. 5. 5. 3. 2. 4. 2. 2. 2. 4. 2. 2. 4.\n",
      " 3. 2. 1. 3. 4. 2. 3. 5.]\n"
     ]
    }
   ],
   "source": [
    "# features\n",
    "print(\"Weights:\")\n",
    "print(weights)\n",
    "print(\"Features:\")\n",
    "print(feats[0])\n",
    "# costs\n",
    "print(\"Costs:\")\n",
    "print(costs[0])"
   ]
  },
  {
   "cell_type": "markdown",
   "id": "ffb3bc3a",
   "metadata": {},
   "source": [
    "### 1.3 Traveling Salesperson"
   ]
  },
  {
   "cell_type": "markdown",
   "id": "b9198749",
   "metadata": {},
   "source": [
    "For Traveling Salesperson (TSP),  number of nodes $m$ is the addtional parameter to generate data."
   ]
  },
  {
   "cell_type": "markdown",
   "id": "1b29231b",
   "metadata": {},
   "source": [
    "The distance consists of two parts: one comes from Euclidean distance, the other derived from feature encoding. For Euclidean distance, we generate random coordinates. For feature encoding, it is $\\frac{1}{{3}^{deg - 1} \\sqrt{p}} ((\\mathcal{B} x_i)_j + 3)^{deg} \\cdot \\epsilon_i^j$, where $\\mathcal{B}$ is a random matrix."
   ]
  },
  {
   "cell_type": "code",
   "execution_count": 8,
   "id": "df7d780e",
   "metadata": {},
   "outputs": [],
   "source": [
    "import pyepo\n",
    "m = 20 # number of items\n",
    "n = 1000 # number of data\n",
    "p = 5 # feature dimention\n",
    "deg = 4 # polynomial degree\n",
    "e = 0.5 # noise half-width"
   ]
  },
  {
   "cell_type": "code",
   "execution_count": 9,
   "id": "00c8a584",
   "metadata": {},
   "outputs": [],
   "source": [
    "feats, costs = pyepo.data.tsp.genData(num_data=n+1000, num_features=p, num_nodes=m, \n",
    "                              deg=deg, noise_width=e, seed=42)"
   ]
  },
  {
   "cell_type": "code",
   "execution_count": 10,
   "id": "c7147d1f",
   "metadata": {},
   "outputs": [
    {
     "name": "stdout",
     "output_type": "stream",
     "text": [
      "Features:\n",
      "[-1.14168911 -0.19365946 -0.71682232 -1.86653662 -0.08268069]\n",
      "Costs:\n",
      "[ 3.7469  3.5177  3.5663  3.2863 20.8808  3.5013  4.6786  3.663   9.4076\n",
      "  1.6293  8.884   2.8502  5.8908  4.8622 18.5146  5.7186  0.5103  3.1516\n",
      "  8.1697  6.4878 10.9322  0.766  12.8021  7.2463 16.3108  3.0362 11.5717\n",
      "  9.5445  3.901   4.9748  2.0201  2.4792  5.3137 26.4226 19.2363  2.3725\n",
      "  1.9566  6.9787  6.7527  6.1478  9.8816  4.8733  4.8745  2.1084  6.8356\n",
      "  7.9441  6.6348  3.2901 10.0526  4.4324  3.8492  6.6119  8.6355 22.0806\n",
      "  5.5779  1.3496  8.7577  5.0559  6.8631  6.8527  3.5512  3.4764  4.0971\n",
      "  4.0949  4.0859  7.7309  7.4587  1.2292 34.8099  4.9677 17.7628  3.1806\n",
      "  6.3381  3.5345 18.8379  6.9102  6.5611  3.818   4.2513 16.7784  4.5815\n",
      "  5.3674  3.3281 13.4974  2.304   4.8323  3.4517  7.0979  5.5551 10.3592\n",
      "  3.6593 15.9906  5.1407  4.9056  2.8864  5.8821  4.7064 16.2864  8.4832\n",
      "  6.8939  3.0092  6.5853  3.5005  6.8579  4.3257  2.9691  5.9071  4.8555\n",
      "  4.6766  4.2926  3.0147  4.5696  1.5417  2.2904  5.9068 13.253   7.2816\n",
      "  3.7608  2.6785  5.1225 12.4957  6.5661  3.4804  4.7496  5.1713  4.0051\n",
      " 10.6108  2.366   3.8686  2.858   2.1941  2.9987  5.616   4.2036  2.8274\n",
      "  1.7951  3.1929  1.9771  3.7794  7.1023  2.589   5.9645  3.5209  3.5754\n",
      " 23.3991  3.6     3.2637  4.7308  3.0393  3.0881 32.1364  6.1012  2.3523\n",
      " 10.6854  3.7003  1.3595  7.6433  5.9098  5.0089  4.3011 40.8034  4.4646\n",
      "  5.603   3.6141  6.6556  5.9318 13.4098  2.204  11.5992  1.972   5.4251\n",
      "  3.4477  4.9676  0.5672  4.2034  2.9343  4.3879  2.1213  1.4663  8.2608\n",
      "  1.6514 23.8687  5.0414  3.1683  3.1189 12.3226 19.7905  4.2913 35.3521\n",
      "  2.9655]\n"
     ]
    }
   ],
   "source": [
    "# features\n",
    "print(\"Features:\")\n",
    "print(feats[0])\n",
    "# costs\n",
    "print(\"Costs:\")\n",
    "print(costs[0])"
   ]
  },
  {
   "cell_type": "markdown",
   "id": "f5afce73",
   "metadata": {},
   "source": [
    "## 2 Introduction to optDataset"
   ]
  },
  {
   "cell_type": "markdown",
   "id": "235f9917",
   "metadata": {},
   "source": [
    "``optDataset`` is PyTorch Dataset, which stores the features and their corresponding costs of the objective function, and **solves optimization problems to get optimal solutions and optimal objective values**.\n",
    "\n",
    "``optDataset`` is **not** necessary for training with PyEPO, but it can be easier to obtain optimal solutions and objective values when they are not available in the original data.\n",
    "\n",
    "As the following example, ``optDataset`` and Pytorch ``DataLoader`` wrap the data samples, which can make the model training cleaner and more organized."
   ]
  },
  {
   "cell_type": "markdown",
   "id": "e230b1d5",
   "metadata": {},
   "source": [
    "### 2.1 Generate Data "
   ]
  },
  {
   "cell_type": "markdown",
   "id": "bd76ff56",
   "metadata": {},
   "source": [
    "We generate data for the shortest path on the 5x5 grid network first."
   ]
  },
  {
   "cell_type": "code",
   "execution_count": 11,
   "id": "72fb4725",
   "metadata": {},
   "outputs": [],
   "source": [
    "# grid size\n",
    "grid = (5,5)"
   ]
  },
  {
   "cell_type": "code",
   "execution_count": 12,
   "id": "2170685a",
   "metadata": {},
   "outputs": [],
   "source": [
    "# generate data\n",
    "num_data = 1000 # number of data\n",
    "num_feat = 5 # size of feature\n",
    "deg = 4 # polynomial degree\n",
    "e = 0.5 # noise width\n",
    "feats, costs = pyepo.data.shortestpath.genData(num_data+1000, num_feat, grid, deg, e, seed=42)"
   ]
  },
  {
   "cell_type": "markdown",
   "id": "5254d182",
   "metadata": {},
   "source": [
    "### 2.2 Build OptModel"
   ]
  },
  {
   "cell_type": "markdown",
   "id": "7cdea678",
   "metadata": {},
   "source": [
    "In order to obtain optimal solutions, ``optDataset`` requires the corresponding ``optModel`` is a module of PyEPO library, which is designed as a container for any \"black box\" solver. The tutorial on ``optModel`` is [here](https://github.com/khalil-research/PyEPO/blob/main/notebooks/01%20Optimization%20Model.ipynb).\n",
    "\n",
    "Here we load the pre-defined [``pyepo.model.grb.shortestPathModel``](https://khalil-research.github.io/PyEPO/build/html/content/examples/model.html#pre-defined-models), which uses Gurobi to build a linear program."
   ]
  },
  {
   "cell_type": "code",
   "execution_count": null,
   "id": "21407b97",
   "metadata": {},
   "outputs": [
    {
     "name": "stdout",
     "output_type": "stream",
     "text": [
      "Set parameter Username\n",
      "Academic license - for non-commercial use only - expires 2023-07-09\n"
     ]
    }
   ],
   "source": [
    "from pyepo.model.grb import shortestPathModel\n",
    "# init model\n",
    "optmodel = shortestPathModel(grid) "
   ]
  },
  {
   "cell_type": "markdown",
   "id": "aeabdd39",
   "metadata": {},
   "source": [
    "### 2.3 Train-Test Split "
   ]
  },
  {
   "cell_type": "markdown",
   "id": "620ef265",
   "metadata": {},
   "source": [
    "Split features and costs into random train and test subsets, where the test size is 1000."
   ]
  },
  {
   "cell_type": "code",
   "execution_count": null,
   "id": "2ad73759",
   "metadata": {},
   "outputs": [],
   "source": [
    "# split train test data\n",
    "from sklearn.model_selection import train_test_split\n",
    "x_train, x_test, c_train, c_test = train_test_split(feats, costs, test_size=1000, random_state=42)"
   ]
  },
  {
   "cell_type": "markdown",
   "id": "06fd1e32",
   "metadata": {},
   "source": [
    "### 2.4 Wrap Features and Costs with optDataset"
   ]
  },
  {
   "cell_type": "markdown",
   "id": "fe4aa182",
   "metadata": {},
   "source": [
    "``optDataset`` accepts features features $\\mathbf{x}$ and cost coefficients $\\mathbf{c}$, then ultilizes ``optModel`` to find optimal solutions $\\mathbf{w}^*$ and objective values $\\mathbf{z}^*$."
   ]
  },
  {
   "cell_type": "code",
   "execution_count": null,
   "id": "cd8b812e",
   "metadata": {},
   "outputs": [],
   "source": [
    "# get optDataset\n",
    "dataset_train = pyepo.data.dataset.optDataset(optmodel, x_train, c_train)\n",
    "dataset_test = pyepo.data.dataset.optDataset(optmodel, x_test, c_test)"
   ]
  },
  {
   "cell_type": "markdown",
   "id": "364f977f",
   "metadata": {},
   "source": [
    "It takes time for solving optimization problem per instance."
   ]
  },
  {
   "cell_type": "markdown",
   "id": "caa2c811",
   "metadata": {},
   "source": [
    "### 2.5 Set PyTorch DataLoader"
   ]
  },
  {
   "cell_type": "markdown",
   "id": "ef38ab83",
   "metadata": {},
   "source": [
    "PyTorch ``DataLoader`` combines a dataset and a sampler, and provides an iterable over the given dataset. "
   ]
  },
  {
   "cell_type": "code",
   "execution_count": null,
   "id": "85180e8f",
   "metadata": {},
   "outputs": [],
   "source": [
    "from torch.utils.data import DataLoader\n",
    "batch_size = 32\n",
    "loader_train = DataLoader(dataset_train, batch_size=batch_size, shuffle=True)\n",
    "loader_test = DataLoader(dataset_test, batch_size=batch_size, shuffle=False)"
   ]
  },
  {
   "cell_type": "code",
   "execution_count": null,
   "id": "fc82093c",
   "metadata": {},
   "outputs": [],
   "source": []
  }
 ],
 "metadata": {
  "kernelspec": {
   "display_name": "Python 3 (ipykernel)",
   "language": "python",
   "name": "python3"
  },
  "language_info": {
   "codemirror_mode": {
    "name": "ipython",
    "version": 3
   },
   "file_extension": ".py",
   "mimetype": "text/x-python",
   "name": "python",
   "nbconvert_exporter": "python",
   "pygments_lexer": "ipython3",
   "version": "3.9.13"
  }
 },
 "nbformat": 4,
 "nbformat_minor": 5
}
