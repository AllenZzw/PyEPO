{
 "cells": [
  {
   "cell_type": "code",
   "execution_count": 1,
   "id": "4d0ee412",
   "metadata": {},
   "outputs": [],
   "source": [
    "# set work dir\n",
    "import os\n",
    "os.chdir(\"../\")"
   ]
  },
  {
   "cell_type": "code",
   "execution_count": 2,
   "id": "accredited-pearl",
   "metadata": {},
   "outputs": [
    {
     "name": "stdout",
     "output_type": "stream",
     "text": [
      "Auto-Sklearn cannot be imported.\n"
     ]
    },
    {
     "data": {
      "text/plain": [
       "<torch._C.Generator at 0x1c5476a7af0>"
      ]
     },
     "execution_count": 2,
     "metadata": {},
     "output_type": "execute_result"
    }
   ],
   "source": [
    "import time\n",
    "import pyepo\n",
    "import torch\n",
    "from matplotlib import pyplot as plt\n",
    "plt.style.reload_library()\n",
    "plt.style.use('science')\n",
    "import numpy as np\n",
    "from tqdm import tqdm\n",
    "torch.manual_seed(135)"
   ]
  },
  {
   "cell_type": "markdown",
   "id": "88a6984c",
   "metadata": {},
   "source": [
    "## Init Data "
   ]
  },
  {
   "cell_type": "code",
   "execution_count": 3,
   "id": "2e78a07d",
   "metadata": {},
   "outputs": [],
   "source": [
    "# generate data for grid network (features and costs)\n",
    "grid = (5,5) # grid graph\n",
    "n = 1000 # number of data\n",
    "p = 5 # size of feature\n",
    "deg = 4 # polynomial degree\n",
    "x, c = pyepo.data.shortestpath.genData(n+1000, p, grid, deg=deg)"
   ]
  },
  {
   "cell_type": "markdown",
   "id": "naval-blade",
   "metadata": {},
   "source": [
    "## Optimization Model "
   ]
  },
  {
   "cell_type": "code",
   "execution_count": 4,
   "id": "declared-brunswick",
   "metadata": {},
   "outputs": [
    {
     "name": "stdout",
     "output_type": "stream",
     "text": [
      "Set parameter Username\n",
      "Academic license - for non-commercial use only - expires 2022-03-06\n"
     ]
    }
   ],
   "source": [
    "# model for shortest path\n",
    "sp_model = pyepo.model.grb.shortestPathModel(grid)"
   ]
  },
  {
   "cell_type": "code",
   "execution_count": 5,
   "id": "precious-employee",
   "metadata": {},
   "outputs": [
    {
     "name": "stdout",
     "output_type": "stream",
     "text": [
      "Obj: 8.0\n",
      "(0, 1)\n",
      "(1, 2)\n",
      "(2, 3)\n",
      "(3, 4)\n",
      "(4, 9)\n",
      "(9, 14)\n",
      "(14, 19)\n",
      "(19, 24)\n"
     ]
    }
   ],
   "source": [
    "# solve\n",
    "sp_model.setObj([1 for i in range(40)])\n",
    "sol, obj = sp_model.solve()\n",
    "print('Obj: {}'.format(obj))\n",
    "for i, e in enumerate(sp_model.arcs):\n",
    "    if sol[i] > 1e-3:\n",
    "        print(e)"
   ]
  },
  {
   "cell_type": "markdown",
   "id": "directed-consultancy",
   "metadata": {},
   "source": [
    "## Data Loader"
   ]
  },
  {
   "cell_type": "code",
   "execution_count": 6,
   "id": "little-diversity",
   "metadata": {},
   "outputs": [],
   "source": [
    "from sklearn.model_selection import train_test_split\n",
    "from torch.utils.data import DataLoader"
   ]
  },
  {
   "cell_type": "code",
   "execution_count": 7,
   "id": "regulated-freeware",
   "metadata": {},
   "outputs": [],
   "source": [
    "# data split\n",
    "x_train, x_test, c_train, c_test = train_test_split(x, c, test_size=1000, random_state=246)"
   ]
  },
  {
   "cell_type": "code",
   "execution_count": 8,
   "id": "human-praise",
   "metadata": {},
   "outputs": [
    {
     "name": "stdout",
     "output_type": "stream",
     "text": [
      "Optimizing for optDataset...\n"
     ]
    },
    {
     "name": "stderr",
     "output_type": "stream",
     "text": [
      "100%|█████████████████████████████████████████████████████████████████████████████████████████████| 1000/1000 [00:00<00:00, 1085.54it/s]\n"
     ]
    }
   ],
   "source": [
    "# get training data set\n",
    "sp_dataset_train = pyepo.data.dataset.optDataset(sp_model, x_train, c_train)"
   ]
  },
  {
   "cell_type": "code",
   "execution_count": 9,
   "id": "immune-interpretation",
   "metadata": {},
   "outputs": [
    {
     "name": "stdout",
     "output_type": "stream",
     "text": [
      "Optimizing for optDataset...\n"
     ]
    },
    {
     "name": "stderr",
     "output_type": "stream",
     "text": [
      "100%|█████████████████████████████████████████████████████████████████████████████████████████████| 1000/1000 [00:00<00:00, 1080.85it/s]\n"
     ]
    }
   ],
   "source": [
    "# get test data set\n",
    "sp_dataset_test = pyepo.data.dataset.optDataset(sp_model, x_test, c_test)"
   ]
  },
  {
   "cell_type": "code",
   "execution_count": 10,
   "id": "incident-kinase",
   "metadata": {},
   "outputs": [],
   "source": [
    "# get data loader\n",
    "batch_size = 32\n",
    "sp_loader_train = DataLoader(sp_dataset_train, batch_size=batch_size, shuffle=True)\n",
    "sp_loader_test = DataLoader(sp_dataset_test, batch_size=batch_size, shuffle=False)"
   ]
  },
  {
   "cell_type": "code",
   "execution_count": 11,
   "id": "intellectual-softball",
   "metadata": {},
   "outputs": [],
   "source": [
    "for i, data in enumerate(sp_loader_train):\n",
    "    x, c, w, z = data\n",
    "    break"
   ]
  },
  {
   "cell_type": "code",
   "execution_count": 12,
   "id": "instant-polymer",
   "metadata": {},
   "outputs": [
    {
     "data": {
      "text/plain": [
       "torch.Size([32, 5])"
      ]
     },
     "execution_count": 12,
     "metadata": {},
     "output_type": "execute_result"
    }
   ],
   "source": [
    "x.shape"
   ]
  },
  {
   "cell_type": "code",
   "execution_count": 13,
   "id": "known-framing",
   "metadata": {},
   "outputs": [
    {
     "data": {
      "text/plain": [
       "torch.Size([32, 40])"
      ]
     },
     "execution_count": 13,
     "metadata": {},
     "output_type": "execute_result"
    }
   ],
   "source": [
    "c.shape"
   ]
  },
  {
   "cell_type": "code",
   "execution_count": 14,
   "id": "partial-algeria",
   "metadata": {},
   "outputs": [
    {
     "data": {
      "text/plain": [
       "torch.Size([32, 40])"
      ]
     },
     "execution_count": 14,
     "metadata": {},
     "output_type": "execute_result"
    }
   ],
   "source": [
    "w.shape"
   ]
  },
  {
   "cell_type": "code",
   "execution_count": 15,
   "id": "known-contemporary",
   "metadata": {},
   "outputs": [
    {
     "data": {
      "text/plain": [
       "torch.Size([32, 1])"
      ]
     },
     "execution_count": 15,
     "metadata": {},
     "output_type": "execute_result"
    }
   ],
   "source": [
    "z.shape"
   ]
  },
  {
   "cell_type": "markdown",
   "id": "b44869b8",
   "metadata": {},
   "source": [
    "## Linear Regression from Scikit-Learn "
   ]
  },
  {
   "cell_type": "code",
   "execution_count": 16,
   "id": "68f528a7",
   "metadata": {},
   "outputs": [],
   "source": [
    "from sklearn.linear_model import LinearRegression"
   ]
  },
  {
   "cell_type": "code",
   "execution_count": 17,
   "id": "82f8168a",
   "metadata": {},
   "outputs": [],
   "source": [
    "# prediction model\n",
    "reg = LinearRegression()"
   ]
  },
  {
   "cell_type": "markdown",
   "id": "9069a388",
   "metadata": {},
   "source": [
    "## Two-Stage"
   ]
  },
  {
   "cell_type": "code",
   "execution_count": 18,
   "id": "7c951ea3",
   "metadata": {},
   "outputs": [],
   "source": [
    "# build model\n",
    "twostage_model = pyepo.twostage.sklearnPred(reg)"
   ]
  },
  {
   "cell_type": "code",
   "execution_count": 19,
   "id": "e19951f9",
   "metadata": {},
   "outputs": [
    {
     "data": {
      "text/plain": [
       "MultiOutputRegressor(estimator=LinearRegression())"
      ]
     },
     "execution_count": 19,
     "metadata": {},
     "output_type": "execute_result"
    }
   ],
   "source": [
    "# training\n",
    "twostage_model.fit(sp_dataset_train.feats, sp_dataset_train.costs)"
   ]
  },
  {
   "cell_type": "code",
   "execution_count": 20,
   "id": "84313521",
   "metadata": {},
   "outputs": [],
   "source": [
    "# prediction\n",
    "c_test_pred = twostage_model.predict(sp_dataset_test.feats)"
   ]
  },
  {
   "cell_type": "code",
   "execution_count": 21,
   "id": "85fa335c",
   "metadata": {},
   "outputs": [
    {
     "name": "stderr",
     "output_type": "stream",
     "text": [
      "100%|██████████████████████████████████████████████████████████████████████████████████████████████| 1000/1000 [00:03<00:00, 250.14it/s]\n"
     ]
    },
    {
     "name": "stdout",
     "output_type": "stream",
     "text": [
      "Normalized true SPO Loss: 1.61%\n",
      "Normalized unambiguous SPO Loss: 1.61%\n"
     ]
    }
   ],
   "source": [
    "# evaluate\n",
    "truespo = 0\n",
    "unambspo = 0\n",
    "for i in tqdm(range(1000)):\n",
    "    c_pred_i = c_test_pred[i]\n",
    "    c_true_i = sp_dataset_test.costs[i]\n",
    "    z_true_i = sp_dataset_test.objs[i,0]\n",
    "    truespo += pyepo.metric.calRegret(sp_model, c_pred_i, c_true_i, z_true_i)\n",
    "    unambspo += pyepo.metric.calUnambRegret(sp_model, c_pred_i, c_true_i, z_true_i)\n",
    "time.sleep(1)\n",
    "print('Normalized true SPO Loss: {:.2f}%'.format(truespo / abs(sp_dataset_test.objs.sum()) * 100))\n",
    "print('Normalized unambiguous SPO Loss: {:.2f}%'.format(unambspo / abs(sp_dataset_test.objs.sum()) * 100))"
   ]
  },
  {
   "cell_type": "code",
   "execution_count": 22,
   "id": "3b3b5cda",
   "metadata": {
    "scrolled": false
   },
   "outputs": [
    {
     "name": "stdout",
     "output_type": "stream",
     "text": [
      "Sample 0:\n",
      "    True cost: 0.24, 0.18, 0.55, 0.03, 0.81, 0.09, 0.06, 0.21, 0.10, 0.34, 0.09, 0.17, 0.04, 0.21, 0.07, 0.21, 0.02, 0.25, 0.15, 0.09, 0.17, 0.25, 0.40, 0.14, 0.70, 0.06, 0.07, 0.07, 0.37, 0.41, 0.30, 0.04, 0.30, 0.18, 0.55, 0.41, 0.06, 0.41, 0.12, 0.25\n",
      "    Pred cost: 0.28, 0.16, 0.55, -0.67, 0.99, -0.21, -0.41, 0.30, -0.19, 0.41, -0.21, 0.04, -0.57, 0.30, -0.33, 0.30, -0.84, 0.20, 0.05, -0.21, 0.04, 0.20, 0.57, -0.09, 0.79, -0.41, -0.33, -0.33, 0.46, 0.55, 0.33, -0.57, 0.33, 0.16, 0.55, 0.55, -0.41, 0.55, -0.05, 0.20\n",
      "    True sol: 1, 0, 0, 0, 0, 1, 0, 0, 0, 0, 1, 1, 0, 0, 0, 0, 1, 0, 0, 0, 0, 1, 0, 0, 0, 0, 1, 0, 0, 0, 0, 0, 0, 0, 0, 1, 0, 0, 0, 0, True obj: 1.34\n",
      "    Pred sol: 1, 0, 0, 0, 0, 1, 0, 0, 0, 0, 1, 1, 0, 0, 0, 0, 1, 0, 0, 0, 0, 0, 0, 0, 0, 1, 0, 0, 0, 0, 0, 0, 0, 0, 1, 0, 0, 0, 0, 1, Pred obj: 1.47\n",
      "\n",
      "Sample 1:\n",
      "    True cost: 0.01, 0.66, 0.55, 0.13, 0.09, 0.02, 0.08, 0.37, 0.07, 0.33, 0.02, 0.04, 0.06, 0.37, 0.05, 0.37, 0.41, 0.85, 0.91, 0.02, 0.04, 0.85, 0.17, 0.10, 0.19, 0.08, 0.05, 0.05, 0.59, 0.41, 0.49, 0.06, 0.49, 0.66, 0.55, 0.41, 0.08, 0.41, 1.47, 0.85\n",
      "    Pred cost: -1.06, 0.86, 0.55, -0.01, -0.18, -0.74, -0.21, 0.62, -0.30, 0.42, -0.74, -0.55, -0.32, 0.62, -0.42, 0.62, 0.51, 0.86, 1.12, -0.74, -0.55, 0.86, 0.17, -0.23, 0.11, -0.21, -0.42, -0.42, 0.75, 0.53, 0.64, -0.32, 0.64, 0.86, 0.55, 0.53, -0.21, 0.53, 1.33, 0.86\n",
      "    True sol: 1, 0, 0, 0, 0, 1, 0, 0, 0, 0, 0, 0, 0, 0, 1, 0, 0, 0, 0, 1, 1, 0, 0, 0, 0, 1, 0, 0, 0, 0, 1, 0, 0, 0, 0, 1, 0, 0, 0, 0, True obj: 1.12\n",
      "    Pred sol: 1, 0, 0, 0, 0, 1, 0, 0, 0, 0, 0, 0, 0, 0, 1, 0, 0, 0, 0, 1, 1, 0, 0, 0, 0, 1, 0, 0, 0, 0, 1, 0, 0, 0, 0, 1, 0, 0, 0, 0, Pred obj: 1.12\n",
      "\n",
      "Sample 2:\n",
      "    True cost: 0.34, 1.61, 0.55, 0.91, 0.69, 0.69, 0.37, 1.20, 0.47, 1.70, 0.69, 0.16, 0.65, 1.20, 0.97, 1.20, 0.51, 1.04, 0.70, 0.69, 0.16, 1.04, 1.27, 0.26, 0.97, 0.37, 0.97, 0.97, 0.34, 0.91, 0.75, 0.65, 0.75, 1.61, 0.55, 0.91, 0.37, 0.91, 0.98, 1.04\n",
      "    Pred cost: 0.46, 1.58, 0.55, 1.22, 0.86, 1.04, 0.54, 1.48, 0.65, 1.50, 1.04, 0.01, 1.08, 1.48, 1.18, 1.48, 0.71, 1.02, 0.94, 1.04, 0.01, 1.02, 1.41, 0.20, 0.98, 0.54, 1.18, 1.18, 0.43, 1.03, 0.90, 1.08, 0.90, 1.58, 0.55, 1.03, 0.54, 1.03, 1.06, 1.02\n",
      "    True sol: 1, 0, 0, 0, 0, 1, 0, 0, 0, 0, 1, 1, 0, 0, 0, 0, 1, 0, 0, 0, 0, 0, 0, 0, 0, 1, 0, 0, 0, 0, 0, 0, 0, 0, 1, 0, 0, 0, 0, 1, True obj: 4.35\n",
      "    Pred sol: 1, 0, 0, 0, 0, 1, 0, 0, 0, 0, 1, 1, 0, 0, 0, 0, 1, 0, 0, 0, 0, 0, 0, 0, 0, 1, 0, 0, 0, 0, 0, 0, 0, 0, 1, 0, 0, 0, 0, 1, Pred obj: 4.35\n",
      "\n",
      "Sample 3:\n",
      "    True cost: 0.35, 1.18, 0.55, 1.14, 0.37, 0.85, 1.70, 1.72, 0.51, 0.56, 0.85, 0.82, 1.66, 1.72, 0.54, 1.72, 2.19, 1.21, 3.12, 0.85, 0.82, 1.21, 0.88, 0.52, 0.21, 1.70, 0.54, 0.54, 1.68, 0.53, 1.76, 1.66, 1.76, 1.18, 0.55, 0.53, 1.70, 0.53, 2.26, 1.21\n",
      "    Pred cost: 0.50, 1.31, 0.55, 1.43, 0.46, 1.23, 1.67, 1.79, 0.77, 0.73, 1.23, 0.96, 1.93, 1.79, 0.80, 1.79, 1.84, 1.12, 2.22, 1.23, 0.96, 1.12, 1.14, 0.59, 0.14, 1.67, 0.80, 0.80, 1.52, 0.69, 1.57, 1.93, 1.57, 1.31, 0.55, 0.69, 1.67, 0.69, 1.71, 1.12\n",
      "    True sol: 0, 0, 0, 0, 1, 0, 0, 0, 0, 1, 0, 0, 0, 0, 1, 0, 0, 0, 0, 1, 0, 0, 0, 0, 1, 0, 0, 0, 0, 1, 0, 0, 0, 0, 1, 0, 0, 0, 0, 1, True obj: 4.82\n",
      "    Pred sol: 0, 0, 0, 0, 1, 0, 0, 0, 0, 1, 0, 0, 0, 0, 1, 0, 0, 0, 0, 1, 0, 0, 0, 0, 1, 0, 0, 0, 0, 1, 0, 0, 0, 0, 1, 0, 0, 0, 0, 1, Pred obj: 4.82\n",
      "\n",
      "Sample 4:\n",
      "    True cost: 2.24, 1.13, 0.55, 1.73, 1.50, 2.67, 1.74, 1.74, 1.43, 1.18, 2.67, 1.43, 2.57, 1.74, 1.81, 1.74, 1.07, 0.70, 1.08, 2.67, 1.43, 0.70, 1.82, 0.91, 0.96, 1.74, 1.81, 1.81, 0.87, 0.91, 1.13, 2.57, 1.13, 1.13, 0.55, 0.91, 1.74, 0.91, 0.66, 0.70\n",
      "    Pred cost: 1.82, 1.32, 0.55, 1.80, 1.38, 2.15, 1.66, 1.80, 1.47, 1.22, 2.15, 1.36, 2.31, 1.80, 1.68, 1.80, 1.29, 0.78, 1.28, 2.15, 1.36, 0.78, 1.67, 0.94, 0.96, 1.66, 1.68, 1.68, 1.02, 1.04, 1.19, 2.31, 1.19, 1.32, 0.55, 1.04, 1.66, 1.04, 0.84, 0.78\n",
      "    True sol: 0, 0, 0, 0, 1, 0, 0, 0, 0, 0, 0, 0, 0, 1, 0, 0, 0, 0, 1, 0, 0, 0, 0, 1, 0, 0, 0, 0, 1, 1, 0, 0, 0, 0, 1, 0, 0, 0, 0, 1, True obj: 8.25\n",
      "    Pred sol: 0, 0, 0, 0, 1, 0, 0, 0, 0, 1, 0, 0, 0, 0, 1, 0, 0, 0, 0, 0, 0, 0, 0, 1, 0, 0, 0, 0, 1, 1, 0, 0, 0, 0, 1, 0, 0, 0, 0, 1, Pred obj: 8.42\n",
      "\n",
      "Sample 5:\n",
      "    True cost: 0.16, 0.59, 0.55, 0.61, 0.15, 0.55, 1.33, 0.52, 0.18, 0.60, 0.55, 0.50, 0.54, 0.52, 0.62, 0.52, 1.44, 1.42, 1.26, 0.55, 0.50, 1.42, 0.53, 0.57, 0.18, 1.33, 0.62, 0.62, 0.47, 0.17, 1.28, 0.54, 1.28, 0.59, 0.55, 0.17, 1.33, 0.17, 1.39, 1.42\n",
      "    Pred cost: 0.08, 0.81, 0.55, 0.96, -0.01, 0.93, 1.48, 0.82, 0.19, 0.76, 0.93, 0.65, 0.96, 0.82, 0.91, 0.82, 1.47, 1.24, 1.38, 0.93, 0.65, 1.24, 0.79, 0.64, 0.06, 1.48, 0.91, 0.91, 0.60, 0.09, 1.33, 0.96, 1.33, 0.81, 0.55, 0.09, 1.48, 0.09, 1.31, 1.24\n",
      "    True sol: 1, 0, 0, 0, 0, 1, 0, 0, 0, 0, 1, 0, 0, 0, 0, 1, 0, 0, 0, 0, 0, 0, 0, 0, 1, 0, 0, 0, 0, 1, 1, 0, 0, 0, 0, 1, 0, 0, 0, 0, True obj: 3.59\n",
      "    Pred sol: 0, 0, 0, 0, 1, 0, 0, 0, 0, 1, 1, 0, 0, 0, 0, 1, 0, 0, 0, 0, 0, 0, 0, 0, 1, 0, 0, 0, 0, 1, 1, 0, 0, 0, 0, 1, 0, 0, 0, 0, Pred obj: 3.62\n",
      "\n",
      "Sample 6:\n",
      "    True cost: 1.20, 0.67, 0.55, 1.14, 0.71, 2.19, 2.48, 1.00, 0.55, 0.97, 2.19, 1.38, 1.62, 1.00, 1.58, 1.00, 1.32, 1.13, 1.16, 2.19, 1.38, 1.13, 1.40, 0.95, 0.46, 2.48, 1.58, 1.58, 0.57, 0.29, 1.61, 1.62, 1.61, 0.67, 0.55, 0.29, 2.48, 0.29, 0.79, 1.13\n",
      "    Pred cost: 1.29, 0.94, 0.55, 1.45, 0.82, 1.99, 2.02, 1.31, 0.81, 1.08, 1.99, 1.34, 1.85, 1.31, 1.59, 1.31, 1.43, 1.09, 1.33, 1.99, 1.34, 1.09, 1.46, 0.97, 0.51, 2.02, 1.59, 1.59, 0.72, 0.36, 1.49, 1.85, 1.49, 0.94, 0.55, 0.36, 2.02, 0.36, 0.94, 1.09\n",
      "    True sol: 0, 0, 0, 0, 1, 0, 0, 0, 0, 0, 0, 0, 0, 1, 0, 0, 0, 0, 1, 0, 0, 0, 0, 1, 0, 0, 0, 0, 1, 1, 0, 0, 0, 0, 1, 0, 0, 0, 0, 1, True obj: 6.35\n",
      "    Pred sol: 0, 0, 0, 0, 1, 0, 0, 0, 0, 0, 0, 0, 0, 1, 0, 0, 0, 0, 1, 0, 0, 0, 0, 1, 0, 0, 0, 0, 1, 1, 0, 0, 0, 0, 1, 0, 0, 0, 0, 1, Pred obj: 6.35\n",
      "\n",
      "Sample 7:\n",
      "    True cost: 0.18, 0.13, 0.55, 0.40, 0.05, 0.05, 0.07, 0.01, 0.89, 0.17, 0.05, 0.23, 0.04, 0.01, 0.47, 0.01, 0.50, 0.22, 0.01, 0.05, 0.23, 0.22, 0.01, 1.23, 0.44, 0.07, 0.47, 0.47, 0.05, 0.37, 0.02, 0.04, 0.02, 0.13, 0.55, 0.37, 0.07, 0.37, 0.18, 0.22\n",
      "    Pred cost: 0.17, -0.01, 0.55, 0.64, -0.46, -0.38, -0.31, -1.15, 1.07, 0.07, -0.38, 0.24, -0.50, -1.15, 0.70, -1.15, 0.73, 0.13, -1.00, -0.38, 0.24, 0.13, -1.00, 1.17, 0.48, -0.31, 0.70, 0.70, -0.45, 0.42, -0.90, -0.50, -0.90, -0.01, 0.55, 0.42, -0.31, 0.42, 0.09, 0.13\n",
      "    True sol: 0, 0, 0, 0, 1, 0, 0, 0, 0, 0, 0, 0, 0, 1, 0, 0, 0, 0, 1, 1, 1, 0, 0, 0, 0, 1, 0, 0, 0, 0, 1, 0, 0, 0, 0, 1, 0, 0, 0, 0, True obj: 0.82\n",
      "    Pred sol: 0, 0, 0, 0, 1, 0, 0, 0, 0, 0, 0, 0, 0, 1, 0, 0, 0, 0, 1, 1, 1, 0, 0, 0, 0, 1, 0, 0, 0, 0, 1, 0, 0, 0, 0, 1, 0, 0, 0, 0, Pred obj: 0.82\n",
      "\n",
      "Sample 8:\n",
      "    True cost: 0.32, 1.37, 0.55, 0.96, 0.50, 0.55, 0.32, 0.82, 0.59, 1.38, 0.55, 0.17, 0.55, 0.82, 0.97, 0.82, 0.60, 0.90, 0.50, 0.55, 0.17, 0.90, 0.82, 0.35, 0.88, 0.32, 0.97, 0.97, 0.28, 0.88, 0.51, 0.55, 0.51, 1.37, 0.55, 0.88, 0.32, 0.88, 0.89, 0.90\n",
      "    Pred cost: 0.43, 1.44, 0.55, 1.27, 0.65, 0.89, 0.45, 1.17, 0.80, 1.34, 0.89, 0.04, 0.96, 1.17, 1.19, 1.17, 0.82, 0.92, 0.71, 0.89, 0.04, 0.92, 1.08, 0.37, 0.92, 0.45, 1.19, 1.19, 0.32, 1.00, 0.65, 0.96, 0.65, 1.44, 0.55, 1.00, 0.45, 1.00, 1.00, 0.92\n",
      "    True sol: 1, 0, 0, 0, 0, 1, 0, 0, 0, 0, 1, 1, 0, 0, 0, 0, 1, 0, 0, 0, 0, 0, 0, 0, 0, 1, 0, 0, 0, 0, 1, 0, 0, 0, 0, 1, 0, 0, 0, 0, True obj: 3.90\n",
      "    Pred sol: 1, 0, 0, 0, 0, 1, 0, 0, 0, 0, 1, 1, 0, 0, 0, 0, 1, 0, 0, 0, 0, 0, 0, 0, 0, 1, 0, 0, 0, 0, 0, 0, 0, 0, 1, 0, 0, 0, 0, 1, Pred obj: 3.97\n",
      "\n",
      "Sample 9:\n",
      "    True cost: 0.32, 0.95, 0.55, 1.09, 0.26, 0.48, 0.44, 0.46, 0.78, 0.86, 0.48, 0.29, 0.54, 0.46, 0.99, 0.46, 1.01, 0.79, 0.41, 0.48, 0.29, 0.79, 0.41, 0.64, 0.60, 0.44, 0.99, 0.99, 0.27, 0.67, 0.37, 0.54, 0.37, 0.95, 0.55, 0.67, 0.44, 0.67, 0.87, 0.79\n",
      "    Pred cost: 0.45, 1.15, 0.55, 1.38, 0.29, 0.80, 0.64, 0.74, 1.00, 1.00, 0.80, 0.32, 0.96, 0.74, 1.22, 0.74, 1.20, 0.83, 0.59, 0.80, 0.32, 0.83, 0.60, 0.72, 0.67, 0.64, 1.22, 1.22, 0.30, 0.81, 0.45, 0.96, 0.45, 1.15, 0.55, 0.81, 0.64, 0.81, 0.98, 0.83\n",
      "    True sol: 0, 0, 0, 0, 1, 0, 0, 0, 0, 0, 0, 0, 0, 1, 0, 0, 0, 0, 1, 1, 1, 0, 0, 0, 0, 1, 0, 0, 0, 0, 1, 0, 0, 0, 0, 1, 0, 0, 0, 0, True obj: 3.38\n",
      "    Pred sol: 0, 0, 0, 0, 1, 0, 0, 0, 0, 0, 0, 0, 0, 1, 0, 0, 0, 0, 1, 1, 1, 0, 0, 0, 0, 1, 0, 0, 0, 0, 1, 0, 0, 0, 0, 1, 0, 0, 0, 0, Pred obj: 3.38\n",
      "\n"
     ]
    }
   ],
   "source": [
    "# compare solutions\n",
    "for i, data in enumerate(sp_loader_test):\n",
    "    # load data\n",
    "    x, c, w, z = data\n",
    "    # cuda\n",
    "    if torch.cuda.is_available():\n",
    "        x, c, w, z = x.cuda(), c.cuda(), w.cuda(), z.cuda()\n",
    "    # convert to numpy\n",
    "    x = x.to('cpu').detach().numpy()\n",
    "    c = c.to('cpu').detach().numpy()\n",
    "    w = w.to('cpu').detach().numpy()\n",
    "    z = z.to('cpu').detach().numpy()\n",
    "    # predict\n",
    "    cp = twostage_model.predict(x)\n",
    "    for j in range(min(10, batch_size)):\n",
    "        print('Sample {}:'.format(j))\n",
    "        print('    True cost:', ', '.join(['{:.2f}'.format(cost) for cost in c[j]]))\n",
    "        print('    Pred cost:', ', '.join(['{:.2f}'.format(cost) for cost in cp[j]]))\n",
    "        # solve cost from prediction\n",
    "        sp_model.setObj(cp[j])\n",
    "        wpj, _ = sp_model.solve()\n",
    "        zpj = np.dot(c[j], wpj)\n",
    "        print('    True sol: ' + ', '.join(['{:.0f}'.format(x) for x in w[j]]) + ', True obj: {:.2f}'.format(z[j,0]))\n",
    "        print('    Pred sol: '+  ', '.join(['{:.0f}'.format(x) for x in wpj]) + ', Pred obj: {:.2f}'.format(zpj))\n",
    "        print()\n",
    "    break"
   ]
  },
  {
   "cell_type": "markdown",
   "id": "technological-queue",
   "metadata": {},
   "source": [
    "## Linear Regression from PyTorch"
   ]
  },
  {
   "cell_type": "code",
   "execution_count": 23,
   "id": "shaped-wonder",
   "metadata": {},
   "outputs": [],
   "source": [
    "from torch import nn"
   ]
  },
  {
   "cell_type": "code",
   "execution_count": 24,
   "id": "fresh-adolescent",
   "metadata": {},
   "outputs": [],
   "source": [
    "# build linear model\n",
    "class LinearRegression(nn.Module):\n",
    "    \n",
    "    def __init__(self):\n",
    "        super(LinearRegression, self).__init__()\n",
    "        self.linear = nn.Linear(p, (grid[0] - 1) * grid[1] + (grid[1] - 1) * grid[0])\n",
    "    \n",
    "    def forward(self, x):\n",
    "        out = self.linear(x)\n",
    "        return out"
   ]
  },
  {
   "cell_type": "markdown",
   "id": "accessible-clerk",
   "metadata": {},
   "source": [
    "## SPO+"
   ]
  },
  {
   "cell_type": "code",
   "execution_count": 25,
   "id": "interior-secondary",
   "metadata": {},
   "outputs": [],
   "source": [
    "# init model\n",
    "reg = LinearRegression()\n",
    "# cuda\n",
    "if torch.cuda.is_available():\n",
    "    reg = reg.cuda()"
   ]
  },
  {
   "cell_type": "code",
   "execution_count": 26,
   "id": "asian-screening",
   "metadata": {},
   "outputs": [],
   "source": [
    "# set optimizer\n",
    "optimizer = torch.optim.Adam(reg.parameters(), lr=1e-3)"
   ]
  },
  {
   "cell_type": "code",
   "execution_count": 27,
   "id": "directed-composition",
   "metadata": {},
   "outputs": [
    {
     "name": "stdout",
     "output_type": "stream",
     "text": [
      "Num of cores: 4\n"
     ]
    }
   ],
   "source": [
    "# init SPO+ loss\n",
    "criterion = pyepo.func.SPOPlus(sp_model, processes=4)"
   ]
  },
  {
   "cell_type": "code",
   "execution_count": null,
   "id": "framed-classification",
   "metadata": {
    "scrolled": false
   },
   "outputs": [
    {
     "name": "stdout",
     "output_type": "stream",
     "text": [
      "Epoch   5, Loss:   2.9138, True SPO Loss: 29.4831%, Unambiguous SPO Loss: 29.4831%\n",
      "Epoch  10, Loss:   3.9828, True SPO Loss: 21.1610%, Unambiguous SPO Loss: 21.1611%\n",
      "Epoch  15, Loss:   2.8431, True SPO Loss: 15.4577%, Unambiguous SPO Loss: 15.4577%\n",
      "Epoch  20, Loss:   2.8117, True SPO Loss:  9.1757%, Unambiguous SPO Loss:  9.1757%\n",
      "Epoch  25, Loss:   0.5751, True SPO Loss:  6.7003%, Unambiguous SPO Loss:  6.7003%\n"
     ]
    }
   ],
   "source": [
    "# train model\n",
    "num_epochs = 300\n",
    "reg.train()\n",
    "loss_log = []\n",
    "loss_log_truespo = []\n",
    "loss_log_unambspo = []\n",
    "for epoch in range(num_epochs):\n",
    "    # load data\n",
    "    for i, data in enumerate(sp_loader_train):\n",
    "        x, c, w, z = data\n",
    "        # cuda\n",
    "        if torch.cuda.is_available():\n",
    "            x, c, w, z = x.cuda(), c.cuda(), w.cuda(), z.cuda()\n",
    "        # forward pass\n",
    "        cp = reg(x)\n",
    "        loss = criterion.apply(cp, c, w, z).mean()\n",
    "        # backward pass\n",
    "        optimizer.zero_grad()\n",
    "        loss.backward()\n",
    "        optimizer.step()\n",
    "    loss_log.append(loss.item())\n",
    "    if (epoch + 1) % 5 == 0:\n",
    "        # true SPO\n",
    "        trueloss = pyepo.metric.regret(reg, sp_model, sp_loader_test)\n",
    "        loss_log_truespo.append(trueloss)\n",
    "        # unambiguous SPO \n",
    "        unambloss = pyepo.metric.unambRegret(reg, sp_model, sp_loader_test)\n",
    "        loss_log_unambspo.append(unambloss)\n",
    "        print('Epoch {:3}, Loss: {:8.4f}, True SPO Loss: {:7.4f}%, Unambiguous SPO Loss: {:7.4f}%'. \\\n",
    "              format(epoch+1, loss.item(), trueloss*100, unambloss*100))"
   ]
  },
  {
   "cell_type": "code",
   "execution_count": null,
   "id": "cheap-thought",
   "metadata": {},
   "outputs": [],
   "source": [
    "# draw plot\n",
    "plt.figure(figsize=(16, 8))\n",
    "plt.plot(loss_log, color='c', lw=3)\n",
    "plt.xticks(fontsize=28)\n",
    "plt.yticks(fontsize=28)\n",
    "plt.xlabel('Epoch', fontsize=36)\n",
    "plt.ylabel('Loss', fontsize=36)\n",
    "plt.title('Learning Curve', fontsize=36)\n",
    "plt.show()"
   ]
  },
  {
   "cell_type": "code",
   "execution_count": null,
   "id": "2e2f12c4",
   "metadata": {},
   "outputs": [],
   "source": [
    "# draw plot\n",
    "plt.figure(figsize=(16, 8))\n",
    "plt.plot(range(0, num_epochs, 5), loss_log_truespo, color='b', alpha=0.5, lw=3, label='Regret')\n",
    "plt.plot(range(0, num_epochs, 5), loss_log_unambspo, color='y', alpha=0.5, lw=3, label='Unambiguous Regret')\n",
    "plt.xticks(fontsize=28)\n",
    "plt.yticks(fontsize=28)\n",
    "plt.xlabel('Epoch', fontsize=36)\n",
    "plt.ylabel('Loss', fontsize=36)\n",
    "plt.title('Learning Curve', fontsize=36)\n",
    "plt.legend(fontsize=32)\n",
    "plt.show()"
   ]
  },
  {
   "cell_type": "code",
   "execution_count": null,
   "id": "scheduled-championship",
   "metadata": {},
   "outputs": [],
   "source": [
    "# evaluate\n",
    "spoloss = pyepo.metric.regret(reg, sp_model, sp_loader_test)\n",
    "print('Normalized true SPO Loss: {:.2f}%'.format(spoloss * 100))\n",
    "spoloss = pyepo.metric.unambRegret(reg, sp_model, sp_loader_test)\n",
    "print('Normalized unambiguous SPO Loss: {:.2f}%'.format(spoloss * 100))"
   ]
  },
  {
   "cell_type": "code",
   "execution_count": null,
   "id": "communist-destiny",
   "metadata": {
    "scrolled": false
   },
   "outputs": [],
   "source": [
    "# compare solutions\n",
    "reg.eval()\n",
    "# load data\n",
    "for i, data in enumerate(sp_loader_test):\n",
    "    x, c, w, z = data\n",
    "    # cuda\n",
    "    if torch.cuda.is_available():\n",
    "        x, c, w, z = x.cuda(), c.cuda(), w.cuda(), z.cuda()\n",
    "    # predict\n",
    "    cp = reg(x)\n",
    "    # convert to numpy\n",
    "    c = c.to('cpu').detach().numpy()\n",
    "    w = w.to('cpu').detach().numpy()\n",
    "    z = z.to('cpu').detach().numpy()\n",
    "    cp = cp.to('cpu').detach().numpy()\n",
    "    for j in range(min(10, batch_size)):\n",
    "        print('Sample {}:'.format(j))\n",
    "        print('    True cost:', ', '.join(['{:.2f}'.format(cost) for cost in c[j]]))\n",
    "        print('    Pred cost:', ', '.join(['{:.2f}'.format(cost) for cost in cp[j]]))\n",
    "        # solve cost from prediction\n",
    "        sp_model.setObj(cp[j])\n",
    "        wpj, _ = sp_model.solve()\n",
    "        zpj = np.dot(c[j], wpj)\n",
    "        print('    True sol: ' + ', '.join(['{:.0f}'.format(x) for x in w[j]]) + ', True obj: {:.2f}'.format(z[j,0]))\n",
    "        print('    Pred sol: '+  ', '.join(['{:.0f}'.format(x) for x in wpj]) + ', Pred obj: {:.2f}'.format(zpj))\n",
    "        print()\n",
    "    break"
   ]
  },
  {
   "cell_type": "markdown",
   "id": "alternative-brother",
   "metadata": {},
   "source": [
    "##  SPO+ with Regularization"
   ]
  },
  {
   "cell_type": "code",
   "execution_count": null,
   "id": "driven-surveillance",
   "metadata": {},
   "outputs": [],
   "source": [
    "# init model\n",
    "reg = LinearRegression()\n",
    "# cuda\n",
    "if torch.cuda.is_available():\n",
    "    reg = reg.cuda()"
   ]
  },
  {
   "cell_type": "code",
   "execution_count": null,
   "id": "annual-fortune",
   "metadata": {},
   "outputs": [],
   "source": [
    "# set optimizer\n",
    "optimizer = torch.optim.Adam(reg.parameters(), lr=1e-3)"
   ]
  },
  {
   "cell_type": "code",
   "execution_count": null,
   "id": "fluid-shipping",
   "metadata": {},
   "outputs": [],
   "source": [
    "# init SPO+ loss\n",
    "criterion = pyepo.func.SPOPlus(sp_model, processes=4)"
   ]
  },
  {
   "cell_type": "code",
   "execution_count": null,
   "id": "characteristic-gender",
   "metadata": {
    "scrolled": false
   },
   "outputs": [],
   "source": [
    "# train model\n",
    "num_epochs = 300\n",
    "reg.train()\n",
    "loss_log = []\n",
    "loss_log_truespo = []\n",
    "loss_log_unambspo = []\n",
    "for epoch in range(num_epochs):\n",
    "    # load data\n",
    "    for i, data in enumerate(sp_loader_train):\n",
    "        x, c, w, z = data\n",
    "        # cuda\n",
    "        if torch.cuda.is_available():\n",
    "            x, c, w, z = x.cuda(), c.cuda(), w.cuda(), z.cuda()\n",
    "        # forward pass\n",
    "        cp = reg(x)\n",
    "        loss = criterion.apply(cp, c, w, z).mean()\n",
    "        # l1 reg\n",
    "        l1_lambda = 1e-3\n",
    "        l1_reg = torch.abs(cp - c).sum(dim=1).mean()\n",
    "        loss += l1_lambda * l1_reg\n",
    "        # backward pass\n",
    "        optimizer.zero_grad()\n",
    "        loss.backward()\n",
    "        optimizer.step()\n",
    "    loss_log.append(loss.item())\n",
    "    if (epoch + 1) % 5 == 0:\n",
    "        # true SPO\n",
    "        trueloss = pyepo.metric.regret(reg, sp_model, sp_loader_test)\n",
    "        loss_log_truespo.append(trueloss)\n",
    "        # unambiguous SPO \n",
    "        unambloss = pyepo.metric.unambRegret(reg, sp_model, sp_loader_test)\n",
    "        loss_log_unambspo.append(unambloss)\n",
    "        print('Epoch {:3}, Loss: {:8.4f}, True SPO Loss: {:7.4f}%, Unambiguous SPO Loss: {:7.4f}%'. \\\n",
    "              format(epoch+1, loss.item(), trueloss*100, unambloss*100))"
   ]
  },
  {
   "cell_type": "code",
   "execution_count": null,
   "id": "closed-companion",
   "metadata": {},
   "outputs": [],
   "source": [
    "# draw plot\n",
    "plt.figure(figsize=(16, 8))\n",
    "plt.plot(loss_log, color='c', lw=3)\n",
    "plt.xticks(fontsize=28)\n",
    "plt.yticks(fontsize=28)\n",
    "plt.xlabel('Epoch', fontsize=36)\n",
    "plt.ylabel('Loss', fontsize=36)\n",
    "plt.title('Learning Curve', fontsize=36)\n",
    "plt.show()"
   ]
  },
  {
   "cell_type": "code",
   "execution_count": null,
   "id": "5624b586",
   "metadata": {},
   "outputs": [],
   "source": [
    "# draw plot\n",
    "plt.figure(figsize=(16, 8))\n",
    "plt.plot(range(0, num_epochs, 5), loss_log_truespo, color='b', alpha=0.5, lw=3, label='Regret')\n",
    "plt.plot(range(0, num_epochs, 5), loss_log_unambspo, color='y', alpha=0.5, lw=3, label='Unambiguous Regret')\n",
    "plt.xticks(fontsize=28)\n",
    "plt.yticks(fontsize=28)\n",
    "plt.xlabel('Epoch', fontsize=36)\n",
    "plt.ylabel('Loss', fontsize=36)\n",
    "plt.title('Learning Curve', fontsize=36)\n",
    "plt.legend(fontsize=32)\n",
    "plt.show()"
   ]
  },
  {
   "cell_type": "code",
   "execution_count": null,
   "id": "julian-stone",
   "metadata": {},
   "outputs": [],
   "source": [
    "# evaluate\n",
    "spoloss = pyepo.metric.regret(reg, sp_model, sp_loader_test)\n",
    "print('Normalized true SPO Loss: {:.2f}%'.format(spoloss * 100))\n",
    "spoloss = pyepo.metric.unambRegret(reg, sp_model, sp_loader_test)\n",
    "print('Normalized unambiguous SPO Loss: {:.2f}%'.format(spoloss * 100))"
   ]
  },
  {
   "cell_type": "code",
   "execution_count": null,
   "id": "presidential-vehicle",
   "metadata": {
    "scrolled": false
   },
   "outputs": [],
   "source": [
    "# compare solutions\n",
    "reg.eval()\n",
    "# load data\n",
    "for i, data in enumerate(sp_loader_test):\n",
    "    x, c, w, z = data\n",
    "    # cuda\n",
    "    if torch.cuda.is_available():\n",
    "        x, c, w, z = x.cuda(), c.cuda(), w.cuda(), z.cuda()\n",
    "    # predict\n",
    "    cp = reg(x)\n",
    "    # convert to numpy\n",
    "    c = c.to('cpu').detach().numpy()\n",
    "    w = w.to('cpu').detach().numpy()\n",
    "    z = z.to('cpu').detach().numpy()\n",
    "    cp = cp.to('cpu').detach().numpy()\n",
    "    for j in range(min(10, batch_size)):\n",
    "        print('Sample {}:'.format(j))\n",
    "        print('    True cost:', ', '.join(['{:.2f}'.format(cost) for cost in c[j]]))\n",
    "        print('    Pred cost:', ', '.join(['{:.2f}'.format(cost) for cost in cp[j]]))\n",
    "        # solve cost from prediction\n",
    "        sp_model.setObj(cp[j])\n",
    "        wpj, _ = sp_model.solve()\n",
    "        zpj = np.dot(c[j], wpj)\n",
    "        print('    True sol: ' + ', '.join(['{:.0f}'.format(x) for x in w[j]]) + ', True obj: {:.2f}'.format(z[j,0]))\n",
    "        print('    Pred sol: '+  ', '.join(['{:.0f}'.format(x) for x in wpj]) + ', Pred obj: {:.2f}'.format(zpj))\n",
    "        print()\n",
    "    break"
   ]
  },
  {
   "cell_type": "markdown",
   "id": "coated-arrest",
   "metadata": {},
   "source": [
    "## Black-Box"
   ]
  },
  {
   "cell_type": "code",
   "execution_count": null,
   "id": "given-treat",
   "metadata": {},
   "outputs": [],
   "source": [
    "# init model\n",
    "reg = LinearRegression()\n",
    "# cuda\n",
    "if torch.cuda.is_available():\n",
    "    reg = reg.cuda()"
   ]
  },
  {
   "cell_type": "code",
   "execution_count": null,
   "id": "iraqi-syndrome",
   "metadata": {},
   "outputs": [],
   "source": [
    "# set optimizer\n",
    "optimizer = torch.optim.Adam(reg.parameters(), lr=5e-4)"
   ]
  },
  {
   "cell_type": "code",
   "execution_count": null,
   "id": "proprietary-hygiene",
   "metadata": {},
   "outputs": [],
   "source": [
    "# set loss\n",
    "criterion = nn.L1Loss()\n",
    "bb = pyepo.func.blackboxOpt(sp_model, lambd=10, processes=4)"
   ]
  },
  {
   "cell_type": "code",
   "execution_count": null,
   "id": "atlantic-leather",
   "metadata": {},
   "outputs": [],
   "source": [
    "# train model\n",
    "num_epochs = 300\n",
    "lambd = 10\n",
    "reg.train()\n",
    "loss_log = []\n",
    "loss_log_truespo = []\n",
    "loss_log_unambspo = []\n",
    "for epoch in range(num_epochs):\n",
    "    # load data\n",
    "    for i, data in enumerate(sp_loader_train):\n",
    "        x, c, w, z = data\n",
    "        # cuda\n",
    "        if torch.cuda.is_available():\n",
    "            x, c, w, z = x.cuda(), c.cuda(), w.cuda(), z.cuda()\n",
    "        # linear regression\n",
    "        cp = reg(x)\n",
    "        # black-box optimizer\n",
    "        wp = bb.apply(cp)\n",
    "        # objective value\n",
    "        zp = (wp * c).sum(1).view(-1, 1)\n",
    "        # loss\n",
    "        loss = criterion(zp, z)\n",
    "        # backward pass\n",
    "        optimizer.zero_grad()\n",
    "        loss.backward()\n",
    "        optimizer.step()\n",
    "    loss_log.append(loss.item())\n",
    "    if (epoch + 1) % 5 == 0:\n",
    "        # true SPO\n",
    "        trueloss = pyepo.metric.regret(reg, sp_model, sp_loader_test)\n",
    "        loss_log_truespo.append(trueloss)\n",
    "        # unambiguous SPO \n",
    "        unambloss = pyepo.metric.unambRegret(reg, sp_model, sp_loader_test)\n",
    "        loss_log_unambspo.append(unambloss)\n",
    "        print('Epoch {:3}, Loss: {:8.4f}, True SPO Loss: {:7.4f}%, Unambiguous SPO Loss: {:7.4f}%'. \\\n",
    "              format(epoch+1, loss.item(), trueloss*100, unambloss*100))"
   ]
  },
  {
   "cell_type": "code",
   "execution_count": null,
   "id": "functional-webcam",
   "metadata": {},
   "outputs": [],
   "source": [
    "# draw plot\n",
    "plt.figure(figsize=(16, 8))\n",
    "plt.plot(loss_log, color='c', lw=3)\n",
    "plt.xticks(fontsize=28)\n",
    "plt.yticks(fontsize=28)\n",
    "plt.xlabel('Epoch', fontsize=36)\n",
    "plt.ylabel('Loss', fontsize=36)\n",
    "plt.title('Learning Curve', fontsize=36)\n",
    "plt.show()"
   ]
  },
  {
   "cell_type": "code",
   "execution_count": null,
   "id": "c9cd6e23",
   "metadata": {},
   "outputs": [],
   "source": [
    "# draw plot\n",
    "plt.figure(figsize=(16, 8))\n",
    "plt.plot(range(0, num_epochs, 5), loss_log_truespo, color='b', alpha=0.5, lw=3, label='Regret')\n",
    "plt.plot(range(0, num_epochs, 5), loss_log_unambspo, color='y', alpha=0.5, lw=3, label='Unambiguous Regret')\n",
    "plt.xticks(fontsize=28)\n",
    "plt.yticks(fontsize=28)\n",
    "plt.xlabel('Epoch', fontsize=36)\n",
    "plt.ylabel('Loss', fontsize=36)\n",
    "plt.title('Learning Curve', fontsize=36)\n",
    "plt.legend(fontsize=32)\n",
    "plt.show()"
   ]
  },
  {
   "cell_type": "code",
   "execution_count": null,
   "id": "framed-valentine",
   "metadata": {},
   "outputs": [],
   "source": [
    "# evaluate\n",
    "spoloss = pyepo.metric.regret(reg, sp_model, sp_loader_test)\n",
    "print('Normalized true SPO Loss: {:.2f}%'.format(spoloss * 100))\n",
    "spoloss = pyepo.metric.unambRegret(reg, sp_model, sp_loader_test)\n",
    "print('Normalized unambiguous SPO Loss: {:.2f}%'.format(spoloss * 100))"
   ]
  },
  {
   "cell_type": "code",
   "execution_count": null,
   "id": "arbitrary-lexington",
   "metadata": {
    "scrolled": false
   },
   "outputs": [],
   "source": [
    "# compare solutions\n",
    "reg.eval()\n",
    "# load data\n",
    "for i, data in enumerate(sp_loader_test):\n",
    "    x, c, w, z = data\n",
    "    # cuda\n",
    "    if torch.cuda.is_available():\n",
    "        x, c, w, z = x.cuda(), c.cuda(), w.cuda(), z.cuda()\n",
    "    # predict\n",
    "    cp = reg(x)\n",
    "    # convert to numpy\n",
    "    c = c.to('cpu').detach().numpy()\n",
    "    w = w.to('cpu').detach().numpy()\n",
    "    z = z.to('cpu').detach().numpy()\n",
    "    cp = cp.to('cpu').detach().numpy()\n",
    "    for j in range(min(10, batch_size)):\n",
    "        print('Sample {}:'.format(j))\n",
    "        print('    True cost:', ', '.join(['{:.2f}'.format(cost) for cost in c[j]]))\n",
    "        print('    Pred cost:', ', '.join(['{:.2f}'.format(cost) for cost in cp[j]]))\n",
    "        # solve cost from prediction\n",
    "        sp_model.setObj(cp[j])\n",
    "        wpj, _ = sp_model.solve()\n",
    "        zpj = np.dot(c[j], wpj)\n",
    "        print('    True sol: ' + ', '.join(['{:.0f}'.format(x) for x in w[j]]) + ', True obj: {:.2f}'.format(z[j,0]))\n",
    "        print('    Pred sol: '+  ', '.join(['{:.0f}'.format(x) for x in wpj]) + ', Pred obj: {:.2f}'.format(zpj))\n",
    "        print()\n",
    "    break"
   ]
  },
  {
   "cell_type": "markdown",
   "id": "fifteen-continent",
   "metadata": {},
   "source": [
    "## Black-Box with Regularization"
   ]
  },
  {
   "cell_type": "code",
   "execution_count": null,
   "id": "electrical-preservation",
   "metadata": {},
   "outputs": [],
   "source": [
    "# init model\n",
    "reg = LinearRegression()\n",
    "# cuda\n",
    "if torch.cuda.is_available():\n",
    "    reg = reg.cuda()"
   ]
  },
  {
   "cell_type": "code",
   "execution_count": null,
   "id": "framed-mercy",
   "metadata": {},
   "outputs": [],
   "source": [
    "# set optimizer\n",
    "optimizer = torch.optim.Adam(reg.parameters(), lr=5e-4)"
   ]
  },
  {
   "cell_type": "code",
   "execution_count": null,
   "id": "encouraging-bumper",
   "metadata": {},
   "outputs": [],
   "source": [
    "# set loss\n",
    "bb = pyepo.func.blackboxOpt(sp_model, lambd=10, processes=4)\n",
    "criterion = nn.L1Loss()"
   ]
  },
  {
   "cell_type": "code",
   "execution_count": null,
   "id": "buried-nickname",
   "metadata": {},
   "outputs": [],
   "source": [
    "# train model\n",
    "num_epochs = 300\n",
    "lambd = 10\n",
    "reg.train()\n",
    "loss_log = []\n",
    "loss_log_truespo = []\n",
    "loss_log_unambspo = []\n",
    "for epoch in range(num_epochs):\n",
    "    # load data\n",
    "    for i, data in enumerate(sp_loader_train):\n",
    "        x, c, w, z = data\n",
    "        # cuda\n",
    "        if torch.cuda.is_available():\n",
    "            x, c, w, z = x.cuda(), c.cuda(), w.cuda(), z.cuda()\n",
    "        # linear regression\n",
    "        cp = reg(x)\n",
    "        # black-box optimizer\n",
    "        wp = bb.apply(cp)\n",
    "        # objective value\n",
    "        zp = (wp * c).sum(1).view(-1, 1)\n",
    "        # loss\n",
    "        loss = criterion(zp, z)\n",
    "        # l1 reg\n",
    "        l1_lambda = 1e-3\n",
    "        l1_reg = torch.abs(cp - c).sum(dim=1).mean()\n",
    "        loss += l1_lambda * l1_reg\n",
    "        # backward pass\n",
    "        optimizer.zero_grad()\n",
    "        loss.backward()\n",
    "        optimizer.step()\n",
    "    loss_log.append(loss.item())\n",
    "    if (epoch + 1) % 5 == 0:\n",
    "        # true SPO\n",
    "        trueloss = pyepo.metric.regret(reg, sp_model, sp_loader_test)\n",
    "        loss_log_truespo.append(trueloss)\n",
    "        # unambiguous SPO \n",
    "        unambloss = pyepo.metric.unambRegret(reg, sp_model, sp_loader_test)\n",
    "        loss_log_unambspo.append(unambloss)\n",
    "        print('Epoch {:3}, Loss: {:8.4f}, True SPO Loss: {:7.4f}%, Unambiguous SPO Loss: {:7.4f}%'. \\\n",
    "              format(epoch+1, loss.item(), trueloss*100, unambloss*100))"
   ]
  },
  {
   "cell_type": "code",
   "execution_count": null,
   "id": "given-symposium",
   "metadata": {},
   "outputs": [],
   "source": [
    "# draw plot\n",
    "plt.figure(figsize=(16, 8))\n",
    "plt.plot(loss_log, color='c', lw=3)\n",
    "plt.xticks(fontsize=28)\n",
    "plt.yticks(fontsize=28)\n",
    "plt.xlabel('Epoch', fontsize=36)\n",
    "plt.ylabel('Loss', fontsize=36)\n",
    "plt.title('Learning Curve', fontsize=36)\n",
    "plt.show()"
   ]
  },
  {
   "cell_type": "code",
   "execution_count": null,
   "id": "acf6c3c8",
   "metadata": {},
   "outputs": [],
   "source": [
    "# draw plot\n",
    "plt.figure(figsize=(16, 8))\n",
    "plt.plot(range(0, num_epochs, 5), loss_log_truespo, color='b', alpha=0.5, lw=3, label='Regret')\n",
    "plt.plot(range(0, num_epochs, 5), loss_log_unambspo, color='y', alpha=0.5, lw=3, label='Unambiguous Regret')\n",
    "plt.xticks(fontsize=28)\n",
    "plt.yticks(fontsize=28)\n",
    "plt.xlabel('Epoch', fontsize=36)\n",
    "plt.ylabel('Loss', fontsize=36)\n",
    "plt.title('Learning Curve', fontsize=36)\n",
    "plt.legend(fontsize=32)\n",
    "plt.show()"
   ]
  },
  {
   "cell_type": "code",
   "execution_count": null,
   "id": "protective-proxy",
   "metadata": {},
   "outputs": [],
   "source": [
    "# evaluate\n",
    "spoloss = pyepo.metric.regret(reg, sp_model, sp_loader_test)\n",
    "print('Normalized true SPO Loss: {:.2f}%'.format(spoloss * 100))\n",
    "spoloss = pyepo.metric.unambRegret(reg, sp_model, sp_loader_test)\n",
    "print('Normalized unambiguous SPO Loss: {:.2f}%'.format(spoloss * 100))"
   ]
  },
  {
   "cell_type": "code",
   "execution_count": null,
   "id": "attempted-egypt",
   "metadata": {
    "scrolled": false
   },
   "outputs": [],
   "source": [
    "# compare solutions\n",
    "reg.eval()\n",
    "# load data\n",
    "for i, data in enumerate(sp_loader_test):\n",
    "    x, c, w, z = data\n",
    "    # cuda\n",
    "    if torch.cuda.is_available():\n",
    "        x, c, w, z = x.cuda(), c.cuda(), w.cuda(), z.cuda()\n",
    "    # predict\n",
    "    cp = reg(x)\n",
    "    # convert to numpy\n",
    "    c = c.to('cpu').detach().numpy()\n",
    "    w = w.to('cpu').detach().numpy()\n",
    "    z = z.to('cpu').detach().numpy()\n",
    "    cp = cp.to('cpu').detach().numpy()\n",
    "    for j in range(min(10, batch_size)):\n",
    "        print('Sample {}:'.format(j))\n",
    "        print('    True cost:', ', '.join(['{:.2f}'.format(cost) for cost in c[j]]))\n",
    "        print('    Pred cost:', ', '.join(['{:.2f}'.format(cost) for cost in cp[j]]))\n",
    "        # solve cost from prediction\n",
    "        sp_model.setObj(cp[j])\n",
    "        wpj, _ = sp_model.solve()\n",
    "        zpj = np.dot(c[j], wpj)\n",
    "        print('    True sol: ' + ', '.join(['{:.0f}'.format(x) for x in w[j]]) + ', True obj: {:.2f}'.format(z[j,0]))\n",
    "        print('    Pred sol: '+  ', '.join(['{:.0f}'.format(x) for x in wpj]) + ', Pred obj: {:.2f}'.format(zpj))\n",
    "        print()\n",
    "    break"
   ]
  },
  {
   "cell_type": "code",
   "execution_count": null,
   "id": "capital-ferry",
   "metadata": {},
   "outputs": [],
   "source": []
  }
 ],
 "metadata": {
  "kernelspec": {
   "display_name": "Python 3 (ipykernel)",
   "language": "python",
   "name": "python3"
  },
  "language_info": {
   "codemirror_mode": {
    "name": "ipython",
    "version": 3
   },
   "file_extension": ".py",
   "mimetype": "text/x-python",
   "name": "python",
   "nbconvert_exporter": "python",
   "pygments_lexer": "ipython3",
   "version": "3.9.7"
  }
 },
 "nbformat": 4,
 "nbformat_minor": 5
}
