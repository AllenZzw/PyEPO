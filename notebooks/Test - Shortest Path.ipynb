{
 "cells": [
  {
   "cell_type": "code",
   "execution_count": 1,
   "id": "4d0ee412",
   "metadata": {},
   "outputs": [],
   "source": [
    "# set work dir\n",
    "import os\n",
    "os.chdir(\"../\")"
   ]
  },
  {
   "cell_type": "code",
   "execution_count": 2,
   "id": "accredited-pearl",
   "metadata": {},
   "outputs": [
    {
     "name": "stdout",
     "output_type": "stream",
     "text": [
      "Auto-Sklearn cannot be imported.\n"
     ]
    },
    {
     "data": {
      "text/plain": [
       "<torch._C.Generator at 0x29626a1c9b0>"
      ]
     },
     "execution_count": 2,
     "metadata": {},
     "output_type": "execute_result"
    }
   ],
   "source": [
    "import time\n",
    "import pyepo\n",
    "import torch\n",
    "from matplotlib import pyplot as plt\n",
    "import numpy as np\n",
    "from tqdm import tqdm\n",
    "torch.manual_seed(135)"
   ]
  },
  {
   "cell_type": "markdown",
   "id": "88a6984c",
   "metadata": {},
   "source": [
    "## Init Data "
   ]
  },
  {
   "cell_type": "code",
   "execution_count": 3,
   "id": "2e78a07d",
   "metadata": {},
   "outputs": [],
   "source": [
    "# generate data for grid network (features and costs)\n",
    "grid = (5,5) # grid graph\n",
    "n = 1000 # number of data\n",
    "p = 5 # size of feature\n",
    "deg = 4 # polynomial degree\n",
    "x, c = pyepo.data.shortestpath.genData(n+1000, p, grid, deg=deg)"
   ]
  },
  {
   "cell_type": "markdown",
   "id": "naval-blade",
   "metadata": {},
   "source": [
    "## Optimization Model "
   ]
  },
  {
   "cell_type": "code",
   "execution_count": 4,
   "id": "declared-brunswick",
   "metadata": {},
   "outputs": [
    {
     "name": "stdout",
     "output_type": "stream",
     "text": [
      "Set parameter Username\n",
      "Academic license - for non-commercial use only - expires 2022-03-06\n"
     ]
    }
   ],
   "source": [
    "# model for shortest path\n",
    "sp_model = pyepo.model.grb.shortestPathModel(grid)"
   ]
  },
  {
   "cell_type": "code",
   "execution_count": 5,
   "id": "precious-employee",
   "metadata": {},
   "outputs": [
    {
     "name": "stdout",
     "output_type": "stream",
     "text": [
      "Obj: 8.0\n",
      "(0, 1)\n",
      "(1, 2)\n",
      "(2, 3)\n",
      "(3, 4)\n",
      "(4, 9)\n",
      "(9, 14)\n",
      "(14, 19)\n",
      "(19, 24)\n"
     ]
    }
   ],
   "source": [
    "# solve\n",
    "sp_model.setObj([1 for i in range(40)])\n",
    "sol, obj = sp_model.solve()\n",
    "print('Obj: {}'.format(obj))\n",
    "for i, e in enumerate(sp_model.arcs):\n",
    "    if sol[i] > 1e-3:\n",
    "        print(e)"
   ]
  },
  {
   "cell_type": "markdown",
   "id": "directed-consultancy",
   "metadata": {},
   "source": [
    "## Data Loader"
   ]
  },
  {
   "cell_type": "code",
   "execution_count": 6,
   "id": "little-diversity",
   "metadata": {},
   "outputs": [],
   "source": [
    "from sklearn.model_selection import train_test_split\n",
    "from torch.utils.data import DataLoader"
   ]
  },
  {
   "cell_type": "code",
   "execution_count": 7,
   "id": "regulated-freeware",
   "metadata": {},
   "outputs": [],
   "source": [
    "# data split\n",
    "x_train, x_test, c_train, c_test = train_test_split(x, c, test_size=1000, random_state=246)"
   ]
  },
  {
   "cell_type": "code",
   "execution_count": 8,
   "id": "human-praise",
   "metadata": {},
   "outputs": [
    {
     "name": "stdout",
     "output_type": "stream",
     "text": [
      "Optimizing for optDataset...\n"
     ]
    },
    {
     "name": "stderr",
     "output_type": "stream",
     "text": [
      "100%|█████████████████████████████████████████████████████████████████████████████████████████████| 1000/1000 [00:00<00:00, 1086.71it/s]\n"
     ]
    }
   ],
   "source": [
    "# get training data set\n",
    "sp_dataset_train = pyepo.data.dataset.optDataset(sp_model, x_train, c_train)"
   ]
  },
  {
   "cell_type": "code",
   "execution_count": 9,
   "id": "immune-interpretation",
   "metadata": {},
   "outputs": [
    {
     "name": "stdout",
     "output_type": "stream",
     "text": [
      "Optimizing for optDataset...\n"
     ]
    },
    {
     "name": "stderr",
     "output_type": "stream",
     "text": [
      "100%|█████████████████████████████████████████████████████████████████████████████████████████████| 1000/1000 [00:00<00:00, 1064.72it/s]\n"
     ]
    }
   ],
   "source": [
    "# get test data set\n",
    "sp_dataset_test = pyepo.data.dataset.optDataset(sp_model, x_test, c_test)"
   ]
  },
  {
   "cell_type": "code",
   "execution_count": 10,
   "id": "incident-kinase",
   "metadata": {},
   "outputs": [],
   "source": [
    "# get data loader\n",
    "batch_size = 32\n",
    "sp_loader_train = DataLoader(sp_dataset_train, batch_size=batch_size, shuffle=True)\n",
    "sp_loader_test = DataLoader(sp_dataset_test, batch_size=batch_size, shuffle=False)"
   ]
  },
  {
   "cell_type": "code",
   "execution_count": 11,
   "id": "intellectual-softball",
   "metadata": {},
   "outputs": [],
   "source": [
    "for i, data in enumerate(sp_loader_train):\n",
    "    x, c, w, z = data\n",
    "    break"
   ]
  },
  {
   "cell_type": "code",
   "execution_count": 12,
   "id": "instant-polymer",
   "metadata": {},
   "outputs": [
    {
     "data": {
      "text/plain": [
       "torch.Size([32, 5])"
      ]
     },
     "execution_count": 12,
     "metadata": {},
     "output_type": "execute_result"
    }
   ],
   "source": [
    "x.shape"
   ]
  },
  {
   "cell_type": "code",
   "execution_count": 13,
   "id": "known-framing",
   "metadata": {},
   "outputs": [
    {
     "data": {
      "text/plain": [
       "torch.Size([32, 40])"
      ]
     },
     "execution_count": 13,
     "metadata": {},
     "output_type": "execute_result"
    }
   ],
   "source": [
    "c.shape"
   ]
  },
  {
   "cell_type": "code",
   "execution_count": 14,
   "id": "partial-algeria",
   "metadata": {},
   "outputs": [
    {
     "data": {
      "text/plain": [
       "torch.Size([32, 40])"
      ]
     },
     "execution_count": 14,
     "metadata": {},
     "output_type": "execute_result"
    }
   ],
   "source": [
    "w.shape"
   ]
  },
  {
   "cell_type": "code",
   "execution_count": 15,
   "id": "known-contemporary",
   "metadata": {},
   "outputs": [
    {
     "data": {
      "text/plain": [
       "torch.Size([32, 1])"
      ]
     },
     "execution_count": 15,
     "metadata": {},
     "output_type": "execute_result"
    }
   ],
   "source": [
    "z.shape"
   ]
  },
  {
   "cell_type": "markdown",
   "id": "b44869b8",
   "metadata": {},
   "source": [
    "## Linear Regression from Scikit-Learn "
   ]
  },
  {
   "cell_type": "code",
   "execution_count": 16,
   "id": "68f528a7",
   "metadata": {},
   "outputs": [],
   "source": [
    "from sklearn.linear_model import LinearRegression"
   ]
  },
  {
   "cell_type": "code",
   "execution_count": 17,
   "id": "82f8168a",
   "metadata": {},
   "outputs": [],
   "source": [
    "# prediction model\n",
    "reg = LinearRegression()"
   ]
  },
  {
   "cell_type": "markdown",
   "id": "9069a388",
   "metadata": {},
   "source": [
    "## Two-Stage"
   ]
  },
  {
   "cell_type": "code",
   "execution_count": 18,
   "id": "7c951ea3",
   "metadata": {},
   "outputs": [],
   "source": [
    "# build model\n",
    "twostage_model = pyepo.twostage.sklearnPred(reg)"
   ]
  },
  {
   "cell_type": "code",
   "execution_count": 19,
   "id": "e19951f9",
   "metadata": {},
   "outputs": [
    {
     "data": {
      "text/plain": [
       "MultiOutputRegressor(estimator=LinearRegression())"
      ]
     },
     "execution_count": 19,
     "metadata": {},
     "output_type": "execute_result"
    }
   ],
   "source": [
    "# training\n",
    "twostage_model.fit(sp_dataset_train.feats, sp_dataset_train.costs)"
   ]
  },
  {
   "cell_type": "code",
   "execution_count": 20,
   "id": "84313521",
   "metadata": {},
   "outputs": [],
   "source": [
    "# prediction\n",
    "c_test_pred = twostage_model.predict(sp_dataset_test.feats)"
   ]
  },
  {
   "cell_type": "code",
   "execution_count": 21,
   "id": "85fa335c",
   "metadata": {},
   "outputs": [
    {
     "name": "stderr",
     "output_type": "stream",
     "text": [
      "100%|██████████████████████████████████████████████████████████████████████████████████████████████| 1000/1000 [00:03<00:00, 254.41it/s]\n"
     ]
    },
    {
     "name": "stdout",
     "output_type": "stream",
     "text": [
      "Normalized true SPO Loss: 1.61%\n",
      "Normalized unambiguous SPO Loss: 1.61%\n"
     ]
    }
   ],
   "source": [
    "# evaluate\n",
    "truespo = 0\n",
    "unambspo = 0\n",
    "for i in tqdm(range(1000)):\n",
    "    c_pred_i = c_test_pred[i]\n",
    "    c_true_i = sp_dataset_test.costs[i]\n",
    "    z_true_i = sp_dataset_test.objs[i,0]\n",
    "    truespo += pyepo.eval.calTrueSPO(sp_model, c_pred_i, c_true_i, z_true_i)\n",
    "    unambspo += pyepo.eval.calUnambSPO(sp_model, c_pred_i, c_true_i, z_true_i)\n",
    "time.sleep(1)\n",
    "print('Normalized true SPO Loss: {:.2f}%'.format(truespo / abs(sp_dataset_test.objs.sum()) * 100))\n",
    "print('Normalized unambiguous SPO Loss: {:.2f}%'.format(unambspo / abs(sp_dataset_test.objs.sum()) * 100))"
   ]
  },
  {
   "cell_type": "code",
   "execution_count": 22,
   "id": "3b3b5cda",
   "metadata": {
    "scrolled": false
   },
   "outputs": [
    {
     "name": "stdout",
     "output_type": "stream",
     "text": [
      "Sample 0:\n",
      "    True cost: 0.24, 0.18, 0.55, 0.03, 0.81, 0.09, 0.06, 0.21, 0.10, 0.34, 0.09, 0.17, 0.04, 0.21, 0.07, 0.21, 0.02, 0.25, 0.15, 0.09, 0.17, 0.25, 0.40, 0.14, 0.70, 0.06, 0.07, 0.07, 0.37, 0.41, 0.30, 0.04, 0.30, 0.18, 0.55, 0.41, 0.06, 0.41, 0.12, 0.25\n",
      "    Pred cost: 0.28, 0.16, 0.55, -0.67, 0.99, -0.21, -0.41, 0.30, -0.19, 0.41, -0.21, 0.04, -0.57, 0.30, -0.33, 0.30, -0.84, 0.20, 0.05, -0.21, 0.04, 0.20, 0.57, -0.09, 0.79, -0.41, -0.33, -0.33, 0.46, 0.55, 0.33, -0.57, 0.33, 0.16, 0.55, 0.55, -0.41, 0.55, -0.05, 0.20\n",
      "    True sol: 1, 0, 0, 0, 0, 1, 0, 0, 0, 0, 1, 1, 0, 0, 0, 0, 1, 0, 0, 0, 0, 1, 0, 0, 0, 0, 1, 0, 0, 0, 0, 0, 0, 0, 0, 1, 0, 0, 0, 0, True obj: 1.34\n",
      "    Pred sol: 1, 0, 0, 0, 0, 1, 0, 0, 0, 0, 1, 1, 0, 0, 0, 0, 1, 0, 0, 0, 0, 0, 0, 0, 0, 1, 0, 0, 0, 0, 0, 0, 0, 0, 1, 0, 0, 0, 0, 1, Pred obj: 1.47\n",
      "\n",
      "Sample 1:\n",
      "    True cost: 0.01, 0.66, 0.55, 0.13, 0.09, 0.02, 0.08, 0.37, 0.07, 0.33, 0.02, 0.04, 0.06, 0.37, 0.05, 0.37, 0.41, 0.85, 0.91, 0.02, 0.04, 0.85, 0.17, 0.10, 0.19, 0.08, 0.05, 0.05, 0.59, 0.41, 0.49, 0.06, 0.49, 0.66, 0.55, 0.41, 0.08, 0.41, 1.47, 0.85\n",
      "    Pred cost: -1.06, 0.86, 0.55, -0.01, -0.18, -0.74, -0.21, 0.62, -0.30, 0.42, -0.74, -0.55, -0.32, 0.62, -0.42, 0.62, 0.51, 0.86, 1.12, -0.74, -0.55, 0.86, 0.17, -0.23, 0.11, -0.21, -0.42, -0.42, 0.75, 0.53, 0.64, -0.32, 0.64, 0.86, 0.55, 0.53, -0.21, 0.53, 1.33, 0.86\n",
      "    True sol: 1, 0, 0, 0, 0, 1, 0, 0, 0, 0, 0, 0, 0, 0, 1, 0, 0, 0, 0, 1, 1, 0, 0, 0, 0, 1, 0, 0, 0, 0, 1, 0, 0, 0, 0, 1, 0, 0, 0, 0, True obj: 1.12\n",
      "    Pred sol: 1, 0, 0, 0, 0, 1, 0, 0, 0, 0, 0, 0, 0, 0, 1, 0, 0, 0, 0, 1, 1, 0, 0, 0, 0, 1, 0, 0, 0, 0, 1, 0, 0, 0, 0, 1, 0, 0, 0, 0, Pred obj: 1.12\n",
      "\n",
      "Sample 2:\n",
      "    True cost: 0.34, 1.61, 0.55, 0.91, 0.69, 0.69, 0.37, 1.20, 0.47, 1.70, 0.69, 0.16, 0.65, 1.20, 0.97, 1.20, 0.51, 1.04, 0.70, 0.69, 0.16, 1.04, 1.27, 0.26, 0.97, 0.37, 0.97, 0.97, 0.34, 0.91, 0.75, 0.65, 0.75, 1.61, 0.55, 0.91, 0.37, 0.91, 0.98, 1.04\n",
      "    Pred cost: 0.46, 1.58, 0.55, 1.22, 0.86, 1.04, 0.54, 1.48, 0.65, 1.50, 1.04, 0.01, 1.08, 1.48, 1.18, 1.48, 0.71, 1.02, 0.94, 1.04, 0.01, 1.02, 1.41, 0.20, 0.98, 0.54, 1.18, 1.18, 0.43, 1.03, 0.90, 1.08, 0.90, 1.58, 0.55, 1.03, 0.54, 1.03, 1.06, 1.02\n",
      "    True sol: 1, 0, 0, 0, 0, 1, 0, 0, 0, 0, 1, 1, 0, 0, 0, 0, 1, 0, 0, 0, 0, 0, 0, 0, 0, 1, 0, 0, 0, 0, 0, 0, 0, 0, 1, 0, 0, 0, 0, 1, True obj: 4.35\n",
      "    Pred sol: 1, 0, 0, 0, 0, 1, 0, 0, 0, 0, 1, 1, 0, 0, 0, 0, 1, 0, 0, 0, 0, 0, 0, 0, 0, 1, 0, 0, 0, 0, 0, 0, 0, 0, 1, 0, 0, 0, 0, 1, Pred obj: 4.35\n",
      "\n",
      "Sample 3:\n",
      "    True cost: 0.35, 1.18, 0.55, 1.14, 0.37, 0.85, 1.70, 1.72, 0.51, 0.56, 0.85, 0.82, 1.66, 1.72, 0.54, 1.72, 2.19, 1.21, 3.12, 0.85, 0.82, 1.21, 0.88, 0.52, 0.21, 1.70, 0.54, 0.54, 1.68, 0.53, 1.76, 1.66, 1.76, 1.18, 0.55, 0.53, 1.70, 0.53, 2.26, 1.21\n",
      "    Pred cost: 0.50, 1.31, 0.55, 1.43, 0.46, 1.23, 1.67, 1.79, 0.77, 0.73, 1.23, 0.96, 1.93, 1.79, 0.80, 1.79, 1.84, 1.12, 2.22, 1.23, 0.96, 1.12, 1.14, 0.59, 0.14, 1.67, 0.80, 0.80, 1.52, 0.69, 1.57, 1.93, 1.57, 1.31, 0.55, 0.69, 1.67, 0.69, 1.71, 1.12\n",
      "    True sol: 0, 0, 0, 0, 1, 0, 0, 0, 0, 1, 0, 0, 0, 0, 1, 0, 0, 0, 0, 1, 0, 0, 0, 0, 1, 0, 0, 0, 0, 1, 0, 0, 0, 0, 1, 0, 0, 0, 0, 1, True obj: 4.82\n",
      "    Pred sol: 0, 0, 0, 0, 1, 0, 0, 0, 0, 1, 0, 0, 0, 0, 1, 0, 0, 0, 0, 1, 0, 0, 0, 0, 1, 0, 0, 0, 0, 1, 0, 0, 0, 0, 1, 0, 0, 0, 0, 1, Pred obj: 4.82\n",
      "\n",
      "Sample 4:\n",
      "    True cost: 2.24, 1.13, 0.55, 1.73, 1.50, 2.67, 1.74, 1.74, 1.43, 1.18, 2.67, 1.43, 2.57, 1.74, 1.81, 1.74, 1.07, 0.70, 1.08, 2.67, 1.43, 0.70, 1.82, 0.91, 0.96, 1.74, 1.81, 1.81, 0.87, 0.91, 1.13, 2.57, 1.13, 1.13, 0.55, 0.91, 1.74, 0.91, 0.66, 0.70\n",
      "    Pred cost: 1.82, 1.32, 0.55, 1.80, 1.38, 2.15, 1.66, 1.80, 1.47, 1.22, 2.15, 1.36, 2.31, 1.80, 1.68, 1.80, 1.29, 0.78, 1.28, 2.15, 1.36, 0.78, 1.67, 0.94, 0.96, 1.66, 1.68, 1.68, 1.02, 1.04, 1.19, 2.31, 1.19, 1.32, 0.55, 1.04, 1.66, 1.04, 0.84, 0.78\n",
      "    True sol: 0, 0, 0, 0, 1, 0, 0, 0, 0, 0, 0, 0, 0, 1, 0, 0, 0, 0, 1, 0, 0, 0, 0, 1, 0, 0, 0, 0, 1, 1, 0, 0, 0, 0, 1, 0, 0, 0, 0, 1, True obj: 8.25\n",
      "    Pred sol: 0, 0, 0, 0, 1, 0, 0, 0, 0, 1, 0, 0, 0, 0, 1, 0, 0, 0, 0, 0, 0, 0, 0, 1, 0, 0, 0, 0, 1, 1, 0, 0, 0, 0, 1, 0, 0, 0, 0, 1, Pred obj: 8.42\n",
      "\n",
      "Sample 5:\n",
      "    True cost: 0.16, 0.59, 0.55, 0.61, 0.15, 0.55, 1.33, 0.52, 0.18, 0.60, 0.55, 0.50, 0.54, 0.52, 0.62, 0.52, 1.44, 1.42, 1.26, 0.55, 0.50, 1.42, 0.53, 0.57, 0.18, 1.33, 0.62, 0.62, 0.47, 0.17, 1.28, 0.54, 1.28, 0.59, 0.55, 0.17, 1.33, 0.17, 1.39, 1.42\n",
      "    Pred cost: 0.08, 0.81, 0.55, 0.96, -0.01, 0.93, 1.48, 0.82, 0.19, 0.76, 0.93, 0.65, 0.96, 0.82, 0.91, 0.82, 1.47, 1.24, 1.38, 0.93, 0.65, 1.24, 0.79, 0.64, 0.06, 1.48, 0.91, 0.91, 0.60, 0.09, 1.33, 0.96, 1.33, 0.81, 0.55, 0.09, 1.48, 0.09, 1.31, 1.24\n",
      "    True sol: 1, 0, 0, 0, 0, 1, 0, 0, 0, 0, 1, 0, 0, 0, 0, 1, 0, 0, 0, 0, 0, 0, 0, 0, 1, 0, 0, 0, 0, 1, 1, 0, 0, 0, 0, 1, 0, 0, 0, 0, True obj: 3.59\n",
      "    Pred sol: 0, 0, 0, 0, 1, 0, 0, 0, 0, 1, 1, 0, 0, 0, 0, 1, 0, 0, 0, 0, 0, 0, 0, 0, 1, 0, 0, 0, 0, 1, 1, 0, 0, 0, 0, 1, 0, 0, 0, 0, Pred obj: 3.62\n",
      "\n",
      "Sample 6:\n",
      "    True cost: 1.20, 0.67, 0.55, 1.14, 0.71, 2.19, 2.48, 1.00, 0.55, 0.97, 2.19, 1.38, 1.62, 1.00, 1.58, 1.00, 1.32, 1.13, 1.16, 2.19, 1.38, 1.13, 1.40, 0.95, 0.46, 2.48, 1.58, 1.58, 0.57, 0.29, 1.61, 1.62, 1.61, 0.67, 0.55, 0.29, 2.48, 0.29, 0.79, 1.13\n",
      "    Pred cost: 1.29, 0.94, 0.55, 1.45, 0.82, 1.99, 2.02, 1.31, 0.81, 1.08, 1.99, 1.34, 1.85, 1.31, 1.59, 1.31, 1.43, 1.09, 1.33, 1.99, 1.34, 1.09, 1.46, 0.97, 0.51, 2.02, 1.59, 1.59, 0.72, 0.36, 1.49, 1.85, 1.49, 0.94, 0.55, 0.36, 2.02, 0.36, 0.94, 1.09\n",
      "    True sol: 0, 0, 0, 0, 1, 0, 0, 0, 0, 0, 0, 0, 0, 1, 0, 0, 0, 0, 1, 0, 0, 0, 0, 1, 0, 0, 0, 0, 1, 1, 0, 0, 0, 0, 1, 0, 0, 0, 0, 1, True obj: 6.35\n",
      "    Pred sol: 0, 0, 0, 0, 1, 0, 0, 0, 0, 0, 0, 0, 0, 1, 0, 0, 0, 0, 1, 0, 0, 0, 0, 1, 0, 0, 0, 0, 1, 1, 0, 0, 0, 0, 1, 0, 0, 0, 0, 1, Pred obj: 6.35\n",
      "\n",
      "Sample 7:\n",
      "    True cost: 0.18, 0.13, 0.55, 0.40, 0.05, 0.05, 0.07, 0.01, 0.89, 0.17, 0.05, 0.23, 0.04, 0.01, 0.47, 0.01, 0.50, 0.22, 0.01, 0.05, 0.23, 0.22, 0.01, 1.23, 0.44, 0.07, 0.47, 0.47, 0.05, 0.37, 0.02, 0.04, 0.02, 0.13, 0.55, 0.37, 0.07, 0.37, 0.18, 0.22\n",
      "    Pred cost: 0.17, -0.01, 0.55, 0.64, -0.46, -0.38, -0.31, -1.15, 1.07, 0.07, -0.38, 0.24, -0.50, -1.15, 0.70, -1.15, 0.73, 0.13, -1.00, -0.38, 0.24, 0.13, -1.00, 1.17, 0.48, -0.31, 0.70, 0.70, -0.45, 0.42, -0.90, -0.50, -0.90, -0.01, 0.55, 0.42, -0.31, 0.42, 0.09, 0.13\n",
      "    True sol: 0, 0, 0, 0, 1, 0, 0, 0, 0, 0, 0, 0, 0, 1, 0, 0, 0, 0, 1, 1, 1, 0, 0, 0, 0, 1, 0, 0, 0, 0, 1, 0, 0, 0, 0, 1, 0, 0, 0, 0, True obj: 0.82\n",
      "    Pred sol: 0, 0, 0, 0, 1, 0, 0, 0, 0, 0, 0, 0, 0, 1, 0, 0, 0, 0, 1, 1, 1, 0, 0, 0, 0, 1, 0, 0, 0, 0, 1, 0, 0, 0, 0, 1, 0, 0, 0, 0, Pred obj: 0.82\n",
      "\n",
      "Sample 8:\n",
      "    True cost: 0.32, 1.37, 0.55, 0.96, 0.50, 0.55, 0.32, 0.82, 0.59, 1.38, 0.55, 0.17, 0.55, 0.82, 0.97, 0.82, 0.60, 0.90, 0.50, 0.55, 0.17, 0.90, 0.82, 0.35, 0.88, 0.32, 0.97, 0.97, 0.28, 0.88, 0.51, 0.55, 0.51, 1.37, 0.55, 0.88, 0.32, 0.88, 0.89, 0.90\n",
      "    Pred cost: 0.43, 1.44, 0.55, 1.27, 0.65, 0.89, 0.45, 1.17, 0.80, 1.34, 0.89, 0.04, 0.96, 1.17, 1.19, 1.17, 0.82, 0.92, 0.71, 0.89, 0.04, 0.92, 1.08, 0.37, 0.92, 0.45, 1.19, 1.19, 0.32, 1.00, 0.65, 0.96, 0.65, 1.44, 0.55, 1.00, 0.45, 1.00, 1.00, 0.92\n",
      "    True sol: 1, 0, 0, 0, 0, 1, 0, 0, 0, 0, 1, 1, 0, 0, 0, 0, 1, 0, 0, 0, 0, 0, 0, 0, 0, 1, 0, 0, 0, 0, 1, 0, 0, 0, 0, 1, 0, 0, 0, 0, True obj: 3.90\n",
      "    Pred sol: 1, 0, 0, 0, 0, 1, 0, 0, 0, 0, 1, 1, 0, 0, 0, 0, 1, 0, 0, 0, 0, 0, 0, 0, 0, 1, 0, 0, 0, 0, 0, 0, 0, 0, 1, 0, 0, 0, 0, 1, Pred obj: 3.97\n",
      "\n",
      "Sample 9:\n",
      "    True cost: 0.32, 0.95, 0.55, 1.09, 0.26, 0.48, 0.44, 0.46, 0.78, 0.86, 0.48, 0.29, 0.54, 0.46, 0.99, 0.46, 1.01, 0.79, 0.41, 0.48, 0.29, 0.79, 0.41, 0.64, 0.60, 0.44, 0.99, 0.99, 0.27, 0.67, 0.37, 0.54, 0.37, 0.95, 0.55, 0.67, 0.44, 0.67, 0.87, 0.79\n",
      "    Pred cost: 0.45, 1.15, 0.55, 1.38, 0.29, 0.80, 0.64, 0.74, 1.00, 1.00, 0.80, 0.32, 0.96, 0.74, 1.22, 0.74, 1.20, 0.83, 0.59, 0.80, 0.32, 0.83, 0.60, 0.72, 0.67, 0.64, 1.22, 1.22, 0.30, 0.81, 0.45, 0.96, 0.45, 1.15, 0.55, 0.81, 0.64, 0.81, 0.98, 0.83\n",
      "    True sol: 0, 0, 0, 0, 1, 0, 0, 0, 0, 0, 0, 0, 0, 1, 0, 0, 0, 0, 1, 1, 1, 0, 0, 0, 0, 1, 0, 0, 0, 0, 1, 0, 0, 0, 0, 1, 0, 0, 0, 0, True obj: 3.38\n",
      "    Pred sol: 0, 0, 0, 0, 1, 0, 0, 0, 0, 0, 0, 0, 0, 1, 0, 0, 0, 0, 1, 1, 1, 0, 0, 0, 0, 1, 0, 0, 0, 0, 1, 0, 0, 0, 0, 1, 0, 0, 0, 0, Pred obj: 3.38\n",
      "\n"
     ]
    }
   ],
   "source": [
    "# compare solutions\n",
    "for i, data in enumerate(sp_loader_test):\n",
    "    # load data\n",
    "    x, c, w, z = data\n",
    "    # cuda\n",
    "    if torch.cuda.is_available():\n",
    "        x, c, w, z = x.cuda(), c.cuda(), w.cuda(), z.cuda()\n",
    "    # convert to numpy\n",
    "    x = x.to('cpu').detach().numpy()\n",
    "    c = c.to('cpu').detach().numpy()\n",
    "    w = w.to('cpu').detach().numpy()\n",
    "    z = z.to('cpu').detach().numpy()\n",
    "    # predict\n",
    "    cp = twostage_model.predict(x)\n",
    "    for j in range(min(10, batch_size)):\n",
    "        print('Sample {}:'.format(j))\n",
    "        print('    True cost:', ', '.join(['{:.2f}'.format(cost) for cost in c[j]]))\n",
    "        print('    Pred cost:', ', '.join(['{:.2f}'.format(cost) for cost in cp[j]]))\n",
    "        # solve cost from prediction\n",
    "        sp_model.setObj(cp[j])\n",
    "        wpj, _ = sp_model.solve()\n",
    "        zpj = np.dot(c[j], wpj)\n",
    "        print('    True sol: ' + ', '.join(['{:.0f}'.format(x) for x in w[j]]) + ', True obj: {:.2f}'.format(z[j,0]))\n",
    "        print('    Pred sol: '+  ', '.join(['{:.0f}'.format(x) for x in wpj]) + ', Pred obj: {:.2f}'.format(zpj))\n",
    "        print()\n",
    "    break"
   ]
  },
  {
   "cell_type": "markdown",
   "id": "technological-queue",
   "metadata": {},
   "source": [
    "## Linear Regression from PyTorch"
   ]
  },
  {
   "cell_type": "code",
   "execution_count": 23,
   "id": "shaped-wonder",
   "metadata": {},
   "outputs": [],
   "source": [
    "from torch import nn"
   ]
  },
  {
   "cell_type": "code",
   "execution_count": 24,
   "id": "fresh-adolescent",
   "metadata": {},
   "outputs": [],
   "source": [
    "# build linear model\n",
    "class LinearRegression(nn.Module):\n",
    "    \n",
    "    def __init__(self):\n",
    "        super(LinearRegression, self).__init__()\n",
    "        self.linear = nn.Linear(p, (grid[0] - 1) * grid[1] + (grid[1] - 1) * grid[0])\n",
    "    \n",
    "    def forward(self, x):\n",
    "        out = self.linear(x)\n",
    "        return out"
   ]
  },
  {
   "cell_type": "markdown",
   "id": "accessible-clerk",
   "metadata": {},
   "source": [
    "## SPO+"
   ]
  },
  {
   "cell_type": "code",
   "execution_count": 25,
   "id": "interior-secondary",
   "metadata": {},
   "outputs": [],
   "source": [
    "# init model\n",
    "reg = LinearRegression()\n",
    "# cuda\n",
    "if torch.cuda.is_available():\n",
    "    reg = reg.cuda()"
   ]
  },
  {
   "cell_type": "code",
   "execution_count": 26,
   "id": "asian-screening",
   "metadata": {},
   "outputs": [],
   "source": [
    "# set optimizer\n",
    "optimizer = torch.optim.Adam(reg.parameters(), lr=1e-3)"
   ]
  },
  {
   "cell_type": "code",
   "execution_count": 27,
   "id": "directed-composition",
   "metadata": {},
   "outputs": [
    {
     "name": "stdout",
     "output_type": "stream",
     "text": [
      "Num of cores: 4\n"
     ]
    }
   ],
   "source": [
    "# init SPO+ loss\n",
    "criterion = pyepo.func.SPOPlus(sp_model, processes=4)"
   ]
  },
  {
   "cell_type": "code",
   "execution_count": 28,
   "id": "framed-classification",
   "metadata": {
    "scrolled": false
   },
   "outputs": [
    {
     "name": "stdout",
     "output_type": "stream",
     "text": [
      "Epoch   5, Loss:   2.9138, True SPO Loss: 29.4831%, Unambiguous SPO Loss: 29.4831%\n",
      "Epoch  10, Loss:   3.9828, True SPO Loss: 21.1610%, Unambiguous SPO Loss: 21.1611%\n",
      "Epoch  15, Loss:   2.8431, True SPO Loss: 15.4577%, Unambiguous SPO Loss: 15.4577%\n",
      "Epoch  20, Loss:   2.8117, True SPO Loss:  9.1757%, Unambiguous SPO Loss:  9.1757%\n",
      "Epoch  25, Loss:   0.5751, True SPO Loss:  6.7003%, Unambiguous SPO Loss:  6.7003%\n",
      "Epoch  30, Loss:   1.3867, True SPO Loss:  4.2181%, Unambiguous SPO Loss:  4.2181%\n",
      "Epoch  35, Loss:   1.4987, True SPO Loss:  3.6054%, Unambiguous SPO Loss:  3.6054%\n",
      "Epoch  40, Loss:   1.3566, True SPO Loss:  2.9139%, Unambiguous SPO Loss:  2.9139%\n",
      "Epoch  45, Loss:   0.3862, True SPO Loss:  2.4364%, Unambiguous SPO Loss:  2.4364%\n",
      "Epoch  50, Loss:   0.4591, True SPO Loss:  2.0627%, Unambiguous SPO Loss:  2.0627%\n",
      "Epoch  55, Loss:   0.0839, True SPO Loss:  1.6641%, Unambiguous SPO Loss:  1.6641%\n",
      "Epoch  60, Loss:   0.4849, True SPO Loss:  1.4177%, Unambiguous SPO Loss:  1.4177%\n",
      "Epoch  65, Loss:   0.4309, True SPO Loss:  1.2108%, Unambiguous SPO Loss:  1.2108%\n",
      "Epoch  70, Loss:   0.1920, True SPO Loss:  1.1311%, Unambiguous SPO Loss:  1.1311%\n",
      "Epoch  75, Loss:   0.9761, True SPO Loss:  1.0632%, Unambiguous SPO Loss:  1.0632%\n",
      "Epoch  80, Loss:   0.0380, True SPO Loss:  0.9967%, Unambiguous SPO Loss:  0.9967%\n",
      "Epoch  85, Loss:   0.1454, True SPO Loss:  0.9122%, Unambiguous SPO Loss:  0.9122%\n",
      "Epoch  90, Loss:   0.4612, True SPO Loss:  0.9260%, Unambiguous SPO Loss:  0.9260%\n",
      "Epoch  95, Loss:   0.3108, True SPO Loss:  0.8858%, Unambiguous SPO Loss:  0.8858%\n",
      "Epoch 100, Loss:   0.1113, True SPO Loss:  0.7058%, Unambiguous SPO Loss:  0.7058%\n",
      "Epoch 105, Loss:   0.5984, True SPO Loss:  0.6533%, Unambiguous SPO Loss:  0.6533%\n",
      "Epoch 110, Loss:   0.0625, True SPO Loss:  0.6447%, Unambiguous SPO Loss:  0.6447%\n",
      "Epoch 115, Loss:   0.1920, True SPO Loss:  0.6692%, Unambiguous SPO Loss:  0.6692%\n",
      "Epoch 120, Loss:   0.2740, True SPO Loss:  0.5842%, Unambiguous SPO Loss:  0.5842%\n",
      "Epoch 125, Loss:   0.4348, True SPO Loss:  0.6535%, Unambiguous SPO Loss:  0.6535%\n",
      "Epoch 130, Loss:   0.0803, True SPO Loss:  0.6158%, Unambiguous SPO Loss:  0.6158%\n",
      "Epoch 135, Loss:   0.3000, True SPO Loss:  0.5993%, Unambiguous SPO Loss:  0.5993%\n",
      "Epoch 140, Loss:   0.2227, True SPO Loss:  0.5347%, Unambiguous SPO Loss:  0.5347%\n",
      "Epoch 145, Loss:   0.1918, True SPO Loss:  0.5258%, Unambiguous SPO Loss:  0.5258%\n",
      "Epoch 150, Loss:   0.0603, True SPO Loss:  0.5340%, Unambiguous SPO Loss:  0.5340%\n",
      "Epoch 155, Loss:   0.1406, True SPO Loss:  0.5274%, Unambiguous SPO Loss:  0.5274%\n",
      "Epoch 160, Loss:   0.0355, True SPO Loss:  0.5405%, Unambiguous SPO Loss:  0.5405%\n",
      "Epoch 165, Loss:   0.0280, True SPO Loss:  0.5388%, Unambiguous SPO Loss:  0.5388%\n",
      "Epoch 170, Loss:   0.3398, True SPO Loss:  0.4905%, Unambiguous SPO Loss:  0.4905%\n",
      "Epoch 175, Loss:   0.1528, True SPO Loss:  0.5459%, Unambiguous SPO Loss:  0.5459%\n",
      "Epoch 180, Loss:   0.0000, True SPO Loss:  0.5266%, Unambiguous SPO Loss:  0.5266%\n",
      "Epoch 185, Loss:   0.1231, True SPO Loss:  0.5617%, Unambiguous SPO Loss:  0.5617%\n",
      "Epoch 190, Loss:   0.0287, True SPO Loss:  0.5405%, Unambiguous SPO Loss:  0.5405%\n",
      "Epoch 195, Loss:   0.1942, True SPO Loss:  0.4723%, Unambiguous SPO Loss:  0.4723%\n",
      "Epoch 200, Loss:   0.2454, True SPO Loss:  0.4072%, Unambiguous SPO Loss:  0.4072%\n",
      "Epoch 205, Loss:   0.0910, True SPO Loss:  0.5116%, Unambiguous SPO Loss:  0.5116%\n",
      "Epoch 210, Loss:   0.0126, True SPO Loss:  0.4442%, Unambiguous SPO Loss:  0.4442%\n",
      "Epoch 215, Loss:   0.0408, True SPO Loss:  0.4359%, Unambiguous SPO Loss:  0.4359%\n",
      "Epoch 220, Loss:   0.1544, True SPO Loss:  0.4590%, Unambiguous SPO Loss:  0.4590%\n",
      "Epoch 225, Loss:   0.1465, True SPO Loss:  0.4450%, Unambiguous SPO Loss:  0.4450%\n",
      "Epoch 230, Loss:   0.0468, True SPO Loss:  0.4950%, Unambiguous SPO Loss:  0.4950%\n",
      "Epoch 235, Loss:   0.0468, True SPO Loss:  0.5207%, Unambiguous SPO Loss:  0.5207%\n",
      "Epoch 240, Loss:   0.0794, True SPO Loss:  0.4655%, Unambiguous SPO Loss:  0.4655%\n",
      "Epoch 245, Loss:   0.1772, True SPO Loss:  0.4359%, Unambiguous SPO Loss:  0.4359%\n",
      "Epoch 250, Loss:   0.0252, True SPO Loss:  0.4851%, Unambiguous SPO Loss:  0.4851%\n",
      "Epoch 255, Loss:   0.0306, True SPO Loss:  0.4577%, Unambiguous SPO Loss:  0.4577%\n",
      "Epoch 260, Loss:   0.0354, True SPO Loss:  0.5288%, Unambiguous SPO Loss:  0.5288%\n",
      "Epoch 265, Loss:   0.0266, True SPO Loss:  0.5539%, Unambiguous SPO Loss:  0.5539%\n",
      "Epoch 270, Loss:   0.1026, True SPO Loss:  0.4694%, Unambiguous SPO Loss:  0.4694%\n",
      "Epoch 275, Loss:   0.0645, True SPO Loss:  0.5071%, Unambiguous SPO Loss:  0.5071%\n",
      "Epoch 280, Loss:   0.0984, True SPO Loss:  0.4727%, Unambiguous SPO Loss:  0.4727%\n",
      "Epoch 285, Loss:   0.1760, True SPO Loss:  0.4611%, Unambiguous SPO Loss:  0.4611%\n",
      "Epoch 290, Loss:  -0.0000, True SPO Loss:  0.4742%, Unambiguous SPO Loss:  0.4742%\n",
      "Epoch 295, Loss:   0.1614, True SPO Loss:  0.5202%, Unambiguous SPO Loss:  0.5202%\n",
      "Epoch 300, Loss:   0.0234, True SPO Loss:  0.5179%, Unambiguous SPO Loss:  0.5179%\n"
     ]
    }
   ],
   "source": [
    "# train model\n",
    "num_epochs = 300\n",
    "reg.train()\n",
    "loss_log = []\n",
    "loss_log_truespo = []\n",
    "loss_log_unambspo = []\n",
    "for epoch in range(num_epochs):\n",
    "    # load data\n",
    "    for i, data in enumerate(sp_loader_train):\n",
    "        x, c, w, z = data\n",
    "        # cuda\n",
    "        if torch.cuda.is_available():\n",
    "            x, c, w, z = x.cuda(), c.cuda(), w.cuda(), z.cuda()\n",
    "        # forward pass\n",
    "        cp = reg(x)\n",
    "        loss = criterion.apply(cp, c, w, z).mean()\n",
    "        # backward pass\n",
    "        optimizer.zero_grad()\n",
    "        loss.backward()\n",
    "        optimizer.step()\n",
    "    loss_log.append(loss.item())\n",
    "    if (epoch + 1) % 5 == 0:\n",
    "        # true SPO\n",
    "        trueloss = pyepo.eval.trueSPO(reg, sp_model, sp_loader_test)\n",
    "        loss_log_truespo.append(trueloss)\n",
    "        # unambiguous SPO \n",
    "        unambloss = pyepo.eval.unambSPO(reg, sp_model, sp_loader_test)\n",
    "        loss_log_unambspo.append(unambloss)\n",
    "        print('Epoch {:3}, Loss: {:8.4f}, True SPO Loss: {:7.4f}%, Unambiguous SPO Loss: {:7.4f}%'. \\\n",
    "              format(epoch+1, loss.item(), trueloss*100, unambloss*100))"
   ]
  },
  {
   "cell_type": "code",
   "execution_count": 29,
   "id": "cheap-thought",
   "metadata": {},
   "outputs": [
    {
     "data": {
      "image/png": "[encoded data removed]",
      "text/plain": [
       "<Figure size 864x432 with 1 Axes>"
      ]
     },
     "metadata": {
      "needs_background": "light"
     },
     "output_type": "display_data"
    }
   ],
   "source": [
    "# draw plot\n",
    "plt.figure(figsize=(12, 6))\n",
    "plt.plot(loss_log, color='c')\n",
    "plt.xlabel('Epoch')\n",
    "plt.ylabel('SPO+ Loss')\n",
    "plt.title('Learning Curve')\n",
    "plt.show()"
   ]
  },
  {
   "cell_type": "code",
   "execution_count": 30,
   "id": "2e2f12c4",
   "metadata": {},
   "outputs": [
    {
     "data": {
      "image/png": "[encoded data removed]",
      "text/plain": [
       "<Figure size 864x432 with 1 Axes>"
      ]
     },
     "metadata": {
      "needs_background": "light"
     },
     "output_type": "display_data"
    }
   ],
   "source": [
    "# draw plot\n",
    "plt.figure(figsize=(12, 6))\n",
    "plt.plot(range(0, num_epochs, 5), loss_log_truespo, color='b', alpha=0.5, lw=2, label='Regret')\n",
    "plt.plot(range(0, num_epochs, 5), loss_log_unambspo, color='y', alpha=0.5, lw=2, label='Unambiguous Regret')\n",
    "plt.xlabel('Epoch')\n",
    "plt.ylabel('Loss')\n",
    "plt.title('Learning Curve')\n",
    "plt.legend()\n",
    "plt.show()"
   ]
  },
  {
   "cell_type": "code",
   "execution_count": 31,
   "id": "scheduled-championship",
   "metadata": {},
   "outputs": [
    {
     "name": "stdout",
     "output_type": "stream",
     "text": [
      "Normalized true SPO Loss: 0.52%\n",
      "Normalized unambiguous SPO Loss: 0.52%\n"
     ]
    }
   ],
   "source": [
    "# evaluate\n",
    "spoloss = pyepo.eval.trueSPO(reg, sp_model, sp_loader_test)\n",
    "print('Normalized true SPO Loss: {:.2f}%'.format(spoloss * 100))\n",
    "spoloss = pyepo.eval.unambSPO(reg, sp_model, sp_loader_test)\n",
    "print('Normalized unambiguous SPO Loss: {:.2f}%'.format(spoloss * 100))"
   ]
  },
  {
   "cell_type": "code",
   "execution_count": 32,
   "id": "communist-destiny",
   "metadata": {
    "scrolled": false
   },
   "outputs": [
    {
     "name": "stdout",
     "output_type": "stream",
     "text": [
      "Sample 0:\n",
      "    True cost: 0.24, 0.18, 0.55, 0.03, 0.81, 0.09, 0.06, 0.21, 0.10, 0.34, 0.09, 0.17, 0.04, 0.21, 0.07, 0.21, 0.02, 0.25, 0.15, 0.09, 0.17, 0.25, 0.40, 0.14, 0.70, 0.06, 0.07, 0.07, 0.37, 0.41, 0.30, 0.04, 0.30, 0.18, 0.55, 0.41, 0.06, 0.41, 0.12, 0.25\n",
      "    Pred cost: -0.92, -0.01, 0.61, 0.54, 0.96, -0.17, -0.08, -0.49, -0.34, 0.86, -0.72, -0.71, 0.11, 0.60, -0.17, 1.12, -1.05, -0.94, 0.54, -0.24, -0.97, -0.23, -0.26, 0.00, -0.39, -0.16, 0.13, 0.33, -0.39, 1.50, 0.06, -0.89, -0.44, -0.73, 0.32, -0.37, 0.02, -0.33, 0.72, -0.64\n",
      "    True sol: 1, 0, 0, 0, 0, 1, 0, 0, 0, 0, 1, 1, 0, 0, 0, 0, 1, 0, 0, 0, 0, 1, 0, 0, 0, 0, 1, 0, 0, 0, 0, 0, 0, 0, 0, 1, 0, 0, 0, 0, True obj: 1.34\n",
      "    Pred sol: 1, 0, 0, 0, 0, 1, 0, 0, 0, 0, 1, 1, 0, 0, 0, 0, 1, 0, 0, 0, 0, 0, 0, 0, 0, 1, 0, 0, 0, 0, 0, 0, 0, 0, 1, 0, 0, 0, 0, 1, Pred obj: 1.47\n",
      "\n",
      "Sample 1:\n",
      "    True cost: 0.01, 0.66, 0.55, 0.13, 0.09, 0.02, 0.08, 0.37, 0.07, 0.33, 0.02, 0.04, 0.06, 0.37, 0.05, 0.37, 0.41, 0.85, 0.91, 0.02, 0.04, 0.85, 0.17, 0.10, 0.19, 0.08, 0.05, 0.05, 0.59, 0.41, 0.49, 0.06, 0.49, 0.66, 0.55, 0.41, 0.08, 0.41, 1.47, 0.85\n",
      "    Pred cost: -2.34, 0.98, 0.35, 1.21, -0.09, -2.15, 0.67, 0.22, -1.37, -0.29, -0.55, -1.28, -0.14, 0.70, -0.72, -0.21, 0.11, -0.30, 0.91, -1.55, -1.36, 0.37, -1.63, 0.17, -0.64, -0.28, 0.13, 1.11, 0.65, 0.86, 0.23, 0.56, 0.34, 1.36, -0.72, -2.15, 0.94, 0.72, 0.70, -0.27\n",
      "    True sol: 1, 0, 0, 0, 0, 1, 0, 0, 0, 0, 0, 0, 0, 0, 1, 0, 0, 0, 0, 1, 1, 0, 0, 0, 0, 1, 0, 0, 0, 0, 1, 0, 0, 0, 0, 1, 0, 0, 0, 0, True obj: 1.12\n",
      "    Pred sol: 1, 0, 0, 0, 0, 1, 0, 0, 0, 0, 0, 0, 0, 0, 1, 0, 0, 0, 0, 1, 1, 0, 0, 0, 0, 1, 0, 0, 0, 0, 1, 0, 0, 0, 0, 1, 0, 0, 0, 0, Pred obj: 1.12\n",
      "\n",
      "Sample 2:\n",
      "    True cost: 0.34, 1.61, 0.55, 0.91, 0.69, 0.69, 0.37, 1.20, 0.47, 1.70, 0.69, 0.16, 0.65, 1.20, 0.97, 1.20, 0.51, 1.04, 0.70, 0.69, 0.16, 1.04, 1.27, 0.26, 0.97, 0.37, 0.97, 0.97, 0.34, 0.91, 0.75, 0.65, 0.75, 1.61, 0.55, 0.91, 0.37, 0.91, 0.98, 1.04\n",
      "    Pred cost: -1.01, 0.47, -0.01, 0.19, 0.12, -0.75, -0.43, 0.52, -0.88, 0.19, 0.04, -1.25, 0.16, -0.13, 0.62, 0.08, -0.48, -0.17, 0.23, -0.79, -0.74, -0.54, 0.06, -1.30, 0.57, -1.32, 0.54, 1.04, -0.61, -0.35, 0.12, 0.44, 0.38, 0.79, 0.09, 0.06, 0.68, -0.26, 0.38, -0.05\n",
      "    True sol: 1, 0, 0, 0, 0, 1, 0, 0, 0, 0, 1, 1, 0, 0, 0, 0, 1, 0, 0, 0, 0, 0, 0, 0, 0, 1, 0, 0, 0, 0, 0, 0, 0, 0, 1, 0, 0, 0, 0, 1, True obj: 4.35\n",
      "    Pred sol: 1, 0, 0, 0, 0, 1, 0, 0, 0, 0, 1, 1, 0, 0, 0, 0, 1, 0, 0, 0, 0, 0, 0, 0, 0, 1, 0, 0, 0, 0, 0, 0, 0, 0, 1, 0, 0, 0, 0, 1, Pred obj: 4.35\n",
      "\n",
      "Sample 3:\n",
      "    True cost: 0.35, 1.18, 0.55, 1.14, 0.37, 0.85, 1.70, 1.72, 0.51, 0.56, 0.85, 0.82, 1.66, 1.72, 0.54, 1.72, 2.19, 1.21, 3.12, 0.85, 0.82, 1.21, 0.88, 0.52, 0.21, 1.70, 0.54, 0.54, 1.68, 0.53, 1.76, 1.66, 1.76, 1.18, 0.55, 0.53, 1.70, 0.53, 2.26, 1.21\n",
      "    Pred cost: -0.40, 0.56, -0.69, -0.70, -0.95, -1.34, -0.07, 0.83, -0.83, -1.18, 0.52, -0.29, 0.81, 0.48, -1.64, -0.86, 0.40, -0.06, 0.15, 0.05, 0.16, 0.96, -1.12, 0.01, -0.63, 0.64, -0.73, 1.07, 0.90, -0.40, 0.85, 1.76, 0.48, 0.59, -0.57, -1.49, 1.11, 0.24, 0.88, -0.47\n",
      "    True sol: 0, 0, 0, 0, 1, 0, 0, 0, 0, 1, 0, 0, 0, 0, 1, 0, 0, 0, 0, 1, 0, 0, 0, 0, 1, 0, 0, 0, 0, 1, 0, 0, 0, 0, 1, 0, 0, 0, 0, 1, True obj: 4.82\n",
      "    Pred sol: 0, 0, 0, 0, 1, 0, 0, 0, 0, 1, 0, 0, 0, 0, 1, 0, 0, 0, 0, 1, 0, 0, 0, 0, 1, 0, 0, 0, 0, 1, 0, 0, 0, 0, 1, 0, 0, 0, 0, 1, Pred obj: 4.82\n",
      "\n",
      "Sample 4:\n",
      "    True cost: 2.24, 1.13, 0.55, 1.73, 1.50, 2.67, 1.74, 1.74, 1.43, 1.18, 2.67, 1.43, 2.57, 1.74, 1.81, 1.74, 1.07, 0.70, 1.08, 2.67, 1.43, 0.70, 1.82, 0.91, 0.96, 1.74, 1.81, 1.81, 0.87, 0.91, 1.13, 2.57, 1.13, 1.13, 0.55, 0.91, 1.74, 0.91, 0.66, 0.70\n",
      "    Pred cost: 0.94, -0.06, -0.61, -1.22, -0.37, 0.23, -0.94, 0.59, 0.20, -0.31, 0.61, 0.09, 0.76, -0.19, -0.17, -0.03, -0.37, -0.23, -0.42, 0.85, 0.31, -0.20, 0.52, -0.64, 0.11, -0.28, -0.07, 0.39, -0.35, -0.81, 0.57, 0.56, -0.07, -0.67, 0.28, 0.66, 0.41, -0.75, 0.38, -0.29\n",
      "    True sol: 0, 0, 0, 0, 1, 0, 0, 0, 0, 0, 0, 0, 0, 1, 0, 0, 0, 0, 1, 0, 0, 0, 0, 1, 0, 0, 0, 0, 1, 1, 0, 0, 0, 0, 1, 0, 0, 0, 0, 1, True obj: 8.25\n",
      "    Pred sol: 0, 0, 0, 0, 1, 0, 0, 0, 0, 0, 0, 0, 0, 1, 0, 0, 0, 0, 1, 0, 0, 0, 0, 1, 0, 0, 0, 0, 1, 1, 0, 0, 0, 0, 1, 0, 0, 0, 0, 1, Pred obj: 8.25\n",
      "\n",
      "Sample 5:\n",
      "    True cost: 0.16, 0.59, 0.55, 0.61, 0.15, 0.55, 1.33, 0.52, 0.18, 0.60, 0.55, 0.50, 0.54, 0.52, 0.62, 0.52, 1.44, 1.42, 1.26, 0.55, 0.50, 1.42, 0.53, 0.57, 0.18, 1.33, 0.62, 0.62, 0.47, 0.17, 1.28, 0.54, 1.28, 0.59, 0.55, 0.17, 1.33, 0.17, 1.39, 1.42\n",
      "    Pred cost: -0.13, 0.77, -0.59, -0.64, -0.65, -0.98, -0.37, 0.66, -1.66, -0.50, 0.34, -0.20, 0.03, 0.22, -0.42, -1.39, 0.55, 0.18, -0.74, -0.44, -0.01, 0.74, -1.08, -0.35, -0.70, 0.69, 0.11, -0.03, 0.13, -0.68, 0.46, 0.19, 0.63, 0.46, 0.15, -1.10, 0.38, 0.04, 1.16, 0.51\n",
      "    True sol: 1, 0, 0, 0, 0, 1, 0, 0, 0, 0, 1, 0, 0, 0, 0, 1, 0, 0, 0, 0, 0, 0, 0, 0, 1, 0, 0, 0, 0, 1, 1, 0, 0, 0, 0, 1, 0, 0, 0, 0, True obj: 3.59\n",
      "    Pred sol: 0, 0, 0, 0, 1, 0, 0, 0, 0, 1, 1, 0, 0, 0, 0, 1, 0, 0, 0, 0, 0, 0, 0, 0, 1, 0, 0, 0, 0, 1, 1, 0, 0, 0, 0, 1, 0, 0, 0, 0, Pred obj: 3.62\n",
      "\n",
      "Sample 6:\n",
      "    True cost: 1.20, 0.67, 0.55, 1.14, 0.71, 2.19, 2.48, 1.00, 0.55, 0.97, 2.19, 1.38, 1.62, 1.00, 1.58, 1.00, 1.32, 1.13, 1.16, 2.19, 1.38, 1.13, 1.40, 0.95, 0.46, 2.48, 1.58, 1.58, 0.57, 0.29, 1.61, 1.62, 1.61, 0.67, 0.55, 0.29, 2.48, 0.29, 0.79, 1.13\n",
      "    Pred cost: 1.04, 0.21, -0.83, -1.50, -0.50, 0.12, -0.99, 0.66, -0.93, -0.31, 0.69, 0.21, 0.48, -0.05, -0.25, -0.94, 0.09, 0.03, -1.05, 0.58, 0.59, 0.44, -0.11, -0.73, -0.31, 0.62, -0.06, -0.16, -0.35, -1.02, 0.56, 0.15, 0.37, -0.50, 0.60, 0.12, 0.16, -0.61, 1.04, 0.27\n",
      "    True sol: 0, 0, 0, 0, 1, 0, 0, 0, 0, 0, 0, 0, 0, 1, 0, 0, 0, 0, 1, 0, 0, 0, 0, 1, 0, 0, 0, 0, 1, 1, 0, 0, 0, 0, 1, 0, 0, 0, 0, 1, True obj: 6.35\n",
      "    Pred sol: 0, 0, 0, 0, 1, 0, 0, 0, 0, 0, 0, 0, 0, 1, 0, 0, 0, 0, 1, 0, 0, 0, 0, 1, 0, 0, 0, 0, 1, 1, 1, 0, 0, 0, 0, 1, 0, 0, 0, 0, Pred obj: 6.58\n",
      "\n",
      "Sample 7:\n",
      "    True cost: 0.18, 0.13, 0.55, 0.40, 0.05, 0.05, 0.07, 0.01, 0.89, 0.17, 0.05, 0.23, 0.04, 0.01, 0.47, 0.01, 0.50, 0.22, 0.01, 0.05, 0.23, 0.22, 0.01, 1.23, 0.44, 0.07, 0.47, 0.47, 0.05, 0.37, 0.02, 0.04, 0.02, 0.13, 0.55, 0.37, 0.07, 0.37, 0.18, 0.22\n",
      "    Pred cost: 0.73, 0.83, 0.33, 0.71, -0.36, -0.49, -0.37, -0.12, 0.72, 0.38, -0.51, 0.99, -1.57, -0.72, 2.31, -0.50, 0.49, 0.15, -1.23, -0.75, -1.64, -1.56, 0.03, 1.15, -1.06, -1.15, 2.41, -2.21, -0.69, -0.67, -0.29, -3.15, -1.02, -0.79, 0.19, 0.37, -0.92, -0.39, -0.67, 1.53\n",
      "    True sol: 0, 0, 0, 0, 1, 0, 0, 0, 0, 0, 0, 0, 0, 1, 0, 0, 0, 0, 1, 1, 1, 0, 0, 0, 0, 1, 0, 0, 0, 0, 1, 0, 0, 0, 0, 1, 0, 0, 0, 0, True obj: 0.82\n",
      "    Pred sol: 0, 0, 0, 0, 1, 0, 0, 0, 0, 0, 0, 0, 0, 1, 0, 0, 0, 0, 1, 1, 1, 0, 0, 0, 0, 1, 0, 0, 0, 0, 1, 0, 0, 0, 0, 1, 0, 0, 0, 0, Pred obj: 0.82\n",
      "\n",
      "Sample 8:\n",
      "    True cost: 0.32, 1.37, 0.55, 0.96, 0.50, 0.55, 0.32, 0.82, 0.59, 1.38, 0.55, 0.17, 0.55, 0.82, 0.97, 0.82, 0.60, 0.90, 0.50, 0.55, 0.17, 0.90, 0.82, 0.35, 0.88, 0.32, 0.97, 0.97, 0.28, 0.88, 0.51, 0.55, 0.51, 1.37, 0.55, 0.88, 0.32, 0.88, 0.89, 0.90\n",
      "    Pred cost: -0.77, 0.56, 0.01, 0.27, -0.02, -0.77, -0.42, 0.48, -0.62, 0.15, -0.00, -0.93, -0.09, -0.27, 0.90, -0.05, -0.29, -0.08, 0.03, -0.81, -0.89, -0.73, 0.08, -0.96, 0.38, -1.39, 0.84, 0.61, -0.60, -0.50, 0.07, 0.01, 0.19, 0.65, 0.05, 0.12, 0.50, -0.26, 0.17, 0.20\n",
      "    True sol: 1, 0, 0, 0, 0, 1, 0, 0, 0, 0, 1, 1, 0, 0, 0, 0, 1, 0, 0, 0, 0, 0, 0, 0, 0, 1, 0, 0, 0, 0, 1, 0, 0, 0, 0, 1, 0, 0, 0, 0, True obj: 3.90\n",
      "    Pred sol: 1, 0, 0, 0, 0, 1, 0, 0, 0, 0, 1, 1, 0, 0, 0, 0, 1, 0, 0, 0, 0, 0, 0, 0, 0, 1, 0, 0, 0, 0, 1, 0, 0, 0, 0, 1, 0, 0, 0, 0, Pred obj: 3.90\n",
      "\n",
      "Sample 9:\n",
      "    True cost: 0.32, 0.95, 0.55, 1.09, 0.26, 0.48, 0.44, 0.46, 0.78, 0.86, 0.48, 0.29, 0.54, 0.46, 0.99, 0.46, 1.01, 0.79, 0.41, 0.48, 0.29, 0.79, 0.41, 0.64, 0.60, 0.44, 0.99, 0.99, 0.27, 0.67, 0.37, 0.54, 0.37, 0.95, 0.55, 0.67, 0.44, 0.67, 0.87, 0.79\n",
      "    Pred cost: -0.16, 0.68, -0.14, 0.10, -0.41, -0.79, -0.43, 0.50, -0.33, -0.11, 0.07, -0.26, -0.35, -0.38, 0.97, -0.50, 0.15, 0.10, -0.44, -0.64, -0.83, -0.70, -0.08, -0.34, -0.11, -1.05, 1.07, -0.12, -0.41, -0.82, 0.12, -0.48, -0.01, 0.34, 0.00, 0.01, 0.23, -0.24, 0.03, 0.58\n",
      "    True sol: 0, 0, 0, 0, 1, 0, 0, 0, 0, 0, 0, 0, 0, 1, 0, 0, 0, 0, 1, 1, 1, 0, 0, 0, 0, 1, 0, 0, 0, 0, 1, 0, 0, 0, 0, 1, 0, 0, 0, 0, True obj: 3.38\n",
      "    Pred sol: 0, 0, 0, 0, 1, 0, 0, 0, 0, 0, 0, 0, 0, 1, 0, 0, 0, 0, 1, 1, 1, 0, 0, 0, 0, 1, 0, 0, 0, 0, 1, 0, 0, 0, 0, 1, 0, 0, 0, 0, Pred obj: 3.38\n",
      "\n"
     ]
    }
   ],
   "source": [
    "# compare solutions\n",
    "reg.eval()\n",
    "# load data\n",
    "for i, data in enumerate(sp_loader_test):\n",
    "    x, c, w, z = data\n",
    "    # cuda\n",
    "    if torch.cuda.is_available():\n",
    "        x, c, w, z = x.cuda(), c.cuda(), w.cuda(), z.cuda()\n",
    "    # predict\n",
    "    cp = reg(x)\n",
    "    # convert to numpy\n",
    "    c = c.to('cpu').detach().numpy()\n",
    "    w = w.to('cpu').detach().numpy()\n",
    "    z = z.to('cpu').detach().numpy()\n",
    "    cp = cp.to('cpu').detach().numpy()\n",
    "    for j in range(min(10, batch_size)):\n",
    "        print('Sample {}:'.format(j))\n",
    "        print('    True cost:', ', '.join(['{:.2f}'.format(cost) for cost in c[j]]))\n",
    "        print('    Pred cost:', ', '.join(['{:.2f}'.format(cost) for cost in cp[j]]))\n",
    "        # solve cost from prediction\n",
    "        sp_model.setObj(cp[j])\n",
    "        wpj, _ = sp_model.solve()\n",
    "        zpj = np.dot(c[j], wpj)\n",
    "        print('    True sol: ' + ', '.join(['{:.0f}'.format(x) for x in w[j]]) + ', True obj: {:.2f}'.format(z[j,0]))\n",
    "        print('    Pred sol: '+  ', '.join(['{:.0f}'.format(x) for x in wpj]) + ', Pred obj: {:.2f}'.format(zpj))\n",
    "        print()\n",
    "    break"
   ]
  },
  {
   "cell_type": "markdown",
   "id": "alternative-brother",
   "metadata": {},
   "source": [
    "##  SPO+ with Regularization"
   ]
  },
  {
   "cell_type": "code",
   "execution_count": 33,
   "id": "driven-surveillance",
   "metadata": {},
   "outputs": [],
   "source": [
    "# init model\n",
    "reg = LinearRegression()\n",
    "# cuda\n",
    "if torch.cuda.is_available():\n",
    "    reg = reg.cuda()"
   ]
  },
  {
   "cell_type": "code",
   "execution_count": 34,
   "id": "annual-fortune",
   "metadata": {},
   "outputs": [],
   "source": [
    "# set optimizer\n",
    "optimizer = torch.optim.Adam(reg.parameters(), lr=1e-3)"
   ]
  },
  {
   "cell_type": "code",
   "execution_count": 35,
   "id": "fluid-shipping",
   "metadata": {},
   "outputs": [
    {
     "name": "stdout",
     "output_type": "stream",
     "text": [
      "Num of cores: 4\n"
     ]
    }
   ],
   "source": [
    "# init SPO+ loss\n",
    "criterion = pyepo.func.SPOPlus(sp_model, processes=4)"
   ]
  },
  {
   "cell_type": "code",
   "execution_count": 36,
   "id": "characteristic-gender",
   "metadata": {
    "scrolled": false
   },
   "outputs": [
    {
     "name": "stdout",
     "output_type": "stream",
     "text": [
      "Epoch   5, Loss:   6.2096, True SPO Loss: 39.6701%, Unambiguous SPO Loss: 39.6701%\n",
      "Epoch  10, Loss:   6.0403, True SPO Loss: 28.9009%, Unambiguous SPO Loss: 28.9009%\n",
      "Epoch  15, Loss:   3.8082, True SPO Loss: 19.2847%, Unambiguous SPO Loss: 19.2848%\n",
      "Epoch  20, Loss:   3.2330, True SPO Loss: 10.1588%, Unambiguous SPO Loss: 10.1589%\n",
      "Epoch  25, Loss:   2.1148, True SPO Loss:  5.5571%, Unambiguous SPO Loss:  5.5572%\n",
      "Epoch  30, Loss:   1.4961, True SPO Loss:  3.1208%, Unambiguous SPO Loss:  3.1208%\n",
      "Epoch  35, Loss:   0.2937, True SPO Loss:  2.0175%, Unambiguous SPO Loss:  2.0175%\n",
      "Epoch  40, Loss:   0.9857, True SPO Loss:  1.4129%, Unambiguous SPO Loss:  1.4129%\n",
      "Epoch  45, Loss:   0.0354, True SPO Loss:  1.1795%, Unambiguous SPO Loss:  1.1795%\n",
      "Epoch  50, Loss:   0.1249, True SPO Loss:  0.9375%, Unambiguous SPO Loss:  0.9375%\n",
      "Epoch  55, Loss:   0.1859, True SPO Loss:  0.8241%, Unambiguous SPO Loss:  0.8241%\n",
      "Epoch  60, Loss:   0.1352, True SPO Loss:  0.7065%, Unambiguous SPO Loss:  0.7065%\n",
      "Epoch  65, Loss:   0.1848, True SPO Loss:  0.7091%, Unambiguous SPO Loss:  0.7091%\n",
      "Epoch  70, Loss:   0.1022, True SPO Loss:  0.6328%, Unambiguous SPO Loss:  0.6328%\n",
      "Epoch  75, Loss:   0.2658, True SPO Loss:  0.6348%, Unambiguous SPO Loss:  0.6348%\n",
      "Epoch  80, Loss:   0.3584, True SPO Loss:  0.6573%, Unambiguous SPO Loss:  0.6573%\n",
      "Epoch  85, Loss:   0.4220, True SPO Loss:  0.5870%, Unambiguous SPO Loss:  0.5870%\n",
      "Epoch  90, Loss:   0.1062, True SPO Loss:  0.5451%, Unambiguous SPO Loss:  0.5451%\n",
      "Epoch  95, Loss:   0.0993, True SPO Loss:  0.6371%, Unambiguous SPO Loss:  0.6371%\n",
      "Epoch 100, Loss:   0.1811, True SPO Loss:  0.6268%, Unambiguous SPO Loss:  0.6268%\n",
      "Epoch 105, Loss:   0.0655, True SPO Loss:  0.5840%, Unambiguous SPO Loss:  0.5840%\n",
      "Epoch 110, Loss:   0.1739, True SPO Loss:  0.4810%, Unambiguous SPO Loss:  0.4810%\n",
      "Epoch 115, Loss:   0.0849, True SPO Loss:  0.4436%, Unambiguous SPO Loss:  0.4436%\n",
      "Epoch 120, Loss:   0.7219, True SPO Loss:  0.5088%, Unambiguous SPO Loss:  0.5088%\n",
      "Epoch 125, Loss:   0.2594, True SPO Loss:  0.4938%, Unambiguous SPO Loss:  0.4938%\n",
      "Epoch 130, Loss:   0.0440, True SPO Loss:  0.5709%, Unambiguous SPO Loss:  0.5709%\n",
      "Epoch 135, Loss:   0.2734, True SPO Loss:  0.5561%, Unambiguous SPO Loss:  0.5561%\n",
      "Epoch 140, Loss:   0.1091, True SPO Loss:  0.4884%, Unambiguous SPO Loss:  0.4884%\n",
      "Epoch 145, Loss:   0.5914, True SPO Loss:  0.4503%, Unambiguous SPO Loss:  0.4504%\n",
      "Epoch 150, Loss:   0.3747, True SPO Loss:  0.4771%, Unambiguous SPO Loss:  0.4771%\n",
      "Epoch 155, Loss:   0.1837, True SPO Loss:  0.5094%, Unambiguous SPO Loss:  0.5094%\n",
      "Epoch 160, Loss:   0.3580, True SPO Loss:  0.5708%, Unambiguous SPO Loss:  0.5708%\n",
      "Epoch 165, Loss:   0.0262, True SPO Loss:  0.5722%, Unambiguous SPO Loss:  0.5722%\n",
      "Epoch 170, Loss:   0.2153, True SPO Loss:  0.5074%, Unambiguous SPO Loss:  0.5074%\n",
      "Epoch 175, Loss:   0.0749, True SPO Loss:  0.5282%, Unambiguous SPO Loss:  0.5282%\n",
      "Epoch 180, Loss:   0.4506, True SPO Loss:  0.5450%, Unambiguous SPO Loss:  0.5450%\n",
      "Epoch 185, Loss:   0.3117, True SPO Loss:  0.5654%, Unambiguous SPO Loss:  0.5655%\n",
      "Epoch 190, Loss:   0.1553, True SPO Loss:  0.5325%, Unambiguous SPO Loss:  0.5325%\n",
      "Epoch 195, Loss:   0.1324, True SPO Loss:  0.6931%, Unambiguous SPO Loss:  0.6931%\n",
      "Epoch 200, Loss:   0.2696, True SPO Loss:  0.6127%, Unambiguous SPO Loss:  0.6127%\n",
      "Epoch 205, Loss:   0.1384, True SPO Loss:  0.5634%, Unambiguous SPO Loss:  0.5634%\n",
      "Epoch 210, Loss:   0.0999, True SPO Loss:  0.5378%, Unambiguous SPO Loss:  0.5378%\n",
      "Epoch 215, Loss:   0.0598, True SPO Loss:  0.5327%, Unambiguous SPO Loss:  0.5327%\n",
      "Epoch 220, Loss:   0.1750, True SPO Loss:  0.5331%, Unambiguous SPO Loss:  0.5331%\n",
      "Epoch 225, Loss:   0.0588, True SPO Loss:  0.5092%, Unambiguous SPO Loss:  0.5092%\n",
      "Epoch 230, Loss:   0.1838, True SPO Loss:  0.5101%, Unambiguous SPO Loss:  0.5101%\n",
      "Epoch 235, Loss:   0.1225, True SPO Loss:  0.5216%, Unambiguous SPO Loss:  0.5216%\n",
      "Epoch 240, Loss:   0.0896, True SPO Loss:  0.5189%, Unambiguous SPO Loss:  0.5189%\n",
      "Epoch 245, Loss:   0.1185, True SPO Loss:  0.5244%, Unambiguous SPO Loss:  0.5244%\n",
      "Epoch 250, Loss:   0.0581, True SPO Loss:  0.5422%, Unambiguous SPO Loss:  0.5422%\n",
      "Epoch 255, Loss:   0.1714, True SPO Loss:  0.5420%, Unambiguous SPO Loss:  0.5421%\n",
      "Epoch 260, Loss:   0.0550, True SPO Loss:  0.4991%, Unambiguous SPO Loss:  0.4991%\n",
      "Epoch 265, Loss:   0.0880, True SPO Loss:  0.5146%, Unambiguous SPO Loss:  0.5146%\n",
      "Epoch 270, Loss:   0.2867, True SPO Loss:  0.4935%, Unambiguous SPO Loss:  0.4935%\n",
      "Epoch 275, Loss:   0.1726, True SPO Loss:  0.4945%, Unambiguous SPO Loss:  0.4945%\n",
      "Epoch 280, Loss:   0.3994, True SPO Loss:  0.4853%, Unambiguous SPO Loss:  0.4853%\n",
      "Epoch 285, Loss:   0.0313, True SPO Loss:  0.4600%, Unambiguous SPO Loss:  0.4600%\n",
      "Epoch 290, Loss:   0.2584, True SPO Loss:  0.5479%, Unambiguous SPO Loss:  0.5479%\n",
      "Epoch 295, Loss:   0.2198, True SPO Loss:  0.5482%, Unambiguous SPO Loss:  0.5482%\n",
      "Epoch 300, Loss:   0.1974, True SPO Loss:  0.4738%, Unambiguous SPO Loss:  0.4738%\n"
     ]
    }
   ],
   "source": [
    "# train model\n",
    "num_epochs = 300\n",
    "reg.train()\n",
    "loss_log = []\n",
    "loss_log_truespo = []\n",
    "loss_log_unambspo = []\n",
    "for epoch in range(num_epochs):\n",
    "    # load data\n",
    "    for i, data in enumerate(sp_loader_train):\n",
    "        x, c, w, z = data\n",
    "        # cuda\n",
    "        if torch.cuda.is_available():\n",
    "            x, c, w, z = x.cuda(), c.cuda(), w.cuda(), z.cuda()\n",
    "        # forward pass\n",
    "        cp = reg(x)\n",
    "        loss = criterion.apply(cp, c, w, z).mean()\n",
    "        # l1 reg\n",
    "        l1_lambda = 1e-3\n",
    "        l1_reg = torch.abs(cp - c).sum(dim=1).mean()\n",
    "        loss += l1_lambda * l1_reg\n",
    "        # backward pass\n",
    "        optimizer.zero_grad()\n",
    "        loss.backward()\n",
    "        optimizer.step()\n",
    "    loss_log.append(loss.item())\n",
    "    if (epoch + 1) % 5 == 0:\n",
    "        # true SPO\n",
    "        trueloss = pyepo.eval.trueSPO(reg, sp_model, sp_loader_test)\n",
    "        loss_log_truespo.append(trueloss)\n",
    "        # unambiguous SPO \n",
    "        unambloss = pyepo.eval.unambSPO(reg, sp_model, sp_loader_test)\n",
    "        loss_log_unambspo.append(unambloss)\n",
    "        print('Epoch {:3}, Loss: {:8.4f}, True SPO Loss: {:7.4f}%, Unambiguous SPO Loss: {:7.4f}%'. \\\n",
    "              format(epoch+1, loss.item(), trueloss*100, unambloss*100))"
   ]
  },
  {
   "cell_type": "code",
   "execution_count": 37,
   "id": "closed-companion",
   "metadata": {},
   "outputs": [
    {
     "data": {
      "image/png": "[encoded data removed]",
      "text/plain": [
       "<Figure size 864x432 with 1 Axes>"
      ]
     },
     "metadata": {
      "needs_background": "light"
     },
     "output_type": "display_data"
    }
   ],
   "source": [
    "# draw plot\n",
    "plt.figure(figsize=(12, 6))\n",
    "plt.plot(loss_log, color='c')\n",
    "plt.xlabel('Epoch')\n",
    "plt.ylabel('SPO+ Loss with Regularization')\n",
    "plt.title('Learning Curve')\n",
    "plt.show()"
   ]
  },
  {
   "cell_type": "code",
   "execution_count": 38,
   "id": "5624b586",
   "metadata": {},
   "outputs": [
    {
     "data": {
      "image/png": "[encoded data removed]",
      "text/plain": [
       "<Figure size 864x432 with 1 Axes>"
      ]
     },
     "metadata": {
      "needs_background": "light"
     },
     "output_type": "display_data"
    }
   ],
   "source": [
    "# draw plot\n",
    "plt.figure(figsize=(12, 6))\n",
    "plt.plot(range(0, num_epochs, 5), loss_log_truespo, color='b', alpha=0.5, lw=2, label='Regret')\n",
    "plt.plot(range(0, num_epochs, 5), loss_log_unambspo, color='y', alpha=0.5, lw=2, label='Unambiguous Regret')\n",
    "plt.xlabel('Epoch')\n",
    "plt.ylabel('Loss')\n",
    "plt.title('Learning Curve')\n",
    "plt.legend()\n",
    "plt.show()"
   ]
  },
  {
   "cell_type": "code",
   "execution_count": 39,
   "id": "julian-stone",
   "metadata": {},
   "outputs": [
    {
     "name": "stdout",
     "output_type": "stream",
     "text": [
      "Normalized true SPO Loss: 0.47%\n",
      "Normalized unambiguous SPO Loss: 0.47%\n"
     ]
    }
   ],
   "source": [
    "# evaluate\n",
    "spoloss = pyepo.eval.trueSPO(reg, sp_model, sp_loader_test)\n",
    "print('Normalized true SPO Loss: {:.2f}%'.format(spoloss * 100))\n",
    "spoloss = pyepo.eval.unambSPO(reg, sp_model, sp_loader_test)\n",
    "print('Normalized unambiguous SPO Loss: {:.2f}%'.format(spoloss * 100))"
   ]
  },
  {
   "cell_type": "code",
   "execution_count": 40,
   "id": "presidential-vehicle",
   "metadata": {
    "scrolled": false
   },
   "outputs": [
    {
     "name": "stdout",
     "output_type": "stream",
     "text": [
      "Sample 0:\n",
      "    True cost: 0.24, 0.18, 0.55, 0.03, 0.81, 0.09, 0.06, 0.21, 0.10, 0.34, 0.09, 0.17, 0.04, 0.21, 0.07, 0.21, 0.02, 0.25, 0.15, 0.09, 0.17, 0.25, 0.40, 0.14, 0.70, 0.06, 0.07, 0.07, 0.37, 0.41, 0.30, 0.04, 0.30, 0.18, 0.55, 0.41, 0.06, 0.41, 0.12, 0.25\n",
      "    Pred cost: -1.27, 0.07, 0.15, -0.55, 0.38, -0.12, -0.30, -0.01, -0.27, 0.35, -0.60, -0.45, -0.40, -0.14, -0.04, 0.43, -0.97, 0.13, 0.56, -0.90, -0.29, -0.40, 0.48, -0.32, 0.00, -0.60, -0.56, -0.47, -0.32, 1.15, -0.33, -0.19, 0.12, -0.85, 0.02, 0.06, -0.82, -0.98, 0.30, -0.23\n",
      "    True sol: 1, 0, 0, 0, 0, 1, 0, 0, 0, 0, 1, 1, 0, 0, 0, 0, 1, 0, 0, 0, 0, 1, 0, 0, 0, 0, 1, 0, 0, 0, 0, 0, 0, 0, 0, 1, 0, 0, 0, 0, True obj: 1.34\n",
      "    Pred sol: 1, 0, 0, 0, 0, 1, 0, 0, 0, 0, 1, 1, 0, 0, 0, 0, 1, 0, 0, 0, 0, 1, 0, 0, 0, 0, 1, 0, 0, 0, 0, 0, 0, 0, 0, 1, 0, 0, 0, 0, Pred obj: 1.34\n",
      "\n",
      "Sample 1:\n",
      "    True cost: 0.01, 0.66, 0.55, 0.13, 0.09, 0.02, 0.08, 0.37, 0.07, 0.33, 0.02, 0.04, 0.06, 0.37, 0.05, 0.37, 0.41, 0.85, 0.91, 0.02, 0.04, 0.85, 0.17, 0.10, 0.19, 0.08, 0.05, 0.05, 0.59, 0.41, 0.49, 0.06, 0.49, 0.66, 0.55, 0.41, 0.08, 0.41, 1.47, 0.85\n",
      "    Pred cost: -1.88, 1.36, 0.80, 0.27, 0.69, -0.36, 0.73, 0.62, 0.44, 0.44, -0.81, -0.82, 0.05, 0.51, -0.74, -0.57, 0.89, -0.10, 0.90, -2.17, 0.47, -0.02, 0.63, 0.68, 0.47, -1.25, -1.15, -0.07, 0.24, 0.42, -0.37, 0.32, 0.17, -0.18, -0.61, -0.70, -0.55, -0.77, 1.48, 0.61\n",
      "    True sol: 1, 0, 0, 0, 0, 1, 0, 0, 0, 0, 0, 0, 0, 0, 1, 0, 0, 0, 0, 1, 1, 0, 0, 0, 0, 1, 0, 0, 0, 0, 1, 0, 0, 0, 0, 1, 0, 0, 0, 0, True obj: 1.12\n",
      "    Pred sol: 1, 0, 0, 0, 0, 1, 0, 0, 0, 0, 0, 0, 0, 0, 1, 0, 0, 0, 0, 1, 1, 0, 0, 0, 0, 1, 0, 0, 0, 0, 1, 0, 0, 0, 0, 1, 0, 0, 0, 0, Pred obj: 1.12\n",
      "\n",
      "Sample 2:\n",
      "    True cost: 0.34, 1.61, 0.55, 0.91, 0.69, 0.69, 0.37, 1.20, 0.47, 1.70, 0.69, 0.16, 0.65, 1.20, 0.97, 1.20, 0.51, 1.04, 0.70, 0.69, 0.16, 1.04, 1.27, 0.26, 0.97, 0.37, 0.97, 0.97, 0.34, 0.91, 0.75, 0.65, 0.75, 1.61, 0.55, 0.91, 0.37, 0.91, 0.98, 1.04\n",
      "    Pred cost: -0.68, 1.05, 0.60, -0.15, 0.58, 0.31, 0.30, 0.97, 0.36, 0.61, 0.36, -0.53, 0.43, 0.71, 0.26, 0.07, -0.69, 0.01, -0.36, -0.04, -0.32, 0.13, 0.29, -0.50, 0.83, -0.79, -0.28, 0.63, -0.32, 0.27, -0.60, 1.07, 0.42, 0.03, -0.51, 0.27, -0.73, -0.81, 1.16, -0.05\n",
      "    True sol: 1, 0, 0, 0, 0, 1, 0, 0, 0, 0, 1, 1, 0, 0, 0, 0, 1, 0, 0, 0, 0, 0, 0, 0, 0, 1, 0, 0, 0, 0, 0, 0, 0, 0, 1, 0, 0, 0, 0, 1, True obj: 4.35\n",
      "    Pred sol: 1, 0, 0, 0, 0, 1, 0, 0, 0, 0, 1, 1, 0, 0, 0, 0, 1, 0, 0, 0, 0, 0, 0, 0, 0, 1, 0, 0, 0, 0, 0, 0, 0, 0, 1, 0, 0, 0, 0, 1, Pred obj: 4.35\n",
      "\n",
      "Sample 3:\n",
      "    True cost: 0.35, 1.18, 0.55, 1.14, 0.37, 0.85, 1.70, 1.72, 0.51, 0.56, 0.85, 0.82, 1.66, 1.72, 0.54, 1.72, 2.19, 1.21, 3.12, 0.85, 0.82, 1.21, 0.88, 0.52, 0.21, 1.70, 0.54, 0.54, 1.68, 0.53, 1.76, 1.66, 1.76, 1.18, 0.55, 0.53, 1.70, 0.53, 2.26, 1.21\n",
      "    Pred cost: -0.46, 0.51, 0.57, 0.11, 0.01, 0.49, 0.84, 1.05, 0.03, -0.18, 0.01, 0.66, 0.86, 1.08, -0.35, 0.41, 1.06, -1.06, 0.95, -0.54, 0.83, -0.30, 0.38, -0.08, -0.21, -0.37, -1.08, 0.09, 0.68, -1.09, 0.31, 0.80, 0.23, 0.10, -0.16, -0.10, 0.78, -0.10, 0.72, -0.17\n",
      "    True sol: 0, 0, 0, 0, 1, 0, 0, 0, 0, 1, 0, 0, 0, 0, 1, 0, 0, 0, 0, 1, 0, 0, 0, 0, 1, 0, 0, 0, 0, 1, 0, 0, 0, 0, 1, 0, 0, 0, 0, 1, True obj: 4.82\n",
      "    Pred sol: 0, 0, 0, 0, 1, 0, 0, 0, 0, 1, 0, 0, 0, 0, 1, 0, 0, 0, 0, 1, 0, 0, 0, 0, 1, 0, 0, 0, 0, 1, 0, 0, 0, 0, 1, 0, 0, 0, 0, 1, Pred obj: 4.82\n",
      "\n",
      "Sample 4:\n",
      "    True cost: 2.24, 1.13, 0.55, 1.73, 1.50, 2.67, 1.74, 1.74, 1.43, 1.18, 2.67, 1.43, 2.57, 1.74, 1.81, 1.74, 1.07, 0.70, 1.08, 2.67, 1.43, 0.70, 1.82, 0.91, 0.96, 1.74, 1.81, 1.81, 0.87, 0.91, 1.13, 2.57, 1.13, 1.13, 0.55, 0.91, 1.74, 0.91, 0.66, 0.70\n",
      "    Pred cost: 0.67, -0.16, 0.17, -0.05, -0.18, 0.76, -0.02, 0.73, -0.34, -0.00, 0.55, 0.92, 0.72, 0.73, 0.64, 0.92, -0.62, -0.60, -0.13, 0.96, -0.02, -0.25, -0.01, -1.03, -0.11, -0.02, -0.09, 0.18, 0.10, -0.57, 0.12, 0.78, 0.31, 0.02, 0.15, 0.82, 0.38, -0.16, -0.05, -0.69\n",
      "    True sol: 0, 0, 0, 0, 1, 0, 0, 0, 0, 0, 0, 0, 0, 1, 0, 0, 0, 0, 1, 0, 0, 0, 0, 1, 0, 0, 0, 0, 1, 1, 0, 0, 0, 0, 1, 0, 0, 0, 0, 1, True obj: 8.25\n",
      "    Pred sol: 0, 0, 0, 0, 1, 0, 0, 0, 0, 0, 0, 0, 0, 1, 0, 0, 0, 0, 1, 0, 0, 0, 0, 1, 0, 0, 0, 0, 1, 1, 0, 0, 0, 0, 1, 0, 0, 0, 0, 1, Pred obj: 8.25\n",
      "\n",
      "Sample 5:\n",
      "    True cost: 0.16, 0.59, 0.55, 0.61, 0.15, 0.55, 1.33, 0.52, 0.18, 0.60, 0.55, 0.50, 0.54, 0.52, 0.62, 0.52, 1.44, 1.42, 1.26, 0.55, 0.50, 1.42, 0.53, 0.57, 0.18, 1.33, 0.62, 0.62, 0.47, 0.17, 1.28, 0.54, 1.28, 0.59, 0.55, 0.17, 1.33, 0.17, 1.39, 1.42\n",
      "    Pred cost: -0.84, 0.91, 0.54, -0.01, -0.16, 0.78, 0.71, 0.57, 0.08, 0.15, -0.08, 0.48, 0.59, 0.50, 0.21, -0.01, 1.34, -0.69, 0.07, -0.04, 0.53, 0.18, -0.60, -0.04, -0.50, -0.17, -0.71, 0.51, 0.30, -1.09, -0.23, 0.63, 0.45, 0.12, 0.44, -0.54, 0.41, -0.19, 0.84, 0.14\n",
      "    True sol: 1, 0, 0, 0, 0, 1, 0, 0, 0, 0, 1, 0, 0, 0, 0, 1, 0, 0, 0, 0, 0, 0, 0, 0, 1, 0, 0, 0, 0, 1, 1, 0, 0, 0, 0, 1, 0, 0, 0, 0, True obj: 3.59\n",
      "    Pred sol: 1, 0, 0, 0, 0, 1, 0, 0, 0, 0, 1, 0, 0, 0, 0, 1, 0, 0, 0, 0, 0, 0, 0, 0, 1, 0, 0, 0, 0, 1, 1, 0, 0, 0, 0, 1, 0, 0, 0, 0, Pred obj: 3.59\n",
      "\n",
      "Sample 6:\n",
      "    True cost: 1.20, 0.67, 0.55, 1.14, 0.71, 2.19, 2.48, 1.00, 0.55, 0.97, 2.19, 1.38, 1.62, 1.00, 1.58, 1.00, 1.32, 1.13, 1.16, 2.19, 1.38, 1.13, 1.40, 0.95, 0.46, 2.48, 1.58, 1.58, 0.57, 0.29, 1.61, 1.62, 1.61, 0.67, 0.55, 0.29, 2.48, 0.29, 0.79, 1.13\n",
      "    Pred cost: 0.05, 0.18, 0.23, -0.35, -0.41, 1.14, 0.30, 0.60, -0.27, -0.01, 0.46, 1.02, 0.75, 0.54, 0.70, 0.72, 0.35, -0.83, -0.23, 1.15, 0.21, -0.03, -0.64, -0.81, -0.65, 0.30, -0.32, 0.52, 0.14, -1.20, -0.05, 0.77, 0.48, 0.03, 0.67, 0.15, 0.61, -0.10, 0.18, -0.49\n",
      "    True sol: 0, 0, 0, 0, 1, 0, 0, 0, 0, 0, 0, 0, 0, 1, 0, 0, 0, 0, 1, 0, 0, 0, 0, 1, 0, 0, 0, 0, 1, 1, 0, 0, 0, 0, 1, 0, 0, 0, 0, 1, True obj: 6.35\n",
      "    Pred sol: 0, 0, 0, 0, 1, 0, 0, 0, 0, 0, 0, 0, 0, 1, 0, 0, 0, 0, 1, 0, 0, 0, 0, 1, 0, 0, 0, 0, 1, 1, 1, 0, 0, 0, 0, 1, 0, 0, 0, 0, Pred obj: 6.58\n",
      "\n",
      "Sample 7:\n",
      "    True cost: 0.18, 0.13, 0.55, 0.40, 0.05, 0.05, 0.07, 0.01, 0.89, 0.17, 0.05, 0.23, 0.04, 0.01, 0.47, 0.01, 0.50, 0.22, 0.01, 0.05, 0.23, 0.22, 0.01, 1.23, 0.44, 0.07, 0.47, 0.47, 0.05, 0.37, 0.02, 0.04, 0.02, 0.13, 0.55, 0.37, 0.07, 0.37, 0.18, 0.22\n",
      "    Pred cost: 0.77, 0.61, 0.21, 2.16, -0.45, -0.15, -0.61, -1.09, -0.46, 0.67, -1.18, 0.66, -0.42, -0.74, 1.21, -1.13, 0.88, 0.88, -1.23, -0.80, -0.10, 0.74, -1.55, 0.35, -0.39, -0.80, 0.97, -0.49, 0.11, 0.56, -0.47, -0.90, 0.16, 0.41, 0.70, 0.04, -0.39, 0.23, -0.26, 0.91\n",
      "    True sol: 0, 0, 0, 0, 1, 0, 0, 0, 0, 0, 0, 0, 0, 1, 0, 0, 0, 0, 1, 1, 1, 0, 0, 0, 0, 1, 0, 0, 0, 0, 1, 0, 0, 0, 0, 1, 0, 0, 0, 0, True obj: 0.82\n",
      "    Pred sol: 0, 0, 0, 0, 1, 0, 0, 0, 0, 0, 0, 0, 0, 1, 0, 0, 0, 0, 1, 1, 1, 0, 0, 0, 0, 1, 0, 0, 0, 0, 1, 0, 0, 0, 0, 1, 0, 0, 0, 0, Pred obj: 0.82\n",
      "\n",
      "Sample 8:\n",
      "    True cost: 0.32, 1.37, 0.55, 0.96, 0.50, 0.55, 0.32, 0.82, 0.59, 1.38, 0.55, 0.17, 0.55, 0.82, 0.97, 0.82, 0.60, 0.90, 0.50, 0.55, 0.17, 0.90, 0.82, 0.35, 0.88, 0.32, 0.97, 0.97, 0.28, 0.88, 0.51, 0.55, 0.51, 1.37, 0.55, 0.88, 0.32, 0.88, 0.89, 0.90\n",
      "    Pred cost: -0.40, 1.03, 0.57, 0.27, 0.44, 0.24, 0.19, 0.72, 0.27, 0.63, 0.17, -0.35, 0.35, 0.56, 0.41, -0.14, -0.43, 0.14, -0.52, -0.15, -0.28, 0.24, 0.03, -0.36, 0.72, -0.83, -0.07, 0.50, -0.23, 0.27, -0.58, 0.83, 0.39, 0.15, -0.38, 0.27, -0.67, -0.63, 0.98, 0.11\n",
      "    True sol: 1, 0, 0, 0, 0, 1, 0, 0, 0, 0, 1, 1, 0, 0, 0, 0, 1, 0, 0, 0, 0, 0, 0, 0, 0, 1, 0, 0, 0, 0, 1, 0, 0, 0, 0, 1, 0, 0, 0, 0, True obj: 3.90\n",
      "    Pred sol: 1, 0, 0, 0, 0, 1, 0, 0, 0, 0, 1, 1, 0, 0, 0, 0, 1, 0, 0, 0, 0, 0, 0, 0, 0, 1, 0, 0, 0, 0, 1, 0, 0, 0, 0, 1, 0, 0, 0, 0, Pred obj: 3.90\n",
      "\n",
      "Sample 9:\n",
      "    True cost: 0.32, 0.95, 0.55, 1.09, 0.26, 0.48, 0.44, 0.46, 0.78, 0.86, 0.48, 0.29, 0.54, 0.46, 0.99, 0.46, 1.01, 0.79, 0.41, 0.48, 0.29, 0.79, 0.41, 0.64, 0.60, 0.44, 0.99, 0.99, 0.27, 0.67, 0.37, 0.54, 0.37, 0.95, 0.55, 0.67, 0.44, 0.67, 0.87, 0.79\n",
      "    Pred cost: 0.06, 0.90, 0.50, 0.83, 0.08, 0.27, 0.13, 0.35, 0.07, 0.51, -0.11, 0.19, 0.34, 0.36, 0.59, -0.34, 0.27, 0.10, -0.62, -0.20, -0.03, 0.36, -0.46, -0.16, 0.27, -0.71, 0.11, 0.29, 0.04, -0.06, -0.41, 0.47, 0.34, 0.33, -0.03, 0.17, -0.27, -0.23, 0.63, 0.30\n",
      "    True sol: 0, 0, 0, 0, 1, 0, 0, 0, 0, 0, 0, 0, 0, 1, 0, 0, 0, 0, 1, 1, 1, 0, 0, 0, 0, 1, 0, 0, 0, 0, 1, 0, 0, 0, 0, 1, 0, 0, 0, 0, True obj: 3.38\n",
      "    Pred sol: 0, 0, 0, 0, 1, 0, 0, 0, 0, 0, 0, 0, 0, 1, 0, 0, 0, 0, 1, 1, 1, 0, 0, 0, 0, 1, 0, 0, 0, 0, 1, 0, 0, 0, 0, 1, 0, 0, 0, 0, Pred obj: 3.38\n",
      "\n"
     ]
    }
   ],
   "source": [
    "# compare solutions\n",
    "reg.eval()\n",
    "# load data\n",
    "for i, data in enumerate(sp_loader_test):\n",
    "    x, c, w, z = data\n",
    "    # cuda\n",
    "    if torch.cuda.is_available():\n",
    "        x, c, w, z = x.cuda(), c.cuda(), w.cuda(), z.cuda()\n",
    "    # predict\n",
    "    cp = reg(x)\n",
    "    # convert to numpy\n",
    "    c = c.to('cpu').detach().numpy()\n",
    "    w = w.to('cpu').detach().numpy()\n",
    "    z = z.to('cpu').detach().numpy()\n",
    "    cp = cp.to('cpu').detach().numpy()\n",
    "    for j in range(min(10, batch_size)):\n",
    "        print('Sample {}:'.format(j))\n",
    "        print('    True cost:', ', '.join(['{:.2f}'.format(cost) for cost in c[j]]))\n",
    "        print('    Pred cost:', ', '.join(['{:.2f}'.format(cost) for cost in cp[j]]))\n",
    "        # solve cost from prediction\n",
    "        sp_model.setObj(cp[j])\n",
    "        wpj, _ = sp_model.solve()\n",
    "        zpj = np.dot(c[j], wpj)\n",
    "        print('    True sol: ' + ', '.join(['{:.0f}'.format(x) for x in w[j]]) + ', True obj: {:.2f}'.format(z[j,0]))\n",
    "        print('    Pred sol: '+  ', '.join(['{:.0f}'.format(x) for x in wpj]) + ', Pred obj: {:.2f}'.format(zpj))\n",
    "        print()\n",
    "    break"
   ]
  },
  {
   "cell_type": "markdown",
   "id": "coated-arrest",
   "metadata": {},
   "source": [
    "## Black-Box"
   ]
  },
  {
   "cell_type": "code",
   "execution_count": 41,
   "id": "given-treat",
   "metadata": {},
   "outputs": [],
   "source": [
    "# init model\n",
    "reg = LinearRegression()\n",
    "# cuda\n",
    "if torch.cuda.is_available():\n",
    "    reg = reg.cuda()"
   ]
  },
  {
   "cell_type": "code",
   "execution_count": 42,
   "id": "iraqi-syndrome",
   "metadata": {},
   "outputs": [],
   "source": [
    "# set optimizer\n",
    "optimizer = torch.optim.Adam(reg.parameters(), lr=5e-4)"
   ]
  },
  {
   "cell_type": "code",
   "execution_count": 43,
   "id": "proprietary-hygiene",
   "metadata": {},
   "outputs": [
    {
     "name": "stdout",
     "output_type": "stream",
     "text": [
      "Num of cores: 4\n"
     ]
    }
   ],
   "source": [
    "# set loss\n",
    "criterion = nn.L1Loss()\n",
    "bb = pyepo.func.blackboxOpt(sp_model, lambd=10, processes=4)"
   ]
  },
  {
   "cell_type": "code",
   "execution_count": 44,
   "id": "atlantic-leather",
   "metadata": {},
   "outputs": [
    {
     "name": "stdout",
     "output_type": "stream",
     "text": [
      "Epoch   5, Loss:   0.9606, True SPO Loss: 32.7658%, Unambiguous SPO Loss: 32.7658%\n",
      "Epoch  10, Loss:   0.7783, True SPO Loss: 23.4979%, Unambiguous SPO Loss: 23.4980%\n",
      "Epoch  15, Loss:   0.7648, True SPO Loss: 16.5800%, Unambiguous SPO Loss: 16.5800%\n",
      "Epoch  20, Loss:   0.8350, True SPO Loss: 12.1635%, Unambiguous SPO Loss: 12.1635%\n",
      "Epoch  25, Loss:   0.4324, True SPO Loss: 10.9468%, Unambiguous SPO Loss: 10.9468%\n",
      "Epoch  30, Loss:   0.2803, True SPO Loss:  9.2089%, Unambiguous SPO Loss:  9.2089%\n",
      "Epoch  35, Loss:   0.2515, True SPO Loss:  9.3474%, Unambiguous SPO Loss:  9.3474%\n",
      "Epoch  40, Loss:   0.1388, True SPO Loss: 10.3118%, Unambiguous SPO Loss: 10.3118%\n",
      "Epoch  45, Loss:   0.1657, True SPO Loss:  8.5634%, Unambiguous SPO Loss:  8.5634%\n",
      "Epoch  50, Loss:   0.2833, True SPO Loss:  7.3610%, Unambiguous SPO Loss:  7.3610%\n",
      "Epoch  55, Loss:   0.1946, True SPO Loss:  7.2846%, Unambiguous SPO Loss:  7.2847%\n",
      "Epoch  60, Loss:   1.7582, True SPO Loss:  7.5685%, Unambiguous SPO Loss:  7.5687%\n",
      "Epoch  65, Loss:   0.1144, True SPO Loss:  5.9684%, Unambiguous SPO Loss:  5.9684%\n",
      "Epoch  70, Loss:   0.1593, True SPO Loss:  7.3433%, Unambiguous SPO Loss:  7.3435%\n",
      "Epoch  75, Loss:   1.8481, True SPO Loss:  9.7941%, Unambiguous SPO Loss:  9.7942%\n",
      "Epoch  80, Loss:   0.4193, True SPO Loss: 10.2640%, Unambiguous SPO Loss: 10.2647%\n",
      "Epoch  85, Loss:   0.0568, True SPO Loss:  5.5010%, Unambiguous SPO Loss:  5.5011%\n",
      "Epoch  90, Loss:   0.6643, True SPO Loss: 10.8940%, Unambiguous SPO Loss: 10.8941%\n",
      "Epoch  95, Loss:   0.1985, True SPO Loss:  8.9863%, Unambiguous SPO Loss:  8.9865%\n",
      "Epoch 100, Loss:   0.1046, True SPO Loss:  5.4444%, Unambiguous SPO Loss:  5.4445%\n",
      "Epoch 105, Loss:   0.3351, True SPO Loss:  6.0588%, Unambiguous SPO Loss:  6.0589%\n",
      "Epoch 110, Loss:   0.1379, True SPO Loss:  7.7035%, Unambiguous SPO Loss:  7.7037%\n",
      "Epoch 115, Loss:   0.2012, True SPO Loss:  5.0270%, Unambiguous SPO Loss:  5.0271%\n",
      "Epoch 120, Loss:   0.2138, True SPO Loss:  5.5332%, Unambiguous SPO Loss:  5.5334%\n",
      "Epoch 125, Loss:   0.0322, True SPO Loss:  9.9747%, Unambiguous SPO Loss:  9.9749%\n",
      "Epoch 130, Loss:   0.9492, True SPO Loss: 11.2150%, Unambiguous SPO Loss: 11.2153%\n",
      "Epoch 135, Loss:   0.0419, True SPO Loss:  7.5832%, Unambiguous SPO Loss:  7.5841%\n",
      "Epoch 140, Loss:   0.5841, True SPO Loss: 11.6156%, Unambiguous SPO Loss: 11.6164%\n",
      "Epoch 145, Loss:   0.2020, True SPO Loss:  8.4473%, Unambiguous SPO Loss:  8.4484%\n",
      "Epoch 150, Loss:   0.6833, True SPO Loss:  6.6023%, Unambiguous SPO Loss:  6.6026%\n",
      "Epoch 155, Loss:   0.0844, True SPO Loss:  6.1651%, Unambiguous SPO Loss:  6.1652%\n",
      "Epoch 160, Loss:   0.1398, True SPO Loss:  6.4920%, Unambiguous SPO Loss:  6.4932%\n",
      "Epoch 165, Loss:   0.2405, True SPO Loss:  9.5074%, Unambiguous SPO Loss:  9.5078%\n",
      "Epoch 170, Loss:   0.2578, True SPO Loss:  7.3510%, Unambiguous SPO Loss:  7.3514%\n",
      "Epoch 175, Loss:   0.2753, True SPO Loss: 17.6053%, Unambiguous SPO Loss: 17.6061%\n",
      "Epoch 180, Loss:   0.0049, True SPO Loss:  6.2065%, Unambiguous SPO Loss:  6.2067%\n",
      "Epoch 185, Loss:   0.1166, True SPO Loss:  6.8436%, Unambiguous SPO Loss:  6.8439%\n",
      "Epoch 190, Loss:   0.0358, True SPO Loss:  7.4315%, Unambiguous SPO Loss:  7.4317%\n",
      "Epoch 195, Loss:   0.1088, True SPO Loss:  6.1009%, Unambiguous SPO Loss:  6.1015%\n",
      "Epoch 200, Loss:   0.0833, True SPO Loss:  9.3615%, Unambiguous SPO Loss:  9.3619%\n",
      "Epoch 205, Loss:   0.0007, True SPO Loss: 10.5983%, Unambiguous SPO Loss: 10.5987%\n",
      "Epoch 210, Loss:   0.4595, True SPO Loss:  8.5763%, Unambiguous SPO Loss:  8.5769%\n",
      "Epoch 215, Loss:   0.1810, True SPO Loss:  5.2583%, Unambiguous SPO Loss:  5.2588%\n",
      "Epoch 220, Loss:   0.1830, True SPO Loss:  8.1239%, Unambiguous SPO Loss:  8.1249%\n",
      "Epoch 225, Loss:   0.2209, True SPO Loss:  9.6121%, Unambiguous SPO Loss:  9.6131%\n",
      "Epoch 230, Loss:   0.0373, True SPO Loss:  8.7319%, Unambiguous SPO Loss:  8.7324%\n",
      "Epoch 235, Loss:   0.1971, True SPO Loss:  5.2615%, Unambiguous SPO Loss:  5.2620%\n",
      "Epoch 240, Loss:   0.2337, True SPO Loss: 14.7230%, Unambiguous SPO Loss: 14.7253%\n",
      "Epoch 245, Loss:   0.1988, True SPO Loss: 10.6602%, Unambiguous SPO Loss: 10.6608%\n",
      "Epoch 250, Loss:   0.0409, True SPO Loss: 10.6571%, Unambiguous SPO Loss: 10.6576%\n",
      "Epoch 255, Loss:   0.1012, True SPO Loss:  6.6390%, Unambiguous SPO Loss:  6.6394%\n",
      "Epoch 260, Loss:   0.1694, True SPO Loss: 10.0674%, Unambiguous SPO Loss: 10.0684%\n",
      "Epoch 265, Loss:   0.1884, True SPO Loss:  6.8038%, Unambiguous SPO Loss:  6.8019%\n",
      "Epoch 270, Loss:   0.0103, True SPO Loss:  5.8021%, Unambiguous SPO Loss:  5.8252%\n",
      "Epoch 275, Loss:   0.2770, True SPO Loss:  6.4080%, Unambiguous SPO Loss:  6.4159%\n",
      "Epoch 280, Loss:   0.0934, True SPO Loss:  9.9065%, Unambiguous SPO Loss:  9.9137%\n",
      "Epoch 285, Loss:   0.2022, True SPO Loss:  4.8189%, Unambiguous SPO Loss:  4.8196%\n",
      "Epoch 290, Loss:   0.1195, True SPO Loss:  6.4914%, Unambiguous SPO Loss:  6.5113%\n",
      "Epoch 295, Loss:   0.1172, True SPO Loss:  6.8144%, Unambiguous SPO Loss:  6.8478%\n",
      "Epoch 300, Loss:   0.1507, True SPO Loss:  8.6393%, Unambiguous SPO Loss:  8.6425%\n"
     ]
    }
   ],
   "source": [
    "# train model\n",
    "num_epochs = 300\n",
    "lambd = 10\n",
    "reg.train()\n",
    "loss_log = []\n",
    "loss_log_truespo = []\n",
    "loss_log_unambspo = []\n",
    "for epoch in range(num_epochs):\n",
    "    # load data\n",
    "    for i, data in enumerate(sp_loader_train):\n",
    "        x, c, w, z = data\n",
    "        # cuda\n",
    "        if torch.cuda.is_available():\n",
    "            x, c, w, z = x.cuda(), c.cuda(), w.cuda(), z.cuda()\n",
    "        # linear regression\n",
    "        cp = reg(x)\n",
    "        # black-box optimizer\n",
    "        wp = bb.apply(cp)\n",
    "        # objective value\n",
    "        zp = (wp * c).sum(1).view(-1, 1)\n",
    "        # loss\n",
    "        loss = criterion(zp, z)\n",
    "        # backward pass\n",
    "        optimizer.zero_grad()\n",
    "        loss.backward()\n",
    "        optimizer.step()\n",
    "    loss_log.append(loss.item())\n",
    "    if (epoch + 1) % 5 == 0:\n",
    "        # true SPO\n",
    "        trueloss = pyepo.eval.trueSPO(reg, sp_model, sp_loader_test)\n",
    "        loss_log_truespo.append(trueloss)\n",
    "        # unambiguous SPO \n",
    "        unambloss = pyepo.eval.unambSPO(reg, sp_model, sp_loader_test)\n",
    "        loss_log_unambspo.append(unambloss)\n",
    "        print('Epoch {:3}, Loss: {:8.4f}, True SPO Loss: {:7.4f}%, Unambiguous SPO Loss: {:7.4f}%'. \\\n",
    "              format(epoch+1, loss.item(), trueloss*100, unambloss*100))"
   ]
  },
  {
   "cell_type": "code",
   "execution_count": 45,
   "id": "functional-webcam",
   "metadata": {},
   "outputs": [
    {
     "data": {
      "image/png": "[encoded data removed]",
      "text/plain": [
       "<Figure size 864x432 with 1 Axes>"
      ]
     },
     "metadata": {
      "needs_background": "light"
     },
     "output_type": "display_data"
    }
   ],
   "source": [
    "# draw plot\n",
    "plt.figure(figsize=(12, 6))\n",
    "plt.plot(loss_log, color='c')\n",
    "plt.xlabel('Epoch')\n",
    "plt.ylabel('SPO Loss')\n",
    "plt.title('Learning Curve')\n",
    "plt.show()"
   ]
  },
  {
   "cell_type": "code",
   "execution_count": 46,
   "id": "c9cd6e23",
   "metadata": {},
   "outputs": [
    {
     "data": {
      "image/png": "[encoded data removed]",
      "text/plain": [
       "<Figure size 864x432 with 1 Axes>"
      ]
     },
     "metadata": {
      "needs_background": "light"
     },
     "output_type": "display_data"
    }
   ],
   "source": [
    "# draw plot\n",
    "plt.figure(figsize=(12, 6))\n",
    "plt.plot(range(0, num_epochs, 5), loss_log_truespo, color='b', alpha=0.5, lw=2, label='Regret')\n",
    "plt.plot(range(0, num_epochs, 5), loss_log_unambspo, color='y', alpha=0.5, lw=2, label='Unambiguous Regret')\n",
    "plt.xlabel('Epoch')\n",
    "plt.ylabel('Loss')\n",
    "plt.title('Learning Curve')\n",
    "plt.legend()\n",
    "plt.show()"
   ]
  },
  {
   "cell_type": "code",
   "execution_count": 47,
   "id": "framed-valentine",
   "metadata": {},
   "outputs": [
    {
     "name": "stdout",
     "output_type": "stream",
     "text": [
      "Normalized true SPO Loss: 8.64%\n",
      "Normalized unambiguous SPO Loss: 8.64%\n"
     ]
    }
   ],
   "source": [
    "# evaluate\n",
    "spoloss = pyepo.eval.trueSPO(reg, sp_model, sp_loader_test)\n",
    "print('Normalized true SPO Loss: {:.2f}%'.format(spoloss * 100))\n",
    "spoloss = pyepo.eval.unambSPO(reg, sp_model, sp_loader_test)\n",
    "print('Normalized unambiguous SPO Loss: {:.2f}%'.format(spoloss * 100))"
   ]
  },
  {
   "cell_type": "code",
   "execution_count": 48,
   "id": "arbitrary-lexington",
   "metadata": {
    "scrolled": false
   },
   "outputs": [
    {
     "name": "stdout",
     "output_type": "stream",
     "text": [
      "Sample 0:\n",
      "    True cost: 0.24, 0.18, 0.55, 0.03, 0.81, 0.09, 0.06, 0.21, 0.10, 0.34, 0.09, 0.17, 0.04, 0.21, 0.07, 0.21, 0.02, 0.25, 0.15, 0.09, 0.17, 0.25, 0.40, 0.14, 0.70, 0.06, 0.07, 0.07, 0.37, 0.41, 0.30, 0.04, 0.30, 0.18, 0.55, 0.41, 0.06, 0.41, 0.12, 0.25\n",
      "    Pred cost: 0.52, -0.29, -0.04, -0.23, 0.30, -0.41, 0.02, 0.63, -0.20, -0.18, 0.55, -0.10, -0.31, -1.14, -0.16, 0.88, -0.33, 0.30, 0.81, 0.18, -0.26, -0.23, 0.36, 0.14, 0.45, 0.87, -0.21, 0.69, 0.50, 0.86, -0.74, 1.41, 0.57, 0.21, -0.41, 0.43, -0.19, 0.10, -0.19, -0.28\n",
      "    True sol: 1, 0, 0, 0, 0, 1, 0, 0, 0, 0, 1, 1, 0, 0, 0, 0, 1, 0, 0, 0, 0, 1, 0, 0, 0, 0, 1, 0, 0, 0, 0, 0, 0, 0, 0, 1, 0, 0, 0, 0, True obj: 1.34\n",
      "    Pred sol: 1, 1, 0, 0, 0, 0, 1, 0, 0, 0, 0, 1, 0, 0, 0, 0, 1, 0, 0, 0, 0, 1, 0, 0, 0, 0, 1, 0, 0, 0, 0, 0, 0, 0, 0, 1, 0, 0, 0, 0, Pred obj: 1.40\n",
      "\n",
      "Sample 1:\n",
      "    True cost: 0.01, 0.66, 0.55, 0.13, 0.09, 0.02, 0.08, 0.37, 0.07, 0.33, 0.02, 0.04, 0.06, 0.37, 0.05, 0.37, 0.41, 0.85, 0.91, 0.02, 0.04, 0.85, 0.17, 0.10, 0.19, 0.08, 0.05, 0.05, 0.59, 0.41, 0.49, 0.06, 0.49, 0.66, 0.55, 0.41, 0.08, 0.41, 1.47, 0.85\n",
      "    Pred cost: -0.48, 0.19, -2.82, 0.82, -1.29, -0.55, -1.02, 0.24, -0.74, 0.27, -0.43, -0.41, -0.67, -0.50, -0.56, -0.49, -0.59, 0.67, 0.21, -1.56, -0.94, -0.16, -0.85, -1.56, -0.13, 0.13, 0.21, -0.91, 1.19, -0.01, -0.16, 0.02, 0.02, 0.57, -0.07, -1.78, 0.03, 0.66, -0.04, -1.43\n",
      "    True sol: 1, 0, 0, 0, 0, 1, 0, 0, 0, 0, 0, 0, 0, 0, 1, 0, 0, 0, 0, 1, 1, 0, 0, 0, 0, 1, 0, 0, 0, 0, 1, 0, 0, 0, 0, 1, 0, 0, 0, 0, True obj: 1.12\n",
      "    Pred sol: 1, 0, 0, 0, 0, 1, 0, 0, 0, 0, 0, 0, 0, 0, 1, 0, 0, 0, 0, 1, 1, 0, 0, 0, 0, 1, 0, 0, 0, 0, 1, 0, 0, 0, 0, 1, 0, 0, 0, 0, Pred obj: 1.12\n",
      "\n",
      "Sample 2:\n",
      "    True cost: 0.34, 1.61, 0.55, 0.91, 0.69, 0.69, 0.37, 1.20, 0.47, 1.70, 0.69, 0.16, 0.65, 1.20, 0.97, 1.20, 0.51, 1.04, 0.70, 0.69, 0.16, 1.04, 1.27, 0.26, 0.97, 0.37, 0.97, 0.97, 0.34, 0.91, 0.75, 0.65, 0.75, 1.61, 0.55, 0.91, 0.37, 0.91, 0.98, 1.04\n",
      "    Pred cost: -0.02, -0.13, -0.92, 0.26, -0.56, -0.53, 0.03, 0.34, -0.08, 0.02, 0.19, -1.28, 0.27, -0.05, -0.16, -0.33, -0.21, -0.43, -0.09, -0.66, -0.15, 0.27, 0.14, -0.87, 0.93, 0.14, -0.83, 0.25, 0.20, -0.19, -0.81, 0.11, -0.72, -0.60, -0.86, -0.12, -0.51, 0.25, 0.12, -0.34\n",
      "    True sol: 1, 0, 0, 0, 0, 1, 0, 0, 0, 0, 1, 1, 0, 0, 0, 0, 1, 0, 0, 0, 0, 0, 0, 0, 0, 1, 0, 0, 0, 0, 0, 0, 0, 0, 1, 0, 0, 0, 0, 1, True obj: 4.35\n",
      "    Pred sol: 1, 0, 0, 0, 0, 1, 0, 0, 0, 0, 1, 1, 0, 0, 0, 0, 1, 0, 0, 0, 0, 0, 0, 0, 0, 1, 0, 0, 0, 0, 0, 0, 0, 0, 1, 0, 0, 0, 0, 1, Pred obj: 4.35\n",
      "\n",
      "Sample 3:\n",
      "    True cost: 0.35, 1.18, 0.55, 1.14, 0.37, 0.85, 1.70, 1.72, 0.51, 0.56, 0.85, 0.82, 1.66, 1.72, 0.54, 1.72, 2.19, 1.21, 3.12, 0.85, 0.82, 1.21, 0.88, 0.52, 0.21, 1.70, 0.54, 0.54, 1.68, 0.53, 1.76, 1.66, 1.76, 1.18, 0.55, 0.53, 1.70, 0.53, 2.26, 1.21\n",
      "    Pred cost: -0.67, -0.53, -1.06, 0.55, -1.16, -0.35, -0.32, -0.11, -0.42, 0.14, -0.92, -0.71, 0.69, 0.50, -0.78, -0.15, 0.02, -0.43, -1.14, -0.49, -0.69, 0.58, -0.42, -1.09, -0.42, 0.50, 0.51, -0.96, 0.68, -0.30, 0.98, -0.75, -0.20, 0.42, 0.52, -1.12, 0.65, 0.35, 0.62, -1.05\n",
      "    True sol: 0, 0, 0, 0, 1, 0, 0, 0, 0, 1, 0, 0, 0, 0, 1, 0, 0, 0, 0, 1, 0, 0, 0, 0, 1, 0, 0, 0, 0, 1, 0, 0, 0, 0, 1, 0, 0, 0, 0, 1, True obj: 4.82\n",
      "    Pred sol: 0, 0, 0, 0, 1, 0, 0, 0, 0, 1, 0, 0, 0, 0, 1, 0, 0, 0, 0, 1, 0, 0, 0, 0, 1, 0, 0, 0, 0, 1, 0, 0, 0, 0, 1, 0, 0, 0, 0, 1, Pred obj: 4.82\n",
      "\n",
      "Sample 4:\n",
      "    True cost: 2.24, 1.13, 0.55, 1.73, 1.50, 2.67, 1.74, 1.74, 1.43, 1.18, 2.67, 1.43, 2.57, 1.74, 1.81, 1.74, 1.07, 0.70, 1.08, 2.67, 1.43, 0.70, 1.82, 0.91, 0.96, 1.74, 1.81, 1.81, 0.87, 0.91, 1.13, 2.57, 1.13, 1.13, 0.55, 0.91, 1.74, 0.91, 0.66, 0.70\n",
      "    Pred cost: 0.19, -0.85, 1.08, -0.19, 0.01, -0.36, 0.76, 0.05, 0.51, -0.18, 0.11, -0.90, 1.13, 0.34, -0.19, 0.45, 0.51, -1.03, -0.72, 0.58, 0.25, 0.59, 0.52, 0.07, 0.34, 0.54, -0.24, 0.43, -0.19, 0.17, 0.17, 0.20, -0.34, -0.46, -0.35, 0.72, 0.22, 0.03, 0.50, 0.29\n",
      "    True sol: 0, 0, 0, 0, 1, 0, 0, 0, 0, 0, 0, 0, 0, 1, 0, 0, 0, 0, 1, 0, 0, 0, 0, 1, 0, 0, 0, 0, 1, 1, 0, 0, 0, 0, 1, 0, 0, 0, 0, 1, True obj: 8.25\n",
      "    Pred sol: 0, 0, 0, 0, 1, 0, 0, 0, 0, 0, 0, 0, 0, 1, 0, 0, 0, 0, 1, 0, 0, 0, 0, 1, 0, 0, 0, 0, 1, 1, 0, 0, 0, 0, 1, 0, 0, 0, 0, 1, Pred obj: 8.25\n",
      "\n",
      "Sample 5:\n",
      "    True cost: 0.16, 0.59, 0.55, 0.61, 0.15, 0.55, 1.33, 0.52, 0.18, 0.60, 0.55, 0.50, 0.54, 0.52, 0.62, 0.52, 1.44, 1.42, 1.26, 0.55, 0.50, 1.42, 0.53, 0.57, 0.18, 1.33, 0.62, 0.62, 0.47, 0.17, 1.28, 0.54, 1.28, 0.59, 0.55, 0.17, 1.33, 0.17, 1.39, 1.42\n",
      "    Pred cost: -0.64, 0.18, -1.32, 0.24, -1.07, 0.01, -0.19, 0.29, -0.54, 0.43, -0.53, -1.13, 0.36, 0.14, -1.21, -0.83, -0.14, -0.22, -0.91, -0.14, -0.51, 0.42, -0.60, -1.12, -0.65, 0.14, 0.25, -0.72, 0.60, -0.40, 0.37, -0.97, -0.66, 0.03, 0.73, -1.20, 0.62, 0.47, 0.98, -1.09\n",
      "    True sol: 1, 0, 0, 0, 0, 1, 0, 0, 0, 0, 1, 0, 0, 0, 0, 1, 0, 0, 0, 0, 0, 0, 0, 0, 1, 0, 0, 0, 0, 1, 1, 0, 0, 0, 0, 1, 0, 0, 0, 0, True obj: 3.59\n",
      "    Pred sol: 0, 0, 0, 0, 1, 0, 0, 0, 0, 1, 1, 0, 0, 0, 0, 1, 0, 0, 0, 0, 0, 0, 0, 0, 1, 0, 0, 0, 0, 1, 1, 0, 0, 0, 0, 1, 0, 0, 0, 0, Pred obj: 3.62\n",
      "\n",
      "Sample 6:\n",
      "    True cost: 1.20, 0.67, 0.55, 1.14, 0.71, 2.19, 2.48, 1.00, 0.55, 0.97, 2.19, 1.38, 1.62, 1.00, 1.58, 1.00, 1.32, 1.13, 1.16, 2.19, 1.38, 1.13, 1.40, 0.95, 0.46, 2.48, 1.58, 1.58, 0.57, 0.29, 1.61, 1.62, 1.61, 0.67, 0.55, 0.29, 2.48, 0.29, 0.79, 1.13\n",
      "    Pred cost: -0.23, -0.32, 0.46, -0.24, -0.36, 0.04, 0.54, 0.29, -0.08, 0.16, -0.20, -1.23, 1.04, 0.31, -0.94, -0.17, 0.21, -0.87, -1.09, 0.80, -0.05, 0.67, 0.14, -0.29, -0.24, 0.49, -0.04, 0.04, 0.03, -0.19, 0.35, -0.61, -0.64, -0.36, 0.49, 0.08, 0.55, 0.12, 1.04, -0.33\n",
      "    True sol: 0, 0, 0, 0, 1, 0, 0, 0, 0, 0, 0, 0, 0, 1, 0, 0, 0, 0, 1, 0, 0, 0, 0, 1, 0, 0, 0, 0, 1, 1, 0, 0, 0, 0, 1, 0, 0, 0, 0, 1, True obj: 6.35\n",
      "    Pred sol: 0, 0, 0, 0, 1, 0, 0, 0, 0, 0, 0, 0, 0, 1, 0, 0, 0, 0, 1, 0, 0, 0, 0, 1, 0, 0, 0, 0, 1, 1, 0, 0, 0, 0, 1, 0, 0, 0, 0, 1, Pred obj: 6.35\n",
      "\n",
      "Sample 7:\n",
      "    True cost: 0.18, 0.13, 0.55, 0.40, 0.05, 0.05, 0.07, 0.01, 0.89, 0.17, 0.05, 0.23, 0.04, 0.01, 0.47, 0.01, 0.50, 0.22, 0.01, 0.05, 0.23, 0.22, 0.01, 1.23, 0.44, 0.07, 0.47, 0.47, 0.05, 0.37, 0.02, 0.04, 0.02, 0.13, 0.55, 0.37, 0.07, 0.37, 0.18, 0.22\n",
      "    Pred cost: 0.64, 0.20, -0.66, -0.09, 0.02, -0.32, 0.57, -0.01, 1.56, 0.31, 1.24, -0.02, -0.65, -0.75, -0.02, -0.72, 1.05, 0.49, 1.02, -0.29, 0.91, -0.66, -0.91, -0.19, -1.10, -1.11, 0.37, 0.09, 0.18, 1.07, -0.59, 1.17, -0.19, -0.42, -0.81, -0.57, 0.55, 1.11, 0.19, 0.70\n",
      "    True sol: 0, 0, 0, 0, 1, 0, 0, 0, 0, 0, 0, 0, 0, 1, 0, 0, 0, 0, 1, 1, 1, 0, 0, 0, 0, 1, 0, 0, 0, 0, 1, 0, 0, 0, 0, 1, 0, 0, 0, 0, True obj: 0.82\n",
      "    Pred sol: 0, 0, 0, 0, 1, 0, 0, 0, 0, 0, 0, 0, 0, 1, 0, 0, 0, 0, 0, 0, 0, 0, 1, 0, 0, 0, 0, 1, 1, 1, 1, 0, 0, 0, 0, 1, 0, 0, 0, 0, Pred obj: 1.34\n",
      "\n",
      "Sample 8:\n",
      "    True cost: 0.32, 1.37, 0.55, 0.96, 0.50, 0.55, 0.32, 0.82, 0.59, 1.38, 0.55, 0.17, 0.55, 0.82, 0.97, 0.82, 0.60, 0.90, 0.50, 0.55, 0.17, 0.90, 0.82, 0.35, 0.88, 0.32, 0.97, 0.97, 0.28, 0.88, 0.51, 0.55, 0.51, 1.37, 0.55, 0.88, 0.32, 0.88, 0.89, 0.90\n",
      "    Pred cost: 0.05, -0.10, -0.95, 0.26, -0.53, -0.52, 0.11, 0.24, 0.21, 0.07, 0.33, -1.13, 0.16, -0.08, -0.11, -0.44, 0.00, -0.33, 0.03, -0.69, 0.02, 0.15, -0.04, -0.83, 0.65, -0.10, -0.67, 0.18, 0.18, -0.05, -0.77, 0.22, -0.70, -0.60, -0.90, -0.23, -0.37, 0.40, 0.13, -0.17\n",
      "    True sol: 1, 0, 0, 0, 0, 1, 0, 0, 0, 0, 1, 1, 0, 0, 0, 0, 1, 0, 0, 0, 0, 0, 0, 0, 0, 1, 0, 0, 0, 0, 1, 0, 0, 0, 0, 1, 0, 0, 0, 0, True obj: 3.90\n",
      "    Pred sol: 1, 0, 0, 0, 0, 1, 0, 0, 0, 0, 1, 1, 0, 0, 0, 0, 1, 0, 0, 0, 0, 0, 0, 0, 0, 1, 0, 0, 0, 0, 0, 0, 0, 0, 1, 0, 0, 0, 0, 1, Pred obj: 3.97\n",
      "\n",
      "Sample 9:\n",
      "    True cost: 0.32, 0.95, 0.55, 1.09, 0.26, 0.48, 0.44, 0.46, 0.78, 0.86, 0.48, 0.29, 0.54, 0.46, 0.99, 0.46, 1.01, 0.79, 0.41, 0.48, 0.29, 0.79, 0.41, 0.64, 0.60, 0.44, 0.99, 0.99, 0.27, 0.67, 0.37, 0.54, 0.37, 0.95, 0.55, 0.67, 0.44, 0.67, 0.87, 0.79\n",
      "    Pred cost: 0.03, -0.07, -0.90, 0.23, -0.56, -0.42, 0.21, 0.07, 0.52, 0.18, 0.33, -0.90, 0.13, -0.02, -0.24, -0.62, 0.35, -0.24, -0.04, -0.56, 0.19, 0.07, -0.38, -0.78, -0.03, -0.38, -0.22, -0.09, 0.21, 0.10, -0.39, 0.13, -0.64, -0.49, -0.64, -0.52, 0.08, 0.61, 0.32, -0.06\n",
      "    True sol: 0, 0, 0, 0, 1, 0, 0, 0, 0, 0, 0, 0, 0, 1, 0, 0, 0, 0, 1, 1, 1, 0, 0, 0, 0, 1, 0, 0, 0, 0, 1, 0, 0, 0, 0, 1, 0, 0, 0, 0, True obj: 3.38\n",
      "    Pred sol: 0, 0, 0, 0, 1, 0, 0, 0, 0, 0, 0, 0, 0, 1, 0, 0, 0, 0, 1, 1, 1, 0, 0, 0, 0, 1, 0, 0, 0, 0, 1, 0, 0, 0, 0, 1, 0, 0, 0, 0, Pred obj: 3.38\n",
      "\n"
     ]
    }
   ],
   "source": [
    "# compare solutions\n",
    "reg.eval()\n",
    "# load data\n",
    "for i, data in enumerate(sp_loader_test):\n",
    "    x, c, w, z = data\n",
    "    # cuda\n",
    "    if torch.cuda.is_available():\n",
    "        x, c, w, z = x.cuda(), c.cuda(), w.cuda(), z.cuda()\n",
    "    # predict\n",
    "    cp = reg(x)\n",
    "    # convert to numpy\n",
    "    c = c.to('cpu').detach().numpy()\n",
    "    w = w.to('cpu').detach().numpy()\n",
    "    z = z.to('cpu').detach().numpy()\n",
    "    cp = cp.to('cpu').detach().numpy()\n",
    "    for j in range(min(10, batch_size)):\n",
    "        print('Sample {}:'.format(j))\n",
    "        print('    True cost:', ', '.join(['{:.2f}'.format(cost) for cost in c[j]]))\n",
    "        print('    Pred cost:', ', '.join(['{:.2f}'.format(cost) for cost in cp[j]]))\n",
    "        # solve cost from prediction\n",
    "        sp_model.setObj(cp[j])\n",
    "        wpj, _ = sp_model.solve()\n",
    "        zpj = np.dot(c[j], wpj)\n",
    "        print('    True sol: ' + ', '.join(['{:.0f}'.format(x) for x in w[j]]) + ', True obj: {:.2f}'.format(z[j,0]))\n",
    "        print('    Pred sol: '+  ', '.join(['{:.0f}'.format(x) for x in wpj]) + ', Pred obj: {:.2f}'.format(zpj))\n",
    "        print()\n",
    "    break"
   ]
  },
  {
   "cell_type": "markdown",
   "id": "fifteen-continent",
   "metadata": {},
   "source": [
    "## Black-Box with Regularization"
   ]
  },
  {
   "cell_type": "code",
   "execution_count": 49,
   "id": "electrical-preservation",
   "metadata": {},
   "outputs": [],
   "source": [
    "# init model\n",
    "reg = LinearRegression()\n",
    "# cuda\n",
    "if torch.cuda.is_available():\n",
    "    reg = reg.cuda()"
   ]
  },
  {
   "cell_type": "code",
   "execution_count": 50,
   "id": "framed-mercy",
   "metadata": {},
   "outputs": [],
   "source": [
    "# set optimizer\n",
    "optimizer = torch.optim.Adam(reg.parameters(), lr=5e-4)"
   ]
  },
  {
   "cell_type": "code",
   "execution_count": 51,
   "id": "encouraging-bumper",
   "metadata": {},
   "outputs": [
    {
     "name": "stdout",
     "output_type": "stream",
     "text": [
      "Num of cores: 4\n"
     ]
    }
   ],
   "source": [
    "# set loss\n",
    "bb = pyepo.func.blackboxOpt(sp_model, lambd=10, processes=4)\n",
    "criterion = nn.L1Loss()"
   ]
  },
  {
   "cell_type": "code",
   "execution_count": 52,
   "id": "buried-nickname",
   "metadata": {},
   "outputs": [
    {
     "name": "stdout",
     "output_type": "stream",
     "text": [
      "Epoch   5, Loss:   1.4964, True SPO Loss: 44.0597%, Unambiguous SPO Loss: 44.0597%\n",
      "Epoch  10, Loss:   1.5810, True SPO Loss: 33.0006%, Unambiguous SPO Loss: 33.0007%\n",
      "Epoch  15, Loss:   1.2203, True SPO Loss: 24.9844%, Unambiguous SPO Loss: 24.9844%\n",
      "Epoch  20, Loss:   0.9819, True SPO Loss: 19.5680%, Unambiguous SPO Loss: 19.5680%\n",
      "Epoch  25, Loss:   0.6050, True SPO Loss: 17.4154%, Unambiguous SPO Loss: 17.4154%\n",
      "Epoch  30, Loss:   1.2951, True SPO Loss: 14.1109%, Unambiguous SPO Loss: 14.1109%\n",
      "Epoch  35, Loss:   0.3401, True SPO Loss: 11.8332%, Unambiguous SPO Loss: 11.8333%\n",
      "Epoch  40, Loss:   0.3135, True SPO Loss: 10.1487%, Unambiguous SPO Loss: 10.1487%\n",
      "Epoch  45, Loss:   0.2211, True SPO Loss:  9.3798%, Unambiguous SPO Loss:  9.3798%\n",
      "Epoch  50, Loss:   0.2341, True SPO Loss:  9.6119%, Unambiguous SPO Loss:  9.6119%\n",
      "Epoch  55, Loss:   0.5479, True SPO Loss:  8.8089%, Unambiguous SPO Loss:  8.8089%\n",
      "Epoch  60, Loss:   0.1744, True SPO Loss:  7.7914%, Unambiguous SPO Loss:  7.7914%\n",
      "Epoch  65, Loss:   0.3241, True SPO Loss:  9.1764%, Unambiguous SPO Loss:  9.1764%\n",
      "Epoch  70, Loss:   0.1199, True SPO Loss:  5.5714%, Unambiguous SPO Loss:  5.5069%\n",
      "Epoch  75, Loss:   0.2615, True SPO Loss:  5.2503%, Unambiguous SPO Loss:  5.2506%\n",
      "Epoch  80, Loss:   0.0505, True SPO Loss:  6.5698%, Unambiguous SPO Loss:  6.5701%\n",
      "Epoch  85, Loss:   0.1564, True SPO Loss:  9.4369%, Unambiguous SPO Loss:  9.4791%\n",
      "Epoch  90, Loss:   0.1321, True SPO Loss:  4.6520%, Unambiguous SPO Loss:  4.6522%\n",
      "Epoch  95, Loss:   0.0337, True SPO Loss:  5.0484%, Unambiguous SPO Loss:  5.0487%\n",
      "Epoch 100, Loss:   0.0310, True SPO Loss:  7.7867%, Unambiguous SPO Loss:  7.7870%\n",
      "Epoch 105, Loss:   0.3227, True SPO Loss:  3.8556%, Unambiguous SPO Loss:  3.8575%\n",
      "Epoch 110, Loss:   0.0703, True SPO Loss:  7.0655%, Unambiguous SPO Loss:  7.0657%\n",
      "Epoch 115, Loss:   0.0795, True SPO Loss:  2.7050%, Unambiguous SPO Loss:  2.7092%\n",
      "Epoch 120, Loss:   0.0879, True SPO Loss:  9.6391%, Unambiguous SPO Loss:  9.6396%\n",
      "Epoch 125, Loss:   0.1081, True SPO Loss:  9.8378%, Unambiguous SPO Loss:  9.8380%\n",
      "Epoch 130, Loss:   0.0516, True SPO Loss:  6.7396%, Unambiguous SPO Loss:  6.7398%\n",
      "Epoch 135, Loss:   0.1001, True SPO Loss:  2.9698%, Unambiguous SPO Loss:  2.9700%\n",
      "Epoch 140, Loss:   0.1113, True SPO Loss:  5.1554%, Unambiguous SPO Loss:  5.1557%\n",
      "Epoch 145, Loss:   0.1204, True SPO Loss:  7.3835%, Unambiguous SPO Loss:  7.3839%\n",
      "Epoch 150, Loss:   0.0401, True SPO Loss:  6.4678%, Unambiguous SPO Loss:  6.4681%\n",
      "Epoch 155, Loss:   0.1576, True SPO Loss:  9.2824%, Unambiguous SPO Loss:  9.2827%\n",
      "Epoch 160, Loss:   0.5447, True SPO Loss:  9.3364%, Unambiguous SPO Loss:  9.3366%\n",
      "Epoch 165, Loss:   0.0455, True SPO Loss:  5.1942%, Unambiguous SPO Loss:  5.1944%\n",
      "Epoch 170, Loss:   0.1197, True SPO Loss:  8.9754%, Unambiguous SPO Loss:  8.9756%\n",
      "Epoch 175, Loss:   0.0709, True SPO Loss:  8.3459%, Unambiguous SPO Loss:  8.3464%\n",
      "Epoch 180, Loss:   1.0232, True SPO Loss:  7.0684%, Unambiguous SPO Loss:  7.0688%\n",
      "Epoch 185, Loss:   1.1505, True SPO Loss:  7.0765%, Unambiguous SPO Loss:  7.0767%\n",
      "Epoch 190, Loss:   0.0684, True SPO Loss:  2.0104%, Unambiguous SPO Loss:  2.0106%\n",
      "Epoch 195, Loss:   0.1338, True SPO Loss:  4.4668%, Unambiguous SPO Loss:  4.4670%\n",
      "Epoch 200, Loss:   0.0555, True SPO Loss:  8.8225%, Unambiguous SPO Loss:  8.8228%\n",
      "Epoch 205, Loss:   1.0816, True SPO Loss:  4.1191%, Unambiguous SPO Loss:  4.1193%\n",
      "Epoch 210, Loss:   0.0469, True SPO Loss:  5.8522%, Unambiguous SPO Loss:  5.8526%\n",
      "Epoch 215, Loss:   0.2296, True SPO Loss:  7.3273%, Unambiguous SPO Loss:  7.3286%\n",
      "Epoch 220, Loss:   0.0990, True SPO Loss:  9.9590%, Unambiguous SPO Loss:  9.9597%\n",
      "Epoch 225, Loss:   0.2021, True SPO Loss:  7.5117%, Unambiguous SPO Loss:  7.5198%\n",
      "Epoch 230, Loss:   0.0266, True SPO Loss: 10.5924%, Unambiguous SPO Loss: 10.6078%\n",
      "Epoch 235, Loss:   0.0381, True SPO Loss:  8.3446%, Unambiguous SPO Loss:  8.3455%\n",
      "Epoch 240, Loss:   0.1865, True SPO Loss:  6.1259%, Unambiguous SPO Loss:  6.1268%\n",
      "Epoch 245, Loss:   0.2572, True SPO Loss:  6.4179%, Unambiguous SPO Loss:  6.4372%\n",
      "Epoch 250, Loss:   0.6242, True SPO Loss: 12.4518%, Unambiguous SPO Loss: 12.4530%\n",
      "Epoch 255, Loss:   0.1937, True SPO Loss:  8.3709%, Unambiguous SPO Loss:  8.3721%\n",
      "Epoch 260, Loss:   0.2409, True SPO Loss:  6.2204%, Unambiguous SPO Loss:  6.2173%\n",
      "Epoch 265, Loss:   0.3659, True SPO Loss: 10.1307%, Unambiguous SPO Loss: 10.1421%\n",
      "Epoch 270, Loss:   0.1748, True SPO Loss:  4.2166%, Unambiguous SPO Loss:  4.2175%\n",
      "Epoch 275, Loss:   2.4945, True SPO Loss:  5.4983%, Unambiguous SPO Loss:  5.5016%\n",
      "Epoch 280, Loss:   0.1226, True SPO Loss:  3.2758%, Unambiguous SPO Loss:  3.2767%\n",
      "Epoch 285, Loss:   0.0924, True SPO Loss:  8.4726%, Unambiguous SPO Loss:  8.5078%\n",
      "Epoch 290, Loss:   0.1903, True SPO Loss:  5.6402%, Unambiguous SPO Loss:  5.6409%\n",
      "Epoch 295, Loss:   0.1458, True SPO Loss:  5.1389%, Unambiguous SPO Loss:  5.1530%\n",
      "Epoch 300, Loss:   0.0897, True SPO Loss: 10.3198%, Unambiguous SPO Loss: 10.3295%\n"
     ]
    }
   ],
   "source": [
    "# train model\n",
    "num_epochs = 300\n",
    "lambd = 10\n",
    "reg.train()\n",
    "loss_log = []\n",
    "loss_log_truespo = []\n",
    "loss_log_unambspo = []\n",
    "for epoch in range(num_epochs):\n",
    "    # load data\n",
    "    for i, data in enumerate(sp_loader_train):\n",
    "        x, c, w, z = data\n",
    "        # cuda\n",
    "        if torch.cuda.is_available():\n",
    "            x, c, w, z = x.cuda(), c.cuda(), w.cuda(), z.cuda()\n",
    "        # linear regression\n",
    "        cp = reg(x)\n",
    "        # black-box optimizer\n",
    "        wp = bb.apply(cp)\n",
    "        # objective value\n",
    "        zp = (wp * c).sum(1).view(-1, 1)\n",
    "        # loss\n",
    "        loss = criterion(zp, z)\n",
    "        # l1 reg\n",
    "        l1_lambda = 1e-3\n",
    "        l1_reg = torch.abs(cp - c).sum(dim=1).mean()\n",
    "        loss += l1_lambda * l1_reg\n",
    "        # backward pass\n",
    "        optimizer.zero_grad()\n",
    "        loss.backward()\n",
    "        optimizer.step()\n",
    "    loss_log.append(loss.item())\n",
    "    if (epoch + 1) % 5 == 0:\n",
    "        # true SPO\n",
    "        trueloss = pyepo.eval.trueSPO(reg, sp_model, sp_loader_test)\n",
    "        loss_log_truespo.append(trueloss)\n",
    "        # unambiguous SPO \n",
    "        unambloss = pyepo.eval.unambSPO(reg, sp_model, sp_loader_test)\n",
    "        loss_log_unambspo.append(unambloss)\n",
    "        print('Epoch {:3}, Loss: {:8.4f}, True SPO Loss: {:7.4f}%, Unambiguous SPO Loss: {:7.4f}%'. \\\n",
    "              format(epoch+1, loss.item(), trueloss*100, unambloss*100))"
   ]
  },
  {
   "cell_type": "code",
   "execution_count": 53,
   "id": "given-symposium",
   "metadata": {},
   "outputs": [
    {
     "data": {
      "image/png": "[encoded data removed]",
      "text/plain": [
       "<Figure size 864x432 with 1 Axes>"
      ]
     },
     "metadata": {
      "needs_background": "light"
     },
     "output_type": "display_data"
    }
   ],
   "source": [
    "# draw plot\n",
    "plt.figure(figsize=(12, 6))\n",
    "plt.plot(loss_log, color='c')\n",
    "plt.xlabel('Epoch')\n",
    "plt.ylabel('SPO Loss')\n",
    "plt.title('Learning Curve')\n",
    "plt.show()"
   ]
  },
  {
   "cell_type": "code",
   "execution_count": 54,
   "id": "acf6c3c8",
   "metadata": {},
   "outputs": [
    {
     "data": {
      "image/png": "[encoded data removed]",
      "text/plain": [
       "<Figure size 864x432 with 1 Axes>"
      ]
     },
     "metadata": {
      "needs_background": "light"
     },
     "output_type": "display_data"
    }
   ],
   "source": [
    "# draw plot\n",
    "plt.figure(figsize=(12, 6))\n",
    "plt.plot(range(0, num_epochs, 5), loss_log_truespo, color='b', alpha=0.5, lw=2, label='Regret')\n",
    "plt.plot(range(0, num_epochs, 5), loss_log_unambspo, color='y', alpha=0.5, lw=2, label='Unambiguous Regret')\n",
    "plt.xlabel('Epoch')\n",
    "plt.ylabel('Loss')\n",
    "plt.title('Learning Curve')\n",
    "plt.legend()\n",
    "plt.show()"
   ]
  },
  {
   "cell_type": "code",
   "execution_count": 55,
   "id": "protective-proxy",
   "metadata": {},
   "outputs": [
    {
     "name": "stdout",
     "output_type": "stream",
     "text": [
      "Normalized true SPO Loss: 10.32%\n",
      "Normalized unambiguous SPO Loss: 10.33%\n"
     ]
    }
   ],
   "source": [
    "# evaluate\n",
    "spoloss = pyepo.eval.trueSPO(reg, sp_model, sp_loader_test)\n",
    "print('Normalized true SPO Loss: {:.2f}%'.format(spoloss * 100))\n",
    "spoloss = pyepo.eval.unambSPO(reg, sp_model, sp_loader_test)\n",
    "print('Normalized unambiguous SPO Loss: {:.2f}%'.format(spoloss * 100))"
   ]
  },
  {
   "cell_type": "code",
   "execution_count": 56,
   "id": "attempted-egypt",
   "metadata": {
    "scrolled": false
   },
   "outputs": [
    {
     "name": "stdout",
     "output_type": "stream",
     "text": [
      "Sample 0:\n",
      "    True cost: 0.24, 0.18, 0.55, 0.03, 0.81, 0.09, 0.06, 0.21, 0.10, 0.34, 0.09, 0.17, 0.04, 0.21, 0.07, 0.21, 0.02, 0.25, 0.15, 0.09, 0.17, 0.25, 0.40, 0.14, 0.70, 0.06, 0.07, 0.07, 0.37, 0.41, 0.30, 0.04, 0.30, 0.18, 0.55, 0.41, 0.06, 0.41, 0.12, 0.25\n",
      "    Pred cost: -0.71, 0.16, 0.10, -0.30, -0.26, -0.90, 0.22, 0.50, -0.15, -0.26, 0.71, -0.40, -0.27, 0.09, 0.10, -0.65, 0.27, 0.11, 0.06, -0.36, 0.77, -0.77, 0.58, 0.82, 0.66, -0.39, -0.84, 0.30, -0.52, -0.26, -1.22, 0.78, 0.31, -0.65, -0.82, -0.18, -0.61, -1.31, -0.44, -0.58\n",
      "    True sol: 1, 0, 0, 0, 0, 1, 0, 0, 0, 0, 1, 1, 0, 0, 0, 0, 1, 0, 0, 0, 0, 1, 0, 0, 0, 0, 1, 0, 0, 0, 0, 0, 0, 0, 0, 1, 0, 0, 0, 0, True obj: 1.34\n",
      "    Pred sol: 1, 0, 0, 0, 0, 1, 0, 0, 0, 0, 0, 0, 0, 0, 1, 0, 0, 0, 0, 1, 1, 1, 0, 0, 0, 0, 1, 0, 0, 0, 0, 0, 0, 0, 0, 1, 0, 0, 0, 0, Pred obj: 1.40\n",
      "\n",
      "Sample 1:\n",
      "    True cost: 0.01, 0.66, 0.55, 0.13, 0.09, 0.02, 0.08, 0.37, 0.07, 0.33, 0.02, 0.04, 0.06, 0.37, 0.05, 0.37, 0.41, 0.85, 0.91, 0.02, 0.04, 0.85, 0.17, 0.10, 0.19, 0.08, 0.05, 0.05, 0.59, 0.41, 0.49, 0.06, 0.49, 0.66, 0.55, 0.41, 0.08, 0.41, 1.47, 0.85\n",
      "    Pred cost: -0.25, 1.03, -0.95, 1.06, -0.46, -1.47, -0.05, -0.22, -0.56, 1.47, -0.23, -0.66, 1.32, 0.99, -1.21, -0.34, 0.79, -0.39, 0.22, -0.29, 1.01, -0.58, 0.46, 0.17, 0.04, -0.82, -0.58, -0.06, -0.39, 0.15, -0.34, -0.41, 0.74, 0.55, -0.35, -0.67, -0.20, -0.25, -0.75, -0.65\n",
      "    True sol: 1, 0, 0, 0, 0, 1, 0, 0, 0, 0, 0, 0, 0, 0, 1, 0, 0, 0, 0, 1, 1, 0, 0, 0, 0, 1, 0, 0, 0, 0, 1, 0, 0, 0, 0, 1, 0, 0, 0, 0, True obj: 1.12\n",
      "    Pred sol: 1, 0, 0, 0, 0, 1, 0, 0, 0, 0, 0, 0, 0, 0, 1, 0, 0, 0, 0, 1, 1, 1, 0, 0, 0, 0, 1, 0, 0, 0, 0, 0, 0, 0, 0, 1, 0, 0, 0, 0, Pred obj: 1.45\n",
      "\n",
      "Sample 2:\n",
      "    True cost: 0.34, 1.61, 0.55, 0.91, 0.69, 0.69, 0.37, 1.20, 0.47, 1.70, 0.69, 0.16, 0.65, 1.20, 0.97, 1.20, 0.51, 1.04, 0.70, 0.69, 0.16, 1.04, 1.27, 0.26, 0.97, 0.37, 0.97, 0.97, 0.34, 0.91, 0.75, 0.65, 0.75, 1.61, 0.55, 0.91, 0.37, 0.91, 0.98, 1.04\n",
      "    Pred cost: 0.04, -0.12, -0.17, 0.70, -0.63, -1.00, 0.01, 0.67, -0.23, 0.31, 0.25, 0.40, 0.09, 0.12, 0.04, -0.48, -0.19, -0.24, 0.34, -0.42, 0.90, -0.19, 0.34, -0.12, 0.48, -0.50, -0.39, -0.11, 0.19, -0.08, -0.08, -0.38, 0.43, -0.08, -0.86, -0.70, 0.37, -0.12, -0.85, 0.08\n",
      "    True sol: 1, 0, 0, 0, 0, 1, 0, 0, 0, 0, 1, 1, 0, 0, 0, 0, 1, 0, 0, 0, 0, 0, 0, 0, 0, 1, 0, 0, 0, 0, 0, 0, 0, 0, 1, 0, 0, 0, 0, 1, True obj: 4.35\n",
      "    Pred sol: 1, 0, 0, 0, 0, 1, 0, 0, 0, 0, 1, 1, 0, 0, 0, 0, 1, 0, 0, 0, 0, 0, 0, 0, 0, 1, 0, 0, 0, 0, 1, 0, 0, 0, 0, 1, 0, 0, 0, 0, Pred obj: 4.42\n",
      "\n",
      "Sample 3:\n",
      "    True cost: 0.35, 1.18, 0.55, 1.14, 0.37, 0.85, 1.70, 1.72, 0.51, 0.56, 0.85, 0.82, 1.66, 1.72, 0.54, 1.72, 2.19, 1.21, 3.12, 0.85, 0.82, 1.21, 0.88, 0.52, 0.21, 1.70, 0.54, 0.54, 1.68, 0.53, 1.76, 1.66, 1.76, 1.18, 0.55, 0.53, 1.70, 0.53, 2.26, 1.21\n",
      "    Pred cost: 0.26, 1.06, -0.87, 0.56, 0.48, 0.42, -0.13, 0.35, -0.44, 0.01, -0.06, -0.24, 1.44, 0.14, -0.65, 0.07, 0.39, -0.37, 0.19, -0.28, 0.48, 0.15, -0.22, -0.67, -0.54, -0.55, 0.01, -0.24, -0.14, 0.46, 0.71, -1.28, 1.14, 0.73, 0.61, 0.57, 0.91, -0.27, 0.35, 0.67\n",
      "    True sol: 0, 0, 0, 0, 1, 0, 0, 0, 0, 1, 0, 0, 0, 0, 1, 0, 0, 0, 0, 1, 0, 0, 0, 0, 1, 0, 0, 0, 0, 1, 0, 0, 0, 0, 1, 0, 0, 0, 0, 1, True obj: 4.82\n",
      "    Pred sol: 0, 0, 0, 0, 1, 0, 0, 0, 0, 1, 0, 0, 0, 0, 1, 0, 0, 0, 0, 1, 0, 0, 0, 0, 1, 0, 0, 0, 0, 1, 0, 0, 0, 0, 1, 0, 0, 0, 0, 1, Pred obj: 4.82\n",
      "\n",
      "Sample 4:\n",
      "    True cost: 2.24, 1.13, 0.55, 1.73, 1.50, 2.67, 1.74, 1.74, 1.43, 1.18, 2.67, 1.43, 2.57, 1.74, 1.81, 1.74, 1.07, 0.70, 1.08, 2.67, 1.43, 0.70, 1.82, 0.91, 0.96, 1.74, 1.81, 1.81, 0.87, 0.91, 1.13, 2.57, 1.13, 1.13, 0.55, 0.91, 1.74, 0.91, 0.66, 0.70\n",
      "    Pred cost: 0.32, -0.13, 0.16, -0.24, 0.38, 0.81, 0.19, 1.13, -0.05, -1.15, 0.56, 0.35, -0.12, -0.62, 0.75, -0.14, -0.23, -0.02, 0.17, -0.29, 0.18, 0.18, -0.00, -0.26, 0.01, -0.03, 0.13, -0.08, -0.02, 0.14, 0.32, -0.61, 0.41, -0.08, 0.06, 0.55, 0.87, -0.38, 0.29, 0.81\n",
      "    True sol: 0, 0, 0, 0, 1, 0, 0, 0, 0, 0, 0, 0, 0, 1, 0, 0, 0, 0, 1, 0, 0, 0, 0, 1, 0, 0, 0, 0, 1, 1, 0, 0, 0, 0, 1, 0, 0, 0, 0, 1, True obj: 8.25\n",
      "    Pred sol: 0, 0, 0, 0, 1, 0, 0, 0, 0, 0, 0, 0, 0, 1, 0, 0, 0, 0, 1, 0, 0, 0, 0, 1, 0, 0, 0, 0, 1, 1, 1, 0, 0, 0, 0, 1, 0, 0, 0, 0, Pred obj: 9.04\n",
      "\n",
      "Sample 5:\n",
      "    True cost: 0.16, 0.59, 0.55, 0.61, 0.15, 0.55, 1.33, 0.52, 0.18, 0.60, 0.55, 0.50, 0.54, 0.52, 0.62, 0.52, 1.44, 1.42, 1.26, 0.55, 0.50, 1.42, 0.53, 0.57, 0.18, 1.33, 0.62, 0.62, 0.47, 0.17, 1.28, 0.54, 1.28, 0.59, 0.55, 0.17, 1.33, 0.17, 1.39, 1.42\n",
      "    Pred cost: 0.23, 0.97, -0.71, 0.80, 0.02, -0.04, -0.32, -0.06, -0.98, -0.20, -0.05, -0.13, 0.90, -0.22, -0.68, -0.15, 0.60, -0.46, -0.49, 0.32, 0.49, -0.12, 0.16, -0.22, -0.40, -0.08, 0.65, -0.85, 0.14, 0.81, 0.61, -1.13, 0.63, 0.26, -0.07, 0.22, 0.36, 0.15, 0.48, 0.90\n",
      "    True sol: 1, 0, 0, 0, 0, 1, 0, 0, 0, 0, 1, 0, 0, 0, 0, 1, 0, 0, 0, 0, 0, 0, 0, 0, 1, 0, 0, 0, 0, 1, 1, 0, 0, 0, 0, 1, 0, 0, 0, 0, True obj: 3.59\n",
      "    Pred sol: 0, 0, 0, 0, 1, 0, 0, 0, 0, 1, 0, 0, 0, 0, 1, 0, 0, 0, 0, 1, 0, 0, 0, 0, 1, 0, 0, 0, 0, 1, 1, 0, 0, 0, 0, 1, 0, 0, 0, 0, Pred obj: 3.73\n",
      "\n",
      "Sample 6:\n",
      "    True cost: 1.20, 0.67, 0.55, 1.14, 0.71, 2.19, 2.48, 1.00, 0.55, 0.97, 2.19, 1.38, 1.62, 1.00, 1.58, 1.00, 1.32, 1.13, 1.16, 2.19, 1.38, 1.13, 1.40, 0.95, 0.46, 2.48, 1.58, 1.58, 0.57, 0.29, 1.61, 1.62, 1.61, 0.67, 0.55, 0.29, 2.48, 0.29, 0.79, 1.13\n",
      "    Pred cost: 0.29, 0.41, -0.17, 0.12, 0.31, 0.73, -0.19, 0.58, -0.65, -1.31, 0.41, 0.28, 0.18, -0.84, 0.20, -0.16, 0.09, -0.24, -0.41, 0.19, 0.26, 0.11, -0.02, -0.31, -0.24, 0.14, 0.66, -0.69, 0.24, 0.63, 0.63, -0.95, 0.55, -0.16, -0.03, 0.67, 0.69, -0.19, 0.76, 1.33\n",
      "    True sol: 0, 0, 0, 0, 1, 0, 0, 0, 0, 0, 0, 0, 0, 1, 0, 0, 0, 0, 1, 0, 0, 0, 0, 1, 0, 0, 0, 0, 1, 1, 0, 0, 0, 0, 1, 0, 0, 0, 0, 1, True obj: 6.35\n",
      "    Pred sol: 0, 0, 0, 0, 1, 0, 0, 0, 0, 0, 0, 0, 0, 1, 0, 0, 0, 0, 1, 0, 0, 0, 0, 1, 0, 0, 0, 0, 1, 1, 1, 0, 0, 0, 0, 1, 0, 0, 0, 0, Pred obj: 6.58\n",
      "\n",
      "Sample 7:\n",
      "    True cost: 0.18, 0.13, 0.55, 0.40, 0.05, 0.05, 0.07, 0.01, 0.89, 0.17, 0.05, 0.23, 0.04, 0.01, 0.47, 0.01, 0.50, 0.22, 0.01, 0.05, 0.23, 0.22, 0.01, 1.23, 0.44, 0.07, 0.47, 0.47, 0.05, 0.37, 0.02, 0.04, 0.02, 0.13, 0.55, 0.37, 0.07, 0.37, 0.18, 0.22\n",
      "    Pred cost: 0.74, -0.25, 0.46, 0.08, -0.18, -0.09, 0.81, 0.07, -0.67, 0.28, 0.00, -0.69, -0.73, -0.01, 0.67, -0.14, 1.34, 0.04, -0.74, 0.88, -0.55, -0.72, 1.43, 1.63, -0.12, 1.10, 1.40, -0.55, -0.85, 0.68, -0.43, 0.04, -1.64, 0.25, -0.35, -0.53, -0.73, 1.33, 0.07, -0.61\n",
      "    True sol: 0, 0, 0, 0, 1, 0, 0, 0, 0, 0, 0, 0, 0, 1, 0, 0, 0, 0, 1, 1, 1, 0, 0, 0, 0, 1, 0, 0, 0, 0, 1, 0, 0, 0, 0, 1, 0, 0, 0, 0, True obj: 0.82\n",
      "    Pred sol: 0, 0, 0, 0, 1, 0, 0, 0, 0, 0, 0, 0, 0, 1, 0, 0, 0, 0, 1, 1, 0, 0, 0, 0, 1, 0, 0, 0, 0, 0, 0, 0, 0, 1, 0, 0, 0, 0, 1, 1, Pred obj: 1.09\n",
      "\n",
      "Sample 8:\n",
      "    True cost: 0.32, 1.37, 0.55, 0.96, 0.50, 0.55, 0.32, 0.82, 0.59, 1.38, 0.55, 0.17, 0.55, 0.82, 0.97, 0.82, 0.60, 0.90, 0.50, 0.55, 0.17, 0.90, 0.82, 0.35, 0.88, 0.32, 0.97, 0.97, 0.28, 0.88, 0.51, 0.55, 0.51, 1.37, 0.55, 0.88, 0.32, 0.88, 0.89, 0.90\n",
      "    Pred cost: 0.20, -0.16, -0.10, 0.66, -0.57, -0.85, 0.14, 0.60, -0.27, 0.37, 0.17, 0.27, 0.00, 0.13, 0.14, -0.41, 0.02, -0.21, 0.22, -0.24, 0.67, -0.23, 0.50, 0.08, 0.37, -0.27, -0.11, -0.18, 0.05, 0.03, -0.07, -0.39, 0.12, 0.03, -0.75, -0.70, 0.27, 0.18, -0.75, -0.02\n",
      "    True sol: 1, 0, 0, 0, 0, 1, 0, 0, 0, 0, 1, 1, 0, 0, 0, 0, 1, 0, 0, 0, 0, 0, 0, 0, 0, 1, 0, 0, 0, 0, 1, 0, 0, 0, 0, 1, 0, 0, 0, 0, True obj: 3.90\n",
      "    Pred sol: 1, 0, 0, 0, 0, 1, 0, 0, 0, 0, 1, 0, 0, 0, 0, 1, 0, 0, 0, 0, 1, 0, 0, 0, 0, 1, 0, 0, 0, 0, 1, 0, 0, 0, 0, 1, 0, 0, 0, 0, Pred obj: 4.12\n",
      "\n",
      "Sample 9:\n",
      "    True cost: 0.32, 0.95, 0.55, 1.09, 0.26, 0.48, 0.44, 0.46, 0.78, 0.86, 0.48, 0.29, 0.54, 0.46, 0.99, 0.46, 1.01, 0.79, 0.41, 0.48, 0.29, 0.79, 0.41, 0.64, 0.60, 0.44, 0.99, 0.99, 0.27, 0.67, 0.37, 0.54, 0.37, 0.95, 0.55, 0.67, 0.44, 0.67, 0.87, 0.79\n",
      "    Pred cost: 0.48, -0.00, -0.09, 0.57, -0.29, -0.34, 0.25, 0.43, -0.45, 0.26, 0.04, 0.01, 0.06, 0.03, 0.18, -0.22, 0.41, -0.21, -0.07, 0.11, 0.27, -0.22, 0.60, 0.28, 0.03, 0.11, 0.47, -0.38, -0.14, 0.35, 0.14, -0.59, -0.21, 0.27, -0.38, -0.44, 0.23, 0.59, -0.30, 0.08\n",
      "    True sol: 0, 0, 0, 0, 1, 0, 0, 0, 0, 0, 0, 0, 0, 1, 0, 0, 0, 0, 1, 1, 1, 0, 0, 0, 0, 1, 0, 0, 0, 0, 1, 0, 0, 0, 0, 1, 0, 0, 0, 0, True obj: 3.38\n",
      "    Pred sol: 0, 0, 0, 0, 1, 0, 0, 0, 0, 0, 0, 0, 0, 1, 0, 0, 0, 0, 1, 1, 1, 0, 0, 0, 0, 1, 0, 0, 0, 0, 1, 0, 0, 0, 0, 1, 0, 0, 0, 0, Pred obj: 3.38\n",
      "\n"
     ]
    }
   ],
   "source": [
    "# compare solutions\n",
    "reg.eval()\n",
    "# load data\n",
    "for i, data in enumerate(sp_loader_test):\n",
    "    x, c, w, z = data\n",
    "    # cuda\n",
    "    if torch.cuda.is_available():\n",
    "        x, c, w, z = x.cuda(), c.cuda(), w.cuda(), z.cuda()\n",
    "    # predict\n",
    "    cp = reg(x)\n",
    "    # convert to numpy\n",
    "    c = c.to('cpu').detach().numpy()\n",
    "    w = w.to('cpu').detach().numpy()\n",
    "    z = z.to('cpu').detach().numpy()\n",
    "    cp = cp.to('cpu').detach().numpy()\n",
    "    for j in range(min(10, batch_size)):\n",
    "        print('Sample {}:'.format(j))\n",
    "        print('    True cost:', ', '.join(['{:.2f}'.format(cost) for cost in c[j]]))\n",
    "        print('    Pred cost:', ', '.join(['{:.2f}'.format(cost) for cost in cp[j]]))\n",
    "        # solve cost from prediction\n",
    "        sp_model.setObj(cp[j])\n",
    "        wpj, _ = sp_model.solve()\n",
    "        zpj = np.dot(c[j], wpj)\n",
    "        print('    True sol: ' + ', '.join(['{:.0f}'.format(x) for x in w[j]]) + ', True obj: {:.2f}'.format(z[j,0]))\n",
    "        print('    Pred sol: '+  ', '.join(['{:.0f}'.format(x) for x in wpj]) + ', Pred obj: {:.2f}'.format(zpj))\n",
    "        print()\n",
    "    break"
   ]
  },
  {
   "cell_type": "code",
   "execution_count": null,
   "id": "capital-ferry",
   "metadata": {},
   "outputs": [],
   "source": []
  }
 ],
 "metadata": {
  "kernelspec": {
   "display_name": "Python 3",
   "language": "python",
   "name": "python3"
  },
  "language_info": {
   "codemirror_mode": {
    "name": "ipython",
    "version": 3
   },
   "file_extension": ".py",
   "mimetype": "text/x-python",
   "name": "python",
   "nbconvert_exporter": "python",
   "pygments_lexer": "ipython3",
   "version": "3.8.8"
  }
 },
 "nbformat": 4,
 "nbformat_minor": 5
}
