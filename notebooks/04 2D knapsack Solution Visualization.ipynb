{
 "cells": [
  {
   "cell_type": "markdown",
   "id": "27c02356",
   "metadata": {
    "id": "27c02356"
   },
   "source": [
    "## Install (Colab Only)"
   ]
  },
  {
   "cell_type": "code",
   "execution_count": 4,
   "id": "f6d3a13c",
   "metadata": {
    "colab": {
     "base_uri": "https://localhost:8080/"
    },
    "id": "f6d3a13c",
    "outputId": "0b72ad8c-590a-41f5-ad6f-f9336be19af6"
   },
   "outputs": [
    {
     "name": "stdout",
     "output_type": "stream",
     "text": [
      "Cloning into 'PyEPO'...\n",
      "remote: Enumerating objects: 20319, done.\u001b[K\n",
      "remote: Counting objects: 100% (4981/4981), done.\u001b[K\n",
      "remote: Compressing objects: 100% (3023/3023), done.\u001b[K\n",
      "remote: Total 20319 (delta 1948), reused 4914 (delta 1896), pack-reused 15338\u001b[K\n",
      "Receiving objects: 100% (20319/20319), 320.71 MiB | 25.95 MiB/s, done.\n",
      "Resolving deltas: 100% (7689/7689), done.\n",
      "Processing ./PyEPO/pkg\n",
      "  Preparing metadata (setup.py) ... \u001b[?25l\u001b[?25hdone\n",
      "Requirement already satisfied: numpy in /usr/local/lib/python3.10/dist-packages (from pyepo==0.3.2) (1.22.4)\n",
      "Requirement already satisfied: scipy in /usr/local/lib/python3.10/dist-packages (from pyepo==0.3.2) (1.10.1)\n",
      "Requirement already satisfied: pathos in /usr/local/lib/python3.10/dist-packages (from pyepo==0.3.2) (0.3.0)\n",
      "Requirement already satisfied: tqdm in /usr/local/lib/python3.10/dist-packages (from pyepo==0.3.2) (4.65.0)\n",
      "Requirement already satisfied: Pyomo>=6.1.2 in /usr/local/lib/python3.10/dist-packages (from pyepo==0.3.2) (6.6.1)\n",
      "Requirement already satisfied: gurobipy>=9.1.2 in /usr/local/lib/python3.10/dist-packages (from pyepo==0.3.2) (10.0.2)\n",
      "Requirement already satisfied: scikit_learn in /usr/local/lib/python3.10/dist-packages (from pyepo==0.3.2) (1.2.2)\n",
      "Requirement already satisfied: torch>=1.13.1 in /usr/local/lib/python3.10/dist-packages (from pyepo==0.3.2) (2.0.1+cu118)\n",
      "Requirement already satisfied: ply in /usr/local/lib/python3.10/dist-packages (from Pyomo>=6.1.2->pyepo==0.3.2) (3.11)\n",
      "Requirement already satisfied: filelock in /usr/local/lib/python3.10/dist-packages (from torch>=1.13.1->pyepo==0.3.2) (3.12.2)\n",
      "Requirement already satisfied: typing-extensions in /usr/local/lib/python3.10/dist-packages (from torch>=1.13.1->pyepo==0.3.2) (4.7.1)\n",
      "Requirement already satisfied: sympy in /usr/local/lib/python3.10/dist-packages (from torch>=1.13.1->pyepo==0.3.2) (1.11.1)\n",
      "Requirement already satisfied: networkx in /usr/local/lib/python3.10/dist-packages (from torch>=1.13.1->pyepo==0.3.2) (3.1)\n",
      "Requirement already satisfied: jinja2 in /usr/local/lib/python3.10/dist-packages (from torch>=1.13.1->pyepo==0.3.2) (3.1.2)\n",
      "Requirement already satisfied: triton==2.0.0 in /usr/local/lib/python3.10/dist-packages (from torch>=1.13.1->pyepo==0.3.2) (2.0.0)\n",
      "Requirement already satisfied: cmake in /usr/local/lib/python3.10/dist-packages (from triton==2.0.0->torch>=1.13.1->pyepo==0.3.2) (3.25.2)\n",
      "Requirement already satisfied: lit in /usr/local/lib/python3.10/dist-packages (from triton==2.0.0->torch>=1.13.1->pyepo==0.3.2) (16.0.6)\n",
      "Requirement already satisfied: ppft>=1.7.6.6 in /usr/local/lib/python3.10/dist-packages (from pathos->pyepo==0.3.2) (1.7.6.6)\n",
      "Requirement already satisfied: dill>=0.3.6 in /usr/local/lib/python3.10/dist-packages (from pathos->pyepo==0.3.2) (0.3.6)\n",
      "Requirement already satisfied: pox>=0.3.2 in /usr/local/lib/python3.10/dist-packages (from pathos->pyepo==0.3.2) (0.3.2)\n",
      "Requirement already satisfied: multiprocess>=0.70.14 in /usr/local/lib/python3.10/dist-packages (from pathos->pyepo==0.3.2) (0.70.14)\n",
      "Requirement already satisfied: joblib>=1.1.1 in /usr/local/lib/python3.10/dist-packages (from scikit_learn->pyepo==0.3.2) (1.3.1)\n",
      "Requirement already satisfied: threadpoolctl>=2.0.0 in /usr/local/lib/python3.10/dist-packages (from scikit_learn->pyepo==0.3.2) (3.1.0)\n",
      "Requirement already satisfied: MarkupSafe>=2.0 in /usr/local/lib/python3.10/dist-packages (from jinja2->torch>=1.13.1->pyepo==0.3.2) (2.1.3)\n",
      "Requirement already satisfied: mpmath>=0.19 in /usr/local/lib/python3.10/dist-packages (from sympy->torch>=1.13.1->pyepo==0.3.2) (1.3.0)\n",
      "Building wheels for collected packages: pyepo\n",
      "  Building wheel for pyepo (setup.py) ... \u001b[?25l\u001b[?25hdone\n",
      "  Created wheel for pyepo: filename=pyepo-0.3.2-py3-none-any.whl size=34599 sha256=ef1250e7405af46065c2b9e52e7108c6fa7756c71ebe3da821a920ddd8b098aa\n",
      "  Stored in directory: /tmp/pip-ephem-wheel-cache-_ypyhuqr/wheels/46/e0/92/19132b049913f800d1a8d6e61b81fe00bcac3f9d11ef30d2a5\n",
      "Successfully built pyepo\n",
      "Installing collected packages: pyepo\n",
      "Successfully installed pyepo-0.3.2\n"
     ]
    }
   ],
   "source": [
    "# download\n",
    "!git clone -b main https://github.com/khalil-research/PyEPO.git\n",
    "# install\n",
    "!pip install PyEPO/pkg/."
   ]
  },
  {
   "cell_type": "markdown",
   "id": "f8ec29a2",
   "metadata": {
    "id": "f8ec29a2"
   },
   "source": [
    "# Knapsack Solution Visualization"
   ]
  },
  {
   "cell_type": "markdown",
   "id": "099dd786",
   "metadata": {
    "id": "099dd786"
   },
   "source": [
    "We utilize a technique of visualizing predicted-then-optimized results in order to gain an intuitive understanding of the performance variations among the various approaches.\n",
    "\n",
    "In this study, the knapsack problem is utilized as an exemplar.  The knapsack problem is a combinatorial optimization problem that seeks to find the most valuable set of items to include in a knapsack, subject to constraints on the total weight of the items."
   ]
  },
  {
   "cell_type": "markdown",
   "id": "b51030a3",
   "metadata": {
    "id": "b51030a3"
   },
   "source": [
    "## 1 Preparation"
   ]
  },
  {
   "cell_type": "markdown",
   "id": "9999cecc",
   "metadata": {
    "id": "9999cecc"
   },
   "source": [
    "### 1.1 Libraries"
   ]
  },
  {
   "cell_type": "markdown",
   "id": "b66eca93",
   "metadata": {
    "id": "b66eca93"
   },
   "source": [
    "Let's import useful libraries."
   ]
  },
  {
   "cell_type": "code",
   "execution_count": 5,
   "id": "32d8b276",
   "metadata": {
    "colab": {
     "base_uri": "https://localhost:8080/"
    },
    "id": "32d8b276",
    "outputId": "4d1442fa-df28-4205-fc26-20060f56ca9a"
   },
   "outputs": [
    {
     "name": "stdout",
     "output_type": "stream",
     "text": [
      "Auto-Sklearn cannot be imported.\n"
     ]
    }
   ],
   "source": [
    "import time\n",
    "import random\n",
    "import pyepo\n",
    "import torch\n",
    "from matplotlib import pyplot as plt\n",
    "from matplotlib import colormaps\n",
    "import numpy as np\n",
    "from tqdm import tqdm\n",
    "from torch import nn"
   ]
  },
  {
   "cell_type": "markdown",
   "id": "d03e4bfd",
   "metadata": {
    "id": "d03e4bfd"
   },
   "source": [
    "Then, we set the random seed for reproducibility."
   ]
  },
  {
   "cell_type": "code",
   "execution_count": 6,
   "id": "a32e24d8",
   "metadata": {
    "colab": {
     "base_uri": "https://localhost:8080/"
    },
    "id": "a32e24d8",
    "outputId": "9024ad1f-0b50-4fd5-b36e-874b9ceaa241"
   },
   "outputs": [
    {
     "data": {
      "text/plain": [
       "<torch._C.Generator at 0x7dcd06d4f490>"
      ]
     },
     "execution_count": 6,
     "metadata": {},
     "output_type": "execute_result"
    }
   ],
   "source": [
    "# fix random seed\n",
    "random.seed(135)\n",
    "np.random.seed(135)\n",
    "torch.manual_seed(135)"
   ]
  },
  {
   "cell_type": "markdown",
   "id": "45bf7bf0",
   "metadata": {
    "id": "45bf7bf0"
   },
   "source": [
    "### 1.2 Visulization Function"
   ]
  },
  {
   "cell_type": "markdown",
   "id": "95625989",
   "metadata": {
    "id": "95625989"
   },
   "source": [
    "Define a function that visualizes the result of the predict-then-optimize knapsack."
   ]
  },
  {
   "cell_type": "code",
   "execution_count": 7,
   "id": "cf5eb044",
   "metadata": {
    "id": "cf5eb044"
   },
   "outputs": [],
   "source": [
    "# plot function\n",
    "def plotSol(m, c, w, weights, caps, caption=None):\n",
    "    # colors\n",
    "    cmap = colormaps[\"plasma\"](np.linspace(0, 1, m))\n",
    "    # get list\n",
    "    sol, val, cap1, cap2 = [], [], [], []\n",
    "    for i in range(m):\n",
    "        sol.append(3)\n",
    "        val.append(c[i] * w[i])\n",
    "        cap1.append(weights[0,i] * w[i])\n",
    "        cap2.append(weights[1,i] * w[i])\n",
    "    # init fig\n",
    "    fig = plt.figure(figsize=(8,4))\n",
    "    plt.gca().invert_yaxis()\n",
    "    acc = [0, 0, 0, 0]\n",
    "    # bar plot\n",
    "    for i in range(m):\n",
    "        bar = [sol[i], val[i], cap1[i], cap2[i]]\n",
    "        plt.barh(range(4), bar, left=acc, color=cmap[i], height=0.75, edgecolor=\"w\", linewidth=2)\n",
    "        # not selected\n",
    "        if not int(w[i]):\n",
    "            # grey color\n",
    "            bar = [sol[i], 0, 0, 0]\n",
    "            plt.barh(range(4), bar, left=acc, color=cmap[i], height=0.75, edgecolor=\"w\", linewidth=2)\n",
    "            plt.barh(range(4), bar, left=acc, color=\"lightgrey\", height=0.75, edgecolor=\"w\", linewidth=2, alpha=0.9)\n",
    "        acc = [acc[0]+sol[i], acc[1]+val[i], acc[2]+cap1[i], acc[3]+cap2[i]]\n",
    "    # total value\n",
    "    tval = sum(val)\n",
    "    plt.text(tval+0.5, 1.1, tval, fontsize=12)\n",
    "    # vertical line\n",
    "    plt.axvline(x=caps[0], ymin=0.27, ymax=0.48, color=\"firebrick\", linewidth=1.5)\n",
    "    plt.text(caps[0]+0.5, 2.1, \"Capacity 1\", fontsize=12, color=\"firebrick\")\n",
    "    plt.axvline(x=caps[1], ymin=0.03, ymax=0.24, color=\"firebrick\", linewidth=1.5)\n",
    "    plt.text(caps[1]+0.5, 3.1, \"Capacity 2\", fontsize=12, color=\"firebrick\")\n",
    "    # labels and ticks\n",
    "    plt.xticks([])\n",
    "    plt.yticks(range(4), [\"Items Selection\", \"Items Value\", \"Resource 1\", \"Resource 2\"], fontsize=16)\n",
    "    plt.minorticks_off()\n",
    "    plt.tick_params(axis='both', length=0)\n",
    "    plt.gca().spines[\"right\"].set_visible(False)\n",
    "    plt.gca().spines[\"top\"].set_visible(False)\n",
    "    plt.gca().spines[\"bottom\"].set_visible(False)\n",
    "    plt.title(caption, fontsize=18)\n",
    "    plt.show()\n",
    "    return fig"
   ]
  },
  {
   "cell_type": "code",
   "execution_count": 8,
   "id": "5af21aa2",
   "metadata": {
    "id": "5af21aa2"
   },
   "outputs": [],
   "source": [
    "def visSol(reg, dataloader, optmodel, ind, title):\n",
    "    # compare solutions\n",
    "    for i, data in enumerate(dataloader):\n",
    "        # load data\n",
    "        x, c, w, z = data\n",
    "        # cuda\n",
    "        if torch.cuda.is_available():\n",
    "            x, c, w, z = x.cuda(), c.cuda(), w.cuda(), z.cuda()\n",
    "        # predict\n",
    "        cp = reg(x)\n",
    "        # convert to numpy\n",
    "        x = x.to(\"cpu\").detach().numpy()\n",
    "        c = c.to(\"cpu\").detach().numpy()[0]\n",
    "        w = w.to(\"cpu\").detach().numpy()[0]\n",
    "        z = z.to(\"cpu\").detach().numpy()[0]\n",
    "        cp = cp.to(\"cpu\").detach().numpy()\n",
    "        if i == ind:\n",
    "            # solve\n",
    "            optmodel.setObj(cp[0])\n",
    "            wp, _ = optmodel.solve()\n",
    "            fig = plotSol(m, c, wp, weights, caps, title)\n",
    "            break"
   ]
  },
  {
   "cell_type": "markdown",
   "id": "6a984489",
   "metadata": {
    "id": "6a984489"
   },
   "source": [
    "### 1.3 Optimization Model, Dataset and Data Loader"
   ]
  },
  {
   "cell_type": "markdown",
   "id": "0ec5de34",
   "metadata": {
    "id": "0ec5de34"
   },
   "source": [
    "#### Data Generation"
   ]
  },
  {
   "cell_type": "markdown",
   "id": "b42e33da",
   "metadata": {
    "id": "b42e33da"
   },
   "source": [
    "We load the synthetic knapsack dataset where the weights $\\mathbf{c}$ are unknown and can be predicted from features $\\mathbf{x}$. Additionally, the data generator provides the weights of items. Since the constraints are fixed, the item weights are the same for all instances."
   ]
  },
  {
   "cell_type": "code",
   "execution_count": 9,
   "id": "8418f56a",
   "metadata": {
    "id": "8418f56a"
   },
   "outputs": [],
   "source": [
    "# generate data for 2D knapsack\n",
    "m = 16 # number of items\n",
    "n = 100 # number of data\n",
    "p = 5 # size of feature\n",
    "deg = 4 # polynomial degree\n",
    "dim = 2 # dimension of knapsack\n",
    "noise_width = 0.5 # noise half-width\n",
    "caps = [20] * dim # capacity\n",
    "weights, x, c = pyepo.data.knapsack.genData(n+1000, p, m, deg=deg, dim=dim, noise_width=noise_width)"
   ]
  },
  {
   "cell_type": "code",
   "execution_count": 10,
   "id": "eb6c8b60",
   "metadata": {
    "id": "eb6c8b60"
   },
   "outputs": [],
   "source": [
    "# data split\n",
    "from sklearn.model_selection import train_test_split\n",
    "x_train, x_test, c_train, c_test = train_test_split(x, c, test_size=1000, random_state=246)"
   ]
  },
  {
   "cell_type": "markdown",
   "id": "be5352df",
   "metadata": {
    "id": "be5352df"
   },
   "source": [
    "#### Optimization Model"
   ]
  },
  {
   "cell_type": "markdown",
   "id": "417b6d28",
   "metadata": {
    "id": "417b6d28"
   },
   "source": [
    "We load a MIP model for the knapsack problem from ``pyepo.model.grb.knapsackModel``. For more details on ``optModel``, you can read tutorial [01 Optimization Model\n",
    "](https://github.com/khalil-research/PyEPO/blob/main/notebooks/01%20Optimization%20Model.ipynb) and [documentation](https://khalil-research.github.io/PyEPO/build/html/content/examples/model.html)."
   ]
  },
  {
   "cell_type": "code",
   "execution_count": 11,
   "id": "82942a29",
   "metadata": {
    "colab": {
     "base_uri": "https://localhost:8080/"
    },
    "id": "82942a29",
    "outputId": "e0abda6e-bdde-4cce-ca79-31a9268a68af"
   },
   "outputs": [
    {
     "name": "stdout",
     "output_type": "stream",
     "text": [
      "Restricted license - for non-production use only - expires 2024-10-28\n"
     ]
    }
   ],
   "source": [
    "optmodel = pyepo.model.grb.knapsackModel(weights, caps)"
   ]
  },
  {
   "cell_type": "markdown",
   "id": "7eda047f",
   "metadata": {
    "id": "7eda047f"
   },
   "source": [
    "#### Dataset and Data Loader"
   ]
  },
  {
   "cell_type": "markdown",
   "id": "6349dcaf",
   "metadata": {
    "id": "6349dcaf"
   },
   "source": [
    "PyTorch provides ``Dataset`` to stores the samples $\\mathbf{x}$ and their corresponding costs $\\mathbf{c}$. Besides storing $\\mathbf{x}$ and $\\mathbf{c}$, ``optDataset`` uses solver to find the corresponding optimal solutions $\\mathbf{w}^*$ and objective values $\\mathbf{z}^*$ per instance.\n",
    "\n",
    "More details on ``optDataset`` is [here](https://github.com/khalil-research/PyEPO/blob/main/notebooks/02%20Optimization%20Dataset.ipynb)."
   ]
  },
  {
   "cell_type": "code",
   "execution_count": 12,
   "id": "26d99ddd",
   "metadata": {
    "colab": {
     "base_uri": "https://localhost:8080/"
    },
    "id": "26d99ddd",
    "outputId": "f9937686-73e6-409f-8342-6815cd9fb190"
   },
   "outputs": [
    {
     "name": "stdout",
     "output_type": "stream",
     "text": [
      "Optimizing for optDataset...\n"
     ]
    },
    {
     "name": "stderr",
     "output_type": "stream",
     "text": [
      "100%|██████████| 100/100 [00:00<00:00, 567.46it/s]\n"
     ]
    },
    {
     "name": "stdout",
     "output_type": "stream",
     "text": [
      "Optimizing for optDataset...\n"
     ]
    },
    {
     "name": "stderr",
     "output_type": "stream",
     "text": [
      "100%|██████████| 1000/1000 [00:01<00:00, 627.77it/s]\n"
     ]
    }
   ],
   "source": [
    "# get training data set\n",
    "dataset_train = pyepo.data.dataset.optDataset(optmodel, x_train, c_train)\n",
    "# get test data set\n",
    "dataset_test = pyepo.data.dataset.optDataset(optmodel, x_test, c_test)"
   ]
  },
  {
   "cell_type": "markdown",
   "id": "4e4a8f75",
   "metadata": {
    "id": "4e4a8f75"
   },
   "source": [
    "``DataLoader`` wraps an iterable around the Dataset to enable easy access to the samples."
   ]
  },
  {
   "cell_type": "code",
   "execution_count": 13,
   "id": "ccda7571",
   "metadata": {
    "id": "ccda7571"
   },
   "outputs": [],
   "source": [
    "# get data loader\n",
    "from torch.utils.data import DataLoader\n",
    "batch_size = 32\n",
    "loader_train = DataLoader(dataset_train, batch_size=batch_size, shuffle=True)\n",
    "loader_test = DataLoader(dataset_test, batch_size=1, shuffle=False)"
   ]
  },
  {
   "cell_type": "markdown",
   "id": "b75fc57f",
   "metadata": {
    "id": "b75fc57f"
   },
   "source": [
    "### 1.4 PyTorch Linear Regression"
   ]
  },
  {
   "cell_type": "markdown",
   "id": "39633429",
   "metadata": {
    "id": "39633429"
   },
   "source": [
    "In PyTorch, the ``nn.Module`` is a base class for all neural network modules in the library. It provides a convenient way to organize the layers of a model, and to define the forward pass of the model.\n",
    "\n",
    "Here, we build the simplest PyTorch model, linear regression."
   ]
  },
  {
   "cell_type": "code",
   "execution_count": 14,
   "id": "41573a0c",
   "metadata": {
    "id": "41573a0c"
   },
   "outputs": [],
   "source": [
    "from torch import nn\n",
    "# build linear model\n",
    "class LinearRegression(nn.Module):\n",
    "\n",
    "    def __init__(self):\n",
    "        super(LinearRegression, self).__init__()\n",
    "        self.linear = nn.Linear(p, m)\n",
    "\n",
    "    def forward(self, x):\n",
    "        out = self.linear(x)\n",
    "        return out"
   ]
  },
  {
   "cell_type": "markdown",
   "id": "1453b003",
   "metadata": {
    "id": "1453b003"
   },
   "source": [
    "## 2 Solution Visualization"
   ]
  },
  {
   "cell_type": "markdown",
   "id": "3ab93f72",
   "metadata": {
    "id": "3ab93f72"
   },
   "source": [
    "We present a visual representation of solutions to the knapsack problem obtained from a variety of methods. All apply to the same instance of the problem. The visualization includes four rows, with the first row depicting the items selected, the second row depicting the corresponding total values, and the last two rows displaying the capacity constraints. This visual representation serves to provide an intuitive understanding of the solutions obtained through the different methods."
   ]
  },
  {
   "cell_type": "code",
   "execution_count": 15,
   "id": "fe394fbf",
   "metadata": {
    "id": "fe394fbf"
   },
   "outputs": [],
   "source": [
    "# a index of arbitrary instance to visualize\n",
    "ind = 0"
   ]
  },
  {
   "cell_type": "markdown",
   "id": "0c351b23",
   "metadata": {
    "id": "0c351b23"
   },
   "source": [
    "Define function to train model with different methods."
   ]
  },
  {
   "cell_type": "code",
   "execution_count": 16,
   "id": "2406d0ee",
   "metadata": {
    "id": "2406d0ee"
   },
   "outputs": [],
   "source": [
    "# train model\n",
    "def trainModel(reg, loss_func, method_name, num_epochs=20, lr=5e-2):\n",
    "    # set adam optimizer\n",
    "    optimizer = torch.optim.Adam(reg.parameters(), lr=lr)\n",
    "    # train mode\n",
    "    reg.train()\n",
    "    for epoch in range(num_epochs):\n",
    "        # load data\n",
    "        for i, data in enumerate(loader_train):\n",
    "            x, c, w, z = data\n",
    "            # cuda\n",
    "            if torch.cuda.is_available():\n",
    "                x, c, w, z = x.cuda(), c.cuda(), w.cuda(), z.cuda()\n",
    "            # forward pass\n",
    "            cp = reg(x)\n",
    "            if method_name == \"spo+\":\n",
    "                loss = loss_func(cp, c, w, z)\n",
    "            if method_name == \"ptb\" or method_name == \"pfy\" or method_name == \"nce\":\n",
    "                loss = loss_func(cp, w)\n",
    "            if method_name == \"dbb\":\n",
    "                loss = loss_func(cp, c, z)\n",
    "            if method_name == \"2s\" or method_name == \"ltr\":\n",
    "                loss = loss_func(cp, c)\n",
    "            # backward pass\n",
    "            optimizer.zero_grad()\n",
    "            loss.backward()\n",
    "            optimizer.step()\n",
    "        # log\n",
    "        if epoch % 3 == 0:\n",
    "            regret = pyepo.metric.regret(reg, optmodel, loader_test)\n",
    "            print(\"Epoch {:2},  Loss: {:9.4f},  Regret: {:7.4f}%\".format(epoch+1, loss.item(), regret*100))"
   ]
  },
  {
   "cell_type": "markdown",
   "id": "7209c23f",
   "metadata": {
    "id": "7209c23f"
   },
   "source": [
    "### 2.1 Optimal Solution"
   ]
  },
  {
   "cell_type": "markdown",
   "id": "ffdf8105",
   "metadata": {
    "id": "ffdf8105"
   },
   "source": [
    "True optimal solution for current instance."
   ]
  },
  {
   "cell_type": "code",
   "execution_count": 17,
   "id": "0d41aab7",
   "metadata": {
    "colab": {
     "base_uri": "https://localhost:8080/",
     "height": 372
    },
    "id": "0d41aab7",
    "outputId": "e233c05e-8c16-4adf-b606-217ecf028bc8"
   },
   "outputs": [
    {
     "data": {
      "image/png": "[encoded data removed]",
      "text/plain": [
       "<Figure size 800x400 with 1 Axes>"
      ]
     },
     "metadata": {},
     "output_type": "display_data"
    }
   ],
   "source": [
    "# compare solutions\n",
    "for i, data in enumerate(loader_test):\n",
    "    # load data\n",
    "    x, c, w, z = data\n",
    "    # convert to numpy\n",
    "    x = x.to(\"cpu\").detach().numpy()[0]\n",
    "    c = c.to(\"cpu\").detach().numpy()[0]\n",
    "    w = w.to(\"cpu\").detach().numpy()[0]\n",
    "    z = z.to(\"cpu\").detach().numpy()[0]\n",
    "    if i == ind:\n",
    "        fig = plotSol(m, c, w, weights, caps, \"Optimal Solution\")\n",
    "        break"
   ]
  },
  {
   "cell_type": "markdown",
   "id": "8ebd7ce4",
   "metadata": {
    "id": "8ebd7ce4"
   },
   "source": [
    "### 2.2 Two-Stage with Linear Regression"
   ]
  },
  {
   "cell_type": "markdown",
   "id": "e7938634",
   "metadata": {
    "id": "e7938634"
   },
   "source": [
    "Two-stage method: train with a linear regression"
   ]
  },
  {
   "cell_type": "code",
   "execution_count": 18,
   "id": "c8a62347",
   "metadata": {
    "id": "c8a62347"
   },
   "outputs": [],
   "source": [
    "# init model\n",
    "reg = LinearRegression()\n",
    "# cuda\n",
    "if torch.cuda.is_available():\n",
    "    reg = reg.cuda()"
   ]
  },
  {
   "cell_type": "code",
   "execution_count": 19,
   "id": "ccaf7b9a",
   "metadata": {
    "colab": {
     "base_uri": "https://localhost:8080/"
    },
    "id": "ccaf7b9a",
    "outputId": "97e9e5ac-fd59-4111-f349-06671bc4eb85"
   },
   "outputs": [
    {
     "name": "stdout",
     "output_type": "stream",
     "text": [
      "Epoch  1,  Loss:   29.8074,  Regret: 41.0421%\n",
      "Epoch  4,  Loss:   96.6196,  Regret: 17.5083%\n",
      "Epoch  7,  Loss:   11.6804,  Regret: 10.3689%\n",
      "Epoch 10,  Loss:   11.0366,  Regret:  7.8832%\n",
      "Epoch 13,  Loss:    8.0003,  Regret:  6.9375%\n",
      "Epoch 16,  Loss:    5.0936,  Regret:  6.5077%\n",
      "Epoch 19,  Loss:    1.8326,  Regret:  6.4815%\n"
     ]
    }
   ],
   "source": [
    "# init MSE loss\n",
    "mse = nn.MSELoss()\n",
    "# train\n",
    "trainModel(reg, loss_func=mse, method_name=\"2s\")"
   ]
  },
  {
   "cell_type": "code",
   "execution_count": 20,
   "id": "6ab1ee00",
   "metadata": {
    "colab": {
     "base_uri": "https://localhost:8080/",
     "height": 372
    },
    "id": "6ab1ee00",
    "outputId": "c1e267be-447d-4a08-d607-b96125a148aa"
   },
   "outputs": [
    {
     "data": {
      "image/png": "[encoded data removed]",
      "text/plain": [
       "<Figure size 800x400 with 1 Axes>"
      ]
     },
     "metadata": {},
     "output_type": "display_data"
    }
   ],
   "source": [
    "visSol(reg, loader_test, optmodel, ind, title=\"2S\")"
   ]
  },
  {
   "cell_type": "markdown",
   "id": "7e23e04e",
   "metadata": {
    "id": "7e23e04e"
   },
   "source": [
    "### 2.3 SPO+"
   ]
  },
  {
   "cell_type": "markdown",
   "id": "61cd4a54",
   "metadata": {
    "id": "61cd4a54"
   },
   "source": [
    "Smart Predict-then-Optmize+ Loss"
   ]
  },
  {
   "cell_type": "code",
   "execution_count": 21,
   "id": "7d560ff4",
   "metadata": {
    "id": "7d560ff4"
   },
   "outputs": [],
   "source": [
    "# init model\n",
    "reg = LinearRegression()\n",
    "# cuda\n",
    "if torch.cuda.is_available():\n",
    "    reg = reg.cuda()"
   ]
  },
  {
   "cell_type": "code",
   "execution_count": 22,
   "id": "2ec191d9",
   "metadata": {
    "colab": {
     "base_uri": "https://localhost:8080/"
    },
    "id": "2ec191d9",
    "outputId": "08db5128-9ce1-4cfb-ad8f-8cef85d335f5"
   },
   "outputs": [
    {
     "name": "stdout",
     "output_type": "stream",
     "text": [
      "Num of cores: 1\n",
      "Epoch  1,  Loss:   24.9586,  Regret: 30.1237%\n",
      "Epoch  4,  Loss:   19.9316,  Regret: 10.6082%\n",
      "Epoch  7,  Loss:   28.8632,  Regret:  8.1225%\n",
      "Epoch 10,  Loss:    5.4856,  Regret:  7.3711%\n",
      "Epoch 13,  Loss:    3.6030,  Regret:  6.9562%\n",
      "Epoch 16,  Loss:    6.5989,  Regret:  6.6422%\n",
      "Epoch 19,  Loss:    6.9503,  Regret:  6.4068%\n"
     ]
    }
   ],
   "source": [
    "# init SPO+ loss\n",
    "spop = pyepo.func.SPOPlus(optmodel, processes=1)\n",
    "# train\n",
    "trainModel(reg, loss_func=spop, method_name=\"spo+\")"
   ]
  },
  {
   "cell_type": "code",
   "execution_count": 23,
   "id": "1c77b102",
   "metadata": {
    "colab": {
     "base_uri": "https://localhost:8080/",
     "height": 372
    },
    "id": "1c77b102",
    "outputId": "0a43761f-0f51-4811-d713-a141b385e43c"
   },
   "outputs": [
    {
     "data": {
      "image/png": "[encoded data removed]",
      "text/plain": [
       "<Figure size 800x400 with 1 Axes>"
      ]
     },
     "metadata": {},
     "output_type": "display_data"
    }
   ],
   "source": [
    "# compare solutions\n",
    "visSol(reg, loader_test, optmodel, ind, title=\"SPO+\")"
   ]
  },
  {
   "cell_type": "markdown",
   "id": "85518430",
   "metadata": {
    "id": "85518430"
   },
   "source": [
    "### 2.4 DBB"
   ]
  },
  {
   "cell_type": "markdown",
   "id": "b3ea07ed",
   "metadata": {
    "id": "b3ea07ed"
   },
   "source": [
    "Differentiable Black-Box with Regret Loss"
   ]
  },
  {
   "cell_type": "code",
   "execution_count": 24,
   "id": "37aae421",
   "metadata": {
    "id": "37aae421"
   },
   "outputs": [],
   "source": [
    "# init model\n",
    "reg = LinearRegression()\n",
    "# cuda\n",
    "if torch.cuda.is_available():\n",
    "    reg = reg.cuda()"
   ]
  },
  {
   "cell_type": "code",
   "execution_count": 25,
   "id": "01f58f01",
   "metadata": {
    "colab": {
     "base_uri": "https://localhost:8080/"
    },
    "id": "01f58f01",
    "outputId": "c2117798-8c67-4dc5-e922-602e0867ead8"
   },
   "outputs": [
    {
     "name": "stdout",
     "output_type": "stream",
     "text": [
      "Num of cores: 1\n",
      "Epoch  1,  Loss:   10.5000,  Regret: 44.2007%\n",
      "Epoch  4,  Loss:    5.7500,  Regret: 37.4836%\n",
      "Epoch  7,  Loss:    9.7500,  Regret: 32.8748%\n",
      "Epoch 10,  Loss:    8.5000,  Regret: 28.6585%\n",
      "Epoch 13,  Loss:    6.5000,  Regret: 24.5318%\n",
      "Epoch 16,  Loss:    4.0000,  Regret: 22.0461%\n",
      "Epoch 19,  Loss:    3.5000,  Regret: 20.0015%\n"
     ]
    }
   ],
   "source": [
    "# init dbb solver\n",
    "dbb = pyepo.func.blackboxOpt(optmodel, lambd=20, processes=1)\n",
    "# set loss\n",
    "l1 = nn.L1Loss()\n",
    "\n",
    "# loss function\n",
    "def dbbl1(cp, c, z):\n",
    "    # black-box optimizer\n",
    "    wp = dbb(cp)\n",
    "    # objective value\n",
    "    zp = (wp * c).sum(1).view(-1, 1)\n",
    "    # loss\n",
    "    loss = l1(zp, z)\n",
    "    return loss\n",
    "\n",
    "trainModel(reg, loss_func=dbbl1, method_name=\"dbb\")"
   ]
  },
  {
   "cell_type": "code",
   "execution_count": 26,
   "id": "5532ad45",
   "metadata": {
    "colab": {
     "base_uri": "https://localhost:8080/",
     "height": 372
    },
    "id": "5532ad45",
    "outputId": "98454cf6-2c1a-4a11-dbd8-a4c332e159db"
   },
   "outputs": [
    {
     "data": {
      "image/png": "[encoded data removed]",
      "text/plain": [
       "<Figure size 800x400 with 1 Axes>"
      ]
     },
     "metadata": {},
     "output_type": "display_data"
    }
   ],
   "source": [
    "visSol(reg, loader_test, optmodel, ind, title=\"DBB\")"
   ]
  },
  {
   "cell_type": "markdown",
   "id": "e466ac20",
   "metadata": {
    "id": "e466ac20"
   },
   "source": [
    "### 2.5 DPO"
   ]
  },
  {
   "cell_type": "markdown",
   "id": "c2fcdbb5",
   "metadata": {
    "id": "c2fcdbb5"
   },
   "source": [
    "Differentable Perturbated Optimizer with Regret Loss"
   ]
  },
  {
   "cell_type": "code",
   "execution_count": 27,
   "id": "7fdc8bad",
   "metadata": {
    "id": "7fdc8bad"
   },
   "outputs": [],
   "source": [
    "# init model\n",
    "reg = LinearRegression()\n",
    "# cuda\n",
    "if torch.cuda.is_available():\n",
    "    reg = reg.cuda()"
   ]
  },
  {
   "cell_type": "code",
   "execution_count": 28,
   "id": "628d5312",
   "metadata": {
    "colab": {
     "base_uri": "https://localhost:8080/"
    },
    "id": "628d5312",
    "outputId": "c54cc46f-e5a1-4509-b80f-d051a956d7a9"
   },
   "outputs": [
    {
     "name": "stdout",
     "output_type": "stream",
     "text": [
      "Num of cores: 1\n",
      "Epoch  1,  Loss:    0.2406,  Regret: 32.8972%\n",
      "Epoch  4,  Loss:    0.2844,  Regret: 20.8724%\n",
      "Epoch  7,  Loss:    0.2656,  Regret: 18.8764%\n",
      "Epoch 10,  Loss:    0.2172,  Regret: 17.0037%\n",
      "Epoch 13,  Loss:    0.2484,  Regret: 16.2561%\n",
      "Epoch 16,  Loss:    0.1891,  Regret: 16.2374%\n",
      "Epoch 19,  Loss:    0.1625,  Regret: 15.5198%\n"
     ]
    }
   ],
   "source": [
    "# init ptb solver\n",
    "ptb = pyepo.func.perturbedOpt(optmodel, n_samples=10, sigma=0.5, processes=1)\n",
    "# set loss\n",
    "l1 = nn.L1Loss()\n",
    "\n",
    "# loss function\n",
    "def ptbl1(cp, w):\n",
    "    # perturbed optimizer\n",
    "    we = ptb(cp)\n",
    "    # loss\n",
    "    loss = l1(we, w)\n",
    "    return loss\n",
    "\n",
    "# train\n",
    "trainModel(reg, loss_func=ptbl1, method_name=\"ptb\")"
   ]
  },
  {
   "cell_type": "code",
   "execution_count": 29,
   "id": "a0131f10",
   "metadata": {
    "colab": {
     "base_uri": "https://localhost:8080/",
     "height": 372
    },
    "id": "a0131f10",
    "outputId": "2a9decd7-451e-433a-fa61-5b4c412b29fb"
   },
   "outputs": [
    {
     "data": {
      "image/png": "[encoded data removed]",
      "text/plain": [
       "<Figure size 800x400 with 1 Axes>"
      ]
     },
     "metadata": {},
     "output_type": "display_data"
    }
   ],
   "source": [
    "visSol(reg, loader_test, optmodel, ind, title=\"DPO\")"
   ]
  },
  {
   "cell_type": "markdown",
   "id": "7d86773d",
   "metadata": {
    "id": "7d86773d"
   },
   "source": [
    "### 2.6  PFYL"
   ]
  },
  {
   "cell_type": "markdown",
   "id": "34efe16a",
   "metadata": {
    "id": "34efe16a"
   },
   "source": [
    "Fenchel-Young Loss with Perturbation"
   ]
  },
  {
   "cell_type": "code",
   "execution_count": 30,
   "id": "f3bbbdde",
   "metadata": {
    "id": "f3bbbdde"
   },
   "outputs": [],
   "source": [
    "# init model\n",
    "reg = LinearRegression()\n",
    "# cuda\n",
    "if torch.cuda.is_available():\n",
    "    reg = reg.cuda()"
   ]
  },
  {
   "cell_type": "code",
   "execution_count": 31,
   "id": "c92106f9",
   "metadata": {
    "colab": {
     "base_uri": "https://localhost:8080/"
    },
    "id": "c92106f9",
    "outputId": "03de1fac-92bd-4019-9c64-514f0474d8c6"
   },
   "outputs": [
    {
     "name": "stdout",
     "output_type": "stream",
     "text": [
      "Num of cores: 1\n",
      "Epoch  1,  Loss:    3.3900,  Regret: 31.2115%\n",
      "Epoch  4,  Loss:    1.6325,  Regret:  9.3522%\n",
      "Epoch  7,  Loss:    0.9675,  Regret:  8.2196%\n",
      "Epoch 10,  Loss:    0.6775,  Regret:  7.9804%\n",
      "Epoch 13,  Loss:    1.1525,  Regret:  7.5655%\n",
      "Epoch 16,  Loss:    1.8175,  Regret:  7.8421%\n",
      "Epoch 19,  Loss:    1.2100,  Regret:  8.0813%\n"
     ]
    }
   ],
   "source": [
    "# init pfy loss\n",
    "pfy = pyepo.func.perturbedFenchelYoung(optmodel, n_samples=10, sigma=0.5, processes=1)\n",
    "# train\n",
    "trainModel(reg, loss_func=pfy, method_name=\"pfy\")"
   ]
  },
  {
   "cell_type": "code",
   "execution_count": 32,
   "id": "af81a63a",
   "metadata": {
    "colab": {
     "base_uri": "https://localhost:8080/",
     "height": 372
    },
    "id": "af81a63a",
    "outputId": "c1e49f1c-8c2d-4556-e577-b1578625453d"
   },
   "outputs": [
    {
     "data": {
      "image/png": "[encoded data removed]",
      "text/plain": [
       "<Figure size 800x400 with 1 Axes>"
      ]
     },
     "metadata": {},
     "output_type": "display_data"
    }
   ],
   "source": [
    "visSol(reg, loader_test, optmodel, ind, title=\"PFYL\")"
   ]
  },
  {
   "cell_type": "markdown",
   "id": "827303fc",
   "metadata": {
    "id": "827303fc"
   },
   "source": [
    "## 2.7 NCE"
   ]
  },
  {
   "cell_type": "markdown",
   "id": "50adf474",
   "metadata": {
    "id": "50adf474"
   },
   "source": [
    "Negative Constrastive Estimation"
   ]
  },
  {
   "cell_type": "code",
   "execution_count": 33,
   "id": "ca7d0468",
   "metadata": {
    "id": "ca7d0468"
   },
   "outputs": [],
   "source": [
    "# init model\n",
    "reg = LinearRegression()\n",
    "# cuda\n",
    "if torch.cuda.is_available():\n",
    "    reg = reg.cuda()"
   ]
  },
  {
   "cell_type": "code",
   "execution_count": 34,
   "id": "8a0fb577",
   "metadata": {
    "colab": {
     "base_uri": "https://localhost:8080/"
    },
    "id": "8a0fb577",
    "outputId": "1ba0520a-6663-4d9f-ab64-b5d34d5a1a66"
   },
   "outputs": [
    {
     "name": "stdout",
     "output_type": "stream",
     "text": [
      "Num of cores: 1\n",
      "Epoch  1,  Loss:   -2.2627,  Regret: 24.9243%\n",
      "Epoch  4,  Loss:   -4.2453,  Regret: 11.9052%\n",
      "Epoch  7,  Loss:  -10.5700,  Regret: 10.1559%\n",
      "Epoch 10,  Loss:  -15.5208,  Regret:  9.6251%\n",
      "Epoch 13,  Loss:  -19.6474,  Regret:  9.4756%\n",
      "Epoch 16,  Loss:  -21.1972,  Regret:  9.3896%\n",
      "Epoch 19,  Loss:  -18.1988,  Regret:  9.2027%\n"
     ]
    }
   ],
   "source": [
    "# init nce loss\n",
    "nce = pyepo.func.NCE(optmodel, processes=1, solve_ratio=0.10, dataset=dataset_train)\n",
    "# train\n",
    "trainModel(reg, loss_func=nce, method_name=\"nce\")"
   ]
  },
  {
   "cell_type": "code",
   "execution_count": 35,
   "id": "39650084",
   "metadata": {
    "colab": {
     "base_uri": "https://localhost:8080/",
     "height": 372
    },
    "id": "39650084",
    "outputId": "5f5762ba-7510-4fdc-e403-48fe80651a92"
   },
   "outputs": [
    {
     "data": {
      "image/png": "[encoded data removed]",
      "text/plain": [
       "<Figure size 800x400 with 1 Axes>"
      ]
     },
     "metadata": {},
     "output_type": "display_data"
    }
   ],
   "source": [
    "visSol(reg, loader_test, optmodel, ind, title=\"NCE\")"
   ]
  },
  {
   "cell_type": "markdown",
   "id": "b035fe43",
   "metadata": {
    "id": "b035fe43"
   },
   "source": [
    "## 2.7 LTR"
   ]
  },
  {
   "cell_type": "markdown",
   "id": "00672388",
   "metadata": {
    "id": "00672388"
   },
   "source": [
    "Listwise Learning to Rank"
   ]
  },
  {
   "cell_type": "code",
   "execution_count": 36,
   "id": "d63678db",
   "metadata": {
    "id": "d63678db"
   },
   "outputs": [],
   "source": [
    "# init model\n",
    "reg = LinearRegression()\n",
    "# cuda\n",
    "if torch.cuda.is_available():\n",
    "    reg = reg.cuda()"
   ]
  },
  {
   "cell_type": "code",
   "execution_count": 37,
   "id": "e09c0c10",
   "metadata": {
    "colab": {
     "base_uri": "https://localhost:8080/"
    },
    "id": "e09c0c10",
    "outputId": "a8ad8acd-254a-4779-942b-a201daaa5443"
   },
   "outputs": [
    {
     "name": "stdout",
     "output_type": "stream",
     "text": [
      "Num of cores: 1\n",
      "Epoch  1,  Loss:    0.0471,  Regret: 30.3891%\n",
      "Epoch  4,  Loss:    0.0273,  Regret: 12.7425%\n",
      "Epoch  7,  Loss:    0.0262,  Regret:  9.5802%\n",
      "Epoch 10,  Loss:    0.0291,  Regret:  9.3111%\n",
      "Epoch 13,  Loss:    0.0265,  Regret:  9.8942%\n",
      "Epoch 16,  Loss:    0.0246,  Regret: 10.1409%\n",
      "Epoch 19,  Loss:    0.0323,  Regret:  9.7821%\n"
     ]
    }
   ],
   "source": [
    "# init ltr loss\n",
    "ltr = pyepo.func.listwiseLTR(optmodel, processes=1, solve_ratio=0.10, dataset=dataset_train)\n",
    "# train\n",
    "trainModel(reg, loss_func=ltr, method_name=\"ltr\")"
   ]
  },
  {
   "cell_type": "code",
   "execution_count": 38,
   "id": "33c6d4c7",
   "metadata": {
    "colab": {
     "base_uri": "https://localhost:8080/",
     "height": 372
    },
    "id": "33c6d4c7",
    "outputId": "a2730619-3a0a-4a6b-ac94-8d34dfefbc85"
   },
   "outputs": [
    {
     "data": {
      "image/png": "[encoded data removed]",
      "text/plain": [
       "<Figure size 800x400 with 1 Axes>"
      ]
     },
     "metadata": {},
     "output_type": "display_data"
    }
   ],
   "source": [
    "visSol(reg, loader_test, optmodel, ind, title=\"LTR\")"
   ]
  },
  {
   "cell_type": "code",
   "execution_count": 38,
   "id": "0ebaa834",
   "metadata": {
    "id": "0ebaa834"
   },
   "outputs": [],
   "source": []
  }
 ],
 "metadata": {
  "colab": {
   "provenance": []
  },
  "kernelspec": {
   "display_name": "Python 3 (ipykernel)",
   "language": "python",
   "name": "python3"
  },
  "language_info": {
   "codemirror_mode": {
    "name": "ipython",
    "version": 3
   },
   "file_extension": ".py",
   "mimetype": "text/x-python",
   "name": "python",
   "nbconvert_exporter": "python",
   "pygments_lexer": "ipython3",
   "version": "3.10.12"
  }
 },
 "nbformat": 4,
 "nbformat_minor": 5
}
