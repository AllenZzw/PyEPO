{
 "cells": [
  {
   "cell_type": "code",
   "execution_count": 1,
   "id": "f6d3a13c",
   "metadata": {},
   "outputs": [],
   "source": [
    "# set work dir if PyEPO is not installed\n",
    "import os\n",
    "os.chdir(\"../pkg\")"
   ]
  },
  {
   "cell_type": "code",
   "execution_count": 2,
   "id": "32d8b276",
   "metadata": {},
   "outputs": [
    {
     "name": "stdout",
     "output_type": "stream",
     "text": [
      "Auto-Sklearn cannot be imported.\n"
     ]
    },
    {
     "data": {
      "text/plain": [
       "<torch._C.Generator at 0x25484a9ca50>"
      ]
     },
     "execution_count": 2,
     "metadata": {},
     "output_type": "execute_result"
    }
   ],
   "source": [
    "import time\n",
    "import random\n",
    "import pyepo\n",
    "import torch\n",
    "from matplotlib import pyplot as plt\n",
    "import numpy as np\n",
    "from tqdm import tqdm\n",
    "torch.manual_seed(135) # fix random seed"
   ]
  },
  {
   "cell_type": "markdown",
   "id": "9528ed01",
   "metadata": {},
   "source": [
    "## Problem Defination "
   ]
  },
  {
   "cell_type": "markdown",
   "id": "1a87935f",
   "metadata": {},
   "source": [
    "It is a (h,w) grid network and the goal is to find the shortest path from northwest to southeast. In our examples, the grid size of network is (5,5)."
   ]
  },
  {
   "cell_type": "markdown",
   "id": "794c67d8",
   "metadata": {},
   "source": [
    "![title](../images/shortestpath.png)"
   ]
  },
  {
   "cell_type": "markdown",
   "id": "0d77fc5f",
   "metadata": {},
   "source": [
    "## Optimization Model"
   ]
  },
  {
   "cell_type": "code",
   "execution_count": 3,
   "id": "ad504b66",
   "metadata": {},
   "outputs": [],
   "source": [
    "# grid graph size\n",
    "grid = (5,5)\n",
    "# set random cost for test\n",
    "cost = [random.random() for _ in range(40)]"
   ]
  },
  {
   "cell_type": "markdown",
   "id": "2c7f4ae9",
   "metadata": {},
   "source": [
    "### Model 1: Pre-defined Gurobi Model"
   ]
  },
  {
   "cell_type": "code",
   "execution_count": 4,
   "id": "18967fba",
   "metadata": {},
   "outputs": [
    {
     "name": "stdout",
     "output_type": "stream",
     "text": [
      "Set parameter Username\n",
      "Academic license - for non-commercial use only - expires 2023-07-09\n",
      "Obj: 2.5795400093570784\n",
      "(0, 1)\n",
      "(1, 2)\n",
      "(2, 7)\n",
      "(7, 12)\n",
      "(12, 17)\n",
      "(17, 22)\n",
      "(22, 23)\n",
      "(23, 24)\n"
     ]
    }
   ],
   "source": [
    "# PyEPO contains several pre-defined optimization models with GurobiPy and Pyomo.\n",
    "# Use pre-defined shortest path model\n",
    "\n",
    "from pyepo.model.grb import shortestPathModel\n",
    "\n",
    "# solve model\n",
    "myoptmodel = shortestPathModel(grid) # init model\n",
    "myoptmodel.setObj(cost) # set objective function\n",
    "sol, obj = myoptmodel.solve() # solve\n",
    "# print res\n",
    "print('Obj: {}'.format(obj))\n",
    "for i, e in enumerate(myoptmodel.arcs):\n",
    "    if sol[i] > 1e-3:\n",
    "        print(e)"
   ]
  },
  {
   "cell_type": "markdown",
   "id": "55bd655d",
   "metadata": {},
   "source": [
    "### Model 2: Dijkstra Agorithm Solver on NetworkX"
   ]
  },
  {
   "cell_type": "code",
   "execution_count": 5,
   "id": "2a1d3b83",
   "metadata": {},
   "outputs": [],
   "source": [
    "import networkx as nx\n",
    "\n",
    "from pyepo.model.opt import optModel\n",
    "\n",
    "class myShortestPathModel(optModel):\n",
    "\n",
    "    def __init__(self, grid):\n",
    "        \"\"\"\n",
    "        Args:\n",
    "            grid (tuple): size of grid network\n",
    "        \"\"\"\n",
    "        self.grid = grid\n",
    "        self.arcs = self._getArcs()\n",
    "        super().__init__()\n",
    "\n",
    "    def _getArcs(self):\n",
    "        \"\"\"\n",
    "        A method to get list of arcs for grid network\n",
    "\n",
    "        Returns:\n",
    "            list: arcs\n",
    "        \"\"\"\n",
    "        arcs = []\n",
    "        for i in range(self.grid[0]):\n",
    "            # edges on rows\n",
    "            for j in range(self.grid[1] - 1):\n",
    "                v = i * self.grid[1] + j\n",
    "                arcs.append((v, v + 1))\n",
    "            # edges in columns\n",
    "            if i == self.grid[0] - 1:\n",
    "                continue\n",
    "            for j in range(self.grid[1]):\n",
    "                v = i * self.grid[1] + j\n",
    "                arcs.append((v, v + self.grid[1]))\n",
    "        return arcs\n",
    "\n",
    "    def _getModel(self):\n",
    "        \"\"\"\n",
    "        A method to build model\n",
    "\n",
    "        Returns:\n",
    "            tuple: optimization model and variables\n",
    "        \"\"\"\n",
    "        # build graph as optimization model\n",
    "        g = nx.Graph()\n",
    "        # add arcs as variables\n",
    "        g.add_edges_from(self.arcs, cost=0)\n",
    "        return g, g.edges\n",
    "\n",
    "    def setObj(self, c):\n",
    "        \"\"\"\n",
    "        A method to set objective function\n",
    "\n",
    "        Args:\n",
    "            c (ndarray): cost of objective function\n",
    "        \"\"\"\n",
    "        for i, e in enumerate(self.arcs):\n",
    "            self._model.edges[e][\"cost\"] = c[i]\n",
    "\n",
    "    def solve(self):\n",
    "        \"\"\"\n",
    "        A method to solve model\n",
    "\n",
    "        Returns:\n",
    "            tuple: optimal solution (list) and objective value (float)\n",
    "        \"\"\"\n",
    "        # dijkstra\n",
    "        path = nx.shortest_path(self._model, weight=\"cost\", source=0, target=self.grid[0]*self.grid[1]-1)\n",
    "        # convert path into active edges\n",
    "        edges = []\n",
    "        u = 0\n",
    "        for v in path[1:]:\n",
    "            edges.append((u,v))\n",
    "            u = v\n",
    "        # init sol & obj\n",
    "        sol = np.zeros(self.num_cost)\n",
    "        obj = 0\n",
    "        # convert active edges into solution and obj\n",
    "        for i, e in enumerate(self.arcs):\n",
    "            if e in edges:\n",
    "                sol[i] = 1 # active edge\n",
    "                obj += self._model.edges[e][\"cost\"] # cost of active edge\n",
    "        return sol, obj"
   ]
  },
  {
   "cell_type": "code",
   "execution_count": 6,
   "id": "9c333610",
   "metadata": {},
   "outputs": [
    {
     "name": "stdout",
     "output_type": "stream",
     "text": [
      "Obj: 2.5795400093570784\n",
      "(0, 1)\n",
      "(1, 2)\n",
      "(2, 7)\n",
      "(7, 12)\n",
      "(12, 17)\n",
      "(17, 22)\n",
      "(22, 23)\n",
      "(23, 24)\n"
     ]
    }
   ],
   "source": [
    "# solve model\n",
    "myoptmodel = myShortestPathModel(grid) # init model\n",
    "myoptmodel.setObj(cost) # set objective function\n",
    "sol, obj = myoptmodel.solve() # solve\n",
    "# print res\n",
    "print('Obj: {}'.format(obj))\n",
    "for i, e in enumerate(myoptmodel.arcs):\n",
    "    if sol[i] > 1e-3:\n",
    "        print(e)"
   ]
  },
  {
   "cell_type": "markdown",
   "id": "b178d224",
   "metadata": {},
   "source": [
    "### Model 3: Linear Programming on Gurobi"
   ]
  },
  {
   "cell_type": "code",
   "execution_count": 7,
   "id": "83efdaa8",
   "metadata": {},
   "outputs": [],
   "source": [
    "# We can use optGrbModel with Gurobi to create a LP model\n",
    "\n",
    "import gurobipy as gp\n",
    "from gurobipy import GRB\n",
    "from pyepo.model.grb import optGrbModel\n",
    "\n",
    "class myShortestPathModel(optGrbModel):\n",
    "\n",
    "    def __init__(self, grid):\n",
    "        \"\"\"\n",
    "        Args:\n",
    "            grid (tuple of int): size of grid network\n",
    "        \"\"\"\n",
    "        self.grid = grid\n",
    "        self.arcs = self._getArcs()\n",
    "        super().__init__()\n",
    "\n",
    "    def _getArcs(self):\n",
    "        \"\"\"\n",
    "        A method to get list of arcs for grid network\n",
    "\n",
    "        Returns:\n",
    "            list: arcs\n",
    "        \"\"\"\n",
    "        arcs = []\n",
    "        for i in range(self.grid[0]):\n",
    "            # edges on rows\n",
    "            for j in range(self.grid[1] - 1):\n",
    "                v = i * self.grid[1] + j\n",
    "                arcs.append((v, v + 1))\n",
    "            # edges in columns\n",
    "            if i == self.grid[0] - 1:\n",
    "                continue\n",
    "            for j in range(self.grid[1]):\n",
    "                v = i * self.grid[1] + j\n",
    "                arcs.append((v, v + self.grid[1]))\n",
    "        return arcs\n",
    "\n",
    "    def _getModel(self):\n",
    "        \"\"\"\n",
    "        A method to build Gurobi model\n",
    "\n",
    "        Returns:\n",
    "            tuple: optimization model and variables\n",
    "        \"\"\"\n",
    "        # ceate a model\n",
    "        m = gp.Model(\"shortest path\")\n",
    "        # varibles\n",
    "        x = m.addVars(self.arcs, name=\"x\")\n",
    "        # sense\n",
    "        m.modelSense = GRB.MINIMIZE\n",
    "        # constraints\n",
    "        for i in range(self.grid[0]):\n",
    "            for j in range(self.grid[1]):\n",
    "                v = i * self.grid[1] + j\n",
    "                expr = 0\n",
    "                for e in self.arcs:\n",
    "                    # flow in\n",
    "                    if v == e[1]:\n",
    "                        expr += x[e]\n",
    "                    # flow out\n",
    "                    elif v == e[0]:\n",
    "                        expr -= x[e]\n",
    "                # source\n",
    "                if i == 0 and j == 0:\n",
    "                    m.addConstr(expr == -1)\n",
    "                # sink\n",
    "                elif i == self.grid[0] - 1 and j == self.grid[0] - 1:\n",
    "                    m.addConstr(expr == 1)\n",
    "                # transition\n",
    "                else:\n",
    "                    m.addConstr(expr == 0)\n",
    "        return m, x"
   ]
  },
  {
   "cell_type": "code",
   "execution_count": 8,
   "id": "3c544f13",
   "metadata": {},
   "outputs": [
    {
     "name": "stdout",
     "output_type": "stream",
     "text": [
      "Obj: 2.5795400093570784\n",
      "(0, 1)\n",
      "(1, 2)\n",
      "(2, 7)\n",
      "(7, 12)\n",
      "(12, 17)\n",
      "(17, 22)\n",
      "(22, 23)\n",
      "(23, 24)\n"
     ]
    }
   ],
   "source": [
    "# solve model\n",
    "myoptmodel = myShortestPathModel(grid) # init model\n",
    "myoptmodel.setObj(cost) # set objective function\n",
    "sol, obj = myoptmodel.solve() # solve\n",
    "# print res\n",
    "print('Obj: {}'.format(obj))\n",
    "for i, e in enumerate(myoptmodel.arcs):\n",
    "    if sol[i] > 1e-3:\n",
    "        print(e)"
   ]
  },
  {
   "cell_type": "markdown",
   "id": "5bfc585f",
   "metadata": {},
   "source": [
    "## Init Data for Shortest Path "
   ]
  },
  {
   "cell_type": "markdown",
   "id": "4893c5a0",
   "metadata": {},
   "source": [
    "pyepo.data contains synthetic data generator and a dataset class optDataset to wrap data samples. See details of parameters and data generation in our documentation [link](https://khalil-research.github.io/PyEPO/build/html/content/examples/data.html)."
   ]
  },
  {
   "cell_type": "code",
   "execution_count": 9,
   "id": "cb06b5ad",
   "metadata": {},
   "outputs": [],
   "source": [
    "# generate data for grid network (features and costs)\n",
    "n = 1000 # number of data\n",
    "p = 5 # size of feature\n",
    "deg = 4 # polynomial degree\n",
    "feats, costs = pyepo.data.shortestpath.genData(n+1000, p, grid, deg=deg)"
   ]
  },
  {
   "cell_type": "code",
   "execution_count": 10,
   "id": "8b201178",
   "metadata": {},
   "outputs": [
    {
     "data": {
      "text/plain": [
       "array([[ 0.18978013,  0.28131239,  0.80407457,  0.34358466,  0.79699536],\n",
       "       [-0.89260884,  0.22798708,  0.40622607,  0.20233536,  0.44483962],\n",
       "       [ 0.09901204,  0.69809107, -0.25065277,  0.08962057,  0.7150901 ],\n",
       "       ...,\n",
       "       [-0.80436654,  0.25590744, -0.14672173, -0.41275959,  1.28220286],\n",
       "       [ 0.20511618, -1.79636601,  1.55571123,  0.11183987, -0.56605091],\n",
       "       [ 0.35470335, -0.90784318, -0.384665  ,  0.20299626,  0.20231918]])"
      ]
     },
     "execution_count": 10,
     "metadata": {},
     "output_type": "execute_result"
    }
   ],
   "source": [
    "# features\n",
    "feats"
   ]
  },
  {
   "cell_type": "code",
   "execution_count": 11,
   "id": "f37baddb",
   "metadata": {},
   "outputs": [
    {
     "data": {
      "text/plain": [
       "array([[1.1196807 , 1.45837107, 0.54643898, ..., 0.98651383, 0.99008207,\n",
       "        0.85559908],\n",
       "       [0.47167426, 0.9868889 , 0.54643898, ..., 0.79780845, 0.78138255,\n",
       "        0.68954997],\n",
       "       [0.90154675, 1.02959971, 0.54643898, ..., 1.16626396, 0.70551119,\n",
       "        0.47017403],\n",
       "       ...,\n",
       "       [0.56769133, 1.15386747, 0.54643898, ..., 1.23927857, 0.5824488 ,\n",
       "        0.50074203],\n",
       "       [0.47062148, 0.32998715, 0.54643898, ..., 0.10173785, 0.47305124,\n",
       "        1.24983587],\n",
       "       [0.83585924, 0.27219742, 0.54643898, ..., 0.35273756, 0.23596431,\n",
       "        0.43287876]])"
      ]
     },
     "execution_count": 11,
     "metadata": {},
     "output_type": "execute_result"
    }
   ],
   "source": [
    "# cost coefficients\n",
    "costs"
   ]
  },
  {
   "cell_type": "code",
   "execution_count": 12,
   "id": "8acbe35d",
   "metadata": {},
   "outputs": [],
   "source": [
    "# split train test data\n",
    "from sklearn.model_selection import train_test_split\n",
    "x_train, x_test, c_train, c_test = train_test_split(feats, costs, test_size=1000, random_state=246)"
   ]
  },
  {
   "cell_type": "code",
   "execution_count": 13,
   "id": "dac9efdb",
   "metadata": {},
   "outputs": [
    {
     "name": "stdout",
     "output_type": "stream",
     "text": [
      "Optimizing for optDataset...\n"
     ]
    },
    {
     "name": "stderr",
     "output_type": "stream",
     "text": [
      "100%|█████████████████████████████████████████████████████████████████████████████████████████████| 1000/1000 [00:00<00:00, 1073.20it/s]\n"
     ]
    },
    {
     "name": "stdout",
     "output_type": "stream",
     "text": [
      "Optimizing for optDataset...\n"
     ]
    },
    {
     "name": "stderr",
     "output_type": "stream",
     "text": [
      "100%|█████████████████████████████████████████████████████████████████████████████████████████████| 1000/1000 [00:00<00:00, 1073.66it/s]\n"
     ]
    }
   ],
   "source": [
    "# get optDataest by computing optimal solution for each cost vector\n",
    "dataset_train = pyepo.data.dataset.optDataset(myoptmodel, x_train, c_train)\n",
    "dataset_test = pyepo.data.dataset.optDataset(myoptmodel, x_test, c_test)"
   ]
  },
  {
   "cell_type": "code",
   "execution_count": 14,
   "id": "cd73c348",
   "metadata": {},
   "outputs": [],
   "source": [
    "# get data loader\n",
    "from torch.utils.data import DataLoader\n",
    "batch_size = 32\n",
    "loader_train = DataLoader(dataset_train, batch_size=batch_size, shuffle=True)\n",
    "loader_test = DataLoader(dataset_test, batch_size=batch_size, shuffle=False)"
   ]
  },
  {
   "cell_type": "markdown",
   "id": "22b9daa3",
   "metadata": {},
   "source": [
    "## Linear Regression from PyTorch "
   ]
  },
  {
   "cell_type": "code",
   "execution_count": 15,
   "id": "f43b4427",
   "metadata": {},
   "outputs": [],
   "source": [
    "from torch import nn\n",
    "\n",
    "# build linear model\n",
    "class LinearRegression(nn.Module):\n",
    "    \n",
    "    def __init__(self):\n",
    "        super(LinearRegression, self).__init__()\n",
    "        self.linear = nn.Linear(p, (grid[0] - 1) * grid[1] + (grid[1] - 1) * grid[0])\n",
    "    \n",
    "    def forward(self, x):\n",
    "        out = self.linear(x)\n",
    "        return out"
   ]
  },
  {
   "cell_type": "markdown",
   "id": "8838cefb",
   "metadata": {},
   "source": [
    "## SPO+"
   ]
  },
  {
   "cell_type": "markdown",
   "id": "a67f9166",
   "metadata": {},
   "source": [
    "SPO+ loss function, a surrogate loss function of SPO Loss, measures the decision error (optimality gap) of optimization problem."
   ]
  },
  {
   "cell_type": "code",
   "execution_count": 16,
   "id": "6c327d84",
   "metadata": {},
   "outputs": [],
   "source": [
    "# init model\n",
    "reg = LinearRegression()\n",
    "# cuda\n",
    "if torch.cuda.is_available():\n",
    "    reg = reg.cuda()"
   ]
  },
  {
   "cell_type": "code",
   "execution_count": 17,
   "id": "5e9f8c08",
   "metadata": {},
   "outputs": [],
   "source": [
    "# set optimizer\n",
    "optimizer = torch.optim.Adam(reg.parameters(), lr=1e-2)"
   ]
  },
  {
   "cell_type": "code",
   "execution_count": 18,
   "id": "c567493a",
   "metadata": {},
   "outputs": [
    {
     "name": "stdout",
     "output_type": "stream",
     "text": [
      "Num of cores: 1\n"
     ]
    }
   ],
   "source": [
    "# init SPO+ loss\n",
    "processes = 1 # It is the number of processes running the solver. jupyter notebook cannot support multiple processes for PyEPO.\n",
    "spop = pyepo.func.SPOPlus(myoptmodel, processes=processes)"
   ]
  },
  {
   "cell_type": "code",
   "execution_count": 19,
   "id": "10303bbd",
   "metadata": {},
   "outputs": [
    {
     "name": "stdout",
     "output_type": "stream",
     "text": [
      "Epoch   1, Loss:   0.9984, Regret:  3.2779%\n",
      "Epoch   2, Loss:   0.1646, Regret:  0.6695%\n",
      "Epoch   3, Loss:   0.0094, Regret:  0.5590%\n",
      "Epoch   4, Loss:   0.0072, Regret:  0.5051%\n",
      "Epoch   5, Loss:   0.1559, Regret:  0.6074%\n",
      "Epoch   6, Loss:   0.2423, Regret:  0.5787%\n",
      "Epoch   7, Loss:   0.5062, Regret:  0.5397%\n",
      "Epoch   8, Loss:   0.1221, Regret:  0.5383%\n",
      "Epoch   9, Loss:   0.2771, Regret:  0.5263%\n",
      "Epoch  10, Loss:   0.4677, Regret:  0.4647%\n",
      "Epoch  11, Loss:   0.0788, Regret:  0.5349%\n",
      "Epoch  12, Loss:  -0.0000, Regret:  0.5014%\n",
      "Epoch  13, Loss:   0.1245, Regret:  0.4601%\n",
      "Epoch  14, Loss:   0.0946, Regret:  0.5626%\n",
      "Epoch  15, Loss:   0.0000, Regret:  0.5486%\n",
      "Epoch  16, Loss:   0.0217, Regret:  0.5159%\n",
      "Epoch  17, Loss:   0.0667, Regret:  0.4926%\n",
      "Epoch  18, Loss:   0.1231, Regret:  0.5297%\n",
      "Epoch  19, Loss:  -0.0000, Regret:  0.4318%\n",
      "Epoch  20, Loss:   0.1007, Regret:  0.4211%\n"
     ]
    }
   ],
   "source": [
    "# train model\n",
    "num_epochs = 20\n",
    "reg.train()\n",
    "# init log\n",
    "loss_log = []\n",
    "loss_log_regret = [pyepo.metric.regret(reg, myoptmodel, loader_test)]\n",
    "for epoch in range(num_epochs):\n",
    "    # load data\n",
    "    for i, data in enumerate(loader_train):\n",
    "        x, c, w, z = data\n",
    "        # cuda\n",
    "        if torch.cuda.is_available():\n",
    "            x, c, w, z = x.cuda(), c.cuda(), w.cuda(), z.cuda()\n",
    "        # forward pass\n",
    "        cp = reg(x)\n",
    "        loss = spop(cp, c, w, z).mean()\n",
    "        # backward pass\n",
    "        optimizer.zero_grad()\n",
    "        loss.backward()\n",
    "        optimizer.step()\n",
    "        # log\n",
    "        loss_log.append(loss.item())\n",
    "    regret = pyepo.metric.regret(reg, myoptmodel, loader_test)\n",
    "    loss_log_regret.append(regret)\n",
    "    print(\"Epoch {:3}, Loss: {:8.4f}, Regret: {:7.4f}%\".format(epoch+1, loss.item(), regret*100))"
   ]
  },
  {
   "cell_type": "code",
   "execution_count": 20,
   "id": "6317697f",
   "metadata": {},
   "outputs": [
    {
     "data": {
      "image/png": "[encoded data removed]",
      "text/plain": [
       "<Figure size 576x288 with 1 Axes>"
      ]
     },
     "metadata": {
      "needs_background": "light"
     },
     "output_type": "display_data"
    }
   ],
   "source": [
    "# draw plot for training loss\n",
    "plt.figure(figsize=(8, 4))\n",
    "plt.plot(loss_log, color=\"c\", lw=2)\n",
    "plt.xticks(fontsize=14)\n",
    "plt.yticks(fontsize=14)\n",
    "plt.xlabel(\"Iters\", fontsize=18)\n",
    "plt.ylabel(\"Loss\", fontsize=18)\n",
    "plt.title(\"Learning Curve\", fontsize=18)\n",
    "plt.show()"
   ]
  },
  {
   "cell_type": "code",
   "execution_count": 21,
   "id": "80cadc31",
   "metadata": {},
   "outputs": [
    {
     "data": {
      "image/png": "[encoded data removed]",
      "text/plain": [
       "<Figure size 576x288 with 1 Axes>"
      ]
     },
     "metadata": {
      "needs_background": "light"
     },
     "output_type": "display_data"
    }
   ],
   "source": [
    "# draw plot for regret on test\n",
    "fig = plt.figure(figsize=(8, 4))\n",
    "plt.plot(range(num_epochs+1), loss_log_regret, color=\"royalblue\", ls=\"--\", alpha=0.7, lw=2)\n",
    "plt.xticks(range(0, num_epochs+1, 2), fontsize=14)\n",
    "plt.yticks(fontsize=14)\n",
    "plt.ylim(0, 0.1)\n",
    "plt.xlabel(\"Epochs\", fontsize=18)\n",
    "plt.ylabel(\"Regret\", fontsize=18)\n",
    "plt.title(\"Learning Curve\", fontsize=18)\n",
    "plt.show()"
   ]
  },
  {
   "cell_type": "markdown",
   "id": "f1a046f4",
   "metadata": {},
   "source": [
    "## DBB "
   ]
  },
  {
   "cell_type": "markdown",
   "id": "a8282b67",
   "metadata": {},
   "source": [
    "Differentiable black-box (DBB) optimizer function introduces optimizer block into neural networks."
   ]
  },
  {
   "cell_type": "code",
   "execution_count": 22,
   "id": "e316e192",
   "metadata": {},
   "outputs": [],
   "source": [
    "# init model\n",
    "reg = LinearRegression()\n",
    "# cuda\n",
    "if torch.cuda.is_available():\n",
    "    reg = reg.cuda()"
   ]
  },
  {
   "cell_type": "code",
   "execution_count": 23,
   "id": "678a8fe0",
   "metadata": {},
   "outputs": [],
   "source": [
    "# set optimizer\n",
    "optimizer = torch.optim.Adam(reg.parameters(), lr=5e-2)"
   ]
  },
  {
   "cell_type": "code",
   "execution_count": 24,
   "id": "8a44d4ac",
   "metadata": {},
   "outputs": [
    {
     "name": "stdout",
     "output_type": "stream",
     "text": [
      "Num of cores: 1\n"
     ]
    }
   ],
   "source": [
    "# set loss\n",
    "criterion = nn.L1Loss()\n",
    "dbb = pyepo.func.blackboxOpt(myoptmodel, lambd=20, processes=1) "
   ]
  },
  {
   "cell_type": "code",
   "execution_count": 25,
   "id": "db080520",
   "metadata": {},
   "outputs": [
    {
     "name": "stdout",
     "output_type": "stream",
     "text": [
      "Epoch   1, Loss:   0.3192, Regret:  7.2453%\n",
      "Epoch   2, Loss:   0.0553, Regret:  4.2469%\n",
      "Epoch   3, Loss:   0.0306, Regret:  3.8520%\n",
      "Epoch   4, Loss:   0.0814, Regret:  3.7614%\n",
      "Epoch   5, Loss:   0.0685, Regret:  3.2189%\n",
      "Epoch   6, Loss:   0.1102, Regret:  3.6945%\n",
      "Epoch   7, Loss:   0.1887, Regret:  3.4830%\n",
      "Epoch   8, Loss:   0.3617, Regret:  3.5852%\n",
      "Epoch   9, Loss:   0.0575, Regret:  3.3587%\n",
      "Epoch  10, Loss:   0.1026, Regret:  3.3065%\n",
      "Epoch  11, Loss:   0.0767, Regret:  3.3767%\n",
      "Epoch  12, Loss:   0.0812, Regret:  3.2792%\n",
      "Epoch  13, Loss:   0.0716, Regret:  3.3578%\n",
      "Epoch  14, Loss:   0.4443, Regret:  3.1192%\n",
      "Epoch  15, Loss:   0.0841, Regret:  3.0764%\n",
      "Epoch  16, Loss:   0.0735, Regret:  3.3312%\n",
      "Epoch  17, Loss:   0.0404, Regret:  3.5120%\n",
      "Epoch  18, Loss:   0.0215, Regret:  3.2915%\n",
      "Epoch  19, Loss:   0.2774, Regret:  3.8898%\n",
      "Epoch  20, Loss:   0.0653, Regret:  3.4307%\n"
     ]
    }
   ],
   "source": [
    "# train model\n",
    "num_epochs = 20\n",
    "reg.train()\n",
    "# init log\n",
    "loss_log = []\n",
    "loss_log_regret = [pyepo.metric.regret(reg, myoptmodel, loader_test)]\n",
    "for epoch in range(num_epochs):\n",
    "    # load data\n",
    "    for i, data in enumerate(loader_train):\n",
    "        x, c, w, z = data\n",
    "        # cuda\n",
    "        if torch.cuda.is_available():\n",
    "            x, c, w, z = x.cuda(), c.cuda(), w.cuda(), z.cuda()\n",
    "        # linear regression\n",
    "        cp = reg(x)\n",
    "        # black-box optimizer\n",
    "        wp = dbb(cp)\n",
    "        # objective value\n",
    "        zp = (wp * c).sum(1).view(-1, 1)\n",
    "        # loss\n",
    "        loss = criterion(zp, z)\n",
    "        # backward pass\n",
    "        optimizer.zero_grad()\n",
    "        loss.backward()\n",
    "        optimizer.step()\n",
    "        loss_log.append(loss.item())\n",
    "    regret = pyepo.metric.regret(reg, myoptmodel, loader_test)\n",
    "    loss_log_regret.append(regret)\n",
    "    print(\"Epoch {:3}, Loss: {:8.4f}, Regret: {:7.4f}%\".format(epoch+1, loss.item(), regret*100))"
   ]
  },
  {
   "cell_type": "code",
   "execution_count": 26,
   "id": "0869186e",
   "metadata": {},
   "outputs": [
    {
     "data": {
      "image/png": "[encoded data removed]",
      "text/plain": [
       "<Figure size 576x288 with 1 Axes>"
      ]
     },
     "metadata": {
      "needs_background": "light"
     },
     "output_type": "display_data"
    }
   ],
   "source": [
    "# draw plot for training loss\n",
    "plt.figure(figsize=(8, 4))\n",
    "plt.plot(loss_log, color=\"c\", lw=2)\n",
    "plt.xticks(fontsize=14)\n",
    "plt.yticks(fontsize=14)\n",
    "plt.xlabel(\"Iters\", fontsize=18)\n",
    "plt.ylabel(\"Loss\", fontsize=18)\n",
    "plt.title(\"Learning Curve\", fontsize=18)\n",
    "plt.show()"
   ]
  },
  {
   "cell_type": "code",
   "execution_count": 27,
   "id": "36a0cb2a",
   "metadata": {},
   "outputs": [
    {
     "data": {
      "image/png": "[encoded data removed]",
      "text/plain": [
       "<Figure size 576x288 with 1 Axes>"
      ]
     },
     "metadata": {
      "needs_background": "light"
     },
     "output_type": "display_data"
    }
   ],
   "source": [
    "# draw plot for regret on test\n",
    "fig = plt.figure(figsize=(8, 4))\n",
    "plt.plot(range(num_epochs+1), loss_log_regret, color=\"royalblue\", ls=\"--\", alpha=0.7, lw=2)\n",
    "plt.xticks(range(0, num_epochs+1, 2), fontsize=14)\n",
    "plt.yticks(fontsize=14)\n",
    "plt.ylim(0, 0.1)\n",
    "plt.xlabel(\"Epochs\", fontsize=18)\n",
    "plt.ylabel(\"Regret\", fontsize=18)\n",
    "plt.title(\"Learning Curve\", fontsize=18)\n",
    "plt.show()"
   ]
  },
  {
   "cell_type": "code",
   "execution_count": null,
   "id": "f6435720",
   "metadata": {},
   "outputs": [],
   "source": []
  }
 ],
 "metadata": {
  "kernelspec": {
   "display_name": "Python 3 (ipykernel)",
   "language": "python",
   "name": "python3"
  },
  "language_info": {
   "codemirror_mode": {
    "name": "ipython",
    "version": 3
   },
   "file_extension": ".py",
   "mimetype": "text/x-python",
   "name": "python",
   "nbconvert_exporter": "python",
   "pygments_lexer": "ipython3",
   "version": "3.9.12"
  }
 },
 "nbformat": 4,
 "nbformat_minor": 5
}
