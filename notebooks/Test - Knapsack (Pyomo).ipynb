{
 "cells": [
  {
   "cell_type": "code",
   "execution_count": 1,
   "id": "985d9f68",
   "metadata": {},
   "outputs": [],
   "source": [
    "# set work dir\n",
    "import os\n",
    "os.chdir(\"../\")"
   ]
  },
  {
   "cell_type": "code",
   "execution_count": 2,
   "id": "4a8178d0",
   "metadata": {},
   "outputs": [
    {
     "name": "stdout",
     "output_type": "stream",
     "text": [
      "Auto-Sklearn cannot be imported.\n"
     ]
    },
    {
     "data": {
      "text/plain": [
       "<torch._C.Generator at 0x1e156d5e9b0>"
      ]
     },
     "execution_count": 2,
     "metadata": {},
     "output_type": "execute_result"
    }
   ],
   "source": [
    "import time\n",
    "import spo\n",
    "import torch\n",
    "from matplotlib import pyplot as plt\n",
    "import numpy as np\n",
    "from tqdm import tqdm\n",
    "torch.manual_seed(135)"
   ]
  },
  {
   "cell_type": "markdown",
   "id": "610273f3",
   "metadata": {},
   "source": [
    "## Init Data"
   ]
  },
  {
   "cell_type": "code",
   "execution_count": 3,
   "id": "b294594d",
   "metadata": {},
   "outputs": [],
   "source": [
    "# generate data for grid network (features and costs)\n",
    "m = 48 # number of items\n",
    "n = 1000 # number of data\n",
    "p = 5 # size of feature\n",
    "deg = 4 # polynomial degree\n",
    "dim = 3 # dimension of knapsack\n",
    "weights, x, c = spo.data.knapsack.genData(n+1000, p, m, deg=deg, dim=dim)"
   ]
  },
  {
   "cell_type": "code",
   "execution_count": 4,
   "id": "1a1f8e4a",
   "metadata": {},
   "outputs": [
    {
     "data": {
      "text/plain": [
       "array([[4.59, 4.87, 5.19, 7.59, 6.8 , 4.97, 4.84, 3.22, 7.9 , 3.62, 3.12,\n",
       "        6.81, 7.09, 3.23, 4.47, 5.23, 6.11, 5.23, 4.27, 6.66, 5.21, 3.72,\n",
       "        7.83, 5.64, 7.56, 3.28, 4.31, 3.85, 6.43, 4.26, 7.56, 6.4 , 6.09,\n",
       "        6.4 , 4.5 , 6.31, 6.35, 3.07, 6.03, 7.39, 3.48, 5.57, 6.27, 4.55,\n",
       "        5.64, 5.66, 3.27, 6.68],\n",
       "       [4.2 , 5.61, 6.13, 7.88, 4.61, 4.92, 6.09, 7.95, 7.11, 4.02, 3.07,\n",
       "        7.84, 6.29, 5.78, 5.57, 5.65, 7.41, 5.21, 3.42, 6.48, 5.77, 7.67,\n",
       "        7.32, 3.31, 4.36, 4.75, 3.38, 3.44, 6.3 , 4.85, 7.09, 5.7 , 4.05,\n",
       "        6.04, 6.51, 3.41, 7.94, 6.05, 7.18, 3.64, 4.35, 4.45, 4.27, 4.87,\n",
       "        5.74, 3.16, 5.41, 3.81],\n",
       "       [3.51, 5.98, 5.79, 6.62, 5.11, 3.16, 7.01, 6.48, 6.36, 4.12, 7.9 ,\n",
       "        7.69, 3.68, 4.73, 5.85, 5.03, 3.69, 7.13, 7.11, 5.72, 5.8 , 4.59,\n",
       "        6.85, 4.14, 6.18, 4.28, 5.38, 5.79, 6.78, 3.79, 4.61, 3.06, 7.78,\n",
       "        3.94, 6.06, 7.22, 5.18, 3.44, 3.93, 5.56, 3.56, 6.59, 5.  , 5.24,\n",
       "        7.94, 6.75, 6.37, 7.64]])"
      ]
     },
     "execution_count": 4,
     "metadata": {},
     "output_type": "execute_result"
    }
   ],
   "source": [
    "weights"
   ]
  },
  {
   "cell_type": "code",
   "execution_count": 5,
   "id": "36330b0b",
   "metadata": {},
   "outputs": [],
   "source": [
    "# convert max into min\n",
    "c = - c"
   ]
  },
  {
   "cell_type": "markdown",
   "id": "2bd2586e",
   "metadata": {},
   "source": [
    "## Optimization Model "
   ]
  },
  {
   "cell_type": "code",
   "execution_count": 6,
   "id": "854f2b47",
   "metadata": {},
   "outputs": [],
   "source": [
    "# capacity\n",
    "cap = [30, 30, 30]"
   ]
  },
  {
   "cell_type": "code",
   "execution_count": 7,
   "id": "95c1fde4",
   "metadata": {},
   "outputs": [
    {
     "name": "stdout",
     "output_type": "stream",
     "text": [
      "Solver in the background: glpk\n"
     ]
    }
   ],
   "source": [
    "#ks_model = spo.model.omo.knapsackModel(weights, cap, solver='gurobi')\n",
    "ks_model = spo.model.omo.knapsackModel(weights, cap, solver='glpk')"
   ]
  },
  {
   "cell_type": "code",
   "execution_count": 8,
   "id": "24e5bd87",
   "metadata": {},
   "outputs": [
    {
     "name": "stdout",
     "output_type": "stream",
     "text": [
      "[0.0, 0.0, 0.0, 0.0, 0.0, 0.0, 0.0, 0.0, 0.0, 0.0, 0.0, 0.0, 0.0, 0.0, 0.0, 0.0, 0.0, 0.0, 0.0, 0.0, 0.0, 0.0, 0.0, 0.0, 0.0, 0.0, 0.0, 0.0, 0.0, 0.0, 0.0, 0.0, 0.0, 0.0, 0.0, 0.0, 0.0, 1.0, 0.0, 1.0, 1.0, 0.0, 1.0, 1.0, 0.0, 0.0, 1.0, 0.0]\n",
      "Obj: -247.0\n",
      "37\n",
      "39\n",
      "40\n",
      "42\n",
      "43\n",
      "46\n"
     ]
    }
   ],
   "source": [
    "# solve\n",
    "ks_model.setObj([-i for i in range(m)])\n",
    "sol, obj = ks_model.solve()\n",
    "print(sol)\n",
    "print('Obj: {}'.format(obj))\n",
    "for i in ks_model.items:\n",
    "    if sol[i] > 1e-3:\n",
    "        print(i)"
   ]
  },
  {
   "cell_type": "code",
   "execution_count": 9,
   "id": "9a11572a",
   "metadata": {},
   "outputs": [
    {
     "name": "stdout",
     "output_type": "stream",
     "text": [
      "Solver in the background: glpk\n"
     ]
    }
   ],
   "source": [
    "# relax\n",
    "ks_model_rel = ks_model.relax()"
   ]
  },
  {
   "cell_type": "code",
   "execution_count": 10,
   "id": "5c09dd38",
   "metadata": {},
   "outputs": [
    {
     "name": "stdout",
     "output_type": "stream",
     "text": [
      "[0.0, 0.0, 0.0, 0.0, 0.0, 0.0, 0.0, 0.0, 0.0, 0.0, 0.0, 0.0, 0.0, 0.0, 0.0, 0.0, 0.0, 0.0, 0.0, 0.0, 0.0, 0.0, 0.0, 0.0, 0.0, 0.0, 0.0, 0.0, 0.0, 0.0, 0.0, 0.734152948395629, 0.0, 0.0, 0.0, 0.0, 0.0, 1.0, 0.0, 0.0748391080238295, 1.0, 0.0, 1.0, 1.0, 0.0, 1.0, 0.525492392040327, 0.0]\n",
      "Obj: -256.8501166470489\n",
      "31\n",
      "37\n",
      "39\n",
      "40\n",
      "42\n",
      "43\n",
      "45\n",
      "46\n"
     ]
    }
   ],
   "source": [
    "# solve\n",
    "ks_model_rel.setObj([-i for i in range(m)])\n",
    "sol, obj = ks_model_rel.solve()\n",
    "print(sol)\n",
    "print('Obj: {}'.format(obj))\n",
    "for i in ks_model_rel.items:\n",
    "    if sol[i] > 1e-3:\n",
    "        print(i)"
   ]
  },
  {
   "cell_type": "markdown",
   "id": "4bec37e4",
   "metadata": {},
   "source": [
    "## Data Loader "
   ]
  },
  {
   "cell_type": "code",
   "execution_count": 11,
   "id": "261aed4e",
   "metadata": {},
   "outputs": [],
   "source": [
    "from sklearn.model_selection import train_test_split\n",
    "from torch.utils.data import DataLoader"
   ]
  },
  {
   "cell_type": "code",
   "execution_count": 12,
   "id": "4eda340b",
   "metadata": {},
   "outputs": [],
   "source": [
    "# data split\n",
    "x_train, x_test, c_train, c_test = train_test_split(x, c, test_size=1000, random_state=246)"
   ]
  },
  {
   "cell_type": "code",
   "execution_count": 13,
   "id": "a0e0ef0b",
   "metadata": {},
   "outputs": [
    {
     "name": "stdout",
     "output_type": "stream",
     "text": [
      "Optimizing for optDataset...\n"
     ]
    },
    {
     "name": "stderr",
     "output_type": "stream",
     "text": [
      "100%|███████████████████████████████████████████████████████████████████████████████████████████████| 1000/1000 [00:46<00:00, 21.65it/s]\n"
     ]
    }
   ],
   "source": [
    "# get training data set\n",
    "ks_dataset_train = spo.data.dataset.optDataset(ks_model, x_train, c_train)"
   ]
  },
  {
   "cell_type": "code",
   "execution_count": 14,
   "id": "fad71155",
   "metadata": {},
   "outputs": [
    {
     "name": "stdout",
     "output_type": "stream",
     "text": [
      "Optimizing for optDataset...\n"
     ]
    },
    {
     "name": "stderr",
     "output_type": "stream",
     "text": [
      "100%|███████████████████████████████████████████████████████████████████████████████████████████████| 1000/1000 [00:45<00:00, 22.01it/s]\n"
     ]
    }
   ],
   "source": [
    "# get training data set for relaxation\n",
    "ks_dataset_train_rel = spo.data.dataset.optDataset(ks_model_rel, x_train, c_train)"
   ]
  },
  {
   "cell_type": "code",
   "execution_count": 15,
   "id": "c8fc0755",
   "metadata": {},
   "outputs": [
    {
     "name": "stdout",
     "output_type": "stream",
     "text": [
      "Optimizing for optDataset...\n"
     ]
    },
    {
     "name": "stderr",
     "output_type": "stream",
     "text": [
      "100%|███████████████████████████████████████████████████████████████████████████████████████████████| 1000/1000 [00:45<00:00, 21.76it/s]\n"
     ]
    }
   ],
   "source": [
    "# get test data set\n",
    "ks_dataset_test = spo.data.dataset.optDataset(ks_model, x_test, c_test)"
   ]
  },
  {
   "cell_type": "code",
   "execution_count": 16,
   "id": "bf0bbb3e",
   "metadata": {},
   "outputs": [],
   "source": [
    "# get data loader\n",
    "batch_size = 32\n",
    "ks_loader_train = DataLoader(ks_dataset_train, batch_size=batch_size, shuffle=True)\n",
    "ks_loader_train_rel = DataLoader(ks_dataset_train_rel, batch_size=batch_size, shuffle=True)\n",
    "ks_loader_test = DataLoader(ks_dataset_test, batch_size=batch_size, shuffle=False)"
   ]
  },
  {
   "cell_type": "code",
   "execution_count": 17,
   "id": "a542a7df",
   "metadata": {},
   "outputs": [],
   "source": [
    "for i, data in enumerate(ks_loader_train):\n",
    "    x, c, w, z = data\n",
    "    break"
   ]
  },
  {
   "cell_type": "code",
   "execution_count": 18,
   "id": "75fc2763",
   "metadata": {},
   "outputs": [
    {
     "data": {
      "text/plain": [
       "torch.Size([32, 5])"
      ]
     },
     "execution_count": 18,
     "metadata": {},
     "output_type": "execute_result"
    }
   ],
   "source": [
    "x.shape"
   ]
  },
  {
   "cell_type": "code",
   "execution_count": 19,
   "id": "5e50a821",
   "metadata": {},
   "outputs": [
    {
     "data": {
      "text/plain": [
       "torch.Size([32, 48])"
      ]
     },
     "execution_count": 19,
     "metadata": {},
     "output_type": "execute_result"
    }
   ],
   "source": [
    "c.shape"
   ]
  },
  {
   "cell_type": "code",
   "execution_count": 20,
   "id": "074c9398",
   "metadata": {},
   "outputs": [
    {
     "data": {
      "text/plain": [
       "torch.Size([32, 48])"
      ]
     },
     "execution_count": 20,
     "metadata": {},
     "output_type": "execute_result"
    }
   ],
   "source": [
    "w.shape"
   ]
  },
  {
   "cell_type": "code",
   "execution_count": 21,
   "id": "20de02c7",
   "metadata": {},
   "outputs": [
    {
     "data": {
      "text/plain": [
       "torch.Size([32, 1])"
      ]
     },
     "execution_count": 21,
     "metadata": {},
     "output_type": "execute_result"
    }
   ],
   "source": [
    "z.shape"
   ]
  },
  {
   "cell_type": "markdown",
   "id": "ba836667",
   "metadata": {},
   "source": [
    "## Linear Regression from Scikit-Lear "
   ]
  },
  {
   "cell_type": "code",
   "execution_count": 22,
   "id": "bac0dc77",
   "metadata": {},
   "outputs": [],
   "source": [
    "from sklearn.linear_model import LinearRegression"
   ]
  },
  {
   "cell_type": "code",
   "execution_count": 23,
   "id": "2888cc9b",
   "metadata": {},
   "outputs": [],
   "source": [
    "# prediction model\n",
    "reg = LinearRegression()"
   ]
  },
  {
   "cell_type": "markdown",
   "id": "cc19e83e",
   "metadata": {},
   "source": [
    "## Two-Stage "
   ]
  },
  {
   "cell_type": "code",
   "execution_count": 24,
   "id": "6adcf558",
   "metadata": {},
   "outputs": [],
   "source": [
    "# build model\n",
    "twostage_model = spo.twostage.sklearnPred(reg)"
   ]
  },
  {
   "cell_type": "code",
   "execution_count": 25,
   "id": "86fe3c54",
   "metadata": {},
   "outputs": [
    {
     "data": {
      "text/plain": [
       "MultiOutputRegressor(estimator=LinearRegression())"
      ]
     },
     "execution_count": 25,
     "metadata": {},
     "output_type": "execute_result"
    }
   ],
   "source": [
    "# training\n",
    "twostage_model.fit(ks_dataset_train.feats, ks_dataset_train.costs)"
   ]
  },
  {
   "cell_type": "code",
   "execution_count": 26,
   "id": "e2e103e7",
   "metadata": {},
   "outputs": [],
   "source": [
    "# prediction\n",
    "c_test_pred = twostage_model.predict(ks_dataset_test.feats)"
   ]
  },
  {
   "cell_type": "code",
   "execution_count": 27,
   "id": "5aa3cd7f",
   "metadata": {},
   "outputs": [
    {
     "name": "stderr",
     "output_type": "stream",
     "text": [
      "100%|███████████████████████████████████████████████████████████████████████████████████████████████| 1000/1000 [02:39<00:00,  6.29it/s]\n"
     ]
    },
    {
     "name": "stdout",
     "output_type": "stream",
     "text": [
      "Normalized true SPO Loss: 2.48%\n",
      "Normalized unambiguous SPO Loss: 2.48%\n"
     ]
    }
   ],
   "source": [
    "# evaluate\n",
    "truespo = 0\n",
    "unambspo = 0\n",
    "for i in tqdm(range(1000)):\n",
    "    c_pred_i = c_test_pred[i]\n",
    "    c_true_i = ks_dataset_test.costs[i]\n",
    "    z_true_i = ks_dataset_test.objs[i,0]\n",
    "    truespo += spo.eval.calTrueSPO(ks_model, c_pred_i, c_true_i, z_true_i)\n",
    "    unambspo += spo.eval.calUnambSPO(ks_model, c_pred_i, c_true_i, z_true_i)\n",
    "time.sleep(1)\n",
    "print('Normalized true SPO Loss: {:.2f}%'.format(truespo / abs(ks_dataset_test.objs.sum()) * 100))\n",
    "print('Normalized unambiguous SPO Loss: {:.2f}%'.format(unambspo / abs(ks_dataset_test.objs.sum()) * 100))"
   ]
  },
  {
   "cell_type": "code",
   "execution_count": 28,
   "id": "feeeed33",
   "metadata": {
    "scrolled": false
   },
   "outputs": [
    {
     "name": "stdout",
     "output_type": "stream",
     "text": [
      "Sample 0:\n",
      "    True cost: 5.00, 4.00, 5.00, 5.00, 4.00, 3.00, 5.00, 5.00, 3.00, 3.00, 4.00, 4.00, 4.00, 4.00, 4.00, 5.00, 5.00, 5.00, 5.00, 3.00, 4.00, 4.00, 4.00, 5.00, 5.00, 5.00, 4.00, 3.00, 5.00, 3.00, 3.00, 5.00, 3.00, 3.00, 5.00, 5.00, 3.00, 5.00, 3.00, 4.00, 5.00, 3.00, 5.00, 3.00, 4.00, 5.00, 3.00, 4.00\n",
      "    Pred cost: 6.95, 5.45, 4.83, 6.22, 6.27, 3.66, 4.83, 6.28, 3.07, 3.79, 5.49, 5.48, 5.48, 4.37, 4.40, 5.50, 6.92, 5.50, 6.19, 3.00, 4.40, 5.49, 4.40, 5.50, 4.83, 6.14, 6.27, 3.67, 6.92, 4.34, 4.25, 6.92, 3.79, 3.80, 6.92, 4.83, 3.66, 5.50, 4.25, 4.40, 5.50, 3.07, 6.12, 3.67, 6.27, 6.92, 3.67, 5.48\n",
      "    True sol: 1, 0, 0, 0, 0, 0, 0, 0, 0, 1, 0, 0, 0, 0, 0, 0, 0, 0, 0, 0, 0, 0, 0, 1, 0, 1, 0, 0, 0, 0, 0, 0, 0, 0, 0, 0, 0, 1, 0, 0, 1, 0, 0, 0, 0, 1, 0, 0, True obj: 33.00\n",
      "    Pred sol: 1, 0, 0, 0, 0, 0, 0, 0, 0, 1, 0, 0, 0, 0, 0, 0, 0, 0, 0, 0, 0, 0, 0, 1, 0, 1, 0, 0, 0, 0, 0, 0, 0, 0, 0, 0, 0, 1, 0, 0, 1, 0, 0, 0, 0, 1, 0, 0, Pred obj: 33.00\n",
      "\n",
      "Sample 1:\n",
      "    True cost: 1.00, 5.00, 3.00, 2.00, 2.00, 3.00, 3.00, 1.00, 5.00, 3.00, 3.00, 4.00, 4.00, 2.00, 3.00, 2.00, 2.00, 2.00, 2.00, 3.00, 3.00, 3.00, 3.00, 3.00, 3.00, 3.00, 2.00, 4.00, 2.00, 2.00, 4.00, 2.00, 3.00, 2.00, 2.00, 3.00, 3.00, 2.00, 4.00, 3.00, 3.00, 5.00, 4.00, 5.00, 2.00, 2.00, 5.00, 4.00\n",
      "    Pred cost: 1.57, 5.74, 3.43, 2.12, 3.60, 3.75, 3.43, 1.51, 5.05, 2.83, 3.96, 5.03, 5.03, 2.05, 3.07, 1.98, 3.78, 1.98, 3.23, 3.00, 3.07, 3.96, 3.07, 3.68, 3.43, 4.22, 3.60, 4.73, 3.78, 3.36, 5.04, 3.78, 2.83, 1.84, 3.78, 3.43, 3.75, 1.98, 5.04, 3.07, 3.68, 5.05, 5.34, 5.48, 3.60, 3.78, 5.48, 5.03\n",
      "    True sol: 0, 0, 0, 0, 0, 1, 0, 0, 0, 1, 0, 0, 1, 0, 0, 0, 0, 0, 0, 0, 0, 0, 0, 0, 0, 0, 0, 0, 0, 0, 0, 0, 0, 0, 0, 0, 0, 0, 0, 0, 0, 1, 0, 1, 0, 0, 1, 0, True obj: 25.00\n",
      "    Pred sol: 0, 1, 0, 0, 0, 0, 0, 0, 0, 0, 0, 0, 1, 0, 0, 0, 0, 0, 0, 0, 0, 0, 0, 0, 0, 1, 0, 1, 0, 0, 0, 0, 0, 0, 0, 0, 0, 0, 0, 0, 0, 0, 1, 1, 0, 0, 0, 0, Pred obj: 25.00\n",
      "\n",
      "Sample 2:\n",
      "    True cost: 4.00, 3.00, 3.00, 3.00, 7.00, 6.00, 3.00, 5.00, 5.00, 5.00, 5.00, 5.00, 5.00, 3.00, 3.00, 4.00, 5.00, 4.00, 3.00, 3.00, 3.00, 5.00, 3.00, 2.00, 3.00, 4.00, 7.00, 7.00, 5.00, 9.00, 5.00, 5.00, 5.00, 4.00, 5.00, 3.00, 6.00, 4.00, 5.00, 3.00, 2.00, 5.00, 4.00, 3.00, 7.00, 5.00, 3.00, 5.00\n",
      "    Pred cost: 5.30, 3.51, 2.84, 3.35, 8.44, 6.49, 2.84, 6.44, 4.80, 4.96, 6.19, 6.51, 6.51, 3.79, 4.04, 4.35, 7.26, 4.35, 3.65, 3.00, 4.04, 6.19, 4.04, 1.90, 2.84, 5.15, 8.44, 6.66, 7.26, 8.58, 5.69, 7.26, 4.96, 4.73, 7.26, 2.84, 6.49, 4.35, 5.69, 4.04, 1.90, 4.80, 5.38, 3.96, 8.44, 7.26, 3.96, 6.51\n",
      "    True sol: 0, 0, 0, 0, 1, 1, 0, 0, 0, 1, 0, 0, 0, 0, 0, 0, 0, 0, 0, 0, 0, 0, 0, 0, 0, 0, 1, 1, 0, 1, 0, 0, 0, 0, 0, 0, 0, 0, 0, 0, 0, 0, 0, 0, 0, 0, 0, 0, True obj: 41.00\n",
      "    Pred sol: 0, 0, 0, 0, 1, 1, 0, 0, 0, 0, 0, 0, 0, 0, 0, 0, 0, 0, 0, 0, 0, 0, 0, 0, 0, 0, 1, 1, 0, 1, 0, 0, 0, 0, 1, 0, 0, 0, 0, 0, 0, 0, 0, 0, 0, 0, 0, 0, Pred obj: 41.00\n",
      "\n",
      "Sample 3:\n",
      "    True cost: 8.00, 2.00, 2.00, 3.00, 5.00, 3.00, 2.00, 6.00, 3.00, 9.00, 2.00, 4.00, 4.00, 5.00, 12.00, 2.00, 6.00, 2.00, 7.00, 3.00, 12.00, 2.00, 12.00, 2.00, 2.00, 2.00, 5.00, 8.00, 6.00, 8.00, 10.00, 6.00, 9.00, 4.00, 6.00, 2.00, 3.00, 2.00, 10.00, 12.00, 2.00, 3.00, 6.00, 3.00, 5.00, 6.00, 3.00, 4.00\n",
      "    Pred cost: 8.68, 2.04, 1.40, 3.56, 6.50, 3.54, 1.40, 7.13, 2.75, 7.66, 1.48, 5.36, 5.36, 5.50, 9.34, 2.15, 8.02, 2.15, 7.56, 3.00, 9.34, 1.48, 9.34, 2.75, 1.40, 2.77, 6.50, 7.16, 8.02, 8.44, 8.85, 8.02, 7.66, 4.12, 8.02, 1.40, 3.54, 2.15, 8.85, 9.34, 2.75, 2.75, 6.82, 4.21, 6.50, 8.02, 4.21, 5.36\n",
      "    True sol: 1, 0, 0, 0, 0, 0, 0, 0, 0, 1, 0, 0, 0, 0, 1, 0, 0, 0, 0, 0, 1, 0, 0, 0, 0, 0, 0, 0, 0, 1, 0, 0, 0, 0, 0, 0, 0, 0, 0, 1, 0, 0, 0, 0, 0, 0, 0, 0, True obj: 61.00\n",
      "    Pred sol: 1, 0, 0, 0, 0, 0, 0, 0, 0, 1, 0, 0, 0, 0, 1, 0, 0, 0, 0, 0, 1, 0, 0, 0, 0, 0, 0, 0, 0, 1, 0, 0, 0, 0, 0, 0, 0, 0, 0, 1, 0, 0, 0, 0, 0, 0, 0, 0, Pred obj: 61.00\n",
      "\n",
      "Sample 4:\n",
      "    True cost: 19.00, 12.00, 8.00, 18.00, 8.00, 3.00, 8.00, 11.00, 2.00, 4.00, 7.00, 7.00, 7.00, 8.00, 7.00, 10.00, 15.00, 10.00, 17.00, 3.00, 7.00, 7.00, 7.00, 15.00, 8.00, 14.00, 8.00, 3.00, 15.00, 3.00, 5.00, 15.00, 4.00, 4.00, 15.00, 8.00, 3.00, 10.00, 5.00, 7.00, 15.00, 2.00, 13.00, 5.00, 8.00, 15.00, 5.00, 7.00\n",
      "    Pred cost: 13.13, 9.79, 7.05, 11.93, 8.86, 3.42, 7.05, 9.53, 2.37, 3.98, 7.81, 7.40, 7.40, 7.36, 7.14, 8.43, 12.50, 8.43, 11.48, 3.00, 7.14, 7.81, 7.14, 10.33, 7.05, 11.28, 8.86, 3.14, 12.50, 4.25, 6.32, 12.50, 3.98, 4.29, 12.50, 7.05, 3.42, 8.43, 6.32, 7.14, 10.33, 2.37, 10.87, 5.43, 8.86, 12.50, 5.43, 7.40\n",
      "    True sol: 1, 0, 0, 1, 0, 0, 0, 0, 0, 0, 0, 0, 0, 0, 0, 0, 0, 0, 1, 0, 0, 0, 0, 1, 0, 1, 0, 0, 0, 0, 0, 0, 0, 0, 0, 0, 0, 0, 0, 0, 1, 0, 0, 0, 0, 0, 0, 0, True obj: 98.00\n",
      "    Pred sol: 1, 0, 0, 0, 0, 0, 0, 0, 0, 0, 0, 0, 0, 0, 0, 0, 0, 0, 0, 0, 0, 0, 0, 0, 0, 1, 0, 0, 0, 0, 0, 1, 0, 0, 1, 0, 0, 0, 0, 0, 1, 0, 0, 0, 0, 1, 0, 0, Pred obj: 93.00\n",
      "\n",
      "Sample 5:\n",
      "    True cost: 1.00, 2.00, 4.00, 1.00, 2.00, 2.00, 4.00, 3.00, 3.00, 3.00, 2.00, 4.00, 4.00, 1.00, 2.00, 3.00, 1.00, 3.00, 2.00, 3.00, 2.00, 2.00, 2.00, 2.00, 4.00, 1.00, 2.00, 3.00, 1.00, 2.00, 1.00, 1.00, 3.00, 2.00, 1.00, 4.00, 2.00, 3.00, 1.00, 2.00, 2.00, 3.00, 2.00, 1.00, 2.00, 1.00, 1.00, 4.00\n",
      "    Pred cost: 1.76, 2.21, 4.54, 1.21, 3.71, 1.47, 4.54, 4.02, 2.81, 3.82, 2.86, 4.95, 4.95, -0.06, 1.84, 3.26, 1.33, 3.26, 3.22, 3.00, 1.84, 2.86, 1.84, 2.66, 4.54, 0.65, 3.71, 3.48, 1.33, 2.25, 1.36, 1.33, 3.82, 1.97, 1.33, 4.54, 1.47, 3.26, 1.36, 1.84, 2.66, 2.81, 2.81, 0.83, 3.71, 1.33, 0.83, 4.95\n",
      "    True sol: 0, 0, 1, 0, 0, 0, 0, 0, 0, 1, 0, 0, 1, 0, 0, 0, 0, 0, 0, 0, 0, 0, 0, 0, 0, 0, 1, 0, 0, 0, 0, 0, 0, 0, 0, 1, 0, 1, 0, 0, 0, 0, 0, 0, 0, 0, 0, 0, True obj: 20.00\n",
      "    Pred sol: 0, 0, 1, 0, 0, 0, 0, 0, 0, 1, 0, 0, 1, 0, 0, 0, 0, 0, 0, 0, 0, 0, 0, 0, 0, 0, 1, 0, 0, 0, 0, 0, 0, 0, 0, 1, 0, 1, 0, 0, 0, 0, 0, 0, 0, 0, 0, 0, Pred obj: 20.00\n",
      "\n",
      "Sample 6:\n",
      "    True cost: 1.00, 2.00, 4.00, 1.00, 1.00, 1.00, 4.00, 1.00, 4.00, 3.00, 2.00, 3.00, 3.00, 1.00, 1.00, 1.00, 1.00, 1.00, 1.00, 3.00, 1.00, 2.00, 1.00, 2.00, 4.00, 1.00, 1.00, 3.00, 1.00, 1.00, 2.00, 1.00, 3.00, 1.00, 1.00, 4.00, 1.00, 1.00, 2.00, 1.00, 2.00, 4.00, 2.00, 2.00, 1.00, 1.00, 2.00, 3.00\n",
      "    Pred cost: -2.09, 2.70, 3.88, -1.56, 1.45, 0.99, 3.88, 0.48, 4.03, 2.98, 1.59, 4.62, 4.62, -1.94, 0.84, 0.77, -1.15, 0.77, 1.43, 3.00, 0.84, 1.59, 0.84, 1.81, 3.88, -0.78, 1.45, 3.89, -1.15, 0.83, 1.68, -1.15, 2.98, 0.26, -1.15, 3.88, 0.99, 0.77, 1.68, 0.84, 1.81, 4.03, 2.37, 2.02, 1.45, -1.15, 2.02, 4.62\n",
      "    True sol: 0, 0, 1, 0, 0, 0, 1, 0, 0, 1, 0, 0, 0, 0, 0, 0, 0, 0, 0, 0, 0, 0, 0, 0, 1, 0, 0, 0, 0, 0, 0, 0, 0, 0, 0, 0, 0, 0, 0, 0, 0, 1, 0, 0, 0, 0, 0, 0, True obj: 19.00\n",
      "    Pred sol: 0, 0, 1, 0, 0, 0, 0, 0, 0, 1, 0, 0, 1, 0, 0, 0, 0, 0, 0, 0, 0, 0, 0, 0, 0, 0, 0, 1, 0, 0, 0, 0, 0, 0, 0, 0, 0, 0, 0, 0, 1, 1, 0, 0, 0, 0, 0, 0, Pred obj: 19.00\n",
      "\n",
      "Sample 7:\n",
      "    True cost: 4.00, 3.00, 7.00, 5.00, 1.00, 1.00, 7.00, 3.00, 1.00, 2.00, 1.00, 2.00, 2.00, 2.00, 3.00, 4.00, 1.00, 4.00, 7.00, 3.00, 3.00, 1.00, 3.00, 9.00, 7.00, 2.00, 1.00, 1.00, 1.00, 1.00, 1.00, 1.00, 2.00, 2.00, 1.00, 7.00, 1.00, 4.00, 1.00, 3.00, 9.00, 1.00, 2.00, 1.00, 1.00, 1.00, 1.00, 2.00\n",
      "    Pred cost: 5.63, 4.04, 6.33, 6.18, -0.09, -2.50, 6.33, 4.10, -0.40, 2.69, 0.72, 1.97, 1.97, 2.71, 4.01, 4.68, 1.36, 4.68, 7.41, 3.00, 4.01, 0.72, 4.01, 7.73, 6.33, 2.03, -0.09, -1.08, 1.36, -3.22, 0.17, 1.36, 2.69, 1.51, 1.36, 6.33, -2.50, 4.68, 0.17, 4.01, 7.73, -0.40, 3.45, 0.72, -0.09, 1.36, 0.72, 1.97\n",
      "    True sol: 1, 0, 0, 0, 0, 0, 1, 0, 0, 0, 0, 0, 0, 0, 0, 0, 0, 0, 0, 0, 0, 0, 0, 1, 1, 0, 0, 0, 0, 0, 0, 0, 0, 0, 0, 0, 0, 1, 0, 0, 1, 0, 0, 0, 0, 0, 0, 0, True obj: 40.00\n",
      "    Pred sol: 1, 0, 1, 0, 0, 0, 0, 0, 0, 0, 0, 0, 0, 0, 0, 0, 0, 0, 1, 0, 0, 0, 0, 1, 0, 0, 0, 0, 0, 0, 0, 0, 0, 0, 0, 0, 0, 1, 0, 0, 1, 0, 0, 0, 0, 0, 0, 0, Pred obj: 40.00\n",
      "\n",
      "Sample 8:\n",
      "    True cost: 13.00, 9.00, 10.00, 15.00, 13.00, 5.00, 10.00, 14.00, 3.00, 3.00, 14.00, 8.00, 8.00, 5.00, 3.00, 15.00, 12.00, 15.00, 9.00, 3.00, 3.00, 14.00, 3.00, 9.00, 10.00, 14.00, 13.00, 3.00, 12.00, 5.00, 2.00, 12.00, 3.00, 5.00, 12.00, 10.00, 5.00, 15.00, 2.00, 3.00, 9.00, 3.00, 8.00, 3.00, 13.00, 12.00, 3.00, 8.00\n",
      "    Pred cost: 11.18, 8.51, 7.73, 10.92, 11.44, 5.71, 7.73, 10.81, 3.26, 3.22, 10.98, 8.51, 8.51, 5.68, 3.30, 10.41, 11.71, 10.41, 8.28, 3.00, 3.30, 10.98, 3.30, 8.14, 7.73, 11.40, 11.44, 3.39, 11.71, 5.88, 3.35, 11.71, 3.22, 5.49, 11.71, 7.73, 5.71, 10.41, 3.35, 3.30, 8.14, 3.26, 8.73, 3.36, 11.44, 11.71, 3.36, 8.51\n"
     ]
    },
    {
     "name": "stdout",
     "output_type": "stream",
     "text": [
      "    True sol: 1, 0, 0, 0, 0, 0, 0, 0, 0, 0, 0, 0, 0, 0, 0, 1, 0, 1, 0, 0, 0, 0, 0, 0, 0, 1, 1, 0, 0, 0, 0, 0, 0, 0, 0, 0, 0, 1, 0, 0, 0, 0, 0, 0, 0, 0, 0, 0, True obj: 85.00\n",
      "    Pred sol: 1, 0, 0, 0, 0, 0, 0, 0, 0, 0, 0, 0, 0, 0, 0, 0, 0, 0, 0, 0, 0, 0, 0, 0, 0, 1, 1, 0, 0, 0, 0, 1, 0, 0, 1, 0, 0, 0, 0, 0, 0, 0, 0, 0, 0, 1, 0, 0, Pred obj: 76.00\n",
      "\n",
      "Sample 9:\n",
      "    True cost: 3.00, 7.00, 4.00, 2.00, 11.00, 8.00, 4.00, 4.00, 9.00, 4.00, 9.00, 12.00, 12.00, 2.00, 3.00, 3.00, 8.00, 3.00, 3.00, 3.00, 3.00, 9.00, 3.00, 3.00, 4.00, 6.00, 11.00, 10.00, 8.00, 9.00, 7.00, 8.00, 4.00, 3.00, 8.00, 4.00, 8.00, 3.00, 7.00, 3.00, 3.00, 9.00, 9.00, 6.00, 11.00, 8.00, 6.00, 12.00\n",
      "    Pred cost: 4.37, 7.58, 4.27, 3.05, 10.74, 7.41, 4.27, 5.82, 7.14, 4.39, 8.84, 10.24, 10.24, 1.98, 3.23, 4.29, 9.34, 4.29, 4.38, 3.00, 3.23, 8.84, 3.23, 3.23, 4.27, 7.70, 10.74, 8.61, 9.34, 8.99, 7.43, 9.34, 4.39, 3.16, 9.34, 4.27, 7.41, 4.29, 7.43, 3.23, 3.23, 7.14, 9.04, 6.24, 10.74, 9.34, 6.24, 10.24\n",
      "    True sol: 0, 0, 0, 0, 0, 0, 0, 0, 0, 0, 0, 0, 1, 0, 0, 0, 0, 0, 0, 0, 0, 1, 0, 0, 0, 0, 1, 1, 0, 1, 0, 0, 0, 0, 0, 0, 0, 0, 0, 0, 0, 0, 1, 0, 0, 0, 0, 0, True obj: 60.00\n",
      "    Pred sol: 0, 0, 0, 0, 1, 0, 0, 0, 0, 0, 1, 0, 0, 0, 0, 0, 0, 0, 0, 0, 0, 1, 0, 0, 0, 0, 1, 0, 0, 1, 0, 1, 0, 0, 0, 0, 0, 0, 0, 0, 0, 0, 0, 0, 0, 0, 0, 0, Pred obj: 57.00\n",
      "\n"
     ]
    }
   ],
   "source": [
    "# compare solutions\n",
    "for i, data in enumerate(ks_loader_test):\n",
    "    # load data\n",
    "    x, c, w, z = data\n",
    "    # cuda\n",
    "    if torch.cuda.is_available():\n",
    "        x, c, w, z = x.cuda(), c.cuda(), w.cuda(), z.cuda()\n",
    "    # convert to numpy\n",
    "    x = x.to('cpu').detach().numpy()\n",
    "    c = c.to('cpu').detach().numpy()\n",
    "    w = w.to('cpu').detach().numpy()\n",
    "    z = z.to('cpu').detach().numpy()\n",
    "    # predict\n",
    "    cp = twostage_model.predict(x)\n",
    "    for j in range(min(10, batch_size)):\n",
    "        print('Sample {}:'.format(j))\n",
    "        print('    True cost:', ', '.join(['{:.2f}'.format(-cost) for cost in c[j]]))\n",
    "        print('    Pred cost:', ', '.join(['{:.2f}'.format(-cost) for cost in cp[j]]))\n",
    "        # solve cost from prediction\n",
    "        ks_model.setObj(cp[j])\n",
    "        wpj, _ = ks_model.solve()\n",
    "        zpj = np.dot(c[j], wpj)\n",
    "        print('    True sol: ' + ', '.join(['{:.0f}'.format(x) for x in w[j]]) + ', True obj: {:.2f}'.format(-z[j,0]))\n",
    "        print('    Pred sol: '+  ', '.join(['{:.0f}'.format(x) for x in wpj]) + ', Pred obj: {:.2f}'.format(-zpj))\n",
    "        print()\n",
    "    break"
   ]
  },
  {
   "cell_type": "markdown",
   "id": "8596e709",
   "metadata": {},
   "source": [
    "## Linear Regression from PyTorch"
   ]
  },
  {
   "cell_type": "code",
   "execution_count": 29,
   "id": "e88c361d",
   "metadata": {},
   "outputs": [],
   "source": [
    "from torch import nn"
   ]
  },
  {
   "cell_type": "code",
   "execution_count": 30,
   "id": "5ed32466",
   "metadata": {},
   "outputs": [],
   "source": [
    "# build linear model\n",
    "class LinearRegression(nn.Module):\n",
    "    \n",
    "    def __init__(self):\n",
    "        super(LinearRegression, self).__init__()\n",
    "        self.linear = nn.Linear(p, m)\n",
    "    \n",
    "    def forward(self, x):\n",
    "        out = self.linear(x)\n",
    "        return out"
   ]
  },
  {
   "cell_type": "markdown",
   "id": "fa3f22f2",
   "metadata": {},
   "source": [
    "## SPO+ "
   ]
  },
  {
   "cell_type": "code",
   "execution_count": 31,
   "id": "07753d5a",
   "metadata": {},
   "outputs": [],
   "source": [
    "# init model\n",
    "reg = LinearRegression()\n",
    "# cuda\n",
    "if torch.cuda.is_available():\n",
    "    reg = reg.cuda()"
   ]
  },
  {
   "cell_type": "code",
   "execution_count": 32,
   "id": "d4d0d9b8",
   "metadata": {},
   "outputs": [],
   "source": [
    "# set optimizer\n",
    "optimizer = torch.optim.Adam(reg.parameters(), lr=5e-3)"
   ]
  },
  {
   "cell_type": "code",
   "execution_count": 33,
   "id": "fb3637bb",
   "metadata": {},
   "outputs": [
    {
     "name": "stdout",
     "output_type": "stream",
     "text": [
      "Num of cores: 4\n"
     ]
    }
   ],
   "source": [
    "# init SPO+ loss\n",
    "criterion = spo.func.SPOPlus(ks_model, processes=4)"
   ]
  },
  {
   "cell_type": "code",
   "execution_count": 34,
   "id": "5a05c841",
   "metadata": {
    "scrolled": false
   },
   "outputs": [
    {
     "name": "stdout",
     "output_type": "stream",
     "text": [
      "Epoch  10, Loss:  18.2505, True SPO Loss: 16.2195%, Unambiguous SPO Loss: 16.2195%\n",
      "Epoch  20, Loss:  18.0076, True SPO Loss:  4.3701%, Unambiguous SPO Loss:  4.3701%\n",
      "Epoch  30, Loss:   3.6208, True SPO Loss:  1.6132%, Unambiguous SPO Loss:  1.6155%\n",
      "Epoch  40, Loss:   4.7755, True SPO Loss:  0.9942%, Unambiguous SPO Loss:  0.9942%\n",
      "Epoch  50, Loss:  18.3706, True SPO Loss:  0.8124%, Unambiguous SPO Loss:  0.8124%\n",
      "Epoch  60, Loss:  14.5297, True SPO Loss:  0.6421%, Unambiguous SPO Loss:  0.6421%\n",
      "Epoch  70, Loss:   2.0622, True SPO Loss:  0.5362%, Unambiguous SPO Loss:  0.5362%\n",
      "Epoch  80, Loss:   2.1888, True SPO Loss:  0.4948%, Unambiguous SPO Loss:  0.4948%\n",
      "Epoch  90, Loss:  10.4885, True SPO Loss:  0.5707%, Unambiguous SPO Loss:  0.5707%\n",
      "Epoch 100, Loss:   1.6274, True SPO Loss:  0.4718%, Unambiguous SPO Loss:  0.4718%\n",
      "Epoch 110, Loss:   2.1394, True SPO Loss:  0.5201%, Unambiguous SPO Loss:  0.5201%\n",
      "Epoch 120, Loss:   1.4658, True SPO Loss:  0.5109%, Unambiguous SPO Loss:  0.5109%\n",
      "Epoch 130, Loss:   0.9703, True SPO Loss:  0.4902%, Unambiguous SPO Loss:  0.4902%\n",
      "Epoch 140, Loss:   2.8632, True SPO Loss:  0.4534%, Unambiguous SPO Loss:  0.4534%\n",
      "Epoch 150, Loss:   3.0034, True SPO Loss:  0.4534%, Unambiguous SPO Loss:  0.4534%\n",
      "Epoch 160, Loss:   4.2131, True SPO Loss:  0.4787%, Unambiguous SPO Loss:  0.4787%\n",
      "Epoch 170, Loss:   5.8884, True SPO Loss:  0.4488%, Unambiguous SPO Loss:  0.4488%\n",
      "Epoch 180, Loss:   4.1909, True SPO Loss:  0.4165%, Unambiguous SPO Loss:  0.4165%\n",
      "Epoch 190, Loss:   1.7252, True SPO Loss:  0.4326%, Unambiguous SPO Loss:  0.4326%\n",
      "Epoch 200, Loss:   5.9499, True SPO Loss:  0.4050%, Unambiguous SPO Loss:  0.4050%\n",
      "Epoch 210, Loss:   0.5041, True SPO Loss:  0.4188%, Unambiguous SPO Loss:  0.4188%\n",
      "Epoch 220, Loss:   2.1627, True SPO Loss:  0.4303%, Unambiguous SPO Loss:  0.4303%\n",
      "Epoch 230, Loss:   4.1269, True SPO Loss:  0.4073%, Unambiguous SPO Loss:  0.4073%\n",
      "Epoch 240, Loss:   2.0044, True SPO Loss:  0.3843%, Unambiguous SPO Loss:  0.3843%\n",
      "Epoch 250, Loss:   1.9746, True SPO Loss:  0.3682%, Unambiguous SPO Loss:  0.3682%\n",
      "Epoch 260, Loss:   0.8962, True SPO Loss:  0.4303%, Unambiguous SPO Loss:  0.4303%\n",
      "Epoch 270, Loss:   2.2851, True SPO Loss:  0.4349%, Unambiguous SPO Loss:  0.4349%\n",
      "Epoch 280, Loss:   1.6603, True SPO Loss:  0.3935%, Unambiguous SPO Loss:  0.3935%\n",
      "Epoch 290, Loss:   1.2592, True SPO Loss:  0.3889%, Unambiguous SPO Loss:  0.3889%\n",
      "Epoch 300, Loss:   2.0124, True SPO Loss:  0.3843%, Unambiguous SPO Loss:  0.3843%\n"
     ]
    }
   ],
   "source": [
    "# train model\n",
    "num_epochs = 300\n",
    "reg.train()\n",
    "loss_log = []\n",
    "loss_log_truespo = []\n",
    "loss_log_unambspo = []\n",
    "for epoch in range(num_epochs):\n",
    "    # load data\n",
    "    for i, data in enumerate(ks_loader_train):\n",
    "        x, c, w, z = data\n",
    "        # cuda\n",
    "        if torch.cuda.is_available():\n",
    "            x, c, w, z = x.cuda(), c.cuda(), w.cuda(), z.cuda()\n",
    "        # forward pass\n",
    "        cp = reg(x)\n",
    "        loss = criterion.apply(cp, c, w, z).mean()\n",
    "        # backward pass\n",
    "        optimizer.zero_grad()\n",
    "        loss.backward()\n",
    "        optimizer.step()\n",
    "    loss_log.append(loss.item())\n",
    "    if (epoch + 1) % 10 == 0:\n",
    "        # true SPO\n",
    "        trueloss = spo.eval.trueSPO(reg, ks_model, ks_loader_test)\n",
    "        loss_log_truespo.append(trueloss)\n",
    "        # unambiguous SPO \n",
    "        unambloss = spo.eval.unambSPO(reg, ks_model, ks_loader_test)\n",
    "        loss_log_unambspo.append(unambloss)\n",
    "        print('Epoch {:3}, Loss: {:8.4f}, True SPO Loss: {:7.4f}%, Unambiguous SPO Loss: {:7.4f}%'. \\\n",
    "              format(epoch+1, loss.item(), trueloss*100, unambloss*100))"
   ]
  },
  {
   "cell_type": "code",
   "execution_count": 35,
   "id": "927bf5d7",
   "metadata": {},
   "outputs": [
    {
     "data": {
      "image/png": "[encoded data removed]",
      "text/plain": [
       "<Figure size 864x432 with 1 Axes>"
      ]
     },
     "metadata": {
      "needs_background": "light"
     },
     "output_type": "display_data"
    }
   ],
   "source": [
    "# draw plot\n",
    "plt.figure(figsize=(12, 6))\n",
    "plt.plot(loss_log, color='c')\n",
    "plt.xlabel('Epoch')\n",
    "plt.ylabel('SPO+ Loss')\n",
    "plt.title('Learning Curve')\n",
    "plt.show()"
   ]
  },
  {
   "cell_type": "code",
   "execution_count": 36,
   "id": "8ae91bbd",
   "metadata": {},
   "outputs": [
    {
     "data": {
      "image/png": "[encoded data removed]",
      "text/plain": [
       "<Figure size 864x432 with 1 Axes>"
      ]
     },
     "metadata": {
      "needs_background": "light"
     },
     "output_type": "display_data"
    }
   ],
   "source": [
    "# draw plot\n",
    "plt.figure(figsize=(12, 6))\n",
    "plt.plot(range(0, num_epochs, 10), loss_log_truespo, color='m', alpha=0.7, label='True SPO')\n",
    "plt.plot(range(0, num_epochs, 10), loss_log_unambspo, color='b', alpha=0.7, label='Unambiguous SPO')\n",
    "plt.xlabel('Epoch')\n",
    "plt.ylabel('Loss')\n",
    "plt.title('Learning Curve')\n",
    "plt.legend()\n",
    "plt.show()"
   ]
  },
  {
   "cell_type": "code",
   "execution_count": 37,
   "id": "c8515a5d",
   "metadata": {},
   "outputs": [
    {
     "name": "stdout",
     "output_type": "stream",
     "text": [
      "Normalized true SPO Loss: 0.38%\n",
      "Normalized unambiguous SPO Loss: 0.38%\n"
     ]
    }
   ],
   "source": [
    "# evaluate\n",
    "spoloss = spo.eval.trueSPO(reg, ks_model, ks_loader_test)\n",
    "print('Normalized true SPO Loss: {:.2f}%'.format(spoloss * 100))\n",
    "spoloss = spo.eval.unambSPO(reg, ks_model, ks_loader_test)\n",
    "print('Normalized unambiguous SPO Loss: {:.2f}%'.format(spoloss * 100))"
   ]
  },
  {
   "cell_type": "code",
   "execution_count": 38,
   "id": "738c1d73",
   "metadata": {
    "scrolled": false
   },
   "outputs": [
    {
     "name": "stdout",
     "output_type": "stream",
     "text": [
      "Sample 0:\n",
      "    True cost: 5.00, 4.00, 5.00, 5.00, 4.00, 3.00, 5.00, 5.00, 3.00, 3.00, 4.00, 4.00, 4.00, 4.00, 4.00, 5.00, 5.00, 5.00, 5.00, 3.00, 4.00, 4.00, 4.00, 5.00, 5.00, 5.00, 4.00, 3.00, 5.00, 3.00, 3.00, 5.00, 3.00, 3.00, 5.00, 5.00, 3.00, 5.00, 3.00, 4.00, 5.00, 3.00, 5.00, 3.00, 4.00, 5.00, 3.00, 4.00\n",
      "    Pred cost: 6.21, 4.52, 4.80, 5.56, 4.57, 2.39, 4.96, 5.32, 1.43, 3.46, 4.10, 3.74, 4.21, 3.51, 3.53, 5.09, 4.86, 4.94, 5.63, 1.73, 3.43, 4.04, 2.19, 5.49, 4.65, 4.78, 4.76, 2.74, 5.11, 2.82, 1.31, 5.01, 2.39, 2.77, 4.61, 4.88, 1.24, 5.55, 2.29, 3.27, 5.47, 1.71, 4.73, 2.02, 4.35, 4.69, 2.35, 3.36\n",
      "    True sol: 1, 0, 0, 0, 0, 0, 0, 0, 0, 1, 0, 0, 0, 0, 0, 0, 0, 0, 0, 0, 0, 0, 0, 1, 0, 1, 0, 0, 0, 0, 0, 0, 0, 0, 0, 0, 0, 1, 0, 0, 1, 0, 0, 0, 0, 1, 0, 0, True obj: 33.00\n",
      "    Pred sol: 1, 0, 0, 0, 0, 0, 0, 0, 0, 1, 0, 0, 0, 0, 0, 0, 0, 0, 0, 0, 0, 0, 0, 1, 0, 1, 0, 0, 0, 0, 0, 0, 0, 0, 0, 0, 0, 1, 0, 0, 1, 0, 0, 0, 0, 1, 0, 0, Pred obj: 33.00\n",
      "\n",
      "Sample 1:\n",
      "    True cost: 1.00, 5.00, 3.00, 2.00, 2.00, 3.00, 3.00, 1.00, 5.00, 3.00, 3.00, 4.00, 4.00, 2.00, 3.00, 2.00, 2.00, 2.00, 2.00, 3.00, 3.00, 3.00, 3.00, 3.00, 3.00, 3.00, 2.00, 4.00, 2.00, 2.00, 4.00, 2.00, 3.00, 2.00, 2.00, 3.00, 3.00, 2.00, 4.00, 3.00, 3.00, 5.00, 4.00, 5.00, 2.00, 2.00, 5.00, 4.00\n",
      "    Pred cost: -0.45, 6.43, 3.76, 0.60, 1.82, 4.22, 4.43, -1.32, 7.19, 3.46, 3.30, 4.42, 5.32, 1.05, 2.59, 0.87, 1.35, 0.61, 2.86, 3.46, 2.60, 3.26, 1.35, 4.15, 4.12, 3.32, 2.23, 5.72, 2.16, 2.87, 4.92, 1.64, 2.39, 0.88, 1.33, 4.31, 3.03, 1.93, 5.49, 2.72, 4.43, 6.91, 5.24, 6.59, 1.57, 1.06, 6.79, 5.22\n",
      "    True sol: 0, 0, 0, 0, 0, 1, 0, 0, 0, 1, 0, 0, 1, 0, 0, 0, 0, 0, 0, 0, 0, 0, 0, 0, 0, 0, 0, 0, 0, 0, 0, 0, 0, 0, 0, 0, 0, 0, 0, 0, 0, 1, 0, 1, 0, 0, 1, 0, True obj: 25.00\n",
      "    Pred sol: 0, 0, 0, 0, 0, 0, 0, 0, 0, 0, 0, 0, 0, 0, 0, 0, 0, 0, 0, 0, 0, 0, 0, 1, 0, 0, 0, 0, 0, 0, 0, 0, 0, 0, 0, 0, 0, 0, 1, 0, 1, 1, 0, 1, 0, 0, 1, 0, Pred obj: 25.00\n",
      "\n",
      "Sample 2:\n",
      "    True cost: 4.00, 3.00, 3.00, 3.00, 7.00, 6.00, 3.00, 5.00, 5.00, 5.00, 5.00, 5.00, 5.00, 3.00, 3.00, 4.00, 5.00, 4.00, 3.00, 3.00, 3.00, 5.00, 3.00, 2.00, 3.00, 4.00, 7.00, 7.00, 5.00, 9.00, 5.00, 5.00, 5.00, 4.00, 5.00, 3.00, 6.00, 4.00, 5.00, 3.00, 2.00, 5.00, 4.00, 3.00, 7.00, 5.00, 3.00, 5.00\n",
      "    Pred cost: 3.52, 1.20, 1.14, 0.70, 7.52, 6.82, 1.68, 5.01, 4.47, 5.04, 5.34, 4.63, 5.55, 2.37, 2.71, 3.06, 4.90, 2.94, 1.63, 1.56, 2.78, 5.14, 1.49, 0.45, 1.13, 3.37, 8.04, 7.02, 4.70, 8.86, 3.97, 5.34, 4.74, 4.37, 5.19, 1.33, 6.57, 3.79, 4.88, 2.77, 0.94, 4.31, 3.40, 2.26, 7.19, 5.01, 2.75, 5.39\n",
      "    True sol: 0, 0, 0, 0, 1, 1, 0, 0, 0, 1, 0, 0, 0, 0, 0, 0, 0, 0, 0, 0, 0, 0, 0, 0, 0, 0, 1, 1, 0, 1, 0, 0, 0, 0, 0, 0, 0, 0, 0, 0, 0, 0, 0, 0, 0, 0, 0, 0, True obj: 41.00\n",
      "    Pred sol: 0, 0, 0, 0, 1, 1, 0, 0, 0, 1, 0, 0, 0, 0, 0, 0, 0, 0, 0, 0, 0, 0, 0, 0, 0, 0, 1, 0, 0, 1, 0, 0, 0, 0, 0, 0, 0, 0, 0, 0, 0, 0, 0, 0, 1, 0, 0, 0, Pred obj: 41.00\n",
      "\n",
      "Sample 3:\n",
      "    True cost: 8.00, 2.00, 2.00, 3.00, 5.00, 3.00, 2.00, 6.00, 3.00, 9.00, 2.00, 4.00, 4.00, 5.00, 12.00, 2.00, 6.00, 2.00, 7.00, 3.00, 12.00, 2.00, 12.00, 2.00, 2.00, 2.00, 5.00, 8.00, 6.00, 8.00, 10.00, 6.00, 9.00, 4.00, 6.00, 2.00, 3.00, 2.00, 10.00, 12.00, 2.00, 3.00, 6.00, 3.00, 5.00, 6.00, 3.00, 4.00\n",
      "    Pred cost: 7.83, -1.41, -1.77, 0.86, 4.00, 1.94, -1.60, 5.30, -0.17, 8.31, -2.70, 2.30, 3.08, 4.80, 10.63, -1.49, 6.11, -1.95, 7.09, 1.09, 10.83, -3.49, 11.08, 1.01, -2.44, -0.31, 4.98, 7.26, 6.37, 8.07, 9.23, 6.22, 9.29, 2.86, 6.07, -1.20, 1.46, -0.04, 9.12, 11.11, 1.04, -0.63, 4.86, 2.32, 3.39, 6.24, 2.56, 3.39\n",
      "    True sol: 1, 0, 0, 0, 0, 0, 0, 0, 0, 1, 0, 0, 0, 0, 1, 0, 0, 0, 0, 0, 1, 0, 0, 0, 0, 0, 0, 0, 0, 1, 0, 0, 0, 0, 0, 0, 0, 0, 0, 1, 0, 0, 0, 0, 0, 0, 0, 0, True obj: 61.00\n",
      "    Pred sol: 1, 0, 0, 0, 0, 0, 0, 0, 0, 1, 0, 0, 0, 0, 1, 0, 0, 0, 0, 0, 1, 0, 0, 0, 0, 0, 0, 0, 0, 1, 0, 0, 0, 0, 0, 0, 0, 0, 0, 1, 0, 0, 0, 0, 0, 0, 0, 0, Pred obj: 61.00\n",
      "\n",
      "Sample 4:\n",
      "    True cost: 19.00, 12.00, 8.00, 18.00, 8.00, 3.00, 8.00, 11.00, 2.00, 4.00, 7.00, 7.00, 7.00, 8.00, 7.00, 10.00, 15.00, 10.00, 17.00, 3.00, 7.00, 7.00, 7.00, 15.00, 8.00, 14.00, 8.00, 3.00, 15.00, 3.00, 5.00, 15.00, 4.00, 4.00, 15.00, 8.00, 3.00, 10.00, 5.00, 7.00, 15.00, 2.00, 13.00, 5.00, 8.00, 15.00, 5.00, 7.00\n",
      "    Pred cost: 12.49, 8.48, 5.58, 11.80, 5.80, -0.97, 5.70, 7.81, -2.98, 1.37, 4.53, 4.32, 4.21, 5.50, 5.42, 6.77, 10.90, 6.65, 10.92, -1.55, 5.24, 4.46, 3.26, 9.75, 5.37, 9.56, 5.53, -0.62, 9.58, -0.01, 1.59, 10.63, -0.73, 0.47, 10.45, 5.74, -2.58, 7.04, 2.44, 4.88, 9.53, -2.53, 9.23, 2.07, 5.72, 10.87, 2.31, 2.70\n",
      "    True sol: 1, 0, 0, 1, 0, 0, 0, 0, 0, 0, 0, 0, 0, 0, 0, 0, 0, 0, 1, 0, 0, 0, 0, 1, 0, 1, 0, 0, 0, 0, 0, 0, 0, 0, 0, 0, 0, 0, 0, 0, 1, 0, 0, 0, 0, 0, 0, 0, True obj: 98.00\n",
      "    Pred sol: 1, 0, 0, 0, 0, 0, 0, 0, 0, 0, 0, 0, 0, 0, 0, 0, 1, 0, 1, 0, 0, 0, 0, 1, 0, 1, 0, 0, 0, 0, 0, 0, 0, 0, 0, 0, 0, 0, 0, 0, 0, 0, 0, 0, 0, 1, 0, 0, Pred obj: 95.00\n",
      "\n",
      "Sample 5:\n",
      "    True cost: 1.00, 2.00, 4.00, 1.00, 2.00, 2.00, 4.00, 3.00, 3.00, 3.00, 2.00, 4.00, 4.00, 1.00, 2.00, 3.00, 1.00, 3.00, 2.00, 3.00, 2.00, 2.00, 2.00, 2.00, 4.00, 1.00, 2.00, 3.00, 1.00, 2.00, 1.00, 1.00, 3.00, 2.00, 1.00, 4.00, 2.00, 3.00, 1.00, 2.00, 2.00, 3.00, 2.00, 1.00, 2.00, 1.00, 1.00, 4.00\n",
      "    Pred cost: 0.89, 1.92, 7.23, -0.40, 2.95, 1.57, 6.83, 4.34, 3.83, 5.41, 2.35, 5.69, 6.18, -1.12, 1.61, 3.91, -1.64, 3.71, 3.23, 4.55, 1.45, 2.56, 0.35, 3.56, 6.77, -1.09, 3.22, 4.59, -0.09, 1.96, -1.28, -1.32, 4.99, 2.28, -2.03, 6.84, -0.26, 4.64, 0.18, 1.30, 3.52, 4.20, 1.91, -0.36, 2.67, -2.35, 0.17, 5.82\n",
      "    True sol: 0, 0, 1, 0, 0, 0, 0, 0, 0, 1, 0, 0, 1, 0, 0, 0, 0, 0, 0, 0, 0, 0, 0, 0, 0, 0, 1, 0, 0, 0, 0, 0, 0, 0, 0, 1, 0, 1, 0, 0, 0, 0, 0, 0, 0, 0, 0, 0, True obj: 20.00\n",
      "    Pred sol: 0, 0, 1, 0, 0, 0, 0, 0, 0, 1, 0, 0, 1, 0, 0, 0, 0, 0, 0, 0, 0, 0, 0, 0, 0, 0, 1, 0, 0, 0, 0, 0, 0, 0, 0, 1, 0, 1, 0, 0, 0, 0, 0, 0, 0, 0, 0, 0, Pred obj: 20.00\n",
      "\n",
      "Sample 6:\n",
      "    True cost: 1.00, 2.00, 4.00, 1.00, 1.00, 1.00, 4.00, 1.00, 4.00, 3.00, 2.00, 3.00, 3.00, 1.00, 1.00, 1.00, 1.00, 1.00, 1.00, 3.00, 1.00, 2.00, 1.00, 2.00, 4.00, 1.00, 1.00, 3.00, 1.00, 1.00, 2.00, 1.00, 3.00, 1.00, 1.00, 4.00, 1.00, 1.00, 2.00, 1.00, 2.00, 4.00, 2.00, 2.00, 1.00, 1.00, 2.00, 3.00\n",
      "    Pred cost: -3.82, 3.81, 7.17, -3.65, 0.52, 2.09, 7.06, -0.50, 7.71, 5.24, 1.50, 6.36, 7.08, -3.15, 0.94, 1.01, -4.41, 0.72, 1.79, 5.87, 0.82, 1.78, -0.34, 3.28, 7.05, -2.19, 0.88, 6.25, -2.41, 1.00, 0.89, -4.03, 4.70, 0.44, -4.73, 7.09, 0.03, 2.17, 2.08, 0.84, 3.39, 7.72, 2.55, 2.81, 0.24, -5.29, 3.24, 7.18\n",
      "    True sol: 0, 0, 1, 0, 0, 0, 1, 0, 0, 1, 0, 0, 0, 0, 0, 0, 0, 0, 0, 0, 0, 0, 0, 0, 1, 0, 0, 0, 0, 0, 0, 0, 0, 0, 0, 0, 0, 0, 0, 0, 0, 1, 0, 0, 0, 0, 0, 0, True obj: 19.00\n",
      "    Pred sol: 0, 0, 1, 0, 0, 0, 0, 0, 0, 1, 0, 0, 1, 0, 0, 0, 0, 0, 0, 0, 0, 0, 0, 0, 0, 0, 0, 1, 0, 0, 0, 0, 0, 0, 0, 0, 0, 0, 0, 0, 1, 1, 0, 0, 0, 0, 0, 0, Pred obj: 19.00\n",
      "\n",
      "Sample 7:\n",
      "    True cost: 4.00, 3.00, 7.00, 5.00, 1.00, 1.00, 7.00, 3.00, 1.00, 2.00, 1.00, 2.00, 2.00, 2.00, 3.00, 4.00, 1.00, 4.00, 7.00, 3.00, 3.00, 1.00, 3.00, 9.00, 7.00, 2.00, 1.00, 1.00, 1.00, 1.00, 1.00, 1.00, 2.00, 2.00, 1.00, 7.00, 1.00, 4.00, 1.00, 3.00, 9.00, 1.00, 2.00, 1.00, 1.00, 1.00, 1.00, 2.00\n",
      "    Pred cost: 7.05, 5.26, 10.54, 8.29, -2.25, -4.65, 9.69, 5.16, -2.23, 3.90, -1.01, 1.66, 1.69, 3.67, 5.40, 6.40, -0.63, 6.11, 9.88, 4.80, 5.06, -0.95, 4.92, 10.68, 9.77, 1.03, -2.18, -1.94, 1.98, -5.76, -3.40, -0.72, 2.86, 1.52, -1.78, 10.22, -7.27, 6.74, -2.24, 4.86, 9.76, -1.27, 3.15, -0.08, -2.50, -1.50, 0.04, 0.31\n",
      "    True sol: 1, 0, 0, 0, 0, 0, 1, 0, 0, 0, 0, 0, 0, 0, 0, 0, 0, 0, 0, 0, 0, 0, 0, 1, 1, 0, 0, 0, 0, 0, 0, 0, 0, 0, 0, 0, 0, 1, 0, 0, 1, 0, 0, 0, 0, 0, 0, 0, True obj: 40.00\n",
      "    Pred sol: 1, 0, 1, 0, 0, 0, 0, 0, 0, 0, 0, 0, 0, 0, 0, 0, 0, 0, 0, 0, 0, 0, 0, 1, 0, 0, 0, 0, 0, 0, 0, 0, 0, 0, 0, 1, 0, 1, 0, 0, 1, 0, 0, 0, 0, 0, 0, 0, Pred obj: 40.00\n",
      "\n",
      "Sample 8:\n",
      "    True cost: 13.00, 9.00, 10.00, 15.00, 13.00, 5.00, 10.00, 14.00, 3.00, 3.00, 14.00, 8.00, 8.00, 5.00, 3.00, 15.00, 12.00, 15.00, 9.00, 3.00, 3.00, 14.00, 3.00, 9.00, 10.00, 14.00, 13.00, 3.00, 12.00, 5.00, 2.00, 12.00, 3.00, 5.00, 12.00, 10.00, 5.00, 15.00, 2.00, 3.00, 9.00, 3.00, 8.00, 3.00, 13.00, 12.00, 3.00, 8.00\n",
      "    Pred cost: 10.16, 6.74, 7.33, 10.18, 10.14, 2.87, 7.37, 10.64, -0.86, 0.63, 10.06, 6.42, 6.37, 3.20, -0.25, 10.73, 9.58, 10.88, 6.22, -1.15, -0.52, 10.40, -3.42, 7.26, 7.22, 10.00, 9.64, 0.10, 8.00, 2.74, -3.58, 9.65, -1.72, 3.08, 9.40, 6.87, 1.60, 10.41, -1.71, -1.16, 7.37, -0.07, 6.30, -1.14, 10.19, 9.53, -0.52, 4.62\n"
     ]
    },
    {
     "name": "stdout",
     "output_type": "stream",
     "text": [
      "    True sol: 1, 0, 0, 0, 0, 0, 0, 0, 0, 0, 0, 0, 0, 0, 0, 1, 0, 1, 0, 0, 0, 0, 0, 0, 0, 1, 1, 0, 0, 0, 0, 0, 0, 0, 0, 0, 0, 1, 0, 0, 0, 0, 0, 0, 0, 0, 0, 0, True obj: 85.00\n",
      "    Pred sol: 1, 0, 0, 0, 1, 0, 0, 0, 0, 0, 0, 0, 0, 0, 0, 1, 0, 1, 0, 0, 0, 0, 0, 0, 0, 0, 1, 0, 0, 0, 0, 0, 0, 0, 0, 0, 0, 1, 0, 0, 0, 0, 0, 0, 0, 0, 0, 0, Pred obj: 84.00\n",
      "\n",
      "Sample 9:\n",
      "    True cost: 3.00, 7.00, 4.00, 2.00, 11.00, 8.00, 4.00, 4.00, 9.00, 4.00, 9.00, 12.00, 12.00, 2.00, 3.00, 3.00, 8.00, 3.00, 3.00, 3.00, 3.00, 9.00, 3.00, 3.00, 4.00, 6.00, 11.00, 10.00, 8.00, 9.00, 7.00, 8.00, 4.00, 3.00, 8.00, 4.00, 8.00, 3.00, 7.00, 3.00, 3.00, 9.00, 9.00, 6.00, 11.00, 8.00, 6.00, 12.00\n",
      "    Pred cost: 0.37, 5.94, 2.02, -1.75, 9.36, 6.89, 2.86, 2.31, 7.95, 3.13, 7.65, 9.54, 10.21, -2.20, 0.02, 1.35, 6.27, 1.27, 1.37, -0.15, 0.08, 7.84, -2.99, 1.00, 2.45, 5.50, 9.43, 8.56, 4.40, 8.02, 5.49, 6.58, 1.71, -0.05, 6.77, 2.31, 5.96, 2.46, 6.52, -0.06, 1.93, 7.42, 7.73, 4.39, 9.22, 6.22, 5.03, 10.32\n",
      "    True sol: 0, 0, 0, 0, 0, 0, 0, 0, 0, 0, 0, 0, 1, 0, 0, 0, 0, 0, 0, 0, 0, 1, 0, 0, 0, 0, 1, 1, 0, 1, 0, 0, 0, 0, 0, 0, 0, 0, 0, 0, 0, 0, 1, 0, 0, 0, 0, 0, True obj: 60.00\n",
      "    Pred sol: 0, 0, 0, 0, 0, 0, 0, 0, 0, 0, 0, 0, 1, 0, 0, 0, 0, 0, 0, 0, 0, 1, 0, 0, 0, 0, 1, 1, 0, 1, 0, 0, 0, 0, 0, 0, 0, 0, 0, 0, 0, 0, 1, 0, 0, 0, 0, 0, Pred obj: 60.00\n",
      "\n"
     ]
    }
   ],
   "source": [
    "reg.eval()\n",
    "# compare solutions\n",
    "for i, data in enumerate(ks_loader_test):\n",
    "    # load data\n",
    "    x, c, w, z = data\n",
    "    # cuda\n",
    "    if torch.cuda.is_available():\n",
    "        x, c, w, z = x.cuda(), c.cuda(), w.cuda(), z.cuda()\n",
    "    # predict\n",
    "    cp = reg(x)\n",
    "    # convert to numpy\n",
    "    x = x.to('cpu').detach().numpy()\n",
    "    c = c.to('cpu').detach().numpy()\n",
    "    w = w.to('cpu').detach().numpy()\n",
    "    z = z.to('cpu').detach().numpy()\n",
    "    cp = cp.to('cpu').detach().numpy()\n",
    "    for j in range(min(10, batch_size)):\n",
    "        print('Sample {}:'.format(j))\n",
    "        print('    True cost:', ', '.join(['{:.2f}'.format(-cost) for cost in c[j]]))\n",
    "        print('    Pred cost:', ', '.join(['{:.2f}'.format(-cost) for cost in cp[j]]))\n",
    "        # solve cost from prediction\n",
    "        ks_model.setObj(cp[j])\n",
    "        wpj, _ = ks_model.solve()\n",
    "        zpj = np.dot(c[j], wpj)\n",
    "        print('    True sol: ' + ', '.join(['{:.0f}'.format(x) for x in w[j]]) + ', True obj: {:.2f}'.format(-z[j,0]))\n",
    "        print('    Pred sol: '+  ', '.join(['{:.0f}'.format(x) for x in wpj]) + ', Pred obj: {:.2f}'.format(-zpj))\n",
    "        print()\n",
    "    break"
   ]
  },
  {
   "cell_type": "markdown",
   "id": "4df20405",
   "metadata": {},
   "source": [
    "## SPO+ Rel "
   ]
  },
  {
   "cell_type": "code",
   "execution_count": 39,
   "id": "71994d62",
   "metadata": {},
   "outputs": [],
   "source": [
    "# init model\n",
    "reg = LinearRegression()\n",
    "# cuda\n",
    "if torch.cuda.is_available():\n",
    "    reg = reg.cuda()"
   ]
  },
  {
   "cell_type": "code",
   "execution_count": 40,
   "id": "2e0f7a29",
   "metadata": {},
   "outputs": [],
   "source": [
    "# set optimizer\n",
    "optimizer = torch.optim.Adam(reg.parameters(), lr=5e-3)"
   ]
  },
  {
   "cell_type": "code",
   "execution_count": 41,
   "id": "e1840354",
   "metadata": {},
   "outputs": [
    {
     "name": "stdout",
     "output_type": "stream",
     "text": [
      "Num of cores: 4\n"
     ]
    }
   ],
   "source": [
    "# init SPO+ loss\n",
    "criterion = spo.func.SPOPlus(ks_model_rel, processes=4)"
   ]
  },
  {
   "cell_type": "code",
   "execution_count": 42,
   "id": "f948e7ed",
   "metadata": {},
   "outputs": [
    {
     "name": "stdout",
     "output_type": "stream",
     "text": [
      "Epoch  10, Loss:  25.9249, True SPO Loss: 11.4949%, Unambiguous SPO Loss: 11.4949%\n",
      "Epoch  20, Loss:  13.6292, True SPO Loss:  2.9664%, Unambiguous SPO Loss:  2.9664%\n",
      "Epoch  30, Loss:   7.1353, True SPO Loss:  1.3762%, Unambiguous SPO Loss:  1.3762%\n",
      "Epoch  40, Loss:   6.4286, True SPO Loss:  0.8147%, Unambiguous SPO Loss:  0.8147%\n",
      "Epoch  50, Loss:   6.4719, True SPO Loss:  0.6766%, Unambiguous SPO Loss:  0.6766%\n",
      "Epoch  60, Loss:   8.2227, True SPO Loss:  0.6812%, Unambiguous SPO Loss:  0.6812%\n",
      "Epoch  70, Loss:   2.6547, True SPO Loss:  0.5753%, Unambiguous SPO Loss:  0.5753%\n",
      "Epoch  80, Loss:   4.9992, True SPO Loss:  0.5730%, Unambiguous SPO Loss:  0.5730%\n",
      "Epoch  90, Loss:   0.7029, True SPO Loss:  0.4925%, Unambiguous SPO Loss:  0.4925%\n",
      "Epoch 100, Loss:   1.0107, True SPO Loss:  0.5201%, Unambiguous SPO Loss:  0.5201%\n",
      "Epoch 110, Loss:   2.0855, True SPO Loss:  0.5362%, Unambiguous SPO Loss:  0.5362%\n",
      "Epoch 120, Loss:   1.0565, True SPO Loss:  0.4741%, Unambiguous SPO Loss:  0.4741%\n",
      "Epoch 130, Loss:   2.0583, True SPO Loss:  0.4787%, Unambiguous SPO Loss:  0.4787%\n",
      "Epoch 140, Loss:   1.6469, True SPO Loss:  0.4994%, Unambiguous SPO Loss:  0.4994%\n",
      "Epoch 150, Loss:   2.0692, True SPO Loss:  0.4833%, Unambiguous SPO Loss:  0.4833%\n",
      "Epoch 160, Loss:   1.1932, True SPO Loss:  0.4695%, Unambiguous SPO Loss:  0.4695%\n",
      "Epoch 170, Loss:   1.6236, True SPO Loss:  0.4557%, Unambiguous SPO Loss:  0.4557%\n",
      "Epoch 180, Loss:   0.6313, True SPO Loss:  0.4741%, Unambiguous SPO Loss:  0.4741%\n",
      "Epoch 190, Loss:   3.4182, True SPO Loss:  0.4257%, Unambiguous SPO Loss:  0.4257%\n",
      "Epoch 200, Loss:   1.4799, True SPO Loss:  0.4418%, Unambiguous SPO Loss:  0.4418%\n",
      "Epoch 210, Loss:   1.2526, True SPO Loss:  0.4649%, Unambiguous SPO Loss:  0.4649%\n",
      "Epoch 220, Loss:   5.6507, True SPO Loss:  0.4741%, Unambiguous SPO Loss:  0.4741%\n",
      "Epoch 230, Loss:   0.5980, True SPO Loss:  0.4234%, Unambiguous SPO Loss:  0.4257%\n",
      "Epoch 240, Loss:   1.8801, True SPO Loss:  0.4142%, Unambiguous SPO Loss:  0.4142%\n",
      "Epoch 250, Loss:   1.0067, True SPO Loss:  0.4488%, Unambiguous SPO Loss:  0.4488%\n",
      "Epoch 260, Loss:   0.8359, True SPO Loss:  0.4395%, Unambiguous SPO Loss:  0.4395%\n",
      "Epoch 270, Loss:   0.9624, True SPO Loss:  0.4695%, Unambiguous SPO Loss:  0.4695%\n",
      "Epoch 280, Loss:   0.8134, True SPO Loss:  0.3866%, Unambiguous SPO Loss:  0.3866%\n",
      "Epoch 290, Loss:   0.9697, True SPO Loss:  0.4004%, Unambiguous SPO Loss:  0.4004%\n",
      "Epoch 300, Loss:   1.5221, True SPO Loss:  0.3889%, Unambiguous SPO Loss:  0.3889%\n"
     ]
    }
   ],
   "source": [
    "# train model\n",
    "num_epochs = 300\n",
    "reg.train()\n",
    "loss_log = []\n",
    "loss_log_truespo = []\n",
    "loss_log_unambspo = []\n",
    "for epoch in range(num_epochs):\n",
    "    # load data\n",
    "    for i, data in enumerate(ks_loader_train_rel):\n",
    "        x, c, w, z = data\n",
    "        # cuda\n",
    "        if torch.cuda.is_available():\n",
    "            x, c, w, z = x.cuda(), c.cuda(), w.cuda(), z.cuda()\n",
    "        # forward pass\n",
    "        cp = reg(x)\n",
    "        loss = criterion.apply(cp, c, w, z).mean()\n",
    "        # backward pass\n",
    "        optimizer.zero_grad()\n",
    "        loss.backward()\n",
    "        optimizer.step()\n",
    "    loss_log.append(loss.item())\n",
    "    if (epoch + 1) % 10 == 0:\n",
    "        # true SPO\n",
    "        trueloss = spo.eval.trueSPO(reg, ks_model, ks_loader_test)\n",
    "        loss_log_truespo.append(trueloss)\n",
    "        # unambiguous SPO \n",
    "        unambloss = spo.eval.unambSPO(reg, ks_model, ks_loader_test)\n",
    "        loss_log_unambspo.append(unambloss)\n",
    "        print('Epoch {:3}, Loss: {:8.4f}, True SPO Loss: {:7.4f}%, Unambiguous SPO Loss: {:7.4f}%'. \\\n",
    "              format(epoch+1, loss.item(), trueloss*100, unambloss*100))"
   ]
  },
  {
   "cell_type": "code",
   "execution_count": 43,
   "id": "ac94f9c5",
   "metadata": {},
   "outputs": [
    {
     "data": {
      "image/png": "[encoded data removed]",
      "text/plain": [
       "<Figure size 864x432 with 1 Axes>"
      ]
     },
     "metadata": {
      "needs_background": "light"
     },
     "output_type": "display_data"
    }
   ],
   "source": [
    "# draw plot\n",
    "plt.figure(figsize=(12, 6))\n",
    "plt.plot(loss_log, color='c')\n",
    "plt.ylabel('SPO+ Loss')\n",
    "plt.title('Learning Curve')\n",
    "plt.show()"
   ]
  },
  {
   "cell_type": "code",
   "execution_count": 44,
   "id": "4c32ae91",
   "metadata": {},
   "outputs": [
    {
     "data": {
      "image/png": "[encoded data removed]",
      "text/plain": [
       "<Figure size 864x432 with 1 Axes>"
      ]
     },
     "metadata": {
      "needs_background": "light"
     },
     "output_type": "display_data"
    }
   ],
   "source": [
    "# draw plot\n",
    "plt.figure(figsize=(12, 6))\n",
    "plt.plot(range(0, num_epochs, 10), loss_log_truespo, color='m', alpha=0.7, label='True SPO')\n",
    "plt.plot(range(0, num_epochs, 10), loss_log_unambspo, color='b', alpha=0.7, label='Unambiguous SPO')\n",
    "plt.xlabel('Epoch')\n",
    "plt.ylabel('Loss')\n",
    "plt.title('Learning Curve')\n",
    "plt.legend()\n",
    "plt.show()"
   ]
  },
  {
   "cell_type": "code",
   "execution_count": 45,
   "id": "8625b1cb",
   "metadata": {},
   "outputs": [
    {
     "name": "stdout",
     "output_type": "stream",
     "text": [
      "Normalized true SPO Loss: 0.39%\n",
      "Normalized unambiguous SPO Loss: 0.39%\n"
     ]
    }
   ],
   "source": [
    "# evaluate\n",
    "spoloss = spo.eval.trueSPO(reg, ks_model, ks_loader_test)\n",
    "print('Normalized true SPO Loss: {:.2f}%'.format(spoloss * 100))\n",
    "spoloss = spo.eval.unambSPO(reg, ks_model, ks_loader_test)\n",
    "print('Normalized unambiguous SPO Loss: {:.2f}%'.format(spoloss * 100))"
   ]
  },
  {
   "cell_type": "code",
   "execution_count": 46,
   "id": "4dd188e3",
   "metadata": {
    "scrolled": false
   },
   "outputs": [
    {
     "name": "stdout",
     "output_type": "stream",
     "text": [
      "Sample 0:\n",
      "    True cost: 5.00, 4.00, 5.00, 5.00, 4.00, 3.00, 5.00, 5.00, 3.00, 3.00, 4.00, 4.00, 4.00, 4.00, 4.00, 5.00, 5.00, 5.00, 5.00, 3.00, 4.00, 4.00, 4.00, 5.00, 5.00, 5.00, 4.00, 3.00, 5.00, 3.00, 3.00, 5.00, 3.00, 3.00, 5.00, 5.00, 3.00, 5.00, 3.00, 4.00, 5.00, 3.00, 5.00, 3.00, 4.00, 5.00, 3.00, 4.00\n",
      "    Pred cost: 6.54, 4.76, 5.31, 6.87, 4.77, 3.00, 5.89, 6.54, 2.19, 4.09, 5.26, 4.89, 5.26, 4.04, 4.17, 6.13, 4.84, 5.86, 6.33, 2.74, 4.12, 4.59, 4.13, 5.97, 5.53, 5.50, 5.32, 3.40, 5.99, 3.21, 2.19, 5.26, 3.65, 3.14, 4.98, 5.52, 2.35, 5.95, 2.59, 4.21, 5.91, 2.69, 5.12, 2.96, 4.29, 5.50, 3.08, 5.08\n",
      "    True sol: 1, 0, 0, 0, 0, 0, 0, 0, 0, 1, 0, 0, 0, 0, 0, 0, 0, 0, 0, 0, 0, 0, 0, 1, 0, 1, 0, 0, 0, 0, 0, 0, 0, 0, 0, 0, 0, 1, 0, 0, 1, 0, 0, 0, 0, 1, 0, 0, True obj: 33.00\n",
      "    Pred sol: 1, 0, 0, 0, 0, 0, 0, 0, 0, 1, 0, 0, 0, 0, 0, 0, 0, 0, 0, 0, 0, 0, 0, 1, 0, 1, 0, 0, 0, 0, 0, 0, 0, 0, 0, 0, 0, 1, 0, 0, 1, 0, 0, 0, 0, 1, 0, 0, Pred obj: 33.00\n",
      "\n",
      "Sample 1:\n",
      "    True cost: 1.00, 5.00, 3.00, 2.00, 2.00, 3.00, 3.00, 1.00, 5.00, 3.00, 3.00, 4.00, 4.00, 2.00, 3.00, 2.00, 2.00, 2.00, 2.00, 3.00, 3.00, 3.00, 3.00, 3.00, 3.00, 3.00, 2.00, 4.00, 2.00, 2.00, 4.00, 2.00, 3.00, 2.00, 2.00, 3.00, 3.00, 2.00, 4.00, 3.00, 3.00, 5.00, 4.00, 5.00, 2.00, 2.00, 5.00, 4.00\n",
      "    Pred cost: 0.52, 7.48, 4.77, 2.09, 2.25, 4.63, 5.29, 0.31, 8.08, 4.21, 4.74, 6.39, 6.19, 2.17, 3.46, 2.36, 1.91, 2.11, 3.33, 4.98, 3.43, 4.29, 4.00, 4.85, 5.16, 4.43, 3.14, 6.69, 3.00, 3.49, 6.13, 2.31, 3.66, 1.34, 2.08, 5.70, 4.47, 2.45, 6.17, 3.69, 4.99, 8.05, 5.73, 7.72, 1.57, 2.42, 7.84, 6.44\n",
      "    True sol: 0, 0, 0, 0, 0, 1, 0, 0, 0, 1, 0, 0, 1, 0, 0, 0, 0, 0, 0, 0, 0, 0, 0, 0, 0, 0, 0, 0, 0, 0, 0, 0, 0, 0, 0, 0, 0, 0, 0, 0, 0, 1, 0, 1, 0, 0, 1, 0, True obj: 25.00\n",
      "    Pred sol: 0, 0, 0, 0, 0, 0, 0, 0, 0, 0, 0, 0, 1, 0, 0, 0, 0, 0, 0, 0, 0, 0, 0, 1, 0, 0, 0, 0, 0, 0, 0, 0, 0, 0, 0, 0, 0, 0, 0, 0, 1, 1, 0, 1, 0, 0, 1, 0, Pred obj: 25.00\n",
      "\n",
      "Sample 2:\n",
      "    True cost: 4.00, 3.00, 3.00, 3.00, 7.00, 6.00, 3.00, 5.00, 5.00, 5.00, 5.00, 5.00, 5.00, 3.00, 3.00, 4.00, 5.00, 4.00, 3.00, 3.00, 3.00, 5.00, 3.00, 2.00, 3.00, 4.00, 7.00, 7.00, 5.00, 9.00, 5.00, 5.00, 5.00, 4.00, 5.00, 3.00, 6.00, 4.00, 5.00, 3.00, 2.00, 5.00, 4.00, 3.00, 7.00, 5.00, 3.00, 5.00\n",
      "    Pred cost: 4.00, 0.78, 1.38, 2.12, 8.18, 7.08, 2.46, 6.13, 5.79, 5.33, 5.91, 6.08, 6.32, 2.99, 3.51, 4.10, 5.26, 4.20, 1.41, 2.55, 3.51, 5.68, 3.72, 0.99, 1.53, 3.68, 8.48, 7.52, 5.88, 9.28, 5.06, 5.75, 5.47, 5.06, 5.38, 2.02, 7.58, 4.27, 5.33, 3.24, 1.04, 5.33, 3.32, 3.36, 8.13, 5.66, 3.06, 6.30\n",
      "    True sol: 0, 0, 0, 0, 1, 1, 0, 0, 0, 1, 0, 0, 0, 0, 0, 0, 0, 0, 0, 0, 0, 0, 0, 0, 0, 0, 1, 1, 0, 1, 0, 0, 0, 0, 0, 0, 0, 0, 0, 0, 0, 0, 0, 0, 0, 0, 0, 0, True obj: 41.00\n",
      "    Pred sol: 0, 0, 0, 0, 1, 1, 0, 1, 0, 0, 0, 0, 0, 0, 0, 0, 0, 0, 0, 0, 0, 0, 0, 0, 0, 0, 1, 1, 0, 1, 0, 0, 0, 0, 0, 0, 0, 0, 0, 0, 0, 0, 0, 0, 0, 0, 0, 0, Pred obj: 41.00\n",
      "\n",
      "Sample 3:\n",
      "    True cost: 8.00, 2.00, 2.00, 3.00, 5.00, 3.00, 2.00, 6.00, 3.00, 9.00, 2.00, 4.00, 4.00, 5.00, 12.00, 2.00, 6.00, 2.00, 7.00, 3.00, 12.00, 2.00, 12.00, 2.00, 2.00, 2.00, 5.00, 8.00, 6.00, 8.00, 10.00, 6.00, 9.00, 4.00, 6.00, 2.00, 3.00, 2.00, 10.00, 12.00, 2.00, 3.00, 6.00, 3.00, 5.00, 6.00, 3.00, 4.00\n",
      "    Pred cost: 8.08, -3.11, -2.48, 1.17, 4.21, 2.48, -1.62, 5.52, 1.11, 8.43, -2.93, 3.24, 3.94, 4.31, 11.06, -0.05, 6.71, -0.69, 6.63, 2.02, 11.13, -3.72, 11.72, 1.36, -2.16, -0.54, 4.24, 7.08, 6.51, 8.38, 9.95, 6.78, 9.48, 3.50, 6.08, -1.76, 1.65, 0.72, 9.99, 10.95, 1.25, 0.96, 5.02, 2.69, 3.60, 6.66, 2.32, 3.76\n",
      "    True sol: 1, 0, 0, 0, 0, 0, 0, 0, 0, 1, 0, 0, 0, 0, 1, 0, 0, 0, 0, 0, 1, 0, 0, 0, 0, 0, 0, 0, 0, 1, 0, 0, 0, 0, 0, 0, 0, 0, 0, 1, 0, 0, 0, 0, 0, 0, 0, 0, True obj: 61.00\n",
      "    Pred sol: 1, 0, 0, 0, 0, 0, 0, 0, 0, 1, 0, 0, 0, 0, 1, 0, 0, 0, 0, 0, 1, 0, 0, 0, 0, 0, 0, 0, 0, 1, 0, 0, 0, 0, 0, 0, 0, 0, 0, 1, 0, 0, 0, 0, 0, 0, 0, 0, Pred obj: 61.00\n",
      "\n",
      "Sample 4:\n",
      "    True cost: 19.00, 12.00, 8.00, 18.00, 8.00, 3.00, 8.00, 11.00, 2.00, 4.00, 7.00, 7.00, 7.00, 8.00, 7.00, 10.00, 15.00, 10.00, 17.00, 3.00, 7.00, 7.00, 7.00, 15.00, 8.00, 14.00, 8.00, 3.00, 15.00, 3.00, 5.00, 15.00, 4.00, 4.00, 15.00, 8.00, 3.00, 10.00, 5.00, 7.00, 15.00, 2.00, 13.00, 5.00, 8.00, 15.00, 5.00, 7.00\n",
      "    Pred cost: 12.50, 9.08, 5.71, 12.47, 5.51, -0.14, 6.23, 8.74, -3.03, 2.14, 5.78, 4.61, 5.24, 5.87, 5.42, 7.75, 10.89, 6.92, 12.19, -0.54, 5.35, 4.74, 4.74, 10.13, 6.21, 10.28, 5.90, -0.15, 11.50, 0.33, 2.06, 10.94, 0.71, 0.54, 11.13, 5.64, -1.75, 7.21, 2.63, 5.64, 9.91, -1.68, 9.92, 2.61, 4.95, 11.41, 2.88, 4.81\n",
      "    True sol: 1, 0, 0, 1, 0, 0, 0, 0, 0, 0, 0, 0, 0, 0, 0, 0, 0, 0, 1, 0, 0, 0, 0, 1, 0, 1, 0, 0, 0, 0, 0, 0, 0, 0, 0, 0, 0, 0, 0, 0, 1, 0, 0, 0, 0, 0, 0, 0, True obj: 98.00\n",
      "    Pred sol: 1, 0, 0, 1, 0, 0, 0, 0, 0, 0, 0, 0, 0, 0, 0, 0, 0, 0, 1, 0, 0, 0, 0, 1, 0, 1, 0, 0, 0, 0, 0, 0, 0, 0, 0, 0, 0, 0, 0, 0, 1, 0, 0, 0, 0, 0, 0, 0, Pred obj: 98.00\n",
      "\n",
      "Sample 5:\n",
      "    True cost: 1.00, 2.00, 4.00, 1.00, 2.00, 2.00, 4.00, 3.00, 3.00, 3.00, 2.00, 4.00, 4.00, 1.00, 2.00, 3.00, 1.00, 3.00, 2.00, 3.00, 2.00, 2.00, 2.00, 2.00, 4.00, 1.00, 2.00, 3.00, 1.00, 2.00, 1.00, 1.00, 3.00, 2.00, 1.00, 4.00, 2.00, 3.00, 1.00, 2.00, 2.00, 3.00, 2.00, 1.00, 2.00, 1.00, 1.00, 4.00\n",
      "    Pred cost: 1.57, 1.99, 8.06, 1.53, 3.48, 2.11, 8.05, 5.55, 4.71, 6.08, 3.87, 7.38, 6.90, -0.77, 2.65, 5.10, -2.18, 5.17, 4.13, 5.38, 2.55, 3.25, 2.79, 4.16, 7.91, -0.18, 4.18, 5.48, -0.16, 2.20, -0.11, -1.35, 6.54, 2.39, -2.19, 8.26, 0.98, 5.20, 0.21, 2.77, 4.19, 5.00, 2.57, 1.08, 2.96, -1.24, 1.00, 7.39\n",
      "    True sol: 0, 0, 1, 0, 0, 0, 0, 0, 0, 1, 0, 0, 1, 0, 0, 0, 0, 0, 0, 0, 0, 0, 0, 0, 0, 0, 1, 0, 0, 0, 0, 0, 0, 0, 0, 1, 0, 1, 0, 0, 0, 0, 0, 0, 0, 0, 0, 0, True obj: 20.00\n",
      "    Pred sol: 0, 0, 1, 0, 0, 0, 0, 0, 0, 1, 0, 0, 1, 0, 0, 0, 0, 0, 0, 0, 0, 0, 0, 0, 0, 0, 1, 0, 0, 0, 0, 0, 0, 0, 0, 1, 0, 1, 0, 0, 0, 0, 0, 0, 0, 0, 0, 0, Pred obj: 20.00\n",
      "\n",
      "Sample 6:\n",
      "    True cost: 1.00, 2.00, 4.00, 1.00, 1.00, 1.00, 4.00, 1.00, 4.00, 3.00, 2.00, 3.00, 3.00, 1.00, 1.00, 1.00, 1.00, 1.00, 1.00, 3.00, 1.00, 2.00, 1.00, 2.00, 4.00, 1.00, 1.00, 3.00, 1.00, 1.00, 2.00, 1.00, 3.00, 1.00, 1.00, 4.00, 1.00, 1.00, 2.00, 1.00, 2.00, 4.00, 2.00, 2.00, 1.00, 1.00, 2.00, 3.00\n",
      "    Pred cost: -2.68, 4.59, 8.42, -1.58, 1.16, 2.55, 8.23, 1.00, 8.55, 6.05, 3.35, 8.61, 7.65, -2.39, 2.12, 2.54, -4.61, 2.57, 2.69, 7.07, 2.02, 2.82, 2.62, 4.04, 8.39, -0.93, 2.15, 7.40, -2.54, 1.40, 2.27, -3.80, 6.37, 0.53, -4.61, 9.09, 1.52, 2.80, 2.35, 2.43, 4.21, 8.61, 3.38, 4.40, 0.42, -3.74, 4.36, 8.50\n",
      "    True sol: 0, 0, 1, 0, 0, 0, 1, 0, 0, 1, 0, 0, 0, 0, 0, 0, 0, 0, 0, 0, 0, 0, 0, 0, 1, 0, 0, 0, 0, 0, 0, 0, 0, 0, 0, 0, 0, 0, 0, 0, 0, 1, 0, 0, 0, 0, 0, 0, True obj: 19.00\n",
      "    Pred sol: 0, 0, 1, 0, 0, 0, 0, 0, 0, 1, 0, 0, 1, 0, 0, 0, 0, 0, 0, 0, 0, 0, 0, 0, 0, 0, 0, 1, 0, 0, 0, 0, 0, 0, 0, 0, 0, 0, 0, 0, 1, 1, 0, 0, 0, 0, 0, 0, Pred obj: 19.00\n",
      "\n",
      "Sample 7:\n",
      "    True cost: 4.00, 3.00, 7.00, 5.00, 1.00, 1.00, 7.00, 3.00, 1.00, 2.00, 1.00, 2.00, 2.00, 2.00, 3.00, 4.00, 1.00, 4.00, 7.00, 3.00, 3.00, 1.00, 3.00, 9.00, 7.00, 2.00, 1.00, 1.00, 1.00, 1.00, 1.00, 1.00, 2.00, 2.00, 1.00, 7.00, 1.00, 4.00, 1.00, 3.00, 9.00, 1.00, 2.00, 1.00, 1.00, 1.00, 1.00, 2.00\n",
      "    Pred cost: 7.29, 5.74, 11.49, 9.72, -2.54, -3.53, 11.03, 6.39, -1.79, 4.93, 0.90, 2.80, 3.15, 3.67, 6.20, 7.58, -1.49, 6.99, 11.77, 5.65, 6.09, -0.42, 6.28, 11.07, 11.52, 2.26, -1.53, -1.05, 1.00, -5.54, -2.64, -0.90, 4.82, 1.44, -1.64, 11.05, -6.07, 7.28, -2.16, 6.69, 10.89, -0.18, 4.25, 0.79, -3.80, -0.32, 1.40, 3.00\n",
      "    True sol: 1, 0, 0, 0, 0, 0, 1, 0, 0, 0, 0, 0, 0, 0, 0, 0, 0, 0, 0, 0, 0, 0, 0, 1, 1, 0, 0, 0, 0, 0, 0, 0, 0, 0, 0, 0, 0, 1, 0, 0, 1, 0, 0, 0, 0, 0, 0, 0, True obj: 40.00\n",
      "    Pred sol: 1, 0, 1, 0, 0, 0, 0, 0, 0, 0, 0, 0, 0, 0, 0, 0, 0, 0, 1, 0, 0, 0, 0, 0, 1, 0, 0, 0, 0, 0, 0, 0, 0, 0, 0, 0, 0, 1, 0, 0, 1, 0, 0, 0, 0, 0, 0, 0, Pred obj: 38.00\n",
      "\n",
      "Sample 8:\n",
      "    True cost: 13.00, 9.00, 10.00, 15.00, 13.00, 5.00, 10.00, 14.00, 3.00, 3.00, 14.00, 8.00, 8.00, 5.00, 3.00, 15.00, 12.00, 15.00, 9.00, 3.00, 3.00, 14.00, 3.00, 9.00, 10.00, 14.00, 13.00, 3.00, 12.00, 5.00, 2.00, 12.00, 3.00, 5.00, 12.00, 10.00, 5.00, 15.00, 2.00, 3.00, 9.00, 3.00, 8.00, 3.00, 13.00, 12.00, 3.00, 8.00\n",
      "    Pred cost: 10.17, 7.40, 7.81, 11.75, 10.33, 3.46, 8.52, 11.91, -0.65, 1.31, 11.56, 6.93, 7.24, 3.96, 0.09, 11.26, 9.08, 11.18, 7.44, -0.44, -0.02, 10.98, -1.00, 7.70, 7.96, 10.76, 10.68, 0.85, 10.36, 3.00, -2.85, 9.60, -0.06, 3.20, 9.73, 7.49, 2.80, 10.43, -2.03, -0.00, 7.55, 0.28, 6.66, 0.02, 10.41, 9.98, 0.11, 6.96\n"
     ]
    },
    {
     "name": "stdout",
     "output_type": "stream",
     "text": [
      "    True sol: 1, 0, 0, 0, 0, 0, 0, 0, 0, 0, 0, 0, 0, 0, 0, 1, 0, 1, 0, 0, 0, 0, 0, 0, 0, 1, 1, 0, 0, 0, 0, 0, 0, 0, 0, 0, 0, 1, 0, 0, 0, 0, 0, 0, 0, 0, 0, 0, True obj: 85.00\n",
      "    Pred sol: 1, 0, 0, 0, 0, 0, 0, 0, 0, 0, 1, 0, 0, 0, 0, 1, 0, 0, 0, 0, 0, 0, 0, 0, 0, 1, 1, 0, 0, 0, 0, 0, 0, 0, 0, 0, 0, 1, 0, 0, 0, 0, 0, 0, 0, 0, 0, 0, Pred obj: 84.00\n",
      "\n",
      "Sample 9:\n",
      "    True cost: 3.00, 7.00, 4.00, 2.00, 11.00, 8.00, 4.00, 4.00, 9.00, 4.00, 9.00, 12.00, 12.00, 2.00, 3.00, 3.00, 8.00, 3.00, 3.00, 3.00, 3.00, 9.00, 3.00, 3.00, 4.00, 6.00, 11.00, 10.00, 8.00, 9.00, 7.00, 8.00, 4.00, 3.00, 8.00, 4.00, 8.00, 3.00, 7.00, 3.00, 3.00, 9.00, 9.00, 6.00, 11.00, 8.00, 6.00, 12.00\n",
      "    Pred cost: 1.33, 6.72, 2.46, -0.26, 10.16, 6.96, 3.31, 3.53, 8.45, 3.61, 8.80, 11.07, 10.27, -1.03, 0.52, 2.65, 6.88, 2.62, 1.49, 1.16, 0.45, 8.68, 0.29, 1.78, 2.82, 6.21, 10.50, 9.31, 7.15, 8.51, 6.68, 7.26, 2.81, 0.24, 7.29, 3.54, 7.12, 2.73, 6.84, 0.47, 1.93, 8.01, 8.05, 5.79, 10.26, 7.13, 5.31, 10.94\n",
      "    True sol: 0, 0, 0, 0, 0, 0, 0, 0, 0, 0, 0, 0, 1, 0, 0, 0, 0, 0, 0, 0, 0, 1, 0, 0, 0, 0, 1, 1, 0, 1, 0, 0, 0, 0, 0, 0, 0, 0, 0, 0, 0, 0, 1, 0, 0, 0, 0, 0, True obj: 60.00\n",
      "    Pred sol: 0, 0, 0, 0, 0, 0, 0, 0, 0, 0, 0, 0, 1, 0, 0, 0, 0, 0, 0, 0, 0, 1, 0, 0, 0, 0, 1, 1, 0, 1, 0, 0, 0, 0, 0, 0, 0, 0, 0, 0, 0, 0, 1, 0, 0, 0, 0, 0, Pred obj: 60.00\n",
      "\n"
     ]
    }
   ],
   "source": [
    "reg.eval()\n",
    "# compare solutions\n",
    "for i, data in enumerate(ks_loader_test):\n",
    "    # load data\n",
    "    x, c, w, z = data\n",
    "    # cuda\n",
    "    if torch.cuda.is_available():\n",
    "        x, c, w, z = x.cuda(), c.cuda(), w.cuda(), z.cuda()\n",
    "    # predict\n",
    "    cp = reg(x)\n",
    "    # convert to numpy\n",
    "    x = x.to('cpu').detach().numpy()\n",
    "    c = c.to('cpu').detach().numpy()\n",
    "    w = w.to('cpu').detach().numpy()\n",
    "    z = z.to('cpu').detach().numpy()\n",
    "    cp = cp.to('cpu').detach().numpy()\n",
    "    for j in range(min(10, batch_size)):\n",
    "        print('Sample {}:'.format(j))\n",
    "        print('    True cost:', ', '.join(['{:.2f}'.format(-cost) for cost in c[j]]))\n",
    "        print('    Pred cost:', ', '.join(['{:.2f}'.format(-cost) for cost in cp[j]]))\n",
    "        # solve cost from prediction\n",
    "        ks_model.setObj(cp[j])\n",
    "        wpj, _ = ks_model.solve()\n",
    "        zpj = np.dot(c[j], wpj)\n",
    "        print('    True sol: ' + ', '.join(['{:.0f}'.format(x) for x in w[j]]) + ', True obj: {:.2f}'.format(-z[j,0]))\n",
    "        print('    Pred sol: '+  ', '.join(['{:.0f}'.format(x) for x in wpj]) + ', Pred obj: {:.2f}'.format(-zpj))\n",
    "        print()\n",
    "    break"
   ]
  },
  {
   "cell_type": "code",
   "execution_count": null,
   "id": "4a1a2b7c",
   "metadata": {},
   "outputs": [],
   "source": []
  }
 ],
 "metadata": {
  "kernelspec": {
   "display_name": "Python 3",
   "language": "python",
   "name": "python3"
  },
  "language_info": {
   "codemirror_mode": {
    "name": "ipython",
    "version": 3
   },
   "file_extension": ".py",
   "mimetype": "text/x-python",
   "name": "python",
   "nbconvert_exporter": "python",
   "pygments_lexer": "ipython3",
   "version": "3.8.8"
  }
 },
 "nbformat": 4,
 "nbformat_minor": 5
}
