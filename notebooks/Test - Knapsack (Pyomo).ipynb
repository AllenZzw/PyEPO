{
 "cells": [
  {
   "cell_type": "code",
   "execution_count": 1,
   "id": "985d9f68",
   "metadata": {},
   "outputs": [],
   "source": [
    "# set work dir\n",
    "import os\n",
    "os.chdir(\"../\")"
   ]
  },
  {
   "cell_type": "code",
   "execution_count": 2,
   "id": "4a8178d0",
   "metadata": {},
   "outputs": [
    {
     "name": "stdout",
     "output_type": "stream",
     "text": [
      "Auto-Sklearn cannot be imported.\n"
     ]
    },
    {
     "data": {
      "text/plain": [
       "<torch._C.Generator at 0x1155a208af0>"
      ]
     },
     "execution_count": 2,
     "metadata": {},
     "output_type": "execute_result"
    }
   ],
   "source": [
    "import time\n",
    "import pyepo\n",
    "import torch\n",
    "from matplotlib import pyplot as plt\n",
    "plt.style.reload_library()\n",
    "plt.style.use('science')\n",
    "import numpy as np\n",
    "from tqdm import tqdm\n",
    "torch.manual_seed(135)"
   ]
  },
  {
   "cell_type": "markdown",
   "id": "610273f3",
   "metadata": {},
   "source": [
    "## Init Data"
   ]
  },
  {
   "cell_type": "code",
   "execution_count": 3,
   "id": "b294594d",
   "metadata": {},
   "outputs": [],
   "source": [
    "# generate data for grid network (features and costs)\n",
    "m = 16 # number of items\n",
    "n = 1000 # number of data\n",
    "p = 5 # size of feature\n",
    "deg = 4 # polynomial degree\n",
    "dim = 3 # dimension of knapsack\n",
    "cap = [10] * dim # capacity\n",
    "weights, x, c = pyepo.data.knapsack.genData(n+1000, p, m, deg=deg, dim=dim)"
   ]
  },
  {
   "cell_type": "code",
   "execution_count": 4,
   "id": "1a1f8e4a",
   "metadata": {},
   "outputs": [
    {
     "data": {
      "text/plain": [
       "array([[4.59, 4.87, 5.19, 7.59, 6.8 , 4.97, 4.84, 3.22, 7.9 , 3.62, 3.12,\n",
       "        6.81, 7.09, 3.23, 4.47, 5.23],\n",
       "       [6.11, 5.23, 4.27, 6.66, 5.21, 3.72, 7.83, 5.64, 7.56, 3.28, 4.31,\n",
       "        3.85, 6.43, 4.26, 7.56, 6.4 ],\n",
       "       [6.09, 6.4 , 4.5 , 6.31, 6.35, 3.07, 6.03, 7.39, 3.48, 5.57, 6.27,\n",
       "        4.55, 5.64, 5.66, 3.27, 6.68]])"
      ]
     },
     "execution_count": 4,
     "metadata": {},
     "output_type": "execute_result"
    }
   ],
   "source": [
    "weights"
   ]
  },
  {
   "cell_type": "markdown",
   "id": "2bd2586e",
   "metadata": {},
   "source": [
    "## Optimization Model "
   ]
  },
  {
   "cell_type": "code",
   "execution_count": 5,
   "id": "95c1fde4",
   "metadata": {},
   "outputs": [
    {
     "name": "stdout",
     "output_type": "stream",
     "text": [
      "Solver in the background: glpk\n"
     ]
    }
   ],
   "source": [
    "#ks_model = pyepo.model.omo.knapsackModel(weights, cap, solver='gurobi')\n",
    "ks_model = pyepo.model.omo.knapsackModel(weights, cap, solver='glpk')"
   ]
  },
  {
   "cell_type": "code",
   "execution_count": 6,
   "id": "24e5bd87",
   "metadata": {},
   "outputs": [
    {
     "name": "stdout",
     "output_type": "stream",
     "text": [
      "[0.0, 0.0, 0.0, 0.0, 0.0, 1.0, 0.0, 0.0, 0.0, 0.0, 0.0, 0.0, 0.0, 1.0, 0.0, 0.0]\n",
      "Obj: 18.0\n",
      "5\n",
      "13\n"
     ]
    }
   ],
   "source": [
    "# solve\n",
    "ks_model.setObj([i for i in range(m)])\n",
    "sol, obj = ks_model.solve()\n",
    "print(sol)\n",
    "print('Obj: {}'.format(obj))\n",
    "for i in ks_model.items:\n",
    "    if sol[i] > 1e-3:\n",
    "        print(i)"
   ]
  },
  {
   "cell_type": "code",
   "execution_count": 7,
   "id": "9a11572a",
   "metadata": {},
   "outputs": [
    {
     "name": "stdout",
     "output_type": "stream",
     "text": [
      "Solver in the background: glpk\n"
     ]
    }
   ],
   "source": [
    "# relax\n",
    "ks_model_rel = ks_model.relax()"
   ]
  },
  {
   "cell_type": "code",
   "execution_count": 8,
   "id": "5c09dd38",
   "metadata": {},
   "outputs": [
    {
     "name": "stdout",
     "output_type": "stream",
     "text": [
      "[0.0, 0.0, 0.0, 0.0, 0.0, 0.0, 0.0, 0.0, 0.0, 0.0, 0.0, 0.75825065494684, 0.0, 0.913521784638344, 0.421842880409434, 0.0]\n",
      "Obj: 26.12234073044579\n",
      "11\n",
      "13\n",
      "14\n"
     ]
    }
   ],
   "source": [
    "# solve\n",
    "ks_model_rel.setObj([i for i in range(m)])\n",
    "sol, obj = ks_model_rel.solve()\n",
    "print(sol)\n",
    "print('Obj: {}'.format(obj))\n",
    "for i in ks_model_rel.items:\n",
    "    if sol[i] > 1e-3:\n",
    "        print(i)"
   ]
  },
  {
   "cell_type": "markdown",
   "id": "4bec37e4",
   "metadata": {},
   "source": [
    "## Data Loader "
   ]
  },
  {
   "cell_type": "code",
   "execution_count": 9,
   "id": "261aed4e",
   "metadata": {},
   "outputs": [],
   "source": [
    "from sklearn.model_selection import train_test_split\n",
    "from torch.utils.data import DataLoader"
   ]
  },
  {
   "cell_type": "code",
   "execution_count": 10,
   "id": "4eda340b",
   "metadata": {},
   "outputs": [],
   "source": [
    "# data split\n",
    "x_train, x_test, c_train, c_test = train_test_split(x, c, test_size=1000, random_state=246)"
   ]
  },
  {
   "cell_type": "code",
   "execution_count": 11,
   "id": "a0e0ef0b",
   "metadata": {},
   "outputs": [
    {
     "name": "stdout",
     "output_type": "stream",
     "text": [
      "Optimizing for optDataset...\n"
     ]
    },
    {
     "name": "stderr",
     "output_type": "stream",
     "text": [
      "100%|███████████████████████████████████████████████████████████████████████████████████████████████| 1000/1000 [00:47<00:00, 21.10it/s]\n"
     ]
    }
   ],
   "source": [
    "# get training data set\n",
    "ks_dataset_train = pyepo.data.dataset.optDataset(ks_model, x_train, c_train)"
   ]
  },
  {
   "cell_type": "code",
   "execution_count": 12,
   "id": "fad71155",
   "metadata": {},
   "outputs": [
    {
     "name": "stdout",
     "output_type": "stream",
     "text": [
      "Optimizing for optDataset...\n"
     ]
    },
    {
     "name": "stderr",
     "output_type": "stream",
     "text": [
      "100%|███████████████████████████████████████████████████████████████████████████████████████████████| 1000/1000 [00:47<00:00, 21.13it/s]\n"
     ]
    }
   ],
   "source": [
    "# get training data set for relaxation\n",
    "ks_dataset_train_rel = pyepo.data.dataset.optDataset(ks_model_rel, x_train, c_train)"
   ]
  },
  {
   "cell_type": "code",
   "execution_count": 13,
   "id": "c8fc0755",
   "metadata": {},
   "outputs": [
    {
     "name": "stdout",
     "output_type": "stream",
     "text": [
      "Optimizing for optDataset...\n"
     ]
    },
    {
     "name": "stderr",
     "output_type": "stream",
     "text": [
      "100%|███████████████████████████████████████████████████████████████████████████████████████████████| 1000/1000 [00:47<00:00, 21.08it/s]\n"
     ]
    }
   ],
   "source": [
    "# get test data set\n",
    "ks_dataset_test = pyepo.data.dataset.optDataset(ks_model, x_test, c_test)"
   ]
  },
  {
   "cell_type": "code",
   "execution_count": 14,
   "id": "bf0bbb3e",
   "metadata": {},
   "outputs": [],
   "source": [
    "# get data loader\n",
    "batch_size = 32\n",
    "ks_loader_train = DataLoader(ks_dataset_train, batch_size=batch_size, shuffle=True)\n",
    "ks_loader_train_rel = DataLoader(ks_dataset_train_rel, batch_size=batch_size, shuffle=True)\n",
    "ks_loader_test = DataLoader(ks_dataset_test, batch_size=batch_size, shuffle=False)"
   ]
  },
  {
   "cell_type": "code",
   "execution_count": 15,
   "id": "a542a7df",
   "metadata": {},
   "outputs": [],
   "source": [
    "for i, data in enumerate(ks_loader_train):\n",
    "    x, c, w, z = data\n",
    "    break"
   ]
  },
  {
   "cell_type": "code",
   "execution_count": 16,
   "id": "75fc2763",
   "metadata": {},
   "outputs": [
    {
     "data": {
      "text/plain": [
       "torch.Size([32, 5])"
      ]
     },
     "execution_count": 16,
     "metadata": {},
     "output_type": "execute_result"
    }
   ],
   "source": [
    "x.shape"
   ]
  },
  {
   "cell_type": "code",
   "execution_count": 17,
   "id": "5e50a821",
   "metadata": {},
   "outputs": [
    {
     "data": {
      "text/plain": [
       "torch.Size([32, 16])"
      ]
     },
     "execution_count": 17,
     "metadata": {},
     "output_type": "execute_result"
    }
   ],
   "source": [
    "c.shape"
   ]
  },
  {
   "cell_type": "code",
   "execution_count": 18,
   "id": "074c9398",
   "metadata": {},
   "outputs": [
    {
     "data": {
      "text/plain": [
       "torch.Size([32, 16])"
      ]
     },
     "execution_count": 18,
     "metadata": {},
     "output_type": "execute_result"
    }
   ],
   "source": [
    "w.shape"
   ]
  },
  {
   "cell_type": "code",
   "execution_count": 19,
   "id": "20de02c7",
   "metadata": {},
   "outputs": [
    {
     "data": {
      "text/plain": [
       "torch.Size([32, 1])"
      ]
     },
     "execution_count": 19,
     "metadata": {},
     "output_type": "execute_result"
    }
   ],
   "source": [
    "z.shape"
   ]
  },
  {
   "cell_type": "markdown",
   "id": "ba836667",
   "metadata": {},
   "source": [
    "## Linear Regression from Scikit-Lear "
   ]
  },
  {
   "cell_type": "code",
   "execution_count": 20,
   "id": "bac0dc77",
   "metadata": {},
   "outputs": [],
   "source": [
    "from sklearn.linear_model import LinearRegression"
   ]
  },
  {
   "cell_type": "code",
   "execution_count": 21,
   "id": "2888cc9b",
   "metadata": {},
   "outputs": [],
   "source": [
    "# prediction model\n",
    "reg = LinearRegression()"
   ]
  },
  {
   "cell_type": "markdown",
   "id": "cc19e83e",
   "metadata": {},
   "source": [
    "## Two-Stage "
   ]
  },
  {
   "cell_type": "code",
   "execution_count": 22,
   "id": "6adcf558",
   "metadata": {},
   "outputs": [],
   "source": [
    "# build model\n",
    "twostage_model = pyepo.twostage.sklearnPred(reg)"
   ]
  },
  {
   "cell_type": "code",
   "execution_count": 23,
   "id": "86fe3c54",
   "metadata": {},
   "outputs": [
    {
     "data": {
      "text/plain": [
       "MultiOutputRegressor(estimator=LinearRegression())"
      ]
     },
     "execution_count": 23,
     "metadata": {},
     "output_type": "execute_result"
    }
   ],
   "source": [
    "# training\n",
    "twostage_model.fit(ks_dataset_train.feats, ks_dataset_train.costs)"
   ]
  },
  {
   "cell_type": "code",
   "execution_count": 24,
   "id": "e2e103e7",
   "metadata": {},
   "outputs": [],
   "source": [
    "# prediction\n",
    "c_test_pred = twostage_model.predict(ks_dataset_test.feats)"
   ]
  },
  {
   "cell_type": "code",
   "execution_count": 25,
   "id": "5aa3cd7f",
   "metadata": {},
   "outputs": [
    {
     "name": "stderr",
     "output_type": "stream",
     "text": [
      "100%|███████████████████████████████████████████████████████████████████████████████████████████████| 1000/1000 [02:22<00:00,  7.03it/s]\n"
     ]
    },
    {
     "name": "stdout",
     "output_type": "stream",
     "text": [
      "Normalized true SPO Loss: 2.01%\n",
      "Normalized unambiguous SPO Loss: 2.01%\n"
     ]
    }
   ],
   "source": [
    "# evaluate\n",
    "truespo = 0\n",
    "unambspo = 0\n",
    "for i in tqdm(range(1000)):\n",
    "    c_pred_i = c_test_pred[i]\n",
    "    c_true_i = ks_dataset_test.costs[i]\n",
    "    z_true_i = ks_dataset_test.objs[i,0]\n",
    "    truespo += pyepo.eval.calTrueSPO(ks_model, c_pred_i, c_true_i, z_true_i)\n",
    "    unambspo += pyepo.eval.calUnambSPO(ks_model, c_pred_i, c_true_i, z_true_i)\n",
    "time.sleep(1)\n",
    "print('Normalized true SPO Loss: {:.2f}%'.format(truespo / abs(ks_dataset_test.objs.sum()) * 100))\n",
    "print('Normalized unambiguous SPO Loss: {:.2f}%'.format(unambspo / abs(ks_dataset_test.objs.sum()) * 100))"
   ]
  },
  {
   "cell_type": "code",
   "execution_count": 26,
   "id": "feeeed33",
   "metadata": {
    "scrolled": false
   },
   "outputs": [
    {
     "name": "stdout",
     "output_type": "stream",
     "text": [
      "Sample 0:\n",
      "    True cost: 9.00, 3.00, 7.00, 3.00, 4.00, 4.00, 5.00, 3.00, 2.00, 6.00, 7.00, 3.00, 4.00, 2.00, 4.00, 2.00\n",
      "    Pred cost: 8.42, 3.70, 6.85, 4.64, 4.61, 4.61, 6.97, 3.00, 2.97, 6.70, 6.85, 4.86, 4.61, 3.13, 4.28, 2.97\n",
      "    True sol: 1, 0, 0, 0, 0, 1, 0, 0, 0, 0, 0, 0, 0, 0, 0, 0, True obj: 13.00\n",
      "    Pred sol: 1, 0, 0, 0, 0, 1, 0, 0, 0, 0, 0, 0, 0, 0, 0, 0, Pred obj: 13.00\n",
      "\n",
      "Sample 1:\n",
      "    True cost: 5.00, 2.00, 5.00, 4.00, 4.00, 4.00, 3.00, 3.00, 2.00, 3.00, 5.00, 1.00, 4.00, 2.00, 2.00, 2.00\n",
      "    Pred cost: 6.09, 1.42, 5.24, 4.79, 4.39, 4.39, 4.58, 3.00, 2.48, 3.68, 5.24, 0.58, 4.39, 2.94, 2.81, 2.48\n",
      "    True sol: 1, 0, 0, 0, 0, 1, 0, 0, 0, 0, 0, 0, 0, 0, 0, 0, True obj: 9.00\n",
      "    Pred sol: 1, 0, 0, 0, 0, 1, 0, 0, 0, 0, 0, 0, 0, 0, 0, 0, Pred obj: 9.00\n",
      "\n",
      "Sample 2:\n",
      "    True cost: 21.00, 3.00, 10.00, 9.00, 9.00, 9.00, 13.00, 3.00, 4.00, 11.00, 10.00, 8.00, 9.00, 5.00, 9.00, 4.00\n",
      "    Pred cost: 13.13, 3.23, 8.72, 9.15, 7.64, 7.64, 11.83, 3.00, 5.28, 9.20, 8.72, 8.83, 7.64, 6.22, 7.91, 5.28\n",
      "    True sol: 1, 0, 0, 0, 0, 1, 0, 0, 0, 0, 0, 0, 0, 0, 0, 0, True obj: 30.00\n",
      "    Pred sol: 1, 0, 0, 0, 0, 1, 0, 0, 0, 0, 0, 0, 0, 0, 0, 0, Pred obj: 30.00\n",
      "\n",
      "Sample 3:\n",
      "    True cost: 2.00, 4.00, 2.00, 4.00, 5.00, 5.00, 4.00, 3.00, 5.00, 3.00, 2.00, 8.00, 5.00, 7.00, 6.00, 5.00\n",
      "    Pred cost: 3.19, 4.86, 2.75, 5.66, 5.47, 5.47, 5.42, 3.00, 5.82, 3.53, 2.75, 8.73, 5.47, 7.75, 6.39, 5.82\n",
      "    True sol: 0, 0, 0, 0, 0, 1, 0, 0, 0, 0, 0, 0, 0, 1, 0, 0, True obj: 12.00\n",
      "    Pred sol: 0, 0, 0, 0, 0, 1, 0, 0, 0, 0, 0, 0, 0, 1, 0, 0, Pred obj: 12.00\n",
      "\n",
      "Sample 4:\n",
      "    True cost: 14.00, 2.00, 7.00, 12.00, 6.00, 6.00, 11.00, 3.00, 5.00, 6.00, 7.00, 4.00, 6.00, 5.00, 5.00, 5.00\n",
      "    Pred cost: 10.80, 2.49, 7.22, 10.02, 6.48, 6.48, 10.63, 3.00, 5.76, 6.53, 7.22, 5.35, 6.48, 6.22, 5.67, 5.76\n",
      "    True sol: 1, 0, 0, 0, 0, 1, 0, 0, 0, 0, 0, 0, 0, 0, 0, 0, True obj: 20.00\n",
      "    Pred sol: 1, 0, 0, 0, 0, 1, 0, 0, 0, 0, 0, 0, 0, 0, 0, 0, Pred obj: 20.00\n",
      "\n",
      "Sample 5:\n",
      "    True cost: 13.00, 2.00, 9.00, 9.00, 9.00, 9.00, 10.00, 3.00, 3.00, 5.00, 9.00, 4.00, 9.00, 6.00, 5.00, 3.00\n",
      "    Pred cost: 10.62, 2.76, 8.30, 8.97, 7.80, 7.80, 10.11, 3.00, 4.22, 5.83, 8.30, 5.23, 7.80, 7.29, 5.37, 4.22\n",
      "    True sol: 1, 0, 0, 0, 0, 1, 0, 0, 0, 0, 0, 0, 0, 0, 0, 0, True obj: 22.00\n",
      "    Pred sol: 1, 0, 0, 0, 0, 1, 0, 0, 0, 0, 0, 0, 0, 0, 0, 0, Pred obj: 22.00\n",
      "\n",
      "Sample 6:\n",
      "    True cost: 5.00, 3.00, 4.00, 3.00, 5.00, 5.00, 4.00, 3.00, 4.00, 6.00, 4.00, 7.00, 5.00, 4.00, 8.00, 4.00\n",
      "    Pred cost: 6.42, 3.15, 4.30, 4.73, 5.72, 5.72, 5.73, 3.00, 4.45, 6.15, 4.30, 8.14, 5.72, 5.04, 7.50, 4.45\n",
      "    True sol: 0, 0, 0, 0, 0, 1, 0, 0, 0, 1, 0, 0, 0, 0, 0, 0, True obj: 11.00\n",
      "    Pred sol: 1, 0, 0, 0, 0, 1, 0, 0, 0, 0, 0, 0, 0, 0, 0, 0, Pred obj: 10.00\n",
      "\n",
      "Sample 7:\n",
      "    True cost: 6.00, 3.00, 6.00, 3.00, 4.00, 4.00, 4.00, 3.00, 2.00, 5.00, 6.00, 3.00, 4.00, 3.00, 4.00, 2.00\n",
      "    Pred cost: 6.91, 3.17, 6.06, 3.96, 5.09, 5.09, 5.52, 3.00, 2.50, 5.40, 6.06, 4.38, 5.09, 3.74, 4.38, 2.50\n",
      "    True sol: 1, 0, 0, 0, 0, 1, 0, 0, 0, 0, 0, 0, 0, 0, 0, 0, True obj: 10.00\n",
      "    Pred sol: 1, 0, 0, 0, 0, 1, 0, 0, 0, 0, 0, 0, 0, 0, 0, 0, Pred obj: 10.00\n",
      "\n",
      "Sample 8:\n",
      "    True cost: 2.00, 2.00, 3.00, 2.00, 6.00, 6.00, 1.00, 3.00, 1.00, 1.00, 3.00, 1.00, 6.00, 5.00, 2.00, 1.00\n",
      "    Pred cost: 1.76, 2.32, 4.25, 1.73, 6.02, 6.02, 1.10, 3.00, 0.48, 0.48, 4.25, 1.27, 6.02, 5.64, 2.64, 0.48\n",
      "    True sol: 0, 0, 0, 0, 0, 1, 0, 0, 0, 0, 0, 0, 0, 1, 0, 0, True obj: 11.00\n",
      "    Pred sol: 0, 0, 0, 0, 0, 1, 0, 0, 0, 0, 0, 0, 0, 1, 0, 0, Pred obj: 11.00\n",
      "\n",
      "Sample 9:\n",
      "    True cost: 5.00, 6.00, 3.00, 6.00, 4.00, 4.00, 7.00, 3.00, 7.00, 6.00, 3.00, 12.00, 4.00, 6.00, 7.00, 7.00\n",
      "    Pred cost: 5.88, 6.09, 3.78, 6.88, 4.65, 4.65, 8.17, 3.00, 7.20, 6.40, 3.78, 11.05, 4.65, 6.83, 7.16, 7.20\n",
      "    True sol: 0, 0, 0, 0, 0, 0, 0, 0, 0, 0, 0, 1, 0, 0, 0, 0, True obj: 12.00\n",
      "    Pred sol: 0, 0, 0, 0, 0, 1, 0, 0, 0, 0, 0, 0, 0, 1, 0, 0, Pred obj: 10.00\n",
      "\n"
     ]
    }
   ],
   "source": [
    "# compare solutions\n",
    "for i, data in enumerate(ks_loader_test):\n",
    "    # load data\n",
    "    x, c, w, z = data\n",
    "    # cuda\n",
    "    if torch.cuda.is_available():\n",
    "        x, c, w, z = x.cuda(), c.cuda(), w.cuda(), z.cuda()\n",
    "    # convert to numpy\n",
    "    x = x.to('cpu').detach().numpy()\n",
    "    c = c.to('cpu').detach().numpy()\n",
    "    w = w.to('cpu').detach().numpy()\n",
    "    z = z.to('cpu').detach().numpy()\n",
    "    # predict\n",
    "    cp = twostage_model.predict(x)\n",
    "    for j in range(min(10, batch_size)):\n",
    "        print('Sample {}:'.format(j))\n",
    "        print('    True cost:', ', '.join(['{:.2f}'.format(cost) for cost in c[j]]))\n",
    "        print('    Pred cost:', ', '.join(['{:.2f}'.format(cost) for cost in cp[j]]))\n",
    "        # solve cost from prediction\n",
    "        ks_model.setObj(cp[j])\n",
    "        wpj, _ = ks_model.solve()\n",
    "        zpj = np.dot(c[j], wpj)\n",
    "        print('    True sol: ' + ', '.join(['{:.0f}'.format(x) for x in w[j]]) + ', True obj: {:.2f}'.format(z[j,0]))\n",
    "        print('    Pred sol: '+  ', '.join(['{:.0f}'.format(x) for x in wpj]) + ', Pred obj: {:.2f}'.format(zpj))\n",
    "        print()\n",
    "    break"
   ]
  },
  {
   "cell_type": "markdown",
   "id": "8596e709",
   "metadata": {},
   "source": [
    "## Linear Regression from PyTorch"
   ]
  },
  {
   "cell_type": "code",
   "execution_count": 27,
   "id": "e88c361d",
   "metadata": {},
   "outputs": [],
   "source": [
    "from torch import nn"
   ]
  },
  {
   "cell_type": "code",
   "execution_count": 28,
   "id": "5ed32466",
   "metadata": {},
   "outputs": [],
   "source": [
    "# build linear model\n",
    "class LinearRegression(nn.Module):\n",
    "    \n",
    "    def __init__(self):\n",
    "        super(LinearRegression, self).__init__()\n",
    "        self.linear = nn.Linear(p, m)\n",
    "    \n",
    "    def forward(self, x):\n",
    "        out = self.linear(x)\n",
    "        return out"
   ]
  },
  {
   "cell_type": "markdown",
   "id": "fa3f22f2",
   "metadata": {},
   "source": [
    "## SPO+ "
   ]
  },
  {
   "cell_type": "code",
   "execution_count": 29,
   "id": "07753d5a",
   "metadata": {},
   "outputs": [],
   "source": [
    "# init model\n",
    "reg = LinearRegression()\n",
    "# cuda\n",
    "if torch.cuda.is_available():\n",
    "    reg = reg.cuda()"
   ]
  },
  {
   "cell_type": "code",
   "execution_count": 30,
   "id": "d4d0d9b8",
   "metadata": {},
   "outputs": [],
   "source": [
    "# set optimizer\n",
    "optimizer = torch.optim.Adam(reg.parameters(), lr=5e-3)"
   ]
  },
  {
   "cell_type": "code",
   "execution_count": 31,
   "id": "fb3637bb",
   "metadata": {},
   "outputs": [
    {
     "name": "stdout",
     "output_type": "stream",
     "text": [
      "Num of cores: 4\n"
     ]
    }
   ],
   "source": [
    "# init SPO+ loss\n",
    "criterion = pyepo.func.SPOPlus(ks_model, processes=4)"
   ]
  },
  {
   "cell_type": "code",
   "execution_count": 32,
   "id": "5a05c841",
   "metadata": {
    "scrolled": false
   },
   "outputs": [
    {
     "name": "stdout",
     "output_type": "stream",
     "text": [
      "Epoch  10, Loss:   8.8557, True SPO Loss: 19.4759%, Unambiguous SPO Loss: 19.4759%\n",
      "Epoch  20, Loss:   4.0390, True SPO Loss:  5.3291%, Unambiguous SPO Loss:  5.3291%\n",
      "Epoch  30, Loss:   3.0701, True SPO Loss:  2.0335%, Unambiguous SPO Loss:  2.0335%\n",
      "Epoch  40, Loss:   0.7940, True SPO Loss:  0.9116%, Unambiguous SPO Loss:  0.9116%\n",
      "Epoch  50, Loss:   1.2290, True SPO Loss:  0.6311%, Unambiguous SPO Loss:  0.6311%\n",
      "Epoch  60, Loss:   3.6109, True SPO Loss:  0.5610%, Unambiguous SPO Loss:  0.5610%\n",
      "Epoch  70, Loss:   0.7329, True SPO Loss:  0.5522%, Unambiguous SPO Loss:  0.5522%\n",
      "Epoch  80, Loss:   0.3039, True SPO Loss:  0.3944%, Unambiguous SPO Loss:  0.3944%\n",
      "Epoch  90, Loss:   0.4530, True SPO Loss:  0.2279%, Unambiguous SPO Loss:  0.2279%\n",
      "Epoch 100, Loss:   0.5726, True SPO Loss:  0.3331%, Unambiguous SPO Loss:  0.3331%\n",
      "Epoch 110, Loss:   0.1547, True SPO Loss:  0.2892%, Unambiguous SPO Loss:  0.2892%\n",
      "Epoch 120, Loss:   0.1395, True SPO Loss:  0.4207%, Unambiguous SPO Loss:  0.4207%\n",
      "Epoch 130, Loss:   0.2758, True SPO Loss:  0.2630%, Unambiguous SPO Loss:  0.2630%\n",
      "Epoch 140, Loss:   1.1518, True SPO Loss:  0.2892%, Unambiguous SPO Loss:  0.2892%\n",
      "Epoch 150, Loss:   2.2381, True SPO Loss:  0.1928%, Unambiguous SPO Loss:  0.1928%\n",
      "Epoch 160, Loss:   0.2625, True SPO Loss:  0.1490%, Unambiguous SPO Loss:  0.1490%\n",
      "Epoch 170, Loss:   0.5829, True SPO Loss:  0.2104%, Unambiguous SPO Loss:  0.2104%\n",
      "Epoch 180, Loss:   1.0036, True SPO Loss:  0.2717%, Unambiguous SPO Loss:  0.2717%\n",
      "Epoch 190, Loss:   0.6765, True SPO Loss:  0.1490%, Unambiguous SPO Loss:  0.1490%\n",
      "Epoch 200, Loss:   0.1775, True SPO Loss:  0.1841%, Unambiguous SPO Loss:  0.1841%\n",
      "Epoch 210, Loss:   0.4227, True SPO Loss:  0.2717%, Unambiguous SPO Loss:  0.2717%\n",
      "Epoch 220, Loss:   0.2636, True SPO Loss:  0.1928%, Unambiguous SPO Loss:  0.1928%\n",
      "Epoch 230, Loss:   0.2274, True SPO Loss:  0.1665%, Unambiguous SPO Loss:  0.1665%\n",
      "Epoch 240, Loss:   0.3712, True SPO Loss:  0.1753%, Unambiguous SPO Loss:  0.1753%\n",
      "Epoch 250, Loss:   0.2011, True SPO Loss:  0.2104%, Unambiguous SPO Loss:  0.2104%\n",
      "Epoch 260, Loss:   0.0000, True SPO Loss:  0.1841%, Unambiguous SPO Loss:  0.1841%\n",
      "Epoch 270, Loss:   0.2430, True SPO Loss:  0.1490%, Unambiguous SPO Loss:  0.1490%\n",
      "Epoch 280, Loss:  -0.0000, True SPO Loss:  0.1665%, Unambiguous SPO Loss:  0.1665%\n",
      "Epoch 290, Loss:   0.5333, True SPO Loss:  0.1841%, Unambiguous SPO Loss:  0.1841%\n",
      "Epoch 300, Loss:   0.0872, True SPO Loss:  0.1753%, Unambiguous SPO Loss:  0.1753%\n"
     ]
    }
   ],
   "source": [
    "# train model\n",
    "num_epochs = 300\n",
    "reg.train()\n",
    "loss_log = []\n",
    "loss_log_truespo = []\n",
    "loss_log_unambspo = []\n",
    "for epoch in range(num_epochs):\n",
    "    # load data\n",
    "    for i, data in enumerate(ks_loader_train):\n",
    "        x, c, w, z = data\n",
    "        # cuda\n",
    "        if torch.cuda.is_available():\n",
    "            x, c, w, z = x.cuda(), c.cuda(), w.cuda(), z.cuda()\n",
    "        # forward pass\n",
    "        cp = reg(x)\n",
    "        loss = criterion.apply(cp, c, w, z).mean()\n",
    "        # backward pass\n",
    "        optimizer.zero_grad()\n",
    "        loss.backward()\n",
    "        optimizer.step()\n",
    "    loss_log.append(loss.item())\n",
    "    if (epoch + 1) % 10 == 0:\n",
    "        # true SPO\n",
    "        trueloss = pyepo.eval.trueSPO(reg, ks_model, ks_loader_test)\n",
    "        loss_log_truespo.append(trueloss)\n",
    "        # unambiguous SPO \n",
    "        unambloss = pyepo.eval.unambSPO(reg, ks_model, ks_loader_test)\n",
    "        loss_log_unambspo.append(unambloss)\n",
    "        print('Epoch {:3}, Loss: {:8.4f}, True SPO Loss: {:7.4f}%, Unambiguous SPO Loss: {:7.4f}%'. \\\n",
    "              format(epoch+1, loss.item(), trueloss*100, unambloss*100))"
   ]
  },
  {
   "cell_type": "code",
   "execution_count": 33,
   "id": "927bf5d7",
   "metadata": {},
   "outputs": [
    {
     "data": {
      "image/png": "[encoded data removed]",
      "text/plain": [
       "<Figure size 1152x576 with 1 Axes>"
      ]
     },
     "metadata": {
      "needs_background": "light"
     },
     "output_type": "display_data"
    }
   ],
   "source": [
    "# draw plot\n",
    "plt.figure(figsize=(16, 8))\n",
    "plt.plot(loss_log, color='c', lw=3)\n",
    "plt.xticks(fontsize=28)\n",
    "plt.yticks(fontsize=28)\n",
    "plt.xlabel('Epoch', fontsize=36)\n",
    "plt.ylabel('Loss', fontsize=36)\n",
    "plt.title('Learning Curve', fontsize=36)\n",
    "plt.show()"
   ]
  },
  {
   "cell_type": "code",
   "execution_count": null,
   "id": "8ae91bbd",
   "metadata": {},
   "outputs": [],
   "source": [
    "# draw plot\n",
    "plt.figure(figsize=(16, 8))\n",
    "plt.plot(range(0, num_epochs, 10), loss_log_truespo, color='b', alpha=0.5, lw=3, label='Regret')\n",
    "plt.plot(range(0, num_epochs, 10), loss_log_unambspo, color='y', alpha=0.5, lw=3, label='Unambiguous Regret')\n",
    "plt.xticks(fontsize=28)\n",
    "plt.yticks(fontsize=28)\n",
    "plt.xlabel('Epoch', fontsize=36)\n",
    "plt.ylabel('Loss', fontsize=36)\n",
    "plt.title('Learning Curve', fontsize=36)\n",
    "plt.legend(fontsize=32)\n",
    "plt.show()"
   ]
  },
  {
   "cell_type": "code",
   "execution_count": null,
   "id": "c8515a5d",
   "metadata": {},
   "outputs": [],
   "source": [
    "# evaluate\n",
    "spoloss = pyepo.eval.trueSPO(reg, ks_model, ks_loader_test)\n",
    "print('Normalized true SPO Loss: {:.2f}%'.format(spoloss * 100))\n",
    "spoloss = pyepo.eval.unambSPO(reg, ks_model, ks_loader_test)\n",
    "print('Normalized unambiguous SPO Loss: {:.2f}%'.format(spoloss * 100))"
   ]
  },
  {
   "cell_type": "code",
   "execution_count": null,
   "id": "738c1d73",
   "metadata": {
    "scrolled": false
   },
   "outputs": [],
   "source": [
    "reg.eval()\n",
    "# compare solutions\n",
    "for i, data in enumerate(ks_loader_test):\n",
    "    # load data\n",
    "    x, c, w, z = data\n",
    "    # cuda\n",
    "    if torch.cuda.is_available():\n",
    "        x, c, w, z = x.cuda(), c.cuda(), w.cuda(), z.cuda()\n",
    "    # predict\n",
    "    cp = reg(x)\n",
    "    # convert to numpy\n",
    "    x = x.to('cpu').detach().numpy()\n",
    "    c = c.to('cpu').detach().numpy()\n",
    "    w = w.to('cpu').detach().numpy()\n",
    "    z = z.to('cpu').detach().numpy()\n",
    "    cp = cp.to('cpu').detach().numpy()\n",
    "    for j in range(min(10, batch_size)):\n",
    "        print('Sample {}:'.format(j))\n",
    "        print('    True cost:', ', '.join(['{:.2f}'.format(cost) for cost in c[j]]))\n",
    "        print('    Pred cost:', ', '.join(['{:.2f}'.format(cost) for cost in cp[j]]))\n",
    "        # solve cost from prediction\n",
    "        ks_model.setObj(cp[j])\n",
    "        wpj, _ = ks_model.solve()\n",
    "        zpj = np.dot(c[j], wpj)\n",
    "        print('    True sol: ' + ', '.join(['{:.0f}'.format(x) for x in w[j]]) + ', True obj: {:.2f}'.format(z[j,0]))\n",
    "        print('    Pred sol: '+  ', '.join(['{:.0f}'.format(x) for x in wpj]) + ', Pred obj: {:.2f}'.format(zpj))\n",
    "        print()\n",
    "    break"
   ]
  },
  {
   "cell_type": "markdown",
   "id": "4df20405",
   "metadata": {},
   "source": [
    "## SPO+ Rel "
   ]
  },
  {
   "cell_type": "code",
   "execution_count": null,
   "id": "71994d62",
   "metadata": {},
   "outputs": [],
   "source": [
    "# init model\n",
    "reg = LinearRegression()\n",
    "# cuda\n",
    "if torch.cuda.is_available():\n",
    "    reg = reg.cuda()"
   ]
  },
  {
   "cell_type": "code",
   "execution_count": null,
   "id": "2e0f7a29",
   "metadata": {},
   "outputs": [],
   "source": [
    "# set optimizer\n",
    "optimizer = torch.optim.Adam(reg.parameters(), lr=5e-3)"
   ]
  },
  {
   "cell_type": "code",
   "execution_count": null,
   "id": "e1840354",
   "metadata": {},
   "outputs": [],
   "source": [
    "# init SPO+ loss\n",
    "criterion = pyepo.func.SPOPlus(ks_model_rel, processes=4)"
   ]
  },
  {
   "cell_type": "code",
   "execution_count": null,
   "id": "f948e7ed",
   "metadata": {},
   "outputs": [],
   "source": [
    "# train model\n",
    "num_epochs = 300\n",
    "reg.train()\n",
    "loss_log = []\n",
    "loss_log_truespo = []\n",
    "loss_log_unambspo = []\n",
    "for epoch in range(num_epochs):\n",
    "    # load data\n",
    "    for i, data in enumerate(ks_loader_train_rel):\n",
    "        x, c, w, z = data\n",
    "        # cuda\n",
    "        if torch.cuda.is_available():\n",
    "            x, c, w, z = x.cuda(), c.cuda(), w.cuda(), z.cuda()\n",
    "        # forward pass\n",
    "        cp = reg(x)\n",
    "        loss = criterion.apply(cp, c, w, z).mean()\n",
    "        # backward pass\n",
    "        optimizer.zero_grad()\n",
    "        loss.backward()\n",
    "        optimizer.step()\n",
    "    loss_log.append(loss.item())\n",
    "    if (epoch + 1) % 10 == 0:\n",
    "        # true SPO\n",
    "        trueloss = pyepo.eval.trueSPO(reg, ks_model, ks_loader_test)\n",
    "        loss_log_truespo.append(trueloss)\n",
    "        # unambiguous SPO \n",
    "        unambloss = spo.eval.unambSPO(reg, ks_model, ks_loader_test)\n",
    "        loss_log_unambspo.append(unambloss)\n",
    "        print('Epoch {:3}, Loss: {:8.4f}, True SPO Loss: {:7.4f}%, Unambiguous SPO Loss: {:7.4f}%'. \\\n",
    "              format(epoch+1, loss.item(), trueloss*100, unambloss*100))"
   ]
  },
  {
   "cell_type": "code",
   "execution_count": null,
   "id": "ac94f9c5",
   "metadata": {},
   "outputs": [],
   "source": [
    "# draw plot\n",
    "plt.figure(figsize=(16, 8))\n",
    "plt.plot(loss_log, color='c', lw=3)\n",
    "plt.xticks(fontsize=28)\n",
    "plt.yticks(fontsize=28)\n",
    "plt.xlabel('Epoch', fontsize=36)\n",
    "plt.ylabel('Loss', fontsize=36)\n",
    "plt.title('Learning Curve', fontsize=36)\n",
    "plt.show()"
   ]
  },
  {
   "cell_type": "code",
   "execution_count": null,
   "id": "4c32ae91",
   "metadata": {},
   "outputs": [],
   "source": [
    "# draw plot\n",
    "plt.figure(figsize=(16, 8))\n",
    "plt.plot(range(0, num_epochs, 10), loss_log_truespo, color='b', alpha=0.5, lw=3, label='Regret')\n",
    "plt.plot(range(0, num_epochs, 10), loss_log_unambspo, color='y', alpha=0.5, lw=3, label='Unambiguous Regret')\n",
    "plt.xticks(fontsize=28)\n",
    "plt.yticks(fontsize=28)\n",
    "plt.xlabel('Epoch', fontsize=36)\n",
    "plt.ylabel('Loss', fontsize=36)\n",
    "plt.title('Learning Curve', fontsize=36)\n",
    "plt.legend(fontsize=32)\n",
    "plt.show()"
   ]
  },
  {
   "cell_type": "code",
   "execution_count": null,
   "id": "8625b1cb",
   "metadata": {},
   "outputs": [],
   "source": [
    "# evaluate\n",
    "spoloss = pyepo.eval.trueSPO(reg, ks_model, ks_loader_test)\n",
    "print('Normalized true SPO Loss: {:.2f}%'.format(spoloss * 100))\n",
    "spoloss = pyepo.eval.unambSPO(reg, ks_model, ks_loader_test)\n",
    "print('Normalized unambiguous SPO Loss: {:.2f}%'.format(spoloss * 100))"
   ]
  },
  {
   "cell_type": "code",
   "execution_count": null,
   "id": "4dd188e3",
   "metadata": {
    "scrolled": false
   },
   "outputs": [],
   "source": [
    "reg.eval()\n",
    "# compare solutions\n",
    "for i, data in enumerate(ks_loader_test):\n",
    "    # load data\n",
    "    x, c, w, z = data\n",
    "    # cuda\n",
    "    if torch.cuda.is_available():\n",
    "        x, c, w, z = x.cuda(), c.cuda(), w.cuda(), z.cuda()\n",
    "    # predict\n",
    "    cp = reg(x)\n",
    "    # convert to numpy\n",
    "    x = x.to('cpu').detach().numpy()\n",
    "    c = c.to('cpu').detach().numpy()\n",
    "    w = w.to('cpu').detach().numpy()\n",
    "    z = z.to('cpu').detach().numpy()\n",
    "    cp = cp.to('cpu').detach().numpy()\n",
    "    for j in range(min(10, batch_size)):\n",
    "        print('Sample {}:'.format(j))\n",
    "        print('    True cost:', ', '.join(['{:.2f}'.format(cost) for cost in c[j]]))\n",
    "        print('    Pred cost:', ', '.join(['{:.2f}'.format(cost) for cost in cp[j]]))\n",
    "        # solve cost from prediction\n",
    "        ks_model.setObj(cp[j])\n",
    "        wpj, _ = ks_model.solve()\n",
    "        zpj = np.dot(c[j], wpj)\n",
    "        print('    True sol: ' + ', '.join(['{:.0f}'.format(x) for x in w[j]]) + ', True obj: {:.2f}'.format(z[j,0]))\n",
    "        print('    Pred sol: '+  ', '.join(['{:.0f}'.format(x) for x in wpj]) + ', Pred obj: {:.2f}'.format(zpj))\n",
    "        print()\n",
    "    break"
   ]
  },
  {
   "cell_type": "markdown",
   "id": "5eacdf0a",
   "metadata": {},
   "source": [
    "## Black-Box"
   ]
  },
  {
   "cell_type": "code",
   "execution_count": null,
   "id": "083a0643",
   "metadata": {},
   "outputs": [],
   "source": [
    "# init model\n",
    "reg = LinearRegression()\n",
    "# cuda\n",
    "if torch.cuda.is_available():\n",
    "    reg = reg.cuda()"
   ]
  },
  {
   "cell_type": "code",
   "execution_count": null,
   "id": "4f28204b",
   "metadata": {},
   "outputs": [],
   "source": [
    "# set optimizer\n",
    "optimizer = torch.optim.Adam(reg.parameters(), lr=1e-2)"
   ]
  },
  {
   "cell_type": "code",
   "execution_count": null,
   "id": "5592746b",
   "metadata": {},
   "outputs": [],
   "source": [
    "# set loss\n",
    "bb = pyepo.func.blackboxOpt(ks_model, lambd=20, processes=4)\n",
    "criterion = nn.L1Loss()"
   ]
  },
  {
   "cell_type": "code",
   "execution_count": null,
   "id": "2a5e1fab",
   "metadata": {},
   "outputs": [],
   "source": [
    "# train model\n",
    "num_epochs = 300\n",
    "reg.train()\n",
    "loss_log = []\n",
    "loss_log_truespo = []\n",
    "loss_log_unambspo = []\n",
    "for epoch in range(num_epochs):\n",
    "    # load data\n",
    "    for i, data in enumerate(ks_loader_train):\n",
    "        x, c, w, z = data\n",
    "        # cuda\n",
    "        if torch.cuda.is_available():\n",
    "            x, c, w, z = x.cuda(), c.cuda(), w.cuda(), z.cuda()\n",
    "        # linear regression\n",
    "        cp = reg(x)\n",
    "        # black-box optimizer\n",
    "        wp = bb.apply(cp)\n",
    "        # objective value\n",
    "        zp = (wp * c).sum(1).view(-1, 1)\n",
    "        # loss\n",
    "        loss = criterion(zp, z)\n",
    "        # backward pass\n",
    "        optimizer.zero_grad()\n",
    "        loss.backward()\n",
    "        optimizer.step()\n",
    "    loss_log.append(loss.item())\n",
    "    if (epoch + 1) % 10 == 0:\n",
    "        # true SPO\n",
    "        trueloss = pyepo.eval.trueSPO(reg, ks_model, ks_loader_test)\n",
    "        loss_log_truespo.append(trueloss)\n",
    "        # unambiguous SPO \n",
    "        unambloss = pyepo.eval.unambSPO(reg, ks_model, ks_loader_test)\n",
    "        loss_log_unambspo.append(unambloss)\n",
    "        print('Epoch {:3}, Loss: {:8.4f}, True SPO Loss: {:7.4f}%, Unambiguous SPO Loss: {:7.4f}%'. \\\n",
    "              format(epoch+1, loss.item(), trueloss*100, unambloss*100))"
   ]
  },
  {
   "cell_type": "code",
   "execution_count": null,
   "id": "cc8bebe6",
   "metadata": {},
   "outputs": [],
   "source": [
    "# draw plot\n",
    "plt.figure(figsize=(16, 8))\n",
    "plt.plot(loss_log, color='c', lw=3)\n",
    "plt.xticks(fontsize=28)\n",
    "plt.yticks(fontsize=28)\n",
    "plt.xlabel('Epoch', fontsize=36)\n",
    "plt.ylabel('Loss', fontsize=36)\n",
    "plt.title('Learning Curve', fontsize=36)\n",
    "plt.show()"
   ]
  },
  {
   "cell_type": "code",
   "execution_count": null,
   "id": "194985bc",
   "metadata": {},
   "outputs": [],
   "source": [
    "# draw plot\n",
    "plt.figure(figsize=(16, 8))\n",
    "plt.plot(range(0, num_epochs, 10), loss_log_truespo, color='b', alpha=0.5, lw=3, label='Regret')\n",
    "plt.plot(range(0, num_epochs, 10), loss_log_unambspo, color='y', alpha=0.5, lw=3, label='Unambiguous Regret')\n",
    "plt.xticks(fontsize=28)\n",
    "plt.yticks(fontsize=28)\n",
    "plt.xlabel('Epoch', fontsize=36)\n",
    "plt.ylabel('Loss', fontsize=36)\n",
    "plt.title('Learning Curve', fontsize=36)\n",
    "plt.legend(fontsize=32)\n",
    "plt.show()"
   ]
  },
  {
   "cell_type": "code",
   "execution_count": null,
   "id": "c5d7ddeb",
   "metadata": {},
   "outputs": [],
   "source": [
    "# evaluate\n",
    "spoloss = pyepo.eval.trueSPO(reg, ks_model, ks_loader_test)\n",
    "print('Normalized true SPO Loss: {:.2f}%'.format(spoloss * 100))\n",
    "spoloss = pyepo.eval.unambSPO(reg, ks_model, ks_loader_test)\n",
    "print('Normalized unambiguous SPO Loss: {:.2f}%'.format(spoloss * 100))"
   ]
  },
  {
   "cell_type": "code",
   "execution_count": null,
   "id": "76f2fdb5",
   "metadata": {},
   "outputs": [],
   "source": [
    "reg.eval()\n",
    "# compare solutions\n",
    "for i, data in enumerate(ks_loader_test):\n",
    "    # load data\n",
    "    x, c, w, z = data\n",
    "    # cuda\n",
    "    if torch.cuda.is_available():\n",
    "        x, c, w, z = x.cuda(), c.cuda(), w.cuda(), z.cuda()\n",
    "    # predict\n",
    "    cp = reg(x)\n",
    "    # convert to numpy\n",
    "    x = x.to('cpu').detach().numpy()\n",
    "    c = c.to('cpu').detach().numpy()\n",
    "    w = w.to('cpu').detach().numpy()\n",
    "    z = z.to('cpu').detach().numpy()\n",
    "    cp = cp.to('cpu').detach().numpy()\n",
    "    for j in range(min(10, batch_size)):\n",
    "        print('Sample {}:'.format(j))\n",
    "        print('    True cost:', ', '.join(['{:.2f}'.format(cost) for cost in c[j]]))\n",
    "        print('    Pred cost:', ', '.join(['{:.2f}'.format(cost) for cost in cp[j]]))\n",
    "        # solve cost from prediction\n",
    "        ks_model.setObj(cp[j])\n",
    "        wpj, _ = ks_model.solve()\n",
    "        zpj = np.dot(c[j], wpj)\n",
    "        print('    True sol: ' + ', '.join(['{:.0f}'.format(x) for x in w[j]]) + ', True obj: {:.2f}'.format(z[j,0]))\n",
    "        print('    Pred sol: '+  ', '.join(['{:.0f}'.format(x) for x in wpj]) + ', Pred obj: {:.2f}'.format(zpj))\n",
    "        print()\n",
    "    break"
   ]
  },
  {
   "cell_type": "code",
   "execution_count": null,
   "id": "fec97b2c",
   "metadata": {},
   "outputs": [],
   "source": []
  }
 ],
 "metadata": {
  "kernelspec": {
   "display_name": "Python 3 (ipykernel)",
   "language": "python",
   "name": "python3"
  },
  "language_info": {
   "codemirror_mode": {
    "name": "ipython",
    "version": 3
   },
   "file_extension": ".py",
   "mimetype": "text/x-python",
   "name": "python",
   "nbconvert_exporter": "python",
   "pygments_lexer": "ipython3",
   "version": "3.9.7"
  }
 },
 "nbformat": 4,
 "nbformat_minor": 5
}
