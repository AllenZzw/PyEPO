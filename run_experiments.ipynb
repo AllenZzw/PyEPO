{
 "cells": [
  {
   "cell_type": "code",
   "execution_count": 1,
   "id": "63c3586b",
   "metadata": {},
   "outputs": [],
   "source": [
    "from config import config\n",
    "from pipeline import pipeline"
   ]
  },
  {
   "cell_type": "code",
   "execution_count": 2,
   "id": "64f563a3",
   "metadata": {
    "scrolled": false
   },
   "outputs": [
    {
     "name": "stdout",
     "output_type": "stream",
     "text": [
      "Running experiments for shortest path prob:\n",
      "\n",
      "===============================================================\n",
      "Experiment 0:\n",
      "===============================================================\n",
      "Generating synthetic data...\n",
      "\n",
      "Building model with GurobiPy...\n",
      "Academic license - for non-commercial use only - expires 2021-10-08\n",
      "Using license file C:\\Users\\Apocrypse\\gurobi.lic\n",
      "Optimizing for optDataset...\n"
     ]
    },
    {
     "name": "stderr",
     "output_type": "stream",
     "text": [
      "100%|██████████████████████████████████████████████████████████████████████| 1000/1000 [00:40<00:00, 24.39it/s]\n"
     ]
    },
    {
     "name": "stdout",
     "output_type": "stream",
     "text": [
      "Optimizing for optDataset...\n"
     ]
    },
    {
     "name": "stderr",
     "output_type": "stream",
     "text": [
      "100%|██████████████████████████████████████████████████████████████████████| 1000/1000 [00:38<00:00, 26.20it/s]\n"
     ]
    },
    {
     "name": "stdout",
     "output_type": "stream",
     "text": [
      "\n",
      "Training...\n",
      "Using SPO+ loss...\n",
      "Device:\n",
      "    0: GeForce GTX 1070\n",
      "Num of cores: 1\n"
     ]
    },
    {
     "name": "stderr",
     "output_type": "stream",
     "text": [
      "Epoch 99, Loss: 1.7249: 100%|██████████████████████████████████████████████| 100/100 [1:04:54<00:00, 38.95s/it]\n"
     ]
    },
    {
     "name": "stdout",
     "output_type": "stream",
     "text": [
      "Time elapsed: 3899.8368 sec\n",
      "\n",
      "Evaluating...\n",
      "Normalized true SPO Loss: 0.33%\n",
      "Normalized unambiguous SPO Loss: 0.33%\n",
      "Saved to ./res/sp/h20w20/gurobi/spo-lr_n1000p5_d1_e0.0_adam0.01_l10.0l20.0_c1.csv.\n",
      "\n",
      "\n",
      "\n",
      "===============================================================\n",
      "Experiment 1:\n",
      "===============================================================\n",
      "Generating synthetic data...\n",
      "\n",
      "Building model with GurobiPy...\n",
      "Optimizing for optDataset...\n"
     ]
    },
    {
     "name": "stderr",
     "output_type": "stream",
     "text": [
      "100%|██████████████████████████████████████████████████████████████████████| 1000/1000 [00:37<00:00, 26.94it/s]\n"
     ]
    },
    {
     "name": "stdout",
     "output_type": "stream",
     "text": [
      "Optimizing for optDataset...\n"
     ]
    },
    {
     "name": "stderr",
     "output_type": "stream",
     "text": [
      "100%|██████████████████████████████████████████████████████████████████████| 1000/1000 [00:38<00:00, 25.82it/s]\n"
     ]
    },
    {
     "name": "stdout",
     "output_type": "stream",
     "text": [
      "\n",
      "Training...\n",
      "Using SPO+ loss...\n",
      "Device:\n",
      "    0: GeForce GTX 1070\n",
      "Num of cores: 1\n"
     ]
    },
    {
     "name": "stderr",
     "output_type": "stream",
     "text": [
      "Epoch 99, Loss: 2.7147: 100%|██████████████████████████████████████████████| 100/100 [1:01:29<00:00, 36.89s/it]\n"
     ]
    },
    {
     "name": "stdout",
     "output_type": "stream",
     "text": [
      "Time elapsed: 3690.7191 sec\n",
      "\n",
      "Evaluating...\n",
      "Normalized true SPO Loss: 0.37%\n",
      "Normalized unambiguous SPO Loss: 0.37%\n",
      "Saved to ./res/sp/h20w20/gurobi/spo-lr_n1000p5_d1_e0.0_adam0.01_l10.0l20.0_c1.csv.\n",
      "\n",
      "\n",
      "\n",
      "===============================================================\n",
      "Experiment 2:\n",
      "===============================================================\n",
      "Generating synthetic data...\n",
      "\n",
      "Building model with GurobiPy...\n",
      "Optimizing for optDataset...\n"
     ]
    },
    {
     "name": "stderr",
     "output_type": "stream",
     "text": [
      "100%|██████████████████████████████████████████████████████████████████████| 1000/1000 [00:35<00:00, 28.11it/s]\n"
     ]
    },
    {
     "name": "stdout",
     "output_type": "stream",
     "text": [
      "Optimizing for optDataset...\n"
     ]
    },
    {
     "name": "stderr",
     "output_type": "stream",
     "text": [
      "100%|██████████████████████████████████████████████████████████████████████| 1000/1000 [00:36<00:00, 27.64it/s]\n"
     ]
    },
    {
     "name": "stdout",
     "output_type": "stream",
     "text": [
      "\n",
      "Training...\n",
      "Using SPO+ loss...\n",
      "Device:\n",
      "    0: GeForce GTX 1070\n",
      "Num of cores: 1\n"
     ]
    },
    {
     "name": "stderr",
     "output_type": "stream",
     "text": [
      "Epoch 99, Loss: 3.3301: 100%|██████████████████████████████████████████████| 100/100 [1:01:50<00:00, 37.10s/it]\n"
     ]
    },
    {
     "name": "stdout",
     "output_type": "stream",
     "text": [
      "Time elapsed: 3711.6722 sec\n",
      "\n",
      "Evaluating...\n",
      "Normalized true SPO Loss: 0.43%\n",
      "Normalized unambiguous SPO Loss: 0.43%\n",
      "Saved to ./res/sp/h20w20/gurobi/spo-lr_n1000p5_d1_e0.0_adam0.01_l10.0l20.0_c1.csv.\n",
      "\n",
      "\n",
      "\n",
      "===============================================================\n",
      "Experiment 3:\n",
      "===============================================================\n",
      "Generating synthetic data...\n",
      "\n",
      "Building model with GurobiPy...\n",
      "Optimizing for optDataset...\n"
     ]
    },
    {
     "name": "stderr",
     "output_type": "stream",
     "text": [
      "100%|██████████████████████████████████████████████████████████████████████| 1000/1000 [00:37<00:00, 26.61it/s]\n"
     ]
    },
    {
     "name": "stdout",
     "output_type": "stream",
     "text": [
      "Optimizing for optDataset...\n"
     ]
    },
    {
     "name": "stderr",
     "output_type": "stream",
     "text": [
      "100%|██████████████████████████████████████████████████████████████████████| 1000/1000 [00:37<00:00, 26.76it/s]\n"
     ]
    },
    {
     "name": "stdout",
     "output_type": "stream",
     "text": [
      "\n",
      "Training...\n",
      "Using SPO+ loss...\n",
      "Device:\n",
      "    0: GeForce GTX 1070\n",
      "Num of cores: 1\n"
     ]
    },
    {
     "name": "stderr",
     "output_type": "stream",
     "text": [
      "Epoch 99, Loss: 4.2926: 100%|██████████████████████████████████████████████| 100/100 [1:01:34<00:00, 36.94s/it]\n"
     ]
    },
    {
     "name": "stdout",
     "output_type": "stream",
     "text": [
      "Time elapsed: 3695.5060 sec\n",
      "\n",
      "Evaluating...\n",
      "Normalized true SPO Loss: 0.35%\n",
      "Normalized unambiguous SPO Loss: 0.35%\n",
      "Saved to ./res/sp/h20w20/gurobi/spo-lr_n1000p5_d1_e0.0_adam0.01_l10.0l20.0_c1.csv.\n",
      "\n",
      "\n",
      "\n",
      "===============================================================\n",
      "Experiment 4:\n",
      "===============================================================\n",
      "Generating synthetic data...\n",
      "\n",
      "Building model with GurobiPy...\n",
      "Optimizing for optDataset...\n"
     ]
    },
    {
     "name": "stderr",
     "output_type": "stream",
     "text": [
      "100%|██████████████████████████████████████████████████████████████████████| 1000/1000 [00:37<00:00, 26.84it/s]\n"
     ]
    },
    {
     "name": "stdout",
     "output_type": "stream",
     "text": [
      "Optimizing for optDataset...\n"
     ]
    },
    {
     "name": "stderr",
     "output_type": "stream",
     "text": [
      "100%|██████████████████████████████████████████████████████████████████████| 1000/1000 [00:36<00:00, 27.69it/s]\n"
     ]
    },
    {
     "name": "stdout",
     "output_type": "stream",
     "text": [
      "\n",
      "Training...\n",
      "Using SPO+ loss...\n",
      "Device:\n",
      "    0: GeForce GTX 1070\n",
      "Num of cores: 1\n"
     ]
    },
    {
     "name": "stderr",
     "output_type": "stream",
     "text": [
      "Epoch 99, Loss: 1.9621: 100%|██████████████████████████████████████████████| 100/100 [1:00:00<00:00, 36.01s/it]\n"
     ]
    },
    {
     "name": "stdout",
     "output_type": "stream",
     "text": [
      "Time elapsed: 3601.9584 sec\n",
      "\n",
      "Evaluating...\n",
      "Normalized true SPO Loss: 0.36%\n",
      "Normalized unambiguous SPO Loss: 0.36%\n",
      "Saved to ./res/sp/h20w20/gurobi/spo-lr_n1000p5_d1_e0.0_adam0.01_l10.0l20.0_c1.csv.\n",
      "\n",
      "\n",
      "\n",
      "===============================================================\n",
      "Experiment 5:\n",
      "===============================================================\n",
      "Generating synthetic data...\n",
      "\n",
      "Building model with GurobiPy...\n",
      "Optimizing for optDataset...\n"
     ]
    },
    {
     "name": "stderr",
     "output_type": "stream",
     "text": [
      "100%|██████████████████████████████████████████████████████████████████████| 1000/1000 [00:36<00:00, 27.34it/s]\n"
     ]
    },
    {
     "name": "stdout",
     "output_type": "stream",
     "text": [
      "Optimizing for optDataset...\n"
     ]
    },
    {
     "name": "stderr",
     "output_type": "stream",
     "text": [
      "100%|██████████████████████████████████████████████████████████████████████| 1000/1000 [00:36<00:00, 27.74it/s]\n"
     ]
    },
    {
     "name": "stdout",
     "output_type": "stream",
     "text": [
      "\n",
      "Training...\n",
      "Using SPO+ loss...\n",
      "Device:\n",
      "    0: GeForce GTX 1070\n",
      "Num of cores: 1\n"
     ]
    },
    {
     "name": "stderr",
     "output_type": "stream",
     "text": [
      "Epoch 99, Loss: 1.8354: 100%|██████████████████████████████████████████████| 100/100 [1:00:06<00:00, 36.07s/it]\n"
     ]
    },
    {
     "name": "stdout",
     "output_type": "stream",
     "text": [
      "Time elapsed: 3608.1029 sec\n",
      "\n",
      "Evaluating...\n",
      "Normalized true SPO Loss: 0.37%\n",
      "Normalized unambiguous SPO Loss: 0.37%\n",
      "Saved to ./res/sp/h20w20/gurobi/spo-lr_n1000p5_d1_e0.0_adam0.01_l10.0l20.0_c1.csv.\n",
      "\n",
      "\n",
      "\n",
      "===============================================================\n",
      "Experiment 6:\n",
      "===============================================================\n",
      "Generating synthetic data...\n",
      "\n",
      "Building model with GurobiPy...\n",
      "Optimizing for optDataset...\n"
     ]
    },
    {
     "name": "stderr",
     "output_type": "stream",
     "text": [
      "100%|██████████████████████████████████████████████████████████████████████| 1000/1000 [00:36<00:00, 27.56it/s]\n"
     ]
    },
    {
     "name": "stdout",
     "output_type": "stream",
     "text": [
      "Optimizing for optDataset...\n"
     ]
    },
    {
     "name": "stderr",
     "output_type": "stream",
     "text": [
      "100%|██████████████████████████████████████████████████████████████████████| 1000/1000 [00:37<00:00, 26.91it/s]\n"
     ]
    },
    {
     "name": "stdout",
     "output_type": "stream",
     "text": [
      "\n",
      "Training...\n",
      "Using SPO+ loss...\n",
      "Device:\n",
      "    0: GeForce GTX 1070\n",
      "Num of cores: 1\n"
     ]
    },
    {
     "name": "stderr",
     "output_type": "stream",
     "text": [
      "Epoch 99, Loss: 0.5736: 100%|██████████████████████████████████████████████| 100/100 [1:00:04<00:00, 36.04s/it]\n"
     ]
    },
    {
     "name": "stdout",
     "output_type": "stream",
     "text": [
      "Time elapsed: 3605.5959 sec\n",
      "\n",
      "Evaluating...\n",
      "Normalized true SPO Loss: 0.39%\n",
      "Normalized unambiguous SPO Loss: 0.39%\n",
      "Saved to ./res/sp/h20w20/gurobi/spo-lr_n1000p5_d1_e0.0_adam0.01_l10.0l20.0_c1.csv.\n",
      "\n",
      "\n",
      "\n",
      "===============================================================\n",
      "Experiment 7:\n",
      "===============================================================\n",
      "Generating synthetic data...\n",
      "\n",
      "Building model with GurobiPy...\n",
      "Optimizing for optDataset...\n"
     ]
    },
    {
     "name": "stderr",
     "output_type": "stream",
     "text": [
      "100%|██████████████████████████████████████████████████████████████████████| 1000/1000 [00:36<00:00, 27.33it/s]\n"
     ]
    },
    {
     "name": "stdout",
     "output_type": "stream",
     "text": [
      "Optimizing for optDataset...\n"
     ]
    },
    {
     "name": "stderr",
     "output_type": "stream",
     "text": [
      "100%|██████████████████████████████████████████████████████████████████████| 1000/1000 [00:37<00:00, 26.34it/s]\n"
     ]
    },
    {
     "name": "stdout",
     "output_type": "stream",
     "text": [
      "\n",
      "Training...\n",
      "Using SPO+ loss...\n",
      "Device:\n",
      "    0: GeForce GTX 1070\n",
      "Num of cores: 1\n"
     ]
    },
    {
     "name": "stderr",
     "output_type": "stream",
     "text": [
      "Epoch 99, Loss: 2.7287: 100%|████████████████████████████████████████████████| 100/100 [59:55<00:00, 35.95s/it]\n"
     ]
    },
    {
     "name": "stdout",
     "output_type": "stream",
     "text": [
      "Time elapsed: 3596.8059 sec\n",
      "\n",
      "Evaluating...\n",
      "Normalized true SPO Loss: 0.43%\n",
      "Normalized unambiguous SPO Loss: 0.43%\n",
      "Saved to ./res/sp/h20w20/gurobi/spo-lr_n1000p5_d1_e0.0_adam0.01_l10.0l20.0_c1.csv.\n",
      "\n",
      "\n",
      "\n",
      "===============================================================\n",
      "Experiment 8:\n",
      "===============================================================\n",
      "Generating synthetic data...\n",
      "\n",
      "Building model with GurobiPy...\n",
      "Optimizing for optDataset...\n"
     ]
    },
    {
     "name": "stderr",
     "output_type": "stream",
     "text": [
      "100%|██████████████████████████████████████████████████████████████████████| 1000/1000 [00:36<00:00, 27.65it/s]\n"
     ]
    },
    {
     "name": "stdout",
     "output_type": "stream",
     "text": [
      "Optimizing for optDataset...\n"
     ]
    },
    {
     "name": "stderr",
     "output_type": "stream",
     "text": [
      "100%|██████████████████████████████████████████████████████████████████████| 1000/1000 [00:37<00:00, 26.61it/s]\n"
     ]
    },
    {
     "name": "stdout",
     "output_type": "stream",
     "text": [
      "\n",
      "Training...\n",
      "Using SPO+ loss...\n",
      "Device:\n",
      "    0: GeForce GTX 1070\n",
      "Num of cores: 1\n"
     ]
    },
    {
     "name": "stderr",
     "output_type": "stream",
     "text": [
      "Epoch 99, Loss: 1.9729: 100%|██████████████████████████████████████████████| 100/100 [1:00:02<00:00, 36.03s/it]\n"
     ]
    },
    {
     "name": "stdout",
     "output_type": "stream",
     "text": [
      "Time elapsed: 3604.1579 sec\n",
      "\n",
      "Evaluating...\n",
      "Normalized true SPO Loss: 0.47%\n",
      "Normalized unambiguous SPO Loss: 0.47%\n",
      "Saved to ./res/sp/h20w20/gurobi/spo-lr_n1000p5_d1_e0.0_adam0.01_l10.0l20.0_c1.csv.\n",
      "\n",
      "\n",
      "\n",
      "===============================================================\n",
      "Experiment 9:\n",
      "===============================================================\n",
      "Generating synthetic data...\n",
      "\n",
      "Building model with GurobiPy...\n",
      "Optimizing for optDataset...\n"
     ]
    },
    {
     "name": "stderr",
     "output_type": "stream",
     "text": [
      "100%|██████████████████████████████████████████████████████████████████████| 1000/1000 [00:35<00:00, 27.87it/s]\n"
     ]
    },
    {
     "name": "stdout",
     "output_type": "stream",
     "text": [
      "Optimizing for optDataset...\n"
     ]
    },
    {
     "name": "stderr",
     "output_type": "stream",
     "text": [
      "100%|██████████████████████████████████████████████████████████████████████| 1000/1000 [00:36<00:00, 27.51it/s]\n"
     ]
    },
    {
     "name": "stdout",
     "output_type": "stream",
     "text": [
      "\n",
      "Training...\n",
      "Using SPO+ loss...\n",
      "Device:\n",
      "    0: GeForce GTX 1070\n",
      "Num of cores: 1\n"
     ]
    },
    {
     "name": "stderr",
     "output_type": "stream",
     "text": [
      "Epoch 99, Loss: 0.6560: 100%|██████████████████████████████████████████████| 100/100 [1:01:23<00:00, 36.84s/it]\n"
     ]
    },
    {
     "name": "stdout",
     "output_type": "stream",
     "text": [
      "Time elapsed: 3684.9011 sec\n",
      "\n",
      "Evaluating...\n",
      "Normalized true SPO Loss: 0.31%\n",
      "Normalized unambiguous SPO Loss: 0.31%\n",
      "Saved to ./res/sp/h20w20/gurobi/spo-lr_n1000p5_d1_e0.0_adam0.01_l10.0l20.0_c1.csv.\n",
      "\n",
      "\n",
      "\n"
     ]
    }
   ],
   "source": [
    "pipeline(config)"
   ]
  },
  {
   "cell_type": "code",
   "execution_count": null,
   "id": "da750a7f",
   "metadata": {},
   "outputs": [],
   "source": []
  }
 ],
 "metadata": {
  "kernelspec": {
   "display_name": "Python 3 (ipykernel)",
   "language": "python",
   "name": "python3"
  },
  "language_info": {
   "codemirror_mode": {
    "name": "ipython",
    "version": 3
   },
   "file_extension": ".py",
   "mimetype": "text/x-python",
   "name": "python",
   "nbconvert_exporter": "python",
   "pygments_lexer": "ipython3",
   "version": "3.7.11"
  }
 },
 "nbformat": 4,
 "nbformat_minor": 5
}
